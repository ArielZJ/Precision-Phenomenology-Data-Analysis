{
 "cells": [
  {
   "cell_type": "markdown",
   "metadata": {},
   "source": [
    "### Filename we're going to play with"
   ]
  },
  {
   "cell_type": "code",
   "execution_count": 2,
   "metadata": {},
   "outputs": [],
   "source": [
    "filename = \"data/mixedtest.csv\""
   ]
  },
  {
   "cell_type": "code",
   "execution_count": 3,
   "metadata": {},
   "outputs": [],
   "source": [
    "stimuli_number = 9\n",
    "response_type_list = c('during','after_1','after_2')\n",
    "response_names = c('During', 'After stimuli (1) & response screen','After stimuli (2)')"
   ]
  },
  {
   "cell_type": "code",
   "execution_count": 4,
   "metadata": {},
   "outputs": [],
   "source": [
    "trace_cutoff = 2 # mean dissimilarity for physically identical colours must be below this\n",
    "antitrace_cutoff = 3.5 # mean dissimilarity accepted for maximally physically different colours must be above this\n",
    "rt_cutoff = 700 # mean reaction times must be above this"
   ]
  },
  {
   "cell_type": "code",
   "execution_count": 5,
   "metadata": {},
   "outputs": [],
   "source": [
    "exclude_noncompliant = FALSE"
   ]
  },
  {
   "cell_type": "code",
   "execution_count": 6,
   "metadata": {},
   "outputs": [],
   "source": [
    "plotsubjects = FALSE\n",
    "plot_within_between = FALSE\n",
    "plotexpsummary = FALSE\n",
    "across = FALSE\n",
    "population = TRUE"
   ]
  },
  {
   "cell_type": "markdown",
   "metadata": {},
   "source": [
    "### Initialisations"
   ]
  },
  {
   "cell_type": "code",
   "execution_count": 7,
   "metadata": {},
   "outputs": [],
   "source": [
    "# live dangerously, get rid of pesky warnings\n",
    "oldw <- getOption(\"warn\")\n",
    "options(warn = -1)"
   ]
  },
  {
   "cell_type": "code",
   "execution_count": 8,
   "metadata": {
    "scrolled": true
   },
   "outputs": [
    {
     "name": "stderr",
     "output_type": "stream",
     "text": [
      "\n",
      "Attaching package: 'tidyr'\n",
      "\n",
      "The following object is masked _by_ '.GlobalEnv':\n",
      "\n",
      "    population\n",
      "\n",
      "\n",
      "Attaching package: 'dplyr'\n",
      "\n",
      "The following objects are masked from 'package:plyr':\n",
      "\n",
      "    arrange, count, desc, failwith, id, mutate, rename, summarise,\n",
      "    summarize\n",
      "\n",
      "The following objects are masked from 'package:stats':\n",
      "\n",
      "    filter, lag\n",
      "\n",
      "The following objects are masked from 'package:base':\n",
      "\n",
      "    intersect, setdiff, setequal, union\n",
      "\n",
      "Registered S3 methods overwritten by 'ggplot2':\n",
      "  method         from \n",
      "  [.quosures     rlang\n",
      "  c.quosures     rlang\n",
      "  print.quosures rlang\n",
      "\n",
      "Attaching package: 'gridExtra'\n",
      "\n",
      "The following object is masked from 'package:dplyr':\n",
      "\n",
      "    combine\n",
      "\n",
      "\n",
      "Attaching package: 'MASS'\n",
      "\n",
      "The following object is masked from 'package:dplyr':\n",
      "\n",
      "    select\n",
      "\n",
      "\n",
      "Attaching package: 'Matrix'\n",
      "\n",
      "The following objects are masked from 'package:tidyr':\n",
      "\n",
      "    expand, pack, unpack\n",
      "\n",
      "\n",
      "Attaching package: 'reshape2'\n",
      "\n",
      "The following object is masked from 'package:tidyr':\n",
      "\n",
      "    smiths\n",
      "\n",
      "Loading required package: permute\n",
      "Loading required package: lattice\n",
      "This is vegan 2.5-6\n"
     ]
    }
   ],
   "source": [
    "shhh <- suppressPackageStartupMessages # stops annoying warnings when loading libraries\n",
    "library(tidyr)\n",
    "library(plyr)\n",
    "library(dplyr)\n",
    "library(ggplot2)\n",
    "library(gridExtra)\n",
    "library(MASS)\n",
    "library(Matrix)\n",
    "library(reshape2)\n",
    "library(ape) # stats\n",
    "library(vegan) # stats\n",
    "library(RColorBrewer)\n",
    "library(cocor)\n",
    "library(DescTools)\n",
    "library(reshape2)\n",
    "library(grid)\n",
    "library(ggplotify)"
   ]
  },
  {
   "cell_type": "code",
   "execution_count": 9,
   "metadata": {},
   "outputs": [],
   "source": [
    "# rainbowcloud theme for plotting, stolen from: \n",
    "# https://micahallen.org/2018/03/15/introducing-raincloud-plots/?utm_campaign=News&utm_medium=Community&utm_source=DataCamp.com\n",
    "raincloud_theme = theme(\n",
    "text = element_text(size = 10),\n",
    "axis.title.x = element_text(size = 16),\n",
    "axis.title.y = element_text(size = 16),\n",
    "axis.text = element_text(size = 14),\n",
    "axis.text.x = element_text(angle = 45, vjust = 0.5),\n",
    "legend.title=element_text(size=16),\n",
    "legend.text=element_text(size=16),\n",
    "legend.position = \"right\",\n",
    "plot.title = element_text(lineheight=.8, face=\"bold\", size = 16),\n",
    "panel.border = element_blank(),\n",
    "panel.grid.minor = element_blank(),\n",
    "panel.grid.major = element_blank(),\n",
    "axis.line.x = element_line(colour = 'black', size=0.5, linetype='solid'),\n",
    "axis.line.y = element_line(colour = 'black', size=0.5, linetype='solid'))"
   ]
  },
  {
   "cell_type": "code",
   "execution_count": 10,
   "metadata": {},
   "outputs": [],
   "source": [
    "# stealing ability to make flat violin plots\n",
    "source(\"https://gist.githubusercontent.com/benmarwick/2a1bb0133ff568cbe28d/raw/fb53bd97121f7f9ce947837ef1a4c65a73bffb3f/geom_flat_violin.R\")"
   ]
  },
  {
   "cell_type": "markdown",
   "metadata": {},
   "source": [
    "### Functions we're going to use to do the analysis later"
   ]
  },
  {
   "cell_type": "markdown",
   "metadata": {},
   "source": [
    "#### Miscellaneous"
   ]
  },
  {
   "cell_type": "code",
   "execution_count": 11,
   "metadata": {},
   "outputs": [],
   "source": [
    "# get plot eccentricity labels\n",
    "ploteccen <- function(datadf){\n",
    "    if(datadf$Circle_1[1] == -1){\n",
    "            label1 = 'Foveal'\n",
    "        } else {\n",
    "            label1 = 'Peripheral'\n",
    "        }\n",
    "        if(datadf$Circle_2[1] == -1){\n",
    "            label2 = 'Foveal'\n",
    "        } else {\n",
    "            label2 = 'Peripheral'\n",
    "        }\n",
    "    return(c(label1,label2))\n",
    "}\n",
    "\n",
    "e2l <- function(eccentricity){\n",
    "    if(eccentricity == -1){\n",
    "        return('Foveal')\n",
    "    } else {\n",
    "        return('Peripheral')\n",
    "    }\n",
    "}\n",
    "\n",
    "l2e <- function(eccentricity){\n",
    "    if(eccentricity == 'Foveal'){\n",
    "        return(-1)\n",
    "    } else {\n",
    "        return(1)\n",
    "    }\n",
    "}"
   ]
  },
  {
   "cell_type": "markdown",
   "metadata": {},
   "source": [
    "#### Dissimilarity Matrices"
   ]
  },
  {
   "cell_type": "code",
   "execution_count": 12,
   "metadata": {},
   "outputs": [],
   "source": [
    "# obtain dissimilarity matrices with particular eccentricity values from dataframes\n",
    "dissimdata <- function(datadf, colors, eccentricity1, eccentricity2){\n",
    "    # select only the eccentricities we want to keep, e.g. (foveal, foveal)\n",
    "    datatemp = subset(datadf, Circle_1 == eccentricity1)\n",
    "    datatemp = subset(datatemp, Circle_2 == eccentricity2)\n",
    "    \n",
    "    # refactor the levels so they can be plotted properly later if need be\n",
    "    datatemp$Color_1 <- with(datatemp, factor(Color_1, levels = colors))\n",
    "    datatemp$Color_2 <- with(datatemp, factor(Color_2, levels = colors))\n",
    "    \n",
    "    return(datatemp)\n",
    "}"
   ]
  },
  {
   "cell_type": "code",
   "execution_count": 13,
   "metadata": {},
   "outputs": [],
   "source": [
    "# plot a dissimilarity matrix\n",
    "dissimplot <- function(datadf,colors,dependent='color'){\n",
    "    \n",
    "   # labeling the plot eccentricity comparisons\n",
    "    label1 <- ploteccen(datadf)[1]\n",
    "    label2 <- ploteccen(datadf)[2]\n",
    "    \n",
    "    \n",
    "    if(dependent == 'position'){ # use position to generate matrix (as a negative control)\n",
    "        plot <- ggplot(datadf, aes(x = bin1, y = bin2)) +\n",
    "        theme(        axis.title.x = element_blank(), axis.title.y = element_blank(),\n",
    "                      plot.title = element_text(hjust = 0.5)) +\n",
    "                      scale_x_discrete(limits=c(1,2,3,4,5,6,7,8,9)) + scale_y_discrete(limits=c(1,2,3,4,5,6,7,8,9))\n",
    "    } else { # use the colors to generate the matrix\n",
    "        plot <- ggplot(datadf, aes(x = Color_1, y = Color_2)) +\n",
    "        theme(axis.text.x = element_text(colour = colors), axis.text.y = element_text(colour = colors),\n",
    "                      axis.title.x = element_blank(), axis.title.y = element_blank(),\n",
    "                      plot.title = element_text(hjust = 0.5))\n",
    "    }\n",
    "    # stuff that's standard across plot types\n",
    "        plot <- plot + geom_raster(aes(fill = p_confidence)) +\n",
    "                labs(title = paste(label1, label2, sep = \" - \")) +\n",
    "                scale_fill_gradientn(colours = c(\"white\",\"black\")) +\n",
    "                guides(fill=guide_legend(title=\"Dissimilarity\"))\n",
    "    return(plot)\n",
    "}"
   ]
  },
  {
   "cell_type": "code",
   "execution_count": 14,
   "metadata": {},
   "outputs": [],
   "source": [
    "df2mat_asymmetry <- function(datadf,eccentricity1,eccentricity2){\n",
    "    \n",
    "    datadf <- dissimdata(datadf, colors, eccentricity1, eccentricity2)\n",
    "    \n",
    "    # aggregate over the remaining columns of interest\n",
    "    nmdsdata <- aggregate(datadf, by = list(datadf$Color_1, datadf$Color_2),FUN=mean)\n",
    "    nmdsdata$Color_1 <- nmdsdata$Group.1\n",
    "    nmdsdata$Color_2 <- nmdsdata$Group.2\n",
    "\n",
    "    nmdsdata = subset(nmdsdata, select = c(\"Color_1\",\"Color_2\",\"p_confidence\"))  # get rid of unnecessary columns\n",
    "    nmdsmatrix <- spread(nmdsdata, Color_1, p_confidence)\n",
    "    # convert the dataframe to a matrix\n",
    "    nmdsmatrix <- data.matrix(nmdsmatrix)\n",
    "    nmdsmatrix <- nmdsmatrix[,-1] # get rid of the labels in the first column, it messes up the code\n",
    "    matdf <- as.data.frame(nmdsmatrix - t(nmdsmatrix))\n",
    "    matdf$colorset <- c(abcolors)\n",
    "    num_colors <- length(colors)\n",
    "    matdf <- matdf %>% gather(othercolor,asymmetry ,1:num_colors)\n",
    "    return(matdf)\n",
    "}"
   ]
  },
  {
   "cell_type": "code",
   "execution_count": 19,
   "metadata": {},
   "outputs": [],
   "source": [
    "# plot an asymmetry matrix\n",
    "asymmetry_plot <- function(datadf,eccentricity1,eccentricity2,colors){\n",
    "    \n",
    "    # labeling the types\n",
    "    label1 <- \"Presented\"\n",
    "    label2 <- \"Response Screen\"\n",
    "    \n",
    "    datadf <- df2mat_asymmetry(datadf,eccentricity1,eccentricity2)\n",
    "    \n",
    "    # refactor the levels so they can be plotted properly later if need be\n",
    "    datadf$colorset <- with(datadf, factor(colorset, levels = colors))\n",
    "    datadf$othercolor <- with(datadf, factor(othercolor, levels = colors))\n",
    "    \n",
    "    plot <- ggplot(datadf, aes(x = colorset, y = othercolor)) +\n",
    "        theme(axis.text.x = element_text(colour = colors), axis.text.y = element_text(colour = colors),\n",
    "                      axis.title.x = element_blank(), axis.title.y = element_blank(),\n",
    "                      plot.title = element_text(hjust = 0.5))\n",
    "    \n",
    "    # stuff that's standard across plot types\n",
    "        plot <- plot + geom_raster(aes(fill = asymmetry)) +\n",
    "                labs(title = paste(label1, label2, sep = \" - \")) +\n",
    "                scale_fill_gradientn(colours = c(\"blue\",\"white\",\"red\"), limits = c(-4,4)) +\n",
    "                guides(fill=guide_legend(title=\"Dissimilarity\\nAsymmetry\"))\n",
    "    return(plot)\n",
    "}"
   ]
  },
  {
   "cell_type": "code",
   "execution_count": 34,
   "metadata": {},
   "outputs": [],
   "source": [
    "testdf <- subset(datadf, subject == 809668683)"
   ]
  },
  {
   "cell_type": "code",
   "execution_count": 35,
   "metadata": {},
   "outputs": [],
   "source": [
    "test_data <- dissimdata(testdf, colors, l2e('Foveal'),l2e('Foveal'))"
   ]
  },
  {
   "cell_type": "code",
   "execution_count": 36,
   "metadata": {},
   "outputs": [],
   "source": [
    "dissim_test <- dissimplot(dissimdata(testdf, colors, l2e('Foveal'), l2e('Foveal')),colors)"
   ]
  },
  {
   "cell_type": "code",
   "execution_count": 37,
   "metadata": {},
   "outputs": [
    {
     "name": "stderr",
     "output_type": "stream",
     "text": [
      "Note: Using an external vector in selections is ambiguous.\n",
      "i Use `all_of(num_colors)` instead of `num_colors` to silence this message.\n",
      "i See <https://tidyselect.r-lib.org/reference/faq-external-vector.html>.\n",
      "This message is displayed once per session.\n"
     ]
    }
   ],
   "source": [
    "asymplot_test <- asymmetry_plot(testdf,l2e('Foveal'),l2e('Foveal'),colors)\n"
   ]
  },
  {
   "cell_type": "code",
   "execution_count": 43,
   "metadata": {},
   "outputs": [
    {
     "data": {
      "text/html": [
       "<table>\n",
       "<thead><tr><th></th><th scope=col>experiment</th><th scope=col>stimuli_count</th><th scope=col>response_type</th><th scope=col>stim_display_time</th><th scope=col>stim_cue_gap</th><th scope=col>cue_display_time</th><th scope=col>subject</th><th scope=col>trial_number</th><th scope=col>Cross_position</th><th scope=col>Circle_1</th><th scope=col>...</th><th scope=col>Circle_7</th><th scope=col>Position_7</th><th scope=col>Color_7</th><th scope=col>Circle_8</th><th scope=col>Position_8</th><th scope=col>Color_8</th><th scope=col>p_confidence</th><th scope=col>response_time</th><th scope=col>bin1</th><th scope=col>bin2</th></tr></thead>\n",
       "<tbody>\n",
       "\t<tr><th scope=row>10</th><td>mturkfvppilot_scaling3_time250_2stim</td><td>2                                   </td><td>during                              </td><td>250                                 </td><td>NA                                  </td><td>NA                                  </td><td>809668683                           </td><td>  2                                 </td><td>0                                   </td><td>-1                                  </td><td>...                                 </td><td>NA                                  </td><td>NA                                  </td><td>NA                                  </td><td>NA                                  </td><td>NA                                  </td><td>NA                                  </td><td>7                                   </td><td>2087                                </td><td>3                                   </td><td>1                                   </td></tr>\n",
       "\t<tr><th scope=row>11</th><td>mturkfvppilot_scaling3_time250_2stim</td><td>2                                   </td><td>during                              </td><td>250                                 </td><td>NA                                  </td><td>NA                                  </td><td>809668683                           </td><td>  3                                 </td><td>0                                   </td><td>-1                                  </td><td>...                                 </td><td>NA                                  </td><td>NA                                  </td><td>NA                                  </td><td>NA                                  </td><td>NA                                  </td><td>NA                                  </td><td>2                                   </td><td>1877                                </td><td>9                                   </td><td>4                                   </td></tr>\n",
       "\t<tr><th scope=row>12</th><td>mturkfvppilot_scaling3_time250_2stim</td><td>2                                   </td><td>during                              </td><td>250                                 </td><td>NA                                  </td><td>NA                                  </td><td>809668683                           </td><td>  4                                 </td><td>0                                   </td><td>-1                                  </td><td>...                                 </td><td>NA                                  </td><td>NA                                  </td><td>NA                                  </td><td>NA                                  </td><td>NA                                  </td><td>NA                                  </td><td>5                                   </td><td>2016                                </td><td>4                                   </td><td>1                                   </td></tr>\n",
       "\t<tr><th scope=row>19</th><td>mturkfvppilot_scaling3_time250_2stim</td><td>2                                   </td><td>during                              </td><td>250                                 </td><td>NA                                  </td><td>NA                                  </td><td>809668683                           </td><td> 11                                 </td><td>0                                   </td><td>-1                                  </td><td>...                                 </td><td>NA                                  </td><td>NA                                  </td><td>NA                                  </td><td>NA                                  </td><td>NA                                  </td><td>NA                                  </td><td>7                                   </td><td>2884                                </td><td>9                                   </td><td>2                                   </td></tr>\n",
       "\t<tr><th scope=row>24</th><td>mturkfvppilot_scaling3_time250_2stim</td><td>2                                   </td><td>during                              </td><td>250                                 </td><td>NA                                  </td><td>NA                                  </td><td>809668683                           </td><td> 16                                 </td><td>0                                   </td><td>-1                                  </td><td>...                                 </td><td>NA                                  </td><td>NA                                  </td><td>NA                                  </td><td>NA                                  </td><td>NA                                  </td><td>NA                                  </td><td>7                                   </td><td> 889                                </td><td>8                                   </td><td>1                                   </td></tr>\n",
       "\t<tr><th scope=row>30</th><td>mturkfvppilot_scaling3_time250_2stim</td><td>2                                   </td><td>during                              </td><td>250                                 </td><td>NA                                  </td><td>NA                                  </td><td>809668683                           </td><td> 22                                 </td><td>0                                   </td><td>-1                                  </td><td>...                                 </td><td>NA                                  </td><td>NA                                  </td><td>NA                                  </td><td>NA                                  </td><td>NA                                  </td><td>NA                                  </td><td>7                                   </td><td>1450                                </td><td>7                                   </td><td>9                                   </td></tr>\n",
       "\t<tr><th scope=row>33</th><td>mturkfvppilot_scaling3_time250_2stim</td><td>2                                   </td><td>during                              </td><td>250                                 </td><td>NA                                  </td><td>NA                                  </td><td>809668683                           </td><td> 25                                 </td><td>0                                   </td><td>-1                                  </td><td>...                                 </td><td>NA                                  </td><td>NA                                  </td><td>NA                                  </td><td>NA                                  </td><td>NA                                  </td><td>NA                                  </td><td>7                                   </td><td> 879                                </td><td>8                                   </td><td>9                                   </td></tr>\n",
       "\t<tr><th scope=row>34</th><td>mturkfvppilot_scaling3_time250_2stim</td><td>2                                   </td><td>during                              </td><td>250                                 </td><td>NA                                  </td><td>NA                                  </td><td>809668683                           </td><td> 26                                 </td><td>0                                   </td><td>-1                                  </td><td>...                                 </td><td>NA                                  </td><td>NA                                  </td><td>NA                                  </td><td>NA                                  </td><td>NA                                  </td><td>NA                                  </td><td>0                                   </td><td>1168                                </td><td>5                                   </td><td>2                                   </td></tr>\n",
       "\t<tr><th scope=row>43</th><td>mturkfvppilot_scaling3_time250_2stim</td><td>2                                   </td><td>during                              </td><td>250                                 </td><td>NA                                  </td><td>NA                                  </td><td>809668683                           </td><td> 35                                 </td><td>0                                   </td><td>-1                                  </td><td>...                                 </td><td>NA                                  </td><td>NA                                  </td><td>NA                                  </td><td>NA                                  </td><td>NA                                  </td><td>NA                                  </td><td>7                                   </td><td> 756                                </td><td>9                                   </td><td>2                                   </td></tr>\n",
       "\t<tr><th scope=row>45</th><td>mturkfvppilot_scaling3_time250_2stim</td><td>2                                   </td><td>during                              </td><td>250                                 </td><td>NA                                  </td><td>NA                                  </td><td>809668683                           </td><td> 37                                 </td><td>0                                   </td><td>-1                                  </td><td>...                                 </td><td>NA                                  </td><td>NA                                  </td><td>NA                                  </td><td>NA                                  </td><td>NA                                  </td><td>NA                                  </td><td>4                                   </td><td>2093                                </td><td>1                                   </td><td>4                                   </td></tr>\n",
       "\t<tr><th scope=row>52</th><td>mturkfvppilot_scaling3_time250_2stim</td><td>2                                   </td><td>during                              </td><td>250                                 </td><td>NA                                  </td><td>NA                                  </td><td>809668683                           </td><td> 44                                 </td><td>0                                   </td><td>-1                                  </td><td>...                                 </td><td>NA                                  </td><td>NA                                  </td><td>NA                                  </td><td>NA                                  </td><td>NA                                  </td><td>NA                                  </td><td>7                                   </td><td>1314                                </td><td>6                                   </td><td>7                                   </td></tr>\n",
       "\t<tr><th scope=row>55</th><td>mturkfvppilot_scaling3_time250_2stim</td><td>2                                   </td><td>during                              </td><td>250                                 </td><td>NA                                  </td><td>NA                                  </td><td>809668683                           </td><td> 47                                 </td><td>0                                   </td><td>-1                                  </td><td>...                                 </td><td>NA                                  </td><td>NA                                  </td><td>NA                                  </td><td>NA                                  </td><td>NA                                  </td><td>NA                                  </td><td>3                                   </td><td>1336                                </td><td>6                                   </td><td>8                                   </td></tr>\n",
       "\t<tr><th scope=row>61</th><td>mturkfvppilot_scaling3_time250_2stim</td><td>2                                   </td><td>during                              </td><td>250                                 </td><td>NA                                  </td><td>NA                                  </td><td>809668683                           </td><td> 53                                 </td><td>0                                   </td><td>-1                                  </td><td>...                                 </td><td>NA                                  </td><td>NA                                  </td><td>NA                                  </td><td>NA                                  </td><td>NA                                  </td><td>NA                                  </td><td>7                                   </td><td>1184                                </td><td>4                                   </td><td>1                                   </td></tr>\n",
       "\t<tr><th scope=row>64</th><td>mturkfvppilot_scaling3_time250_2stim</td><td>2                                   </td><td>during                              </td><td>250                                 </td><td>NA                                  </td><td>NA                                  </td><td>809668683                           </td><td> 56                                 </td><td>0                                   </td><td>-1                                  </td><td>...                                 </td><td>NA                                  </td><td>NA                                  </td><td>NA                                  </td><td>NA                                  </td><td>NA                                  </td><td>NA                                  </td><td>7                                   </td><td>1247                                </td><td>1                                   </td><td>8                                   </td></tr>\n",
       "\t<tr><th scope=row>77</th><td>mturkfvppilot_scaling3_time250_2stim</td><td>2                                   </td><td>during                              </td><td>250                                 </td><td>NA                                  </td><td>NA                                  </td><td>809668683                           </td><td> 69                                 </td><td>0                                   </td><td>-1                                  </td><td>...                                 </td><td>NA                                  </td><td>NA                                  </td><td>NA                                  </td><td>NA                                  </td><td>NA                                  </td><td>NA                                  </td><td>7                                   </td><td>1020                                </td><td>3                                   </td><td>1                                   </td></tr>\n",
       "\t<tr><th scope=row>78</th><td>mturkfvppilot_scaling3_time250_2stim</td><td>2                                   </td><td>during                              </td><td>250                                 </td><td>NA                                  </td><td>NA                                  </td><td>809668683                           </td><td> 70                                 </td><td>0                                   </td><td>-1                                  </td><td>...                                 </td><td>NA                                  </td><td>NA                                  </td><td>NA                                  </td><td>NA                                  </td><td>NA                                  </td><td>NA                                  </td><td>5                                   </td><td>2105                                </td><td>6                                   </td><td>7                                   </td></tr>\n",
       "\t<tr><th scope=row>81</th><td>mturkfvppilot_scaling3_time250_2stim</td><td>2                                   </td><td>during                              </td><td>250                                 </td><td>NA                                  </td><td>NA                                  </td><td>809668683                           </td><td> 73                                 </td><td>0                                   </td><td>-1                                  </td><td>...                                 </td><td>NA                                  </td><td>NA                                  </td><td>NA                                  </td><td>NA                                  </td><td>NA                                  </td><td>NA                                  </td><td>1                                   </td><td> 914                                </td><td>1                                   </td><td>6                                   </td></tr>\n",
       "\t<tr><th scope=row>84</th><td>mturkfvppilot_scaling3_time250_2stim</td><td>2                                   </td><td>during                              </td><td>250                                 </td><td>NA                                  </td><td>NA                                  </td><td>809668683                           </td><td> 76                                 </td><td>0                                   </td><td>-1                                  </td><td>...                                 </td><td>NA                                  </td><td>NA                                  </td><td>NA                                  </td><td>NA                                  </td><td>NA                                  </td><td>NA                                  </td><td>1                                   </td><td> 849                                </td><td>6                                   </td><td>9                                   </td></tr>\n",
       "\t<tr><th scope=row>86</th><td>mturkfvppilot_scaling3_time250_2stim</td><td>2                                   </td><td>during                              </td><td>250                                 </td><td>NA                                  </td><td>NA                                  </td><td>809668683                           </td><td> 78                                 </td><td>0                                   </td><td>-1                                  </td><td>...                                 </td><td>NA                                  </td><td>NA                                  </td><td>NA                                  </td><td>NA                                  </td><td>NA                                  </td><td>NA                                  </td><td>2                                   </td><td>1471                                </td><td>5                                   </td><td>2                                   </td></tr>\n",
       "\t<tr><th scope=row>91</th><td>mturkfvppilot_scaling3_time250_2stim</td><td>2                                   </td><td>during                              </td><td>250                                 </td><td>NA                                  </td><td>NA                                  </td><td>809668683                           </td><td> 83                                 </td><td>0                                   </td><td>-1                                  </td><td>...                                 </td><td>NA                                  </td><td>NA                                  </td><td>NA                                  </td><td>NA                                  </td><td>NA                                  </td><td>NA                                  </td><td>7                                   </td><td>1516                                </td><td>1                                   </td><td>4                                   </td></tr>\n",
       "\t<tr><th scope=row>92</th><td>mturkfvppilot_scaling3_time250_2stim</td><td>2                                   </td><td>during                              </td><td>250                                 </td><td>NA                                  </td><td>NA                                  </td><td>809668683                           </td><td> 84                                 </td><td>0                                   </td><td>-1                                  </td><td>...                                 </td><td>NA                                  </td><td>NA                                  </td><td>NA                                  </td><td>NA                                  </td><td>NA                                  </td><td>NA                                  </td><td>6                                   </td><td>1429                                </td><td>6                                   </td><td>1                                   </td></tr>\n",
       "\t<tr><th scope=row>93</th><td>mturkfvppilot_scaling3_time250_2stim</td><td>2                                   </td><td>during                              </td><td>250                                 </td><td>NA                                  </td><td>NA                                  </td><td>809668683                           </td><td> 85                                 </td><td>0                                   </td><td>-1                                  </td><td>...                                 </td><td>NA                                  </td><td>NA                                  </td><td>NA                                  </td><td>NA                                  </td><td>NA                                  </td><td>NA                                  </td><td>0                                   </td><td> 939                                </td><td>1                                   </td><td>3                                   </td></tr>\n",
       "\t<tr><th scope=row>94</th><td>mturkfvppilot_scaling3_time250_2stim</td><td>2                                   </td><td>during                              </td><td>250                                 </td><td>NA                                  </td><td>NA                                  </td><td>809668683                           </td><td> 86                                 </td><td>0                                   </td><td>-1                                  </td><td>...                                 </td><td>NA                                  </td><td>NA                                  </td><td>NA                                  </td><td>NA                                  </td><td>NA                                  </td><td>NA                                  </td><td>0                                   </td><td> 563                                </td><td>8                                   </td><td>3                                   </td></tr>\n",
       "\t<tr><th scope=row>95</th><td>mturkfvppilot_scaling3_time250_2stim</td><td>2                                   </td><td>during                              </td><td>250                                 </td><td>NA                                  </td><td>NA                                  </td><td>809668683                           </td><td> 87                                 </td><td>0                                   </td><td>-1                                  </td><td>...                                 </td><td>NA                                  </td><td>NA                                  </td><td>NA                                  </td><td>NA                                  </td><td>NA                                  </td><td>NA                                  </td><td>1                                   </td><td>1245                                </td><td>4                                   </td><td>1                                   </td></tr>\n",
       "\t<tr><th scope=row>99</th><td>mturkfvppilot_scaling3_time250_2stim</td><td>2                                   </td><td>during                              </td><td>250                                 </td><td>NA                                  </td><td>NA                                  </td><td>809668683                           </td><td> 91                                 </td><td>0                                   </td><td>-1                                  </td><td>...                                 </td><td>NA                                  </td><td>NA                                  </td><td>NA                                  </td><td>NA                                  </td><td>NA                                  </td><td>NA                                  </td><td>7                                   </td><td> 595                                </td><td>7                                   </td><td>4                                   </td></tr>\n",
       "\t<tr><th scope=row>103</th><td>mturkfvppilot_scaling3_time250_2stim</td><td>2                                   </td><td>during                              </td><td>250                                 </td><td>NA                                  </td><td>NA                                  </td><td>809668683                           </td><td> 95                                 </td><td>0                                   </td><td>-1                                  </td><td>...                                 </td><td>NA                                  </td><td>NA                                  </td><td>NA                                  </td><td>NA                                  </td><td>NA                                  </td><td>NA                                  </td><td>7                                   </td><td> 748                                </td><td>3                                   </td><td>5                                   </td></tr>\n",
       "\t<tr><th scope=row>105</th><td>mturkfvppilot_scaling3_time250_2stim</td><td>2                                   </td><td>during                              </td><td>250                                 </td><td>NA                                  </td><td>NA                                  </td><td>809668683                           </td><td> 97                                 </td><td>0                                   </td><td>-1                                  </td><td>...                                 </td><td>NA                                  </td><td>NA                                  </td><td>NA                                  </td><td>NA                                  </td><td>NA                                  </td><td>NA                                  </td><td>0                                   </td><td> 710                                </td><td>8                                   </td><td>6                                   </td></tr>\n",
       "\t<tr><th scope=row>107</th><td>mturkfvppilot_scaling3_time250_2stim</td><td>2                                   </td><td>during                              </td><td>250                                 </td><td>NA                                  </td><td>NA                                  </td><td>809668683                           </td><td> 99                                 </td><td>0                                   </td><td>-1                                  </td><td>...                                 </td><td>NA                                  </td><td>NA                                  </td><td>NA                                  </td><td>NA                                  </td><td>NA                                  </td><td>NA                                  </td><td>3                                   </td><td>2474                                </td><td>4                                   </td><td>8                                   </td></tr>\n",
       "\t<tr><th scope=row>109</th><td>mturkfvppilot_scaling3_time250_2stim</td><td>2                                   </td><td>during                              </td><td>250                                 </td><td>NA                                  </td><td>NA                                  </td><td>809668683                           </td><td>101                                 </td><td>0                                   </td><td>-1                                  </td><td>...                                 </td><td>NA                                  </td><td>NA                                  </td><td>NA                                  </td><td>NA                                  </td><td>NA                                  </td><td>NA                                  </td><td>5                                   </td><td>1580                                </td><td>1                                   </td><td>3                                   </td></tr>\n",
       "\t<tr><th scope=row>117</th><td>mturkfvppilot_scaling3_time250_2stim</td><td>2                                   </td><td>during                              </td><td>250                                 </td><td>NA                                  </td><td>NA                                  </td><td>809668683                           </td><td>109                                 </td><td>0                                   </td><td>-1                                  </td><td>...                                 </td><td>NA                                  </td><td>NA                                  </td><td>NA                                  </td><td>NA                                  </td><td>NA                                  </td><td>NA                                  </td><td>0                                   </td><td>1305                                </td><td>9                                   </td><td>6                                   </td></tr>\n",
       "\t<tr><th scope=row>...</th><td>...</td><td>...</td><td>...</td><td>...</td><td>...</td><td>...</td><td>...</td><td>...</td><td>...</td><td>...</td><td>   </td><td>...</td><td>...</td><td>...</td><td>...</td><td>...</td><td>...</td><td>...</td><td>...</td><td>...</td><td>...</td></tr>\n",
       "\t<tr><th scope=row>176</th><td>mturkfvppilot_scaling3_time250_2stim</td><td>2                                   </td><td>during                              </td><td>250                                 </td><td>NA                                  </td><td>NA                                  </td><td>809668683                           </td><td>168                                 </td><td>0                                   </td><td>-1                                  </td><td>...                                 </td><td>NA                                  </td><td>NA                                  </td><td>NA                                  </td><td>NA                                  </td><td>NA                                  </td><td>NA                                  </td><td>3                                   </td><td>2146                                </td><td>8                                   </td><td>9                                   </td></tr>\n",
       "\t<tr><th scope=row>177</th><td>mturkfvppilot_scaling3_time250_2stim</td><td>2                                   </td><td>during                              </td><td>250                                 </td><td>NA                                  </td><td>NA                                  </td><td>809668683                           </td><td>169                                 </td><td>0                                   </td><td>-1                                  </td><td>...                                 </td><td>NA                                  </td><td>NA                                  </td><td>NA                                  </td><td>NA                                  </td><td>NA                                  </td><td>NA                                  </td><td>2                                   </td><td>2455                                </td><td>7                                   </td><td>9                                   </td></tr>\n",
       "\t<tr><th scope=row>179</th><td>mturkfvppilot_scaling3_time250_2stim</td><td>2                                   </td><td>during                              </td><td>250                                 </td><td>NA                                  </td><td>NA                                  </td><td>809668683                           </td><td>171                                 </td><td>0                                   </td><td>-1                                  </td><td>...                                 </td><td>NA                                  </td><td>NA                                  </td><td>NA                                  </td><td>NA                                  </td><td>NA                                  </td><td>NA                                  </td><td>7                                   </td><td> 729                                </td><td>3                                   </td><td>1                                   </td></tr>\n",
       "\t<tr><th scope=row>182</th><td>mturkfvppilot_scaling3_time250_2stim</td><td>2                                   </td><td>during                              </td><td>250                                 </td><td>NA                                  </td><td>NA                                  </td><td>809668683                           </td><td>174                                 </td><td>0                                   </td><td>-1                                  </td><td>...                                 </td><td>NA                                  </td><td>NA                                  </td><td>NA                                  </td><td>NA                                  </td><td>NA                                  </td><td>NA                                  </td><td>6                                   </td><td>1092                                </td><td>9                                   </td><td>4                                   </td></tr>\n",
       "\t<tr><th scope=row>183</th><td>mturkfvppilot_scaling3_time250_2stim</td><td>2                                   </td><td>during                              </td><td>250                                 </td><td>NA                                  </td><td>NA                                  </td><td>809668683                           </td><td>175                                 </td><td>0                                   </td><td>-1                                  </td><td>...                                 </td><td>NA                                  </td><td>NA                                  </td><td>NA                                  </td><td>NA                                  </td><td>NA                                  </td><td>NA                                  </td><td>2                                   </td><td>1619                                </td><td>8                                   </td><td>5                                   </td></tr>\n",
       "\t<tr><th scope=row>184</th><td>mturkfvppilot_scaling3_time250_2stim</td><td>2                                   </td><td>during                              </td><td>250                                 </td><td>NA                                  </td><td>NA                                  </td><td>809668683                           </td><td>176                                 </td><td>0                                   </td><td>-1                                  </td><td>...                                 </td><td>NA                                  </td><td>NA                                  </td><td>NA                                  </td><td>NA                                  </td><td>NA                                  </td><td>NA                                  </td><td>3                                   </td><td>1461                                </td><td>6                                   </td><td>3                                   </td></tr>\n",
       "\t<tr><th scope=row>186</th><td>mturkfvppilot_scaling3_time250_2stim</td><td>2                                   </td><td>during                              </td><td>250                                 </td><td>NA                                  </td><td>NA                                  </td><td>809668683                           </td><td>178                                 </td><td>0                                   </td><td>-1                                  </td><td>...                                 </td><td>NA                                  </td><td>NA                                  </td><td>NA                                  </td><td>NA                                  </td><td>NA                                  </td><td>NA                                  </td><td>7                                   </td><td> 881                                </td><td>8                                   </td><td>6                                   </td></tr>\n",
       "\t<tr><th scope=row>187</th><td>mturkfvppilot_scaling3_time250_2stim</td><td>2                                   </td><td>during                              </td><td>250                                 </td><td>NA                                  </td><td>NA                                  </td><td>809668683                           </td><td>179                                 </td><td>0                                   </td><td>-1                                  </td><td>...                                 </td><td>NA                                  </td><td>NA                                  </td><td>NA                                  </td><td>NA                                  </td><td>NA                                  </td><td>NA                                  </td><td>4                                   </td><td>2441                                </td><td>3                                   </td><td>1                                   </td></tr>\n",
       "\t<tr><th scope=row>188</th><td>mturkfvppilot_scaling3_time250_2stim</td><td>2                                   </td><td>during                              </td><td>250                                 </td><td>NA                                  </td><td>NA                                  </td><td>809668683                           </td><td>180                                 </td><td>0                                   </td><td>-1                                  </td><td>...                                 </td><td>NA                                  </td><td>NA                                  </td><td>NA                                  </td><td>NA                                  </td><td>NA                                  </td><td>NA                                  </td><td>4                                   </td><td> 612                                </td><td>6                                   </td><td>4                                   </td></tr>\n",
       "\t<tr><th scope=row>191</th><td>mturkfvppilot_scaling3_time250_2stim</td><td>2                                   </td><td>during                              </td><td>250                                 </td><td>NA                                  </td><td>NA                                  </td><td>809668683                           </td><td>183                                 </td><td>0                                   </td><td>-1                                  </td><td>...                                 </td><td>NA                                  </td><td>NA                                  </td><td>NA                                  </td><td>NA                                  </td><td>NA                                  </td><td>NA                                  </td><td>7                                   </td><td> 713                                </td><td>5                                   </td><td>7                                   </td></tr>\n",
       "\t<tr><th scope=row>192</th><td>mturkfvppilot_scaling3_time250_2stim</td><td>2                                   </td><td>during                              </td><td>250                                 </td><td>NA                                  </td><td>NA                                  </td><td>809668683                           </td><td>184                                 </td><td>0                                   </td><td>-1                                  </td><td>...                                 </td><td>NA                                  </td><td>NA                                  </td><td>NA                                  </td><td>NA                                  </td><td>NA                                  </td><td>NA                                  </td><td>7                                   </td><td> 783                                </td><td>8                                   </td><td>2                                   </td></tr>\n",
       "\t<tr><th scope=row>195</th><td>mturkfvppilot_scaling3_time250_2stim</td><td>2                                   </td><td>during                              </td><td>250                                 </td><td>NA                                  </td><td>NA                                  </td><td>809668683                           </td><td>187                                 </td><td>0                                   </td><td>-1                                  </td><td>...                                 </td><td>NA                                  </td><td>NA                                  </td><td>NA                                  </td><td>NA                                  </td><td>NA                                  </td><td>NA                                  </td><td>7                                   </td><td> 554                                </td><td>7                                   </td><td>1                                   </td></tr>\n",
       "\t<tr><th scope=row>196</th><td>mturkfvppilot_scaling3_time250_2stim</td><td>2                                   </td><td>during                              </td><td>250                                 </td><td>NA                                  </td><td>NA                                  </td><td>809668683                           </td><td>188                                 </td><td>0                                   </td><td>-1                                  </td><td>...                                 </td><td>NA                                  </td><td>NA                                  </td><td>NA                                  </td><td>NA                                  </td><td>NA                                  </td><td>NA                                  </td><td>3                                   </td><td>1561                                </td><td>2                                   </td><td>6                                   </td></tr>\n",
       "\t<tr><th scope=row>197</th><td>mturkfvppilot_scaling3_time250_2stim</td><td>2                                   </td><td>during                              </td><td>250                                 </td><td>NA                                  </td><td>NA                                  </td><td>809668683                           </td><td>189                                 </td><td>0                                   </td><td>-1                                  </td><td>...                                 </td><td>NA                                  </td><td>NA                                  </td><td>NA                                  </td><td>NA                                  </td><td>NA                                  </td><td>NA                                  </td><td>0                                   </td><td> 787                                </td><td>3                                   </td><td>2                                   </td></tr>\n",
       "\t<tr><th scope=row>198</th><td>mturkfvppilot_scaling3_time250_2stim</td><td>2                                   </td><td>during                              </td><td>250                                 </td><td>NA                                  </td><td>NA                                  </td><td>809668683                           </td><td>190                                 </td><td>0                                   </td><td>-1                                  </td><td>...                                 </td><td>NA                                  </td><td>NA                                  </td><td>NA                                  </td><td>NA                                  </td><td>NA                                  </td><td>NA                                  </td><td>4                                   </td><td>1131                                </td><td>7                                   </td><td>4                                   </td></tr>\n",
       "\t<tr><th scope=row>200</th><td>mturkfvppilot_scaling3_time250_2stim</td><td>2                                   </td><td>during                              </td><td>250                                 </td><td>NA                                  </td><td>NA                                  </td><td>809668683                           </td><td>192                                 </td><td>0                                   </td><td>-1                                  </td><td>...                                 </td><td>NA                                  </td><td>NA                                  </td><td>NA                                  </td><td>NA                                  </td><td>NA                                  </td><td>NA                                  </td><td>6                                   </td><td>1128                                </td><td>5                                   </td><td>2                                   </td></tr>\n",
       "\t<tr><th scope=row>201</th><td>mturkfvppilot_scaling3_time250_2stim</td><td>2                                   </td><td>during                              </td><td>250                                 </td><td>NA                                  </td><td>NA                                  </td><td>809668683                           </td><td>193                                 </td><td>0                                   </td><td>-1                                  </td><td>...                                 </td><td>NA                                  </td><td>NA                                  </td><td>NA                                  </td><td>NA                                  </td><td>NA                                  </td><td>NA                                  </td><td>7                                   </td><td> 814                                </td><td>2                                   </td><td>3                                   </td></tr>\n",
       "\t<tr><th scope=row>206</th><td>mturkfvppilot_scaling3_time250_2stim</td><td>2                                   </td><td>during                              </td><td>250                                 </td><td>NA                                  </td><td>NA                                  </td><td>809668683                           </td><td>198                                 </td><td>0                                   </td><td>-1                                  </td><td>...                                 </td><td>NA                                  </td><td>NA                                  </td><td>NA                                  </td><td>NA                                  </td><td>NA                                  </td><td>NA                                  </td><td>1                                   </td><td> 980                                </td><td>1                                   </td><td>4                                   </td></tr>\n",
       "\t<tr><th scope=row>209</th><td>mturkfvppilot_scaling3_time250_2stim</td><td>2                                   </td><td>during                              </td><td>250                                 </td><td>NA                                  </td><td>NA                                  </td><td>809668683                           </td><td>201                                 </td><td>0                                   </td><td>-1                                  </td><td>...                                 </td><td>NA                                  </td><td>NA                                  </td><td>NA                                  </td><td>NA                                  </td><td>NA                                  </td><td>NA                                  </td><td>7                                   </td><td> 659                                </td><td>2                                   </td><td>9                                   </td></tr>\n",
       "\t<tr><th scope=row>215</th><td>mturkfvppilot_scaling3_time250_2stim</td><td>2                                   </td><td>during                              </td><td>250                                 </td><td>NA                                  </td><td>NA                                  </td><td>809668683                           </td><td>207                                 </td><td>0                                   </td><td>-1                                  </td><td>...                                 </td><td>NA                                  </td><td>NA                                  </td><td>NA                                  </td><td>NA                                  </td><td>NA                                  </td><td>NA                                  </td><td>0                                   </td><td> 878                                </td><td>4                                   </td><td>7                                   </td></tr>\n",
       "\t<tr><th scope=row>216</th><td>mturkfvppilot_scaling3_time250_2stim</td><td>2                                   </td><td>during                              </td><td>250                                 </td><td>NA                                  </td><td>NA                                  </td><td>809668683                           </td><td>208                                 </td><td>0                                   </td><td>-1                                  </td><td>...                                 </td><td>NA                                  </td><td>NA                                  </td><td>NA                                  </td><td>NA                                  </td><td>NA                                  </td><td>NA                                  </td><td>2                                   </td><td>1442                                </td><td>2                                   </td><td>1                                   </td></tr>\n",
       "\t<tr><th scope=row>221</th><td>mturkfvppilot_scaling3_time250_2stim</td><td>2                                   </td><td>during                              </td><td>250                                 </td><td>NA                                  </td><td>NA                                  </td><td>809668683                           </td><td>213                                 </td><td>0                                   </td><td>-1                                  </td><td>...                                 </td><td>NA                                  </td><td>NA                                  </td><td>NA                                  </td><td>NA                                  </td><td>NA                                  </td><td>NA                                  </td><td>5                                   </td><td>2110                                </td><td>4                                   </td><td>6                                   </td></tr>\n",
       "\t<tr><th scope=row>223</th><td>mturkfvppilot_scaling3_time250_2stim</td><td>2                                   </td><td>during                              </td><td>250                                 </td><td>NA                                  </td><td>NA                                  </td><td>809668683                           </td><td>215                                 </td><td>0                                   </td><td>-1                                  </td><td>...                                 </td><td>NA                                  </td><td>NA                                  </td><td>NA                                  </td><td>NA                                  </td><td>NA                                  </td><td>NA                                  </td><td>7                                   </td><td> 650                                </td><td>4                                   </td><td>6                                   </td></tr>\n",
       "\t<tr><th scope=row>235</th><td>mturkfvppilot_scaling3_time250_2stim</td><td>2                                   </td><td>during                              </td><td>250                                 </td><td>NA                                  </td><td>NA                                  </td><td>809668683                           </td><td>227                                 </td><td>0                                   </td><td>-1                                  </td><td>...                                 </td><td>NA                                  </td><td>NA                                  </td><td>NA                                  </td><td>NA                                  </td><td>NA                                  </td><td>NA                                  </td><td>7                                   </td><td> 936                                </td><td>2                                   </td><td>8                                   </td></tr>\n",
       "\t<tr><th scope=row>237</th><td>mturkfvppilot_scaling3_time250_2stim</td><td>2                                   </td><td>during                              </td><td>250                                 </td><td>NA                                  </td><td>NA                                  </td><td>809668683                           </td><td>229                                 </td><td>0                                   </td><td>-1                                  </td><td>...                                 </td><td>NA                                  </td><td>NA                                  </td><td>NA                                  </td><td>NA                                  </td><td>NA                                  </td><td>NA                                  </td><td>0                                   </td><td> 843                                </td><td>7                                   </td><td>1                                   </td></tr>\n",
       "\t<tr><th scope=row>239</th><td>mturkfvppilot_scaling3_time250_2stim</td><td>2                                   </td><td>during                              </td><td>250                                 </td><td>NA                                  </td><td>NA                                  </td><td>809668683                           </td><td>231                                 </td><td>0                                   </td><td>-1                                  </td><td>...                                 </td><td>NA                                  </td><td>NA                                  </td><td>NA                                  </td><td>NA                                  </td><td>NA                                  </td><td>NA                                  </td><td>7                                   </td><td>1759                                </td><td>5                                   </td><td>7                                   </td></tr>\n",
       "\t<tr><th scope=row>240</th><td>mturkfvppilot_scaling3_time250_2stim</td><td>2                                   </td><td>during                              </td><td>250                                 </td><td>NA                                  </td><td>NA                                  </td><td>809668683                           </td><td>232                                 </td><td>0                                   </td><td>-1                                  </td><td>...                                 </td><td>NA                                  </td><td>NA                                  </td><td>NA                                  </td><td>NA                                  </td><td>NA                                  </td><td>NA                                  </td><td>7                                   </td><td> 711                                </td><td>2                                   </td><td>7                                   </td></tr>\n",
       "\t<tr><th scope=row>244</th><td>mturkfvppilot_scaling3_time250_2stim</td><td>2                                   </td><td>during                              </td><td>250                                 </td><td>NA                                  </td><td>NA                                  </td><td>809668683                           </td><td>236                                 </td><td>0                                   </td><td>-1                                  </td><td>...                                 </td><td>NA                                  </td><td>NA                                  </td><td>NA                                  </td><td>NA                                  </td><td>NA                                  </td><td>NA                                  </td><td>5                                   </td><td>2728                                </td><td>5                                   </td><td>2                                   </td></tr>\n",
       "\t<tr><th scope=row>245</th><td>mturkfvppilot_scaling3_time250_2stim</td><td>2                                   </td><td>during                              </td><td>250                                 </td><td>NA                                  </td><td>NA                                  </td><td>809668683                           </td><td>237                                 </td><td>0                                   </td><td>-1                                  </td><td>...                                 </td><td>NA                                  </td><td>NA                                  </td><td>NA                                  </td><td>NA                                  </td><td>NA                                  </td><td>NA                                  </td><td>7                                   </td><td>1015                                </td><td>1                                   </td><td>4                                   </td></tr>\n",
       "\t<tr><th scope=row>250</th><td>mturkfvppilot_scaling3_time250_2stim</td><td>2                                   </td><td>during                              </td><td>250                                 </td><td>NA                                  </td><td>NA                                  </td><td>809668683                           </td><td>242                                 </td><td>0                                   </td><td>-1                                  </td><td>...                                 </td><td>NA                                  </td><td>NA                                  </td><td>NA                                  </td><td>NA                                  </td><td>NA                                  </td><td>NA                                  </td><td>0                                   </td><td> 829                                </td><td>4                                   </td><td>1                                   </td></tr>\n",
       "</tbody>\n",
       "</table>\n"
      ],
      "text/latex": [
       "\\begin{tabular}{r|lllllllllllllllllllllllllllllllllllll}\n",
       "  & experiment & stimuli\\_count & response\\_type & stim\\_display\\_time & stim\\_cue\\_gap & cue\\_display\\_time & subject & trial\\_number & Cross\\_position & Circle\\_1 & ... & Circle\\_7 & Position\\_7 & Color\\_7 & Circle\\_8 & Position\\_8 & Color\\_8 & p\\_confidence & response\\_time & bin1 & bin2\\\\\n",
       "\\hline\n",
       "\t10 & mturkfvppilot\\_scaling3\\_time250\\_2stim & 2                                          & during                                     & 250                                        & NA                                         & NA                                         & 809668683                                  &   2                                        & 0                                          & -1                                         & ...                                        & NA                                         & NA                                         & NA                                         & NA                                         & NA                                         & NA                                         & 7                                          & 2087                                       & 3                                          & 1                                         \\\\\n",
       "\t11 & mturkfvppilot\\_scaling3\\_time250\\_2stim & 2                                          & during                                     & 250                                        & NA                                         & NA                                         & 809668683                                  &   3                                        & 0                                          & -1                                         & ...                                        & NA                                         & NA                                         & NA                                         & NA                                         & NA                                         & NA                                         & 2                                          & 1877                                       & 9                                          & 4                                         \\\\\n",
       "\t12 & mturkfvppilot\\_scaling3\\_time250\\_2stim & 2                                          & during                                     & 250                                        & NA                                         & NA                                         & 809668683                                  &   4                                        & 0                                          & -1                                         & ...                                        & NA                                         & NA                                         & NA                                         & NA                                         & NA                                         & NA                                         & 5                                          & 2016                                       & 4                                          & 1                                         \\\\\n",
       "\t19 & mturkfvppilot\\_scaling3\\_time250\\_2stim & 2                                          & during                                     & 250                                        & NA                                         & NA                                         & 809668683                                  &  11                                        & 0                                          & -1                                         & ...                                        & NA                                         & NA                                         & NA                                         & NA                                         & NA                                         & NA                                         & 7                                          & 2884                                       & 9                                          & 2                                         \\\\\n",
       "\t24 & mturkfvppilot\\_scaling3\\_time250\\_2stim & 2                                          & during                                     & 250                                        & NA                                         & NA                                         & 809668683                                  &  16                                        & 0                                          & -1                                         & ...                                        & NA                                         & NA                                         & NA                                         & NA                                         & NA                                         & NA                                         & 7                                          &  889                                       & 8                                          & 1                                         \\\\\n",
       "\t30 & mturkfvppilot\\_scaling3\\_time250\\_2stim & 2                                          & during                                     & 250                                        & NA                                         & NA                                         & 809668683                                  &  22                                        & 0                                          & -1                                         & ...                                        & NA                                         & NA                                         & NA                                         & NA                                         & NA                                         & NA                                         & 7                                          & 1450                                       & 7                                          & 9                                         \\\\\n",
       "\t33 & mturkfvppilot\\_scaling3\\_time250\\_2stim & 2                                          & during                                     & 250                                        & NA                                         & NA                                         & 809668683                                  &  25                                        & 0                                          & -1                                         & ...                                        & NA                                         & NA                                         & NA                                         & NA                                         & NA                                         & NA                                         & 7                                          &  879                                       & 8                                          & 9                                         \\\\\n",
       "\t34 & mturkfvppilot\\_scaling3\\_time250\\_2stim & 2                                          & during                                     & 250                                        & NA                                         & NA                                         & 809668683                                  &  26                                        & 0                                          & -1                                         & ...                                        & NA                                         & NA                                         & NA                                         & NA                                         & NA                                         & NA                                         & 0                                          & 1168                                       & 5                                          & 2                                         \\\\\n",
       "\t43 & mturkfvppilot\\_scaling3\\_time250\\_2stim & 2                                          & during                                     & 250                                        & NA                                         & NA                                         & 809668683                                  &  35                                        & 0                                          & -1                                         & ...                                        & NA                                         & NA                                         & NA                                         & NA                                         & NA                                         & NA                                         & 7                                          &  756                                       & 9                                          & 2                                         \\\\\n",
       "\t45 & mturkfvppilot\\_scaling3\\_time250\\_2stim & 2                                          & during                                     & 250                                        & NA                                         & NA                                         & 809668683                                  &  37                                        & 0                                          & -1                                         & ...                                        & NA                                         & NA                                         & NA                                         & NA                                         & NA                                         & NA                                         & 4                                          & 2093                                       & 1                                          & 4                                         \\\\\n",
       "\t52 & mturkfvppilot\\_scaling3\\_time250\\_2stim & 2                                          & during                                     & 250                                        & NA                                         & NA                                         & 809668683                                  &  44                                        & 0                                          & -1                                         & ...                                        & NA                                         & NA                                         & NA                                         & NA                                         & NA                                         & NA                                         & 7                                          & 1314                                       & 6                                          & 7                                         \\\\\n",
       "\t55 & mturkfvppilot\\_scaling3\\_time250\\_2stim & 2                                          & during                                     & 250                                        & NA                                         & NA                                         & 809668683                                  &  47                                        & 0                                          & -1                                         & ...                                        & NA                                         & NA                                         & NA                                         & NA                                         & NA                                         & NA                                         & 3                                          & 1336                                       & 6                                          & 8                                         \\\\\n",
       "\t61 & mturkfvppilot\\_scaling3\\_time250\\_2stim & 2                                          & during                                     & 250                                        & NA                                         & NA                                         & 809668683                                  &  53                                        & 0                                          & -1                                         & ...                                        & NA                                         & NA                                         & NA                                         & NA                                         & NA                                         & NA                                         & 7                                          & 1184                                       & 4                                          & 1                                         \\\\\n",
       "\t64 & mturkfvppilot\\_scaling3\\_time250\\_2stim & 2                                          & during                                     & 250                                        & NA                                         & NA                                         & 809668683                                  &  56                                        & 0                                          & -1                                         & ...                                        & NA                                         & NA                                         & NA                                         & NA                                         & NA                                         & NA                                         & 7                                          & 1247                                       & 1                                          & 8                                         \\\\\n",
       "\t77 & mturkfvppilot\\_scaling3\\_time250\\_2stim & 2                                          & during                                     & 250                                        & NA                                         & NA                                         & 809668683                                  &  69                                        & 0                                          & -1                                         & ...                                        & NA                                         & NA                                         & NA                                         & NA                                         & NA                                         & NA                                         & 7                                          & 1020                                       & 3                                          & 1                                         \\\\\n",
       "\t78 & mturkfvppilot\\_scaling3\\_time250\\_2stim & 2                                          & during                                     & 250                                        & NA                                         & NA                                         & 809668683                                  &  70                                        & 0                                          & -1                                         & ...                                        & NA                                         & NA                                         & NA                                         & NA                                         & NA                                         & NA                                         & 5                                          & 2105                                       & 6                                          & 7                                         \\\\\n",
       "\t81 & mturkfvppilot\\_scaling3\\_time250\\_2stim & 2                                          & during                                     & 250                                        & NA                                         & NA                                         & 809668683                                  &  73                                        & 0                                          & -1                                         & ...                                        & NA                                         & NA                                         & NA                                         & NA                                         & NA                                         & NA                                         & 1                                          &  914                                       & 1                                          & 6                                         \\\\\n",
       "\t84 & mturkfvppilot\\_scaling3\\_time250\\_2stim & 2                                          & during                                     & 250                                        & NA                                         & NA                                         & 809668683                                  &  76                                        & 0                                          & -1                                         & ...                                        & NA                                         & NA                                         & NA                                         & NA                                         & NA                                         & NA                                         & 1                                          &  849                                       & 6                                          & 9                                         \\\\\n",
       "\t86 & mturkfvppilot\\_scaling3\\_time250\\_2stim & 2                                          & during                                     & 250                                        & NA                                         & NA                                         & 809668683                                  &  78                                        & 0                                          & -1                                         & ...                                        & NA                                         & NA                                         & NA                                         & NA                                         & NA                                         & NA                                         & 2                                          & 1471                                       & 5                                          & 2                                         \\\\\n",
       "\t91 & mturkfvppilot\\_scaling3\\_time250\\_2stim & 2                                          & during                                     & 250                                        & NA                                         & NA                                         & 809668683                                  &  83                                        & 0                                          & -1                                         & ...                                        & NA                                         & NA                                         & NA                                         & NA                                         & NA                                         & NA                                         & 7                                          & 1516                                       & 1                                          & 4                                         \\\\\n",
       "\t92 & mturkfvppilot\\_scaling3\\_time250\\_2stim & 2                                          & during                                     & 250                                        & NA                                         & NA                                         & 809668683                                  &  84                                        & 0                                          & -1                                         & ...                                        & NA                                         & NA                                         & NA                                         & NA                                         & NA                                         & NA                                         & 6                                          & 1429                                       & 6                                          & 1                                         \\\\\n",
       "\t93 & mturkfvppilot\\_scaling3\\_time250\\_2stim & 2                                          & during                                     & 250                                        & NA                                         & NA                                         & 809668683                                  &  85                                        & 0                                          & -1                                         & ...                                        & NA                                         & NA                                         & NA                                         & NA                                         & NA                                         & NA                                         & 0                                          &  939                                       & 1                                          & 3                                         \\\\\n",
       "\t94 & mturkfvppilot\\_scaling3\\_time250\\_2stim & 2                                          & during                                     & 250                                        & NA                                         & NA                                         & 809668683                                  &  86                                        & 0                                          & -1                                         & ...                                        & NA                                         & NA                                         & NA                                         & NA                                         & NA                                         & NA                                         & 0                                          &  563                                       & 8                                          & 3                                         \\\\\n",
       "\t95 & mturkfvppilot\\_scaling3\\_time250\\_2stim & 2                                          & during                                     & 250                                        & NA                                         & NA                                         & 809668683                                  &  87                                        & 0                                          & -1                                         & ...                                        & NA                                         & NA                                         & NA                                         & NA                                         & NA                                         & NA                                         & 1                                          & 1245                                       & 4                                          & 1                                         \\\\\n",
       "\t99 & mturkfvppilot\\_scaling3\\_time250\\_2stim & 2                                          & during                                     & 250                                        & NA                                         & NA                                         & 809668683                                  &  91                                        & 0                                          & -1                                         & ...                                        & NA                                         & NA                                         & NA                                         & NA                                         & NA                                         & NA                                         & 7                                          &  595                                       & 7                                          & 4                                         \\\\\n",
       "\t103 & mturkfvppilot\\_scaling3\\_time250\\_2stim & 2                                          & during                                     & 250                                        & NA                                         & NA                                         & 809668683                                  &  95                                        & 0                                          & -1                                         & ...                                        & NA                                         & NA                                         & NA                                         & NA                                         & NA                                         & NA                                         & 7                                          &  748                                       & 3                                          & 5                                         \\\\\n",
       "\t105 & mturkfvppilot\\_scaling3\\_time250\\_2stim & 2                                          & during                                     & 250                                        & NA                                         & NA                                         & 809668683                                  &  97                                        & 0                                          & -1                                         & ...                                        & NA                                         & NA                                         & NA                                         & NA                                         & NA                                         & NA                                         & 0                                          &  710                                       & 8                                          & 6                                         \\\\\n",
       "\t107 & mturkfvppilot\\_scaling3\\_time250\\_2stim & 2                                          & during                                     & 250                                        & NA                                         & NA                                         & 809668683                                  &  99                                        & 0                                          & -1                                         & ...                                        & NA                                         & NA                                         & NA                                         & NA                                         & NA                                         & NA                                         & 3                                          & 2474                                       & 4                                          & 8                                         \\\\\n",
       "\t109 & mturkfvppilot\\_scaling3\\_time250\\_2stim & 2                                          & during                                     & 250                                        & NA                                         & NA                                         & 809668683                                  & 101                                        & 0                                          & -1                                         & ...                                        & NA                                         & NA                                         & NA                                         & NA                                         & NA                                         & NA                                         & 5                                          & 1580                                       & 1                                          & 3                                         \\\\\n",
       "\t117 & mturkfvppilot\\_scaling3\\_time250\\_2stim & 2                                          & during                                     & 250                                        & NA                                         & NA                                         & 809668683                                  & 109                                        & 0                                          & -1                                         & ...                                        & NA                                         & NA                                         & NA                                         & NA                                         & NA                                         & NA                                         & 0                                          & 1305                                       & 9                                          & 6                                         \\\\\n",
       "\t... & ... & ... & ... & ... & ... & ... & ... & ... & ... & ... &     & ... & ... & ... & ... & ... & ... & ... & ... & ... & ...\\\\\n",
       "\t176 & mturkfvppilot\\_scaling3\\_time250\\_2stim & 2                                          & during                                     & 250                                        & NA                                         & NA                                         & 809668683                                  & 168                                        & 0                                          & -1                                         & ...                                        & NA                                         & NA                                         & NA                                         & NA                                         & NA                                         & NA                                         & 3                                          & 2146                                       & 8                                          & 9                                         \\\\\n",
       "\t177 & mturkfvppilot\\_scaling3\\_time250\\_2stim & 2                                          & during                                     & 250                                        & NA                                         & NA                                         & 809668683                                  & 169                                        & 0                                          & -1                                         & ...                                        & NA                                         & NA                                         & NA                                         & NA                                         & NA                                         & NA                                         & 2                                          & 2455                                       & 7                                          & 9                                         \\\\\n",
       "\t179 & mturkfvppilot\\_scaling3\\_time250\\_2stim & 2                                          & during                                     & 250                                        & NA                                         & NA                                         & 809668683                                  & 171                                        & 0                                          & -1                                         & ...                                        & NA                                         & NA                                         & NA                                         & NA                                         & NA                                         & NA                                         & 7                                          &  729                                       & 3                                          & 1                                         \\\\\n",
       "\t182 & mturkfvppilot\\_scaling3\\_time250\\_2stim & 2                                          & during                                     & 250                                        & NA                                         & NA                                         & 809668683                                  & 174                                        & 0                                          & -1                                         & ...                                        & NA                                         & NA                                         & NA                                         & NA                                         & NA                                         & NA                                         & 6                                          & 1092                                       & 9                                          & 4                                         \\\\\n",
       "\t183 & mturkfvppilot\\_scaling3\\_time250\\_2stim & 2                                          & during                                     & 250                                        & NA                                         & NA                                         & 809668683                                  & 175                                        & 0                                          & -1                                         & ...                                        & NA                                         & NA                                         & NA                                         & NA                                         & NA                                         & NA                                         & 2                                          & 1619                                       & 8                                          & 5                                         \\\\\n",
       "\t184 & mturkfvppilot\\_scaling3\\_time250\\_2stim & 2                                          & during                                     & 250                                        & NA                                         & NA                                         & 809668683                                  & 176                                        & 0                                          & -1                                         & ...                                        & NA                                         & NA                                         & NA                                         & NA                                         & NA                                         & NA                                         & 3                                          & 1461                                       & 6                                          & 3                                         \\\\\n",
       "\t186 & mturkfvppilot\\_scaling3\\_time250\\_2stim & 2                                          & during                                     & 250                                        & NA                                         & NA                                         & 809668683                                  & 178                                        & 0                                          & -1                                         & ...                                        & NA                                         & NA                                         & NA                                         & NA                                         & NA                                         & NA                                         & 7                                          &  881                                       & 8                                          & 6                                         \\\\\n",
       "\t187 & mturkfvppilot\\_scaling3\\_time250\\_2stim & 2                                          & during                                     & 250                                        & NA                                         & NA                                         & 809668683                                  & 179                                        & 0                                          & -1                                         & ...                                        & NA                                         & NA                                         & NA                                         & NA                                         & NA                                         & NA                                         & 4                                          & 2441                                       & 3                                          & 1                                         \\\\\n",
       "\t188 & mturkfvppilot\\_scaling3\\_time250\\_2stim & 2                                          & during                                     & 250                                        & NA                                         & NA                                         & 809668683                                  & 180                                        & 0                                          & -1                                         & ...                                        & NA                                         & NA                                         & NA                                         & NA                                         & NA                                         & NA                                         & 4                                          &  612                                       & 6                                          & 4                                         \\\\\n",
       "\t191 & mturkfvppilot\\_scaling3\\_time250\\_2stim & 2                                          & during                                     & 250                                        & NA                                         & NA                                         & 809668683                                  & 183                                        & 0                                          & -1                                         & ...                                        & NA                                         & NA                                         & NA                                         & NA                                         & NA                                         & NA                                         & 7                                          &  713                                       & 5                                          & 7                                         \\\\\n",
       "\t192 & mturkfvppilot\\_scaling3\\_time250\\_2stim & 2                                          & during                                     & 250                                        & NA                                         & NA                                         & 809668683                                  & 184                                        & 0                                          & -1                                         & ...                                        & NA                                         & NA                                         & NA                                         & NA                                         & NA                                         & NA                                         & 7                                          &  783                                       & 8                                          & 2                                         \\\\\n",
       "\t195 & mturkfvppilot\\_scaling3\\_time250\\_2stim & 2                                          & during                                     & 250                                        & NA                                         & NA                                         & 809668683                                  & 187                                        & 0                                          & -1                                         & ...                                        & NA                                         & NA                                         & NA                                         & NA                                         & NA                                         & NA                                         & 7                                          &  554                                       & 7                                          & 1                                         \\\\\n",
       "\t196 & mturkfvppilot\\_scaling3\\_time250\\_2stim & 2                                          & during                                     & 250                                        & NA                                         & NA                                         & 809668683                                  & 188                                        & 0                                          & -1                                         & ...                                        & NA                                         & NA                                         & NA                                         & NA                                         & NA                                         & NA                                         & 3                                          & 1561                                       & 2                                          & 6                                         \\\\\n",
       "\t197 & mturkfvppilot\\_scaling3\\_time250\\_2stim & 2                                          & during                                     & 250                                        & NA                                         & NA                                         & 809668683                                  & 189                                        & 0                                          & -1                                         & ...                                        & NA                                         & NA                                         & NA                                         & NA                                         & NA                                         & NA                                         & 0                                          &  787                                       & 3                                          & 2                                         \\\\\n",
       "\t198 & mturkfvppilot\\_scaling3\\_time250\\_2stim & 2                                          & during                                     & 250                                        & NA                                         & NA                                         & 809668683                                  & 190                                        & 0                                          & -1                                         & ...                                        & NA                                         & NA                                         & NA                                         & NA                                         & NA                                         & NA                                         & 4                                          & 1131                                       & 7                                          & 4                                         \\\\\n",
       "\t200 & mturkfvppilot\\_scaling3\\_time250\\_2stim & 2                                          & during                                     & 250                                        & NA                                         & NA                                         & 809668683                                  & 192                                        & 0                                          & -1                                         & ...                                        & NA                                         & NA                                         & NA                                         & NA                                         & NA                                         & NA                                         & 6                                          & 1128                                       & 5                                          & 2                                         \\\\\n",
       "\t201 & mturkfvppilot\\_scaling3\\_time250\\_2stim & 2                                          & during                                     & 250                                        & NA                                         & NA                                         & 809668683                                  & 193                                        & 0                                          & -1                                         & ...                                        & NA                                         & NA                                         & NA                                         & NA                                         & NA                                         & NA                                         & 7                                          &  814                                       & 2                                          & 3                                         \\\\\n",
       "\t206 & mturkfvppilot\\_scaling3\\_time250\\_2stim & 2                                          & during                                     & 250                                        & NA                                         & NA                                         & 809668683                                  & 198                                        & 0                                          & -1                                         & ...                                        & NA                                         & NA                                         & NA                                         & NA                                         & NA                                         & NA                                         & 1                                          &  980                                       & 1                                          & 4                                         \\\\\n",
       "\t209 & mturkfvppilot\\_scaling3\\_time250\\_2stim & 2                                          & during                                     & 250                                        & NA                                         & NA                                         & 809668683                                  & 201                                        & 0                                          & -1                                         & ...                                        & NA                                         & NA                                         & NA                                         & NA                                         & NA                                         & NA                                         & 7                                          &  659                                       & 2                                          & 9                                         \\\\\n",
       "\t215 & mturkfvppilot\\_scaling3\\_time250\\_2stim & 2                                          & during                                     & 250                                        & NA                                         & NA                                         & 809668683                                  & 207                                        & 0                                          & -1                                         & ...                                        & NA                                         & NA                                         & NA                                         & NA                                         & NA                                         & NA                                         & 0                                          &  878                                       & 4                                          & 7                                         \\\\\n",
       "\t216 & mturkfvppilot\\_scaling3\\_time250\\_2stim & 2                                          & during                                     & 250                                        & NA                                         & NA                                         & 809668683                                  & 208                                        & 0                                          & -1                                         & ...                                        & NA                                         & NA                                         & NA                                         & NA                                         & NA                                         & NA                                         & 2                                          & 1442                                       & 2                                          & 1                                         \\\\\n",
       "\t221 & mturkfvppilot\\_scaling3\\_time250\\_2stim & 2                                          & during                                     & 250                                        & NA                                         & NA                                         & 809668683                                  & 213                                        & 0                                          & -1                                         & ...                                        & NA                                         & NA                                         & NA                                         & NA                                         & NA                                         & NA                                         & 5                                          & 2110                                       & 4                                          & 6                                         \\\\\n",
       "\t223 & mturkfvppilot\\_scaling3\\_time250\\_2stim & 2                                          & during                                     & 250                                        & NA                                         & NA                                         & 809668683                                  & 215                                        & 0                                          & -1                                         & ...                                        & NA                                         & NA                                         & NA                                         & NA                                         & NA                                         & NA                                         & 7                                          &  650                                       & 4                                          & 6                                         \\\\\n",
       "\t235 & mturkfvppilot\\_scaling3\\_time250\\_2stim & 2                                          & during                                     & 250                                        & NA                                         & NA                                         & 809668683                                  & 227                                        & 0                                          & -1                                         & ...                                        & NA                                         & NA                                         & NA                                         & NA                                         & NA                                         & NA                                         & 7                                          &  936                                       & 2                                          & 8                                         \\\\\n",
       "\t237 & mturkfvppilot\\_scaling3\\_time250\\_2stim & 2                                          & during                                     & 250                                        & NA                                         & NA                                         & 809668683                                  & 229                                        & 0                                          & -1                                         & ...                                        & NA                                         & NA                                         & NA                                         & NA                                         & NA                                         & NA                                         & 0                                          &  843                                       & 7                                          & 1                                         \\\\\n",
       "\t239 & mturkfvppilot\\_scaling3\\_time250\\_2stim & 2                                          & during                                     & 250                                        & NA                                         & NA                                         & 809668683                                  & 231                                        & 0                                          & -1                                         & ...                                        & NA                                         & NA                                         & NA                                         & NA                                         & NA                                         & NA                                         & 7                                          & 1759                                       & 5                                          & 7                                         \\\\\n",
       "\t240 & mturkfvppilot\\_scaling3\\_time250\\_2stim & 2                                          & during                                     & 250                                        & NA                                         & NA                                         & 809668683                                  & 232                                        & 0                                          & -1                                         & ...                                        & NA                                         & NA                                         & NA                                         & NA                                         & NA                                         & NA                                         & 7                                          &  711                                       & 2                                          & 7                                         \\\\\n",
       "\t244 & mturkfvppilot\\_scaling3\\_time250\\_2stim & 2                                          & during                                     & 250                                        & NA                                         & NA                                         & 809668683                                  & 236                                        & 0                                          & -1                                         & ...                                        & NA                                         & NA                                         & NA                                         & NA                                         & NA                                         & NA                                         & 5                                          & 2728                                       & 5                                          & 2                                         \\\\\n",
       "\t245 & mturkfvppilot\\_scaling3\\_time250\\_2stim & 2                                          & during                                     & 250                                        & NA                                         & NA                                         & 809668683                                  & 237                                        & 0                                          & -1                                         & ...                                        & NA                                         & NA                                         & NA                                         & NA                                         & NA                                         & NA                                         & 7                                          & 1015                                       & 1                                          & 4                                         \\\\\n",
       "\t250 & mturkfvppilot\\_scaling3\\_time250\\_2stim & 2                                          & during                                     & 250                                        & NA                                         & NA                                         & 809668683                                  & 242                                        & 0                                          & -1                                         & ...                                        & NA                                         & NA                                         & NA                                         & NA                                         & NA                                         & NA                                         & 0                                          &  829                                       & 4                                          & 1                                         \\\\\n",
       "\\end{tabular}\n"
      ],
      "text/markdown": [
       "\n",
       "| <!--/--> | experiment | stimuli_count | response_type | stim_display_time | stim_cue_gap | cue_display_time | subject | trial_number | Cross_position | Circle_1 | ... | Circle_7 | Position_7 | Color_7 | Circle_8 | Position_8 | Color_8 | p_confidence | response_time | bin1 | bin2 |\n",
       "|---|---|---|---|---|---|---|---|---|---|---|---|---|---|---|---|---|---|---|---|---|---|\n",
       "| 10 | mturkfvppilot_scaling3_time250_2stim | 2                                    | during                               | 250                                  | NA                                   | NA                                   | 809668683                            |   2                                  | 0                                    | -1                                   | ...                                  | NA                                   | NA                                   | NA                                   | NA                                   | NA                                   | NA                                   | 7                                    | 2087                                 | 3                                    | 1                                    |\n",
       "| 11 | mturkfvppilot_scaling3_time250_2stim | 2                                    | during                               | 250                                  | NA                                   | NA                                   | 809668683                            |   3                                  | 0                                    | -1                                   | ...                                  | NA                                   | NA                                   | NA                                   | NA                                   | NA                                   | NA                                   | 2                                    | 1877                                 | 9                                    | 4                                    |\n",
       "| 12 | mturkfvppilot_scaling3_time250_2stim | 2                                    | during                               | 250                                  | NA                                   | NA                                   | 809668683                            |   4                                  | 0                                    | -1                                   | ...                                  | NA                                   | NA                                   | NA                                   | NA                                   | NA                                   | NA                                   | 5                                    | 2016                                 | 4                                    | 1                                    |\n",
       "| 19 | mturkfvppilot_scaling3_time250_2stim | 2                                    | during                               | 250                                  | NA                                   | NA                                   | 809668683                            |  11                                  | 0                                    | -1                                   | ...                                  | NA                                   | NA                                   | NA                                   | NA                                   | NA                                   | NA                                   | 7                                    | 2884                                 | 9                                    | 2                                    |\n",
       "| 24 | mturkfvppilot_scaling3_time250_2stim | 2                                    | during                               | 250                                  | NA                                   | NA                                   | 809668683                            |  16                                  | 0                                    | -1                                   | ...                                  | NA                                   | NA                                   | NA                                   | NA                                   | NA                                   | NA                                   | 7                                    |  889                                 | 8                                    | 1                                    |\n",
       "| 30 | mturkfvppilot_scaling3_time250_2stim | 2                                    | during                               | 250                                  | NA                                   | NA                                   | 809668683                            |  22                                  | 0                                    | -1                                   | ...                                  | NA                                   | NA                                   | NA                                   | NA                                   | NA                                   | NA                                   | 7                                    | 1450                                 | 7                                    | 9                                    |\n",
       "| 33 | mturkfvppilot_scaling3_time250_2stim | 2                                    | during                               | 250                                  | NA                                   | NA                                   | 809668683                            |  25                                  | 0                                    | -1                                   | ...                                  | NA                                   | NA                                   | NA                                   | NA                                   | NA                                   | NA                                   | 7                                    |  879                                 | 8                                    | 9                                    |\n",
       "| 34 | mturkfvppilot_scaling3_time250_2stim | 2                                    | during                               | 250                                  | NA                                   | NA                                   | 809668683                            |  26                                  | 0                                    | -1                                   | ...                                  | NA                                   | NA                                   | NA                                   | NA                                   | NA                                   | NA                                   | 0                                    | 1168                                 | 5                                    | 2                                    |\n",
       "| 43 | mturkfvppilot_scaling3_time250_2stim | 2                                    | during                               | 250                                  | NA                                   | NA                                   | 809668683                            |  35                                  | 0                                    | -1                                   | ...                                  | NA                                   | NA                                   | NA                                   | NA                                   | NA                                   | NA                                   | 7                                    |  756                                 | 9                                    | 2                                    |\n",
       "| 45 | mturkfvppilot_scaling3_time250_2stim | 2                                    | during                               | 250                                  | NA                                   | NA                                   | 809668683                            |  37                                  | 0                                    | -1                                   | ...                                  | NA                                   | NA                                   | NA                                   | NA                                   | NA                                   | NA                                   | 4                                    | 2093                                 | 1                                    | 4                                    |\n",
       "| 52 | mturkfvppilot_scaling3_time250_2stim | 2                                    | during                               | 250                                  | NA                                   | NA                                   | 809668683                            |  44                                  | 0                                    | -1                                   | ...                                  | NA                                   | NA                                   | NA                                   | NA                                   | NA                                   | NA                                   | 7                                    | 1314                                 | 6                                    | 7                                    |\n",
       "| 55 | mturkfvppilot_scaling3_time250_2stim | 2                                    | during                               | 250                                  | NA                                   | NA                                   | 809668683                            |  47                                  | 0                                    | -1                                   | ...                                  | NA                                   | NA                                   | NA                                   | NA                                   | NA                                   | NA                                   | 3                                    | 1336                                 | 6                                    | 8                                    |\n",
       "| 61 | mturkfvppilot_scaling3_time250_2stim | 2                                    | during                               | 250                                  | NA                                   | NA                                   | 809668683                            |  53                                  | 0                                    | -1                                   | ...                                  | NA                                   | NA                                   | NA                                   | NA                                   | NA                                   | NA                                   | 7                                    | 1184                                 | 4                                    | 1                                    |\n",
       "| 64 | mturkfvppilot_scaling3_time250_2stim | 2                                    | during                               | 250                                  | NA                                   | NA                                   | 809668683                            |  56                                  | 0                                    | -1                                   | ...                                  | NA                                   | NA                                   | NA                                   | NA                                   | NA                                   | NA                                   | 7                                    | 1247                                 | 1                                    | 8                                    |\n",
       "| 77 | mturkfvppilot_scaling3_time250_2stim | 2                                    | during                               | 250                                  | NA                                   | NA                                   | 809668683                            |  69                                  | 0                                    | -1                                   | ...                                  | NA                                   | NA                                   | NA                                   | NA                                   | NA                                   | NA                                   | 7                                    | 1020                                 | 3                                    | 1                                    |\n",
       "| 78 | mturkfvppilot_scaling3_time250_2stim | 2                                    | during                               | 250                                  | NA                                   | NA                                   | 809668683                            |  70                                  | 0                                    | -1                                   | ...                                  | NA                                   | NA                                   | NA                                   | NA                                   | NA                                   | NA                                   | 5                                    | 2105                                 | 6                                    | 7                                    |\n",
       "| 81 | mturkfvppilot_scaling3_time250_2stim | 2                                    | during                               | 250                                  | NA                                   | NA                                   | 809668683                            |  73                                  | 0                                    | -1                                   | ...                                  | NA                                   | NA                                   | NA                                   | NA                                   | NA                                   | NA                                   | 1                                    |  914                                 | 1                                    | 6                                    |\n",
       "| 84 | mturkfvppilot_scaling3_time250_2stim | 2                                    | during                               | 250                                  | NA                                   | NA                                   | 809668683                            |  76                                  | 0                                    | -1                                   | ...                                  | NA                                   | NA                                   | NA                                   | NA                                   | NA                                   | NA                                   | 1                                    |  849                                 | 6                                    | 9                                    |\n",
       "| 86 | mturkfvppilot_scaling3_time250_2stim | 2                                    | during                               | 250                                  | NA                                   | NA                                   | 809668683                            |  78                                  | 0                                    | -1                                   | ...                                  | NA                                   | NA                                   | NA                                   | NA                                   | NA                                   | NA                                   | 2                                    | 1471                                 | 5                                    | 2                                    |\n",
       "| 91 | mturkfvppilot_scaling3_time250_2stim | 2                                    | during                               | 250                                  | NA                                   | NA                                   | 809668683                            |  83                                  | 0                                    | -1                                   | ...                                  | NA                                   | NA                                   | NA                                   | NA                                   | NA                                   | NA                                   | 7                                    | 1516                                 | 1                                    | 4                                    |\n",
       "| 92 | mturkfvppilot_scaling3_time250_2stim | 2                                    | during                               | 250                                  | NA                                   | NA                                   | 809668683                            |  84                                  | 0                                    | -1                                   | ...                                  | NA                                   | NA                                   | NA                                   | NA                                   | NA                                   | NA                                   | 6                                    | 1429                                 | 6                                    | 1                                    |\n",
       "| 93 | mturkfvppilot_scaling3_time250_2stim | 2                                    | during                               | 250                                  | NA                                   | NA                                   | 809668683                            |  85                                  | 0                                    | -1                                   | ...                                  | NA                                   | NA                                   | NA                                   | NA                                   | NA                                   | NA                                   | 0                                    |  939                                 | 1                                    | 3                                    |\n",
       "| 94 | mturkfvppilot_scaling3_time250_2stim | 2                                    | during                               | 250                                  | NA                                   | NA                                   | 809668683                            |  86                                  | 0                                    | -1                                   | ...                                  | NA                                   | NA                                   | NA                                   | NA                                   | NA                                   | NA                                   | 0                                    |  563                                 | 8                                    | 3                                    |\n",
       "| 95 | mturkfvppilot_scaling3_time250_2stim | 2                                    | during                               | 250                                  | NA                                   | NA                                   | 809668683                            |  87                                  | 0                                    | -1                                   | ...                                  | NA                                   | NA                                   | NA                                   | NA                                   | NA                                   | NA                                   | 1                                    | 1245                                 | 4                                    | 1                                    |\n",
       "| 99 | mturkfvppilot_scaling3_time250_2stim | 2                                    | during                               | 250                                  | NA                                   | NA                                   | 809668683                            |  91                                  | 0                                    | -1                                   | ...                                  | NA                                   | NA                                   | NA                                   | NA                                   | NA                                   | NA                                   | 7                                    |  595                                 | 7                                    | 4                                    |\n",
       "| 103 | mturkfvppilot_scaling3_time250_2stim | 2                                    | during                               | 250                                  | NA                                   | NA                                   | 809668683                            |  95                                  | 0                                    | -1                                   | ...                                  | NA                                   | NA                                   | NA                                   | NA                                   | NA                                   | NA                                   | 7                                    |  748                                 | 3                                    | 5                                    |\n",
       "| 105 | mturkfvppilot_scaling3_time250_2stim | 2                                    | during                               | 250                                  | NA                                   | NA                                   | 809668683                            |  97                                  | 0                                    | -1                                   | ...                                  | NA                                   | NA                                   | NA                                   | NA                                   | NA                                   | NA                                   | 0                                    |  710                                 | 8                                    | 6                                    |\n",
       "| 107 | mturkfvppilot_scaling3_time250_2stim | 2                                    | during                               | 250                                  | NA                                   | NA                                   | 809668683                            |  99                                  | 0                                    | -1                                   | ...                                  | NA                                   | NA                                   | NA                                   | NA                                   | NA                                   | NA                                   | 3                                    | 2474                                 | 4                                    | 8                                    |\n",
       "| 109 | mturkfvppilot_scaling3_time250_2stim | 2                                    | during                               | 250                                  | NA                                   | NA                                   | 809668683                            | 101                                  | 0                                    | -1                                   | ...                                  | NA                                   | NA                                   | NA                                   | NA                                   | NA                                   | NA                                   | 5                                    | 1580                                 | 1                                    | 3                                    |\n",
       "| 117 | mturkfvppilot_scaling3_time250_2stim | 2                                    | during                               | 250                                  | NA                                   | NA                                   | 809668683                            | 109                                  | 0                                    | -1                                   | ...                                  | NA                                   | NA                                   | NA                                   | NA                                   | NA                                   | NA                                   | 0                                    | 1305                                 | 9                                    | 6                                    |\n",
       "| ... | ... | ... | ... | ... | ... | ... | ... | ... | ... | ... |     | ... | ... | ... | ... | ... | ... | ... | ... | ... | ... |\n",
       "| 176 | mturkfvppilot_scaling3_time250_2stim | 2                                    | during                               | 250                                  | NA                                   | NA                                   | 809668683                            | 168                                  | 0                                    | -1                                   | ...                                  | NA                                   | NA                                   | NA                                   | NA                                   | NA                                   | NA                                   | 3                                    | 2146                                 | 8                                    | 9                                    |\n",
       "| 177 | mturkfvppilot_scaling3_time250_2stim | 2                                    | during                               | 250                                  | NA                                   | NA                                   | 809668683                            | 169                                  | 0                                    | -1                                   | ...                                  | NA                                   | NA                                   | NA                                   | NA                                   | NA                                   | NA                                   | 2                                    | 2455                                 | 7                                    | 9                                    |\n",
       "| 179 | mturkfvppilot_scaling3_time250_2stim | 2                                    | during                               | 250                                  | NA                                   | NA                                   | 809668683                            | 171                                  | 0                                    | -1                                   | ...                                  | NA                                   | NA                                   | NA                                   | NA                                   | NA                                   | NA                                   | 7                                    |  729                                 | 3                                    | 1                                    |\n",
       "| 182 | mturkfvppilot_scaling3_time250_2stim | 2                                    | during                               | 250                                  | NA                                   | NA                                   | 809668683                            | 174                                  | 0                                    | -1                                   | ...                                  | NA                                   | NA                                   | NA                                   | NA                                   | NA                                   | NA                                   | 6                                    | 1092                                 | 9                                    | 4                                    |\n",
       "| 183 | mturkfvppilot_scaling3_time250_2stim | 2                                    | during                               | 250                                  | NA                                   | NA                                   | 809668683                            | 175                                  | 0                                    | -1                                   | ...                                  | NA                                   | NA                                   | NA                                   | NA                                   | NA                                   | NA                                   | 2                                    | 1619                                 | 8                                    | 5                                    |\n",
       "| 184 | mturkfvppilot_scaling3_time250_2stim | 2                                    | during                               | 250                                  | NA                                   | NA                                   | 809668683                            | 176                                  | 0                                    | -1                                   | ...                                  | NA                                   | NA                                   | NA                                   | NA                                   | NA                                   | NA                                   | 3                                    | 1461                                 | 6                                    | 3                                    |\n",
       "| 186 | mturkfvppilot_scaling3_time250_2stim | 2                                    | during                               | 250                                  | NA                                   | NA                                   | 809668683                            | 178                                  | 0                                    | -1                                   | ...                                  | NA                                   | NA                                   | NA                                   | NA                                   | NA                                   | NA                                   | 7                                    |  881                                 | 8                                    | 6                                    |\n",
       "| 187 | mturkfvppilot_scaling3_time250_2stim | 2                                    | during                               | 250                                  | NA                                   | NA                                   | 809668683                            | 179                                  | 0                                    | -1                                   | ...                                  | NA                                   | NA                                   | NA                                   | NA                                   | NA                                   | NA                                   | 4                                    | 2441                                 | 3                                    | 1                                    |\n",
       "| 188 | mturkfvppilot_scaling3_time250_2stim | 2                                    | during                               | 250                                  | NA                                   | NA                                   | 809668683                            | 180                                  | 0                                    | -1                                   | ...                                  | NA                                   | NA                                   | NA                                   | NA                                   | NA                                   | NA                                   | 4                                    |  612                                 | 6                                    | 4                                    |\n",
       "| 191 | mturkfvppilot_scaling3_time250_2stim | 2                                    | during                               | 250                                  | NA                                   | NA                                   | 809668683                            | 183                                  | 0                                    | -1                                   | ...                                  | NA                                   | NA                                   | NA                                   | NA                                   | NA                                   | NA                                   | 7                                    |  713                                 | 5                                    | 7                                    |\n",
       "| 192 | mturkfvppilot_scaling3_time250_2stim | 2                                    | during                               | 250                                  | NA                                   | NA                                   | 809668683                            | 184                                  | 0                                    | -1                                   | ...                                  | NA                                   | NA                                   | NA                                   | NA                                   | NA                                   | NA                                   | 7                                    |  783                                 | 8                                    | 2                                    |\n",
       "| 195 | mturkfvppilot_scaling3_time250_2stim | 2                                    | during                               | 250                                  | NA                                   | NA                                   | 809668683                            | 187                                  | 0                                    | -1                                   | ...                                  | NA                                   | NA                                   | NA                                   | NA                                   | NA                                   | NA                                   | 7                                    |  554                                 | 7                                    | 1                                    |\n",
       "| 196 | mturkfvppilot_scaling3_time250_2stim | 2                                    | during                               | 250                                  | NA                                   | NA                                   | 809668683                            | 188                                  | 0                                    | -1                                   | ...                                  | NA                                   | NA                                   | NA                                   | NA                                   | NA                                   | NA                                   | 3                                    | 1561                                 | 2                                    | 6                                    |\n",
       "| 197 | mturkfvppilot_scaling3_time250_2stim | 2                                    | during                               | 250                                  | NA                                   | NA                                   | 809668683                            | 189                                  | 0                                    | -1                                   | ...                                  | NA                                   | NA                                   | NA                                   | NA                                   | NA                                   | NA                                   | 0                                    |  787                                 | 3                                    | 2                                    |\n",
       "| 198 | mturkfvppilot_scaling3_time250_2stim | 2                                    | during                               | 250                                  | NA                                   | NA                                   | 809668683                            | 190                                  | 0                                    | -1                                   | ...                                  | NA                                   | NA                                   | NA                                   | NA                                   | NA                                   | NA                                   | 4                                    | 1131                                 | 7                                    | 4                                    |\n",
       "| 200 | mturkfvppilot_scaling3_time250_2stim | 2                                    | during                               | 250                                  | NA                                   | NA                                   | 809668683                            | 192                                  | 0                                    | -1                                   | ...                                  | NA                                   | NA                                   | NA                                   | NA                                   | NA                                   | NA                                   | 6                                    | 1128                                 | 5                                    | 2                                    |\n",
       "| 201 | mturkfvppilot_scaling3_time250_2stim | 2                                    | during                               | 250                                  | NA                                   | NA                                   | 809668683                            | 193                                  | 0                                    | -1                                   | ...                                  | NA                                   | NA                                   | NA                                   | NA                                   | NA                                   | NA                                   | 7                                    |  814                                 | 2                                    | 3                                    |\n",
       "| 206 | mturkfvppilot_scaling3_time250_2stim | 2                                    | during                               | 250                                  | NA                                   | NA                                   | 809668683                            | 198                                  | 0                                    | -1                                   | ...                                  | NA                                   | NA                                   | NA                                   | NA                                   | NA                                   | NA                                   | 1                                    |  980                                 | 1                                    | 4                                    |\n",
       "| 209 | mturkfvppilot_scaling3_time250_2stim | 2                                    | during                               | 250                                  | NA                                   | NA                                   | 809668683                            | 201                                  | 0                                    | -1                                   | ...                                  | NA                                   | NA                                   | NA                                   | NA                                   | NA                                   | NA                                   | 7                                    |  659                                 | 2                                    | 9                                    |\n",
       "| 215 | mturkfvppilot_scaling3_time250_2stim | 2                                    | during                               | 250                                  | NA                                   | NA                                   | 809668683                            | 207                                  | 0                                    | -1                                   | ...                                  | NA                                   | NA                                   | NA                                   | NA                                   | NA                                   | NA                                   | 0                                    |  878                                 | 4                                    | 7                                    |\n",
       "| 216 | mturkfvppilot_scaling3_time250_2stim | 2                                    | during                               | 250                                  | NA                                   | NA                                   | 809668683                            | 208                                  | 0                                    | -1                                   | ...                                  | NA                                   | NA                                   | NA                                   | NA                                   | NA                                   | NA                                   | 2                                    | 1442                                 | 2                                    | 1                                    |\n",
       "| 221 | mturkfvppilot_scaling3_time250_2stim | 2                                    | during                               | 250                                  | NA                                   | NA                                   | 809668683                            | 213                                  | 0                                    | -1                                   | ...                                  | NA                                   | NA                                   | NA                                   | NA                                   | NA                                   | NA                                   | 5                                    | 2110                                 | 4                                    | 6                                    |\n",
       "| 223 | mturkfvppilot_scaling3_time250_2stim | 2                                    | during                               | 250                                  | NA                                   | NA                                   | 809668683                            | 215                                  | 0                                    | -1                                   | ...                                  | NA                                   | NA                                   | NA                                   | NA                                   | NA                                   | NA                                   | 7                                    |  650                                 | 4                                    | 6                                    |\n",
       "| 235 | mturkfvppilot_scaling3_time250_2stim | 2                                    | during                               | 250                                  | NA                                   | NA                                   | 809668683                            | 227                                  | 0                                    | -1                                   | ...                                  | NA                                   | NA                                   | NA                                   | NA                                   | NA                                   | NA                                   | 7                                    |  936                                 | 2                                    | 8                                    |\n",
       "| 237 | mturkfvppilot_scaling3_time250_2stim | 2                                    | during                               | 250                                  | NA                                   | NA                                   | 809668683                            | 229                                  | 0                                    | -1                                   | ...                                  | NA                                   | NA                                   | NA                                   | NA                                   | NA                                   | NA                                   | 0                                    |  843                                 | 7                                    | 1                                    |\n",
       "| 239 | mturkfvppilot_scaling3_time250_2stim | 2                                    | during                               | 250                                  | NA                                   | NA                                   | 809668683                            | 231                                  | 0                                    | -1                                   | ...                                  | NA                                   | NA                                   | NA                                   | NA                                   | NA                                   | NA                                   | 7                                    | 1759                                 | 5                                    | 7                                    |\n",
       "| 240 | mturkfvppilot_scaling3_time250_2stim | 2                                    | during                               | 250                                  | NA                                   | NA                                   | 809668683                            | 232                                  | 0                                    | -1                                   | ...                                  | NA                                   | NA                                   | NA                                   | NA                                   | NA                                   | NA                                   | 7                                    |  711                                 | 2                                    | 7                                    |\n",
       "| 244 | mturkfvppilot_scaling3_time250_2stim | 2                                    | during                               | 250                                  | NA                                   | NA                                   | 809668683                            | 236                                  | 0                                    | -1                                   | ...                                  | NA                                   | NA                                   | NA                                   | NA                                   | NA                                   | NA                                   | 5                                    | 2728                                 | 5                                    | 2                                    |\n",
       "| 245 | mturkfvppilot_scaling3_time250_2stim | 2                                    | during                               | 250                                  | NA                                   | NA                                   | 809668683                            | 237                                  | 0                                    | -1                                   | ...                                  | NA                                   | NA                                   | NA                                   | NA                                   | NA                                   | NA                                   | 7                                    | 1015                                 | 1                                    | 4                                    |\n",
       "| 250 | mturkfvppilot_scaling3_time250_2stim | 2                                    | during                               | 250                                  | NA                                   | NA                                   | 809668683                            | 242                                  | 0                                    | -1                                   | ...                                  | NA                                   | NA                                   | NA                                   | NA                                   | NA                                   | NA                                   | 0                                    |  829                                 | 4                                    | 1                                    |\n",
       "\n"
      ],
      "text/plain": [
       "    experiment                           stimuli_count response_type\n",
       "10  mturkfvppilot_scaling3_time250_2stim 2             during       \n",
       "11  mturkfvppilot_scaling3_time250_2stim 2             during       \n",
       "12  mturkfvppilot_scaling3_time250_2stim 2             during       \n",
       "19  mturkfvppilot_scaling3_time250_2stim 2             during       \n",
       "24  mturkfvppilot_scaling3_time250_2stim 2             during       \n",
       "30  mturkfvppilot_scaling3_time250_2stim 2             during       \n",
       "33  mturkfvppilot_scaling3_time250_2stim 2             during       \n",
       "34  mturkfvppilot_scaling3_time250_2stim 2             during       \n",
       "43  mturkfvppilot_scaling3_time250_2stim 2             during       \n",
       "45  mturkfvppilot_scaling3_time250_2stim 2             during       \n",
       "52  mturkfvppilot_scaling3_time250_2stim 2             during       \n",
       "55  mturkfvppilot_scaling3_time250_2stim 2             during       \n",
       "61  mturkfvppilot_scaling3_time250_2stim 2             during       \n",
       "64  mturkfvppilot_scaling3_time250_2stim 2             during       \n",
       "77  mturkfvppilot_scaling3_time250_2stim 2             during       \n",
       "78  mturkfvppilot_scaling3_time250_2stim 2             during       \n",
       "81  mturkfvppilot_scaling3_time250_2stim 2             during       \n",
       "84  mturkfvppilot_scaling3_time250_2stim 2             during       \n",
       "86  mturkfvppilot_scaling3_time250_2stim 2             during       \n",
       "91  mturkfvppilot_scaling3_time250_2stim 2             during       \n",
       "92  mturkfvppilot_scaling3_time250_2stim 2             during       \n",
       "93  mturkfvppilot_scaling3_time250_2stim 2             during       \n",
       "94  mturkfvppilot_scaling3_time250_2stim 2             during       \n",
       "95  mturkfvppilot_scaling3_time250_2stim 2             during       \n",
       "99  mturkfvppilot_scaling3_time250_2stim 2             during       \n",
       "103 mturkfvppilot_scaling3_time250_2stim 2             during       \n",
       "105 mturkfvppilot_scaling3_time250_2stim 2             during       \n",
       "107 mturkfvppilot_scaling3_time250_2stim 2             during       \n",
       "109 mturkfvppilot_scaling3_time250_2stim 2             during       \n",
       "117 mturkfvppilot_scaling3_time250_2stim 2             during       \n",
       "... ...                                  ...           ...          \n",
       "176 mturkfvppilot_scaling3_time250_2stim 2             during       \n",
       "177 mturkfvppilot_scaling3_time250_2stim 2             during       \n",
       "179 mturkfvppilot_scaling3_time250_2stim 2             during       \n",
       "182 mturkfvppilot_scaling3_time250_2stim 2             during       \n",
       "183 mturkfvppilot_scaling3_time250_2stim 2             during       \n",
       "184 mturkfvppilot_scaling3_time250_2stim 2             during       \n",
       "186 mturkfvppilot_scaling3_time250_2stim 2             during       \n",
       "187 mturkfvppilot_scaling3_time250_2stim 2             during       \n",
       "188 mturkfvppilot_scaling3_time250_2stim 2             during       \n",
       "191 mturkfvppilot_scaling3_time250_2stim 2             during       \n",
       "192 mturkfvppilot_scaling3_time250_2stim 2             during       \n",
       "195 mturkfvppilot_scaling3_time250_2stim 2             during       \n",
       "196 mturkfvppilot_scaling3_time250_2stim 2             during       \n",
       "197 mturkfvppilot_scaling3_time250_2stim 2             during       \n",
       "198 mturkfvppilot_scaling3_time250_2stim 2             during       \n",
       "200 mturkfvppilot_scaling3_time250_2stim 2             during       \n",
       "201 mturkfvppilot_scaling3_time250_2stim 2             during       \n",
       "206 mturkfvppilot_scaling3_time250_2stim 2             during       \n",
       "209 mturkfvppilot_scaling3_time250_2stim 2             during       \n",
       "215 mturkfvppilot_scaling3_time250_2stim 2             during       \n",
       "216 mturkfvppilot_scaling3_time250_2stim 2             during       \n",
       "221 mturkfvppilot_scaling3_time250_2stim 2             during       \n",
       "223 mturkfvppilot_scaling3_time250_2stim 2             during       \n",
       "235 mturkfvppilot_scaling3_time250_2stim 2             during       \n",
       "237 mturkfvppilot_scaling3_time250_2stim 2             during       \n",
       "239 mturkfvppilot_scaling3_time250_2stim 2             during       \n",
       "240 mturkfvppilot_scaling3_time250_2stim 2             during       \n",
       "244 mturkfvppilot_scaling3_time250_2stim 2             during       \n",
       "245 mturkfvppilot_scaling3_time250_2stim 2             during       \n",
       "250 mturkfvppilot_scaling3_time250_2stim 2             during       \n",
       "    stim_display_time stim_cue_gap cue_display_time subject   trial_number\n",
       "10  250               NA           NA               809668683   2         \n",
       "11  250               NA           NA               809668683   3         \n",
       "12  250               NA           NA               809668683   4         \n",
       "19  250               NA           NA               809668683  11         \n",
       "24  250               NA           NA               809668683  16         \n",
       "30  250               NA           NA               809668683  22         \n",
       "33  250               NA           NA               809668683  25         \n",
       "34  250               NA           NA               809668683  26         \n",
       "43  250               NA           NA               809668683  35         \n",
       "45  250               NA           NA               809668683  37         \n",
       "52  250               NA           NA               809668683  44         \n",
       "55  250               NA           NA               809668683  47         \n",
       "61  250               NA           NA               809668683  53         \n",
       "64  250               NA           NA               809668683  56         \n",
       "77  250               NA           NA               809668683  69         \n",
       "78  250               NA           NA               809668683  70         \n",
       "81  250               NA           NA               809668683  73         \n",
       "84  250               NA           NA               809668683  76         \n",
       "86  250               NA           NA               809668683  78         \n",
       "91  250               NA           NA               809668683  83         \n",
       "92  250               NA           NA               809668683  84         \n",
       "93  250               NA           NA               809668683  85         \n",
       "94  250               NA           NA               809668683  86         \n",
       "95  250               NA           NA               809668683  87         \n",
       "99  250               NA           NA               809668683  91         \n",
       "103 250               NA           NA               809668683  95         \n",
       "105 250               NA           NA               809668683  97         \n",
       "107 250               NA           NA               809668683  99         \n",
       "109 250               NA           NA               809668683 101         \n",
       "117 250               NA           NA               809668683 109         \n",
       "... ...               ...          ...              ...       ...         \n",
       "176 250               NA           NA               809668683 168         \n",
       "177 250               NA           NA               809668683 169         \n",
       "179 250               NA           NA               809668683 171         \n",
       "182 250               NA           NA               809668683 174         \n",
       "183 250               NA           NA               809668683 175         \n",
       "184 250               NA           NA               809668683 176         \n",
       "186 250               NA           NA               809668683 178         \n",
       "187 250               NA           NA               809668683 179         \n",
       "188 250               NA           NA               809668683 180         \n",
       "191 250               NA           NA               809668683 183         \n",
       "192 250               NA           NA               809668683 184         \n",
       "195 250               NA           NA               809668683 187         \n",
       "196 250               NA           NA               809668683 188         \n",
       "197 250               NA           NA               809668683 189         \n",
       "198 250               NA           NA               809668683 190         \n",
       "200 250               NA           NA               809668683 192         \n",
       "201 250               NA           NA               809668683 193         \n",
       "206 250               NA           NA               809668683 198         \n",
       "209 250               NA           NA               809668683 201         \n",
       "215 250               NA           NA               809668683 207         \n",
       "216 250               NA           NA               809668683 208         \n",
       "221 250               NA           NA               809668683 213         \n",
       "223 250               NA           NA               809668683 215         \n",
       "235 250               NA           NA               809668683 227         \n",
       "237 250               NA           NA               809668683 229         \n",
       "239 250               NA           NA               809668683 231         \n",
       "240 250               NA           NA               809668683 232         \n",
       "244 250               NA           NA               809668683 236         \n",
       "245 250               NA           NA               809668683 237         \n",
       "250 250               NA           NA               809668683 242         \n",
       "    Cross_position Circle_1 ... Circle_7 Position_7 Color_7 Circle_8 Position_8\n",
       "10  0              -1       ... NA       NA         NA      NA       NA        \n",
       "11  0              -1       ... NA       NA         NA      NA       NA        \n",
       "12  0              -1       ... NA       NA         NA      NA       NA        \n",
       "19  0              -1       ... NA       NA         NA      NA       NA        \n",
       "24  0              -1       ... NA       NA         NA      NA       NA        \n",
       "30  0              -1       ... NA       NA         NA      NA       NA        \n",
       "33  0              -1       ... NA       NA         NA      NA       NA        \n",
       "34  0              -1       ... NA       NA         NA      NA       NA        \n",
       "43  0              -1       ... NA       NA         NA      NA       NA        \n",
       "45  0              -1       ... NA       NA         NA      NA       NA        \n",
       "52  0              -1       ... NA       NA         NA      NA       NA        \n",
       "55  0              -1       ... NA       NA         NA      NA       NA        \n",
       "61  0              -1       ... NA       NA         NA      NA       NA        \n",
       "64  0              -1       ... NA       NA         NA      NA       NA        \n",
       "77  0              -1       ... NA       NA         NA      NA       NA        \n",
       "78  0              -1       ... NA       NA         NA      NA       NA        \n",
       "81  0              -1       ... NA       NA         NA      NA       NA        \n",
       "84  0              -1       ... NA       NA         NA      NA       NA        \n",
       "86  0              -1       ... NA       NA         NA      NA       NA        \n",
       "91  0              -1       ... NA       NA         NA      NA       NA        \n",
       "92  0              -1       ... NA       NA         NA      NA       NA        \n",
       "93  0              -1       ... NA       NA         NA      NA       NA        \n",
       "94  0              -1       ... NA       NA         NA      NA       NA        \n",
       "95  0              -1       ... NA       NA         NA      NA       NA        \n",
       "99  0              -1       ... NA       NA         NA      NA       NA        \n",
       "103 0              -1       ... NA       NA         NA      NA       NA        \n",
       "105 0              -1       ... NA       NA         NA      NA       NA        \n",
       "107 0              -1       ... NA       NA         NA      NA       NA        \n",
       "109 0              -1       ... NA       NA         NA      NA       NA        \n",
       "117 0              -1       ... NA       NA         NA      NA       NA        \n",
       "... ...            ...          ...      ...        ...     ...      ...       \n",
       "176 0              -1       ... NA       NA         NA      NA       NA        \n",
       "177 0              -1       ... NA       NA         NA      NA       NA        \n",
       "179 0              -1       ... NA       NA         NA      NA       NA        \n",
       "182 0              -1       ... NA       NA         NA      NA       NA        \n",
       "183 0              -1       ... NA       NA         NA      NA       NA        \n",
       "184 0              -1       ... NA       NA         NA      NA       NA        \n",
       "186 0              -1       ... NA       NA         NA      NA       NA        \n",
       "187 0              -1       ... NA       NA         NA      NA       NA        \n",
       "188 0              -1       ... NA       NA         NA      NA       NA        \n",
       "191 0              -1       ... NA       NA         NA      NA       NA        \n",
       "192 0              -1       ... NA       NA         NA      NA       NA        \n",
       "195 0              -1       ... NA       NA         NA      NA       NA        \n",
       "196 0              -1       ... NA       NA         NA      NA       NA        \n",
       "197 0              -1       ... NA       NA         NA      NA       NA        \n",
       "198 0              -1       ... NA       NA         NA      NA       NA        \n",
       "200 0              -1       ... NA       NA         NA      NA       NA        \n",
       "201 0              -1       ... NA       NA         NA      NA       NA        \n",
       "206 0              -1       ... NA       NA         NA      NA       NA        \n",
       "209 0              -1       ... NA       NA         NA      NA       NA        \n",
       "215 0              -1       ... NA       NA         NA      NA       NA        \n",
       "216 0              -1       ... NA       NA         NA      NA       NA        \n",
       "221 0              -1       ... NA       NA         NA      NA       NA        \n",
       "223 0              -1       ... NA       NA         NA      NA       NA        \n",
       "235 0              -1       ... NA       NA         NA      NA       NA        \n",
       "237 0              -1       ... NA       NA         NA      NA       NA        \n",
       "239 0              -1       ... NA       NA         NA      NA       NA        \n",
       "240 0              -1       ... NA       NA         NA      NA       NA        \n",
       "244 0              -1       ... NA       NA         NA      NA       NA        \n",
       "245 0              -1       ... NA       NA         NA      NA       NA        \n",
       "250 0              -1       ... NA       NA         NA      NA       NA        \n",
       "    Color_8 p_confidence response_time bin1 bin2\n",
       "10  NA      7            2087          3    1   \n",
       "11  NA      2            1877          9    4   \n",
       "12  NA      5            2016          4    1   \n",
       "19  NA      7            2884          9    2   \n",
       "24  NA      7             889          8    1   \n",
       "30  NA      7            1450          7    9   \n",
       "33  NA      7             879          8    9   \n",
       "34  NA      0            1168          5    2   \n",
       "43  NA      7             756          9    2   \n",
       "45  NA      4            2093          1    4   \n",
       "52  NA      7            1314          6    7   \n",
       "55  NA      3            1336          6    8   \n",
       "61  NA      7            1184          4    1   \n",
       "64  NA      7            1247          1    8   \n",
       "77  NA      7            1020          3    1   \n",
       "78  NA      5            2105          6    7   \n",
       "81  NA      1             914          1    6   \n",
       "84  NA      1             849          6    9   \n",
       "86  NA      2            1471          5    2   \n",
       "91  NA      7            1516          1    4   \n",
       "92  NA      6            1429          6    1   \n",
       "93  NA      0             939          1    3   \n",
       "94  NA      0             563          8    3   \n",
       "95  NA      1            1245          4    1   \n",
       "99  NA      7             595          7    4   \n",
       "103 NA      7             748          3    5   \n",
       "105 NA      0             710          8    6   \n",
       "107 NA      3            2474          4    8   \n",
       "109 NA      5            1580          1    3   \n",
       "117 NA      0            1305          9    6   \n",
       "... ...     ...          ...           ...  ... \n",
       "176 NA      3            2146          8    9   \n",
       "177 NA      2            2455          7    9   \n",
       "179 NA      7             729          3    1   \n",
       "182 NA      6            1092          9    4   \n",
       "183 NA      2            1619          8    5   \n",
       "184 NA      3            1461          6    3   \n",
       "186 NA      7             881          8    6   \n",
       "187 NA      4            2441          3    1   \n",
       "188 NA      4             612          6    4   \n",
       "191 NA      7             713          5    7   \n",
       "192 NA      7             783          8    2   \n",
       "195 NA      7             554          7    1   \n",
       "196 NA      3            1561          2    6   \n",
       "197 NA      0             787          3    2   \n",
       "198 NA      4            1131          7    4   \n",
       "200 NA      6            1128          5    2   \n",
       "201 NA      7             814          2    3   \n",
       "206 NA      1             980          1    4   \n",
       "209 NA      7             659          2    9   \n",
       "215 NA      0             878          4    7   \n",
       "216 NA      2            1442          2    1   \n",
       "221 NA      5            2110          4    6   \n",
       "223 NA      7             650          4    6   \n",
       "235 NA      7             936          2    8   \n",
       "237 NA      0             843          7    1   \n",
       "239 NA      7            1759          5    7   \n",
       "240 NA      7             711          2    7   \n",
       "244 NA      5            2728          5    2   \n",
       "245 NA      7            1015          1    4   \n",
       "250 NA      0             829          4    1   "
      ]
     },
     "metadata": {},
     "output_type": "display_data"
    }
   ],
   "source": [
    "test_data"
   ]
  },
  {
   "cell_type": "code",
   "execution_count": 38,
   "metadata": {},
   "outputs": [
    {
     "data": {
      "image/png": "[encoded data removed]",
      "text/plain": [
       "plot without title"
      ]
     },
     "metadata": {},
     "output_type": "display_data"
    }
   ],
   "source": [
    "dissim_test"
   ]
  },
  {
   "cell_type": "code",
   "execution_count": 39,
   "metadata": {},
   "outputs": [
    {
     "data": {
      "image/png": "[encoded data removed]",
      "text/plain": [
       "plot without title"
      ]
     },
     "metadata": {},
     "output_type": "display_data"
    }
   ],
   "source": [
    "asymplot_test"
   ]
  },
  {
   "cell_type": "code",
   "execution_count": 15,
   "metadata": {},
   "outputs": [],
   "source": [
    "# making a matrix symmetric. Stolen from dclone: https://rdrr.io/github/datacloning/dclone/src/R/make.symmetric.R\n",
    "make.symmetric <-\n",
    "function(x)\n",
    "{\n",
    "    if (dim(x)[1] != dim(x)[2])\n",
    "        stop(\"'x' is not sqare matrix\")\n",
    "    rval <- t(x)\n",
    "    m <- (x[lower.tri(x)] + rval[lower.tri(rval)]) / 2\n",
    "    rval[lower.tri(rval)] <- m\n",
    "    rval <- t(rval)\n",
    "    rval[lower.tri(rval)] <- m\n",
    "    rval\n",
    "}"
   ]
  },
  {
   "cell_type": "markdown",
   "metadata": {},
   "source": [
    "#### Multidimensional Scaling Plots"
   ]
  },
  {
   "cell_type": "code",
   "execution_count": 16,
   "metadata": {},
   "outputs": [],
   "source": [
    "# turn a dataset into a matrix\n",
    "df2mat <- function(datadf,eccentricity1,eccentricity2,dependent='color'){\n",
    "    \n",
    "    # select only the eccentricities we want to keep, e.g. (foveal, foveal)\n",
    "    datadf = subset(datadf, Circle_1 == eccentricity1)\n",
    "    datadf = subset(datadf, Circle_2 == eccentricity2)\n",
    "    \n",
    "    if(dependent == 'position'){ # using stimulus location as a negative control\n",
    "        # aggregate over the remaining columns of interest\n",
    "        nmdsdata <- aggregate(datadf, by = list(datadf$bin1, datadf$bin2),FUN=mean)\n",
    "        nmdsdata$bin1 <- nmdsdata$Group.1\n",
    "        nmdsdata$bin2 <- nmdsdata$Group.2\n",
    "        \n",
    "        nmdsdata = subset(nmdsdata, select = c(\"bin1\",\"bin2\",\"p_confidence\"))  # get rid of unnecessary columns\n",
    "        nmdsmatrix <- spread(nmdsdata, bin1, p_confidence)\n",
    "    } else { # color as per normal\n",
    "        # aggregate over the remaining columns of interest\n",
    "        nmdsdata <- aggregate(datadf, by = list(datadf$Color_1, datadf$Color_2),FUN=mean)\n",
    "        nmdsdata$Color_1 <- nmdsdata$Group.1\n",
    "        nmdsdata$Color_2 <- nmdsdata$Group.2\n",
    "        \n",
    "        nmdsdata = subset(nmdsdata, select = c(\"Color_1\",\"Color_2\",\"p_confidence\"))  # get rid of unnecessary columns\n",
    "        nmdsmatrix <- spread(nmdsdata, Color_1, p_confidence)\n",
    "    }\n",
    "    \n",
    "    # convert the dataframe to a matrix\n",
    "    nmdsmatrix <- data.matrix(nmdsmatrix)\n",
    "    nmdsmatrix <- nmdsmatrix[,-1] # get rid of the labels in the first column, it messes up the code\n",
    "    \n",
    "    # having 0 dissimilarity between identical objects messes up the algorithm\n",
    "    # changing the 0 values to an arbitrarily small value, but this is not a good long-term solution\n",
    "    # need to find a better way of doing this\n",
    "    nmdsmatrix[nmdsmatrix == 0] <- 0.01\n",
    "    \n",
    "    \n",
    "    nmdsmatrix <- make.symmetric(nmdsmatrix) # averaging over Color_1 vs. Color_2 & Color_2 vs. Color_1    \n",
    "    return(nmdsmatrix)\n",
    "}"
   ]
  },
  {
   "cell_type": "code",
   "execution_count": 17,
   "metadata": {},
   "outputs": [],
   "source": [
    "# convert a standard matrix to a distance matrix\n",
    "mat2dist <- function(mat){\n",
    "    \n",
    "    return(distmat <- as.dist(mat))\n",
    "}"
   ]
  },
  {
   "cell_type": "markdown",
   "metadata": {},
   "source": [
    "Non-metric multidimensional scaling (NMDS)"
   ]
  },
  {
   "cell_type": "code",
   "execution_count": 18,
   "metadata": {},
   "outputs": [],
   "source": [
    "# find the nmds fit for a dataset\n",
    "nmdsfit <- function(distmatrix){\n",
    "      \n",
    "    fit <- isoMDS(distmatrix,k=2, maxit=100)\n",
    "    return(fit)\n",
    "}"
   ]
  },
  {
   "cell_type": "code",
   "execution_count": 19,
   "metadata": {},
   "outputs": [],
   "source": [
    "# plot the nmds fit\n",
    "nmdsplot <- function(fit, colors, abcolors, eccentricity1, eccentricity2){\n",
    "    \n",
    "    # get labels\n",
    "    \n",
    "    # change the nmdsfit back to a dataframe\n",
    "    nmdsdf <- as.data.frame(fit)\n",
    "    \n",
    "    plot <-     ggplot(nmdsdf, aes(x = points.1, y = points.2, color=colors, fill=colors)) + geom_point(size =10) + \n",
    "                scale_colour_manual(values = abcolors) + scale_fill_manual(values = abcolors) + \n",
    "                xlab(\"Dimension 1\") + ylab(\"Dimension 2\") + \n",
    "                ggtitle(paste(e2l(eccentricity1),e2l(eccentricity2),'Non-metric MDS',sep=' - '))\n",
    "    return(plot)\n",
    "}"
   ]
  },
  {
   "cell_type": "markdown",
   "metadata": {},
   "source": [
    "Classical multidimensional scaling"
   ]
  },
  {
   "cell_type": "code",
   "execution_count": 20,
   "metadata": {},
   "outputs": [],
   "source": [
    "# find the cmds fit for a dataset\n",
    "cmdsfit <- function(distmatrix){\n",
    "    \n",
    "    fit <- cmdscale(distmatrix,k=2)\n",
    "    return(fit)\n",
    "}"
   ]
  },
  {
   "cell_type": "code",
   "execution_count": 21,
   "metadata": {},
   "outputs": [],
   "source": [
    "# plot the cmds fit\n",
    "cmdsplot <- function(fit, colors, abcolors, eccentricity1, eccentricity2){\n",
    "    \n",
    "    # get labels\n",
    "    \n",
    "    # change the nmdsfit back to a dataframe\n",
    "    nmdsdf <- as.data.frame(fit)\n",
    "    \n",
    "    plot <-     ggplot(nmdsdf, aes(x = V1, y = V2, color=colors, fill=colors)) + geom_point(size =10) + \n",
    "                scale_colour_manual(values = abcolors) + scale_fill_manual(values = abcolors) + \n",
    "                xlab(\"Dimension 1\") + ylab(\"Dimension 2\") + \n",
    "                ggtitle(paste(e2l(eccentricity1),e2l(eccentricity2),'Classical MDS',sep=' - '))\n",
    "    return(plot)\n",
    "}"
   ]
  },
  {
   "cell_type": "markdown",
   "metadata": {},
   "source": [
    "#### Some control measure plots"
   ]
  },
  {
   "cell_type": "markdown",
   "metadata": {},
   "source": [
    "Reaction time vs. similarity judgements"
   ]
  },
  {
   "cell_type": "code",
   "execution_count": 204,
   "metadata": {},
   "outputs": [],
   "source": [
    "# similarity judgement histogram\n",
    "simhistplot <- function(datadf){\n",
    "    \n",
    "   plot <- ggplot(datadf, aes(x = p_confidence)) + geom_bar(aes(y = ..prop..)) +\n",
    "    scale_x_discrete(limits=c(0,1,2,3,4,5,6,7), name = 'Dissimilarity') +\n",
    "    ylab('Frequency') + ylim(0,0.8)\n",
    "    return(plot)\n",
    "}\n",
    "\n",
    "simhistplot_summary <- function(datadf){\n",
    "    \n",
    "    datadf$subject <- as.character(datadf$subject) # necessary for visualisation\n",
    "    \n",
    "    plot <- ggplot(datadf, aes(x = p_confidence)) + \n",
    "    geom_line(stat='count',aes(y = ..prop..,group = subject),color='#CC9933') +\n",
    "    geom_line(stat='count',aes(y = ..prop..),size=1.5) +\n",
    "    scale_x_discrete(limits=c(0,1,2,3,4,5,6,7), name = 'Dissimilarity') +\n",
    "    ylab('Frequency') + ylim(0,0.8)\n",
    "    return(plot)\n",
    "    \n",
    "}"
   ]
  },
  {
   "cell_type": "code",
   "execution_count": 135,
   "metadata": {},
   "outputs": [],
   "source": [
    "# reaction time for each similarity\n",
    "rsplot <- function(datadf){\n",
    "    \n",
    "    plot <- ggplot(datadf, aes(x= p_confidence, y=response_time)) + \n",
    "    stat_summary(fun.y = mean, geom = \"bar\") + \n",
    "    stat_summary(fun.data = mean_se, geom = \"errorbar\", size =0.5, aes(width=0.5)) +\n",
    "    scale_x_discrete(limits=c(0,1,2,3,4,5,6,7), name = 'Dissimilarity') + ylab('Reaction Time (ms)') +\n",
    "    theme(legend.position = \"none\") +\n",
    "    ylim(0,4000) # anyone taking more than 4 seconds has probably mindwandered\n",
    "    \n",
    "    return(plot)\n",
    "}\n",
    "\n",
    "rsplot_summary <- function(datadf){\n",
    "    \n",
    "    datadf$subject <- as.character(datadf$subject) # necessary for visualisation\n",
    "    \n",
    "    \n",
    "    \n",
    "    plot <- ggplot(datadf, aes(x= p_confidence, y=response_time,group = subject, color = subject)) + \n",
    "    stat_summary(fun.y = mean, geom = \"line\", size=0.8) + \n",
    "    #stat_summary(fun.data = mean_se, geom = \"errorbar\", size =0.5, aes(width=0.5)) +\n",
    "    scale_x_discrete(limits=c(0,1,2,3,4,5,6,7), name = 'Dissimilarity') + ylab('Mean Reaction Time (ms)') +\n",
    "    theme(legend.position = \"none\") +\n",
    "    ylim(0,4000) # anyone taking more than 4 seconds has probably mindwandered \n",
    "    \n",
    "    return(plot)\n",
    "    \n",
    "}"
   ]
  },
  {
   "cell_type": "code",
   "execution_count": 24,
   "metadata": {},
   "outputs": [],
   "source": [
    "# reaction time raincloud plot\n",
    "rsplot_raincloud <- function(datadf,xtype='linear'){\n",
    "    \n",
    "    datadf$subject <- as.character(datadf$subject) # necessary for visualisation  \n",
    "    datadf$p_confidence <- as.character(datadf$p_confidence) # necessary for visualisation\n",
    "    \n",
    "    ylabtext = 'Reaction Time (ms)'\n",
    "    \n",
    "    plot <- ggplot(datadf, aes(y = response_time, x = p_confidence, fill = p_confidence)) +\n",
    "            geom_flat_violin(position = position_nudge(x = .2, y = 0), alpha = .8) +\n",
    "            geom_point(aes(y = response_time, color = p_confidence),\n",
    "                   position = position_jitter(width = .15), size = .5, alpha = 0.8) +\n",
    "            geom_boxplot(width = .1, guides = FALSE, outlier.shape = NA, alpha = 0.5) +\n",
    "            expand_limits(x = 5.25) +\n",
    "            guides(fill = FALSE) +\n",
    "            guides(color = FALSE) +\n",
    "            scale_color_brewer(palette = \"Spectral\") +\n",
    "            scale_fill_brewer(palette = \"Spectral\") +\n",
    "            xlab('Dissimilarity') + ylab(\"Reaction Time (ms)\")\n",
    "            # coord_flip() +\n",
    "            theme_bw() +\n",
    "            raincloud_theme\n",
    "    \n",
    "    if(xtype == 'log'){\n",
    "        plot <- plot + scale_y_continuous(trans='log10')\n",
    "    } else{\n",
    "        plot <- plot + ylim(0,5000)\n",
    "    }\n",
    "    \n",
    "    return(plot)\n",
    "}"
   ]
  },
  {
   "cell_type": "code",
   "execution_count": 321,
   "metadata": {},
   "outputs": [],
   "source": [
    "# correlation between reaction times and similarity judgements\n",
    "# grouping at individual trial, individual participant, experiment or entire population level\n",
    "rt_similarity_cor <- function(datadf,level='participant'){\n",
    "        \n",
    "    if(level==\"participant\"){\n",
    "        datadf <- datadf %>% \n",
    "                group_by(subject) %>% \n",
    "                mutate(rt_similarity_correlation = cor(p_confidence,response_time))\n",
    "        datadf <- aggregate(datadf, by=list(datadf$subject), FUN = mean)\n",
    "\n",
    "                \n",
    "    }\n",
    "    return(datadf)\n",
    "    \n",
    "}\n",
    "\n",
    "rt_similarity_plot <- function(datadf,xlabel='BLANK'){\n",
    "    \n",
    "    datadf <- rt_similarity_cor(datadf)\n",
    "    \n",
    "    datadf[xlabel] = xlabel\n",
    "    \n",
    "    plot <- ggplot(datadf,aes(x=xlabel,y=rt_similarity_correlation)) + \n",
    "                geom_boxplot() + \n",
    "                geom_dotplot(binaxis='y',stackdir='center',dotsize=0.75) +\n",
    "                theme(text = element_text(size=15)) + xlab(\"\")\n",
    "                ggtitle(title)\n",
    "    \n",
    "    plot <- plot + ylab(\"Correlation (Spearman)\") + ylim(-1,1)\n",
    "    plot <- plot + geom_hline(yintercept=0, linetype=\"dashed\", color = \"blue\")\n",
    "    return(plot)\n",
    "}"
   ]
  },
  {
   "cell_type": "code",
   "execution_count": 372,
   "metadata": {},
   "outputs": [],
   "source": [
    "# mean reaction time vs. antitrace-trace difference\n",
    "rt_difference <- function(datadf){\n",
    "    \n",
    "    subjectlist <- sort(unique(datadf$subject)) # obtain a list of all the subjects\n",
    "    \n",
    "    for(ID in subjectlist){\n",
    "        tempdf <- subset(datadf, subject == ID)\n",
    "        datadf$difference[datadf$subject == ID] = unlist(antitrace_avg(tempdf),use.names=FALSE)[1] - \n",
    "                   unlist(trace_avg(tempdf),use.names=FALSE)[1]\n",
    "    }\n",
    "        datadf <- aggregate(datadf, by=list(datadf$subject), FUN = mean)\n",
    "    return(datadf)\n",
    "}\n",
    "\n",
    "rt_difference_plot <- function(datadf,xtype='linear'){\n",
    "    \n",
    "    plot <- ggplot(rt_difference(datadf), aes(x=response_time, y=difference)) +\n",
    "            geom_point() + xlab(\"Mean Reaction Time\") + ylab(\"Antitrace - Trace\")\n",
    "    \n",
    "    if(xtype == 'log'){\n",
    "        plot <- plot + scale_x_continuous(trans='log10')\n",
    "    } else{\n",
    "        plot <- plot + xlim(0,5000)\n",
    "    }\n",
    "    plot <- plot + geom_smooth(method=lm) # linear line of best fit\n",
    "    return(plot)\n",
    "}"
   ]
  },
  {
   "cell_type": "code",
   "execution_count": 457,
   "metadata": {},
   "outputs": [],
   "source": [
    "# trace values vs. trial #\n",
    "trace_by_trial_plot <- function(datadf,graph='point',mode='relative'){\n",
    "    \n",
    "     datadf$subject <- as.character(datadf$subject) # necessary for visualisation  \n",
    "    \n",
    "    datadf <- subset(datadf, Color_1 == Color_2)\n",
    "    \n",
    "    if(mode=='relative'){\n",
    "        datadf <- datadf %>% group_by(subject) %>% mutate(trialnum = row_number())\n",
    "    } else{\n",
    "        datadf$trialnum <- datadf$trial_number\n",
    "    }\n",
    "        \n",
    "    if(graph=='point'){\n",
    "        plot <- ggplot(datadf, aes(x=trialnum, y = p_confidence, group = subject, color = subject)) + geom_point()\n",
    "    } else if (graph == 'boxplot'){\n",
    "        plot <- ggplot(datadf, aes(x=trialnum,y = p_confidence, group = trialnum)) + geom_boxplot() #????\n",
    "    } else if (graph == 'lineplot'){\n",
    "        plot <- ggplot(datadf, aes(x=trialnum, y = p_confidence,group=subject, color = subject)) + geom_line()\n",
    "    }\n",
    "    \n",
    "    plot <- plot + ylab('Dissimilarity') +  theme(legend.position='none')\n",
    "    \n",
    "    return(plot)\n",
    "    \n",
    "}"
   ]
  },
  {
   "cell_type": "code",
   "execution_count": 25,
   "metadata": {},
   "outputs": [],
   "source": [
    "# subject info\n",
    "sumplot <- function(datadf){\n",
    "    \n",
    "    # change ms to s, add the delay for each trial\n",
    "    datadf$response_time <- ((datadf$response_time + 0.125*nrow(datadf)) / 1000)\n",
    "    \n",
    "    plot <- ggplot(datadf, aes(x=subject, y = response_time)) + \n",
    "    stat_summary(fun.y = sum, geom = \"bar\") + ylim(0,1000) +\n",
    "    ylab('Response Time Total') + theme(axis.title.x=element_blank(), axis.text.x = element_text(size=20))\n",
    "    \n",
    "    return(plot)\n",
    "}"
   ]
  },
  {
   "cell_type": "markdown",
   "metadata": {},
   "source": [
    "### Statistics"
   ]
  },
  {
   "cell_type": "markdown",
   "metadata": {},
   "source": [
    "Useful functions"
   ]
  },
  {
   "cell_type": "code",
   "execution_count": 26,
   "metadata": {},
   "outputs": [],
   "source": [
    "# compare the foveal and peripheral matrices to each other\n",
    "fvp_test <- function(datadf,dependent='color'){\n",
    "    \n",
    "    if(dependent=='position'){\n",
    "        # first, turn the dataframe into the relevant matrices\n",
    "        fmatrix <- df2mat(datadf, l2e('Foveal'), l2e('Foveal'),'position')\n",
    "        #fpmatrix <- distmatrix(datadf, l2e('Foveal'), l2e('Peripheral'))\n",
    "        pmatrix <- df2mat(datadf, l2e('Peripheral'), l2e('Peripheral'),'position')\n",
    "    } else{\n",
    "        # first, turn the dataframe into the relevant matrices\n",
    "        fmatrix <- df2mat(datadf, l2e('Foveal'), l2e('Foveal'))\n",
    "        #fpmatrix <- distmatrix(datadf, l2e('Foveal'), l2e('Peripheral'))\n",
    "        pmatrix <- df2mat(datadf, l2e('Peripheral'), l2e('Peripheral'))\n",
    "    }\n",
    "    #Fovea vs Periphery\n",
    "    test <- mantel(fmatrix, pmatrix, method=\"spearman\",permutations = 9999)\n",
    "    return(test)\n",
    "}"
   ]
  },
  {
   "cell_type": "code",
   "execution_count": 27,
   "metadata": {},
   "outputs": [],
   "source": [
    "# compare the each of the foveal and peripheral matrices to a random uniform distribution using a ... test\n",
    "# not actually sure this is conceptually possible or even makes sense\n",
    "rand_test <- function(datadf){\n",
    "    \n",
    "    # first, turn the dataframe into the relevant matrices\n",
    "    fmatrix <- df2mat(datadf, l2e('Foveal'), l2e('Foveal'))\n",
    "    #fpmatrix <- distmatrix(datadf, l2e('Foveal'), l2e('Peripheral'))\n",
    "    pmatrix <- df2mat(datadf, l2e('Peripheral'), l2e('Peripheral'))\n",
    "    \n",
    "    \n",
    "    # compare\n",
    "    ftest <- \n",
    "    ptest <- \n",
    "    return(list(\"ftest\" = ftest, \"ptest\" = ptest)) # use index of result to get the foveal or peripheral comparison\n",
    "}\n",
    "\n"
   ]
  },
  {
   "cell_type": "code",
   "execution_count": 28,
   "metadata": {},
   "outputs": [],
   "source": [
    "# calculate trace average, small values presumably indicate subjects not just saying everything is completely dissimilar\n",
    "# will also need a complementary method to deal with them saying everything is the same? Might be an inappropriate\n",
    "# a-priori imposition though, I probably can't tell people how similar different colours should be...\n",
    "\n",
    "trace_avg <- function(datadf){\n",
    "    \n",
    "    # first, turn the dataframe into the relevant matrices\n",
    "    fmatrix <- df2mat(datadf, l2e('Foveal'), l2e('Foveal'))\n",
    "    #fpmatrix <- distmatrix(datadf, l2e('Foveal'), l2e('Peripheral'))\n",
    "    pmatrix <- df2mat(datadf, l2e('Peripheral'), l2e('Peripheral'))\n",
    "    \n",
    "    \n",
    "    \n",
    "    return(list( (sum(diag(fmatrix))/nrow(fmatrix)), (sum(diag(pmatrix))/nrow(pmatrix))))\n",
    "}"
   ]
  },
  {
   "cell_type": "code",
   "execution_count": 29,
   "metadata": {},
   "outputs": [],
   "source": [
    "# find the 'anti-trace' of a matrix\n",
    "antitrace <- function(mat){\n",
    "    \n",
    "    sum = 0\n",
    "    for(i in (1:nrow(mat))){\n",
    "        k = as.numeric(mat[ i, as.integer((ncol(mat)/2+i) %% ncol(mat))+1 ])\n",
    "        sum = sum + k\n",
    "    }\n",
    "    return(sum/nrow(mat))\n",
    "}"
   ]
  },
  {
   "cell_type": "code",
   "execution_count": 30,
   "metadata": {},
   "outputs": [],
   "source": [
    "# calculates the average of the 'anti-trace', the values I'd expect to be the most dissimilar.\n",
    "# this may not be an appropriate imposition on subjects...\n",
    "\n",
    "antitrace_avg <- function(datadf){\n",
    "    \n",
    "    # first, turn the dataframe into the relevant matrices\n",
    "    fmatrix <- df2mat(datadf, l2e('Foveal'), l2e('Foveal'))\n",
    "    #fpmatrix <- distmatrix(datadf, l2e('Foveal'), l2e('Peripheral'))\n",
    "    pmatrix <- df2mat(datadf, l2e('Peripheral'), l2e('Peripheral'))\n",
    "    \n",
    "    return(list(antitrace(fmatrix), antitrace(pmatrix)))\n",
    "}"
   ]
  },
  {
   "cell_type": "code",
   "execution_count": 31,
   "metadata": {},
   "outputs": [],
   "source": [
    "# just get a simple measure of if the matrices are correlated, irrespective of treating them as distance matrices\n",
    "matrixcor <- function(datadf,dependent='color'){\n",
    "    \n",
    "    if(dependent == 'position'){\n",
    "        # first, turn the dataframe into the relevant matrices\n",
    "        fmatrix <- df2mat(datadf, l2e('Foveal'), l2e('Foveal'),'position')\n",
    "        #fpmatrix <- distmatrix(datadf, l2e('Foveal'), l2e('Peripheral'))\n",
    "        pmatrix <- df2mat(datadf, l2e('Peripheral'), l2e('Peripheral'),'position')\n",
    "    } else {\n",
    "        # first, turn the dataframe into the relevant matrices\n",
    "        fmatrix <- df2mat(datadf, l2e('Foveal'), l2e('Foveal'))\n",
    "        #fpmatrix <- distmatrix(datadf, l2e('Foveal'), l2e('Peripheral'))\n",
    "        pmatrix <- df2mat(datadf, l2e('Peripheral'), l2e('Peripheral'))\n",
    "    }\n",
    "    \n",
    "    return(cor(c(fmatrix), c(pmatrix), method = \"spearman\"))\n",
    "}"
   ]
  },
  {
   "cell_type": "code",
   "execution_count": 32,
   "metadata": {},
   "outputs": [],
   "source": [
    "# get median reaction time\n",
    "rt_avg <- function(datadf){\n",
    "    return(median(datadf$response_time))\n",
    "}"
   ]
  },
  {
   "cell_type": "markdown",
   "metadata": {},
   "source": [
    "Run the analysis"
   ]
  },
  {
   "cell_type": "code",
   "execution_count": 33,
   "metadata": {},
   "outputs": [],
   "source": [
    "# stats for all the subjects\n",
    "allsubjectstats <- function(datadf){\n",
    "    \n",
    "    subjectlist <- sort(unique(datadf$subject)) # obtain a list of all the subjects\n",
    "\n",
    "\n",
    "    for (subjectid in subjectlist){\n",
    "        \n",
    "        subjectdf = subset(datadf, subject == subjectid) # select the df for subject of interest\n",
    "        cat(\"SUBJECT: \",subjectid,'\\n') # print subject id\n",
    "        print(\"Mantel Test: \")\n",
    "        print(fvp_test(subjectdf))\n",
    "        print(\"Matrices correlation: \")\n",
    "        print(matrixcor(subjectdf))\n",
    "        print(\"Quality control measures:\")\n",
    "        print(\"Trace average:\")\n",
    "        print(trace_avg(subjectdf))\n",
    "        print(\"Anti-trace average:\")\n",
    "        print(antitrace_avg(subjectdf))\n",
    "    }\n",
    "}"
   ]
  },
  {
   "cell_type": "code",
   "execution_count": 34,
   "metadata": {
    "scrolled": true
   },
   "outputs": [],
   "source": [
    "# function to aggregate everyone's data together\n",
    "aggregate_df <- function(datadf,dependent='color'){\n",
    "\n",
    "    # aggregate everyone's data together for the matrices\n",
    "    everyonedata <- aggregate(datadf, by=list(\n",
    "        datadf$Color_1,\n",
    "        datadf$Color_2,\n",
    "        datadf$Circle_1,\n",
    "        datadf$Circle_2,\n",
    "        datadf$bin1,\n",
    "        datadf$bin2\n",
    "        ), FUN=mean, \n",
    "    )\n",
    "\n",
    "    # correct the column names\n",
    "    everyonedata$Color_1 <- everyonedata$Group.1\n",
    "    everyonedata$Color_2 <- everyonedata$Group.2\n",
    "    everyonedata$Circle_1 <- everyonedata$Group.3\n",
    "    everyonedata$Circle_2 <- everyonedata$Group.4\n",
    "    everyonedata$bin1 <- everyonedata$Group.5\n",
    "    everyonedata$bin2 <- everyonedata$Group.6\n",
    "    \n",
    "    return(everyonedata)\n",
    "}"
   ]
  },
  {
   "cell_type": "code",
   "execution_count": 35,
   "metadata": {},
   "outputs": [],
   "source": [
    "# compliance checker\n",
    "compliance_checker <- function(datadf,eccentricity,trace_cutoff,antitrace_cutoff){\n",
    "    \n",
    "    subjectlist <- sort(unique(datadf$subject)) # obtain a list of all the subjects\n",
    "    n_subject = length(subjectlist)\n",
    "    trace_fail = 0\n",
    "    antitrace_fail = 0\n",
    "    \n",
    "    if(eccentricity == 'Foveal'){\n",
    "        e_ind = 1\n",
    "    } else if (eccentricity == 'Peripheral'){\n",
    "        e_ind = 2\n",
    "    }\n",
    "\n",
    "    for (subjectid in subjectlist){\n",
    "        subjectdf = subset(datadf, subject == subjectid) # select the df for subject of interest\n",
    "        if(trace_avg(subjectdf)[e_ind] > trace_cutoff){\n",
    "            trace_fail = trace_fail + 1\n",
    "        }\n",
    "        if(antitrace_avg(subjectdf)[e_ind] < antitrace_cutoff){\n",
    "            antitrace_fail = antitrace_fail + 1\n",
    "        }\n",
    "    }\n",
    "    print(paste(\"Trace non-compliance: \",trace_fail,\"/\",n_subject))\n",
    "    print(paste(\"Anti-trace non-compliance: \",antitrace_fail,\"/\",n_subject))\n",
    "}"
   ]
  },
  {
   "cell_type": "code",
   "execution_count": 36,
   "metadata": {},
   "outputs": [],
   "source": [
    "# summary stats\n",
    "summarystats <- function(datadf,dependent='color'){\n",
    "    if(dependent=='position'){\n",
    "        print(\"Mantel Test: \")\n",
    "        print(fvp_test(aggregate_df(datadf),'position'))\n",
    "        print(\"Matrices correlation: \")\n",
    "        print(matrixcor(aggregate_df(datadf),'position'))\n",
    "    } else {\n",
    "        print(\"Mantel Test: \")\n",
    "        print(fvp_test(aggregate_df(datadf)))\n",
    "        print(\"Matrices correlation: \")\n",
    "        print(matrixcor(aggregate_df(datadf)))\n",
    "    }\n",
    "    \n",
    "    \n",
    "    print(\"Foveal compliance:\")\n",
    "    compliance_checker(datadf,'Foveal')\n",
    "    print(\"Peripheral compliance:\")\n",
    "    compliance_checker(datadf,'Peripheral')\n",
    "}"
   ]
  },
  {
   "cell_type": "markdown",
   "metadata": {},
   "source": [
    "## Actual Data Analysis Time"
   ]
  },
  {
   "cell_type": "markdown",
   "metadata": {},
   "source": [
    "#### Initial data pre-processing, before getting to the subject level"
   ]
  },
  {
   "cell_type": "code",
   "execution_count": 27,
   "metadata": {},
   "outputs": [],
   "source": [
    "datadf = read.csv(filename)\n",
    "savestr <- substr(filename,1,nchar(filename)-4) # for saving related files later\n"
   ]
  },
  {
   "cell_type": "code",
   "execution_count": 28,
   "metadata": {},
   "outputs": [],
   "source": [
    "# remove practice trial data\n",
    "datadf <- subset(datadf, trial_number != 0)"
   ]
  },
  {
   "cell_type": "code",
   "execution_count": 29,
   "metadata": {},
   "outputs": [],
   "source": [
    "# changing color values from RGB to hex for graphing purpose\n",
    "datadf$Color_1 <- as.character(datadf$Color_1)\n",
    "datadf$Color_1 <- revalue(datadf$Color_1, \n",
    "                                                    c(  \"1\" = '#FF0000',\n",
    "                                                        \"2\" = '#FFAA00',\n",
    "                                                        \"3\" = '#AAFF00',\n",
    "                                                        \"4\" = '#00FF00',\n",
    "                                                        \"5\" = '#00FFA9',\n",
    "                                                        \"6\" = '#00A9FF',\n",
    "                                                        \"7\" = '#0000FF',\n",
    "                                                        \"8\" = '#AA00FF',\n",
    "                                                        \"9\" = '#FF00AA'))\n",
    "datadf$Color_2 <- as.character(datadf$Color_2)\n",
    "datadf$Color_2 <- revalue(datadf$Color_2, \n",
    "                                                    c(  \"1\" = '#FF0000',\n",
    "                                                        \"2\" = '#FFAA00',\n",
    "                                                        \"3\" = '#AAFF00',\n",
    "                                                        \"4\" = '#00FF00',\n",
    "                                                        \"5\" = '#00FFA9',\n",
    "                                                        \"6\" = '#00A9FF',\n",
    "                                                        \"7\" = '#0000FF',\n",
    "                                                        \"8\" = '#AA00FF',\n",
    "                                                        \"9\" = '#FF00AA'))\n",
    "\n",
    "# colors for the labels\n",
    "colors <- c('#FF0000','#FFAA00','#AAFF00','#00FF00','#00FFA9','#00A9FF','#0000FF','#AA00FF','#FF00AA')\n",
    "abcolors <- sort(colors)"
   ]
  },
  {
   "cell_type": "code",
   "execution_count": 30,
   "metadata": {},
   "outputs": [],
   "source": [
    "# changing from int indicators in the .csv file to more readable labels for eccentricity\n",
    "foveal = -1\n",
    "peripheral = 1"
   ]
  },
  {
   "cell_type": "code",
   "execution_count": 31,
   "metadata": {},
   "outputs": [],
   "source": [
    "# set the maximum and minimum dissimilarity values for later analysis\n",
    "min_val = 0\n",
    "max_val = 6"
   ]
  },
  {
   "cell_type": "code",
   "execution_count": 32,
   "metadata": {},
   "outputs": [],
   "source": [
    "# binning the positions the stimuli were displayed in to use as a control measure later\n",
    "datadf$bin1 <- as.integer((datadf$Position_1+180) / 40) + 1\n",
    "datadf$bin2 <- as.integer((datadf$Position_2+180) / 40) + 1"
   ]
  },
  {
   "cell_type": "code",
   "execution_count": 33,
   "metadata": {},
   "outputs": [],
   "source": [
    "# adding a trial type label\n",
    "label_eccen_type <- function(datadf){\n",
    "    datadf <- datadf %>%\n",
    "    mutate(trial_type = case_when(Circle_1 == l2e('Foveal') & Circle_2 == l2e('Foveal') ~ 'FF',\n",
    "                             Circle_1 == l2e('Foveal') & Circle_2 == l2e('Peripheral') ~ 'FP',\n",
    "                             Circle_1 == l2e('Peripheral') & Circle_2 == l2e('Peripheral') ~ 'PP'))\n",
    "    return(datadf)\n",
    "}"
   ]
  },
  {
   "cell_type": "code",
   "execution_count": 22,
   "metadata": {},
   "outputs": [],
   "source": [
    "datadf <- label_eccen_type(datadf)"
   ]
  },
  {
   "cell_type": "markdown",
   "metadata": {},
   "source": [
    "Some actual data cleaning"
   ]
  },
  {
   "cell_type": "code",
   "execution_count": 23,
   "metadata": {},
   "outputs": [],
   "source": [
    "# function to throw out  participants who didn't finish\n",
    "remove_incomplete <- function(datadf,stimuli_number){\n",
    "    \n",
    "    subjectlist <- sort(unique(datadf$subject)) # obtain a list of all the subjects\n",
    "    \n",
    "    for (ID in subjectlist){ # go through subject by subject\n",
    "        if(as.character(datadf$response_type[1])=='after_1'){\n",
    "            trialnumber = stimuli_number*stimuli_number*2 #F to response, P to response\n",
    "        } else {\n",
    "            trialnumber = stimuli_number*stimuli_number*3 #FF, FP, PP\n",
    "        }\n",
    "        if ( nrow(subset(datadf, subject == ID)) != trialnumber){ # see if they have the appropriate trial numbers\n",
    "            print(paste(\"Subject\",ID,\"did not complete the task\",sep=' '))\n",
    "            datadf <- subset(datadf, subject != ID) # dump the subject\n",
    "        }\n",
    "    }\n",
    "    return(datadf)\n",
    "}"
   ]
  },
  {
   "cell_type": "code",
   "execution_count": 46,
   "metadata": {},
   "outputs": [
    {
     "name": "stdout",
     "output_type": "stream",
     "text": [
      "[1] \"Subject 6012932 did not complete the task\"\n",
      "[1] \"Subject 224000648 did not complete the task\"\n",
      "[1] \"Subject 260546310 did not complete the task\"\n",
      "[1] \"Subject 285547937 did not complete the task\"\n",
      "[1] \"Subject 350715044 did not complete the task\"\n",
      "[1] \"Subject 373747035 did not complete the task\"\n",
      "[1] \"Subject 480971640 did not complete the task\"\n",
      "[1] \"Subject 593249113 did not complete the task\"\n",
      "[1] \"Subject 613876179 did not complete the task\"\n",
      "[1] \"Subject 648596732 did not complete the task\"\n",
      "[1] \"Subject 773122519 did not complete the task\"\n",
      "[1] \"Subject 789422609 did not complete the task\"\n",
      "[1] \"Subject 814700919 did not complete the task\"\n",
      "[1] \"Subject 880753199 did not complete the task\"\n",
      "[1] \"Subject 893284757 did not complete the task\"\n",
      "[1] \"Subject 905952052 did not complete the task\"\n",
      "[1] \"Subject 908241720 did not complete the task\"\n",
      "[1] \"Subject 917271466 did not complete the task\"\n",
      "[1] \"Subject 945283206 did not complete the task\"\n"
     ]
    }
   ],
   "source": [
    "# actually throw out the subjects who didn't complete\n",
    "datadf <- remove_incomplete(datadf,stimuli_number)"
   ]
  },
  {
   "cell_type": "code",
   "execution_count": 47,
   "metadata": {},
   "outputs": [],
   "source": [
    "# function to label participants who meet statistical cleaning assumptions\n",
    "label_noncompliant <- function(datadf,eccentricity,\n",
    "                               trace_cutoff=2,antitrace_cutoff=4,rt_cutoff=1000){\n",
    "    \n",
    "    if(eccentricity == 'Foveal'){\n",
    "        e_ind = 1\n",
    "    } else if (eccentricity == 'Peripheral'){\n",
    "        e_ind = 2\n",
    "    }\n",
    "    \n",
    "    subjectlist <- sort(unique(datadf$subject)) # obtain a list of all the subjects\n",
    "    \n",
    "    for (ID in subjectlist){ # go through subject by subject\n",
    "        subjectdf = subset(datadf, subject == ID) # select the ID for subject of interest \n",
    "        if(trace_avg(subjectdf)[e_ind] < trace_cutoff){\n",
    "            if(antitrace_avg(subjectdf)[e_ind] > antitrace_cutoff){\n",
    "                if(rt_avg(subjectdf) > rt_cutoff){\n",
    "                    datadf$noncompliant[datadf$subject == ID] = 0\n",
    "                } else {\n",
    "                    print(paste(\"Subject\",ID,\"median reaction time of:\",rt_avg(subjectdf),\"ms\",sep=' '))\n",
    "                    datadf$noncompliant[datadf$subject == ID] = 1\n",
    "                }\n",
    "            } else {\n",
    "                print(paste(\"Subject\",ID,\"had an antitrace of:\",antitrace_avg(subjectdf)[e_ind],sep=' '))\n",
    "                datadf$noncompliant[datadf$subject == ID] = 2\n",
    "            }\n",
    "        } else {\n",
    "            print(paste(\"Subject\",ID,\"had a trace of:\",trace_avg(subjectdf)[e_ind],sep=' '))\n",
    "            datadf$noncompliant[datadf$subject == ID] = 3\n",
    "        }\n",
    "    }\n",
    "    print(paste(length(unique(datadf$subject[datadf$noncompliant==0])),\"of\",length(unique(datadf$subject)),\n",
    "                \"were compliant\",sep=' '))\n",
    "    return(datadf)\n",
    "}"
   ]
  },
  {
   "cell_type": "code",
   "execution_count": 48,
   "metadata": {
    "scrolled": true
   },
   "outputs": [
    {
     "name": "stdout",
     "output_type": "stream",
     "text": [
      "[1] \"Subject 2989630 had a trace of: 3.22666666666667\"\n",
      "[1] \"Subject 3478854 had a trace of: 3.44444444444444\"\n",
      "[1] \"Subject 13811877 had a trace of: 3.22222222222222\"\n",
      "[1] \"Subject 36190138 had a trace of: 2.33333333333333\"\n",
      "[1] \"Subject 37316066 had a trace of: 2.66777777777778\"\n",
      "[1] \"Subject 42436095 had a trace of: 2.56111111111111\"\n",
      "[1] \"Subject 51602224 had a trace of: 4.66666666666667\"\n",
      "[1] \"Subject 56511823 had an antitrace of: 3.94444444444444\"\n",
      "[1] \"Subject 69616059 had a trace of: 2.66888888888889\"\n",
      "[1] \"Subject 69621683 had a trace of: 2.44444444444444\"\n",
      "[1] \"Subject 84511979 had a trace of: 4.33555555555556\"\n",
      "[1] \"Subject 93458386 had an antitrace of: 3.77777777777778\"\n",
      "[1] \"Subject 100042706 had a trace of: 3.11333333333333\"\n",
      "[1] \"Subject 102294477 had an antitrace of: 2.83444444444444\"\n",
      "[1] \"Subject 103557621 median reaction time of: 750 ms\"\n",
      "[1] \"Subject 114423889 had a trace of: 5.33333333333333\"\n",
      "[1] \"Subject 129877772 had a trace of: 4.11111111111111\"\n",
      "[1] \"Subject 137230626 median reaction time of: 798 ms\"\n",
      "[1] \"Subject 150323725 median reaction time of: 877 ms\"\n",
      "[1] \"Subject 161439250 had a trace of: 2.33666666666667\"\n",
      "[1] \"Subject 164954928 median reaction time of: 904 ms\"\n",
      "[1] \"Subject 169090807 had a trace of: 2.22222222222222\"\n",
      "[1] \"Subject 191312515 median reaction time of: 562 ms\"\n",
      "[1] \"Subject 204375007 had a trace of: 4.11222222222222\"\n",
      "[1] \"Subject 214391792 median reaction time of: 507 ms\"\n",
      "[1] \"Subject 228232299 median reaction time of: 815 ms\"\n",
      "[1] \"Subject 254636250 had a trace of: 3.11111111111111\"\n",
      "[1] \"Subject 258262801 had a trace of: 2.44444444444444\"\n",
      "[1] \"Subject 260506797 median reaction time of: 994 ms\"\n",
      "[1] \"Subject 264265394 had a trace of: 4\"\n",
      "[1] \"Subject 283489688 had a trace of: 4.11111111111111\"\n",
      "[1] \"Subject 307082850 had a trace of: 5.66777777777778\"\n",
      "[1] \"Subject 323982589 had a trace of: 2.89111111111111\"\n",
      "[1] \"Subject 353174754 had a trace of: 3\"\n",
      "[1] \"Subject 353622601 had a trace of: 3.55555555555556\"\n",
      "[1] \"Subject 384204662 median reaction time of: 964 ms\"\n",
      "[1] \"Subject 394826306 median reaction time of: 637 ms\"\n",
      "[1] \"Subject 399309465 had an antitrace of: 3.83333333333333\"\n",
      "[1] \"Subject 401055739 had a trace of: 2.11111111111111\"\n",
      "[1] \"Subject 409519376 had a trace of: 4\"\n",
      "[1] \"Subject 436277195 had a trace of: 3.00111111111111\"\n",
      "[1] \"Subject 446124706 had an antitrace of: 3.50055555555556\"\n",
      "[1] \"Subject 455190012 had a trace of: 2.44444444444444\"\n",
      "[1] \"Subject 491486781 had a trace of: 4.66666666666667\"\n",
      "[1] \"Subject 501308383 median reaction time of: 880 ms\"\n",
      "[1] \"Subject 506900943 had a trace of: 3.89111111111111\"\n",
      "[1] \"Subject 533236445 had a trace of: 3.33333333333333\"\n",
      "[1] \"Subject 538718181 had a trace of: 4.00222222222222\"\n",
      "[1] \"Subject 578969802 median reaction time of: 580 ms\"\n",
      "[1] \"Subject 600716299 had a trace of: 2.66666666666667\"\n",
      "[1] \"Subject 618946141 had an antitrace of: 3.66666666666667\"\n",
      "[1] \"Subject 637208960 had a trace of: 4.11222222222222\"\n",
      "[1] \"Subject 639826396 median reaction time of: 656 ms\"\n",
      "[1] \"Subject 641161221 had an antitrace of: 2.05944444444444\"\n",
      "[1] \"Subject 658537675 had a trace of: 3\"\n",
      "[1] \"Subject 658938948 had a trace of: 3.89\"\n",
      "[1] \"Subject 663561812 median reaction time of: 969 ms\"\n",
      "[1] \"Subject 669812533 had a trace of: 3.00111111111111\"\n",
      "[1] \"Subject 694064682 had a trace of: 3.55666666666667\"\n",
      "[1] \"Subject 700268324 had a trace of: 2.33555555555556\"\n",
      "[1] \"Subject 712383278 had a trace of: 4.22222222222222\"\n",
      "[1] \"Subject 715861269 had an antitrace of: 3.22277777777778\"\n",
      "[1] \"Subject 741453790 had a trace of: 3.33333333333333\"\n",
      "[1] \"Subject 753646021 had a trace of: 4.11222222222222\"\n",
      "[1] \"Subject 775037105 had a trace of: 6.22222222222222\"\n",
      "[1] \"Subject 781825050 had a trace of: 3.22222222222222\"\n",
      "[1] \"Subject 803219623 had an antitrace of: 3.05555555555556\"\n",
      "[1] \"Subject 810831200 had a trace of: 4.88888888888889\"\n",
      "[1] \"Subject 856353257 had a trace of: 3.44666666666667\"\n",
      "[1] \"Subject 865463691 had a trace of: 4.55666666666667\"\n",
      "[1] \"Subject 870248951 had an antitrace of: 0.895\"\n",
      "[1] \"Subject 871955349 had an antitrace of: 4\"\n",
      "[1] \"Subject 874730448 median reaction time of: 904 ms\"\n",
      "[1] \"Subject 894951684 had an antitrace of: 3.89\"\n",
      "[1] \"Subject 896162305 had a trace of: 3.22222222222222\"\n",
      "[1] \"Subject 897283237 had a trace of: 4.22333333333333\"\n",
      "[1] \"Subject 902151764 median reaction time of: 884 ms\"\n",
      "[1] \"Subject 906755876 had an antitrace of: 3.16666666666667\"\n",
      "[1] \"Subject 914239552 had a trace of: 4.22222222222222\"\n",
      "[1] \"Subject 918087988 had a trace of: 2.33333333333333\"\n",
      "[1] \"Subject 920351409 had a trace of: 4.22444444444444\"\n",
      "[1] \"Subject 920704473 had a trace of: 3.00111111111111\"\n",
      "[1] \"Subject 926295504 had an antitrace of: 3.94444444444444\"\n",
      "[1] \"Subject 935873875 median reaction time of: 961 ms\"\n",
      "[1] \"Subject 939966999 had a trace of: 2.22888888888889\"\n",
      "[1] \"Subject 941169048 had a trace of: 4.11111111111111\"\n",
      "[1] \"Subject 943936794 had a trace of: 4.88888888888889\"\n",
      "[1] \"Subject 952263128 median reaction time of: 571 ms\"\n",
      "[1] \"Subject 954013747 had a trace of: 3.77888888888889\"\n",
      "[1] \"Subject 960904124 had a trace of: 2.89222222222222\"\n",
      "[1] \"Subject 986225336 had a trace of: 2.22555555555556\"\n",
      "[1] \"37 of 128 were compliant\"\n"
     ]
    }
   ],
   "source": [
    "datadf <- label_noncompliant(datadf,'Foveal')"
   ]
  },
  {
   "cell_type": "markdown",
   "metadata": {},
   "source": [
    "## Statistical Analysis"
   ]
  },
  {
   "cell_type": "markdown",
   "metadata": {},
   "source": [
    "#### Determine within-subject central and peripheral QDM correlation & significance"
   ]
  },
  {
   "cell_type": "code",
   "execution_count": 50,
   "metadata": {},
   "outputs": [],
   "source": [
    "# return a list of the fovea matrix vs periphery matrix correlations for each subject\n",
    "\n",
    "fvp_list <- function(datadf){\n",
    "    \n",
    "    subjectlist <- sort(unique(datadf$subject)) # obtain a list of all the subjects\n",
    "    \n",
    "    correlation_list <- vector() # array to store the values in\n",
    "    \n",
    "    for (ID in subjectlist){ # go through subject by subject\n",
    "        subjectdf = subset(datadf, subject == ID) # select the ID for subject of interest\n",
    "        correlation_list <- c(correlation_list, (matrixcor(subjectdf)))\n",
    "    }\n",
    "    return(correlation_list)\n",
    "}"
   ]
  },
  {
   "cell_type": "code",
   "execution_count": 51,
   "metadata": {},
   "outputs": [],
   "source": [
    "# shuffle the rows of a matrix\n",
    "shuffle_matrix <- function(matrix){\n",
    "    shuffled <- matrix[sample(nrow(matrix)),]\n",
    "    return(shuffled)\n",
    "}"
   ]
  },
  {
   "cell_type": "code",
   "execution_count": 52,
   "metadata": {},
   "outputs": [],
   "source": [
    "# return a list of the fovea matrix vs. shuffled periphery matrix for each subject. Pick the # shuffles, default 1000.\n",
    "# returns Fisher-transformed correlations\n",
    "\n",
    "fvp_shuffled_list <- function(datadf, shuffle_num=1000){\n",
    "    \n",
    "    subjectlist <- sort(unique(datadf$subject)) # obtain a list of all the subjects\n",
    "    \n",
    "    \n",
    "    correlation_list <- vector() # array to store the values in\n",
    "    \n",
    "    for (ID in subjectlist){ # go through subject by subject\n",
    "        subjectdf = subset(datadf, subject == ID) # select the ID for subject of interest\n",
    "        \n",
    "        fmatrix <- df2mat(datadf, l2e('Foveal'), l2e('Foveal'))\n",
    "        pmatrix <- df2mat(datadf, l2e('Peripheral'), l2e('Peripheral'))\n",
    "        \n",
    "        temp_list <- vector()\n",
    "        for (i in 1:shuffle_num){ #shuffle the peripheral matrix, add values to temp list\n",
    "            pmatrix_shuffled <- shufflematrix(pmatrix)\n",
    "            temp_list <- c(temp_list, FisherZ(cor(c(fmatrix), c(pmatrix_shuffled), method = \"spearman\")))\n",
    "        }\n",
    "        \n",
    "        correlation_list <- c(correlation_list,mean(temp_list)) # add the average correlation to the list\n",
    "        }\n",
    "    return(correlation_list)\n",
    "}"
   ]
  },
  {
   "cell_type": "code",
   "execution_count": 53,
   "metadata": {},
   "outputs": [],
   "source": [
    "# perform Mann-Whitney U test to compare the within-subject central and peripheral QDMs to randomly shuffled ones\n",
    "within_subject_test <- function(original_correlations,shuffled_correlations){\n",
    "    \n",
    "    wilcox.test(original_correlations,shuffled_correlations)\n",
    "}"
   ]
  },
  {
   "cell_type": "code",
   "execution_count": 54,
   "metadata": {},
   "outputs": [],
   "source": [
    "# do the analysis"
   ]
  },
  {
   "cell_type": "markdown",
   "metadata": {},
   "source": [
    "#### Determine between-subject central to central QDM correlation & significance"
   ]
  },
  {
   "cell_type": "code",
   "execution_count": 55,
   "metadata": {},
   "outputs": [],
   "source": [
    "# obtain the subject similarity matrix\n",
    "i_j_list <- function(datadf, eccentricity1=l2e('Foveal'), eccentricity2=l2e('Foveal')){\n",
    "    \n",
    "    datadf = subset(datadf, Circle_1 == eccentricity1)\n",
    "    datadf = subset(datadf, Circle_2 == eccentricity2)\n",
    "    \n",
    "    subjectlist <- sort(unique(datadf$subject)) # obtain a list of all the subjects\n",
    "    \n",
    "    correlation_list <- vector() # array to store the values in\n",
    "    \n",
    "    for (ID_i in subjectlist){ \n",
    "        for (ID_j in subjectlist){\n",
    "            if(ID_i != ID_j){\n",
    "                subjectdf_i = subset(datadf, subject == ID_i)\n",
    "                subjectdf_j = subset(datadf, subject == ID_j)\n",
    "\n",
    "                fmatrix_i <- df2mat(subjectdf_i, l2e('Foveal'), l2e('Foveal')) # get their fovea dissimilarity matrix\n",
    "                fmatrix_j <- df2mat(subjectdf_j, l2e('Foveal'), l2e('Foveal')) # get their fovea dissimilarity matrix\n",
    "\n",
    "                correlation_list <- c(correlation_list, cor(c(fmatrix_i), c(fmatrix_j), method = \"spearman\"))\n",
    "                }\n",
    "        }\n",
    "    }\n",
    "    return(correlation_list)\n",
    "}"
   ]
  },
  {
   "cell_type": "code",
   "execution_count": 56,
   "metadata": {},
   "outputs": [],
   "source": [
    "# obtain a shuffled subject similarity matrix"
   ]
  },
  {
   "cell_type": "code",
   "execution_count": 57,
   "metadata": {},
   "outputs": [],
   "source": [
    "# test where the correlation of the original SSM sits in comparison to the shuffled SSMs"
   ]
  },
  {
   "cell_type": "code",
   "execution_count": 58,
   "metadata": {},
   "outputs": [],
   "source": [
    "# do the analysis"
   ]
  },
  {
   "cell_type": "markdown",
   "metadata": {},
   "source": [
    "#### Determine whether within-subject central-peripheral QDM correlation is equal to or greater than between-subject central-central QDMs"
   ]
  },
  {
   "cell_type": "code",
   "execution_count": 59,
   "metadata": {},
   "outputs": [],
   "source": [
    "# blah"
   ]
  },
  {
   "cell_type": "code",
   "execution_count": 60,
   "metadata": {},
   "outputs": [],
   "source": [
    "# do the analysis"
   ]
  },
  {
   "cell_type": "code",
   "execution_count": 121,
   "metadata": {},
   "outputs": [],
   "source": [
    "# correlation plot\n",
    "corr_plot <- function(correlation_list,title='BLANK',xlabel='BLANK',f2z=FALSE){\n",
    "    df <- data.frame(correlation_list) # convert list to data frame\n",
    "    df[xlabel] = xlabel\n",
    "    \n",
    "    plot <- ggplot(df,aes(x=xlabel,y=correlation_list)) + \n",
    "                geom_boxplot() + \n",
    "                geom_dotplot(binaxis='y',stackdir='center',dotsize=0.75) +\n",
    "                theme(text = element_text(size=15)) + xlab(\"\")\n",
    "                ggtitle(title)\n",
    "    if(f2z){\n",
    "                plot <- plot + ylab(\"Fisher-Transformed Correlation (Spearman)\") + ylim(-1,2)\n",
    "    } else {\n",
    "                plot <- plot + ylab(\"Correlation (Spearman)\") + ylim(-0.5,1)\n",
    "\n",
    "    }\n",
    "    plot <- plot + geom_hline(yintercept=0, linetype=\"dashed\", color = \"blue\")\n",
    "    return(plot)\n",
    "}"
   ]
  },
  {
   "cell_type": "code",
   "execution_count": 62,
   "metadata": {},
   "outputs": [],
   "source": [
    "within_between_plots <- function(datadf,savestr){\n",
    "    \n",
    "    fvp <- fvp_list(datadf)\n",
    "    i_j <- i_j_list(datadf)\n",
    "    \n",
    "    within_plot <- corr_plot(fvp,'Within-subject FvP','Within-subject FvP')\n",
    "    between_plot <- corr_plot(i_j,'Between-subject FvF','Between-subject FvF')\n",
    "    within_plot_fisher <- corr_plot(FisherZ(fvp),'Within-subject FvP','Within-subject FvP',TRUE)\n",
    "    between_plot_fisher <- corr_plot(FisherZ(i_j),'Between-subject FvF','Between-subject FvF',TRUE)\n",
    "\n",
    "    # save the plots\n",
    "    title <- textGrob(substr(savestr,nchar('data/')+1,nchar(savestr)))\n",
    "    g <- arrangeGrob(within_plot,between_plot,\n",
    "                     within_plot_fisher,between_plot_fisher,\n",
    "                        nrow = 2, ncol= 2,\n",
    "                    top = title)\n",
    "\n",
    "        # save it\n",
    "    ggsave(paste(savestr,\"_Subject_Plots/\",\"correlation plot comparisons_\",\"plot.png\",sep=''),g, height = 11, width = 10)\n",
    "}"
   ]
  },
  {
   "cell_type": "code",
   "execution_count": 63,
   "metadata": {
    "scrolled": true
   },
   "outputs": [],
   "source": [
    "# plot within-subject FvP correlations against between-subject FvF correlations\n",
    "if(plot_within_between){within_between_plots(datadf,savestr)}"
   ]
  },
  {
   "cell_type": "markdown",
   "metadata": {},
   "source": [
    "Additional experimental summary graphs"
   ]
  },
  {
   "cell_type": "code",
   "execution_count": 64,
   "metadata": {},
   "outputs": [],
   "source": [
    "# obtains a dataframe of traces for subjects\n",
    "trace_obtainer <- function(datadf,type=\"trace\"){\n",
    "    subjectlist <- sort(unique(datadf$subject)) # obtain a list of all the subjects\n",
    "    tracedf <- data.frame(subject=character(),ftrace=double(),ptrace=double()) # initialise an output df for the traces\n",
    "    for (ID in subjectlist){\n",
    "        tempdf <- subset(datadf, subject == ID)\n",
    "        if(type == 'antitrace'){\n",
    "            subject_trace <- antitrace_avg(tempdf)\n",
    "        } else if (type == 'difference'){\n",
    "            subject_trace <- unlist(antitrace_avg(tempdf),use.names=FALSE) - unlist(trace_avg(tempdf),use.names=FALSE)\n",
    "        }else{\n",
    "            subject_trace <- trace_avg(tempdf)\n",
    "        }\n",
    "        row_df <- data.frame(ID, as.numeric(subject_trace[1]),as.numeric(subject_trace[2]))\n",
    "        names(row_df) <- c(\"subject\",\"Fovea x Fovea\",\"Periphery x Periphery\")\n",
    "        tracedf<- rbind(tracedf,row_df)\n",
    "    }\n",
    "    return(tracedf)\n",
    "}"
   ]
  },
  {
   "cell_type": "code",
   "execution_count": 107,
   "metadata": {},
   "outputs": [],
   "source": [
    "# plot the traces for the subjects individually\n",
    "trace_plot <- function(datadf,type='trace',grouped=TRUE){\n",
    "    \n",
    "    datadf$subject <- as.character(datadf$subject) # necessary for visualisation\n",
    "    \n",
    "    if(type == 'antitrace'){\n",
    "        trace_df <- trace_obtainer(datadf,'antitrace')\n",
    "    } else if (type == 'difference'){\n",
    "        trace_df <- trace_obtainer(datadf,'difference')\n",
    "    } else {\n",
    "        trace_df <- trace_obtainer(datadf)\n",
    "    }\n",
    "    \n",
    "    \n",
    "    tracedf <- gather(trace_df, key = \"eccentricity\",value = \"trace\", 2:3)\n",
    "    \n",
    "    if(grouped){\n",
    "        plot <- ggplot(tracedf, aes(x = eccentricity, y=trace)) +\n",
    "        geom_boxplot() + geom_dotplot(binaxis='y',stackdir='center',dotsize=0.5) +\n",
    "        theme(legend.position = \"none\")\n",
    "    } else {\n",
    "        plot <- ggplot(tracedf, aes(x = eccentricity, y=trace, group = subject, color = subject)) +\n",
    "        geom_line() + theme(legend.position = \"none\")\n",
    "    }\n",
    "    \n",
    "    if(type == 'antitrace'){\n",
    "        plot <- plot + ylim(0,7) + ylab(\"Mean Physically Maximally Distinct Stimulus Similarity\")\n",
    "    } else if (type == 'difference'){\n",
    "        plot <- plot + ylim(-6,6) + ylab(\"Distinct - Identical\")\n",
    "    } else {\n",
    "        plot <- plot + ylim(0,7) + ylab(\"Mean Physically Identical Stimulus Similarity\")\n",
    "    }\n",
    "    \n",
    "    return(plot)\n",
    "}"
   ]
  },
  {
   "cell_type": "markdown",
   "metadata": {},
   "source": [
    "### Plot summary of all subjects"
   ]
  },
  {
   "cell_type": "markdown",
   "metadata": {},
   "source": [
    "#### Individual subjects"
   ]
  },
  {
   "cell_type": "code",
   "execution_count": 66,
   "metadata": {},
   "outputs": [],
   "source": [
    "# plot summary data for all the subjects individually\n",
    "allsubjectsplot <- function(datadf,savestr){\n",
    "    \n",
    "    subjectlist <- sort(unique(datadf$subject)) # obtain a list of all the subjects\n",
    "\n",
    "    dir.create(paste(savestr,\"Subject_Plots\",sep='_')) # make a new folder to store the subject plots in\n",
    "\n",
    "    for (subjectid in subjectlist){\n",
    "        print(paste(\"Processing subject:\",subjectid,sep=' '))\n",
    "        subjectplot(datadf, subjectid,savestr)\n",
    "    }\n",
    "}"
   ]
  },
  {
   "cell_type": "code",
   "execution_count": 110,
   "metadata": {},
   "outputs": [],
   "source": [
    "# make a plot of the key summary data for a subject\n",
    "subjectplot <- function(datadf, subjectid,savestr){\n",
    "    \n",
    "    subjectdf = subset(datadf, subject == subjectid) # select the ID for subject of interest\n",
    "    \n",
    "    if(subjectdf$response_type[1] != 'after_1'){\n",
    "        FP = TRUE\n",
    "    } else {\n",
    "        FP = FALSE\n",
    "    }\n",
    "    \n",
    "    # FF Matrix plot\n",
    "    FFmatrix <- dissimplot(dissimdata(subjectdf, colors, l2e('Foveal'), l2e('Foveal')),colors)\n",
    "    \n",
    "    \n",
    "    \n",
    "    # PP Matrix plot\n",
    "    PPmatrix <- dissimplot(dissimdata(subjectdf, colors, l2e('Peripheral'), l2e('Peripheral')),colors)\n",
    "    \n",
    "    # FF CMDS plot\n",
    "    FFcmds <-  cmdsplot(cmdsfit(mat2dist(df2mat(subjectdf,l2e('Foveal'), l2e('Foveal')))), \n",
    "                        abcolors, abcolors, l2e('Foveal'), l2e('Foveal'))\n",
    "    \n",
    "    \n",
    "    \n",
    "    # PP CMDS plot\n",
    "    PPcmds <-  cmdsplot(cmdsfit(mat2dist(df2mat(subjectdf,l2e('Peripheral'), l2e('Peripheral')))), \n",
    "                        abcolors, abcolors, l2e('Peripheral'), l2e('Peripheral'))\n",
    "    \n",
    "    # FF nMDS plot\n",
    "    FFnmds <-  nmdsplot(nmdsfit(mat2dist(df2mat(subjectdf,l2e('Foveal'), l2e('Foveal')))), \n",
    "                        abcolors, abcolors, l2e('Foveal'), l2e('Foveal'))\n",
    "    \n",
    "    \n",
    "    \n",
    "    # PP nMDS plot\n",
    "    PPnmds <-  nmdsplot(nmdsfit(mat2dist(df2mat(subjectdf,l2e('Peripheral'), l2e('Peripheral')))), \n",
    "                        abcolors, abcolors, l2e('Peripheral'), l2e('Peripheral'))\n",
    "    \n",
    "    # Similarity judgements\n",
    "    simplot <- simhistplot(subjectdf)\n",
    "    # Reaction times\n",
    "    reactionplot <- rsplot(subjectdf)\n",
    "    # summary plot\n",
    "    rainplot <- rsplot_raincloud(subjectdf,'log')\n",
    "    \n",
    "    # trace plots\n",
    "    traceplot <- trace_plot(subjectdf)\n",
    "    antiplot <- trace_plot(subjectdf,'antitrace')\n",
    "    differenceplot <- trace_plot(subjectdf,'difference')\n",
    "    \n",
    "    # asymmetry plot\n",
    "    asymplot <- asymmetry_plot(subjectdf,l2e('Foveal'),l2e('Foveal'),colors)\n",
    "    \n",
    "    # title\n",
    "    if(subjectdf$noncompliant[1]){\n",
    "        title <- textGrob(as.character(subjectid),gp=gpar(col=\"red\",fontsize=35))\n",
    "    } else {\n",
    "        title <- textGrob(as.character(subjectid),gp=gpar(col=\"blue\",fontsize=35))\n",
    "    }\n",
    "    \n",
    "    if(FP){\n",
    "        \n",
    "        # FP Matrix plot\n",
    "        FPmatrix <- dissimplot(dissimdata(subjectdf, colors, l2e('Foveal'), l2e('Peripheral')),colors)\n",
    "        \n",
    "        # FP CMDS plot\n",
    "        FPcmds <-  cmdsplot(cmdsfit(mat2dist(df2mat(subjectdf,l2e('Foveal'), l2e('Peripheral')))), \n",
    "                        abcolors, abcolors, l2e('Foveal'), l2e('Peripheral'))\n",
    "        \n",
    "        # FP nMDS plot\n",
    "        FPnmds <-  nmdsplot(nmdsfit(mat2dist(df2mat(subjectdf,l2e('Foveal'), l2e('Peripheral')))), \n",
    "                        abcolors, abcolors, l2e('Foveal'), l2e('Peripheral'))\n",
    "        \n",
    "        # put all the plots together\n",
    "        g <- arrangeGrob(FFmatrix, FPmatrix, PPmatrix, simplot,\n",
    "                    FFcmds, FPcmds, PPcmds, reactionplot,\n",
    "                    FFnmds, FPnmds, PPnmds, rainplot,\n",
    "                    traceplot, antiplot, differenceplot, asymplot,\n",
    "                    nrow = 4, ncol=4, top = title)\n",
    "        \n",
    "        stimuli <- as.character(subjectdf$stimuli_count[1])\n",
    "        exp_type <- as.character(subjectdf$response_type[1])\n",
    "        ggsave(paste(savestr,\"_Subject_Plots/\",stimuli,\"_stimuli_\",exp_type,\"_ID_\",subjectid,\"_plot.png\",\n",
    "                 sep=''),g, height = 40, width = 40)\n",
    "    } else {\n",
    "        # put all the plots together\n",
    "        g <- arrangeGrob(FFmatrix, PPmatrix, simplot, traceplot,\n",
    "                    FFcmds, PPcmds, reactionplot, antiplot,\n",
    "                    FFnmds, PPnmds, rainplot, asymplot,\n",
    "                    nrow = 3, ncol=4, top = title)\n",
    "        \n",
    "        stimuli <- as.character(subjectdf$stimuli_count[1])\n",
    "        exp_type <- as.character(subjectdf$response_type[1])\n",
    "        ggsave(paste(savestr,\"_Subject_Plots/\",stimuli,\"_stimuli_\",exp_type,\"_ID_\",subjectid,\"_plot.png\",\n",
    "                 sep=''),g, height = 30, width = 40)\n",
    "    }\n",
    "}"
   ]
  },
  {
   "cell_type": "code",
   "execution_count": 106,
   "metadata": {
    "scrolled": true
   },
   "outputs": [
    {
     "name": "stdout",
     "output_type": "stream",
     "text": [
      "[1] \"Processing subject: 1579999\"\n",
      "initial  value 25.005691 \n",
      "iter   5 value 16.737182\n",
      "iter  10 value 15.221361\n",
      "final  value 15.145227 \n",
      "converged\n",
      "initial  value 25.096992 \n",
      "iter   5 value 14.967750\n",
      "iter  10 value 14.202334\n",
      "final  value 13.942444 \n",
      "converged\n",
      "initial  value 16.453669 \n",
      "iter   5 value 10.295734\n",
      "final  value 9.628982 \n",
      "converged\n"
     ]
    },
    {
     "name": "stderr",
     "output_type": "stream",
     "text": [
      "`stat_bindot()` using `bins = 30`. Pick better value with `binwidth`.\n",
      "`stat_bindot()` using `bins = 30`. Pick better value with `binwidth`.\n",
      "`stat_bindot()` using `bins = 30`. Pick better value with `binwidth`.\n"
     ]
    },
    {
     "name": "stdout",
     "output_type": "stream",
     "text": [
      "[1] \"Processing subject: 2989630\"\n",
      "initial  value 24.401112 \n",
      "iter   5 value 18.876591\n",
      "iter  10 value 18.504466\n",
      "iter  10 value 18.494426\n",
      "iter  10 value 18.487767\n",
      "final  value 18.487767 \n",
      "converged\n",
      "initial  value 29.438003 \n",
      "iter   5 value 22.567421\n",
      "iter  10 value 17.712165\n",
      "iter  15 value 17.019355\n",
      "final  value 16.987386 \n",
      "converged\n"
     ]
    },
    {
     "name": "stderr",
     "output_type": "stream",
     "text": [
      "`stat_bindot()` using `bins = 30`. Pick better value with `binwidth`.\n",
      "`stat_bindot()` using `bins = 30`. Pick better value with `binwidth`.\n"
     ]
    },
    {
     "name": "stdout",
     "output_type": "stream",
     "text": [
      "[1] \"Processing subject: 3478854\"\n",
      "initial  value 20.291082 \n",
      "iter   5 value 14.401846\n",
      "iter  10 value 13.398327\n",
      "iter  15 value 13.103519\n",
      "iter  20 value 12.827459\n",
      "iter  20 value 12.824538\n",
      "iter  20 value 12.824538\n",
      "final  value 12.824538 \n",
      "converged\n",
      "initial  value 23.714365 \n",
      "iter   5 value 12.642764\n",
      "iter  10 value 11.721799\n",
      "final  value 11.699163 \n",
      "converged\n",
      "initial  value 17.803067 \n",
      "iter   5 value 13.662862\n",
      "final  value 13.362557 \n",
      "converged\n"
     ]
    },
    {
     "name": "stderr",
     "output_type": "stream",
     "text": [
      "`stat_bindot()` using `bins = 30`. Pick better value with `binwidth`.\n",
      "`stat_bindot()` using `bins = 30`. Pick better value with `binwidth`.\n",
      "`stat_bindot()` using `bins = 30`. Pick better value with `binwidth`.\n"
     ]
    },
    {
     "name": "stdout",
     "output_type": "stream",
     "text": [
      "[1] \"Processing subject: 5542068\"\n",
      "initial  value 10.884070 \n",
      "iter   5 value 7.014824\n",
      "final  value 6.883028 \n",
      "converged\n",
      "initial  value 7.558721 \n",
      "iter   5 value 4.792255\n",
      "iter  10 value 4.420543\n",
      "final  value 4.376504 \n",
      "converged\n",
      "initial  value 21.307856 \n",
      "iter   5 value 15.584910\n",
      "iter  10 value 15.252021\n",
      "final  value 15.091911 \n",
      "converged\n"
     ]
    },
    {
     "name": "stderr",
     "output_type": "stream",
     "text": [
      "`stat_bindot()` using `bins = 30`. Pick better value with `binwidth`.\n",
      "`stat_bindot()` using `bins = 30`. Pick better value with `binwidth`.\n",
      "`stat_bindot()` using `bins = 30`. Pick better value with `binwidth`.\n"
     ]
    },
    {
     "name": "stdout",
     "output_type": "stream",
     "text": [
      "[1] \"Processing subject: 13811877\"\n",
      "initial  value 24.338810 \n",
      "iter   5 value 17.191172\n",
      "iter  10 value 15.808177\n",
      "final  value 15.667691 \n",
      "converged\n",
      "initial  value 27.963286 \n",
      "iter   5 value 19.724066\n",
      "iter  10 value 18.259411\n",
      "iter  15 value 18.066547\n",
      "iter  20 value 17.504022\n",
      "iter  20 value 17.492248\n",
      "iter  20 value 17.492216\n",
      "final  value 17.492216 \n",
      "converged\n",
      "initial  value 21.380787 \n",
      "iter   5 value 16.678698\n",
      "iter  10 value 15.058862\n",
      "final  value 14.757006 \n",
      "converged\n"
     ]
    },
    {
     "name": "stderr",
     "output_type": "stream",
     "text": [
      "`stat_bindot()` using `bins = 30`. Pick better value with `binwidth`.\n",
      "`stat_bindot()` using `bins = 30`. Pick better value with `binwidth`.\n",
      "`stat_bindot()` using `bins = 30`. Pick better value with `binwidth`.\n"
     ]
    },
    {
     "name": "stdout",
     "output_type": "stream",
     "text": [
      "[1] \"Processing subject: 36190138\"\n",
      "initial  value 34.101929 \n",
      "iter   5 value 22.632213\n",
      "iter  10 value 20.317068\n",
      "iter  15 value 19.684003\n",
      "final  value 19.615988 \n",
      "converged\n",
      "initial  value 28.605589 \n",
      "iter   5 value 17.086268\n",
      "iter  10 value 15.924275\n",
      "final  value 15.869992 \n",
      "converged\n",
      "initial  value 27.728123 \n",
      "iter   5 value 19.128660\n",
      "iter  10 value 16.597424\n",
      "final  value 16.234236 \n",
      "converged\n"
     ]
    },
    {
     "name": "stderr",
     "output_type": "stream",
     "text": [
      "`stat_bindot()` using `bins = 30`. Pick better value with `binwidth`.\n",
      "`stat_bindot()` using `bins = 30`. Pick better value with `binwidth`.\n",
      "`stat_bindot()` using `bins = 30`. Pick better value with `binwidth`.\n"
     ]
    },
    {
     "name": "stdout",
     "output_type": "stream",
     "text": [
      "[1] \"Processing subject: 37316066\"\n",
      "initial  value 17.046767 \n",
      "iter   5 value 15.225826\n",
      "iter   5 value 15.214261\n",
      "iter   5 value 15.208440\n",
      "final  value 15.208440 \n",
      "converged\n",
      "initial  value 19.801201 \n",
      "iter   5 value 15.105620\n",
      "final  value 15.086812 \n",
      "converged\n",
      "initial  value 19.887267 \n",
      "iter   5 value 16.161496\n",
      "final  value 15.826440 \n",
      "converged\n"
     ]
    },
    {
     "name": "stderr",
     "output_type": "stream",
     "text": [
      "`stat_bindot()` using `bins = 30`. Pick better value with `binwidth`.\n",
      "`stat_bindot()` using `bins = 30`. Pick better value with `binwidth`.\n",
      "`stat_bindot()` using `bins = 30`. Pick better value with `binwidth`.\n"
     ]
    },
    {
     "name": "stdout",
     "output_type": "stream",
     "text": [
      "[1] \"Processing subject: 42436095\"\n",
      "initial  value 26.487478 \n",
      "iter   5 value 18.227209\n",
      "iter  10 value 14.171631\n",
      "iter  15 value 13.411002\n",
      "iter  20 value 13.074794\n",
      "iter  20 value 13.065753\n",
      "iter  20 value 13.064609\n",
      "final  value 13.064609 \n",
      "converged\n",
      "initial  value 25.439089 \n",
      "iter   5 value 15.914392\n",
      "iter  10 value 14.990473\n",
      "iter  10 value 14.976643\n",
      "iter  10 value 14.976523\n",
      "final  value 14.976523 \n",
      "converged\n",
      "initial  value 24.857004 \n",
      "iter   5 value 13.977671\n",
      "iter  10 value 12.283613\n",
      "iter  15 value 11.507316\n",
      "final  value 11.404026 \n",
      "converged\n"
     ]
    },
    {
     "name": "stderr",
     "output_type": "stream",
     "text": [
      "`stat_bindot()` using `bins = 30`. Pick better value with `binwidth`.\n",
      "`stat_bindot()` using `bins = 30`. Pick better value with `binwidth`.\n",
      "`stat_bindot()` using `bins = 30`. Pick better value with `binwidth`.\n"
     ]
    },
    {
     "name": "stdout",
     "output_type": "stream",
     "text": [
      "[1] \"Processing subject: 43104521\"\n",
      "initial  value 7.097545 \n",
      "iter   5 value 4.083738\n",
      "iter  10 value 3.914152\n",
      "final  value 3.865326 \n",
      "converged\n",
      "initial  value 7.708246 \n",
      "iter   5 value 4.617160\n",
      "iter  10 value 4.431503\n",
      "final  value 4.423670 \n",
      "converged\n"
     ]
    },
    {
     "name": "stderr",
     "output_type": "stream",
     "text": [
      "`stat_bindot()` using `bins = 30`. Pick better value with `binwidth`.\n",
      "`stat_bindot()` using `bins = 30`. Pick better value with `binwidth`.\n"
     ]
    },
    {
     "name": "stdout",
     "output_type": "stream",
     "text": [
      "[1] \"Processing subject: 51602224\"\n",
      "initial  value 26.337668 \n",
      "iter   5 value 19.716845\n",
      "final  value 18.757604 \n",
      "converged\n",
      "initial  value 16.795717 \n",
      "iter   5 value 13.407430\n",
      "iter   5 value 13.399857\n",
      "iter   5 value 13.399294\n",
      "final  value 13.399294 \n",
      "converged\n"
     ]
    },
    {
     "name": "stderr",
     "output_type": "stream",
     "text": [
      "`stat_bindot()` using `bins = 30`. Pick better value with `binwidth`.\n",
      "`stat_bindot()` using `bins = 30`. Pick better value with `binwidth`.\n"
     ]
    },
    {
     "name": "stdout",
     "output_type": "stream",
     "text": [
      "[1] \"Processing subject: 56511823\"\n",
      "initial  value 22.595366 \n",
      "iter   5 value 20.100824\n",
      "iter  10 value 18.326188\n",
      "final  value 18.206941 \n",
      "converged\n",
      "initial  value 24.679758 \n",
      "final  value 18.717436 \n",
      "converged\n"
     ]
    },
    {
     "name": "stderr",
     "output_type": "stream",
     "text": [
      "`stat_bindot()` using `bins = 30`. Pick better value with `binwidth`.\n",
      "`stat_bindot()` using `bins = 30`. Pick better value with `binwidth`.\n"
     ]
    },
    {
     "name": "stdout",
     "output_type": "stream",
     "text": [
      "[1] \"Processing subject: 64896009\"\n",
      "initial  value 14.010974 \n",
      "iter   5 value 9.662220\n",
      "iter  10 value 9.297372\n",
      "iter  10 value 9.293956\n",
      "iter  10 value 9.291730\n",
      "final  value 9.291730 \n",
      "converged\n",
      "initial  value 9.186150 \n",
      "iter   5 value 5.120855\n",
      "final  value 5.067265 \n",
      "converged\n",
      "initial  value 9.029458 \n",
      "iter   5 value 6.242582\n",
      "final  value 6.232940 \n",
      "converged\n"
     ]
    },
    {
     "name": "stderr",
     "output_type": "stream",
     "text": [
      "`stat_bindot()` using `bins = 30`. Pick better value with `binwidth`.\n",
      "`stat_bindot()` using `bins = 30`. Pick better value with `binwidth`.\n",
      "`stat_bindot()` using `bins = 30`. Pick better value with `binwidth`.\n"
     ]
    },
    {
     "name": "stdout",
     "output_type": "stream",
     "text": [
      "[1] \"Processing subject: 69616059\"\n",
      "initial  value 19.784113 \n",
      "iter   5 value 13.807466\n",
      "final  value 13.715258 \n",
      "converged\n",
      "initial  value 21.668742 \n",
      "iter   5 value 17.416482\n",
      "iter  10 value 15.076038\n",
      "final  value 14.883531 \n",
      "converged\n"
     ]
    },
    {
     "name": "stderr",
     "output_type": "stream",
     "text": [
      "`stat_bindot()` using `bins = 30`. Pick better value with `binwidth`.\n",
      "`stat_bindot()` using `bins = 30`. Pick better value with `binwidth`.\n"
     ]
    },
    {
     "name": "stdout",
     "output_type": "stream",
     "text": [
      "[1] \"Processing subject: 69621683\"\n",
      "initial  value 23.667508 \n",
      "iter   5 value 16.491227\n",
      "iter  10 value 14.834036\n",
      "final  value 14.758181 \n",
      "converged\n",
      "initial  value 25.972102 \n",
      "iter   5 value 17.719698\n",
      "iter  10 value 16.317743\n",
      "final  value 16.290797 \n",
      "converged\n",
      "initial  value 26.914109 \n",
      "iter   5 value 17.542381\n",
      "final  value 17.326549 \n",
      "converged\n"
     ]
    },
    {
     "name": "stderr",
     "output_type": "stream",
     "text": [
      "`stat_bindot()` using `bins = 30`. Pick better value with `binwidth`.\n",
      "`stat_bindot()` using `bins = 30`. Pick better value with `binwidth`.\n",
      "`stat_bindot()` using `bins = 30`. Pick better value with `binwidth`.\n"
     ]
    },
    {
     "name": "stdout",
     "output_type": "stream",
     "text": [
      "[1] \"Processing subject: 84045541\"\n",
      "initial  value 9.733084 \n",
      "iter   5 value 6.103559\n",
      "final  value 6.087900 \n",
      "converged\n",
      "initial  value 14.628138 \n",
      "iter   5 value 11.809350\n",
      "final  value 11.731440 \n",
      "converged\n",
      "initial  value 12.533853 \n",
      "iter   5 value 8.531841\n",
      "final  value 8.512579 \n",
      "converged\n"
     ]
    },
    {
     "name": "stderr",
     "output_type": "stream",
     "text": [
      "`stat_bindot()` using `bins = 30`. Pick better value with `binwidth`.\n",
      "`stat_bindot()` using `bins = 30`. Pick better value with `binwidth`.\n",
      "`stat_bindot()` using `bins = 30`. Pick better value with `binwidth`.\n"
     ]
    },
    {
     "name": "stdout",
     "output_type": "stream",
     "text": [
      "[1] \"Processing subject: 84511979\"\n",
      "initial  value 18.274982 \n",
      "iter   5 value 14.626009\n",
      "iter  10 value 14.169847\n",
      "final  value 14.128001 \n",
      "converged\n",
      "initial  value 24.747070 \n",
      "iter   5 value 18.904727\n",
      "final  value 18.765738 \n",
      "converged\n"
     ]
    },
    {
     "name": "stderr",
     "output_type": "stream",
     "text": [
      "`stat_bindot()` using `bins = 30`. Pick better value with `binwidth`.\n",
      "`stat_bindot()` using `bins = 30`. Pick better value with `binwidth`.\n"
     ]
    },
    {
     "name": "stdout",
     "output_type": "stream",
     "text": [
      "[1] \"Processing subject: 93458386\"\n",
      "initial  value 20.510866 \n",
      "iter   5 value 15.496807\n",
      "iter  10 value 13.949066\n",
      "final  value 13.925985 \n",
      "converged\n",
      "initial  value 17.869767 \n",
      "iter   5 value 13.473837\n",
      "iter  10 value 12.840026\n",
      "iter  10 value 12.833912\n",
      "iter  10 value 12.831830\n",
      "final  value 12.831830 \n",
      "converged\n",
      "initial  value 18.740235 \n",
      "iter   5 value 13.668722\n",
      "iter  10 value 13.004958\n",
      "final  value 12.914391 \n",
      "converged\n"
     ]
    },
    {
     "name": "stderr",
     "output_type": "stream",
     "text": [
      "`stat_bindot()` using `bins = 30`. Pick better value with `binwidth`.\n",
      "`stat_bindot()` using `bins = 30`. Pick better value with `binwidth`.\n",
      "`stat_bindot()` using `bins = 30`. Pick better value with `binwidth`.\n"
     ]
    },
    {
     "name": "stdout",
     "output_type": "stream",
     "text": [
      "[1] \"Processing subject: 100042706\"\n",
      "initial  value 21.583795 \n",
      "iter   5 value 14.553330\n",
      "iter  10 value 14.292614\n",
      "iter  10 value 14.282717\n",
      "iter  10 value 14.282717\n",
      "final  value 14.282717 \n",
      "converged\n",
      "initial  value 22.014252 \n",
      "iter   5 value 14.894461\n",
      "iter  10 value 13.999972\n",
      "final  value 13.940244 \n",
      "converged\n",
      "initial  value 31.111679 \n",
      "iter   5 value 14.945982\n",
      "iter  10 value 12.911548\n",
      "iter  10 value 12.898913\n",
      "iter  10 value 12.898458\n",
      "final  value 12.898458 \n",
      "converged\n"
     ]
    },
    {
     "name": "stderr",
     "output_type": "stream",
     "text": [
      "`stat_bindot()` using `bins = 30`. Pick better value with `binwidth`.\n",
      "`stat_bindot()` using `bins = 30`. Pick better value with `binwidth`.\n",
      "`stat_bindot()` using `bins = 30`. Pick better value with `binwidth`.\n"
     ]
    },
    {
     "name": "stdout",
     "output_type": "stream",
     "text": [
      "[1] \"Processing subject: 102294477\"\n",
      "initial  value 25.666063 \n",
      "iter   5 value 18.772753\n",
      "final  value 18.665683 \n",
      "converged\n",
      "initial  value 17.397933 \n",
      "iter   5 value 14.871427\n",
      "final  value 14.829666 \n",
      "converged\n",
      "initial  value 22.514224 \n",
      "iter   5 value 17.523400\n",
      "iter   5 value 17.508922\n",
      "iter   5 value 17.508922\n",
      "final  value 17.508922 \n",
      "converged\n"
     ]
    },
    {
     "name": "stderr",
     "output_type": "stream",
     "text": [
      "`stat_bindot()` using `bins = 30`. Pick better value with `binwidth`.\n",
      "`stat_bindot()` using `bins = 30`. Pick better value with `binwidth`.\n",
      "`stat_bindot()` using `bins = 30`. Pick better value with `binwidth`.\n"
     ]
    },
    {
     "name": "stdout",
     "output_type": "stream",
     "text": [
      "[1] \"Processing subject: 103557621\"\n",
      "initial  value 18.176722 \n",
      "iter   5 value 11.872028\n",
      "final  value 11.591881 \n",
      "converged\n",
      "initial  value 23.214126 \n",
      "iter   5 value 14.024139\n",
      "final  value 13.477365 \n",
      "converged\n",
      "initial  value 22.490917 \n",
      "iter   5 value 16.156394\n",
      "final  value 16.119809 \n",
      "converged\n"
     ]
    },
    {
     "name": "stderr",
     "output_type": "stream",
     "text": [
      "`stat_bindot()` using `bins = 30`. Pick better value with `binwidth`.\n",
      "`stat_bindot()` using `bins = 30`. Pick better value with `binwidth`.\n",
      "`stat_bindot()` using `bins = 30`. Pick better value with `binwidth`.\n"
     ]
    },
    {
     "name": "stdout",
     "output_type": "stream",
     "text": [
      "[1] \"Processing subject: 107565540\"\n",
      "initial  value 14.515783 \n",
      "iter   5 value 10.176001\n",
      "final  value 10.151201 \n",
      "converged\n",
      "initial  value 13.466783 \n",
      "iter   5 value 9.557018\n",
      "iter   5 value 9.553768\n",
      "iter   5 value 9.552711\n",
      "final  value 9.552711 \n",
      "converged\n",
      "initial  value 21.722191 \n",
      "iter   5 value 15.253656\n",
      "iter  10 value 12.612258\n",
      "final  value 12.209339 \n",
      "converged\n"
     ]
    },
    {
     "name": "stderr",
     "output_type": "stream",
     "text": [
      "`stat_bindot()` using `bins = 30`. Pick better value with `binwidth`.\n",
      "`stat_bindot()` using `bins = 30`. Pick better value with `binwidth`.\n",
      "`stat_bindot()` using `bins = 30`. Pick better value with `binwidth`.\n"
     ]
    },
    {
     "name": "stdout",
     "output_type": "stream",
     "text": [
      "[1] \"Processing subject: 114423889\"\n",
      "initial  value 25.067567 \n",
      "iter   5 value 16.338795\n",
      "final  value 16.152899 \n",
      "converged\n",
      "initial  value 27.193994 \n",
      "iter   5 value 18.885813\n",
      "iter  10 value 17.602355\n",
      "iter  15 value 17.187944\n",
      "final  value 17.049066 \n",
      "converged\n",
      "initial  value 27.987696 \n",
      "iter   5 value 20.640989\n",
      "iter  10 value 19.906670\n",
      "iter  10 value 19.901217\n",
      "iter  10 value 19.901217\n",
      "final  value 19.901217 \n",
      "converged\n"
     ]
    },
    {
     "name": "stderr",
     "output_type": "stream",
     "text": [
      "`stat_bindot()` using `bins = 30`. Pick better value with `binwidth`.\n",
      "`stat_bindot()` using `bins = 30`. Pick better value with `binwidth`.\n",
      "`stat_bindot()` using `bins = 30`. Pick better value with `binwidth`.\n"
     ]
    },
    {
     "name": "stdout",
     "output_type": "stream",
     "text": [
      "[1] \"Processing subject: 129877772\"\n",
      "initial  value 23.532779 \n",
      "iter   5 value 18.928932\n",
      "iter  10 value 18.175306\n",
      "final  value 17.518585 \n",
      "converged\n",
      "initial  value 25.604228 \n",
      "iter   5 value 17.926550\n",
      "final  value 17.887595 \n",
      "converged\n",
      "initial  value 21.500373 \n",
      "iter   5 value 17.812261\n",
      "iter  10 value 17.581476\n",
      "iter  10 value 17.565544\n",
      "iter  10 value 17.564621\n",
      "final  value 17.564621 \n",
      "converged\n"
     ]
    },
    {
     "name": "stderr",
     "output_type": "stream",
     "text": [
      "`stat_bindot()` using `bins = 30`. Pick better value with `binwidth`.\n",
      "`stat_bindot()` using `bins = 30`. Pick better value with `binwidth`.\n",
      "`stat_bindot()` using `bins = 30`. Pick better value with `binwidth`.\n"
     ]
    },
    {
     "name": "stdout",
     "output_type": "stream",
     "text": [
      "[1] \"Processing subject: 134313784\"\n",
      "initial  value 21.046932 \n",
      "final  value 15.149642 \n",
      "converged\n",
      "initial  value 25.896311 \n",
      "iter   5 value 19.147711\n",
      "iter  10 value 18.068758\n",
      "final  value 17.965950 \n",
      "converged\n",
      "initial  value 27.567199 \n",
      "iter   5 value 19.912309\n",
      "iter  10 value 17.906156\n",
      "iter  15 value 16.034685\n",
      "final  value 15.404414 \n",
      "converged\n"
     ]
    },
    {
     "name": "stderr",
     "output_type": "stream",
     "text": [
      "`stat_bindot()` using `bins = 30`. Pick better value with `binwidth`.\n",
      "`stat_bindot()` using `bins = 30`. Pick better value with `binwidth`.\n",
      "`stat_bindot()` using `bins = 30`. Pick better value with `binwidth`.\n"
     ]
    },
    {
     "name": "stdout",
     "output_type": "stream",
     "text": [
      "[1] \"Processing subject: 136147605\"\n",
      "initial  value 24.697701 \n",
      "iter   5 value 17.061307\n",
      "iter  10 value 15.324550\n",
      "final  value 14.874951 \n",
      "converged\n",
      "initial  value 34.476669 \n",
      "iter   5 value 23.201360\n",
      "iter  10 value 17.031723\n",
      "iter  15 value 16.502385\n",
      "iter  20 value 15.870761\n",
      "iter  25 value 15.482184\n",
      "iter  30 value 15.158797\n",
      "iter  30 value 15.149861\n",
      "iter  30 value 15.143842\n",
      "final  value 15.143842 \n",
      "converged\n",
      "initial  value 34.293988 \n",
      "iter   5 value 24.990772\n",
      "iter  10 value 21.039856\n",
      "iter  15 value 14.418939\n",
      "iter  20 value 13.398527\n",
      "final  value 13.293958 \n",
      "converged\n"
     ]
    },
    {
     "name": "stderr",
     "output_type": "stream",
     "text": [
      "`stat_bindot()` using `bins = 30`. Pick better value with `binwidth`.\n",
      "`stat_bindot()` using `bins = 30`. Pick better value with `binwidth`.\n",
      "`stat_bindot()` using `bins = 30`. Pick better value with `binwidth`.\n"
     ]
    },
    {
     "name": "stdout",
     "output_type": "stream",
     "text": [
      "[1] \"Processing subject: 137230626\"\n",
      "initial  value 29.716353 \n",
      "iter   5 value 21.755830\n",
      "iter  10 value 18.208346\n",
      "final  value 18.112167 \n",
      "converged\n",
      "initial  value 26.086174 \n",
      "iter   5 value 20.204284\n",
      "iter  10 value 19.365854\n",
      "final  value 19.018234 \n",
      "converged\n",
      "initial  value 33.130075 \n",
      "iter   5 value 25.816179\n",
      "iter  10 value 20.995267\n",
      "iter  15 value 20.212844\n",
      "iter  15 value 20.203311\n",
      "iter  15 value 20.198092\n",
      "final  value 20.198092 \n",
      "converged\n"
     ]
    },
    {
     "name": "stderr",
     "output_type": "stream",
     "text": [
      "`stat_bindot()` using `bins = 30`. Pick better value with `binwidth`.\n",
      "`stat_bindot()` using `bins = 30`. Pick better value with `binwidth`.\n",
      "`stat_bindot()` using `bins = 30`. Pick better value with `binwidth`.\n"
     ]
    },
    {
     "name": "stdout",
     "output_type": "stream",
     "text": [
      "[1] \"Processing subject: 150323725\"\n",
      "initial  value 26.869261 \n",
      "iter   5 value 16.484285\n",
      "iter  10 value 14.860734\n",
      "final  value 14.772636 \n",
      "converged\n",
      "initial  value 17.880742 \n",
      "iter   5 value 11.682709\n",
      "final  value 11.335396 \n",
      "converged\n",
      "initial  value 18.835253 \n",
      "iter   5 value 15.551122\n",
      "iter  10 value 15.245461\n",
      "final  value 15.219901 \n",
      "converged\n"
     ]
    },
    {
     "name": "stderr",
     "output_type": "stream",
     "text": [
      "`stat_bindot()` using `bins = 30`. Pick better value with `binwidth`.\n",
      "`stat_bindot()` using `bins = 30`. Pick better value with `binwidth`.\n",
      "`stat_bindot()` using `bins = 30`. Pick better value with `binwidth`.\n"
     ]
    },
    {
     "name": "stdout",
     "output_type": "stream",
     "text": [
      "[1] \"Processing subject: 161439250\"\n",
      "initial  value 22.077662 \n",
      "iter   5 value 18.030786\n",
      "final  value 17.857124 \n",
      "converged\n",
      "initial  value 23.261325 \n",
      "iter   5 value 20.827616\n",
      "final  value 20.482849 \n",
      "converged\n"
     ]
    },
    {
     "name": "stderr",
     "output_type": "stream",
     "text": [
      "`stat_bindot()` using `bins = 30`. Pick better value with `binwidth`.\n",
      "`stat_bindot()` using `bins = 30`. Pick better value with `binwidth`.\n"
     ]
    },
    {
     "name": "stdout",
     "output_type": "stream",
     "text": [
      "[1] \"Processing subject: 164954928\"\n",
      "initial  value 21.391441 \n",
      "iter   5 value 9.482660\n",
      "iter  10 value 8.868741\n",
      "iter  10 value 8.862212\n",
      "iter  10 value 8.857541\n",
      "final  value 8.857541 \n",
      "converged\n",
      "initial  value 24.401032 \n",
      "iter   5 value 15.329713\n",
      "iter  10 value 11.973206\n",
      "final  value 11.638557 \n",
      "converged\n",
      "initial  value 26.667070 \n",
      "iter   5 value 12.080566\n",
      "final  value 11.923076 \n",
      "converged\n"
     ]
    },
    {
     "name": "stderr",
     "output_type": "stream",
     "text": [
      "`stat_bindot()` using `bins = 30`. Pick better value with `binwidth`.\n",
      "`stat_bindot()` using `bins = 30`. Pick better value with `binwidth`.\n",
      "`stat_bindot()` using `bins = 30`. Pick better value with `binwidth`.\n"
     ]
    },
    {
     "name": "stdout",
     "output_type": "stream",
     "text": [
      "[1] \"Processing subject: 169090807\"\n",
      "initial  value 25.463941 \n",
      "iter   5 value 22.476086\n",
      "iter  10 value 20.837172\n",
      "final  value 20.428649 \n",
      "converged\n",
      "initial  value 21.424622 \n",
      "iter   5 value 13.968336\n",
      "final  value 13.888271 \n",
      "converged\n",
      "initial  value 22.360677 \n",
      "iter   5 value 16.234719\n",
      "final  value 16.122579 \n",
      "converged\n"
     ]
    },
    {
     "name": "stderr",
     "output_type": "stream",
     "text": [
      "`stat_bindot()` using `bins = 30`. Pick better value with `binwidth`.\n",
      "`stat_bindot()` using `bins = 30`. Pick better value with `binwidth`.\n",
      "`stat_bindot()` using `bins = 30`. Pick better value with `binwidth`.\n"
     ]
    },
    {
     "name": "stdout",
     "output_type": "stream",
     "text": [
      "[1] \"Processing subject: 184792412\"\n",
      "initial  value 12.687872 \n",
      "iter   5 value 8.159610\n",
      "final  value 8.108971 \n",
      "converged\n",
      "initial  value 20.233530 \n",
      "iter   5 value 17.738445\n",
      "iter  10 value 17.167426\n",
      "final  value 17.097539 \n",
      "converged\n"
     ]
    },
    {
     "name": "stderr",
     "output_type": "stream",
     "text": [
      "`stat_bindot()` using `bins = 30`. Pick better value with `binwidth`.\n",
      "`stat_bindot()` using `bins = 30`. Pick better value with `binwidth`.\n"
     ]
    },
    {
     "name": "stdout",
     "output_type": "stream",
     "text": [
      "[1] \"Processing subject: 188985661\"\n",
      "initial  value 14.622647 \n",
      "iter   5 value 8.949086\n",
      "iter  10 value 8.134532\n",
      "iter  10 value 8.131356\n",
      "iter  10 value 8.131356\n",
      "final  value 8.131356 \n",
      "converged\n",
      "initial  value 22.693236 \n",
      "iter   5 value 16.027201\n",
      "final  value 15.864669 \n",
      "converged\n"
     ]
    },
    {
     "name": "stderr",
     "output_type": "stream",
     "text": [
      "`stat_bindot()` using `bins = 30`. Pick better value with `binwidth`.\n",
      "`stat_bindot()` using `bins = 30`. Pick better value with `binwidth`.\n"
     ]
    },
    {
     "name": "stdout",
     "output_type": "stream",
     "text": [
      "[1] \"Processing subject: 191312515\"\n",
      "initial  value 22.532108 \n",
      "iter   5 value 16.639962\n",
      "final  value 15.792254 \n",
      "converged\n",
      "initial  value 22.177662 \n",
      "iter   5 value 18.177672\n",
      "iter  10 value 16.430259\n",
      "final  value 16.291457 \n",
      "converged\n",
      "initial  value 20.349953 \n",
      "iter   5 value 14.596689\n",
      "final  value 14.569583 \n",
      "converged\n"
     ]
    },
    {
     "name": "stderr",
     "output_type": "stream",
     "text": [
      "`stat_bindot()` using `bins = 30`. Pick better value with `binwidth`.\n",
      "`stat_bindot()` using `bins = 30`. Pick better value with `binwidth`.\n",
      "`stat_bindot()` using `bins = 30`. Pick better value with `binwidth`.\n"
     ]
    },
    {
     "name": "stdout",
     "output_type": "stream",
     "text": [
      "[1] \"Processing subject: 204375007\"\n",
      "initial  value 22.976689 \n",
      "iter   5 value 19.642172\n",
      "final  value 19.438093 \n",
      "converged\n",
      "initial  value 22.677772 \n",
      "final  value 19.303259 \n",
      "converged\n",
      "initial  value 18.611592 \n",
      "iter   5 value 14.718909\n",
      "iter   5 value 14.709644\n",
      "iter   5 value 14.709644\n",
      "final  value 14.709644 \n",
      "converged\n"
     ]
    },
    {
     "name": "stderr",
     "output_type": "stream",
     "text": [
      "`stat_bindot()` using `bins = 30`. Pick better value with `binwidth`.\n",
      "`stat_bindot()` using `bins = 30`. Pick better value with `binwidth`.\n",
      "`stat_bindot()` using `bins = 30`. Pick better value with `binwidth`.\n"
     ]
    },
    {
     "name": "stdout",
     "output_type": "stream",
     "text": [
      "[1] \"Processing subject: 206106473\"\n",
      "initial  value 11.695265 \n",
      "iter   5 value 7.556885\n",
      "final  value 7.511021 \n",
      "converged\n",
      "initial  value 7.087718 \n",
      "iter   5 value 3.587660\n",
      "final  value 3.465971 \n",
      "converged\n",
      "initial  value 21.965763 \n",
      "iter   5 value 17.072535\n",
      "iter   5 value 17.071055\n",
      "iter   5 value 17.071055\n",
      "final  value 17.071055 \n",
      "converged\n"
     ]
    },
    {
     "name": "stderr",
     "output_type": "stream",
     "text": [
      "`stat_bindot()` using `bins = 30`. Pick better value with `binwidth`.\n",
      "`stat_bindot()` using `bins = 30`. Pick better value with `binwidth`.\n",
      "`stat_bindot()` using `bins = 30`. Pick better value with `binwidth`.\n"
     ]
    },
    {
     "name": "stdout",
     "output_type": "stream",
     "text": [
      "[1] \"Processing subject: 214391792\"\n",
      "initial  value 18.797136 \n",
      "iter   5 value 13.766246\n",
      "iter  10 value 13.125960\n",
      "final  value 12.883489 \n",
      "converged\n",
      "initial  value 16.292982 \n",
      "iter   5 value 11.022366\n",
      "final  value 10.969530 \n",
      "converged\n",
      "initial  value 27.785181 \n",
      "iter   5 value 19.434848\n",
      "final  value 18.550192 \n",
      "converged\n"
     ]
    },
    {
     "name": "stderr",
     "output_type": "stream",
     "text": [
      "`stat_bindot()` using `bins = 30`. Pick better value with `binwidth`.\n",
      "`stat_bindot()` using `bins = 30`. Pick better value with `binwidth`.\n",
      "`stat_bindot()` using `bins = 30`. Pick better value with `binwidth`.\n"
     ]
    },
    {
     "name": "stdout",
     "output_type": "stream",
     "text": [
      "[1] \"Processing subject: 219675455\"\n",
      "initial  value 18.173399 \n",
      "iter   5 value 12.216180\n",
      "iter  10 value 11.892062\n",
      "final  value 11.866945 \n",
      "converged\n",
      "initial  value 14.948958 \n",
      "iter   5 value 7.916052\n",
      "final  value 7.763325 \n",
      "converged\n"
     ]
    },
    {
     "name": "stderr",
     "output_type": "stream",
     "text": [
      "`stat_bindot()` using `bins = 30`. Pick better value with `binwidth`.\n",
      "`stat_bindot()` using `bins = 30`. Pick better value with `binwidth`.\n"
     ]
    },
    {
     "name": "stdout",
     "output_type": "stream",
     "text": [
      "[1] \"Processing subject: 223439315\"\n",
      "initial  value 18.546284 \n",
      "iter   5 value 11.453335\n",
      "iter  10 value 10.143809\n",
      "final  value 10.093849 \n",
      "converged\n",
      "initial  value 19.687638 \n",
      "iter   5 value 15.882157\n",
      "iter  10 value 15.267285\n",
      "iter  15 value 14.823005\n",
      "final  value 14.795496 \n",
      "converged\n"
     ]
    },
    {
     "name": "stderr",
     "output_type": "stream",
     "text": [
      "`stat_bindot()` using `bins = 30`. Pick better value with `binwidth`.\n",
      "`stat_bindot()` using `bins = 30`. Pick better value with `binwidth`.\n"
     ]
    },
    {
     "name": "stdout",
     "output_type": "stream",
     "text": [
      "[1] \"Processing subject: 228232299\"\n",
      "initial  value 16.655080 \n",
      "iter   5 value 13.562789\n",
      "final  value 13.515756 \n",
      "converged\n",
      "initial  value 23.260996 \n",
      "iter   5 value 17.032819\n",
      "iter  10 value 15.160366\n",
      "final  value 15.115754 \n",
      "converged\n"
     ]
    },
    {
     "name": "stderr",
     "output_type": "stream",
     "text": [
      "`stat_bindot()` using `bins = 30`. Pick better value with `binwidth`.\n",
      "`stat_bindot()` using `bins = 30`. Pick better value with `binwidth`.\n"
     ]
    },
    {
     "name": "stdout",
     "output_type": "stream",
     "text": [
      "[1] \"Processing subject: 253635131\"\n",
      "initial  value 16.904723 \n",
      "iter   5 value 14.894197\n",
      "iter  10 value 14.331909\n",
      "final  value 14.289579 \n",
      "converged\n",
      "initial  value 16.622766 \n",
      "iter   5 value 13.190593\n",
      "final  value 13.154248 \n",
      "converged\n"
     ]
    },
    {
     "name": "stderr",
     "output_type": "stream",
     "text": [
      "`stat_bindot()` using `bins = 30`. Pick better value with `binwidth`.\n",
      "`stat_bindot()` using `bins = 30`. Pick better value with `binwidth`.\n"
     ]
    },
    {
     "name": "stdout",
     "output_type": "stream",
     "text": [
      "[1] \"Processing subject: 254636250\"\n",
      "initial  value 26.901792 \n",
      "iter   5 value 17.077349\n",
      "final  value 16.467622 \n",
      "converged\n",
      "initial  value 24.443194 \n",
      "iter   5 value 14.457621\n",
      "final  value 14.266073 \n",
      "converged\n",
      "initial  value 21.903136 \n",
      "iter   5 value 18.209683\n",
      "iter  10 value 15.171652\n",
      "iter  10 value 15.164270\n",
      "iter  10 value 15.164270\n",
      "final  value 15.164270 \n",
      "converged\n"
     ]
    },
    {
     "name": "stderr",
     "output_type": "stream",
     "text": [
      "`stat_bindot()` using `bins = 30`. Pick better value with `binwidth`.\n",
      "`stat_bindot()` using `bins = 30`. Pick better value with `binwidth`.\n",
      "`stat_bindot()` using `bins = 30`. Pick better value with `binwidth`.\n"
     ]
    },
    {
     "name": "stdout",
     "output_type": "stream",
     "text": [
      "[1] \"Processing subject: 258262801\"\n",
      "initial  value 29.979111 \n",
      "iter   5 value 19.356987\n",
      "final  value 18.812225 \n",
      "converged\n",
      "initial  value 23.282968 \n",
      "iter   5 value 14.792222\n",
      "final  value 14.332095 \n",
      "converged\n",
      "initial  value 18.862201 \n",
      "iter   5 value 13.925473\n",
      "final  value 13.744661 \n",
      "converged\n"
     ]
    },
    {
     "name": "stderr",
     "output_type": "stream",
     "text": [
      "`stat_bindot()` using `bins = 30`. Pick better value with `binwidth`.\n",
      "`stat_bindot()` using `bins = 30`. Pick better value with `binwidth`.\n",
      "`stat_bindot()` using `bins = 30`. Pick better value with `binwidth`.\n"
     ]
    },
    {
     "name": "stdout",
     "output_type": "stream",
     "text": [
      "[1] \"Processing subject: 260506797\"\n",
      "initial  value 16.220809 \n",
      "iter   5 value 10.865122\n",
      "iter  10 value 10.397553\n",
      "final  value 10.351107 \n",
      "converged\n",
      "initial  value 7.919283 \n",
      "iter   5 value 6.005324\n",
      "final  value 5.916795 \n",
      "converged\n",
      "initial  value 15.606940 \n",
      "iter   5 value 10.987994\n",
      "final  value 10.862414 \n",
      "converged\n"
     ]
    },
    {
     "name": "stderr",
     "output_type": "stream",
     "text": [
      "`stat_bindot()` using `bins = 30`. Pick better value with `binwidth`.\n",
      "`stat_bindot()` using `bins = 30`. Pick better value with `binwidth`.\n",
      "`stat_bindot()` using `bins = 30`. Pick better value with `binwidth`.\n"
     ]
    },
    {
     "name": "stdout",
     "output_type": "stream",
     "text": [
      "[1] \"Processing subject: 260639671\"\n",
      "initial  value 9.616740 \n",
      "iter   5 value 4.595682\n",
      "iter  10 value 4.403715\n",
      "iter  10 value 4.399403\n",
      "iter  10 value 4.398857\n",
      "final  value 4.398857 \n",
      "converged\n",
      "initial  value 11.521699 \n",
      "iter   5 value 8.136211\n",
      "final  value 8.113363 \n",
      "converged\n",
      "initial  value 10.625647 \n",
      "iter   5 value 6.936814\n",
      "final  value 6.758730 \n",
      "converged\n"
     ]
    },
    {
     "name": "stderr",
     "output_type": "stream",
     "text": [
      "`stat_bindot()` using `bins = 30`. Pick better value with `binwidth`.\n",
      "`stat_bindot()` using `bins = 30`. Pick better value with `binwidth`.\n",
      "`stat_bindot()` using `bins = 30`. Pick better value with `binwidth`.\n"
     ]
    },
    {
     "name": "stdout",
     "output_type": "stream",
     "text": [
      "[1] \"Processing subject: 264265394\"\n",
      "initial  value 20.652602 \n",
      "iter   5 value 17.041891\n",
      "iter  10 value 16.489309\n",
      "final  value 15.794626 \n",
      "converged\n",
      "initial  value 23.703731 \n",
      "iter   5 value 14.925022\n",
      "iter  10 value 14.328547\n",
      "final  value 14.299539 \n",
      "converged\n",
      "initial  value 31.538299 \n",
      "iter   5 value 23.432868\n",
      "iter  10 value 19.722475\n",
      "final  value 19.654857 \n",
      "converged\n"
     ]
    },
    {
     "name": "stderr",
     "output_type": "stream",
     "text": [
      "`stat_bindot()` using `bins = 30`. Pick better value with `binwidth`.\n",
      "`stat_bindot()` using `bins = 30`. Pick better value with `binwidth`.\n",
      "`stat_bindot()` using `bins = 30`. Pick better value with `binwidth`.\n"
     ]
    },
    {
     "name": "stdout",
     "output_type": "stream",
     "text": [
      "[1] \"Processing subject: 278333214\"\n",
      "initial  value 13.032921 \n",
      "iter   5 value 8.972331\n",
      "final  value 8.924639 \n",
      "converged\n",
      "initial  value 14.633238 \n",
      "iter   5 value 8.249421\n",
      "final  value 8.193505 \n",
      "converged\n",
      "initial  value 7.556634 \n",
      "iter   5 value 4.714025\n",
      "final  value 4.654426 \n",
      "converged\n"
     ]
    },
    {
     "name": "stderr",
     "output_type": "stream",
     "text": [
      "`stat_bindot()` using `bins = 30`. Pick better value with `binwidth`.\n",
      "`stat_bindot()` using `bins = 30`. Pick better value with `binwidth`.\n",
      "`stat_bindot()` using `bins = 30`. Pick better value with `binwidth`.\n"
     ]
    },
    {
     "name": "stdout",
     "output_type": "stream",
     "text": [
      "[1] \"Processing subject: 282221021\"\n",
      "initial  value 24.090484 \n",
      "iter   5 value 12.605175\n",
      "final  value 12.256958 \n",
      "converged\n",
      "initial  value 24.236700 \n",
      "iter   5 value 13.670799\n",
      "iter  10 value 12.344189\n",
      "final  value 12.287100 \n",
      "converged\n",
      "initial  value 20.778353 \n",
      "iter   5 value 14.059627\n",
      "iter  10 value 11.792031\n",
      "final  value 11.678292 \n",
      "converged\n"
     ]
    },
    {
     "name": "stderr",
     "output_type": "stream",
     "text": [
      "`stat_bindot()` using `bins = 30`. Pick better value with `binwidth`.\n",
      "`stat_bindot()` using `bins = 30`. Pick better value with `binwidth`.\n",
      "`stat_bindot()` using `bins = 30`. Pick better value with `binwidth`.\n"
     ]
    },
    {
     "name": "stdout",
     "output_type": "stream",
     "text": [
      "[1] \"Processing subject: 283489688\"\n",
      "initial  value 17.840755 \n",
      "iter   5 value 14.726641\n",
      "iter  10 value 14.401939\n",
      "iter  10 value 14.394645\n",
      "iter  10 value 14.389588\n",
      "final  value 14.389588 \n",
      "converged\n",
      "initial  value 26.951817 \n",
      "iter   5 value 20.354387\n",
      "final  value 20.177168 \n",
      "converged\n",
      "initial  value 28.447955 \n",
      "iter   5 value 18.091262\n",
      "iter  10 value 16.218010\n",
      "final  value 15.990722 \n",
      "converged\n"
     ]
    },
    {
     "name": "stderr",
     "output_type": "stream",
     "text": [
      "`stat_bindot()` using `bins = 30`. Pick better value with `binwidth`.\n",
      "`stat_bindot()` using `bins = 30`. Pick better value with `binwidth`.\n",
      "`stat_bindot()` using `bins = 30`. Pick better value with `binwidth`.\n"
     ]
    },
    {
     "name": "stdout",
     "output_type": "stream",
     "text": [
      "[1] \"Processing subject: 305242247\"\n",
      "initial  value 18.920660 \n",
      "iter   5 value 11.087347\n",
      "final  value 9.649667 \n",
      "converged\n",
      "initial  value 18.359220 \n",
      "final  value 13.454430 \n",
      "converged\n",
      "initial  value 22.192227 \n",
      "iter   5 value 19.357149\n",
      "iter  10 value 19.045815\n",
      "iter  10 value 19.035594\n",
      "iter  10 value 19.035594\n",
      "final  value 19.035594 \n",
      "converged\n"
     ]
    },
    {
     "name": "stderr",
     "output_type": "stream",
     "text": [
      "`stat_bindot()` using `bins = 30`. Pick better value with `binwidth`.\n",
      "`stat_bindot()` using `bins = 30`. Pick better value with `binwidth`.\n",
      "`stat_bindot()` using `bins = 30`. Pick better value with `binwidth`.\n"
     ]
    },
    {
     "name": "stdout",
     "output_type": "stream",
     "text": [
      "[1] \"Processing subject: 307082850\"\n",
      "initial  value 29.746192 \n",
      "iter   5 value 22.745204\n",
      "iter  10 value 21.858805\n",
      "iter  10 value 21.849616\n",
      "iter  10 value 21.849459\n",
      "final  value 21.849459 \n",
      "converged\n",
      "initial  value 28.019491 \n",
      "iter   5 value 17.322128\n",
      "iter  10 value 14.327070\n",
      "iter  15 value 9.791756\n",
      "final  value 9.489967 \n",
      "converged\n",
      "initial  value 24.709671 \n",
      "iter   5 value 17.989895\n",
      "final  value 17.836692 \n",
      "converged\n"
     ]
    },
    {
     "name": "stderr",
     "output_type": "stream",
     "text": [
      "`stat_bindot()` using `bins = 30`. Pick better value with `binwidth`.\n",
      "`stat_bindot()` using `bins = 30`. Pick better value with `binwidth`.\n",
      "`stat_bindot()` using `bins = 30`. Pick better value with `binwidth`.\n"
     ]
    },
    {
     "name": "stdout",
     "output_type": "stream",
     "text": [
      "[1] \"Processing subject: 320101016\"\n",
      "initial  value 13.756897 \n",
      "iter   5 value 2.749264\n",
      "iter  10 value 1.602860\n",
      "iter  15 value 1.485587\n",
      "final  value 1.477594 \n",
      "converged\n",
      "initial  value 12.723307 \n",
      "iter   5 value 6.234107\n",
      "iter  10 value 4.659703\n",
      "final  value 4.643700 \n",
      "converged\n"
     ]
    },
    {
     "name": "stderr",
     "output_type": "stream",
     "text": [
      "`stat_bindot()` using `bins = 30`. Pick better value with `binwidth`.\n",
      "`stat_bindot()` using `bins = 30`. Pick better value with `binwidth`.\n"
     ]
    },
    {
     "name": "stdout",
     "output_type": "stream",
     "text": [
      "[1] \"Processing subject: 323982589\"\n",
      "initial  value 21.252058 \n",
      "iter   5 value 16.827159\n",
      "iter  10 value 16.322865\n",
      "final  value 16.263383 \n",
      "converged\n",
      "initial  value 20.544546 \n",
      "iter   5 value 15.734429\n",
      "iter  10 value 14.136440\n",
      "iter  15 value 13.248323\n",
      "final  value 13.218244 \n",
      "converged\n"
     ]
    },
    {
     "name": "stderr",
     "output_type": "stream",
     "text": [
      "`stat_bindot()` using `bins = 30`. Pick better value with `binwidth`.\n",
      "`stat_bindot()` using `bins = 30`. Pick better value with `binwidth`.\n"
     ]
    },
    {
     "name": "stdout",
     "output_type": "stream",
     "text": [
      "[1] \"Processing subject: 353174754\"\n",
      "initial  value 19.833058 \n",
      "iter   5 value 15.017965\n",
      "final  value 14.877538 \n",
      "converged\n",
      "initial  value 20.737026 \n",
      "iter   5 value 17.546851\n",
      "iter  10 value 17.172132\n",
      "final  value 17.131704 \n",
      "converged\n",
      "initial  value 24.423249 \n",
      "iter   5 value 17.151058\n",
      "final  value 17.081872 \n",
      "converged\n"
     ]
    },
    {
     "name": "stderr",
     "output_type": "stream",
     "text": [
      "`stat_bindot()` using `bins = 30`. Pick better value with `binwidth`.\n",
      "`stat_bindot()` using `bins = 30`. Pick better value with `binwidth`.\n",
      "`stat_bindot()` using `bins = 30`. Pick better value with `binwidth`.\n"
     ]
    },
    {
     "name": "stdout",
     "output_type": "stream",
     "text": [
      "[1] \"Processing subject: 353622601\"\n",
      "initial  value 21.895327 \n",
      "iter   5 value 18.240521\n",
      "iter  10 value 17.685369\n",
      "final  value 17.661023 \n",
      "converged\n",
      "initial  value 21.294033 \n",
      "iter   5 value 16.371249\n",
      "final  value 16.296333 \n",
      "converged\n",
      "initial  value 20.227606 \n",
      "iter   5 value 12.892425\n",
      "final  value 12.641462 \n",
      "converged\n"
     ]
    },
    {
     "name": "stderr",
     "output_type": "stream",
     "text": [
      "`stat_bindot()` using `bins = 30`. Pick better value with `binwidth`.\n",
      "`stat_bindot()` using `bins = 30`. Pick better value with `binwidth`.\n",
      "`stat_bindot()` using `bins = 30`. Pick better value with `binwidth`.\n"
     ]
    },
    {
     "name": "stdout",
     "output_type": "stream",
     "text": [
      "[1] \"Processing subject: 364435498\"\n",
      "initial  value 17.915964 \n",
      "iter   5 value 4.658924\n",
      "iter  10 value 3.804001\n",
      "final  value 3.793640 \n",
      "converged\n",
      "initial  value 16.311517 \n",
      "iter   5 value 8.452755\n",
      "iter  10 value 7.751926\n",
      "final  value 7.608887 \n",
      "converged\n"
     ]
    },
    {
     "name": "stderr",
     "output_type": "stream",
     "text": [
      "`stat_bindot()` using `bins = 30`. Pick better value with `binwidth`.\n",
      "`stat_bindot()` using `bins = 30`. Pick better value with `binwidth`.\n"
     ]
    },
    {
     "name": "stdout",
     "output_type": "stream",
     "text": [
      "[1] \"Processing subject: 384204662\"\n",
      "initial  value 28.567248 \n",
      "iter   5 value 16.292578\n",
      "final  value 16.020694 \n",
      "converged\n",
      "initial  value 25.555829 \n",
      "iter   5 value 20.809445\n",
      "iter  10 value 17.954373\n",
      "final  value 17.749185 \n",
      "converged\n",
      "initial  value 19.815275 \n",
      "iter   5 value 16.151763\n",
      "iter  10 value 15.914244\n",
      "final  value 15.855021 \n",
      "converged\n"
     ]
    },
    {
     "name": "stderr",
     "output_type": "stream",
     "text": [
      "`stat_bindot()` using `bins = 30`. Pick better value with `binwidth`.\n",
      "`stat_bindot()` using `bins = 30`. Pick better value with `binwidth`.\n",
      "`stat_bindot()` using `bins = 30`. Pick better value with `binwidth`.\n"
     ]
    },
    {
     "name": "stdout",
     "output_type": "stream",
     "text": [
      "[1] \"Processing subject: 394826306\"\n",
      "initial  value 41.698155 \n",
      "iter   5 value 20.141191\n",
      "iter  10 value 18.577390\n",
      "iter  10 value 18.572325\n",
      "iter  10 value 18.570870\n",
      "final  value 18.570870 \n",
      "converged\n",
      "initial  value 32.167709 \n",
      "final  value 32.167709 \n",
      "converged\n",
      "initial  value 40.109962 \n",
      "iter   5 value 25.136910\n",
      "iter  10 value 21.600893\n",
      "iter  15 value 20.671030\n",
      "final  value 20.585287 \n",
      "converged\n"
     ]
    },
    {
     "name": "stderr",
     "output_type": "stream",
     "text": [
      "`stat_bindot()` using `bins = 30`. Pick better value with `binwidth`.\n",
      "`stat_bindot()` using `bins = 30`. Pick better value with `binwidth`.\n",
      "`stat_bindot()` using `bins = 30`. Pick better value with `binwidth`.\n"
     ]
    },
    {
     "name": "stdout",
     "output_type": "stream",
     "text": [
      "[1] \"Processing subject: 396273779\"\n",
      "initial  value 23.505607 \n",
      "iter   5 value 18.884477\n",
      "iter  10 value 17.679390\n",
      "iter  10 value 17.663633\n",
      "iter  10 value 17.663633\n",
      "final  value 17.663633 \n",
      "converged\n",
      "initial  value 13.213696 \n",
      "iter   5 value 10.647305\n",
      "iter  10 value 9.963512\n",
      "final  value 9.861607 \n",
      "converged\n",
      "initial  value 25.483569 \n",
      "iter   5 value 17.008132\n",
      "iter  10 value 15.971324\n",
      "iter  15 value 15.012030\n",
      "iter  15 value 15.002065\n",
      "iter  15 value 14.996246\n",
      "final  value 14.996246 \n",
      "converged\n"
     ]
    },
    {
     "name": "stderr",
     "output_type": "stream",
     "text": [
      "`stat_bindot()` using `bins = 30`. Pick better value with `binwidth`.\n",
      "`stat_bindot()` using `bins = 30`. Pick better value with `binwidth`.\n",
      "`stat_bindot()` using `bins = 30`. Pick better value with `binwidth`.\n"
     ]
    },
    {
     "name": "stdout",
     "output_type": "stream",
     "text": [
      "[1] \"Processing subject: 399309465\"\n",
      "initial  value 20.507481 \n",
      "iter   5 value 14.187501\n",
      "final  value 13.528863 \n",
      "converged\n",
      "initial  value 20.946988 \n",
      "iter   5 value 14.296442\n",
      "iter  10 value 12.192626\n",
      "final  value 11.863246 \n",
      "converged\n",
      "initial  value 17.440196 \n",
      "iter   5 value 11.133269\n",
      "final  value 11.005378 \n",
      "converged\n"
     ]
    },
    {
     "name": "stderr",
     "output_type": "stream",
     "text": [
      "`stat_bindot()` using `bins = 30`. Pick better value with `binwidth`.\n",
      "`stat_bindot()` using `bins = 30`. Pick better value with `binwidth`.\n",
      "`stat_bindot()` using `bins = 30`. Pick better value with `binwidth`.\n"
     ]
    },
    {
     "name": "stdout",
     "output_type": "stream",
     "text": [
      "[1] \"Processing subject: 401055739\"\n",
      "initial  value 15.139162 \n",
      "iter   5 value 8.927481\n",
      "iter  10 value 7.403814\n",
      "iter  15 value 7.304278\n",
      "iter  15 value 7.301971\n",
      "iter  15 value 7.301971\n",
      "final  value 7.301971 \n",
      "converged\n",
      "initial  value 14.552274 \n",
      "iter   5 value 7.925602\n",
      "final  value 7.801220 \n",
      "converged\n",
      "initial  value 11.126813 \n",
      "iter   5 value 5.915361\n",
      "final  value 5.775764 \n",
      "converged\n"
     ]
    },
    {
     "name": "stderr",
     "output_type": "stream",
     "text": [
      "`stat_bindot()` using `bins = 30`. Pick better value with `binwidth`.\n",
      "`stat_bindot()` using `bins = 30`. Pick better value with `binwidth`.\n",
      "`stat_bindot()` using `bins = 30`. Pick better value with `binwidth`.\n"
     ]
    },
    {
     "name": "stdout",
     "output_type": "stream",
     "text": [
      "[1] \"Processing subject: 409519376\"\n",
      "initial  value 26.736754 \n",
      "iter   5 value 17.234811\n",
      "iter  10 value 16.218998\n",
      "final  value 16.096382 \n",
      "converged\n",
      "initial  value 27.879347 \n",
      "iter   5 value 20.284708\n",
      "iter   5 value 20.277847\n",
      "iter   5 value 20.277847\n",
      "final  value 20.277847 \n",
      "converged\n",
      "initial  value 20.246363 \n",
      "iter   5 value 13.739987\n",
      "iter  10 value 13.439243\n",
      "iter  10 value 13.427825\n",
      "iter  10 value 13.424836\n",
      "final  value 13.424836 \n",
      "converged\n"
     ]
    },
    {
     "name": "stderr",
     "output_type": "stream",
     "text": [
      "`stat_bindot()` using `bins = 30`. Pick better value with `binwidth`.\n",
      "`stat_bindot()` using `bins = 30`. Pick better value with `binwidth`.\n",
      "`stat_bindot()` using `bins = 30`. Pick better value with `binwidth`.\n"
     ]
    },
    {
     "name": "stdout",
     "output_type": "stream",
     "text": [
      "[1] \"Processing subject: 410233477\"\n",
      "initial  value 16.232427 \n",
      "iter   5 value 10.314122\n",
      "final  value 10.287611 \n",
      "converged\n",
      "initial  value 18.073379 \n",
      "iter   5 value 13.495353\n",
      "iter  10 value 11.952201\n",
      "final  value 11.852140 \n",
      "converged\n",
      "initial  value 25.512363 \n",
      "iter   5 value 16.321373\n",
      "final  value 15.573063 \n",
      "converged\n"
     ]
    },
    {
     "name": "stderr",
     "output_type": "stream",
     "text": [
      "`stat_bindot()` using `bins = 30`. Pick better value with `binwidth`.\n",
      "`stat_bindot()` using `bins = 30`. Pick better value with `binwidth`.\n",
      "`stat_bindot()` using `bins = 30`. Pick better value with `binwidth`.\n"
     ]
    },
    {
     "name": "stdout",
     "output_type": "stream",
     "text": [
      "[1] \"Processing subject: 430384939\"\n",
      "initial  value 8.575564 \n",
      "iter   5 value 5.380261\n",
      "final  value 5.342164 \n",
      "converged\n",
      "initial  value 8.115100 \n",
      "iter   5 value 4.954719\n",
      "final  value 4.855163 \n",
      "converged\n",
      "initial  value 6.981518 \n",
      "iter   5 value 3.910136\n",
      "final  value 3.799177 \n",
      "converged\n"
     ]
    },
    {
     "name": "stderr",
     "output_type": "stream",
     "text": [
      "`stat_bindot()` using `bins = 30`. Pick better value with `binwidth`.\n",
      "`stat_bindot()` using `bins = 30`. Pick better value with `binwidth`.\n",
      "`stat_bindot()` using `bins = 30`. Pick better value with `binwidth`.\n"
     ]
    },
    {
     "name": "stdout",
     "output_type": "stream",
     "text": [
      "[1] \"Processing subject: 436277195\"\n",
      "initial  value 22.206995 \n",
      "iter   5 value 18.191258\n",
      "iter  10 value 16.853350\n",
      "final  value 16.791085 \n",
      "converged\n",
      "initial  value 25.023345 \n",
      "iter   5 value 20.113992\n",
      "final  value 19.730187 \n",
      "converged\n",
      "initial  value 29.344079 \n",
      "iter   5 value 23.084702\n",
      "iter  10 value 22.210997\n",
      "final  value 22.167186 \n",
      "converged\n"
     ]
    },
    {
     "name": "stderr",
     "output_type": "stream",
     "text": [
      "`stat_bindot()` using `bins = 30`. Pick better value with `binwidth`.\n",
      "`stat_bindot()` using `bins = 30`. Pick better value with `binwidth`.\n",
      "`stat_bindot()` using `bins = 30`. Pick better value with `binwidth`.\n"
     ]
    },
    {
     "name": "stdout",
     "output_type": "stream",
     "text": [
      "[1] \"Processing subject: 446124706\"\n",
      "initial  value 26.669025 \n",
      "iter   5 value 19.163198\n",
      "iter  10 value 17.539338\n",
      "iter  10 value 17.530170\n",
      "iter  10 value 17.523182\n",
      "final  value 17.523182 \n",
      "converged\n",
      "initial  value 19.989720 \n",
      "iter   5 value 13.255245\n",
      "iter  10 value 12.519105\n",
      "final  value 12.496274 \n",
      "converged\n",
      "initial  value 15.650823 \n",
      "iter   5 value 10.855854\n",
      "final  value 10.759385 \n",
      "converged\n"
     ]
    },
    {
     "name": "stderr",
     "output_type": "stream",
     "text": [
      "`stat_bindot()` using `bins = 30`. Pick better value with `binwidth`.\n",
      "`stat_bindot()` using `bins = 30`. Pick better value with `binwidth`.\n",
      "`stat_bindot()` using `bins = 30`. Pick better value with `binwidth`.\n"
     ]
    },
    {
     "name": "stdout",
     "output_type": "stream",
     "text": [
      "[1] \"Processing subject: 455190012\"\n",
      "initial  value 23.414424 \n",
      "iter   5 value 19.396688\n",
      "final  value 18.952523 \n",
      "converged\n",
      "initial  value 17.989851 \n",
      "iter   5 value 12.333406\n",
      "iter  10 value 11.885233\n",
      "iter  10 value 11.881314\n",
      "iter  10 value 11.879455\n",
      "final  value 11.879455 \n",
      "converged\n",
      "initial  value 26.938968 \n",
      "iter   5 value 21.150935\n",
      "final  value 20.902533 \n",
      "converged\n"
     ]
    },
    {
     "name": "stderr",
     "output_type": "stream",
     "text": [
      "`stat_bindot()` using `bins = 30`. Pick better value with `binwidth`.\n",
      "`stat_bindot()` using `bins = 30`. Pick better value with `binwidth`.\n",
      "`stat_bindot()` using `bins = 30`. Pick better value with `binwidth`.\n"
     ]
    },
    {
     "name": "stdout",
     "output_type": "stream",
     "text": [
      "[1] \"Processing subject: 491486781\"\n",
      "initial  value 25.982712 \n",
      "iter   5 value 16.702704\n",
      "final  value 16.663098 \n",
      "converged\n",
      "initial  value 17.726735 \n",
      "iter   5 value 11.862869\n",
      "final  value 11.829021 \n",
      "converged\n"
     ]
    },
    {
     "name": "stderr",
     "output_type": "stream",
     "text": [
      "`stat_bindot()` using `bins = 30`. Pick better value with `binwidth`.\n",
      "`stat_bindot()` using `bins = 30`. Pick better value with `binwidth`.\n"
     ]
    },
    {
     "name": "stdout",
     "output_type": "stream",
     "text": [
      "[1] \"Processing subject: 501308383\"\n",
      "initial  value 20.327870 \n",
      "iter   5 value 15.353373\n",
      "final  value 14.620567 \n",
      "converged\n",
      "initial  value 28.608312 \n",
      "final  value 20.965754 \n",
      "converged\n"
     ]
    },
    {
     "name": "stderr",
     "output_type": "stream",
     "text": [
      "`stat_bindot()` using `bins = 30`. Pick better value with `binwidth`.\n",
      "`stat_bindot()` using `bins = 30`. Pick better value with `binwidth`.\n"
     ]
    },
    {
     "name": "stdout",
     "output_type": "stream",
     "text": [
      "[1] \"Processing subject: 506900943\"\n",
      "initial  value 17.182742 \n",
      "iter   5 value 11.186319\n",
      "final  value 10.970325 \n",
      "converged\n",
      "initial  value 26.164034 \n",
      "iter   5 value 17.967925\n",
      "final  value 16.665466 \n",
      "converged\n"
     ]
    },
    {
     "name": "stderr",
     "output_type": "stream",
     "text": [
      "`stat_bindot()` using `bins = 30`. Pick better value with `binwidth`.\n",
      "`stat_bindot()` using `bins = 30`. Pick better value with `binwidth`.\n"
     ]
    },
    {
     "name": "stdout",
     "output_type": "stream",
     "text": [
      "[1] \"Processing subject: 513502401\"\n",
      "initial  value 8.889781 \n",
      "iter   5 value 5.925730\n",
      "final  value 5.916428 \n",
      "converged\n",
      "initial  value 10.305908 \n",
      "iter   5 value 6.055092\n",
      "iter  10 value 5.860977\n",
      "iter  10 value 5.857546\n",
      "iter  10 value 5.857222\n",
      "final  value 5.857222 \n",
      "converged\n"
     ]
    },
    {
     "name": "stderr",
     "output_type": "stream",
     "text": [
      "`stat_bindot()` using `bins = 30`. Pick better value with `binwidth`.\n",
      "`stat_bindot()` using `bins = 30`. Pick better value with `binwidth`.\n"
     ]
    },
    {
     "name": "stdout",
     "output_type": "stream",
     "text": [
      "[1] \"Processing subject: 533236445\"\n",
      "initial  value 24.599427 \n",
      "iter   5 value 18.885447\n",
      "final  value 18.820596 \n",
      "converged\n",
      "initial  value 19.886037 \n",
      "iter   5 value 13.572619\n",
      "final  value 13.528815 \n",
      "converged\n",
      "initial  value 22.061617 \n",
      "iter   5 value 16.924151\n",
      "iter  10 value 16.244582\n",
      "final  value 16.210421 \n",
      "converged\n"
     ]
    },
    {
     "name": "stderr",
     "output_type": "stream",
     "text": [
      "`stat_bindot()` using `bins = 30`. Pick better value with `binwidth`.\n",
      "`stat_bindot()` using `bins = 30`. Pick better value with `binwidth`.\n",
      "`stat_bindot()` using `bins = 30`. Pick better value with `binwidth`.\n"
     ]
    },
    {
     "name": "stdout",
     "output_type": "stream",
     "text": [
      "[1] \"Processing subject: 538718181\"\n",
      "initial  value 28.432436 \n",
      "iter   5 value 17.929577\n",
      "final  value 17.743859 \n",
      "converged\n",
      "initial  value 23.863531 \n",
      "iter   5 value 17.282043\n",
      "iter  10 value 16.007314\n",
      "iter  15 value 15.319115\n",
      "final  value 15.245156 \n",
      "converged\n"
     ]
    },
    {
     "name": "stderr",
     "output_type": "stream",
     "text": [
      "`stat_bindot()` using `bins = 30`. Pick better value with `binwidth`.\n",
      "`stat_bindot()` using `bins = 30`. Pick better value with `binwidth`.\n"
     ]
    },
    {
     "name": "stdout",
     "output_type": "stream",
     "text": [
      "[1] \"Processing subject: 571476350\"\n",
      "initial  value 11.763559 \n",
      "iter   5 value 8.017109\n",
      "final  value 7.656340 \n",
      "converged\n",
      "initial  value 12.626242 \n",
      "iter   5 value 8.824452\n",
      "final  value 8.802340 \n",
      "converged\n",
      "initial  value 20.972735 \n",
      "iter   5 value 15.193596\n",
      "final  value 14.980593 \n",
      "converged\n"
     ]
    },
    {
     "name": "stderr",
     "output_type": "stream",
     "text": [
      "`stat_bindot()` using `bins = 30`. Pick better value with `binwidth`.\n",
      "`stat_bindot()` using `bins = 30`. Pick better value with `binwidth`.\n",
      "`stat_bindot()` using `bins = 30`. Pick better value with `binwidth`.\n"
     ]
    },
    {
     "name": "stdout",
     "output_type": "stream",
     "text": [
      "[1] \"Processing subject: 578969802\"\n",
      "initial  value 26.175049 \n",
      "iter   5 value 9.024783\n",
      "final  value 8.563995 \n",
      "converged\n",
      "initial  value 25.701499 \n",
      "iter   5 value 15.857539\n",
      "final  value 15.107836 \n",
      "converged\n",
      "initial  value 29.846311 \n",
      "iter   5 value 18.980628\n",
      "final  value 16.808179 \n",
      "converged\n"
     ]
    },
    {
     "name": "stderr",
     "output_type": "stream",
     "text": [
      "`stat_bindot()` using `bins = 30`. Pick better value with `binwidth`.\n",
      "`stat_bindot()` using `bins = 30`. Pick better value with `binwidth`.\n",
      "`stat_bindot()` using `bins = 30`. Pick better value with `binwidth`.\n"
     ]
    },
    {
     "name": "stdout",
     "output_type": "stream",
     "text": [
      "[1] \"Processing subject: 581687652\"\n",
      "initial  value 18.451551 \n",
      "iter   5 value 11.276136\n",
      "final  value 11.226710 \n",
      "converged\n",
      "initial  value 24.743045 \n",
      "iter   5 value 18.934926\n",
      "iter  10 value 16.416034\n",
      "iter  15 value 15.098818\n",
      "final  value 15.027492 \n",
      "converged\n"
     ]
    },
    {
     "name": "stderr",
     "output_type": "stream",
     "text": [
      "`stat_bindot()` using `bins = 30`. Pick better value with `binwidth`.\n",
      "`stat_bindot()` using `bins = 30`. Pick better value with `binwidth`.\n"
     ]
    },
    {
     "name": "stdout",
     "output_type": "stream",
     "text": [
      "[1] \"Processing subject: 600716299\"\n",
      "initial  value 25.829401 \n",
      "iter   5 value 22.233660\n",
      "iter  10 value 21.565405\n",
      "iter  15 value 19.658262\n",
      "iter  20 value 18.674547\n",
      "iter  20 value 18.662612\n",
      "iter  20 value 18.662292\n",
      "final  value 18.662292 \n",
      "converged\n",
      "initial  value 15.464864 \n",
      "iter   5 value 10.402258\n",
      "final  value 10.263740 \n",
      "converged\n",
      "initial  value 20.140326 \n",
      "iter   5 value 13.834487\n",
      "iter  10 value 12.584276\n",
      "final  value 12.532392 \n",
      "converged\n"
     ]
    },
    {
     "name": "stderr",
     "output_type": "stream",
     "text": [
      "`stat_bindot()` using `bins = 30`. Pick better value with `binwidth`.\n",
      "`stat_bindot()` using `bins = 30`. Pick better value with `binwidth`.\n",
      "`stat_bindot()` using `bins = 30`. Pick better value with `binwidth`.\n"
     ]
    },
    {
     "name": "stdout",
     "output_type": "stream",
     "text": [
      "[1] \"Processing subject: 612349584\"\n",
      "initial  value 35.674847 \n",
      "iter   5 value 18.474338\n",
      "iter  10 value 11.623855\n",
      "iter  15 value 9.914676\n",
      "final  value 9.893371 \n",
      "converged\n",
      "initial  value 29.450819 \n",
      "iter   5 value 17.403905\n",
      "iter  10 value 14.558192\n",
      "final  value 14.105589 \n",
      "converged\n",
      "initial  value 20.803526 \n",
      "iter   5 value 8.235735\n",
      "iter  10 value 7.448181\n",
      "iter  10 value 7.445547\n",
      "iter  10 value 7.445547\n",
      "final  value 7.445547 \n",
      "converged\n"
     ]
    },
    {
     "name": "stderr",
     "output_type": "stream",
     "text": [
      "`stat_bindot()` using `bins = 30`. Pick better value with `binwidth`.\n",
      "`stat_bindot()` using `bins = 30`. Pick better value with `binwidth`.\n",
      "`stat_bindot()` using `bins = 30`. Pick better value with `binwidth`.\n"
     ]
    },
    {
     "name": "stdout",
     "output_type": "stream",
     "text": [
      "[1] \"Processing subject: 618946141\"\n",
      "initial  value 20.605019 \n",
      "iter   5 value 17.065194\n",
      "final  value 16.935998 \n",
      "converged\n",
      "initial  value 24.151765 \n",
      "iter   5 value 17.797522\n",
      "final  value 17.668167 \n",
      "converged\n",
      "initial  value 18.868553 \n",
      "iter   5 value 13.510976\n",
      "final  value 13.390051 \n",
      "converged\n"
     ]
    },
    {
     "name": "stderr",
     "output_type": "stream",
     "text": [
      "`stat_bindot()` using `bins = 30`. Pick better value with `binwidth`.\n",
      "`stat_bindot()` using `bins = 30`. Pick better value with `binwidth`.\n",
      "`stat_bindot()` using `bins = 30`. Pick better value with `binwidth`.\n"
     ]
    },
    {
     "name": "stdout",
     "output_type": "stream",
     "text": [
      "[1] \"Processing subject: 631271615\"\n",
      "initial  value 12.180223 \n",
      "iter   5 value 6.018510\n",
      "iter  10 value 5.499061\n",
      "final  value 5.458474 \n",
      "converged\n",
      "initial  value 16.740767 \n",
      "iter   5 value 8.110455\n",
      "iter  10 value 5.908602\n",
      "iter  15 value 5.635139\n",
      "final  value 5.628060 \n",
      "converged\n",
      "initial  value 14.234010 \n",
      "iter   5 value 9.128661\n",
      "iter  10 value 8.469181\n",
      "final  value 8.436883 \n",
      "converged\n"
     ]
    },
    {
     "name": "stderr",
     "output_type": "stream",
     "text": [
      "`stat_bindot()` using `bins = 30`. Pick better value with `binwidth`.\n",
      "`stat_bindot()` using `bins = 30`. Pick better value with `binwidth`.\n",
      "`stat_bindot()` using `bins = 30`. Pick better value with `binwidth`.\n"
     ]
    },
    {
     "name": "stdout",
     "output_type": "stream",
     "text": [
      "[1] \"Processing subject: 637208960\"\n",
      "initial  value 26.091122 \n",
      "iter   5 value 20.506529\n",
      "final  value 20.070196 \n",
      "converged\n",
      "initial  value 21.760982 \n",
      "iter   5 value 15.768452\n",
      "iter  10 value 15.234610\n",
      "final  value 15.115795 \n",
      "converged\n",
      "initial  value 16.861817 \n",
      "iter   5 value 11.650374\n",
      "iter  10 value 10.694245\n",
      "final  value 10.570867 \n",
      "converged\n"
     ]
    },
    {
     "name": "stderr",
     "output_type": "stream",
     "text": [
      "`stat_bindot()` using `bins = 30`. Pick better value with `binwidth`.\n",
      "`stat_bindot()` using `bins = 30`. Pick better value with `binwidth`.\n",
      "`stat_bindot()` using `bins = 30`. Pick better value with `binwidth`.\n"
     ]
    },
    {
     "name": "stdout",
     "output_type": "stream",
     "text": [
      "[1] \"Processing subject: 639826396\"\n",
      "initial  value 20.463750 \n",
      "iter   5 value 14.899450\n",
      "final  value 14.785255 \n",
      "converged\n",
      "initial  value 26.515865 \n",
      "iter   5 value 20.101835\n",
      "iter  10 value 17.602683\n",
      "final  value 17.459683 \n",
      "converged\n",
      "initial  value 23.466894 \n",
      "iter   5 value 18.922157\n",
      "iter  10 value 17.644372\n",
      "iter  10 value 17.634934\n",
      "iter  10 value 17.634934\n",
      "final  value 17.634934 \n",
      "converged\n"
     ]
    },
    {
     "name": "stderr",
     "output_type": "stream",
     "text": [
      "`stat_bindot()` using `bins = 30`. Pick better value with `binwidth`.\n",
      "`stat_bindot()` using `bins = 30`. Pick better value with `binwidth`.\n",
      "`stat_bindot()` using `bins = 30`. Pick better value with `binwidth`.\n"
     ]
    },
    {
     "name": "stdout",
     "output_type": "stream",
     "text": [
      "[1] \"Processing subject: 641161221\"\n",
      "initial  value 31.654391 \n",
      "iter   5 value 24.047906\n",
      "iter  10 value 20.832464\n",
      "iter  15 value 17.503265\n",
      "iter  20 value 16.764635\n",
      "final  value 16.698328 \n",
      "converged\n",
      "initial  value 23.335985 \n",
      "iter   5 value 19.757550\n",
      "iter  10 value 18.447024\n",
      "iter  15 value 17.742059\n",
      "final  value 17.696813 \n",
      "converged\n"
     ]
    },
    {
     "name": "stderr",
     "output_type": "stream",
     "text": [
      "`stat_bindot()` using `bins = 30`. Pick better value with `binwidth`.\n",
      "`stat_bindot()` using `bins = 30`. Pick better value with `binwidth`.\n"
     ]
    },
    {
     "name": "stdout",
     "output_type": "stream",
     "text": [
      "[1] \"Processing subject: 658537675\"\n",
      "initial  value 28.805320 \n",
      "iter   5 value 21.024120\n",
      "final  value 20.290027 \n",
      "converged\n",
      "initial  value 27.138751 \n",
      "iter   5 value 16.778267\n",
      "final  value 16.106921 \n",
      "converged\n",
      "initial  value 21.493303 \n",
      "iter   5 value 14.170817\n",
      "iter  10 value 13.846229\n",
      "iter  10 value 13.837365\n",
      "iter  10 value 13.833719\n",
      "final  value 13.833719 \n",
      "converged\n"
     ]
    },
    {
     "name": "stderr",
     "output_type": "stream",
     "text": [
      "`stat_bindot()` using `bins = 30`. Pick better value with `binwidth`.\n",
      "`stat_bindot()` using `bins = 30`. Pick better value with `binwidth`.\n",
      "`stat_bindot()` using `bins = 30`. Pick better value with `binwidth`.\n"
     ]
    },
    {
     "name": "stdout",
     "output_type": "stream",
     "text": [
      "[1] \"Processing subject: 658938948\"\n",
      "initial  value 23.509619 \n",
      "iter   5 value 15.403035\n",
      "iter  10 value 14.074832\n",
      "final  value 14.025586 \n",
      "converged\n",
      "initial  value 25.050238 \n",
      "iter   5 value 18.333205\n",
      "iter  10 value 17.910872\n",
      "final  value 17.802157 \n",
      "converged\n",
      "initial  value 20.311020 \n",
      "iter   5 value 11.120996\n",
      "final  value 11.080901 \n",
      "converged\n"
     ]
    },
    {
     "name": "stderr",
     "output_type": "stream",
     "text": [
      "`stat_bindot()` using `bins = 30`. Pick better value with `binwidth`.\n",
      "`stat_bindot()` using `bins = 30`. Pick better value with `binwidth`.\n",
      "`stat_bindot()` using `bins = 30`. Pick better value with `binwidth`.\n"
     ]
    },
    {
     "name": "stdout",
     "output_type": "stream",
     "text": [
      "[1] \"Processing subject: 663561812\"\n",
      "initial  value 25.639078 \n",
      "iter   5 value 17.443521\n",
      "iter  10 value 15.954527\n",
      "iter  15 value 15.131969\n",
      "iter  15 value 15.128356\n",
      "iter  15 value 15.128356\n",
      "final  value 15.128356 \n",
      "converged\n",
      "initial  value 18.596104 \n",
      "iter   5 value 11.838067\n",
      "iter  10 value 11.476379\n",
      "final  value 11.356169 \n",
      "converged\n",
      "initial  value 17.791661 \n",
      "iter   5 value 11.701857\n",
      "final  value 11.660658 \n",
      "converged\n"
     ]
    },
    {
     "name": "stderr",
     "output_type": "stream",
     "text": [
      "`stat_bindot()` using `bins = 30`. Pick better value with `binwidth`.\n",
      "`stat_bindot()` using `bins = 30`. Pick better value with `binwidth`.\n",
      "`stat_bindot()` using `bins = 30`. Pick better value with `binwidth`.\n"
     ]
    },
    {
     "name": "stdout",
     "output_type": "stream",
     "text": [
      "[1] \"Processing subject: 668946245\"\n",
      "initial  value 22.307309 \n",
      "iter   5 value 5.314474\n",
      "iter  10 value 2.522436\n",
      "iter  15 value 1.963083\n",
      "iter  20 value 1.871942\n",
      "final  value 1.866792 \n",
      "converged\n",
      "initial  value 24.847199 \n",
      "iter   5 value 22.062590\n",
      "iter  10 value 19.949272\n",
      "iter  15 value 9.375311\n",
      "iter  20 value 6.959725\n",
      "final  value 6.703366 \n",
      "converged\n"
     ]
    },
    {
     "name": "stderr",
     "output_type": "stream",
     "text": [
      "`stat_bindot()` using `bins = 30`. Pick better value with `binwidth`.\n",
      "`stat_bindot()` using `bins = 30`. Pick better value with `binwidth`.\n"
     ]
    },
    {
     "name": "stdout",
     "output_type": "stream",
     "text": [
      "[1] \"Processing subject: 669812533\"\n",
      "initial  value 23.919692 \n",
      "iter   5 value 19.947616\n",
      "iter  10 value 19.124481\n",
      "final  value 19.097772 \n",
      "converged\n",
      "initial  value 30.594144 \n",
      "iter   5 value 23.432307\n",
      "iter  10 value 23.051642\n",
      "iter  15 value 22.146815\n",
      "iter  20 value 16.793910\n",
      "iter  25 value 16.292715\n",
      "final  value 16.258223 \n",
      "converged\n"
     ]
    },
    {
     "name": "stderr",
     "output_type": "stream",
     "text": [
      "`stat_bindot()` using `bins = 30`. Pick better value with `binwidth`.\n",
      "`stat_bindot()` using `bins = 30`. Pick better value with `binwidth`.\n"
     ]
    },
    {
     "name": "stdout",
     "output_type": "stream",
     "text": [
      "[1] \"Processing subject: 679733741\"\n",
      "initial  value 14.917728 \n",
      "iter   5 value 9.094278\n",
      "iter  10 value 8.604439\n",
      "iter  15 value 8.427188\n",
      "final  value 8.354861 \n",
      "converged\n",
      "initial  value 11.099855 \n",
      "iter   5 value 7.280410\n",
      "final  value 7.221195 \n",
      "converged\n"
     ]
    },
    {
     "name": "stderr",
     "output_type": "stream",
     "text": [
      "`stat_bindot()` using `bins = 30`. Pick better value with `binwidth`.\n",
      "`stat_bindot()` using `bins = 30`. Pick better value with `binwidth`.\n"
     ]
    },
    {
     "name": "stdout",
     "output_type": "stream",
     "text": [
      "[1] \"Processing subject: 694064682\"\n",
      "initial  value 28.803837 \n",
      "iter   5 value 21.939943\n",
      "iter  10 value 21.295775\n",
      "final  value 20.796635 \n",
      "converged\n",
      "initial  value 22.858067 \n",
      "iter   5 value 21.014651\n",
      "final  value 20.967830 \n",
      "converged\n",
      "initial  value 24.106197 \n",
      "iter   5 value 17.145531\n",
      "iter  10 value 15.413811\n",
      "final  value 14.614151 \n",
      "converged\n"
     ]
    },
    {
     "name": "stderr",
     "output_type": "stream",
     "text": [
      "`stat_bindot()` using `bins = 30`. Pick better value with `binwidth`.\n",
      "`stat_bindot()` using `bins = 30`. Pick better value with `binwidth`.\n",
      "`stat_bindot()` using `bins = 30`. Pick better value with `binwidth`.\n"
     ]
    },
    {
     "name": "stdout",
     "output_type": "stream",
     "text": [
      "[1] \"Processing subject: 700268324\"\n",
      "initial  value 15.871557 \n",
      "iter   5 value 10.777452\n",
      "final  value 10.678866 \n",
      "converged\n",
      "initial  value 20.391308 \n",
      "iter   5 value 15.883311\n",
      "iter   5 value 15.882831\n",
      "iter   5 value 15.882831\n",
      "final  value 15.882831 \n",
      "converged\n",
      "initial  value 20.666386 \n",
      "iter   5 value 18.119514\n",
      "final  value 18.040942 \n",
      "converged\n"
     ]
    },
    {
     "name": "stderr",
     "output_type": "stream",
     "text": [
      "`stat_bindot()` using `bins = 30`. Pick better value with `binwidth`.\n",
      "`stat_bindot()` using `bins = 30`. Pick better value with `binwidth`.\n",
      "`stat_bindot()` using `bins = 30`. Pick better value with `binwidth`.\n"
     ]
    },
    {
     "name": "stdout",
     "output_type": "stream",
     "text": [
      "[1] \"Processing subject: 712383278\"\n",
      "initial  value 24.907105 \n",
      "iter   5 value 14.008824\n",
      "iter  10 value 13.389816\n",
      "final  value 13.366626 \n",
      "converged\n",
      "initial  value 20.845754 \n",
      "iter   5 value 14.992708\n",
      "iter  10 value 14.237048\n",
      "final  value 13.900809 \n",
      "converged\n",
      "initial  value 22.046182 \n",
      "iter   5 value 16.796806\n",
      "final  value 16.442086 \n",
      "converged\n"
     ]
    },
    {
     "name": "stderr",
     "output_type": "stream",
     "text": [
      "`stat_bindot()` using `bins = 30`. Pick better value with `binwidth`.\n",
      "`stat_bindot()` using `bins = 30`. Pick better value with `binwidth`.\n",
      "`stat_bindot()` using `bins = 30`. Pick better value with `binwidth`.\n"
     ]
    },
    {
     "name": "stdout",
     "output_type": "stream",
     "text": [
      "[1] \"Processing subject: 715861269\"\n",
      "initial  value 27.689665 \n",
      "iter   5 value 21.395330\n",
      "iter  10 value 19.859240\n",
      "final  value 19.675365 \n",
      "converged\n",
      "initial  value 17.789650 \n",
      "iter   5 value 14.399303\n",
      "iter  10 value 13.933759\n",
      "iter  10 value 13.933718\n",
      "iter  10 value 13.933718\n",
      "final  value 13.933718 \n",
      "converged\n",
      "initial  value 27.809969 \n",
      "iter   5 value 17.584798\n",
      "iter  10 value 16.639577\n",
      "iter  10 value 16.638660\n",
      "iter  10 value 16.638660\n",
      "final  value 16.638660 \n",
      "converged\n"
     ]
    },
    {
     "name": "stderr",
     "output_type": "stream",
     "text": [
      "`stat_bindot()` using `bins = 30`. Pick better value with `binwidth`.\n",
      "`stat_bindot()` using `bins = 30`. Pick better value with `binwidth`.\n",
      "`stat_bindot()` using `bins = 30`. Pick better value with `binwidth`.\n"
     ]
    },
    {
     "name": "stdout",
     "output_type": "stream",
     "text": [
      "[1] \"Processing subject: 741453790\"\n",
      "initial  value 38.270351 \n",
      "iter   5 value 24.845564\n",
      "iter  10 value 21.741025\n",
      "iter  15 value 18.162123\n",
      "final  value 17.610351 \n",
      "converged\n",
      "initial  value 31.723254 \n",
      "iter   5 value 21.650413\n",
      "iter  10 value 21.096035\n",
      "iter  10 value 21.085733\n",
      "iter  10 value 21.081643\n",
      "final  value 21.081643 \n",
      "converged\n"
     ]
    },
    {
     "name": "stderr",
     "output_type": "stream",
     "text": [
      "`stat_bindot()` using `bins = 30`. Pick better value with `binwidth`.\n",
      "`stat_bindot()` using `bins = 30`. Pick better value with `binwidth`.\n"
     ]
    },
    {
     "name": "stdout",
     "output_type": "stream",
     "text": [
      "[1] \"Processing subject: 742254729\"\n",
      "initial  value 19.029766 \n",
      "iter   5 value 10.784848\n",
      "final  value 10.265824 \n",
      "converged\n",
      "initial  value 17.198308 \n",
      "iter   5 value 11.381995\n",
      "iter  10 value 11.006844\n",
      "final  value 10.937078 \n",
      "converged\n",
      "initial  value 18.962680 \n",
      "iter   5 value 16.213151\n",
      "final  value 16.134210 \n",
      "converged\n"
     ]
    },
    {
     "name": "stderr",
     "output_type": "stream",
     "text": [
      "`stat_bindot()` using `bins = 30`. Pick better value with `binwidth`.\n",
      "`stat_bindot()` using `bins = 30`. Pick better value with `binwidth`.\n",
      "`stat_bindot()` using `bins = 30`. Pick better value with `binwidth`.\n"
     ]
    },
    {
     "name": "stdout",
     "output_type": "stream",
     "text": [
      "[1] \"Processing subject: 753646021\"\n",
      "initial  value 10.681549 \n",
      "iter   5 value 8.817766\n",
      "iter  10 value 8.462870\n",
      "iter  15 value 8.253051\n",
      "iter  15 value 8.247058\n",
      "iter  15 value 8.246595\n",
      "final  value 8.246595 \n",
      "converged\n",
      "initial  value 25.376519 \n",
      "iter   5 value 19.663899\n",
      "iter  10 value 18.022448\n",
      "final  value 17.991271 \n",
      "converged\n"
     ]
    },
    {
     "name": "stderr",
     "output_type": "stream",
     "text": [
      "`stat_bindot()` using `bins = 30`. Pick better value with `binwidth`.\n",
      "`stat_bindot()` using `bins = 30`. Pick better value with `binwidth`.\n"
     ]
    },
    {
     "name": "stdout",
     "output_type": "stream",
     "text": [
      "[1] \"Processing subject: 775037105\"\n",
      "initial  value 21.223019 \n",
      "iter   5 value 18.082655\n",
      "final  value 17.997520 \n",
      "converged\n",
      "initial  value 27.277417 \n",
      "iter   5 value 16.563400\n",
      "final  value 16.124827 \n",
      "converged\n"
     ]
    },
    {
     "name": "stderr",
     "output_type": "stream",
     "text": [
      "`stat_bindot()` using `bins = 30`. Pick better value with `binwidth`.\n",
      "`stat_bindot()` using `bins = 30`. Pick better value with `binwidth`.\n"
     ]
    },
    {
     "name": "stdout",
     "output_type": "stream",
     "text": [
      "[1] \"Processing subject: 781825050\"\n",
      "initial  value 22.317807 \n",
      "iter   5 value 18.825833\n",
      "final  value 18.628300 \n",
      "converged\n",
      "initial  value 24.092185 \n",
      "iter   5 value 17.394769\n",
      "final  value 17.330436 \n",
      "converged\n",
      "initial  value 26.226722 \n",
      "iter   5 value 18.947378\n",
      "iter  10 value 17.339694\n",
      "iter  10 value 17.323348\n",
      "iter  10 value 17.323348\n",
      "final  value 17.323348 \n",
      "converged\n"
     ]
    },
    {
     "name": "stderr",
     "output_type": "stream",
     "text": [
      "`stat_bindot()` using `bins = 30`. Pick better value with `binwidth`.\n",
      "`stat_bindot()` using `bins = 30`. Pick better value with `binwidth`.\n",
      "`stat_bindot()` using `bins = 30`. Pick better value with `binwidth`.\n"
     ]
    },
    {
     "name": "stdout",
     "output_type": "stream",
     "text": [
      "[1] \"Processing subject: 782214882\"\n",
      "initial  value 22.151451 \n",
      "iter   5 value 17.429881\n",
      "iter  10 value 15.301929\n",
      "final  value 15.238609 \n",
      "converged\n",
      "initial  value 9.553696 \n",
      "iter   5 value 3.168705\n",
      "iter  10 value 1.427570\n",
      "iter  15 value 0.828372\n",
      "iter  20 value 0.328895\n",
      "iter  25 value 0.139469\n",
      "iter  30 value 0.071341\n",
      "iter  35 value 0.025006\n",
      "final  value 0.007976 \n",
      "converged\n",
      "initial  value 13.634355 \n",
      "iter   5 value 10.338817\n",
      "final  value 10.303143 \n",
      "converged\n"
     ]
    },
    {
     "name": "stderr",
     "output_type": "stream",
     "text": [
      "`stat_bindot()` using `bins = 30`. Pick better value with `binwidth`.\n",
      "`stat_bindot()` using `bins = 30`. Pick better value with `binwidth`.\n",
      "`stat_bindot()` using `bins = 30`. Pick better value with `binwidth`.\n"
     ]
    },
    {
     "name": "stdout",
     "output_type": "stream",
     "text": [
      "[1] \"Processing subject: 787750145\"\n",
      "initial  value 13.172949 \n",
      "iter   5 value 7.349971\n",
      "iter  10 value 6.943368\n",
      "final  value 6.881498 \n",
      "converged\n",
      "initial  value 9.517285 \n",
      "iter   5 value 6.078424\n",
      "final  value 5.969810 \n",
      "converged\n",
      "initial  value 15.060874 \n",
      "iter   5 value 7.872568\n",
      "final  value 7.838983 \n",
      "converged\n"
     ]
    },
    {
     "name": "stderr",
     "output_type": "stream",
     "text": [
      "`stat_bindot()` using `bins = 30`. Pick better value with `binwidth`.\n",
      "`stat_bindot()` using `bins = 30`. Pick better value with `binwidth`.\n",
      "`stat_bindot()` using `bins = 30`. Pick better value with `binwidth`.\n"
     ]
    },
    {
     "name": "stdout",
     "output_type": "stream",
     "text": [
      "[1] \"Processing subject: 803219623\"\n",
      "initial  value 21.224918 \n",
      "iter   5 value 15.942609\n",
      "final  value 15.918209 \n",
      "converged\n",
      "initial  value 21.092582 \n",
      "iter   5 value 16.579395\n",
      "final  value 16.419752 \n",
      "converged\n",
      "initial  value 22.599104 \n",
      "iter   5 value 18.636065\n",
      "final  value 18.529851 \n",
      "converged\n"
     ]
    },
    {
     "name": "stderr",
     "output_type": "stream",
     "text": [
      "`stat_bindot()` using `bins = 30`. Pick better value with `binwidth`.\n",
      "`stat_bindot()` using `bins = 30`. Pick better value with `binwidth`.\n",
      "`stat_bindot()` using `bins = 30`. Pick better value with `binwidth`.\n"
     ]
    },
    {
     "name": "stdout",
     "output_type": "stream",
     "text": [
      "[1] \"Processing subject: 809668683\"\n",
      "initial  value 7.251125 \n",
      "iter   5 value 3.854772\n",
      "iter  10 value 3.252528\n",
      "iter  15 value 2.766959\n",
      "iter  20 value 2.424337\n",
      "final  value 2.397641 \n",
      "converged\n",
      "initial  value 3.522200 \n",
      "iter   5 value 2.182920\n",
      "iter  10 value 1.796091\n",
      "final  value 1.772235 \n",
      "converged\n",
      "initial  value 18.895919 \n",
      "iter   5 value 13.360601\n",
      "iter  10 value 9.818110\n",
      "iter  10 value 9.814349\n",
      "iter  10 value 9.812334\n",
      "final  value 9.812334 \n",
      "converged\n"
     ]
    },
    {
     "name": "stderr",
     "output_type": "stream",
     "text": [
      "`stat_bindot()` using `bins = 30`. Pick better value with `binwidth`.\n",
      "`stat_bindot()` using `bins = 30`. Pick better value with `binwidth`.\n",
      "`stat_bindot()` using `bins = 30`. Pick better value with `binwidth`.\n"
     ]
    },
    {
     "name": "stdout",
     "output_type": "stream",
     "text": [
      "[1] \"Processing subject: 810831200\"\n",
      "initial  value 26.867960 \n",
      "iter   5 value 20.768806\n",
      "final  value 20.721614 \n",
      "converged\n",
      "initial  value 29.884090 \n",
      "iter   5 value 22.904775\n",
      "iter  10 value 21.328583\n",
      "iter  10 value 21.312388\n",
      "iter  10 value 21.312388\n",
      "final  value 21.312388 \n",
      "converged\n",
      "initial  value 28.946019 \n",
      "iter   5 value 23.130315\n",
      "iter  10 value 21.134161\n",
      "final  value 20.754680 \n",
      "converged\n"
     ]
    },
    {
     "name": "stderr",
     "output_type": "stream",
     "text": [
      "`stat_bindot()` using `bins = 30`. Pick better value with `binwidth`.\n",
      "`stat_bindot()` using `bins = 30`. Pick better value with `binwidth`.\n",
      "`stat_bindot()` using `bins = 30`. Pick better value with `binwidth`.\n"
     ]
    },
    {
     "name": "stdout",
     "output_type": "stream",
     "text": [
      "[1] \"Processing subject: 856353257\"\n",
      "initial  value 23.807951 \n",
      "iter   5 value 18.530820\n",
      "iter  10 value 17.119560\n",
      "final  value 16.999261 \n",
      "converged\n",
      "initial  value 21.026769 \n",
      "iter   5 value 15.948357\n",
      "iter  10 value 15.520859\n",
      "final  value 15.474182 \n",
      "converged\n",
      "initial  value 26.566966 \n",
      "iter   5 value 18.330291\n",
      "final  value 17.854479 \n",
      "converged\n"
     ]
    },
    {
     "name": "stderr",
     "output_type": "stream",
     "text": [
      "`stat_bindot()` using `bins = 30`. Pick better value with `binwidth`.\n",
      "`stat_bindot()` using `bins = 30`. Pick better value with `binwidth`.\n",
      "`stat_bindot()` using `bins = 30`. Pick better value with `binwidth`.\n"
     ]
    },
    {
     "name": "stdout",
     "output_type": "stream",
     "text": [
      "[1] \"Processing subject: 865463691\"\n",
      "initial  value 29.040328 \n",
      "iter   5 value 18.739126\n",
      "iter  10 value 16.833689\n",
      "iter  10 value 16.817559\n",
      "iter  10 value 16.817559\n",
      "final  value 16.817559 \n",
      "converged\n",
      "initial  value 26.842775 \n",
      "iter   5 value 19.365051\n",
      "final  value 18.459667 \n",
      "converged\n"
     ]
    },
    {
     "name": "stderr",
     "output_type": "stream",
     "text": [
      "`stat_bindot()` using `bins = 30`. Pick better value with `binwidth`.\n",
      "`stat_bindot()` using `bins = 30`. Pick better value with `binwidth`.\n"
     ]
    },
    {
     "name": "stdout",
     "output_type": "stream",
     "text": [
      "[1] \"Processing subject: 870248951\"\n",
      "initial  value 29.260209 \n",
      "iter   5 value 17.770801\n",
      "final  value 17.661291 \n",
      "converged\n",
      "initial  value 22.787104 \n",
      "iter   5 value 21.258906\n",
      "iter  10 value 20.588492\n",
      "iter  15 value 18.791418\n",
      "iter  20 value 17.400982\n",
      "final  value 16.905506 \n",
      "converged\n",
      "initial  value 23.905956 \n",
      "iter   5 value 19.205990\n",
      "iter  10 value 16.834647\n",
      "final  value 16.419543 \n",
      "converged\n"
     ]
    },
    {
     "name": "stderr",
     "output_type": "stream",
     "text": [
      "`stat_bindot()` using `bins = 30`. Pick better value with `binwidth`.\n",
      "`stat_bindot()` using `bins = 30`. Pick better value with `binwidth`.\n",
      "`stat_bindot()` using `bins = 30`. Pick better value with `binwidth`.\n"
     ]
    },
    {
     "name": "stdout",
     "output_type": "stream",
     "text": [
      "[1] \"Processing subject: 871955349\"\n",
      "initial  value 22.154357 \n",
      "iter   5 value 18.386282\n",
      "iter  10 value 16.734392\n",
      "iter  15 value 15.591230\n",
      "final  value 15.355942 \n",
      "converged\n",
      "initial  value 28.744606 \n",
      "iter   5 value 22.355914\n",
      "iter  10 value 20.801414\n",
      "iter  15 value 19.919384\n",
      "iter  20 value 19.404381\n",
      "iter  25 value 18.421639\n",
      "iter  25 value 18.412353\n",
      "iter  25 value 18.406411\n",
      "final  value 18.406411 \n",
      "converged\n"
     ]
    },
    {
     "name": "stderr",
     "output_type": "stream",
     "text": [
      "`stat_bindot()` using `bins = 30`. Pick better value with `binwidth`.\n",
      "`stat_bindot()` using `bins = 30`. Pick better value with `binwidth`.\n"
     ]
    },
    {
     "name": "stdout",
     "output_type": "stream",
     "text": [
      "[1] \"Processing subject: 874730448\"\n",
      "initial  value 21.173616 \n",
      "iter   5 value 16.672702\n",
      "iter  10 value 12.375206\n",
      "iter  10 value 12.363813\n",
      "iter  10 value 12.363813\n",
      "final  value 12.363813 \n",
      "converged\n",
      "initial  value 15.174583 \n",
      "iter   5 value 9.205545\n",
      "final  value 8.724026 \n",
      "converged\n",
      "initial  value 5.205038 \n",
      "iter   5 value 1.203658\n",
      "iter  10 value 0.414510\n",
      "iter  15 value 0.291693\n",
      "iter  20 value 0.139867\n",
      "iter  25 value 0.039638\n",
      "iter  30 value 0.011170\n",
      "iter  30 value 0.009607\n",
      "iter  30 value 0.006004\n",
      "final  value 0.006004 \n",
      "converged\n"
     ]
    },
    {
     "name": "stderr",
     "output_type": "stream",
     "text": [
      "`stat_bindot()` using `bins = 30`. Pick better value with `binwidth`.\n",
      "`stat_bindot()` using `bins = 30`. Pick better value with `binwidth`.\n",
      "`stat_bindot()` using `bins = 30`. Pick better value with `binwidth`.\n"
     ]
    },
    {
     "name": "stdout",
     "output_type": "stream",
     "text": [
      "[1] \"Processing subject: 879081869\"\n",
      "initial  value 6.922693 \n",
      "iter   5 value 4.813788\n",
      "final  value 4.727553 \n",
      "converged\n",
      "initial  value 10.161011 \n",
      "iter   5 value 6.631754\n",
      "final  value 6.573092 \n",
      "converged\n",
      "initial  value 15.337770 \n",
      "iter   5 value 12.677960\n",
      "final  value 12.424850 \n",
      "converged\n"
     ]
    },
    {
     "name": "stderr",
     "output_type": "stream",
     "text": [
      "`stat_bindot()` using `bins = 30`. Pick better value with `binwidth`.\n",
      "`stat_bindot()` using `bins = 30`. Pick better value with `binwidth`.\n",
      "`stat_bindot()` using `bins = 30`. Pick better value with `binwidth`.\n"
     ]
    },
    {
     "name": "stdout",
     "output_type": "stream",
     "text": [
      "[1] \"Processing subject: 894951684\"\n",
      "initial  value 27.499535 \n",
      "iter   5 value 20.657985\n",
      "final  value 20.374845 \n",
      "converged\n",
      "initial  value 14.318742 \n",
      "iter   5 value 11.783466\n",
      "final  value 11.730748 \n",
      "converged\n",
      "initial  value 13.094805 \n",
      "iter   5 value 9.779465\n",
      "final  value 9.739366 \n",
      "converged\n"
     ]
    },
    {
     "name": "stderr",
     "output_type": "stream",
     "text": [
      "`stat_bindot()` using `bins = 30`. Pick better value with `binwidth`.\n",
      "`stat_bindot()` using `bins = 30`. Pick better value with `binwidth`.\n",
      "`stat_bindot()` using `bins = 30`. Pick better value with `binwidth`.\n"
     ]
    },
    {
     "name": "stdout",
     "output_type": "stream",
     "text": [
      "[1] \"Processing subject: 895082503\"\n",
      "initial  value 21.927173 \n",
      "iter   5 value 9.100413\n",
      "final  value 8.804370 \n",
      "converged\n",
      "initial  value 40.274569 \n",
      "iter   5 value 26.123612\n",
      "iter  10 value 17.202793\n",
      "iter  15 value 16.650666\n",
      "final  value 16.586995 \n",
      "converged\n"
     ]
    },
    {
     "name": "stderr",
     "output_type": "stream",
     "text": [
      "`stat_bindot()` using `bins = 30`. Pick better value with `binwidth`.\n",
      "`stat_bindot()` using `bins = 30`. Pick better value with `binwidth`.\n"
     ]
    },
    {
     "name": "stdout",
     "output_type": "stream",
     "text": [
      "[1] \"Processing subject: 896162305\"\n",
      "initial  value 19.389739 \n",
      "iter   5 value 14.695160\n",
      "final  value 14.609381 \n",
      "converged\n",
      "initial  value 24.671584 \n",
      "iter   5 value 17.888858\n",
      "iter  10 value 15.800768\n",
      "final  value 15.763289 \n",
      "converged\n",
      "initial  value 21.735638 \n",
      "iter   5 value 16.624650\n",
      "final  value 16.570726 \n",
      "converged\n"
     ]
    },
    {
     "name": "stderr",
     "output_type": "stream",
     "text": [
      "`stat_bindot()` using `bins = 30`. Pick better value with `binwidth`.\n",
      "`stat_bindot()` using `bins = 30`. Pick better value with `binwidth`.\n",
      "`stat_bindot()` using `bins = 30`. Pick better value with `binwidth`.\n"
     ]
    },
    {
     "name": "stdout",
     "output_type": "stream",
     "text": [
      "[1] \"Processing subject: 897283237\"\n",
      "initial  value 22.033215 \n",
      "iter   5 value 18.512892\n",
      "iter   5 value 18.505767\n",
      "iter   5 value 18.505767\n",
      "final  value 18.505767 \n",
      "converged\n",
      "initial  value 21.062567 \n",
      "final  value 18.834523 \n",
      "converged\n",
      "initial  value 18.933610 \n",
      "iter   5 value 14.745921\n",
      "iter   5 value 14.734670\n",
      "iter   5 value 14.728645\n",
      "final  value 14.728645 \n",
      "converged\n"
     ]
    },
    {
     "name": "stderr",
     "output_type": "stream",
     "text": [
      "`stat_bindot()` using `bins = 30`. Pick better value with `binwidth`.\n",
      "`stat_bindot()` using `bins = 30`. Pick better value with `binwidth`.\n",
      "`stat_bindot()` using `bins = 30`. Pick better value with `binwidth`.\n"
     ]
    },
    {
     "name": "stdout",
     "output_type": "stream",
     "text": [
      "[1] \"Processing subject: 902151764\"\n",
      "initial  value 26.809276 \n",
      "iter   5 value 16.839488\n",
      "final  value 16.586491 \n",
      "converged\n",
      "initial  value 24.485746 \n",
      "final  value 21.132394 \n",
      "converged\n",
      "initial  value 26.748146 \n",
      "iter   5 value 19.107249\n",
      "final  value 19.006423 \n",
      "converged\n"
     ]
    },
    {
     "name": "stderr",
     "output_type": "stream",
     "text": [
      "`stat_bindot()` using `bins = 30`. Pick better value with `binwidth`.\n",
      "`stat_bindot()` using `bins = 30`. Pick better value with `binwidth`.\n",
      "`stat_bindot()` using `bins = 30`. Pick better value with `binwidth`.\n"
     ]
    },
    {
     "name": "stdout",
     "output_type": "stream",
     "text": [
      "[1] \"Processing subject: 906755876\"\n",
      "initial  value 21.544303 \n",
      "iter   5 value 16.587096\n",
      "iter  10 value 13.608607\n",
      "iter  15 value 12.921941\n",
      "final  value 12.888839 \n",
      "converged\n",
      "initial  value 17.042710 \n",
      "iter   5 value 10.438132\n",
      "final  value 10.274766 \n",
      "converged\n",
      "initial  value 29.287975 \n",
      "iter   5 value 19.401344\n",
      "final  value 19.340529 \n",
      "converged\n"
     ]
    },
    {
     "name": "stderr",
     "output_type": "stream",
     "text": [
      "`stat_bindot()` using `bins = 30`. Pick better value with `binwidth`.\n",
      "`stat_bindot()` using `bins = 30`. Pick better value with `binwidth`.\n",
      "`stat_bindot()` using `bins = 30`. Pick better value with `binwidth`.\n"
     ]
    },
    {
     "name": "stdout",
     "output_type": "stream",
     "text": [
      "[1] \"Processing subject: 914239552\"\n",
      "initial  value 22.183883 \n",
      "iter   5 value 15.592901\n",
      "final  value 15.531148 \n",
      "converged\n",
      "initial  value 25.903856 \n",
      "iter   5 value 20.222797\n",
      "iter  10 value 19.749517\n",
      "iter  10 value 19.737271\n",
      "iter  10 value 19.735644\n",
      "final  value 19.735644 \n",
      "converged\n"
     ]
    },
    {
     "name": "stderr",
     "output_type": "stream",
     "text": [
      "`stat_bindot()` using `bins = 30`. Pick better value with `binwidth`.\n",
      "`stat_bindot()` using `bins = 30`. Pick better value with `binwidth`.\n"
     ]
    },
    {
     "name": "stdout",
     "output_type": "stream",
     "text": [
      "[1] \"Processing subject: 918087988\"\n",
      "initial  value 27.587826 \n",
      "iter   5 value 24.032769\n",
      "iter  10 value 23.159517\n",
      "iter  15 value 22.417220\n",
      "final  value 22.344992 \n",
      "converged\n",
      "initial  value 28.171999 \n",
      "iter   5 value 20.743515\n",
      "iter  10 value 19.640245\n",
      "final  value 19.586112 \n",
      "converged\n",
      "initial  value 26.106048 \n",
      "iter   5 value 17.891467\n",
      "iter  10 value 15.824728\n",
      "final  value 15.774121 \n",
      "converged\n"
     ]
    },
    {
     "name": "stderr",
     "output_type": "stream",
     "text": [
      "`stat_bindot()` using `bins = 30`. Pick better value with `binwidth`.\n",
      "`stat_bindot()` using `bins = 30`. Pick better value with `binwidth`.\n",
      "`stat_bindot()` using `bins = 30`. Pick better value with `binwidth`.\n"
     ]
    },
    {
     "name": "stdout",
     "output_type": "stream",
     "text": [
      "[1] \"Processing subject: 920351409\"\n",
      "initial  value 22.474543 \n",
      "iter   5 value 14.754225\n",
      "final  value 14.529890 \n",
      "converged\n",
      "initial  value 31.269428 \n",
      "iter   5 value 23.348739\n",
      "iter  10 value 19.774250\n",
      "iter  15 value 17.241503\n",
      "iter  15 value 17.233924\n",
      "iter  15 value 17.232723\n",
      "final  value 17.232723 \n",
      "converged\n"
     ]
    },
    {
     "name": "stderr",
     "output_type": "stream",
     "text": [
      "`stat_bindot()` using `bins = 30`. Pick better value with `binwidth`.\n",
      "`stat_bindot()` using `bins = 30`. Pick better value with `binwidth`.\n"
     ]
    },
    {
     "name": "stdout",
     "output_type": "stream",
     "text": [
      "[1] \"Processing subject: 920704473\"\n",
      "initial  value 24.440180 \n",
      "iter   5 value 20.614688\n",
      "iter  10 value 17.636489\n",
      "final  value 17.109107 \n",
      "converged\n",
      "initial  value 22.321209 \n",
      "iter   5 value 18.993474\n",
      "final  value 18.940267 \n",
      "converged\n"
     ]
    },
    {
     "name": "stderr",
     "output_type": "stream",
     "text": [
      "`stat_bindot()` using `bins = 30`. Pick better value with `binwidth`.\n",
      "`stat_bindot()` using `bins = 30`. Pick better value with `binwidth`.\n"
     ]
    },
    {
     "name": "stdout",
     "output_type": "stream",
     "text": [
      "[1] \"Processing subject: 926295504\"\n",
      "initial  value 23.067374 \n",
      "iter   5 value 16.938558\n",
      "iter  10 value 16.237041\n",
      "iter  10 value 16.224481\n",
      "iter  10 value 16.222182\n",
      "final  value 16.222182 \n",
      "converged\n",
      "initial  value 18.542322 \n",
      "iter   5 value 13.712332\n",
      "final  value 13.493739 \n",
      "converged\n",
      "initial  value 20.242691 \n",
      "iter   5 value 15.395290\n",
      "final  value 15.328866 \n",
      "converged\n"
     ]
    },
    {
     "name": "stderr",
     "output_type": "stream",
     "text": [
      "`stat_bindot()` using `bins = 30`. Pick better value with `binwidth`.\n",
      "`stat_bindot()` using `bins = 30`. Pick better value with `binwidth`.\n",
      "`stat_bindot()` using `bins = 30`. Pick better value with `binwidth`.\n"
     ]
    },
    {
     "name": "stdout",
     "output_type": "stream",
     "text": [
      "[1] \"Processing subject: 935873875\"\n",
      "initial  value 16.793420 \n",
      "iter   5 value 8.541548\n",
      "iter  10 value 8.161560\n",
      "final  value 8.110699 \n",
      "converged\n",
      "initial  value 10.098539 \n",
      "iter   5 value 5.729877\n",
      "final  value 5.658220 \n",
      "converged\n",
      "initial  value 18.362523 \n",
      "iter   5 value 12.868267\n",
      "iter   5 value 12.858914\n",
      "iter   5 value 12.858914\n",
      "final  value 12.858914 \n",
      "converged\n"
     ]
    },
    {
     "name": "stderr",
     "output_type": "stream",
     "text": [
      "`stat_bindot()` using `bins = 30`. Pick better value with `binwidth`.\n",
      "`stat_bindot()` using `bins = 30`. Pick better value with `binwidth`.\n",
      "`stat_bindot()` using `bins = 30`. Pick better value with `binwidth`.\n"
     ]
    },
    {
     "name": "stdout",
     "output_type": "stream",
     "text": [
      "[1] \"Processing subject: 938528760\"\n",
      "initial  value 11.368605 \n",
      "iter   5 value 7.137788\n",
      "iter   5 value 7.133157\n",
      "iter   5 value 7.133130\n",
      "final  value 7.133130 \n",
      "converged\n",
      "initial  value 7.733881 \n",
      "iter   5 value 4.252772\n",
      "iter  10 value 4.125452\n",
      "iter  10 value 4.121382\n",
      "iter  10 value 4.120822\n",
      "final  value 4.120822 \n",
      "converged\n",
      "initial  value 12.501121 \n",
      "final  value 7.238909 \n",
      "converged\n"
     ]
    },
    {
     "name": "stderr",
     "output_type": "stream",
     "text": [
      "`stat_bindot()` using `bins = 30`. Pick better value with `binwidth`.\n",
      "`stat_bindot()` using `bins = 30`. Pick better value with `binwidth`.\n",
      "`stat_bindot()` using `bins = 30`. Pick better value with `binwidth`.\n"
     ]
    },
    {
     "name": "stdout",
     "output_type": "stream",
     "text": [
      "[1] \"Processing subject: 939966999\"\n",
      "initial  value 26.450152 \n",
      "iter   5 value 17.858801\n",
      "iter  10 value 16.423644\n",
      "iter  15 value 15.737417\n",
      "final  value 15.689394 \n",
      "converged\n",
      "initial  value 19.306341 \n",
      "iter   5 value 13.540447\n",
      "iter  10 value 13.186465\n",
      "iter  10 value 13.175706\n",
      "iter  10 value 13.175706\n",
      "final  value 13.175706 \n",
      "converged\n"
     ]
    },
    {
     "name": "stderr",
     "output_type": "stream",
     "text": [
      "`stat_bindot()` using `bins = 30`. Pick better value with `binwidth`.\n",
      "`stat_bindot()` using `bins = 30`. Pick better value with `binwidth`.\n"
     ]
    },
    {
     "name": "stdout",
     "output_type": "stream",
     "text": [
      "[1] \"Processing subject: 941169048\"\n",
      "initial  value 20.709521 \n",
      "iter   5 value 14.049797\n",
      "iter  10 value 13.310471\n",
      "iter  10 value 13.305191\n",
      "iter  10 value 13.305191\n",
      "final  value 13.305191 \n",
      "converged\n",
      "initial  value 15.048219 \n",
      "iter   5 value 11.223155\n",
      "final  value 11.174473 \n",
      "converged\n",
      "initial  value 25.063773 \n",
      "iter   5 value 17.575934\n",
      "final  value 17.307457 \n",
      "converged\n"
     ]
    },
    {
     "name": "stderr",
     "output_type": "stream",
     "text": [
      "`stat_bindot()` using `bins = 30`. Pick better value with `binwidth`.\n",
      "`stat_bindot()` using `bins = 30`. Pick better value with `binwidth`.\n",
      "`stat_bindot()` using `bins = 30`. Pick better value with `binwidth`.\n"
     ]
    },
    {
     "name": "stdout",
     "output_type": "stream",
     "text": [
      "[1] \"Processing subject: 943936794\"\n",
      "initial  value 17.698052 \n",
      "iter   5 value 12.913103\n",
      "final  value 12.812983 \n",
      "converged\n",
      "initial  value 20.713169 \n",
      "iter   5 value 17.695235\n",
      "iter  10 value 17.391073\n",
      "iter  10 value 17.374399\n",
      "iter  10 value 17.365906\n",
      "final  value 17.365906 \n",
      "converged\n"
     ]
    },
    {
     "name": "stderr",
     "output_type": "stream",
     "text": [
      "`stat_bindot()` using `bins = 30`. Pick better value with `binwidth`.\n",
      "`stat_bindot()` using `bins = 30`. Pick better value with `binwidth`.\n"
     ]
    },
    {
     "name": "stdout",
     "output_type": "stream",
     "text": [
      "[1] \"Processing subject: 952263128\"\n",
      "initial  value 34.838921 \n",
      "iter   5 value 21.105814\n",
      "iter  10 value 15.268805\n",
      "iter  10 value 15.258510\n",
      "iter  10 value 15.257671\n",
      "final  value 15.257671 \n",
      "converged\n",
      "initial  value 38.548307 \n",
      "iter   5 value 22.747492\n",
      "iter  10 value 16.655806\n",
      "iter  15 value 16.061586\n",
      "iter  20 value 15.888362\n",
      "iter  20 value 15.881309\n",
      "iter  20 value 15.880101\n",
      "final  value 15.880101 \n",
      "converged\n",
      "initial  value 31.454423 \n",
      "iter   5 value 15.154430\n",
      "iter  10 value 12.768182\n",
      "iter  10 value 12.761181\n",
      "iter  10 value 12.761181\n",
      "final  value 12.761181 \n",
      "converged\n"
     ]
    },
    {
     "name": "stderr",
     "output_type": "stream",
     "text": [
      "`stat_bindot()` using `bins = 30`. Pick better value with `binwidth`.\n",
      "`stat_bindot()` using `bins = 30`. Pick better value with `binwidth`.\n",
      "`stat_bindot()` using `bins = 30`. Pick better value with `binwidth`.\n"
     ]
    },
    {
     "name": "stdout",
     "output_type": "stream",
     "text": [
      "[1] \"Processing subject: 954013747\"\n",
      "initial  value 26.242118 \n",
      "iter   5 value 19.399983\n",
      "iter  10 value 16.410116\n",
      "final  value 16.247739 \n",
      "converged\n",
      "initial  value 23.197830 \n",
      "iter   5 value 17.371445\n",
      "final  value 15.472548 \n",
      "converged\n",
      "initial  value 27.988873 \n",
      "iter   5 value 21.207246\n",
      "final  value 20.497596 \n",
      "converged\n"
     ]
    },
    {
     "name": "stderr",
     "output_type": "stream",
     "text": [
      "`stat_bindot()` using `bins = 30`. Pick better value with `binwidth`.\n",
      "`stat_bindot()` using `bins = 30`. Pick better value with `binwidth`.\n",
      "`stat_bindot()` using `bins = 30`. Pick better value with `binwidth`.\n"
     ]
    },
    {
     "name": "stdout",
     "output_type": "stream",
     "text": [
      "[1] \"Processing subject: 960904124\"\n",
      "initial  value 22.080893 \n",
      "iter   5 value 15.080131\n",
      "final  value 15.011215 \n",
      "converged\n",
      "initial  value 25.196013 \n",
      "iter   5 value 21.367525\n",
      "final  value 21.220125 \n",
      "converged\n"
     ]
    },
    {
     "name": "stderr",
     "output_type": "stream",
     "text": [
      "`stat_bindot()` using `bins = 30`. Pick better value with `binwidth`.\n",
      "`stat_bindot()` using `bins = 30`. Pick better value with `binwidth`.\n"
     ]
    },
    {
     "name": "stdout",
     "output_type": "stream",
     "text": [
      "[1] \"Processing subject: 986225336\"\n",
      "initial  value 20.377108 \n",
      "final  value 14.330648 \n",
      "converged\n",
      "initial  value 21.764502 \n",
      "iter   5 value 17.775308\n",
      "final  value 17.654341 \n",
      "converged\n",
      "initial  value 22.405115 \n",
      "iter   5 value 16.711923\n",
      "final  value 16.684531 \n",
      "converged\n"
     ]
    },
    {
     "name": "stderr",
     "output_type": "stream",
     "text": [
      "`stat_bindot()` using `bins = 30`. Pick better value with `binwidth`.\n",
      "`stat_bindot()` using `bins = 30`. Pick better value with `binwidth`.\n",
      "`stat_bindot()` using `bins = 30`. Pick better value with `binwidth`.\n"
     ]
    }
   ],
   "source": [
    "if(plotsubjects){\n",
    "    allsubjectsplot(datadf,savestr)\n",
    "}"
   ]
  },
  {
   "cell_type": "markdown",
   "metadata": {},
   "source": [
    "### Summary plots"
   ]
  },
  {
   "cell_type": "code",
   "execution_count": 111,
   "metadata": {},
   "outputs": [],
   "source": [
    "dir.create(paste(savestr,\"Summary_Plots\",sep='_'))"
   ]
  },
  {
   "cell_type": "code",
   "execution_count": 112,
   "metadata": {},
   "outputs": [],
   "source": [
    "# matrix to use to define the plot layout, specified manually for now\n",
    "hlay <- rbind (c(1,4,7,10),\n",
    "               c(2,5,8,11),\n",
    "               c(3,6,9,12))"
   ]
  },
  {
   "cell_type": "code",
   "execution_count": 462,
   "metadata": {},
   "outputs": [],
   "source": [
    "# correlations summary plot\n",
    "across_experiment_plot <- function(datadf,savestr,laymatrix,response_type_list,response_names,dependent,clean=FALSE){\n",
    "    \n",
    "    dir.create(paste(savestr,\"Overall_Summary_Plots\",sep='_'))\n",
    "    \n",
    "    stimuli_list <- sort(unique(datadf$stimuli_count))\n",
    "    plot_list <- list()\n",
    "    \n",
    "    if(clean){\n",
    "        datadf <- subset(datadf, noncompliant == 0)\n",
    "    }\n",
    "    \n",
    "    # make all the plots\n",
    "    k = 0\n",
    "    for (stimulus in stimuli_list){\n",
    "        for (response in response_type_list){\n",
    "            k = k + 1\n",
    "            if(stimulus == 2){ # 2 stimuli doesn't have any cueing, so it gets an exception\n",
    "                tempdf <- subset(datadf, stimuli_count == 2)\n",
    "            } else {\n",
    "                tempdf <- subset(datadf, stimuli_count == stimulus & response_type == response)\n",
    "            }\n",
    "            \n",
    "            # make the specific plot\n",
    "            if(dependent=='correlation'){\n",
    "                fvp <- fvp_list(tempdf)\n",
    "                plot <- corr_plot(fvp,'Within-subject FvP','Within-subject FvP')\n",
    "                title <- textGrob(\"CORRELATION\", gp=gpar(fontsize=35))\n",
    "            } else if (dependent=='RT'){\n",
    "                plot <- rsplot_summary(tempdf)\n",
    "                title <- textGrob(\"REACTION TIME\", gp=gpar(fontsize=35))\n",
    "            } else if (dependent=='dissimilarity'){\n",
    "                plot <- simhistplot_summary(tempdf)\n",
    "                title <- textGrob(\"DISSIMILARITY\", gp=gpar(fontsize=35))\n",
    "            } else if (dependent=='trace'){\n",
    "                plot <- trace_plot(tempdf)\n",
    "                title <- textGrob(\"TRACE\", gp=gpar(fontsize=35))\n",
    "            } else if (dependent=='antitrace'){\n",
    "                plot <- trace_plot(tempdf,'antitrace')\n",
    "                title <- textGrob(\"ANTITRACE\", gp=gpar(fontsize=35))\n",
    "            } else if (dependent=='difference'){\n",
    "                plot <- trace_plot(tempdf,'difference')\n",
    "                title <- textGrob(\"ANTITRACE - TRACE\", gp=gpar(fontsize=35))\n",
    "            } else if (dependent=='asymmetry_matrix'){\n",
    "                plot <- asymmetry_plot(tempdf,l2e('Foveal'),l2e('Foveal'),colors)\n",
    "                title <- textGrob(\"SIMILARITY ASYMMETRY MATRIX\", gp=gpar(fontsize=35))\n",
    "            } else if (dependent == 'trace_by_trial'){\n",
    "                plot <- trace_by_trial_plot(tempdf,'boxplot')\n",
    "                title <- textGrob(\"Trace by Trial\", gp=gpar(fontsize=35))\n",
    "            }\n",
    "            \n",
    "            \n",
    "            plot <- plot + xlab(paste(stimulus,response,sep=' ')) #  add a label\n",
    "            if(stimulus == 2 && k != 1){ # don't plot after-cueing for 2 cue stimuli\n",
    "                plot <- ggplot() + geom_blank() + theme_void()\n",
    "            } else if (dependent == 'asymmetry_matrix' && response != 'after_1'){\n",
    "                plot <- ggplot() + geom_blank() + theme_void()\n",
    "            }\n",
    "            plot_list[[k]] <- as.grob(plot) # add it to the plot_list\n",
    "        }\n",
    "        \n",
    "    }\n",
    "    \n",
    "    # save the plots\n",
    "    yaxis <- textGrob(\"Cueing Type\", gp=gpar(fontsize=30), rot=90)\n",
    "    xaxis <- textGrob(\"Stimuli\", gp=gpar(fontsize=30))\n",
    "    \n",
    "    g <- arrangeGrob(grobs = plot_list, ncol = length(stimuli_list),nrow = length(response_type_list),\n",
    "                     layout_matrix = hlay)\n",
    "    \n",
    "    g_rowcol_names <- rbind(tableGrob(t(stimuli_list), theme = ttheme_minimal(), rows = \"\"),\n",
    "                cbind(tableGrob(response_names, theme = ttheme_minimal()),\n",
    "                      g, size = \"last\"), size = \"last\")\n",
    "    \n",
    "    g_titled <- arrangeGrob(g_rowcol_names, top = title, left = yaxis, bottom = xaxis)\n",
    "    \n",
    "    if(clean){\n",
    "        savename <- paste(savestr,\"_Overall_Summary_Plots/\",dependent,\"_CLEAN\",\"_plot.png\",sep='')\n",
    "        ggsave(savename,g_titled, height = 20, width = 30)\n",
    "    }else{\n",
    "        savename <- paste(savestr,\"_Overall_Summary_Plots/\",dependent,\"_plot.png\",sep='')\n",
    "        ggsave(savename,g_titled, height = 20, width = 30)\n",
    "    }\n",
    "    \n",
    "    return(g_titled)\n",
    "}"
   ]
  },
  {
   "cell_type": "code",
   "execution_count": 463,
   "metadata": {},
   "outputs": [
    {
     "data": {
      "text/plain": [
       "TableGrob (3 x 2) \"arrange\": 4 grobs\n",
       "  z     cells    name                   grob\n",
       "1 1 (2-2,2-2) arrange     gtable[rowhead-fg]\n",
       "2 2 (1-1,2-2) arrange text[GRID.text.323514]\n",
       "3 3 (3-3,2-2) arrange text[GRID.text.323785]\n",
       "4 4 (1-3,1-1) arrange text[GRID.text.323784]"
      ]
     },
     "metadata": {},
     "output_type": "display_data"
    },
    {
     "data": {
      "text/plain": [
       "TableGrob (3 x 2) \"arrange\": 4 grobs\n",
       "  z     cells    name                   grob\n",
       "1 1 (2-2,2-2) arrange     gtable[rowhead-fg]\n",
       "2 2 (1-1,2-2) arrange text[GRID.text.326306]\n",
       "3 3 (3-3,2-2) arrange text[GRID.text.326567]\n",
       "4 4 (1-3,1-1) arrange text[GRID.text.326566]"
      ]
     },
     "metadata": {},
     "output_type": "display_data"
    }
   ],
   "source": [
    "across_experiment_plot(datadf,savestr,hlay,response_type_list,response_names,'trace_by_trial')\n",
    "across_experiment_plot(datadf,savestr,hlay,response_type_list,response_names,'trace_by_trial',TRUE)"
   ]
  },
  {
   "cell_type": "markdown",
   "metadata": {},
   "source": [
    "#### Across all experiments"
   ]
  },
  {
   "cell_type": "code",
   "execution_count": 202,
   "metadata": {},
   "outputs": [],
   "source": [
    "across_all <- function(datadf,savestr,laymatrix,response_type_list,response_names){\n",
    "    across_experiment_plot(datadf,savestr,hlay,response_type_list,response_names,'RT')\n",
    "    across_experiment_plot(datadf,savestr,hlay,response_type_list,response_names,'dissimilarity')\n",
    "    across_experiment_plot(datadf,savestr,hlay,response_type_list,response_names,'asymmetry_matrix')\n",
    "    across_experiment_plot(datadf,savestr,hlay,response_type_list,response_names,'correlation')\n",
    "    across_experiment_plot(datadf,savestr,hlay,response_type_list,response_names,'trace')\n",
    "    across_experiment_plot(datadf,savestr,hlay,response_type_list,response_names,'antitrace')\n",
    "    across_experiment_plot(datadf,savestr,hlay,response_type_list,response_names,'difference')\n",
    "    \n",
    "    across_experiment_plot(datadf,savestr,hlay,response_type_list,response_names,'RT',TRUE)\n",
    "    across_experiment_plot(datadf,savestr,hlay,response_type_list,response_names,'dissimilarity',TRUE)\n",
    "    across_experiment_plot(datadf,savestr,hlay,response_type_list,response_names,'asymmetry_matrix',TRUE)\n",
    "    across_experiment_plot(datadf,savestr,hlay,response_type_list,response_names,'correlation',TRUE)\n",
    "    across_experiment_plot(datadf,savestr,hlay,response_type_list,response_names,'trace',TRUE)\n",
    "    across_experiment_plot(datadf,savestr,hlay,response_type_list,response_names,'antitrace',TRUE)\n",
    "    across_experiment_plot(datadf,savestr,hlay,response_type_list,response_names,'difference',TRUE)\n",
    "}"
   ]
  },
  {
   "cell_type": "code",
   "execution_count": 203,
   "metadata": {},
   "outputs": [
    {
     "name": "stderr",
     "output_type": "stream",
     "text": [
      "`stat_bindot()` using `bins = 30`. Pick better value with `binwidth`.\n",
      "`stat_bindot()` using `bins = 30`. Pick better value with `binwidth`.\n",
      "`stat_bindot()` using `bins = 30`. Pick better value with `binwidth`.\n",
      "`stat_bindot()` using `bins = 30`. Pick better value with `binwidth`.\n",
      "`stat_bindot()` using `bins = 30`. Pick better value with `binwidth`.\n",
      "`stat_bindot()` using `bins = 30`. Pick better value with `binwidth`.\n",
      "`stat_bindot()` using `bins = 30`. Pick better value with `binwidth`.\n",
      "`stat_bindot()` using `bins = 30`. Pick better value with `binwidth`.\n",
      "`stat_bindot()` using `bins = 30`. Pick better value with `binwidth`.\n",
      "`stat_bindot()` using `bins = 30`. Pick better value with `binwidth`.\n",
      "`stat_bindot()` using `bins = 30`. Pick better value with `binwidth`.\n",
      "`stat_bindot()` using `bins = 30`. Pick better value with `binwidth`.\n",
      "`stat_bindot()` using `bins = 30`. Pick better value with `binwidth`.\n",
      "`stat_bindot()` using `bins = 30`. Pick better value with `binwidth`.\n",
      "`stat_bindot()` using `bins = 30`. Pick better value with `binwidth`.\n",
      "`stat_bindot()` using `bins = 30`. Pick better value with `binwidth`.\n",
      "`stat_bindot()` using `bins = 30`. Pick better value with `binwidth`.\n",
      "`stat_bindot()` using `bins = 30`. Pick better value with `binwidth`.\n",
      "`stat_bindot()` using `bins = 30`. Pick better value with `binwidth`.\n",
      "`stat_bindot()` using `bins = 30`. Pick better value with `binwidth`.\n",
      "`stat_bindot()` using `bins = 30`. Pick better value with `binwidth`.\n",
      "`stat_bindot()` using `bins = 30`. Pick better value with `binwidth`.\n",
      "`stat_bindot()` using `bins = 30`. Pick better value with `binwidth`.\n",
      "`stat_bindot()` using `bins = 30`. Pick better value with `binwidth`.\n",
      "`stat_bindot()` using `bins = 30`. Pick better value with `binwidth`.\n",
      "`stat_bindot()` using `bins = 30`. Pick better value with `binwidth`.\n",
      "`stat_bindot()` using `bins = 30`. Pick better value with `binwidth`.\n",
      "`stat_bindot()` using `bins = 30`. Pick better value with `binwidth`.\n",
      "`stat_bindot()` using `bins = 30`. Pick better value with `binwidth`.\n",
      "`stat_bindot()` using `bins = 30`. Pick better value with `binwidth`.\n",
      "`stat_bindot()` using `bins = 30`. Pick better value with `binwidth`.\n",
      "`stat_bindot()` using `bins = 30`. Pick better value with `binwidth`.\n",
      "`stat_bindot()` using `bins = 30`. Pick better value with `binwidth`.\n",
      "`stat_bindot()` using `bins = 30`. Pick better value with `binwidth`.\n",
      "`stat_bindot()` using `bins = 30`. Pick better value with `binwidth`.\n",
      "`stat_bindot()` using `bins = 30`. Pick better value with `binwidth`.\n",
      "`stat_bindot()` using `bins = 30`. Pick better value with `binwidth`.\n",
      "`stat_bindot()` using `bins = 30`. Pick better value with `binwidth`.\n",
      "`stat_bindot()` using `bins = 30`. Pick better value with `binwidth`.\n",
      "`stat_bindot()` using `bins = 30`. Pick better value with `binwidth`.\n",
      "`stat_bindot()` using `bins = 30`. Pick better value with `binwidth`.\n",
      "`stat_bindot()` using `bins = 30`. Pick better value with `binwidth`.\n",
      "`stat_bindot()` using `bins = 30`. Pick better value with `binwidth`.\n",
      "`stat_bindot()` using `bins = 30`. Pick better value with `binwidth`.\n",
      "`stat_bindot()` using `bins = 30`. Pick better value with `binwidth`.\n",
      "`stat_bindot()` using `bins = 30`. Pick better value with `binwidth`.\n",
      "`stat_bindot()` using `bins = 30`. Pick better value with `binwidth`.\n",
      "`stat_bindot()` using `bins = 30`. Pick better value with `binwidth`.\n",
      "`stat_bindot()` using `bins = 30`. Pick better value with `binwidth`.\n",
      "`stat_bindot()` using `bins = 30`. Pick better value with `binwidth`.\n",
      "`stat_bindot()` using `bins = 30`. Pick better value with `binwidth`.\n",
      "`stat_bindot()` using `bins = 30`. Pick better value with `binwidth`.\n",
      "`stat_bindot()` using `bins = 30`. Pick better value with `binwidth`.\n",
      "`stat_bindot()` using `bins = 30`. Pick better value with `binwidth`.\n",
      "`stat_bindot()` using `bins = 30`. Pick better value with `binwidth`.\n",
      "`stat_bindot()` using `bins = 30`. Pick better value with `binwidth`.\n",
      "`stat_bindot()` using `bins = 30`. Pick better value with `binwidth`.\n",
      "`stat_bindot()` using `bins = 30`. Pick better value with `binwidth`.\n",
      "`stat_bindot()` using `bins = 30`. Pick better value with `binwidth`.\n",
      "`stat_bindot()` using `bins = 30`. Pick better value with `binwidth`.\n",
      "`stat_bindot()` using `bins = 30`. Pick better value with `binwidth`.\n",
      "`stat_bindot()` using `bins = 30`. Pick better value with `binwidth`.\n",
      "`stat_bindot()` using `bins = 30`. Pick better value with `binwidth`.\n",
      "`stat_bindot()` using `bins = 30`. Pick better value with `binwidth`.\n",
      "`stat_bindot()` using `bins = 30`. Pick better value with `binwidth`.\n",
      "`stat_bindot()` using `bins = 30`. Pick better value with `binwidth`.\n",
      "`stat_bindot()` using `bins = 30`. Pick better value with `binwidth`.\n",
      "`stat_bindot()` using `bins = 30`. Pick better value with `binwidth`.\n",
      "`stat_bindot()` using `bins = 30`. Pick better value with `binwidth`.\n",
      "`stat_bindot()` using `bins = 30`. Pick better value with `binwidth`.\n",
      "`stat_bindot()` using `bins = 30`. Pick better value with `binwidth`.\n",
      "`stat_bindot()` using `bins = 30`. Pick better value with `binwidth`.\n",
      "`stat_bindot()` using `bins = 30`. Pick better value with `binwidth`.\n",
      "`stat_bindot()` using `bins = 30`. Pick better value with `binwidth`.\n",
      "`stat_bindot()` using `bins = 30`. Pick better value with `binwidth`.\n",
      "`stat_bindot()` using `bins = 30`. Pick better value with `binwidth`.\n",
      "`stat_bindot()` using `bins = 30`. Pick better value with `binwidth`.\n",
      "`stat_bindot()` using `bins = 30`. Pick better value with `binwidth`.\n",
      "`stat_bindot()` using `bins = 30`. Pick better value with `binwidth`.\n",
      "`stat_bindot()` using `bins = 30`. Pick better value with `binwidth`.\n"
     ]
    },
    {
     "ename": "ERROR",
     "evalue": "Error in across_all(datadf, savestr, hlay, response_type_list, response_names, : unused argument (TRUE)\n",
     "output_type": "error",
     "traceback": [
      "Error in across_all(datadf, savestr, hlay, response_type_list, response_names, : unused argument (TRUE)\nTraceback:\n"
     ]
    }
   ],
   "source": [
    "if(across){\n",
    "    across_all(datadf,savestr,hlay,response_type_list,response_names)\n",
    "}"
   ]
  },
  {
   "cell_type": "markdown",
   "metadata": {},
   "source": [
    "#### Individual experiment summaries"
   ]
  },
  {
   "cell_type": "code",
   "execution_count": 188,
   "metadata": {},
   "outputs": [],
   "source": [
    "# generate a summary plot of all the collected data from all the subjects in the experiment\n",
    "# NEED TO FINISH THIS\n",
    "expsummaryplot <- function(datadf,savestr,clean=FALSE){\n",
    "    \n",
    "    dir.create(paste(savestr,\"Exp_Summary_Plots/\",sep='_'))\n",
    "    \n",
    "    if(clean){\n",
    "        datadf <- subset(datadf, noncompliant == 0)\n",
    "    }\n",
    "    \n",
    "    stimuli_list <- sort(unique(datadf$stimuli_count))\n",
    "    \n",
    "    # make all the plots\n",
    "    k = 0\n",
    "    for (stimulus in stimuli_list){\n",
    "        for (response in response_type_list){\n",
    "            \n",
    "            k = k + 1\n",
    "            if(stimulus == 2){ # 2 stimuli doesn't have any cueing, so it gets an exception\n",
    "                tempdf <- subset(datadf, stimuli_count == 2)\n",
    "            } else {\n",
    "                tempdf <- subset(datadf, stimuli_count == stimulus & response_type == response)\n",
    "            }\n",
    "            \n",
    "            if(response != 'after_1'){\n",
    "                FP = TRUE\n",
    "            } else {\n",
    "                FP = FALSE\n",
    "            }\n",
    "            \n",
    "            # make the specific summary plot\n",
    "           \n",
    "            # MATRICES\n",
    "            everyonedata <- aggregate_df(tempdf)\n",
    "            \n",
    "            stim_time <- everyonedata$stim_display_time[1]\n",
    "            gap <- everyonedata$stim_cue_gap[1]\n",
    "            cue_time <- everyonedata$cue_display_time[1]\n",
    "            \n",
    "            \n",
    "            # FF Matrix plot\n",
    "            FFmatrix <- dissimplot(dissimdata(everyonedata, colors, l2e('Foveal'), l2e('Foveal')),colors)\n",
    "\n",
    "            # FP Matrix plot\n",
    "            FPmatrix <- dissimplot(dissimdata(everyonedata, colors, l2e('Foveal'), l2e('Peripheral')),colors)\n",
    "\n",
    "            # PP Matrix plot\n",
    "            PPmatrix <- dissimplot(dissimdata(everyonedata, colors, l2e('Peripheral'), l2e('Peripheral')),colors)\n",
    "\n",
    "            # CMDS\n",
    "            # FF CMDS plot\n",
    "            FFcmds <-  cmdsplot(cmdsfit(mat2dist(df2mat(everyonedata,l2e('Foveal'), l2e('Foveal')))), \n",
    "                                abcolors, abcolors, l2e('Foveal'), l2e('Foveal'))\n",
    "\n",
    "            FPcmds <-  cmdsplot(cmdsfit(mat2dist(df2mat(everyonedata,l2e('Foveal'), l2e('Peripheral')))), \n",
    "                                abcolors, abcolors, l2e('Foveal'), l2e('Peripheral'))\n",
    "\n",
    "            # FF CMDS plot\n",
    "            PPcmds <-  cmdsplot(cmdsfit(mat2dist(df2mat(everyonedata,l2e('Peripheral'), l2e('Peripheral')))), \n",
    "                                abcolors, abcolors, l2e('Peripheral'), l2e('Peripheral'))\n",
    "            # NMDS\n",
    "            # FF nMDS plot\n",
    "            FFnmds <-  nmdsplot(nmdsfit(mat2dist(df2mat(everyonedata,l2e('Foveal'), l2e('Foveal')))), \n",
    "                                abcolors, abcolors, l2e('Foveal'), l2e('Foveal'))\n",
    "\n",
    "            # FP nMDS plot\n",
    "            FPnmds <-  nmdsplot(nmdsfit(mat2dist(df2mat(everyonedata,l2e('Foveal'), l2e('Peripheral')))), \n",
    "                                abcolors, abcolors, l2e('Foveal'), l2e('Peripheral'))\n",
    "\n",
    "            # PP nMDS plot\n",
    "            PPnmds <-  nmdsplot(nmdsfit(mat2dist(df2mat(everyonedata,l2e('Peripheral'), l2e('Peripheral')))), \n",
    "                                abcolors, abcolors, l2e('Peripheral'), l2e('Peripheral'))\n",
    "\n",
    "            # AUXILIARY plots\n",
    "            # Similarity judgements\n",
    "            simplot <- simhistplot_summary(tempdf)\n",
    "            # Reaction times v1\n",
    "            reactionplot <- rsplot_summary(tempdf)\n",
    "            # summary plot\n",
    "            raincloudplot <- rsplot_raincloud(tempdf,'log')\n",
    "\n",
    "            # within_between_plots\n",
    "            fvp <- fvp_list(tempdf)\n",
    "            i_j <- i_j_list(tempdf)\n",
    "\n",
    "            within_plot <- corr_plot(fvp,'Within-subject FvP','Within-subject FvP')\n",
    "            between_plot <- corr_plot(i_j,'Between-subject FvF','Between-subject FvF')\n",
    "            #within_plot_fisher <- corr_plot(FisherZ(fvp),'Within-subject FvP','Within-subject FvP',TRUE)\n",
    "            #between_plot_fisher <- corr_plot(FisherZ(i_j),'Between-subject FvF','Between-subject FvF',TRUE)\n",
    "\n",
    "            # MORE PLOTS\n",
    "            # trace plots\n",
    "            traceplot <- trace_plot(tempdf)\n",
    "            antiplot <- trace_plot(tempdf,'antitrace')\n",
    "            differenceplot <- trace_plot(tempdf,'difference')\n",
    "            \n",
    "            N <- length(unique(tempdf$subject)) # get number of subjects\n",
    "            \n",
    "            # save the plots\n",
    "            if(clean){\n",
    "                title <- textGrob(paste(stimulus,response,\n",
    "                                    \"stim_duration\",stim_time,\"gap\",gap,\"cue_duration\",cue_time,\n",
    "                                    N,\"subjects\",\"CLEAN\",\n",
    "                                    sep=\"_\"), gp=gpar(fontsize=35))\n",
    "            }else{\n",
    "                title <- textGrob(paste(stimulus,response,\n",
    "                                    \"stim_duration\",stim_time,\"gap\",gap,\"cue_duration\",cue_time,\n",
    "                                    N,\"subjects\",\n",
    "                                    sep=\"_\"), gp=gpar(fontsize=35))\n",
    "            }\n",
    "            \n",
    "            # put it all together\n",
    "            if(FP){\n",
    "                \n",
    "                g <- arrangeGrob(FFmatrix, FPmatrix, PPmatrix, within_plot, between_plot,\n",
    "                                FFcmds,FPcmds, PPcmds, traceplot, antiplot,\n",
    "                                FFnmds,FPnmds, PPnmds, raincloudplot, differenceplot,\n",
    "                                simplot, reactionplot, \n",
    "                                nrow = 4, ncol=5, top = title)\n",
    "            } else {\n",
    "                \n",
    "                # asymmetry plot\n",
    "                asymplot <- asymmetry_plot(tempdf,l2e('Foveal'),l2e('Foveal'),colors)\n",
    "                \n",
    "                g <- arrangeGrob(FFmatrix,  PPmatrix, within_plot, between_plot, \n",
    "                                FFcmds, PPcmds, traceplot,  antiplot,\n",
    "                                FFnmds, PPnmds, differenceplot, asymplot,\n",
    "                                simplot, raincloudplot, reactionplot,\n",
    "                                nrow = 4, ncol=4, top = title)\n",
    "\n",
    "                \n",
    "            }\n",
    "                # save it\n",
    "            if(clean){\n",
    "                savename <- paste(savestr,\"_Exp_Summary_Plots/\",stimulus,\"_\",response,\n",
    "                         \"_Summary_\",N,\"_subjects\",\"_CLEAN\",\"_plot.png\",sep='')\n",
    "            }else {\n",
    "                savename <- paste(savestr,\"_Exp_Summary_Plots/\",stimulus,\"_\",response,\n",
    "                         \"_Summary_\",N,\"_subjects\",\"_plot.png\",sep='')\n",
    "            }\n",
    "                \n",
    "                print(savename)\n",
    "                ggsave(savename,g, height = 38, width = 48)\n",
    "        }\n",
    "            \n",
    "    }\n",
    "        \n",
    "}   "
   ]
  },
  {
   "cell_type": "markdown",
   "metadata": {},
   "source": [
    "### Across the entire population "
   ]
  },
  {
   "cell_type": "code",
   "execution_count": 213,
   "metadata": {},
   "outputs": [],
   "source": [
    "# entire population plot\n",
    "population_plot <- function(datadf,savestr,clean=FALSE){\n",
    "    \n",
    "    dir.create(paste(savestr,\"Population_Summary_Plots/\",sep='_'))\n",
    "    \n",
    "    if(clean){\n",
    "        datadf <- subset(datadf, noncompliant == 0)\n",
    "    }\n",
    "    \n",
    "    # MATRICES\n",
    "    everyonedata <- aggregate_df(datadf)\n",
    "\n",
    "    # FF Matrix plot\n",
    "    FFmatrix <- dissimplot(dissimdata(everyonedata, colors, l2e('Foveal'), l2e('Foveal')),colors)\n",
    "\n",
    "    # FP Matrix plot\n",
    "    FPmatrix <- dissimplot(dissimdata(everyonedata, colors, l2e('Foveal'), l2e('Peripheral')),colors)\n",
    "\n",
    "    # PP Matrix plot\n",
    "    PPmatrix <- dissimplot(dissimdata(everyonedata, colors, l2e('Peripheral'), l2e('Peripheral')),colors)\n",
    "\n",
    "    # CMDS\n",
    "    # FF CMDS plot\n",
    "    FFcmds <-  cmdsplot(cmdsfit(mat2dist(df2mat(everyonedata,l2e('Foveal'), l2e('Foveal')))), \n",
    "                        abcolors, abcolors, l2e('Foveal'), l2e('Foveal'))\n",
    "\n",
    "    FPcmds <-  cmdsplot(cmdsfit(mat2dist(df2mat(everyonedata,l2e('Foveal'), l2e('Peripheral')))), \n",
    "                        abcolors, abcolors, l2e('Foveal'), l2e('Peripheral'))\n",
    "\n",
    "    # FF CMDS plot\n",
    "    PPcmds <-  cmdsplot(cmdsfit(mat2dist(df2mat(everyonedata,l2e('Peripheral'), l2e('Peripheral')))), \n",
    "                        abcolors, abcolors, l2e('Peripheral'), l2e('Peripheral'))\n",
    "    # NMDS\n",
    "    # FF nMDS plot\n",
    "    FFnmds <-  nmdsplot(nmdsfit(mat2dist(df2mat(everyonedata,l2e('Foveal'), l2e('Foveal')))), \n",
    "                        abcolors, abcolors, l2e('Foveal'), l2e('Foveal'))\n",
    "\n",
    "    # FP nMDS plot\n",
    "    FPnmds <-  nmdsplot(nmdsfit(mat2dist(df2mat(everyonedata,l2e('Foveal'), l2e('Peripheral')))), \n",
    "                        abcolors, abcolors, l2e('Foveal'), l2e('Peripheral'))\n",
    "\n",
    "    # PP nMDS plot\n",
    "    PPnmds <-  nmdsplot(nmdsfit(mat2dist(df2mat(everyonedata,l2e('Peripheral'), l2e('Peripheral')))), \n",
    "                        abcolors, abcolors, l2e('Peripheral'), l2e('Peripheral'))\n",
    "\n",
    "    # AUXILIARY plots\n",
    "    # Similarity judgements\n",
    "    simplot <- simhistplot_summary(datadf)\n",
    "    # Reaction times v1\n",
    "    reactionplot <- rsplot_summary(datadf)\n",
    "    # summary plot\n",
    "    raincloudplot <- rsplot_raincloud(datadf,'log')\n",
    "\n",
    "    # within_between_plots\n",
    "    fvp <- fvp_list(datadf)\n",
    "    i_j <- i_j_list(datadf)\n",
    "\n",
    "    within_plot <- corr_plot(fvp,'Within-subject FvP','Within-subject FvP')\n",
    "    between_plot <- corr_plot(i_j,'Between-subject FvF','Between-subject FvF')\n",
    "    #within_plot_fisher <- corr_plot(FisherZ(fvp),'Within-subject FvP','Within-subject FvP',TRUE)\n",
    "    #between_plot_fisher <- corr_plot(FisherZ(i_j),'Between-subject FvF','Between-subject FvF',TRUE)\n",
    "\n",
    "    # MORE PLOTS\n",
    "    # trace plots\n",
    "    traceplot <- trace_plot(datadf)\n",
    "    antiplot <- trace_plot(datadf,'antitrace')\n",
    "    differenceplot <- trace_plot(datadf,'difference')\n",
    "\n",
    "    N <- length(unique(datadf$subject)) # get number of subjects\n",
    "\n",
    "    # save the plots\n",
    "    if(clean){\n",
    "        title <- textGrob(paste(\"Population\",\n",
    "                            N,\"subjects\",\"CLEAN\",\n",
    "                            sep=\"_\"), gp=gpar(fontsize=35))\n",
    "    }else{\n",
    "        title <- textGrob(paste(\"Population\",\n",
    "                            N,\"subjects\",\n",
    "                            sep=\"_\"), gp=gpar(fontsize=35))\n",
    "    }\n",
    "    \n",
    "    \n",
    "    g <- arrangeGrob(FFmatrix, FPmatrix, PPmatrix, within_plot, between_plot,\n",
    "                                FFcmds,FPcmds, PPcmds, traceplot, antiplot,\n",
    "                                FFnmds,FPnmds, PPnmds, raincloudplot, differenceplot,\n",
    "                                simplot, reactionplot, \n",
    "                                nrow = 4, ncol=5, top = title)\n",
    "    \n",
    "     # save it\n",
    "    if(clean){\n",
    "        savename <- paste(savestr,\"_Exp_Summary_Plots/\",\n",
    "                 \"_Summary_\",N,\"_subjects\",\"_CLEAN\",\"_plot.png\",sep='')\n",
    "    }else {\n",
    "        savename <- paste(savestr,\"_Exp_Summary_Plots/\",\n",
    "                 \"_Summary_\",N,\"_subjects\",\"_plot.png\",sep='')\n",
    "    }\n",
    "\n",
    "        print(savename)\n",
    "        ggsave(savename,g, height = 38, width = 48)\n",
    "}"
   ]
  },
  {
   "cell_type": "code",
   "execution_count": 2,
   "metadata": {},
   "outputs": [
    {
     "ename": "ERROR",
     "evalue": "Error in dissimplot(dissimdata(everyonedata, colors, l2e(\"Foveal\"), l2e(\"Foveal\")), : could not find function \"dissimplot\"\n",
     "output_type": "error",
     "traceback": [
      "Error in dissimplot(dissimdata(everyonedata, colors, l2e(\"Foveal\"), l2e(\"Foveal\")), : could not find function \"dissimplot\"\nTraceback:\n"
     ]
    }
   ],
   "source": [
    "test <- dissimplot(dissimdata(everyonedata, colors, l2e('Foveal'), l2e('Foveal')),colors)\n",
    "\n",
    "test"
   ]
  },
  {
   "cell_type": "code",
   "execution_count": 214,
   "metadata": {},
   "outputs": [],
   "source": [
    "if(plotexpsummary){\n",
    "    expsummaryplot(datadf,savestr)\n",
    "    expsummaryplot(datadf,savestr,TRUE)\n",
    "}"
   ]
  },
  {
   "cell_type": "code",
   "execution_count": 215,
   "metadata": {},
   "outputs": [
    {
     "name": "stdout",
     "output_type": "stream",
     "text": [
      "initial  value 10.110642 \n",
      "iter   5 value 4.776044\n",
      "iter  10 value 4.309526\n",
      "final  value 4.276221 \n",
      "converged\n",
      "initial  value 9.398094 \n",
      "iter   5 value 4.759062\n",
      "iter  10 value 3.994180\n",
      "final  value 3.981702 \n",
      "converged\n",
      "initial  value 5.047839 \n",
      "iter   5 value 1.323556\n",
      "iter  10 value 0.944285\n",
      "iter  15 value 0.841798\n",
      "iter  20 value 0.821025\n",
      "final  value 0.817766 \n",
      "converged\n"
     ]
    },
    {
     "name": "stderr",
     "output_type": "stream",
     "text": [
      "`stat_bindot()` using `bins = 30`. Pick better value with `binwidth`.\n",
      "`stat_bindot()` using `bins = 30`. Pick better value with `binwidth`.\n",
      "`stat_bindot()` using `bins = 30`. Pick better value with `binwidth`.\n",
      "`stat_bindot()` using `bins = 30`. Pick better value with `binwidth`.\n",
      "`stat_bindot()` using `bins = 30`. Pick better value with `binwidth`.\n"
     ]
    },
    {
     "name": "stdout",
     "output_type": "stream",
     "text": [
      "[1] \"data/alldata_Exp_Summary_Plots/_Summary_128_subjects_plot.png\"\n",
      "initial  value 3.365119 \n",
      "iter   5 value 1.843522\n",
      "iter  10 value 1.615815\n",
      "iter  15 value 1.571471\n",
      "final  value 1.567521 \n",
      "converged\n",
      "initial  value 5.607216 \n",
      "iter   5 value 2.817553\n",
      "iter  10 value 2.443810\n",
      "final  value 2.402800 \n",
      "converged\n",
      "initial  value 4.294241 \n",
      "iter   5 value 2.475724\n",
      "iter  10 value 2.280757\n",
      "final  value 2.271904 \n",
      "converged\n"
     ]
    },
    {
     "name": "stderr",
     "output_type": "stream",
     "text": [
      "`stat_bindot()` using `bins = 30`. Pick better value with `binwidth`.\n",
      "`stat_bindot()` using `bins = 30`. Pick better value with `binwidth`.\n",
      "`stat_bindot()` using `bins = 30`. Pick better value with `binwidth`.\n",
      "`stat_bindot()` using `bins = 30`. Pick better value with `binwidth`.\n",
      "`stat_bindot()` using `bins = 30`. Pick better value with `binwidth`.\n"
     ]
    },
    {
     "name": "stdout",
     "output_type": "stream",
     "text": [
      "[1] \"data/alldata_Exp_Summary_Plots/_Summary_37_subjects_CLEAN_plot.png\"\n"
     ]
    }
   ],
   "source": [
    "if(population){\n",
    "    population_plot(datadf,savestr)\n",
    "    population_plot(datadf,savestr,TRUE)\n",
    "}"
   ]
  },
  {
   "cell_type": "code",
   "execution_count": null,
   "metadata": {},
   "outputs": [],
   "source": [
    "# position plot (negative control)\n",
    "positionplot <- function(datadf){\n",
    "    # MATRICES\n",
    "    everyonedata <- aggregate_df(datadf)\n",
    "    # FF Matrix plot\n",
    "    FFmatrix <- dissimplot(dissimdata(everyonedata, colors, l2e('Foveal'), l2e('Foveal')),colors, 'position')\n",
    "    # FP Matrix plot\n",
    "    FPmatrix <- dissimplot(dissimdata(everyonedata, colors, l2e('Foveal'), l2e('Peripheral')),colors, 'position')\n",
    "    # PP Matrix plot\n",
    "    PPmatrix <- dissimplot(dissimdata(everyonedata, colors, l2e('Peripheral'), l2e('Peripheral')),colors, 'position')\n",
    "    \n",
    "    g <- arrangeGrob(FFmatrix, FPmatrix, PPmatrix,\n",
    "                    nrow = 1, ncol= 3)\n",
    "     # save it\n",
    "    ggsave(paste(savestr,\"position negative control\",\"plot.png\",sep='_'),g, height = 10, width = 30)\n",
    "}"
   ]
  }
 ],
 "metadata": {
  "kernelspec": {
   "display_name": "R",
   "language": "R",
   "name": "ir"
  },
  "language_info": {
   "codemirror_mode": "r",
   "file_extension": ".r",
   "mimetype": "text/x-r-source",
   "name": "R",
   "pygments_lexer": "r",
   "version": "3.6.1"
  }
 },
 "nbformat": 4,
 "nbformat_minor": 2
}
