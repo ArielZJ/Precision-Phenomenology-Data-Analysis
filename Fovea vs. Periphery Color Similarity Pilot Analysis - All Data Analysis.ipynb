{
 "cells": [
  {
   "cell_type": "markdown",
   "metadata": {},
   "source": [
    "### Filename we're going to play with"
   ]
  },
  {
   "cell_type": "code",
   "execution_count": 1,
   "metadata": {},
   "outputs": [],
   "source": [
    "filename = \"data/ariel_2020_fvp_mixed_v3_20_07_27.csv\""
   ]
  },
  {
   "cell_type": "code",
   "execution_count": 53,
   "metadata": {},
   "outputs": [],
   "source": [
    "stimuli_number = 5\n",
    "response_type_list = c('during','after_1','after_2')\n",
    "trial_types = c('during','after1','after2')\n",
    "response_names = c('During', 'After stimuli (1) & response screen','After stimuli (2)')\n",
    "catch_trial_number = 10 # what it's set at at the moment, arbitrary\n",
    "condition_number = 3 +                  # during - FF, FP, PP\n",
    "                    2 +                 # after1 - FF, PP\n",
    "                    3                   # after2 = FF, FP, PP"
   ]
  },
  {
   "cell_type": "code",
   "execution_count": 3,
   "metadata": {},
   "outputs": [],
   "source": [
    "trace_cutoff = 2 # mean dissimilarity for physically identical colours must be below this\n",
    "antitrace_cutoff = 3.5 # mean dissimilarity accepted for maximally physically different colours must be above this\n",
    "rt_cutoff = 700 # mean reaction times must be above this"
   ]
  },
  {
   "cell_type": "code",
   "execution_count": 4,
   "metadata": {},
   "outputs": [],
   "source": [
    "exclude_noncompliant = FALSE"
   ]
  },
  {
   "cell_type": "code",
   "execution_count": 5,
   "metadata": {},
   "outputs": [],
   "source": [
    "plotsubjects = FALSE\n",
    "plotsubjects_mixed = TRUE\n",
    "plot_within_between = FALSE\n",
    "plotexpsummary = FALSE\n",
    "across = FALSE\n",
    "population = FALSE"
   ]
  },
  {
   "cell_type": "markdown",
   "metadata": {},
   "source": [
    "### Initialisations"
   ]
  },
  {
   "cell_type": "code",
   "execution_count": 6,
   "metadata": {},
   "outputs": [],
   "source": [
    "# live dangerously, get rid of pesky warnings\n",
    "oldw <- getOption(\"warn\")\n",
    "options(warn = -1)"
   ]
  },
  {
   "cell_type": "code",
   "execution_count": 7,
   "metadata": {
    "scrolled": true
   },
   "outputs": [
    {
     "name": "stderr",
     "output_type": "stream",
     "text": [
      "\n",
      "Attaching package: 'tidyr'\n",
      "\n",
      "The following object is masked _by_ '.GlobalEnv':\n",
      "\n",
      "    population\n",
      "\n",
      "\n",
      "Attaching package: 'dplyr'\n",
      "\n",
      "The following objects are masked from 'package:plyr':\n",
      "\n",
      "    arrange, count, desc, failwith, id, mutate, rename, summarise,\n",
      "    summarize\n",
      "\n",
      "The following objects are masked from 'package:stats':\n",
      "\n",
      "    filter, lag\n",
      "\n",
      "The following objects are masked from 'package:base':\n",
      "\n",
      "    intersect, setdiff, setequal, union\n",
      "\n",
      "Registered S3 methods overwritten by 'ggplot2':\n",
      "  method         from \n",
      "  [.quosures     rlang\n",
      "  c.quosures     rlang\n",
      "  print.quosures rlang\n",
      "\n",
      "Attaching package: 'gridExtra'\n",
      "\n",
      "The following object is masked from 'package:dplyr':\n",
      "\n",
      "    combine\n",
      "\n",
      "\n",
      "Attaching package: 'MASS'\n",
      "\n",
      "The following object is masked from 'package:dplyr':\n",
      "\n",
      "    select\n",
      "\n",
      "\n",
      "Attaching package: 'Matrix'\n",
      "\n",
      "The following objects are masked from 'package:tidyr':\n",
      "\n",
      "    expand, pack, unpack\n",
      "\n",
      "\n",
      "Attaching package: 'reshape2'\n",
      "\n",
      "The following object is masked from 'package:tidyr':\n",
      "\n",
      "    smiths\n",
      "\n",
      "Loading required package: permute\n",
      "Loading required package: lattice\n",
      "This is vegan 2.5-6\n"
     ]
    }
   ],
   "source": [
    "shhh <- suppressPackageStartupMessages # stops annoying warnings when loading libraries\n",
    "library(tidyr)\n",
    "library(plyr)\n",
    "library(dplyr)\n",
    "library(ggplot2)\n",
    "library(gridExtra)\n",
    "library(MASS)\n",
    "library(Matrix)\n",
    "library(reshape2)\n",
    "library(ape) # stats\n",
    "library(vegan) # stats\n",
    "library(RColorBrewer)\n",
    "library(cocor)\n",
    "library(DescTools)\n",
    "library(reshape2)\n",
    "library(grid)\n",
    "library(ggplotify)"
   ]
  },
  {
   "cell_type": "code",
   "execution_count": 8,
   "metadata": {},
   "outputs": [],
   "source": [
    "# rainbowcloud theme for plotting, stolen from: \n",
    "# https://micahallen.org/2018/03/15/introducing-raincloud-plots/?utm_campaign=News&utm_medium=Community&utm_source=DataCamp.com\n",
    "raincloud_theme = theme(\n",
    "text = element_text(size = 10),\n",
    "axis.title.x = element_text(size = 16),\n",
    "axis.title.y = element_text(size = 16),\n",
    "axis.text = element_text(size = 14),\n",
    "axis.text.x = element_text(angle = 45, vjust = 0.5),\n",
    "legend.title=element_text(size=16),\n",
    "legend.text=element_text(size=16),\n",
    "legend.position = \"right\",\n",
    "plot.title = element_text(lineheight=.8, face=\"bold\", size = 16),\n",
    "panel.border = element_blank(),\n",
    "panel.grid.minor = element_blank(),\n",
    "panel.grid.major = element_blank(),\n",
    "axis.line.x = element_line(colour = 'black', size=0.5, linetype='solid'),\n",
    "axis.line.y = element_line(colour = 'black', size=0.5, linetype='solid'))"
   ]
  },
  {
   "cell_type": "code",
   "execution_count": 9,
   "metadata": {},
   "outputs": [],
   "source": [
    "# stealing ability to make flat violin plots\n",
    "source(\"https://gist.githubusercontent.com/benmarwick/2a1bb0133ff568cbe28d/raw/fb53bd97121f7f9ce947837ef1a4c65a73bffb3f/geom_flat_violin.R\")"
   ]
  },
  {
   "cell_type": "markdown",
   "metadata": {},
   "source": [
    "### Functions we're going to use to do the analysis later"
   ]
  },
  {
   "cell_type": "markdown",
   "metadata": {},
   "source": [
    "#### Miscellaneous"
   ]
  },
  {
   "cell_type": "code",
   "execution_count": 10,
   "metadata": {},
   "outputs": [],
   "source": [
    "# get plot eccentricity labels\n",
    "ploteccen <- function(datadf){\n",
    "    if(datadf$Circle_1[1] == -1){\n",
    "            label1 = 'Foveal'\n",
    "        } else {\n",
    "            label1 = 'Peripheral'\n",
    "        }\n",
    "        if(datadf$Circle_2[1] == -1){\n",
    "            label2 = 'Foveal'\n",
    "        } else {\n",
    "            label2 = 'Peripheral'\n",
    "        }\n",
    "    return(c(label1,label2))\n",
    "}\n",
    "\n",
    "e2l <- function(eccentricity){\n",
    "    if(eccentricity == -1){\n",
    "        return('Foveal')\n",
    "    } else {\n",
    "        return('Peripheral')\n",
    "    }\n",
    "}\n",
    "\n",
    "l2e <- function(eccentricity){\n",
    "    if(eccentricity == 'Foveal'){\n",
    "        return(-1)\n",
    "    } else {\n",
    "        return(1)\n",
    "    }\n",
    "}"
   ]
  },
  {
   "cell_type": "markdown",
   "metadata": {},
   "source": [
    "#### Dissimilarity Matrices"
   ]
  },
  {
   "cell_type": "code",
   "execution_count": 11,
   "metadata": {},
   "outputs": [],
   "source": [
    "# obtain dissimilarity matrices with particular eccentricity values from dataframes\n",
    "dissimdata <- function(datadf, colors, eccentricity1, eccentricity2){\n",
    "    # select only the eccentricities we want to keep, e.g. (foveal, foveal)\n",
    "    datatemp = subset(datadf, Circle_1 == eccentricity1)\n",
    "    datatemp = subset(datatemp, Circle_2 == eccentricity2)\n",
    "    \n",
    "    # refactor the levels so they can be plotted properly later if need be\n",
    "    datatemp$Color_1 <- with(datatemp, factor(Color_1, levels = colors))\n",
    "    datatemp$Color_2 <- with(datatemp, factor(Color_2, levels = colors))\n",
    "    \n",
    "    return(datatemp)\n",
    "}"
   ]
  },
  {
   "cell_type": "code",
   "execution_count": 12,
   "metadata": {},
   "outputs": [],
   "source": [
    "# plot a dissimilarity matrix\n",
    "dissimplot <- function(datadf,colors,dependent='color'){\n",
    "    \n",
    "   # labeling the plot eccentricity comparisons\n",
    "    label1 <- ploteccen(datadf)[1]\n",
    "    label2 <- ploteccen(datadf)[2]\n",
    "    \n",
    "    \n",
    "    if(dependent == 'position'){ # use position to generate matrix (as a negative control)\n",
    "        plot <- ggplot(datadf, aes(x = bin1, y = bin2)) +\n",
    "        theme(        axis.title.x = element_blank(), axis.title.y = element_blank(),\n",
    "                      plot.title = element_text(hjust = 0.5)) +\n",
    "                      scale_x_discrete(limits=c(1,2,3,4,5,6,7,8,9)) + scale_y_discrete(limits=c(1,2,3,4,5,6,7,8,9))\n",
    "    } else { # use the colors to generate the matrix\n",
    "        plot <- ggplot(datadf, aes(x = Color_1, y = Color_2)) +\n",
    "        theme(axis.text.x = element_text(colour = colors), axis.text.y = element_text(colour = colors),\n",
    "                      axis.title.x = element_blank(), axis.title.y = element_blank(),\n",
    "                      plot.title = element_text(hjust = 0.5))\n",
    "    }\n",
    "    # stuff that's standard across plot types\n",
    "        plot <- plot + geom_raster(aes(fill = p_confidence)) +\n",
    "                labs(title = paste(label1, label2, sep = \" - \")) +\n",
    "                scale_fill_gradientn(colours = c(\"white\",\"black\")) +\n",
    "                guides(fill=guide_legend(title=\"Dissimilarity\"))\n",
    "    return(plot)\n",
    "}"
   ]
  },
  {
   "cell_type": "code",
   "execution_count": 13,
   "metadata": {},
   "outputs": [],
   "source": [
    "df2mat_asymmetry <- function(datadf,eccentricity1,eccentricity2){\n",
    "    \n",
    "    datadf <- dissimdata(datadf, colors, eccentricity1, eccentricity2)\n",
    "    \n",
    "    # aggregate over the remaining columns of interest\n",
    "    nmdsdata <- aggregate(datadf, by = list(datadf$Color_1, datadf$Color_2),FUN=mean)\n",
    "    nmdsdata$Color_1 <- nmdsdata$Group.1\n",
    "    nmdsdata$Color_2 <- nmdsdata$Group.2\n",
    "\n",
    "    nmdsdata = subset(nmdsdata, select = c(\"Color_1\",\"Color_2\",\"p_confidence\"))  # get rid of unnecessary columns\n",
    "    nmdsmatrix <- spread(nmdsdata, Color_1, p_confidence)\n",
    "    # convert the dataframe to a matrix\n",
    "    nmdsmatrix <- data.matrix(nmdsmatrix)\n",
    "    nmdsmatrix <- nmdsmatrix[,-1] # get rid of the labels in the first column, it messes up the code\n",
    "    matdf <- as.data.frame(nmdsmatrix - t(nmdsmatrix))\n",
    "    matdf$colorset <- c(abcolors)\n",
    "    num_colors <- length(colors)\n",
    "    matdf <- matdf %>% gather(othercolor,asymmetry ,1:num_colors)\n",
    "    return(matdf)\n",
    "}"
   ]
  },
  {
   "cell_type": "code",
   "execution_count": 14,
   "metadata": {},
   "outputs": [],
   "source": [
    "# plot an asymmetry matrix\n",
    "# BROKEN - FIX AS PER YUSUKE'S CODE: https://docs.google.com/presentation/d/1TQZ2ohqZfeWYq0TATobiSZHlkJJuZZ6vqbAmOPQaUDI/edit#slide=id.p1\n",
    "asymmetry_plot <- function(datadf,eccentricity1,eccentricity2,colors){\n",
    "    \n",
    "    # labeling the types\n",
    "    label1 <- \"Presented\"\n",
    "    label2 <- \"Response Screen\"\n",
    "    \n",
    "    datadf <- df2mat_asymmetry(datadf,eccentricity1,eccentricity2)\n",
    "    \n",
    "    # refactor the levels so they can be plotted properly later if need be\n",
    "    datadf$colorset <- with(datadf, factor(colorset, levels = colors))\n",
    "    datadf$othercolor <- with(datadf, factor(othercolor, levels = colors))\n",
    "    \n",
    "    plot <- ggplot(datadf, aes(x = colorset, y = othercolor)) +\n",
    "        theme(axis.text.x = element_text(colour = colors), axis.text.y = element_text(colour = colors),\n",
    "                      axis.title.x = element_blank(), axis.title.y = element_blank(),\n",
    "                      plot.title = element_text(hjust = 0.5))\n",
    "    \n",
    "    # stuff that's standard across plot types\n",
    "        plot <- plot + geom_raster(aes(fill = asymmetry)) +\n",
    "                labs(title = paste(label1, label2, sep = \" - \")) +\n",
    "                scale_fill_gradientn(colours = c(\"blue\",\"white\",\"red\"), limits = c(-4,4)) +\n",
    "                guides(fill=guide_legend(title=\"Dissimilarity\\nAsymmetry\"))\n",
    "    return(plot)\n",
    "}"
   ]
  },
  {
   "cell_type": "code",
   "execution_count": 15,
   "metadata": {},
   "outputs": [],
   "source": [
    "# making a matrix symmetric. Stolen from dclone: https://rdrr.io/github/datacloning/dclone/src/R/make.symmetric.R\n",
    "make.symmetric <-\n",
    "function(x)\n",
    "{\n",
    "    if (dim(x)[1] != dim(x)[2])\n",
    "        stop(\"'x' is not sqare matrix\")\n",
    "    rval <- t(x)\n",
    "    m <- (x[lower.tri(x)] + rval[lower.tri(rval)]) / 2\n",
    "    rval[lower.tri(rval)] <- m\n",
    "    rval <- t(rval)\n",
    "    rval[lower.tri(rval)] <- m\n",
    "    rval\n",
    "}"
   ]
  },
  {
   "cell_type": "markdown",
   "metadata": {},
   "source": [
    "#### Multidimensional Scaling Plots"
   ]
  },
  {
   "cell_type": "code",
   "execution_count": 16,
   "metadata": {},
   "outputs": [],
   "source": [
    "# turn a dataset into a matrix\n",
    "df2mat <- function(datadf,eccentricity1,eccentricity2,dependent='color'){\n",
    "    \n",
    "    # select only the eccentricities we want to keep, e.g. (foveal, foveal)\n",
    "    datadf = subset(datadf, Circle_1 == eccentricity1)\n",
    "    datadf = subset(datadf, Circle_2 == eccentricity2)\n",
    "    \n",
    "    if(dependent == 'position'){ # using stimulus location as a negative control\n",
    "        # aggregate over the remaining columns of interest\n",
    "        nmdsdata <- aggregate(datadf, by = list(datadf$bin1, datadf$bin2),FUN=mean)\n",
    "        nmdsdata$bin1 <- nmdsdata$Group.1\n",
    "        nmdsdata$bin2 <- nmdsdata$Group.2\n",
    "        \n",
    "        nmdsdata = subset(nmdsdata, select = c(\"bin1\",\"bin2\",\"p_confidence\"))  # get rid of unnecessary columns\n",
    "        nmdsmatrix <- spread(nmdsdata, bin1, p_confidence)\n",
    "    } else { # color as per normal\n",
    "        # aggregate over the remaining columns of interest\n",
    "        nmdsdata <- aggregate(datadf, by = list(datadf$Color_1, datadf$Color_2),FUN=mean)\n",
    "        nmdsdata$Color_1 <- nmdsdata$Group.1\n",
    "        nmdsdata$Color_2 <- nmdsdata$Group.2\n",
    "        \n",
    "        nmdsdata = subset(nmdsdata, select = c(\"Color_1\",\"Color_2\",\"p_confidence\"))  # get rid of unnecessary columns\n",
    "        nmdsmatrix <- spread(nmdsdata, Color_1, p_confidence)\n",
    "    }\n",
    "    \n",
    "    # convert the dataframe to a matrix\n",
    "    nmdsmatrix <- data.matrix(nmdsmatrix)\n",
    "    nmdsmatrix <- nmdsmatrix[,-1] # get rid of the labels in the first column, it messes up the code\n",
    "    \n",
    "    # having 0 dissimilarity between identical objects messes up the algorithm\n",
    "    # changing the 0 values to an arbitrarily small value, but this is not a good long-term solution\n",
    "    # need to find a better way of doing this\n",
    "    nmdsmatrix[nmdsmatrix == 0] <- 0.01\n",
    "    \n",
    "    \n",
    "    nmdsmatrix <- make.symmetric(nmdsmatrix) # averaging over Color_1 vs. Color_2 & Color_2 vs. Color_1    \n",
    "    return(nmdsmatrix)\n",
    "}"
   ]
  },
  {
   "cell_type": "code",
   "execution_count": 17,
   "metadata": {},
   "outputs": [],
   "source": [
    "# convert a standard matrix to a distance matrix\n",
    "mat2dist <- function(mat){\n",
    "    \n",
    "    return(distmat <- as.dist(mat))\n",
    "}"
   ]
  },
  {
   "cell_type": "markdown",
   "metadata": {},
   "source": [
    "Non-metric multidimensional scaling (NMDS)"
   ]
  },
  {
   "cell_type": "code",
   "execution_count": 18,
   "metadata": {},
   "outputs": [],
   "source": [
    "# find the nmds fit for a dataset\n",
    "nmdsfit <- function(distmatrix){\n",
    "      \n",
    "    fit <- isoMDS(distmatrix,k=2, maxit=100)\n",
    "    return(fit)\n",
    "}"
   ]
  },
  {
   "cell_type": "code",
   "execution_count": 19,
   "metadata": {},
   "outputs": [],
   "source": [
    "# plot the nmds fit\n",
    "nmdsplot <- function(fit, colors, abcolors, eccentricity1, eccentricity2){\n",
    "    \n",
    "    # get labels\n",
    "    \n",
    "    # change the nmdsfit back to a dataframe\n",
    "    nmdsdf <- as.data.frame(fit)\n",
    "    \n",
    "    plot <-     ggplot(nmdsdf, aes(x = points.1, y = points.2, color=colors, fill=colors)) + geom_point(size =10) + \n",
    "                scale_colour_manual(values = abcolors) + scale_fill_manual(values = abcolors) + \n",
    "                xlab(\"Dimension 1\") + ylab(\"Dimension 2\") + \n",
    "                ggtitle(paste(e2l(eccentricity1),e2l(eccentricity2),'Non-metric MDS',sep=' - '))\n",
    "    return(plot)\n",
    "}"
   ]
  },
  {
   "cell_type": "markdown",
   "metadata": {},
   "source": [
    "Classical multidimensional scaling"
   ]
  },
  {
   "cell_type": "code",
   "execution_count": 20,
   "metadata": {},
   "outputs": [],
   "source": [
    "# find the cmds fit for a dataset\n",
    "cmdsfit <- function(distmatrix){\n",
    "    \n",
    "    fit <- cmdscale(distmatrix,k=2)\n",
    "    return(fit)\n",
    "}"
   ]
  },
  {
   "cell_type": "code",
   "execution_count": 21,
   "metadata": {},
   "outputs": [],
   "source": [
    "# plot the cmds fit\n",
    "cmdsplot <- function(fit, colors, abcolors, eccentricity1, eccentricity2){\n",
    "    \n",
    "    # get labels\n",
    "    \n",
    "    # change the nmdsfit back to a dataframe\n",
    "    nmdsdf <- as.data.frame(fit)\n",
    "    \n",
    "    plot <-     ggplot(nmdsdf, aes(x = V1, y = V2, color=colors, fill=colors)) + geom_point(size =10) + \n",
    "                scale_colour_manual(values = abcolors) + scale_fill_manual(values = abcolors) + \n",
    "                xlab(\"Dimension 1\") + ylab(\"Dimension 2\") + \n",
    "                ggtitle(paste(e2l(eccentricity1),e2l(eccentricity2),'Classical MDS',sep=' - '))\n",
    "    return(plot)\n",
    "}"
   ]
  },
  {
   "cell_type": "markdown",
   "metadata": {},
   "source": [
    "#### Some control measure plots"
   ]
  },
  {
   "cell_type": "markdown",
   "metadata": {},
   "source": [
    "Reaction time vs. similarity judgements"
   ]
  },
  {
   "cell_type": "code",
   "execution_count": 22,
   "metadata": {},
   "outputs": [],
   "source": [
    "# similarity judgement histogram\n",
    "simhistplot <- function(datadf){\n",
    "    \n",
    "   plot <- ggplot(datadf, aes(x = p_confidence)) + geom_bar(aes(y = ..prop..)) +\n",
    "    scale_x_discrete(limits=c(0,1,2,3,4,5,6,7), name = 'Dissimilarity') +\n",
    "    ylab('Frequency') + ylim(0,0.8)\n",
    "    return(plot)\n",
    "}\n",
    "\n",
    "simhistplot_summary <- function(datadf){\n",
    "    \n",
    "    datadf$subject <- as.character(datadf$subject) # necessary for visualisation\n",
    "    \n",
    "    plot <- ggplot(datadf, aes(x = p_confidence)) + \n",
    "    geom_line(stat='count',aes(y = ..prop..,group = subject),color='#CC9933') +\n",
    "    geom_line(stat='count',aes(y = ..prop..),size=1.5) +\n",
    "    scale_x_discrete(limits=c(0,1,2,3,4,5,6,7), name = 'Dissimilarity') +\n",
    "    ylab('Frequency') + ylim(0,0.8)\n",
    "    return(plot)\n",
    "    \n",
    "}"
   ]
  },
  {
   "cell_type": "code",
   "execution_count": 23,
   "metadata": {},
   "outputs": [],
   "source": [
    "# reaction time for each similarity\n",
    "rsplot <- function(datadf){\n",
    "    \n",
    "    plot <- ggplot(datadf, aes(x= p_confidence, y=response_time)) + \n",
    "    stat_summary(fun.y = mean, geom = \"bar\") + \n",
    "    stat_summary(fun.data = mean_se, geom = \"errorbar\", size =0.5, aes(width=0.5)) +\n",
    "    scale_x_discrete(limits=c(0,1,2,3,4,5,6,7), name = 'Dissimilarity') + ylab('Reaction Time (ms)') +\n",
    "    theme(legend.position = \"none\") +\n",
    "    ylim(0,4000) # anyone taking more than 4 seconds has probably mindwandered\n",
    "    \n",
    "    return(plot)\n",
    "}\n",
    "\n",
    "rsplot_summary <- function(datadf){\n",
    "    \n",
    "    datadf$subject <- as.character(datadf$subject) # necessary for visualisation\n",
    "    \n",
    "    \n",
    "    \n",
    "    plot <- ggplot(datadf, aes(x= p_confidence, y=response_time,group = subject, color = subject)) + \n",
    "    stat_summary(fun.y = mean, geom = \"line\", size=0.8) + \n",
    "    #stat_summary(fun.data = mean_se, geom = \"errorbar\", size =0.5, aes(width=0.5)) +\n",
    "    scale_x_discrete(limits=c(0,1,2,3,4,5,6,7), name = 'Dissimilarity') + ylab('Mean Reaction Time (ms)') +\n",
    "    theme(legend.position = \"none\") +\n",
    "    ylim(0,4000) # anyone taking more than 4 seconds has probably mindwandered \n",
    "    \n",
    "    return(plot)\n",
    "    \n",
    "}"
   ]
  },
  {
   "cell_type": "code",
   "execution_count": 57,
   "metadata": {},
   "outputs": [],
   "source": [
    "# reaction time raincloud plot\n",
    "rsplot_raincloud <- function(datadf,xtype='linear'){\n",
    "    \n",
    "    datadf$subject <- as.character(datadf$subject) # necessary for visualisation  \n",
    "    datadf$p_confidence <- as.character(datadf$p_confidence) # necessary for visualisation\n",
    "    \n",
    "    ylabtext = 'Reaction Time (ms)'\n",
    "    \n",
    "    plot <- ggplot(datadf, aes(y = response_time, x = p_confidence, fill = p_confidence)) +\n",
    "            geom_flat_violin(position = position_nudge(x = .2, y = 0), alpha = .8) +\n",
    "            geom_point(aes(y = response_time, color = p_confidence),\n",
    "                   position = position_jitter(width = .15), size = .5, alpha = 0.8) +\n",
    "            geom_boxplot(width = .1, guides = FALSE, outlier.shape = NA, alpha = 0.5) +\n",
    "            expand_limits(x = 5.25) +\n",
    "            guides(fill = FALSE) +\n",
    "            guides(color = FALSE) +\n",
    "            scale_color_brewer(palette = \"Spectral\") +\n",
    "            scale_fill_brewer(palette = \"Spectral\") +\n",
    "            xlab('Dissimilarity') + ylab(\"Reaction Time (ms)\")\n",
    "            # coord_flip() +\n",
    "            theme_bw() +\n",
    "            raincloud_theme\n",
    "    \n",
    "    if(xtype == 'log'){\n",
    "        plot <- plot + scale_y_continuous(trans='log10') + ylim(0,15000)\n",
    "    } else{\n",
    "        plot <- plot + ylim(0,5000)\n",
    "    }\n",
    "    \n",
    "    return(plot)\n",
    "}"
   ]
  },
  {
   "cell_type": "code",
   "execution_count": 25,
   "metadata": {},
   "outputs": [],
   "source": [
    "# correlation between reaction times and similarity judgements\n",
    "# grouping at individual trial, individual participant, experiment or entire population level\n",
    "rt_similarity_cor <- function(datadf,level='participant'){\n",
    "        \n",
    "    if(level==\"participant\"){\n",
    "        datadf <- datadf %>% \n",
    "                group_by(subject) %>% \n",
    "                mutate(rt_similarity_correlation = cor(p_confidence,response_time))\n",
    "        datadf <- aggregate(datadf, by=list(datadf$subject), FUN = mean)\n",
    "\n",
    "                \n",
    "    }\n",
    "    return(datadf)\n",
    "    \n",
    "}\n",
    "\n",
    "rt_similarity_plot <- function(datadf,xlabel='BLANK'){\n",
    "    \n",
    "    datadf <- rt_similarity_cor(datadf)\n",
    "    \n",
    "    datadf[xlabel] = xlabel\n",
    "    \n",
    "    plot <- ggplot(datadf,aes(x=xlabel,y=rt_similarity_correlation)) + \n",
    "                geom_boxplot() + \n",
    "                geom_dotplot(binaxis='y',stackdir='center',dotsize=0.75) +\n",
    "                theme(text = element_text(size=15)) + xlab(\"\")\n",
    "                ggtitle(title)\n",
    "    \n",
    "    plot <- plot + ylab(\"Correlation (Spearman)\") + ylim(-1,1)\n",
    "    plot <- plot + geom_hline(yintercept=0, linetype=\"dashed\", color = \"blue\")\n",
    "    return(plot)\n",
    "}"
   ]
  },
  {
   "cell_type": "code",
   "execution_count": 26,
   "metadata": {},
   "outputs": [],
   "source": [
    "# mean reaction time vs. antitrace-trace difference\n",
    "rt_difference <- function(datadf){\n",
    "    \n",
    "    subjectlist <- sort(unique(datadf$subject)) # obtain a list of all the subjects\n",
    "    \n",
    "    for(ID in subjectlist){\n",
    "        tempdf <- subset(datadf, subject == ID)\n",
    "        datadf$difference[datadf$subject == ID] = unlist(antitrace_avg(tempdf),use.names=FALSE)[1] - \n",
    "                   unlist(trace_avg(tempdf),use.names=FALSE)[1]\n",
    "    }\n",
    "        datadf <- aggregate(datadf, by=list(datadf$subject), FUN = mean)\n",
    "    return(datadf)\n",
    "}\n",
    "\n",
    "rt_difference_plot <- function(datadf,xtype='linear'){\n",
    "    \n",
    "    plot <- ggplot(rt_difference(datadf), aes(x=response_time, y=difference)) +\n",
    "            geom_point() + xlab(\"Mean Reaction Time\") + ylab(\"Antitrace - Trace\")\n",
    "    \n",
    "    if(xtype == 'log'){\n",
    "        plot <- plot + scale_x_continuous(trans='log10')\n",
    "    } else{\n",
    "        plot <- plot + xlim(0,5000)\n",
    "    }\n",
    "    plot <- plot + geom_smooth(method=lm) # linear line of best fit\n",
    "    return(plot)\n",
    "}"
   ]
  },
  {
   "cell_type": "code",
   "execution_count": 64,
   "metadata": {},
   "outputs": [],
   "source": [
    "# mean reaction time vs. catch trial score\n",
    "rt_catch <- function(datadf){\n",
    "    \n",
    "    subjectlist <- sort(unique(datadf$subject)) # obtain a list of all the subjects\n",
    "    \n",
    "    for(ID in subjectlist){\n",
    "        tempdf <- subset(datadf, subject == ID)\n",
    "        datadf$catch_score[datadf$subject == ID] = unlist(catch_score(tempdf),use.names=FALSE)[1]\n",
    "    }\n",
    "        datadf <- aggregate(datadf, by=list(datadf$subject), FUN = mean)\n",
    "    return(datadf)\n",
    "}\n",
    "\n",
    "rt_catch_plot <- function(datadf,xtype='linear'){\n",
    "    \n",
    "    plot <- ggplot(rt_catch(datadf), aes(x=response_time, y=catch_score)) +\n",
    "            geom_point() + xlab(\"Mean Reaction Time\") + ylab(\"Catch Score\")\n",
    "    \n",
    "    if(xtype == 'log'){\n",
    "        plot <- plot + scale_x_continuous(trans='log10')\n",
    "    } else{\n",
    "        plot <- plot + xlim(0,5000)\n",
    "    }\n",
    "    plot <- plot + geom_smooth(method=lm) + ylim(0,1) # linear line of best fit\n",
    "    return(plot)\n",
    "}"
   ]
  },
  {
   "cell_type": "code",
   "execution_count": 71,
   "metadata": {},
   "outputs": [],
   "source": [
    "# mean antitrace-trace difference vs. catch trial score\n",
    "catch_difference <- function(datadf){\n",
    "    \n",
    "    subjectlist <- sort(unique(datadf$subject)) # obtain a list of all the subjects\n",
    "    \n",
    "    for(ID in subjectlist){\n",
    "        tempdf <- subset(datadf, subject == ID)\n",
    "        datadf$difference[datadf$subject == ID] = unlist(antitrace_avg(tempdf),use.names=FALSE)[1] - \n",
    "                   unlist(trace_avg(tempdf),use.names=FALSE)[1]\n",
    "        datadf$catch_score[datadf$subject == ID] = unlist(catch_score(tempdf),use.names=FALSE)[1]\n",
    "    }\n",
    "        datadf <- aggregate(datadf, by=list(datadf$subject), FUN = mean)\n",
    "    return(datadf)\n",
    "}\n",
    "\n",
    "catch_difference_plot <- function(datadf,xtype='linear'){\n",
    "    \n",
    "    plot <- ggplot(catch_difference(datadf), aes(x=difference, y=catch_score)) +\n",
    "            geom_point() + xlab(\"Mean Reaction Time\") + ylab(\"Antitrace - Trace\")\n",
    "    \n",
    "    if(xtype == 'log'){\n",
    "        plot <- plot + scale_x_continuous(trans='log10')\n",
    "    } else{\n",
    "        plot <- plot\n",
    "    }\n",
    "    plot <- plot + geom_smooth(method=lm) + ylim(0,1) # linear line of best fit\n",
    "    return(plot)\n",
    "}"
   ]
  },
  {
   "cell_type": "code",
   "execution_count": 74,
   "metadata": {
    "scrolled": true
   },
   "outputs": [
    {
     "data": {
      "text/html": [
       "<table>\n",
       "<thead><tr><th></th><th scope=col>subject</th><th scope=col>trial_number</th><th scope=col>sequence_number</th><th scope=col>order_num</th><th scope=col>trial_type</th><th scope=col>Cross_position</th><th scope=col>Circle_1</th><th scope=col>Position_1</th><th scope=col>Color_1</th><th scope=col>Circle_2</th><th scope=col>...</th><th scope=col>angle_3</th><th scope=col>angle_4</th><th scope=col>angle_1_cue</th><th scope=col>angle_2_cue</th><th scope=col>angle_3_cue</th><th scope=col>angle_4_cue</th><th scope=col>catch_vals</th><th scope=col>bin1</th><th scope=col>bin2</th><th scope=col>eccen_type</th></tr></thead>\n",
       "<tbody>\n",
       "\t<tr><th scope=row>1</th><td>467823558  </td><td> 1         </td><td> 20        </td><td>58         </td><td>during     </td><td>0          </td><td>-1         </td><td>-135.84727 </td><td>#0000FF    </td><td> 1         </td><td>...        </td><td>-45.8472698</td><td>134.15273  </td><td>-45.8472698</td><td>134.15273  </td><td> 44.1527302</td><td>224.1527   </td><td>NA         </td><td> 2         </td><td> 4         </td><td>FP         </td></tr>\n",
       "\t<tr><th scope=row>2</th><td>467823558  </td><td> 2         </td><td>125        </td><td>25         </td><td>after1     </td><td>0          </td><td>-1         </td><td>  96.12393 </td><td>#FFAA00    </td><td>-1         </td><td>...        </td><td>186.1239286</td><td>366.12393  </td><td>186.1239286</td><td>366.12393  </td><td>276.1239286</td><td>456.1239   </td><td>NA         </td><td> 7         </td><td>12         </td><td>FF         </td></tr>\n",
       "\t<tr><th scope=row>3</th><td>467823558  </td><td> 3         </td><td> 83        </td><td>57         </td><td>after2     </td><td>0          </td><td>-1         </td><td>  68.99162 </td><td>#0000FF    </td><td> 1         </td><td>...        </td><td>158.9916175</td><td>338.99162  </td><td>158.9916175</td><td>338.99162  </td><td>248.9916175</td><td>428.9916   </td><td>NA         </td><td> 7         </td><td> 9         </td><td>FP         </td></tr>\n",
       "\t<tr><th scope=row>4</th><td>467823558  </td><td> 4         </td><td> 13        </td><td> 6         </td><td>after1     </td><td>0          </td><td> 1         </td><td>  13.72859 </td><td>#AAFF00    </td><td> 1         </td><td>...        </td><td> 13.7285873</td><td>193.72859  </td><td> 13.7285873</td><td>193.72859  </td><td>103.7285873</td><td>283.7286   </td><td>NA         </td><td> 5         </td><td>10         </td><td>PP         </td></tr>\n",
       "\t<tr><th scope=row>5</th><td>467823558  </td><td> 5         </td><td> 42        </td><td>43         </td><td>after1     </td><td>0          </td><td> 1         </td><td>  69.98761 </td><td>#FF0000    </td><td> 1         </td><td>...        </td><td> 69.9876099</td><td>249.98761  </td><td> 69.9876099</td><td>249.98761  </td><td>159.9876099</td><td>339.9876   </td><td>NA         </td><td> 7         </td><td>11         </td><td>PP         </td></tr>\n",
       "\t<tr><th scope=row>6</th><td>467823558  </td><td> 6         </td><td>198        </td><td>73         </td><td>during     </td><td>0          </td><td>-1         </td><td>-177.34789 </td><td>#AAFF00    </td><td>-1         </td><td>...        </td><td>-87.3478926</td><td> 92.65211  </td><td>-87.3478926</td><td> 92.65211  </td><td>  2.6521074</td><td>182.6521   </td><td>NA         </td><td> 1         </td><td> 5         </td><td>FF         </td></tr>\n",
       "\t<tr><th scope=row>7</th><td>467823558  </td><td> 7         </td><td>133        </td><td>42         </td><td>during     </td><td>0          </td><td>-1         </td><td>-115.73704 </td><td>#FF0000    </td><td> 1         </td><td>...        </td><td>-25.7370384</td><td>154.26296  </td><td>-25.7370384</td><td>154.26296  </td><td> 64.2629616</td><td>244.2630   </td><td>NA         </td><td> 2         </td><td> 4         </td><td>FP         </td></tr>\n",
       "\t<tr><th scope=row>8</th><td>467823558  </td><td> 8         </td><td>  8        </td><td> 4         </td><td>catch      </td><td>0          </td><td>-1         </td><td>-175.63230 </td><td>#00A9FF    </td><td>-1         </td><td>...        </td><td>-85.6323021</td><td> 94.36770  </td><td>-85.6323021</td><td> 94.36770  </td><td>  4.3676979</td><td>184.3677   </td><td> 3         </td><td> 1         </td><td> 5         </td><td>FF         </td></tr>\n",
       "\t<tr><th scope=row>9</th><td>467823558  </td><td> 9         </td><td> 64        </td><td>71         </td><td>after2     </td><td>0          </td><td> 1         </td><td> 254.65155 </td><td>#AA00FF    </td><td> 1         </td><td>...        </td><td>254.6515510</td><td>434.65155  </td><td>254.6515510</td><td>434.65155  </td><td>344.6515510</td><td>524.6516   </td><td>NA         </td><td>11         </td><td>16         </td><td>PP         </td></tr>\n",
       "\t<tr><th scope=row>10</th><td>467823558  </td><td>10         </td><td>129        </td><td>63         </td><td>during     </td><td>0          </td><td>-1         </td><td> -89.37944 </td><td>#FF0000    </td><td>-1         </td><td>...        </td><td>  0.6205562</td><td>180.62056  </td><td>  0.6205562</td><td>180.62056  </td><td> 90.6205562</td><td>270.6206   </td><td>NA         </td><td> 3         </td><td> 7         </td><td>FF         </td></tr>\n",
       "\t<tr><th scope=row>11</th><td>467823558  </td><td>11         </td><td> 37        </td><td>45         </td><td>after2     </td><td>0          </td><td>-1         </td><td>-137.82807 </td><td>#AA00FF    </td><td> 1         </td><td>...        </td><td>-47.8280705</td><td>132.17193  </td><td>-47.8280705</td><td>132.17193  </td><td> 42.1719295</td><td>222.1719   </td><td>NA         </td><td> 2         </td><td> 4         </td><td>FP         </td></tr>\n",
       "\t<tr><th scope=row>12</th><td>467823558  </td><td>12         </td><td>190        </td><td>60         </td><td>during     </td><td>0          </td><td>-1         </td><td>  59.33489 </td><td>#0000FF    </td><td>-1         </td><td>...        </td><td>149.3348863</td><td>329.33489  </td><td>149.3348863</td><td>329.33489  </td><td>239.3348863</td><td>419.3349   </td><td>NA         </td><td> 6         </td><td>11         </td><td>FF         </td></tr>\n",
       "\t<tr><th scope=row>13</th><td>467823558  </td><td>13         </td><td> 82        </td><td>13         </td><td>during     </td><td>0          </td><td> 1         </td><td> 263.11030 </td><td>#AA00FF    </td><td> 1         </td><td>...        </td><td>263.1102991</td><td>443.11030  </td><td>263.1102991</td><td>443.11030  </td><td>353.1102991</td><td>533.1103   </td><td>NA         </td><td>12         </td><td>16         </td><td>PP         </td></tr>\n",
       "\t<tr><th scope=row>14</th><td>467823558  </td><td>14         </td><td>189        </td><td>41         </td><td>during     </td><td>0          </td><td>-1         </td><td>-116.66320 </td><td>#FF0000    </td><td> 1         </td><td>...        </td><td>-26.6632000</td><td>153.33680  </td><td>-26.6632000</td><td>153.33680  </td><td> 63.3368000</td><td>243.3368   </td><td>NA         </td><td> 2         </td><td> 4         </td><td>FP         </td></tr>\n",
       "\t<tr><th scope=row>15</th><td>467823558  </td><td>15         </td><td> 75        </td><td>11         </td><td>during     </td><td>0          </td><td>-1         </td><td>-179.64335 </td><td>#FFAA00    </td><td> 1         </td><td>...        </td><td>-89.6433541</td><td> 90.35665  </td><td>-89.6433541</td><td> 90.35665  </td><td>  0.3566459</td><td>180.3566   </td><td>NA         </td><td> 1         </td><td> 3         </td><td>FP         </td></tr>\n",
       "\t<tr><th scope=row>16</th><td>467823558  </td><td>16         </td><td> 16        </td><td>49         </td><td>after2     </td><td>0          </td><td>-1         </td><td>  65.72025 </td><td>#0000FF    </td><td> 1         </td><td>...        </td><td>155.7202478</td><td>335.72025  </td><td>155.7202478</td><td>335.72025  </td><td>245.7202478</td><td>425.7202   </td><td>NA         </td><td> 7         </td><td> 9         </td><td>FP         </td></tr>\n",
       "\t<tr><th scope=row>17</th><td>467823558  </td><td>17         </td><td>115        </td><td> 1         </td><td>after2     </td><td>0          </td><td>-1         </td><td> 135.76273 </td><td>#FF0000    </td><td> 1         </td><td>...        </td><td>225.7627316</td><td>405.76273  </td><td>225.7627316</td><td>405.76273  </td><td>315.7627316</td><td>495.7627   </td><td>NA         </td><td> 8         </td><td>11         </td><td>FP         </td></tr>\n",
       "\t<tr><th scope=row>18</th><td>467823558  </td><td>18         </td><td>201        </td><td>40         </td><td>during     </td><td>0          </td><td>-1         </td><td>  24.41892 </td><td>#AA00FF    </td><td>-1         </td><td>...        </td><td>114.4189224</td><td>294.41892  </td><td>114.4189224</td><td>294.41892  </td><td>204.4189224</td><td>384.4189   </td><td>NA         </td><td> 6         </td><td>10         </td><td>FF         </td></tr>\n",
       "\t<tr><th scope=row>19</th><td>467823558  </td><td>19         </td><td>196        </td><td>16         </td><td>during     </td><td>0          </td><td> 1         </td><td>  54.57842 </td><td>#FFAA00    </td><td> 1         </td><td>...        </td><td> 54.5784208</td><td>234.57842  </td><td> 54.5784208</td><td>234.57842  </td><td>144.5784208</td><td>324.5784   </td><td>NA         </td><td> 6         </td><td>11         </td><td>PP         </td></tr>\n",
       "\t<tr><th scope=row>20</th><td>467823558  </td><td>20         </td><td> 10        </td><td>10         </td><td>after1     </td><td>0          </td><td>-1         </td><td>  42.67690 </td><td>#FF0000    </td><td>-1         </td><td>...        </td><td>132.6769007</td><td>312.67690  </td><td>132.6769007</td><td>312.67690  </td><td>222.6769007</td><td>402.6769   </td><td>NA         </td><td> 6         </td><td>11         </td><td>FF         </td></tr>\n",
       "\t<tr><th scope=row>21</th><td>467823558  </td><td>21         </td><td>158        </td><td>30         </td><td>after2     </td><td>0          </td><td>-1         </td><td> -70.77442 </td><td>#FF0000    </td><td> 1         </td><td>...        </td><td> 19.2255819</td><td>199.22558  </td><td> 19.2255819</td><td>199.22558  </td><td>109.2255819</td><td>289.2256   </td><td>NA         </td><td> 3         </td><td> 5         </td><td>FP         </td></tr>\n",
       "\t<tr><th scope=row>22</th><td>467823558  </td><td>22         </td><td> 36        </td><td>24         </td><td>after2     </td><td>0          </td><td>-1         </td><td> -72.10259 </td><td>#AA00FF    </td><td>-1         </td><td>...        </td><td> 17.8974064</td><td>197.89741  </td><td> 17.8974064</td><td>197.89741  </td><td>107.8974064</td><td>287.8974   </td><td>NA         </td><td> 3         </td><td> 8         </td><td>FF         </td></tr>\n",
       "\t<tr><th scope=row>23</th><td>467823558  </td><td>23         </td><td> 15        </td><td>66         </td><td>during     </td><td>0          </td><td> 1         </td><td>  11.06292 </td><td>#AAFF00    </td><td> 1         </td><td>...        </td><td> 11.0629170</td><td>191.06292  </td><td> 11.0629170</td><td>191.06292  </td><td>101.0629170</td><td>281.0629   </td><td>NA         </td><td> 5         </td><td>10         </td><td>PP         </td></tr>\n",
       "\t<tr><th scope=row>24</th><td>467823558  </td><td>24         </td><td> 24        </td><td> 3         </td><td>catch      </td><td>0          </td><td>-1         </td><td> 161.22598 </td><td>#FF00AA    </td><td>-1         </td><td>...        </td><td>251.2259752</td><td>431.22598  </td><td>251.2259752</td><td>431.22598  </td><td>341.2259752</td><td>521.2260   </td><td> 6         </td><td> 9         </td><td>14         </td><td>FF         </td></tr>\n",
       "\t<tr><th scope=row>25</th><td>467823558  </td><td>25         </td><td>145        </td><td> 3         </td><td>after1     </td><td>0          </td><td>-1         </td><td>  73.95108 </td><td>#FF0000    </td><td>-1         </td><td>...        </td><td>163.9510776</td><td>343.95108  </td><td>163.9510776</td><td>343.95108  </td><td>253.9510776</td><td>433.9511   </td><td>NA         </td><td> 7         </td><td>11         </td><td>FF         </td></tr>\n",
       "\t<tr><th scope=row>26</th><td>467823558  </td><td>26         </td><td> 50        </td><td>34         </td><td>after2     </td><td>0          </td><td>-1         </td><td>  83.77530 </td><td>#FFAA00    </td><td>-1         </td><td>...        </td><td>173.7752954</td><td>353.77530  </td><td>173.7752954</td><td>353.77530  </td><td>263.7752954</td><td>443.7753   </td><td>NA         </td><td> 7         </td><td>12         </td><td>FF         </td></tr>\n",
       "\t<tr><th scope=row>27</th><td>467823558  </td><td>27         </td><td>131        </td><td>12         </td><td>during     </td><td>0          </td><td>-1         </td><td>-169.13567 </td><td>#AAFF00    </td><td>-1         </td><td>...        </td><td>-79.1356733</td><td>100.86433  </td><td>-79.1356733</td><td>100.86433  </td><td> 10.8643267</td><td>190.8643   </td><td>NA         </td><td> 1         </td><td> 5         </td><td>FF         </td></tr>\n",
       "\t<tr><th scope=row>28</th><td>467823558  </td><td>28         </td><td> 79        </td><td>20         </td><td>during     </td><td>0          </td><td>-1         </td><td>  27.19171 </td><td>#AAFF00    </td><td> 1         </td><td>...        </td><td>117.1917081</td><td>297.19171  </td><td>117.1917081</td><td>297.19171  </td><td>207.1917081</td><td>387.1917   </td><td>NA         </td><td> 6         </td><td> 8         </td><td>FP         </td></tr>\n",
       "\t<tr><th scope=row>29</th><td>467823558  </td><td>29         </td><td> 23        </td><td>39         </td><td>after2     </td><td>0          </td><td> 1         </td><td>  50.84795 </td><td>#0000FF    </td><td> 1         </td><td>...        </td><td> 50.8479487</td><td>230.84795  </td><td> 50.8479487</td><td>230.84795  </td><td>140.8479487</td><td>320.8479   </td><td>NA         </td><td> 6         </td><td>11         </td><td>PP         </td></tr>\n",
       "\t<tr><th scope=row>30</th><td>467823558  </td><td>30         </td><td> 49        </td><td>25         </td><td>after2     </td><td>0          </td><td>-1         </td><td>  11.64678 </td><td>#FFAA00    </td><td> 1         </td><td>...        </td><td>101.6467835</td><td>281.64678  </td><td>101.6467835</td><td>281.64678  </td><td>191.6467835</td><td>371.6468   </td><td>NA         </td><td> 5         </td><td> 8         </td><td>FP         </td></tr>\n",
       "\t<tr><th scope=row>...</th><td>...</td><td>...</td><td>...</td><td>...</td><td>...</td><td>...</td><td>...</td><td>...</td><td>...</td><td>...</td><td>   </td><td>...</td><td>...</td><td>...</td><td>...</td><td>...</td><td>...</td><td>...</td><td>...</td><td>...</td><td>...</td></tr>\n",
       "\t<tr><th scope=row>3560</th><td>586377363   </td><td>181         </td><td>116         </td><td>66          </td><td>after2      </td><td>0           </td><td> 1          </td><td> 137.6291148</td><td>#FFAA00     </td><td> 1          </td><td>...         </td><td>137.629115  </td><td>317.6291    </td><td>137.629115  </td><td>317.6291    </td><td>227.629115  </td><td>407.6291    </td><td>NA          </td><td> 8          </td><td>13          </td><td>PP          </td></tr>\n",
       "\t<tr><th scope=row>3561</th><td>586377363   </td><td>182         </td><td>127         </td><td> 4          </td><td>catch       </td><td>0           </td><td>-1          </td><td>  66.2961607</td><td>#00FFA9     </td><td>-1          </td><td>...         </td><td>156.296161  </td><td>336.2962    </td><td>156.296161  </td><td>336.2962    </td><td>246.296161  </td><td>426.2962    </td><td> 3          </td><td> 7          </td><td>11          </td><td>FF          </td></tr>\n",
       "\t<tr><th scope=row>3562</th><td>586377363   </td><td>183         </td><td>150         </td><td>55          </td><td>after2      </td><td>0           </td><td> 1          </td><td>  -1.5283324</td><td>#AA00FF     </td><td> 1          </td><td>...         </td><td> -1.528332  </td><td>178.4717    </td><td> -1.528332  </td><td>178.4717    </td><td> 88.471668  </td><td>268.4717    </td><td>NA          </td><td> 5          </td><td> 9          </td><td>PP          </td></tr>\n",
       "\t<tr><th scope=row>3563</th><td>586377363   </td><td>184         </td><td>118         </td><td>27          </td><td>after2      </td><td>0           </td><td>-1          </td><td>-121.5106673</td><td>#0000FF     </td><td>-1          </td><td>...         </td><td>-31.510667  </td><td>148.4893    </td><td>-31.510667  </td><td>148.4893    </td><td> 58.489333  </td><td>238.4893    </td><td>NA          </td><td> 2          </td><td> 6          </td><td>FF          </td></tr>\n",
       "\t<tr><th scope=row>3564</th><td>586377363   </td><td>185         </td><td> 72         </td><td> 1          </td><td>after1      </td><td>0           </td><td> 1          </td><td> 184.9558997</td><td>#FFAA00     </td><td> 1          </td><td>...         </td><td>184.955900  </td><td>364.9559    </td><td>184.955900  </td><td>364.9559    </td><td>274.955900  </td><td>454.9559    </td><td>NA          </td><td>10          </td><td>14          </td><td>PP          </td></tr>\n",
       "\t<tr><th scope=row>3565</th><td>586377363   </td><td>186         </td><td>  3         </td><td>16          </td><td>after1      </td><td>0           </td><td>-1          </td><td> -77.5009976</td><td>#AA00FF     </td><td>-1          </td><td>...         </td><td> 12.499002  </td><td>192.4990    </td><td> 12.499002  </td><td>192.4990    </td><td>102.499002  </td><td>282.4990    </td><td>NA          </td><td> 3          </td><td> 8          </td><td>FF          </td></tr>\n",
       "\t<tr><th scope=row>3566</th><td>586377363   </td><td>187         </td><td> 64         </td><td>75          </td><td>after2      </td><td>0           </td><td>-1          </td><td>  55.2988893</td><td>#FF0000     </td><td> 1          </td><td>...         </td><td>145.298889  </td><td>325.2989    </td><td>145.298889  </td><td>325.2989    </td><td>235.298889  </td><td>415.2989    </td><td>NA          </td><td> 6          </td><td> 9          </td><td>FP          </td></tr>\n",
       "\t<tr><th scope=row>3567</th><td>586377363   </td><td>188         </td><td>120         </td><td>25          </td><td>after1      </td><td>0           </td><td>-1          </td><td>-173.1347045</td><td>#AAFF00     </td><td>-1          </td><td>...         </td><td>-83.134704  </td><td> 96.8653    </td><td>-83.134704  </td><td> 96.8653    </td><td>  6.865296  </td><td>186.8653    </td><td>NA          </td><td> 1          </td><td> 5          </td><td>FF          </td></tr>\n",
       "\t<tr><th scope=row>3568</th><td>586377363   </td><td>189         </td><td>186         </td><td>45          </td><td>after2      </td><td>0           </td><td>-1          </td><td>   0.4960708</td><td>#AA00FF     </td><td> 1          </td><td>...         </td><td> 90.496071  </td><td>270.4961    </td><td> 90.496071  </td><td>270.4961    </td><td>180.496071  </td><td>360.4961    </td><td>NA          </td><td> 5          </td><td> 7          </td><td>FP          </td></tr>\n",
       "\t<tr><th scope=row>3569</th><td>586377363   </td><td>190         </td><td>173         </td><td>66          </td><td>during      </td><td>0           </td><td> 1          </td><td>  70.5990470</td><td>#AAFF00     </td><td> 1          </td><td>...         </td><td> 70.599047  </td><td>250.5990    </td><td> 70.599047  </td><td>250.5990    </td><td>160.599047  </td><td>340.5990    </td><td>NA          </td><td> 7          </td><td>11          </td><td>PP          </td></tr>\n",
       "\t<tr><th scope=row>3570</th><td>586377363   </td><td>191         </td><td>198         </td><td>71          </td><td>during      </td><td>0           </td><td> 1          </td><td>  16.9889782</td><td>#AAFF00     </td><td> 1          </td><td>...         </td><td> 16.988978  </td><td>196.9890    </td><td> 16.988978  </td><td>196.9890    </td><td>106.988978  </td><td>286.9890    </td><td>NA          </td><td> 5          </td><td>10          </td><td>PP          </td></tr>\n",
       "\t<tr><th scope=row>3571</th><td>586377363   </td><td>192         </td><td>204         </td><td> 1          </td><td>during      </td><td>0           </td><td> 1          </td><td>  17.0783444</td><td>#0000FF     </td><td> 1          </td><td>...         </td><td> 17.078344  </td><td>197.0783    </td><td> 17.078344  </td><td>197.0783    </td><td>107.078344  </td><td>287.0783    </td><td>NA          </td><td> 5          </td><td>10          </td><td>PP          </td></tr>\n",
       "\t<tr><th scope=row>3572</th><td>586377363   </td><td>193         </td><td>132         </td><td>14          </td><td>after2      </td><td>0           </td><td>-1          </td><td> 127.0090847</td><td>#FFAA00     </td><td> 1          </td><td>...         </td><td>217.009085  </td><td>397.0091    </td><td>217.009085  </td><td>397.0091    </td><td>307.009085  </td><td>487.0091    </td><td>NA          </td><td> 8          </td><td>10          </td><td>FP          </td></tr>\n",
       "\t<tr><th scope=row>3573</th><td>586377363   </td><td>194         </td><td>174         </td><td>48          </td><td>during      </td><td>0           </td><td>-1          </td><td> 171.5679953</td><td>#0000FF     </td><td> 1          </td><td>...         </td><td>261.567995  </td><td>441.5680    </td><td>261.567995  </td><td>441.5680    </td><td>351.567995  </td><td>531.5680    </td><td>NA          </td><td> 9          </td><td>12          </td><td>FP          </td></tr>\n",
       "\t<tr><th scope=row>3574</th><td>586377363   </td><td>195         </td><td> 65         </td><td>28          </td><td>after2      </td><td>0           </td><td>-1          </td><td> -86.2882400</td><td>#AA00FF     </td><td>-1          </td><td>...         </td><td>  3.711760  </td><td>183.7118    </td><td>  3.711760  </td><td>183.7118    </td><td> 93.711760  </td><td>273.7118    </td><td>NA          </td><td> 3          </td><td> 7          </td><td>FF          </td></tr>\n",
       "\t<tr><th scope=row>3575</th><td>586377363   </td><td>196         </td><td> 75         </td><td>21          </td><td>during      </td><td>0           </td><td>-1          </td><td> 136.1673596</td><td>#AAFF00     </td><td> 1          </td><td>...         </td><td>226.167360  </td><td>406.1674    </td><td>226.167360  </td><td>406.1674    </td><td>316.167360  </td><td>496.1674    </td><td>NA          </td><td> 8          </td><td>11          </td><td>FP          </td></tr>\n",
       "\t<tr><th scope=row>3576</th><td>586377363   </td><td>197         </td><td>155         </td><td> 2          </td><td>after1      </td><td>0           </td><td> 1          </td><td> -13.6081109</td><td>#0000FF     </td><td> 1          </td><td>...         </td><td>-13.608111  </td><td>166.3919    </td><td>-13.608111  </td><td>166.3919    </td><td> 76.391889  </td><td>256.3919    </td><td>NA          </td><td> 5          </td><td> 9          </td><td>PP          </td></tr>\n",
       "\t<tr><th scope=row>3577</th><td>586377363   </td><td>198         </td><td>151         </td><td> 5          </td><td>catch       </td><td>0           </td><td>-1          </td><td> -15.7195404</td><td>#00A9FF     </td><td>-1          </td><td>...         </td><td> 74.280460  </td><td>254.2805    </td><td> 74.280460  </td><td>254.2805    </td><td>164.280460  </td><td>344.2805    </td><td> 2          </td><td> 5          </td><td> 9          </td><td>FF          </td></tr>\n",
       "\t<tr><th scope=row>3578</th><td>586377363   </td><td>199         </td><td> 50         </td><td> 1          </td><td>after2      </td><td>0           </td><td>-1          </td><td> 103.2247970</td><td>#FF0000     </td><td> 1          </td><td>...         </td><td>193.224797  </td><td>373.2248    </td><td>193.224797  </td><td>373.2248    </td><td>283.224797  </td><td>463.2248    </td><td>NA          </td><td> 8          </td><td>10          </td><td>FP          </td></tr>\n",
       "\t<tr><th scope=row>3579</th><td>586377363   </td><td>200         </td><td> 74         </td><td>15          </td><td>after2      </td><td>0           </td><td>-1          </td><td> 165.3013052</td><td>#0000FF     </td><td> 1          </td><td>...         </td><td>255.301305  </td><td>435.3013    </td><td>255.301305  </td><td>435.3013    </td><td>345.301305  </td><td>525.3013    </td><td>NA          </td><td> 9          </td><td>11          </td><td>FP          </td></tr>\n",
       "\t<tr><th scope=row>3580</th><td>586377363   </td><td>201         </td><td>158         </td><td>25          </td><td>after2      </td><td>0           </td><td>-1          </td><td>  95.4535946</td><td>#FFAA00     </td><td> 1          </td><td>...         </td><td>185.453595  </td><td>365.4536    </td><td>185.453595  </td><td>365.4536    </td><td>275.453595  </td><td>455.4536    </td><td>NA          </td><td> 7          </td><td>10          </td><td>FP          </td></tr>\n",
       "\t<tr><th scope=row>3581</th><td>586377363   </td><td>202         </td><td>113         </td><td>27          </td><td>after1      </td><td>0           </td><td>-1          </td><td>  15.7093313</td><td>#0000FF     </td><td>-1          </td><td>...         </td><td>105.709331  </td><td>285.7093    </td><td>105.709331  </td><td>285.7093    </td><td>195.709331  </td><td>375.7093    </td><td>NA          </td><td> 5          </td><td>10          </td><td>FF          </td></tr>\n",
       "\t<tr><th scope=row>3582</th><td>586377363   </td><td>203         </td><td>  4         </td><td>43          </td><td>after1      </td><td>0           </td><td>-1          </td><td>-143.9583331</td><td>#FFAA00     </td><td>-1          </td><td>...         </td><td>-53.958333  </td><td>126.0417    </td><td>-53.958333  </td><td>126.0417    </td><td> 36.041667  </td><td>216.0417    </td><td>NA          </td><td> 1          </td><td> 6          </td><td>FF          </td></tr>\n",
       "\t<tr><th scope=row>3583</th><td>586377363   </td><td>204         </td><td> 63         </td><td>51          </td><td>during      </td><td>0           </td><td>-1          </td><td>  27.4104024</td><td>#FFAA00     </td><td>-1          </td><td>...         </td><td>117.410402  </td><td>297.4104    </td><td>117.410402  </td><td>297.4104    </td><td>207.410402  </td><td>387.4104    </td><td>NA          </td><td> 6          </td><td>10          </td><td>FF          </td></tr>\n",
       "\t<tr><th scope=row>3584</th><td>586377363   </td><td>205         </td><td> 55         </td><td>32          </td><td>after2      </td><td>0           </td><td>-1          </td><td> -67.7205309</td><td>#AA00FF     </td><td>-1          </td><td>...         </td><td> 22.279469  </td><td>202.2795    </td><td> 22.279469  </td><td>202.2795    </td><td>112.279469  </td><td>292.2795    </td><td>NA          </td><td> 3          </td><td> 8          </td><td>FF          </td></tr>\n",
       "\t<tr><th scope=row>3585</th><td>586377363   </td><td>206         </td><td> 16         </td><td>30          </td><td>after2      </td><td>0           </td><td>-1          </td><td> 127.2822435</td><td>#FF0000     </td><td> 1          </td><td>...         </td><td>217.282243  </td><td>397.2822    </td><td>217.282243  </td><td>397.2822    </td><td>307.282243  </td><td>487.2822    </td><td>NA          </td><td> 8          </td><td>10          </td><td>FP          </td></tr>\n",
       "\t<tr><th scope=row>3586</th><td>586377363   </td><td>207         </td><td>112         </td><td>62          </td><td>during      </td><td>0           </td><td> 1          </td><td> 234.0864367</td><td>#FF0000     </td><td> 1          </td><td>...         </td><td>234.086437  </td><td>414.0864    </td><td>234.086437  </td><td>414.0864    </td><td>324.086437  </td><td>504.0864    </td><td>NA          </td><td>11          </td><td>15          </td><td>PP          </td></tr>\n",
       "\t<tr><th scope=row>3587</th><td>586377363   </td><td>208         </td><td>183         </td><td>62          </td><td>after2      </td><td>0           </td><td>-1          </td><td>-128.5454585</td><td>#AAFF00     </td><td> 1          </td><td>...         </td><td>-38.545459  </td><td>141.4545    </td><td>-38.545459  </td><td>141.4545    </td><td> 51.454541  </td><td>231.4545    </td><td>NA          </td><td> 2          </td><td> 4          </td><td>FP          </td></tr>\n",
       "\t<tr><th scope=row>3588</th><td>586377363   </td><td>209         </td><td>121         </td><td>58          </td><td>after2      </td><td>0           </td><td>-1          </td><td> -85.2073462</td><td>#FFAA00     </td><td> 1          </td><td>...         </td><td>  4.792654  </td><td>184.7927    </td><td>  4.792654  </td><td>184.7927    </td><td> 94.792654  </td><td>274.7927    </td><td>NA          </td><td> 3          </td><td> 5          </td><td>FP          </td></tr>\n",
       "\t<tr><th scope=row>3589</th><td>586377363   </td><td>210         </td><td> 29         </td><td>70          </td><td>after2      </td><td>0           </td><td>-1          </td><td> -21.2667048</td><td>#0000FF     </td><td>-1          </td><td>...         </td><td> 68.733295  </td><td>248.7333    </td><td> 68.733295  </td><td>248.7333    </td><td>158.733295  </td><td>338.7333    </td><td>NA          </td><td> 4          </td><td> 9          </td><td>FF          </td></tr>\n",
       "</tbody>\n",
       "</table>\n"
      ],
      "text/latex": [
       "\\begin{tabular}{r|llllllllllllllllllllllllllllll}\n",
       "  & subject & trial\\_number & sequence\\_number & order\\_num & trial\\_type & Cross\\_position & Circle\\_1 & Position\\_1 & Color\\_1 & Circle\\_2 & ... & angle\\_3 & angle\\_4 & angle\\_1\\_cue & angle\\_2\\_cue & angle\\_3\\_cue & angle\\_4\\_cue & catch\\_vals & bin1 & bin2 & eccen\\_type\\\\\n",
       "\\hline\n",
       "\t1 & 467823558   &  1          &  20         & 58          & during      & 0           & -1          & -135.84727  & \\#0000FF   &  1          & ...         & -45.8472698 & 134.15273   & -45.8472698 & 134.15273   &  44.1527302 & 224.1527    & NA          &  2          &  4          & FP         \\\\\n",
       "\t2 & 467823558   &  2          & 125         & 25          & after1      & 0           & -1          &   96.12393  & \\#FFAA00   & -1          & ...         & 186.1239286 & 366.12393   & 186.1239286 & 366.12393   & 276.1239286 & 456.1239    & NA          &  7          & 12          & FF         \\\\\n",
       "\t3 & 467823558   &  3          &  83         & 57          & after2      & 0           & -1          &   68.99162  & \\#0000FF   &  1          & ...         & 158.9916175 & 338.99162   & 158.9916175 & 338.99162   & 248.9916175 & 428.9916    & NA          &  7          &  9          & FP         \\\\\n",
       "\t4 & 467823558   &  4          &  13         &  6          & after1      & 0           &  1          &   13.72859  & \\#AAFF00   &  1          & ...         &  13.7285873 & 193.72859   &  13.7285873 & 193.72859   & 103.7285873 & 283.7286    & NA          &  5          & 10          & PP         \\\\\n",
       "\t5 & 467823558   &  5          &  42         & 43          & after1      & 0           &  1          &   69.98761  & \\#FF0000   &  1          & ...         &  69.9876099 & 249.98761   &  69.9876099 & 249.98761   & 159.9876099 & 339.9876    & NA          &  7          & 11          & PP         \\\\\n",
       "\t6 & 467823558   &  6          & 198         & 73          & during      & 0           & -1          & -177.34789  & \\#AAFF00   & -1          & ...         & -87.3478926 &  92.65211   & -87.3478926 &  92.65211   &   2.6521074 & 182.6521    & NA          &  1          &  5          & FF         \\\\\n",
       "\t7 & 467823558   &  7          & 133         & 42          & during      & 0           & -1          & -115.73704  & \\#FF0000   &  1          & ...         & -25.7370384 & 154.26296   & -25.7370384 & 154.26296   &  64.2629616 & 244.2630    & NA          &  2          &  4          & FP         \\\\\n",
       "\t8 & 467823558   &  8          &   8         &  4          & catch       & 0           & -1          & -175.63230  & \\#00A9FF   & -1          & ...         & -85.6323021 &  94.36770   & -85.6323021 &  94.36770   &   4.3676979 & 184.3677    &  3          &  1          &  5          & FF         \\\\\n",
       "\t9 & 467823558   &  9          &  64         & 71          & after2      & 0           &  1          &  254.65155  & \\#AA00FF   &  1          & ...         & 254.6515510 & 434.65155   & 254.6515510 & 434.65155   & 344.6515510 & 524.6516    & NA          & 11          & 16          & PP         \\\\\n",
       "\t10 & 467823558   & 10          & 129         & 63          & during      & 0           & -1          &  -89.37944  & \\#FF0000   & -1          & ...         &   0.6205562 & 180.62056   &   0.6205562 & 180.62056   &  90.6205562 & 270.6206    & NA          &  3          &  7          & FF         \\\\\n",
       "\t11 & 467823558   & 11          &  37         & 45          & after2      & 0           & -1          & -137.82807  & \\#AA00FF   &  1          & ...         & -47.8280705 & 132.17193   & -47.8280705 & 132.17193   &  42.1719295 & 222.1719    & NA          &  2          &  4          & FP         \\\\\n",
       "\t12 & 467823558   & 12          & 190         & 60          & during      & 0           & -1          &   59.33489  & \\#0000FF   & -1          & ...         & 149.3348863 & 329.33489   & 149.3348863 & 329.33489   & 239.3348863 & 419.3349    & NA          &  6          & 11          & FF         \\\\\n",
       "\t13 & 467823558   & 13          &  82         & 13          & during      & 0           &  1          &  263.11030  & \\#AA00FF   &  1          & ...         & 263.1102991 & 443.11030   & 263.1102991 & 443.11030   & 353.1102991 & 533.1103    & NA          & 12          & 16          & PP         \\\\\n",
       "\t14 & 467823558   & 14          & 189         & 41          & during      & 0           & -1          & -116.66320  & \\#FF0000   &  1          & ...         & -26.6632000 & 153.33680   & -26.6632000 & 153.33680   &  63.3368000 & 243.3368    & NA          &  2          &  4          & FP         \\\\\n",
       "\t15 & 467823558   & 15          &  75         & 11          & during      & 0           & -1          & -179.64335  & \\#FFAA00   &  1          & ...         & -89.6433541 &  90.35665   & -89.6433541 &  90.35665   &   0.3566459 & 180.3566    & NA          &  1          &  3          & FP         \\\\\n",
       "\t16 & 467823558   & 16          &  16         & 49          & after2      & 0           & -1          &   65.72025  & \\#0000FF   &  1          & ...         & 155.7202478 & 335.72025   & 155.7202478 & 335.72025   & 245.7202478 & 425.7202    & NA          &  7          &  9          & FP         \\\\\n",
       "\t17 & 467823558   & 17          & 115         &  1          & after2      & 0           & -1          &  135.76273  & \\#FF0000   &  1          & ...         & 225.7627316 & 405.76273   & 225.7627316 & 405.76273   & 315.7627316 & 495.7627    & NA          &  8          & 11          & FP         \\\\\n",
       "\t18 & 467823558   & 18          & 201         & 40          & during      & 0           & -1          &   24.41892  & \\#AA00FF   & -1          & ...         & 114.4189224 & 294.41892   & 114.4189224 & 294.41892   & 204.4189224 & 384.4189    & NA          &  6          & 10          & FF         \\\\\n",
       "\t19 & 467823558   & 19          & 196         & 16          & during      & 0           &  1          &   54.57842  & \\#FFAA00   &  1          & ...         &  54.5784208 & 234.57842   &  54.5784208 & 234.57842   & 144.5784208 & 324.5784    & NA          &  6          & 11          & PP         \\\\\n",
       "\t20 & 467823558   & 20          &  10         & 10          & after1      & 0           & -1          &   42.67690  & \\#FF0000   & -1          & ...         & 132.6769007 & 312.67690   & 132.6769007 & 312.67690   & 222.6769007 & 402.6769    & NA          &  6          & 11          & FF         \\\\\n",
       "\t21 & 467823558   & 21          & 158         & 30          & after2      & 0           & -1          &  -70.77442  & \\#FF0000   &  1          & ...         &  19.2255819 & 199.22558   &  19.2255819 & 199.22558   & 109.2255819 & 289.2256    & NA          &  3          &  5          & FP         \\\\\n",
       "\t22 & 467823558   & 22          &  36         & 24          & after2      & 0           & -1          &  -72.10259  & \\#AA00FF   & -1          & ...         &  17.8974064 & 197.89741   &  17.8974064 & 197.89741   & 107.8974064 & 287.8974    & NA          &  3          &  8          & FF         \\\\\n",
       "\t23 & 467823558   & 23          &  15         & 66          & during      & 0           &  1          &   11.06292  & \\#AAFF00   &  1          & ...         &  11.0629170 & 191.06292   &  11.0629170 & 191.06292   & 101.0629170 & 281.0629    & NA          &  5          & 10          & PP         \\\\\n",
       "\t24 & 467823558   & 24          &  24         &  3          & catch       & 0           & -1          &  161.22598  & \\#FF00AA   & -1          & ...         & 251.2259752 & 431.22598   & 251.2259752 & 431.22598   & 341.2259752 & 521.2260    &  6          &  9          & 14          & FF         \\\\\n",
       "\t25 & 467823558   & 25          & 145         &  3          & after1      & 0           & -1          &   73.95108  & \\#FF0000   & -1          & ...         & 163.9510776 & 343.95108   & 163.9510776 & 343.95108   & 253.9510776 & 433.9511    & NA          &  7          & 11          & FF         \\\\\n",
       "\t26 & 467823558   & 26          &  50         & 34          & after2      & 0           & -1          &   83.77530  & \\#FFAA00   & -1          & ...         & 173.7752954 & 353.77530   & 173.7752954 & 353.77530   & 263.7752954 & 443.7753    & NA          &  7          & 12          & FF         \\\\\n",
       "\t27 & 467823558   & 27          & 131         & 12          & during      & 0           & -1          & -169.13567  & \\#AAFF00   & -1          & ...         & -79.1356733 & 100.86433   & -79.1356733 & 100.86433   &  10.8643267 & 190.8643    & NA          &  1          &  5          & FF         \\\\\n",
       "\t28 & 467823558   & 28          &  79         & 20          & during      & 0           & -1          &   27.19171  & \\#AAFF00   &  1          & ...         & 117.1917081 & 297.19171   & 117.1917081 & 297.19171   & 207.1917081 & 387.1917    & NA          &  6          &  8          & FP         \\\\\n",
       "\t29 & 467823558   & 29          &  23         & 39          & after2      & 0           &  1          &   50.84795  & \\#0000FF   &  1          & ...         &  50.8479487 & 230.84795   &  50.8479487 & 230.84795   & 140.8479487 & 320.8479    & NA          &  6          & 11          & PP         \\\\\n",
       "\t30 & 467823558   & 30          &  49         & 25          & after2      & 0           & -1          &   11.64678  & \\#FFAA00   &  1          & ...         & 101.6467835 & 281.64678   & 101.6467835 & 281.64678   & 191.6467835 & 371.6468    & NA          &  5          &  8          & FP         \\\\\n",
       "\t... & ... & ... & ... & ... & ... & ... & ... & ... & ... & ... &     & ... & ... & ... & ... & ... & ... & ... & ... & ... & ...\\\\\n",
       "\t3560 & 586377363    & 181          & 116          & 66           & after2       & 0            &  1           &  137.6291148 & \\#FFAA00    &  1           & ...          & 137.629115   & 317.6291     & 137.629115   & 317.6291     & 227.629115   & 407.6291     & NA           &  8           & 13           & PP          \\\\\n",
       "\t3561 & 586377363    & 182          & 127          &  4           & catch        & 0            & -1           &   66.2961607 & \\#00FFA9    & -1           & ...          & 156.296161   & 336.2962     & 156.296161   & 336.2962     & 246.296161   & 426.2962     &  3           &  7           & 11           & FF          \\\\\n",
       "\t3562 & 586377363    & 183          & 150          & 55           & after2       & 0            &  1           &   -1.5283324 & \\#AA00FF    &  1           & ...          &  -1.528332   & 178.4717     &  -1.528332   & 178.4717     &  88.471668   & 268.4717     & NA           &  5           &  9           & PP          \\\\\n",
       "\t3563 & 586377363    & 184          & 118          & 27           & after2       & 0            & -1           & -121.5106673 & \\#0000FF    & -1           & ...          & -31.510667   & 148.4893     & -31.510667   & 148.4893     &  58.489333   & 238.4893     & NA           &  2           &  6           & FF          \\\\\n",
       "\t3564 & 586377363    & 185          &  72          &  1           & after1       & 0            &  1           &  184.9558997 & \\#FFAA00    &  1           & ...          & 184.955900   & 364.9559     & 184.955900   & 364.9559     & 274.955900   & 454.9559     & NA           & 10           & 14           & PP          \\\\\n",
       "\t3565 & 586377363    & 186          &   3          & 16           & after1       & 0            & -1           &  -77.5009976 & \\#AA00FF    & -1           & ...          &  12.499002   & 192.4990     &  12.499002   & 192.4990     & 102.499002   & 282.4990     & NA           &  3           &  8           & FF          \\\\\n",
       "\t3566 & 586377363    & 187          &  64          & 75           & after2       & 0            & -1           &   55.2988893 & \\#FF0000    &  1           & ...          & 145.298889   & 325.2989     & 145.298889   & 325.2989     & 235.298889   & 415.2989     & NA           &  6           &  9           & FP          \\\\\n",
       "\t3567 & 586377363    & 188          & 120          & 25           & after1       & 0            & -1           & -173.1347045 & \\#AAFF00    & -1           & ...          & -83.134704   &  96.8653     & -83.134704   &  96.8653     &   6.865296   & 186.8653     & NA           &  1           &  5           & FF          \\\\\n",
       "\t3568 & 586377363    & 189          & 186          & 45           & after2       & 0            & -1           &    0.4960708 & \\#AA00FF    &  1           & ...          &  90.496071   & 270.4961     &  90.496071   & 270.4961     & 180.496071   & 360.4961     & NA           &  5           &  7           & FP          \\\\\n",
       "\t3569 & 586377363    & 190          & 173          & 66           & during       & 0            &  1           &   70.5990470 & \\#AAFF00    &  1           & ...          &  70.599047   & 250.5990     &  70.599047   & 250.5990     & 160.599047   & 340.5990     & NA           &  7           & 11           & PP          \\\\\n",
       "\t3570 & 586377363    & 191          & 198          & 71           & during       & 0            &  1           &   16.9889782 & \\#AAFF00    &  1           & ...          &  16.988978   & 196.9890     &  16.988978   & 196.9890     & 106.988978   & 286.9890     & NA           &  5           & 10           & PP          \\\\\n",
       "\t3571 & 586377363    & 192          & 204          &  1           & during       & 0            &  1           &   17.0783444 & \\#0000FF    &  1           & ...          &  17.078344   & 197.0783     &  17.078344   & 197.0783     & 107.078344   & 287.0783     & NA           &  5           & 10           & PP          \\\\\n",
       "\t3572 & 586377363    & 193          & 132          & 14           & after2       & 0            & -1           &  127.0090847 & \\#FFAA00    &  1           & ...          & 217.009085   & 397.0091     & 217.009085   & 397.0091     & 307.009085   & 487.0091     & NA           &  8           & 10           & FP          \\\\\n",
       "\t3573 & 586377363    & 194          & 174          & 48           & during       & 0            & -1           &  171.5679953 & \\#0000FF    &  1           & ...          & 261.567995   & 441.5680     & 261.567995   & 441.5680     & 351.567995   & 531.5680     & NA           &  9           & 12           & FP          \\\\\n",
       "\t3574 & 586377363    & 195          &  65          & 28           & after2       & 0            & -1           &  -86.2882400 & \\#AA00FF    & -1           & ...          &   3.711760   & 183.7118     &   3.711760   & 183.7118     &  93.711760   & 273.7118     & NA           &  3           &  7           & FF          \\\\\n",
       "\t3575 & 586377363    & 196          &  75          & 21           & during       & 0            & -1           &  136.1673596 & \\#AAFF00    &  1           & ...          & 226.167360   & 406.1674     & 226.167360   & 406.1674     & 316.167360   & 496.1674     & NA           &  8           & 11           & FP          \\\\\n",
       "\t3576 & 586377363    & 197          & 155          &  2           & after1       & 0            &  1           &  -13.6081109 & \\#0000FF    &  1           & ...          & -13.608111   & 166.3919     & -13.608111   & 166.3919     &  76.391889   & 256.3919     & NA           &  5           &  9           & PP          \\\\\n",
       "\t3577 & 586377363    & 198          & 151          &  5           & catch        & 0            & -1           &  -15.7195404 & \\#00A9FF    & -1           & ...          &  74.280460   & 254.2805     &  74.280460   & 254.2805     & 164.280460   & 344.2805     &  2           &  5           &  9           & FF          \\\\\n",
       "\t3578 & 586377363    & 199          &  50          &  1           & after2       & 0            & -1           &  103.2247970 & \\#FF0000    &  1           & ...          & 193.224797   & 373.2248     & 193.224797   & 373.2248     & 283.224797   & 463.2248     & NA           &  8           & 10           & FP          \\\\\n",
       "\t3579 & 586377363    & 200          &  74          & 15           & after2       & 0            & -1           &  165.3013052 & \\#0000FF    &  1           & ...          & 255.301305   & 435.3013     & 255.301305   & 435.3013     & 345.301305   & 525.3013     & NA           &  9           & 11           & FP          \\\\\n",
       "\t3580 & 586377363    & 201          & 158          & 25           & after2       & 0            & -1           &   95.4535946 & \\#FFAA00    &  1           & ...          & 185.453595   & 365.4536     & 185.453595   & 365.4536     & 275.453595   & 455.4536     & NA           &  7           & 10           & FP          \\\\\n",
       "\t3581 & 586377363    & 202          & 113          & 27           & after1       & 0            & -1           &   15.7093313 & \\#0000FF    & -1           & ...          & 105.709331   & 285.7093     & 105.709331   & 285.7093     & 195.709331   & 375.7093     & NA           &  5           & 10           & FF          \\\\\n",
       "\t3582 & 586377363    & 203          &   4          & 43           & after1       & 0            & -1           & -143.9583331 & \\#FFAA00    & -1           & ...          & -53.958333   & 126.0417     & -53.958333   & 126.0417     &  36.041667   & 216.0417     & NA           &  1           &  6           & FF          \\\\\n",
       "\t3583 & 586377363    & 204          &  63          & 51           & during       & 0            & -1           &   27.4104024 & \\#FFAA00    & -1           & ...          & 117.410402   & 297.4104     & 117.410402   & 297.4104     & 207.410402   & 387.4104     & NA           &  6           & 10           & FF          \\\\\n",
       "\t3584 & 586377363    & 205          &  55          & 32           & after2       & 0            & -1           &  -67.7205309 & \\#AA00FF    & -1           & ...          &  22.279469   & 202.2795     &  22.279469   & 202.2795     & 112.279469   & 292.2795     & NA           &  3           &  8           & FF          \\\\\n",
       "\t3585 & 586377363    & 206          &  16          & 30           & after2       & 0            & -1           &  127.2822435 & \\#FF0000    &  1           & ...          & 217.282243   & 397.2822     & 217.282243   & 397.2822     & 307.282243   & 487.2822     & NA           &  8           & 10           & FP          \\\\\n",
       "\t3586 & 586377363    & 207          & 112          & 62           & during       & 0            &  1           &  234.0864367 & \\#FF0000    &  1           & ...          & 234.086437   & 414.0864     & 234.086437   & 414.0864     & 324.086437   & 504.0864     & NA           & 11           & 15           & PP          \\\\\n",
       "\t3587 & 586377363    & 208          & 183          & 62           & after2       & 0            & -1           & -128.5454585 & \\#AAFF00    &  1           & ...          & -38.545459   & 141.4545     & -38.545459   & 141.4545     &  51.454541   & 231.4545     & NA           &  2           &  4           & FP          \\\\\n",
       "\t3588 & 586377363    & 209          & 121          & 58           & after2       & 0            & -1           &  -85.2073462 & \\#FFAA00    &  1           & ...          &   4.792654   & 184.7927     &   4.792654   & 184.7927     &  94.792654   & 274.7927     & NA           &  3           &  5           & FP          \\\\\n",
       "\t3589 & 586377363    & 210          &  29          & 70           & after2       & 0            & -1           &  -21.2667048 & \\#0000FF    & -1           & ...          &  68.733295   & 248.7333     &  68.733295   & 248.7333     & 158.733295   & 338.7333     & NA           &  4           &  9           & FF          \\\\\n",
       "\\end{tabular}\n"
      ],
      "text/markdown": [
       "\n",
       "| <!--/--> | subject | trial_number | sequence_number | order_num | trial_type | Cross_position | Circle_1 | Position_1 | Color_1 | Circle_2 | ... | angle_3 | angle_4 | angle_1_cue | angle_2_cue | angle_3_cue | angle_4_cue | catch_vals | bin1 | bin2 | eccen_type |\n",
       "|---|---|---|---|---|---|---|---|---|---|---|---|---|---|---|---|---|---|---|---|---|---|\n",
       "| 1 | 467823558   |  1          |  20         | 58          | during      | 0           | -1          | -135.84727  | #0000FF     |  1          | ...         | -45.8472698 | 134.15273   | -45.8472698 | 134.15273   |  44.1527302 | 224.1527    | NA          |  2          |  4          | FP          |\n",
       "| 2 | 467823558   |  2          | 125         | 25          | after1      | 0           | -1          |   96.12393  | #FFAA00     | -1          | ...         | 186.1239286 | 366.12393   | 186.1239286 | 366.12393   | 276.1239286 | 456.1239    | NA          |  7          | 12          | FF          |\n",
       "| 3 | 467823558   |  3          |  83         | 57          | after2      | 0           | -1          |   68.99162  | #0000FF     |  1          | ...         | 158.9916175 | 338.99162   | 158.9916175 | 338.99162   | 248.9916175 | 428.9916    | NA          |  7          |  9          | FP          |\n",
       "| 4 | 467823558   |  4          |  13         |  6          | after1      | 0           |  1          |   13.72859  | #AAFF00     |  1          | ...         |  13.7285873 | 193.72859   |  13.7285873 | 193.72859   | 103.7285873 | 283.7286    | NA          |  5          | 10          | PP          |\n",
       "| 5 | 467823558   |  5          |  42         | 43          | after1      | 0           |  1          |   69.98761  | #FF0000     |  1          | ...         |  69.9876099 | 249.98761   |  69.9876099 | 249.98761   | 159.9876099 | 339.9876    | NA          |  7          | 11          | PP          |\n",
       "| 6 | 467823558   |  6          | 198         | 73          | during      | 0           | -1          | -177.34789  | #AAFF00     | -1          | ...         | -87.3478926 |  92.65211   | -87.3478926 |  92.65211   |   2.6521074 | 182.6521    | NA          |  1          |  5          | FF          |\n",
       "| 7 | 467823558   |  7          | 133         | 42          | during      | 0           | -1          | -115.73704  | #FF0000     |  1          | ...         | -25.7370384 | 154.26296   | -25.7370384 | 154.26296   |  64.2629616 | 244.2630    | NA          |  2          |  4          | FP          |\n",
       "| 8 | 467823558   |  8          |   8         |  4          | catch       | 0           | -1          | -175.63230  | #00A9FF     | -1          | ...         | -85.6323021 |  94.36770   | -85.6323021 |  94.36770   |   4.3676979 | 184.3677    |  3          |  1          |  5          | FF          |\n",
       "| 9 | 467823558   |  9          |  64         | 71          | after2      | 0           |  1          |  254.65155  | #AA00FF     |  1          | ...         | 254.6515510 | 434.65155   | 254.6515510 | 434.65155   | 344.6515510 | 524.6516    | NA          | 11          | 16          | PP          |\n",
       "| 10 | 467823558   | 10          | 129         | 63          | during      | 0           | -1          |  -89.37944  | #FF0000     | -1          | ...         |   0.6205562 | 180.62056   |   0.6205562 | 180.62056   |  90.6205562 | 270.6206    | NA          |  3          |  7          | FF          |\n",
       "| 11 | 467823558   | 11          |  37         | 45          | after2      | 0           | -1          | -137.82807  | #AA00FF     |  1          | ...         | -47.8280705 | 132.17193   | -47.8280705 | 132.17193   |  42.1719295 | 222.1719    | NA          |  2          |  4          | FP          |\n",
       "| 12 | 467823558   | 12          | 190         | 60          | during      | 0           | -1          |   59.33489  | #0000FF     | -1          | ...         | 149.3348863 | 329.33489   | 149.3348863 | 329.33489   | 239.3348863 | 419.3349    | NA          |  6          | 11          | FF          |\n",
       "| 13 | 467823558   | 13          |  82         | 13          | during      | 0           |  1          |  263.11030  | #AA00FF     |  1          | ...         | 263.1102991 | 443.11030   | 263.1102991 | 443.11030   | 353.1102991 | 533.1103    | NA          | 12          | 16          | PP          |\n",
       "| 14 | 467823558   | 14          | 189         | 41          | during      | 0           | -1          | -116.66320  | #FF0000     |  1          | ...         | -26.6632000 | 153.33680   | -26.6632000 | 153.33680   |  63.3368000 | 243.3368    | NA          |  2          |  4          | FP          |\n",
       "| 15 | 467823558   | 15          |  75         | 11          | during      | 0           | -1          | -179.64335  | #FFAA00     |  1          | ...         | -89.6433541 |  90.35665   | -89.6433541 |  90.35665   |   0.3566459 | 180.3566    | NA          |  1          |  3          | FP          |\n",
       "| 16 | 467823558   | 16          |  16         | 49          | after2      | 0           | -1          |   65.72025  | #0000FF     |  1          | ...         | 155.7202478 | 335.72025   | 155.7202478 | 335.72025   | 245.7202478 | 425.7202    | NA          |  7          |  9          | FP          |\n",
       "| 17 | 467823558   | 17          | 115         |  1          | after2      | 0           | -1          |  135.76273  | #FF0000     |  1          | ...         | 225.7627316 | 405.76273   | 225.7627316 | 405.76273   | 315.7627316 | 495.7627    | NA          |  8          | 11          | FP          |\n",
       "| 18 | 467823558   | 18          | 201         | 40          | during      | 0           | -1          |   24.41892  | #AA00FF     | -1          | ...         | 114.4189224 | 294.41892   | 114.4189224 | 294.41892   | 204.4189224 | 384.4189    | NA          |  6          | 10          | FF          |\n",
       "| 19 | 467823558   | 19          | 196         | 16          | during      | 0           |  1          |   54.57842  | #FFAA00     |  1          | ...         |  54.5784208 | 234.57842   |  54.5784208 | 234.57842   | 144.5784208 | 324.5784    | NA          |  6          | 11          | PP          |\n",
       "| 20 | 467823558   | 20          |  10         | 10          | after1      | 0           | -1          |   42.67690  | #FF0000     | -1          | ...         | 132.6769007 | 312.67690   | 132.6769007 | 312.67690   | 222.6769007 | 402.6769    | NA          |  6          | 11          | FF          |\n",
       "| 21 | 467823558   | 21          | 158         | 30          | after2      | 0           | -1          |  -70.77442  | #FF0000     |  1          | ...         |  19.2255819 | 199.22558   |  19.2255819 | 199.22558   | 109.2255819 | 289.2256    | NA          |  3          |  5          | FP          |\n",
       "| 22 | 467823558   | 22          |  36         | 24          | after2      | 0           | -1          |  -72.10259  | #AA00FF     | -1          | ...         |  17.8974064 | 197.89741   |  17.8974064 | 197.89741   | 107.8974064 | 287.8974    | NA          |  3          |  8          | FF          |\n",
       "| 23 | 467823558   | 23          |  15         | 66          | during      | 0           |  1          |   11.06292  | #AAFF00     |  1          | ...         |  11.0629170 | 191.06292   |  11.0629170 | 191.06292   | 101.0629170 | 281.0629    | NA          |  5          | 10          | PP          |\n",
       "| 24 | 467823558   | 24          |  24         |  3          | catch       | 0           | -1          |  161.22598  | #FF00AA     | -1          | ...         | 251.2259752 | 431.22598   | 251.2259752 | 431.22598   | 341.2259752 | 521.2260    |  6          |  9          | 14          | FF          |\n",
       "| 25 | 467823558   | 25          | 145         |  3          | after1      | 0           | -1          |   73.95108  | #FF0000     | -1          | ...         | 163.9510776 | 343.95108   | 163.9510776 | 343.95108   | 253.9510776 | 433.9511    | NA          |  7          | 11          | FF          |\n",
       "| 26 | 467823558   | 26          |  50         | 34          | after2      | 0           | -1          |   83.77530  | #FFAA00     | -1          | ...         | 173.7752954 | 353.77530   | 173.7752954 | 353.77530   | 263.7752954 | 443.7753    | NA          |  7          | 12          | FF          |\n",
       "| 27 | 467823558   | 27          | 131         | 12          | during      | 0           | -1          | -169.13567  | #AAFF00     | -1          | ...         | -79.1356733 | 100.86433   | -79.1356733 | 100.86433   |  10.8643267 | 190.8643    | NA          |  1          |  5          | FF          |\n",
       "| 28 | 467823558   | 28          |  79         | 20          | during      | 0           | -1          |   27.19171  | #AAFF00     |  1          | ...         | 117.1917081 | 297.19171   | 117.1917081 | 297.19171   | 207.1917081 | 387.1917    | NA          |  6          |  8          | FP          |\n",
       "| 29 | 467823558   | 29          |  23         | 39          | after2      | 0           |  1          |   50.84795  | #0000FF     |  1          | ...         |  50.8479487 | 230.84795   |  50.8479487 | 230.84795   | 140.8479487 | 320.8479    | NA          |  6          | 11          | PP          |\n",
       "| 30 | 467823558   | 30          |  49         | 25          | after2      | 0           | -1          |   11.64678  | #FFAA00     |  1          | ...         | 101.6467835 | 281.64678   | 101.6467835 | 281.64678   | 191.6467835 | 371.6468    | NA          |  5          |  8          | FP          |\n",
       "| ... | ... | ... | ... | ... | ... | ... | ... | ... | ... | ... |     | ... | ... | ... | ... | ... | ... | ... | ... | ... | ... |\n",
       "| 3560 | 586377363    | 181          | 116          | 66           | after2       | 0            |  1           |  137.6291148 | #FFAA00      |  1           | ...          | 137.629115   | 317.6291     | 137.629115   | 317.6291     | 227.629115   | 407.6291     | NA           |  8           | 13           | PP           |\n",
       "| 3561 | 586377363    | 182          | 127          |  4           | catch        | 0            | -1           |   66.2961607 | #00FFA9      | -1           | ...          | 156.296161   | 336.2962     | 156.296161   | 336.2962     | 246.296161   | 426.2962     |  3           |  7           | 11           | FF           |\n",
       "| 3562 | 586377363    | 183          | 150          | 55           | after2       | 0            |  1           |   -1.5283324 | #AA00FF      |  1           | ...          |  -1.528332   | 178.4717     |  -1.528332   | 178.4717     |  88.471668   | 268.4717     | NA           |  5           |  9           | PP           |\n",
       "| 3563 | 586377363    | 184          | 118          | 27           | after2       | 0            | -1           | -121.5106673 | #0000FF      | -1           | ...          | -31.510667   | 148.4893     | -31.510667   | 148.4893     |  58.489333   | 238.4893     | NA           |  2           |  6           | FF           |\n",
       "| 3564 | 586377363    | 185          |  72          |  1           | after1       | 0            |  1           |  184.9558997 | #FFAA00      |  1           | ...          | 184.955900   | 364.9559     | 184.955900   | 364.9559     | 274.955900   | 454.9559     | NA           | 10           | 14           | PP           |\n",
       "| 3565 | 586377363    | 186          |   3          | 16           | after1       | 0            | -1           |  -77.5009976 | #AA00FF      | -1           | ...          |  12.499002   | 192.4990     |  12.499002   | 192.4990     | 102.499002   | 282.4990     | NA           |  3           |  8           | FF           |\n",
       "| 3566 | 586377363    | 187          |  64          | 75           | after2       | 0            | -1           |   55.2988893 | #FF0000      |  1           | ...          | 145.298889   | 325.2989     | 145.298889   | 325.2989     | 235.298889   | 415.2989     | NA           |  6           |  9           | FP           |\n",
       "| 3567 | 586377363    | 188          | 120          | 25           | after1       | 0            | -1           | -173.1347045 | #AAFF00      | -1           | ...          | -83.134704   |  96.8653     | -83.134704   |  96.8653     |   6.865296   | 186.8653     | NA           |  1           |  5           | FF           |\n",
       "| 3568 | 586377363    | 189          | 186          | 45           | after2       | 0            | -1           |    0.4960708 | #AA00FF      |  1           | ...          |  90.496071   | 270.4961     |  90.496071   | 270.4961     | 180.496071   | 360.4961     | NA           |  5           |  7           | FP           |\n",
       "| 3569 | 586377363    | 190          | 173          | 66           | during       | 0            |  1           |   70.5990470 | #AAFF00      |  1           | ...          |  70.599047   | 250.5990     |  70.599047   | 250.5990     | 160.599047   | 340.5990     | NA           |  7           | 11           | PP           |\n",
       "| 3570 | 586377363    | 191          | 198          | 71           | during       | 0            |  1           |   16.9889782 | #AAFF00      |  1           | ...          |  16.988978   | 196.9890     |  16.988978   | 196.9890     | 106.988978   | 286.9890     | NA           |  5           | 10           | PP           |\n",
       "| 3571 | 586377363    | 192          | 204          |  1           | during       | 0            |  1           |   17.0783444 | #0000FF      |  1           | ...          |  17.078344   | 197.0783     |  17.078344   | 197.0783     | 107.078344   | 287.0783     | NA           |  5           | 10           | PP           |\n",
       "| 3572 | 586377363    | 193          | 132          | 14           | after2       | 0            | -1           |  127.0090847 | #FFAA00      |  1           | ...          | 217.009085   | 397.0091     | 217.009085   | 397.0091     | 307.009085   | 487.0091     | NA           |  8           | 10           | FP           |\n",
       "| 3573 | 586377363    | 194          | 174          | 48           | during       | 0            | -1           |  171.5679953 | #0000FF      |  1           | ...          | 261.567995   | 441.5680     | 261.567995   | 441.5680     | 351.567995   | 531.5680     | NA           |  9           | 12           | FP           |\n",
       "| 3574 | 586377363    | 195          |  65          | 28           | after2       | 0            | -1           |  -86.2882400 | #AA00FF      | -1           | ...          |   3.711760   | 183.7118     |   3.711760   | 183.7118     |  93.711760   | 273.7118     | NA           |  3           |  7           | FF           |\n",
       "| 3575 | 586377363    | 196          |  75          | 21           | during       | 0            | -1           |  136.1673596 | #AAFF00      |  1           | ...          | 226.167360   | 406.1674     | 226.167360   | 406.1674     | 316.167360   | 496.1674     | NA           |  8           | 11           | FP           |\n",
       "| 3576 | 586377363    | 197          | 155          |  2           | after1       | 0            |  1           |  -13.6081109 | #0000FF      |  1           | ...          | -13.608111   | 166.3919     | -13.608111   | 166.3919     |  76.391889   | 256.3919     | NA           |  5           |  9           | PP           |\n",
       "| 3577 | 586377363    | 198          | 151          |  5           | catch        | 0            | -1           |  -15.7195404 | #00A9FF      | -1           | ...          |  74.280460   | 254.2805     |  74.280460   | 254.2805     | 164.280460   | 344.2805     |  2           |  5           |  9           | FF           |\n",
       "| 3578 | 586377363    | 199          |  50          |  1           | after2       | 0            | -1           |  103.2247970 | #FF0000      |  1           | ...          | 193.224797   | 373.2248     | 193.224797   | 373.2248     | 283.224797   | 463.2248     | NA           |  8           | 10           | FP           |\n",
       "| 3579 | 586377363    | 200          |  74          | 15           | after2       | 0            | -1           |  165.3013052 | #0000FF      |  1           | ...          | 255.301305   | 435.3013     | 255.301305   | 435.3013     | 345.301305   | 525.3013     | NA           |  9           | 11           | FP           |\n",
       "| 3580 | 586377363    | 201          | 158          | 25           | after2       | 0            | -1           |   95.4535946 | #FFAA00      |  1           | ...          | 185.453595   | 365.4536     | 185.453595   | 365.4536     | 275.453595   | 455.4536     | NA           |  7           | 10           | FP           |\n",
       "| 3581 | 586377363    | 202          | 113          | 27           | after1       | 0            | -1           |   15.7093313 | #0000FF      | -1           | ...          | 105.709331   | 285.7093     | 105.709331   | 285.7093     | 195.709331   | 375.7093     | NA           |  5           | 10           | FF           |\n",
       "| 3582 | 586377363    | 203          |   4          | 43           | after1       | 0            | -1           | -143.9583331 | #FFAA00      | -1           | ...          | -53.958333   | 126.0417     | -53.958333   | 126.0417     |  36.041667   | 216.0417     | NA           |  1           |  6           | FF           |\n",
       "| 3583 | 586377363    | 204          |  63          | 51           | during       | 0            | -1           |   27.4104024 | #FFAA00      | -1           | ...          | 117.410402   | 297.4104     | 117.410402   | 297.4104     | 207.410402   | 387.4104     | NA           |  6           | 10           | FF           |\n",
       "| 3584 | 586377363    | 205          |  55          | 32           | after2       | 0            | -1           |  -67.7205309 | #AA00FF      | -1           | ...          |  22.279469   | 202.2795     |  22.279469   | 202.2795     | 112.279469   | 292.2795     | NA           |  3           |  8           | FF           |\n",
       "| 3585 | 586377363    | 206          |  16          | 30           | after2       | 0            | -1           |  127.2822435 | #FF0000      |  1           | ...          | 217.282243   | 397.2822     | 217.282243   | 397.2822     | 307.282243   | 487.2822     | NA           |  8           | 10           | FP           |\n",
       "| 3586 | 586377363    | 207          | 112          | 62           | during       | 0            |  1           |  234.0864367 | #FF0000      |  1           | ...          | 234.086437   | 414.0864     | 234.086437   | 414.0864     | 324.086437   | 504.0864     | NA           | 11           | 15           | PP           |\n",
       "| 3587 | 586377363    | 208          | 183          | 62           | after2       | 0            | -1           | -128.5454585 | #AAFF00      |  1           | ...          | -38.545459   | 141.4545     | -38.545459   | 141.4545     |  51.454541   | 231.4545     | NA           |  2           |  4           | FP           |\n",
       "| 3588 | 586377363    | 209          | 121          | 58           | after2       | 0            | -1           |  -85.2073462 | #FFAA00      |  1           | ...          |   4.792654   | 184.7927     |   4.792654   | 184.7927     |  94.792654   | 274.7927     | NA           |  3           |  5           | FP           |\n",
       "| 3589 | 586377363    | 210          |  29          | 70           | after2       | 0            | -1           |  -21.2667048 | #0000FF      | -1           | ...          |  68.733295   | 248.7333     |  68.733295   | 248.7333     | 158.733295   | 338.7333     | NA           |  4           |  9           | FF           |\n",
       "\n"
      ],
      "text/plain": [
       "     subject   trial_number sequence_number order_num trial_type Cross_position\n",
       "1    467823558  1            20             58        during     0             \n",
       "2    467823558  2           125             25        after1     0             \n",
       "3    467823558  3            83             57        after2     0             \n",
       "4    467823558  4            13              6        after1     0             \n",
       "5    467823558  5            42             43        after1     0             \n",
       "6    467823558  6           198             73        during     0             \n",
       "7    467823558  7           133             42        during     0             \n",
       "8    467823558  8             8              4        catch      0             \n",
       "9    467823558  9            64             71        after2     0             \n",
       "10   467823558 10           129             63        during     0             \n",
       "11   467823558 11            37             45        after2     0             \n",
       "12   467823558 12           190             60        during     0             \n",
       "13   467823558 13            82             13        during     0             \n",
       "14   467823558 14           189             41        during     0             \n",
       "15   467823558 15            75             11        during     0             \n",
       "16   467823558 16            16             49        after2     0             \n",
       "17   467823558 17           115              1        after2     0             \n",
       "18   467823558 18           201             40        during     0             \n",
       "19   467823558 19           196             16        during     0             \n",
       "20   467823558 20            10             10        after1     0             \n",
       "21   467823558 21           158             30        after2     0             \n",
       "22   467823558 22            36             24        after2     0             \n",
       "23   467823558 23            15             66        during     0             \n",
       "24   467823558 24            24              3        catch      0             \n",
       "25   467823558 25           145              3        after1     0             \n",
       "26   467823558 26            50             34        after2     0             \n",
       "27   467823558 27           131             12        during     0             \n",
       "28   467823558 28            79             20        during     0             \n",
       "29   467823558 29            23             39        after2     0             \n",
       "30   467823558 30            49             25        after2     0             \n",
       "...  ...       ...          ...             ...       ...        ...           \n",
       "3560 586377363 181          116             66        after2     0             \n",
       "3561 586377363 182          127              4        catch      0             \n",
       "3562 586377363 183          150             55        after2     0             \n",
       "3563 586377363 184          118             27        after2     0             \n",
       "3564 586377363 185           72              1        after1     0             \n",
       "3565 586377363 186            3             16        after1     0             \n",
       "3566 586377363 187           64             75        after2     0             \n",
       "3567 586377363 188          120             25        after1     0             \n",
       "3568 586377363 189          186             45        after2     0             \n",
       "3569 586377363 190          173             66        during     0             \n",
       "3570 586377363 191          198             71        during     0             \n",
       "3571 586377363 192          204              1        during     0             \n",
       "3572 586377363 193          132             14        after2     0             \n",
       "3573 586377363 194          174             48        during     0             \n",
       "3574 586377363 195           65             28        after2     0             \n",
       "3575 586377363 196           75             21        during     0             \n",
       "3576 586377363 197          155              2        after1     0             \n",
       "3577 586377363 198          151              5        catch      0             \n",
       "3578 586377363 199           50              1        after2     0             \n",
       "3579 586377363 200           74             15        after2     0             \n",
       "3580 586377363 201          158             25        after2     0             \n",
       "3581 586377363 202          113             27        after1     0             \n",
       "3582 586377363 203            4             43        after1     0             \n",
       "3583 586377363 204           63             51        during     0             \n",
       "3584 586377363 205           55             32        after2     0             \n",
       "3585 586377363 206           16             30        after2     0             \n",
       "3586 586377363 207          112             62        during     0             \n",
       "3587 586377363 208          183             62        after2     0             \n",
       "3588 586377363 209          121             58        after2     0             \n",
       "3589 586377363 210           29             70        after2     0             \n",
       "     Circle_1 Position_1   Color_1 Circle_2 ... angle_3     angle_4  \n",
       "1    -1       -135.84727   #0000FF  1       ... -45.8472698 134.15273\n",
       "2    -1         96.12393   #FFAA00 -1       ... 186.1239286 366.12393\n",
       "3    -1         68.99162   #0000FF  1       ... 158.9916175 338.99162\n",
       "4     1         13.72859   #AAFF00  1       ...  13.7285873 193.72859\n",
       "5     1         69.98761   #FF0000  1       ...  69.9876099 249.98761\n",
       "6    -1       -177.34789   #AAFF00 -1       ... -87.3478926  92.65211\n",
       "7    -1       -115.73704   #FF0000  1       ... -25.7370384 154.26296\n",
       "8    -1       -175.63230   #00A9FF -1       ... -85.6323021  94.36770\n",
       "9     1        254.65155   #AA00FF  1       ... 254.6515510 434.65155\n",
       "10   -1        -89.37944   #FF0000 -1       ...   0.6205562 180.62056\n",
       "11   -1       -137.82807   #AA00FF  1       ... -47.8280705 132.17193\n",
       "12   -1         59.33489   #0000FF -1       ... 149.3348863 329.33489\n",
       "13    1        263.11030   #AA00FF  1       ... 263.1102991 443.11030\n",
       "14   -1       -116.66320   #FF0000  1       ... -26.6632000 153.33680\n",
       "15   -1       -179.64335   #FFAA00  1       ... -89.6433541  90.35665\n",
       "16   -1         65.72025   #0000FF  1       ... 155.7202478 335.72025\n",
       "17   -1        135.76273   #FF0000  1       ... 225.7627316 405.76273\n",
       "18   -1         24.41892   #AA00FF -1       ... 114.4189224 294.41892\n",
       "19    1         54.57842   #FFAA00  1       ...  54.5784208 234.57842\n",
       "20   -1         42.67690   #FF0000 -1       ... 132.6769007 312.67690\n",
       "21   -1        -70.77442   #FF0000  1       ...  19.2255819 199.22558\n",
       "22   -1        -72.10259   #AA00FF -1       ...  17.8974064 197.89741\n",
       "23    1         11.06292   #AAFF00  1       ...  11.0629170 191.06292\n",
       "24   -1        161.22598   #FF00AA -1       ... 251.2259752 431.22598\n",
       "25   -1         73.95108   #FF0000 -1       ... 163.9510776 343.95108\n",
       "26   -1         83.77530   #FFAA00 -1       ... 173.7752954 353.77530\n",
       "27   -1       -169.13567   #AAFF00 -1       ... -79.1356733 100.86433\n",
       "28   -1         27.19171   #AAFF00  1       ... 117.1917081 297.19171\n",
       "29    1         50.84795   #0000FF  1       ...  50.8479487 230.84795\n",
       "30   -1         11.64678   #FFAA00  1       ... 101.6467835 281.64678\n",
       "...  ...      ...          ...     ...          ...         ...      \n",
       "3560  1        137.6291148 #FFAA00  1       ... 137.629115  317.6291 \n",
       "3561 -1         66.2961607 #00FFA9 -1       ... 156.296161  336.2962 \n",
       "3562  1         -1.5283324 #AA00FF  1       ...  -1.528332  178.4717 \n",
       "3563 -1       -121.5106673 #0000FF -1       ... -31.510667  148.4893 \n",
       "3564  1        184.9558997 #FFAA00  1       ... 184.955900  364.9559 \n",
       "3565 -1        -77.5009976 #AA00FF -1       ...  12.499002  192.4990 \n",
       "3566 -1         55.2988893 #FF0000  1       ... 145.298889  325.2989 \n",
       "3567 -1       -173.1347045 #AAFF00 -1       ... -83.134704   96.8653 \n",
       "3568 -1          0.4960708 #AA00FF  1       ...  90.496071  270.4961 \n",
       "3569  1         70.5990470 #AAFF00  1       ...  70.599047  250.5990 \n",
       "3570  1         16.9889782 #AAFF00  1       ...  16.988978  196.9890 \n",
       "3571  1         17.0783444 #0000FF  1       ...  17.078344  197.0783 \n",
       "3572 -1        127.0090847 #FFAA00  1       ... 217.009085  397.0091 \n",
       "3573 -1        171.5679953 #0000FF  1       ... 261.567995  441.5680 \n",
       "3574 -1        -86.2882400 #AA00FF -1       ...   3.711760  183.7118 \n",
       "3575 -1        136.1673596 #AAFF00  1       ... 226.167360  406.1674 \n",
       "3576  1        -13.6081109 #0000FF  1       ... -13.608111  166.3919 \n",
       "3577 -1        -15.7195404 #00A9FF -1       ...  74.280460  254.2805 \n",
       "3578 -1        103.2247970 #FF0000  1       ... 193.224797  373.2248 \n",
       "3579 -1        165.3013052 #0000FF  1       ... 255.301305  435.3013 \n",
       "3580 -1         95.4535946 #FFAA00  1       ... 185.453595  365.4536 \n",
       "3581 -1         15.7093313 #0000FF -1       ... 105.709331  285.7093 \n",
       "3582 -1       -143.9583331 #FFAA00 -1       ... -53.958333  126.0417 \n",
       "3583 -1         27.4104024 #FFAA00 -1       ... 117.410402  297.4104 \n",
       "3584 -1        -67.7205309 #AA00FF -1       ...  22.279469  202.2795 \n",
       "3585 -1        127.2822435 #FF0000  1       ... 217.282243  397.2822 \n",
       "3586  1        234.0864367 #FF0000  1       ... 234.086437  414.0864 \n",
       "3587 -1       -128.5454585 #AAFF00  1       ... -38.545459  141.4545 \n",
       "3588 -1        -85.2073462 #FFAA00  1       ...   4.792654  184.7927 \n",
       "3589 -1        -21.2667048 #0000FF -1       ...  68.733295  248.7333 \n",
       "     angle_1_cue angle_2_cue angle_3_cue angle_4_cue catch_vals bin1 bin2\n",
       "1    -45.8472698 134.15273    44.1527302 224.1527    NA          2    4  \n",
       "2    186.1239286 366.12393   276.1239286 456.1239    NA          7   12  \n",
       "3    158.9916175 338.99162   248.9916175 428.9916    NA          7    9  \n",
       "4     13.7285873 193.72859   103.7285873 283.7286    NA          5   10  \n",
       "5     69.9876099 249.98761   159.9876099 339.9876    NA          7   11  \n",
       "6    -87.3478926  92.65211     2.6521074 182.6521    NA          1    5  \n",
       "7    -25.7370384 154.26296    64.2629616 244.2630    NA          2    4  \n",
       "8    -85.6323021  94.36770     4.3676979 184.3677     3          1    5  \n",
       "9    254.6515510 434.65155   344.6515510 524.6516    NA         11   16  \n",
       "10     0.6205562 180.62056    90.6205562 270.6206    NA          3    7  \n",
       "11   -47.8280705 132.17193    42.1719295 222.1719    NA          2    4  \n",
       "12   149.3348863 329.33489   239.3348863 419.3349    NA          6   11  \n",
       "13   263.1102991 443.11030   353.1102991 533.1103    NA         12   16  \n",
       "14   -26.6632000 153.33680    63.3368000 243.3368    NA          2    4  \n",
       "15   -89.6433541  90.35665     0.3566459 180.3566    NA          1    3  \n",
       "16   155.7202478 335.72025   245.7202478 425.7202    NA          7    9  \n",
       "17   225.7627316 405.76273   315.7627316 495.7627    NA          8   11  \n",
       "18   114.4189224 294.41892   204.4189224 384.4189    NA          6   10  \n",
       "19    54.5784208 234.57842   144.5784208 324.5784    NA          6   11  \n",
       "20   132.6769007 312.67690   222.6769007 402.6769    NA          6   11  \n",
       "21    19.2255819 199.22558   109.2255819 289.2256    NA          3    5  \n",
       "22    17.8974064 197.89741   107.8974064 287.8974    NA          3    8  \n",
       "23    11.0629170 191.06292   101.0629170 281.0629    NA          5   10  \n",
       "24   251.2259752 431.22598   341.2259752 521.2260     6          9   14  \n",
       "25   163.9510776 343.95108   253.9510776 433.9511    NA          7   11  \n",
       "26   173.7752954 353.77530   263.7752954 443.7753    NA          7   12  \n",
       "27   -79.1356733 100.86433    10.8643267 190.8643    NA          1    5  \n",
       "28   117.1917081 297.19171   207.1917081 387.1917    NA          6    8  \n",
       "29    50.8479487 230.84795   140.8479487 320.8479    NA          6   11  \n",
       "30   101.6467835 281.64678   191.6467835 371.6468    NA          5    8  \n",
       "...  ...         ...         ...         ...         ...        ...  ... \n",
       "3560 137.629115  317.6291    227.629115  407.6291    NA          8   13  \n",
       "3561 156.296161  336.2962    246.296161  426.2962     3          7   11  \n",
       "3562  -1.528332  178.4717     88.471668  268.4717    NA          5    9  \n",
       "3563 -31.510667  148.4893     58.489333  238.4893    NA          2    6  \n",
       "3564 184.955900  364.9559    274.955900  454.9559    NA         10   14  \n",
       "3565  12.499002  192.4990    102.499002  282.4990    NA          3    8  \n",
       "3566 145.298889  325.2989    235.298889  415.2989    NA          6    9  \n",
       "3567 -83.134704   96.8653      6.865296  186.8653    NA          1    5  \n",
       "3568  90.496071  270.4961    180.496071  360.4961    NA          5    7  \n",
       "3569  70.599047  250.5990    160.599047  340.5990    NA          7   11  \n",
       "3570  16.988978  196.9890    106.988978  286.9890    NA          5   10  \n",
       "3571  17.078344  197.0783    107.078344  287.0783    NA          5   10  \n",
       "3572 217.009085  397.0091    307.009085  487.0091    NA          8   10  \n",
       "3573 261.567995  441.5680    351.567995  531.5680    NA          9   12  \n",
       "3574   3.711760  183.7118     93.711760  273.7118    NA          3    7  \n",
       "3575 226.167360  406.1674    316.167360  496.1674    NA          8   11  \n",
       "3576 -13.608111  166.3919     76.391889  256.3919    NA          5    9  \n",
       "3577  74.280460  254.2805    164.280460  344.2805     2          5    9  \n",
       "3578 193.224797  373.2248    283.224797  463.2248    NA          8   10  \n",
       "3579 255.301305  435.3013    345.301305  525.3013    NA          9   11  \n",
       "3580 185.453595  365.4536    275.453595  455.4536    NA          7   10  \n",
       "3581 105.709331  285.7093    195.709331  375.7093    NA          5   10  \n",
       "3582 -53.958333  126.0417     36.041667  216.0417    NA          1    6  \n",
       "3583 117.410402  297.4104    207.410402  387.4104    NA          6   10  \n",
       "3584  22.279469  202.2795    112.279469  292.2795    NA          3    8  \n",
       "3585 217.282243  397.2822    307.282243  487.2822    NA          8   10  \n",
       "3586 234.086437  414.0864    324.086437  504.0864    NA         11   15  \n",
       "3587 -38.545459  141.4545     51.454541  231.4545    NA          2    4  \n",
       "3588   4.792654  184.7927     94.792654  274.7927    NA          3    5  \n",
       "3589  68.733295  248.7333    158.733295  338.7333    NA          4    9  \n",
       "     eccen_type\n",
       "1    FP        \n",
       "2    FF        \n",
       "3    FP        \n",
       "4    PP        \n",
       "5    PP        \n",
       "6    FF        \n",
       "7    FP        \n",
       "8    FF        \n",
       "9    PP        \n",
       "10   FF        \n",
       "11   FP        \n",
       "12   FF        \n",
       "13   PP        \n",
       "14   FP        \n",
       "15   FP        \n",
       "16   FP        \n",
       "17   FP        \n",
       "18   FF        \n",
       "19   PP        \n",
       "20   FF        \n",
       "21   FP        \n",
       "22   FF        \n",
       "23   PP        \n",
       "24   FF        \n",
       "25   FF        \n",
       "26   FF        \n",
       "27   FF        \n",
       "28   FP        \n",
       "29   PP        \n",
       "30   FP        \n",
       "...  ...       \n",
       "3560 PP        \n",
       "3561 FF        \n",
       "3562 PP        \n",
       "3563 FF        \n",
       "3564 PP        \n",
       "3565 FF        \n",
       "3566 FP        \n",
       "3567 FF        \n",
       "3568 FP        \n",
       "3569 PP        \n",
       "3570 PP        \n",
       "3571 PP        \n",
       "3572 FP        \n",
       "3573 FP        \n",
       "3574 FF        \n",
       "3575 FP        \n",
       "3576 PP        \n",
       "3577 FF        \n",
       "3578 FP        \n",
       "3579 FP        \n",
       "3580 FP        \n",
       "3581 FF        \n",
       "3582 FF        \n",
       "3583 FF        \n",
       "3584 FF        \n",
       "3585 FP        \n",
       "3586 PP        \n",
       "3587 FP        \n",
       "3588 FP        \n",
       "3589 FF        "
      ]
     },
     "metadata": {},
     "output_type": "display_data"
    }
   ],
   "source": [
    "datadf"
   ]
  },
  {
   "cell_type": "code",
   "execution_count": 72,
   "metadata": {},
   "outputs": [
    {
     "ename": "ERROR",
     "evalue": "Error in make.symmetric(nmdsmatrix): 'x' is not sqare matrix\n",
     "output_type": "error",
     "traceback": [
      "Error in make.symmetric(nmdsmatrix): 'x' is not sqare matrix\nTraceback:\n",
      "1. catch_difference_plot(datadf)",
      "2. ggplot(catch_difference(datadf), aes(x = difference, y = catch_score))   # at line 18-19 of file <text>",
      "3. catch_difference(datadf)",
      "4. unlist(antitrace_avg(tempdf), use.names = FALSE)   # at line 8-9 of file <text>",
      "5. antitrace_avg(tempdf)   # at line 8-9 of file <text>",
      "6. df2mat(datadf, l2e(\"Foveal\"), l2e(\"Foveal\"))   # at line 7 of file <text>",
      "7. make.symmetric(nmdsmatrix)   # at line 36 of file <text>",
      "8. stop(\"'x' is not sqare matrix\")   # at line 5-6 of file <text>"
     ]
    }
   ],
   "source": [
    "catch_difference_plot(datadf)"
   ]
  },
  {
   "cell_type": "code",
   "execution_count": 27,
   "metadata": {},
   "outputs": [],
   "source": [
    "# trace values vs. trial #\n",
    "trace_by_trial_plot <- function(datadf,graph='point',mode='relative'){\n",
    "    \n",
    "     datadf$subject <- as.character(datadf$subject) # necessary for visualisation  \n",
    "    \n",
    "    datadf <- subset(datadf, Color_1 == Color_2)\n",
    "    \n",
    "    if(mode=='relative'){\n",
    "        datadf <- datadf %>% group_by(subject) %>% mutate(trialnum = row_number())\n",
    "    } else{\n",
    "        datadf$trialnum <- datadf$trial_number\n",
    "    }\n",
    "        \n",
    "    if(graph=='point'){\n",
    "        plot <- ggplot(datadf, aes(x=trialnum, y = p_confidence, group = subject, color = subject)) + geom_point()\n",
    "    } else if (graph == 'boxplot'){\n",
    "        plot <- ggplot(datadf, aes(x=trialnum,y = p_confidence, group = trialnum)) + geom_boxplot() #????\n",
    "    } else if (graph == 'lineplot'){\n",
    "        plot <- ggplot(datadf, aes(x=trialnum, y = p_confidence,group=subject, color = subject)) + geom_line()\n",
    "    }\n",
    "    \n",
    "    plot <- plot + ylab('Dissimilarity') +  theme(legend.position='none')\n",
    "    \n",
    "    return(plot)\n",
    "    \n",
    "}"
   ]
  },
  {
   "cell_type": "code",
   "execution_count": 28,
   "metadata": {},
   "outputs": [],
   "source": [
    "# subject info\n",
    "sumplot <- function(datadf){\n",
    "    \n",
    "    # change ms to s, add the delay for each trial\n",
    "    datadf$response_time <- ((datadf$response_time + 0.125*nrow(datadf)) / 1000)\n",
    "    \n",
    "    plot <- ggplot(datadf, aes(x=subject, y = response_time)) + \n",
    "    stat_summary(fun.y = sum, geom = \"bar\") + ylim(0,1000) +\n",
    "    ylab('Response Time Total') + theme(axis.title.x=element_blank(), axis.text.x = element_text(size=20))\n",
    "    \n",
    "    return(plot)\n",
    "}"
   ]
  },
  {
   "cell_type": "markdown",
   "metadata": {},
   "source": [
    "### Statistics"
   ]
  },
  {
   "cell_type": "markdown",
   "metadata": {},
   "source": [
    "Useful functions"
   ]
  },
  {
   "cell_type": "code",
   "execution_count": 29,
   "metadata": {},
   "outputs": [],
   "source": [
    "# compare the foveal and peripheral matrices to each other\n",
    "fvp_test <- function(datadf,dependent='color'){\n",
    "    \n",
    "    if(dependent=='position'){\n",
    "        # first, turn the dataframe into the relevant matrices\n",
    "        fmatrix <- df2mat(datadf, l2e('Foveal'), l2e('Foveal'),'position')\n",
    "        #fpmatrix <- distmatrix(datadf, l2e('Foveal'), l2e('Peripheral'))\n",
    "        pmatrix <- df2mat(datadf, l2e('Peripheral'), l2e('Peripheral'),'position')\n",
    "    } else{\n",
    "        # first, turn the dataframe into the relevant matrices\n",
    "        fmatrix <- df2mat(datadf, l2e('Foveal'), l2e('Foveal'))\n",
    "        #fpmatrix <- distmatrix(datadf, l2e('Foveal'), l2e('Peripheral'))\n",
    "        pmatrix <- df2mat(datadf, l2e('Peripheral'), l2e('Peripheral'))\n",
    "    }\n",
    "    #Fovea vs Periphery\n",
    "    test <- mantel(fmatrix, pmatrix, method=\"spearman\",permutations = 9999)\n",
    "    return(test)\n",
    "}"
   ]
  },
  {
   "cell_type": "code",
   "execution_count": 30,
   "metadata": {},
   "outputs": [],
   "source": [
    "# compare the each of the foveal and peripheral matrices to a random uniform distribution using a ... test\n",
    "# not actually sure this is conceptually possible or even makes sense\n",
    "rand_test <- function(datadf){\n",
    "    \n",
    "    # first, turn the dataframe into the relevant matrices\n",
    "    fmatrix <- df2mat(datadf, l2e('Foveal'), l2e('Foveal'))\n",
    "    #fpmatrix <- distmatrix(datadf, l2e('Foveal'), l2e('Peripheral'))\n",
    "    pmatrix <- df2mat(datadf, l2e('Peripheral'), l2e('Peripheral'))\n",
    "    \n",
    "    \n",
    "    # compare\n",
    "    ftest <- \n",
    "    ptest <- \n",
    "    return(list(\"ftest\" = ftest, \"ptest\" = ptest)) # use index of result to get the foveal or peripheral comparison\n",
    "}\n",
    "\n"
   ]
  },
  {
   "cell_type": "code",
   "execution_count": 31,
   "metadata": {},
   "outputs": [],
   "source": [
    "# calculate trace average, small values presumably indicate subjects not just saying everything is completely dissimilar\n",
    "# will also need a complementary method to deal with them saying everything is the same? Might be an inappropriate\n",
    "# a-priori imposition though, I probably can't tell people how similar different colours should be...\n",
    "\n",
    "trace_avg <- function(datadf){\n",
    "    \n",
    "    # first, turn the dataframe into the relevant matrices\n",
    "    fmatrix <- df2mat(datadf, l2e('Foveal'), l2e('Foveal'))\n",
    "    #fpmatrix <- distmatrix(datadf, l2e('Foveal'), l2e('Peripheral'))\n",
    "    pmatrix <- df2mat(datadf, l2e('Peripheral'), l2e('Peripheral'))\n",
    "    \n",
    "    \n",
    "    \n",
    "    return(list( (sum(diag(fmatrix))/nrow(fmatrix)), (sum(diag(pmatrix))/nrow(pmatrix))))\n",
    "}"
   ]
  },
  {
   "cell_type": "code",
   "execution_count": 32,
   "metadata": {},
   "outputs": [],
   "source": [
    "# find the 'anti-trace' of a matrix\n",
    "antitrace <- function(mat){\n",
    "    \n",
    "    sum = 0\n",
    "    for(i in (1:nrow(mat))){\n",
    "        k = as.numeric(mat[ i, as.integer((ncol(mat)/2+i) %% ncol(mat))+1 ])\n",
    "        sum = sum + k\n",
    "    }\n",
    "    return(sum/nrow(mat))\n",
    "}"
   ]
  },
  {
   "cell_type": "code",
   "execution_count": 33,
   "metadata": {},
   "outputs": [],
   "source": [
    "# calculates the average of the 'anti-trace', the values I'd expect to be the most dissimilar.\n",
    "# this may not be an appropriate imposition on subjects...\n",
    "\n",
    "antitrace_avg <- function(datadf){\n",
    "    \n",
    "    # first, turn the dataframe into the relevant matrices\n",
    "    fmatrix <- df2mat(datadf, l2e('Foveal'), l2e('Foveal'))\n",
    "    #fpmatrix <- distmatrix(datadf, l2e('Foveal'), l2e('Peripheral'))\n",
    "    pmatrix <- df2mat(datadf, l2e('Peripheral'), l2e('Peripheral'))\n",
    "    \n",
    "    return(list(antitrace(fmatrix), antitrace(pmatrix)))\n",
    "}"
   ]
  },
  {
   "cell_type": "code",
   "execution_count": 34,
   "metadata": {},
   "outputs": [],
   "source": [
    "# just get a simple measure of if the matrices are correlated, irrespective of treating them as distance matrices\n",
    "matrixcor <- function(datadf,dependent='color'){\n",
    "    \n",
    "    if(dependent == 'position'){\n",
    "        # first, turn the dataframe into the relevant matrices\n",
    "        fmatrix <- df2mat(datadf, l2e('Foveal'), l2e('Foveal'),'position')\n",
    "        #fpmatrix <- distmatrix(datadf, l2e('Foveal'), l2e('Peripheral'))\n",
    "        pmatrix <- df2mat(datadf, l2e('Peripheral'), l2e('Peripheral'),'position')\n",
    "    } else {\n",
    "        # first, turn the dataframe into the relevant matrices\n",
    "        fmatrix <- df2mat(datadf, l2e('Foveal'), l2e('Foveal'))\n",
    "        #fpmatrix <- distmatrix(datadf, l2e('Foveal'), l2e('Peripheral'))\n",
    "        pmatrix <- df2mat(datadf, l2e('Peripheral'), l2e('Peripheral'))\n",
    "    }\n",
    "    \n",
    "    return(cor(c(fmatrix), c(pmatrix), method = \"spearman\"))\n",
    "}"
   ]
  },
  {
   "cell_type": "code",
   "execution_count": 35,
   "metadata": {},
   "outputs": [],
   "source": [
    "# get median reaction time\n",
    "rt_avg <- function(datadf){\n",
    "    return(median(datadf$response_time))\n",
    "}"
   ]
  },
  {
   "cell_type": "markdown",
   "metadata": {},
   "source": [
    "Run the analysis"
   ]
  },
  {
   "cell_type": "code",
   "execution_count": 36,
   "metadata": {},
   "outputs": [],
   "source": [
    "# stats for all the subjects\n",
    "allsubjectstats <- function(datadf){\n",
    "    \n",
    "    subjectlist <- sort(unique(datadf$subject)) # obtain a list of all the subjects\n",
    "\n",
    "\n",
    "    for (subjectid in subjectlist){\n",
    "        \n",
    "        subjectdf = subset(datadf, subject == subjectid) # select the df for subject of interest\n",
    "        cat(\"SUBJECT: \",subjectid,'\\n') # print subject id\n",
    "        print(\"Mantel Test: \")\n",
    "        print(fvp_test(subjectdf))\n",
    "        print(\"Matrices correlation: \")\n",
    "        print(matrixcor(subjectdf))\n",
    "        print(\"Quality control measures:\")\n",
    "        print(\"Trace average:\")\n",
    "        print(trace_avg(subjectdf))\n",
    "        print(\"Anti-trace average:\")\n",
    "        print(antitrace_avg(subjectdf))\n",
    "    }\n",
    "}"
   ]
  },
  {
   "cell_type": "code",
   "execution_count": 37,
   "metadata": {
    "scrolled": true
   },
   "outputs": [],
   "source": [
    "# function to aggregate everyone's data together\n",
    "aggregate_df <- function(datadf,dependent='color'){\n",
    "\n",
    "    # aggregate everyone's data together for the matrices\n",
    "    everyonedata <- aggregate(datadf, by=list(\n",
    "        datadf$Color_1,\n",
    "        datadf$Color_2,\n",
    "        datadf$Circle_1,\n",
    "        datadf$Circle_2,\n",
    "        datadf$bin1,\n",
    "        datadf$bin2\n",
    "        ), FUN=mean, \n",
    "    )\n",
    "\n",
    "    # correct the column names\n",
    "    everyonedata$Color_1 <- everyonedata$Group.1\n",
    "    everyonedata$Color_2 <- everyonedata$Group.2\n",
    "    everyonedata$Circle_1 <- everyonedata$Group.3\n",
    "    everyonedata$Circle_2 <- everyonedata$Group.4\n",
    "    everyonedata$bin1 <- everyonedata$Group.5\n",
    "    everyonedata$bin2 <- everyonedata$Group.6\n",
    "    \n",
    "    return(everyonedata)\n",
    "}"
   ]
  },
  {
   "cell_type": "code",
   "execution_count": 38,
   "metadata": {},
   "outputs": [],
   "source": [
    "# compliance checker\n",
    "compliance_checker <- function(datadf,eccentricity,trace_cutoff,antitrace_cutoff){\n",
    "    \n",
    "    subjectlist <- sort(unique(datadf$subject)) # obtain a list of all the subjects\n",
    "    n_subject = length(subjectlist)\n",
    "    trace_fail = 0\n",
    "    antitrace_fail = 0\n",
    "    \n",
    "    if(eccentricity == 'Foveal'){\n",
    "        e_ind = 1\n",
    "    } else if (eccentricity == 'Peripheral'){\n",
    "        e_ind = 2\n",
    "    }\n",
    "\n",
    "    for (subjectid in subjectlist){\n",
    "        subjectdf = subset(datadf, subject == subjectid) # select the df for subject of interest\n",
    "        if(trace_avg(subjectdf)[e_ind] > trace_cutoff){\n",
    "            trace_fail = trace_fail + 1\n",
    "        }\n",
    "        if(antitrace_avg(subjectdf)[e_ind] < antitrace_cutoff){\n",
    "            antitrace_fail = antitrace_fail + 1\n",
    "        }\n",
    "    }\n",
    "    print(paste(\"Trace non-compliance: \",trace_fail,\"/\",n_subject))\n",
    "    print(paste(\"Anti-trace non-compliance: \",antitrace_fail,\"/\",n_subject))\n",
    "}"
   ]
  },
  {
   "cell_type": "code",
   "execution_count": 39,
   "metadata": {},
   "outputs": [],
   "source": [
    "# summary stats\n",
    "summarystats <- function(datadf,dependent='color'){\n",
    "    if(dependent=='position'){\n",
    "        print(\"Mantel Test: \")\n",
    "        print(fvp_test(aggregate_df(datadf),'position'))\n",
    "        print(\"Matrices correlation: \")\n",
    "        print(matrixcor(aggregate_df(datadf),'position'))\n",
    "    } else {\n",
    "        print(\"Mantel Test: \")\n",
    "        print(fvp_test(aggregate_df(datadf)))\n",
    "        print(\"Matrices correlation: \")\n",
    "        print(matrixcor(aggregate_df(datadf)))\n",
    "    }\n",
    "    \n",
    "    \n",
    "    print(\"Foveal compliance:\")\n",
    "    compliance_checker(datadf,'Foveal')\n",
    "    print(\"Peripheral compliance:\")\n",
    "    compliance_checker(datadf,'Peripheral')\n",
    "}"
   ]
  },
  {
   "cell_type": "markdown",
   "metadata": {},
   "source": [
    "## Actual Data Analysis Time"
   ]
  },
  {
   "cell_type": "markdown",
   "metadata": {},
   "source": [
    "#### Initial data pre-processing, before getting to the subject level"
   ]
  },
  {
   "cell_type": "code",
   "execution_count": 40,
   "metadata": {},
   "outputs": [],
   "source": [
    "datadf = read.csv(filename)\n",
    "savestr <- substr(filename,1,nchar(filename)-4) # for saving related files later\n"
   ]
  },
  {
   "cell_type": "code",
   "execution_count": 41,
   "metadata": {},
   "outputs": [],
   "source": [
    "# remove practice trial data\n",
    "datadf <- subset(datadf, trial_number != 0)"
   ]
  },
  {
   "cell_type": "code",
   "execution_count": 42,
   "metadata": {},
   "outputs": [],
   "source": [
    "# changing color values from RGB to hex for graphing purpose\n",
    "datadf$Color_1 <- as.character(datadf$Color_1)\n",
    "datadf$Color_1 <- revalue(datadf$Color_1, \n",
    "                                                    c(  \"1\" = '#FF0000',\n",
    "                                                        \"2\" = '#FFAA00',\n",
    "                                                        \"3\" = '#AAFF00',\n",
    "                                                        \"4\" = '#00FF00',\n",
    "                                                        \"5\" = '#00FFA9',\n",
    "                                                        \"6\" = '#00A9FF',\n",
    "                                                        \"7\" = '#0000FF',\n",
    "                                                        \"8\" = '#AA00FF',\n",
    "                                                        \"9\" = '#FF00AA'))\n",
    "datadf$Color_2 <- as.character(datadf$Color_2)\n",
    "datadf$Color_2 <- revalue(datadf$Color_2, \n",
    "                                                    c(  \"1\" = '#FF0000',\n",
    "                                                        \"2\" = '#FFAA00',\n",
    "                                                        \"3\" = '#AAFF00',\n",
    "                                                        \"4\" = '#00FF00',\n",
    "                                                        \"5\" = '#00FFA9',\n",
    "                                                        \"6\" = '#00A9FF',\n",
    "                                                        \"7\" = '#0000FF',\n",
    "                                                        \"8\" = '#AA00FF',\n",
    "                                                        \"9\" = '#FF00AA'))\n",
    "\n",
    "# colors for the labels\n",
    "# changed for this mixed version\n",
    "colors <- c('#FF0000','#FFAA00','#AAFF00','#0000FF','#AA00FF')\n",
    "\n",
    "abcolors <- sort(colors)"
   ]
  },
  {
   "cell_type": "code",
   "execution_count": 43,
   "metadata": {},
   "outputs": [],
   "source": [
    "# changing from int indicators in the .csv file to more readable labels for eccentricity\n",
    "foveal = -1\n",
    "peripheral = 1"
   ]
  },
  {
   "cell_type": "code",
   "execution_count": 44,
   "metadata": {},
   "outputs": [],
   "source": [
    "# set the maximum and minimum dissimilarity values for later analysis\n",
    "min_val = 0\n",
    "max_val = 6"
   ]
  },
  {
   "cell_type": "code",
   "execution_count": 45,
   "metadata": {},
   "outputs": [],
   "source": [
    "# binning the positions the stimuli were displayed in to use as a control measure later\n",
    "datadf$bin1 <- as.integer((datadf$Position_1+180) / 40) + 1\n",
    "datadf$bin2 <- as.integer((datadf$Position_2+180) / 40) + 1"
   ]
  },
  {
   "cell_type": "code",
   "execution_count": 46,
   "metadata": {},
   "outputs": [],
   "source": [
    "# adding a trial type label\n",
    "label_eccen_type <- function(datadf){\n",
    "    datadf <- datadf %>%\n",
    "    mutate(eccen_type = case_when(Circle_1 == l2e('Foveal') & Circle_2 == l2e('Foveal') ~ 'FF',\n",
    "                             Circle_1 == l2e('Foveal') & Circle_2 == l2e('Peripheral') ~ 'FP',\n",
    "                             Circle_1 == l2e('Peripheral') & Circle_2 == l2e('Peripheral') ~ 'PP'))\n",
    "    return(datadf)\n",
    "}"
   ]
  },
  {
   "cell_type": "code",
   "execution_count": 47,
   "metadata": {},
   "outputs": [],
   "source": [
    "datadf <- label_eccen_type(datadf)"
   ]
  },
  {
   "cell_type": "markdown",
   "metadata": {},
   "source": [
    "Some actual data cleaning"
   ]
  },
  {
   "cell_type": "code",
   "execution_count": 54,
   "metadata": {},
   "outputs": [],
   "source": [
    "# function to throw out  participants who didn't finish\n",
    "remove_incomplete <- function(datadf,stimuli_number){\n",
    "    \n",
    "    subjectlist <- sort(unique(datadf$subject)) # obtain a list of all the subjects\n",
    "    \n",
    "    for (ID in subjectlist){ # go through subject by subject\n",
    "        \n",
    "        trialnumber = stimuli_number*stimuli_number*condition_number + catch_trial_number\n",
    "        \n",
    "        if ( nrow(subset(datadf, subject == ID)) != trialnumber){ # see if they have the appropriate trial numbers\n",
    "            print(paste(\"Subject\",ID,\"did not complete the task\",sep=' '))\n",
    "            datadf <- subset(datadf, subject != ID) # dump the subject\n",
    "        }\n",
    "    }\n",
    "    return(datadf)\n",
    "}"
   ]
  },
  {
   "cell_type": "code",
   "execution_count": 55,
   "metadata": {},
   "outputs": [
    {
     "name": "stdout",
     "output_type": "stream",
     "text": [
      "[1] \"Subject 116906416 did not complete the task\"\n",
      "[1] \"Subject 856184470 did not complete the task\"\n"
     ]
    }
   ],
   "source": [
    "# actually throw out the subjects who didn't complete\n",
    "datadf <- remove_incomplete(datadf,stimuli_number)"
   ]
  },
  {
   "cell_type": "code",
   "execution_count": 47,
   "metadata": {},
   "outputs": [],
   "source": [
    "# function to label participants who meet statistical cleaning assumptions\n",
    "label_noncompliant <- function(datadf,eccentricity,\n",
    "                               trace_cutoff=2,antitrace_cutoff=4,rt_cutoff=1000){\n",
    "    \n",
    "    if(eccentricity == 'Foveal'){\n",
    "        e_ind = 1\n",
    "    } else if (eccentricity == 'Peripheral'){\n",
    "        e_ind = 2\n",
    "    }\n",
    "    \n",
    "    subjectlist <- sort(unique(datadf$subject)) # obtain a list of all the subjects\n",
    "    \n",
    "    for (ID in subjectlist){ # go through subject by subject\n",
    "        subjectdf = subset(datadf, subject == ID) # select the ID for subject of interest \n",
    "        if(trace_avg(subjectdf)[e_ind] < trace_cutoff){\n",
    "            if(antitrace_avg(subjectdf)[e_ind] > antitrace_cutoff){\n",
    "                if(rt_avg(subjectdf) > rt_cutoff){\n",
    "                    datadf$noncompliant[datadf$subject == ID] = 0\n",
    "                } else {\n",
    "                    print(paste(\"Subject\",ID,\"median reaction time of:\",rt_avg(subjectdf),\"ms\",sep=' '))\n",
    "                    datadf$noncompliant[datadf$subject == ID] = 1\n",
    "                }\n",
    "            } else {\n",
    "                print(paste(\"Subject\",ID,\"had an antitrace of:\",antitrace_avg(subjectdf)[e_ind],sep=' '))\n",
    "                datadf$noncompliant[datadf$subject == ID] = 2\n",
    "            }\n",
    "        } else {\n",
    "            print(paste(\"Subject\",ID,\"had a trace of:\",trace_avg(subjectdf)[e_ind],sep=' '))\n",
    "            datadf$noncompliant[datadf$subject == ID] = 3\n",
    "        }\n",
    "    }\n",
    "    print(paste(length(unique(datadf$subject[datadf$noncompliant==0])),\"of\",length(unique(datadf$subject)),\n",
    "                \"were compliant\",sep=' '))\n",
    "    return(datadf)\n",
    "}"
   ]
  },
  {
   "cell_type": "code",
   "execution_count": 48,
   "metadata": {
    "scrolled": true
   },
   "outputs": [
    {
     "name": "stdout",
     "output_type": "stream",
     "text": [
      "[1] \"Subject 2989630 had a trace of: 3.22666666666667\"\n",
      "[1] \"Subject 3478854 had a trace of: 3.44444444444444\"\n",
      "[1] \"Subject 13811877 had a trace of: 3.22222222222222\"\n",
      "[1] \"Subject 36190138 had a trace of: 2.33333333333333\"\n",
      "[1] \"Subject 37316066 had a trace of: 2.66777777777778\"\n",
      "[1] \"Subject 42436095 had a trace of: 2.56111111111111\"\n",
      "[1] \"Subject 51602224 had a trace of: 4.66666666666667\"\n",
      "[1] \"Subject 56511823 had an antitrace of: 3.94444444444444\"\n",
      "[1] \"Subject 69616059 had a trace of: 2.66888888888889\"\n",
      "[1] \"Subject 69621683 had a trace of: 2.44444444444444\"\n",
      "[1] \"Subject 84511979 had a trace of: 4.33555555555556\"\n",
      "[1] \"Subject 93458386 had an antitrace of: 3.77777777777778\"\n",
      "[1] \"Subject 100042706 had a trace of: 3.11333333333333\"\n",
      "[1] \"Subject 102294477 had an antitrace of: 2.83444444444444\"\n",
      "[1] \"Subject 103557621 median reaction time of: 750 ms\"\n",
      "[1] \"Subject 114423889 had a trace of: 5.33333333333333\"\n",
      "[1] \"Subject 129877772 had a trace of: 4.11111111111111\"\n",
      "[1] \"Subject 137230626 median reaction time of: 798 ms\"\n",
      "[1] \"Subject 150323725 median reaction time of: 877 ms\"\n",
      "[1] \"Subject 161439250 had a trace of: 2.33666666666667\"\n",
      "[1] \"Subject 164954928 median reaction time of: 904 ms\"\n",
      "[1] \"Subject 169090807 had a trace of: 2.22222222222222\"\n",
      "[1] \"Subject 191312515 median reaction time of: 562 ms\"\n",
      "[1] \"Subject 204375007 had a trace of: 4.11222222222222\"\n",
      "[1] \"Subject 214391792 median reaction time of: 507 ms\"\n",
      "[1] \"Subject 228232299 median reaction time of: 815 ms\"\n",
      "[1] \"Subject 254636250 had a trace of: 3.11111111111111\"\n",
      "[1] \"Subject 258262801 had a trace of: 2.44444444444444\"\n",
      "[1] \"Subject 260506797 median reaction time of: 994 ms\"\n",
      "[1] \"Subject 264265394 had a trace of: 4\"\n",
      "[1] \"Subject 283489688 had a trace of: 4.11111111111111\"\n",
      "[1] \"Subject 307082850 had a trace of: 5.66777777777778\"\n",
      "[1] \"Subject 323982589 had a trace of: 2.89111111111111\"\n",
      "[1] \"Subject 353174754 had a trace of: 3\"\n",
      "[1] \"Subject 353622601 had a trace of: 3.55555555555556\"\n",
      "[1] \"Subject 384204662 median reaction time of: 964 ms\"\n",
      "[1] \"Subject 394826306 median reaction time of: 637 ms\"\n",
      "[1] \"Subject 399309465 had an antitrace of: 3.83333333333333\"\n",
      "[1] \"Subject 401055739 had a trace of: 2.11111111111111\"\n",
      "[1] \"Subject 409519376 had a trace of: 4\"\n",
      "[1] \"Subject 436277195 had a trace of: 3.00111111111111\"\n",
      "[1] \"Subject 446124706 had an antitrace of: 3.50055555555556\"\n",
      "[1] \"Subject 455190012 had a trace of: 2.44444444444444\"\n",
      "[1] \"Subject 491486781 had a trace of: 4.66666666666667\"\n",
      "[1] \"Subject 501308383 median reaction time of: 880 ms\"\n",
      "[1] \"Subject 506900943 had a trace of: 3.89111111111111\"\n",
      "[1] \"Subject 533236445 had a trace of: 3.33333333333333\"\n",
      "[1] \"Subject 538718181 had a trace of: 4.00222222222222\"\n",
      "[1] \"Subject 578969802 median reaction time of: 580 ms\"\n",
      "[1] \"Subject 600716299 had a trace of: 2.66666666666667\"\n",
      "[1] \"Subject 618946141 had an antitrace of: 3.66666666666667\"\n",
      "[1] \"Subject 637208960 had a trace of: 4.11222222222222\"\n",
      "[1] \"Subject 639826396 median reaction time of: 656 ms\"\n",
      "[1] \"Subject 641161221 had an antitrace of: 2.05944444444444\"\n",
      "[1] \"Subject 658537675 had a trace of: 3\"\n",
      "[1] \"Subject 658938948 had a trace of: 3.89\"\n",
      "[1] \"Subject 663561812 median reaction time of: 969 ms\"\n",
      "[1] \"Subject 669812533 had a trace of: 3.00111111111111\"\n",
      "[1] \"Subject 694064682 had a trace of: 3.55666666666667\"\n",
      "[1] \"Subject 700268324 had a trace of: 2.33555555555556\"\n",
      "[1] \"Subject 712383278 had a trace of: 4.22222222222222\"\n",
      "[1] \"Subject 715861269 had an antitrace of: 3.22277777777778\"\n",
      "[1] \"Subject 741453790 had a trace of: 3.33333333333333\"\n",
      "[1] \"Subject 753646021 had a trace of: 4.11222222222222\"\n",
      "[1] \"Subject 775037105 had a trace of: 6.22222222222222\"\n",
      "[1] \"Subject 781825050 had a trace of: 3.22222222222222\"\n",
      "[1] \"Subject 803219623 had an antitrace of: 3.05555555555556\"\n",
      "[1] \"Subject 810831200 had a trace of: 4.88888888888889\"\n",
      "[1] \"Subject 856353257 had a trace of: 3.44666666666667\"\n",
      "[1] \"Subject 865463691 had a trace of: 4.55666666666667\"\n",
      "[1] \"Subject 870248951 had an antitrace of: 0.895\"\n",
      "[1] \"Subject 871955349 had an antitrace of: 4\"\n",
      "[1] \"Subject 874730448 median reaction time of: 904 ms\"\n",
      "[1] \"Subject 894951684 had an antitrace of: 3.89\"\n",
      "[1] \"Subject 896162305 had a trace of: 3.22222222222222\"\n",
      "[1] \"Subject 897283237 had a trace of: 4.22333333333333\"\n",
      "[1] \"Subject 902151764 median reaction time of: 884 ms\"\n",
      "[1] \"Subject 906755876 had an antitrace of: 3.16666666666667\"\n",
      "[1] \"Subject 914239552 had a trace of: 4.22222222222222\"\n",
      "[1] \"Subject 918087988 had a trace of: 2.33333333333333\"\n",
      "[1] \"Subject 920351409 had a trace of: 4.22444444444444\"\n",
      "[1] \"Subject 920704473 had a trace of: 3.00111111111111\"\n",
      "[1] \"Subject 926295504 had an antitrace of: 3.94444444444444\"\n",
      "[1] \"Subject 935873875 median reaction time of: 961 ms\"\n",
      "[1] \"Subject 939966999 had a trace of: 2.22888888888889\"\n",
      "[1] \"Subject 941169048 had a trace of: 4.11111111111111\"\n",
      "[1] \"Subject 943936794 had a trace of: 4.88888888888889\"\n",
      "[1] \"Subject 952263128 median reaction time of: 571 ms\"\n",
      "[1] \"Subject 954013747 had a trace of: 3.77888888888889\"\n",
      "[1] \"Subject 960904124 had a trace of: 2.89222222222222\"\n",
      "[1] \"Subject 986225336 had a trace of: 2.22555555555556\"\n",
      "[1] \"37 of 128 were compliant\"\n"
     ]
    }
   ],
   "source": [
    "datadf <- label_noncompliant(datadf,'Foveal')"
   ]
  },
  {
   "cell_type": "markdown",
   "metadata": {},
   "source": [
    "## Statistical Analysis"
   ]
  },
  {
   "cell_type": "markdown",
   "metadata": {},
   "source": [
    "#### Determine within-subject central and peripheral QDM correlation & significance"
   ]
  },
  {
   "cell_type": "code",
   "execution_count": 50,
   "metadata": {},
   "outputs": [],
   "source": [
    "# return a list of the fovea matrix vs periphery matrix correlations for each subject\n",
    "\n",
    "fvp_list <- function(datadf){\n",
    "    \n",
    "    subjectlist <- sort(unique(datadf$subject)) # obtain a list of all the subjects\n",
    "    \n",
    "    correlation_list <- vector() # array to store the values in\n",
    "    \n",
    "    for (ID in subjectlist){ # go through subject by subject\n",
    "        subjectdf = subset(datadf, subject == ID) # select the ID for subject of interest\n",
    "        correlation_list <- c(correlation_list, (matrixcor(subjectdf)))\n",
    "    }\n",
    "    return(correlation_list)\n",
    "}"
   ]
  },
  {
   "cell_type": "code",
   "execution_count": 51,
   "metadata": {},
   "outputs": [],
   "source": [
    "# shuffle the rows of a matrix\n",
    "shuffle_matrix <- function(matrix){\n",
    "    shuffled <- matrix[sample(nrow(matrix)),]\n",
    "    return(shuffled)\n",
    "}"
   ]
  },
  {
   "cell_type": "code",
   "execution_count": 52,
   "metadata": {},
   "outputs": [],
   "source": [
    "# return a list of the fovea matrix vs. shuffled periphery matrix for each subject. Pick the # shuffles, default 1000.\n",
    "# returns Fisher-transformed correlations\n",
    "\n",
    "fvp_shuffled_list <- function(datadf, shuffle_num=1000){\n",
    "    \n",
    "    subjectlist <- sort(unique(datadf$subject)) # obtain a list of all the subjects\n",
    "    \n",
    "    \n",
    "    correlation_list <- vector() # array to store the values in\n",
    "    \n",
    "    for (ID in subjectlist){ # go through subject by subject\n",
    "        subjectdf = subset(datadf, subject == ID) # select the ID for subject of interest\n",
    "        \n",
    "        fmatrix <- df2mat(datadf, l2e('Foveal'), l2e('Foveal'))\n",
    "        pmatrix <- df2mat(datadf, l2e('Peripheral'), l2e('Peripheral'))\n",
    "        \n",
    "        temp_list <- vector()\n",
    "        for (i in 1:shuffle_num){ #shuffle the peripheral matrix, add values to temp list\n",
    "            pmatrix_shuffled <- shufflematrix(pmatrix)\n",
    "            temp_list <- c(temp_list, FisherZ(cor(c(fmatrix), c(pmatrix_shuffled), method = \"spearman\")))\n",
    "        }\n",
    "        \n",
    "        correlation_list <- c(correlation_list,mean(temp_list)) # add the average correlation to the list\n",
    "        }\n",
    "    return(correlation_list)\n",
    "}"
   ]
  },
  {
   "cell_type": "code",
   "execution_count": 53,
   "metadata": {},
   "outputs": [],
   "source": [
    "# perform Mann-Whitney U test to compare the within-subject central and peripheral QDMs to randomly shuffled ones\n",
    "within_subject_test <- function(original_correlations,shuffled_correlations){\n",
    "    \n",
    "    wilcox.test(original_correlations,shuffled_correlations)\n",
    "}"
   ]
  },
  {
   "cell_type": "code",
   "execution_count": 54,
   "metadata": {},
   "outputs": [],
   "source": [
    "# do the analysis"
   ]
  },
  {
   "cell_type": "markdown",
   "metadata": {},
   "source": [
    "#### Determine between-subject central to central QDM correlation & significance"
   ]
  },
  {
   "cell_type": "code",
   "execution_count": 55,
   "metadata": {},
   "outputs": [],
   "source": [
    "# obtain the subject similarity matrix\n",
    "i_j_list <- function(datadf, eccentricity1=l2e('Foveal'), eccentricity2=l2e('Foveal')){\n",
    "    \n",
    "    datadf = subset(datadf, Circle_1 == eccentricity1)\n",
    "    datadf = subset(datadf, Circle_2 == eccentricity2)\n",
    "    \n",
    "    subjectlist <- sort(unique(datadf$subject)) # obtain a list of all the subjects\n",
    "    \n",
    "    correlation_list <- vector() # array to store the values in\n",
    "    \n",
    "    for (ID_i in subjectlist){ \n",
    "        for (ID_j in subjectlist){\n",
    "            if(ID_i != ID_j){\n",
    "                subjectdf_i = subset(datadf, subject == ID_i)\n",
    "                subjectdf_j = subset(datadf, subject == ID_j)\n",
    "\n",
    "                fmatrix_i <- df2mat(subjectdf_i, l2e('Foveal'), l2e('Foveal')) # get their fovea dissimilarity matrix\n",
    "                fmatrix_j <- df2mat(subjectdf_j, l2e('Foveal'), l2e('Foveal')) # get their fovea dissimilarity matrix\n",
    "\n",
    "                correlation_list <- c(correlation_list, cor(c(fmatrix_i), c(fmatrix_j), method = \"spearman\"))\n",
    "                }\n",
    "        }\n",
    "    }\n",
    "    return(correlation_list)\n",
    "}"
   ]
  },
  {
   "cell_type": "code",
   "execution_count": 56,
   "metadata": {},
   "outputs": [],
   "source": [
    "# obtain a shuffled subject similarity matrix"
   ]
  },
  {
   "cell_type": "code",
   "execution_count": 57,
   "metadata": {},
   "outputs": [],
   "source": [
    "# test where the correlation of the original SSM sits in comparison to the shuffled SSMs"
   ]
  },
  {
   "cell_type": "code",
   "execution_count": 58,
   "metadata": {},
   "outputs": [],
   "source": [
    "# do the analysis"
   ]
  },
  {
   "cell_type": "markdown",
   "metadata": {},
   "source": [
    "#### Determine whether within-subject central-peripheral QDM correlation is equal to or greater than between-subject central-central QDMs"
   ]
  },
  {
   "cell_type": "code",
   "execution_count": 59,
   "metadata": {},
   "outputs": [],
   "source": [
    "# blah"
   ]
  },
  {
   "cell_type": "code",
   "execution_count": 60,
   "metadata": {},
   "outputs": [],
   "source": [
    "# do the analysis"
   ]
  },
  {
   "cell_type": "code",
   "execution_count": 121,
   "metadata": {},
   "outputs": [],
   "source": [
    "# correlation plot\n",
    "corr_plot <- function(correlation_list,title='BLANK',xlabel='BLANK',f2z=FALSE){\n",
    "    df <- data.frame(correlation_list) # convert list to data frame\n",
    "    df[xlabel] = xlabel\n",
    "    \n",
    "    plot <- ggplot(df,aes(x=xlabel,y=correlation_list)) + \n",
    "                geom_boxplot() + \n",
    "                geom_dotplot(binaxis='y',stackdir='center',dotsize=0.75) +\n",
    "                theme(text = element_text(size=15)) + xlab(\"\")\n",
    "                ggtitle(title)\n",
    "    if(f2z){\n",
    "                plot <- plot + ylab(\"Fisher-Transformed Correlation (Spearman)\") + ylim(-1,2)\n",
    "    } else {\n",
    "                plot <- plot + ylab(\"Correlation (Spearman)\") + ylim(-0.5,1)\n",
    "\n",
    "    }\n",
    "    plot <- plot + geom_hline(yintercept=0, linetype=\"dashed\", color = \"blue\")\n",
    "    return(plot)\n",
    "}"
   ]
  },
  {
   "cell_type": "code",
   "execution_count": 62,
   "metadata": {},
   "outputs": [],
   "source": [
    "within_between_plots <- function(datadf,savestr){\n",
    "    \n",
    "    fvp <- fvp_list(datadf)\n",
    "    i_j <- i_j_list(datadf)\n",
    "    \n",
    "    within_plot <- corr_plot(fvp,'Within-subject FvP','Within-subject FvP')\n",
    "    between_plot <- corr_plot(i_j,'Between-subject FvF','Between-subject FvF')\n",
    "    within_plot_fisher <- corr_plot(FisherZ(fvp),'Within-subject FvP','Within-subject FvP',TRUE)\n",
    "    between_plot_fisher <- corr_plot(FisherZ(i_j),'Between-subject FvF','Between-subject FvF',TRUE)\n",
    "\n",
    "    # save the plots\n",
    "    title <- textGrob(substr(savestr,nchar('data/')+1,nchar(savestr)))\n",
    "    g <- arrangeGrob(within_plot,between_plot,\n",
    "                     within_plot_fisher,between_plot_fisher,\n",
    "                        nrow = 2, ncol= 2,\n",
    "                    top = title)\n",
    "\n",
    "        # save it\n",
    "    ggsave(paste(savestr,\"_Subject_Plots/\",\"correlation plot comparisons_\",\"plot.png\",sep=''),g, height = 11, width = 10)\n",
    "}"
   ]
  },
  {
   "cell_type": "code",
   "execution_count": 63,
   "metadata": {
    "scrolled": true
   },
   "outputs": [],
   "source": [
    "# plot within-subject FvP correlations against between-subject FvF correlations\n",
    "if(plot_within_between){within_between_plots(datadf,savestr)}"
   ]
  },
  {
   "cell_type": "markdown",
   "metadata": {},
   "source": [
    "Additional experimental summary graphs"
   ]
  },
  {
   "cell_type": "code",
   "execution_count": 64,
   "metadata": {},
   "outputs": [],
   "source": [
    "# obtains a dataframe of traces for subjects\n",
    "trace_obtainer <- function(datadf,type=\"trace\"){\n",
    "    subjectlist <- sort(unique(datadf$subject)) # obtain a list of all the subjects\n",
    "    tracedf <- data.frame(subject=character(),ftrace=double(),ptrace=double()) # initialise an output df for the traces\n",
    "    for (ID in subjectlist){\n",
    "        tempdf <- subset(datadf, subject == ID)\n",
    "        if(type == 'antitrace'){\n",
    "            subject_trace <- antitrace_avg(tempdf)\n",
    "        } else if (type == 'difference'){\n",
    "            subject_trace <- unlist(antitrace_avg(tempdf),use.names=FALSE) - unlist(trace_avg(tempdf),use.names=FALSE)\n",
    "        }else{\n",
    "            subject_trace <- trace_avg(tempdf)\n",
    "        }\n",
    "        row_df <- data.frame(ID, as.numeric(subject_trace[1]),as.numeric(subject_trace[2]))\n",
    "        names(row_df) <- c(\"subject\",\"Fovea x Fovea\",\"Periphery x Periphery\")\n",
    "        tracedf<- rbind(tracedf,row_df)\n",
    "    }\n",
    "    return(tracedf)\n",
    "}"
   ]
  },
  {
   "cell_type": "code",
   "execution_count": 107,
   "metadata": {},
   "outputs": [],
   "source": [
    "# plot the traces for the subjects individually\n",
    "trace_plot <- function(datadf,type='trace',grouped=TRUE){\n",
    "    \n",
    "    datadf$subject <- as.character(datadf$subject) # necessary for visualisation\n",
    "    \n",
    "    if(type == 'antitrace'){\n",
    "        trace_df <- trace_obtainer(datadf,'antitrace')\n",
    "    } else if (type == 'difference'){\n",
    "        trace_df <- trace_obtainer(datadf,'difference')\n",
    "    } else {\n",
    "        trace_df <- trace_obtainer(datadf)\n",
    "    }\n",
    "    \n",
    "    \n",
    "    tracedf <- gather(trace_df, key = \"eccentricity\",value = \"trace\", 2:3)\n",
    "    \n",
    "    if(grouped){\n",
    "        plot <- ggplot(tracedf, aes(x = eccentricity, y=trace)) +\n",
    "        geom_boxplot() + geom_dotplot(binaxis='y',stackdir='center',dotsize=0.5) +\n",
    "        theme(legend.position = \"none\")\n",
    "    } else {\n",
    "        plot <- ggplot(tracedf, aes(x = eccentricity, y=trace, group = subject, color = subject)) +\n",
    "        geom_line() + theme(legend.position = \"none\")\n",
    "    }\n",
    "    \n",
    "    if(type == 'antitrace'){\n",
    "        plot <- plot + ylim(0,7) + ylab(\"Mean Physically Maximally Distinct Stimulus Similarity\")\n",
    "    } else if (type == 'difference'){\n",
    "        plot <- plot + ylim(-6,6) + ylab(\"Distinct - Identical\")\n",
    "    } else {\n",
    "        plot <- plot + ylim(0,7) + ylab(\"Mean Physically Identical Stimulus Similarity\")\n",
    "    }\n",
    "    \n",
    "    return(plot)\n",
    "}"
   ]
  },
  {
   "cell_type": "markdown",
   "metadata": {},
   "source": [
    "### Plot summary of all subjects"
   ]
  },
  {
   "cell_type": "markdown",
   "metadata": {},
   "source": [
    "#### Individual subjects"
   ]
  },
  {
   "cell_type": "code",
   "execution_count": 66,
   "metadata": {},
   "outputs": [],
   "source": [
    "# plot summary data for all the subjects individually\n",
    "allsubjectsplot <- function(datadf,savestr){\n",
    "    \n",
    "    subjectlist <- sort(unique(datadf$subject)) # obtain a list of all the subjects\n",
    "\n",
    "    dir.create(paste(savestr,\"Subject_Plots\",sep='_')) # make a new folder to store the subject plots in\n",
    "\n",
    "    for (subjectid in subjectlist){\n",
    "        print(paste(\"Processing subject:\",subjectid,sep=' '))\n",
    "        subjectplot(datadf, subjectid,savestr)\n",
    "    }\n",
    "}"
   ]
  },
  {
   "cell_type": "code",
   "execution_count": 110,
   "metadata": {},
   "outputs": [],
   "source": [
    "# make a plot of the key summary data for a subject - single trial type version\n",
    "subjectplot <- function(datadf, subjectid,savestr){\n",
    "    \n",
    "    subjectdf = subset(datadf, subject == subjectid) # select the ID for subject of interest\n",
    "    \n",
    "    if(subjectdf$response_type[1] != 'after_1'){\n",
    "        FP = TRUE\n",
    "    } else {\n",
    "        FP = FALSE\n",
    "    }\n",
    "    \n",
    "    # FF Matrix plot\n",
    "    FFmatrix <- dissimplot(dissimdata(subjectdf, colors, l2e('Foveal'), l2e('Foveal')),colors)\n",
    "    \n",
    "    \n",
    "    \n",
    "    # PP Matrix plot\n",
    "    PPmatrix <- dissimplot(dissimdata(subjectdf, colors, l2e('Peripheral'), l2e('Peripheral')),colors)\n",
    "    \n",
    "    # FF CMDS plot\n",
    "    FFcmds <-  cmdsplot(cmdsfit(mat2dist(df2mat(subjectdf,l2e('Foveal'), l2e('Foveal')))), \n",
    "                        abcolors, abcolors, l2e('Foveal'), l2e('Foveal'))\n",
    "    \n",
    "    \n",
    "    \n",
    "    # PP CMDS plot\n",
    "    PPcmds <-  cmdsplot(cmdsfit(mat2dist(df2mat(subjectdf,l2e('Peripheral'), l2e('Peripheral')))), \n",
    "                        abcolors, abcolors, l2e('Peripheral'), l2e('Peripheral'))\n",
    "    \n",
    "    # FF nMDS plot\n",
    "    FFnmds <-  nmdsplot(nmdsfit(mat2dist(df2mat(subjectdf,l2e('Foveal'), l2e('Foveal')))), \n",
    "                        abcolors, abcolors, l2e('Foveal'), l2e('Foveal'))\n",
    "    \n",
    "    \n",
    "    \n",
    "    # PP nMDS plot\n",
    "    PPnmds <-  nmdsplot(nmdsfit(mat2dist(df2mat(subjectdf,l2e('Peripheral'), l2e('Peripheral')))), \n",
    "                        abcolors, abcolors, l2e('Peripheral'), l2e('Peripheral'))\n",
    "    \n",
    "    # Similarity judgements\n",
    "    simplot <- simhistplot(subjectdf)\n",
    "    # Reaction times\n",
    "    reactionplot <- rsplot(subjectdf)\n",
    "    # summary plot\n",
    "    rainplot <- rsplot_raincloud(subjectdf,'log')\n",
    "    \n",
    "    # trace plots\n",
    "    traceplot <- trace_plot(subjectdf)\n",
    "    antiplot <- trace_plot(subjectdf,'antitrace')\n",
    "    differenceplot <- trace_plot(subjectdf,'difference')\n",
    "    \n",
    "    # asymmetry plot\n",
    "    asymplot <- asymmetry_plot(subjectdf,l2e('Foveal'),l2e('Foveal'),colors)\n",
    "    \n",
    "    # title\n",
    "    if(subjectdf$noncompliant[1]){\n",
    "        title <- textGrob(as.character(subjectid),gp=gpar(col=\"red\",fontsize=35))\n",
    "    } else {\n",
    "        title <- textGrob(as.character(subjectid),gp=gpar(col=\"blue\",fontsize=35))\n",
    "    }\n",
    "    \n",
    "    if(FP){\n",
    "        \n",
    "        # FP Matrix plot\n",
    "        FPmatrix <- dissimplot(dissimdata(subjectdf, colors, l2e('Foveal'), l2e('Peripheral')),colors)\n",
    "        \n",
    "        # FP CMDS plot\n",
    "        FPcmds <-  cmdsplot(cmdsfit(mat2dist(df2mat(subjectdf,l2e('Foveal'), l2e('Peripheral')))), \n",
    "                        abcolors, abcolors, l2e('Foveal'), l2e('Peripheral'))\n",
    "        \n",
    "        # FP nMDS plot\n",
    "        FPnmds <-  nmdsplot(nmdsfit(mat2dist(df2mat(subjectdf,l2e('Foveal'), l2e('Peripheral')))), \n",
    "                        abcolors, abcolors, l2e('Foveal'), l2e('Peripheral'))\n",
    "        \n",
    "        # put all the plots together\n",
    "        g <- arrangeGrob(FFmatrix, FPmatrix, PPmatrix, simplot,\n",
    "                    FFcmds, FPcmds, PPcmds, reactionplot,\n",
    "                    FFnmds, FPnmds, PPnmds, rainplot,\n",
    "                    traceplot, antiplot, differenceplot, asymplot,\n",
    "                    nrow = 4, ncol=4, top = title)\n",
    "        \n",
    "        stimuli <- as.character(subjectdf$stimuli_count[1])\n",
    "        exp_type <- as.character(subjectdf$response_type[1])\n",
    "        ggsave(paste(savestr,\"_Subject_Plots/\",stimuli,\"_stimuli_\",exp_type,\"_ID_\",subjectid,\"_plot.png\",\n",
    "                 sep=''),g, height = 40, width = 40)\n",
    "    } else {\n",
    "        # put all the plots together\n",
    "        g <- arrangeGrob(FFmatrix, PPmatrix, simplot, traceplot,\n",
    "                    FFcmds, PPcmds, reactionplot, antiplot,\n",
    "                    FFnmds, PPnmds, rainplot, asymplot,\n",
    "                    nrow = 3, ncol=4, top = title)\n",
    "        \n",
    "        stimuli <- as.character(subjectdf$stimuli_count[1])\n",
    "        exp_type <- as.character(subjectdf$response_type[1])\n",
    "        ggsave(paste(savestr,\"_Subject_Plots/\",stimuli,\"_stimuli_\",exp_type,\"_ID_\",subjectid,\"_plot.png\",\n",
    "                 sep=''),g, height = 30, width = 40)\n",
    "    }\n",
    "}"
   ]
  },
  {
   "cell_type": "code",
   "execution_count": 106,
   "metadata": {
    "scrolled": true
   },
   "outputs": [
    {
     "name": "stdout",
     "output_type": "stream",
     "text": [
      "[1] \"Processing subject: 1579999\"\n",
      "initial  value 25.005691 \n",
      "iter   5 value 16.737182\n",
      "iter  10 value 15.221361\n",
      "final  value 15.145227 \n",
      "converged\n",
      "initial  value 25.096992 \n",
      "iter   5 value 14.967750\n",
      "iter  10 value 14.202334\n",
      "final  value 13.942444 \n",
      "converged\n",
      "initial  value 16.453669 \n",
      "iter   5 value 10.295734\n",
      "final  value 9.628982 \n",
      "converged\n"
     ]
    },
    {
     "name": "stderr",
     "output_type": "stream",
     "text": [
      "`stat_bindot()` using `bins = 30`. Pick better value with `binwidth`.\n",
      "`stat_bindot()` using `bins = 30`. Pick better value with `binwidth`.\n",
      "`stat_bindot()` using `bins = 30`. Pick better value with `binwidth`.\n"
     ]
    },
    {
     "name": "stdout",
     "output_type": "stream",
     "text": [
      "[1] \"Processing subject: 2989630\"\n",
      "initial  value 24.401112 \n",
      "iter   5 value 18.876591\n",
      "iter  10 value 18.504466\n",
      "iter  10 value 18.494426\n",
      "iter  10 value 18.487767\n",
      "final  value 18.487767 \n",
      "converged\n",
      "initial  value 29.438003 \n",
      "iter   5 value 22.567421\n",
      "iter  10 value 17.712165\n",
      "iter  15 value 17.019355\n",
      "final  value 16.987386 \n",
      "converged\n"
     ]
    },
    {
     "name": "stderr",
     "output_type": "stream",
     "text": [
      "`stat_bindot()` using `bins = 30`. Pick better value with `binwidth`.\n",
      "`stat_bindot()` using `bins = 30`. Pick better value with `binwidth`.\n"
     ]
    },
    {
     "name": "stdout",
     "output_type": "stream",
     "text": [
      "[1] \"Processing subject: 3478854\"\n",
      "initial  value 20.291082 \n",
      "iter   5 value 14.401846\n",
      "iter  10 value 13.398327\n",
      "iter  15 value 13.103519\n",
      "iter  20 value 12.827459\n",
      "iter  20 value 12.824538\n",
      "iter  20 value 12.824538\n",
      "final  value 12.824538 \n",
      "converged\n",
      "initial  value 23.714365 \n",
      "iter   5 value 12.642764\n",
      "iter  10 value 11.721799\n",
      "final  value 11.699163 \n",
      "converged\n",
      "initial  value 17.803067 \n",
      "iter   5 value 13.662862\n",
      "final  value 13.362557 \n",
      "converged\n"
     ]
    },
    {
     "name": "stderr",
     "output_type": "stream",
     "text": [
      "`stat_bindot()` using `bins = 30`. Pick better value with `binwidth`.\n",
      "`stat_bindot()` using `bins = 30`. Pick better value with `binwidth`.\n",
      "`stat_bindot()` using `bins = 30`. Pick better value with `binwidth`.\n"
     ]
    },
    {
     "name": "stdout",
     "output_type": "stream",
     "text": [
      "[1] \"Processing subject: 5542068\"\n",
      "initial  value 10.884070 \n",
      "iter   5 value 7.014824\n",
      "final  value 6.883028 \n",
      "converged\n",
      "initial  value 7.558721 \n",
      "iter   5 value 4.792255\n",
      "iter  10 value 4.420543\n",
      "final  value 4.376504 \n",
      "converged\n",
      "initial  value 21.307856 \n",
      "iter   5 value 15.584910\n",
      "iter  10 value 15.252021\n",
      "final  value 15.091911 \n",
      "converged\n"
     ]
    },
    {
     "name": "stderr",
     "output_type": "stream",
     "text": [
      "`stat_bindot()` using `bins = 30`. Pick better value with `binwidth`.\n",
      "`stat_bindot()` using `bins = 30`. Pick better value with `binwidth`.\n",
      "`stat_bindot()` using `bins = 30`. Pick better value with `binwidth`.\n"
     ]
    },
    {
     "name": "stdout",
     "output_type": "stream",
     "text": [
      "[1] \"Processing subject: 13811877\"\n",
      "initial  value 24.338810 \n",
      "iter   5 value 17.191172\n",
      "iter  10 value 15.808177\n",
      "final  value 15.667691 \n",
      "converged\n",
      "initial  value 27.963286 \n",
      "iter   5 value 19.724066\n",
      "iter  10 value 18.259411\n",
      "iter  15 value 18.066547\n",
      "iter  20 value 17.504022\n",
      "iter  20 value 17.492248\n",
      "iter  20 value 17.492216\n",
      "final  value 17.492216 \n",
      "converged\n",
      "initial  value 21.380787 \n",
      "iter   5 value 16.678698\n",
      "iter  10 value 15.058862\n",
      "final  value 14.757006 \n",
      "converged\n"
     ]
    },
    {
     "name": "stderr",
     "output_type": "stream",
     "text": [
      "`stat_bindot()` using `bins = 30`. Pick better value with `binwidth`.\n",
      "`stat_bindot()` using `bins = 30`. Pick better value with `binwidth`.\n",
      "`stat_bindot()` using `bins = 30`. Pick better value with `binwidth`.\n"
     ]
    },
    {
     "name": "stdout",
     "output_type": "stream",
     "text": [
      "[1] \"Processing subject: 36190138\"\n",
      "initial  value 34.101929 \n",
      "iter   5 value 22.632213\n",
      "iter  10 value 20.317068\n",
      "iter  15 value 19.684003\n",
      "final  value 19.615988 \n",
      "converged\n",
      "initial  value 28.605589 \n",
      "iter   5 value 17.086268\n",
      "iter  10 value 15.924275\n",
      "final  value 15.869992 \n",
      "converged\n",
      "initial  value 27.728123 \n",
      "iter   5 value 19.128660\n",
      "iter  10 value 16.597424\n",
      "final  value 16.234236 \n",
      "converged\n"
     ]
    },
    {
     "name": "stderr",
     "output_type": "stream",
     "text": [
      "`stat_bindot()` using `bins = 30`. Pick better value with `binwidth`.\n",
      "`stat_bindot()` using `bins = 30`. Pick better value with `binwidth`.\n",
      "`stat_bindot()` using `bins = 30`. Pick better value with `binwidth`.\n"
     ]
    },
    {
     "name": "stdout",
     "output_type": "stream",
     "text": [
      "[1] \"Processing subject: 37316066\"\n",
      "initial  value 17.046767 \n",
      "iter   5 value 15.225826\n",
      "iter   5 value 15.214261\n",
      "iter   5 value 15.208440\n",
      "final  value 15.208440 \n",
      "converged\n",
      "initial  value 19.801201 \n",
      "iter   5 value 15.105620\n",
      "final  value 15.086812 \n",
      "converged\n",
      "initial  value 19.887267 \n",
      "iter   5 value 16.161496\n",
      "final  value 15.826440 \n",
      "converged\n"
     ]
    },
    {
     "name": "stderr",
     "output_type": "stream",
     "text": [
      "`stat_bindot()` using `bins = 30`. Pick better value with `binwidth`.\n",
      "`stat_bindot()` using `bins = 30`. Pick better value with `binwidth`.\n",
      "`stat_bindot()` using `bins = 30`. Pick better value with `binwidth`.\n"
     ]
    },
    {
     "name": "stdout",
     "output_type": "stream",
     "text": [
      "[1] \"Processing subject: 42436095\"\n",
      "initial  value 26.487478 \n",
      "iter   5 value 18.227209\n",
      "iter  10 value 14.171631\n",
      "iter  15 value 13.411002\n",
      "iter  20 value 13.074794\n",
      "iter  20 value 13.065753\n",
      "iter  20 value 13.064609\n",
      "final  value 13.064609 \n",
      "converged\n",
      "initial  value 25.439089 \n",
      "iter   5 value 15.914392\n",
      "iter  10 value 14.990473\n",
      "iter  10 value 14.976643\n",
      "iter  10 value 14.976523\n",
      "final  value 14.976523 \n",
      "converged\n",
      "initial  value 24.857004 \n",
      "iter   5 value 13.977671\n",
      "iter  10 value 12.283613\n",
      "iter  15 value 11.507316\n",
      "final  value 11.404026 \n",
      "converged\n"
     ]
    },
    {
     "name": "stderr",
     "output_type": "stream",
     "text": [
      "`stat_bindot()` using `bins = 30`. Pick better value with `binwidth`.\n",
      "`stat_bindot()` using `bins = 30`. Pick better value with `binwidth`.\n",
      "`stat_bindot()` using `bins = 30`. Pick better value with `binwidth`.\n"
     ]
    },
    {
     "name": "stdout",
     "output_type": "stream",
     "text": [
      "[1] \"Processing subject: 43104521\"\n",
      "initial  value 7.097545 \n",
      "iter   5 value 4.083738\n",
      "iter  10 value 3.914152\n",
      "final  value 3.865326 \n",
      "converged\n",
      "initial  value 7.708246 \n",
      "iter   5 value 4.617160\n",
      "iter  10 value 4.431503\n",
      "final  value 4.423670 \n",
      "converged\n"
     ]
    },
    {
     "name": "stderr",
     "output_type": "stream",
     "text": [
      "`stat_bindot()` using `bins = 30`. Pick better value with `binwidth`.\n",
      "`stat_bindot()` using `bins = 30`. Pick better value with `binwidth`.\n"
     ]
    },
    {
     "name": "stdout",
     "output_type": "stream",
     "text": [
      "[1] \"Processing subject: 51602224\"\n",
      "initial  value 26.337668 \n",
      "iter   5 value 19.716845\n",
      "final  value 18.757604 \n",
      "converged\n",
      "initial  value 16.795717 \n",
      "iter   5 value 13.407430\n",
      "iter   5 value 13.399857\n",
      "iter   5 value 13.399294\n",
      "final  value 13.399294 \n",
      "converged\n"
     ]
    },
    {
     "name": "stderr",
     "output_type": "stream",
     "text": [
      "`stat_bindot()` using `bins = 30`. Pick better value with `binwidth`.\n",
      "`stat_bindot()` using `bins = 30`. Pick better value with `binwidth`.\n"
     ]
    },
    {
     "name": "stdout",
     "output_type": "stream",
     "text": [
      "[1] \"Processing subject: 56511823\"\n",
      "initial  value 22.595366 \n",
      "iter   5 value 20.100824\n",
      "iter  10 value 18.326188\n",
      "final  value 18.206941 \n",
      "converged\n",
      "initial  value 24.679758 \n",
      "final  value 18.717436 \n",
      "converged\n"
     ]
    },
    {
     "name": "stderr",
     "output_type": "stream",
     "text": [
      "`stat_bindot()` using `bins = 30`. Pick better value with `binwidth`.\n",
      "`stat_bindot()` using `bins = 30`. Pick better value with `binwidth`.\n"
     ]
    },
    {
     "name": "stdout",
     "output_type": "stream",
     "text": [
      "[1] \"Processing subject: 64896009\"\n",
      "initial  value 14.010974 \n",
      "iter   5 value 9.662220\n",
      "iter  10 value 9.297372\n",
      "iter  10 value 9.293956\n",
      "iter  10 value 9.291730\n",
      "final  value 9.291730 \n",
      "converged\n",
      "initial  value 9.186150 \n",
      "iter   5 value 5.120855\n",
      "final  value 5.067265 \n",
      "converged\n",
      "initial  value 9.029458 \n",
      "iter   5 value 6.242582\n",
      "final  value 6.232940 \n",
      "converged\n"
     ]
    },
    {
     "name": "stderr",
     "output_type": "stream",
     "text": [
      "`stat_bindot()` using `bins = 30`. Pick better value with `binwidth`.\n",
      "`stat_bindot()` using `bins = 30`. Pick better value with `binwidth`.\n",
      "`stat_bindot()` using `bins = 30`. Pick better value with `binwidth`.\n"
     ]
    },
    {
     "name": "stdout",
     "output_type": "stream",
     "text": [
      "[1] \"Processing subject: 69616059\"\n",
      "initial  value 19.784113 \n",
      "iter   5 value 13.807466\n",
      "final  value 13.715258 \n",
      "converged\n",
      "initial  value 21.668742 \n",
      "iter   5 value 17.416482\n",
      "iter  10 value 15.076038\n",
      "final  value 14.883531 \n",
      "converged\n"
     ]
    },
    {
     "name": "stderr",
     "output_type": "stream",
     "text": [
      "`stat_bindot()` using `bins = 30`. Pick better value with `binwidth`.\n",
      "`stat_bindot()` using `bins = 30`. Pick better value with `binwidth`.\n"
     ]
    },
    {
     "name": "stdout",
     "output_type": "stream",
     "text": [
      "[1] \"Processing subject: 69621683\"\n",
      "initial  value 23.667508 \n",
      "iter   5 value 16.491227\n",
      "iter  10 value 14.834036\n",
      "final  value 14.758181 \n",
      "converged\n",
      "initial  value 25.972102 \n",
      "iter   5 value 17.719698\n",
      "iter  10 value 16.317743\n",
      "final  value 16.290797 \n",
      "converged\n",
      "initial  value 26.914109 \n",
      "iter   5 value 17.542381\n",
      "final  value 17.326549 \n",
      "converged\n"
     ]
    },
    {
     "name": "stderr",
     "output_type": "stream",
     "text": [
      "`stat_bindot()` using `bins = 30`. Pick better value with `binwidth`.\n",
      "`stat_bindot()` using `bins = 30`. Pick better value with `binwidth`.\n",
      "`stat_bindot()` using `bins = 30`. Pick better value with `binwidth`.\n"
     ]
    },
    {
     "name": "stdout",
     "output_type": "stream",
     "text": [
      "[1] \"Processing subject: 84045541\"\n",
      "initial  value 9.733084 \n",
      "iter   5 value 6.103559\n",
      "final  value 6.087900 \n",
      "converged\n",
      "initial  value 14.628138 \n",
      "iter   5 value 11.809350\n",
      "final  value 11.731440 \n",
      "converged\n",
      "initial  value 12.533853 \n",
      "iter   5 value 8.531841\n",
      "final  value 8.512579 \n",
      "converged\n"
     ]
    },
    {
     "name": "stderr",
     "output_type": "stream",
     "text": [
      "`stat_bindot()` using `bins = 30`. Pick better value with `binwidth`.\n",
      "`stat_bindot()` using `bins = 30`. Pick better value with `binwidth`.\n",
      "`stat_bindot()` using `bins = 30`. Pick better value with `binwidth`.\n"
     ]
    },
    {
     "name": "stdout",
     "output_type": "stream",
     "text": [
      "[1] \"Processing subject: 84511979\"\n",
      "initial  value 18.274982 \n",
      "iter   5 value 14.626009\n",
      "iter  10 value 14.169847\n",
      "final  value 14.128001 \n",
      "converged\n",
      "initial  value 24.747070 \n",
      "iter   5 value 18.904727\n",
      "final  value 18.765738 \n",
      "converged\n"
     ]
    },
    {
     "name": "stderr",
     "output_type": "stream",
     "text": [
      "`stat_bindot()` using `bins = 30`. Pick better value with `binwidth`.\n",
      "`stat_bindot()` using `bins = 30`. Pick better value with `binwidth`.\n"
     ]
    },
    {
     "name": "stdout",
     "output_type": "stream",
     "text": [
      "[1] \"Processing subject: 93458386\"\n",
      "initial  value 20.510866 \n",
      "iter   5 value 15.496807\n",
      "iter  10 value 13.949066\n",
      "final  value 13.925985 \n",
      "converged\n",
      "initial  value 17.869767 \n",
      "iter   5 value 13.473837\n",
      "iter  10 value 12.840026\n",
      "iter  10 value 12.833912\n",
      "iter  10 value 12.831830\n",
      "final  value 12.831830 \n",
      "converged\n",
      "initial  value 18.740235 \n",
      "iter   5 value 13.668722\n",
      "iter  10 value 13.004958\n",
      "final  value 12.914391 \n",
      "converged\n"
     ]
    },
    {
     "name": "stderr",
     "output_type": "stream",
     "text": [
      "`stat_bindot()` using `bins = 30`. Pick better value with `binwidth`.\n",
      "`stat_bindot()` using `bins = 30`. Pick better value with `binwidth`.\n",
      "`stat_bindot()` using `bins = 30`. Pick better value with `binwidth`.\n"
     ]
    },
    {
     "name": "stdout",
     "output_type": "stream",
     "text": [
      "[1] \"Processing subject: 100042706\"\n",
      "initial  value 21.583795 \n",
      "iter   5 value 14.553330\n",
      "iter  10 value 14.292614\n",
      "iter  10 value 14.282717\n",
      "iter  10 value 14.282717\n",
      "final  value 14.282717 \n",
      "converged\n",
      "initial  value 22.014252 \n",
      "iter   5 value 14.894461\n",
      "iter  10 value 13.999972\n",
      "final  value 13.940244 \n",
      "converged\n",
      "initial  value 31.111679 \n",
      "iter   5 value 14.945982\n",
      "iter  10 value 12.911548\n",
      "iter  10 value 12.898913\n",
      "iter  10 value 12.898458\n",
      "final  value 12.898458 \n",
      "converged\n"
     ]
    },
    {
     "name": "stderr",
     "output_type": "stream",
     "text": [
      "`stat_bindot()` using `bins = 30`. Pick better value with `binwidth`.\n",
      "`stat_bindot()` using `bins = 30`. Pick better value with `binwidth`.\n",
      "`stat_bindot()` using `bins = 30`. Pick better value with `binwidth`.\n"
     ]
    },
    {
     "name": "stdout",
     "output_type": "stream",
     "text": [
      "[1] \"Processing subject: 102294477\"\n",
      "initial  value 25.666063 \n",
      "iter   5 value 18.772753\n",
      "final  value 18.665683 \n",
      "converged\n",
      "initial  value 17.397933 \n",
      "iter   5 value 14.871427\n",
      "final  value 14.829666 \n",
      "converged\n",
      "initial  value 22.514224 \n",
      "iter   5 value 17.523400\n",
      "iter   5 value 17.508922\n",
      "iter   5 value 17.508922\n",
      "final  value 17.508922 \n",
      "converged\n"
     ]
    },
    {
     "name": "stderr",
     "output_type": "stream",
     "text": [
      "`stat_bindot()` using `bins = 30`. Pick better value with `binwidth`.\n",
      "`stat_bindot()` using `bins = 30`. Pick better value with `binwidth`.\n",
      "`stat_bindot()` using `bins = 30`. Pick better value with `binwidth`.\n"
     ]
    },
    {
     "name": "stdout",
     "output_type": "stream",
     "text": [
      "[1] \"Processing subject: 103557621\"\n",
      "initial  value 18.176722 \n",
      "iter   5 value 11.872028\n",
      "final  value 11.591881 \n",
      "converged\n",
      "initial  value 23.214126 \n",
      "iter   5 value 14.024139\n",
      "final  value 13.477365 \n",
      "converged\n",
      "initial  value 22.490917 \n",
      "iter   5 value 16.156394\n",
      "final  value 16.119809 \n",
      "converged\n"
     ]
    },
    {
     "name": "stderr",
     "output_type": "stream",
     "text": [
      "`stat_bindot()` using `bins = 30`. Pick better value with `binwidth`.\n",
      "`stat_bindot()` using `bins = 30`. Pick better value with `binwidth`.\n",
      "`stat_bindot()` using `bins = 30`. Pick better value with `binwidth`.\n"
     ]
    },
    {
     "name": "stdout",
     "output_type": "stream",
     "text": [
      "[1] \"Processing subject: 107565540\"\n",
      "initial  value 14.515783 \n",
      "iter   5 value 10.176001\n",
      "final  value 10.151201 \n",
      "converged\n",
      "initial  value 13.466783 \n",
      "iter   5 value 9.557018\n",
      "iter   5 value 9.553768\n",
      "iter   5 value 9.552711\n",
      "final  value 9.552711 \n",
      "converged\n",
      "initial  value 21.722191 \n",
      "iter   5 value 15.253656\n",
      "iter  10 value 12.612258\n",
      "final  value 12.209339 \n",
      "converged\n"
     ]
    },
    {
     "name": "stderr",
     "output_type": "stream",
     "text": [
      "`stat_bindot()` using `bins = 30`. Pick better value with `binwidth`.\n",
      "`stat_bindot()` using `bins = 30`. Pick better value with `binwidth`.\n",
      "`stat_bindot()` using `bins = 30`. Pick better value with `binwidth`.\n"
     ]
    },
    {
     "name": "stdout",
     "output_type": "stream",
     "text": [
      "[1] \"Processing subject: 114423889\"\n",
      "initial  value 25.067567 \n",
      "iter   5 value 16.338795\n",
      "final  value 16.152899 \n",
      "converged\n",
      "initial  value 27.193994 \n",
      "iter   5 value 18.885813\n",
      "iter  10 value 17.602355\n",
      "iter  15 value 17.187944\n",
      "final  value 17.049066 \n",
      "converged\n",
      "initial  value 27.987696 \n",
      "iter   5 value 20.640989\n",
      "iter  10 value 19.906670\n",
      "iter  10 value 19.901217\n",
      "iter  10 value 19.901217\n",
      "final  value 19.901217 \n",
      "converged\n"
     ]
    },
    {
     "name": "stderr",
     "output_type": "stream",
     "text": [
      "`stat_bindot()` using `bins = 30`. Pick better value with `binwidth`.\n",
      "`stat_bindot()` using `bins = 30`. Pick better value with `binwidth`.\n",
      "`stat_bindot()` using `bins = 30`. Pick better value with `binwidth`.\n"
     ]
    },
    {
     "name": "stdout",
     "output_type": "stream",
     "text": [
      "[1] \"Processing subject: 129877772\"\n",
      "initial  value 23.532779 \n",
      "iter   5 value 18.928932\n",
      "iter  10 value 18.175306\n",
      "final  value 17.518585 \n",
      "converged\n",
      "initial  value 25.604228 \n",
      "iter   5 value 17.926550\n",
      "final  value 17.887595 \n",
      "converged\n",
      "initial  value 21.500373 \n",
      "iter   5 value 17.812261\n",
      "iter  10 value 17.581476\n",
      "iter  10 value 17.565544\n",
      "iter  10 value 17.564621\n",
      "final  value 17.564621 \n",
      "converged\n"
     ]
    },
    {
     "name": "stderr",
     "output_type": "stream",
     "text": [
      "`stat_bindot()` using `bins = 30`. Pick better value with `binwidth`.\n",
      "`stat_bindot()` using `bins = 30`. Pick better value with `binwidth`.\n",
      "`stat_bindot()` using `bins = 30`. Pick better value with `binwidth`.\n"
     ]
    },
    {
     "name": "stdout",
     "output_type": "stream",
     "text": [
      "[1] \"Processing subject: 134313784\"\n",
      "initial  value 21.046932 \n",
      "final  value 15.149642 \n",
      "converged\n",
      "initial  value 25.896311 \n",
      "iter   5 value 19.147711\n",
      "iter  10 value 18.068758\n",
      "final  value 17.965950 \n",
      "converged\n",
      "initial  value 27.567199 \n",
      "iter   5 value 19.912309\n",
      "iter  10 value 17.906156\n",
      "iter  15 value 16.034685\n",
      "final  value 15.404414 \n",
      "converged\n"
     ]
    },
    {
     "name": "stderr",
     "output_type": "stream",
     "text": [
      "`stat_bindot()` using `bins = 30`. Pick better value with `binwidth`.\n",
      "`stat_bindot()` using `bins = 30`. Pick better value with `binwidth`.\n",
      "`stat_bindot()` using `bins = 30`. Pick better value with `binwidth`.\n"
     ]
    },
    {
     "name": "stdout",
     "output_type": "stream",
     "text": [
      "[1] \"Processing subject: 136147605\"\n",
      "initial  value 24.697701 \n",
      "iter   5 value 17.061307\n",
      "iter  10 value 15.324550\n",
      "final  value 14.874951 \n",
      "converged\n",
      "initial  value 34.476669 \n",
      "iter   5 value 23.201360\n",
      "iter  10 value 17.031723\n",
      "iter  15 value 16.502385\n",
      "iter  20 value 15.870761\n",
      "iter  25 value 15.482184\n",
      "iter  30 value 15.158797\n",
      "iter  30 value 15.149861\n",
      "iter  30 value 15.143842\n",
      "final  value 15.143842 \n",
      "converged\n",
      "initial  value 34.293988 \n",
      "iter   5 value 24.990772\n",
      "iter  10 value 21.039856\n",
      "iter  15 value 14.418939\n",
      "iter  20 value 13.398527\n",
      "final  value 13.293958 \n",
      "converged\n"
     ]
    },
    {
     "name": "stderr",
     "output_type": "stream",
     "text": [
      "`stat_bindot()` using `bins = 30`. Pick better value with `binwidth`.\n",
      "`stat_bindot()` using `bins = 30`. Pick better value with `binwidth`.\n",
      "`stat_bindot()` using `bins = 30`. Pick better value with `binwidth`.\n"
     ]
    },
    {
     "name": "stdout",
     "output_type": "stream",
     "text": [
      "[1] \"Processing subject: 137230626\"\n",
      "initial  value 29.716353 \n",
      "iter   5 value 21.755830\n",
      "iter  10 value 18.208346\n",
      "final  value 18.112167 \n",
      "converged\n",
      "initial  value 26.086174 \n",
      "iter   5 value 20.204284\n",
      "iter  10 value 19.365854\n",
      "final  value 19.018234 \n",
      "converged\n",
      "initial  value 33.130075 \n",
      "iter   5 value 25.816179\n",
      "iter  10 value 20.995267\n",
      "iter  15 value 20.212844\n",
      "iter  15 value 20.203311\n",
      "iter  15 value 20.198092\n",
      "final  value 20.198092 \n",
      "converged\n"
     ]
    },
    {
     "name": "stderr",
     "output_type": "stream",
     "text": [
      "`stat_bindot()` using `bins = 30`. Pick better value with `binwidth`.\n",
      "`stat_bindot()` using `bins = 30`. Pick better value with `binwidth`.\n",
      "`stat_bindot()` using `bins = 30`. Pick better value with `binwidth`.\n"
     ]
    },
    {
     "name": "stdout",
     "output_type": "stream",
     "text": [
      "[1] \"Processing subject: 150323725\"\n",
      "initial  value 26.869261 \n",
      "iter   5 value 16.484285\n",
      "iter  10 value 14.860734\n",
      "final  value 14.772636 \n",
      "converged\n",
      "initial  value 17.880742 \n",
      "iter   5 value 11.682709\n",
      "final  value 11.335396 \n",
      "converged\n",
      "initial  value 18.835253 \n",
      "iter   5 value 15.551122\n",
      "iter  10 value 15.245461\n",
      "final  value 15.219901 \n",
      "converged\n"
     ]
    },
    {
     "name": "stderr",
     "output_type": "stream",
     "text": [
      "`stat_bindot()` using `bins = 30`. Pick better value with `binwidth`.\n",
      "`stat_bindot()` using `bins = 30`. Pick better value with `binwidth`.\n",
      "`stat_bindot()` using `bins = 30`. Pick better value with `binwidth`.\n"
     ]
    },
    {
     "name": "stdout",
     "output_type": "stream",
     "text": [
      "[1] \"Processing subject: 161439250\"\n",
      "initial  value 22.077662 \n",
      "iter   5 value 18.030786\n",
      "final  value 17.857124 \n",
      "converged\n",
      "initial  value 23.261325 \n",
      "iter   5 value 20.827616\n",
      "final  value 20.482849 \n",
      "converged\n"
     ]
    },
    {
     "name": "stderr",
     "output_type": "stream",
     "text": [
      "`stat_bindot()` using `bins = 30`. Pick better value with `binwidth`.\n",
      "`stat_bindot()` using `bins = 30`. Pick better value with `binwidth`.\n"
     ]
    },
    {
     "name": "stdout",
     "output_type": "stream",
     "text": [
      "[1] \"Processing subject: 164954928\"\n",
      "initial  value 21.391441 \n",
      "iter   5 value 9.482660\n",
      "iter  10 value 8.868741\n",
      "iter  10 value 8.862212\n",
      "iter  10 value 8.857541\n",
      "final  value 8.857541 \n",
      "converged\n",
      "initial  value 24.401032 \n",
      "iter   5 value 15.329713\n",
      "iter  10 value 11.973206\n",
      "final  value 11.638557 \n",
      "converged\n",
      "initial  value 26.667070 \n",
      "iter   5 value 12.080566\n",
      "final  value 11.923076 \n",
      "converged\n"
     ]
    },
    {
     "name": "stderr",
     "output_type": "stream",
     "text": [
      "`stat_bindot()` using `bins = 30`. Pick better value with `binwidth`.\n",
      "`stat_bindot()` using `bins = 30`. Pick better value with `binwidth`.\n",
      "`stat_bindot()` using `bins = 30`. Pick better value with `binwidth`.\n"
     ]
    },
    {
     "name": "stdout",
     "output_type": "stream",
     "text": [
      "[1] \"Processing subject: 169090807\"\n",
      "initial  value 25.463941 \n",
      "iter   5 value 22.476086\n",
      "iter  10 value 20.837172\n",
      "final  value 20.428649 \n",
      "converged\n",
      "initial  value 21.424622 \n",
      "iter   5 value 13.968336\n",
      "final  value 13.888271 \n",
      "converged\n",
      "initial  value 22.360677 \n",
      "iter   5 value 16.234719\n",
      "final  value 16.122579 \n",
      "converged\n"
     ]
    },
    {
     "name": "stderr",
     "output_type": "stream",
     "text": [
      "`stat_bindot()` using `bins = 30`. Pick better value with `binwidth`.\n",
      "`stat_bindot()` using `bins = 30`. Pick better value with `binwidth`.\n",
      "`stat_bindot()` using `bins = 30`. Pick better value with `binwidth`.\n"
     ]
    },
    {
     "name": "stdout",
     "output_type": "stream",
     "text": [
      "[1] \"Processing subject: 184792412\"\n",
      "initial  value 12.687872 \n",
      "iter   5 value 8.159610\n",
      "final  value 8.108971 \n",
      "converged\n",
      "initial  value 20.233530 \n",
      "iter   5 value 17.738445\n",
      "iter  10 value 17.167426\n",
      "final  value 17.097539 \n",
      "converged\n"
     ]
    },
    {
     "name": "stderr",
     "output_type": "stream",
     "text": [
      "`stat_bindot()` using `bins = 30`. Pick better value with `binwidth`.\n",
      "`stat_bindot()` using `bins = 30`. Pick better value with `binwidth`.\n"
     ]
    },
    {
     "name": "stdout",
     "output_type": "stream",
     "text": [
      "[1] \"Processing subject: 188985661\"\n",
      "initial  value 14.622647 \n",
      "iter   5 value 8.949086\n",
      "iter  10 value 8.134532\n",
      "iter  10 value 8.131356\n",
      "iter  10 value 8.131356\n",
      "final  value 8.131356 \n",
      "converged\n",
      "initial  value 22.693236 \n",
      "iter   5 value 16.027201\n",
      "final  value 15.864669 \n",
      "converged\n"
     ]
    },
    {
     "name": "stderr",
     "output_type": "stream",
     "text": [
      "`stat_bindot()` using `bins = 30`. Pick better value with `binwidth`.\n",
      "`stat_bindot()` using `bins = 30`. Pick better value with `binwidth`.\n"
     ]
    },
    {
     "name": "stdout",
     "output_type": "stream",
     "text": [
      "[1] \"Processing subject: 191312515\"\n",
      "initial  value 22.532108 \n",
      "iter   5 value 16.639962\n",
      "final  value 15.792254 \n",
      "converged\n",
      "initial  value 22.177662 \n",
      "iter   5 value 18.177672\n",
      "iter  10 value 16.430259\n",
      "final  value 16.291457 \n",
      "converged\n",
      "initial  value 20.349953 \n",
      "iter   5 value 14.596689\n",
      "final  value 14.569583 \n",
      "converged\n"
     ]
    },
    {
     "name": "stderr",
     "output_type": "stream",
     "text": [
      "`stat_bindot()` using `bins = 30`. Pick better value with `binwidth`.\n",
      "`stat_bindot()` using `bins = 30`. Pick better value with `binwidth`.\n",
      "`stat_bindot()` using `bins = 30`. Pick better value with `binwidth`.\n"
     ]
    },
    {
     "name": "stdout",
     "output_type": "stream",
     "text": [
      "[1] \"Processing subject: 204375007\"\n",
      "initial  value 22.976689 \n",
      "iter   5 value 19.642172\n",
      "final  value 19.438093 \n",
      "converged\n",
      "initial  value 22.677772 \n",
      "final  value 19.303259 \n",
      "converged\n",
      "initial  value 18.611592 \n",
      "iter   5 value 14.718909\n",
      "iter   5 value 14.709644\n",
      "iter   5 value 14.709644\n",
      "final  value 14.709644 \n",
      "converged\n"
     ]
    },
    {
     "name": "stderr",
     "output_type": "stream",
     "text": [
      "`stat_bindot()` using `bins = 30`. Pick better value with `binwidth`.\n",
      "`stat_bindot()` using `bins = 30`. Pick better value with `binwidth`.\n",
      "`stat_bindot()` using `bins = 30`. Pick better value with `binwidth`.\n"
     ]
    },
    {
     "name": "stdout",
     "output_type": "stream",
     "text": [
      "[1] \"Processing subject: 206106473\"\n",
      "initial  value 11.695265 \n",
      "iter   5 value 7.556885\n",
      "final  value 7.511021 \n",
      "converged\n",
      "initial  value 7.087718 \n",
      "iter   5 value 3.587660\n",
      "final  value 3.465971 \n",
      "converged\n",
      "initial  value 21.965763 \n",
      "iter   5 value 17.072535\n",
      "iter   5 value 17.071055\n",
      "iter   5 value 17.071055\n",
      "final  value 17.071055 \n",
      "converged\n"
     ]
    },
    {
     "name": "stderr",
     "output_type": "stream",
     "text": [
      "`stat_bindot()` using `bins = 30`. Pick better value with `binwidth`.\n",
      "`stat_bindot()` using `bins = 30`. Pick better value with `binwidth`.\n",
      "`stat_bindot()` using `bins = 30`. Pick better value with `binwidth`.\n"
     ]
    },
    {
     "name": "stdout",
     "output_type": "stream",
     "text": [
      "[1] \"Processing subject: 214391792\"\n",
      "initial  value 18.797136 \n",
      "iter   5 value 13.766246\n",
      "iter  10 value 13.125960\n",
      "final  value 12.883489 \n",
      "converged\n",
      "initial  value 16.292982 \n",
      "iter   5 value 11.022366\n",
      "final  value 10.969530 \n",
      "converged\n",
      "initial  value 27.785181 \n",
      "iter   5 value 19.434848\n",
      "final  value 18.550192 \n",
      "converged\n"
     ]
    },
    {
     "name": "stderr",
     "output_type": "stream",
     "text": [
      "`stat_bindot()` using `bins = 30`. Pick better value with `binwidth`.\n",
      "`stat_bindot()` using `bins = 30`. Pick better value with `binwidth`.\n",
      "`stat_bindot()` using `bins = 30`. Pick better value with `binwidth`.\n"
     ]
    },
    {
     "name": "stdout",
     "output_type": "stream",
     "text": [
      "[1] \"Processing subject: 219675455\"\n",
      "initial  value 18.173399 \n",
      "iter   5 value 12.216180\n",
      "iter  10 value 11.892062\n",
      "final  value 11.866945 \n",
      "converged\n",
      "initial  value 14.948958 \n",
      "iter   5 value 7.916052\n",
      "final  value 7.763325 \n",
      "converged\n"
     ]
    },
    {
     "name": "stderr",
     "output_type": "stream",
     "text": [
      "`stat_bindot()` using `bins = 30`. Pick better value with `binwidth`.\n",
      "`stat_bindot()` using `bins = 30`. Pick better value with `binwidth`.\n"
     ]
    },
    {
     "name": "stdout",
     "output_type": "stream",
     "text": [
      "[1] \"Processing subject: 223439315\"\n",
      "initial  value 18.546284 \n",
      "iter   5 value 11.453335\n",
      "iter  10 value 10.143809\n",
      "final  value 10.093849 \n",
      "converged\n",
      "initial  value 19.687638 \n",
      "iter   5 value 15.882157\n",
      "iter  10 value 15.267285\n",
      "iter  15 value 14.823005\n",
      "final  value 14.795496 \n",
      "converged\n"
     ]
    },
    {
     "name": "stderr",
     "output_type": "stream",
     "text": [
      "`stat_bindot()` using `bins = 30`. Pick better value with `binwidth`.\n",
      "`stat_bindot()` using `bins = 30`. Pick better value with `binwidth`.\n"
     ]
    },
    {
     "name": "stdout",
     "output_type": "stream",
     "text": [
      "[1] \"Processing subject: 228232299\"\n",
      "initial  value 16.655080 \n",
      "iter   5 value 13.562789\n",
      "final  value 13.515756 \n",
      "converged\n",
      "initial  value 23.260996 \n",
      "iter   5 value 17.032819\n",
      "iter  10 value 15.160366\n",
      "final  value 15.115754 \n",
      "converged\n"
     ]
    },
    {
     "name": "stderr",
     "output_type": "stream",
     "text": [
      "`stat_bindot()` using `bins = 30`. Pick better value with `binwidth`.\n",
      "`stat_bindot()` using `bins = 30`. Pick better value with `binwidth`.\n"
     ]
    },
    {
     "name": "stdout",
     "output_type": "stream",
     "text": [
      "[1] \"Processing subject: 253635131\"\n",
      "initial  value 16.904723 \n",
      "iter   5 value 14.894197\n",
      "iter  10 value 14.331909\n",
      "final  value 14.289579 \n",
      "converged\n",
      "initial  value 16.622766 \n",
      "iter   5 value 13.190593\n",
      "final  value 13.154248 \n",
      "converged\n"
     ]
    },
    {
     "name": "stderr",
     "output_type": "stream",
     "text": [
      "`stat_bindot()` using `bins = 30`. Pick better value with `binwidth`.\n",
      "`stat_bindot()` using `bins = 30`. Pick better value with `binwidth`.\n"
     ]
    },
    {
     "name": "stdout",
     "output_type": "stream",
     "text": [
      "[1] \"Processing subject: 254636250\"\n",
      "initial  value 26.901792 \n",
      "iter   5 value 17.077349\n",
      "final  value 16.467622 \n",
      "converged\n",
      "initial  value 24.443194 \n",
      "iter   5 value 14.457621\n",
      "final  value 14.266073 \n",
      "converged\n",
      "initial  value 21.903136 \n",
      "iter   5 value 18.209683\n",
      "iter  10 value 15.171652\n",
      "iter  10 value 15.164270\n",
      "iter  10 value 15.164270\n",
      "final  value 15.164270 \n",
      "converged\n"
     ]
    },
    {
     "name": "stderr",
     "output_type": "stream",
     "text": [
      "`stat_bindot()` using `bins = 30`. Pick better value with `binwidth`.\n",
      "`stat_bindot()` using `bins = 30`. Pick better value with `binwidth`.\n",
      "`stat_bindot()` using `bins = 30`. Pick better value with `binwidth`.\n"
     ]
    },
    {
     "name": "stdout",
     "output_type": "stream",
     "text": [
      "[1] \"Processing subject: 258262801\"\n",
      "initial  value 29.979111 \n",
      "iter   5 value 19.356987\n",
      "final  value 18.812225 \n",
      "converged\n",
      "initial  value 23.282968 \n",
      "iter   5 value 14.792222\n",
      "final  value 14.332095 \n",
      "converged\n",
      "initial  value 18.862201 \n",
      "iter   5 value 13.925473\n",
      "final  value 13.744661 \n",
      "converged\n"
     ]
    },
    {
     "name": "stderr",
     "output_type": "stream",
     "text": [
      "`stat_bindot()` using `bins = 30`. Pick better value with `binwidth`.\n",
      "`stat_bindot()` using `bins = 30`. Pick better value with `binwidth`.\n",
      "`stat_bindot()` using `bins = 30`. Pick better value with `binwidth`.\n"
     ]
    },
    {
     "name": "stdout",
     "output_type": "stream",
     "text": [
      "[1] \"Processing subject: 260506797\"\n",
      "initial  value 16.220809 \n",
      "iter   5 value 10.865122\n",
      "iter  10 value 10.397553\n",
      "final  value 10.351107 \n",
      "converged\n",
      "initial  value 7.919283 \n",
      "iter   5 value 6.005324\n",
      "final  value 5.916795 \n",
      "converged\n",
      "initial  value 15.606940 \n",
      "iter   5 value 10.987994\n",
      "final  value 10.862414 \n",
      "converged\n"
     ]
    },
    {
     "name": "stderr",
     "output_type": "stream",
     "text": [
      "`stat_bindot()` using `bins = 30`. Pick better value with `binwidth`.\n",
      "`stat_bindot()` using `bins = 30`. Pick better value with `binwidth`.\n",
      "`stat_bindot()` using `bins = 30`. Pick better value with `binwidth`.\n"
     ]
    },
    {
     "name": "stdout",
     "output_type": "stream",
     "text": [
      "[1] \"Processing subject: 260639671\"\n",
      "initial  value 9.616740 \n",
      "iter   5 value 4.595682\n",
      "iter  10 value 4.403715\n",
      "iter  10 value 4.399403\n",
      "iter  10 value 4.398857\n",
      "final  value 4.398857 \n",
      "converged\n",
      "initial  value 11.521699 \n",
      "iter   5 value 8.136211\n",
      "final  value 8.113363 \n",
      "converged\n",
      "initial  value 10.625647 \n",
      "iter   5 value 6.936814\n",
      "final  value 6.758730 \n",
      "converged\n"
     ]
    },
    {
     "name": "stderr",
     "output_type": "stream",
     "text": [
      "`stat_bindot()` using `bins = 30`. Pick better value with `binwidth`.\n",
      "`stat_bindot()` using `bins = 30`. Pick better value with `binwidth`.\n",
      "`stat_bindot()` using `bins = 30`. Pick better value with `binwidth`.\n"
     ]
    },
    {
     "name": "stdout",
     "output_type": "stream",
     "text": [
      "[1] \"Processing subject: 264265394\"\n",
      "initial  value 20.652602 \n",
      "iter   5 value 17.041891\n",
      "iter  10 value 16.489309\n",
      "final  value 15.794626 \n",
      "converged\n",
      "initial  value 23.703731 \n",
      "iter   5 value 14.925022\n",
      "iter  10 value 14.328547\n",
      "final  value 14.299539 \n",
      "converged\n",
      "initial  value 31.538299 \n",
      "iter   5 value 23.432868\n",
      "iter  10 value 19.722475\n",
      "final  value 19.654857 \n",
      "converged\n"
     ]
    },
    {
     "name": "stderr",
     "output_type": "stream",
     "text": [
      "`stat_bindot()` using `bins = 30`. Pick better value with `binwidth`.\n",
      "`stat_bindot()` using `bins = 30`. Pick better value with `binwidth`.\n",
      "`stat_bindot()` using `bins = 30`. Pick better value with `binwidth`.\n"
     ]
    },
    {
     "name": "stdout",
     "output_type": "stream",
     "text": [
      "[1] \"Processing subject: 278333214\"\n",
      "initial  value 13.032921 \n",
      "iter   5 value 8.972331\n",
      "final  value 8.924639 \n",
      "converged\n",
      "initial  value 14.633238 \n",
      "iter   5 value 8.249421\n",
      "final  value 8.193505 \n",
      "converged\n",
      "initial  value 7.556634 \n",
      "iter   5 value 4.714025\n",
      "final  value 4.654426 \n",
      "converged\n"
     ]
    },
    {
     "name": "stderr",
     "output_type": "stream",
     "text": [
      "`stat_bindot()` using `bins = 30`. Pick better value with `binwidth`.\n",
      "`stat_bindot()` using `bins = 30`. Pick better value with `binwidth`.\n",
      "`stat_bindot()` using `bins = 30`. Pick better value with `binwidth`.\n"
     ]
    },
    {
     "name": "stdout",
     "output_type": "stream",
     "text": [
      "[1] \"Processing subject: 282221021\"\n",
      "initial  value 24.090484 \n",
      "iter   5 value 12.605175\n",
      "final  value 12.256958 \n",
      "converged\n",
      "initial  value 24.236700 \n",
      "iter   5 value 13.670799\n",
      "iter  10 value 12.344189\n",
      "final  value 12.287100 \n",
      "converged\n",
      "initial  value 20.778353 \n",
      "iter   5 value 14.059627\n",
      "iter  10 value 11.792031\n",
      "final  value 11.678292 \n",
      "converged\n"
     ]
    },
    {
     "name": "stderr",
     "output_type": "stream",
     "text": [
      "`stat_bindot()` using `bins = 30`. Pick better value with `binwidth`.\n",
      "`stat_bindot()` using `bins = 30`. Pick better value with `binwidth`.\n",
      "`stat_bindot()` using `bins = 30`. Pick better value with `binwidth`.\n"
     ]
    },
    {
     "name": "stdout",
     "output_type": "stream",
     "text": [
      "[1] \"Processing subject: 283489688\"\n",
      "initial  value 17.840755 \n",
      "iter   5 value 14.726641\n",
      "iter  10 value 14.401939\n",
      "iter  10 value 14.394645\n",
      "iter  10 value 14.389588\n",
      "final  value 14.389588 \n",
      "converged\n",
      "initial  value 26.951817 \n",
      "iter   5 value 20.354387\n",
      "final  value 20.177168 \n",
      "converged\n",
      "initial  value 28.447955 \n",
      "iter   5 value 18.091262\n",
      "iter  10 value 16.218010\n",
      "final  value 15.990722 \n",
      "converged\n"
     ]
    },
    {
     "name": "stderr",
     "output_type": "stream",
     "text": [
      "`stat_bindot()` using `bins = 30`. Pick better value with `binwidth`.\n",
      "`stat_bindot()` using `bins = 30`. Pick better value with `binwidth`.\n",
      "`stat_bindot()` using `bins = 30`. Pick better value with `binwidth`.\n"
     ]
    },
    {
     "name": "stdout",
     "output_type": "stream",
     "text": [
      "[1] \"Processing subject: 305242247\"\n",
      "initial  value 18.920660 \n",
      "iter   5 value 11.087347\n",
      "final  value 9.649667 \n",
      "converged\n",
      "initial  value 18.359220 \n",
      "final  value 13.454430 \n",
      "converged\n",
      "initial  value 22.192227 \n",
      "iter   5 value 19.357149\n",
      "iter  10 value 19.045815\n",
      "iter  10 value 19.035594\n",
      "iter  10 value 19.035594\n",
      "final  value 19.035594 \n",
      "converged\n"
     ]
    },
    {
     "name": "stderr",
     "output_type": "stream",
     "text": [
      "`stat_bindot()` using `bins = 30`. Pick better value with `binwidth`.\n",
      "`stat_bindot()` using `bins = 30`. Pick better value with `binwidth`.\n",
      "`stat_bindot()` using `bins = 30`. Pick better value with `binwidth`.\n"
     ]
    },
    {
     "name": "stdout",
     "output_type": "stream",
     "text": [
      "[1] \"Processing subject: 307082850\"\n",
      "initial  value 29.746192 \n",
      "iter   5 value 22.745204\n",
      "iter  10 value 21.858805\n",
      "iter  10 value 21.849616\n",
      "iter  10 value 21.849459\n",
      "final  value 21.849459 \n",
      "converged\n",
      "initial  value 28.019491 \n",
      "iter   5 value 17.322128\n",
      "iter  10 value 14.327070\n",
      "iter  15 value 9.791756\n",
      "final  value 9.489967 \n",
      "converged\n",
      "initial  value 24.709671 \n",
      "iter   5 value 17.989895\n",
      "final  value 17.836692 \n",
      "converged\n"
     ]
    },
    {
     "name": "stderr",
     "output_type": "stream",
     "text": [
      "`stat_bindot()` using `bins = 30`. Pick better value with `binwidth`.\n",
      "`stat_bindot()` using `bins = 30`. Pick better value with `binwidth`.\n",
      "`stat_bindot()` using `bins = 30`. Pick better value with `binwidth`.\n"
     ]
    },
    {
     "name": "stdout",
     "output_type": "stream",
     "text": [
      "[1] \"Processing subject: 320101016\"\n",
      "initial  value 13.756897 \n",
      "iter   5 value 2.749264\n",
      "iter  10 value 1.602860\n",
      "iter  15 value 1.485587\n",
      "final  value 1.477594 \n",
      "converged\n",
      "initial  value 12.723307 \n",
      "iter   5 value 6.234107\n",
      "iter  10 value 4.659703\n",
      "final  value 4.643700 \n",
      "converged\n"
     ]
    },
    {
     "name": "stderr",
     "output_type": "stream",
     "text": [
      "`stat_bindot()` using `bins = 30`. Pick better value with `binwidth`.\n",
      "`stat_bindot()` using `bins = 30`. Pick better value with `binwidth`.\n"
     ]
    },
    {
     "name": "stdout",
     "output_type": "stream",
     "text": [
      "[1] \"Processing subject: 323982589\"\n",
      "initial  value 21.252058 \n",
      "iter   5 value 16.827159\n",
      "iter  10 value 16.322865\n",
      "final  value 16.263383 \n",
      "converged\n",
      "initial  value 20.544546 \n",
      "iter   5 value 15.734429\n",
      "iter  10 value 14.136440\n",
      "iter  15 value 13.248323\n",
      "final  value 13.218244 \n",
      "converged\n"
     ]
    },
    {
     "name": "stderr",
     "output_type": "stream",
     "text": [
      "`stat_bindot()` using `bins = 30`. Pick better value with `binwidth`.\n",
      "`stat_bindot()` using `bins = 30`. Pick better value with `binwidth`.\n"
     ]
    },
    {
     "name": "stdout",
     "output_type": "stream",
     "text": [
      "[1] \"Processing subject: 353174754\"\n",
      "initial  value 19.833058 \n",
      "iter   5 value 15.017965\n",
      "final  value 14.877538 \n",
      "converged\n",
      "initial  value 20.737026 \n",
      "iter   5 value 17.546851\n",
      "iter  10 value 17.172132\n",
      "final  value 17.131704 \n",
      "converged\n",
      "initial  value 24.423249 \n",
      "iter   5 value 17.151058\n",
      "final  value 17.081872 \n",
      "converged\n"
     ]
    },
    {
     "name": "stderr",
     "output_type": "stream",
     "text": [
      "`stat_bindot()` using `bins = 30`. Pick better value with `binwidth`.\n",
      "`stat_bindot()` using `bins = 30`. Pick better value with `binwidth`.\n",
      "`stat_bindot()` using `bins = 30`. Pick better value with `binwidth`.\n"
     ]
    },
    {
     "name": "stdout",
     "output_type": "stream",
     "text": [
      "[1] \"Processing subject: 353622601\"\n",
      "initial  value 21.895327 \n",
      "iter   5 value 18.240521\n",
      "iter  10 value 17.685369\n",
      "final  value 17.661023 \n",
      "converged\n",
      "initial  value 21.294033 \n",
      "iter   5 value 16.371249\n",
      "final  value 16.296333 \n",
      "converged\n",
      "initial  value 20.227606 \n",
      "iter   5 value 12.892425\n",
      "final  value 12.641462 \n",
      "converged\n"
     ]
    },
    {
     "name": "stderr",
     "output_type": "stream",
     "text": [
      "`stat_bindot()` using `bins = 30`. Pick better value with `binwidth`.\n",
      "`stat_bindot()` using `bins = 30`. Pick better value with `binwidth`.\n",
      "`stat_bindot()` using `bins = 30`. Pick better value with `binwidth`.\n"
     ]
    },
    {
     "name": "stdout",
     "output_type": "stream",
     "text": [
      "[1] \"Processing subject: 364435498\"\n",
      "initial  value 17.915964 \n",
      "iter   5 value 4.658924\n",
      "iter  10 value 3.804001\n",
      "final  value 3.793640 \n",
      "converged\n",
      "initial  value 16.311517 \n",
      "iter   5 value 8.452755\n",
      "iter  10 value 7.751926\n",
      "final  value 7.608887 \n",
      "converged\n"
     ]
    },
    {
     "name": "stderr",
     "output_type": "stream",
     "text": [
      "`stat_bindot()` using `bins = 30`. Pick better value with `binwidth`.\n",
      "`stat_bindot()` using `bins = 30`. Pick better value with `binwidth`.\n"
     ]
    },
    {
     "name": "stdout",
     "output_type": "stream",
     "text": [
      "[1] \"Processing subject: 384204662\"\n",
      "initial  value 28.567248 \n",
      "iter   5 value 16.292578\n",
      "final  value 16.020694 \n",
      "converged\n",
      "initial  value 25.555829 \n",
      "iter   5 value 20.809445\n",
      "iter  10 value 17.954373\n",
      "final  value 17.749185 \n",
      "converged\n",
      "initial  value 19.815275 \n",
      "iter   5 value 16.151763\n",
      "iter  10 value 15.914244\n",
      "final  value 15.855021 \n",
      "converged\n"
     ]
    },
    {
     "name": "stderr",
     "output_type": "stream",
     "text": [
      "`stat_bindot()` using `bins = 30`. Pick better value with `binwidth`.\n",
      "`stat_bindot()` using `bins = 30`. Pick better value with `binwidth`.\n",
      "`stat_bindot()` using `bins = 30`. Pick better value with `binwidth`.\n"
     ]
    },
    {
     "name": "stdout",
     "output_type": "stream",
     "text": [
      "[1] \"Processing subject: 394826306\"\n",
      "initial  value 41.698155 \n",
      "iter   5 value 20.141191\n",
      "iter  10 value 18.577390\n",
      "iter  10 value 18.572325\n",
      "iter  10 value 18.570870\n",
      "final  value 18.570870 \n",
      "converged\n",
      "initial  value 32.167709 \n",
      "final  value 32.167709 \n",
      "converged\n",
      "initial  value 40.109962 \n",
      "iter   5 value 25.136910\n",
      "iter  10 value 21.600893\n",
      "iter  15 value 20.671030\n",
      "final  value 20.585287 \n",
      "converged\n"
     ]
    },
    {
     "name": "stderr",
     "output_type": "stream",
     "text": [
      "`stat_bindot()` using `bins = 30`. Pick better value with `binwidth`.\n",
      "`stat_bindot()` using `bins = 30`. Pick better value with `binwidth`.\n",
      "`stat_bindot()` using `bins = 30`. Pick better value with `binwidth`.\n"
     ]
    },
    {
     "name": "stdout",
     "output_type": "stream",
     "text": [
      "[1] \"Processing subject: 396273779\"\n",
      "initial  value 23.505607 \n",
      "iter   5 value 18.884477\n",
      "iter  10 value 17.679390\n",
      "iter  10 value 17.663633\n",
      "iter  10 value 17.663633\n",
      "final  value 17.663633 \n",
      "converged\n",
      "initial  value 13.213696 \n",
      "iter   5 value 10.647305\n",
      "iter  10 value 9.963512\n",
      "final  value 9.861607 \n",
      "converged\n",
      "initial  value 25.483569 \n",
      "iter   5 value 17.008132\n",
      "iter  10 value 15.971324\n",
      "iter  15 value 15.012030\n",
      "iter  15 value 15.002065\n",
      "iter  15 value 14.996246\n",
      "final  value 14.996246 \n",
      "converged\n"
     ]
    },
    {
     "name": "stderr",
     "output_type": "stream",
     "text": [
      "`stat_bindot()` using `bins = 30`. Pick better value with `binwidth`.\n",
      "`stat_bindot()` using `bins = 30`. Pick better value with `binwidth`.\n",
      "`stat_bindot()` using `bins = 30`. Pick better value with `binwidth`.\n"
     ]
    },
    {
     "name": "stdout",
     "output_type": "stream",
     "text": [
      "[1] \"Processing subject: 399309465\"\n",
      "initial  value 20.507481 \n",
      "iter   5 value 14.187501\n",
      "final  value 13.528863 \n",
      "converged\n",
      "initial  value 20.946988 \n",
      "iter   5 value 14.296442\n",
      "iter  10 value 12.192626\n",
      "final  value 11.863246 \n",
      "converged\n",
      "initial  value 17.440196 \n",
      "iter   5 value 11.133269\n",
      "final  value 11.005378 \n",
      "converged\n"
     ]
    },
    {
     "name": "stderr",
     "output_type": "stream",
     "text": [
      "`stat_bindot()` using `bins = 30`. Pick better value with `binwidth`.\n",
      "`stat_bindot()` using `bins = 30`. Pick better value with `binwidth`.\n",
      "`stat_bindot()` using `bins = 30`. Pick better value with `binwidth`.\n"
     ]
    },
    {
     "name": "stdout",
     "output_type": "stream",
     "text": [
      "[1] \"Processing subject: 401055739\"\n",
      "initial  value 15.139162 \n",
      "iter   5 value 8.927481\n",
      "iter  10 value 7.403814\n",
      "iter  15 value 7.304278\n",
      "iter  15 value 7.301971\n",
      "iter  15 value 7.301971\n",
      "final  value 7.301971 \n",
      "converged\n",
      "initial  value 14.552274 \n",
      "iter   5 value 7.925602\n",
      "final  value 7.801220 \n",
      "converged\n",
      "initial  value 11.126813 \n",
      "iter   5 value 5.915361\n",
      "final  value 5.775764 \n",
      "converged\n"
     ]
    },
    {
     "name": "stderr",
     "output_type": "stream",
     "text": [
      "`stat_bindot()` using `bins = 30`. Pick better value with `binwidth`.\n",
      "`stat_bindot()` using `bins = 30`. Pick better value with `binwidth`.\n",
      "`stat_bindot()` using `bins = 30`. Pick better value with `binwidth`.\n"
     ]
    },
    {
     "name": "stdout",
     "output_type": "stream",
     "text": [
      "[1] \"Processing subject: 409519376\"\n",
      "initial  value 26.736754 \n",
      "iter   5 value 17.234811\n",
      "iter  10 value 16.218998\n",
      "final  value 16.096382 \n",
      "converged\n",
      "initial  value 27.879347 \n",
      "iter   5 value 20.284708\n",
      "iter   5 value 20.277847\n",
      "iter   5 value 20.277847\n",
      "final  value 20.277847 \n",
      "converged\n",
      "initial  value 20.246363 \n",
      "iter   5 value 13.739987\n",
      "iter  10 value 13.439243\n",
      "iter  10 value 13.427825\n",
      "iter  10 value 13.424836\n",
      "final  value 13.424836 \n",
      "converged\n"
     ]
    },
    {
     "name": "stderr",
     "output_type": "stream",
     "text": [
      "`stat_bindot()` using `bins = 30`. Pick better value with `binwidth`.\n",
      "`stat_bindot()` using `bins = 30`. Pick better value with `binwidth`.\n",
      "`stat_bindot()` using `bins = 30`. Pick better value with `binwidth`.\n"
     ]
    },
    {
     "name": "stdout",
     "output_type": "stream",
     "text": [
      "[1] \"Processing subject: 410233477\"\n",
      "initial  value 16.232427 \n",
      "iter   5 value 10.314122\n",
      "final  value 10.287611 \n",
      "converged\n",
      "initial  value 18.073379 \n",
      "iter   5 value 13.495353\n",
      "iter  10 value 11.952201\n",
      "final  value 11.852140 \n",
      "converged\n",
      "initial  value 25.512363 \n",
      "iter   5 value 16.321373\n",
      "final  value 15.573063 \n",
      "converged\n"
     ]
    },
    {
     "name": "stderr",
     "output_type": "stream",
     "text": [
      "`stat_bindot()` using `bins = 30`. Pick better value with `binwidth`.\n",
      "`stat_bindot()` using `bins = 30`. Pick better value with `binwidth`.\n",
      "`stat_bindot()` using `bins = 30`. Pick better value with `binwidth`.\n"
     ]
    },
    {
     "name": "stdout",
     "output_type": "stream",
     "text": [
      "[1] \"Processing subject: 430384939\"\n",
      "initial  value 8.575564 \n",
      "iter   5 value 5.380261\n",
      "final  value 5.342164 \n",
      "converged\n",
      "initial  value 8.115100 \n",
      "iter   5 value 4.954719\n",
      "final  value 4.855163 \n",
      "converged\n",
      "initial  value 6.981518 \n",
      "iter   5 value 3.910136\n",
      "final  value 3.799177 \n",
      "converged\n"
     ]
    },
    {
     "name": "stderr",
     "output_type": "stream",
     "text": [
      "`stat_bindot()` using `bins = 30`. Pick better value with `binwidth`.\n",
      "`stat_bindot()` using `bins = 30`. Pick better value with `binwidth`.\n",
      "`stat_bindot()` using `bins = 30`. Pick better value with `binwidth`.\n"
     ]
    },
    {
     "name": "stdout",
     "output_type": "stream",
     "text": [
      "[1] \"Processing subject: 436277195\"\n",
      "initial  value 22.206995 \n",
      "iter   5 value 18.191258\n",
      "iter  10 value 16.853350\n",
      "final  value 16.791085 \n",
      "converged\n",
      "initial  value 25.023345 \n",
      "iter   5 value 20.113992\n",
      "final  value 19.730187 \n",
      "converged\n",
      "initial  value 29.344079 \n",
      "iter   5 value 23.084702\n",
      "iter  10 value 22.210997\n",
      "final  value 22.167186 \n",
      "converged\n"
     ]
    },
    {
     "name": "stderr",
     "output_type": "stream",
     "text": [
      "`stat_bindot()` using `bins = 30`. Pick better value with `binwidth`.\n",
      "`stat_bindot()` using `bins = 30`. Pick better value with `binwidth`.\n",
      "`stat_bindot()` using `bins = 30`. Pick better value with `binwidth`.\n"
     ]
    },
    {
     "name": "stdout",
     "output_type": "stream",
     "text": [
      "[1] \"Processing subject: 446124706\"\n",
      "initial  value 26.669025 \n",
      "iter   5 value 19.163198\n",
      "iter  10 value 17.539338\n",
      "iter  10 value 17.530170\n",
      "iter  10 value 17.523182\n",
      "final  value 17.523182 \n",
      "converged\n",
      "initial  value 19.989720 \n",
      "iter   5 value 13.255245\n",
      "iter  10 value 12.519105\n",
      "final  value 12.496274 \n",
      "converged\n",
      "initial  value 15.650823 \n",
      "iter   5 value 10.855854\n",
      "final  value 10.759385 \n",
      "converged\n"
     ]
    },
    {
     "name": "stderr",
     "output_type": "stream",
     "text": [
      "`stat_bindot()` using `bins = 30`. Pick better value with `binwidth`.\n",
      "`stat_bindot()` using `bins = 30`. Pick better value with `binwidth`.\n",
      "`stat_bindot()` using `bins = 30`. Pick better value with `binwidth`.\n"
     ]
    },
    {
     "name": "stdout",
     "output_type": "stream",
     "text": [
      "[1] \"Processing subject: 455190012\"\n",
      "initial  value 23.414424 \n",
      "iter   5 value 19.396688\n",
      "final  value 18.952523 \n",
      "converged\n",
      "initial  value 17.989851 \n",
      "iter   5 value 12.333406\n",
      "iter  10 value 11.885233\n",
      "iter  10 value 11.881314\n",
      "iter  10 value 11.879455\n",
      "final  value 11.879455 \n",
      "converged\n",
      "initial  value 26.938968 \n",
      "iter   5 value 21.150935\n",
      "final  value 20.902533 \n",
      "converged\n"
     ]
    },
    {
     "name": "stderr",
     "output_type": "stream",
     "text": [
      "`stat_bindot()` using `bins = 30`. Pick better value with `binwidth`.\n",
      "`stat_bindot()` using `bins = 30`. Pick better value with `binwidth`.\n",
      "`stat_bindot()` using `bins = 30`. Pick better value with `binwidth`.\n"
     ]
    },
    {
     "name": "stdout",
     "output_type": "stream",
     "text": [
      "[1] \"Processing subject: 491486781\"\n",
      "initial  value 25.982712 \n",
      "iter   5 value 16.702704\n",
      "final  value 16.663098 \n",
      "converged\n",
      "initial  value 17.726735 \n",
      "iter   5 value 11.862869\n",
      "final  value 11.829021 \n",
      "converged\n"
     ]
    },
    {
     "name": "stderr",
     "output_type": "stream",
     "text": [
      "`stat_bindot()` using `bins = 30`. Pick better value with `binwidth`.\n",
      "`stat_bindot()` using `bins = 30`. Pick better value with `binwidth`.\n"
     ]
    },
    {
     "name": "stdout",
     "output_type": "stream",
     "text": [
      "[1] \"Processing subject: 501308383\"\n",
      "initial  value 20.327870 \n",
      "iter   5 value 15.353373\n",
      "final  value 14.620567 \n",
      "converged\n",
      "initial  value 28.608312 \n",
      "final  value 20.965754 \n",
      "converged\n"
     ]
    },
    {
     "name": "stderr",
     "output_type": "stream",
     "text": [
      "`stat_bindot()` using `bins = 30`. Pick better value with `binwidth`.\n",
      "`stat_bindot()` using `bins = 30`. Pick better value with `binwidth`.\n"
     ]
    },
    {
     "name": "stdout",
     "output_type": "stream",
     "text": [
      "[1] \"Processing subject: 506900943\"\n",
      "initial  value 17.182742 \n",
      "iter   5 value 11.186319\n",
      "final  value 10.970325 \n",
      "converged\n",
      "initial  value 26.164034 \n",
      "iter   5 value 17.967925\n",
      "final  value 16.665466 \n",
      "converged\n"
     ]
    },
    {
     "name": "stderr",
     "output_type": "stream",
     "text": [
      "`stat_bindot()` using `bins = 30`. Pick better value with `binwidth`.\n",
      "`stat_bindot()` using `bins = 30`. Pick better value with `binwidth`.\n"
     ]
    },
    {
     "name": "stdout",
     "output_type": "stream",
     "text": [
      "[1] \"Processing subject: 513502401\"\n",
      "initial  value 8.889781 \n",
      "iter   5 value 5.925730\n",
      "final  value 5.916428 \n",
      "converged\n",
      "initial  value 10.305908 \n",
      "iter   5 value 6.055092\n",
      "iter  10 value 5.860977\n",
      "iter  10 value 5.857546\n",
      "iter  10 value 5.857222\n",
      "final  value 5.857222 \n",
      "converged\n"
     ]
    },
    {
     "name": "stderr",
     "output_type": "stream",
     "text": [
      "`stat_bindot()` using `bins = 30`. Pick better value with `binwidth`.\n",
      "`stat_bindot()` using `bins = 30`. Pick better value with `binwidth`.\n"
     ]
    },
    {
     "name": "stdout",
     "output_type": "stream",
     "text": [
      "[1] \"Processing subject: 533236445\"\n",
      "initial  value 24.599427 \n",
      "iter   5 value 18.885447\n",
      "final  value 18.820596 \n",
      "converged\n",
      "initial  value 19.886037 \n",
      "iter   5 value 13.572619\n",
      "final  value 13.528815 \n",
      "converged\n",
      "initial  value 22.061617 \n",
      "iter   5 value 16.924151\n",
      "iter  10 value 16.244582\n",
      "final  value 16.210421 \n",
      "converged\n"
     ]
    },
    {
     "name": "stderr",
     "output_type": "stream",
     "text": [
      "`stat_bindot()` using `bins = 30`. Pick better value with `binwidth`.\n",
      "`stat_bindot()` using `bins = 30`. Pick better value with `binwidth`.\n",
      "`stat_bindot()` using `bins = 30`. Pick better value with `binwidth`.\n"
     ]
    },
    {
     "name": "stdout",
     "output_type": "stream",
     "text": [
      "[1] \"Processing subject: 538718181\"\n",
      "initial  value 28.432436 \n",
      "iter   5 value 17.929577\n",
      "final  value 17.743859 \n",
      "converged\n",
      "initial  value 23.863531 \n",
      "iter   5 value 17.282043\n",
      "iter  10 value 16.007314\n",
      "iter  15 value 15.319115\n",
      "final  value 15.245156 \n",
      "converged\n"
     ]
    },
    {
     "name": "stderr",
     "output_type": "stream",
     "text": [
      "`stat_bindot()` using `bins = 30`. Pick better value with `binwidth`.\n",
      "`stat_bindot()` using `bins = 30`. Pick better value with `binwidth`.\n"
     ]
    },
    {
     "name": "stdout",
     "output_type": "stream",
     "text": [
      "[1] \"Processing subject: 571476350\"\n",
      "initial  value 11.763559 \n",
      "iter   5 value 8.017109\n",
      "final  value 7.656340 \n",
      "converged\n",
      "initial  value 12.626242 \n",
      "iter   5 value 8.824452\n",
      "final  value 8.802340 \n",
      "converged\n",
      "initial  value 20.972735 \n",
      "iter   5 value 15.193596\n",
      "final  value 14.980593 \n",
      "converged\n"
     ]
    },
    {
     "name": "stderr",
     "output_type": "stream",
     "text": [
      "`stat_bindot()` using `bins = 30`. Pick better value with `binwidth`.\n",
      "`stat_bindot()` using `bins = 30`. Pick better value with `binwidth`.\n",
      "`stat_bindot()` using `bins = 30`. Pick better value with `binwidth`.\n"
     ]
    },
    {
     "name": "stdout",
     "output_type": "stream",
     "text": [
      "[1] \"Processing subject: 578969802\"\n",
      "initial  value 26.175049 \n",
      "iter   5 value 9.024783\n",
      "final  value 8.563995 \n",
      "converged\n",
      "initial  value 25.701499 \n",
      "iter   5 value 15.857539\n",
      "final  value 15.107836 \n",
      "converged\n",
      "initial  value 29.846311 \n",
      "iter   5 value 18.980628\n",
      "final  value 16.808179 \n",
      "converged\n"
     ]
    },
    {
     "name": "stderr",
     "output_type": "stream",
     "text": [
      "`stat_bindot()` using `bins = 30`. Pick better value with `binwidth`.\n",
      "`stat_bindot()` using `bins = 30`. Pick better value with `binwidth`.\n",
      "`stat_bindot()` using `bins = 30`. Pick better value with `binwidth`.\n"
     ]
    },
    {
     "name": "stdout",
     "output_type": "stream",
     "text": [
      "[1] \"Processing subject: 581687652\"\n",
      "initial  value 18.451551 \n",
      "iter   5 value 11.276136\n",
      "final  value 11.226710 \n",
      "converged\n",
      "initial  value 24.743045 \n",
      "iter   5 value 18.934926\n",
      "iter  10 value 16.416034\n",
      "iter  15 value 15.098818\n",
      "final  value 15.027492 \n",
      "converged\n"
     ]
    },
    {
     "name": "stderr",
     "output_type": "stream",
     "text": [
      "`stat_bindot()` using `bins = 30`. Pick better value with `binwidth`.\n",
      "`stat_bindot()` using `bins = 30`. Pick better value with `binwidth`.\n"
     ]
    },
    {
     "name": "stdout",
     "output_type": "stream",
     "text": [
      "[1] \"Processing subject: 600716299\"\n",
      "initial  value 25.829401 \n",
      "iter   5 value 22.233660\n",
      "iter  10 value 21.565405\n",
      "iter  15 value 19.658262\n",
      "iter  20 value 18.674547\n",
      "iter  20 value 18.662612\n",
      "iter  20 value 18.662292\n",
      "final  value 18.662292 \n",
      "converged\n",
      "initial  value 15.464864 \n",
      "iter   5 value 10.402258\n",
      "final  value 10.263740 \n",
      "converged\n",
      "initial  value 20.140326 \n",
      "iter   5 value 13.834487\n",
      "iter  10 value 12.584276\n",
      "final  value 12.532392 \n",
      "converged\n"
     ]
    },
    {
     "name": "stderr",
     "output_type": "stream",
     "text": [
      "`stat_bindot()` using `bins = 30`. Pick better value with `binwidth`.\n",
      "`stat_bindot()` using `bins = 30`. Pick better value with `binwidth`.\n",
      "`stat_bindot()` using `bins = 30`. Pick better value with `binwidth`.\n"
     ]
    },
    {
     "name": "stdout",
     "output_type": "stream",
     "text": [
      "[1] \"Processing subject: 612349584\"\n",
      "initial  value 35.674847 \n",
      "iter   5 value 18.474338\n",
      "iter  10 value 11.623855\n",
      "iter  15 value 9.914676\n",
      "final  value 9.893371 \n",
      "converged\n",
      "initial  value 29.450819 \n",
      "iter   5 value 17.403905\n",
      "iter  10 value 14.558192\n",
      "final  value 14.105589 \n",
      "converged\n",
      "initial  value 20.803526 \n",
      "iter   5 value 8.235735\n",
      "iter  10 value 7.448181\n",
      "iter  10 value 7.445547\n",
      "iter  10 value 7.445547\n",
      "final  value 7.445547 \n",
      "converged\n"
     ]
    },
    {
     "name": "stderr",
     "output_type": "stream",
     "text": [
      "`stat_bindot()` using `bins = 30`. Pick better value with `binwidth`.\n",
      "`stat_bindot()` using `bins = 30`. Pick better value with `binwidth`.\n",
      "`stat_bindot()` using `bins = 30`. Pick better value with `binwidth`.\n"
     ]
    },
    {
     "name": "stdout",
     "output_type": "stream",
     "text": [
      "[1] \"Processing subject: 618946141\"\n",
      "initial  value 20.605019 \n",
      "iter   5 value 17.065194\n",
      "final  value 16.935998 \n",
      "converged\n",
      "initial  value 24.151765 \n",
      "iter   5 value 17.797522\n",
      "final  value 17.668167 \n",
      "converged\n",
      "initial  value 18.868553 \n",
      "iter   5 value 13.510976\n",
      "final  value 13.390051 \n",
      "converged\n"
     ]
    },
    {
     "name": "stderr",
     "output_type": "stream",
     "text": [
      "`stat_bindot()` using `bins = 30`. Pick better value with `binwidth`.\n",
      "`stat_bindot()` using `bins = 30`. Pick better value with `binwidth`.\n",
      "`stat_bindot()` using `bins = 30`. Pick better value with `binwidth`.\n"
     ]
    },
    {
     "name": "stdout",
     "output_type": "stream",
     "text": [
      "[1] \"Processing subject: 631271615\"\n",
      "initial  value 12.180223 \n",
      "iter   5 value 6.018510\n",
      "iter  10 value 5.499061\n",
      "final  value 5.458474 \n",
      "converged\n",
      "initial  value 16.740767 \n",
      "iter   5 value 8.110455\n",
      "iter  10 value 5.908602\n",
      "iter  15 value 5.635139\n",
      "final  value 5.628060 \n",
      "converged\n",
      "initial  value 14.234010 \n",
      "iter   5 value 9.128661\n",
      "iter  10 value 8.469181\n",
      "final  value 8.436883 \n",
      "converged\n"
     ]
    },
    {
     "name": "stderr",
     "output_type": "stream",
     "text": [
      "`stat_bindot()` using `bins = 30`. Pick better value with `binwidth`.\n",
      "`stat_bindot()` using `bins = 30`. Pick better value with `binwidth`.\n",
      "`stat_bindot()` using `bins = 30`. Pick better value with `binwidth`.\n"
     ]
    },
    {
     "name": "stdout",
     "output_type": "stream",
     "text": [
      "[1] \"Processing subject: 637208960\"\n",
      "initial  value 26.091122 \n",
      "iter   5 value 20.506529\n",
      "final  value 20.070196 \n",
      "converged\n",
      "initial  value 21.760982 \n",
      "iter   5 value 15.768452\n",
      "iter  10 value 15.234610\n",
      "final  value 15.115795 \n",
      "converged\n",
      "initial  value 16.861817 \n",
      "iter   5 value 11.650374\n",
      "iter  10 value 10.694245\n",
      "final  value 10.570867 \n",
      "converged\n"
     ]
    },
    {
     "name": "stderr",
     "output_type": "stream",
     "text": [
      "`stat_bindot()` using `bins = 30`. Pick better value with `binwidth`.\n",
      "`stat_bindot()` using `bins = 30`. Pick better value with `binwidth`.\n",
      "`stat_bindot()` using `bins = 30`. Pick better value with `binwidth`.\n"
     ]
    },
    {
     "name": "stdout",
     "output_type": "stream",
     "text": [
      "[1] \"Processing subject: 639826396\"\n",
      "initial  value 20.463750 \n",
      "iter   5 value 14.899450\n",
      "final  value 14.785255 \n",
      "converged\n",
      "initial  value 26.515865 \n",
      "iter   5 value 20.101835\n",
      "iter  10 value 17.602683\n",
      "final  value 17.459683 \n",
      "converged\n",
      "initial  value 23.466894 \n",
      "iter   5 value 18.922157\n",
      "iter  10 value 17.644372\n",
      "iter  10 value 17.634934\n",
      "iter  10 value 17.634934\n",
      "final  value 17.634934 \n",
      "converged\n"
     ]
    },
    {
     "name": "stderr",
     "output_type": "stream",
     "text": [
      "`stat_bindot()` using `bins = 30`. Pick better value with `binwidth`.\n",
      "`stat_bindot()` using `bins = 30`. Pick better value with `binwidth`.\n",
      "`stat_bindot()` using `bins = 30`. Pick better value with `binwidth`.\n"
     ]
    },
    {
     "name": "stdout",
     "output_type": "stream",
     "text": [
      "[1] \"Processing subject: 641161221\"\n",
      "initial  value 31.654391 \n",
      "iter   5 value 24.047906\n",
      "iter  10 value 20.832464\n",
      "iter  15 value 17.503265\n",
      "iter  20 value 16.764635\n",
      "final  value 16.698328 \n",
      "converged\n",
      "initial  value 23.335985 \n",
      "iter   5 value 19.757550\n",
      "iter  10 value 18.447024\n",
      "iter  15 value 17.742059\n",
      "final  value 17.696813 \n",
      "converged\n"
     ]
    },
    {
     "name": "stderr",
     "output_type": "stream",
     "text": [
      "`stat_bindot()` using `bins = 30`. Pick better value with `binwidth`.\n",
      "`stat_bindot()` using `bins = 30`. Pick better value with `binwidth`.\n"
     ]
    },
    {
     "name": "stdout",
     "output_type": "stream",
     "text": [
      "[1] \"Processing subject: 658537675\"\n",
      "initial  value 28.805320 \n",
      "iter   5 value 21.024120\n",
      "final  value 20.290027 \n",
      "converged\n",
      "initial  value 27.138751 \n",
      "iter   5 value 16.778267\n",
      "final  value 16.106921 \n",
      "converged\n",
      "initial  value 21.493303 \n",
      "iter   5 value 14.170817\n",
      "iter  10 value 13.846229\n",
      "iter  10 value 13.837365\n",
      "iter  10 value 13.833719\n",
      "final  value 13.833719 \n",
      "converged\n"
     ]
    },
    {
     "name": "stderr",
     "output_type": "stream",
     "text": [
      "`stat_bindot()` using `bins = 30`. Pick better value with `binwidth`.\n",
      "`stat_bindot()` using `bins = 30`. Pick better value with `binwidth`.\n",
      "`stat_bindot()` using `bins = 30`. Pick better value with `binwidth`.\n"
     ]
    },
    {
     "name": "stdout",
     "output_type": "stream",
     "text": [
      "[1] \"Processing subject: 658938948\"\n",
      "initial  value 23.509619 \n",
      "iter   5 value 15.403035\n",
      "iter  10 value 14.074832\n",
      "final  value 14.025586 \n",
      "converged\n",
      "initial  value 25.050238 \n",
      "iter   5 value 18.333205\n",
      "iter  10 value 17.910872\n",
      "final  value 17.802157 \n",
      "converged\n",
      "initial  value 20.311020 \n",
      "iter   5 value 11.120996\n",
      "final  value 11.080901 \n",
      "converged\n"
     ]
    },
    {
     "name": "stderr",
     "output_type": "stream",
     "text": [
      "`stat_bindot()` using `bins = 30`. Pick better value with `binwidth`.\n",
      "`stat_bindot()` using `bins = 30`. Pick better value with `binwidth`.\n",
      "`stat_bindot()` using `bins = 30`. Pick better value with `binwidth`.\n"
     ]
    },
    {
     "name": "stdout",
     "output_type": "stream",
     "text": [
      "[1] \"Processing subject: 663561812\"\n",
      "initial  value 25.639078 \n",
      "iter   5 value 17.443521\n",
      "iter  10 value 15.954527\n",
      "iter  15 value 15.131969\n",
      "iter  15 value 15.128356\n",
      "iter  15 value 15.128356\n",
      "final  value 15.128356 \n",
      "converged\n",
      "initial  value 18.596104 \n",
      "iter   5 value 11.838067\n",
      "iter  10 value 11.476379\n",
      "final  value 11.356169 \n",
      "converged\n",
      "initial  value 17.791661 \n",
      "iter   5 value 11.701857\n",
      "final  value 11.660658 \n",
      "converged\n"
     ]
    },
    {
     "name": "stderr",
     "output_type": "stream",
     "text": [
      "`stat_bindot()` using `bins = 30`. Pick better value with `binwidth`.\n",
      "`stat_bindot()` using `bins = 30`. Pick better value with `binwidth`.\n",
      "`stat_bindot()` using `bins = 30`. Pick better value with `binwidth`.\n"
     ]
    },
    {
     "name": "stdout",
     "output_type": "stream",
     "text": [
      "[1] \"Processing subject: 668946245\"\n",
      "initial  value 22.307309 \n",
      "iter   5 value 5.314474\n",
      "iter  10 value 2.522436\n",
      "iter  15 value 1.963083\n",
      "iter  20 value 1.871942\n",
      "final  value 1.866792 \n",
      "converged\n",
      "initial  value 24.847199 \n",
      "iter   5 value 22.062590\n",
      "iter  10 value 19.949272\n",
      "iter  15 value 9.375311\n",
      "iter  20 value 6.959725\n",
      "final  value 6.703366 \n",
      "converged\n"
     ]
    },
    {
     "name": "stderr",
     "output_type": "stream",
     "text": [
      "`stat_bindot()` using `bins = 30`. Pick better value with `binwidth`.\n",
      "`stat_bindot()` using `bins = 30`. Pick better value with `binwidth`.\n"
     ]
    },
    {
     "name": "stdout",
     "output_type": "stream",
     "text": [
      "[1] \"Processing subject: 669812533\"\n",
      "initial  value 23.919692 \n",
      "iter   5 value 19.947616\n",
      "iter  10 value 19.124481\n",
      "final  value 19.097772 \n",
      "converged\n",
      "initial  value 30.594144 \n",
      "iter   5 value 23.432307\n",
      "iter  10 value 23.051642\n",
      "iter  15 value 22.146815\n",
      "iter  20 value 16.793910\n",
      "iter  25 value 16.292715\n",
      "final  value 16.258223 \n",
      "converged\n"
     ]
    },
    {
     "name": "stderr",
     "output_type": "stream",
     "text": [
      "`stat_bindot()` using `bins = 30`. Pick better value with `binwidth`.\n",
      "`stat_bindot()` using `bins = 30`. Pick better value with `binwidth`.\n"
     ]
    },
    {
     "name": "stdout",
     "output_type": "stream",
     "text": [
      "[1] \"Processing subject: 679733741\"\n",
      "initial  value 14.917728 \n",
      "iter   5 value 9.094278\n",
      "iter  10 value 8.604439\n",
      "iter  15 value 8.427188\n",
      "final  value 8.354861 \n",
      "converged\n",
      "initial  value 11.099855 \n",
      "iter   5 value 7.280410\n",
      "final  value 7.221195 \n",
      "converged\n"
     ]
    },
    {
     "name": "stderr",
     "output_type": "stream",
     "text": [
      "`stat_bindot()` using `bins = 30`. Pick better value with `binwidth`.\n",
      "`stat_bindot()` using `bins = 30`. Pick better value with `binwidth`.\n"
     ]
    },
    {
     "name": "stdout",
     "output_type": "stream",
     "text": [
      "[1] \"Processing subject: 694064682\"\n",
      "initial  value 28.803837 \n",
      "iter   5 value 21.939943\n",
      "iter  10 value 21.295775\n",
      "final  value 20.796635 \n",
      "converged\n",
      "initial  value 22.858067 \n",
      "iter   5 value 21.014651\n",
      "final  value 20.967830 \n",
      "converged\n",
      "initial  value 24.106197 \n",
      "iter   5 value 17.145531\n",
      "iter  10 value 15.413811\n",
      "final  value 14.614151 \n",
      "converged\n"
     ]
    },
    {
     "name": "stderr",
     "output_type": "stream",
     "text": [
      "`stat_bindot()` using `bins = 30`. Pick better value with `binwidth`.\n",
      "`stat_bindot()` using `bins = 30`. Pick better value with `binwidth`.\n",
      "`stat_bindot()` using `bins = 30`. Pick better value with `binwidth`.\n"
     ]
    },
    {
     "name": "stdout",
     "output_type": "stream",
     "text": [
      "[1] \"Processing subject: 700268324\"\n",
      "initial  value 15.871557 \n",
      "iter   5 value 10.777452\n",
      "final  value 10.678866 \n",
      "converged\n",
      "initial  value 20.391308 \n",
      "iter   5 value 15.883311\n",
      "iter   5 value 15.882831\n",
      "iter   5 value 15.882831\n",
      "final  value 15.882831 \n",
      "converged\n",
      "initial  value 20.666386 \n",
      "iter   5 value 18.119514\n",
      "final  value 18.040942 \n",
      "converged\n"
     ]
    },
    {
     "name": "stderr",
     "output_type": "stream",
     "text": [
      "`stat_bindot()` using `bins = 30`. Pick better value with `binwidth`.\n",
      "`stat_bindot()` using `bins = 30`. Pick better value with `binwidth`.\n",
      "`stat_bindot()` using `bins = 30`. Pick better value with `binwidth`.\n"
     ]
    },
    {
     "name": "stdout",
     "output_type": "stream",
     "text": [
      "[1] \"Processing subject: 712383278\"\n",
      "initial  value 24.907105 \n",
      "iter   5 value 14.008824\n",
      "iter  10 value 13.389816\n",
      "final  value 13.366626 \n",
      "converged\n",
      "initial  value 20.845754 \n",
      "iter   5 value 14.992708\n",
      "iter  10 value 14.237048\n",
      "final  value 13.900809 \n",
      "converged\n",
      "initial  value 22.046182 \n",
      "iter   5 value 16.796806\n",
      "final  value 16.442086 \n",
      "converged\n"
     ]
    },
    {
     "name": "stderr",
     "output_type": "stream",
     "text": [
      "`stat_bindot()` using `bins = 30`. Pick better value with `binwidth`.\n",
      "`stat_bindot()` using `bins = 30`. Pick better value with `binwidth`.\n",
      "`stat_bindot()` using `bins = 30`. Pick better value with `binwidth`.\n"
     ]
    },
    {
     "name": "stdout",
     "output_type": "stream",
     "text": [
      "[1] \"Processing subject: 715861269\"\n",
      "initial  value 27.689665 \n",
      "iter   5 value 21.395330\n",
      "iter  10 value 19.859240\n",
      "final  value 19.675365 \n",
      "converged\n",
      "initial  value 17.789650 \n",
      "iter   5 value 14.399303\n",
      "iter  10 value 13.933759\n",
      "iter  10 value 13.933718\n",
      "iter  10 value 13.933718\n",
      "final  value 13.933718 \n",
      "converged\n",
      "initial  value 27.809969 \n",
      "iter   5 value 17.584798\n",
      "iter  10 value 16.639577\n",
      "iter  10 value 16.638660\n",
      "iter  10 value 16.638660\n",
      "final  value 16.638660 \n",
      "converged\n"
     ]
    },
    {
     "name": "stderr",
     "output_type": "stream",
     "text": [
      "`stat_bindot()` using `bins = 30`. Pick better value with `binwidth`.\n",
      "`stat_bindot()` using `bins = 30`. Pick better value with `binwidth`.\n",
      "`stat_bindot()` using `bins = 30`. Pick better value with `binwidth`.\n"
     ]
    },
    {
     "name": "stdout",
     "output_type": "stream",
     "text": [
      "[1] \"Processing subject: 741453790\"\n",
      "initial  value 38.270351 \n",
      "iter   5 value 24.845564\n",
      "iter  10 value 21.741025\n",
      "iter  15 value 18.162123\n",
      "final  value 17.610351 \n",
      "converged\n",
      "initial  value 31.723254 \n",
      "iter   5 value 21.650413\n",
      "iter  10 value 21.096035\n",
      "iter  10 value 21.085733\n",
      "iter  10 value 21.081643\n",
      "final  value 21.081643 \n",
      "converged\n"
     ]
    },
    {
     "name": "stderr",
     "output_type": "stream",
     "text": [
      "`stat_bindot()` using `bins = 30`. Pick better value with `binwidth`.\n",
      "`stat_bindot()` using `bins = 30`. Pick better value with `binwidth`.\n"
     ]
    },
    {
     "name": "stdout",
     "output_type": "stream",
     "text": [
      "[1] \"Processing subject: 742254729\"\n",
      "initial  value 19.029766 \n",
      "iter   5 value 10.784848\n",
      "final  value 10.265824 \n",
      "converged\n",
      "initial  value 17.198308 \n",
      "iter   5 value 11.381995\n",
      "iter  10 value 11.006844\n",
      "final  value 10.937078 \n",
      "converged\n",
      "initial  value 18.962680 \n",
      "iter   5 value 16.213151\n",
      "final  value 16.134210 \n",
      "converged\n"
     ]
    },
    {
     "name": "stderr",
     "output_type": "stream",
     "text": [
      "`stat_bindot()` using `bins = 30`. Pick better value with `binwidth`.\n",
      "`stat_bindot()` using `bins = 30`. Pick better value with `binwidth`.\n",
      "`stat_bindot()` using `bins = 30`. Pick better value with `binwidth`.\n"
     ]
    },
    {
     "name": "stdout",
     "output_type": "stream",
     "text": [
      "[1] \"Processing subject: 753646021\"\n",
      "initial  value 10.681549 \n",
      "iter   5 value 8.817766\n",
      "iter  10 value 8.462870\n",
      "iter  15 value 8.253051\n",
      "iter  15 value 8.247058\n",
      "iter  15 value 8.246595\n",
      "final  value 8.246595 \n",
      "converged\n",
      "initial  value 25.376519 \n",
      "iter   5 value 19.663899\n",
      "iter  10 value 18.022448\n",
      "final  value 17.991271 \n",
      "converged\n"
     ]
    },
    {
     "name": "stderr",
     "output_type": "stream",
     "text": [
      "`stat_bindot()` using `bins = 30`. Pick better value with `binwidth`.\n",
      "`stat_bindot()` using `bins = 30`. Pick better value with `binwidth`.\n"
     ]
    },
    {
     "name": "stdout",
     "output_type": "stream",
     "text": [
      "[1] \"Processing subject: 775037105\"\n",
      "initial  value 21.223019 \n",
      "iter   5 value 18.082655\n",
      "final  value 17.997520 \n",
      "converged\n",
      "initial  value 27.277417 \n",
      "iter   5 value 16.563400\n",
      "final  value 16.124827 \n",
      "converged\n"
     ]
    },
    {
     "name": "stderr",
     "output_type": "stream",
     "text": [
      "`stat_bindot()` using `bins = 30`. Pick better value with `binwidth`.\n",
      "`stat_bindot()` using `bins = 30`. Pick better value with `binwidth`.\n"
     ]
    },
    {
     "name": "stdout",
     "output_type": "stream",
     "text": [
      "[1] \"Processing subject: 781825050\"\n",
      "initial  value 22.317807 \n",
      "iter   5 value 18.825833\n",
      "final  value 18.628300 \n",
      "converged\n",
      "initial  value 24.092185 \n",
      "iter   5 value 17.394769\n",
      "final  value 17.330436 \n",
      "converged\n",
      "initial  value 26.226722 \n",
      "iter   5 value 18.947378\n",
      "iter  10 value 17.339694\n",
      "iter  10 value 17.323348\n",
      "iter  10 value 17.323348\n",
      "final  value 17.323348 \n",
      "converged\n"
     ]
    },
    {
     "name": "stderr",
     "output_type": "stream",
     "text": [
      "`stat_bindot()` using `bins = 30`. Pick better value with `binwidth`.\n",
      "`stat_bindot()` using `bins = 30`. Pick better value with `binwidth`.\n",
      "`stat_bindot()` using `bins = 30`. Pick better value with `binwidth`.\n"
     ]
    },
    {
     "name": "stdout",
     "output_type": "stream",
     "text": [
      "[1] \"Processing subject: 782214882\"\n",
      "initial  value 22.151451 \n",
      "iter   5 value 17.429881\n",
      "iter  10 value 15.301929\n",
      "final  value 15.238609 \n",
      "converged\n",
      "initial  value 9.553696 \n",
      "iter   5 value 3.168705\n",
      "iter  10 value 1.427570\n",
      "iter  15 value 0.828372\n",
      "iter  20 value 0.328895\n",
      "iter  25 value 0.139469\n",
      "iter  30 value 0.071341\n",
      "iter  35 value 0.025006\n",
      "final  value 0.007976 \n",
      "converged\n",
      "initial  value 13.634355 \n",
      "iter   5 value 10.338817\n",
      "final  value 10.303143 \n",
      "converged\n"
     ]
    },
    {
     "name": "stderr",
     "output_type": "stream",
     "text": [
      "`stat_bindot()` using `bins = 30`. Pick better value with `binwidth`.\n",
      "`stat_bindot()` using `bins = 30`. Pick better value with `binwidth`.\n",
      "`stat_bindot()` using `bins = 30`. Pick better value with `binwidth`.\n"
     ]
    },
    {
     "name": "stdout",
     "output_type": "stream",
     "text": [
      "[1] \"Processing subject: 787750145\"\n",
      "initial  value 13.172949 \n",
      "iter   5 value 7.349971\n",
      "iter  10 value 6.943368\n",
      "final  value 6.881498 \n",
      "converged\n",
      "initial  value 9.517285 \n",
      "iter   5 value 6.078424\n",
      "final  value 5.969810 \n",
      "converged\n",
      "initial  value 15.060874 \n",
      "iter   5 value 7.872568\n",
      "final  value 7.838983 \n",
      "converged\n"
     ]
    },
    {
     "name": "stderr",
     "output_type": "stream",
     "text": [
      "`stat_bindot()` using `bins = 30`. Pick better value with `binwidth`.\n",
      "`stat_bindot()` using `bins = 30`. Pick better value with `binwidth`.\n",
      "`stat_bindot()` using `bins = 30`. Pick better value with `binwidth`.\n"
     ]
    },
    {
     "name": "stdout",
     "output_type": "stream",
     "text": [
      "[1] \"Processing subject: 803219623\"\n",
      "initial  value 21.224918 \n",
      "iter   5 value 15.942609\n",
      "final  value 15.918209 \n",
      "converged\n",
      "initial  value 21.092582 \n",
      "iter   5 value 16.579395\n",
      "final  value 16.419752 \n",
      "converged\n",
      "initial  value 22.599104 \n",
      "iter   5 value 18.636065\n",
      "final  value 18.529851 \n",
      "converged\n"
     ]
    },
    {
     "name": "stderr",
     "output_type": "stream",
     "text": [
      "`stat_bindot()` using `bins = 30`. Pick better value with `binwidth`.\n",
      "`stat_bindot()` using `bins = 30`. Pick better value with `binwidth`.\n",
      "`stat_bindot()` using `bins = 30`. Pick better value with `binwidth`.\n"
     ]
    },
    {
     "name": "stdout",
     "output_type": "stream",
     "text": [
      "[1] \"Processing subject: 809668683\"\n",
      "initial  value 7.251125 \n",
      "iter   5 value 3.854772\n",
      "iter  10 value 3.252528\n",
      "iter  15 value 2.766959\n",
      "iter  20 value 2.424337\n",
      "final  value 2.397641 \n",
      "converged\n",
      "initial  value 3.522200 \n",
      "iter   5 value 2.182920\n",
      "iter  10 value 1.796091\n",
      "final  value 1.772235 \n",
      "converged\n",
      "initial  value 18.895919 \n",
      "iter   5 value 13.360601\n",
      "iter  10 value 9.818110\n",
      "iter  10 value 9.814349\n",
      "iter  10 value 9.812334\n",
      "final  value 9.812334 \n",
      "converged\n"
     ]
    },
    {
     "name": "stderr",
     "output_type": "stream",
     "text": [
      "`stat_bindot()` using `bins = 30`. Pick better value with `binwidth`.\n",
      "`stat_bindot()` using `bins = 30`. Pick better value with `binwidth`.\n",
      "`stat_bindot()` using `bins = 30`. Pick better value with `binwidth`.\n"
     ]
    },
    {
     "name": "stdout",
     "output_type": "stream",
     "text": [
      "[1] \"Processing subject: 810831200\"\n",
      "initial  value 26.867960 \n",
      "iter   5 value 20.768806\n",
      "final  value 20.721614 \n",
      "converged\n",
      "initial  value 29.884090 \n",
      "iter   5 value 22.904775\n",
      "iter  10 value 21.328583\n",
      "iter  10 value 21.312388\n",
      "iter  10 value 21.312388\n",
      "final  value 21.312388 \n",
      "converged\n",
      "initial  value 28.946019 \n",
      "iter   5 value 23.130315\n",
      "iter  10 value 21.134161\n",
      "final  value 20.754680 \n",
      "converged\n"
     ]
    },
    {
     "name": "stderr",
     "output_type": "stream",
     "text": [
      "`stat_bindot()` using `bins = 30`. Pick better value with `binwidth`.\n",
      "`stat_bindot()` using `bins = 30`. Pick better value with `binwidth`.\n",
      "`stat_bindot()` using `bins = 30`. Pick better value with `binwidth`.\n"
     ]
    },
    {
     "name": "stdout",
     "output_type": "stream",
     "text": [
      "[1] \"Processing subject: 856353257\"\n",
      "initial  value 23.807951 \n",
      "iter   5 value 18.530820\n",
      "iter  10 value 17.119560\n",
      "final  value 16.999261 \n",
      "converged\n",
      "initial  value 21.026769 \n",
      "iter   5 value 15.948357\n",
      "iter  10 value 15.520859\n",
      "final  value 15.474182 \n",
      "converged\n",
      "initial  value 26.566966 \n",
      "iter   5 value 18.330291\n",
      "final  value 17.854479 \n",
      "converged\n"
     ]
    },
    {
     "name": "stderr",
     "output_type": "stream",
     "text": [
      "`stat_bindot()` using `bins = 30`. Pick better value with `binwidth`.\n",
      "`stat_bindot()` using `bins = 30`. Pick better value with `binwidth`.\n",
      "`stat_bindot()` using `bins = 30`. Pick better value with `binwidth`.\n"
     ]
    },
    {
     "name": "stdout",
     "output_type": "stream",
     "text": [
      "[1] \"Processing subject: 865463691\"\n",
      "initial  value 29.040328 \n",
      "iter   5 value 18.739126\n",
      "iter  10 value 16.833689\n",
      "iter  10 value 16.817559\n",
      "iter  10 value 16.817559\n",
      "final  value 16.817559 \n",
      "converged\n",
      "initial  value 26.842775 \n",
      "iter   5 value 19.365051\n",
      "final  value 18.459667 \n",
      "converged\n"
     ]
    },
    {
     "name": "stderr",
     "output_type": "stream",
     "text": [
      "`stat_bindot()` using `bins = 30`. Pick better value with `binwidth`.\n",
      "`stat_bindot()` using `bins = 30`. Pick better value with `binwidth`.\n"
     ]
    },
    {
     "name": "stdout",
     "output_type": "stream",
     "text": [
      "[1] \"Processing subject: 870248951\"\n",
      "initial  value 29.260209 \n",
      "iter   5 value 17.770801\n",
      "final  value 17.661291 \n",
      "converged\n",
      "initial  value 22.787104 \n",
      "iter   5 value 21.258906\n",
      "iter  10 value 20.588492\n",
      "iter  15 value 18.791418\n",
      "iter  20 value 17.400982\n",
      "final  value 16.905506 \n",
      "converged\n",
      "initial  value 23.905956 \n",
      "iter   5 value 19.205990\n",
      "iter  10 value 16.834647\n",
      "final  value 16.419543 \n",
      "converged\n"
     ]
    },
    {
     "name": "stderr",
     "output_type": "stream",
     "text": [
      "`stat_bindot()` using `bins = 30`. Pick better value with `binwidth`.\n",
      "`stat_bindot()` using `bins = 30`. Pick better value with `binwidth`.\n",
      "`stat_bindot()` using `bins = 30`. Pick better value with `binwidth`.\n"
     ]
    },
    {
     "name": "stdout",
     "output_type": "stream",
     "text": [
      "[1] \"Processing subject: 871955349\"\n",
      "initial  value 22.154357 \n",
      "iter   5 value 18.386282\n",
      "iter  10 value 16.734392\n",
      "iter  15 value 15.591230\n",
      "final  value 15.355942 \n",
      "converged\n",
      "initial  value 28.744606 \n",
      "iter   5 value 22.355914\n",
      "iter  10 value 20.801414\n",
      "iter  15 value 19.919384\n",
      "iter  20 value 19.404381\n",
      "iter  25 value 18.421639\n",
      "iter  25 value 18.412353\n",
      "iter  25 value 18.406411\n",
      "final  value 18.406411 \n",
      "converged\n"
     ]
    },
    {
     "name": "stderr",
     "output_type": "stream",
     "text": [
      "`stat_bindot()` using `bins = 30`. Pick better value with `binwidth`.\n",
      "`stat_bindot()` using `bins = 30`. Pick better value with `binwidth`.\n"
     ]
    },
    {
     "name": "stdout",
     "output_type": "stream",
     "text": [
      "[1] \"Processing subject: 874730448\"\n",
      "initial  value 21.173616 \n",
      "iter   5 value 16.672702\n",
      "iter  10 value 12.375206\n",
      "iter  10 value 12.363813\n",
      "iter  10 value 12.363813\n",
      "final  value 12.363813 \n",
      "converged\n",
      "initial  value 15.174583 \n",
      "iter   5 value 9.205545\n",
      "final  value 8.724026 \n",
      "converged\n",
      "initial  value 5.205038 \n",
      "iter   5 value 1.203658\n",
      "iter  10 value 0.414510\n",
      "iter  15 value 0.291693\n",
      "iter  20 value 0.139867\n",
      "iter  25 value 0.039638\n",
      "iter  30 value 0.011170\n",
      "iter  30 value 0.009607\n",
      "iter  30 value 0.006004\n",
      "final  value 0.006004 \n",
      "converged\n"
     ]
    },
    {
     "name": "stderr",
     "output_type": "stream",
     "text": [
      "`stat_bindot()` using `bins = 30`. Pick better value with `binwidth`.\n",
      "`stat_bindot()` using `bins = 30`. Pick better value with `binwidth`.\n",
      "`stat_bindot()` using `bins = 30`. Pick better value with `binwidth`.\n"
     ]
    },
    {
     "name": "stdout",
     "output_type": "stream",
     "text": [
      "[1] \"Processing subject: 879081869\"\n",
      "initial  value 6.922693 \n",
      "iter   5 value 4.813788\n",
      "final  value 4.727553 \n",
      "converged\n",
      "initial  value 10.161011 \n",
      "iter   5 value 6.631754\n",
      "final  value 6.573092 \n",
      "converged\n",
      "initial  value 15.337770 \n",
      "iter   5 value 12.677960\n",
      "final  value 12.424850 \n",
      "converged\n"
     ]
    },
    {
     "name": "stderr",
     "output_type": "stream",
     "text": [
      "`stat_bindot()` using `bins = 30`. Pick better value with `binwidth`.\n",
      "`stat_bindot()` using `bins = 30`. Pick better value with `binwidth`.\n",
      "`stat_bindot()` using `bins = 30`. Pick better value with `binwidth`.\n"
     ]
    },
    {
     "name": "stdout",
     "output_type": "stream",
     "text": [
      "[1] \"Processing subject: 894951684\"\n",
      "initial  value 27.499535 \n",
      "iter   5 value 20.657985\n",
      "final  value 20.374845 \n",
      "converged\n",
      "initial  value 14.318742 \n",
      "iter   5 value 11.783466\n",
      "final  value 11.730748 \n",
      "converged\n",
      "initial  value 13.094805 \n",
      "iter   5 value 9.779465\n",
      "final  value 9.739366 \n",
      "converged\n"
     ]
    },
    {
     "name": "stderr",
     "output_type": "stream",
     "text": [
      "`stat_bindot()` using `bins = 30`. Pick better value with `binwidth`.\n",
      "`stat_bindot()` using `bins = 30`. Pick better value with `binwidth`.\n",
      "`stat_bindot()` using `bins = 30`. Pick better value with `binwidth`.\n"
     ]
    },
    {
     "name": "stdout",
     "output_type": "stream",
     "text": [
      "[1] \"Processing subject: 895082503\"\n",
      "initial  value 21.927173 \n",
      "iter   5 value 9.100413\n",
      "final  value 8.804370 \n",
      "converged\n",
      "initial  value 40.274569 \n",
      "iter   5 value 26.123612\n",
      "iter  10 value 17.202793\n",
      "iter  15 value 16.650666\n",
      "final  value 16.586995 \n",
      "converged\n"
     ]
    },
    {
     "name": "stderr",
     "output_type": "stream",
     "text": [
      "`stat_bindot()` using `bins = 30`. Pick better value with `binwidth`.\n",
      "`stat_bindot()` using `bins = 30`. Pick better value with `binwidth`.\n"
     ]
    },
    {
     "name": "stdout",
     "output_type": "stream",
     "text": [
      "[1] \"Processing subject: 896162305\"\n",
      "initial  value 19.389739 \n",
      "iter   5 value 14.695160\n",
      "final  value 14.609381 \n",
      "converged\n",
      "initial  value 24.671584 \n",
      "iter   5 value 17.888858\n",
      "iter  10 value 15.800768\n",
      "final  value 15.763289 \n",
      "converged\n",
      "initial  value 21.735638 \n",
      "iter   5 value 16.624650\n",
      "final  value 16.570726 \n",
      "converged\n"
     ]
    },
    {
     "name": "stderr",
     "output_type": "stream",
     "text": [
      "`stat_bindot()` using `bins = 30`. Pick better value with `binwidth`.\n",
      "`stat_bindot()` using `bins = 30`. Pick better value with `binwidth`.\n",
      "`stat_bindot()` using `bins = 30`. Pick better value with `binwidth`.\n"
     ]
    },
    {
     "name": "stdout",
     "output_type": "stream",
     "text": [
      "[1] \"Processing subject: 897283237\"\n",
      "initial  value 22.033215 \n",
      "iter   5 value 18.512892\n",
      "iter   5 value 18.505767\n",
      "iter   5 value 18.505767\n",
      "final  value 18.505767 \n",
      "converged\n",
      "initial  value 21.062567 \n",
      "final  value 18.834523 \n",
      "converged\n",
      "initial  value 18.933610 \n",
      "iter   5 value 14.745921\n",
      "iter   5 value 14.734670\n",
      "iter   5 value 14.728645\n",
      "final  value 14.728645 \n",
      "converged\n"
     ]
    },
    {
     "name": "stderr",
     "output_type": "stream",
     "text": [
      "`stat_bindot()` using `bins = 30`. Pick better value with `binwidth`.\n",
      "`stat_bindot()` using `bins = 30`. Pick better value with `binwidth`.\n",
      "`stat_bindot()` using `bins = 30`. Pick better value with `binwidth`.\n"
     ]
    },
    {
     "name": "stdout",
     "output_type": "stream",
     "text": [
      "[1] \"Processing subject: 902151764\"\n",
      "initial  value 26.809276 \n",
      "iter   5 value 16.839488\n",
      "final  value 16.586491 \n",
      "converged\n",
      "initial  value 24.485746 \n",
      "final  value 21.132394 \n",
      "converged\n",
      "initial  value 26.748146 \n",
      "iter   5 value 19.107249\n",
      "final  value 19.006423 \n",
      "converged\n"
     ]
    },
    {
     "name": "stderr",
     "output_type": "stream",
     "text": [
      "`stat_bindot()` using `bins = 30`. Pick better value with `binwidth`.\n",
      "`stat_bindot()` using `bins = 30`. Pick better value with `binwidth`.\n",
      "`stat_bindot()` using `bins = 30`. Pick better value with `binwidth`.\n"
     ]
    },
    {
     "name": "stdout",
     "output_type": "stream",
     "text": [
      "[1] \"Processing subject: 906755876\"\n",
      "initial  value 21.544303 \n",
      "iter   5 value 16.587096\n",
      "iter  10 value 13.608607\n",
      "iter  15 value 12.921941\n",
      "final  value 12.888839 \n",
      "converged\n",
      "initial  value 17.042710 \n",
      "iter   5 value 10.438132\n",
      "final  value 10.274766 \n",
      "converged\n",
      "initial  value 29.287975 \n",
      "iter   5 value 19.401344\n",
      "final  value 19.340529 \n",
      "converged\n"
     ]
    },
    {
     "name": "stderr",
     "output_type": "stream",
     "text": [
      "`stat_bindot()` using `bins = 30`. Pick better value with `binwidth`.\n",
      "`stat_bindot()` using `bins = 30`. Pick better value with `binwidth`.\n",
      "`stat_bindot()` using `bins = 30`. Pick better value with `binwidth`.\n"
     ]
    },
    {
     "name": "stdout",
     "output_type": "stream",
     "text": [
      "[1] \"Processing subject: 914239552\"\n",
      "initial  value 22.183883 \n",
      "iter   5 value 15.592901\n",
      "final  value 15.531148 \n",
      "converged\n",
      "initial  value 25.903856 \n",
      "iter   5 value 20.222797\n",
      "iter  10 value 19.749517\n",
      "iter  10 value 19.737271\n",
      "iter  10 value 19.735644\n",
      "final  value 19.735644 \n",
      "converged\n"
     ]
    },
    {
     "name": "stderr",
     "output_type": "stream",
     "text": [
      "`stat_bindot()` using `bins = 30`. Pick better value with `binwidth`.\n",
      "`stat_bindot()` using `bins = 30`. Pick better value with `binwidth`.\n"
     ]
    },
    {
     "name": "stdout",
     "output_type": "stream",
     "text": [
      "[1] \"Processing subject: 918087988\"\n",
      "initial  value 27.587826 \n",
      "iter   5 value 24.032769\n",
      "iter  10 value 23.159517\n",
      "iter  15 value 22.417220\n",
      "final  value 22.344992 \n",
      "converged\n",
      "initial  value 28.171999 \n",
      "iter   5 value 20.743515\n",
      "iter  10 value 19.640245\n",
      "final  value 19.586112 \n",
      "converged\n",
      "initial  value 26.106048 \n",
      "iter   5 value 17.891467\n",
      "iter  10 value 15.824728\n",
      "final  value 15.774121 \n",
      "converged\n"
     ]
    },
    {
     "name": "stderr",
     "output_type": "stream",
     "text": [
      "`stat_bindot()` using `bins = 30`. Pick better value with `binwidth`.\n",
      "`stat_bindot()` using `bins = 30`. Pick better value with `binwidth`.\n",
      "`stat_bindot()` using `bins = 30`. Pick better value with `binwidth`.\n"
     ]
    },
    {
     "name": "stdout",
     "output_type": "stream",
     "text": [
      "[1] \"Processing subject: 920351409\"\n",
      "initial  value 22.474543 \n",
      "iter   5 value 14.754225\n",
      "final  value 14.529890 \n",
      "converged\n",
      "initial  value 31.269428 \n",
      "iter   5 value 23.348739\n",
      "iter  10 value 19.774250\n",
      "iter  15 value 17.241503\n",
      "iter  15 value 17.233924\n",
      "iter  15 value 17.232723\n",
      "final  value 17.232723 \n",
      "converged\n"
     ]
    },
    {
     "name": "stderr",
     "output_type": "stream",
     "text": [
      "`stat_bindot()` using `bins = 30`. Pick better value with `binwidth`.\n",
      "`stat_bindot()` using `bins = 30`. Pick better value with `binwidth`.\n"
     ]
    },
    {
     "name": "stdout",
     "output_type": "stream",
     "text": [
      "[1] \"Processing subject: 920704473\"\n",
      "initial  value 24.440180 \n",
      "iter   5 value 20.614688\n",
      "iter  10 value 17.636489\n",
      "final  value 17.109107 \n",
      "converged\n",
      "initial  value 22.321209 \n",
      "iter   5 value 18.993474\n",
      "final  value 18.940267 \n",
      "converged\n"
     ]
    },
    {
     "name": "stderr",
     "output_type": "stream",
     "text": [
      "`stat_bindot()` using `bins = 30`. Pick better value with `binwidth`.\n",
      "`stat_bindot()` using `bins = 30`. Pick better value with `binwidth`.\n"
     ]
    },
    {
     "name": "stdout",
     "output_type": "stream",
     "text": [
      "[1] \"Processing subject: 926295504\"\n",
      "initial  value 23.067374 \n",
      "iter   5 value 16.938558\n",
      "iter  10 value 16.237041\n",
      "iter  10 value 16.224481\n",
      "iter  10 value 16.222182\n",
      "final  value 16.222182 \n",
      "converged\n",
      "initial  value 18.542322 \n",
      "iter   5 value 13.712332\n",
      "final  value 13.493739 \n",
      "converged\n",
      "initial  value 20.242691 \n",
      "iter   5 value 15.395290\n",
      "final  value 15.328866 \n",
      "converged\n"
     ]
    },
    {
     "name": "stderr",
     "output_type": "stream",
     "text": [
      "`stat_bindot()` using `bins = 30`. Pick better value with `binwidth`.\n",
      "`stat_bindot()` using `bins = 30`. Pick better value with `binwidth`.\n",
      "`stat_bindot()` using `bins = 30`. Pick better value with `binwidth`.\n"
     ]
    },
    {
     "name": "stdout",
     "output_type": "stream",
     "text": [
      "[1] \"Processing subject: 935873875\"\n",
      "initial  value 16.793420 \n",
      "iter   5 value 8.541548\n",
      "iter  10 value 8.161560\n",
      "final  value 8.110699 \n",
      "converged\n",
      "initial  value 10.098539 \n",
      "iter   5 value 5.729877\n",
      "final  value 5.658220 \n",
      "converged\n",
      "initial  value 18.362523 \n",
      "iter   5 value 12.868267\n",
      "iter   5 value 12.858914\n",
      "iter   5 value 12.858914\n",
      "final  value 12.858914 \n",
      "converged\n"
     ]
    },
    {
     "name": "stderr",
     "output_type": "stream",
     "text": [
      "`stat_bindot()` using `bins = 30`. Pick better value with `binwidth`.\n",
      "`stat_bindot()` using `bins = 30`. Pick better value with `binwidth`.\n",
      "`stat_bindot()` using `bins = 30`. Pick better value with `binwidth`.\n"
     ]
    },
    {
     "name": "stdout",
     "output_type": "stream",
     "text": [
      "[1] \"Processing subject: 938528760\"\n",
      "initial  value 11.368605 \n",
      "iter   5 value 7.137788\n",
      "iter   5 value 7.133157\n",
      "iter   5 value 7.133130\n",
      "final  value 7.133130 \n",
      "converged\n",
      "initial  value 7.733881 \n",
      "iter   5 value 4.252772\n",
      "iter  10 value 4.125452\n",
      "iter  10 value 4.121382\n",
      "iter  10 value 4.120822\n",
      "final  value 4.120822 \n",
      "converged\n",
      "initial  value 12.501121 \n",
      "final  value 7.238909 \n",
      "converged\n"
     ]
    },
    {
     "name": "stderr",
     "output_type": "stream",
     "text": [
      "`stat_bindot()` using `bins = 30`. Pick better value with `binwidth`.\n",
      "`stat_bindot()` using `bins = 30`. Pick better value with `binwidth`.\n",
      "`stat_bindot()` using `bins = 30`. Pick better value with `binwidth`.\n"
     ]
    },
    {
     "name": "stdout",
     "output_type": "stream",
     "text": [
      "[1] \"Processing subject: 939966999\"\n",
      "initial  value 26.450152 \n",
      "iter   5 value 17.858801\n",
      "iter  10 value 16.423644\n",
      "iter  15 value 15.737417\n",
      "final  value 15.689394 \n",
      "converged\n",
      "initial  value 19.306341 \n",
      "iter   5 value 13.540447\n",
      "iter  10 value 13.186465\n",
      "iter  10 value 13.175706\n",
      "iter  10 value 13.175706\n",
      "final  value 13.175706 \n",
      "converged\n"
     ]
    },
    {
     "name": "stderr",
     "output_type": "stream",
     "text": [
      "`stat_bindot()` using `bins = 30`. Pick better value with `binwidth`.\n",
      "`stat_bindot()` using `bins = 30`. Pick better value with `binwidth`.\n"
     ]
    },
    {
     "name": "stdout",
     "output_type": "stream",
     "text": [
      "[1] \"Processing subject: 941169048\"\n",
      "initial  value 20.709521 \n",
      "iter   5 value 14.049797\n",
      "iter  10 value 13.310471\n",
      "iter  10 value 13.305191\n",
      "iter  10 value 13.305191\n",
      "final  value 13.305191 \n",
      "converged\n",
      "initial  value 15.048219 \n",
      "iter   5 value 11.223155\n",
      "final  value 11.174473 \n",
      "converged\n",
      "initial  value 25.063773 \n",
      "iter   5 value 17.575934\n",
      "final  value 17.307457 \n",
      "converged\n"
     ]
    },
    {
     "name": "stderr",
     "output_type": "stream",
     "text": [
      "`stat_bindot()` using `bins = 30`. Pick better value with `binwidth`.\n",
      "`stat_bindot()` using `bins = 30`. Pick better value with `binwidth`.\n",
      "`stat_bindot()` using `bins = 30`. Pick better value with `binwidth`.\n"
     ]
    },
    {
     "name": "stdout",
     "output_type": "stream",
     "text": [
      "[1] \"Processing subject: 943936794\"\n",
      "initial  value 17.698052 \n",
      "iter   5 value 12.913103\n",
      "final  value 12.812983 \n",
      "converged\n",
      "initial  value 20.713169 \n",
      "iter   5 value 17.695235\n",
      "iter  10 value 17.391073\n",
      "iter  10 value 17.374399\n",
      "iter  10 value 17.365906\n",
      "final  value 17.365906 \n",
      "converged\n"
     ]
    },
    {
     "name": "stderr",
     "output_type": "stream",
     "text": [
      "`stat_bindot()` using `bins = 30`. Pick better value with `binwidth`.\n",
      "`stat_bindot()` using `bins = 30`. Pick better value with `binwidth`.\n"
     ]
    },
    {
     "name": "stdout",
     "output_type": "stream",
     "text": [
      "[1] \"Processing subject: 952263128\"\n",
      "initial  value 34.838921 \n",
      "iter   5 value 21.105814\n",
      "iter  10 value 15.268805\n",
      "iter  10 value 15.258510\n",
      "iter  10 value 15.257671\n",
      "final  value 15.257671 \n",
      "converged\n",
      "initial  value 38.548307 \n",
      "iter   5 value 22.747492\n",
      "iter  10 value 16.655806\n",
      "iter  15 value 16.061586\n",
      "iter  20 value 15.888362\n",
      "iter  20 value 15.881309\n",
      "iter  20 value 15.880101\n",
      "final  value 15.880101 \n",
      "converged\n",
      "initial  value 31.454423 \n",
      "iter   5 value 15.154430\n",
      "iter  10 value 12.768182\n",
      "iter  10 value 12.761181\n",
      "iter  10 value 12.761181\n",
      "final  value 12.761181 \n",
      "converged\n"
     ]
    },
    {
     "name": "stderr",
     "output_type": "stream",
     "text": [
      "`stat_bindot()` using `bins = 30`. Pick better value with `binwidth`.\n",
      "`stat_bindot()` using `bins = 30`. Pick better value with `binwidth`.\n",
      "`stat_bindot()` using `bins = 30`. Pick better value with `binwidth`.\n"
     ]
    },
    {
     "name": "stdout",
     "output_type": "stream",
     "text": [
      "[1] \"Processing subject: 954013747\"\n",
      "initial  value 26.242118 \n",
      "iter   5 value 19.399983\n",
      "iter  10 value 16.410116\n",
      "final  value 16.247739 \n",
      "converged\n",
      "initial  value 23.197830 \n",
      "iter   5 value 17.371445\n",
      "final  value 15.472548 \n",
      "converged\n",
      "initial  value 27.988873 \n",
      "iter   5 value 21.207246\n",
      "final  value 20.497596 \n",
      "converged\n"
     ]
    },
    {
     "name": "stderr",
     "output_type": "stream",
     "text": [
      "`stat_bindot()` using `bins = 30`. Pick better value with `binwidth`.\n",
      "`stat_bindot()` using `bins = 30`. Pick better value with `binwidth`.\n",
      "`stat_bindot()` using `bins = 30`. Pick better value with `binwidth`.\n"
     ]
    },
    {
     "name": "stdout",
     "output_type": "stream",
     "text": [
      "[1] \"Processing subject: 960904124\"\n",
      "initial  value 22.080893 \n",
      "iter   5 value 15.080131\n",
      "final  value 15.011215 \n",
      "converged\n",
      "initial  value 25.196013 \n",
      "iter   5 value 21.367525\n",
      "final  value 21.220125 \n",
      "converged\n"
     ]
    },
    {
     "name": "stderr",
     "output_type": "stream",
     "text": [
      "`stat_bindot()` using `bins = 30`. Pick better value with `binwidth`.\n",
      "`stat_bindot()` using `bins = 30`. Pick better value with `binwidth`.\n"
     ]
    },
    {
     "name": "stdout",
     "output_type": "stream",
     "text": [
      "[1] \"Processing subject: 986225336\"\n",
      "initial  value 20.377108 \n",
      "final  value 14.330648 \n",
      "converged\n",
      "initial  value 21.764502 \n",
      "iter   5 value 17.775308\n",
      "final  value 17.654341 \n",
      "converged\n",
      "initial  value 22.405115 \n",
      "iter   5 value 16.711923\n",
      "final  value 16.684531 \n",
      "converged\n"
     ]
    },
    {
     "name": "stderr",
     "output_type": "stream",
     "text": [
      "`stat_bindot()` using `bins = 30`. Pick better value with `binwidth`.\n",
      "`stat_bindot()` using `bins = 30`. Pick better value with `binwidth`.\n",
      "`stat_bindot()` using `bins = 30`. Pick better value with `binwidth`.\n"
     ]
    }
   ],
   "source": [
    "if(plotsubjects){\n",
    "    allsubjectsplot(datadf,savestr)\n",
    "}"
   ]
  },
  {
   "cell_type": "markdown",
   "metadata": {},
   "source": [
    "#### New mixed trial type version analysis"
   ]
  },
  {
   "cell_type": "code",
   "execution_count": 48,
   "metadata": {},
   "outputs": [],
   "source": [
    "# matrix to define layout for the mixed trial type plot\n",
    "mixed_hlay <- rbind (c(1,2,3,4,5,6),\n",
    "                     c(7,8,9,10,11,12),\n",
    "                     c(13,14,15,16,17,18))"
   ]
  },
  {
   "cell_type": "code",
   "execution_count": 49,
   "metadata": {},
   "outputs": [],
   "source": [
    "# names for the x axis\n",
    "col_plot_list <- c('FF Matrix', 'FF nMDS', 'PP Matrix', 'PP nMDS', 'RT', 'Dissim Freq')"
   ]
  },
  {
   "cell_type": "code",
   "execution_count": 50,
   "metadata": {},
   "outputs": [],
   "source": [
    "# calculate the catch trial score for a subject\n",
    "catch_score <- function(datadf){\n",
    "    datadf <- subset(datadf, trial_type == 'catch')\n",
    "    datadf$correct <- ifelse(datadf$p_confidence == datadf$catch_vals, 1, 0) # determine whether they got the catch trials right\n",
    "    score <- sum(datadf$correct)/nrow(datadf) # get the score\n",
    "    return(score)\n",
    "}"
   ]
  },
  {
   "cell_type": "code",
   "execution_count": 60,
   "metadata": {},
   "outputs": [],
   "source": [
    "# make a plot of the key summary data for a subject - mixed trial type version\n",
    "subject_mixed_plot <- function(datadf,savestr){\n",
    "    \n",
    "    dir.create(paste(savestr,\"Mixed_Trial_Type_Plots\", sep='_'))\n",
    "    subjectlist <- sort(unique(datadf$subject)) # obtain a list of all the subjects\n",
    "    \n",
    "    \n",
    "    for (subjectid in subjectlist){ # do for each subject\n",
    "        \n",
    "        k = 0 # counter\n",
    "        plot_list <- list() # list to store the plots in as we're making them\n",
    "        subjectdf = subset(datadf, subject == subjectid) # select the ID for subject of interest\n",
    "\n",
    "        for (trial_condition in trial_types){\n",
    "            type_df = subset(subjectdf, trial_type == trial_condition) # just pick one trial type at a time\n",
    "            \n",
    "            # FF Matrix plot\n",
    "            FFmatrix <- dissimplot(dissimdata(type_df, colors, l2e('Foveal'), l2e('Foveal')),colors)\n",
    "            k = k + 1\n",
    "            plot_list[[k]] <- as.grob(FFmatrix)\n",
    "            \n",
    "            # FF nMDS plot\n",
    "            FFnmds <-  nmdsplot(nmdsfit(mat2dist(df2mat(type_df,l2e('Foveal'), l2e('Foveal')))), \n",
    "                                abcolors, abcolors, l2e('Foveal'), l2e('Foveal'))\n",
    "            k = k + 1\n",
    "            plot_list[[k]] <- as.grob(FFnmds)\n",
    "\n",
    "            # PP Matrix plot\n",
    "            PPmatrix <- dissimplot(dissimdata(type_df, colors, l2e('Peripheral'), l2e('Peripheral')),colors)\n",
    "            k = k + 1\n",
    "            plot_list[[k]] <- as.grob(PPmatrix)\n",
    "\n",
    "            # PP nMDS plot\n",
    "            PPnmds <-  nmdsplot(nmdsfit(mat2dist(df2mat(type_df,l2e('Peripheral'), l2e('Peripheral')))), \n",
    "                                abcolors, abcolors, l2e('Peripheral'), l2e('Peripheral'))\n",
    "            k = k + 1\n",
    "            plot_list[[k]] <- as.grob(PPnmds)\n",
    "\n",
    "            # rt rain plot\n",
    "            rainplot <- rsplot_raincloud(type_df)\n",
    "            k = k + 1\n",
    "            plot_list[[k]] <- as.grob(rainplot)\n",
    "            # Similarity judgements\n",
    "            simplot <- simhistplot(subjectdf)\n",
    "            k = k + 1\n",
    "            plot_list[[k]] <- as.grob(simplot)\n",
    "\n",
    "        }\n",
    "\n",
    "        # save the plots\n",
    "        yaxis <- textGrob(\"Trial Type\", gp=gpar(fontsize=30), rot=90)\n",
    "        xaxis <- textGrob(\"\", gp=gpar(fontsize=30))\n",
    "\n",
    "        title <- textGrob(paste(\"ID:\",subjectid,\"|\",\"Catch Score:\",catch_score(subjectdf)),gp=gpar(fontsize=35))\n",
    "\n",
    "        g <- arrangeGrob(grobs = plot_list, ncol = 6,nrow = 3,\n",
    "                         layout_matrix = mixed_hlay)\n",
    "\n",
    "        g_rowcol_names <- rbind(tableGrob(t(col_plot_list), theme = ttheme_minimal(), rows = \"\"),\n",
    "                    cbind(tableGrob(trial_types, theme = ttheme_minimal()),\n",
    "                          g, size = \"last\"), size = \"last\")\n",
    "\n",
    "\n",
    "        g_titled <- arrangeGrob(g_rowcol_names, top = title, left = yaxis, bottom = xaxis)\n",
    "        \n",
    "        savename <- paste(savestr,\"_Mixed_Trial_Type_Plots/\",subjectid,\"_plot.png\",sep='')\n",
    "        ggsave(savename,g_titled, height = 19, width = 39)\n",
    "    }\n",
    "}"
   ]
  },
  {
   "cell_type": "code",
   "execution_count": 61,
   "metadata": {
    "scrolled": true
   },
   "outputs": [
    {
     "name": "stdout",
     "output_type": "stream",
     "text": [
      "initial  value 5.263501 \n",
      "final  value 0.000000 \n",
      "converged\n",
      "initial  value 5.983974 \n",
      "iter   5 value 3.174856\n",
      "iter  10 value 0.420820\n",
      "iter  15 value 0.080799\n",
      "iter  20 value 0.025653\n",
      "final  value 0.008306 \n",
      "converged\n",
      "initial  value 3.071574 \n",
      "final  value 0.000000 \n",
      "converged\n",
      "initial  value 12.808005 \n",
      "iter   5 value 4.615054\n",
      "iter  10 value 0.661291\n",
      "iter  15 value 0.072678\n",
      "iter  20 value 0.016585\n",
      "final  value 0.007055 \n",
      "converged\n",
      "initial  value 2.118833 \n",
      "final  value 0.000000 \n",
      "converged\n",
      "initial  value 8.610969 \n",
      "iter   5 value 2.347955\n",
      "iter  10 value 0.833520\n",
      "iter  15 value 0.186075\n",
      "iter  20 value 0.042534\n",
      "final  value 0.006414 \n",
      "converged\n",
      "initial  value 0.411125 \n",
      "final  value 0.000000 \n",
      "converged\n",
      "initial  value 10.321276 \n",
      "iter   5 value 1.116472\n",
      "final  value 0.000000 \n",
      "converged\n",
      "initial  value 0.512761 \n",
      "final  value 0.000000 \n",
      "converged\n",
      "initial  value 6.856195 \n",
      "iter   5 value 0.531302\n",
      "iter   5 value 0.000000\n",
      "iter   5 value 0.000000\n",
      "final  value 0.000000 \n",
      "converged\n",
      "initial  value 15.903035 \n",
      "iter   5 value 4.918173\n",
      "iter  10 value 2.133865\n",
      "final  value 2.063588 \n",
      "converged\n",
      "initial  value 10.104615 \n",
      "iter   5 value 2.854564\n",
      "iter  10 value 0.134922\n",
      "iter  10 value 0.000000\n",
      "iter  10 value 0.000000\n",
      "final  value 0.000000 \n",
      "converged\n",
      "initial  value 1.444440 \n",
      "final  value 0.000000 \n",
      "converged\n",
      "initial  value 5.247292 \n",
      "iter   5 value 2.254717\n",
      "iter  10 value 0.454733\n",
      "iter  15 value 0.066209\n",
      "iter  20 value 0.013009\n",
      "iter  20 value 0.009598\n",
      "iter  20 value 0.008858\n",
      "final  value 0.008858 \n",
      "converged\n",
      "initial  value 5.571176 \n",
      "iter   5 value 0.132753\n",
      "iter   5 value 0.000000\n",
      "iter   5 value 0.000000\n",
      "final  value 0.000000 \n",
      "converged\n",
      "initial  value 4.799068 \n",
      "iter   5 value 1.850214\n",
      "iter  10 value 0.255606\n",
      "iter  15 value 0.043616\n",
      "final  value 0.007508 \n",
      "converged\n",
      "initial  value 5.071613 \n",
      "final  value 0.000000 \n",
      "converged\n",
      "initial  value 8.346759 \n",
      "final  value 0.000000 \n",
      "converged\n",
      "initial  value 0.337579 \n",
      "final  value 0.000000 \n",
      "converged\n",
      "initial  value 8.992516 \n",
      "iter   5 value 0.708612\n",
      "final  value 0.000000 \n",
      "converged\n",
      "initial  value 1.722960 \n",
      "iter   5 value 0.292969\n",
      "final  value 0.000000 \n",
      "converged\n",
      "initial  value 10.842327 \n",
      "iter   5 value 2.373357\n",
      "iter  10 value 0.512693\n",
      "final  value 0.000000 \n",
      "converged\n",
      "initial  value 15.694775 \n",
      "iter   5 value 12.782700\n",
      "iter  10 value 11.357922\n",
      "iter  15 value 8.804772\n",
      "iter  20 value 8.397840\n",
      "iter  20 value 8.391532\n",
      "iter  20 value 8.391238\n",
      "final  value 8.391238 \n",
      "converged\n",
      "initial  value 4.264361 \n",
      "iter   5 value 1.108250\n",
      "iter  10 value 0.100170\n",
      "iter  15 value 0.038267\n",
      "final  value 0.007431 \n",
      "converged\n",
      "initial  value 18.462811 \n",
      "iter   5 value 5.182950\n",
      "iter  10 value 0.526362\n",
      "iter  15 value 0.090051\n",
      "iter  20 value 0.012548\n",
      "final  value 0.008461 \n",
      "converged\n",
      "initial  value 5.889537 \n",
      "iter   5 value 1.268126\n",
      "iter  10 value 0.316380\n",
      "iter  15 value 0.115617\n",
      "iter  20 value 0.022193\n",
      "final  value 0.006577 \n",
      "converged\n",
      "initial  value 18.641545 \n",
      "iter   5 value 13.416620\n",
      "final  value 13.125144 \n",
      "converged\n",
      "initial  value 3.623912 \n",
      "final  value 0.000000 \n",
      "converged\n",
      "initial  value 5.329117 \n",
      "iter   5 value 1.827718\n",
      "final  value 0.000000 \n",
      "converged\n",
      "initial  value 9.217347 \n",
      "iter   5 value 2.374838\n",
      "iter  10 value 1.417754\n",
      "iter  15 value 0.391482\n",
      "iter  20 value 0.051294\n",
      "iter  25 value 0.032649\n",
      "final  value 0.005665 \n",
      "converged\n",
      "initial  value 7.316336 \n",
      "iter   5 value 2.017279\n",
      "final  value 0.325323 \n",
      "converged\n",
      "initial  value 6.682402 \n",
      "iter   5 value 1.692647\n",
      "final  value 0.000000 \n",
      "converged\n",
      "initial  value 10.190845 \n",
      "iter   5 value 3.819715\n",
      "iter  10 value 0.464090\n",
      "iter  15 value 0.116363\n",
      "iter  20 value 0.017239\n",
      "final  value 0.004923 \n",
      "converged\n",
      "initial  value 7.152326 \n",
      "iter   5 value 0.814508\n",
      "iter  10 value 0.111697\n",
      "iter  15 value 0.029147\n",
      "final  value 0.004637 \n",
      "converged\n",
      "initial  value 5.040152 \n",
      "iter   5 value 0.723584\n",
      "iter  10 value 0.080937\n",
      "iter  15 value 0.016546\n",
      "final  value 0.004063 \n",
      "converged\n",
      "initial  value 15.415981 \n",
      "iter   5 value 3.561200\n",
      "iter  10 value 3.053269\n",
      "final  value 2.901338 \n",
      "converged\n",
      "initial  value 0.570036 \n",
      "final  value 0.000000 \n",
      "converged\n",
      "initial  value 1.161969 \n",
      "final  value 0.000000 \n",
      "converged\n",
      "initial  value 4.397717 \n",
      "iter   5 value 0.202108\n",
      "iter   5 value 0.000000\n",
      "iter   5 value 0.000000\n",
      "final  value 0.000000 \n",
      "converged\n",
      "initial  value 11.141142 \n",
      "iter   5 value 1.600704\n",
      "final  value 0.000000 \n",
      "converged\n",
      "initial  value 3.494189 \n",
      "iter   5 value 1.872473\n",
      "iter  10 value 0.319134\n",
      "iter  15 value 0.083762\n",
      "iter  20 value 0.013028\n",
      "iter  20 value 0.005856\n",
      "iter  20 value 0.004878\n",
      "final  value 0.004878 \n",
      "converged\n",
      "initial  value 11.238669 \n",
      "iter   5 value 4.115519\n",
      "iter  10 value 0.184824\n",
      "iter  15 value 0.024373\n",
      "final  value 0.005348 \n",
      "converged\n",
      "initial  value 0.488367 \n",
      "final  value 0.000000 \n",
      "converged\n",
      "initial  value 11.665339 \n",
      "iter   5 value 1.886741\n",
      "iter  10 value 0.198942\n",
      "iter  10 value 0.000000\n",
      "iter  10 value 0.000000\n",
      "final  value 0.000000 \n",
      "converged\n",
      "initial  value 18.524360 \n",
      "iter   5 value 1.491948\n",
      "iter  10 value 0.180046\n",
      "iter  15 value 0.059998\n",
      "iter  20 value 0.015255\n",
      "iter  20 value 0.009643\n",
      "iter  20 value 0.009635\n",
      "final  value 0.009635 \n",
      "converged\n",
      "initial  value 2.650491 \n",
      "iter   5 value 0.522631\n",
      "iter  10 value 0.112749\n",
      "iter  15 value 0.014916\n",
      "iter  15 value 0.005139\n",
      "iter  15 value 0.005116\n",
      "final  value 0.005116 \n",
      "converged\n",
      "initial  value 23.845932 \n",
      "iter   5 value 11.705696\n",
      "final  value 10.794031 \n",
      "converged\n",
      "initial  value 0.184251 \n",
      "final  value 0.000000 \n",
      "converged\n",
      "initial  value 5.792310 \n",
      "iter   5 value 2.365349\n",
      "iter  10 value 0.596093\n",
      "iter  15 value 0.070588\n",
      "final  value 0.005348 \n",
      "converged\n",
      "initial  value 3.655187 \n",
      "iter   5 value 1.241766\n",
      "final  value 0.000000 \n",
      "converged\n",
      "initial  value 3.701313 \n",
      "iter   5 value 0.301318\n",
      "final  value 0.000000 \n",
      "converged\n",
      "initial  value 2.504085 \n",
      "final  value 0.000000 \n",
      "converged\n",
      "initial  value 12.697115 \n",
      "iter   5 value 3.531835\n",
      "iter  10 value 0.450941\n",
      "iter  15 value 0.075959\n",
      "iter  20 value 0.019658\n",
      "final  value 0.006271 \n",
      "converged\n",
      "initial  value 4.904139 \n",
      "iter   5 value 2.001471\n",
      "iter  10 value 0.335715\n",
      "iter  15 value 0.035161\n",
      "final  value 0.006946 \n",
      "converged\n",
      "initial  value 0.867645 \n",
      "iter   5 value 0.019825\n",
      "iter   5 value 0.000000\n",
      "iter   5 value 0.000000\n",
      "final  value 0.000000 \n",
      "converged\n",
      "initial  value 2.295115 \n",
      "iter   5 value 0.712248\n",
      "iter  10 value 0.104943\n",
      "final  value 0.005216 \n",
      "converged\n",
      "initial  value 4.713959 \n",
      "iter   5 value 0.208102\n",
      "final  value 0.009352 \n",
      "converged\n",
      "initial  value 7.032522 \n",
      "iter   5 value 3.016105\n",
      "iter  10 value 0.395728\n",
      "iter  15 value 0.125335\n",
      "iter  20 value 0.029767\n",
      "final  value 0.008325 \n",
      "converged\n",
      "initial  value 2.499409 \n",
      "iter   5 value 1.099315\n",
      "iter  10 value 0.447300\n",
      "iter  15 value 0.080696\n",
      "iter  20 value 0.024948\n",
      "iter  20 value 0.008068\n",
      "iter  20 value 0.008068\n",
      "final  value 0.008068 \n",
      "converged\n",
      "initial  value 2.797741 \n",
      "iter   5 value 0.640398\n",
      "iter  10 value 0.097921\n",
      "iter  15 value 0.011930\n",
      "iter  15 value 0.007913\n",
      "iter  15 value 0.006179\n",
      "final  value 0.006179 \n",
      "converged\n",
      "initial  value 2.263059 \n",
      "final  value 0.000000 \n",
      "converged\n",
      "initial  value 9.810961 \n",
      "iter   5 value 0.899578\n",
      "final  value 0.000000 \n",
      "converged\n",
      "initial  value 0.759072 \n",
      "final  value 0.000000 \n",
      "converged\n",
      "initial  value 0.124278 \n",
      "final  value 0.000000 \n",
      "converged\n",
      "initial  value 0.742320 \n",
      "iter   5 value 0.048400\n",
      "final  value 0.009157 \n",
      "converged\n",
      "initial  value 5.679395 \n",
      "iter   5 value 4.081117\n",
      "iter  10 value 0.223843\n",
      "iter  15 value 0.022763\n",
      "final  value 0.005832 \n",
      "converged\n",
      "initial  value 2.294666 \n",
      "final  value 0.000000 \n",
      "converged\n",
      "initial  value 8.897793 \n",
      "iter   5 value 1.704593\n",
      "iter  10 value 0.073617\n",
      "final  value 0.000000 \n",
      "converged\n",
      "initial  value 16.571805 \n",
      "iter   5 value 12.894505\n",
      "iter  10 value 5.412484\n",
      "iter  15 value 3.718399\n",
      "final  value 3.714192 \n",
      "converged\n",
      "initial  value 19.911379 \n",
      "iter   5 value 11.196605\n",
      "iter  10 value 9.218529\n",
      "final  value 9.190594 \n",
      "converged\n",
      "initial  value 5.411457 \n",
      "iter   5 value 1.146918\n",
      "final  value 0.000000 \n",
      "converged\n",
      "initial  value 9.510830 \n",
      "iter   5 value 0.493307\n",
      "iter  10 value 0.075334\n",
      "final  value 0.002735 \n",
      "converged\n",
      "initial  value 5.441242 \n",
      "iter   5 value 1.408852\n",
      "final  value 0.000000 \n",
      "converged\n",
      "initial  value 0.000010 \n",
      "final  value 0.000003 \n",
      "converged\n",
      "initial  value 6.644770 \n",
      "iter   5 value 1.920101\n",
      "final  value 0.000000 \n",
      "converged\n",
      "initial  value 7.312794 \n",
      "iter   5 value 1.576562\n",
      "final  value 0.006491 \n",
      "converged\n",
      "initial  value 2.228741 \n",
      "final  value 0.000000 \n",
      "converged\n",
      "initial  value 5.659263 \n",
      "iter   5 value 3.065489\n",
      "iter  10 value 2.348896\n",
      "iter  15 value 1.487577\n",
      "iter  20 value 1.383574\n",
      "final  value 1.360490 \n",
      "converged\n",
      "initial  value 2.724441 \n",
      "final  value 0.000000 \n",
      "converged\n",
      "initial  value 5.815114 \n",
      "iter   5 value 1.399856\n",
      "iter  10 value 0.185522\n",
      "final  value 0.000000 \n",
      "converged\n",
      "initial  value 11.351012 \n",
      "iter   5 value 1.788050\n",
      "final  value 0.000000 \n",
      "converged\n",
      "initial  value 3.314490 \n",
      "iter   5 value 0.768548\n",
      "iter  10 value 0.040445\n",
      "final  value 0.008568 \n",
      "converged\n",
      "initial  value 12.868215 \n",
      "iter   5 value 10.492627\n",
      "iter  10 value 9.861049\n",
      "final  value 9.834978 \n",
      "converged\n",
      "initial  value 6.166519 \n",
      "final  value 0.000000 \n",
      "converged\n",
      "initial  value 2.713689 \n",
      "iter   5 value 0.164454\n",
      "iter   5 value 0.000000\n",
      "final  value 0.000000 \n",
      "converged\n",
      "initial  value 0.897012 \n",
      "final  value 0.000000 \n",
      "converged\n",
      "initial  value 0.681640 \n",
      "final  value 0.000000 \n",
      "converged\n",
      "initial  value 13.634517 \n",
      "iter   5 value 2.145334\n",
      "iter  10 value 0.331960\n",
      "iter  15 value 0.046903\n",
      "iter  20 value 0.012068\n",
      "iter  20 value 0.008895\n",
      "iter  20 value 0.006137\n",
      "final  value 0.006137 \n",
      "converged\n",
      "initial  value 1.887994 \n",
      "iter   5 value 0.145055\n",
      "iter   5 value 0.000000\n",
      "iter   5 value 0.000000\n",
      "final  value 0.000000 \n",
      "converged\n",
      "initial  value 6.025273 \n",
      "iter   5 value 1.028432\n",
      "iter  10 value 0.058838\n",
      "iter  15 value 0.016384\n",
      "final  value 0.006840 \n",
      "converged\n",
      "initial  value 1.712657 \n",
      "iter   5 value 0.684763\n",
      "final  value 0.000000 \n",
      "converged\n",
      "initial  value 2.177597 \n",
      "iter   5 value 0.307219\n",
      "iter  10 value 0.027409\n",
      "final  value 0.005581 \n",
      "converged\n",
      "initial  value 0.143030 \n",
      "final  value 0.000000 \n",
      "converged\n",
      "initial  value 3.362234 \n",
      "iter   5 value 1.840134\n",
      "iter  10 value 0.327140\n",
      "iter  15 value 0.042655\n",
      "final  value 0.007400 \n",
      "converged\n",
      "initial  value 6.188344 \n",
      "iter   5 value 2.503374\n",
      "iter  10 value 0.556063\n",
      "iter  15 value 0.147468\n",
      "iter  20 value 0.038498\n",
      "iter  25 value 0.014144\n",
      "final  value 0.008046 \n",
      "converged\n",
      "initial  value 1.997114 \n",
      "iter   5 value 0.184623\n",
      "final  value 0.000000 \n",
      "converged\n",
      "initial  value 2.709406 \n",
      "final  value 0.000000 \n",
      "converged\n",
      "initial  value 8.642501 \n",
      "iter   5 value 4.537861\n",
      "iter  10 value 3.824440\n",
      "final  value 3.586220 \n",
      "converged\n",
      "initial  value 1.751995 \n",
      "iter   5 value 0.233729\n",
      "iter  10 value 0.010059\n",
      "iter  10 value 0.006849\n",
      "iter  10 value 0.004963\n",
      "final  value 0.004963 \n",
      "converged\n",
      "initial  value 10.735402 \n",
      "iter   5 value 3.086591\n",
      "iter  10 value 0.088502\n",
      "iter  10 value 0.007418\n",
      "iter  10 value 0.007418\n",
      "final  value 0.007418 \n",
      "converged\n",
      "initial  value 2.809214 \n",
      "iter   5 value 1.261402\n",
      "iter  10 value 0.569192\n",
      "iter  15 value 0.094213\n",
      "iter  20 value 0.019408\n",
      "final  value 0.008824 \n",
      "converged\n",
      "initial  value 7.980901 \n",
      "iter   5 value 5.470243\n",
      "iter  10 value 3.975247\n",
      "final  value 3.957813 \n",
      "converged\n"
     ]
    }
   ],
   "source": [
    "subject_mixed_plot(datadf,savestr)"
   ]
  },
  {
   "cell_type": "markdown",
   "metadata": {},
   "source": [
    "RT by Catch Score plot (in progress)"
   ]
  },
  {
   "cell_type": "code",
   "execution_count": null,
   "metadata": {},
   "outputs": [],
   "source": [
    "rt_catch_plot <- function(datadf,savestr){\n",
    "    dir.create(paste(savestr,\"Mixed_Trial_Type_Plots\", sep='_'))\n",
    "    \n",
    "    \n",
    "    \n",
    "}"
   ]
  },
  {
   "cell_type": "markdown",
   "metadata": {},
   "source": [
    "### Summary plots"
   ]
  },
  {
   "cell_type": "code",
   "execution_count": 111,
   "metadata": {},
   "outputs": [],
   "source": [
    "dir.create(paste(savestr,\"Summary_Plots\",sep='_'))"
   ]
  },
  {
   "cell_type": "code",
   "execution_count": 112,
   "metadata": {},
   "outputs": [],
   "source": [
    "# matrix to use to define the plot layout, specified manually for now\n",
    "hlay <- rbind (c(1,4,7,10),\n",
    "               c(2,5,8,11),\n",
    "               c(3,6,9,12))"
   ]
  },
  {
   "cell_type": "code",
   "execution_count": 462,
   "metadata": {},
   "outputs": [],
   "source": [
    "# correlations summary plot\n",
    "across_experiment_plot <- function(datadf,savestr,laymatrix,response_type_list,response_names,dependent,clean=FALSE){\n",
    "    \n",
    "    dir.create(paste(savestr,\"Overall_Summary_Plots\",sep='_'))\n",
    "    \n",
    "    stimuli_list <- sort(unique(datadf$stimuli_count))\n",
    "    plot_list <- list()\n",
    "    \n",
    "    if(clean){\n",
    "        datadf <- subset(datadf, noncompliant == 0)\n",
    "    }\n",
    "    \n",
    "    # make all the plots\n",
    "    k = 0\n",
    "    for (stimulus in stimuli_list){\n",
    "        for (response in response_type_list){\n",
    "            k = k + 1\n",
    "            if(stimulus == 2){ # 2 stimuli doesn't have any cueing, so it gets an exception\n",
    "                tempdf <- subset(datadf, stimuli_count == 2)\n",
    "            } else {\n",
    "                tempdf <- subset(datadf, stimuli_count == stimulus & response_type == response)\n",
    "            }\n",
    "            \n",
    "            # make the specific plot\n",
    "            if(dependent=='correlation'){\n",
    "                fvp <- fvp_list(tempdf)\n",
    "                plot <- corr_plot(fvp,'Within-subject FvP','Within-subject FvP')\n",
    "                title <- textGrob(\"CORRELATION\", gp=gpar(fontsize=35))\n",
    "            } else if (dependent=='RT'){\n",
    "                plot <- rsplot_summary(tempdf)\n",
    "                title <- textGrob(\"REACTION TIME\", gp=gpar(fontsize=35))\n",
    "            } else if (dependent=='dissimilarity'){\n",
    "                plot <- simhistplot_summary(tempdf)\n",
    "                title <- textGrob(\"DISSIMILARITY\", gp=gpar(fontsize=35))\n",
    "            } else if (dependent=='trace'){\n",
    "                plot <- trace_plot(tempdf)\n",
    "                title <- textGrob(\"TRACE\", gp=gpar(fontsize=35))\n",
    "            } else if (dependent=='antitrace'){\n",
    "                plot <- trace_plot(tempdf,'antitrace')\n",
    "                title <- textGrob(\"ANTITRACE\", gp=gpar(fontsize=35))\n",
    "            } else if (dependent=='difference'){\n",
    "                plot <- trace_plot(tempdf,'difference')\n",
    "                title <- textGrob(\"ANTITRACE - TRACE\", gp=gpar(fontsize=35))\n",
    "            } else if (dependent=='asymmetry_matrix'){\n",
    "                plot <- asymmetry_plot(tempdf,l2e('Foveal'),l2e('Foveal'),colors)\n",
    "                title <- textGrob(\"SIMILARITY ASYMMETRY MATRIX\", gp=gpar(fontsize=35))\n",
    "            } else if (dependent == 'trace_by_trial'){\n",
    "                plot <- trace_by_trial_plot(tempdf,'boxplot')\n",
    "                title <- textGrob(\"Trace by Trial\", gp=gpar(fontsize=35))\n",
    "            }\n",
    "            \n",
    "            \n",
    "            plot <- plot + xlab(paste(stimulus,response,sep=' ')) #  add a label\n",
    "            if(stimulus == 2 && k != 1){ # don't plot after-cueing for 2 cue stimuli\n",
    "                plot <- ggplot() + geom_blank() + theme_void()\n",
    "            } else if (dependent == 'asymmetry_matrix' && response != 'after_1'){\n",
    "                plot <- ggplot() + geom_blank() + theme_void()\n",
    "            }\n",
    "            plot_list[[k]] <- as.grob(plot) # add it to the plot_list\n",
    "        }\n",
    "        \n",
    "    }\n",
    "    \n",
    "    # save the plots\n",
    "    yaxis <- textGrob(\"Cueing Type\", gp=gpar(fontsize=30), rot=90)\n",
    "    xaxis <- textGrob(\"Stimuli\", gp=gpar(fontsize=30))\n",
    "    \n",
    "    g <- arrangeGrob(grobs = plot_list, ncol = length(stimuli_list),nrow = length(response_type_list),\n",
    "                     layout_matrix = hlay)\n",
    "    \n",
    "    g_rowcol_names <- rbind(tableGrob(t(stimuli_list), theme = ttheme_minimal(), rows = \"\"),\n",
    "                cbind(tableGrob(response_names, theme = ttheme_minimal()),\n",
    "                      g, size = \"last\"), size = \"last\")\n",
    "    \n",
    "    g_titled <- arrangeGrob(g_rowcol_names, top = title, left = yaxis, bottom = xaxis)\n",
    "    \n",
    "    if(clean){\n",
    "        savename <- paste(savestr,\"_Overall_Summary_Plots/\",dependent,\"_CLEAN\",\"_plot.png\",sep='')\n",
    "        ggsave(savename,g_titled, height = 20, width = 30)\n",
    "    }else{\n",
    "        savename <- paste(savestr,\"_Overall_Summary_Plots/\",dependent,\"_plot.png\",sep='')\n",
    "        ggsave(savename,g_titled, height = 20, width = 30)\n",
    "    }\n",
    "    \n",
    "    return(g_titled)\n",
    "}"
   ]
  },
  {
   "cell_type": "code",
   "execution_count": 463,
   "metadata": {},
   "outputs": [
    {
     "data": {
      "text/plain": [
       "TableGrob (3 x 2) \"arrange\": 4 grobs\n",
       "  z     cells    name                   grob\n",
       "1 1 (2-2,2-2) arrange     gtable[rowhead-fg]\n",
       "2 2 (1-1,2-2) arrange text[GRID.text.323514]\n",
       "3 3 (3-3,2-2) arrange text[GRID.text.323785]\n",
       "4 4 (1-3,1-1) arrange text[GRID.text.323784]"
      ]
     },
     "metadata": {},
     "output_type": "display_data"
    },
    {
     "data": {
      "text/plain": [
       "TableGrob (3 x 2) \"arrange\": 4 grobs\n",
       "  z     cells    name                   grob\n",
       "1 1 (2-2,2-2) arrange     gtable[rowhead-fg]\n",
       "2 2 (1-1,2-2) arrange text[GRID.text.326306]\n",
       "3 3 (3-3,2-2) arrange text[GRID.text.326567]\n",
       "4 4 (1-3,1-1) arrange text[GRID.text.326566]"
      ]
     },
     "metadata": {},
     "output_type": "display_data"
    }
   ],
   "source": [
    "across_experiment_plot(datadf,savestr,hlay,response_type_list,response_names,'trace_by_trial')\n",
    "across_experiment_plot(datadf,savestr,hlay,response_type_list,response_names,'trace_by_trial',TRUE)"
   ]
  },
  {
   "cell_type": "markdown",
   "metadata": {},
   "source": [
    "#### Across all experiments"
   ]
  },
  {
   "cell_type": "code",
   "execution_count": 202,
   "metadata": {},
   "outputs": [],
   "source": [
    "across_all <- function(datadf,savestr,laymatrix,response_type_list,response_names){\n",
    "    across_experiment_plot(datadf,savestr,hlay,response_type_list,response_names,'RT')\n",
    "    across_experiment_plot(datadf,savestr,hlay,response_type_list,response_names,'dissimilarity')\n",
    "    across_experiment_plot(datadf,savestr,hlay,response_type_list,response_names,'asymmetry_matrix')\n",
    "    across_experiment_plot(datadf,savestr,hlay,response_type_list,response_names,'correlation')\n",
    "    across_experiment_plot(datadf,savestr,hlay,response_type_list,response_names,'trace')\n",
    "    across_experiment_plot(datadf,savestr,hlay,response_type_list,response_names,'antitrace')\n",
    "    across_experiment_plot(datadf,savestr,hlay,response_type_list,response_names,'difference')\n",
    "    \n",
    "    across_experiment_plot(datadf,savestr,hlay,response_type_list,response_names,'RT',TRUE)\n",
    "    across_experiment_plot(datadf,savestr,hlay,response_type_list,response_names,'dissimilarity',TRUE)\n",
    "    across_experiment_plot(datadf,savestr,hlay,response_type_list,response_names,'asymmetry_matrix',TRUE)\n",
    "    across_experiment_plot(datadf,savestr,hlay,response_type_list,response_names,'correlation',TRUE)\n",
    "    across_experiment_plot(datadf,savestr,hlay,response_type_list,response_names,'trace',TRUE)\n",
    "    across_experiment_plot(datadf,savestr,hlay,response_type_list,response_names,'antitrace',TRUE)\n",
    "    across_experiment_plot(datadf,savestr,hlay,response_type_list,response_names,'difference',TRUE)\n",
    "}"
   ]
  },
  {
   "cell_type": "code",
   "execution_count": 203,
   "metadata": {
    "scrolled": true
   },
   "outputs": [
    {
     "name": "stderr",
     "output_type": "stream",
     "text": [
      "`stat_bindot()` using `bins = 30`. Pick better value with `binwidth`.\n",
      "`stat_bindot()` using `bins = 30`. Pick better value with `binwidth`.\n",
      "`stat_bindot()` using `bins = 30`. Pick better value with `binwidth`.\n",
      "`stat_bindot()` using `bins = 30`. Pick better value with `binwidth`.\n",
      "`stat_bindot()` using `bins = 30`. Pick better value with `binwidth`.\n",
      "`stat_bindot()` using `bins = 30`. Pick better value with `binwidth`.\n",
      "`stat_bindot()` using `bins = 30`. Pick better value with `binwidth`.\n",
      "`stat_bindot()` using `bins = 30`. Pick better value with `binwidth`.\n",
      "`stat_bindot()` using `bins = 30`. Pick better value with `binwidth`.\n",
      "`stat_bindot()` using `bins = 30`. Pick better value with `binwidth`.\n",
      "`stat_bindot()` using `bins = 30`. Pick better value with `binwidth`.\n",
      "`stat_bindot()` using `bins = 30`. Pick better value with `binwidth`.\n",
      "`stat_bindot()` using `bins = 30`. Pick better value with `binwidth`.\n",
      "`stat_bindot()` using `bins = 30`. Pick better value with `binwidth`.\n",
      "`stat_bindot()` using `bins = 30`. Pick better value with `binwidth`.\n",
      "`stat_bindot()` using `bins = 30`. Pick better value with `binwidth`.\n",
      "`stat_bindot()` using `bins = 30`. Pick better value with `binwidth`.\n",
      "`stat_bindot()` using `bins = 30`. Pick better value with `binwidth`.\n",
      "`stat_bindot()` using `bins = 30`. Pick better value with `binwidth`.\n",
      "`stat_bindot()` using `bins = 30`. Pick better value with `binwidth`.\n",
      "`stat_bindot()` using `bins = 30`. Pick better value with `binwidth`.\n",
      "`stat_bindot()` using `bins = 30`. Pick better value with `binwidth`.\n",
      "`stat_bindot()` using `bins = 30`. Pick better value with `binwidth`.\n",
      "`stat_bindot()` using `bins = 30`. Pick better value with `binwidth`.\n",
      "`stat_bindot()` using `bins = 30`. Pick better value with `binwidth`.\n",
      "`stat_bindot()` using `bins = 30`. Pick better value with `binwidth`.\n",
      "`stat_bindot()` using `bins = 30`. Pick better value with `binwidth`.\n",
      "`stat_bindot()` using `bins = 30`. Pick better value with `binwidth`.\n",
      "`stat_bindot()` using `bins = 30`. Pick better value with `binwidth`.\n",
      "`stat_bindot()` using `bins = 30`. Pick better value with `binwidth`.\n",
      "`stat_bindot()` using `bins = 30`. Pick better value with `binwidth`.\n",
      "`stat_bindot()` using `bins = 30`. Pick better value with `binwidth`.\n",
      "`stat_bindot()` using `bins = 30`. Pick better value with `binwidth`.\n",
      "`stat_bindot()` using `bins = 30`. Pick better value with `binwidth`.\n",
      "`stat_bindot()` using `bins = 30`. Pick better value with `binwidth`.\n",
      "`stat_bindot()` using `bins = 30`. Pick better value with `binwidth`.\n",
      "`stat_bindot()` using `bins = 30`. Pick better value with `binwidth`.\n",
      "`stat_bindot()` using `bins = 30`. Pick better value with `binwidth`.\n",
      "`stat_bindot()` using `bins = 30`. Pick better value with `binwidth`.\n",
      "`stat_bindot()` using `bins = 30`. Pick better value with `binwidth`.\n",
      "`stat_bindot()` using `bins = 30`. Pick better value with `binwidth`.\n",
      "`stat_bindot()` using `bins = 30`. Pick better value with `binwidth`.\n",
      "`stat_bindot()` using `bins = 30`. Pick better value with `binwidth`.\n",
      "`stat_bindot()` using `bins = 30`. Pick better value with `binwidth`.\n",
      "`stat_bindot()` using `bins = 30`. Pick better value with `binwidth`.\n",
      "`stat_bindot()` using `bins = 30`. Pick better value with `binwidth`.\n",
      "`stat_bindot()` using `bins = 30`. Pick better value with `binwidth`.\n",
      "`stat_bindot()` using `bins = 30`. Pick better value with `binwidth`.\n",
      "`stat_bindot()` using `bins = 30`. Pick better value with `binwidth`.\n",
      "`stat_bindot()` using `bins = 30`. Pick better value with `binwidth`.\n",
      "`stat_bindot()` using `bins = 30`. Pick better value with `binwidth`.\n",
      "`stat_bindot()` using `bins = 30`. Pick better value with `binwidth`.\n",
      "`stat_bindot()` using `bins = 30`. Pick better value with `binwidth`.\n",
      "`stat_bindot()` using `bins = 30`. Pick better value with `binwidth`.\n",
      "`stat_bindot()` using `bins = 30`. Pick better value with `binwidth`.\n",
      "`stat_bindot()` using `bins = 30`. Pick better value with `binwidth`.\n",
      "`stat_bindot()` using `bins = 30`. Pick better value with `binwidth`.\n",
      "`stat_bindot()` using `bins = 30`. Pick better value with `binwidth`.\n",
      "`stat_bindot()` using `bins = 30`. Pick better value with `binwidth`.\n",
      "`stat_bindot()` using `bins = 30`. Pick better value with `binwidth`.\n",
      "`stat_bindot()` using `bins = 30`. Pick better value with `binwidth`.\n",
      "`stat_bindot()` using `bins = 30`. Pick better value with `binwidth`.\n",
      "`stat_bindot()` using `bins = 30`. Pick better value with `binwidth`.\n",
      "`stat_bindot()` using `bins = 30`. Pick better value with `binwidth`.\n",
      "`stat_bindot()` using `bins = 30`. Pick better value with `binwidth`.\n",
      "`stat_bindot()` using `bins = 30`. Pick better value with `binwidth`.\n",
      "`stat_bindot()` using `bins = 30`. Pick better value with `binwidth`.\n",
      "`stat_bindot()` using `bins = 30`. Pick better value with `binwidth`.\n",
      "`stat_bindot()` using `bins = 30`. Pick better value with `binwidth`.\n",
      "`stat_bindot()` using `bins = 30`. Pick better value with `binwidth`.\n",
      "`stat_bindot()` using `bins = 30`. Pick better value with `binwidth`.\n",
      "`stat_bindot()` using `bins = 30`. Pick better value with `binwidth`.\n",
      "`stat_bindot()` using `bins = 30`. Pick better value with `binwidth`.\n",
      "`stat_bindot()` using `bins = 30`. Pick better value with `binwidth`.\n",
      "`stat_bindot()` using `bins = 30`. Pick better value with `binwidth`.\n",
      "`stat_bindot()` using `bins = 30`. Pick better value with `binwidth`.\n",
      "`stat_bindot()` using `bins = 30`. Pick better value with `binwidth`.\n",
      "`stat_bindot()` using `bins = 30`. Pick better value with `binwidth`.\n",
      "`stat_bindot()` using `bins = 30`. Pick better value with `binwidth`.\n",
      "`stat_bindot()` using `bins = 30`. Pick better value with `binwidth`.\n"
     ]
    },
    {
     "ename": "ERROR",
     "evalue": "Error in across_all(datadf, savestr, hlay, response_type_list, response_names, : unused argument (TRUE)\n",
     "output_type": "error",
     "traceback": [
      "Error in across_all(datadf, savestr, hlay, response_type_list, response_names, : unused argument (TRUE)\nTraceback:\n"
     ]
    }
   ],
   "source": [
    "if(across){\n",
    "    across_all(datadf,savestr,hlay,response_type_list,response_names)\n",
    "}"
   ]
  },
  {
   "cell_type": "markdown",
   "metadata": {},
   "source": [
    "#### Individual experiment summaries"
   ]
  },
  {
   "cell_type": "code",
   "execution_count": 188,
   "metadata": {},
   "outputs": [],
   "source": [
    "# generate a summary plot of all the collected data from all the subjects in the experiment\n",
    "# NEED TO FINISH THIS\n",
    "expsummaryplot <- function(datadf,savestr,clean=FALSE){\n",
    "    \n",
    "    dir.create(paste(savestr,\"Exp_Summary_Plots/\",sep='_'))\n",
    "    \n",
    "    if(clean){\n",
    "        datadf <- subset(datadf, noncompliant == 0)\n",
    "    }\n",
    "    \n",
    "    stimuli_list <- sort(unique(datadf$stimuli_count))\n",
    "    \n",
    "    # make all the plots\n",
    "    k = 0\n",
    "    for (stimulus in stimuli_list){\n",
    "        for (response in response_type_list){\n",
    "            \n",
    "            k = k + 1\n",
    "            if(stimulus == 2){ # 2 stimuli doesn't have any cueing, so it gets an exception\n",
    "                tempdf <- subset(datadf, stimuli_count == 2)\n",
    "            } else {\n",
    "                tempdf <- subset(datadf, stimuli_count == stimulus & response_type == response)\n",
    "            }\n",
    "            \n",
    "            if(response != 'after_1'){\n",
    "                FP = TRUE\n",
    "            } else {\n",
    "                FP = FALSE\n",
    "            }\n",
    "            \n",
    "            # make the specific summary plot\n",
    "           \n",
    "            # MATRICES\n",
    "            everyonedata <- aggregate_df(tempdf)\n",
    "            \n",
    "            stim_time <- everyonedata$stim_display_time[1]\n",
    "            gap <- everyonedata$stim_cue_gap[1]\n",
    "            cue_time <- everyonedata$cue_display_time[1]\n",
    "            \n",
    "            \n",
    "            # FF Matrix plot\n",
    "            FFmatrix <- dissimplot(dissimdata(everyonedata, colors, l2e('Foveal'), l2e('Foveal')),colors)\n",
    "\n",
    "            # FP Matrix plot\n",
    "            FPmatrix <- dissimplot(dissimdata(everyonedata, colors, l2e('Foveal'), l2e('Peripheral')),colors)\n",
    "\n",
    "            # PP Matrix plot\n",
    "            PPmatrix <- dissimplot(dissimdata(everyonedata, colors, l2e('Peripheral'), l2e('Peripheral')),colors)\n",
    "\n",
    "            # CMDS\n",
    "            # FF CMDS plot\n",
    "            FFcmds <-  cmdsplot(cmdsfit(mat2dist(df2mat(everyonedata,l2e('Foveal'), l2e('Foveal')))), \n",
    "                                abcolors, abcolors, l2e('Foveal'), l2e('Foveal'))\n",
    "\n",
    "            FPcmds <-  cmdsplot(cmdsfit(mat2dist(df2mat(everyonedata,l2e('Foveal'), l2e('Peripheral')))), \n",
    "                                abcolors, abcolors, l2e('Foveal'), l2e('Peripheral'))\n",
    "\n",
    "            # FF CMDS plot\n",
    "            PPcmds <-  cmdsplot(cmdsfit(mat2dist(df2mat(everyonedata,l2e('Peripheral'), l2e('Peripheral')))), \n",
    "                                abcolors, abcolors, l2e('Peripheral'), l2e('Peripheral'))\n",
    "            # NMDS\n",
    "            # FF nMDS plot\n",
    "            FFnmds <-  nmdsplot(nmdsfit(mat2dist(df2mat(everyonedata,l2e('Foveal'), l2e('Foveal')))), \n",
    "                                abcolors, abcolors, l2e('Foveal'), l2e('Foveal'))\n",
    "\n",
    "            # FP nMDS plot\n",
    "            FPnmds <-  nmdsplot(nmdsfit(mat2dist(df2mat(everyonedata,l2e('Foveal'), l2e('Peripheral')))), \n",
    "                                abcolors, abcolors, l2e('Foveal'), l2e('Peripheral'))\n",
    "\n",
    "            # PP nMDS plot\n",
    "            PPnmds <-  nmdsplot(nmdsfit(mat2dist(df2mat(everyonedata,l2e('Peripheral'), l2e('Peripheral')))), \n",
    "                                abcolors, abcolors, l2e('Peripheral'), l2e('Peripheral'))\n",
    "\n",
    "            # AUXILIARY plots\n",
    "            # Similarity judgements\n",
    "            simplot <- simhistplot_summary(tempdf)\n",
    "            # Reaction times v1\n",
    "            reactionplot <- rsplot_summary(tempdf)\n",
    "            # summary plot\n",
    "            raincloudplot <- rsplot_raincloud(tempdf,'log')\n",
    "\n",
    "            # within_between_plots\n",
    "            fvp <- fvp_list(tempdf)\n",
    "            i_j <- i_j_list(tempdf)\n",
    "\n",
    "            within_plot <- corr_plot(fvp,'Within-subject FvP','Within-subject FvP')\n",
    "            between_plot <- corr_plot(i_j,'Between-subject FvF','Between-subject FvF')\n",
    "            #within_plot_fisher <- corr_plot(FisherZ(fvp),'Within-subject FvP','Within-subject FvP',TRUE)\n",
    "            #between_plot_fisher <- corr_plot(FisherZ(i_j),'Between-subject FvF','Between-subject FvF',TRUE)\n",
    "\n",
    "            # MORE PLOTS\n",
    "            # trace plots\n",
    "            traceplot <- trace_plot(tempdf)\n",
    "            antiplot <- trace_plot(tempdf,'antitrace')\n",
    "            differenceplot <- trace_plot(tempdf,'difference')\n",
    "            \n",
    "            N <- length(unique(tempdf$subject)) # get number of subjects\n",
    "            \n",
    "            # save the plots\n",
    "            if(clean){\n",
    "                title <- textGrob(paste(stimulus,response,\n",
    "                                    \"stim_duration\",stim_time,\"gap\",gap,\"cue_duration\",cue_time,\n",
    "                                    N,\"subjects\",\"CLEAN\",\n",
    "                                    sep=\"_\"), gp=gpar(fontsize=35))\n",
    "            }else{\n",
    "                title <- textGrob(paste(stimulus,response,\n",
    "                                    \"stim_duration\",stim_time,\"gap\",gap,\"cue_duration\",cue_time,\n",
    "                                    N,\"subjects\",\n",
    "                                    sep=\"_\"), gp=gpar(fontsize=35))\n",
    "            }\n",
    "            \n",
    "            # put it all together\n",
    "            if(FP){\n",
    "                \n",
    "                g <- arrangeGrob(FFmatrix, FPmatrix, PPmatrix, within_plot, between_plot,\n",
    "                                FFcmds,FPcmds, PPcmds, traceplot, antiplot,\n",
    "                                FFnmds,FPnmds, PPnmds, raincloudplot, differenceplot,\n",
    "                                simplot, reactionplot, \n",
    "                                nrow = 4, ncol=5, top = title)\n",
    "            } else {\n",
    "                \n",
    "                # asymmetry plot\n",
    "                asymplot <- asymmetry_plot(tempdf,l2e('Foveal'),l2e('Foveal'),colors)\n",
    "                \n",
    "                g <- arrangeGrob(FFmatrix,  PPmatrix, within_plot, between_plot, \n",
    "                                FFcmds, PPcmds, traceplot,  antiplot,\n",
    "                                FFnmds, PPnmds, differenceplot, asymplot,\n",
    "                                simplot, raincloudplot, reactionplot,\n",
    "                                nrow = 4, ncol=4, top = title)\n",
    "\n",
    "                \n",
    "            }\n",
    "                # save it\n",
    "            if(clean){\n",
    "                savename <- paste(savestr,\"_Exp_Summary_Plots/\",stimulus,\"_\",response,\n",
    "                         \"_Summary_\",N,\"_subjects\",\"_CLEAN\",\"_plot.png\",sep='')\n",
    "            }else {\n",
    "                savename <- paste(savestr,\"_Exp_Summary_Plots/\",stimulus,\"_\",response,\n",
    "                         \"_Summary_\",N,\"_subjects\",\"_plot.png\",sep='')\n",
    "            }\n",
    "                \n",
    "                print(savename)\n",
    "                ggsave(savename,g, height = 38, width = 48)\n",
    "        }\n",
    "            \n",
    "    }\n",
    "        \n",
    "}   "
   ]
  },
  {
   "cell_type": "markdown",
   "metadata": {},
   "source": [
    "### Across the entire population "
   ]
  },
  {
   "cell_type": "code",
   "execution_count": 213,
   "metadata": {},
   "outputs": [],
   "source": [
    "# entire population plot\n",
    "population_plot <- function(datadf,savestr,clean=FALSE){\n",
    "    \n",
    "    dir.create(paste(savestr,\"Population_Summary_Plots/\",sep='_'))\n",
    "    \n",
    "    if(clean){\n",
    "        datadf <- subset(datadf, noncompliant == 0)\n",
    "    }\n",
    "    \n",
    "    # MATRICES\n",
    "    everyonedata <- aggregate_df(datadf)\n",
    "\n",
    "    # FF Matrix plot\n",
    "    FFmatrix <- dissimplot(dissimdata(everyonedata, colors, l2e('Foveal'), l2e('Foveal')),colors)\n",
    "\n",
    "    # FP Matrix plot\n",
    "    FPmatrix <- dissimplot(dissimdata(everyonedata, colors, l2e('Foveal'), l2e('Peripheral')),colors)\n",
    "\n",
    "    # PP Matrix plot\n",
    "    PPmatrix <- dissimplot(dissimdata(everyonedata, colors, l2e('Peripheral'), l2e('Peripheral')),colors)\n",
    "\n",
    "    # CMDS\n",
    "    # FF CMDS plot\n",
    "    FFcmds <-  cmdsplot(cmdsfit(mat2dist(df2mat(everyonedata,l2e('Foveal'), l2e('Foveal')))), \n",
    "                        abcolors, abcolors, l2e('Foveal'), l2e('Foveal'))\n",
    "\n",
    "    FPcmds <-  cmdsplot(cmdsfit(mat2dist(df2mat(everyonedata,l2e('Foveal'), l2e('Peripheral')))), \n",
    "                        abcolors, abcolors, l2e('Foveal'), l2e('Peripheral'))\n",
    "\n",
    "    # FF CMDS plot\n",
    "    PPcmds <-  cmdsplot(cmdsfit(mat2dist(df2mat(everyonedata,l2e('Peripheral'), l2e('Peripheral')))), \n",
    "                        abcolors, abcolors, l2e('Peripheral'), l2e('Peripheral'))\n",
    "    # NMDS\n",
    "    # FF nMDS plot\n",
    "    FFnmds <-  nmdsplot(nmdsfit(mat2dist(df2mat(everyonedata,l2e('Foveal'), l2e('Foveal')))), \n",
    "                        abcolors, abcolors, l2e('Foveal'), l2e('Foveal'))\n",
    "\n",
    "    # FP nMDS plot\n",
    "    FPnmds <-  nmdsplot(nmdsfit(mat2dist(df2mat(everyonedata,l2e('Foveal'), l2e('Peripheral')))), \n",
    "                        abcolors, abcolors, l2e('Foveal'), l2e('Peripheral'))\n",
    "\n",
    "    # PP nMDS plot\n",
    "    PPnmds <-  nmdsplot(nmdsfit(mat2dist(df2mat(everyonedata,l2e('Peripheral'), l2e('Peripheral')))), \n",
    "                        abcolors, abcolors, l2e('Peripheral'), l2e('Peripheral'))\n",
    "\n",
    "    # AUXILIARY plots\n",
    "    # Similarity judgements\n",
    "    simplot <- simhistplot_summary(datadf)\n",
    "    # Reaction times v1\n",
    "    reactionplot <- rsplot_summary(datadf)\n",
    "    # summary plot\n",
    "    raincloudplot <- rsplot_raincloud(datadf,'log')\n",
    "\n",
    "    # within_between_plots\n",
    "    fvp <- fvp_list(datadf)\n",
    "    i_j <- i_j_list(datadf)\n",
    "\n",
    "    within_plot <- corr_plot(fvp,'Within-subject FvP','Within-subject FvP')\n",
    "    between_plot <- corr_plot(i_j,'Between-subject FvF','Between-subject FvF')\n",
    "    #within_plot_fisher <- corr_plot(FisherZ(fvp),'Within-subject FvP','Within-subject FvP',TRUE)\n",
    "    #between_plot_fisher <- corr_plot(FisherZ(i_j),'Between-subject FvF','Between-subject FvF',TRUE)\n",
    "\n",
    "    # MORE PLOTS\n",
    "    # trace plots\n",
    "    traceplot <- trace_plot(datadf)\n",
    "    antiplot <- trace_plot(datadf,'antitrace')\n",
    "    differenceplot <- trace_plot(datadf,'difference')\n",
    "\n",
    "    N <- length(unique(datadf$subject)) # get number of subjects\n",
    "\n",
    "    # save the plots\n",
    "    if(clean){\n",
    "        title <- textGrob(paste(\"Population\",\n",
    "                            N,\"subjects\",\"CLEAN\",\n",
    "                            sep=\"_\"), gp=gpar(fontsize=35))\n",
    "    }else{\n",
    "        title <- textGrob(paste(\"Population\",\n",
    "                            N,\"subjects\",\n",
    "                            sep=\"_\"), gp=gpar(fontsize=35))\n",
    "    }\n",
    "    \n",
    "    \n",
    "    g <- arrangeGrob(FFmatrix, FPmatrix, PPmatrix, within_plot, between_plot,\n",
    "                                FFcmds,FPcmds, PPcmds, traceplot, antiplot,\n",
    "                                FFnmds,FPnmds, PPnmds, raincloudplot, differenceplot,\n",
    "                                simplot, reactionplot, \n",
    "                                nrow = 4, ncol=5, top = title)\n",
    "    \n",
    "     # save it\n",
    "    if(clean){\n",
    "        savename <- paste(savestr,\"_Exp_Summary_Plots/\",\n",
    "                 \"_Summary_\",N,\"_subjects\",\"_CLEAN\",\"_plot.png\",sep='')\n",
    "    }else {\n",
    "        savename <- paste(savestr,\"_Exp_Summary_Plots/\",\n",
    "                 \"_Summary_\",N,\"_subjects\",\"_plot.png\",sep='')\n",
    "    }\n",
    "\n",
    "        print(savename)\n",
    "        ggsave(savename,g, height = 38, width = 48)\n",
    "}"
   ]
  },
  {
   "cell_type": "code",
   "execution_count": 2,
   "metadata": {},
   "outputs": [
    {
     "ename": "ERROR",
     "evalue": "Error in dissimplot(dissimdata(everyonedata, colors, l2e(\"Foveal\"), l2e(\"Foveal\")), : could not find function \"dissimplot\"\n",
     "output_type": "error",
     "traceback": [
      "Error in dissimplot(dissimdata(everyonedata, colors, l2e(\"Foveal\"), l2e(\"Foveal\")), : could not find function \"dissimplot\"\nTraceback:\n"
     ]
    }
   ],
   "source": [
    "test <- dissimplot(dissimdata(everyonedata, colors, l2e('Foveal'), l2e('Foveal')),colors)\n",
    "\n",
    "test"
   ]
  },
  {
   "cell_type": "code",
   "execution_count": 214,
   "metadata": {},
   "outputs": [],
   "source": [
    "if(plotexpsummary){\n",
    "    expsummaryplot(datadf,savestr)\n",
    "    expsummaryplot(datadf,savestr,TRUE)\n",
    "}"
   ]
  },
  {
   "cell_type": "code",
   "execution_count": 215,
   "metadata": {},
   "outputs": [
    {
     "name": "stdout",
     "output_type": "stream",
     "text": [
      "initial  value 10.110642 \n",
      "iter   5 value 4.776044\n",
      "iter  10 value 4.309526\n",
      "final  value 4.276221 \n",
      "converged\n",
      "initial  value 9.398094 \n",
      "iter   5 value 4.759062\n",
      "iter  10 value 3.994180\n",
      "final  value 3.981702 \n",
      "converged\n",
      "initial  value 5.047839 \n",
      "iter   5 value 1.323556\n",
      "iter  10 value 0.944285\n",
      "iter  15 value 0.841798\n",
      "iter  20 value 0.821025\n",
      "final  value 0.817766 \n",
      "converged\n"
     ]
    },
    {
     "name": "stderr",
     "output_type": "stream",
     "text": [
      "`stat_bindot()` using `bins = 30`. Pick better value with `binwidth`.\n",
      "`stat_bindot()` using `bins = 30`. Pick better value with `binwidth`.\n",
      "`stat_bindot()` using `bins = 30`. Pick better value with `binwidth`.\n",
      "`stat_bindot()` using `bins = 30`. Pick better value with `binwidth`.\n",
      "`stat_bindot()` using `bins = 30`. Pick better value with `binwidth`.\n"
     ]
    },
    {
     "name": "stdout",
     "output_type": "stream",
     "text": [
      "[1] \"data/alldata_Exp_Summary_Plots/_Summary_128_subjects_plot.png\"\n",
      "initial  value 3.365119 \n",
      "iter   5 value 1.843522\n",
      "iter  10 value 1.615815\n",
      "iter  15 value 1.571471\n",
      "final  value 1.567521 \n",
      "converged\n",
      "initial  value 5.607216 \n",
      "iter   5 value 2.817553\n",
      "iter  10 value 2.443810\n",
      "final  value 2.402800 \n",
      "converged\n",
      "initial  value 4.294241 \n",
      "iter   5 value 2.475724\n",
      "iter  10 value 2.280757\n",
      "final  value 2.271904 \n",
      "converged\n"
     ]
    },
    {
     "name": "stderr",
     "output_type": "stream",
     "text": [
      "`stat_bindot()` using `bins = 30`. Pick better value with `binwidth`.\n",
      "`stat_bindot()` using `bins = 30`. Pick better value with `binwidth`.\n",
      "`stat_bindot()` using `bins = 30`. Pick better value with `binwidth`.\n",
      "`stat_bindot()` using `bins = 30`. Pick better value with `binwidth`.\n",
      "`stat_bindot()` using `bins = 30`. Pick better value with `binwidth`.\n"
     ]
    },
    {
     "name": "stdout",
     "output_type": "stream",
     "text": [
      "[1] \"data/alldata_Exp_Summary_Plots/_Summary_37_subjects_CLEAN_plot.png\"\n"
     ]
    }
   ],
   "source": [
    "if(population){\n",
    "    population_plot(datadf,savestr)\n",
    "    population_plot(datadf,savestr,TRUE)\n",
    "}"
   ]
  },
  {
   "cell_type": "code",
   "execution_count": null,
   "metadata": {},
   "outputs": [],
   "source": [
    "# position plot (negative control)\n",
    "positionplot <- function(datadf){\n",
    "    # MATRICES\n",
    "    everyonedata <- aggregate_df(datadf)\n",
    "    # FF Matrix plot\n",
    "    FFmatrix <- dissimplot(dissimdata(everyonedata, colors, l2e('Foveal'), l2e('Foveal')),colors, 'position')\n",
    "    # FP Matrix plot\n",
    "    FPmatrix <- dissimplot(dissimdata(everyonedata, colors, l2e('Foveal'), l2e('Peripheral')),colors, 'position')\n",
    "    # PP Matrix plot\n",
    "    PPmatrix <- dissimplot(dissimdata(everyonedata, colors, l2e('Peripheral'), l2e('Peripheral')),colors, 'position')\n",
    "    \n",
    "    g <- arrangeGrob(FFmatrix, FPmatrix, PPmatrix,\n",
    "                    nrow = 1, ncol= 3)\n",
    "     # save it\n",
    "    ggsave(paste(savestr,\"position negative control\",\"plot.png\",sep='_'),g, height = 10, width = 30)\n",
    "}"
   ]
  }
 ],
 "metadata": {
  "kernelspec": {
   "display_name": "R",
   "language": "R",
   "name": "ir"
  },
  "language_info": {
   "codemirror_mode": "r",
   "file_extension": ".r",
   "mimetype": "text/x-r-source",
   "name": "R",
   "pygments_lexer": "r",
   "version": "3.6.1"
  }
 },
 "nbformat": 4,
 "nbformat_minor": 2
}
