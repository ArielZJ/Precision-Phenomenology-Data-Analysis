{
 "cells": [
  {
   "cell_type": "code",
   "execution_count": 1,
   "metadata": {},
   "outputs": [],
   "source": [
    "# live dangerously, get rid of pesky warnings\n",
    "oldw <- getOption(\"warn\")\n",
    "options(warn = -1)"
   ]
  },
  {
   "cell_type": "code",
   "execution_count": 2,
   "metadata": {
    "scrolled": false
   },
   "outputs": [
    {
     "name": "stderr",
     "output_type": "stream",
     "text": [
      "\n",
      "Attaching package: 'dplyr'\n",
      "\n",
      "The following objects are masked from 'package:plyr':\n",
      "\n",
      "    arrange, count, desc, failwith, id, mutate, rename, summarise,\n",
      "    summarize\n",
      "\n",
      "The following objects are masked from 'package:stats':\n",
      "\n",
      "    filter, lag\n",
      "\n",
      "The following objects are masked from 'package:base':\n",
      "\n",
      "    intersect, setdiff, setequal, union\n",
      "\n",
      "Registered S3 methods overwritten by 'ggplot2':\n",
      "  method         from \n",
      "  [.quosures     rlang\n",
      "  c.quosures     rlang\n",
      "  print.quosures rlang\n",
      "\n",
      "Attaching package: 'gridExtra'\n",
      "\n",
      "The following object is masked from 'package:dplyr':\n",
      "\n",
      "    combine\n",
      "\n",
      "\n",
      "Attaching package: 'MASS'\n",
      "\n",
      "The following object is masked from 'package:dplyr':\n",
      "\n",
      "    select\n",
      "\n",
      "\n",
      "Attaching package: 'Matrix'\n",
      "\n",
      "The following object is masked from 'package:tidyr':\n",
      "\n",
      "    expand\n",
      "\n",
      "\n",
      "Attaching package: 'reshape2'\n",
      "\n",
      "The following object is masked from 'package:tidyr':\n",
      "\n",
      "    smiths\n",
      "\n",
      "Loading required package: permute\n",
      "Loading required package: lattice\n",
      "This is vegan 2.5-6\n"
     ]
    }
   ],
   "source": [
    "shhh <- suppressPackageStartupMessages # stops annoying warnings when loading libraries\n",
    "library(tidyr)\n",
    "library(plyr)\n",
    "library(dplyr)\n",
    "library(ggplot2)\n",
    "library(gridExtra)\n",
    "library(MASS)\n",
    "library(Matrix)\n",
    "library(reshape2)\n",
    "library(ape) # stats\n",
    "library(vegan) # stats\n",
    "library(RColorBrewer)"
   ]
  },
  {
   "cell_type": "code",
   "execution_count": 3,
   "metadata": {},
   "outputs": [],
   "source": [
    "# rainbowcloud theme for plotting, stolen from: \n",
    "# https://micahallen.org/2018/03/15/introducing-raincloud-plots/?utm_campaign=News&utm_medium=Community&utm_source=DataCamp.com\n",
    "raincloud_theme = theme(\n",
    "text = element_text(size = 10),\n",
    "axis.title.x = element_text(size = 16),\n",
    "axis.title.y = element_text(size = 16),\n",
    "axis.text = element_text(size = 14),\n",
    "axis.text.x = element_text(angle = 45, vjust = 0.5),\n",
    "legend.title=element_text(size=16),\n",
    "legend.text=element_text(size=16),\n",
    "legend.position = \"right\",\n",
    "plot.title = element_text(lineheight=.8, face=\"bold\", size = 16),\n",
    "panel.border = element_blank(),\n",
    "panel.grid.minor = element_blank(),\n",
    "panel.grid.major = element_blank(),\n",
    "axis.line.x = element_line(colour = 'black', size=0.5, linetype='solid'),\n",
    "axis.line.y = element_line(colour = 'black', size=0.5, linetype='solid'))"
   ]
  },
  {
   "cell_type": "code",
   "execution_count": 4,
   "metadata": {},
   "outputs": [],
   "source": [
    "# stealing ability to make flat violin plots\n",
    "source(\"https://gist.githubusercontent.com/benmarwick/2a1bb0133ff568cbe28d/raw/fb53bd97121f7f9ce947837ef1a4c65a73bffb3f/geom_flat_violin.R\")"
   ]
  },
  {
   "cell_type": "markdown",
   "metadata": {},
   "source": [
    "### Functions we're going to use to do the analysis later"
   ]
  },
  {
   "cell_type": "markdown",
   "metadata": {},
   "source": [
    "#### Miscellaneous"
   ]
  },
  {
   "cell_type": "code",
   "execution_count": 5,
   "metadata": {},
   "outputs": [],
   "source": [
    "# get plot eccentricity labels\n",
    "ploteccen <- function(datadf){\n",
    "    if(datadf$Circle_1[1] == -1){\n",
    "            label1 = 'Foveal'\n",
    "        } else {\n",
    "            label1 = 'Peripheral'\n",
    "        }\n",
    "        if(datadf$Circle_2[1] == -1){\n",
    "            label2 = 'Foveal'\n",
    "        } else {\n",
    "            label2 = 'Peripheral'\n",
    "        }\n",
    "    return(c(label1,label2))\n",
    "}\n",
    "\n",
    "e2l <- function(eccentricity){\n",
    "    if(eccentricity == -1){\n",
    "        return('Foveal')\n",
    "    } else {\n",
    "        return('Peripheral')\n",
    "    }\n",
    "}\n",
    "\n",
    "l2e <- function(eccentricity){\n",
    "    if(eccentricity == 'Foveal'){\n",
    "        return(-1)\n",
    "    } else {\n",
    "        return(1)\n",
    "    }\n",
    "}"
   ]
  },
  {
   "cell_type": "markdown",
   "metadata": {},
   "source": [
    "#### Dissimilarity Matrices"
   ]
  },
  {
   "cell_type": "code",
   "execution_count": 6,
   "metadata": {},
   "outputs": [],
   "source": [
    "# obtain dissimilarity matrices with particular eccentricity values from dataframes\n",
    "dissimdata <- function(datadf, colors, eccentricity1, eccentricity2){\n",
    "    # select only the eccentricities we want to keep, e.g. (foveal, foveal)\n",
    "    datatemp = subset(datadf, Circle_1 == eccentricity1)\n",
    "    datatemp = subset(datatemp, Circle_2 == eccentricity2)\n",
    "    \n",
    "    # refactor the levels so they can be plotted properly later if need be\n",
    "    datatemp$Color_1 <- with(datatemp, factor(Color_1, levels = colors))\n",
    "    datatemp$Color_2 <- with(datatemp, factor(Color_2, levels = colors))\n",
    "    \n",
    "    return(datatemp)\n",
    "}"
   ]
  },
  {
   "cell_type": "code",
   "execution_count": 7,
   "metadata": {},
   "outputs": [],
   "source": [
    "# plot a dissimilarity matrix\n",
    "dissimplot <- function(datadf,colors,dependent='color'){\n",
    "    \n",
    "   # labeling the plot eccentricity comparisons\n",
    "    label1 <- ploteccen(datadf)[1]\n",
    "    label2 <- ploteccen(datadf)[2]\n",
    "    \n",
    "    \n",
    "    if(dependent == 'position'){ # use position to generate matrix (as a negative control)\n",
    "        plot <- ggplot(datadf, aes(x = bin1, y = bin2)) +\n",
    "        theme(        axis.title.x = element_blank(), axis.title.y = element_blank(),\n",
    "                      plot.title = element_text(hjust = 0.5)) +\n",
    "                      scale_x_discrete(limits=c(1,2,3,4,5,6,7,8,9)) + scale_y_discrete(limits=c(1,2,3,4,5,6,7,8,9))\n",
    "    } else { # use the colors to generate the matrix\n",
    "        plot <- ggplot(datadf, aes(x = Color_1, y = Color_2)) +\n",
    "        theme(axis.text.x = element_text(colour = colors), axis.text.y = element_text(colour = colors),\n",
    "                      axis.title.x = element_blank(), axis.title.y = element_blank(),\n",
    "                      plot.title = element_text(hjust = 0.5))\n",
    "    }\n",
    "    # stuff that's standard across plot types\n",
    "        plot <- plot + geom_raster(aes(fill = p_confidence)) +\n",
    "                labs(title = paste(label1, label2, sep = \" - \")) +\n",
    "                scale_fill_gradientn(colours = c(\"white\",\"black\")) +\n",
    "                guides(fill=guide_legend(title=\"Dissimilarity\"))\n",
    "    return(plot)\n",
    "}"
   ]
  },
  {
   "cell_type": "code",
   "execution_count": 8,
   "metadata": {},
   "outputs": [],
   "source": [
    "# making a matrix symmetric. Stolen from dclone: https://rdrr.io/github/datacloning/dclone/src/R/make.symmetric.R\n",
    "make.symmetric <-\n",
    "function(x)\n",
    "{\n",
    "    if (dim(x)[1] != dim(x)[2])\n",
    "        stop(\"'x' is not sqare matrix\")\n",
    "    rval <- t(x)\n",
    "    m <- (x[lower.tri(x)] + rval[lower.tri(rval)]) / 2\n",
    "    rval[lower.tri(rval)] <- m\n",
    "    rval <- t(rval)\n",
    "    rval[lower.tri(rval)] <- m\n",
    "    rval\n",
    "}"
   ]
  },
  {
   "cell_type": "markdown",
   "metadata": {},
   "source": [
    "#### Multidimensional Scaling Plots"
   ]
  },
  {
   "cell_type": "code",
   "execution_count": 9,
   "metadata": {},
   "outputs": [],
   "source": [
    "# turn a dataset into a matrix\n",
    "df2mat <- function(datadf,eccentricity1,eccentricity2,dependent='color'){\n",
    "    \n",
    "    # select only the eccentricities we want to keep, e.g. (foveal, foveal)\n",
    "    datadf = subset(datadf, Circle_1 == eccentricity1)\n",
    "    datadf = subset(datadf, Circle_2 == eccentricity2)\n",
    "    \n",
    "    if(dependent == 'position'){ # using stimulus location as a negative control\n",
    "        # aggregate over the remaining columns of interest\n",
    "        nmdsdata <- aggregate(datadf, by = list(datadf$bin1, datadf$bin2),FUN=mean)\n",
    "        nmdsdata$bin1 <- nmdsdata$Group.1\n",
    "        nmdsdata$bin2 <- nmdsdata$Group.2\n",
    "        \n",
    "        nmdsdata = subset(nmdsdata, select = c(\"bin1\",\"bin2\",\"p_confidence\"))  # get rid of unnecessary columns\n",
    "        nmdsmatrix <- spread(nmdsdata, bin1, p_confidence)\n",
    "    } else { # color as per normal\n",
    "        # aggregate over the remaining columns of interest\n",
    "        nmdsdata <- aggregate(datadf, by = list(datadf$Color_1, datadf$Color_2),FUN=mean)\n",
    "        nmdsdata$Color_1 <- nmdsdata$Group.1\n",
    "        nmdsdata$Color_2 <- nmdsdata$Group.2\n",
    "        \n",
    "        nmdsdata = subset(nmdsdata, select = c(\"Color_1\",\"Color_2\",\"p_confidence\"))  # get rid of unnecessary columns\n",
    "        nmdsmatrix <- spread(nmdsdata, Color_1, p_confidence)\n",
    "    }\n",
    "    \n",
    "    # convert the dataframe to a matrix\n",
    "    nmdsmatrix <- data.matrix(nmdsmatrix)\n",
    "    nmdsmatrix <- nmdsmatrix[,-1] # get rid of the labels in the first column, it messes up the code\n",
    "    \n",
    "    # having 0 dissimilarity between identical objects messes up the algorithm\n",
    "    # changing the 0 values to an arbitrarily small value, but this is not a good long-term solution\n",
    "    # need to find a better way of doing this\n",
    "    nmdsmatrix[nmdsmatrix == 0] <- 0.01\n",
    "    \n",
    "    \n",
    "    nmdsmatrix <- make.symmetric(nmdsmatrix) # averaging over Color_1 vs. Color_2 & Color_2 vs. Color_1    \n",
    "    return(nmdsmatrix)\n",
    "}"
   ]
  },
  {
   "cell_type": "code",
   "execution_count": 10,
   "metadata": {},
   "outputs": [],
   "source": [
    "# convert a standard matrix to a distance matrix\n",
    "mat2dist <- function(mat){\n",
    "    \n",
    "    return(distmat <- as.dist(mat))\n",
    "}"
   ]
  },
  {
   "cell_type": "markdown",
   "metadata": {},
   "source": [
    "Non-metric multidimensional scaling (NMDS)"
   ]
  },
  {
   "cell_type": "code",
   "execution_count": 11,
   "metadata": {},
   "outputs": [],
   "source": [
    "# find the nmds fit for a dataset\n",
    "nmdsfit <- function(distmatrix){\n",
    "      \n",
    "    fit <- isoMDS(distmatrix,k=2, maxit=100)\n",
    "    return(fit)\n",
    "}"
   ]
  },
  {
   "cell_type": "code",
   "execution_count": 12,
   "metadata": {},
   "outputs": [],
   "source": [
    "# plot the nmds fit\n",
    "nmdsplot <- function(fit, colors, abcolors, eccentricity1, eccentricity2){\n",
    "    \n",
    "    # get labels\n",
    "    \n",
    "    # change the nmdsfit back to a dataframe\n",
    "    nmdsdf <- as.data.frame(fit)\n",
    "    \n",
    "    plot <-     ggplot(nmdsdf, aes(x = points.1, y = points.2, color=colors, fill=colors)) + geom_point(size =10) + \n",
    "                scale_colour_manual(values = abcolors) + scale_fill_manual(values = abcolors) + \n",
    "                xlab(\"Dimension 1\") + ylab(\"Dimension 2\") + \n",
    "                ggtitle(paste(e2l(eccentricity1),e2l(eccentricity2),'Non-metric MDS',sep=' - '))\n",
    "    return(plot)\n",
    "}"
   ]
  },
  {
   "cell_type": "markdown",
   "metadata": {},
   "source": [
    "Classical multidimensional scaling"
   ]
  },
  {
   "cell_type": "code",
   "execution_count": 13,
   "metadata": {},
   "outputs": [],
   "source": [
    "# find the cmds fit for a dataset\n",
    "cmdsfit <- function(distmatrix){\n",
    "    \n",
    "    fit <- cmdscale(distmatrix,k=2)\n",
    "    return(fit)\n",
    "}"
   ]
  },
  {
   "cell_type": "code",
   "execution_count": 14,
   "metadata": {},
   "outputs": [],
   "source": [
    "# plot the cmds fit\n",
    "cmdsplot <- function(fit, colors, abcolors, eccentricity1, eccentricity2){\n",
    "    \n",
    "    # get labels\n",
    "    \n",
    "    # change the nmdsfit back to a dataframe\n",
    "    nmdsdf <- as.data.frame(fit)\n",
    "    \n",
    "    plot <-     ggplot(nmdsdf, aes(x = V1, y = V2, color=colors, fill=colors)) + geom_point(size =10) + \n",
    "                scale_colour_manual(values = abcolors) + scale_fill_manual(values = abcolors) + \n",
    "                xlab(\"Dimension 1\") + ylab(\"Dimension 2\") + \n",
    "                ggtitle(paste(e2l(eccentricity1),e2l(eccentricity2),'Classical MDS',sep=' - '))\n",
    "    return(plot)\n",
    "}"
   ]
  },
  {
   "cell_type": "markdown",
   "metadata": {},
   "source": [
    "#### Some control measure plots"
   ]
  },
  {
   "cell_type": "markdown",
   "metadata": {},
   "source": [
    "Reaction time vs. similarity judgements"
   ]
  },
  {
   "cell_type": "code",
   "execution_count": 15,
   "metadata": {},
   "outputs": [],
   "source": [
    "# similarity judgement histogram\n",
    "simhistplot <- function(datadf){\n",
    "    \n",
    "   plot <- ggplot(datadf, aes(x = p_confidence)) + geom_bar(aes(y = ..prop..)) +\n",
    "    scale_x_discrete(limits=c(0,1,2,3,4,5,6,7), name = 'Dissimilarity') +\n",
    "    ylab('Frequency')\n",
    "    return(plot)\n",
    "}\n",
    "\n",
    "simhistplot_summary <- function(datadf){\n",
    "    \n",
    "    datadf$subject <- as.character(datadf$subject) # necessary for visualisation\n",
    "    \n",
    "    plot <- ggplot(datadf, aes(x = p_confidence)) + \n",
    "    geom_line(stat='count',aes(y = ..prop..,group = subject),color='#CC9933') +\n",
    "    geom_line(stat='count',aes(y = ..prop..),size=1.5) +\n",
    "    scale_x_discrete(limits=c(0,1,2,3,4,5,6,7), name = 'Dissimilarity') +\n",
    "    ylab('Frequency') \n",
    "    return(plot)\n",
    "    \n",
    "}"
   ]
  },
  {
   "cell_type": "code",
   "execution_count": 16,
   "metadata": {},
   "outputs": [],
   "source": [
    "# reaction time for each similarity\n",
    "rsplot <- function(datadf){\n",
    "    \n",
    "    plot <- ggplot(datadf, aes(x= p_confidence, y=response_time)) + \n",
    "    stat_summary(fun.y = mean, geom = \"bar\") + \n",
    "    stat_summary(fun.data = mean_se, geom = \"errorbar\", size =0.5, aes(width=0.5)) +\n",
    "    scale_x_discrete(limits=c(0,1,2,3,4,5,6,7), name = 'Dissimilarity') + ylab('Reaction Time (ms)') +\n",
    "    theme(legend.position = \"none\") +\n",
    "    ylim(0,4000) # anyone taking more than 4 seconds has probably mindwandered\n",
    "    \n",
    "    return(plot)\n",
    "}\n",
    "\n",
    "rsplot_summary <- function(datadf){\n",
    "    \n",
    "    datadf$subject <- as.character(datadf$subject) # necessary for visualisation\n",
    "    \n",
    "    \n",
    "    \n",
    "    plot <- ggplot(datadf, aes(x= p_confidence, y=response_time,group = subject, color = subject)) + \n",
    "    stat_summary(fun.y = mean, geom = \"line\", size=0.8) + \n",
    "    #stat_summary(fun.data = mean_se, geom = \"errorbar\", size =0.5, aes(width=0.5)) +\n",
    "    scale_x_discrete(limits=c(0,1,2,3,4,5,6,7), name = 'Dissimilarity') + ylab('Mean Reaction Time (ms)') +\n",
    "    theme(legend.position = \"none\") +\n",
    "    ylim(0,4000) # anyone taking more than 4 seconds has probably mindwandered \n",
    "    \n",
    "    return(plot)\n",
    "    \n",
    "}"
   ]
  },
  {
   "cell_type": "code",
   "execution_count": 17,
   "metadata": {},
   "outputs": [],
   "source": [
    "# reaction time raincloud plot\n",
    "rsplot_raincloud <- function(datadf,xtype='linear'){\n",
    "    \n",
    "    datadf$subject <- as.character(datadf$subject) # necessary for visualisation  \n",
    "    datadf$p_confidence <- as.character(datadf$p_confidence) # necessary for visualisation\n",
    "    \n",
    "    ylabtext = 'Reaction Time (ms)'\n",
    "    \n",
    "    plot <- ggplot(datadf, aes(y = response_time, x = p_confidence, fill = p_confidence)) +\n",
    "            geom_flat_violin(position = position_nudge(x = .2, y = 0), alpha = .8) +\n",
    "            geom_point(aes(y = response_time, color = p_confidence),\n",
    "                   position = position_jitter(width = .15), size = .5, alpha = 0.8) +\n",
    "            geom_boxplot(width = .1, guides = FALSE, outlier.shape = NA, alpha = 0.5) +\n",
    "            expand_limits(x = 5.25) +\n",
    "            guides(fill = FALSE) +\n",
    "            guides(color = FALSE) +\n",
    "            scale_color_brewer(palette = \"Spectral\") +\n",
    "            scale_fill_brewer(palette = \"Spectral\") +\n",
    "            xlab('Dissimilarity') + ylab(\"Reaction Time (ms)\")\n",
    "            # coord_flip() +\n",
    "            theme_bw() +\n",
    "            raincloud_theme\n",
    "    \n",
    "    if(xtype == 'log'){\n",
    "        plot <- plot + scale_y_continuous(trans='log10')\n",
    "    } else{\n",
    "        plot <- plot + ylim(0,5000)\n",
    "    }\n",
    "    \n",
    "    return(plot)\n",
    "}"
   ]
  },
  {
   "cell_type": "code",
   "execution_count": 18,
   "metadata": {},
   "outputs": [],
   "source": [
    "# subject info\n",
    "sumplot <- function(datadf){\n",
    "    \n",
    "    # change ms to s, add the delay for each trial\n",
    "    datadf$response_time <- ((datadf$response_time + 0.125*nrow(datadf)) / 1000)\n",
    "    \n",
    "    plot <- ggplot(datadf, aes(x=subject, y = response_time)) + \n",
    "    stat_summary(fun.y = sum, geom = \"bar\") + ylim(0,1000) +\n",
    "    ylab('Response Time Total') + theme(axis.title.x=element_blank(), axis.text.x = element_text(size=20))\n",
    "    \n",
    "    return(plot)\n",
    "}"
   ]
  },
  {
   "cell_type": "markdown",
   "metadata": {},
   "source": [
    "### Statistics"
   ]
  },
  {
   "cell_type": "markdown",
   "metadata": {},
   "source": [
    "Setting parameters"
   ]
  },
  {
   "cell_type": "code",
   "execution_count": 19,
   "metadata": {},
   "outputs": [],
   "source": [
    "acceptable_trace = 2\n",
    "acceptable_antitrace = 4"
   ]
  },
  {
   "cell_type": "markdown",
   "metadata": {},
   "source": [
    "Useful functions"
   ]
  },
  {
   "cell_type": "code",
   "execution_count": 20,
   "metadata": {},
   "outputs": [],
   "source": [
    "# compare the foveal and peripheral matrices to each other\n",
    "fvp_test <- function(datadf,dependent='color'){\n",
    "    \n",
    "    if(dependent=='position'){\n",
    "        # first, turn the dataframe into the relevant matrices\n",
    "        fmatrix <- df2mat(datadf, l2e('Foveal'), l2e('Foveal'),'position')\n",
    "        #fpmatrix <- distmatrix(datadf, l2e('Foveal'), l2e('Peripheral'))\n",
    "        pmatrix <- df2mat(datadf, l2e('Peripheral'), l2e('Peripheral'),'position')\n",
    "    } else{\n",
    "        # first, turn the dataframe into the relevant matrices\n",
    "        fmatrix <- df2mat(datadf, l2e('Foveal'), l2e('Foveal'))\n",
    "        #fpmatrix <- distmatrix(datadf, l2e('Foveal'), l2e('Peripheral'))\n",
    "        pmatrix <- df2mat(datadf, l2e('Peripheral'), l2e('Peripheral'))\n",
    "    }\n",
    "    #Fovea vs Periphery\n",
    "    test <- mantel(fmatrix, pmatrix, method=\"spearman\",permutations = 9999)\n",
    "    return(test)\n",
    "}"
   ]
  },
  {
   "cell_type": "code",
   "execution_count": 21,
   "metadata": {},
   "outputs": [],
   "source": [
    "# compare the each of the foveal and peripheral matrices to a random uniform distribution using a ... test\n",
    "# not actually sure this is conceptually possible or even makes sense\n",
    "rand_test <- function(datadf){\n",
    "    \n",
    "    # first, turn the dataframe into the relevant matrices\n",
    "    fmatrix <- df2mat(datadf, l2e('Foveal'), l2e('Foveal'))\n",
    "    #fpmatrix <- distmatrix(datadf, l2e('Foveal'), l2e('Peripheral'))\n",
    "    pmatrix <- df2mat(datadf, l2e('Peripheral'), l2e('Peripheral'))\n",
    "    \n",
    "    \n",
    "    # compare\n",
    "    ftest <- \n",
    "    ptest <- \n",
    "    return(list(\"ftest\" = ftest, \"ptest\" = ptest)) # use index of result to get the foveal or peripheral comparison\n",
    "}\n",
    "\n"
   ]
  },
  {
   "cell_type": "code",
   "execution_count": 22,
   "metadata": {},
   "outputs": [],
   "source": [
    "# calculate trace average, small values presumably indicate subjects not just saying everything is completely dissimilar\n",
    "# will also need a complementary method to deal with them saying everything is the same? Might be an inappropriate\n",
    "# a-priori imposition though, I probably can't tell people how similar different colours should be...\n",
    "\n",
    "trace_avg <- function(datadf){\n",
    "    \n",
    "    # first, turn the dataframe into the relevant matrices\n",
    "    fmatrix <- df2mat(datadf, l2e('Foveal'), l2e('Foveal'))\n",
    "    #fpmatrix <- distmatrix(datadf, l2e('Foveal'), l2e('Peripheral'))\n",
    "    pmatrix <- df2mat(datadf, l2e('Peripheral'), l2e('Peripheral'))\n",
    "    \n",
    "    \n",
    "    \n",
    "    return(list( (sum(diag(fmatrix))/nrow(fmatrix)), (sum(diag(pmatrix))/nrow(pmatrix))))\n",
    "}"
   ]
  },
  {
   "cell_type": "code",
   "execution_count": 23,
   "metadata": {},
   "outputs": [],
   "source": [
    "# find the 'anti-trace' of a matrix\n",
    "antitrace <- function(mat){\n",
    "    \n",
    "    sum = 0\n",
    "    for(i in (1:nrow(mat))){\n",
    "        k = mat[ i, as.integer((ncol(mat)/2+i) %% ncol(mat))+1 ]\n",
    "        sum = sum + k\n",
    "    }\n",
    "    return(sum/nrow(mat))\n",
    "}"
   ]
  },
  {
   "cell_type": "code",
   "execution_count": 24,
   "metadata": {},
   "outputs": [],
   "source": [
    "# calculates the average of the 'anti-trace', the values I'd expect to be the most dissimilar.\n",
    "# this may not be an appropriate imposition on subjects...\n",
    "\n",
    "antitrace_avg <- function(datadf){\n",
    "    \n",
    "    # first, turn the dataframe into the relevant matrices\n",
    "    fmatrix <- df2mat(datadf, l2e('Foveal'), l2e('Foveal'))\n",
    "    #fpmatrix <- distmatrix(datadf, l2e('Foveal'), l2e('Peripheral'))\n",
    "    pmatrix <- df2mat(datadf, l2e('Peripheral'), l2e('Peripheral'))\n",
    "    \n",
    "    return(list(antitrace(fmatrix), antitrace(pmatrix)))\n",
    "}"
   ]
  },
  {
   "cell_type": "code",
   "execution_count": 25,
   "metadata": {},
   "outputs": [],
   "source": [
    "# just get a simple measure of if the matrices are correlated, irrespective of treating them as distance matrices\n",
    "matrixcor <- function(datadf,dependent='color'){\n",
    "    \n",
    "    if(dependent == 'position'){\n",
    "        # first, turn the dataframe into the relevant matrices\n",
    "        fmatrix <- df2mat(datadf, l2e('Foveal'), l2e('Foveal'),'position')\n",
    "        #fpmatrix <- distmatrix(datadf, l2e('Foveal'), l2e('Peripheral'))\n",
    "        pmatrix <- df2mat(datadf, l2e('Peripheral'), l2e('Peripheral'),'position')\n",
    "    } else {\n",
    "        # first, turn the dataframe into the relevant matrices\n",
    "        fmatrix <- df2mat(datadf, l2e('Foveal'), l2e('Foveal'))\n",
    "        #fpmatrix <- distmatrix(datadf, l2e('Foveal'), l2e('Peripheral'))\n",
    "        pmatrix <- df2mat(datadf, l2e('Peripheral'), l2e('Peripheral'))\n",
    "    }\n",
    "    \n",
    "    return(cor(c(fmatrix), c(pmatrix), method = \"spearman\"))\n",
    "}"
   ]
  },
  {
   "cell_type": "markdown",
   "metadata": {},
   "source": [
    "Run the analysis"
   ]
  },
  {
   "cell_type": "code",
   "execution_count": 26,
   "metadata": {},
   "outputs": [],
   "source": [
    "# stats for all the subjects\n",
    "allsubjectstats <- function(datadf){\n",
    "    \n",
    "    subjectlist <- sort(unique(datadf$subject)) # obtain a list of all the subjects\n",
    "\n",
    "\n",
    "    for (subjectid in subjectlist){\n",
    "        \n",
    "        subjectdf = subset(datadf, subject == subjectid) # select the df for subject of interest\n",
    "        cat(\"SUBJECT: \",subjectid,'\\n') # print subject id\n",
    "        print(\"Mantel Test: \")\n",
    "        print(fvp_test(subjectdf))\n",
    "        print(\"Matrices correlation: \")\n",
    "        print(matrixcor(subjectdf))\n",
    "        print(\"Quality control measures:\")\n",
    "        print(\"Trace average:\")\n",
    "        print(trace_avg(subjectdf))\n",
    "        print(\"Anti-trace average:\")\n",
    "        print(antitrace_avg(subjectdf))\n",
    "    }\n",
    "}"
   ]
  },
  {
   "cell_type": "code",
   "execution_count": 27,
   "metadata": {
    "scrolled": true
   },
   "outputs": [],
   "source": [
    "# function to aggregate everyone's data together\n",
    "aggregate_df <- function(datadf,dependent='color'){\n",
    "\n",
    "    # aggregate everyone's data together for the matrices\n",
    "    everyonedata <- aggregate(datadf, by=list(\n",
    "        datadf$Color_1,\n",
    "        datadf$Color_2,\n",
    "        datadf$Circle_1,\n",
    "        datadf$Circle_2,\n",
    "        datadf$bin1,\n",
    "        datadf$bin2\n",
    "        ), FUN=mean, \n",
    "    )\n",
    "\n",
    "    # correct the column names\n",
    "    everyonedata$Color_1 <- everyonedata$Group.1\n",
    "    everyonedata$Color_2 <- everyonedata$Group.2\n",
    "    everyonedata$Circle_1 <- everyonedata$Group.3\n",
    "    everyonedata$Circle_2 <- everyonedata$Group.4\n",
    "    everyonedata$bin1 <- everyonedata$Group.5\n",
    "    everyonedata$bin2 <- everyonedata$Group.6\n",
    "    \n",
    "    return(everyonedata)\n",
    "}"
   ]
  },
  {
   "cell_type": "code",
   "execution_count": 28,
   "metadata": {},
   "outputs": [],
   "source": [
    "# compliance checker\n",
    "compliance_checker <- function(datadf,eccentricity){\n",
    "    \n",
    "    subjectlist <- sort(unique(datadf$subject)) # obtain a list of all the subjects\n",
    "    n_subject = length(subjectlist)\n",
    "    trace_fail = 0\n",
    "    antitrace_fail = 0\n",
    "    \n",
    "    if(eccentricity == 'Foveal'){\n",
    "        e_ind = 1\n",
    "    } else if (eccentricity == 'Peripheral'){\n",
    "        e_ind = 2\n",
    "    }\n",
    "\n",
    "    for (subjectid in subjectlist){\n",
    "        subjectdf = subset(datadf, subject == subjectid) # select the df for subject of interest\n",
    "        if(trace_avg(subjectdf)[e_ind] > acceptable_trace){\n",
    "            trace_fail = trace_fail + 1\n",
    "        }\n",
    "        if(antitrace_avg(subjectdf)[e_ind] < acceptable_antitrace){\n",
    "            antitrace_fail = antitrace_fail + 1\n",
    "        }\n",
    "    }\n",
    "    print(paste(\"Trace non-compliance: \",trace_fail,\"/\",n_subject))\n",
    "    print(paste(\"Anti-trace non-compliance: \",antitrace_fail,\"/\",n_subject))\n",
    "}"
   ]
  },
  {
   "cell_type": "code",
   "execution_count": 29,
   "metadata": {},
   "outputs": [],
   "source": [
    "# summary stats\n",
    "summarystats <- function(datadf,dependent='color'){\n",
    "    if(dependent=='position'){\n",
    "        print(\"Mantel Test: \")\n",
    "        print(fvp_test(aggregate_df(datadf),'position'))\n",
    "        print(\"Matrices correlation: \")\n",
    "        print(matrixcor(aggregate_df(datadf),'position'))\n",
    "    } else {\n",
    "        print(\"Mantel Test: \")\n",
    "        print(fvp_test(aggregate_df(datadf)))\n",
    "        print(\"Matrices correlation: \")\n",
    "        print(matrixcor(aggregate_df(datadf)))\n",
    "    }\n",
    "    \n",
    "    \n",
    "    print(\"Foveal compliance:\")\n",
    "    compliance_checker(datadf,'Foveal')\n",
    "    print(\"Peripheral compliance:\")\n",
    "    compliance_checker(datadf,'Peripheral')\n",
    "}"
   ]
  },
  {
   "cell_type": "markdown",
   "metadata": {},
   "source": [
    "## Actual Data Analysis Time"
   ]
  },
  {
   "cell_type": "markdown",
   "metadata": {},
   "source": [
    "### Plot individual subjects"
   ]
  },
  {
   "cell_type": "markdown",
   "metadata": {},
   "source": [
    "#### Initial data pre-processing, before getting to the subject level"
   ]
  },
  {
   "cell_type": "code",
   "execution_count": 52,
   "metadata": {},
   "outputs": [],
   "source": [
    "# Initial data of 15 subjects from mTurk\n",
    "filename = \"PracticeTrial_raw_1_2020-05-27-23-27-47-214.csv\"\n",
    "datadf = read.csv(filename)\n",
    "savestr <- substr(filename,1,nchar(filename)-4) # for saving related files later"
   ]
  },
  {
   "cell_type": "code",
   "execution_count": 53,
   "metadata": {},
   "outputs": [],
   "source": [
    "# remove practice trial data\n",
    "datadf <- subset(datadf, trial_number != 0)"
   ]
  },
  {
   "cell_type": "code",
   "execution_count": 55,
   "metadata": {},
   "outputs": [],
   "source": [
    "# changing color values from RGB to hex for graphing purpose\n",
    "datadf$Color_1 <- as.character(datadf$Color_1)\n",
    "datadf$Color_1 <- revalue(datadf$Color_1, \n",
    "                                                    c(  \"1\" = '#FF0000',\n",
    "                                                        \"2\" = '#FFAA00',\n",
    "                                                        \"3\" = '#AAFF00',\n",
    "                                                        \"4\" = '#00FF00',\n",
    "                                                        \"5\" = '#00FFA9',\n",
    "                                                        \"6\" = '#00A9FF',\n",
    "                                                        \"7\" = '#0000FF',\n",
    "                                                        \"8\" = '#AA00FF',\n",
    "                                                        \"9\" = '#FF00AA'))\n",
    "datadf$Color_2 <- as.character(datadf$Color_2)\n",
    "datadf$Color_2 <- revalue(datadf$Color_2, \n",
    "                                                    c(  \"1\" = '#FF0000',\n",
    "                                                        \"2\" = '#FFAA00',\n",
    "                                                        \"3\" = '#AAFF00',\n",
    "                                                        \"4\" = '#00FF00',\n",
    "                                                        \"5\" = '#00FFA9',\n",
    "                                                        \"6\" = '#00A9FF',\n",
    "                                                        \"7\" = '#0000FF',\n",
    "                                                        \"8\" = '#AA00FF',\n",
    "                                                        \"9\" = '#FF00AA'))\n",
    "\n",
    "# colors for the labels\n",
    "colors <- c('#FF0000','#FFAA00','#AAFF00','#00FF00','#00FFA9','#00A9FF','#0000FF','#AA00FF','#FF00AA')\n",
    "abcolors <- sort(colors)"
   ]
  },
  {
   "cell_type": "code",
   "execution_count": 56,
   "metadata": {},
   "outputs": [],
   "source": [
    "# changing from int indicators in the .csv file to more readable labels for eccentricity\n",
    "foveal = -1\n",
    "peripheral = 1"
   ]
  },
  {
   "cell_type": "code",
   "execution_count": 57,
   "metadata": {},
   "outputs": [],
   "source": [
    "# set the maximum and minimum dissimilarity values for later analysis\n",
    "min_val = 0\n",
    "max_val = 6"
   ]
  },
  {
   "cell_type": "code",
   "execution_count": 58,
   "metadata": {},
   "outputs": [],
   "source": [
    "# set the number of trials subjects do\n",
    "trialnumber = 81"
   ]
  },
  {
   "cell_type": "code",
   "execution_count": 59,
   "metadata": {},
   "outputs": [],
   "source": [
    "# binning the positions the stimuli were displayed in to use as a control measure later\n",
    "datadf$bin1 <- as.integer((datadf$Position_1+180) / 40) + 1\n",
    "datadf$bin2 <- as.integer((datadf$Position_2+180) / 40) + 1"
   ]
  },
  {
   "cell_type": "markdown",
   "metadata": {},
   "source": [
    "Some actual data cleaning"
   ]
  },
  {
   "cell_type": "code",
   "execution_count": 37,
   "metadata": {},
   "outputs": [],
   "source": [
    "# function to throw out  participants who didn't finish\n",
    "remove_incomplete <- function(datadf,trialnumber){\n",
    "    \n",
    "    subjectlist <- sort(unique(datadf$subject)) # obtain a list of all the subjects\n",
    "    \n",
    "    for (ID in subjectlist){ # go through subject by subject\n",
    "        if ( nrow(subset(datadf, subject == ID)) != trialnumber){ # see if they have all 243 trials\n",
    "            print(paste(\"Subject\",ID,\"did not complete the task\",sep=' '))\n",
    "            datadf <- subset(datadf, subject != ID) # dump the subject\n",
    "        }\n",
    "    }\n",
    "    return(datadf)\n",
    "}"
   ]
  },
  {
   "cell_type": "code",
   "execution_count": 38,
   "metadata": {},
   "outputs": [
    {
     "name": "stdout",
     "output_type": "stream",
     "text": [
      "[1] \"Subject 1 did not complete the task\"\n"
     ]
    }
   ],
   "source": [
    "# actually throw out the subjects who didn't complete\n",
    "datadf <- remove_incomplete(datadf,trialnumber)"
   ]
  },
  {
   "cell_type": "code",
   "execution_count": 39,
   "metadata": {},
   "outputs": [],
   "source": [
    "# function to list participants who don't meet statistical cleaning assumptions\n"
   ]
  },
  {
   "cell_type": "markdown",
   "metadata": {},
   "source": [
    "#### Actually plot the individual subjects"
   ]
  },
  {
   "cell_type": "code",
   "execution_count": 40,
   "metadata": {},
   "outputs": [],
   "source": [
    "# plot summary data for all the subjects individually\n",
    "allsubjectsplot <- function(datadf){\n",
    "    \n",
    "    subjectlist <- sort(unique(datadf$subject)) # obtain a list of all the subjects\n",
    "\n",
    "    dir.create(paste(savestr,\"Subject_Plots\",sep='_')) # make a new folder to store the subject plots in\n",
    "\n",
    "    for (subjectid in subjectlist){\n",
    "        print(paste(\"Processing subject:\",subjectid,sep=' '))\n",
    "        subjectplot(datadf, subjectid)\n",
    "    }\n",
    "}"
   ]
  },
  {
   "cell_type": "code",
   "execution_count": 41,
   "metadata": {},
   "outputs": [],
   "source": [
    "# make a plot of the key summary data for a subject\n",
    "subjectplot <- function(datadf, subjectid){\n",
    "    \n",
    "    subjectdf = subset(datadf, subject == subjectid) # select the ID for subject of interest\n",
    "    \n",
    "    # FF Matrix plot\n",
    "    FFmatrix <- dissimplot(dissimdata(subjectdf, colors, l2e('Foveal'), l2e('Foveal')),colors)\n",
    "    # FP Matrix plot\n",
    "    FPmatrix <- dissimplot(dissimdata(subjectdf, colors, l2e('Foveal'), l2e('Peripheral')),colors)\n",
    "    # PP Matrix plot\n",
    "    PPmatrix <- dissimplot(dissimdata(subjectdf, colors, l2e('Peripheral'), l2e('Peripheral')),colors)\n",
    "    \n",
    "    # FF CMDS plot\n",
    "    FFcmds <-  cmdsplot(cmdsfit(mat2dist(df2mat(subjectdf,l2e('Foveal'), l2e('Foveal')))), \n",
    "                        colors, abcolors, l2e('Foveal'), l2e('Foveal'))\n",
    "    # FF CMDS plot\n",
    "    FPcmds <-  cmdsplot(cmdsfit(mat2dist(df2mat(subjectdf,l2e('Foveal'), l2e('Peripheral')))), \n",
    "                        colors, abcolors, l2e('Foveal'), l2e('Peripheral'))\n",
    "    # FF CMDS plot\n",
    "    PPcmds <-  cmdsplot(cmdsfit(mat2dist(df2mat(subjectdf,l2e('Peripheral'), l2e('Peripheral')))), \n",
    "                        colors, abcolors, l2e('Peripheral'), l2e('Peripheral'))\n",
    "    \n",
    "    # FF CMDS plot\n",
    "    FFnmds <-  nmdsplot(nmdsfit(mat2dist(df2mat(subjectdf,l2e('Foveal'), l2e('Foveal')))), \n",
    "                        colors, abcolors, l2e('Foveal'), l2e('Foveal'))\n",
    "    # FF CMDS plot\n",
    "    FPnmds <-  nmdsplot(nmdsfit(mat2dist(df2mat(subjectdf,l2e('Foveal'), l2e('Peripheral')))), \n",
    "                        colors, abcolors, l2e('Foveal'), l2e('Peripheral'))\n",
    "    # FF CMDS plot\n",
    "    PPnmds <-  nmdsplot(nmdsfit(mat2dist(df2mat(subjectdf,l2e('Peripheral'), l2e('Peripheral')))), \n",
    "                        colors, abcolors, l2e('Peripheral'), l2e('Peripheral'))\n",
    "    \n",
    "    # Similarity judgements\n",
    "    simplot <- simhistplot(subjectdf)\n",
    "    # Reaction times\n",
    "    reactionplot <- rsplot(subjectdf)\n",
    "    # summary plot\n",
    "    rainplot <- rsplot_raincloud(subjectdf,'log')\n",
    "    \n",
    "    # put all the plots together\n",
    "    g <- arrangeGrob(FFmatrix, FPmatrix, PPmatrix, simplot,\n",
    "                    FFcmds,FPcmds,PPcmds, reactionplot,\n",
    "                    FFnmds,FPnmds,PPnmds, rainplot,\n",
    "                    nrow = 3, ncol=4)\n",
    "    \n",
    "    # save it\n",
    "    ggsave(paste(savestr,\"Subject_Plots/\",\"ID\",subjectid,\"plot.png\",sep='_'),g, height = 30, width = 40)\n",
    "}"
   ]
  },
  {
   "cell_type": "code",
   "execution_count": 42,
   "metadata": {},
   "outputs": [],
   "source": [
    "# should add a function to make the subject summary plot clearly label non-compliant subjects, \n",
    "# e.g. turn the background red or something"
   ]
  },
  {
   "cell_type": "code",
   "execution_count": 43,
   "metadata": {
    "scrolled": true
   },
   "outputs": [],
   "source": [
    "allsubjectsplot(datadf)"
   ]
  },
  {
   "cell_type": "markdown",
   "metadata": {},
   "source": [
    "### Plot summary of all subjects"
   ]
  },
  {
   "cell_type": "code",
   "execution_count": 44,
   "metadata": {},
   "outputs": [],
   "source": [
    "# generate a summary plot of all the collected data from all the subjects\n",
    "subjectsummaryplot <- function(datadf){\n",
    "    \n",
    "    # MATRICES\n",
    "    everyonedata <- aggregate_df(datadf)\n",
    "    # FF Matrix plot\n",
    "    FFmatrix <- dissimplot(dissimdata(everyonedata, colors, l2e('Foveal'), l2e('Foveal')),colors)\n",
    "    # FP Matrix plot\n",
    "    FPmatrix <- dissimplot(dissimdata(everyonedata, colors, l2e('Foveal'), l2e('Peripheral')),colors)\n",
    "    # PP Matrix plot\n",
    "    PPmatrix <- dissimplot(dissimdata(everyonedata, colors, l2e('Peripheral'), l2e('Peripheral')),colors)\n",
    "    \n",
    "    # CMDS\n",
    "    # FF CMDS plot\n",
    "    FFcmds <-  cmdsplot(cmdsfit(mat2dist(df2mat(everyonedata,l2e('Foveal'), l2e('Foveal')))), \n",
    "                        colors, abcolors, l2e('Foveal'), l2e('Foveal'))\n",
    "    # FF CMDS plot\n",
    "    FPcmds <-  cmdsplot(cmdsfit(mat2dist(df2mat(everyonedata,l2e('Foveal'), l2e('Peripheral')))), \n",
    "                        colors, abcolors, l2e('Foveal'), l2e('Peripheral'))\n",
    "    # FF CMDS plot\n",
    "    PPcmds <-  cmdsplot(cmdsfit(mat2dist(df2mat(everyonedata,l2e('Peripheral'), l2e('Peripheral')))), \n",
    "                        colors, abcolors, l2e('Peripheral'), l2e('Peripheral'))\n",
    "    # NMDS\n",
    "    # FF nMDS plot\n",
    "    FFnmds <-  nmdsplot(nmdsfit(mat2dist(df2mat(everyonedata,l2e('Foveal'), l2e('Foveal')))), \n",
    "                        colors, abcolors, l2e('Foveal'), l2e('Foveal'))\n",
    "    # FF CMDS plot\n",
    "    FPnmds <-  nmdsplot(nmdsfit(mat2dist(df2mat(everyonedata,l2e('Foveal'), l2e('Peripheral')))), \n",
    "                        colors, abcolors, l2e('Foveal'), l2e('Peripheral'))\n",
    "    # FF CMDS plot\n",
    "    PPnmds <-  nmdsplot(nmdsfit(mat2dist(df2mat(everyonedata,l2e('Peripheral'), l2e('Peripheral')))), \n",
    "                        colors, abcolors, l2e('Peripheral'), l2e('Peripheral'))\n",
    "    \n",
    "    # AUXILIARY plots\n",
    "    # Similarity judgements\n",
    "    simplot <- simhistplot_summary(datadf)\n",
    "    # Reaction times v1\n",
    "    reactionplot <- rsplot_summary(datadf)\n",
    "    # summary plot\n",
    "    raincloudplot <- rsplot_raincloud(datadf,'log')\n",
    "    \n",
    "    # put it all together\n",
    "    g <- arrangeGrob(FFmatrix, FPmatrix, PPmatrix, simplot,\n",
    "                    FFcmds,FPcmds,PPcmds, reactionplot,\n",
    "                    FFnmds,FPnmds,PPnmds, raincloudplot,\n",
    "                    nrow = 3, ncol= 4)\n",
    "    \n",
    "    # save it\n",
    "    ggsave(paste(savestr,\"Summary\",\"plot.png\",sep='_'),g, height = 30, width = 40)\n",
    "}"
   ]
  },
  {
   "cell_type": "code",
   "execution_count": 45,
   "metadata": {},
   "outputs": [
    {
     "ename": "ERROR",
     "evalue": "Error in aggregate.data.frame(datadf, by = list(datadf$Color_1, datadf$Color_2, : no rows to aggregate\n",
     "output_type": "error",
     "traceback": [
      "Error in aggregate.data.frame(datadf, by = list(datadf$Color_1, datadf$Color_2, : no rows to aggregate\nTraceback:\n",
      "1. subjectsummaryplot(datadf)",
      "2. aggregate_df(datadf)   # at line 5 of file <text>",
      "3. aggregate(datadf, by = list(datadf$Color_1, datadf$Color_2, datadf$Circle_1, \n .     datadf$Circle_2, datadf$bin1, datadf$bin2), FUN = mean, )   # at line 5-13 of file <text>",
      "4. aggregate.data.frame(datadf, by = list(datadf$Color_1, datadf$Color_2, \n .     datadf$Circle_1, datadf$Circle_2, datadf$bin1, datadf$bin2), \n .     FUN = mean, )",
      "5. stop(\"no rows to aggregate\")"
     ]
    }
   ],
   "source": [
    "subjectsummaryplot(datadf)"
   ]
  },
  {
   "cell_type": "code",
   "execution_count": null,
   "metadata": {},
   "outputs": [],
   "source": [
    "# position plot (negative control)\n",
    "positionplot <- function(datadf){\n",
    "    # MATRICES\n",
    "    everyonedata <- aggregate_df(datadf)\n",
    "    # FF Matrix plot\n",
    "    FFmatrix <- dissimplot(dissimdata(everyonedata, colors, l2e('Foveal'), l2e('Foveal')),colors, 'position')\n",
    "    # FP Matrix plot\n",
    "    FPmatrix <- dissimplot(dissimdata(everyonedata, colors, l2e('Foveal'), l2e('Peripheral')),colors, 'position')\n",
    "    # PP Matrix plot\n",
    "    PPmatrix <- dissimplot(dissimdata(everyonedata, colors, l2e('Peripheral'), l2e('Peripheral')),colors, 'position')\n",
    "    \n",
    "    g <- arrangeGrob(FFmatrix, FPmatrix, PPmatrix,\n",
    "                    nrow = 1, ncol= 3)\n",
    "     # save it\n",
    "    ggsave(paste(savestr,\"position negative control\",\"plot.png\",sep='_'),g, height = 10, width = 30)\n",
    "}"
   ]
  },
  {
   "cell_type": "code",
   "execution_count": null,
   "metadata": {},
   "outputs": [],
   "source": [
    "positionplot(datadf)"
   ]
  },
  {
   "cell_type": "code",
   "execution_count": null,
   "metadata": {},
   "outputs": [],
   "source": [
    "summarystats(datadf)"
   ]
  },
  {
   "cell_type": "markdown",
   "metadata": {},
   "source": [
    "### Playing with Analysis Techniques"
   ]
  },
  {
   "cell_type": "code",
   "execution_count": 46,
   "metadata": {},
   "outputs": [],
   "source": [
    "# return a list of the fovea matrix vs periphery matrix correlations for each subject\n",
    "\n",
    "fvp_list <- function(datadf){\n",
    "    \n",
    "    subjectlist <- sort(unique(datadf$subject)) # obtain a list of all the subjects\n",
    "    \n",
    "    correlation_list <- vector() # array to store the values in\n",
    "    \n",
    "    for (ID in subjectlist){ # go through subject by subject\n",
    "        subjectdf = subset(datadf, subject == ID) # select the ID for subject of interest\n",
    "        correlation_list <- c(correlation_list,matrixcor(subjectdf))\n",
    "    }\n",
    "    return(correlation_list)\n",
    "}"
   ]
  },
  {
   "cell_type": "code",
   "execution_count": 47,
   "metadata": {},
   "outputs": [],
   "source": [
    "fvp_correlations <- data.frame(fvp_list(datadf))"
   ]
  },
  {
   "cell_type": "code",
   "execution_count": 48,
   "metadata": {},
   "outputs": [
    {
     "data": {
      "image/png": "[encoded data removed]",
      "text/plain": [
       "plot without title"
      ]
     },
     "metadata": {},
     "output_type": "display_data"
    }
   ],
   "source": [
    "# plot the correlation list\n",
    "# should this be r-to-z transformed?\n",
    "corr_plot_1 <- ggplot(fvp_correlations,aes(x=fvp_list.datadf.)) + \n",
    "                geom_dotplot(binwidth=0.05) + \n",
    "                xlim(-1,1) + xlab('Correlation (Spearman)') + ylab('') + ggtitle('Fovea vs Periphery Correlations (within subject)')\n",
    "corr_plot_1"
   ]
  },
  {
   "cell_type": "code",
   "execution_count": 49,
   "metadata": {},
   "outputs": [],
   "source": [
    "# return a list of the fovea matrix (i) vs fovea matrix (j) correlations for all subjects\n",
    "fi_v_fj_list <- function(datadf,samples){\n",
    "    \n",
    "    subjectlist <- sort(unique(datadf$subject)) # obtain a list of all the subjects\n",
    "    \n",
    "    correlation_list <- vector() # array to store the values in\n",
    "    \n",
    "    for (i in 1:samples){ # go through subject by subject\n",
    "        i_j <- sample(subjectlist, 2, replace = FALSE)\n",
    "        subjectdf_i = subset(datadf, subject == i_j[1])\n",
    "        subjectdf_j = subset(datadf, subject == i_j[2])\n",
    "        \n",
    "        fmatrix_i <- df2mat(subjectdf_i, l2e('Foveal'), l2e('Foveal')) # get their fovea dissimilarity matrix\n",
    "        fmatrix_j <- df2mat(subjectdf_j, l2e('Foveal'), l2e('Foveal')) # get their fovea dissimilarity matrix\n",
    "        \n",
    "        correlation_list <- c(correlation_list, cor(c(fmatrix_i), c(fmatrix_j), method = \"spearman\"))\n",
    "    }\n",
    "    return(data.frame(correlation_list))\n",
    "}"
   ]
  },
  {
   "cell_type": "code",
   "execution_count": 50,
   "metadata": {},
   "outputs": [
    {
     "ename": "ERROR",
     "evalue": "Error in sample.int(length(x), size, replace, prob): invalid first argument\n",
     "output_type": "error",
     "traceback": [
      "Error in sample.int(length(x), size, replace, prob): invalid first argument\nTraceback:\n",
      "1. fi_v_fj_list(datadf, 100)",
      "2. sample(subjectlist, 2, replace = FALSE)   # at line 9 of file <text>",
      "3. sample.int(length(x), size, replace, prob)"
     ]
    }
   ],
   "source": [
    "fcor <- fi_v_fj_list(datadf,100)\n"
   ]
  },
  {
   "cell_type": "code",
   "execution_count": null,
   "metadata": {},
   "outputs": [],
   "source": [
    "corr_plot_2 <- ggplot(fcor,aes(x=correlation_list)) + \n",
    "                geom_dotplot(binwidth=0.05) + \n",
    "                xlim(-1,1) + xlab('Correlation (Spearman)') + ylab('') + ggtitle('Fovea (i) vs Fovea (j): Between-subjects')\n",
    "corr_plot_2"
   ]
  },
  {
   "cell_type": "code",
   "execution_count": null,
   "metadata": {},
   "outputs": [],
   "source": [
    "# put it all together\n",
    "    g <- arrangeGrob(corr_plot_1,corr_plot_2,\n",
    "                    nrow = 1, ncol= 2)\n",
    "    \n",
    "    # save it\n",
    "    ggsave(paste(savestr,\"correlation plot comparisons\",\"plot.png\",sep='_'),g, height = 5, width = 10)"
   ]
  },
  {
   "cell_type": "code",
   "execution_count": null,
   "metadata": {},
   "outputs": [],
   "source": [
    "id <- c(1:15)\n",
    "collated <- data.frame(id,fvp_list(datadf),fi_v_fj_list(datadf,15))\n"
   ]
  },
  {
   "cell_type": "code",
   "execution_count": null,
   "metadata": {},
   "outputs": [],
   "source": [
    "names(collated)[2] <- \"within_subject\"\n",
    "names(collated)[3] <- \"between_subject - random samples\""
   ]
  },
  {
   "cell_type": "code",
   "execution_count": null,
   "metadata": {},
   "outputs": [],
   "source": [
    "collated"
   ]
  },
  {
   "cell_type": "code",
   "execution_count": null,
   "metadata": {},
   "outputs": [],
   "source": [
    "collated_melted <- melt(collated, id = c(\"id\",\"within_subject\",\"between_subject - random samples\"))\n",
    "collated_reshaped <- reshape(collated, direction = \"long\",timevar=\"within_between\",\n",
    "                             varying = list(names(collated)[2:3]), v.names = \"Value\")"
   ]
  },
  {
   "cell_type": "code",
   "execution_count": null,
   "metadata": {},
   "outputs": [],
   "source": [
    "collated_reshaped"
   ]
  },
  {
   "cell_type": "code",
   "execution_count": null,
   "metadata": {},
   "outputs": [],
   "source": [
    "collated_reshaped$within_between[collated_reshaped$within_between == 1] ='within_subject - Fi v Fi'\n",
    "collated_reshaped$within_between[collated_reshaped$within_between == 2] ='between_subject - Fi v Fj'"
   ]
  },
  {
   "cell_type": "code",
   "execution_count": null,
   "metadata": {},
   "outputs": [],
   "source": [
    "collated_reshaped"
   ]
  },
  {
   "cell_type": "code",
   "execution_count": null,
   "metadata": {},
   "outputs": [],
   "source": [
    "collated_plot <- ggplot(collated_reshaped, aes(x=within_between, y=Value)) + geom_boxplot() + \n",
    "                geom_dotplot(binaxis='y',stackdir='center',dotsize=0.75) +\n",
    "                ylab(\"Correlation (Spearman)\") + xlab(\"\") + ylim(-1,1) +\n",
    "                theme(text = element_text(size=20))\n",
    "collated_plot"
   ]
  },
  {
   "cell_type": "code",
   "execution_count": null,
   "metadata": {},
   "outputs": [],
   "source": []
  },
  {
   "cell_type": "code",
   "execution_count": null,
   "metadata": {},
   "outputs": [],
   "source": []
  }
 ],
 "metadata": {
  "kernelspec": {
   "display_name": "R",
   "language": "R",
   "name": "ir"
  },
  "language_info": {
   "codemirror_mode": "r",
   "file_extension": ".r",
   "mimetype": "text/x-r-source",
   "name": "R",
   "pygments_lexer": "r",
   "version": "3.6.1"
  }
 },
 "nbformat": 4,
 "nbformat_minor": 2
}
