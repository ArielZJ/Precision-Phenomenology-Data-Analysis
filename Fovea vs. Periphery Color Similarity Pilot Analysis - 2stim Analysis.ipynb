{
 "cells": [
  {
   "cell_type": "markdown",
   "metadata": {},
   "source": [
    "## Analysis code for 'Are colour experiences the same across the visual field?'\n",
    "### Pre-registration code\n",
    "Written by Ariel Zeleznikow-Johnston, 2021\n",
    "ariel.zeleznikow-johnston@monash.edu  \n",
    "Github link to experiment: https://github.com/ArielZJ/SimilarityColorProject-MultiplePatches  \n",
    "Github link to this analysis code: https://github.com/ArielZJ/Precision-Phenomenology-Data-Analysis"
   ]
  },
  {
   "cell_type": "markdown",
   "metadata": {},
   "source": [
    "### Initialisations"
   ]
  },
  {
   "cell_type": "code",
   "execution_count": 1,
   "metadata": {},
   "outputs": [],
   "source": [
    "filename = \"data/pilotcompiled.csv\"\n",
    "savestr <- substr(filename,1,nchar(filename)-4) # for saving related files later"
   ]
  },
  {
   "cell_type": "code",
   "execution_count": 2,
   "metadata": {},
   "outputs": [],
   "source": [
    "# various parameters\n",
    "stimuli_number = 9\n",
    "response_type_list = c('during')\n",
    "trial_types = c('during')\n",
    "response_names = c('During')\n",
    "catch_trial_number = 10 # what it's set at at the moment, arbitrary\n",
    "condition_number = 3\n",
    "max.DSR = 7\n",
    "min.DSR = 0"
   ]
  },
  {
   "cell_type": "code",
   "execution_count": 65,
   "metadata": {},
   "outputs": [],
   "source": [
    "trace_cutoff = 2 # mean dissimilarity for physically identical colours must be below this\n",
    "antitrace_cutoff = 3.5 # mean dissimilarity accepted for maximally physically different colours must be above this\n",
    "rt_cutoff = 0 # mean reaction times must be above this\n",
    "score_cutoff=0.77"
   ]
  },
  {
   "cell_type": "code",
   "execution_count": 4,
   "metadata": {},
   "outputs": [],
   "source": [
    "exclude_noncompliant = FALSE"
   ]
  },
  {
   "cell_type": "code",
   "execution_count": 5,
   "metadata": {},
   "outputs": [],
   "source": [
    "# colors for the labels\n",
    "# changed for this mixed version\n",
    "colors <- c('#FF0000','#FFAA00','#AAFF00','#00FF00','#00FFA9',\"#00A9FF\",'#0000FF','#AA00FF',\"#FF00AA\")\n",
    "abcolors <- sort(colors)\n",
    "\n",
    "eccens.colors <- c(\n",
    "    'Central #FF0000',\n",
    "    'Central #FFAA00',\n",
    "    'Central #AAFF00',\n",
    "    'Central #00FF00',\n",
    "    'Central #00FFA9',\n",
    "    \"Central #00A9FF\",\n",
    "    'Central #0000FF',\n",
    "    'Central #AA00FF',\n",
    "    \"Central #FF00AA\",\n",
    "    'Peripheral #FF0000',\n",
    "    'Peripheral #FFAA00',\n",
    "    'Peripheral #AAFF00',\n",
    "    'Peripheral #00FF00',\n",
    "    'Peripheral #00FFA9',\n",
    "    \"Peripheral #00A9FF\",\n",
    "    'Peripheral #0000FF',\n",
    "    'Peripheral #AA00FF',\n",
    "    \"Peripheral #FF00AA\")\n",
    "\n",
    "inverted.colors <-  c('#FF0000','#FF00AA','#AA00FF','#0000FF','#00A9FF','#00FFA9','#00FF00','#AAFF00','#FFAA00')"
   ]
  },
  {
   "cell_type": "markdown",
   "metadata": {},
   "source": [
    "### Initialisations"
   ]
  },
  {
   "cell_type": "code",
   "execution_count": 6,
   "metadata": {},
   "outputs": [],
   "source": [
    "# live dangerously, get rid of pesky warnings\n",
    "oldw <- getOption(\"warn\")\n",
    "options(warn = -1)"
   ]
  },
  {
   "cell_type": "code",
   "execution_count": 7,
   "metadata": {
    "scrolled": true,
    "tags": []
   },
   "outputs": [
    {
     "name": "stderr",
     "output_type": "stream",
     "text": [
      "\n",
      "Attaching package: 'dplyr'\n",
      "\n",
      "The following objects are masked from 'package:plyr':\n",
      "\n",
      "    arrange, count, desc, failwith, id, mutate, rename, summarise,\n",
      "    summarize\n",
      "\n",
      "The following objects are masked from 'package:stats':\n",
      "\n",
      "    filter, lag\n",
      "\n",
      "The following objects are masked from 'package:base':\n",
      "\n",
      "    intersect, setdiff, setequal, union\n",
      "\n",
      "\n",
      "Attaching package: 'gridExtra'\n",
      "\n",
      "The following object is masked from 'package:dplyr':\n",
      "\n",
      "    combine\n",
      "\n",
      "\n",
      "Attaching package: 'MASS'\n",
      "\n",
      "The following object is masked from 'package:dplyr':\n",
      "\n",
      "    select\n",
      "\n",
      "\n",
      "Attaching package: 'Matrix'\n",
      "\n",
      "The following objects are masked from 'package:tidyr':\n",
      "\n",
      "    expand, pack, unpack\n",
      "\n",
      "\n",
      "Attaching package: 'reshape2'\n",
      "\n",
      "The following object is masked from 'package:tidyr':\n",
      "\n",
      "    smiths\n",
      "\n",
      "Loading required package: permute\n",
      "Loading required package: lattice\n",
      "This is vegan 2.5-7\n",
      "\n",
      "Attaching package: 'olsrr'\n",
      "\n",
      "The following object is masked from 'package:MASS':\n",
      "\n",
      "    cement\n",
      "\n",
      "The following object is masked from 'package:datasets':\n",
      "\n",
      "    rivers\n",
      "\n",
      "Loading required package: zoo\n",
      "\n",
      "Attaching package: 'zoo'\n",
      "\n",
      "The following objects are masked from 'package:base':\n",
      "\n",
      "    as.Date, as.Date.numeric\n",
      "\n",
      "Loading required package: carData\n",
      "\n",
      "Attaching package: 'car'\n",
      "\n",
      "The following object is masked from 'package:DescTools':\n",
      "\n",
      "    Recode\n",
      "\n",
      "The following object is masked from 'package:dplyr':\n",
      "\n",
      "    recode\n",
      "\n",
      "Loading required package: survival\n",
      "\n",
      "Attaching package: 'rstatix'\n",
      "\n",
      "The following objects are masked from 'package:coin':\n",
      "\n",
      "    chisq_test, friedman_test, kruskal_test, sign_test, wilcox_test\n",
      "\n",
      "The following object is masked from 'package:MASS':\n",
      "\n",
      "    select\n",
      "\n",
      "The following objects are masked from 'package:plyr':\n",
      "\n",
      "    desc, mutate\n",
      "\n",
      "The following object is masked from 'package:stats':\n",
      "\n",
      "    filter\n",
      "\n",
      "\n",
      "Attaching package: 'boot'\n",
      "\n",
      "The following object is masked from 'package:survival':\n",
      "\n",
      "    aml\n",
      "\n",
      "The following object is masked from 'package:car':\n",
      "\n",
      "    logit\n",
      "\n",
      "The following object is masked from 'package:lattice':\n",
      "\n",
      "    melanoma\n",
      "\n"
     ]
    }
   ],
   "source": [
    "shhh <- suppressPackageStartupMessages # stops annoying warnings when loading libraries\n",
    "library(tidyr)\n",
    "library(plyr)\n",
    "library(dplyr)\n",
    "library(ggplot2)\n",
    "library(gridExtra)\n",
    "library(MASS)\n",
    "library(Matrix)\n",
    "library(reshape2)\n",
    "library(ape) # stats\n",
    "library(vegan) # stats\n",
    "library(RColorBrewer)\n",
    "library(cocor)\n",
    "library(DescTools)\n",
    "library(reshape2)\n",
    "library(grid)\n",
    "library(ggplotify)\n",
    "#library(fclust)\n",
    "library(plot.matrix)\n",
    "#library(gtools)\n",
    "library(stringi)\n",
    "#library(Bolstad)\n",
    "library(olsrr) # for checking violation of regression assumptions\n",
    "library(lmtest) # for likelihood ratio test\n",
    "library(car) # for logistic transformation\n",
    "library(betareg) # beta regressions\n",
    "library(coin) # wilcox power analyses\n",
    "library(rstatix) # power analyses\n",
    "library(boot)\n",
    "library(cowplot) # for making figures\n",
    "library(readr) # for making figures"
   ]
  },
  {
   "cell_type": "code",
   "execution_count": 8,
   "metadata": {},
   "outputs": [
    {
     "name": "stderr",
     "output_type": "stream",
     "text": [
      "\n",
      "Attaching package: 'bayesbr'\n",
      "\n",
      "The following object is masked from 'package:boot':\n",
      "\n",
      "    envelope\n",
      "\n",
      "Loading required package: coda\n",
      "************\n",
      "Welcome to BayesFactor 0.9.12-4.2. If you have questions, please contact Richard Morey (richarddmorey@gmail.com).\n",
      "\n",
      "Type BFManual() to open the manual.\n",
      "************\n",
      "\n",
      "Attaching package: 'BayesFactor'\n",
      "\n",
      "The following object is masked from 'package:betareg':\n",
      "\n",
      "    posterior\n",
      "\n",
      "Loading required package: Rcpp\n",
      "Registered S3 methods overwritten by 'lme4':\n",
      "  method                          from\n",
      "  cooks.distance.influence.merMod car \n",
      "  influence.merMod                car \n",
      "  dfbeta.influence.merMod         car \n",
      "  dfbetas.influence.merMod        car \n",
      "This is rstanarm version 2.21.1\n",
      "- See https://mc-stan.org/rstanarm/articles/priors for changes to default priors!\n",
      "- Default priors may change, so it's safest to specify priors, even if equivalent to the defaults.\n",
      "- For execution on a local, multicore CPU with excess RAM we recommend calling\n",
      "  options(mc.cores = parallel::detectCores())\n",
      "\n",
      "Attaching package: 'rstanarm'\n",
      "\n",
      "The following object is masked from 'package:boot':\n",
      "\n",
      "    logit\n",
      "\n",
      "The following object is masked from 'package:car':\n",
      "\n",
      "    logit\n",
      "\n"
     ]
    }
   ],
   "source": [
    "# getting bayesbr to do the bayesian analysis\n",
    "library(bayesbr)\n",
    "library(BayesFactor)\n",
    "#library(brms)\n",
    "library(rstanarm)\n",
    "library(bridgesampling)\n",
    "library(bayestestR)\n",
    "#library(see)\n",
    "#library(bayesplot)"
   ]
  },
  {
   "cell_type": "code",
   "execution_count": 9,
   "metadata": {},
   "outputs": [],
   "source": [
    "# stealing ability to make flat violin plots\n",
    "source(\"https://gist.githubusercontent.com/benmarwick/2a1bb0133ff568cbe28d/raw/fb53bd97121f7f9ce947837ef1a4c65a73bffb3f/geom_flat_violin.R\")"
   ]
  },
  {
   "cell_type": "markdown",
   "metadata": {},
   "source": [
    "### Functions we're going to use to do the analysis later"
   ]
  },
  {
   "cell_type": "markdown",
   "metadata": {},
   "source": [
    "#### Miscellaneous"
   ]
  },
  {
   "cell_type": "code",
   "execution_count": 10,
   "metadata": {},
   "outputs": [],
   "source": [
    "# check our N \n",
    "get_n <- function(datadf){\n",
    "    n <- length(unique(datadf$subject))\n",
    "    print(paste(\"There are\",n,\"unique subjects\"))\n",
    "    return(n)\n",
    "}"
   ]
  },
  {
   "cell_type": "code",
   "execution_count": 11,
   "metadata": {},
   "outputs": [],
   "source": [
    "get_n.grouped <- function(datadf){\n",
    "    size <- sort(unique(datadf$stimulus_radius))\n",
    "    scale <- sort(unique(datadf$peripheral_scale))\n",
    "    for(stim in (size)){\n",
    "        for(mag in (scale)){\n",
    "            data <- (subset(datadf,stimulus_radius == stim & peripheral_scale == mag))\n",
    "            n <- length(unique(data$subject))\n",
    "            print(paste('Magnification',mag,'Size',stim,' - N =',n))\n",
    "        }\n",
    "    }\n",
    "}"
   ]
  },
  {
   "cell_type": "code",
   "execution_count": 12,
   "metadata": {},
   "outputs": [],
   "source": [
    "# get plot eccentricity labels\n",
    "ploteccen <- function(datadf){\n",
    "    if(datadf$Circle_1[1] == -1){\n",
    "            label1 = 'Central'\n",
    "        } else {\n",
    "            label1 = 'Peripheral'\n",
    "        }\n",
    "        if(datadf$Circle_2[1] == -1){\n",
    "            label2 = 'Central'\n",
    "        } else {\n",
    "            label2 = 'Peripheral'\n",
    "        }\n",
    "    return(c(label1,label2))\n",
    "}\n",
    "\n",
    "e2l <- function(eccentricity){\n",
    "    if(eccentricity == -1){\n",
    "        return('Central')\n",
    "    } else {\n",
    "        return('Peripheral')\n",
    "    }\n",
    "}\n",
    "\n",
    "l2e <- function(eccentricity){\n",
    "    if(eccentricity == 'Central'){\n",
    "        return(-1)\n",
    "    } else {\n",
    "        return(1)\n",
    "    }\n",
    "}"
   ]
  },
  {
   "cell_type": "code",
   "execution_count": 13,
   "metadata": {},
   "outputs": [],
   "source": [
    "get.submat <- function(mat,submat){\n",
    "    if(submat == 'CC'){\n",
    "        out.mat <- mat[1:9,1:9]\n",
    "    } else if (submat == 'CP'){\n",
    "        out.mat <- mat[1:9,10:18]\n",
    "    } else if (submat == 'PP'){\n",
    "        out.mat <- mat[10:18,10:18]\n",
    "    }\n",
    "    return(out.mat)\n",
    "}"
   ]
  },
  {
   "cell_type": "markdown",
   "metadata": {},
   "source": [
    "#### Dissimilarity Matrices"
   ]
  },
  {
   "cell_type": "code",
   "execution_count": 14,
   "metadata": {},
   "outputs": [],
   "source": [
    "# obtain dissimilarity matrices with particular eccentricity values from dataframes\n",
    "# doesn't care whether this comes from individual subjects or whole populations\n",
    "dissimdata <- function(datadf, colors, eccentricity1, eccentricity2){\n",
    "    # select only the eccentricities we want to keep, e.g. (Central, Central)\n",
    "    datatemp = subset(datadf, Circle_1 == eccentricity1)\n",
    "    datatemp = subset(datatemp, Circle_2 == eccentricity2)\n",
    "    \n",
    "    # refactor the levels so they can be plotted properly later if need be\n",
    "    datatemp$Color_1 <- with(datatemp, factor(Color_1, levels = colors))\n",
    "    datatemp$Color_2 <- with(datatemp, factor(Color_2, levels = colors))\n",
    "    \n",
    "    return(datatemp)\n",
    "}"
   ]
  },
  {
   "cell_type": "code",
   "execution_count": 15,
   "metadata": {},
   "outputs": [],
   "source": [
    "# plot a dissimilarity matrix\n",
    "dissimplot <- function(datadf,colors,dependent='color'){\n",
    "    \n",
    "   # labeling the plot eccentricity comparisons\n",
    "    label1 <- ploteccen(datadf)[1]\n",
    "    label2 <- ploteccen(datadf)[2]\n",
    "    \n",
    "    \n",
    "    if(dependent == 'position'){ # use position to generate matrix (as a negative control)\n",
    "        plot <- ggplot(datadf, aes(x = bin1, y = bin2)) +\n",
    "        theme(        axis.title.x = element_blank(), axis.title.y = element_blank(),\n",
    "                      plot.title = element_text(hjust = 0.5)) +\n",
    "                      scale_x_discrete(limits=c(1,2,3,4,5,6,7,8,9)) + scale_y_discrete(limits=c(1,2,3,4,5,6,7,8,9))\n",
    "    } else { # use the colors to generate the matrix\n",
    "        plot <- ggplot(datadf, aes(x = Color_1, y = Color_2)) +\n",
    "        theme(axis.text.x = element_text(colour = colors), axis.text.y = element_text(colour = colors),\n",
    "                      axis.title.x = element_blank(), axis.title.y = element_blank(),\n",
    "                      plot.title = element_text(hjust = 0.5))\n",
    "    }\n",
    "    # stuff that's standard across plot types\n",
    "        plot <- plot + geom_raster(aes(fill = similarity)) +\n",
    "                labs(title = paste(label1, label2, sep = \" - \")) +\n",
    "                scale_fill_gradientn(colours = c(\"white\",\"black\")) +\n",
    "                guides(fill=guide_legend(title=\"Dissimilarity\"))\n",
    "    return(plot)\n",
    "}"
   ]
  },
  {
   "cell_type": "code",
   "execution_count": 16,
   "metadata": {},
   "outputs": [],
   "source": [
    "# making a matrix symmetric. Borrowed from dclone: https://rdrr.io/github/datacloning/dclone/src/R/make.symmetric.R\n",
    "make.symmetric <-function(x)\n",
    "{\n",
    "    if (dim(x)[1] != dim(x)[2])\n",
    "        stop(\"'x' is not a square matrix\")\n",
    "    rval <- t(x)\n",
    "    m <- (x[lower.tri(x)] + rval[lower.tri(rval)]) / 2\n",
    "    rval[lower.tri(rval)] <- m\n",
    "    rval <- t(rval)\n",
    "    rval[lower.tri(rval)] <- m\n",
    "    rval\n",
    "}"
   ]
  },
  {
   "cell_type": "code",
   "execution_count": 17,
   "metadata": {},
   "outputs": [],
   "source": [
    "# obtain dissimilarity dataframe that corresponds to all of a subject's judgements\n",
    "# adds the columns color1.eccen1 and color2.eccen2\n",
    "dissimdata.subject <- function(datadf, diagnose=FALSE){\n",
    "        \n",
    "    # first, get a full label for each trial\n",
    "    datadf <- subset(datadf, trial_type != 'catch') # get rid of catch trials\n",
    "    \n",
    "    datadf$Circle_1[datadf$Circle_1 == -1] <- 'Central'\n",
    "    datadf$Circle_2[datadf$Circle_2 == -1] <- 'Central'\n",
    "    datadf$Circle_1[datadf$Circle_1 == 1] <- 'Peripheral'\n",
    "    datadf$Circle_2[datadf$Circle_2 == 1] <- 'Peripheral'\n",
    "    datadf$color1.eccen1 <- paste(datadf$Circle_1,datadf$Color_1,sep=' ')\n",
    "    datadf$color2.eccen2 <- paste(datadf$Circle_2,datadf$Color_2,sep=' ')\n",
    "    datadf$color1 <- datadf$Color_1\n",
    "    datadf$color2 <- datadf$Color_2\n",
    "\n",
    "    \n",
    "    # refactor the levels so they can be plotted properly later if need be\n",
    "       datadf$color1.eccen1 <- with(datadf, factor(color1.eccen1, levels = eccens.colors))\n",
    "       datadf$color2.eccen2 <- with(datadf, factor(color2.eccen2, levels = eccens.colors))\n",
    "    if(diagnose){print(paste(\"Subject trial number:\", nrow(datadf)))}\n",
    "     \n",
    "    \n",
    "    #print(datadf$color1.eccen1)\n",
    "    return(datadf)\n",
    "}"
   ]
  },
  {
   "cell_type": "code",
   "execution_count": 129,
   "metadata": {},
   "outputs": [],
   "source": [
    "# convert a df to a group of subject matrices\n",
    "dissimgroup2matlist <- function(df,sym=TRUE){\n",
    "    subjectlist <- sort(unique(df$subject)) # obtain a list of all the subjects\n",
    "    mat.list <- list()\n",
    "    k = 1\n",
    "    for(ID in subjectlist){\n",
    "        subjectdf <- subset(df, subject == ID)\n",
    "        subject.mat <- color.eccen.mat(dissimdata.subject(subjectdf), output='matrix',\n",
    "                                       symmeterise=sym,sym.CP=sym)\n",
    "        mat.list[[k]] <- subject.mat\n",
    "        k = k + 1\n",
    "    }\n",
    "    return(mat.list)\n",
    "} "
   ]
  },
  {
   "cell_type": "code",
   "execution_count": 19,
   "metadata": {},
   "outputs": [],
   "source": [
    "# convert a group of matrices to a group mean matrix\n",
    "group.mat.mean <- function(mat.list){\n",
    "    # average the matrices\n",
    "    mat.average <- Reduce('+',mat.list)/length(mat.list)\n",
    "    return(mat.average)\n",
    "}\n",
    "   "
   ]
  },
  {
   "cell_type": "code",
   "execution_count": 20,
   "metadata": {},
   "outputs": [],
   "source": [
    "# convert a group of matrices to a group median matrix\n",
    "group.mat.median <- function(mat.list){\n",
    "    \n",
    "    out.v <- vector()\n",
    "    \n",
    "    n.vals <-length(c(mat.list[[1]]))\n",
    "    n.subjects <- length(mat.list)\n",
    "    for(i in 1:n.vals){\n",
    "        vals <- vector()\n",
    "        for(j in 1:n.subjects){\n",
    "            v <- c(mat.list[[j]])[i]\n",
    "            vals <- c(vals,v)\n",
    "        }\n",
    "        out.v[i] <- median(vals)\n",
    "    }\n",
    "    \n",
    "    out.mat <- matrix(out.v,nrow(mat.list[[1]]),ncol(mat.list[[1]]))\n",
    "    \n",
    "    colnames(out.mat) <- colnames(mat.list[[1]])\n",
    "    rownames(out.mat) <- rownames(mat.list[[1]])\n",
    "    \n",
    "    return(out.mat)\n",
    "}"
   ]
  },
  {
   "cell_type": "code",
   "execution_count": 21,
   "metadata": {},
   "outputs": [],
   "source": [
    "# convert a full matrix to a variance matrix\n",
    "full2var <- function(mat){\n",
    "    # initialise the output variance matrix\n",
    "    var.mat <- matrix(,nrow(mat)/2,ncol(mat)/2)\n",
    "    \n",
    "    # fill the output variance matrix\n",
    "    for(row in 1:(nrow(mat)/2)){\n",
    "        for(column in 1:(ncol(mat)/2)){\n",
    "\n",
    "            CC <- mat[row,column]\n",
    "            CP <- mat[row + nrow(var.mat), column]\n",
    "            PP <- mat[row + nrow(var.mat), column + nrow(var.mat)]\n",
    "            \n",
    "            val <- var(c(CC,CP,PP))\n",
    "            var.mat[row,column] <- val\n",
    "        }\n",
    "    }\n",
    "    colnames(var.mat) <- colors\n",
    "    rownames(var.mat) <- colors\n",
    "    # return\n",
    "    return(var.mat)\n",
    "}"
   ]
  },
  {
   "cell_type": "code",
   "execution_count": 22,
   "metadata": {},
   "outputs": [],
   "source": [
    "# convert a group of full color matrices to a group of within-subject mean color-pair variance matrices\n",
    "full2var.mats <- function(mat.list){\n",
    "    var.list <- list()\n",
    "    for(mat in 1:length(mat.list)){\n",
    "        var.list[[mat]] <- full2var(mat.list[[mat]])\n",
    "    }\n",
    "    return(var.list)\n",
    "}"
   ]
  },
  {
   "cell_type": "code",
   "execution_count": 23,
   "metadata": {},
   "outputs": [],
   "source": [
    "# make a dissimilarity plot for a group of subjects\n",
    "group.dissim <- function(df,sym=FALSE){\n",
    "    mats <- dissimgroup2matlist(df,sym=sym)\n",
    "    avg.mat <- group.mat.mean(mats)\n",
    "    \n",
    "    data <- melt(avg.mat)\n",
    "    colnames(data) <- c('color1.eccen1','color2.eccen2','similarity')\n",
    "    return(data)\n",
    "    \n",
    "    \n",
    "}\n",
    "\n",
    "\n"
   ]
  },
  {
   "cell_type": "code",
   "execution_count": 24,
   "metadata": {},
   "outputs": [],
   "source": [
    "# make a median variance plot for a group of subjects\n",
    "group.dissim.var <- function(df){\n",
    "    mats <- dissimgroup2matlist(df)\n",
    "    mats.var <- full2var.mats(mats)\n",
    "    avg.mat <- group.mat.median(mats.var)\n",
    "    \n",
    "    data <- melt(avg.mat)\n",
    "    colnames(data) <- c('color1.eccen1','color2.eccen2','similarity')\n",
    "    return(data)\n",
    "    \n",
    "    \n",
    "}\n"
   ]
  },
  {
   "cell_type": "code",
   "execution_count": 123,
   "metadata": {},
   "outputs": [],
   "source": [
    "# label the rows with the two colours independent of arbitrary ordering\n",
    "dissimplot.full <- function(datadf, mode='standard',\n",
    "                            rotation=90,dependent='dissimilarity',\n",
    "                           reverse=TRUE,\n",
    "                           label='',info='TRUE'){\n",
    "        \n",
    "    if(dependent=='RT'){\n",
    "        #datadf$similarity <- log10(datadf$similarity)\n",
    "    }\n",
    "    \n",
    "    plot <- ggplot(datadf, aes(x = color1.eccen1, y = color2.eccen2)) \n",
    "    \n",
    "    if(mode=='standard'){\n",
    "        color.list <- c(colors,colors)\n",
    "    } else if (mode=='inversion'){\n",
    "        color.list <- c(colors, inverted.colors)\n",
    "    } else if (mode == 'rotation'){\n",
    "        color.list <- c(colors, rotate.vec(colors,rotation))\n",
    "    }\n",
    "    \n",
    "    \n",
    "    \n",
    "    # dissimilarity plot\n",
    "    if(dependent=='dissimilarity'){\n",
    "        plot <- plot + geom_raster(aes(fill = similarity)) +\n",
    "                scale_fill_gradientn(colours = c(\"white\",\"black\"),\n",
    "                                    limits=c(0,7),\n",
    "                                    breaks=c(0,1,2,3,4,5,6,7),\n",
    "                                    na.value='darkblue') +\n",
    "                guides(fill=guide_legend(title=\"Dissimilarity\"))\n",
    "    }\n",
    "    # reaction time plot\n",
    "    if(dependent=='RT'){\n",
    "        plot <- plot + geom_raster(aes(fill = similarity)) +\n",
    "                scale_fill_gradientn(colours = c(\"white\",\"black\"), trans = \"log\",\n",
    "                                    #limits=c(1000,1600),\n",
    "                                    #limits=c(2.9,3.3),\n",
    "                                    #breaks=c(2.9,3,3.146,3.255,3.3),\n",
    "                                     limits = c(800,2000),\n",
    "                                    breaks=c(800,1000,1400,1800),\n",
    "                                    labels=c(800,1000,1400,1800)\n",
    "                                    ) +\n",
    "                guides(fill=guide_legend(title=\"RT (log)\"))\n",
    "    }\n",
    "    # reverse plot\n",
    "    if(reverse){\n",
    "        plot <- plot + scale_y_discrete(limits = rev(levels(datadf$y)))\n",
    "    }\n",
    "    \n",
    "    if(info){ # labels on\n",
    "        plot <- plot + theme(axis.text.x = element_text(colour=color.list,angle=90),\n",
    "                        axis.text.y = element_text(colour=color.list),\n",
    "                      axis.title.x = element_blank(), axis.title.y = element_blank(),\n",
    "                      plot.title = element_text(hjust = 0.5)) +\n",
    "                    ggtitle(label)\n",
    "    } else {  # labels off\n",
    "        plot <- plot + theme(axis.text.x = element_blank(),\n",
    "                        axis.text.y = element_blank(),\n",
    "                      axis.title.x = element_blank(), axis.title.y = element_blank(),\n",
    "                      plot.title = element_blank(), legend.position='none')\n",
    "    } \n",
    "    \n",
    "    return(plot)\n",
    "    \n",
    "}"
   ]
  },
  {
   "cell_type": "code",
   "execution_count": 26,
   "metadata": {},
   "outputs": [],
   "source": [
    "# convert a dataframe to a matrix. Only works on submatrices\n",
    "df2mat.full <- function(datadf,eccentricity1=l2e('Central'),eccentricity2=l2e('Central'),sym=FALSE){\n",
    " \n",
    "    # select only the eccentricities we want to keep, e.g. (Central, Central)\n",
    "    datadf <- subset(datadf, Circle_1 == eccentricity1 & Circle_2 == eccentricity2)\n",
    "\n",
    "    # aggregate over the remaining columns of interest\n",
    "    datadf <- aggregate(datadf, by = list(datadf$Color_1, datadf$Color_2),FUN=mean)\n",
    "    datadf$Color_1 <- datadf$Group.1\n",
    "    datadf$Color_2 <- datadf$Group.2\n",
    "\n",
    "    datadf = subset(datadf, select = c(\"Color_1\",\"Color_2\",\"similarity\"))  # get rid of unnecessary columns\n",
    "    datadf <- spread(datadf, Color_1, similarity)\n",
    "    \n",
    "    # convert the dataframe to a matrix\n",
    "    datamatrix <- data.matrix(datadf)\n",
    "    datamatrix <- datamatrix[,-1] # get rid of the labels in the first column, it messes up the code\n",
    "    if(sym){\n",
    "        datamatrix <- make.symmetric(datamatrix) # averaging over Color_1 vs. Color_2 & Color_2 vs. Color_1    \n",
    "    }\n",
    "    rownames(datamatrix) <- colnames(datamatrix)\n",
    "    \n",
    "    # sort the matrix\n",
    "    datamatrix <- datamatrix[, sort(colnames(datamatrix))][sort(rownames(datamatrix)),]\n",
    "    \n",
    "    return(datamatrix)\n",
    "    \n",
    "}"
   ]
  },
  {
   "cell_type": "code",
   "execution_count": 27,
   "metadata": {},
   "outputs": [],
   "source": [
    "# variance plot for matrices\n",
    "variance.plot <- function(mat,\n",
    "                         col1='blue',col2='yellow',na.col='green',\n",
    "                                  legend.title='Variance',\n",
    "                                  xlabel='',ylabel='',\n",
    "                                  low.lim=0,up.lim=10){\n",
    "    if(ncol(mat)<10){\n",
    "        color.list <- colors\n",
    "    } else {\n",
    "        color.list <- c(colors,colors)\n",
    "    }\n",
    "    longData <- melt(mat)\n",
    "    \n",
    "    \n",
    "    plot <- ggplot(longData, aes(x = Var2, y=Var1)) + \n",
    "    geom_raster(aes(fill=value)) +\n",
    "    scale_fill_gradientn(legend.title,colours = c(col1,col2),\n",
    "                         limits = c(low.lim,up.lim), \n",
    "                         breaks=c(low.lim,up.lim),\n",
    "                        na.value=na.col) + \n",
    "    theme(axis.text.x = element_text(colour=color.list,angle=90),\n",
    "                        axis.text.y = element_text(colour=color.list),\n",
    "                      axis.title.x = element_blank(), axis.title.y = element_blank(),\n",
    "                      plot.title = element_text(hjust = 0.5))\n",
    "\n",
    "    return(plot)\n",
    "}\n",
    "    "
   ]
  },
  {
   "cell_type": "code",
   "execution_count": 28,
   "metadata": {},
   "outputs": [],
   "source": [
    "# convert a dataframe to a matrix v2, with some added functionality and without automatic\n",
    "# symmeterisation\n",
    "color.eccen.mat <- function(df,output='DF',mode='identity',rotation=90,plot=FALSE,dependent='dissimilarity',\n",
    "                           symmeterise=TRUE,sym.CP=TRUE,\n",
    "                            diagnose=FALSE){\n",
    "    library('plot.matrix')\n",
    "    if(dependent=='RT'){\n",
    "        df$similarity <- df$response_time\n",
    "    }\n",
    "    data <- subset(df, select = c(color1.eccen1, color2.eccen2, similarity))\n",
    "    if(diagnose){\n",
    "        print(data)\n",
    "    }\n",
    "    #print(head(data)) # testing\n",
    "    data <- spread(data, color1.eccen1, similarity)\n",
    "    #print(data) # testing\n",
    "    row.names <- data$color2.eccen2\n",
    "    data.mat <- data.matrix(data)\n",
    "    rownames(data.mat) <- row.names\n",
    "    data.mat <- data.mat[,-1] # get rid of the redundant first column\n",
    "    \n",
    "    # duplicate missing values\n",
    "    #print(plot(data.mat))\n",
    "    if(symmeterise){\n",
    "        if(sym.CP){ # symmeterise over CP/PC\n",
    "            CP <- data.mat[10:18,1:9]\n",
    "            CP.t <- t(CP)\n",
    "            data.mat[10:18,1:9] <- group.mat.mean(list(CP,CP.t))\n",
    "            data.mat[1:9,10:18] <- t(data.mat[10:18,1:9])\n",
    "        }\n",
    "        # symmeterise the full matrix\n",
    "        data.mat.t <- t(data.mat)\n",
    "        data.mat <- group.mat.mean(list(data.mat,data.mat.t))\n",
    "    }\n",
    "    # perform a label swap\n",
    "    peripheral.labels <- c(10:18)\n",
    "    if(mode == 'random'){\n",
    "        swap.vec <- sample(peripheral.labels) # pick a random ordering of the peripheral labels\n",
    "    } else if (mode == 'rotate'){\n",
    "        swap.vec <- rotate.vec(peripheral.labels,rotation=rotation)\n",
    "    } else if (mode == 'invert'){\n",
    "        swap.vec <- match(inverted.colors,colors) + 9\n",
    "    }\n",
    "    if(mode != 'identity'){ # do the swap\n",
    "        data.mat[10:18,] <- data.mat[swap.vec, ] # reorder the rows\n",
    "        data.mat[,10:18] <- data.mat[, swap.vec] # reorder the columns\n",
    "    }\n",
    "        \n",
    "    \n",
    "    # plot the data\n",
    "    if(plot){\n",
    "        plot(data.mat, col=gray.colors(8, start=0, end=1, gamma=0.75, rev=TRUE),\n",
    "         xlab = 'Fovea                                      Periphery',\n",
    "        ylab = 'Fovea                                      Periphery')\n",
    "    }\n",
    "    \n",
    "    # choose output type\n",
    "    if(output == 'DF'){\n",
    "        data <- as.data.frame(as.table(data.mat))\n",
    "        colnames(data) <- c(\"color1.eccen1\",\"color2.eccen2\",\"similarity\")\n",
    "        return(data)\n",
    "    } else if (output == 'matrix'){\n",
    "        return(data.mat)\n",
    "    }\n",
    "}"
   ]
  },
  {
   "cell_type": "code",
   "execution_count": 133,
   "metadata": {},
   "outputs": [],
   "source": [
    "# calculate trace average, small values presumably indicate subjects not just saying everything is completely dissimilar\n",
    "# will also need a complementary method to deal with them saying everything is the same? Might be an inappropriate\n",
    "# a-priori imposition though, I probably can't tell people how similar different colours should be...\n",
    "\n",
    "trace_avg <- function(datadf){\n",
    "    \n",
    "    # first, turn the dataframe into the relevant matrices\n",
    "    fmatrix <- df2mat.full(datadf, l2e('Central'), l2e('Central'))\n",
    "    fpmatrix <- df2mat.full(datadf, l2e('Central'), l2e('Peripheral'))\n",
    "    pmatrix <- df2mat.full(datadf, l2e('Peripheral'), l2e('Peripheral'))\n",
    "    \n",
    "    cc <- sum(diag(fmatrix))/nrow(fmatrix)\n",
    "    cp <- sum(diag(fpmatrix))/nrow(fpmatrix)\n",
    "    pp <- sum(diag(pmatrix))/nrow(pmatrix)\n",
    "    \n",
    "    \n",
    "    return(list(cc,cp,pp))\n",
    "}\n",
    "\n",
    "norm.trace.cc <- function(datadf){\n",
    "    fmatrix <- df2mat.full(datadf, l2e('Central'), l2e('Central'))\n",
    "    cc <- sum(diag(fmatrix))/nrow(fmatrix)\n",
    "    return(cc)\n",
    "}"
   ]
  },
  {
   "cell_type": "code",
   "execution_count": 30,
   "metadata": {},
   "outputs": [],
   "source": [
    "# obtains a dataframe of traces for subjects\n",
    "trace_obtainer <- function(datadf,type=\"trace\"){\n",
    "    subjectlist <- sort(unique(datadf$subject)) # obtain a list of all the subjects\n",
    "    tracedf <- data.frame(subject=character(),\n",
    "                          fftrace=double(),\n",
    "                          fptrace=double(),\n",
    "                          pptrace=double(),\n",
    "                         stim_size=double(),\n",
    "                         magnification=double()) # initialise an output df for the traces\n",
    "    for (ID in subjectlist){\n",
    "        tempdf <- subset(datadf, subject == ID)\n",
    "        subject_trace <- trace_avg(tempdf)\n",
    "        stim <- unique(tempdf$stimulus_radius)[1]\n",
    "        mag <- unique(tempdf$peripheral_scale)[1]\n",
    "        row_df <- data.frame(ID, as.numeric(subject_trace[1]),\n",
    "                             as.numeric(subject_trace[2]),\n",
    "                             as.numeric(subject_trace[3]),\n",
    "                            stim,mag)\n",
    "        names(row_df) <- c(\"subject\",\"CC\",'CP',\"PP\",'StimSize','Magnification')\n",
    "        tracedf<- rbind(tracedf,row_df)\n",
    "    }\n",
    "    return(tracedf)\n",
    "}"
   ]
  },
  {
   "cell_type": "code",
   "execution_count": 31,
   "metadata": {},
   "outputs": [],
   "source": [
    "# get median reaction time\n",
    "rt_avg <- function(datadf){\n",
    "    return(median(datadf$response_time))\n",
    "}"
   ]
  },
  {
   "cell_type": "markdown",
   "metadata": {},
   "source": [
    "Run the analysis"
   ]
  },
  {
   "cell_type": "code",
   "execution_count": 32,
   "metadata": {
    "scrolled": true
   },
   "outputs": [],
   "source": [
    "# function to aggregate everyone's data together\n",
    "aggregate_df <- function(datadf,dependent='color'){\n",
    "\n",
    "    # aggregate everyone's data together for the matrices\n",
    "    everyonedata <- aggregate(datadf, by=list(\n",
    "        datadf$Color_1,\n",
    "        datadf$Color_2,\n",
    "        datadf$Circle_1,\n",
    "        datadf$Circle_2,\n",
    "        datadf$bin1,\n",
    "        datadf$bin2\n",
    "        ), FUN=mean, \n",
    "    )\n",
    "\n",
    "    # correct the column names\n",
    "    everyonedata$Color_1 <- everyonedata$Group.1\n",
    "    everyonedata$Color_2 <- everyonedata$Group.2\n",
    "    everyonedata$Circle_1 <- everyonedata$Group.3\n",
    "    everyonedata$Circle_2 <- everyonedata$Group.4\n",
    "    everyonedata$bin1 <- everyonedata$Group.5\n",
    "    everyonedata$bin2 <- everyonedata$Group.6\n",
    "    \n",
    "    return(everyonedata)\n",
    "}"
   ]
  },
  {
   "cell_type": "code",
   "execution_count": 33,
   "metadata": {},
   "outputs": [],
   "source": [
    "# calculate the catch trial score for a subject\n",
    "catch_score <- function(datadf){\n",
    "    datadf <- subset(datadf, trial_type == 'catch')\n",
    "    datadf$correct <- ifelse(as.character(datadf$similarity) == as.character(datadf$catch_vals), 1, 0) # determine whether they got the catch trials right\n",
    "    score <- sum(datadf$correct)/nrow(datadf) # get the score\n",
    "    return(score)\n",
    "}"
   ]
  },
  {
   "cell_type": "code",
   "execution_count": 34,
   "metadata": {},
   "outputs": [],
   "source": [
    "# catch trial checker\n",
    "catch_trial_checker <- function(datadf){\n",
    "    \n",
    "    subjectlist <- sort(unique(datadf$subject))\n",
    "    print(\"Catch scores\")\n",
    "    for (subjectid in subjectlist){\n",
    "        subjectdf = subset(datadf, subject == subjectid)\n",
    "        \n",
    "        catch_trials <- subset(subjectdf, trial_type == 'catch')\n",
    "        catch_num = nrow(catch_trials)\n",
    "        catch_correct = nrow(subset(catch_trials, as.character(catch_vals) == as.character(similarity))) # had to add the as.character to block a bug, don't know why\n",
    "        \n",
    "        print(paste(\"Subject\",subjectid,\":\",catch_correct,\"/\",catch_num))\n",
    "    }\n",
    "}"
   ]
  },
  {
   "cell_type": "code",
   "execution_count": 35,
   "metadata": {},
   "outputs": [],
   "source": [
    "# screen parameters\n",
    "screen_parameters <- function(datadf,individual=FALSE){\n",
    "    \n",
    "    subjectlist <- sort(unique(datadf$subject))\n",
    "    print(\"Screen Parameters\")\n",
    "    screen_fail = 0\n",
    "    viewing_fail = 0\n",
    "    for (subjectid in subjectlist){\n",
    "\n",
    "        subjectdf = subset(datadf, subject == subjectid)\n",
    "        \n",
    "        screen_size <- round(screen_size(subjectdf)/10,1)\n",
    "        viewing_distance <- round(view_distance(subjectdf)/10,1)\n",
    "        \n",
    "        if(screen_size < 20){screen_fail = screen_fail + 1}\n",
    "        if(viewing_distance < 30){viewing_fail = viewing_fail + 1}\n",
    "        \n",
    "        if(individual){\n",
    "            print(paste(\"Subject\",subjectid,\":\"))\n",
    "            print(paste(\"Screen size:\",screen_size,\"cm\"))\n",
    "            print(paste(\"Viewing distance:\",viewing_distance,\"cm\"))\n",
    "            print(\"\")\n",
    "        }\n",
    "        \n",
    "        \n",
    "    }\n",
    "    print(\"\")\n",
    "    print(paste(\"Screen size issues:\",screen_fail,\"/\",length(subjectlist)))\n",
    "    print(paste(\"Viewing distance issues:\",viewing_fail,\"/\",length(subjectlist)))\n",
    "}"
   ]
  },
  {
   "cell_type": "markdown",
   "metadata": {},
   "source": [
    "#### Multidimensional Scaling Plots"
   ]
  },
  {
   "cell_type": "code",
   "execution_count": 36,
   "metadata": {},
   "outputs": [],
   "source": [
    "# convert a standard matrix to a distance matrix\n",
    "mat2dist <- function(mat){\n",
    "    \n",
    "    return(distmat <- as.dist(mat))\n",
    "}"
   ]
  },
  {
   "cell_type": "markdown",
   "metadata": {},
   "source": [
    "Classical multidimensional scaling"
   ]
  },
  {
   "cell_type": "code",
   "execution_count": 37,
   "metadata": {},
   "outputs": [],
   "source": [
    "# find the cmds fit for a dataset\n",
    "cmdsfit <- function(distmatrix){\n",
    "    \n",
    "    fit <- cmdscale(distmatrix,k=2)\n",
    "    return(fit)\n",
    "}"
   ]
  },
  {
   "cell_type": "code",
   "execution_count": 38,
   "metadata": {},
   "outputs": [],
   "source": [
    "# plot the cmds fit\n",
    "cmdsplot <- function(fit, colors, abcolors, eccentricity1, eccentricity2){\n",
    "    \n",
    "    # get labels\n",
    "    \n",
    "    # change the nmdsfit back to a dataframe\n",
    "    nmdsdf <- as.data.frame(fit)\n",
    "    \n",
    "    plot <-     ggplot(nmdsdf, aes(x = V1, y = V2, color=colors, fill=colors)) + geom_point(size =10) + \n",
    "                scale_colour_manual(values = abcolors) + scale_fill_manual(values = abcolors) + \n",
    "                xlab(\"Dimension 1\") + ylab(\"Dimension 2\") + \n",
    "                ggtitle(paste(e2l(eccentricity1),e2l(eccentricity2),'Classical MDS',sep=' - '))\n",
    "    return(plot)\n",
    "}"
   ]
  },
  {
   "cell_type": "markdown",
   "metadata": {},
   "source": [
    "#### Some control measure plots"
   ]
  },
  {
   "cell_type": "markdown",
   "metadata": {},
   "source": [
    "Reaction time vs. similarity judgements"
   ]
  },
  {
   "cell_type": "code",
   "execution_count": 39,
   "metadata": {},
   "outputs": [],
   "source": [
    "# similarity judgement histogram\n",
    "simhistplot <- function(datadf){\n",
    "    \n",
    "   plot <- ggplot(datadf, aes(x = similarity)) + geom_bar(aes(y = ..prop..)) +\n",
    "    scale_x_discrete(limits=c(0,1,2,3,4,5,6,7), name = 'Dissimilarity') +\n",
    "    ylab('Frequency') + ylim(0,0.8)\n",
    "    return(plot)\n",
    "}\n",
    "\n",
    "simhistplot_summary <- function(datadf,QDM='FULL'){\n",
    "    \n",
    "    if(QDM == 'FP'){\n",
    "        datadf <- subset(datadf, ((Circle_1 == l2e('Central') & Circle_2 == l2e('Peripheral')) |\n",
    "                                 (Circle_1 == l2e('Peripheral') & Circle_2 == l2e('Central'))\n",
    "                                 ))\n",
    "    }\n",
    "    \n",
    "    datadf$subject <- as.character(datadf$subject) # necessary for visualisation\n",
    "    \n",
    "    plot <- ggplot(datadf, aes(x = similarity)) + \n",
    "    geom_line(stat='count',aes(y = ..prop..,group = subject),color='#CC9933') +\n",
    "    geom_line(stat='count',aes(y = ..prop..),size=1.5) +\n",
    "    scale_x_discrete(limits=c(0,1,2,3,4,5,6,7), name = paste(QDM,'Dissimilarity')) +\n",
    "    ylab('Frequency') + ylim(0,0.8)\n",
    "    return(plot)\n",
    "    \n",
    "}"
   ]
  },
  {
   "cell_type": "code",
   "execution_count": 40,
   "metadata": {},
   "outputs": [],
   "source": [
    "# reaction time for each similarity\n",
    "rsplot <- function(datadf){\n",
    "    \n",
    "    plot <- ggplot(datadf, aes(x= similarity, y=response_time)) + \n",
    "    stat_summary(fun.data = mean_se, geom = \"errorbar\", size =0.5, aes(width=0.5)) +\n",
    "    scale_x_discrete(limits=c(0,1,2,3,4,5,6,7), name = 'Dissimilarity') + ylab('Reaction Time (ms)') +\n",
    "    theme(legend.position = \"none\") +\n",
    "    \n",
    "    ylim(0,4000) # anyone taking more than 4 seconds has probably mindwandered\n",
    "    \n",
    "    return(plot)\n",
    "}\n",
    "\n",
    "rsplot_summary <- function(datadf){\n",
    "    \n",
    "    datadf$subject <- as.character(datadf$subject) # necessary for visualisation\n",
    "    \n",
    "    \n",
    "    plot <- ggplot(datadf, aes(x= similarity, y=response_time,group = subject, color = subject)) + \n",
    "    stat_summary(fun.y = mean, geom = \"line\", size=0.8) + \n",
    "    stat_summary(fun.y = mean, geom = \"line\", size=2.5, aes(group=1)) + # add a population summary\n",
    "    #stat_summary(fun.data = mean_se, geom = \"errorbar\", size =0.5, aes(width=0.5)) +\n",
    "    scale_x_discrete(limits=c(0,1,2,3,4,5,6,7), name = 'Dissimilarity') + ylab('Mean Reaction Time (ms)') +\n",
    "    theme(legend.position = \"none\") +\n",
    "    ylim(0,4000) # anyone taking more than 4 seconds has probably mindwandered \n",
    "    \n",
    "    return(plot)\n",
    "    \n",
    "}"
   ]
  },
  {
   "cell_type": "code",
   "execution_count": 41,
   "metadata": {},
   "outputs": [],
   "source": [
    "# mean reaction time vs. catch trial score\n",
    "rt_catch <- function(datadf){\n",
    "    \n",
    "    subjectlist <- sort(unique(datadf$subject)) # obtain a list of all the subjects\n",
    "    \n",
    "    for(ID in subjectlist){\n",
    "        tempdf <- subset(datadf, subject == ID)\n",
    "        datadf$catch_score[datadf$subject == ID] = unlist(catch_score(tempdf),use.names=FALSE)[1]\n",
    "    }\n",
    "        datadf <- aggregate(datadf, by=list(datadf$subject), FUN = mean)\n",
    "    return(datadf)\n",
    "}\n",
    "\n",
    "rt_catch_plot <- function(datadf,xtype='linear',label=FALSE){\n",
    "    \n",
    "    datadf <- rt_catch(datadf)\n",
    "    datadf$subject <- as.character(datadf$subject) # necessary for visualisation\n",
    "    \n",
    "    plot <- ggplot(datadf, aes(x=response_time, y=catch_score)) +\n",
    "            geom_point() + xlab(\"Median Reaction Time\") + ylab(\"Catch Score\")\n",
    "    \n",
    "    if(xtype == 'log'){\n",
    "        plot <- plot + scale_x_continuous(trans='log10')+ xlim(0,5000)\n",
    "    } else{\n",
    "        plot <- plot + xlim(0,5000)\n",
    "    }\n",
    "    plot <- plot + geom_smooth(method=lm) + ylim(0,1) + # linear line of best fit\n",
    "            geom_hline(yintercept=score_cutoff, linetype = 'dashed', color='red') \n",
    "            #geom_vline(xintercept=rt_cutoff, linetype = 'dashed', color='blue')\n",
    "    #plot <- plot + geom_point(aes(color = subject))\n",
    "    if(label){\n",
    "        plot <- plot + geom_text(aes(label = subject),check_overlap=TRUE)\n",
    "    }\n",
    "    return(plot)\n",
    "}\n",
    "\n",
    "rt_hist <- function(datadf){\n",
    "    datadf <- rt_catch(datadf)\n",
    "    mu <- (median(datadf$catch_score))\n",
    "    sd <- (sd(datadf$catch_score))\n",
    "    print(paste(\"Median +/- 1 SD:\",round(mu,2),'+/-',round(mu-sd,2),'to',round(mu+sd,2)))\n",
    "    print(paste(\"Median +/- 2 SD:\",round(mu,2),'+/-',round(mu-sd*2,2),'to',round(mu+sd*2,2)))\n",
    "    plot <- ggplot(datadf, aes(x = catch_score)) + \n",
    "            geom_histogram(binwidth=0.1,colour='black') + xlim(-0.05,1.05) + xlab('Catch Score')\n",
    "    return(plot)\n",
    "}"
   ]
  },
  {
   "cell_type": "code",
   "execution_count": 42,
   "metadata": {},
   "outputs": [],
   "source": [
    "# subject info\n",
    "sumplot <- function(datadf){\n",
    "    \n",
    "    # change ms to s, add the delay for each trial\n",
    "    datadf$response_time <- ((datadf$response_time + 0.125*nrow(datadf)) / 1000)\n",
    "    \n",
    "    plot <- ggplot(datadf, aes(x=subject, y = response_time)) + \n",
    "    stat_summary(fun.y = sum, geom = \"bar\") + ylim(0,1000) +\n",
    "    ylab('Response Time Total') + theme(axis.title.x=element_blank(), axis.text.x = element_text(size=20))\n",
    "    \n",
    "    return(plot)\n",
    "}"
   ]
  },
  {
   "cell_type": "markdown",
   "metadata": {},
   "source": [
    "#### Check their screen size & viewing distance"
   ]
  },
  {
   "cell_type": "code",
   "execution_count": 43,
   "metadata": {},
   "outputs": [],
   "source": [
    "# screen size in mm\n",
    "screen_size <- function(datadf){\n",
    "    \n",
    "    datadf <- subset(datadf, trialcode == 'centermouse') # make sure calibrations have finished first\n",
    "    \n",
    "    width <- as.numeric(substr(as.character(datadf$screen_size_x)[1],1,6))\n",
    "    height <- as.numeric(substr(as.character(datadf$screen_size_y)[1],1,6))\n",
    "    \n",
    "    # use pythagoras to just get the hypotenuse. Subjects have a fixed 16/9 aspect ratio so these are all comparable\n",
    "    return(sqrt(width*width + height*height))\n",
    "}"
   ]
  },
  {
   "cell_type": "code",
   "execution_count": 44,
   "metadata": {},
   "outputs": [],
   "source": [
    "# viewing distance in mm\n",
    "view_distance <- function(datadf){\n",
    "    return(as.numeric(substr(as.character(datadf$viewer_distance)[1],1,6)))\n",
    "}"
   ]
  },
  {
   "cell_type": "code",
   "execution_count": 45,
   "metadata": {},
   "outputs": [],
   "source": [
    "# get a list of subject matrices based on conditions\n",
    "subject.mats <- function(df,scaling,radius){\n",
    "    subset.df <- subset(df, peripheral_scale == scaling & stimulus_radius == radius)\n",
    "    group.mats <- dissimgroup2matlist(subset.df)\n",
    "    return(group.mats)\n",
    "}"
   ]
  },
  {
   "cell_type": "markdown",
   "metadata": {},
   "source": [
    "## Preprocessing"
   ]
  },
  {
   "cell_type": "markdown",
   "metadata": {},
   "source": [
    "#### Loading the data"
   ]
  },
  {
   "cell_type": "code",
   "execution_count": 46,
   "metadata": {},
   "outputs": [],
   "source": [
    "datadf = read.csv(filename)\n",
    "savestr <- substr(filename,1,nchar(filename)-4) # for saving related files later\n"
   ]
  },
  {
   "cell_type": "markdown",
   "metadata": {},
   "source": [
    "#### Cleaning the data as per the exclusion criteria"
   ]
  },
  {
   "cell_type": "code",
   "execution_count": 47,
   "metadata": {},
   "outputs": [],
   "source": [
    "# CLEAN THIS UP\n",
    "#weird bug in a subject data for arielzj_fvp_2stim_fixed_point25dva_v2_20_08_30 (1)\n",
    "datadf <- subset(datadf, (subject != 660294531) & (subject != 21721408) & (subject != 238973028))"
   ]
  },
  {
   "cell_type": "code",
   "execution_count": 48,
   "metadata": {},
   "outputs": [],
   "source": [
    "# remove practice trial data\n",
    "datadf <- subset(datadf, blockcode == 'experiment')"
   ]
  },
  {
   "cell_type": "code",
   "execution_count": 49,
   "metadata": {},
   "outputs": [],
   "source": [
    "# changing color values from RGB to hex for graphing purpose\n",
    "datadf$Color_1 <- as.character(datadf$Color_1)\n",
    "datadf$Color_1 <- revalue(datadf$Color_1, \n",
    "                                                    c(  \"1\" = '#FF0000',\n",
    "                                                        \"2\" = '#FFAA00',\n",
    "                                                        \"3\" = '#AAFF00',\n",
    "                                                        \"4\" = '#00FF00',\n",
    "                                                        \"5\" = '#00FFA9',\n",
    "                                                        \"6\" = '#00A9FF',\n",
    "                                                        \"7\" = '#0000FF',\n",
    "                                                        \"8\" = '#AA00FF',\n",
    "                                                        \"9\" = '#FF00AA'))\n",
    "datadf$Color_2 <- as.character(datadf$Color_2)\n",
    "datadf$Color_2 <- revalue(datadf$Color_2, \n",
    "                                                    c(  \"1\" = '#FF0000',\n",
    "                                                        \"2\" = '#FFAA00',\n",
    "                                                        \"3\" = '#AAFF00',\n",
    "                                                        \"4\" = '#00FF00',\n",
    "                                                        \"5\" = '#00FFA9',\n",
    "                                                        \"6\" = '#00A9FF',\n",
    "                                                        \"7\" = '#0000FF',\n",
    "                                                        \"8\" = '#AA00FF',\n",
    "                                                        \"9\" = '#FF00AA'))\n",
    "\n"
   ]
  },
  {
   "cell_type": "code",
   "execution_count": 50,
   "metadata": {},
   "outputs": [],
   "source": [
    "# changing from int indicators in the .csv file to more readable labels for eccentricity\n",
    "Central = -1\n",
    "peripheral = 1"
   ]
  },
  {
   "cell_type": "code",
   "execution_count": 51,
   "metadata": {},
   "outputs": [],
   "source": [
    "# adding a trial type label\n",
    "label_eccen_type <- function(datadf){\n",
    "    datadf <- datadf %>%\n",
    "    mutate(eccen_type = case_when(Circle_1 == l2e('Central') & Circle_2 == l2e('Central') ~ 'CC',\n",
    "                             Circle_1 == l2e('Central') & Circle_2 == l2e('Peripheral') ~ 'CP',\n",
    "                             Circle_1 == l2e('Peripheral') & Circle_2 == l2e('Peripheral') ~ 'CP'))\n",
    "    return(datadf)\n",
    "}"
   ]
  },
  {
   "cell_type": "code",
   "execution_count": 52,
   "metadata": {},
   "outputs": [],
   "source": [
    "datadf <- label_eccen_type(datadf)"
   ]
  },
  {
   "cell_type": "markdown",
   "metadata": {},
   "source": [
    "Some actual data cleaning"
   ]
  },
  {
   "cell_type": "code",
   "execution_count": 53,
   "metadata": {},
   "outputs": [],
   "source": [
    "# function to throw out  participants who didn't finish\n",
    "remove_incomplete <- function(datadf,stimuli_number){\n",
    "    \n",
    "    subjectlist <- sort(unique(datadf$subject)) # obtain a list of all the subjects\n",
    "    print(paste(length(subjectlist),\"in dataset\"))\n",
    "    print(\"\")\n",
    "    \n",
    "    for (ID in subjectlist){ # go through subject by subject\n",
    "        \n",
    "        trialnumber = stimuli_number*stimuli_number*condition_number + catch_trial_number\n",
    "        \n",
    "        trialsdone <- nrow(subset(datadf, subject == ID))\n",
    "        print(paste(\"Subject\",ID,\"completed\",trialsdone,\"/\",trialnumber))\n",
    "        \n",
    "        if ( trialsdone != trialnumber){ # see if they have the appropriate trial numbers\n",
    "            datadf <- subset(datadf, subject != ID) # dump the subject\n",
    "        }\n",
    "    }\n",
    "    return(datadf)\n",
    "}"
   ]
  },
  {
   "cell_type": "code",
   "execution_count": 54,
   "metadata": {
    "scrolled": true
   },
   "outputs": [
    {
     "name": "stdout",
     "output_type": "stream",
     "text": [
      "[1] \"Screen Parameters\"\n",
      "[1] \"\"\n",
      "[1] \"Screen size issues: 0 / 191\"\n",
      "[1] \"Viewing distance issues: 0 / 191\"\n"
     ]
    }
   ],
   "source": [
    "screen_parameters(datadf)"
   ]
  },
  {
   "cell_type": "code",
   "execution_count": 55,
   "metadata": {
    "tags": []
   },
   "outputs": [
    {
     "name": "stdout",
     "output_type": "stream",
     "text": [
      "[1] \"191 in dataset\"\n",
      "[1] \"\"\n",
      "[1] \"Subject 3248455 completed 253 / 253\"\n",
      "[1] \"Subject 9522584 completed 253 / 253\"\n",
      "[1] \"Subject 11005010 completed 253 / 253\"\n",
      "[1] \"Subject 13228849 completed 253 / 253\"\n",
      "[1] \"Subject 35587329 completed 253 / 253\"\n",
      "[1] \"Subject 35716339 completed 253 / 253\"\n",
      "[1] \"Subject 40354804 completed 253 / 253\"\n",
      "[1] \"Subject 41471776 completed 32 / 253\"\n",
      "[1] \"Subject 48341337 completed 253 / 253\"\n",
      "[1] \"Subject 50823202 completed 253 / 253\"\n",
      "[1] \"Subject 51805023 completed 253 / 253\"\n",
      "[1] \"Subject 53858324 completed 253 / 253\"\n",
      "[1] \"Subject 63991259 completed 253 / 253\"\n",
      "[1] \"Subject 64413254 completed 253 / 253\"\n",
      "[1] \"Subject 74258126 completed 12 / 253\"\n",
      "[1] \"Subject 75394365 completed 253 / 253\"\n",
      "[1] \"Subject 80499026 completed 253 / 253\"\n",
      "[1] \"Subject 81903961 completed 253 / 253\"\n",
      "[1] \"Subject 95990930 completed 2 / 253\"\n",
      "[1] \"Subject 98665966 completed 253 / 253\"\n",
      "[1] \"Subject 99640956 completed 253 / 253\"\n",
      "[1] \"Subject 107179842 completed 37 / 253\"\n",
      "[1] \"Subject 120361401 completed 253 / 253\"\n",
      "[1] \"Subject 133207874 completed 253 / 253\"\n",
      "[1] \"Subject 143440982 completed 97 / 253\"\n",
      "[1] \"Subject 147071530 completed 253 / 253\"\n",
      "[1] \"Subject 165762185 completed 253 / 253\"\n",
      "[1] \"Subject 168630625 completed 1 / 253\"\n",
      "[1] \"Subject 170537732 completed 253 / 253\"\n",
      "[1] \"Subject 172093576 completed 253 / 253\"\n",
      "[1] \"Subject 175331425 completed 12 / 253\"\n",
      "[1] \"Subject 176476116 completed 253 / 253\"\n",
      "[1] \"Subject 176698125 completed 253 / 253\"\n",
      "[1] \"Subject 177066018 completed 12 / 253\"\n",
      "[1] \"Subject 204525930 completed 253 / 253\"\n",
      "[1] \"Subject 209678643 completed 9 / 253\"\n",
      "[1] \"Subject 211745977 completed 253 / 253\"\n",
      "[1] \"Subject 214859617 completed 233 / 253\"\n",
      "[1] \"Subject 219326440 completed 253 / 253\"\n",
      "[1] \"Subject 225280441 completed 253 / 253\"\n",
      "[1] \"Subject 232984941 completed 253 / 253\"\n",
      "[1] \"Subject 244316230 completed 253 / 253\"\n",
      "[1] \"Subject 245575217 completed 253 / 253\"\n",
      "[1] \"Subject 251360273 completed 253 / 253\"\n",
      "[1] \"Subject 252347716 completed 253 / 253\"\n",
      "[1] \"Subject 254207207 completed 253 / 253\"\n",
      "[1] \"Subject 255362629 completed 253 / 253\"\n",
      "[1] \"Subject 257686691 completed 253 / 253\"\n",
      "[1] \"Subject 265310712 completed 253 / 253\"\n",
      "[1] \"Subject 269397244 completed 253 / 253\"\n",
      "[1] \"Subject 281640697 completed 253 / 253\"\n",
      "[1] \"Subject 285550479 completed 253 / 253\"\n",
      "[1] \"Subject 287237223 completed 253 / 253\"\n",
      "[1] \"Subject 294207097 completed 253 / 253\"\n",
      "[1] \"Subject 300304269 completed 253 / 253\"\n",
      "[1] \"Subject 301246724 completed 253 / 253\"\n",
      "[1] \"Subject 302502671 completed 253 / 253\"\n",
      "[1] \"Subject 307781333 completed 22 / 253\"\n",
      "[1] \"Subject 307922435 completed 253 / 253\"\n",
      "[1] \"Subject 309861762 completed 253 / 253\"\n",
      "[1] \"Subject 315222554 completed 253 / 253\"\n",
      "[1] \"Subject 315609216 completed 253 / 253\"\n",
      "[1] \"Subject 327011447 completed 253 / 253\"\n",
      "[1] \"Subject 336215410 completed 253 / 253\"\n",
      "[1] \"Subject 338738516 completed 253 / 253\"\n",
      "[1] \"Subject 340691821 completed 253 / 253\"\n",
      "[1] \"Subject 343319516 completed 253 / 253\"\n",
      "[1] \"Subject 369400829 completed 253 / 253\"\n",
      "[1] \"Subject 373678849 completed 253 / 253\"\n",
      "[1] \"Subject 376591610 completed 253 / 253\"\n",
      "[1] \"Subject 382104984 completed 253 / 253\"\n",
      "[1] \"Subject 383674527 completed 253 / 253\"\n",
      "[1] \"Subject 392751046 completed 253 / 253\"\n",
      "[1] \"Subject 395526717 completed 253 / 253\"\n",
      "[1] \"Subject 401106595 completed 253 / 253\"\n",
      "[1] \"Subject 403595429 completed 253 / 253\"\n",
      "[1] \"Subject 404565472 completed 253 / 253\"\n",
      "[1] \"Subject 413006308 completed 253 / 253\"\n",
      "[1] \"Subject 418413005 completed 253 / 253\"\n",
      "[1] \"Subject 429304075 completed 253 / 253\"\n",
      "[1] \"Subject 431543630 completed 253 / 253\"\n",
      "[1] \"Subject 447806945 completed 253 / 253\"\n",
      "[1] \"Subject 452446945 completed 253 / 253\"\n",
      "[1] \"Subject 452832938 completed 253 / 253\"\n",
      "[1] \"Subject 456189850 completed 253 / 253\"\n",
      "[1] \"Subject 463372698 completed 253 / 253\"\n",
      "[1] \"Subject 470122251 completed 253 / 253\"\n",
      "[1] \"Subject 471457102 completed 253 / 253\"\n",
      "[1] \"Subject 475089391 completed 253 / 253\"\n",
      "[1] \"Subject 478579177 completed 253 / 253\"\n",
      "[1] \"Subject 495185845 completed 253 / 253\"\n",
      "[1] \"Subject 497105461 completed 253 / 253\"\n",
      "[1] \"Subject 507377004 completed 253 / 253\"\n",
      "[1] \"Subject 513334121 completed 17 / 253\"\n",
      "[1] \"Subject 513963865 completed 253 / 253\"\n",
      "[1] \"Subject 517148418 completed 253 / 253\"\n",
      "[1] \"Subject 517476929 completed 253 / 253\"\n",
      "[1] \"Subject 517493776 completed 253 / 253\"\n",
      "[1] \"Subject 518370751 completed 253 / 253\"\n",
      "[1] \"Subject 518373039 completed 253 / 253\"\n",
      "[1] \"Subject 527222665 completed 253 / 253\"\n",
      "[1] \"Subject 535657331 completed 253 / 253\"\n",
      "[1] \"Subject 537190567 completed 253 / 253\"\n",
      "[1] \"Subject 543578239 completed 253 / 253\"\n",
      "[1] \"Subject 546552693 completed 253 / 253\"\n",
      "[1] \"Subject 555017647 completed 253 / 253\"\n",
      "[1] \"Subject 561140418 completed 253 / 253\"\n",
      "[1] \"Subject 563694159 completed 253 / 253\"\n",
      "[1] \"Subject 572765881 completed 253 / 253\"\n",
      "[1] \"Subject 580796674 completed 253 / 253\"\n",
      "[1] \"Subject 589488351 completed 11 / 253\"\n",
      "[1] \"Subject 601005594 completed 253 / 253\"\n",
      "[1] \"Subject 603387860 completed 253 / 253\"\n",
      "[1] \"Subject 615241579 completed 253 / 253\"\n",
      "[1] \"Subject 621746618 completed 253 / 253\"\n",
      "[1] \"Subject 621748191 completed 6 / 253\"\n",
      "[1] \"Subject 625654823 completed 253 / 253\"\n",
      "[1] \"Subject 626450633 completed 253 / 253\"\n",
      "[1] \"Subject 635999412 completed 253 / 253\"\n",
      "[1] \"Subject 636181616 completed 253 / 253\"\n",
      "[1] \"Subject 639372404 completed 50 / 253\"\n",
      "[1] \"Subject 649757255 completed 253 / 253\"\n",
      "[1] \"Subject 652658452 completed 253 / 253\"\n",
      "[1] \"Subject 661973269 completed 253 / 253\"\n",
      "[1] \"Subject 669741873 completed 253 / 253\"\n",
      "[1] \"Subject 671500180 completed 253 / 253\"\n",
      "[1] \"Subject 672521560 completed 253 / 253\"\n",
      "[1] \"Subject 672799377 completed 253 / 253\"\n",
      "[1] \"Subject 682309552 completed 253 / 253\"\n",
      "[1] \"Subject 687159644 completed 253 / 253\"\n",
      "[1] \"Subject 689093004 completed 253 / 253\"\n",
      "[1] \"Subject 711452977 completed 253 / 253\"\n",
      "[1] \"Subject 718139824 completed 253 / 253\"\n",
      "[1] \"Subject 718626067 completed 253 / 253\"\n",
      "[1] \"Subject 724122711 completed 253 / 253\"\n",
      "[1] \"Subject 727170484 completed 253 / 253\"\n",
      "[1] \"Subject 727174165 completed 253 / 253\"\n",
      "[1] \"Subject 731693537 completed 253 / 253\"\n",
      "[1] \"Subject 738589570 completed 253 / 253\"\n",
      "[1] \"Subject 750321084 completed 253 / 253\"\n",
      "[1] \"Subject 754276419 completed 253 / 253\"\n",
      "[1] \"Subject 779666947 completed 28 / 253\"\n",
      "[1] \"Subject 780403192 completed 253 / 253\"\n",
      "[1] \"Subject 787133962 completed 253 / 253\"\n",
      "[1] \"Subject 787708513 completed 253 / 253\"\n",
      "[1] \"Subject 788405028 completed 253 / 253\"\n",
      "[1] \"Subject 789921315 completed 253 / 253\"\n",
      "[1] \"Subject 790529144 completed 253 / 253\"\n",
      "[1] \"Subject 799430110 completed 253 / 253\"\n",
      "[1] \"Subject 810539788 completed 253 / 253\"\n",
      "[1] \"Subject 812377006 completed 253 / 253\"\n",
      "[1] \"Subject 813749599 completed 253 / 253\"\n",
      "[1] \"Subject 816584974 completed 253 / 253\"\n",
      "[1] \"Subject 818017150 completed 253 / 253\"\n",
      "[1] \"Subject 821695709 completed 253 / 253\"\n",
      "[1] \"Subject 823688566 completed 253 / 253\"\n",
      "[1] \"Subject 839320766 completed 253 / 253\"\n",
      "[1] \"Subject 843575785 completed 253 / 253\"\n",
      "[1] \"Subject 859783460 completed 253 / 253\"\n",
      "[1] \"Subject 862700263 completed 253 / 253\"\n",
      "[1] \"Subject 864988325 completed 253 / 253\"\n",
      "[1] \"Subject 888268305 completed 253 / 253\"\n",
      "[1] \"Subject 891685621 completed 253 / 253\"\n",
      "[1] \"Subject 896467980 completed 253 / 253\"\n",
      "[1] \"Subject 902494953 completed 253 / 253\"\n",
      "[1] \"Subject 903306123 completed 253 / 253\"\n",
      "[1] \"Subject 903704841 completed 253 / 253\"\n",
      "[1] \"Subject 906096476 completed 253 / 253\"\n",
      "[1] \"Subject 909015666 completed 253 / 253\"\n",
      "[1] \"Subject 909849446 completed 253 / 253\"\n",
      "[1] \"Subject 910420859 completed 253 / 253\"\n",
      "[1] \"Subject 925257755 completed 253 / 253\"\n",
      "[1] \"Subject 928731678 completed 253 / 253\"\n",
      "[1] \"Subject 933150654 completed 253 / 253\"\n",
      "[1] \"Subject 934533023 completed 253 / 253\"\n",
      "[1] \"Subject 940741322 completed 253 / 253\"\n",
      "[1] \"Subject 941912207 completed 253 / 253\"\n",
      "[1] \"Subject 945873991 completed 253 / 253\"\n",
      "[1] \"Subject 947005147 completed 253 / 253\"\n",
      "[1] \"Subject 947430341 completed 253 / 253\"\n",
      "[1] \"Subject 947697281 completed 6 / 253\"\n",
      "[1] \"Subject 960528676 completed 253 / 253\"\n",
      "[1] \"Subject 964615310 completed 253 / 253\"\n",
      "[1] \"Subject 967053231 completed 253 / 253\"\n",
      "[1] \"Subject 973853214 completed 253 / 253\"\n",
      "[1] \"Subject 975599482 completed 90 / 253\"\n",
      "[1] \"Subject 976032736 completed 253 / 253\"\n",
      "[1] \"Subject 983874771 completed 253 / 253\"\n",
      "[1] \"Subject 991358067 completed 253 / 253\"\n",
      "[1] \"Subject 994306267 completed 253 / 253\"\n",
      "[1] \"Subject 2740832079 completed 253 / 253\"\n"
     ]
    }
   ],
   "source": [
    "# actually throw out the subjects who didn't complete\n",
    "datadf <- remove_incomplete(datadf,stimuli_number)"
   ]
  },
  {
   "cell_type": "code",
   "execution_count": 56,
   "metadata": {
    "tags": []
   },
   "outputs": [],
   "source": [
    "# function to label participants who meet statistical cleaning assumptions\n",
    "label_noncompliant <- function(datadf,\n",
    "                               screen_size_cutoff=26,viewing_distance_cutoff=30,rt_threshold=rt_cutoff,score_cutoff=0.7){\n",
    "    \n",
    "    subjectlist <- sort(unique(datadf$subject)) # obtain a list of all the subjects\n",
    "    \n",
    "    for (ID in subjectlist){ # go through subject by subject\n",
    "        \n",
    "        subjectdf = subset(datadf, subject == ID) # select the ID for subject of interest \n",
    "        \n",
    "        screen_size <- round(screen_size(subjectdf)/10,1)\n",
    "        viewing_distance <- round(view_distance(subjectdf)/10,1)\n",
    "        catch_score <- catch_score(subjectdf)\n",
    "        \n",
    "        if(catch_score > score_cutoff){ # catch score cutoff\n",
    "            if(screen_size > screen_size_cutoff){ # screen size cutoff\n",
    "                if(viewing_distance > viewing_distance_cutoff){ # viewing distance cutoff\n",
    "                    if(rt_avg(subjectdf) > rt_threshold){ # rt cutoff\n",
    "                        datadf$noncompliant[datadf$subject == ID] = 0\n",
    "                    } else {\n",
    "                        print(paste(\"Subject\",ID,\"reaction time of:\",rt_avg(subjectdf),\"ms\",sep=' ')) # RT fail\n",
    "                        datadf$noncompliant[datadf$subject == ID] = 1\n",
    "                    }\n",
    "                } else {\n",
    "                    print(paste(\"Subject\",ID,\"viewing distance of:\",viewing_distance,\"cm\",sep=' ')) # Viewing distance fail\n",
    "                    datadf$noncompliant[datadf$subject == ID] = 2\n",
    "                }\n",
    "            } else {\n",
    "                print(paste(\"Subject\",ID,\"had a screen size of:\",screen_size,\"cm\",sep=' ')) # Screen size fail\n",
    "                datadf$noncompliant[datadf$subject == ID] = 3\n",
    "            } \n",
    "      } else {\n",
    "            print(paste(\"Subject\",ID,\"had a catch score of: \",catch_score,sep=' ')) # Catch score faile\n",
    "            datadf$noncompliant[datadf$subject == ID] = 4\n",
    "        }\n",
    "    }\n",
    "    print(paste(length(unique(datadf$subject[datadf$noncompliant==0])),\"of\",length(unique(datadf$subject)),\n",
    "                \"were compliant\",sep=' '))\n",
    "    return(datadf)\n",
    "}"
   ]
  },
  {
   "cell_type": "code",
   "execution_count": 57,
   "metadata": {
    "tags": []
   },
   "outputs": [
    {
     "name": "stdout",
     "output_type": "stream",
     "text": [
      "[1] \"Catch scores\"\n",
      "[1] \"Subject 3248455 : 10 / 10\"\n",
      "[1] \"Subject 9522584 : 6 / 10\"\n",
      "[1] \"Subject 11005010 : 10 / 10\"\n",
      "[1] \"Subject 13228849 : 9 / 10\"\n",
      "[1] \"Subject 35587329 : 10 / 10\"\n",
      "[1] \"Subject 35716339 : 10 / 10\"\n",
      "[1] \"Subject 40354804 : 10 / 10\"\n",
      "[1] \"Subject 48341337 : 10 / 10\"\n",
      "[1] \"Subject 50823202 : 10 / 10\"\n",
      "[1] \"Subject 51805023 : 10 / 10\"\n",
      "[1] \"Subject 53858324 : 9 / 10\"\n",
      "[1] \"Subject 63991259 : 10 / 10\"\n",
      "[1] \"Subject 64413254 : 10 / 10\"\n",
      "[1] \"Subject 75394365 : 10 / 10\"\n",
      "[1] \"Subject 80499026 : 10 / 10\"\n",
      "[1] \"Subject 81903961 : 6 / 10\"\n",
      "[1] \"Subject 98665966 : 10 / 10\"\n",
      "[1] \"Subject 99640956 : 10 / 10\"\n",
      "[1] \"Subject 120361401 : 1 / 10\"\n",
      "[1] \"Subject 133207874 : 7 / 10\"\n",
      "[1] \"Subject 147071530 : 7 / 10\"\n",
      "[1] \"Subject 165762185 : 10 / 10\"\n",
      "[1] \"Subject 170537732 : 10 / 10\"\n",
      "[1] \"Subject 172093576 : 7 / 10\"\n",
      "[1] \"Subject 176476116 : 10 / 10\"\n",
      "[1] \"Subject 176698125 : 10 / 10\"\n",
      "[1] \"Subject 204525930 : 10 / 10\"\n",
      "[1] \"Subject 211745977 : 10 / 10\"\n",
      "[1] \"Subject 219326440 : 7 / 10\"\n",
      "[1] \"Subject 225280441 : 10 / 10\"\n",
      "[1] \"Subject 232984941 : 10 / 10\"\n",
      "[1] \"Subject 244316230 : 5 / 10\"\n",
      "[1] \"Subject 245575217 : 10 / 10\"\n",
      "[1] \"Subject 251360273 : 10 / 10\"\n",
      "[1] \"Subject 252347716 : 6 / 10\"\n",
      "[1] \"Subject 254207207 : 4 / 10\"\n",
      "[1] \"Subject 255362629 : 10 / 10\"\n",
      "[1] \"Subject 257686691 : 10 / 10\"\n",
      "[1] \"Subject 265310712 : 1 / 10\"\n",
      "[1] \"Subject 269397244 : 10 / 10\"\n",
      "[1] \"Subject 281640697 : 10 / 10\"\n",
      "[1] \"Subject 285550479 : 1 / 10\"\n",
      "[1] \"Subject 287237223 : 10 / 10\"\n",
      "[1] \"Subject 294207097 : 10 / 10\"\n",
      "[1] \"Subject 300304269 : 10 / 10\"\n",
      "[1] \"Subject 301246724 : 10 / 10\"\n",
      "[1] \"Subject 302502671 : 10 / 10\"\n",
      "[1] \"Subject 307922435 : 4 / 10\"\n",
      "[1] \"Subject 309861762 : 10 / 10\"\n",
      "[1] \"Subject 315222554 : 8 / 10\"\n",
      "[1] \"Subject 315609216 : 10 / 10\"\n",
      "[1] \"Subject 327011447 : 10 / 10\"\n",
      "[1] \"Subject 336215410 : 9 / 10\"\n",
      "[1] \"Subject 338738516 : 10 / 10\"\n",
      "[1] \"Subject 340691821 : 10 / 10\"\n",
      "[1] \"Subject 343319516 : 9 / 10\"\n",
      "[1] \"Subject 369400829 : 7 / 10\"\n",
      "[1] \"Subject 373678849 : 8 / 10\"\n",
      "[1] \"Subject 376591610 : 10 / 10\"\n",
      "[1] \"Subject 382104984 : 0 / 10\"\n",
      "[1] \"Subject 383674527 : 10 / 10\"\n",
      "[1] \"Subject 392751046 : 10 / 10\"\n",
      "[1] \"Subject 395526717 : 10 / 10\"\n",
      "[1] \"Subject 401106595 : 10 / 10\"\n",
      "[1] \"Subject 403595429 : 10 / 10\"\n",
      "[1] \"Subject 404565472 : 10 / 10\"\n",
      "[1] \"Subject 413006308 : 10 / 10\"\n",
      "[1] \"Subject 418413005 : 10 / 10\"\n",
      "[1] \"Subject 429304075 : 4 / 10\"\n",
      "[1] \"Subject 431543630 : 10 / 10\"\n",
      "[1] \"Subject 447806945 : 10 / 10\"\n",
      "[1] \"Subject 452446945 : 10 / 10\"\n",
      "[1] \"Subject 452832938 : 10 / 10\"\n",
      "[1] \"Subject 456189850 : 9 / 10\"\n",
      "[1] \"Subject 463372698 : 7 / 10\"\n",
      "[1] \"Subject 470122251 : 10 / 10\"\n",
      "[1] \"Subject 471457102 : 3 / 10\"\n",
      "[1] \"Subject 475089391 : 7 / 10\"\n",
      "[1] \"Subject 478579177 : 10 / 10\"\n",
      "[1] \"Subject 495185845 : 10 / 10\"\n",
      "[1] \"Subject 497105461 : 9 / 10\"\n",
      "[1] \"Subject 507377004 : 10 / 10\"\n",
      "[1] \"Subject 513963865 : 10 / 10\"\n",
      "[1] \"Subject 517148418 : 10 / 10\"\n",
      "[1] \"Subject 517476929 : 4 / 10\"\n",
      "[1] \"Subject 517493776 : 10 / 10\"\n",
      "[1] \"Subject 518370751 : 10 / 10\"\n",
      "[1] \"Subject 518373039 : 10 / 10\"\n",
      "[1] \"Subject 527222665 : 10 / 10\"\n",
      "[1] \"Subject 535657331 : 10 / 10\"\n",
      "[1] \"Subject 537190567 : 10 / 10\"\n",
      "[1] \"Subject 543578239 : 10 / 10\"\n",
      "[1] \"Subject 546552693 : 10 / 10\"\n",
      "[1] \"Subject 555017647 : 2 / 10\"\n",
      "[1] \"Subject 561140418 : 0 / 10\"\n",
      "[1] \"Subject 563694159 : 5 / 10\"\n",
      "[1] \"Subject 572765881 : 10 / 10\"\n",
      "[1] \"Subject 580796674 : 10 / 10\"\n",
      "[1] \"Subject 601005594 : 6 / 10\"\n",
      "[1] \"Subject 603387860 : 10 / 10\"\n",
      "[1] \"Subject 615241579 : 10 / 10\"\n",
      "[1] \"Subject 621746618 : 10 / 10\"\n",
      "[1] \"Subject 625654823 : 10 / 10\"\n",
      "[1] \"Subject 626450633 : 10 / 10\"\n",
      "[1] \"Subject 635999412 : 10 / 10\"\n",
      "[1] \"Subject 636181616 : 10 / 10\"\n",
      "[1] \"Subject 649757255 : 10 / 10\"\n",
      "[1] \"Subject 652658452 : 10 / 10\"\n",
      "[1] \"Subject 661973269 : 10 / 10\"\n",
      "[1] \"Subject 669741873 : 10 / 10\"\n",
      "[1] \"Subject 671500180 : 10 / 10\"\n",
      "[1] \"Subject 672521560 : 10 / 10\"\n",
      "[1] \"Subject 672799377 : 10 / 10\"\n",
      "[1] \"Subject 682309552 : 10 / 10\"\n",
      "[1] \"Subject 687159644 : 10 / 10\"\n",
      "[1] \"Subject 689093004 : 10 / 10\"\n",
      "[1] \"Subject 711452977 : 7 / 10\"\n",
      "[1] \"Subject 718139824 : 10 / 10\"\n",
      "[1] \"Subject 718626067 : 10 / 10\"\n",
      "[1] \"Subject 724122711 : 10 / 10\"\n",
      "[1] \"Subject 727170484 : 10 / 10\"\n",
      "[1] \"Subject 727174165 : 10 / 10\"\n",
      "[1] \"Subject 731693537 : 10 / 10\"\n",
      "[1] \"Subject 738589570 : 10 / 10\"\n",
      "[1] \"Subject 750321084 : 10 / 10\"\n",
      "[1] \"Subject 754276419 : 10 / 10\"\n",
      "[1] \"Subject 780403192 : 10 / 10\"\n",
      "[1] \"Subject 787133962 : 10 / 10\"\n",
      "[1] \"Subject 787708513 : 10 / 10\"\n",
      "[1] \"Subject 788405028 : 10 / 10\"\n",
      "[1] \"Subject 789921315 : 6 / 10\"\n",
      "[1] \"Subject 790529144 : 10 / 10\"\n",
      "[1] \"Subject 799430110 : 10 / 10\"\n",
      "[1] \"Subject 810539788 : 10 / 10\"\n",
      "[1] \"Subject 812377006 : 10 / 10\"\n",
      "[1] \"Subject 813749599 : 10 / 10\"\n",
      "[1] \"Subject 816584974 : 10 / 10\"\n",
      "[1] \"Subject 818017150 : 10 / 10\"\n",
      "[1] \"Subject 821695709 : 10 / 10\"\n",
      "[1] \"Subject 823688566 : 10 / 10\"\n",
      "[1] \"Subject 839320766 : 10 / 10\"\n",
      "[1] \"Subject 843575785 : 10 / 10\"\n",
      "[1] \"Subject 859783460 : 10 / 10\"\n",
      "[1] \"Subject 862700263 : 9 / 10\"\n",
      "[1] \"Subject 864988325 : 10 / 10\"\n",
      "[1] \"Subject 888268305 : 9 / 10\"\n",
      "[1] \"Subject 891685621 : 10 / 10\"\n",
      "[1] \"Subject 896467980 : 10 / 10\"\n",
      "[1] \"Subject 902494953 : 10 / 10\"\n",
      "[1] \"Subject 903306123 : 10 / 10\"\n",
      "[1] \"Subject 903704841 : 10 / 10\"\n",
      "[1] \"Subject 906096476 : 10 / 10\"\n",
      "[1] \"Subject 909015666 : 10 / 10\"\n",
      "[1] \"Subject 909849446 : 10 / 10\"\n",
      "[1] \"Subject 910420859 : 10 / 10\"\n",
      "[1] \"Subject 925257755 : 10 / 10\"\n",
      "[1] \"Subject 928731678 : 10 / 10\"\n",
      "[1] \"Subject 933150654 : 10 / 10\"\n",
      "[1] \"Subject 934533023 : 3 / 10\"\n",
      "[1] \"Subject 940741322 : 0 / 10\"\n",
      "[1] \"Subject 941912207 : 10 / 10\"\n",
      "[1] \"Subject 945873991 : 10 / 10\"\n",
      "[1] \"Subject 947005147 : 5 / 10\"\n",
      "[1] \"Subject 947430341 : 10 / 10\"\n",
      "[1] \"Subject 960528676 : 9 / 10\"\n",
      "[1] \"Subject 964615310 : 10 / 10\"\n",
      "[1] \"Subject 967053231 : 10 / 10\"\n",
      "[1] \"Subject 973853214 : 10 / 10\"\n",
      "[1] \"Subject 976032736 : 10 / 10\"\n",
      "[1] \"Subject 983874771 : 10 / 10\"\n",
      "[1] \"Subject 991358067 : 10 / 10\"\n",
      "[1] \"Subject 994306267 : 10 / 10\"\n",
      "[1] \"Subject 2740832079 : 10 / 10\"\n"
     ]
    }
   ],
   "source": [
    "catch_trial_checker(datadf)"
   ]
  },
  {
   "cell_type": "code",
   "execution_count": 58,
   "metadata": {
    "scrolled": true
   },
   "outputs": [
    {
     "name": "stdout",
     "output_type": "stream",
     "text": [
      "[1] \"Subject 9522584 had a catch score of:  0.6\"\n",
      "[1] \"Subject 81903961 had a catch score of:  0.6\"\n",
      "[1] \"Subject 120361401 had a catch score of:  0.1\"\n",
      "[1] \"Subject 133207874 had a catch score of:  0.7\"\n",
      "[1] \"Subject 147071530 had a catch score of:  0.7\"\n",
      "[1] \"Subject 172093576 had a catch score of:  0.7\"\n",
      "[1] \"Subject 219326440 had a catch score of:  0.7\"\n",
      "[1] \"Subject 244316230 had a catch score of:  0.5\"\n",
      "[1] \"Subject 252347716 had a catch score of:  0.6\"\n",
      "[1] \"Subject 254207207 had a catch score of:  0.4\"\n",
      "[1] \"Subject 265310712 had a catch score of:  0.1\"\n",
      "[1] \"Subject 285550479 had a catch score of:  0.1\"\n",
      "[1] \"Subject 307922435 had a catch score of:  0.4\"\n",
      "[1] \"Subject 369400829 had a catch score of:  0.7\"\n",
      "[1] \"Subject 382104984 had a catch score of:  0\"\n",
      "[1] \"Subject 429304075 had a catch score of:  0.4\"\n",
      "[1] \"Subject 463372698 had a catch score of:  0.7\"\n",
      "[1] \"Subject 471457102 had a catch score of:  0.3\"\n",
      "[1] \"Subject 475089391 had a catch score of:  0.7\"\n",
      "[1] \"Subject 517476929 had a catch score of:  0.4\"\n",
      "[1] \"Subject 555017647 had a catch score of:  0.2\"\n",
      "[1] \"Subject 561140418 had a catch score of:  0\"\n",
      "[1] \"Subject 563694159 had a catch score of:  0.5\"\n",
      "[1] \"Subject 601005594 had a catch score of:  0.6\"\n",
      "[1] \"Subject 711452977 had a catch score of:  0.7\"\n",
      "[1] \"Subject 789921315 had a catch score of:  0.6\"\n",
      "[1] \"Subject 934533023 had a catch score of:  0.3\"\n",
      "[1] \"Subject 940741322 had a catch score of:  0\"\n",
      "[1] \"Subject 947005147 had a catch score of:  0.5\"\n",
      "[1] \"144 of 173 were compliant\"\n"
     ]
    }
   ],
   "source": [
    "datadf <- label_noncompliant(datadf)"
   ]
  },
  {
   "cell_type": "code",
   "execution_count": 59,
   "metadata": {},
   "outputs": [],
   "source": [
    "# function to run all these checks at once\n",
    "validation <- function(datadf){\n",
    "    \n",
    "    magnification_list <- sort(unique(datadf$peripheral_scale))\n",
    "    size_list <- sort(unique(datadf$stimulus_radius))\n",
    "    \n",
    "    for (stimulus in size_list){\n",
    "        for (scale in magnification_list){\n",
    "            tempdf <- subset(datadf, peripheral_scale == scale & stimulus_radius == stimulus)\n",
    "            \n",
    "            print(paste(\"Magnification\",scale,\"Stimulus\",stimulus))\n",
    "            tempdf <- remove_incomplete(tempdf,stimuli_number)\n",
    "            screen_parameters(tempdf, individual=FALSE)\n",
    "            catch_trial_checker(tempdf)\n",
    "            label_noncompliant(tempdf)\n",
    "            print(\"\")\n",
    "            print(\"____________________\")\n",
    "            print(\"\")\n",
    "            \n",
    "        }\n",
    "    }\n",
    "}"
   ]
  },
  {
   "cell_type": "code",
   "execution_count": 60,
   "metadata": {
    "collapsed": true,
    "jupyter": {
     "outputs_hidden": true
    },
    "tags": []
   },
   "outputs": [
    {
     "name": "stdout",
     "output_type": "stream",
     "text": [
      "[1] \"Magnification 1 Stimulus 0.05\"\n",
      "[1] \"18 in dataset\"\n",
      "[1] \"\"\n",
      "[1] \"Subject 11005010 completed 253 / 253\"\n",
      "[1] \"Subject 64413254 completed 253 / 253\"\n",
      "[1] \"Subject 294207097 completed 253 / 253\"\n",
      "[1] \"Subject 338738516 completed 253 / 253\"\n",
      "[1] \"Subject 340691821 completed 253 / 253\"\n",
      "[1] \"Subject 343319516 completed 253 / 253\"\n",
      "[1] \"Subject 373678849 completed 253 / 253\"\n",
      "[1] \"Subject 376591610 completed 253 / 253\"\n",
      "[1] \"Subject 507377004 completed 253 / 253\"\n",
      "[1] \"Subject 603387860 completed 253 / 253\"\n",
      "[1] \"Subject 626450633 completed 253 / 253\"\n",
      "[1] \"Subject 682309552 completed 253 / 253\"\n",
      "[1] \"Subject 689093004 completed 253 / 253\"\n",
      "[1] \"Subject 754276419 completed 253 / 253\"\n",
      "[1] \"Subject 821695709 completed 253 / 253\"\n",
      "[1] \"Subject 902494953 completed 253 / 253\"\n",
      "[1] \"Subject 909015666 completed 253 / 253\"\n",
      "[1] \"Subject 960528676 completed 253 / 253\"\n",
      "[1] \"Screen Parameters\"\n",
      "[1] \"\"\n",
      "[1] \"Screen size issues: 0 / 18\"\n",
      "[1] \"Viewing distance issues: 0 / 18\"\n",
      "[1] \"Catch scores\"\n",
      "[1] \"Subject 11005010 : 10 / 10\"\n",
      "[1] \"Subject 64413254 : 10 / 10\"\n",
      "[1] \"Subject 294207097 : 10 / 10\"\n",
      "[1] \"Subject 338738516 : 10 / 10\"\n",
      "[1] \"Subject 340691821 : 10 / 10\"\n",
      "[1] \"Subject 343319516 : 9 / 10\"\n",
      "[1] \"Subject 373678849 : 8 / 10\"\n",
      "[1] \"Subject 376591610 : 10 / 10\"\n",
      "[1] \"Subject 507377004 : 10 / 10\"\n",
      "[1] \"Subject 603387860 : 10 / 10\"\n",
      "[1] \"Subject 626450633 : 10 / 10\"\n",
      "[1] \"Subject 682309552 : 10 / 10\"\n",
      "[1] \"Subject 689093004 : 10 / 10\"\n",
      "[1] \"Subject 754276419 : 10 / 10\"\n",
      "[1] \"Subject 821695709 : 10 / 10\"\n",
      "[1] \"Subject 902494953 : 10 / 10\"\n",
      "[1] \"Subject 909015666 : 10 / 10\"\n",
      "[1] \"Subject 960528676 : 9 / 10\"\n",
      "[1] \"18 of 18 were compliant\"\n",
      "[1] \"\"\n",
      "[1] \"____________________\"\n",
      "[1] \"\"\n",
      "[1] \"Magnification 4.5 Stimulus 0.05\"\n",
      "[1] \"18 in dataset\"\n",
      "[1] \"\"\n",
      "[1] \"Subject 53858324 completed 253 / 253\"\n",
      "[1] \"Subject 81903961 completed 253 / 253\"\n",
      "[1] \"Subject 165762185 completed 253 / 253\"\n",
      "[1] \"Subject 170537732 completed 253 / 253\"\n",
      "[1] \"Subject 211745977 completed 253 / 253\"\n",
      "[1] \"Subject 255362629 completed 253 / 253\"\n",
      "[1] \"Subject 327011447 completed 253 / 253\"\n",
      "[1] \"Subject 392751046 completed 253 / 253\"\n",
      "[1] \"Subject 447806945 completed 253 / 253\"\n",
      "[1] \"Subject 546552693 completed 253 / 253\"\n",
      "[1] \"Subject 615241579 completed 253 / 253\"\n",
      "[1] \"Subject 625654823 completed 253 / 253\"\n",
      "[1] \"Subject 780403192 completed 253 / 253\"\n",
      "[1] \"Subject 787708513 completed 253 / 253\"\n",
      "[1] \"Subject 816584974 completed 253 / 253\"\n",
      "[1] \"Subject 818017150 completed 253 / 253\"\n",
      "[1] \"Subject 862700263 completed 253 / 253\"\n",
      "[1] \"Subject 906096476 completed 253 / 253\"\n",
      "[1] \"Screen Parameters\"\n",
      "[1] \"\"\n",
      "[1] \"Screen size issues: 0 / 18\"\n",
      "[1] \"Viewing distance issues: 0 / 18\"\n",
      "[1] \"Catch scores\"\n",
      "[1] \"Subject 53858324 : 9 / 10\"\n",
      "[1] \"Subject 81903961 : 6 / 10\"\n",
      "[1] \"Subject 165762185 : 10 / 10\"\n",
      "[1] \"Subject 170537732 : 10 / 10\"\n",
      "[1] \"Subject 211745977 : 10 / 10\"\n",
      "[1] \"Subject 255362629 : 10 / 10\"\n",
      "[1] \"Subject 327011447 : 10 / 10\"\n",
      "[1] \"Subject 392751046 : 10 / 10\"\n",
      "[1] \"Subject 447806945 : 10 / 10\"\n",
      "[1] \"Subject 546552693 : 10 / 10\"\n",
      "[1] \"Subject 615241579 : 10 / 10\"\n",
      "[1] \"Subject 625654823 : 10 / 10\"\n",
      "[1] \"Subject 780403192 : 10 / 10\"\n",
      "[1] \"Subject 787708513 : 10 / 10\"\n",
      "[1] \"Subject 816584974 : 10 / 10\"\n",
      "[1] \"Subject 818017150 : 10 / 10\"\n",
      "[1] \"Subject 862700263 : 9 / 10\"\n",
      "[1] \"Subject 906096476 : 10 / 10\"\n",
      "[1] \"Subject 81903961 had a catch score of:  0.6\"\n",
      "[1] \"17 of 18 were compliant\"\n",
      "[1] \"\"\n",
      "[1] \"____________________\"\n",
      "[1] \"\"\n",
      "[1] \"Magnification 1 Stimulus 0.1\"\n",
      "[1] \"17 in dataset\"\n",
      "[1] \"\"\n",
      "[1] \"Subject 3248455 completed 253 / 253\"\n",
      "[1] \"Subject 9522584 completed 253 / 253\"\n",
      "[1] \"Subject 35716339 completed 253 / 253\"\n",
      "[1] \"Subject 315222554 completed 253 / 253\"\n",
      "[1] \"Subject 336215410 completed 253 / 253\"\n",
      "[1] \"Subject 369400829 completed 253 / 253\"\n",
      "[1] \"Subject 383674527 completed 253 / 253\"\n",
      "[1] \"Subject 401106595 completed 253 / 253\"\n",
      "[1] \"Subject 403595429 completed 253 / 253\"\n",
      "[1] \"Subject 495185845 completed 253 / 253\"\n",
      "[1] \"Subject 636181616 completed 253 / 253\"\n",
      "[1] \"Subject 718139824 completed 253 / 253\"\n",
      "[1] \"Subject 727174165 completed 253 / 253\"\n",
      "[1] \"Subject 823688566 completed 253 / 253\"\n",
      "[1] \"Subject 903704841 completed 253 / 253\"\n",
      "[1] \"Subject 933150654 completed 253 / 253\"\n",
      "[1] \"Subject 964615310 completed 253 / 253\"\n",
      "[1] \"Screen Parameters\"\n",
      "[1] \"\"\n",
      "[1] \"Screen size issues: 0 / 17\"\n",
      "[1] \"Viewing distance issues: 0 / 17\"\n",
      "[1] \"Catch scores\"\n",
      "[1] \"Subject 3248455 : 10 / 10\"\n",
      "[1] \"Subject 9522584 : 6 / 10\"\n",
      "[1] \"Subject 35716339 : 10 / 10\"\n",
      "[1] \"Subject 315222554 : 8 / 10\"\n",
      "[1] \"Subject 336215410 : 9 / 10\"\n",
      "[1] \"Subject 369400829 : 7 / 10\"\n",
      "[1] \"Subject 383674527 : 10 / 10\"\n",
      "[1] \"Subject 401106595 : 10 / 10\"\n",
      "[1] \"Subject 403595429 : 10 / 10\"\n",
      "[1] \"Subject 495185845 : 10 / 10\"\n",
      "[1] \"Subject 636181616 : 10 / 10\"\n",
      "[1] \"Subject 718139824 : 10 / 10\"\n",
      "[1] \"Subject 727174165 : 10 / 10\"\n",
      "[1] \"Subject 823688566 : 10 / 10\"\n",
      "[1] \"Subject 903704841 : 10 / 10\"\n",
      "[1] \"Subject 933150654 : 10 / 10\"\n",
      "[1] \"Subject 964615310 : 10 / 10\"\n",
      "[1] \"Subject 9522584 had a catch score of:  0.6\"\n",
      "[1] \"Subject 369400829 had a catch score of:  0.7\"\n",
      "[1] \"15 of 17 were compliant\"\n",
      "[1] \"\"\n",
      "[1] \"____________________\"\n",
      "[1] \"\"\n",
      "[1] \"Magnification 4.5 Stimulus 0.1\"\n",
      "[1] \"13 in dataset\"\n",
      "[1] \"\"\n",
      "[1] \"Subject 51805023 completed 253 / 253\"\n",
      "[1] \"Subject 120361401 completed 253 / 253\"\n",
      "[1] \"Subject 219326440 completed 253 / 253\"\n",
      "[1] \"Subject 251360273 completed 253 / 253\"\n",
      "[1] \"Subject 269397244 completed 253 / 253\"\n",
      "[1] \"Subject 382104984 completed 253 / 253\"\n",
      "[1] \"Subject 470122251 completed 253 / 253\"\n",
      "[1] \"Subject 518370751 completed 253 / 253\"\n",
      "[1] \"Subject 543578239 completed 253 / 253\"\n",
      "[1] \"Subject 661973269 completed 253 / 253\"\n",
      "[1] \"Subject 738589570 completed 253 / 253\"\n",
      "[1] \"Subject 812377006 completed 253 / 253\"\n",
      "[1] \"Subject 891685621 completed 253 / 253\"\n",
      "[1] \"Screen Parameters\"\n",
      "[1] \"\"\n",
      "[1] \"Screen size issues: 0 / 13\"\n",
      "[1] \"Viewing distance issues: 0 / 13\"\n",
      "[1] \"Catch scores\"\n",
      "[1] \"Subject 51805023 : 10 / 10\"\n",
      "[1] \"Subject 120361401 : 1 / 10\"\n",
      "[1] \"Subject 219326440 : 7 / 10\"\n",
      "[1] \"Subject 251360273 : 10 / 10\"\n",
      "[1] \"Subject 269397244 : 10 / 10\"\n",
      "[1] \"Subject 382104984 : 0 / 10\"\n",
      "[1] \"Subject 470122251 : 10 / 10\"\n",
      "[1] \"Subject 518370751 : 10 / 10\"\n",
      "[1] \"Subject 543578239 : 10 / 10\"\n",
      "[1] \"Subject 661973269 : 10 / 10\"\n",
      "[1] \"Subject 738589570 : 10 / 10\"\n",
      "[1] \"Subject 812377006 : 10 / 10\"\n",
      "[1] \"Subject 891685621 : 10 / 10\"\n",
      "[1] \"Subject 120361401 had a catch score of:  0.1\"\n",
      "[1] \"Subject 219326440 had a catch score of:  0.7\"\n",
      "[1] \"Subject 382104984 had a catch score of:  0\"\n",
      "[1] \"10 of 13 were compliant\"\n",
      "[1] \"\"\n",
      "[1] \"____________________\"\n",
      "[1] \"\"\n",
      "[1] \"Magnification 1 Stimulus 0.25\"\n",
      "[1] \"20 in dataset\"\n",
      "[1] \"\"\n",
      "[1] \"Subject 13228849 completed 253 / 253\"\n",
      "[1] \"Subject 75394365 completed 253 / 253\"\n",
      "[1] \"Subject 172093576 completed 253 / 253\"\n",
      "[1] \"Subject 300304269 completed 253 / 253\"\n",
      "[1] \"Subject 309861762 completed 253 / 253\"\n",
      "[1] \"Subject 413006308 completed 253 / 253\"\n",
      "[1] \"Subject 429304075 completed 253 / 253\"\n",
      "[1] \"Subject 478579177 completed 253 / 253\"\n",
      "[1] \"Subject 497105461 completed 253 / 253\"\n",
      "[1] \"Subject 517476929 completed 253 / 253\"\n",
      "[1] \"Subject 601005594 completed 253 / 253\"\n",
      "[1] \"Subject 669741873 completed 253 / 253\"\n",
      "[1] \"Subject 711452977 completed 253 / 253\"\n",
      "[1] \"Subject 731693537 completed 253 / 253\"\n",
      "[1] \"Subject 909849446 completed 253 / 253\"\n",
      "[1] \"Subject 910420859 completed 253 / 253\"\n",
      "[1] \"Subject 928731678 completed 253 / 253\"\n",
      "[1] \"Subject 934533023 completed 253 / 253\"\n",
      "[1] \"Subject 967053231 completed 253 / 253\"\n",
      "[1] \"Subject 991358067 completed 253 / 253\"\n",
      "[1] \"Screen Parameters\"\n",
      "[1] \"\"\n",
      "[1] \"Screen size issues: 0 / 20\"\n",
      "[1] \"Viewing distance issues: 0 / 20\"\n",
      "[1] \"Catch scores\"\n",
      "[1] \"Subject 13228849 : 9 / 10\"\n",
      "[1] \"Subject 75394365 : 10 / 10\"\n",
      "[1] \"Subject 172093576 : 7 / 10\"\n",
      "[1] \"Subject 300304269 : 10 / 10\"\n",
      "[1] \"Subject 309861762 : 10 / 10\"\n",
      "[1] \"Subject 413006308 : 10 / 10\"\n",
      "[1] \"Subject 429304075 : 4 / 10\"\n",
      "[1] \"Subject 478579177 : 10 / 10\"\n",
      "[1] \"Subject 497105461 : 9 / 10\"\n",
      "[1] \"Subject 517476929 : 4 / 10\"\n",
      "[1] \"Subject 601005594 : 6 / 10\"\n",
      "[1] \"Subject 669741873 : 10 / 10\"\n",
      "[1] \"Subject 711452977 : 7 / 10\"\n",
      "[1] \"Subject 731693537 : 10 / 10\"\n",
      "[1] \"Subject 909849446 : 10 / 10\"\n",
      "[1] \"Subject 910420859 : 10 / 10\"\n",
      "[1] \"Subject 928731678 : 10 / 10\"\n",
      "[1] \"Subject 934533023 : 3 / 10\"\n",
      "[1] \"Subject 967053231 : 10 / 10\"\n",
      "[1] \"Subject 991358067 : 10 / 10\"\n",
      "[1] \"Subject 172093576 had a catch score of:  0.7\"\n",
      "[1] \"Subject 429304075 had a catch score of:  0.4\"\n",
      "[1] \"Subject 517476929 had a catch score of:  0.4\"\n",
      "[1] \"Subject 601005594 had a catch score of:  0.6\"\n",
      "[1] \"Subject 711452977 had a catch score of:  0.7\"\n",
      "[1] \"Subject 934533023 had a catch score of:  0.3\"\n",
      "[1] \"14 of 20 were compliant\"\n",
      "[1] \"\"\n",
      "[1] \"____________________\"\n",
      "[1] \"\"\n",
      "[1] \"Magnification 4.5 Stimulus 0.25\"\n",
      "[1] \"22 in dataset\"\n",
      "[1] \"\"\n",
      "[1] \"Subject 35587329 completed 253 / 253\"\n",
      "[1] \"Subject 40354804 completed 253 / 253\"\n",
      "[1] \"Subject 50823202 completed 253 / 253\"\n",
      "[1] \"Subject 176476116 completed 253 / 253\"\n",
      "[1] \"Subject 225280441 completed 253 / 253\"\n",
      "[1] \"Subject 244316230 completed 253 / 253\"\n",
      "[1] \"Subject 245575217 completed 253 / 253\"\n",
      "[1] \"Subject 302502671 completed 253 / 253\"\n",
      "[1] \"Subject 418413005 completed 253 / 253\"\n",
      "[1] \"Subject 456189850 completed 253 / 253\"\n",
      "[1] \"Subject 471457102 completed 253 / 253\"\n",
      "[1] \"Subject 517148418 completed 253 / 253\"\n",
      "[1] \"Subject 537190567 completed 253 / 253\"\n",
      "[1] \"Subject 555017647 completed 253 / 253\"\n",
      "[1] \"Subject 563694159 completed 253 / 253\"\n",
      "[1] \"Subject 672521560 completed 253 / 253\"\n",
      "[1] \"Subject 672799377 completed 253 / 253\"\n",
      "[1] \"Subject 724122711 completed 253 / 253\"\n",
      "[1] \"Subject 787133962 completed 253 / 253\"\n",
      "[1] \"Subject 945873991 completed 253 / 253\"\n",
      "[1] \"Subject 973853214 completed 253 / 253\"\n",
      "[1] \"Subject 976032736 completed 253 / 253\"\n",
      "[1] \"Screen Parameters\"\n",
      "[1] \"\"\n",
      "[1] \"Screen size issues: 0 / 22\"\n",
      "[1] \"Viewing distance issues: 0 / 22\"\n",
      "[1] \"Catch scores\"\n",
      "[1] \"Subject 35587329 : 10 / 10\"\n",
      "[1] \"Subject 40354804 : 10 / 10\"\n",
      "[1] \"Subject 50823202 : 10 / 10\"\n",
      "[1] \"Subject 176476116 : 10 / 10\"\n",
      "[1] \"Subject 225280441 : 10 / 10\"\n",
      "[1] \"Subject 244316230 : 5 / 10\"\n",
      "[1] \"Subject 245575217 : 10 / 10\"\n",
      "[1] \"Subject 302502671 : 10 / 10\"\n",
      "[1] \"Subject 418413005 : 10 / 10\"\n",
      "[1] \"Subject 456189850 : 9 / 10\"\n",
      "[1] \"Subject 471457102 : 3 / 10\"\n",
      "[1] \"Subject 517148418 : 10 / 10\"\n",
      "[1] \"Subject 537190567 : 10 / 10\"\n",
      "[1] \"Subject 555017647 : 2 / 10\"\n",
      "[1] \"Subject 563694159 : 5 / 10\"\n",
      "[1] \"Subject 672521560 : 10 / 10\"\n",
      "[1] \"Subject 672799377 : 10 / 10\"\n",
      "[1] \"Subject 724122711 : 10 / 10\"\n",
      "[1] \"Subject 787133962 : 10 / 10\"\n",
      "[1] \"Subject 945873991 : 10 / 10\"\n",
      "[1] \"Subject 973853214 : 10 / 10\"\n",
      "[1] \"Subject 976032736 : 10 / 10\"\n",
      "[1] \"Subject 244316230 had a catch score of:  0.5\"\n",
      "[1] \"Subject 471457102 had a catch score of:  0.3\"\n",
      "[1] \"Subject 555017647 had a catch score of:  0.2\"\n",
      "[1] \"Subject 563694159 had a catch score of:  0.5\"\n",
      "[1] \"18 of 22 were compliant\"\n",
      "[1] \"\"\n",
      "[1] \"____________________\"\n",
      "[1] \"\"\n",
      "[1] \"Magnification 1 Stimulus 0.5\"\n",
      "[1] \"15 in dataset\"\n",
      "[1] \"\"\n",
      "[1] \"Subject 99640956 completed 253 / 253\"\n",
      "[1] \"Subject 133207874 completed 253 / 253\"\n",
      "[1] \"Subject 176698125 completed 253 / 253\"\n",
      "[1] \"Subject 204525930 completed 253 / 253\"\n",
      "[1] \"Subject 265310712 completed 253 / 253\"\n",
      "[1] \"Subject 281640697 completed 253 / 253\"\n",
      "[1] \"Subject 452446945 completed 253 / 253\"\n",
      "[1] \"Subject 475089391 completed 253 / 253\"\n",
      "[1] \"Subject 518373039 completed 253 / 253\"\n",
      "[1] \"Subject 635999412 completed 253 / 253\"\n",
      "[1] \"Subject 750321084 completed 253 / 253\"\n",
      "[1] \"Subject 789921315 completed 253 / 253\"\n",
      "[1] \"Subject 903306123 completed 253 / 253\"\n",
      "[1] \"Subject 947005147 completed 253 / 253\"\n",
      "[1] \"Subject 947430341 completed 253 / 253\"\n",
      "[1] \"Screen Parameters\"\n",
      "[1] \"\"\n",
      "[1] \"Screen size issues: 0 / 15\"\n",
      "[1] \"Viewing distance issues: 0 / 15\"\n",
      "[1] \"Catch scores\"\n",
      "[1] \"Subject 99640956 : 10 / 10\"\n",
      "[1] \"Subject 133207874 : 7 / 10\"\n",
      "[1] \"Subject 176698125 : 10 / 10\"\n",
      "[1] \"Subject 204525930 : 10 / 10\"\n",
      "[1] \"Subject 265310712 : 1 / 10\"\n",
      "[1] \"Subject 281640697 : 10 / 10\"\n",
      "[1] \"Subject 452446945 : 10 / 10\"\n",
      "[1] \"Subject 475089391 : 7 / 10\"\n",
      "[1] \"Subject 518373039 : 10 / 10\"\n",
      "[1] \"Subject 635999412 : 10 / 10\"\n",
      "[1] \"Subject 750321084 : 10 / 10\"\n",
      "[1] \"Subject 789921315 : 6 / 10\"\n",
      "[1] \"Subject 903306123 : 10 / 10\"\n",
      "[1] \"Subject 947005147 : 5 / 10\"\n",
      "[1] \"Subject 947430341 : 10 / 10\"\n",
      "[1] \"Subject 133207874 had a catch score of:  0.7\"\n",
      "[1] \"Subject 265310712 had a catch score of:  0.1\"\n",
      "[1] \"Subject 475089391 had a catch score of:  0.7\"\n",
      "[1] \"Subject 789921315 had a catch score of:  0.6\"\n",
      "[1] \"Subject 947005147 had a catch score of:  0.5\"\n",
      "[1] \"10 of 15 were compliant\"\n",
      "[1] \"\"\n",
      "[1] \"____________________\"\n",
      "[1] \"\"\n",
      "[1] \"Magnification 4.5 Stimulus 0.5\"\n",
      "[1] \"18 in dataset\"\n",
      "[1] \"\"\n",
      "[1] \"Subject 80499026 completed 253 / 253\"\n",
      "[1] \"Subject 257686691 completed 253 / 253\"\n",
      "[1] \"Subject 301246724 completed 253 / 253\"\n",
      "[1] \"Subject 527222665 completed 253 / 253\"\n",
      "[1] \"Subject 535657331 completed 253 / 253\"\n",
      "[1] \"Subject 572765881 completed 253 / 253\"\n",
      "[1] \"Subject 580796674 completed 253 / 253\"\n",
      "[1] \"Subject 621746618 completed 253 / 253\"\n",
      "[1] \"Subject 649757255 completed 253 / 253\"\n",
      "[1] \"Subject 652658452 completed 253 / 253\"\n",
      "[1] \"Subject 687159644 completed 253 / 253\"\n",
      "[1] \"Subject 788405028 completed 253 / 253\"\n",
      "[1] \"Subject 810539788 completed 253 / 253\"\n",
      "[1] \"Subject 813749599 completed 253 / 253\"\n",
      "[1] \"Subject 839320766 completed 253 / 253\"\n",
      "[1] \"Subject 940741322 completed 253 / 253\"\n",
      "[1] \"Subject 983874771 completed 253 / 253\"\n",
      "[1] \"Subject 994306267 completed 253 / 253\"\n",
      "[1] \"Screen Parameters\"\n",
      "[1] \"\"\n",
      "[1] \"Screen size issues: 0 / 18\"\n",
      "[1] \"Viewing distance issues: 0 / 18\"\n",
      "[1] \"Catch scores\"\n",
      "[1] \"Subject 80499026 : 10 / 10\"\n",
      "[1] \"Subject 257686691 : 10 / 10\"\n",
      "[1] \"Subject 301246724 : 10 / 10\"\n",
      "[1] \"Subject 527222665 : 10 / 10\"\n",
      "[1] \"Subject 535657331 : 10 / 10\"\n",
      "[1] \"Subject 572765881 : 10 / 10\"\n",
      "[1] \"Subject 580796674 : 10 / 10\"\n",
      "[1] \"Subject 621746618 : 10 / 10\"\n",
      "[1] \"Subject 649757255 : 10 / 10\"\n",
      "[1] \"Subject 652658452 : 10 / 10\"\n",
      "[1] \"Subject 687159644 : 10 / 10\"\n",
      "[1] \"Subject 788405028 : 10 / 10\"\n",
      "[1] \"Subject 810539788 : 10 / 10\"\n",
      "[1] \"Subject 813749599 : 10 / 10\"\n",
      "[1] \"Subject 839320766 : 10 / 10\"\n",
      "[1] \"Subject 940741322 : 0 / 10\"\n",
      "[1] \"Subject 983874771 : 10 / 10\"\n",
      "[1] \"Subject 994306267 : 10 / 10\"\n",
      "[1] \"Subject 940741322 had a catch score of:  0\"\n",
      "[1] \"17 of 18 were compliant\"\n",
      "[1] \"\"\n",
      "[1] \"____________________\"\n",
      "[1] \"\"\n",
      "[1] \"Magnification 1 Stimulus 1\"\n",
      "[1] \"12 in dataset\"\n",
      "[1] \"\"\n",
      "[1] \"Subject 48341337 completed 253 / 253\"\n",
      "[1] \"Subject 254207207 completed 253 / 253\"\n",
      "[1] \"Subject 315609216 completed 253 / 253\"\n",
      "[1] \"Subject 395526717 completed 253 / 253\"\n",
      "[1] \"Subject 404565472 completed 253 / 253\"\n",
      "[1] \"Subject 431543630 completed 253 / 253\"\n",
      "[1] \"Subject 517493776 completed 253 / 253\"\n",
      "[1] \"Subject 718626067 completed 253 / 253\"\n",
      "[1] \"Subject 790529144 completed 253 / 253\"\n",
      "[1] \"Subject 843575785 completed 253 / 253\"\n",
      "[1] \"Subject 859783460 completed 253 / 253\"\n",
      "[1] \"Subject 896467980 completed 253 / 253\"\n",
      "[1] \"Screen Parameters\"\n",
      "[1] \"\"\n",
      "[1] \"Screen size issues: 0 / 12\"\n",
      "[1] \"Viewing distance issues: 0 / 12\"\n",
      "[1] \"Catch scores\"\n",
      "[1] \"Subject 48341337 : 10 / 10\"\n",
      "[1] \"Subject 254207207 : 4 / 10\"\n",
      "[1] \"Subject 315609216 : 10 / 10\"\n",
      "[1] \"Subject 395526717 : 10 / 10\"\n",
      "[1] \"Subject 404565472 : 10 / 10\"\n",
      "[1] \"Subject 431543630 : 10 / 10\"\n",
      "[1] \"Subject 517493776 : 10 / 10\"\n",
      "[1] \"Subject 718626067 : 10 / 10\"\n",
      "[1] \"Subject 790529144 : 10 / 10\"\n",
      "[1] \"Subject 843575785 : 10 / 10\"\n",
      "[1] \"Subject 859783460 : 10 / 10\"\n",
      "[1] \"Subject 896467980 : 10 / 10\"\n",
      "[1] \"Subject 254207207 had a catch score of:  0.4\"\n",
      "[1] \"11 of 12 were compliant\"\n",
      "[1] \"\"\n",
      "[1] \"____________________\"\n",
      "[1] \"\"\n",
      "[1] \"Magnification 4.5 Stimulus 1\"\n",
      "[1] \"20 in dataset\"\n",
      "[1] \"\"\n",
      "[1] \"Subject 63991259 completed 253 / 253\"\n",
      "[1] \"Subject 98665966 completed 253 / 253\"\n",
      "[1] \"Subject 147071530 completed 253 / 253\"\n",
      "[1] \"Subject 232984941 completed 253 / 253\"\n",
      "[1] \"Subject 252347716 completed 253 / 253\"\n",
      "[1] \"Subject 285550479 completed 253 / 253\"\n",
      "[1] \"Subject 287237223 completed 253 / 253\"\n",
      "[1] \"Subject 307922435 completed 253 / 253\"\n",
      "[1] \"Subject 452832938 completed 253 / 253\"\n",
      "[1] \"Subject 463372698 completed 253 / 253\"\n",
      "[1] \"Subject 513963865 completed 253 / 253\"\n",
      "[1] \"Subject 561140418 completed 253 / 253\"\n",
      "[1] \"Subject 671500180 completed 253 / 253\"\n",
      "[1] \"Subject 727170484 completed 253 / 253\"\n",
      "[1] \"Subject 799430110 completed 253 / 253\"\n",
      "[1] \"Subject 864988325 completed 253 / 253\"\n",
      "[1] \"Subject 888268305 completed 253 / 253\"\n",
      "[1] \"Subject 925257755 completed 253 / 253\"\n",
      "[1] \"Subject 941912207 completed 253 / 253\"\n",
      "[1] \"Subject 2740832079 completed 253 / 253\"\n",
      "[1] \"Screen Parameters\"\n",
      "[1] \"\"\n",
      "[1] \"Screen size issues: 0 / 20\"\n",
      "[1] \"Viewing distance issues: 0 / 20\"\n",
      "[1] \"Catch scores\"\n",
      "[1] \"Subject 63991259 : 10 / 10\"\n",
      "[1] \"Subject 98665966 : 10 / 10\"\n",
      "[1] \"Subject 147071530 : 7 / 10\"\n",
      "[1] \"Subject 232984941 : 10 / 10\"\n",
      "[1] \"Subject 252347716 : 6 / 10\"\n",
      "[1] \"Subject 285550479 : 1 / 10\"\n",
      "[1] \"Subject 287237223 : 10 / 10\"\n",
      "[1] \"Subject 307922435 : 4 / 10\"\n",
      "[1] \"Subject 452832938 : 10 / 10\"\n",
      "[1] \"Subject 463372698 : 7 / 10\"\n",
      "[1] \"Subject 513963865 : 10 / 10\"\n",
      "[1] \"Subject 561140418 : 0 / 10\"\n",
      "[1] \"Subject 671500180 : 10 / 10\"\n",
      "[1] \"Subject 727170484 : 10 / 10\"\n",
      "[1] \"Subject 799430110 : 10 / 10\"\n",
      "[1] \"Subject 864988325 : 10 / 10\"\n",
      "[1] \"Subject 888268305 : 9 / 10\"\n",
      "[1] \"Subject 925257755 : 10 / 10\"\n",
      "[1] \"Subject 941912207 : 10 / 10\"\n",
      "[1] \"Subject 2740832079 : 10 / 10\"\n",
      "[1] \"Subject 147071530 had a catch score of:  0.7\"\n",
      "[1] \"Subject 252347716 had a catch score of:  0.6\"\n",
      "[1] \"Subject 285550479 had a catch score of:  0.1\"\n",
      "[1] \"Subject 307922435 had a catch score of:  0.4\"\n",
      "[1] \"Subject 463372698 had a catch score of:  0.7\"\n",
      "[1] \"Subject 561140418 had a catch score of:  0\"\n",
      "[1] \"14 of 20 were compliant\"\n",
      "[1] \"\"\n",
      "[1] \"____________________\"\n",
      "[1] \"\"\n"
     ]
    }
   ],
   "source": [
    "validation(datadf)"
   ]
  },
  {
   "cell_type": "code",
   "execution_count": 61,
   "metadata": {},
   "outputs": [
    {
     "name": "stdout",
     "output_type": "stream",
     "text": [
      "[1] \"There are 144 unique subjects\"\n"
     ]
    },
    {
     "data": {
      "text/html": [
       "144"
      ],
      "text/latex": [
       "144"
      ],
      "text/markdown": [
       "144"
      ],
      "text/plain": [
       "[1] 144"
      ]
     },
     "metadata": {},
     "output_type": "display_data"
    }
   ],
   "source": [
    "cleandf <- subset(datadf, noncompliant == 0)\n",
    "get_n(cleandf)"
   ]
  },
  {
   "cell_type": "markdown",
   "metadata": {},
   "source": [
    "## Descriptive Statistics"
   ]
  },
  {
   "cell_type": "code",
   "execution_count": 66,
   "metadata": {},
   "outputs": [
    {
     "name": "stdout",
     "output_type": "stream",
     "text": [
      "[1] \"Median +/- 1 SD: 1 +/- 0.77 to 1.23\"\n",
      "[1] \"Median +/- 2 SD: 1 +/- 0.54 to 1.46\"\n"
     ]
    },
    {
     "name": "stderr",
     "output_type": "stream",
     "text": [
      "`geom_smooth()` using formula 'y ~ x'\n"
     ]
    },
    {
     "data": {
      "image/png": "[encoded data removed]",
      "text/plain": [
       "plot without title"
      ]
     },
     "metadata": {},
     "output_type": "display_data"
    },
    {
     "name": "stderr",
     "output_type": "stream",
     "text": [
      "`geom_smooth()` using formula 'y ~ x'\n"
     ]
    },
    {
     "data": {
      "image/png": "[encoded data removed]",
      "text/plain": [
       "plot without title"
      ]
     },
     "metadata": {},
     "output_type": "display_data"
    },
    {
     "data": {
      "image/png": "[encoded data removed]",
      "text/plain": [
       "plot without title"
      ]
     },
     "metadata": {},
     "output_type": "display_data"
    }
   ],
   "source": [
    "# Data quality check.\n",
    "rt_hist(datadf)\n",
    "rt_catch_plot(datadf)\n",
    "rt_catch_plot(cleandf)\n"
   ]
  },
  {
   "cell_type": "markdown",
   "metadata": {},
   "source": [
    "Only using the smallest and largest stimuli for this analysis, so get rid of the other subject groups"
   ]
  },
  {
   "cell_type": "code",
   "execution_count": 63,
   "metadata": {},
   "outputs": [],
   "source": [
    "cleandf <- subset(cleandf, (stimulus_radius == 1) | (stimulus_radius == 0.05))"
   ]
  },
  {
   "cell_type": "code",
   "execution_count": 136,
   "metadata": {},
   "outputs": [],
   "source": [
    "# invert subjects with a CC normalised trace greater than 3.5\n",
    "# not to be used in the main analysis\n",
    "\n",
    "invert.df <- function(df){\n",
    "    \n",
    "    out.df <- df[0,] # output df\n",
    "    subjectlist <- sort(unique(df$subject)) # obtain a list of all the subjects\n",
    "    for(ID in subjectlist){\n",
    "        tempdf <- subset(df, subject == ID)\n",
    "        if(norm.trace.cc(tempdf) > 3.5){\n",
    "            tempdf$similarity <- abs(tempdf$similarity - max.DSR)\n",
    "        }\n",
    "        out.df <- rbind(out.df,tempdf)\n",
    "    }\n",
    "    return(out.df)\n",
    "}"
   ]
  },
  {
   "cell_type": "code",
   "execution_count": 138,
   "metadata": {},
   "outputs": [],
   "source": [
    "# For the pilot data only - inverting the dissimilarity responses of subjects who misunderstood the task instructions\n",
    "inverted.df <- invert.df(cleandf)"
   ]
  },
  {
   "cell_type": "code",
   "execution_count": 142,
   "metadata": {},
   "outputs": [],
   "source": [
    "invert.trace.df <- trace_obtainer(inverted.df)\n",
    "invert.trace.df <- label(invert.trace.df)"
   ]
  },
  {
   "cell_type": "code",
   "execution_count": 143,
   "metadata": {},
   "outputs": [
    {
     "name": "stderr",
     "output_type": "stream",
     "text": [
      "Scale for 'y' is already present. Adding another scale for 'y', which will\n",
      "replace the existing scale.\n"
     ]
    },
    {
     "data": {
      "image/png": "[encoded data removed]",
      "text/plain": [
       "plot without title"
      ]
     },
     "metadata": {},
     "output_type": "display_data"
    }
   ],
   "source": [
    "fig5b(invert.trace.df, save=FALSE)"
   ]
  },
  {
   "cell_type": "code",
   "execution_count": 146,
   "metadata": {},
   "outputs": [
    {
     "name": "stdout",
     "output_type": "stream",
     "text": [
      "\n",
      "Model Info:\n",
      " function:     stan_betareg\n",
      " family:       beta [logit, link.phi=identity]\n",
      " formula:      PP ~ StimSize + Magnification + StimSize:Magnification\n",
      " algorithm:    sampling\n",
      " sample:       20000 (posterior sample size)\n",
      " priors:       see help('prior_summary')\n",
      " observations: 60\n",
      "\n",
      "Estimates:\n",
      "                         mean   sd   10%   50%   90%\n",
      "(Intercept)             0.1    0.3 -0.2   0.1   0.5 \n",
      "StimSize               -2.5    0.5 -3.1  -2.5  -1.8 \n",
      "Magnification          -0.5    0.1 -0.7  -0.5  -0.4 \n",
      "StimSize:Magnification  0.5    0.2  0.3   0.5   0.7 \n",
      "(phi)                   5.7    1.1  4.3   5.6   7.1 \n",
      "\n",
      "Fit Diagnostics:\n",
      "           mean   sd   10%   50%   90%\n",
      "mean_PPD 0.2    0.0  0.1   0.2   0.2  \n",
      "\n",
      "The mean_ppd is the sample average posterior predictive distribution of the outcome variable (for details see help('summary.stanreg')).\n",
      "\n",
      "MCMC diagnostics\n",
      "                       mcse Rhat n_eff\n",
      "(Intercept)            0.0  1.0  11875\n",
      "StimSize               0.0  1.0   8353\n",
      "Magnification          0.0  1.0   9278\n",
      "StimSize:Magnification 0.0  1.0   7973\n",
      "(phi)                  0.0  1.0   8894\n",
      "mean_PPD               0.0  1.0  16272\n",
      "log-posterior          0.0  1.0   6767\n",
      "\n",
      "For each parameter, mcse is Monte Carlo standard error, n_eff is a crude measure of effective sample size, and Rhat is the potential scale reduction factor on split chains (at convergence Rhat=1).\n",
      "                             2.5%      97.5%\n",
      "(Intercept)            -0.4131826  0.6305824\n",
      "StimSize               -3.4559044 -1.5155037\n",
      "Magnification          -0.7371209 -0.3608199\n",
      "StimSize:Magnification  0.2057062  0.7973296\n",
      "(phi)                   3.7036841  8.0673334\n"
     ]
    },
    {
     "name": "stderr",
     "output_type": "stream",
     "text": [
      "Sampling priors, please wait...\n"
     ]
    },
    {
     "name": "stdout",
     "output_type": "stream",
     "text": [
      "Bayes Factor (Savage-Dickey density ratio)\n",
      "\n",
      "Parameter              |     BF\n",
      "-------------------------------\n",
      "(Intercept)            |  0.077\n",
      "StimSize               | > 1000\n",
      "Magnification          | > 1000\n",
      "StimSize:Magnification |  20.62\n",
      "(phi)                  | > 1000\n",
      "\n",
      "* Evidence Against The Null: 0[1] \"\"\n",
      "[1] \"Converted back to Normalised Trace\"\n",
      "[1] \"Interaction: 4.35\"\n",
      "[1] \"HPD: 2.79\" \"HPD: 4.57\"\n"
     ]
    },
    {
     "data": {
      "text/plain": [
       "stan_betareg\n",
       " family:       beta [logit, link.phi=identity]\n",
       " formula:      PP ~ StimSize + Magnification + StimSize:Magnification\n",
       " observations: 60\n",
       "------\n",
       "                       Median MAD_SD\n",
       "(Intercept)             0.1    0.3  \n",
       "StimSize               -2.5    0.5  \n",
       "Magnification          -0.5    0.1  \n",
       "StimSize:Magnification  0.5    0.2  \n",
       "(phi)                   5.6    1.1  \n",
       "\n",
       "------\n",
       "* For help interpreting the printed output see ?print.stanreg\n",
       "* For info on the priors used see ?prior_summary.stanreg"
      ]
     },
     "metadata": {},
     "output_type": "display_data"
    },
    {
     "data": {
      "image/png": "[encoded data removed]",
      "text/plain": [
       "plot without title"
      ]
     },
     "metadata": {},
     "output_type": "display_data"
    }
   ],
   "source": [
    "h1b(invert.trace.df,summary=TRUE)"
   ]
  },
  {
   "cell_type": "code",
   "execution_count": 147,
   "metadata": {},
   "outputs": [
    {
     "name": "stdout",
     "output_type": "stream",
     "text": [
      "[1] \"Working on raw (6) values\"\n"
     ]
    },
    {
     "name": "stderr",
     "output_type": "stream",
     "text": [
      "ERROR while rich displaying an object: Error: geom_hline requires the following missing aesthetics: yintercept\n",
      "\n",
      "Traceback:\n",
      "1. FUN(X[[i]], ...)\n",
      "2. tryCatch(withCallingHandlers({\n",
      " .     if (!mime %in% names(repr::mime2repr)) \n",
      " .         stop(\"No repr_* for mimetype \", mime, \" in repr::mime2repr\")\n",
      " .     rpr <- repr::mime2repr[[mime]](obj)\n",
      " .     if (is.null(rpr)) \n",
      " .         return(NULL)\n",
      " .     prepare_content(is.raw(rpr), rpr)\n",
      " . }, error = error_handler), error = outer_handler)\n",
      "3. tryCatchList(expr, classes, parentenv, handlers)\n",
      "4. tryCatchOne(expr, names, parentenv, handlers[[1L]])\n",
      "5. doTryCatch(return(expr), name, parentenv, handler)\n",
      "6. withCallingHandlers({\n",
      " .     if (!mime %in% names(repr::mime2repr)) \n",
      " .         stop(\"No repr_* for mimetype \", mime, \" in repr::mime2repr\")\n",
      " .     rpr <- repr::mime2repr[[mime]](obj)\n",
      " .     if (is.null(rpr)) \n",
      " .         return(NULL)\n",
      " .     prepare_content(is.raw(rpr), rpr)\n",
      " . }, error = error_handler)\n",
      "7. repr::mime2repr[[mime]](obj)\n",
      "8. repr_text.default(obj)\n",
      "9. paste(capture.output(print(obj)), collapse = \"\\n\")\n",
      "10. capture.output(print(obj))\n",
      "11. evalVis(expr)\n",
      "12. withVisible(eval(expr, pf))\n",
      "13. eval(expr, pf)\n",
      "14. eval(expr, pf)\n",
      "15. print(obj)\n",
      "16. print.ggplot(obj)\n",
      "17. ggplot_build(x)\n",
      "18. ggplot_build.ggplot(x)\n",
      "19. by_layer(function(l, d) l$compute_geom_1(d))\n",
      "20. f(l = layers[[i]], d = data[[i]])\n",
      "21. l$compute_geom_1(d)\n",
      "22. f(..., self = self)\n",
      "23. check_required_aesthetics(self$geom$required_aes, c(names(data), \n",
      "  .     names(self$aes_params)), snake_class(self$geom))\n",
      "24. abort(glue(\"{name} requires the following missing aesthetics: \", \n",
      "  .     glue_collapse(lapply(missing_aes, glue_collapse, sep = \", \", \n",
      "  .         last = \" and \"), sep = \" or \")))\n",
      "25. signal_abort(cnd)\n"
     ]
    },
    {
     "ename": "ERROR",
     "evalue": "Error in h2b(invert.var.data): could not find function \"h2b\"\n",
     "output_type": "error",
     "traceback": [
      "Error in h2b(invert.var.data): could not find function \"h2b\"\nTraceback:\n"
     ]
    },
    {
     "data": {
      "image/png": "[encoded data removed]",
      "text/plain": [
       "plot without title"
      ]
     },
     "metadata": {},
     "output_type": "display_data"
    }
   ],
   "source": [
    "invert.var.data <- var.format(inverted.df)\n",
    "invert.var.data <- label(var.data)\n"
   ]
  },
  {
   "cell_type": "code",
   "execution_count": 150,
   "metadata": {},
   "outputs": [
    {
     "name": "stdout",
     "output_type": "stream",
     "text": [
      "stan_betareg\n",
      " family:       beta [logit, link.phi=identity]\n",
      " formula:      mean.var ~ StimSize + Magnification + StimSize:Magnification\n",
      " observations: 60\n",
      "------\n",
      "                       Median MAD_SD\n",
      "(Intercept)            -0.9    0.2  \n",
      "StimSize               -0.9    0.4  \n",
      "Magnification          -0.2    0.1  \n",
      "StimSize:Magnification  0.2    0.1  \n",
      "(phi)                   8.0    1.5  \n",
      "\n",
      "------\n",
      "* For help interpreting the printed output see ?print.stanreg\n",
      "* For info on the priors used see ?prior_summary.stanreg\n",
      "                             2.5%       97.5%\n",
      "(Intercept)            -1.4033921 -0.43876703\n",
      "StimSize               -1.8119605 -0.12405568\n",
      "Magnification          -0.3534496 -0.03569502\n",
      "StimSize:Magnification -0.1072492  0.40659297\n",
      "(phi)                   5.4586802 11.35483243\n"
     ]
    },
    {
     "name": "stderr",
     "output_type": "stream",
     "text": [
      "Sampling priors, please wait...\n"
     ]
    },
    {
     "name": "stdout",
     "output_type": "stream",
     "text": [
      "Bayes Factor (Savage-Dickey density ratio)\n",
      "\n",
      "Parameter              |     BF\n",
      "-------------------------------\n",
      "(Intercept)            |  58.35\n",
      "StimSize               |   2.08\n",
      "Magnification          |   2.05\n",
      "StimSize:Magnification |  0.183\n",
      "(phi)                  | > 1000\n",
      "\n",
      "* Evidence Against The Null: 0"
     ]
    },
    {
     "data": {
      "image/png": "[encoded data removed]",
      "text/plain": [
       "plot without title"
      ]
     },
     "metadata": {},
     "output_type": "display_data"
    },
    {
     "name": "stdout",
     "output_type": "stream",
     "text": [
      "[1] \"\"\n",
      "[1] \"Converted back to Mean Variance\"\n",
      "[1] \"Interaction: 7.9\"\n",
      "[1] \"HPD: 2.9\"  \"HPD: 5.76\"\n"
     ]
    },
    {
     "data": {
      "text/plain": [
       "stan_betareg\n",
       " family:       beta [logit, link.phi=identity]\n",
       " formula:      mean.var ~ StimSize + Magnification + StimSize:Magnification\n",
       " observations: 60\n",
       "------\n",
       "                       Median MAD_SD\n",
       "(Intercept)            -0.9    0.2  \n",
       "StimSize               -0.9    0.4  \n",
       "Magnification          -0.2    0.1  \n",
       "StimSize:Magnification  0.2    0.1  \n",
       "(phi)                   8.0    1.5  \n",
       "\n",
       "------\n",
       "* For help interpreting the printed output see ?print.stanreg\n",
       "* For info on the priors used see ?prior_summary.stanreg"
      ]
     },
     "metadata": {},
     "output_type": "display_data"
    },
    {
     "data": {
      "image/png": "[encoded data removed]",
      "text/plain": [
       "plot without title"
      ]
     },
     "metadata": {},
     "output_type": "display_data"
    }
   ],
   "source": [
    "fig6d(invert.var.data,rand.var.mu,save=FALSE)\n",
    "h2b(invert.var.data)"
   ]
  },
  {
   "cell_type": "code",
   "execution_count": 64,
   "metadata": {},
   "outputs": [
    {
     "name": "stdout",
     "output_type": "stream",
     "text": [
      "[1] \"Magnification 1 Size 0.05  - N = 18\"\n",
      "[1] \"Magnification 4.5 Size 0.05  - N = 17\"\n",
      "[1] \"Magnification 1 Size 1  - N = 11\"\n",
      "[1] \"Magnification 4.5 Size 1  - N = 14\"\n"
     ]
    }
   ],
   "source": [
    "# N values\n",
    "get_n.grouped(cleandf)"
   ]
  },
  {
   "cell_type": "code",
   "execution_count": 71,
   "metadata": {},
   "outputs": [],
   "source": [
    "# label the data for plotting\n",
    "label <- function(df,raw=FALSE){\n",
    "    if(raw){\n",
    "        df$label.mag <- NA\n",
    "        df$label.stim <- NA\n",
    "        df$label.combo <- NA\n",
    "        df$label.mag[df$peripheral_scale != 1] <- 'MAG'\n",
    "        df$label.mag[df$peripheral_scale == 1] <- 'FIX'\n",
    "        df$label.stim[df$stimulus_radius != 1] <- 'SMALL'\n",
    "        df$label.stim[df$stimulus_radius == 1] <- 'BIG'\n",
    "        df$label.combo <- paste(df$label.mag, format((df$label.stim)))\n",
    "    } else{\n",
    "        df$label.mag <- NA\n",
    "        df$label.stim <- NA\n",
    "        df$label.combo <- NA\n",
    "        df$label.mag[df$Magnification != 1] <- 'MAG'\n",
    "        df$label.mag[df$Magnification == 1] <- 'FIX'\n",
    "        df$label.stim[df$StimSize != 1] <- 'SMALL'\n",
    "        df$label.stim[df$StimSize == 1] <- 'BIG'\n",
    "        df$label.combo <- paste(df$label.mag, format((df$label.stim)))\n",
    "    }\n",
    "    \n",
    "    return(df)\n",
    "}"
   ]
  },
  {
   "cell_type": "code",
   "execution_count": 75,
   "metadata": {},
   "outputs": [],
   "source": [
    "# make an MDS visualisation of each group\n",
    "ds.mds <- function(df){\n",
    "    \n",
    "    # keep track of the plots\n",
    "    plot.list <- list()\n",
    "    k = 1\n",
    "    \n",
    "    # generate labels\n",
    "    C <- c(rep('Central',9))\n",
    "    P <- c(rep('Peripheral',9))\n",
    "    Eccentricity <- c(C,P)\n",
    "    colors2 <- c(colors,colors)\n",
    "    \n",
    "    scales <- unique(df$peripheral_scale)\n",
    "    stims <- unique(df$stimulus_radius)\n",
    "    for(scale in scales){\n",
    "        for(stim in stims){\n",
    "            mds.df <- subset(cleandf, peripheral_scale == scale & stimulus_radius == stim)\n",
    "            mds.data <- dissimgroup2matlist(mds.df,sym=TRUE)\n",
    "            mds.data <- group.mat.mean(mds.data)\n",
    "            mds.data <- mat2dist(mds.data)\n",
    "            mds.data <- cmdsfit(mds.data)\n",
    "            mds.data <- as.data.frame(mds.data)\n",
    "            mds.data$Eccentricity <- Eccentricity\n",
    "            \n",
    "            # get label\n",
    "            lab <- mds.df$label.combo[1]\n",
    "            \n",
    "            #dissimilarity data plot\n",
    "            #print(head(mds.df))\n",
    "            mds.df <- group.dissim(mds.df,sym=TRUE) # average over the participants\n",
    "            plot <- dissimplot.full(mds.df,\n",
    "                                    dependent='dissimilarity')\n",
    "            plot.list[[k]] <- as.grob(plot)\n",
    "            k = k + 1\n",
    "            \n",
    "            #mds plot\n",
    "            plot <- ggplot(mds.data, aes(x = V1, y = V2, color=colors2)) + geom_point(size =10,aes(shape=Eccentricity)) + \n",
    "                #geom_text(aes(label=tags, vjust=-2)) +\n",
    "                xlab(\"Dimension 1\") + ylab(\"Dimension 2\") + \n",
    "                ggtitle(lab) + \n",
    "                #theme(legend.position='none') +\n",
    "                scale_colour_identity() +\n",
    "                theme(\n",
    "                      plot.title = element_text(size = 27)\n",
    "                        )\n",
    "            plot.list[[k]] <- as.grob(plot)\n",
    "            k = k + 1\n",
    "            \n",
    "            \n",
    "        }\n",
    "    }\n",
    "    g <- arrangeGrob(grobs = plot.list, ncol=2, nrow=4)\n",
    "    ggsave('descriptive_test.png',g,height=25.7,width=15)\n",
    "    return(g)\n",
    "}\n",
    "cleandf <- label(cleandf,raw=TRUE)\n"
   ]
  },
  {
   "cell_type": "code",
   "execution_count": 76,
   "metadata": {},
   "outputs": [
    {
     "data": {
      "text/plain": [
       "TableGrob (4 x 2) \"arrange\": 8 grobs\n",
       "  z     cells    name           grob\n",
       "1 1 (1-1,1-1) arrange gtable[layout]\n",
       "2 2 (1-1,2-2) arrange gtable[layout]\n",
       "3 3 (2-2,1-1) arrange gtable[layout]\n",
       "4 4 (2-2,2-2) arrange gtable[layout]\n",
       "5 5 (3-3,1-1) arrange gtable[layout]\n",
       "6 6 (3-3,2-2) arrange gtable[layout]\n",
       "7 7 (4-4,1-1) arrange gtable[layout]\n",
       "8 8 (4-4,2-2) arrange gtable[layout]"
      ]
     },
     "metadata": {},
     "output_type": "display_data"
    }
   ],
   "source": [
    "ds.mds(cleandf)"
   ]
  },
  {
   "cell_type": "markdown",
   "metadata": {},
   "source": [
    "## Analysis Plan"
   ]
  },
  {
   "cell_type": "markdown",
   "metadata": {},
   "source": [
    "### Visualisation of Hypothesis 1 Data"
   ]
  },
  {
   "cell_type": "markdown",
   "metadata": {},
   "source": [
    "#### Useful functions"
   ]
  },
  {
   "cell_type": "code",
   "execution_count": 77,
   "metadata": {},
   "outputs": [],
   "source": [
    "# function to perform boundary offsets for beta-distributed data\n",
    "# suggested by http://doi.apa.org/getdoi.cfm?doi=10.1037/1082-989X.11.1.54\n",
    "offset.beta <- function(vector, max.DSR){\n",
    "    offset <- (vector * (length(vector)-1) + 0.5) / length(vector)\n",
    "    return(offset/max.DSR)\n",
    "}"
   ]
  },
  {
   "cell_type": "code",
   "execution_count": 139,
   "metadata": {},
   "outputs": [],
   "source": [
    "# plot the data\n",
    "fig5b <- function(df,save=TRUE){\n",
    "    \n",
    "    plot.df <- pivot_longer(data = df, cols = c(CC,CP,PP), names_to = 'Comparison')\n",
    "    #plot.df$StimSize <- as.character(plot.df$StimSize)\n",
    "    #plot.df$Magnification <- as.character(plot.df$Magnification)\n",
    "    median <- median(subset(plot.df,Comparison=='PP')$value) # for connecting to hypothesis 1b\n",
    "    \n",
    "    plot <- ggplot(plot.df,aes(x = Comparison, y = value, \n",
    "                         #color = Magnification, \n",
    "                         #fill = StimSize\n",
    "                         colour = label.combo\n",
    "                                ),\n",
    "                    size = 0.7) +\n",
    "        geom_boxplot() +\n",
    "        guides(colour=guide_legend(title=\"Stimulus\\nSize\")) +\n",
    "        #scale_colour_manual(values = c(\"red\",\"blue\")) + \n",
    "        #scale_fill_manual(values = c(\"#E67E22\",\"#1ABC9C\"))\n",
    "        geom_point(position=position_dodge(width=0.75)) +\n",
    "        geom_hline(yintercept=3.5, linetype='dashed') +\n",
    "        #geom_hline(yintercept=median, linetype = 'dashed',color='blue') +\n",
    "        ylim(0,7) +\n",
    "        theme_bw(base_size = 14) +\n",
    "        xlab(\"\") +\n",
    "        #ylab(\"Normalised Trace\") +\n",
    "        scale_y_continuous(name='Normalised Trace',\n",
    "                         breaks=c(0,1,2,3,4,5,6,7),\n",
    "                         labels=c(0,1,2,3,4,5,6,7),\n",
    "                         limits=c(0,7)) +\n",
    "        scale_colour_brewer(palette='Dark2')\n",
    "    \n",
    "    \n",
    "    if(save){\n",
    "        ggsave('fig5b.png',plot,height=2.8,width=4)\n",
    "    }\n",
    "    return(plot)\n",
    "}"
   ]
  },
  {
   "cell_type": "code",
   "execution_count": 79,
   "metadata": {},
   "outputs": [],
   "source": [
    "fig5c <- function(df){\n",
    "    \n",
    "    plot.df <- pivot_longer(data = df, cols = c(CC,CP,PP), names_to = 'Comparison')\n",
    "    plot.df$value <- (plot.df$value)/max.DSR\n",
    "\n",
    "    plot <- ggplot(plot.df, aes(x = value, fill=Comparison)) + \n",
    "        geom_density(aes(x=value,y=..scaled../3),alpha=0.375) +\n",
    "        geom_histogram(aes(x=value,y=stat(count)/sum(count)*3), colour='black', binwidth=0.05,position=\"identity\",alpha=0.5) +\n",
    "        geom_vline(xintercept=0.5, linetype='dashed') +\n",
    "        xlab(\"Scaled Normalised Trace\") +\n",
    "        ylab(\"Density\")\n",
    "        \n",
    "    ggsave('fig5c.png',plot,height=2.8,width=4)\n",
    "    return(plot)\n",
    "}"
   ]
  },
  {
   "cell_type": "code",
   "execution_count": 80,
   "metadata": {},
   "outputs": [],
   "source": [
    "fig5c.rainbow <- function(df){\n",
    "    \n",
    "    plot.df <- pivot_longer(data = df, cols = c(CC,CP,PP), names_to = 'Comparison')\n",
    "    plot.df$value <- (plot.df$value)/max.DSR\n",
    "    \n",
    "    plot <- ggplot(plot.df,aes(x=Comparison,y=value,fill=Comparison,colour=Comparison)) +\n",
    "            geom_flat_violin(position = position_nudge(x = 0.25, y = 0),adjust=2,trime=FALSE) +\n",
    "            geom_point(position = position_jitter(width=.15,height=0),size=1) +\n",
    "            geom_boxplot(aes(x=as.numeric(as.factor(Comparison)) + 0.25, y = value),alpha = 0.3, outlier.shape=NA, width = .1, colour = \"BLACK\") +\n",
    "            ylab('Scaled Normalised Trace') + xlab('')+coord_flip()+theme_cowplot()+guides(fill=FALSE) +\n",
    "            theme(axis.text.y=element_blank(),axis.ticks.y=element_blank(),legend.title=element_blank()) +\n",
    "            geom_hline(yintercept=0.5, linetype='dashed') + geom_hline(yintercept=1.05)\n",
    "    \n",
    "    ggsave('fig5c_rainbow.png',plot,height=2.8,width=4)\n",
    "    return(plot)\n",
    "}"
   ]
  },
  {
   "cell_type": "code",
   "execution_count": 81,
   "metadata": {},
   "outputs": [],
   "source": [
    "fig5d.rainbow <- function(df){\n",
    "    \n",
    "    plot.df <- pivot_longer(data = df, cols = c(CC,CP,PP), names_to = 'Comparison')\n",
    "    plot.df$value <- logit(offset.beta(plot.df$value,max.DSR))\n",
    "    \n",
    "    #pal <- c('#E67E22','#2ECC71','#B0B901')\n",
    "    \n",
    "    plot <- ggplot(plot.df,aes(x=Comparison,y=value,fill=Comparison,colour=Comparison)) +\n",
    "            geom_flat_violin(position = position_nudge(x = 0.25, y = 0),adjust=2,trime=FALSE) +\n",
    "            geom_point(position = position_jitter(width=.15,height=0),size=1) +\n",
    "            geom_boxplot(aes(x=as.numeric(as.factor(Comparison)) + 0.25, y = value),alpha = 0.3, outlier.shape=NA, width = .1, colour = \"BLACK\") +\n",
    "            ylab('Logistic-Transformed\\nNormalised Trace') + xlab('')+coord_flip()+theme_cowplot()+guides(fill=FALSE) +\n",
    "            theme(axis.text.y=element_blank(),axis.ticks.y=element_blank(),axis.line.y=element_blank(),legend.title=element_blank()) +\n",
    "            geom_hline(yintercept=logit(0.5), linetype='dashed') + ylim(-7.5,7.5)# +\n",
    "            #scale_fill_manual(values=pal) + scale_colour_manual(values=pal)\n",
    "    \n",
    "    ggsave('fig5d_rainbow.png',plot,height=2.8,width=4)\n",
    "    return(plot)\n",
    "}"
   ]
  },
  {
   "cell_type": "code",
   "execution_count": 82,
   "metadata": {},
   "outputs": [],
   "source": [
    "fig5f.rainbow <- function(df){\n",
    "    plot.df <- pivot_longer(data = df, cols = c(CC,CP,PP), names_to = 'Comparison')\n",
    "    plot.df <- subset(plot.df, Comparison == 'PP') # only keeping PP data\n",
    "    plot.df$value <- logit(offset.beta(plot.df$value,max.DSR))\n",
    "        \n",
    "    plot <- ggplot(plot.df,aes(x=label.combo,y=value,fill=label.combo,colour=label.combo)) +\n",
    "            geom_flat_violin(position = position_nudge(x = 0.25, y = 0),adjust=2,trime=FALSE) +\n",
    "            geom_point(position = position_jitter(width=.15,height=0),size=1) +\n",
    "            geom_boxplot(aes(x=as.numeric(as.factor(label.combo)) + 0.25, y = value),alpha = 0.3, outlier.shape=NA, width = .1, colour = \"BLACK\") +\n",
    "            xlab('')+coord_flip()+theme_cowplot()+guides(fill=FALSE) +\n",
    "            geom_hline(yintercept=logit(0.5), linetype='dashed') +\n",
    "            ylab(\"Logistic-Transformed\\nNormalised Trace\") + \n",
    "            theme(axis.text.y=element_blank(),axis.ticks.y=element_blank(),axis.line.y=element_blank(),legend.title=element_blank()) +\n",
    "            ylim(-7.5,7.5)  +\n",
    "            scale_fill_brewer(palette='Dark2') + scale_colour_brewer(palette='Dark2')\n",
    "    \n",
    "    ggsave('fig5f_rainbow.png',plot,height=2.8,width=4)\n",
    "    return(plot)\n",
    "}"
   ]
  },
  {
   "cell_type": "markdown",
   "metadata": {},
   "source": [
    "#### Do the visualisations"
   ]
  },
  {
   "cell_type": "code",
   "execution_count": 83,
   "metadata": {},
   "outputs": [],
   "source": [
    "# obtain the data\n",
    "trace.df <- trace_obtainer(cleandf)\n"
   ]
  },
  {
   "cell_type": "code",
   "execution_count": 153,
   "metadata": {},
   "outputs": [],
   "source": [
    "# REMOVE THIS LATER\n",
    "trace.df <- invert.trace.df"
   ]
  },
  {
   "cell_type": "code",
   "execution_count": 154,
   "metadata": {},
   "outputs": [],
   "source": [
    "# label the data\n",
    "trace.df <- label(trace.df)"
   ]
  },
  {
   "cell_type": "code",
   "execution_count": 155,
   "metadata": {},
   "outputs": [],
   "source": [
    "# obtain the relevant data\n",
    "trace.df.mag <- subset(trace.df, Magnification != 1)\n",
    "#head(trace.df)"
   ]
  },
  {
   "cell_type": "code",
   "execution_count": 156,
   "metadata": {},
   "outputs": [
    {
     "name": "stderr",
     "output_type": "stream",
     "text": [
      "Scale for 'y' is already present. Adding another scale for 'y', which will\n",
      "replace the existing scale.\n"
     ]
    },
    {
     "data": {
      "image/png": "[encoded data removed]",
      "text/plain": [
       "plot without title"
      ]
     },
     "metadata": {},
     "output_type": "display_data"
    }
   ],
   "source": [
    "# plot the full data data\n",
    "fig5b(trace.df)"
   ]
  },
  {
   "cell_type": "code",
   "execution_count": 157,
   "metadata": {},
   "outputs": [],
   "source": [
    "#fig5c(trace.df.mag)"
   ]
  },
  {
   "cell_type": "code",
   "execution_count": 158,
   "metadata": {},
   "outputs": [],
   "source": [
    "#fig5c.rainbow(trace.df.mag)"
   ]
  },
  {
   "cell_type": "code",
   "execution_count": 159,
   "metadata": {},
   "outputs": [],
   "source": [
    "#fig5d(trace.df.mag)"
   ]
  },
  {
   "cell_type": "code",
   "execution_count": 160,
   "metadata": {},
   "outputs": [
    {
     "data": {
      "image/png": "[encoded data removed]",
      "text/plain": [
       "plot without title"
      ]
     },
     "metadata": {},
     "output_type": "display_data"
    }
   ],
   "source": [
    "fig5d.rainbow(trace.df.mag)"
   ]
  },
  {
   "cell_type": "code",
   "execution_count": 161,
   "metadata": {},
   "outputs": [],
   "source": [
    "#fig5e(trace.df)"
   ]
  },
  {
   "cell_type": "code",
   "execution_count": 162,
   "metadata": {},
   "outputs": [],
   "source": [
    "#fig5e.rainbow(trace.df)"
   ]
  },
  {
   "cell_type": "code",
   "execution_count": 163,
   "metadata": {},
   "outputs": [],
   "source": [
    "#fig5f(trace.df)"
   ]
  },
  {
   "cell_type": "code",
   "execution_count": 164,
   "metadata": {},
   "outputs": [
    {
     "data": {
      "image/png": "[encoded data removed]",
      "text/plain": [
       "plot without title"
      ]
     },
     "metadata": {},
     "output_type": "display_data"
    }
   ],
   "source": [
    "fig5f.rainbow(trace.df)"
   ]
  },
  {
   "cell_type": "markdown",
   "metadata": {},
   "source": [
    "#### 1a) Do subjects respond that identical stimuli have zero dissimilarity when presented at each of CC, CP and PP?"
   ]
  },
  {
   "cell_type": "markdown",
   "metadata": {},
   "source": [
    "For each subject, we obtained a dissimilarity value for the comparison of a colour stimulus to itself in each of the CC, CP and PP conditions. Are these dissimilarity values equal to zero, as would be expected? Is this true in all presentation conditions?  \n",
    "  \n",
    "If participants were randomly selecting these values, the mean dissimilarity across the colour pair comparisons would be mean of a random sample for the dissimilarity values. As these range from 0 to 7, this would be 3.5  \n",
    "  \n",
    "We will test to see if the mean dissimilarity for these values is less than 3.5 in data from subjects in the peripherally magnified conditions. We'll examine this for each of CC, CP and PP comparisons. Going to use a Bayesian beta-regression for each one."
   ]
  },
  {
   "cell_type": "code",
   "execution_count": 165,
   "metadata": {},
   "outputs": [],
   "source": [
    "# Function to test hypothesis 1a\n",
    "h1a <- function(data,summary=FALSE){\n",
    "    data <- offset.beta(data,max.DSR)\n",
    "    df <- as.data.frame(data)\n",
    "    \n",
    "    model.test <- stan_betareg(\n",
    "                formula = data ~ 1,\n",
    "                data = df,\n",
    "                iter=10000, # helps to stabilise the estimates\n",
    "                refresh=0\n",
    "                )\n",
    "    \n",
    "    if(summary){\n",
    "        print(summary(model.test))\n",
    "    }else{\n",
    "           print(model.test)\n",
    "    }\n",
    "    HPD <- posterior_interval(model.test, prob = 0.95)\n",
    "    print(HPD)\n",
    "    BF <- bayesfactor_parameters(model.test)\n",
    "    print(BF)\n",
    "    print(plot(BF, show_intercept=TRUE))\n",
    "    \n",
    "    # Converted back to normalised trace\n",
    "    print(\"\")\n",
    "    print(\"Converted back to Normalised Trace\")\n",
    "    intercept <- model.test[[1]][1]\n",
    "    print(paste('Intercept:',round(undo.logit(intercept,max.DSR),2)))\n",
    "    print(paste('HPD:',round(undo.logit(HPD[1,],max.DSR),2)))\n",
    "    return(model.test)\n",
    "}"
   ]
  },
  {
   "cell_type": "code",
   "execution_count": 166,
   "metadata": {},
   "outputs": [],
   "source": [
    "# convert logistic intercept values back to human-intelligible numbers\n",
    "undo.logit <- function(x,max){\n",
    "    return(inv.logit(x)*max)\n",
    "}"
   ]
  },
  {
   "cell_type": "code",
   "execution_count": 167,
   "metadata": {},
   "outputs": [
    {
     "name": "stdout",
     "output_type": "stream",
     "text": [
      "\n",
      "Model Info:\n",
      " function:     stan_betareg\n",
      " family:       beta [logit, link.phi=identity]\n",
      " formula:      data ~ 1\n",
      " algorithm:    sampling\n",
      " sample:       20000 (posterior sample size)\n",
      " priors:       see help('prior_summary')\n",
      " observations: 31\n",
      "\n",
      "Estimates:\n",
      "              mean   sd   10%   50%   90%\n",
      "(Intercept) -2.3    0.3 -2.6  -2.3  -1.9 \n",
      "(phi)        4.7    1.4  3.1   4.5   6.5 \n",
      "\n",
      "Fit Diagnostics:\n",
      "           mean   sd   10%   50%   90%\n",
      "mean_PPD 0.1    0.0  0.1   0.1   0.1  \n",
      "\n",
      "The mean_ppd is the sample average posterior predictive distribution of the outcome variable (for details see help('summary.stanreg')).\n",
      "\n",
      "MCMC diagnostics\n",
      "              mcse Rhat n_eff\n",
      "(Intercept)   0.0  1.0  5569 \n",
      "(phi)         0.0  1.0  6083 \n",
      "mean_PPD      0.0  1.0  8415 \n",
      "log-posterior 0.0  1.0  5908 \n",
      "\n",
      "For each parameter, mcse is Monte Carlo standard error, n_eff is a crude measure of effective sample size, and Rhat is the potential scale reduction factor on split chains (at convergence Rhat=1).\n",
      "                 2.5%     97.5%\n",
      "(Intercept) -2.754262 -1.736090\n",
      "(phi)        2.415363  7.743756\n"
     ]
    },
    {
     "name": "stderr",
     "output_type": "stream",
     "text": [
      "Sampling priors, please wait...\n"
     ]
    },
    {
     "name": "stdout",
     "output_type": "stream",
     "text": [
      "Bayes Factor (Savage-Dickey density ratio)\n",
      "\n",
      "Parameter   |     BF\n",
      "--------------------\n",
      "(Intercept) | > 1000\n",
      "(phi)       | > 1000\n",
      "\n",
      "* Evidence Against The Null: 0[1] \"\"\n",
      "[1] \"Converted back to Normalised Trace\"\n",
      "[1] \"Intercept: 0.65\"\n",
      "[1] \"HPD: 0.42\" \"HPD: 1.05\"\n"
     ]
    },
    {
     "data": {
      "image/png": "[encoded data removed]",
      "text/plain": [
       "plot without title"
      ]
     },
     "metadata": {},
     "output_type": "display_data"
    }
   ],
   "source": [
    "# test CC\n",
    "h1a.cc <- h1a(trace.df.mag$CC,summary=TRUE)"
   ]
  },
  {
   "cell_type": "code",
   "execution_count": 168,
   "metadata": {},
   "outputs": [
    {
     "name": "stdout",
     "output_type": "stream",
     "text": [
      "stan_betareg\n",
      " family:       beta [logit, link.phi=identity]\n",
      " formula:      data ~ 1\n",
      " observations: 31\n",
      "------\n",
      "            Median MAD_SD\n",
      "(Intercept) -1.3    0.2  \n",
      "(phi)        2.3    0.6  \n",
      "\n",
      "------\n",
      "* For help interpreting the printed output see ?print.stanreg\n",
      "* For info on the priors used see ?prior_summary.stanreg\n",
      "                 2.5%     97.5%\n",
      "(Intercept) -1.785663 -0.856313\n",
      "(phi)        1.372306  3.563512\n"
     ]
    },
    {
     "name": "stderr",
     "output_type": "stream",
     "text": [
      "Sampling priors, please wait...\n"
     ]
    },
    {
     "name": "stdout",
     "output_type": "stream",
     "text": [
      "Bayes Factor (Savage-Dickey density ratio)\n",
      "\n",
      "Parameter   |     BF\n",
      "--------------------\n",
      "(Intercept) | > 1000\n",
      "(phi)       | > 1000\n",
      "\n",
      "* Evidence Against The Null: 0[1] \"\"\n",
      "[1] \"Converted back to Normalised Trace\"\n",
      "[1] \"Intercept: 1.46\"\n",
      "[1] \"HPD: 1.01\" \"HPD: 2.09\"\n"
     ]
    },
    {
     "data": {
      "text/plain": [
       "stan_betareg\n",
       " family:       beta [logit, link.phi=identity]\n",
       " formula:      data ~ 1\n",
       " observations: 31\n",
       "------\n",
       "            Median MAD_SD\n",
       "(Intercept) -1.3    0.2  \n",
       "(phi)        2.3    0.6  \n",
       "\n",
       "------\n",
       "* For help interpreting the printed output see ?print.stanreg\n",
       "* For info on the priors used see ?prior_summary.stanreg"
      ]
     },
     "metadata": {},
     "output_type": "display_data"
    },
    {
     "data": {
      "image/png": "[encoded data removed]",
      "text/plain": [
       "plot without title"
      ]
     },
     "metadata": {},
     "output_type": "display_data"
    }
   ],
   "source": [
    "# test CP\n",
    "h1a(trace.df.mag$CP)\n"
   ]
  },
  {
   "cell_type": "code",
   "execution_count": 169,
   "metadata": {},
   "outputs": [
    {
     "name": "stdout",
     "output_type": "stream",
     "text": [
      "stan_betareg\n",
      " family:       beta [logit, link.phi=identity]\n",
      " formula:      data ~ 1\n",
      " observations: 31\n",
      "------\n",
      "            Median MAD_SD\n",
      "(Intercept) -2.2    0.3  \n",
      "(phi)        4.5    1.3  \n",
      "\n",
      "------\n",
      "* For help interpreting the printed output see ?print.stanreg\n",
      "* For info on the priors used see ?prior_summary.stanreg\n",
      "                 2.5%     97.5%\n",
      "(Intercept) -2.706644 -1.699897\n",
      "(phi)        2.410195  7.555085\n"
     ]
    },
    {
     "name": "stderr",
     "output_type": "stream",
     "text": [
      "Sampling priors, please wait...\n"
     ]
    },
    {
     "name": "stdout",
     "output_type": "stream",
     "text": [
      "Bayes Factor (Savage-Dickey density ratio)\n",
      "\n",
      "Parameter   |     BF\n",
      "--------------------\n",
      "(Intercept) | > 1000\n",
      "(phi)       | > 1000\n",
      "\n",
      "* Evidence Against The Null: 0[1] \"\"\n",
      "[1] \"Converted back to Normalised Trace\"\n",
      "[1] \"Intercept: 0.68\"\n",
      "[1] \"HPD: 0.44\" \"HPD: 1.08\"\n"
     ]
    },
    {
     "data": {
      "text/plain": [
       "stan_betareg\n",
       " family:       beta [logit, link.phi=identity]\n",
       " formula:      data ~ 1\n",
       " observations: 31\n",
       "------\n",
       "            Median MAD_SD\n",
       "(Intercept) -2.2    0.3  \n",
       "(phi)        4.5    1.3  \n",
       "\n",
       "------\n",
       "* For help interpreting the printed output see ?print.stanreg\n",
       "* For info on the priors used see ?prior_summary.stanreg"
      ]
     },
     "metadata": {},
     "output_type": "display_data"
    },
    {
     "data": {
      "image/png": "[encoded data removed]",
      "text/plain": [
       "plot without title"
      ]
     },
     "metadata": {},
     "output_type": "display_data"
    }
   ],
   "source": [
    "# test PP\n",
    "h1a(trace.df.mag$PP)"
   ]
  },
  {
   "cell_type": "markdown",
   "metadata": {},
   "source": [
    "#### 1b) Are dissimilarity ratings for identical stimuli presented in the periphery affected by peripheral magnification?"
   ]
  },
  {
   "cell_type": "markdown",
   "metadata": {},
   "source": [
    "On the basis of previous psychophysics work we suspect that small stimuli in the periphery may induce altered or unstable colour experiences compared to larger stimuli. We also suspect that appropriately 'cortically magnified' stimuli should provide stable similarity judgments regardless of size. Thus, we hypothesise that there will be a Size x Magnification interaction effect on dissimilarity ratings made in the PP condition.  \n",
    "  \n",
    "As we are taking the average over non-negative values with a heavy preponderance of zeros bounded on both sides, the data will be beta-distributed. Thus, we are fitting the data using a Bayesian beta regression."
   ]
  },
  {
   "cell_type": "code",
   "execution_count": 170,
   "metadata": {},
   "outputs": [],
   "source": [
    "# Bayesian version of the beta-regression, for sample analysis as well\n",
    "h1b <- function(data,summary=FALSE){\n",
    "    \n",
    "    # normalisation and boundary offset as suggested in Smithson and Verkuilen (2006)\n",
    "    data$PP <- offset.beta(data$PP,max.DSR)\n",
    "    \n",
    "    # bayesian stuff\n",
    "    model.test <- stan_betareg(formula = PP ~ StimSize + Magnification + StimSize:Magnification,\n",
    "                data = data,\n",
    "                iter=10000, # helps to stabilise the estimates\n",
    "                refresh=0\n",
    "                )\n",
    "    \n",
    "    if(summary){\n",
    "        print(summary(model.test))\n",
    "    }else{\n",
    "           print(model.test)\n",
    "    }\n",
    "    HPD <- posterior_interval(model.test, prob = 0.95)\n",
    "    print(HPD)    \n",
    "    BF <- bayesfactor_parameters(model.test)\n",
    "    print(BF)\n",
    "    print(plot(BF, show_intercept=TRUE))\n",
    "    \n",
    "    # Converted back to normalised trace\n",
    "    print(\"\")\n",
    "    print(\"Converted back to Normalised Trace\")\n",
    "    interaction <- model.test[[1]][4]\n",
    "    print(paste('Interaction:',round(undo.logit(interaction,max.DSR),2)))\n",
    "    print(paste('HPD:',round(undo.logit(HPD[1,],max.DSR),2)))\n",
    "    \n",
    "    return(model.test)\n",
    "}"
   ]
  },
  {
   "cell_type": "code",
   "execution_count": 171,
   "metadata": {},
   "outputs": [],
   "source": [
    "# testing what would happen if inverted subjects were excluded\n",
    "#h1b(rbind(exclude.trace,exclude.trace),summary=TRUE)"
   ]
  },
  {
   "cell_type": "code",
   "execution_count": 172,
   "metadata": {},
   "outputs": [
    {
     "name": "stdout",
     "output_type": "stream",
     "text": [
      "\n",
      "Model Info:\n",
      " function:     stan_betareg\n",
      " family:       beta [logit, link.phi=identity]\n",
      " formula:      PP ~ StimSize + Magnification + StimSize:Magnification\n",
      " algorithm:    sampling\n",
      " sample:       20000 (posterior sample size)\n",
      " priors:       see help('prior_summary')\n",
      " observations: 60\n",
      "\n",
      "Estimates:\n",
      "                         mean   sd   10%   50%   90%\n",
      "(Intercept)             0.1    0.3 -0.2   0.1   0.5 \n",
      "StimSize               -2.5    0.5 -3.1  -2.5  -1.9 \n",
      "Magnification          -0.5    0.1 -0.7  -0.5  -0.4 \n",
      "StimSize:Magnification  0.5    0.2  0.3   0.5   0.7 \n",
      "(phi)                   5.7    1.1  4.3   5.6   7.2 \n",
      "\n",
      "Fit Diagnostics:\n",
      "           mean   sd   10%   50%   90%\n",
      "mean_PPD 0.2    0.0  0.1   0.2   0.2  \n",
      "\n",
      "The mean_ppd is the sample average posterior predictive distribution of the outcome variable (for details see help('summary.stanreg')).\n",
      "\n",
      "MCMC diagnostics\n",
      "                       mcse Rhat n_eff\n",
      "(Intercept)            0.0  1.0  11169\n",
      "StimSize               0.0  1.0   8307\n",
      "Magnification          0.0  1.0   9516\n",
      "StimSize:Magnification 0.0  1.0   7958\n",
      "(phi)                  0.0  1.0  10915\n",
      "mean_PPD               0.0  1.0  15365\n",
      "log-posterior          0.0  1.0   8384\n",
      "\n",
      "For each parameter, mcse is Monte Carlo standard error, n_eff is a crude measure of effective sample size, and Rhat is the potential scale reduction factor on split chains (at convergence Rhat=1).\n",
      "                             2.5%      97.5%\n",
      "(Intercept)            -0.4089786  0.6334866\n",
      "StimSize               -3.4683851 -1.5060113\n",
      "Magnification          -0.7336033 -0.3596208\n",
      "StimSize:Magnification  0.2075680  0.7968155\n",
      "(phi)                   3.6670362  8.0510946\n"
     ]
    },
    {
     "name": "stderr",
     "output_type": "stream",
     "text": [
      "Sampling priors, please wait...\n"
     ]
    },
    {
     "name": "stdout",
     "output_type": "stream",
     "text": [
      "Bayes Factor (Savage-Dickey density ratio)\n",
      "\n",
      "Parameter              |     BF\n",
      "-------------------------------\n",
      "(Intercept)            |  0.077\n",
      "StimSize               | > 1000\n",
      "Magnification          | > 1000\n",
      "StimSize:Magnification |  19.81\n",
      "(phi)                  | > 1000\n",
      "\n",
      "* Evidence Against The Null: 0[1] \"\"\n",
      "[1] \"Converted back to Normalised Trace\"\n",
      "[1] \"Interaction: 4.37\"\n",
      "[1] \"HPD: 2.79\" \"HPD: 4.57\"\n"
     ]
    },
    {
     "data": {
      "image/png": "[encoded data removed]",
      "text/plain": [
       "plot without title"
      ]
     },
     "metadata": {},
     "output_type": "display_data"
    }
   ],
   "source": [
    "# test all the data\n",
    "h1b.model <- h1b(trace.df,summary=TRUE)"
   ]
  },
  {
   "cell_type": "markdown",
   "metadata": {},
   "source": [
    "### Visualisation of Hypothesis 2 Data"
   ]
  },
  {
   "cell_type": "markdown",
   "metadata": {},
   "source": [
    "#### Useful functions"
   ]
  },
  {
   "cell_type": "code",
   "execution_count": 103,
   "metadata": {},
   "outputs": [],
   "source": [
    "# get the mean variance of colour comparisons\n",
    "var.color <- function(df,diagnose=FALSE,sym=sym){\n",
    "    \n",
    "    # first, turn the dataframe into the relevant matrices\n",
    "    fmatrix <- df2mat.full(df, l2e('Central'), l2e('Central'),sym=sym)\n",
    "    fpmatrix <- df2mat.full(df, l2e('Central'), l2e('Peripheral'),sym=sym)\n",
    "    pmatrix <- df2mat.full(df, l2e('Peripheral'), l2e('Peripheral'),sym=sym)\n",
    "    \n",
    "    # calculate the variance for each colour\n",
    "    colour.vars <- vector()\n",
    "    # calculate differently based on whether data is symmeterised or not\n",
    "    if(sym){ # symmeterised\n",
    "        \n",
    "        \n",
    "        # turn the matrices into vectors\n",
    "        ff.v <- fmatrix[upper.tri(fmatrix,diag=TRUE)]\n",
    "        fp.v <- fpmatrix[upper.tri(fpmatrix,diag=TRUE)]\n",
    "        pp.v <- pmatrix[upper.tri(pmatrix,diag=TRUE)]\n",
    "        \n",
    "        for(i in 1:length(ff.v)){\n",
    "            colour.vars[i] <- var(c(ff.v[i],fp.v[i],pp.v[i]))\n",
    "        }\n",
    "    } else { # raw, unsymmeterised\n",
    "        i = 1\n",
    "        ff.upper.v <- vector()\n",
    "        fp.upper.v <- vector()\n",
    "        pp.upper.v <- vector()\n",
    "        ff.lower.v <- vector()\n",
    "        fp.lower.v <- vector()\n",
    "        pp.lower.v <- vector()\n",
    "        for(row in 1:(nrow(fmatrix))){\n",
    "            for(col in 1:(ncol(fmatrix))){\n",
    "                if(row < col){ # I am aware this is wasteful, but it's easy\n",
    "                    ff.upper.v[i] <- fmatrix[row,col]\n",
    "                    fp.upper.v[i] <- fpmatrix[row,col]\n",
    "                    pp.upper.v[i] <- pmatrix[row,col]\n",
    "                    \n",
    "                    ff.lower.v[i] <- fmatrix[col,row]\n",
    "                    fp.lower.v[i] <- fpmatrix[col,row]\n",
    "                    pp.lower.v[i] <- pmatrix[col,row]\n",
    "                    \n",
    "                    i = i + 1\n",
    "                } \n",
    "            }\n",
    "        }\n",
    "        \n",
    "        if(diagnose){\n",
    "            print(\"upper\")\n",
    "            print(ff.upper.v)\n",
    "            print(length(ff.upper.v))\n",
    "            print(\"lower\")\n",
    "            print(ff.lower.v)\n",
    "            print(length(ff.lower.v))\n",
    "        }\n",
    "        \n",
    "        for(i in 1:length(ff.upper.v)){\n",
    "            vals <- c(ff.upper.v[i],ff.lower.v[i],\n",
    "                         fp.upper.v[i],fp.lower.v[i],\n",
    "                         pp.upper.v[i],pp.lower.v[i])\n",
    "            colour.vars[i] <- var(vals)\n",
    "        }\n",
    "        \n",
    "    }\n",
    "    \n",
    "    \n",
    "    if(diagnose){\n",
    "        print(\"Variance values\")\n",
    "        print(colour.vars)\n",
    "    }\n",
    "    \n",
    "    # get the mean variance\n",
    "    var.mean <- mean(colour.vars)\n",
    "    \n",
    "    return(var.mean)\n",
    "}"
   ]
  },
  {
   "cell_type": "code",
   "execution_count": 104,
   "metadata": {},
   "outputs": [],
   "source": [
    "# get the data in the right format\n",
    "var.format <- function(df,sym=FALSE){\n",
    "    subjectlist <- sort(unique(df$subject)) # obtain a list of all the subjects\n",
    "    \n",
    "    if(sym){\n",
    "            print('Working on symmeterised (3) values')\n",
    "        } else {\n",
    "            print('Working on raw (6) values')\n",
    "        }\n",
    "    \n",
    "    # format for output\n",
    "    out.df <- data.frame(subject=character(),\n",
    "                        mean.var=double(),\n",
    "                        stim_size=double(),\n",
    "                        magnification=double())\n",
    "    # extract the data\n",
    "    for(ID in subjectlist){\n",
    "        tempdf <- subset(df, subject == ID)\n",
    "        stim <- unique(tempdf$stimulus_radius)[1]\n",
    "        mag <- unique(tempdf$peripheral_scale)[1]\n",
    "        val <- var.color(tempdf,sym=sym)\n",
    "        row_df <- data.frame(ID, val, stim, mag)\n",
    "        names(row_df) <- c(\"subject\",'mean.var','StimSize','Magnification')\n",
    "        out.df <- rbind(out.df,row_df)\n",
    "    }\n",
    "    return(out.df)\n",
    "}"
   ]
  },
  {
   "cell_type": "code",
   "execution_count": 128,
   "metadata": {},
   "outputs": [],
   "source": [
    "# calculate the mean variance for each color for plotting purposes\n",
    "fig6bc <- function(df,name,tri=TRUE){\n",
    "    # convert the data\n",
    "    mats <- dissimgroup2matlist(df,sym=TRUE)\n",
    "    mats.var <- full2var.mats(mats)\n",
    "    mat <- group.mat.median(mats.var)\n",
    "    \n",
    "    # get rid of the lower half\n",
    "    if(tri){\n",
    "        mat[lower.tri(mat)] <- NA\n",
    "    }\n",
    "    \n",
    "    \n",
    "    data <- melt(mat)\n",
    "    colnames(data) <- c('color1.eccen1','color2.eccen2','Variance')\n",
    "    \n",
    "    plot <- ggplot(data, aes(x = color1.eccen1, y = color2.eccen2)) + \n",
    "                    geom_raster(aes(fill = Variance)) +\n",
    "                    scale_fill_gradientn(colours = c(\"blue\",\"yellow\"),\n",
    "                                    limits=c(0,6), na.value='white'\n",
    "                                    #breaks=c(0,1,2,3,4,5,6,7)\n",
    "                                        ) +\n",
    "                    # colours\n",
    "                   theme(axis.text.x = element_text(colour=colors,angle=90),\n",
    "                          axis.text.y = element_text(colour=colors),\n",
    "                          axis.title.x = element_blank(), axis.title.y = element_blank(),\n",
    "                          plot.title = element_text(hjust = 0.5)) +\n",
    "                    scale_colour_identity()\n",
    "    \n",
    "    ggsave(name,plot,height=2.8,width=3.75)\n",
    "    return(plot)\n",
    "}"
   ]
  },
  {
   "cell_type": "code",
   "execution_count": 106,
   "metadata": {},
   "outputs": [],
   "source": [
    "fig6d <- function(plot.df,rand.var.mu,histogram=FALSE,save=TRUE){\n",
    "    \n",
    "    plot.df$StimSize <- as.character(plot.df$StimSize)\n",
    "    plot.df$Magnification <- as.character(plot.df$Magnification)\n",
    "    \n",
    "    plot <- ggplot(plot.df) +\n",
    "        geom_boxplot(aes(x = Magnification, y = mean.var, \n",
    "                         color = label.combo)) +\n",
    "        geom_point(aes(x = Magnification, y = mean.var, \n",
    "                         color = label.combo),\n",
    "                  position=position_dodge(width=0.75)) +\n",
    "        geom_hline(yintercept=rand.var.mu, linetype='dashed') +\n",
    "        #geom_hline(yintercept=median(plot.df$mean.var),linetype='dashed',color='blue') +\n",
    "        scale_x_discrete(labels=c(\"FIX\",'MAG')) +\n",
    "        theme_bw(base_size = 14) +\n",
    "        #guides(color=guide_legend(title=\"Stimulus\\nSize\")) +\n",
    "        guides(color=guide_legend(title=\"\")) +\n",
    "        xlab(\"\") +\n",
    "        ylab(\"Mean Variance\") +\n",
    "        ylim(0,max(vals)) +\n",
    "        #scale_colour_manual(values = c(\"orange\",'purple')) +\n",
    "        scale_color_brewer(palette='Dark2') + scale_fill_brewer(palette='Dark2') \n",
    "    if(histogram){\n",
    "        #plot.df$mean.var <- log((plot.df$mean.var))\n",
    "        plot.df$label.combo <- paste(plot.df$StimSize,plot.df$Magnification)\n",
    "        hist.plot <- ggplot(plot.df, aes(x = mean.var, fill=label.combo)) + geom_histogram(binwidth=0.25)\n",
    "        return(hist.plot)\n",
    "    }\n",
    "    if(save){\n",
    "        ggsave('fig6d.png',plot,height=2.8,width=4)\n",
    "    }\n",
    "    \n",
    "    return(plot)\n",
    "}"
   ]
  },
  {
   "cell_type": "code",
   "execution_count": 107,
   "metadata": {},
   "outputs": [],
   "source": [
    "fig6e <- function(df,rand.var.mu,vals){\n",
    "    \n",
    "    # perform beta offset\n",
    "    df$mean.var <- offset.beta(df$mean.var,max(vals))\n",
    "\n",
    "    plot <- ggplot(df, aes(x = mean.var,fill=Magnification)) + \n",
    "        geom_density(aes(x=mean.var,y=..scaled..),alpha=0.375) +\n",
    "        geom_histogram(aes(x=mean.var,y=stat(count)/sum(count)), colour='black', binwidth=0.05,position=\"identity\",alpha=0.5) +\n",
    "        geom_vline(xintercept=rand.var.mu/max(vals), linetype='dashed') + # put the random line in, appropriately scaled\n",
    "        xlab(\"Scaled Mean Variance\") +\n",
    "        ylab(\"Density\") +\n",
    "        xlim(-0.05,1) +\n",
    "        theme(legend.position='none')\n",
    "        \n",
    "    ggsave('fig6e.png',plot,height=2.8,width=4)\n",
    "    return(plot)\n",
    "} "
   ]
  },
  {
   "cell_type": "code",
   "execution_count": 108,
   "metadata": {},
   "outputs": [],
   "source": [
    "fig6e.rainbow <- function(df,rand.var.mu,vals){\n",
    "    \n",
    "    # perform beta offset\n",
    "    df$mean.var <- offset.beta(df$mean.var,max(vals))\n",
    "    \n",
    "    plot <- ggplot(df,aes(x=Magnification,y=mean.var,fill=Magnification,colour=Magnification)) +\n",
    "            geom_flat_violin(position = position_nudge(x = 0.25, y = 0),adjust=2,trime=FALSE) +\n",
    "            geom_point(position = position_jitter(width=.15,height=0),size=1) +\n",
    "            geom_boxplot(aes(x=4.5 + 0.25, y = mean.var),alpha = 0.3, outlier.shape=NA, width = .1, colour = \"BLACK\") +\n",
    "            ylab('Scaled Mean Variance') + xlab('')+coord_flip()+theme_cowplot()+guides(fill=FALSE,colour=FALSE) +\n",
    "            theme(axis.text.y=element_blank(),axis.ticks.y=element_blank(),legend.title=element_blank()) +\n",
    "            geom_hline(yintercept=rand.var.mu/max(vals), linetype='dashed') +  geom_hline(yintercept=1.05)\n",
    "    \n",
    "    ggsave('fig6e_rainbow.png',plot,height=2.8,width=4)\n",
    "    return(plot)\n",
    "}"
   ]
  },
  {
   "cell_type": "code",
   "execution_count": 109,
   "metadata": {},
   "outputs": [],
   "source": [
    "fig6f <- function(df,rand.var.mu,vals){\n",
    "    # perform beta offset\n",
    "    df$mean.var <- logit(offset.beta(df$mean.var,max(vals)))\n",
    "\n",
    "    plot <- ggplot(df, aes(x = mean.var,fill=Magnification)) + \n",
    "        geom_density(aes(x=mean.var,y=..scaled..),alpha=0.375) +\n",
    "        #geom_histogram(aes(x=mean.var,y=stat(count)/sum(count)), colour='black', binwidth=0.05,position=\"identity\",alpha=0.5) +\n",
    "        geom_vline(xintercept=logit(rand.var.mu/max(vals)), linetype='dashed') + # put the random line in, appropriately scaled\n",
    "        xlab(\"Logistic-Transformed\\nMean Variance\") +\n",
    "        ylab(\"Density\") +\n",
    "        xlim(-7.5,3) +\n",
    "        theme(legend.position='none')\n",
    "        \n",
    "    ggsave('fig6f.png',plot,height=2.8,width=4)\n",
    "    return(plot)\n",
    "}"
   ]
  },
  {
   "cell_type": "code",
   "execution_count": 110,
   "metadata": {},
   "outputs": [],
   "source": [
    "fig6f.rainbow <- function(df,rand.var.mu,vals){\n",
    "    \n",
    "    # perform beta offset\n",
    "    df$mean.var <- logit(offset.beta(df$mean.var,max(vals)))\n",
    "    \n",
    "    plot <- ggplot(df,aes(x=Magnification,y=mean.var,fill=Magnification,colour=Magnification)) +\n",
    "            geom_flat_violin(position = position_nudge(x = 0.25, y = 0),adjust=2,trime=FALSE) +\n",
    "            geom_point(position = position_jitter(width=.15,height=0),size=1) +\n",
    "            geom_boxplot(aes(x=4.5 + 0.25, y = mean.var),alpha = 0.3, outlier.shape=NA, width = .1, colour = \"BLACK\") +\n",
    "            ylab(\"Logistic-Transformed\\nMean Variance\") + xlab('')+coord_flip()+theme_cowplot()+guides(fill=FALSE,colour=FALSE) +\n",
    "            theme(axis.text.y=element_blank(),axis.ticks.y=element_blank(),axis.line.y=element_blank(),legend.title=element_blank()) +\n",
    "            geom_hline(yintercept=logit(rand.var.mu/max(vals)), linetype='dashed')\n",
    "    \n",
    "    ggsave('fig6f_rainbow.png',plot,height=2.8,width=4)\n",
    "    return(plot)\n",
    "}"
   ]
  },
  {
   "cell_type": "code",
   "execution_count": 111,
   "metadata": {},
   "outputs": [],
   "source": [
    "fig6g <- function(df,rand.var.mu,vals){\n",
    "    \n",
    "    # perform beta offset\n",
    "    df$mean.var <- offset.beta(df$mean.var,max(vals))\n",
    "\n",
    "    plot <- ggplot(df, aes(x = mean.var,fill=label.combo)) + \n",
    "        geom_density(aes(x=mean.var,y=..scaled..),alpha=0.375) +\n",
    "        geom_histogram(aes(x=mean.var,y=stat(count)/sum(count)), colour='black', binwidth=0.05,position=\"identity\",alpha=0.5) +\n",
    "        geom_vline(xintercept=rand.var.mu/max(vals), linetype='dashed') + # put the random line in, appropriately scaled\n",
    "        xlab(\"Scaled Mean Variance\") +\n",
    "        ylab(\"Density\") +\n",
    "        xlim(-0.05,1)\n",
    "        \n",
    "    ggsave('fig6g.png',plot,height=2.8,width=4)\n",
    "    return(plot)\n",
    "} "
   ]
  },
  {
   "cell_type": "code",
   "execution_count": 112,
   "metadata": {},
   "outputs": [],
   "source": [
    "fig6g.rainbow <- function(df,rand.var.mu,vals){\n",
    "    \n",
    "    # perform beta offset\n",
    "    df$mean.var <- offset.beta(df$mean.var,max(vals))\n",
    "    \n",
    "    plot <- ggplot(df,aes(x=label.combo,y=mean.var,fill=label.combo,colour=label.combo)) +\n",
    "            geom_flat_violin(position = position_nudge(x = 0.25, y = 0),adjust=2,trime=FALSE) +\n",
    "            geom_point(position = position_jitter(width=.15,height=0),size=1) +\n",
    "            geom_boxplot(aes(x=as.numeric(as.factor(label.combo)) + 0.25, y = mean.var),alpha = 0.3, outlier.shape=NA, width = .1, colour = \"BLACK\") +\n",
    "            ylab('Scaled Mean Variance') + xlab('')+coord_flip()+theme_cowplot()+guides(fill=FALSE) +\n",
    "            theme(axis.text.y=element_blank(),axis.ticks.y=element_blank(),legend.title=element_blank()) +\n",
    "            geom_hline(yintercept=rand.var.mu/max(vals), linetype='dashed') +  geom_hline(yintercept=1.05)\n",
    "    \n",
    "    ggsave('fig6g_rainbow.png',plot,height=2.8,width=4)\n",
    "    return(plot)\n",
    "}"
   ]
  },
  {
   "cell_type": "code",
   "execution_count": 113,
   "metadata": {},
   "outputs": [],
   "source": [
    "fig6h <- function(df,rand.var.mu,vals){\n",
    "    # perform beta offset\n",
    "    df$mean.var <- logit(offset.beta(df$mean.var,max(vals)))\n",
    "\n",
    "    plot <- ggplot(df, aes(x = mean.var,fill=label.combo)) + \n",
    "        geom_density(aes(x=mean.var,y=..scaled..),alpha=0.375) +\n",
    "        #geom_histogram(aes(x=mean.var,y=stat(count)/sum(count)), colour='black', binwidth=0.05,position=\"identity\",alpha=0.5) +\n",
    "        geom_vline(xintercept=logit(rand.var.mu/max(vals)), linetype='dashed') + # put the random line in, appropriately scaled\n",
    "        xlab(\"Logistic-Transformed\\nMean Variance\") +\n",
    "        ylab(\"Density\") +\n",
    "        xlim(-7.5,3)\n",
    "        \n",
    "    ggsave('fig6h.png',plot,height=2.8,width=4)\n",
    "    return(plot)\n",
    "}"
   ]
  },
  {
   "cell_type": "code",
   "execution_count": 114,
   "metadata": {},
   "outputs": [],
   "source": [
    "fig6h.rainbow <- function(df,rand.var.mu,vals){\n",
    "    \n",
    "    # perform beta offset\n",
    "    df$mean.var <- logit(offset.beta(df$mean.var,max(vals)))\n",
    "    \n",
    "    plot <- ggplot(df,aes(x=label.combo,y=mean.var,fill=label.combo,colour=label.combo)) +\n",
    "            geom_flat_violin(position = position_nudge(x = 0.25, y = 0),adjust=2,trime=FALSE) +\n",
    "            geom_point(position = position_jitter(width=.15,height=0),size=1) +\n",
    "            geom_boxplot(aes(x=as.numeric(as.factor(label.combo)) + 0.25, y = mean.var),alpha = 0.3, outlier.shape=NA, width = .1, colour = \"BLACK\") +\n",
    "            ylab(\"Logistic-Transformed\\nMean Variance\") + xlab('')+coord_flip()+theme_cowplot()+guides(fill=FALSE) +\n",
    "            theme(axis.text.y=element_blank(),axis.ticks.y=element_blank(),axis.line.y=element_blank(),legend.title=element_blank()) +\n",
    "            geom_hline(yintercept=logit(rand.var.mu/max(vals)), linetype='dashed') +\n",
    "            scale_color_brewer(palette='Dark2') + scale_fill_brewer(palette='Dark2')\n",
    "    \n",
    "    ggsave('fig6h_rainbow.png',plot,height=2.8,width=4)\n",
    "    return(plot)\n",
    "}"
   ]
  },
  {
   "cell_type": "markdown",
   "metadata": {},
   "source": [
    "#### Do the visualisations"
   ]
  },
  {
   "cell_type": "code",
   "execution_count": 115,
   "metadata": {},
   "outputs": [
    {
     "name": "stdout",
     "output_type": "stream",
     "text": [
      "[1] \"Working on raw (6) values\"\n"
     ]
    }
   ],
   "source": [
    "# get the data we want\n",
    "var.data <- var.format(cleandf,sym=FALSE)\n",
    "#head(var.data)\n",
    "var.data.mag <- subset(var.data, Magnification != 1)\n"
   ]
  },
  {
   "cell_type": "code",
   "execution_count": 116,
   "metadata": {},
   "outputs": [],
   "source": [
    "# label the data\n",
    "var.data <- label(var.data)"
   ]
  },
  {
   "cell_type": "code",
   "execution_count": 117,
   "metadata": {},
   "outputs": [
    {
     "name": "stdout",
     "output_type": "stream",
     "text": [
      "[1] 6\n",
      "[1] \"Mean variance of random selection: 5.22541333333333\"\n",
      "[1] \"SD of mean variance of random selection: 2.28483925774976\"\n"
     ]
    }
   ],
   "source": [
    "# simulating random selection\n",
    "# updated method based on including symmeterisation\n",
    "sim.rand.var <- function(method='sym'){\n",
    "    dis.v <- c(0:7)\n",
    "    if(method=='sym'){\n",
    "        # taking the mean of the values as expected by symmeterisation procedure\n",
    "        # this is more faithful to what random data fed into the preprocessing \n",
    "        # procedure would look like\n",
    "        vals <- vector()\n",
    "        for(i in 1:10000){\n",
    "            CC <- mean(sample(dis.v, 2, replace=TRUE))\n",
    "            PP <- mean(sample(dis.v, 2, replace=TRUE))\n",
    "            CP <- mean(sample(dis.v, 2, replace=TRUE))\n",
    "            PC <- mean(sample(dis.v, 2, replace=TRUE))\n",
    "            CP.sym <- mean(c(CP,PC))\n",
    "                        \n",
    "            x <- var(c(CC,PP,CP.sym))\n",
    "            \n",
    "            \n",
    "            vals <- c(vals,x)\n",
    "            \n",
    "        }\n",
    "        \n",
    "        \n",
    "    } else {\n",
    "        # pick n random dissimilarity values\n",
    "        # 3 = equivalent to 1 CC, 1 PP and 1 CP values\n",
    "        # 6 = equivalent to 2 CC, 2 PP and 2 CP values\n",
    "        # 8 = equivalent to 2 CC, 2 PP and 4 CP values\n",
    "        vals <- replicate(10000,var(sample(dis.v, method, replace=TRUE)))\n",
    "    }\n",
    "    print(method)\n",
    "    print(paste(\"Mean variance of random selection:\",mean(vals)))\n",
    "    print(paste(\"SD of mean variance of random selection:\",sd(vals)))\n",
    "    return(vals)\n",
    "}\n",
    "#vals <- sim.rand.var()\n",
    "#vals <- sim.rand.var(method=3)\n",
    "vals <- sim.rand.var(method=6)\n",
    "#vals <- sim.rand.var(method=8)\n",
    "\n",
    "rand.var.mu <- mean(vals)\n",
    "rand.var.sd <- sd(vals)"
   ]
  },
  {
   "cell_type": "code",
   "execution_count": 118,
   "metadata": {},
   "outputs": [],
   "source": [
    "# supplementary figure of how random selection variance is distributed\n",
    "sup.fig5a <- function(vals){\n",
    "    mu <- mean(vals)\n",
    "    df <- as.data.frame(vals)\n",
    "    df$Variance <- 'Variance'\n",
    "    plot <- ggplot(df, aes(x=vals,y=..density..)) + geom_histogram(binwidth=1/3,colour='black') + #geom_density(aes(fill=Variance),alpha=0.3) +\n",
    "        geom_vline(xintercept=mu,linetype='dashed') + guides(fill=FALSE) +\n",
    "        xlab(\"Variance\") + ylab(\"Proportion\")\n",
    "    ggsave('supfig5a.png',plot,height=4,width=5.3)\n",
    "    return(plot)\n",
    "}\n",
    "\n",
    "sup.fig5b <- function(vals){\n",
    "    mu <- mean(vals)\n",
    "    df <- as.data.frame(vals)\n",
    "    df$Variance <- 'Variance'\n",
    "    df$vals <- offset.beta(df$vals,max(vals))\n",
    "    \n",
    "    plot.scaled <- ggplot(df,aes(x=Variance,y=vals,fill=Variance,colour=Variance)) +\n",
    "            geom_flat_violin(position = position_nudge(x = 0.25, y = 0),adjust=2,trime=FALSE) +\n",
    "            geom_point(position = position_jitter(width=.15,height=0),size=1) +\n",
    "            geom_boxplot(aes(x=as.numeric(as.factor(Variance))+ 0.25, y = vals),alpha = 0.3, outlier.shape=NA, width = .1, colour = \"BLACK\") +\n",
    "            ylab(\"Scaled variance\") + xlab('')+coord_flip()+theme_cowplot()+guides(fill=FALSE,colour=FALSE) +\n",
    "            theme(axis.text.y=element_blank(),axis.ticks.y=element_blank(),axis.line.y=element_blank(),legend.title=element_blank()) +\n",
    "            geom_hline(yintercept=mu, linetype='dashed') + ylim(0,1)\n",
    "    \n",
    "    ggsave('supfig5b.png',plot.scaled,height=4,width=5.3)\n",
    "    return(plot.scaled)\n",
    "}\n",
    "\n",
    "sup.fig5c <- function(vals){\n",
    "    mu <- mean(vals)\n",
    "    df <- as.data.frame(vals)\n",
    "    df$Variance <- 'Variance'\n",
    "    df$vals <- offset.beta(df$vals,max(vals))\n",
    "    df$vals.logit <- logit(df$vals)\n",
    "    mu.logit <- logit(mu)\n",
    "\n",
    "    plot.logit <- ggplot(df,aes(x=Variance,y=vals.logit,fill=Variance,colour=Variance)) +\n",
    "            geom_flat_violin(position = position_nudge(x = 0.25, y = 0),adjust=2,trime=FALSE) +\n",
    "            geom_point(position = position_jitter(width=.15,height=0),size=1) +\n",
    "            geom_boxplot(aes(x=as.numeric(as.factor(Variance))+ 0.25, y = vals.logit),alpha = 0.3, outlier.shape=NA, width = .1, colour = \"BLACK\") +\n",
    "            ylab(\"Logistic-transformed variance\") + xlab('')+coord_flip()+theme_cowplot()+guides(fill=FALSE,colour=FALSE) +\n",
    "            theme(axis.text.y=element_blank(),axis.ticks.y=element_blank(),axis.line.y=element_blank(),legend.title=element_blank()) +\n",
    "            geom_hline(yintercept=mu.logit, linetype='dashed')\n",
    "    \n",
    "    ggsave('supfig5c.png',plot.logit,height=4,width=5.3)\n",
    "    return(plot.logit)\n",
    "}\n",
    "\n"
   ]
  },
  {
   "cell_type": "code",
   "execution_count": 119,
   "metadata": {},
   "outputs": [
    {
     "data": {
      "image/png": "[encoded data removed]",
      "text/plain": [
       "plot without title"
      ]
     },
     "metadata": {},
     "output_type": "display_data"
    },
    {
     "data": {
      "image/png": "[encoded data removed]",
      "text/plain": [
       "plot without title"
      ]
     },
     "metadata": {},
     "output_type": "display_data"
    },
    {
     "data": {
      "image/png": "[encoded data removed]",
      "text/plain": [
       "plot without title"
      ]
     },
     "metadata": {},
     "output_type": "display_data"
    }
   ],
   "source": [
    "sup.fig5a(vals)\n",
    "sup.fig5b(vals)\n",
    "sup.fig5c(vals)"
   ]
  },
  {
   "cell_type": "code",
   "execution_count": 120,
   "metadata": {},
   "outputs": [],
   "source": [
    "sup.fig5.raincloud <- function(vals){\n",
    "    mu <- mean(vals)\n",
    "    df <- as.data.frame(vals)\n",
    "    df$Variance <- 'Variance'\n",
    "    df$vals <- offset.beta(df$vals,max(vals))\n",
    "    df$vals.logit <- logit(df$vals)\n",
    "    mu.logit <- logit(mu)\n",
    "    \n",
    "    plot.scaled <- ggplot(df,aes(x=Variance,y=vals,fill=Variance,colour=Variance)) +\n",
    "            geom_flat_violin(position = position_nudge(x = 0.25, y = 0),adjust=2,trime=FALSE) +\n",
    "            geom_point(position = position_jitter(width=.15,height=0),size=1) +\n",
    "            geom_boxplot(aes(x=as.numeric(as.factor(Variance))+ 0.25, y = vals),alpha = 0.3, outlier.shape=NA, width = .1, colour = \"BLACK\") +\n",
    "            ylab(\"Scaled variance\") + xlab('')+coord_flip()+theme_cowplot()+guides(fill=FALSE,colour=FALSE) +\n",
    "            theme(axis.text.y=element_blank(),axis.ticks.y=element_blank(),axis.line.y=element_blank(),legend.title=element_blank()) +\n",
    "            geom_hline(yintercept=mu, linetype='dashed') + ylim(0,1)\n",
    "    \n",
    "\n",
    "    plot.logit <- ggplot(df,aes(x=Variance,y=vals.logit,fill=Variance,colour=Variance)) +\n",
    "            geom_flat_violin(position = position_nudge(x = 0.25, y = 0),adjust=2,trime=FALSE) +\n",
    "            geom_point(position = position_jitter(width=.15,height=0),size=1) +\n",
    "            geom_boxplot(aes(x=as.numeric(as.factor(Variance))+ 0.25, y = vals.logit),alpha = 0.3, outlier.shape=NA, width = .1, colour = \"BLACK\") +\n",
    "            ylab(\"Logistic-transformed variance\") + xlab('')+coord_flip()+theme_cowplot()+guides(fill=FALSE,colour=FALSE) +\n",
    "            theme(axis.text.y=element_blank(),axis.ticks.y=element_blank(),axis.line.y=element_blank(),legend.title=element_blank()) +\n",
    "            geom_hline(yintercept=mu.logit, linetype='dashed')\n",
    "    \n",
    "    g <- arrangeGrob(as.grob(plot.scaled),as.grob(plot.logit),ncol=1,nrow=2)\n",
    "    ggsave('supfig5_raincloud.png',g,height=8,width=5.3)\n",
    "}\n",
    "sup.fig5.raincloud(vals)"
   ]
  },
  {
   "cell_type": "code",
   "execution_count": 126,
   "metadata": {},
   "outputs": [
    {
     "data": {
      "text/html": [
       "<table>\n",
       "<thead><tr><th></th><th scope=col>stimulus_radius</th><th scope=col>central_radius</th><th scope=col>peripheral_radius</th><th scope=col>build</th><th scope=col>date</th><th scope=col>time</th><th scope=col>subject</th><th scope=col>group</th><th scope=col>blockcode</th><th scope=col>blocknum</th><th scope=col>...</th><th scope=col>ratio_pxpermm.1</th><th scope=col>radius_F</th><th scope=col>radius_P</th><th scope=col>r_F</th><th scope=col>peripheral_scale</th><th scope=col>eccen_type</th><th scope=col>noncompliant</th><th scope=col>label.mag</th><th scope=col>label.stim</th><th scope=col>label.combo</th></tr></thead>\n",
       "<tbody>\n",
       "\t<tr><th scope=row>3689</th><td>1                        </td><td>1                        </td><td>10                       </td><td>6.2.1                    </td><td>26/08/2020               </td><td>15:08:55                 </td><td>513963865                </td><td>789715452                </td><td>experiment               </td><td>14                       </td><td>...                      </td><td>4.3224299065420561661px  </td><td>42.8090448650540906783px </td><td>428.0904486505409067831px</td><td>42.8090448650540906783px </td><td>4.5                      </td><td>CP                       </td><td>0                        </td><td>MAG                      </td><td>BIG                      </td><td>MAG BIG                  </td></tr>\n",
       "\t<tr><th scope=row>3690</th><td>1                        </td><td>1                        </td><td>10                       </td><td>6.2.1                    </td><td>26/08/2020               </td><td>15:08:55                 </td><td>513963865                </td><td>789715452                </td><td>experiment               </td><td>15                       </td><td>...                      </td><td>4.3224299065420561661px  </td><td>42.8090448650540906783px </td><td>428.0904486505409067831px</td><td>42.8090448650540906783px </td><td>4.5                      </td><td>CP                       </td><td>0                        </td><td>MAG                      </td><td>BIG                      </td><td>MAG BIG                  </td></tr>\n",
       "\t<tr><th scope=row>3691</th><td>1                        </td><td>1                        </td><td>10                       </td><td>6.2.1                    </td><td>26/08/2020               </td><td>15:08:55                 </td><td>513963865                </td><td>789715452                </td><td>experiment               </td><td>16                       </td><td>...                      </td><td>4.3224299065420561661px  </td><td>42.8090448650540906783px </td><td>428.0904486505409067831px</td><td>42.8090448650540906783px </td><td>4.5                      </td><td>CP                       </td><td>0                        </td><td>MAG                      </td><td>BIG                      </td><td>MAG BIG                  </td></tr>\n",
       "\t<tr><th scope=row>3692</th><td>1                        </td><td>1                        </td><td>10                       </td><td>6.2.1                    </td><td>26/08/2020               </td><td>15:08:55                 </td><td>513963865                </td><td>789715452                </td><td>experiment               </td><td>17                       </td><td>...                      </td><td>4.3224299065420561661px  </td><td>42.8090448650540906783px </td><td>428.0904486505409067831px</td><td>42.8090448650540906783px </td><td>4.5                      </td><td>CP                       </td><td>0                        </td><td>MAG                      </td><td>BIG                      </td><td>MAG BIG                  </td></tr>\n",
       "\t<tr><th scope=row>3693</th><td>1                        </td><td>1                        </td><td>10                       </td><td>6.2.1                    </td><td>26/08/2020               </td><td>15:08:55                 </td><td>513963865                </td><td>789715452                </td><td>experiment               </td><td>18                       </td><td>...                      </td><td>4.3224299065420561661px  </td><td>42.8090448650540906783px </td><td>428.0904486505409067831px</td><td>42.8090448650540906783px </td><td>4.5                      </td><td>CP                       </td><td>0                        </td><td>MAG                      </td><td>BIG                      </td><td>MAG BIG                  </td></tr>\n",
       "\t<tr><th scope=row>3694</th><td>1                        </td><td>1                        </td><td>10                       </td><td>6.2.1                    </td><td>26/08/2020               </td><td>15:08:55                 </td><td>513963865                </td><td>789715452                </td><td>experiment               </td><td>19                       </td><td>...                      </td><td>4.3224299065420561661px  </td><td>42.8090448650540906783px </td><td>428.0904486505409067831px</td><td>42.8090448650540906783px </td><td>4.5                      </td><td>CP                       </td><td>0                        </td><td>MAG                      </td><td>BIG                      </td><td>MAG BIG                  </td></tr>\n",
       "</tbody>\n",
       "</table>\n"
      ],
      "text/latex": [
       "\\begin{tabular}{r|lllllllllllllllllllllllllllllllllllllllllllllllllllllllllll}\n",
       "  & stimulus\\_radius & central\\_radius & peripheral\\_radius & build & date & time & subject & group & blockcode & blocknum & ... & ratio\\_pxpermm.1 & radius\\_F & radius\\_P & r\\_F & peripheral\\_scale & eccen\\_type & noncompliant & label.mag & label.stim & label.combo\\\\\n",
       "\\hline\n",
       "\t3689 & 1                         & 1                         & 10                        & 6.2.1                     & 26/08/2020                & 15:08:55                  & 513963865                 & 789715452                 & experiment                & 14                        & ...                       & 4.3224299065420561661px   & 42.8090448650540906783px  & 428.0904486505409067831px & 42.8090448650540906783px  & 4.5                       & CP                        & 0                         & MAG                       & BIG                       & MAG BIG                  \\\\\n",
       "\t3690 & 1                         & 1                         & 10                        & 6.2.1                     & 26/08/2020                & 15:08:55                  & 513963865                 & 789715452                 & experiment                & 15                        & ...                       & 4.3224299065420561661px   & 42.8090448650540906783px  & 428.0904486505409067831px & 42.8090448650540906783px  & 4.5                       & CP                        & 0                         & MAG                       & BIG                       & MAG BIG                  \\\\\n",
       "\t3691 & 1                         & 1                         & 10                        & 6.2.1                     & 26/08/2020                & 15:08:55                  & 513963865                 & 789715452                 & experiment                & 16                        & ...                       & 4.3224299065420561661px   & 42.8090448650540906783px  & 428.0904486505409067831px & 42.8090448650540906783px  & 4.5                       & CP                        & 0                         & MAG                       & BIG                       & MAG BIG                  \\\\\n",
       "\t3692 & 1                         & 1                         & 10                        & 6.2.1                     & 26/08/2020                & 15:08:55                  & 513963865                 & 789715452                 & experiment                & 17                        & ...                       & 4.3224299065420561661px   & 42.8090448650540906783px  & 428.0904486505409067831px & 42.8090448650540906783px  & 4.5                       & CP                        & 0                         & MAG                       & BIG                       & MAG BIG                  \\\\\n",
       "\t3693 & 1                         & 1                         & 10                        & 6.2.1                     & 26/08/2020                & 15:08:55                  & 513963865                 & 789715452                 & experiment                & 18                        & ...                       & 4.3224299065420561661px   & 42.8090448650540906783px  & 428.0904486505409067831px & 42.8090448650540906783px  & 4.5                       & CP                        & 0                         & MAG                       & BIG                       & MAG BIG                  \\\\\n",
       "\t3694 & 1                         & 1                         & 10                        & 6.2.1                     & 26/08/2020                & 15:08:55                  & 513963865                 & 789715452                 & experiment                & 19                        & ...                       & 4.3224299065420561661px   & 42.8090448650540906783px  & 428.0904486505409067831px & 42.8090448650540906783px  & 4.5                       & CP                        & 0                         & MAG                       & BIG                       & MAG BIG                  \\\\\n",
       "\\end{tabular}\n"
      ],
      "text/markdown": [
       "\n",
       "| <!--/--> | stimulus_radius | central_radius | peripheral_radius | build | date | time | subject | group | blockcode | blocknum | ... | ratio_pxpermm.1 | radius_F | radius_P | r_F | peripheral_scale | eccen_type | noncompliant | label.mag | label.stim | label.combo |\n",
       "|---|---|---|---|---|---|---|---|---|---|---|---|---|---|---|---|---|---|---|---|---|---|\n",
       "| 3689 | 1                         | 1                         | 10                        | 6.2.1                     | 26/08/2020                | 15:08:55                  | 513963865                 | 789715452                 | experiment                | 14                        | ...                       | 4.3224299065420561661px   | 42.8090448650540906783px  | 428.0904486505409067831px | 42.8090448650540906783px  | 4.5                       | CP                        | 0                         | MAG                       | BIG                       | MAG BIG                   |\n",
       "| 3690 | 1                         | 1                         | 10                        | 6.2.1                     | 26/08/2020                | 15:08:55                  | 513963865                 | 789715452                 | experiment                | 15                        | ...                       | 4.3224299065420561661px   | 42.8090448650540906783px  | 428.0904486505409067831px | 42.8090448650540906783px  | 4.5                       | CP                        | 0                         | MAG                       | BIG                       | MAG BIG                   |\n",
       "| 3691 | 1                         | 1                         | 10                        | 6.2.1                     | 26/08/2020                | 15:08:55                  | 513963865                 | 789715452                 | experiment                | 16                        | ...                       | 4.3224299065420561661px   | 42.8090448650540906783px  | 428.0904486505409067831px | 42.8090448650540906783px  | 4.5                       | CP                        | 0                         | MAG                       | BIG                       | MAG BIG                   |\n",
       "| 3692 | 1                         | 1                         | 10                        | 6.2.1                     | 26/08/2020                | 15:08:55                  | 513963865                 | 789715452                 | experiment                | 17                        | ...                       | 4.3224299065420561661px   | 42.8090448650540906783px  | 428.0904486505409067831px | 42.8090448650540906783px  | 4.5                       | CP                        | 0                         | MAG                       | BIG                       | MAG BIG                   |\n",
       "| 3693 | 1                         | 1                         | 10                        | 6.2.1                     | 26/08/2020                | 15:08:55                  | 513963865                 | 789715452                 | experiment                | 18                        | ...                       | 4.3224299065420561661px   | 42.8090448650540906783px  | 428.0904486505409067831px | 42.8090448650540906783px  | 4.5                       | CP                        | 0                         | MAG                       | BIG                       | MAG BIG                   |\n",
       "| 3694 | 1                         | 1                         | 10                        | 6.2.1                     | 26/08/2020                | 15:08:55                  | 513963865                 | 789715452                 | experiment                | 19                        | ...                       | 4.3224299065420561661px   | 42.8090448650540906783px  | 428.0904486505409067831px | 42.8090448650540906783px  | 4.5                       | CP                        | 0                         | MAG                       | BIG                       | MAG BIG                   |\n",
       "\n"
      ],
      "text/plain": [
       "     stimulus_radius central_radius peripheral_radius build date       time    \n",
       "3689 1               1              10                6.2.1 26/08/2020 15:08:55\n",
       "3690 1               1              10                6.2.1 26/08/2020 15:08:55\n",
       "3691 1               1              10                6.2.1 26/08/2020 15:08:55\n",
       "3692 1               1              10                6.2.1 26/08/2020 15:08:55\n",
       "3693 1               1              10                6.2.1 26/08/2020 15:08:55\n",
       "3694 1               1              10                6.2.1 26/08/2020 15:08:55\n",
       "     subject   group     blockcode  blocknum ... ratio_pxpermm.1        \n",
       "3689 513963865 789715452 experiment 14       ... 4.3224299065420561661px\n",
       "3690 513963865 789715452 experiment 15       ... 4.3224299065420561661px\n",
       "3691 513963865 789715452 experiment 16       ... 4.3224299065420561661px\n",
       "3692 513963865 789715452 experiment 17       ... 4.3224299065420561661px\n",
       "3693 513963865 789715452 experiment 18       ... 4.3224299065420561661px\n",
       "3694 513963865 789715452 experiment 19       ... 4.3224299065420561661px\n",
       "     radius_F                 radius_P                 \n",
       "3689 42.8090448650540906783px 428.0904486505409067831px\n",
       "3690 42.8090448650540906783px 428.0904486505409067831px\n",
       "3691 42.8090448650540906783px 428.0904486505409067831px\n",
       "3692 42.8090448650540906783px 428.0904486505409067831px\n",
       "3693 42.8090448650540906783px 428.0904486505409067831px\n",
       "3694 42.8090448650540906783px 428.0904486505409067831px\n",
       "     r_F                      peripheral_scale eccen_type noncompliant\n",
       "3689 42.8090448650540906783px 4.5              CP         0           \n",
       "3690 42.8090448650540906783px 4.5              CP         0           \n",
       "3691 42.8090448650540906783px 4.5              CP         0           \n",
       "3692 42.8090448650540906783px 4.5              CP         0           \n",
       "3693 42.8090448650540906783px 4.5              CP         0           \n",
       "3694 42.8090448650540906783px 4.5              CP         0           \n",
       "     label.mag label.stim label.combo\n",
       "3689 MAG       BIG        MAG BIG    \n",
       "3690 MAG       BIG        MAG BIG    \n",
       "3691 MAG       BIG        MAG BIG    \n",
       "3692 MAG       BIG        MAG BIG    \n",
       "3693 MAG       BIG        MAG BIG    \n",
       "3694 MAG       BIG        MAG BIG    "
      ]
     },
     "metadata": {},
     "output_type": "display_data"
    }
   ],
   "source": [
    "head(mag.df)"
   ]
  },
  {
   "cell_type": "code",
   "execution_count": 132,
   "metadata": {},
   "outputs": [
    {
     "data": {
      "image/png": "[encoded data removed]",
      "text/plain": [
       "plot without title"
      ]
     },
     "metadata": {},
     "output_type": "display_data"
    }
   ],
   "source": [
    "mag.df <- subset(cleandf, peripheral_scale != 1)\n",
    "fig6bc(mag.df,name='fig6c.png',tri=TRUE)"
   ]
  },
  {
   "cell_type": "code",
   "execution_count": 151,
   "metadata": {},
   "outputs": [
    {
     "data": {
      "image/png": "[encoded data removed]",
      "text/plain": [
       "plot without title"
      ]
     },
     "metadata": {},
     "output_type": "display_data"
    }
   ],
   "source": [
    "fig6d(var.data,rand.var.mu)"
   ]
  },
  {
   "cell_type": "code",
   "execution_count": null,
   "metadata": {},
   "outputs": [],
   "source": [
    "#fig6e(var.data.mag,rand.var.mu,vals)\n",
    "fig6e.rainbow(var.data.mag,rand.var.mu,vals)"
   ]
  },
  {
   "cell_type": "code",
   "execution_count": null,
   "metadata": {},
   "outputs": [],
   "source": [
    "#fig6f(var.data.mag,rand.var.mu,vals)\n",
    "fig6f.rainbow(var.data.mag,rand.var.mu,vals)"
   ]
  },
  {
   "cell_type": "code",
   "execution_count": null,
   "metadata": {},
   "outputs": [],
   "source": [
    "#fig6g(var.data,rand.var.mu,vals)\n",
    "fig6g.rainbow(var.data,rand.var.mu,vals)"
   ]
  },
  {
   "cell_type": "code",
   "execution_count": null,
   "metadata": {},
   "outputs": [],
   "source": [
    "#fig6h(var.data,rand.var.mu,vals)\n",
    "fig6h.rainbow(var.data,rand.var.mu,vals)"
   ]
  },
  {
   "cell_type": "markdown",
   "metadata": {},
   "source": [
    "#### 2a) Do colour-pair comparisons made in CC, CP and PP conditions all generate the same dissimilarity ratings?"
   ]
  },
  {
   "cell_type": "markdown",
   "metadata": {},
   "source": [
    "Going beyond whether identical physical stimuli elicit zero dissimilarity, we want to know whether the same pair of colours elicits the same dissimilarity value for a given subject whether it's presented in a CC, CP or PP condition.  \n",
    "  \n",
    "For each colour comparison a subject makes (e.g. RED-BLUE), we will calculate the variance between their CC, CP and PP responses. We will then take the mean variance across all of these colour comparisons for a given subject and use that as a measure of consistency.  \n",
    "  \n",
    "If subjects are choosing randomly, we'd expect them to have a mean variance of three randomly selected values from 0-7, which is ~5.25 (as calculated numerically below).  \n",
    "  \n",
    "We will test to see if the mean variance for each subject is less than 5.25 in data from subjects in the peripherally magnified conditions. As the data is once again bounded we will use a beta-regression again."
   ]
  },
  {
   "cell_type": "code",
   "execution_count": null,
   "metadata": {},
   "outputs": [],
   "source": [
    "h2a <- function(data,vals,summary=FALSE){\n",
    "    data$mean.var <- offset.beta(data$mean.var,max(vals))\n",
    "    \n",
    "    model.test <- stan_betareg(formula = mean.var ~ 1,\n",
    "                              data = data,\n",
    "                              # set the prior based on random responding\n",
    "                              prior_intercept = \n",
    "                                   normal(logit(rand.var.mu/max(vals)),\n",
    "                                          (rand.var.sd/max(vals))),\n",
    "                              iter=10000, # stabilise the estimates\n",
    "                               refresh=0\n",
    "                            )\n",
    "    \n",
    "    if(summary){\n",
    "        print(summary(model.test))\n",
    "    }else{\n",
    "           print(model.test)\n",
    "    }\n",
    "    HPD <- posterior_interval(model.test, prob = 0.95)\n",
    "    print(HPD)    \n",
    "    BF <- bayesfactor_parameters(model.test,null=logit(rand.var.mu/max(vals)))\n",
    "    print(BF)\n",
    "    print(plot(BF, show_intercept=TRUE))\n",
    "    \n",
    "    # Converted back to normalised trace\n",
    "    print(\"\")\n",
    "    print(\"Converted back to Mean Variance\")\n",
    "    intercept <- model.test[[1]][1]\n",
    "    print(paste('Intercept:',round(undo.logit(intercept,max(vals)),2)))\n",
    "    print(paste('HPD:',round(undo.logit(HPD[1,],max(vals)),2)))\n",
    "    \n",
    "    return(model.test)\n",
    "}"
   ]
  },
  {
   "cell_type": "code",
   "execution_count": null,
   "metadata": {},
   "outputs": [],
   "source": [
    "# test all the peripheral magnification data\n",
    "h2a(var.data.mag,vals)"
   ]
  },
  {
   "cell_type": "markdown",
   "metadata": {},
   "source": [
    "#### 2b) Are dissimilarity ratings for colour-pairs presented in the periphery affected by peripheral magnification?"
   ]
  },
  {
   "cell_type": "markdown",
   "metadata": {},
   "source": [
    "Blah"
   ]
  },
  {
   "cell_type": "code",
   "execution_count": 149,
   "metadata": {},
   "outputs": [],
   "source": [
    "h2b <- function(data,summary=FALSE){\n",
    "    data$mean.var <- offset.beta(data$mean.var,max(vals))\n",
    "    \n",
    "    model.test <- stan_betareg(formula = mean.var ~ StimSize + Magnification + StimSize:Magnification,\n",
    "                data = data,\n",
    "                iter=10000, # helps to stabilise the estimates\n",
    "                refresh=0 # removes verbose output\n",
    "                )\n",
    "    \n",
    "    if(summary){\n",
    "        print(summary(model.test))\n",
    "    }else{\n",
    "           print(model.test)\n",
    "    }\n",
    "    HPD <- posterior_interval(model.test, prob = 0.95)\n",
    "    print(HPD)    \n",
    "    BF <- bayesfactor_parameters(model.test)\n",
    "    print(BF)\n",
    "    print(plot(BF, show_intercept=TRUE))\n",
    "    \n",
    "    # Converted back to normalised trace\n",
    "    print(\"\")\n",
    "    print(\"Converted back to Mean Variance\")\n",
    "    interaction <- model.test[[1]][4]\n",
    "    print(paste('Interaction:',round(undo.logit(interaction,max(vals)),2)))\n",
    "    print(paste('HPD:',round(undo.logit(HPD[1,],max(vals)),2)))\n",
    "    \n",
    "    return(model.test)\n",
    "}"
   ]
  },
  {
   "cell_type": "code",
   "execution_count": 152,
   "metadata": {},
   "outputs": [
    {
     "name": "stdout",
     "output_type": "stream",
     "text": [
      "stan_betareg\n",
      " family:       beta [logit, link.phi=identity]\n",
      " formula:      mean.var ~ StimSize + Magnification + StimSize:Magnification\n",
      " observations: 60\n",
      "------\n",
      "                       Median MAD_SD\n",
      "(Intercept)            -0.9    0.2  \n",
      "StimSize               -0.9    0.4  \n",
      "Magnification          -0.2    0.1  \n",
      "StimSize:Magnification  0.1    0.1  \n",
      "(phi)                   8.0    1.5  \n",
      "\n",
      "------\n",
      "* For help interpreting the printed output see ?print.stanreg\n",
      "* For info on the priors used see ?prior_summary.stanreg\n",
      "                             2.5%       97.5%\n",
      "(Intercept)            -1.4100505 -0.43334666\n",
      "StimSize               -1.8170644 -0.09578258\n",
      "Magnification          -0.3536862 -0.03477713\n",
      "StimSize:Magnification -0.1109049  0.41119418\n",
      "(phi)                   5.4693123 11.19849095\n"
     ]
    },
    {
     "name": "stderr",
     "output_type": "stream",
     "text": [
      "Sampling priors, please wait...\n"
     ]
    },
    {
     "name": "stdout",
     "output_type": "stream",
     "text": [
      "Bayes Factor (Savage-Dickey density ratio)\n",
      "\n",
      "Parameter              |     BF\n",
      "-------------------------------\n",
      "(Intercept)            |  26.62\n",
      "StimSize               |   1.74\n",
      "Magnification          |   2.10\n",
      "StimSize:Magnification |  0.177\n",
      "(phi)                  | > 1000\n",
      "\n",
      "* Evidence Against The Null: 0[1] \"\"\n",
      "[1] \"Converted back to Mean Variance\"\n",
      "[1] \"Interaction: 7.89\"\n",
      "[1] \"HPD: 2.88\" \"HPD: 5.78\"\n"
     ]
    },
    {
     "data": {
      "text/plain": [
       "stan_betareg\n",
       " family:       beta [logit, link.phi=identity]\n",
       " formula:      mean.var ~ StimSize + Magnification + StimSize:Magnification\n",
       " observations: 60\n",
       "------\n",
       "                       Median MAD_SD\n",
       "(Intercept)            -0.9    0.2  \n",
       "StimSize               -0.9    0.4  \n",
       "Magnification          -0.2    0.1  \n",
       "StimSize:Magnification  0.1    0.1  \n",
       "(phi)                   8.0    1.5  \n",
       "\n",
       "------\n",
       "* For help interpreting the printed output see ?print.stanreg\n",
       "* For info on the priors used see ?prior_summary.stanreg"
      ]
     },
     "metadata": {},
     "output_type": "display_data"
    },
    {
     "data": {
      "image/png": "[encoded data removed]",
      "text/plain": [
       "plot without title"
      ]
     },
     "metadata": {},
     "output_type": "display_data"
    }
   ],
   "source": [
    "# test all the data\n",
    "h2b(var.data)"
   ]
  },
  {
   "cell_type": "markdown",
   "metadata": {},
   "source": [
    "# Additional Supplementary Figures"
   ]
  },
  {
   "cell_type": "markdown",
   "metadata": {},
   "source": [
    "### Full dissimilarity plot for each participant per group"
   ]
  },
  {
   "cell_type": "code",
   "execution_count": 124,
   "metadata": {},
   "outputs": [],
   "source": [
    "plot.all <- function(datadf,info=TRUE){\n",
    "    size <- sort(unique(datadf$stimulus_radius))\n",
    "    scale <- sort(unique(datadf$peripheral_scale))\n",
    "    for(stim in (size)){\n",
    "        for(mag in (scale)){\n",
    "            data <- (subset(datadf,stimulus_radius == stim & peripheral_scale == mag))\n",
    "            IDs <- sort(unique(data$subject))\n",
    "            n <- length(IDs)\n",
    "            group.label <- paste('Magnification',mag,'Size',stim)\n",
    "            \n",
    "            k=1\n",
    "            plot.list <- list()\n",
    "            for(id in IDs){\n",
    "                #print(id) # testing\n",
    "                subjectdf <- subset(data, subject == id)\n",
    "                plot <- dissimplot.full(color.eccen.mat(dissimdata.subject(subjectdf),\n",
    "                                                       symmeterise=FALSE,sym.CP=FALSE,),\n",
    "                                        dependent='dissimilarity',label=id,\n",
    "                                       info=info)\n",
    "                plot.list[[k]] <- as.grob(plot)\n",
    "                k = k+1\n",
    "                #print(plot) # testing\n",
    "             #   print(k) # testing\n",
    "            }\n",
    "            #print(plot.list) # testing\n",
    "            g <- arrangeGrob(grobs = plot.list, ncol=4)\n",
    "            #print(n) # testing\n",
    "            #print(ceiling(n/3)*5) # testing\n",
    "            ggsave(paste('supfig - Group -',group.label,'- all subjects.png'),g,height=ceiling(n/3)*5,width=22)\n",
    "        }\n",
    "    }\n",
    "}"
   ]
  },
  {
   "cell_type": "code",
   "execution_count": 125,
   "metadata": {},
   "outputs": [],
   "source": [
    "cleandf <- subset(datadf, noncompliant == 0)\n",
    "cleandf <- subset(cleandf, (stimulus_radius == 1) | (stimulus_radius == 0.05))\n",
    "#plot.all(cleandf)\n",
    "plot.all(cleandf,info=FALSE)\n"
   ]
  },
  {
   "cell_type": "markdown",
   "metadata": {},
   "source": [
    "# Sampling Plan"
   ]
  },
  {
   "cell_type": "markdown",
   "metadata": {},
   "source": [
    "## Simulations"
   ]
  },
  {
   "cell_type": "markdown",
   "metadata": {},
   "source": [
    "### Hypothesis 1"
   ]
  },
  {
   "cell_type": "code",
   "execution_count": 30,
   "metadata": {},
   "outputs": [],
   "source": [
    "# helper functions\n",
    "ab2mu <- function(a,b){\n",
    "    return(a / (a + b))\n",
    "}\n",
    "\n",
    "ab2phi <- function(a,b){\n",
    "    return(a + b)\n",
    "}\n",
    "\n",
    "muphi2a <- function(mu,phi){\n",
    "    return(mu*phi)\n",
    "}\n",
    "\n",
    "muphi2b <- function(mu,phi){\n",
    "    return(-mu*phi + phi)\n",
    "}\n",
    "\n"
   ]
  },
  {
   "cell_type": "code",
   "execution_count": 31,
   "metadata": {},
   "outputs": [],
   "source": [
    "# Generate beta distributions\n",
    "gen_beta <- function(mu,phi,samples=20,plot=FALSE){\n",
    "    a <- muphi2a(mu,phi)\n",
    "    b <- muphi2b(mu,phi)\n",
    "    rand.vals <- runif(samples)\n",
    "    beta <- qbeta(rand.vals,a,b)\n",
    "    if(plot){\n",
    "        hist(beta, xlim = c(0,1))\n",
    "    }\n",
    "    return(beta)\n",
    "}"
   ]
  },
  {
   "cell_type": "code",
   "execution_count": 149,
   "metadata": {},
   "outputs": [
    {
     "data": {
      "image/png": "[encoded data removed]",
      "text/plain": [
       "Plot with title \"Histogram of beta\""
      ]
     },
     "metadata": {},
     "output_type": "display_data"
    },
    {
     "data": {
      "image/png": "[encoded data removed]",
      "text/plain": [
       "Plot with title \"Histogram of beta\""
      ]
     },
     "metadata": {},
     "output_type": "display_data"
    }
   ],
   "source": [
    "# Generate distributions for each potential group\n",
    "fix0.05 <- gen_beta(0.5,2,plot=TRUE)\n",
    "fix1 <- gen_beta(0.15,2,plot=TRUE)\n",
    "mag0.05 <- gen_beta(0.15,2)\n",
    "mag1 <- gen_beta(0.15,2)\n",
    "\n",
    "# format the vectors\n",
    "format.group <- function(value,name,stimsize,mag){\n",
    "    df <- as.data.frame(value)\n",
    "    df$name <- name\n",
    "    df$StimSize <- stimsize\n",
    "    df$Magnification <- mag\n",
    "    df$ID <- c(1:nrow(df))\n",
    "    \n",
    "    return(df)\n",
    "}\n"
   ]
  },
  {
   "cell_type": "code",
   "execution_count": 33,
   "metadata": {},
   "outputs": [],
   "source": [
    "# put the samples in a dataframe\n",
    "sim.df <- function(fix0.05,fix1,mag0.05,mag1){\n",
    "    fix0.05df <- format.group(fix0.05,'FIX 0.05','small','fix')\n",
    "    fix1df <- format.group(fix1,'FIX 1','big','fix')\n",
    "    mag0.05df <- format.group(mag0.05,'MAG 0.05','small','mag')\n",
    "    mag1df <- format.group(mag1,'MAG 1','big','mag')\n",
    "    \n",
    "    return(rbind(fix0.05df,fix1df,mag0.05df,mag1df))\n",
    "}\n",
    "sim.data <- sim.df(fix0.05,fix1,mag0.05,mag1)"
   ]
  },
  {
   "cell_type": "code",
   "execution_count": 34,
   "metadata": {},
   "outputs": [
    {
     "data": {
      "text/html": [
       "<table>\n",
       "<thead><tr><th scope=col>value</th><th scope=col>name</th><th scope=col>StimSize</th><th scope=col>Magnification</th></tr></thead>\n",
       "<tbody>\n",
       "\t<tr><td>0.74717487</td><td>FIX 0.05  </td><td>small     </td><td>fix       </td></tr>\n",
       "\t<tr><td>0.40390225</td><td>FIX 0.05  </td><td>small     </td><td>fix       </td></tr>\n",
       "\t<tr><td>0.04761905</td><td>FIX 0.05  </td><td>small     </td><td>fix       </td></tr>\n",
       "\t<tr><td>0.07798267</td><td>FIX 0.05  </td><td>small     </td><td>fix       </td></tr>\n",
       "\t<tr><td>0.55932544</td><td>FIX 0.05  </td><td>small     </td><td>fix       </td></tr>\n",
       "\t<tr><td>0.65112071</td><td>FIX 0.05  </td><td>small     </td><td>fix       </td></tr>\n",
       "</tbody>\n",
       "</table>\n"
      ],
      "text/latex": [
       "\\begin{tabular}{r|llll}\n",
       " value & name & StimSize & Magnification\\\\\n",
       "\\hline\n",
       "\t 0.74717487 & FIX 0.05   & small      & fix       \\\\\n",
       "\t 0.40390225 & FIX 0.05   & small      & fix       \\\\\n",
       "\t 0.04761905 & FIX 0.05   & small      & fix       \\\\\n",
       "\t 0.07798267 & FIX 0.05   & small      & fix       \\\\\n",
       "\t 0.55932544 & FIX 0.05   & small      & fix       \\\\\n",
       "\t 0.65112071 & FIX 0.05   & small      & fix       \\\\\n",
       "\\end{tabular}\n"
      ],
      "text/markdown": [
       "\n",
       "| value | name | StimSize | Magnification |\n",
       "|---|---|---|---|\n",
       "| 0.74717487 | FIX 0.05   | small      | fix        |\n",
       "| 0.40390225 | FIX 0.05   | small      | fix        |\n",
       "| 0.04761905 | FIX 0.05   | small      | fix        |\n",
       "| 0.07798267 | FIX 0.05   | small      | fix        |\n",
       "| 0.55932544 | FIX 0.05   | small      | fix        |\n",
       "| 0.65112071 | FIX 0.05   | small      | fix        |\n",
       "\n"
      ],
      "text/plain": [
       "  value      name     StimSize Magnification\n",
       "1 0.74717487 FIX 0.05 small    fix          \n",
       "2 0.40390225 FIX 0.05 small    fix          \n",
       "3 0.04761905 FIX 0.05 small    fix          \n",
       "4 0.07798267 FIX 0.05 small    fix          \n",
       "5 0.55932544 FIX 0.05 small    fix          \n",
       "6 0.65112071 FIX 0.05 small    fix          "
      ]
     },
     "metadata": {},
     "output_type": "display_data"
    }
   ],
   "source": [
    "# adjust samples so that the lowest values are equivalent to the experiment\n",
    "sim.adjust <- function(df){\n",
    "    df$value[df$value < (1/3)/max.DSR] <- 1/3/max.DSR\n",
    "    return(df)\n",
    "}\n",
    "sim.data <- sim.adjust(sim.data)\n",
    "head(sim.data)"
   ]
  },
  {
   "cell_type": "code",
   "execution_count": 35,
   "metadata": {},
   "outputs": [
    {
     "data": {
      "image/png": "[encoded data removed]",
      "text/plain": [
       "plot without title"
      ]
     },
     "metadata": {},
     "output_type": "display_data"
    }
   ],
   "source": [
    "# plot the dataframe\n",
    "plot.sim <- function(sim.data,histogram=FALSE,hyp=1){\n",
    "    sim.data$value <- sim.data$value*max.DSR\n",
    "    plot <- ggplot(sim.data, aes(x=name, y = value, color = name)) + \n",
    "            geom_violin() +\n",
    "            geom_point(position=position_dodge(width=0.75)) +\n",
    "            #scale_x_discrete(labels=c(\"FIX\",'MAG')) +\n",
    "            theme_bw(base_size = 14) +\n",
    "            theme(legend.title=element_blank()) +\n",
    "            xlab(\"\")\n",
    "            #scale_colour_manual(values = c(\"orange\",'purple'))\n",
    "    if(hyp==1){\n",
    "        plot <- plot + ylim(0,7) +\n",
    "        geom_hline(yintercept=3.5, linetype='dashed') +\n",
    "        ylab(\"Simulated\\nNormalised Trace\") \n",
    "    } else if (hyp==2){\n",
    "        plot <- plot + ylim(0,max(vals)) +\n",
    "        geom_hline(yintercept=rand.var.mu, linetype='dashed') +\n",
    "        ylab(\"Mean Variance\") \n",
    "    }\n",
    "    \n",
    "    return(plot)\n",
    "}\n",
    "plot.sim(sim.data)"
   ]
  },
  {
   "cell_type": "code",
   "execution_count": 36,
   "metadata": {},
   "outputs": [
    {
     "data": {
      "image/png": "[encoded data removed]",
      "text/plain": [
       "plot without title"
      ]
     },
     "metadata": {},
     "output_type": "display_data"
    }
   ],
   "source": [
    "plot.sim.raincloud <- function(df){\n",
    "    \n",
    "    df$value <- logit(df$value)\n",
    "    \n",
    "    plot <- ggplot(df,aes(x=name,y=value,fill=name,colour=name)) +\n",
    "            geom_flat_violin(position = position_nudge(x = 0.25, y = 0),adjust=2,trime=FALSE) +\n",
    "            geom_point(position = position_jitter(width=.15,height=0),size=1) +\n",
    "            geom_boxplot(aes(x=as.numeric(as.factor(name)) + 0.25, y = value),alpha = 0.3, outlier.shape=NA, width = .1, colour = \"BLACK\") +\n",
    "            ylab(\"Simulated Logistic-Transformed\\nNormalised Trace\") + xlab('')+coord_flip()+theme_cowplot()+guides(fill=FALSE) +\n",
    "            theme(axis.text.y=element_blank(),axis.ticks.y=element_blank(),axis.line.y=element_blank(),legend.title=element_blank()) +\n",
    "            geom_hline(yintercept=logit(0.5), linetype='dashed')\n",
    "    \n",
    "    return(plot)\n",
    "}\n",
    "plot.sim.raincloud(sim.data)"
   ]
  },
  {
   "cell_type": "code",
   "execution_count": 37,
   "metadata": {},
   "outputs": [
    {
     "name": "stdout",
     "output_type": "stream",
     "text": [
      "\n",
      "SAMPLING FOR MODEL 'continuous' NOW (CHAIN 1).\n",
      "Chain 1: \n",
      "Chain 1: Gradient evaluation took 0.001 seconds\n",
      "Chain 1: 1000 transitions using 10 leapfrog steps per transition would take 10 seconds.\n",
      "Chain 1: Adjust your expectations accordingly!\n",
      "Chain 1: \n",
      "Chain 1: \n",
      "Chain 1: Iteration:    1 / 2000 [  0%]  (Warmup)\n",
      "Chain 1: Iteration:  200 / 2000 [ 10%]  (Warmup)\n",
      "Chain 1: Iteration:  400 / 2000 [ 20%]  (Warmup)\n",
      "Chain 1: Iteration:  600 / 2000 [ 30%]  (Warmup)\n",
      "Chain 1: Iteration:  800 / 2000 [ 40%]  (Warmup)\n",
      "Chain 1: Iteration: 1000 / 2000 [ 50%]  (Warmup)\n",
      "Chain 1: Iteration: 1001 / 2000 [ 50%]  (Sampling)\n",
      "Chain 1: Iteration: 1200 / 2000 [ 60%]  (Sampling)\n",
      "Chain 1: Iteration: 1400 / 2000 [ 70%]  (Sampling)\n",
      "Chain 1: Iteration: 1600 / 2000 [ 80%]  (Sampling)\n",
      "Chain 1: Iteration: 1800 / 2000 [ 90%]  (Sampling)\n",
      "Chain 1: Iteration: 2000 / 2000 [100%]  (Sampling)\n",
      "Chain 1: \n",
      "Chain 1:  Elapsed Time: 0.545 seconds (Warm-up)\n",
      "Chain 1:                0.755 seconds (Sampling)\n",
      "Chain 1:                1.3 seconds (Total)\n",
      "Chain 1: \n",
      "\n",
      "SAMPLING FOR MODEL 'continuous' NOW (CHAIN 2).\n",
      "Chain 2: \n",
      "Chain 2: Gradient evaluation took 0 seconds\n",
      "Chain 2: 1000 transitions using 10 leapfrog steps per transition would take 0 seconds.\n",
      "Chain 2: Adjust your expectations accordingly!\n",
      "Chain 2: \n",
      "Chain 2: \n",
      "Chain 2: Iteration:    1 / 2000 [  0%]  (Warmup)\n",
      "Chain 2: Iteration:  200 / 2000 [ 10%]  (Warmup)\n",
      "Chain 2: Iteration:  400 / 2000 [ 20%]  (Warmup)\n",
      "Chain 2: Iteration:  600 / 2000 [ 30%]  (Warmup)\n",
      "Chain 2: Iteration:  800 / 2000 [ 40%]  (Warmup)\n",
      "Chain 2: Iteration: 1000 / 2000 [ 50%]  (Warmup)\n",
      "Chain 2: Iteration: 1001 / 2000 [ 50%]  (Sampling)\n",
      "Chain 2: Iteration: 1200 / 2000 [ 60%]  (Sampling)\n",
      "Chain 2: Iteration: 1400 / 2000 [ 70%]  (Sampling)\n",
      "Chain 2: Iteration: 1600 / 2000 [ 80%]  (Sampling)\n",
      "Chain 2: Iteration: 1800 / 2000 [ 90%]  (Sampling)\n",
      "Chain 2: Iteration: 2000 / 2000 [100%]  (Sampling)\n",
      "Chain 2: \n",
      "Chain 2:  Elapsed Time: 0.573 seconds (Warm-up)\n",
      "Chain 2:                0.475 seconds (Sampling)\n",
      "Chain 2:                1.048 seconds (Total)\n",
      "Chain 2: \n",
      "\n",
      "SAMPLING FOR MODEL 'continuous' NOW (CHAIN 3).\n",
      "Chain 3: \n",
      "Chain 3: Gradient evaluation took 0 seconds\n",
      "Chain 3: 1000 transitions using 10 leapfrog steps per transition would take 0 seconds.\n",
      "Chain 3: Adjust your expectations accordingly!\n",
      "Chain 3: \n",
      "Chain 3: \n",
      "Chain 3: Iteration:    1 / 2000 [  0%]  (Warmup)\n",
      "Chain 3: Iteration:  200 / 2000 [ 10%]  (Warmup)\n",
      "Chain 3: Iteration:  400 / 2000 [ 20%]  (Warmup)\n",
      "Chain 3: Iteration:  600 / 2000 [ 30%]  (Warmup)\n",
      "Chain 3: Iteration:  800 / 2000 [ 40%]  (Warmup)\n",
      "Chain 3: Iteration: 1000 / 2000 [ 50%]  (Warmup)\n",
      "Chain 3: Iteration: 1001 / 2000 [ 50%]  (Sampling)\n",
      "Chain 3: Iteration: 1200 / 2000 [ 60%]  (Sampling)\n",
      "Chain 3: Iteration: 1400 / 2000 [ 70%]  (Sampling)\n",
      "Chain 3: Iteration: 1600 / 2000 [ 80%]  (Sampling)\n",
      "Chain 3: Iteration: 1800 / 2000 [ 90%]  (Sampling)\n",
      "Chain 3: Iteration: 2000 / 2000 [100%]  (Sampling)\n",
      "Chain 3: \n",
      "Chain 3:  Elapsed Time: 0.463 seconds (Warm-up)\n",
      "Chain 3:                0.469 seconds (Sampling)\n",
      "Chain 3:                0.932 seconds (Total)\n",
      "Chain 3: \n",
      "\n",
      "SAMPLING FOR MODEL 'continuous' NOW (CHAIN 4).\n",
      "Chain 4: \n",
      "Chain 4: Gradient evaluation took 0 seconds\n",
      "Chain 4: 1000 transitions using 10 leapfrog steps per transition would take 0 seconds.\n",
      "Chain 4: Adjust your expectations accordingly!\n",
      "Chain 4: \n",
      "Chain 4: \n",
      "Chain 4: Iteration:    1 / 2000 [  0%]  (Warmup)\n",
      "Chain 4: Iteration:  200 / 2000 [ 10%]  (Warmup)\n",
      "Chain 4: Iteration:  400 / 2000 [ 20%]  (Warmup)\n",
      "Chain 4: Iteration:  600 / 2000 [ 30%]  (Warmup)\n",
      "Chain 4: Iteration:  800 / 2000 [ 40%]  (Warmup)\n",
      "Chain 4: Iteration: 1000 / 2000 [ 50%]  (Warmup)\n",
      "Chain 4: Iteration: 1001 / 2000 [ 50%]  (Sampling)\n",
      "Chain 4: Iteration: 1200 / 2000 [ 60%]  (Sampling)\n",
      "Chain 4: Iteration: 1400 / 2000 [ 70%]  (Sampling)\n",
      "Chain 4: Iteration: 1600 / 2000 [ 80%]  (Sampling)\n",
      "Chain 4: Iteration: 1800 / 2000 [ 90%]  (Sampling)\n",
      "Chain 4: Iteration: 2000 / 2000 [100%]  (Sampling)\n",
      "Chain 4: \n",
      "Chain 4:  Elapsed Time: 0.491 seconds (Warm-up)\n",
      "Chain 4:                0.515 seconds (Sampling)\n",
      "Chain 4:                1.006 seconds (Total)\n",
      "Chain 4: \n"
     ]
    },
    {
     "data": {
      "text/plain": [
       "stan_betareg\n",
       " family:       beta [logit, link.phi=identity]\n",
       " formula:      value ~ StimSize + Magnification + StimSize:Magnification\n",
       " observations: 80\n",
       "------\n",
       "                               Median MAD_SD\n",
       "(Intercept)                    -1.8    0.2  \n",
       "StimSizesmall                   1.5    0.3  \n",
       "Magnificationmag                0.0    0.3  \n",
       "StimSizesmall:Magnificationmag -1.3    0.4  \n",
       "(phi)                           4.4    0.7  \n",
       "\n",
       "------\n",
       "* For help interpreting the printed output see ?print.stanreg\n",
       "* For info on the priors used see ?prior_summary.stanreg"
      ]
     },
     "metadata": {},
     "output_type": "display_data"
    },
    {
     "name": "stderr",
     "output_type": "stream",
     "text": [
      "Sampling priors, please wait...\n",
      "Loading required namespace: logspline\n"
     ]
    },
    {
     "data": {
      "text/html": [
       "<table>\n",
       "<thead><tr><th></th><th scope=col>Parameter</th><th scope=col>BF</th><th scope=col>Effects</th><th scope=col>Component</th></tr></thead>\n",
       "<tbody>\n",
       "\t<tr><th scope=row>1</th><td>(Intercept)                   </td><td>2.497642e+06                  </td><td>fixed                         </td><td>conditional                   </td></tr>\n",
       "\t<tr><th scope=row>4</th><td>StimSizesmall                 </td><td>7.499373e+02                  </td><td>fixed                         </td><td>conditional                   </td></tr>\n",
       "\t<tr><th scope=row>3</th><td>Magnificationmag              </td><td>1.261951e-01                  </td><td>fixed                         </td><td>conditional                   </td></tr>\n",
       "\t<tr><th scope=row>5</th><td>StimSizesmall:Magnificationmag</td><td>2.502353e+01                  </td><td>fixed                         </td><td>conditional                   </td></tr>\n",
       "\t<tr><th scope=row>2</th><td>(phi)                         </td><td>1.429166e+07                  </td><td>fixed                         </td><td>conditional                   </td></tr>\n",
       "</tbody>\n",
       "</table>\n"
      ],
      "text/latex": [
       "\\begin{tabular}{r|llll}\n",
       "  & Parameter & BF & Effects & Component\\\\\n",
       "\\hline\n",
       "\t1 & (Intercept)                    & 2.497642e+06                   & fixed                          & conditional                   \\\\\n",
       "\t4 & StimSizesmall                  & 7.499373e+02                   & fixed                          & conditional                   \\\\\n",
       "\t3 & Magnificationmag               & 1.261951e-01                   & fixed                          & conditional                   \\\\\n",
       "\t5 & StimSizesmall:Magnificationmag & 2.502353e+01                   & fixed                          & conditional                   \\\\\n",
       "\t2 & (phi)                          & 1.429166e+07                   & fixed                          & conditional                   \\\\\n",
       "\\end{tabular}\n"
      ],
      "text/markdown": [
       "\n",
       "| <!--/--> | Parameter | BF | Effects | Component |\n",
       "|---|---|---|---|---|\n",
       "| 1 | (Intercept)                    | 2.497642e+06                   | fixed                          | conditional                    |\n",
       "| 4 | StimSizesmall                  | 7.499373e+02                   | fixed                          | conditional                    |\n",
       "| 3 | Magnificationmag               | 1.261951e-01                   | fixed                          | conditional                    |\n",
       "| 5 | StimSizesmall:Magnificationmag | 2.502353e+01                   | fixed                          | conditional                    |\n",
       "| 2 | (phi)                          | 1.429166e+07                   | fixed                          | conditional                    |\n",
       "\n"
      ],
      "text/plain": [
       "  Parameter                      BF           Effects Component  \n",
       "1 (Intercept)                    2.497642e+06 fixed   conditional\n",
       "4 StimSizesmall                  7.499373e+02 fixed   conditional\n",
       "3 Magnificationmag               1.261951e-01 fixed   conditional\n",
       "5 StimSizesmall:Magnificationmag 2.502353e+01 fixed   conditional\n",
       "2 (phi)                          1.429166e+07 fixed   conditional"
      ]
     },
     "metadata": {},
     "output_type": "display_data"
    },
    {
     "data": {
      "image/png": "[encoded data removed]",
      "text/plain": [
       "plot without title"
      ]
     },
     "metadata": {},
     "output_type": "display_data"
    }
   ],
   "source": [
    "# Statistical test\n",
    "\n",
    "sim.test <- stan_betareg(formula = value ~ StimSize + Magnification + StimSize:Magnification,\n",
    "                        data = sim.data)\n",
    "sim.test\n",
    "region <- bayesfactor_parameters(sim.test)\n",
    "region\n",
    "plot(region, show_intercept = TRUE)"
   ]
  },
  {
   "cell_type": "code",
   "execution_count": 497,
   "metadata": {},
   "outputs": [],
   "source": [
    "# put everything together\n",
    "run.sim <- function(n=20,vis=0.1,blind=0.4,phi.vis=10,phi.blind=10,hyp=1,\n",
    "                    seed.data=1,seed.test=1,seed.BF=3,\n",
    "                   BF.samples=2,print1=FALSE,print2=FALSE,\n",
    "                   within=TRUE){\n",
    "    \n",
    "    \n",
    "    \n",
    "    # Generate distributions for each potential group\n",
    "    #set.seed(seed.data)\n",
    "    \n",
    "    \n",
    "    #set.seed(seed.BF)\n",
    "    BF.v <- vector()\n",
    "    for(i in 1:BF.samples){\n",
    "        \n",
    "        fix0.05 <- gen_beta(blind,phi.blind, samples=n)\n",
    "        fix1 <- gen_beta(vis,phi.vis, samples=n)\n",
    "        mag0.05 <- gen_beta(vis,phi.vis, samples=n)\n",
    "        mag1 <- gen_beta(vis,phi.vis, samples=n)\n",
    "\n",
    "        sim.data <- sim.df(fix0.05,fix1,mag0.05,mag1)\n",
    "        sim.data <- sim.adjust(sim.data)\n",
    "        \n",
    "        \n",
    "        #set.seed(sample(1:10000, 1, replace=FALSE))\n",
    "        if(within){\n",
    "            sim.test <- stan_glmer(formula = value ~ Magnification + StimSize + StimSize:Magnification + (1|ID),\n",
    "                        data = sim.data,\n",
    "                            #prior_intercept=normal(mean(fix0.05),var(fix0.05)^0.5),\n",
    "                            family = mgcv::betar,\n",
    "                             refresh=0, # suppressed the output\n",
    "                             iter=1000 # improve stability?\n",
    "                            )\n",
    "        } else {\n",
    "            sim.test <- stan_betareg(formula = value ~ Magnification + StimSize + StimSize:Magnification,\n",
    "                        data = sim.data,\n",
    "                            #prior_intercept=normal(mean(fix0.05),var(fix0.05)^0.5),\n",
    "                             refresh=0, # suppressed the output\n",
    "                             iter=1000 # improve stability?\n",
    "                            )\n",
    "        }\n",
    "        \n",
    "        region <- bayesfactor_parameters(sim.test,\n",
    "                                         #parameters='Magnificationmag:StimSizesmall',\n",
    "                                        # direction='<'\n",
    "                                        )\n",
    "        BF.v[i] <- subset(region, Parameter == 'Magnificationmag:StimSizesmall')$BF\n",
    "        if(print1){\n",
    "            print(BF.v[i])\n",
    "            print(plot.sim(sim.data,hyp=hyp))\n",
    "        }\n",
    "    }\n",
    "    \n",
    "    # show the stats test\n",
    "    #set.seed(seed.test)\n",
    "    if(print2){\n",
    "        print(sim.test)\n",
    "        print(region)\n",
    "        print(plot(region, show_intercept = TRUE))\n",
    "    }\n",
    "    \n",
    "    return(BF.v)\n",
    "}"
   ]
  },
  {
   "cell_type": "code",
   "execution_count": 498,
   "metadata": {},
   "outputs": [
    {
     "name": "stderr",
     "output_type": "stream",
     "text": [
      "Sampling priors, please wait...\n"
     ]
    },
    {
     "name": "stdout",
     "output_type": "stream",
     "text": [
      "[1] 9.246035\n",
      "stan_betareg\n",
      " family:       beta [logit, link.phi=identity]\n",
      " formula:      value ~ Magnification + StimSize + StimSize:Magnification\n",
      " observations: 20\n",
      "------\n",
      "                               Median MAD_SD\n",
      "(Intercept)                    -2.0    0.4  \n",
      "Magnificationmag                0.1    0.5  \n",
      "StimSizesmall                   1.7    0.5  \n",
      "Magnificationmag:StimSizesmall -2.0    0.7  \n",
      "(phi)                           7.4    2.4  \n",
      "\n",
      "------\n",
      "* For help interpreting the printed output see ?print.stanreg\n",
      "* For info on the priors used see ?prior_summary.stanreg\n",
      "Bayes Factor (Savage-Dickey density ratio)\n",
      "\n",
      "Parameter                      |     BF\n",
      "---------------------------------------\n",
      "(Intercept)                    | 386.82\n",
      "Magnificationmag               |  0.203\n",
      "StimSizesmall                  |  18.23\n",
      "Magnificationmag:StimSizesmall |   9.25\n",
      "(phi)                          | > 1000\n",
      "\n",
      "* Evidence Against The Null: 0"
     ]
    },
    {
     "data": {
      "image/png": "[encoded data removed]",
      "text/plain": [
       "plot without title"
      ]
     },
     "metadata": {},
     "output_type": "display_data"
    },
    {
     "data": {
      "text/html": [
       "9.24603471076862"
      ],
      "text/latex": [
       "9.24603471076862"
      ],
      "text/markdown": [
       "9.24603471076862"
      ],
      "text/plain": [
       "[1] 9.246035"
      ]
     },
     "metadata": {},
     "output_type": "display_data"
    },
    {
     "data": {
      "image/png": "[encoded data removed]",
      "text/plain": [
       "plot without title"
      ]
     },
     "metadata": {},
     "output_type": "display_data"
    }
   ],
   "source": [
    "run.sim(n=5,vis=0.05,blind=0.32,phi.vis=10,phi.blind=10,\n",
    "        seed.data=1,seed.test=9,seed.BF=26,BF.samples=1,\n",
    "        print1=TRUE,print2=TRUE,\n",
    "       within=FALSE)\n",
    "#run.sim(n=20,vis=0.05,blind=0.32,phi.vis=2.2,phi.blind=2.2,seed.data=1,seed.test=9,seed.BF=26,BF.samples=5)"
   ]
  },
  {
   "cell_type": "markdown",
   "metadata": {},
   "source": [
    "### Hypothesis 2"
   ]
  },
  {
   "cell_type": "code",
   "execution_count": 341,
   "metadata": {},
   "outputs": [],
   "source": [
    "# visualise the distribution of possible variances\n",
    "vis.var <- function(n=100000,log=FALSE){\n",
    "    var.v <- vector()\n",
    "    for(i in 1:n){\n",
    "        entry <- sample(0:7, 3, replace=TRUE)\n",
    "        var.v[i] <- var(entry)\n",
    "    }\n",
    "    print(mean(var.v))\n",
    "    print(median(var.v))\n",
    "    if(log){\n",
    "        return(hist(log(var.v)))\n",
    "    } else{\n",
    "        return(hist(var.v,breaks=16, xlim=c(0,16)))\n",
    "    }\n",
    "    \n",
    "}"
   ]
  },
  {
   "cell_type": "code",
   "execution_count": 342,
   "metadata": {},
   "outputs": [
    {
     "name": "stdout",
     "output_type": "stream",
     "text": [
      "[1] 5.279033\n",
      "[1] 4.333333\n",
      "[1] 5.26533\n",
      "[1] 4.333333\n"
     ]
    },
    {
     "data": {
      "image/png": "[encoded data removed]",
      "text/plain": [
       "Plot with title \"Histogram of var.v\""
      ]
     },
     "metadata": {},
     "output_type": "display_data"
    },
    {
     "data": {
      "image/png": "[encoded data removed]",
      "text/plain": [
       "Plot with title \"Histogram of log(var.v)\""
      ]
     },
     "metadata": {},
     "output_type": "display_data"
    }
   ],
   "source": [
    "vis.var()\n",
    "vis.var(log=TRUE)"
   ]
  },
  {
   "cell_type": "code",
   "execution_count": 521,
   "metadata": {},
   "outputs": [
    {
     "name": "stdout",
     "output_type": "stream",
     "text": [
      "\n",
      "SAMPLING FOR MODEL 'continuous' NOW (CHAIN 1).\n",
      "Chain 1: \n",
      "Chain 1: Gradient evaluation took 0 seconds\n",
      "Chain 1: 1000 transitions using 10 leapfrog steps per transition would take 0 seconds.\n",
      "Chain 1: Adjust your expectations accordingly!\n",
      "Chain 1: \n",
      "Chain 1: \n",
      "Chain 1: Iteration:    1 / 2000 [  0%]  (Warmup)\n",
      "Chain 1: Iteration:  200 / 2000 [ 10%]  (Warmup)\n",
      "Chain 1: Iteration:  400 / 2000 [ 20%]  (Warmup)\n",
      "Chain 1: Iteration:  600 / 2000 [ 30%]  (Warmup)\n",
      "Chain 1: Iteration:  800 / 2000 [ 40%]  (Warmup)\n",
      "Chain 1: Iteration: 1000 / 2000 [ 50%]  (Warmup)\n",
      "Chain 1: Iteration: 1001 / 2000 [ 50%]  (Sampling)\n",
      "Chain 1: Iteration: 1200 / 2000 [ 60%]  (Sampling)\n",
      "Chain 1: Iteration: 1400 / 2000 [ 70%]  (Sampling)\n",
      "Chain 1: Iteration: 1600 / 2000 [ 80%]  (Sampling)\n",
      "Chain 1: Iteration: 1800 / 2000 [ 90%]  (Sampling)\n",
      "Chain 1: Iteration: 2000 / 2000 [100%]  (Sampling)\n",
      "Chain 1: \n",
      "Chain 1:  Elapsed Time: 0.543 seconds (Warm-up)\n",
      "Chain 1:                0.529 seconds (Sampling)\n",
      "Chain 1:                1.072 seconds (Total)\n",
      "Chain 1: \n",
      "\n",
      "SAMPLING FOR MODEL 'continuous' NOW (CHAIN 2).\n",
      "Chain 2: \n",
      "Chain 2: Gradient evaluation took 0 seconds\n",
      "Chain 2: 1000 transitions using 10 leapfrog steps per transition would take 0 seconds.\n",
      "Chain 2: Adjust your expectations accordingly!\n",
      "Chain 2: \n",
      "Chain 2: \n",
      "Chain 2: Iteration:    1 / 2000 [  0%]  (Warmup)\n",
      "Chain 2: Iteration:  200 / 2000 [ 10%]  (Warmup)\n",
      "Chain 2: Iteration:  400 / 2000 [ 20%]  (Warmup)\n",
      "Chain 2: Iteration:  600 / 2000 [ 30%]  (Warmup)\n",
      "Chain 2: Iteration:  800 / 2000 [ 40%]  (Warmup)\n",
      "Chain 2: Iteration: 1000 / 2000 [ 50%]  (Warmup)\n",
      "Chain 2: Iteration: 1001 / 2000 [ 50%]  (Sampling)\n",
      "Chain 2: Iteration: 1200 / 2000 [ 60%]  (Sampling)\n",
      "Chain 2: Iteration: 1400 / 2000 [ 70%]  (Sampling)\n",
      "Chain 2: Iteration: 1600 / 2000 [ 80%]  (Sampling)\n",
      "Chain 2: Iteration: 1800 / 2000 [ 90%]  (Sampling)\n",
      "Chain 2: Iteration: 2000 / 2000 [100%]  (Sampling)\n",
      "Chain 2: \n",
      "Chain 2:  Elapsed Time: 0.512 seconds (Warm-up)\n",
      "Chain 2:                0.572 seconds (Sampling)\n",
      "Chain 2:                1.084 seconds (Total)\n",
      "Chain 2: \n",
      "\n",
      "SAMPLING FOR MODEL 'continuous' NOW (CHAIN 3).\n",
      "Chain 3: \n",
      "Chain 3: Gradient evaluation took 0 seconds\n",
      "Chain 3: 1000 transitions using 10 leapfrog steps per transition would take 0 seconds.\n",
      "Chain 3: Adjust your expectations accordingly!\n",
      "Chain 3: \n",
      "Chain 3: \n",
      "Chain 3: Iteration:    1 / 2000 [  0%]  (Warmup)\n",
      "Chain 3: Iteration:  200 / 2000 [ 10%]  (Warmup)\n",
      "Chain 3: Iteration:  400 / 2000 [ 20%]  (Warmup)\n",
      "Chain 3: Iteration:  600 / 2000 [ 30%]  (Warmup)\n",
      "Chain 3: Iteration:  800 / 2000 [ 40%]  (Warmup)\n",
      "Chain 3: Iteration: 1000 / 2000 [ 50%]  (Warmup)\n",
      "Chain 3: Iteration: 1001 / 2000 [ 50%]  (Sampling)\n",
      "Chain 3: Iteration: 1200 / 2000 [ 60%]  (Sampling)\n",
      "Chain 3: Iteration: 1400 / 2000 [ 70%]  (Sampling)\n",
      "Chain 3: Iteration: 1600 / 2000 [ 80%]  (Sampling)\n",
      "Chain 3: Iteration: 1800 / 2000 [ 90%]  (Sampling)\n",
      "Chain 3: Iteration: 2000 / 2000 [100%]  (Sampling)\n",
      "Chain 3: \n",
      "Chain 3:  Elapsed Time: 0.48 seconds (Warm-up)\n",
      "Chain 3:                0.519 seconds (Sampling)\n",
      "Chain 3:                0.999 seconds (Total)\n",
      "Chain 3: \n",
      "\n",
      "SAMPLING FOR MODEL 'continuous' NOW (CHAIN 4).\n",
      "Chain 4: \n",
      "Chain 4: Gradient evaluation took 0 seconds\n",
      "Chain 4: 1000 transitions using 10 leapfrog steps per transition would take 0 seconds.\n",
      "Chain 4: Adjust your expectations accordingly!\n",
      "Chain 4: \n",
      "Chain 4: \n",
      "Chain 4: Iteration:    1 / 2000 [  0%]  (Warmup)\n",
      "Chain 4: Iteration:  200 / 2000 [ 10%]  (Warmup)\n",
      "Chain 4: Iteration:  400 / 2000 [ 20%]  (Warmup)\n",
      "Chain 4: Iteration:  600 / 2000 [ 30%]  (Warmup)\n",
      "Chain 4: Iteration:  800 / 2000 [ 40%]  (Warmup)\n",
      "Chain 4: Iteration: 1000 / 2000 [ 50%]  (Warmup)\n",
      "Chain 4: Iteration: 1001 / 2000 [ 50%]  (Sampling)\n",
      "Chain 4: Iteration: 1200 / 2000 [ 60%]  (Sampling)\n",
      "Chain 4: Iteration: 1400 / 2000 [ 70%]  (Sampling)\n",
      "Chain 4: Iteration: 1600 / 2000 [ 80%]  (Sampling)\n",
      "Chain 4: Iteration: 1800 / 2000 [ 90%]  (Sampling)\n",
      "Chain 4: Iteration: 2000 / 2000 [100%]  (Sampling)\n",
      "Chain 4: \n",
      "Chain 4:  Elapsed Time: 0.539 seconds (Warm-up)\n",
      "Chain 4:                0.478 seconds (Sampling)\n",
      "Chain 4:                1.017 seconds (Total)\n",
      "Chain 4: \n",
      "stan_betareg\n",
      " family:       beta [logit, link.phi=identity]\n",
      " formula:      value ~ Magnification + StimSize + StimSize:Magnification\n",
      " observations: 80\n",
      "------\n",
      "                               Median MAD_SD\n",
      "(Intercept)                    -2.2    0.3  \n",
      "Magnificationmag               -0.3    0.3  \n",
      "StimSizesmall                   1.7    0.3  \n",
      "Magnificationmag:StimSizesmall -1.8    0.5  \n",
      "(phi)                           3.2    0.6  \n",
      "\n",
      "------\n",
      "* For help interpreting the printed output see ?print.stanreg\n",
      "* For info on the priors used see ?prior_summary.stanreg\n"
     ]
    },
    {
     "name": "stderr",
     "output_type": "stream",
     "text": [
      "Sampling priors, please wait...\n"
     ]
    },
    {
     "name": "stdout",
     "output_type": "stream",
     "text": [
      "Bayes Factor (Savage-Dickey density ratio)\n",
      "\n",
      "Parameter                      |     BF\n",
      "---------------------------------------\n",
      "(Intercept)                    | > 1000\n",
      "Magnificationmag               |  0.217\n",
      "StimSizesmall                  | > 1000\n",
      "Magnificationmag:StimSizesmall | 110.95\n",
      "(phi)                          | > 1000\n",
      "\n",
      "* Evidence Against The Null: 0"
     ]
    },
    {
     "data": {
      "image/png": "[encoded data removed]",
      "text/plain": [
       "plot without title"
      ]
     },
     "metadata": {},
     "output_type": "display_data"
    },
    {
     "data": {
      "image/png": "[encoded data removed]",
      "text/plain": [
       "plot without title"
      ]
     },
     "metadata": {},
     "output_type": "display_data"
    }
   ],
   "source": [
    "run.sim(n=20,vis=0.0625,blind=rand.var.mu/max(vals),phi.vis=5,phi.blind=5,hyp=2)"
   ]
  },
  {
   "cell_type": "markdown",
   "metadata": {},
   "source": [
    "### Alternate analysis method"
   ]
  },
  {
   "cell_type": "markdown",
   "metadata": {},
   "source": [
    "Going to explore what would happen if we instead worked on the transformations:  \n",
    " * CP' = CP - CC\n",
    " * PP' = PP - CC"
   ]
  },
  {
   "cell_type": "code",
   "execution_count": 29,
   "metadata": {},
   "outputs": [
    {
     "name": "stdout",
     "output_type": "stream",
     "text": [
      "$breaks\n",
      " [1] -7 -6 -5 -4 -3 -2 -1  0  1  2  3  4  5  6  7  8\n",
      "\n",
      "$counts\n",
      " [1]  145  350  470  605  839  925 1108 1241 1093  926  762  581  482  319  154\n",
      "\n",
      "$density\n",
      " [1] 0.0145 0.0350 0.0470 0.0605 0.0839 0.0925 0.1108 0.1241 0.1093 0.0926\n",
      "[11] 0.0762 0.0581 0.0482 0.0319 0.0154\n",
      "\n",
      "$mids\n",
      " [1] -6.5 -5.5 -4.5 -3.5 -2.5 -1.5 -0.5  0.5  1.5  2.5  3.5  4.5  5.5  6.5  7.5\n",
      "\n",
      "$xname\n",
      "[1] \"v\"\n",
      "\n",
      "$equidist\n",
      "[1] TRUE\n",
      "\n",
      "attr(,\"class\")\n",
      "[1] \"histogram\"\n"
     ]
    },
    {
     "data": {
      "text/html": [
       "-6.5"
      ],
      "text/latex": [
       "-6.5"
      ],
      "text/markdown": [
       "-6.5"
      ],
      "text/plain": [
       "[1] -6.5"
      ]
     },
     "metadata": {},
     "output_type": "display_data"
    },
    {
     "data": {
      "text/html": [
       "7.5"
      ],
      "text/latex": [
       "7.5"
      ],
      "text/markdown": [
       "7.5"
      ],
      "text/plain": [
       "[1] 7.5"
      ]
     },
     "metadata": {},
     "output_type": "display_data"
    },
    {
     "data": {
      "text/html": [
       "0.4597"
      ],
      "text/latex": [
       "0.4597"
      ],
      "text/markdown": [
       "0.4597"
      ],
      "text/plain": [
       "[1] 0.4597"
      ]
     },
     "metadata": {},
     "output_type": "display_data"
    },
    {
     "data": {
      "text/html": [
       "0.5"
      ],
      "text/latex": [
       "0.5"
      ],
      "text/markdown": [
       "0.5"
      ],
      "text/plain": [
       "[1] 0.5"
      ]
     },
     "metadata": {},
     "output_type": "display_data"
    },
    {
     "data": {
      "text/html": [
       "3.24837360891729"
      ],
      "text/latex": [
       "3.24837360891729"
      ],
      "text/markdown": [
       "3.24837360891729"
      ],
      "text/plain": [
       "[1] 3.248374"
      ]
     },
     "metadata": {},
     "output_type": "display_data"
    },
    {
     "data": {
      "image/png": "[encoded data removed]",
      "text/plain": [
       "Plot with title \"Histogram of v\""
      ]
     },
     "metadata": {},
     "output_type": "display_data"
    }
   ],
   "source": [
    "# calcualte the mean of the difference between two random dissimilarity values chosen n times\n",
    "diff.trans <- function(n=10000,abs=TRUE){\n",
    "    # possible dissimilarity values\n",
    "    dis.v <- c(0:7)\n",
    "    v <- vector()\n",
    "    \n",
    "    for(i in 1:n){\n",
    "        d1 <- sample(dis.v, 1, replace=TRUE)\n",
    "        d2 <- sample(dis.v, 1, replace=TRUE)\n",
    "        if(abs){\n",
    "            v[i] <- abs(d1 - d2)\n",
    "            bins <- 8\n",
    "        } else{\n",
    "            v[i] <- (d1 - d2) + 0.5\n",
    "            bins <- 15\n",
    "        }\n",
    "        \n",
    "    }\n",
    "    print(hist(v, breaks=bins, freq=TRUE))\n",
    "    return(v)\n",
    "}\n",
    "\n",
    "dist <- diff.trans(abs=FALSE)\n",
    "min(dist)\n",
    "max(dist)\n",
    "mean(dist)\n",
    "median(dist)\n",
    "sd(dist)\n"
   ]
  },
  {
   "cell_type": "code",
   "execution_count": null,
   "metadata": {},
   "outputs": [],
   "source": []
  }
 ],
 "metadata": {
  "kernelspec": {
   "display_name": "R",
   "language": "R",
   "name": "ir"
  },
  "language_info": {
   "codemirror_mode": "r",
   "file_extension": ".r",
   "mimetype": "text/x-r-source",
   "name": "R",
   "pygments_lexer": "r",
   "version": "3.6.1"
  }
 },
 "nbformat": 4,
 "nbformat_minor": 4
}
