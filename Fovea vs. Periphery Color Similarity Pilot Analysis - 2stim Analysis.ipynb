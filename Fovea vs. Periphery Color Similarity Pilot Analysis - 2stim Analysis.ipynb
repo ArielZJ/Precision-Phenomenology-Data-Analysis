{
 "cells": [
  {
   "cell_type": "markdown",
   "metadata": {},
   "source": [
    "## Analysis code for 'Are colour experiences the same across the visual field?'\n",
    "### Pre-registration code\n",
    "Written by Ariel Zeleznikow-Johnston, 2021\n",
    "ariel.zeleznikow-johnston@monash.edu  \n",
    "Github link to experiment: https://github.com/ArielZJ/SimilarityColorProject-MultiplePatches  \n",
    "Github link to this analysis code: https://github.com/ArielZJ/Precision-Phenomenology-Data-Analysis"
   ]
  },
  {
   "cell_type": "markdown",
   "metadata": {},
   "source": [
    "### Initialisations"
   ]
  },
  {
   "cell_type": "code",
<<<<<<< HEAD
   "execution_count": 218,
=======
   "execution_count": 5,
>>>>>>> parent of f574fb5 (Added CP condition for H1D&E)
   "metadata": {},
   "outputs": [],
   "source": [
    "filename = \"data/arielmoving.csv\"\n",
    "savestr <- substr(filename,1,nchar(filename)-4) # for saving related files later"
   ]
  },
  {
   "cell_type": "code",
<<<<<<< HEAD
   "execution_count": 219,
=======
   "execution_count": 6,
>>>>>>> parent of f574fb5 (Added CP condition for H1D&E)
   "metadata": {},
   "outputs": [],
   "source": [
    "# various parameters\n",
    "stimuli_number = 9\n",
    "response_type_list = c('during')\n",
    "trial_types = c('during')\n",
    "response_names = c('During')\n",
    "catch_trial_number = 10 # what it's set at at the moment, arbitrary\n",
    "condition_number = 4\n",
    "max.DSR = 7\n",
    "min.DSR = 0"
   ]
  },
  {
   "cell_type": "code",
<<<<<<< HEAD
   "execution_count": 220,
=======
   "execution_count": 7,
>>>>>>> parent of f574fb5 (Added CP condition for H1D&E)
   "metadata": {},
   "outputs": [],
   "source": [
    "trace_cutoff = 2 # mean dissimilarity for physically identical colours must be below this\n",
    "antitrace_cutoff = 3.5 # mean dissimilarity accepted for maximally physically different colours must be above this\n",
    "rt_cutoff = 0 # mean reaction times must be above this\n",
    "score_cutoff=0.77"
   ]
  },
  {
   "cell_type": "code",
<<<<<<< HEAD
   "execution_count": 221,
=======
   "execution_count": 8,
>>>>>>> parent of f574fb5 (Added CP condition for H1D&E)
   "metadata": {},
   "outputs": [],
   "source": [
    "exclude_noncompliant = FALSE"
   ]
  },
  {
   "cell_type": "code",
<<<<<<< HEAD
   "execution_count": 222,
=======
   "execution_count": 9,
>>>>>>> parent of f574fb5 (Added CP condition for H1D&E)
   "metadata": {},
   "outputs": [],
   "source": [
    "# colors for the labels\n",
    "# changed for this mixed version\n",
    "colors <- c('#FF0000','#FFAA00','#AAFF00','#00FF00','#00FFA9',\"#00A9FF\",'#0000FF','#AA00FF',\"#FF00AA\")\n",
    "abcolors <- sort(colors)\n",
    "\n",
    "eccens.colors <- c(\n",
    "    'Fixed #FF0000',\n",
    "    'Fixed #FFAA00',\n",
    "    'Fixed #AAFF00',\n",
    "    'Fixed #00FF00',\n",
    "    'Fixed #00FFA9',\n",
    "    \"Fixed #00A9FF\",\n",
    "    'Fixed #0000FF',\n",
    "    'Fixed #AA00FF',\n",
    "    \"Fixed #FF00AA\",\n",
    "    'Moving #FF0000',\n",
    "    'Moving #FFAA00',\n",
    "    'Moving #AAFF00',\n",
    "    'Moving #00FF00',\n",
    "    'Moving #00FFA9',\n",
    "    \"Moving #00A9FF\",\n",
    "    'Moving #0000FF',\n",
    "    'Moving #AA00FF',\n",
    "    \"Moving #FF00AA\")\n",
    "\n",
    "inverted.colors <-  c('#FF0000','#FF00AA','#AA00FF','#0000FF','#00A9FF','#00FFA9','#00FF00','#AAFF00','#FFAA00')"
   ]
  },
  {
   "cell_type": "markdown",
   "metadata": {},
   "source": [
    "### Initialisations"
   ]
  },
  {
   "cell_type": "code",
<<<<<<< HEAD
   "execution_count": 223,
=======
   "execution_count": 10,
>>>>>>> parent of f574fb5 (Added CP condition for H1D&E)
   "metadata": {},
   "outputs": [],
   "source": [
    "# live dangerously, get rid of pesky warnings\n",
    "oldw <- getOption(\"warn\")\n",
    "options(warn = -1)"
   ]
  },
  {
   "cell_type": "code",
<<<<<<< HEAD
   "execution_count": 224,
   "metadata": {},
   "outputs": [],
   "source": [
    "install.packages(\"plot.matrix\")"
   ]
  },
  {
   "cell_type": "code",
   "execution_count": 225,
=======
   "execution_count": 11,
>>>>>>> parent of f574fb5 (Added CP condition for H1D&E)
   "metadata": {
    "scrolled": true,
    "tags": []
   },
   "outputs": [],
   "source": [
    "shhh <- suppressPackageStartupMessages # stops annoying warnings when loading libraries\n",
    "library(tidyr)\n",
    "library(plyr)\n",
    "library(dplyr)\n",
    "library(ggplot2)\n",
    "library(gridExtra)\n",
    "library(MASS)\n",
    "library(Matrix)\n",
    "library(reshape2)\n",
    "library(ape) # stats\n",
    "library(vegan) # stats\n",
    "library(RColorBrewer)\n",
    "library(cocor)\n",
    "library(DescTools)\n",
    "library(reshape2)\n",
    "library(grid)\n",
    "library(ggplotify)\n",
    "#library(fclust)\n",
    "library(plot.matrix)\n",
    "#library(gtools)\n",
    "library(stringi)\n",
    "#library(Bolstad)\n",
    "#library(olsrr) # for checking violation of regression assumptions\n",
    "library(lmtest) # for likelihood ratio test\n",
    "#library(car) # for logistic transformation\n",
    "#library(betareg) # beta regressions\n",
    "#library(coin) # wilcox power analyses\n",
    "#library(rstatix) # power analyses\n",
    "#library(boot)\n",
    "#library(cowplot) # for making figures\n",
    "#library(readr) # for making figures"
   ]
  },
  {
   "cell_type": "code",
<<<<<<< HEAD
   "execution_count": 226,
=======
   "execution_count": 12,
>>>>>>> parent of f574fb5 (Added CP condition for H1D&E)
   "metadata": {},
   "outputs": [],
   "source": [
    "# getting bayesbr to do the bayesian analysis\n",
    "#library(bayesbr)\n",
    "#library(BayesFactor)\n",
    "#library(brms)\n",
    "#library(rstanarm)\n",
    "#library(bridgesampling)\n",
    "#library(bayestestR)\n",
    "#library(see)\n",
    "#library(bayesplot)"
   ]
  },
  {
   "cell_type": "code",
<<<<<<< HEAD
   "execution_count": 227,
=======
   "execution_count": 13,
>>>>>>> parent of f574fb5 (Added CP condition for H1D&E)
   "metadata": {},
   "outputs": [],
   "source": [
    "# stealing ability to make flat violin plots\n",
    "source(\"https://gist.githubusercontent.com/benmarwick/2a1bb0133ff568cbe28d/raw/fb53bd97121f7f9ce947837ef1a4c65a73bffb3f/geom_flat_violin.R\")"
   ]
  },
  {
   "cell_type": "markdown",
   "metadata": {},
   "source": [
    "### Functions we're going to use to do the analysis later"
   ]
  },
  {
   "cell_type": "markdown",
   "metadata": {},
   "source": [
    "#### Miscellaneous"
   ]
  },
  {
   "cell_type": "code",
<<<<<<< HEAD
   "execution_count": 228,
=======
   "execution_count": 14,
>>>>>>> parent of f574fb5 (Added CP condition for H1D&E)
   "metadata": {},
   "outputs": [],
   "source": [
    "# check our N \n",
    "get_n <- function(datadf){\n",
    "    n <- length(unique(datadf$subject))\n",
    "    print(paste(\"There are\",n,\"unique subjects\"))\n",
    "    return(n)\n",
    "}"
   ]
  },
  {
   "cell_type": "code",
<<<<<<< HEAD
   "execution_count": 229,
=======
   "execution_count": 15,
>>>>>>> parent of f574fb5 (Added CP condition for H1D&E)
   "metadata": {},
   "outputs": [],
   "source": [
    "get_n.grouped <- function(datadf){\n",
    "    size <- sort(unique(datadf$stimulus_radius))\n",
    "    scale <- sort(unique(datadf$Moving_scale))\n",
    "    for(stim in (size)){\n",
    "        for(mag in (scale)){\n",
    "            data <- (subset(datadf,stimulus_radius == stim & Moving_scale == mag))\n",
    "            n <- length(unique(data$subject))\n",
    "            print(paste('Magnification',mag,'Size',stim,' - N =',n))\n",
    "        }\n",
    "    }\n",
    "}"
   ]
  },
  {
   "cell_type": "code",
<<<<<<< HEAD
   "execution_count": 230,
=======
   "execution_count": 16,
>>>>>>> parent of f574fb5 (Added CP condition for H1D&E)
   "metadata": {},
   "outputs": [],
   "source": [
    "# get plot eccentricity labels\n",
    "ploteccen <- function(datadf){\n",
    "    if(datadf$Circle_1[1] == -1){\n",
    "            label1 = 'Fixed'\n",
    "        } else {\n",
    "            label1 = 'Moving'\n",
    "        }\n",
    "        if(datadf$Circle_2[1] == -1){\n",
    "            label2 = 'Fixed'\n",
    "        } else {\n",
    "            label2 = 'Moving'\n",
    "        }\n",
    "    return(c(label1,label2))\n",
    "}\n",
    "\n",
    "e2l <- function(eccentricity){\n",
    "    if(eccentricity == -1){\n",
    "        return('Fixed')\n",
    "    } else {\n",
    "        return('Moving')\n",
    "    }\n",
    "}\n",
    "\n",
    "l2e <- function(eccentricity){\n",
    "    if(eccentricity == 'Fixed'){\n",
    "        return(-1)\n",
    "    } else {\n",
    "        return(1)\n",
    "    }\n",
    "}"
   ]
  },
  {
   "cell_type": "code",
<<<<<<< HEAD
   "execution_count": 231,
=======
   "execution_count": 17,
>>>>>>> parent of f574fb5 (Added CP condition for H1D&E)
   "metadata": {},
   "outputs": [],
   "source": [
    "get.submat <- function(mat,submat){\n",
    "    if(submat == 'CC'){\n",
    "        out.mat <- mat[1:9,1:9]\n",
    "    } else if (submat == 'CP'){\n",
    "        out.mat <- mat[1:9,10:18]\n",
    "    } else if (submat == 'PP'){\n",
    "        out.mat <- mat[10:18,10:18]\n",
    "    }\n",
    "    return(out.mat)\n",
    "}"
   ]
  },
  {
   "cell_type": "markdown",
   "metadata": {},
   "source": [
    "#### Dissimilarity Matrices"
   ]
  },
  {
   "cell_type": "code",
<<<<<<< HEAD
   "execution_count": 232,
=======
   "execution_count": 18,
>>>>>>> parent of f574fb5 (Added CP condition for H1D&E)
   "metadata": {},
   "outputs": [],
   "source": [
    "# obtain dissimilarity matrices with particular eccentricity values from dataframes\n",
    "# doesn't care whether this comes from individual subjects or whole populations\n",
    "dissimdata <- function(datadf, colors, eccentricity1, eccentricity2){\n",
    "    # select only the eccentricities we want to keep, e.g. (Fixed, Fixed)\n",
    "    datatemp = subset(datadf, Circle_1 == eccentricity1)\n",
    "    datatemp = subset(datatemp, Circle_2 == eccentricity2)\n",
    "    \n",
    "    # refactor the levels so they can be plotted properly later if need be\n",
    "    datatemp$Color_1 <- with(datatemp, factor(Color_1, levels = colors))\n",
    "    datatemp$Color_2 <- with(datatemp, factor(Color_2, levels = colors))\n",
    "    \n",
    "    return(datatemp)\n",
    "}"
   ]
  },
  {
   "cell_type": "code",
<<<<<<< HEAD
   "execution_count": 233,
=======
   "execution_count": 19,
>>>>>>> parent of f574fb5 (Added CP condition for H1D&E)
   "metadata": {},
   "outputs": [],
   "source": [
    "# plot a dissimilarity matrix\n",
    "dissimplot <- function(datadf,colors,dependent='color'){\n",
    "    \n",
    "   # labeling the plot eccentricity comparisons\n",
    "    label1 <- ploteccen(datadf)[1]\n",
    "    label2 <- ploteccen(datadf)[2]\n",
    "    \n",
    "    \n",
    "    if(dependent == 'position'){ # use position to generate matrix (as a negative control)\n",
    "        plot <- ggplot(datadf, aes(x = bin1, y = bin2)) +\n",
    "        theme(        axis.title.x = element_blank(), axis.title.y = element_blank(),\n",
    "                      plot.title = element_text(hjust = 0.5)) +\n",
    "                      scale_x_discrete(limits=c(1,2,3,4,5,6,7,8,9)) + scale_y_discrete(limits=c(1,2,3,4,5,6,7,8,9))\n",
    "    } else { # use the colors to generate the matrix\n",
    "        plot <- ggplot(datadf, aes(x = Color_1, y = Color_2)) +\n",
    "        theme(axis.text.x = element_text(colour = colors), axis.text.y = element_text(colour = colors),\n",
    "                      axis.title.x = element_blank(), axis.title.y = element_blank(),\n",
    "                      plot.title = element_text(hjust = 0.5))\n",
    "    }\n",
    "    # stuff that's standard across plot types\n",
    "        plot <- plot + geom_raster(aes(fill = similarity)) +\n",
    "                labs(title = paste(label1, label2, sep = \" - \")) +\n",
    "                scale_fill_gradientn(colours = c(\"white\",\"black\")) +\n",
    "                guides(fill=guide_legend(title=\"Dissimilarity\"))\n",
    "    return(plot)\n",
    "}"
   ]
  },
  {
   "cell_type": "code",
<<<<<<< HEAD
   "execution_count": 234,
=======
   "execution_count": 20,
>>>>>>> parent of f574fb5 (Added CP condition for H1D&E)
   "metadata": {},
   "outputs": [],
   "source": [
    "# making a matrix symmetric. Borrowed from dclone: https://rdrr.io/github/datacloning/dclone/src/R/make.symmetric.R\n",
    "make.symmetric <-function(x)\n",
    "{\n",
    "    if (dim(x)[1] != dim(x)[2])\n",
    "        stop(\"'x' is not a square matrix\")\n",
    "    rval <- t(x)\n",
    "    m <- (x[lower.tri(x)] + rval[lower.tri(rval)]) / 2\n",
    "    rval[lower.tri(rval)] <- m\n",
    "    rval <- t(rval)\n",
    "    rval[lower.tri(rval)] <- m\n",
    "    rval\n",
    "}"
   ]
  },
  {
   "cell_type": "code",
<<<<<<< HEAD
   "execution_count": 235,
=======
   "execution_count": 21,
>>>>>>> parent of f574fb5 (Added CP condition for H1D&E)
   "metadata": {},
   "outputs": [],
   "source": [
    "# obtain dissimilarity dataframe that corresponds to all of a subject's judgements\n",
    "# adds the columns color1.eccen1 and color2.eccen2\n",
    "dissimdata.subject <- function(datadf, diagnose=FALSE){\n",
    "        \n",
    "    # first, get a full label for each trial\n",
    "    datadf <- subset(datadf, trial_type != 'catch') # get rid of catch trials\n",
    "    \n",
    "    datadf$Circle_1[datadf$Circle_1 == -1] <- 'Fixed'\n",
    "    datadf$Circle_2[datadf$Circle_2 == -1] <- 'Fixed'\n",
    "    datadf$Circle_1[datadf$Circle_1 == 1] <- 'Moving'\n",
    "    datadf$Circle_2[datadf$Circle_2 == 1] <- 'Moving'\n",
    "    datadf$color1.eccen1 <- paste(datadf$Circle_1,datadf$Color_1,sep=' ')\n",
    "    datadf$color2.eccen2 <- paste(datadf$Circle_2,datadf$Color_2,sep=' ')\n",
    "    datadf$color1 <- datadf$Color_1\n",
    "    datadf$color2 <- datadf$Color_2\n",
    "\n",
    "    \n",
    "    # refactor the levels so they can be plotted properly later if need be\n",
    "       datadf$color1.eccen1 <- with(datadf, factor(color1.eccen1, levels = eccens.colors))\n",
    "       datadf$color2.eccen2 <- with(datadf, factor(color2.eccen2, levels = eccens.colors))\n",
    "    if(diagnose){print(paste(\"Subject trial number:\", nrow(datadf)))}\n",
    "     \n",
    "    \n",
    "    #print(datadf$color1.eccen1)\n",
    "    return(datadf)\n",
    "}"
   ]
  },
  {
   "cell_type": "code",
<<<<<<< HEAD
   "execution_count": 236,
=======
   "execution_count": 22,
>>>>>>> parent of f574fb5 (Added CP condition for H1D&E)
   "metadata": {},
   "outputs": [],
   "source": [
    "# convert a df to a group of subject matrices\n",
    "dissimgroup2matlist <- function(df,sym=TRUE){\n",
    "    subjectlist <- sort(unique(df$subject)) # obtain a list of all the subjects\n",
    "    mat.list <- list()\n",
    "    k = 1\n",
    "    for(ID in subjectlist){\n",
    "        subjectdf <- subset(df, subject == ID)\n",
    "        subject.mat <- color.eccen.mat(dissimdata.subject(subjectdf), output='matrix',\n",
    "                                       symmeterise=sym,sym.CP=sym)\n",
    "        mat.list[[k]] <- subject.mat\n",
    "        k = k + 1\n",
    "    }\n",
    "    return(mat.list)\n",
    "} "
   ]
  },
  {
   "cell_type": "code",
<<<<<<< HEAD
   "execution_count": 237,
=======
   "execution_count": 23,
>>>>>>> parent of f574fb5 (Added CP condition for H1D&E)
   "metadata": {},
   "outputs": [],
   "source": [
    "# convert a group of matrices to a group mean matrix\n",
    "group.mat.mean <- function(mat.list){\n",
    "    # average the matrices\n",
    "    mat.average <- Reduce('+',mat.list)/length(mat.list)\n",
    "    return(mat.average)\n",
    "}\n",
    "   "
   ]
  },
  {
   "cell_type": "code",
<<<<<<< HEAD
   "execution_count": 238,
=======
   "execution_count": 24,
>>>>>>> parent of f574fb5 (Added CP condition for H1D&E)
   "metadata": {},
   "outputs": [],
   "source": [
    "# convert a group of matrices to a group median matrix\n",
    "group.mat.median <- function(mat.list){\n",
    "    \n",
    "    out.v <- vector()\n",
    "    \n",
    "    n.vals <-length(c(mat.list[[1]]))\n",
    "    n.subjects <- length(mat.list)\n",
    "    for(i in 1:n.vals){\n",
    "        vals <- vector()\n",
    "        for(j in 1:n.subjects){\n",
    "            v <- c(mat.list[[j]])[i]\n",
    "            vals <- c(vals,v)\n",
    "        }\n",
    "        out.v[i] <- median(vals)\n",
    "    }\n",
    "    \n",
    "    out.mat <- matrix(out.v,nrow(mat.list[[1]]),ncol(mat.list[[1]]))\n",
    "    \n",
    "    colnames(out.mat) <- colnames(mat.list[[1]])\n",
    "    rownames(out.mat) <- rownames(mat.list[[1]])\n",
    "    \n",
    "    return(out.mat)\n",
    "}"
   ]
  },
  {
   "cell_type": "code",
<<<<<<< HEAD
   "execution_count": 239,
=======
   "execution_count": 25,
>>>>>>> parent of f574fb5 (Added CP condition for H1D&E)
   "metadata": {},
   "outputs": [],
   "source": [
    "# convert a full matrix to a variance matrix\n",
    "full2var <- function(mat){\n",
    "    # initialise the output variance matrix\n",
    "    var.mat <- matrix(,nrow(mat)/2,ncol(mat)/2)\n",
    "    \n",
    "    # fill the output variance matrix\n",
    "    for(row in 1:(nrow(mat)/2)){\n",
    "        for(column in 1:(ncol(mat)/2)){\n",
    "\n",
    "            CC <- mat[row,column]\n",
    "            CP <- mat[row + nrow(var.mat), column]\n",
    "            PP <- mat[row + nrow(var.mat), column + nrow(var.mat)]\n",
    "            \n",
    "            val <- var(c(CC,CP,PP))\n",
    "            var.mat[row,column] <- val\n",
    "        }\n",
    "    }\n",
    "    colnames(var.mat) <- colors\n",
    "    rownames(var.mat) <- colors\n",
    "    # return\n",
    "    return(var.mat)\n",
    "}"
   ]
  },
  {
   "cell_type": "code",
<<<<<<< HEAD
   "execution_count": 240,
=======
   "execution_count": 26,
>>>>>>> parent of f574fb5 (Added CP condition for H1D&E)
   "metadata": {},
   "outputs": [],
   "source": [
    "# convert a group of full color matrices to a group of within-subject mean color-pair variance matrices\n",
    "full2var.mats <- function(mat.list){\n",
    "    var.list <- list()\n",
    "    for(mat in 1:length(mat.list)){\n",
    "        var.list[[mat]] <- full2var(mat.list[[mat]])\n",
    "    }\n",
    "    return(var.list)\n",
    "}"
   ]
  },
  {
   "cell_type": "code",
<<<<<<< HEAD
   "execution_count": 241,
=======
   "execution_count": 27,
>>>>>>> parent of f574fb5 (Added CP condition for H1D&E)
   "metadata": {},
   "outputs": [],
   "source": [
    "# make a dissimilarity plot for a group of subjects\n",
    "group.dissim <- function(df,sym=FALSE){\n",
    "    mats <- dissimgroup2matlist(df,sym=sym)\n",
    "    avg.mat <- group.mat.mean(mats)\n",
    "    \n",
    "    data <- melt(avg.mat)\n",
    "    colnames(data) <- c('color1.eccen1','color2.eccen2','similarity')\n",
    "    return(data)\n",
    "    \n",
    "    \n",
    "}\n",
    "\n",
    "\n"
   ]
  },
  {
   "cell_type": "code",
<<<<<<< HEAD
   "execution_count": 242,
=======
   "execution_count": 28,
>>>>>>> parent of f574fb5 (Added CP condition for H1D&E)
   "metadata": {},
   "outputs": [],
   "source": [
    "# make a median variance plot for a group of subjects\n",
    "group.dissim.var <- function(df){\n",
    "    mats <- dissimgroup2matlist(df)\n",
    "    mats.var <- full2var.mats(mats)\n",
    "    avg.mat <- group.mat.median(mats.var)\n",
    "    \n",
    "    data <- melt(avg.mat)\n",
    "    colnames(data) <- c('color1.eccen1','color2.eccen2','similarity')\n",
    "    return(data)\n",
    "    \n",
    "    \n",
    "}\n"
   ]
  },
  {
   "cell_type": "code",
<<<<<<< HEAD
   "execution_count": 311,
=======
   "execution_count": 29,
>>>>>>> parent of f574fb5 (Added CP condition for H1D&E)
   "metadata": {},
   "outputs": [],
   "source": [
    "# label the rows with the two colours independent of arbitrary ordering\n",
    "dissimplot.full <- function(datadf, mode='standard',\n",
    "                            rotation=90,dependent='dissimilarity',\n",
    "                           reverse=TRUE,\n",
    "                           label='',info='TRUE'){\n",
    "        \n",
    "    if(dependent=='RT'){\n",
    "        #datadf$similarity <- log10(datadf$similarity)\n",
    "    }\n",
    "    \n",
    "    plot <- ggplot(datadf, aes(x = color1.eccen1, y = color2.eccen2)) \n",
    "    \n",
    "    if(mode=='standard'){\n",
    "        color.list <- c(colors,colors)\n",
    "    } else if (mode=='inversion'){\n",
    "        color.list <- c(colors, inverted.colors)\n",
    "    } else if (mode == 'rotation'){\n",
    "        color.list <- c(colors, rotate.vec(colors,rotation))\n",
    "    }\n",
    "    \n",
    "    \n",
    "    \n",
    "    # dissimilarity plot\n",
    "    if(dependent=='dissimilarity'){\n",
    "        plot <- plot + geom_raster(aes(fill = similarity)) +\n",
    "                scale_fill_gradientn(colours = c(\"white\",\"black\"),\n",
    "                                    limits=c(0,7),\n",
    "                                    breaks=c(0,1,2,3,4,5,6,7),\n",
    "                                    na.value='darkblue') +\n",
    "                guides(fill=guide_legend(title=\"Dissimilarity\"))\n",
    "    }\n",
    "    # reaction time plot\n",
    "    if(dependent=='RT'){\n",
    "        plot <- plot + geom_raster(aes(fill = similarity)) +\n",
    "                scale_fill_gradientn(colours = c(\"white\",\"black\"), trans = \"log\",\n",
    "                                    #limits=c(1000,1600),\n",
    "                                    #limits=c(2.9,3.3),\n",
    "                                    #breaks=c(2.9,3,3.146,3.255,3.3),\n",
    "                                     limits = c(800,2000),\n",
    "                                    breaks=c(800,1000,1400,1800),\n",
    "                                    labels=c(800,1000,1400,1800)\n",
    "                                    ) +\n",
    "                guides(fill=guide_legend(title=\"RT (log)\"))\n",
    "    }\n",
    "    # reverse plot\n",
    "    if(reverse){\n",
    "        plot <- plot + scale_y_discrete(limits = rev(levels(datadf$y)))\n",
    "    }\n",
    "    \n",
    "    if(info){ # labels on\n",
    "        plot <- plot + theme(axis.text.x = element_text(colour=color.list,angle=90),\n",
    "                        axis.text.y = element_text(colour=color.list),\n",
    "                      plot.title = element_text(hjust = 0.5)) +\n",
    "                    ggtitle(label) +\n",
    "                    xlab(\"SCREEN FIXED                    SCREEN MOVE\") + \n",
    "                    ylab(\"RETINA FIXED                    RETINA MOVE\")\n",
    "    } else {  # labels off\n",
    "        plot <- plot + theme(axis.text.x = element_blank(),\n",
    "                        axis.text.y = element_blank(),\n",
    "                      axis.title.x = element_blank(), axis.title.y = element_blank(),\n",
    "                      plot.title = element_blank(), legend.position='none')\n",
    "    } \n",
    "    \n",
    "    return(plot)\n",
    "    \n",
    "}"
   ]
  },
  {
   "cell_type": "code",
<<<<<<< HEAD
   "execution_count": 244,
=======
   "execution_count": 30,
>>>>>>> parent of f574fb5 (Added CP condition for H1D&E)
   "metadata": {},
   "outputs": [],
   "source": [
    "# convert a dataframe to a matrix. Only works on submatrices\n",
    "df2mat.full <- function(datadf,eccentricity1=l2e('Fixed'),eccentricity2=l2e('Fixed'),sym=FALSE){\n",
    " \n",
    "    # select only the eccentricities we want to keep, e.g. (Fixed, Fixed)\n",
    "    datadf <- subset(datadf, Circle_1 == eccentricity1 & Circle_2 == eccentricity2)\n",
    "\n",
    "    # aggregate over the remaining columns of interest\n",
    "    datadf <- aggregate(datadf, by = list(datadf$Color_1, datadf$Color_2),FUN=mean)\n",
    "    datadf$Color_1 <- datadf$Group.1\n",
    "    datadf$Color_2 <- datadf$Group.2\n",
    "\n",
    "    datadf = subset(datadf, select = c(\"Color_1\",\"Color_2\",\"similarity\"))  # get rid of unnecessary columns\n",
    "    datadf <- spread(datadf, Color_1, similarity)\n",
    "    \n",
    "    # convert the dataframe to a matrix\n",
    "    datamatrix <- data.matrix(datadf)\n",
    "    datamatrix <- datamatrix[,-1] # get rid of the labels in the first column, it messes up the code\n",
    "    if(sym){\n",
    "        datamatrix <- make.symmetric(datamatrix) # averaging over Color_1 vs. Color_2 & Color_2 vs. Color_1    \n",
    "    }\n",
    "    rownames(datamatrix) <- colnames(datamatrix)\n",
    "    \n",
    "    # sort the matrix\n",
    "    datamatrix <- datamatrix[, sort(colnames(datamatrix))][sort(rownames(datamatrix)),]\n",
    "    \n",
    "    return(datamatrix)\n",
    "    \n",
    "}"
   ]
  },
  {
   "cell_type": "code",
<<<<<<< HEAD
   "execution_count": 245,
=======
   "execution_count": 31,
>>>>>>> parent of f574fb5 (Added CP condition for H1D&E)
   "metadata": {},
   "outputs": [],
   "source": [
    "# variance plot for matrices\n",
    "variance.plot <- function(mat,\n",
    "                         col1='blue',col2='yellow',na.col='green',\n",
    "                                  legend.title='Variance',\n",
    "                                  xlabel='',ylabel='',\n",
    "                                  low.lim=0,up.lim=10){\n",
    "    if(ncol(mat)<10){\n",
    "        color.list <- colors\n",
    "    } else {\n",
    "        color.list <- c(colors,colors)\n",
    "    }\n",
    "    longData <- melt(mat)\n",
    "    \n",
    "    \n",
    "    plot <- ggplot(longData, aes(x = Var2, y=Var1)) + \n",
    "    geom_raster(aes(fill=value)) +\n",
    "    scale_fill_gradientn(legend.title,colours = c(col1,col2),\n",
    "                         limits = c(low.lim,up.lim), \n",
    "                         breaks=c(low.lim,up.lim),\n",
    "                        na.value=na.col) + \n",
    "    theme(axis.text.x = element_text(colour=color.list,angle=90),\n",
    "                        axis.text.y = element_text(colour=color.list),\n",
    "                      axis.title.x = element_blank(), axis.title.y = element_blank(),\n",
    "                      plot.title = element_text(hjust = 0.5))\n",
    "\n",
    "    return(plot)\n",
    "}\n",
    "    "
   ]
  },
  {
   "cell_type": "code",
<<<<<<< HEAD
   "execution_count": 246,
=======
   "execution_count": 32,
>>>>>>> parent of f574fb5 (Added CP condition for H1D&E)
   "metadata": {},
   "outputs": [],
   "source": [
    "# convert a dataframe to a matrix v2, with some added functionality and without automatic\n",
    "# symmeterisation\n",
    "color.eccen.mat <- function(df,output='DF',mode='identity',rotation=90,plot=FALSE,dependent='dissimilarity',\n",
    "                           symmeterise=TRUE,sym.CP=TRUE,\n",
    "                            diagnose=FALSE){\n",
    "    library('plot.matrix')\n",
    "    if(dependent=='RT'){\n",
    "        df$similarity <- df$response_time\n",
    "    }\n",
    "    data <- subset(df, select = c(color1.eccen1, color2.eccen2, similarity))\n",
    "    if(diagnose){\n",
    "        print(data)\n",
    "    }\n",
    "    #print(head(data)) # testing\n",
    "    data <- spread(data, color1.eccen1, similarity)\n",
    "    #print(data) # testing\n",
    "    row.names <- data$color2.eccen2\n",
    "    data.mat <- data.matrix(data)\n",
    "    rownames(data.mat) <- row.names\n",
    "    data.mat <- data.mat[,-1] # get rid of the redundant first column\n",
    "    \n",
    "    # duplicate missing values\n",
    "    #print(plot(data.mat))\n",
    "    if(symmeterise){\n",
    "        if(sym.CP){ # symmeterise over CP/PC\n",
    "            CP <- data.mat[10:18,1:9]\n",
    "            CP.t <- t(CP)\n",
    "            data.mat[10:18,1:9] <- group.mat.mean(list(CP,CP.t))\n",
    "            data.mat[1:9,10:18] <- t(data.mat[10:18,1:9])\n",
    "        }\n",
    "        # symmeterise the full matrix\n",
    "        data.mat.t <- t(data.mat)\n",
    "        data.mat <- group.mat.mean(list(data.mat,data.mat.t))\n",
    "    }\n",
    "    # perform a label swap\n",
    "    Moving.labels <- c(10:18)\n",
    "    if(mode == 'random'){\n",
    "        swap.vec <- sample(Moving.labels) # pick a random ordering of the Moving labels\n",
    "    } else if (mode == 'rotate'){\n",
    "        swap.vec <- rotate.vec(Moving.labels,rotation=rotation)\n",
    "    } else if (mode == 'invert'){\n",
    "        swap.vec <- match(inverted.colors,colors) + 9\n",
    "    }\n",
    "    if(mode != 'identity'){ # do the swap\n",
    "        data.mat[10:18,] <- data.mat[swap.vec, ] # reorder the rows\n",
    "        data.mat[,10:18] <- data.mat[, swap.vec] # reorder the columns\n",
    "    }\n",
    "        \n",
    "    \n",
    "    # plot the data\n",
    "    if(plot){\n",
    "        plot(data.mat, col=gray.colors(8, start=0, end=1, gamma=0.75, rev=TRUE),\n",
    "         xlab = 'Fovea                                      Periphery',\n",
    "        ylab = 'Fovea                                      Periphery')\n",
    "    }\n",
    "    \n",
    "    # choose output type\n",
    "    if(output == 'DF'){\n",
    "        data <- as.data.frame(as.table(data.mat))\n",
    "        colnames(data) <- c(\"color1.eccen1\",\"color2.eccen2\",\"similarity\")\n",
    "        return(data)\n",
    "    } else if (output == 'matrix'){\n",
    "        return(data.mat)\n",
    "    }\n",
    "}"
   ]
  },
  {
   "cell_type": "code",
<<<<<<< HEAD
   "execution_count": 247,
=======
   "execution_count": 33,
>>>>>>> parent of f574fb5 (Added CP condition for H1D&E)
   "metadata": {},
   "outputs": [],
   "source": [
    "# calculate trace average, small values presumably indicate subjects not just saying everything is completely dissimilar\n",
    "# will also need a complementary method to deal with them saying everything is the same? Might be an inappropriate\n",
    "# a-priori imposition though, I probably can't tell people how similar different colours should be...\n",
    "\n",
    "trace_avg <- function(datadf){\n",
    "    \n",
    "    # first, turn the dataframe into the relevant matrices\n",
    "    fmatrix <- df2mat.full(datadf, l2e('Fixed'), l2e('Fixed'))\n",
    "    fpmatrix <- df2mat.full(datadf, l2e('Fixed'), l2e('Moving'))\n",
    "    pmatrix <- df2mat.full(datadf, l2e('Moving'), l2e('Moving'))\n",
    "    \n",
    "    cc <- sum(diag(fmatrix))/nrow(fmatrix)\n",
    "    cp <- sum(diag(fpmatrix))/nrow(fpmatrix)\n",
    "    pp <- sum(diag(pmatrix))/nrow(pmatrix)\n",
    "    \n",
    "    \n",
    "    return(list(cc,cp,pp))\n",
    "}\n",
    "\n",
    "norm.trace.cc <- function(datadf){\n",
    "    fmatrix <- df2mat.full(datadf, l2e('Fixed'), l2e('Fixed'))\n",
    "    cc <- sum(diag(fmatrix))/nrow(fmatrix)\n",
    "    return(cc)\n",
    "}"
   ]
  },
  {
   "cell_type": "code",
<<<<<<< HEAD
   "execution_count": 248,
=======
   "execution_count": 34,
>>>>>>> parent of f574fb5 (Added CP condition for H1D&E)
   "metadata": {},
   "outputs": [],
   "source": [
    "# obtains a dataframe of traces for subjects\n",
    "trace_obtainer <- function(datadf,type=\"trace\"){\n",
    "    subjectlist <- sort(unique(datadf$subject)) # obtain a list of all the subjects\n",
    "    tracedf <- data.frame(subject=character(),\n",
    "                          fftrace=double(),\n",
    "                          fptrace=double(),\n",
    "                          pptrace=double(),\n",
    "                         stim_size=double(),\n",
    "                         magnification=double()) # initialise an output df for the traces\n",
    "    for (ID in subjectlist){\n",
    "        tempdf <- subset(datadf, subject == ID)\n",
    "        subject_trace <- trace_avg(tempdf)\n",
    "        stim <- unique(tempdf$stimulus_radius)[1]\n",
    "        mag <- unique(tempdf$Moving_scale)[1]\n",
    "        row_df <- data.frame(ID, as.numeric(subject_trace[1]),\n",
    "                             as.numeric(subject_trace[2]),\n",
    "                             as.numeric(subject_trace[3]),\n",
    "                            stim,mag)\n",
    "        names(row_df) <- c(\"subject\",\"CC\",'CP',\"PP\",'StimSize','Magnification')\n",
    "        tracedf<- rbind(tracedf,row_df)\n",
    "    }\n",
    "    return(tracedf)\n",
    "}"
   ]
  },
  {
   "cell_type": "code",
<<<<<<< HEAD
   "execution_count": 249,
=======
   "execution_count": 35,
>>>>>>> parent of f574fb5 (Added CP condition for H1D&E)
   "metadata": {},
   "outputs": [],
   "source": [
    "# get median reaction time\n",
    "rt_avg <- function(datadf){\n",
    "    return(median(datadf$response_time))\n",
    "}"
   ]
  },
  {
   "cell_type": "markdown",
   "metadata": {},
   "source": [
    "Run the analysis"
   ]
  },
  {
   "cell_type": "code",
<<<<<<< HEAD
   "execution_count": 250,
=======
   "execution_count": 36,
>>>>>>> parent of f574fb5 (Added CP condition for H1D&E)
   "metadata": {
    "scrolled": true
   },
   "outputs": [],
   "source": [
    "# function to aggregate everyone's data together\n",
    "aggregate_df <- function(datadf,dependent='color'){\n",
    "\n",
    "    # aggregate everyone's data together for the matrices\n",
    "    everyonedata <- aggregate(datadf, by=list(\n",
    "        datadf$Color_1,\n",
    "        datadf$Color_2,\n",
    "        datadf$Circle_1,\n",
    "        datadf$Circle_2,\n",
    "        datadf$bin1,\n",
    "        datadf$bin2\n",
    "        ), FUN=mean, \n",
    "    )\n",
    "\n",
    "    # correct the column names\n",
    "    everyonedata$Color_1 <- everyonedata$Group.1\n",
    "    everyonedata$Color_2 <- everyonedata$Group.2\n",
    "    everyonedata$Circle_1 <- everyonedata$Group.3\n",
    "    everyonedata$Circle_2 <- everyonedata$Group.4\n",
    "    everyonedata$bin1 <- everyonedata$Group.5\n",
    "    everyonedata$bin2 <- everyonedata$Group.6\n",
    "    \n",
    "    return(everyonedata)\n",
    "}"
   ]
  },
  {
   "cell_type": "code",
<<<<<<< HEAD
   "execution_count": 251,
=======
   "execution_count": 37,
>>>>>>> parent of f574fb5 (Added CP condition for H1D&E)
   "metadata": {},
   "outputs": [],
   "source": [
    "# calculate the catch trial score for a subject\n",
    "catch_score <- function(datadf){\n",
    "    datadf <- subset(datadf, trial_type == 'catch')\n",
    "    datadf$correct <- ifelse(as.character(datadf$similarity) == as.character(datadf$catch_vals), 1, 0) # determine whether they got the catch trials right\n",
    "    score <- sum(datadf$correct)/nrow(datadf) # get the score\n",
    "    return(score)\n",
    "}"
   ]
  },
  {
   "cell_type": "code",
<<<<<<< HEAD
   "execution_count": 252,
=======
   "execution_count": 38,
>>>>>>> parent of f574fb5 (Added CP condition for H1D&E)
   "metadata": {},
   "outputs": [],
   "source": [
    "# catch trial checker\n",
    "catch_trial_checker <- function(datadf){\n",
    "    \n",
    "    subjectlist <- sort(unique(datadf$subject))\n",
    "    print(\"Catch scores\")\n",
    "    for (subjectid in subjectlist){\n",
    "        subjectdf = subset(datadf, subject == subjectid)\n",
    "        \n",
    "        catch_trials <- subset(subjectdf, trial_type == 'catch')\n",
    "        catch_num = nrow(catch_trials)\n",
    "        catch_correct = nrow(subset(catch_trials, as.character(catch_vals) == as.character(similarity))) # had to add the as.character to block a bug, don't know why\n",
    "        \n",
    "        print(paste(\"Subject\",subjectid,\":\",catch_correct,\"/\",catch_num))\n",
    "    }\n",
    "}"
   ]
  },
  {
   "cell_type": "code",
<<<<<<< HEAD
   "execution_count": 253,
=======
   "execution_count": 39,
>>>>>>> parent of f574fb5 (Added CP condition for H1D&E)
   "metadata": {},
   "outputs": [],
   "source": [
    "# screen parameters\n",
    "screen_parameters <- function(datadf,individual=FALSE){\n",
    "    \n",
    "    subjectlist <- sort(unique(datadf$subject))\n",
    "    print(\"Screen Parameters\")\n",
    "    screen_fail = 0\n",
    "    viewing_fail = 0\n",
    "    for (subjectid in subjectlist){\n",
    "\n",
    "        subjectdf = subset(datadf, subject == subjectid)\n",
    "        \n",
    "        screen_size <- round(screen_size(subjectdf)/10,1)\n",
    "        viewing_distance <- round(view_distance(subjectdf)/10,1)\n",
    "        \n",
    "        if(screen_size < 20){screen_fail = screen_fail + 1}\n",
    "        if(viewing_distance < 30){viewing_fail = viewing_fail + 1}\n",
    "        \n",
    "        if(individual){\n",
    "            print(paste(\"Subject\",subjectid,\":\"))\n",
    "            print(paste(\"Screen size:\",screen_size,\"cm\"))\n",
    "            print(paste(\"Viewing distance:\",viewing_distance,\"cm\"))\n",
    "            print(\"\")\n",
    "        }\n",
    "        \n",
    "        \n",
    "    }\n",
    "    print(\"\")\n",
    "    print(paste(\"Screen size issues:\",screen_fail,\"/\",length(subjectlist)))\n",
    "    print(paste(\"Viewing distance issues:\",viewing_fail,\"/\",length(subjectlist)))\n",
    "}"
   ]
  },
  {
   "cell_type": "markdown",
   "metadata": {},
   "source": [
    "#### Multidimensional Scaling Plots"
   ]
  },
  {
   "cell_type": "code",
<<<<<<< HEAD
   "execution_count": 254,
=======
   "execution_count": 40,
>>>>>>> parent of f574fb5 (Added CP condition for H1D&E)
   "metadata": {},
   "outputs": [],
   "source": [
    "# convert a standard matrix to a distance matrix\n",
    "mat2dist <- function(mat){\n",
    "    \n",
    "    return(distmat <- as.dist(mat))\n",
    "}"
   ]
  },
  {
   "cell_type": "markdown",
   "metadata": {},
   "source": [
    "Classical multidimensional scaling"
   ]
  },
  {
   "cell_type": "code",
<<<<<<< HEAD
   "execution_count": 255,
=======
   "execution_count": 41,
>>>>>>> parent of f574fb5 (Added CP condition for H1D&E)
   "metadata": {},
   "outputs": [],
   "source": [
    "# find the cmds fit for a dataset\n",
    "cmdsfit <- function(distmatrix){\n",
    "    \n",
    "    fit <- cmdscale(distmatrix,k=2)\n",
    "    return(fit)\n",
    "}"
   ]
  },
  {
   "cell_type": "code",
<<<<<<< HEAD
   "execution_count": 256,
=======
   "execution_count": 42,
>>>>>>> parent of f574fb5 (Added CP condition for H1D&E)
   "metadata": {},
   "outputs": [],
   "source": [
    "# plot the cmds fit\n",
    "cmdsplot <- function(fit, colors, abcolors, eccentricity1, eccentricity2){\n",
    "    \n",
    "    # get labels\n",
    "    \n",
    "    # change the nmdsfit back to a dataframe\n",
    "    nmdsdf <- as.data.frame(fit)\n",
    "    \n",
    "    plot <-     ggplot(nmdsdf, aes(x = V1, y = V2, color=colors, fill=colors)) + geom_point(size =10) + \n",
    "                scale_colour_manual(values = abcolors) + scale_fill_manual(values = abcolors) + \n",
    "                xlab(\"Dimension 1\") + ylab(\"Dimension 2\") + \n",
    "                ggtitle(paste(e2l(eccentricity1),e2l(eccentricity2),'Classical MDS',sep=' - '))\n",
    "    return(plot)\n",
    "}"
   ]
  },
  {
   "cell_type": "markdown",
   "metadata": {},
   "source": [
    "#### Some control measure plots"
   ]
  },
  {
   "cell_type": "markdown",
   "metadata": {},
   "source": [
    "Reaction time vs. similarity judgements"
   ]
  },
  {
   "cell_type": "code",
<<<<<<< HEAD
   "execution_count": 257,
=======
   "execution_count": 43,
>>>>>>> parent of f574fb5 (Added CP condition for H1D&E)
   "metadata": {},
   "outputs": [],
   "source": [
    "# similarity judgement histogram\n",
    "simhistplot <- function(datadf){\n",
    "    \n",
    "   plot <- ggplot(datadf, aes(x = similarity)) + geom_bar(aes(y = ..prop..)) +\n",
    "    scale_x_discrete(limits=c(0,1,2,3,4,5,6,7), name = 'Dissimilarity') +\n",
    "    ylab('Frequency') + ylim(0,0.8)\n",
    "    return(plot)\n",
    "}\n",
    "\n",
    "simhistplot_summary <- function(datadf,QDM='FULL'){\n",
    "    \n",
    "    if(QDM == 'FP'){\n",
    "        datadf <- subset(datadf, ((Circle_1 == l2e('Fixed') & Circle_2 == l2e('Moving')) |\n",
    "                                 (Circle_1 == l2e('Moving') & Circle_2 == l2e('Fixed'))\n",
    "                                 ))\n",
    "    }\n",
    "    \n",
    "    datadf$subject <- as.character(datadf$subject) # necessary for visualisation\n",
    "    \n",
    "    plot <- ggplot(datadf, aes(x = similarity)) + \n",
    "    geom_line(stat='count',aes(y = ..prop..,group = subject),color='#CC9933') +\n",
    "    geom_line(stat='count',aes(y = ..prop..),size=1.5) +\n",
    "    scale_x_discrete(limits=c(0,1,2,3,4,5,6,7), name = paste(QDM,'Dissimilarity')) +\n",
    "    ylab('Frequency') + ylim(0,0.8)\n",
    "    return(plot)\n",
    "    \n",
    "}"
   ]
  },
  {
   "cell_type": "code",
<<<<<<< HEAD
   "execution_count": 258,
=======
   "execution_count": 44,
>>>>>>> parent of f574fb5 (Added CP condition for H1D&E)
   "metadata": {},
   "outputs": [],
   "source": [
    "# reaction time for each similarity\n",
    "rsplot <- function(datadf){\n",
    "    \n",
    "    plot <- ggplot(datadf, aes(x= similarity, y=response_time)) + \n",
    "    stat_summary(fun.data = mean_se, geom = \"errorbar\", size =0.5, aes(width=0.5)) +\n",
    "    scale_x_discrete(limits=c(0,1,2,3,4,5,6,7), name = 'Dissimilarity') + ylab('Reaction Time (ms)') +\n",
    "    theme(legend.position = \"none\") +\n",
    "    \n",
    "    ylim(0,4000) # anyone taking more than 4 seconds has probably mindwandered\n",
    "    \n",
    "    return(plot)\n",
    "}\n",
    "\n",
    "rsplot_summary <- function(datadf){\n",
    "    \n",
    "    datadf$subject <- as.character(datadf$subject) # necessary for visualisation\n",
    "    \n",
    "    \n",
    "    plot <- ggplot(datadf, aes(x= similarity, y=response_time,group = subject, color = subject)) + \n",
    "    stat_summary(fun.y = mean, geom = \"line\", size=0.8) + \n",
    "    stat_summary(fun.y = mean, geom = \"line\", size=2.5, aes(group=1)) + # add a population summary\n",
    "    #stat_summary(fun.data = mean_se, geom = \"errorbar\", size =0.5, aes(width=0.5)) +\n",
    "    scale_x_discrete(limits=c(0,1,2,3,4,5,6,7), name = 'Dissimilarity') + ylab('Mean Reaction Time (ms)') +\n",
    "    theme(legend.position = \"none\") +\n",
    "    ylim(0,4000) # anyone taking more than 4 seconds has probably mindwandered \n",
    "    \n",
    "    return(plot)\n",
    "    \n",
    "}"
   ]
  },
  {
   "cell_type": "code",
<<<<<<< HEAD
   "execution_count": 259,
=======
   "execution_count": 45,
>>>>>>> parent of f574fb5 (Added CP condition for H1D&E)
   "metadata": {},
   "outputs": [],
   "source": [
    "# mean reaction time vs. catch trial score\n",
    "rt_catch <- function(datadf){\n",
    "    \n",
    "    subjectlist <- sort(unique(datadf$subject)) # obtain a list of all the subjects\n",
    "    \n",
    "    for(ID in subjectlist){\n",
    "        tempdf <- subset(datadf, subject == ID)\n",
    "        datadf$catch_score[datadf$subject == ID] = unlist(catch_score(tempdf),use.names=FALSE)[1]\n",
    "    }\n",
    "        datadf <- aggregate(datadf, by=list(datadf$subject), FUN = mean)\n",
    "    return(datadf)\n",
    "}\n",
    "\n",
    "rt_catch_plot <- function(datadf,xtype='linear',label=FALSE){\n",
    "    \n",
    "    datadf <- rt_catch(datadf)\n",
    "    datadf$subject <- as.character(datadf$subject) # necessary for visualisation\n",
    "    \n",
    "    plot <- ggplot(datadf, aes(x=response_time, y=catch_score)) +\n",
    "            geom_point() + xlab(\"Median Reaction Time\") + ylab(\"Catch Score\")\n",
    "    \n",
    "    if(xtype == 'log'){\n",
    "        plot <- plot + scale_x_continuous(trans='log10')+ xlim(0,5000)\n",
    "    } else{\n",
    "        plot <- plot + xlim(0,5000)\n",
    "    }\n",
    "    plot <- plot + geom_smooth(method=lm) + ylim(0,1) + # linear line of best fit\n",
    "            geom_hline(yintercept=score_cutoff, linetype = 'dashed', color='red') \n",
    "            #geom_vline(xintercept=rt_cutoff, linetype = 'dashed', color='blue')\n",
    "    #plot <- plot + geom_point(aes(color = subject))\n",
    "    if(label){\n",
    "        plot <- plot + geom_text(aes(label = subject),check_overlap=TRUE)\n",
    "    }\n",
    "    return(plot)\n",
    "}\n",
    "\n",
    "rt_hist <- function(datadf){\n",
    "    datadf <- rt_catch(datadf)\n",
    "    mu <- (median(datadf$catch_score))\n",
    "    sd <- (sd(datadf$catch_score))\n",
    "    print(paste(\"Median +/- 1 SD:\",round(mu,2),'+/-',round(mu-sd,2),'to',round(mu+sd,2)))\n",
    "    print(paste(\"Median +/- 2 SD:\",round(mu,2),'+/-',round(mu-sd*2,2),'to',round(mu+sd*2,2)))\n",
    "    plot <- ggplot(datadf, aes(x = catch_score)) + \n",
    "            geom_histogram(binwidth=0.1,colour='black') + xlim(-0.05,1.05) + xlab('Catch Score')\n",
    "    return(plot)\n",
    "}"
   ]
  },
  {
   "cell_type": "code",
<<<<<<< HEAD
   "execution_count": 260,
=======
   "execution_count": 46,
>>>>>>> parent of f574fb5 (Added CP condition for H1D&E)
   "metadata": {},
   "outputs": [],
   "source": [
    "# subject info\n",
    "sumplot <- function(datadf){\n",
    "    \n",
    "    # change ms to s, add the delay for each trial\n",
    "    datadf$response_time <- ((datadf$response_time + 0.125*nrow(datadf)) / 1000)\n",
    "    \n",
    "    plot <- ggplot(datadf, aes(x=subject, y = response_time)) + \n",
    "    stat_summary(fun.y = sum, geom = \"bar\") + ylim(0,1000) +\n",
    "    ylab('Response Time Total') + theme(axis.title.x=element_blank(), axis.text.x = element_text(size=20))\n",
    "    \n",
    "    return(plot)\n",
    "}"
   ]
  },
  {
   "cell_type": "markdown",
   "metadata": {},
   "source": [
    "#### Check their screen size & viewing distance"
   ]
  },
  {
   "cell_type": "code",
<<<<<<< HEAD
   "execution_count": 261,
=======
   "execution_count": 47,
>>>>>>> parent of f574fb5 (Added CP condition for H1D&E)
   "metadata": {},
   "outputs": [],
   "source": [
    "# screen size in mm\n",
    "screen_size <- function(datadf){\n",
    "    \n",
    "    datadf <- subset(datadf, trialcode == 'centermouse') # make sure calibrations have finished first\n",
    "    \n",
    "    width <- as.numeric(substr(as.character(datadf$screen_size_x)[1],1,6))\n",
    "    height <- as.numeric(substr(as.character(datadf$screen_size_y)[1],1,6))\n",
    "    \n",
    "    # use pythagoras to just get the hypotenuse. Subjects have a fixed 16/9 aspect ratio so these are all comparable\n",
    "    return(sqrt(width*width + height*height))\n",
    "}"
   ]
  },
  {
   "cell_type": "code",
<<<<<<< HEAD
   "execution_count": 262,
=======
   "execution_count": 48,
>>>>>>> parent of f574fb5 (Added CP condition for H1D&E)
   "metadata": {},
   "outputs": [],
   "source": [
    "# viewing distance in mm\n",
    "view_distance <- function(datadf){\n",
    "    return(as.numeric(substr(as.character(datadf$viewer_distance)[1],1,6)))\n",
    "}"
   ]
  },
  {
   "cell_type": "code",
<<<<<<< HEAD
   "execution_count": 263,
=======
   "execution_count": 49,
>>>>>>> parent of f574fb5 (Added CP condition for H1D&E)
   "metadata": {},
   "outputs": [],
   "source": [
    "# get a list of subject matrices based on conditions\n",
    "subject.mats <- function(df,scaling,radius){\n",
    "    subset.df <- subset(df, Moving_scale == scaling & stimulus_radius == radius)\n",
    "    group.mats <- dissimgroup2matlist(subset.df)\n",
    "    return(group.mats)\n",
    "}"
   ]
  },
  {
   "cell_type": "markdown",
   "metadata": {},
   "source": [
    "## Preprocessing"
   ]
  },
  {
   "cell_type": "markdown",
   "metadata": {},
   "source": [
    "#### Loading the data"
   ]
  },
  {
   "cell_type": "code",
<<<<<<< HEAD
   "execution_count": 264,
=======
   "execution_count": 50,
>>>>>>> parent of f574fb5 (Added CP condition for H1D&E)
   "metadata": {},
   "outputs": [],
   "source": [
    "datadf = read.csv(filename)\n",
    "savestr <- substr(filename,1,nchar(filename)-4) # for saving related files later\n"
   ]
  },
  {
   "cell_type": "markdown",
   "metadata": {},
   "source": [
    "#### Cleaning the data as per the exclusion criteria"
   ]
  },
  {
   "cell_type": "code",
<<<<<<< HEAD
   "execution_count": 265,
=======
   "execution_count": 51,
>>>>>>> parent of f574fb5 (Added CP condition for H1D&E)
   "metadata": {},
   "outputs": [],
   "source": [
    "# CLEAN THIS UP\n",
    "#weird bug in a subject data for arielzj_fvp_2stim_fixed_point25dva_v2_20_08_30 (1)\n",
    "datadf <- subset(datadf, (subject != 660294531) & (subject != 21721408) & (subject != 238973028))"
   ]
  },
  {
   "cell_type": "code",
<<<<<<< HEAD
   "execution_count": 266,
=======
   "execution_count": 52,
>>>>>>> parent of f574fb5 (Added CP condition for H1D&E)
   "metadata": {},
   "outputs": [],
   "source": [
    "# remove practice trial data\n",
    "datadf <- subset(datadf, blockcode == 'experiment')"
   ]
  },
  {
   "cell_type": "code",
<<<<<<< HEAD
   "execution_count": 267,
=======
   "execution_count": 53,
>>>>>>> parent of f574fb5 (Added CP condition for H1D&E)
   "metadata": {},
   "outputs": [],
   "source": [
    "# changing color values from RGB to hex for graphing purpose\n",
    "datadf$Color_1 <- as.character(datadf$Color_1)\n",
    "datadf$Color_1 <- revalue(datadf$Color_1, \n",
    "                                                    c(  \"1\" = '#FF0000',\n",
    "                                                        \"2\" = '#FFAA00',\n",
    "                                                        \"3\" = '#AAFF00',\n",
    "                                                        \"4\" = '#00FF00',\n",
    "                                                        \"5\" = '#00FFA9',\n",
    "                                                        \"6\" = '#00A9FF',\n",
    "                                                        \"7\" = '#0000FF',\n",
    "                                                        \"8\" = '#AA00FF',\n",
    "                                                        \"9\" = '#FF00AA'))\n",
    "datadf$Color_2 <- as.character(datadf$Color_2)\n",
    "datadf$Color_2 <- revalue(datadf$Color_2, \n",
    "                                                    c(  \"1\" = '#FF0000',\n",
    "                                                        \"2\" = '#FFAA00',\n",
    "                                                        \"3\" = '#AAFF00',\n",
    "                                                        \"4\" = '#00FF00',\n",
    "                                                        \"5\" = '#00FFA9',\n",
    "                                                        \"6\" = '#00A9FF',\n",
    "                                                        \"7\" = '#0000FF',\n",
    "                                                        \"8\" = '#AA00FF',\n",
    "                                                        \"9\" = '#FF00AA'))\n",
    "\n"
   ]
  },
  {
   "cell_type": "code",
<<<<<<< HEAD
   "execution_count": 268,
=======
   "execution_count": 54,
>>>>>>> parent of f574fb5 (Added CP condition for H1D&E)
   "metadata": {},
   "outputs": [],
   "source": [
    "# changing from int indicators in the .csv file to more readable labels for eccentricity\n",
    "Fixed = -1\n",
    "Moving = 1"
   ]
  },
  {
   "cell_type": "code",
<<<<<<< HEAD
   "execution_count": 269,
=======
   "execution_count": 55,
>>>>>>> parent of f574fb5 (Added CP condition for H1D&E)
   "metadata": {},
   "outputs": [],
   "source": [
    "# adding a trial type label\n",
    "label_eccen_type <- function(datadf){\n",
    "    datadf <- datadf %>%\n",
    "    mutate(eccen_type = case_when(Circle_1 == l2e('Fixed') & Circle_2 == l2e('Fixed') ~ 'CC',\n",
    "                             Circle_1 == l2e('Fixed') & Circle_2 == l2e('Moving') ~ 'CP',\n",
    "                             Circle_1 == l2e('Moving') & Circle_2 == l2e('Moving') ~ 'CP'))\n",
    "    return(datadf)\n",
    "}"
   ]
  },
  {
   "cell_type": "code",
<<<<<<< HEAD
   "execution_count": 270,
=======
   "execution_count": 56,
>>>>>>> parent of f574fb5 (Added CP condition for H1D&E)
   "metadata": {},
   "outputs": [],
   "source": [
    "datadf <- label_eccen_type(datadf)"
   ]
  },
  {
   "cell_type": "markdown",
   "metadata": {},
   "source": [
    "Some actual data cleaning"
   ]
  },
  {
   "cell_type": "code",
<<<<<<< HEAD
   "execution_count": 271,
=======
   "execution_count": 57,
>>>>>>> parent of f574fb5 (Added CP condition for H1D&E)
   "metadata": {},
   "outputs": [],
   "source": [
    "# function to throw out  participants who didn't finish\n",
    "remove_incomplete <- function(datadf,stimuli_number){\n",
    "    \n",
    "    subjectlist <- sort(unique(datadf$subject)) # obtain a list of all the subjects\n",
    "    print(paste(length(subjectlist),\"in dataset\"))\n",
    "    print(\"\")\n",
    "    \n",
    "    for (ID in subjectlist){ # go through subject by subject\n",
    "        \n",
    "        trialnumber = stimuli_number*stimuli_number*condition_number + catch_trial_number\n",
    "        \n",
    "        trialsdone <- nrow(subset(datadf, subject == ID))\n",
    "        print(paste(\"Subject\",ID,\"completed\",trialsdone,\"/\",trialnumber))\n",
    "        \n",
    "        if ( trialsdone != trialnumber){ # see if they have the appropriate trial numbers\n",
    "            datadf <- subset(datadf, subject != ID) # dump the subject\n",
    "        }\n",
    "    }\n",
    "    return(datadf)\n",
    "}"
   ]
  },
  {
   "cell_type": "code",
<<<<<<< HEAD
   "execution_count": 272,
=======
   "execution_count": 58,
>>>>>>> parent of f574fb5 (Added CP condition for H1D&E)
   "metadata": {
    "scrolled": true
   },
   "outputs": [
    {
     "name": "stdout",
     "output_type": "stream",
     "text": [
      "[1] \"Screen Parameters\"\n",
      "[1] \"\"\n",
      "[1] \"Screen size issues: 0 / 1\"\n",
      "[1] \"Viewing distance issues: 0 / 1\"\n"
     ]
    }
   ],
   "source": [
    "screen_parameters(datadf)"
   ]
  },
  {
   "cell_type": "code",
<<<<<<< HEAD
   "execution_count": 273,
=======
   "execution_count": 59,
>>>>>>> parent of f574fb5 (Added CP condition for H1D&E)
   "metadata": {
    "tags": []
   },
   "outputs": [
    {
     "name": "stdout",
     "output_type": "stream",
     "text": [
      "[1] \"1 in dataset\"\n",
      "[1] \"\"\n",
      "[1] \"Subject 1 completed 334 / 334\"\n"
     ]
    }
   ],
   "source": [
    "# actually throw out the subjects who didn't complete\n",
    "datadf <- remove_incomplete(datadf,stimuli_number)"
   ]
  },
  {
   "cell_type": "code",
<<<<<<< HEAD
   "execution_count": 274,
=======
   "execution_count": 60,
>>>>>>> parent of f574fb5 (Added CP condition for H1D&E)
   "metadata": {
    "tags": []
   },
   "outputs": [],
   "source": [
    "# function to label participants who meet statistical cleaning assumptions\n",
    "label_noncompliant <- function(datadf,\n",
    "                               screen_size_cutoff=26,viewing_distance_cutoff=30,rt_threshold=rt_cutoff,score_cutoff=0.7){\n",
    "    \n",
    "    subjectlist <- sort(unique(datadf$subject)) # obtain a list of all the subjects\n",
    "    \n",
    "    for (ID in subjectlist){ # go through subject by subject\n",
    "        \n",
    "        subjectdf = subset(datadf, subject == ID) # select the ID for subject of interest \n",
    "        \n",
    "        screen_size <- round(screen_size(subjectdf)/10,1)\n",
    "        viewing_distance <- round(view_distance(subjectdf)/10,1)\n",
    "        catch_score <- catch_score(subjectdf)\n",
    "        \n",
    "        if(catch_score > score_cutoff){ # catch score cutoff\n",
    "            if(screen_size > screen_size_cutoff){ # screen size cutoff\n",
    "                if(viewing_distance > viewing_distance_cutoff){ # viewing distance cutoff\n",
    "                    if(rt_avg(subjectdf) > rt_threshold){ # rt cutoff\n",
    "                        datadf$noncompliant[datadf$subject == ID] = 0\n",
    "                    } else {\n",
    "                        print(paste(\"Subject\",ID,\"reaction time of:\",rt_avg(subjectdf),\"ms\",sep=' ')) # RT fail\n",
    "                        datadf$noncompliant[datadf$subject == ID] = 1\n",
    "                    }\n",
    "                } else {\n",
    "                    print(paste(\"Subject\",ID,\"viewing distance of:\",viewing_distance,\"cm\",sep=' ')) # Viewing distance fail\n",
    "                    datadf$noncompliant[datadf$subject == ID] = 2\n",
    "                }\n",
    "            } else {\n",
    "                print(paste(\"Subject\",ID,\"had a screen size of:\",screen_size,\"cm\",sep=' ')) # Screen size fail\n",
    "                datadf$noncompliant[datadf$subject == ID] = 3\n",
    "            } \n",
    "      } else {\n",
    "            print(paste(\"Subject\",ID,\"had a catch score of: \",catch_score,sep=' ')) # Catch score faile\n",
    "            datadf$noncompliant[datadf$subject == ID] = 4\n",
    "        }\n",
    "    }\n",
    "    print(paste(length(unique(datadf$subject[datadf$noncompliant==0])),\"of\",length(unique(datadf$subject)),\n",
    "                \"were compliant\",sep=' '))\n",
    "    return(datadf)\n",
    "}"
   ]
  },
  {
   "cell_type": "code",
<<<<<<< HEAD
   "execution_count": 275,
=======
   "execution_count": 61,
>>>>>>> parent of f574fb5 (Added CP condition for H1D&E)
   "metadata": {
    "tags": []
   },
   "outputs": [
    {
     "name": "stdout",
     "output_type": "stream",
     "text": [
      "[1] \"Catch scores\"\n",
      "[1] \"Subject 1 : 10 / 10\"\n"
     ]
    }
   ],
   "source": [
    "catch_trial_checker(datadf)"
   ]
  },
  {
   "cell_type": "code",
<<<<<<< HEAD
   "execution_count": 276,
=======
   "execution_count": 62,
>>>>>>> parent of f574fb5 (Added CP condition for H1D&E)
   "metadata": {
    "scrolled": true
   },
   "outputs": [
    {
     "name": "stdout",
     "output_type": "stream",
     "text": [
      "[1] \"1 of 1 were compliant\"\n"
     ]
    }
   ],
   "source": [
    "datadf <- label_noncompliant(datadf)"
   ]
  },
  {
   "cell_type": "code",
<<<<<<< HEAD
   "execution_count": 277,
=======
   "execution_count": 63,
>>>>>>> parent of f574fb5 (Added CP condition for H1D&E)
   "metadata": {},
   "outputs": [],
   "source": [
    "# function to run all these checks at once\n",
    "validation <- function(datadf){\n",
    "    \n",
    "    magnification_list <- sort(unique(datadf$Moving_scale))\n",
    "    size_list <- sort(unique(datadf$stimulus_radius))\n",
    "    \n",
    "    for (stimulus in size_list){\n",
    "        for (scale in magnification_list){\n",
    "            tempdf <- subset(datadf, Moving_scale == scale & stimulus_radius == stimulus)\n",
    "            \n",
    "            print(paste(\"Magnification\",scale,\"Stimulus\",stimulus))\n",
    "            tempdf <- remove_incomplete(tempdf,stimuli_number)\n",
    "            screen_parameters(tempdf, individual=FALSE)\n",
    "            catch_trial_checker(tempdf)\n",
    "            label_noncompliant(tempdf)\n",
    "            print(\"\")\n",
    "            print(\"____________________\")\n",
    "            print(\"\")\n",
    "            \n",
    "        }\n",
    "    }\n",
    "}"
   ]
  },
  {
   "cell_type": "code",
<<<<<<< HEAD
   "execution_count": 278,
=======
   "execution_count": 64,
>>>>>>> parent of f574fb5 (Added CP condition for H1D&E)
   "metadata": {
    "tags": []
   },
   "outputs": [],
   "source": [
    "validation(datadf)"
   ]
  },
  {
   "cell_type": "code",
<<<<<<< HEAD
   "execution_count": 279,
=======
   "execution_count": 65,
>>>>>>> parent of f574fb5 (Added CP condition for H1D&E)
   "metadata": {},
   "outputs": [
    {
     "name": "stdout",
     "output_type": "stream",
     "text": [
      "[1] \"There are 1 unique subjects\"\n"
     ]
    },
    {
     "data": {
      "text/html": [
       "1"
      ],
      "text/latex": [
       "1"
      ],
      "text/markdown": [
       "1"
      ],
      "text/plain": [
       "[1] 1"
      ]
     },
     "metadata": {},
     "output_type": "display_data"
    }
   ],
   "source": [
    "cleandf <- subset(datadf, noncompliant == 0)\n",
    "get_n(cleandf)"
   ]
  },
  {
   "cell_type": "markdown",
   "metadata": {},
   "source": [
    "## Descriptive Statistics"
   ]
  },
  {
   "cell_type": "code",
<<<<<<< HEAD
   "execution_count": 280,
=======
   "execution_count": 66,
>>>>>>> parent of f574fb5 (Added CP condition for H1D&E)
   "metadata": {},
   "outputs": [
    {
     "name": "stdout",
     "output_type": "stream",
     "text": [
      "[1] \"Median +/- 1 SD: 1 +/- NA to NA\"\n",
      "[1] \"Median +/- 2 SD: 1 +/- NA to NA\"\n"
     ]
    },
    {
     "name": "stderr",
     "output_type": "stream",
     "text": [
      "`geom_smooth()` using formula 'y ~ x'\n",
      "\n"
     ]
    },
    {
     "data": {
      "image/png": "iVBORw0KGgoAAAANSUhEUgAAA0gAAANICAMAAADKOT/pAAAAOVBMVEUAAAAzMzNNTU1ZWVlo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\nrkJggg==",
      "text/plain": [
       "plot without title"
      ]
     },
     "metadata": {
      "image/png": {
       "height": 420,
       "width": 420
      }
     },
     "output_type": "display_data"
    },
    {
     "name": "stderr",
     "output_type": "stream",
     "text": [
      "`geom_smooth()` using formula 'y ~ x'\n",
      "\n"
     ]
    },
    {
     "data": {
      "image/png": "iVBORw0KGgoAAAANSUhEUgAAA0gAAANICAMAAADKOT/pAAAAOVBMVEUAAAAzMzNNTU1oaGh8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\nrkJggg==",
      "text/plain": [
       "plot without title"
      ]
     },
     "metadata": {
      "image/png": {
       "height": 420,
       "width": 420
      }
     },
     "output_type": "display_data"
    },
    {
     "data": {
      "image/png": "iVBORw0KGgoAAAANSUhEUgAAA0gAAANICAMAAADKOT/pAAAAOVBMVEUAAAAzMzNNTU1oaGh8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\nrkJggg==",
      "text/plain": [
       "plot without title"
      ]
     },
     "metadata": {
      "image/png": {
       "height": 420,
       "width": 420
      }
     },
     "output_type": "display_data"
    }
   ],
   "source": [
    "# Data quality check.\n",
    "rt_hist(datadf)\n",
    "rt_catch_plot(datadf)\n",
    "rt_catch_plot(cleandf)\n"
   ]
  },
  {
   "cell_type": "markdown",
   "metadata": {},
   "source": [
    "Only using the smallest and largest stimuli for this analysis, so get rid of the other subject groups"
   ]
  },
  {
   "cell_type": "code",
<<<<<<< HEAD
   "execution_count": 281,
=======
   "execution_count": 67,
>>>>>>> parent of f574fb5 (Added CP condition for H1D&E)
   "metadata": {},
   "outputs": [],
   "source": [
    "#cleandf <- subset(cleandf, (stimulus_radius == 1) | (stimulus_radius == 0.05))"
   ]
  },
  {
   "cell_type": "code",
<<<<<<< HEAD
   "execution_count": 282,
=======
   "execution_count": 68,
>>>>>>> parent of f574fb5 (Added CP condition for H1D&E)
   "metadata": {},
   "outputs": [],
   "source": [
    "# invert subjects with a CC normalised trace greater than 3.5\n",
    "# not to be used in the main analysis\n",
    "\n",
    "invert.df <- function(df){\n",
    "    \n",
    "    out.df <- df[0,] # output df\n",
    "    subjectlist <- sort(unique(df$subject)) # obtain a list of all the subjects\n",
    "    for(ID in subjectlist){\n",
    "        tempdf <- subset(df, subject == ID)\n",
    "        if(norm.trace.cc(tempdf) > 3.5){\n",
    "            tempdf$similarity <- abs(tempdf$similarity - max.DSR)\n",
    "        }\n",
    "        out.df <- rbind(out.df,tempdf)\n",
    "    }\n",
    "    return(out.df)\n",
    "}"
   ]
  },
  {
   "cell_type": "code",
<<<<<<< HEAD
   "execution_count": 283,
=======
   "execution_count": 69,
>>>>>>> parent of f574fb5 (Added CP condition for H1D&E)
   "metadata": {},
   "outputs": [],
   "source": [
    "# For the pilot data only - inverting the dissimilarity responses of subjects who misunderstood the task instructions\n",
    "#cleandf <- invert.df(cleandf)"
   ]
  },
  {
   "cell_type": "code",
<<<<<<< HEAD
   "execution_count": 284,
=======
   "execution_count": 70,
>>>>>>> parent of f574fb5 (Added CP condition for H1D&E)
   "metadata": {},
   "outputs": [],
   "source": [
    "# N values\n",
    "get_n.grouped(cleandf)"
   ]
  },
  {
   "cell_type": "code",
<<<<<<< HEAD
   "execution_count": 285,
=======
   "execution_count": 71,
>>>>>>> parent of f574fb5 (Added CP condition for H1D&E)
   "metadata": {},
   "outputs": [],
   "source": [
    "# label the data for plotting\n",
    "label <- function(df,raw=FALSE){\n",
    "    if(raw){\n",
    "        df$label.mag <- NA\n",
    "        df$label.stim <- NA\n",
    "        df$label.combo <- NA\n",
    "        df$label.mag[df$Moving_scale != 1] <- 'MAG'\n",
    "        df$label.mag[df$Moving_scale == 1] <- 'FIX'\n",
    "        df$label.stim[df$stimulus_radius != 1] <- 'SMALL'\n",
    "        df$label.stim[df$stimulus_radius == 1] <- 'BIG'\n",
    "        df$label.combo <- paste(df$label.mag, format((df$label.stim)))\n",
    "    } else{\n",
    "        df$label.mag <- NA\n",
    "        df$label.stim <- NA\n",
    "        df$label.combo <- NA\n",
    "        df$label.mag[df$Magnification != 1] <- 'MAG'\n",
    "        df$label.mag[df$Magnification == 1] <- 'FIX'\n",
    "        df$label.stim[df$StimSize != 1] <- 'SMALL'\n",
    "        df$label.stim[df$StimSize == 1] <- 'BIG'\n",
    "        df$label.combo <- paste(df$label.mag, format((df$label.stim)))\n",
    "    }\n",
    "    \n",
    "    return(df)\n",
    "}"
   ]
  },
  {
   "cell_type": "code",
   "execution_count": 305,
   "metadata": {},
   "outputs": [],
   "source": [
    "# make an MDS visualisation of each group\n",
    "ds.mds <- function(df){\n",
    "    \n",
    "    # keep track of the plots\n",
    "    plot.list <- list()\n",
    "    k = 1\n",
    "    \n",
    "    # generate labels\n",
    "    C <- c(rep('Fixed',9))\n",
    "    P <- c(rep('Moving',9))\n",
    "    Eccentricity <- c(C,P)\n",
    "    colors2 <- c(colors,colors)\n",
    "        \n",
    "    scales <- unique(df$peripheral_scale)\n",
    "    stims <- unique(df$stimulus_radius)\n",
    "    for(scale in scales){\n",
    "        for(stim in stims){\n",
    "            mds.df <- cleandf #subset(cleandf, Moving_scale == scale & stimulus_radius == stim)\n",
    "            mds.data <- dissimgroup2matlist(mds.df,sym=FALSE)\n",
    "            mds.data <- group.mat.mean(mds.data)\n",
    "            mds.data <- mat2dist(mds.data)\n",
    "            mds.data <- cmdsfit(mds.data)\n",
    "            mds.data <- as.data.frame(mds.data)\n",
    "            mds.data$Eccentricity <- Eccentricity\n",
    "            \n",
    "            # get label\n",
    "            #lab <- mds.df$label.combo[1]\n",
    "            #print(mds.data)\n",
    "            \n",
    "            #dissimilarity data plot\n",
    "            #print(head(mds.df))\n",
    "            mds.df <- group.dissim(mds.df,sym=FALSE) # average over the participants\n",
    "            plot <- dissimplot.full(mds.df,\n",
    "                                    dependent='dissimilarity')\n",
    "            plot.list[[k]] <- as.grob(plot)\n",
    "            k = k + 1\n",
    "            \n",
    "            #mds plot\n",
    "            plot <- ggplot(mds.data, aes(x = V1, y = V2, color=colors2)) + geom_point(size =10,aes(shape=Eccentricity)) + \n",
    "                #geom_text(aes(label=tags, vjust=-2)) +\n",
    "                xlab(\"Dimension 1\") + ylab(\"Dimension 2\") + \n",
    "                #ggtitle(lab) + \n",
    "                #theme(legend.position='none') +\n",
    "                scale_colour_identity() +\n",
    "                theme(\n",
    "                      plot.title = element_text(size = 27)\n",
    "                        )\n",
    "            plot.list[[k]] <- as.grob(plot)\n",
    "            k = k + 1\n",
    "            \n",
    "            \n",
    "        }\n",
    "    }\n",
    "    g <- arrangeGrob(grobs = plot.list, ncol=2, nrow=4)\n",
    "    ggsave('descriptive_test.png',g,height=25.7,width=15)\n",
    "    return(g)\n",
    "}\n",
    "#cleandf <- label(cleandf,raw=TRUE)\n"
   ]
  },
  {
   "cell_type": "code",
   "execution_count": 312,
   "metadata": {},
   "outputs": [
    {
     "data": {
      "text/plain": [
       "TableGrob (4 x 2) \"arrange\": 2 grobs\n",
       "  z     cells    name           grob\n",
       "1 1 (1-1,1-1) arrange gtable[layout]\n",
       "2 2 (1-1,2-2) arrange gtable[layout]"
      ]
     },
     "metadata": {},
     "output_type": "display_data"
    }
   ],
   "source": [
    "ds.mds(cleandf)"
   ]
  },
  {
   "cell_type": "markdown",
   "metadata": {},
   "source": [
    "## Analysis Plan"
   ]
  },
  {
   "cell_type": "markdown",
   "metadata": {},
   "source": [
    "### Visualisation of Hypothesis 1 Data"
   ]
  },
  {
   "cell_type": "markdown",
   "metadata": {},
   "source": [
    "#### Useful functions"
   ]
  },
  {
   "cell_type": "code",
   "execution_count": 72,
   "metadata": {},
   "outputs": [],
   "source": [
    "# function to perform boundary offsets for beta-distributed data\n",
    "# suggested by http://doi.apa.org/getdoi.cfm?doi=10.1037/1082-989X.11.1.54\n",
    "offset.beta <- function(vector, max.DSR){\n",
    "    offset <- (vector * (length(vector)-1) + 0.5) / length(vector)\n",
    "    return(offset/max.DSR)\n",
    "}"
   ]
  },
  {
   "cell_type": "code",
   "execution_count": 202,
   "metadata": {},
   "outputs": [],
   "source": [
    "# plot the data\n",
    "fig5b <- function(df,save=TRUE){\n",
    "    \n",
    "    plot.df <- pivot_longer(data = df, cols = c(CC,CP,PP), names_to = 'Comparison')\n",
    "    #plot.df$StimSize <- as.character(plot.df$StimSize)\n",
    "    #plot.df$Magnification <- as.character(plot.df$Magnification)\n",
    "    median <- median(subset(plot.df,Comparison=='PP')$value) # for connecting to hypothesis 1b\n",
    "    \n",
    "    plot <- ggplot(plot.df,aes(x = Comparison, y = value, \n",
    "                         #color = Magnification, \n",
    "                         #fill = StimSize\n",
    "                         colour = label.combo\n",
    "                                ),\n",
    "                    size = 0.7) +\n",
    "        geom_boxplot() +\n",
    "        guides(colour=guide_legend(title=\"Stimulus\\nSize\")) +\n",
    "        #scale_colour_manual(values = c(\"red\",\"blue\")) + \n",
    "        #scale_fill_manual(values = c(\"#E67E22\",\"#1ABC9C\"))\n",
    "        geom_point(position=position_dodge(width=0.75)) +\n",
    "        geom_hline(yintercept=3.5, linetype='dashed') +\n",
    "        #geom_hline(yintercept=median, linetype = 'dashed',color='blue') +\n",
    "        ylim(0,7) +\n",
    "        theme_bw(base_size = 14) +\n",
    "        xlab(\"\") +\n",
    "        #ylab(\"Normalised Trace\") +\n",
    "        scale_y_continuous(name='Normalised Trace',\n",
    "                         breaks=c(0,1,2,3,4,5,6,7),\n",
    "                         labels=c(0,1,2,3,4,5,6,7),\n",
    "                         limits=c(0,7)) +\n",
    "        scale_colour_brewer(palette='Dark2')\n",
    "    \n",
    "    \n",
    "    if(save){\n",
    "        ggsave('fig5b.png',plot,height=2.8,width=4)\n",
    "    }\n",
    "    return(plot)\n",
    "}"
   ]
  },
  {
   "cell_type": "code",
   "execution_count": 203,
   "metadata": {},
   "outputs": [],
   "source": [
    "fig5c <- function(df){\n",
    "    \n",
    "    plot.df <- pivot_longer(data = df, cols = c(CC,CP,PP), names_to = 'Comparison')\n",
    "    plot.df$value <- (plot.df$value)/max.DSR\n",
    "\n",
    "    plot <- ggplot(plot.df, aes(x = value, fill=Comparison)) + \n",
    "        geom_density(aes(x=value,y=..scaled../3),alpha=0.375) +\n",
    "        geom_histogram(aes(x=value,y=stat(count)/sum(count)*3), colour='black', binwidth=0.05,position=\"identity\",alpha=0.5) +\n",
    "        geom_vline(xintercept=0.5, linetype='dashed') +\n",
    "        xlab(\"Scaled Normalised Trace\") +\n",
    "        ylab(\"Density\")\n",
    "        \n",
    "    ggsave('fig5c.png',plot,height=2.8,width=4)\n",
    "    return(plot)\n",
    "}"
   ]
  },
  {
   "cell_type": "code",
   "execution_count": 204,
   "metadata": {},
   "outputs": [],
   "source": [
    "fig5c.rainbow <- function(df){\n",
    "    \n",
    "    plot.df <- pivot_longer(data = df, cols = c(CC,CP,PP), names_to = 'Comparison')\n",
    "    plot.df$value <- (plot.df$value)/max.DSR\n",
    "    \n",
    "    plot <- ggplot(plot.df,aes(x=Comparison,y=value,fill=Comparison,colour=Comparison)) +\n",
    "            geom_flat_violin(position = position_nudge(x = 0.25, y = 0),adjust=2,trime=FALSE) +\n",
    "            geom_point(position = position_jitter(width=.15,height=0),size=1) +\n",
    "            geom_boxplot(aes(x=as.numeric(as.factor(Comparison)) + 0.25, y = value),alpha = 0.3, outlier.shape=NA, width = .1, colour = \"BLACK\") +\n",
    "            ylab('Scaled Normalised Trace') + xlab('')+coord_flip()+theme_cowplot()+guides(fill=FALSE) +\n",
    "            theme(axis.text.y=element_blank(),axis.ticks.y=element_blank(),legend.title=element_blank()) +\n",
    "            geom_hline(yintercept=0.5, linetype='dashed') + geom_hline(yintercept=1.05)\n",
    "    \n",
    "    ggsave('fig5c_rainbow.png',plot,height=2.8,width=4)\n",
    "    return(plot)\n",
    "}"
   ]
  },
  {
   "cell_type": "code",
   "execution_count": 205,
   "metadata": {},
   "outputs": [],
   "source": [
    "fig5d.rainbow <- function(df){\n",
    "    \n",
    "    plot.df <- pivot_longer(data = df, cols = c(CC,CP,PP), names_to = 'Comparison')\n",
    "    plot.df$value <- logit(offset.beta(plot.df$value,max.DSR))\n",
    "    \n",
    "    #pal <- c('#E67E22','#2ECC71','#B0B901')\n",
    "    \n",
    "    plot <- ggplot(plot.df,aes(x=Comparison,y=value,fill=Comparison,colour=Comparison)) +\n",
    "            geom_flat_violin(position = position_nudge(x = 0.25, y = 0),adjust=2,trime=FALSE) +\n",
    "            geom_point(position = position_jitter(width=.15,height=0),size=1) +\n",
    "            geom_boxplot(aes(x=as.numeric(as.factor(Comparison)) + 0.25, y = value),alpha = 0.3, outlier.shape=NA, width = .1, colour = \"BLACK\") +\n",
    "            ylab('Logistic-Transformed\\nNormalised Trace') + xlab('')+coord_flip()+theme_cowplot()+guides(fill=FALSE) +\n",
    "            theme(axis.text.y=element_blank(),axis.ticks.y=element_blank(),axis.line.y=element_blank(),legend.title=element_blank()) +\n",
    "            geom_hline(yintercept=logit(0.5), linetype='dashed') + ylim(-7.5,7.5)# +\n",
    "            #scale_fill_manual(values=pal) + scale_colour_manual(values=pal)\n",
    "    \n",
    "    ggsave('fig5d_rainbow.png',plot,height=2.8,width=4)\n",
    "    return(plot)\n",
    "}"
   ]
  },
  {
   "cell_type": "code",
   "execution_count": 206,
   "metadata": {},
   "outputs": [],
   "source": [
    "fig5f.rainbow <- function(df){\n",
    "    plot.df <- pivot_longer(data = df, cols = c(CC,CP,PP), names_to = 'Comparison')\n",
    "    plot.df <- subset(plot.df, Comparison == 'PP') # only keeping PP data\n",
    "    plot.df$value <- logit(offset.beta(plot.df$value,max.DSR))\n",
    "        \n",
    "    plot <- ggplot(plot.df,aes(x=label.combo,y=value,fill=label.combo,colour=label.combo)) +\n",
    "            geom_flat_violin(position = position_nudge(x = 0.25, y = 0),adjust=2,trime=FALSE) +\n",
    "            geom_point(position = position_jitter(width=.15,height=0),size=1) +\n",
    "            geom_boxplot(aes(x=as.numeric(as.factor(label.combo)) + 0.25, y = value),alpha = 0.3, outlier.shape=NA, width = .1, colour = \"BLACK\") +\n",
    "            xlab('')+coord_flip()+theme_cowplot()+guides(fill=FALSE) +\n",
    "            geom_hline(yintercept=logit(0.5), linetype='dashed') +\n",
    "            ylab(\"Logistic-Transformed\\nNormalised Trace\") + \n",
    "            theme(axis.text.y=element_blank(),axis.ticks.y=element_blank(),axis.line.y=element_blank(),legend.title=element_blank()) +\n",
    "            ylim(-7.5,7.5)  +\n",
    "            scale_fill_brewer(palette='Dark2') + scale_colour_brewer(palette='Dark2')\n",
    "    \n",
    "    ggsave('fig5f_rainbow.png',plot,height=2.8,width=4)\n",
    "    return(plot)\n",
    "}"
   ]
  },
  {
   "cell_type": "markdown",
   "metadata": {},
   "source": [
    "#### Do the visualisations"
   ]
  },
  {
   "cell_type": "code",
   "execution_count": 207,
   "metadata": {},
   "outputs": [],
   "source": [
    "# obtain the data\n",
    "trace.df <- trace_obtainer(cleandf)\n"
   ]
  },
  {
   "cell_type": "code",
   "execution_count": 208,
   "metadata": {},
   "outputs": [],
   "source": [
    "# label the data\n",
    "trace.df <- label(trace.df)"
   ]
  },
  {
   "cell_type": "code",
   "execution_count": 209,
   "metadata": {},
   "outputs": [],
   "source": [
    "# obtain the relevant data\n",
    "trace.df.mag <- subset(trace.df, Magnification != 1)\n",
    "#head(trace.df)"
   ]
  },
  {
   "cell_type": "code",
   "execution_count": 210,
   "metadata": {},
   "outputs": [
    {
     "name": "stderr",
     "output_type": "stream",
     "text": [
      "Scale for 'y' is already present. Adding another scale for 'y', which will\n",
      "replace the existing scale.\n"
     ]
    },
    {
     "data": {
      "image/png": "iVBORw0KGgoAAAANSUhEUgAAA0gAAANICAMAAADKOT/pAAAAbFBMVEUAAAAbnnczMzNNTU1o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\nAv8H9JTYalGBnoYAAAAASUVORK5CYII=",
      "text/plain": [
       "plot without title"
      ]
     },
     "metadata": {},
     "output_type": "display_data"
    }
   ],
   "source": [
    "# plot the full data data\n",
    "fig5b(trace.df)"
   ]
  },
  {
   "cell_type": "code",
   "execution_count": 211,
   "metadata": {},
   "outputs": [],
   "source": [
    "#fig5c(trace.df.mag)"
   ]
  },
  {
   "cell_type": "code",
   "execution_count": 212,
   "metadata": {},
   "outputs": [],
   "source": [
    "#fig5c.rainbow(trace.df.mag)"
   ]
  },
  {
   "cell_type": "code",
   "execution_count": 213,
   "metadata": {},
   "outputs": [],
   "source": [
    "#fig5d(trace.df.mag)"
   ]
  },
  {
   "cell_type": "code",
   "execution_count": 214,
   "metadata": {},
   "outputs": [
    {
     "data": {
      "image/png": "iVBORw0KGgoAAAANSUhEUgAAA0gAAANICAMAAADKOT/pAAAAQlBMVEUAAAAAujhNTU1hnP9o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\nAAAASUVORK5CYII=",
      "text/plain": [
       "plot without title"
      ]
     },
     "metadata": {},
     "output_type": "display_data"
    }
   ],
   "source": [
    "fig5d.rainbow(trace.df.mag)"
   ]
  },
  {
   "cell_type": "code",
   "execution_count": 215,
   "metadata": {},
   "outputs": [],
   "source": [
    "#fig5e(trace.df)"
   ]
  },
  {
   "cell_type": "code",
   "execution_count": 216,
   "metadata": {},
   "outputs": [],
   "source": [
    "#fig5e.rainbow(trace.df)"
   ]
  },
  {
   "cell_type": "code",
   "execution_count": 217,
   "metadata": {},
   "outputs": [],
   "source": [
    "#fig5f(trace.df)"
   ]
  },
  {
   "cell_type": "code",
   "execution_count": 218,
   "metadata": {},
   "outputs": [
    {
     "data": {
      "image/png": "iVBORw0KGgoAAAANSUhEUgAAA0gAAANICAMAAADKOT/pAAAASFBMVEUAAAAbnndNTU1oaGh1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\nEECQAAEECRDw/wbKf+ALMR6SAAAAAElFTkSuQmCC",
      "text/plain": [
       "plot without title"
      ]
     },
     "metadata": {},
     "output_type": "display_data"
    }
   ],
   "source": [
    "fig5f.rainbow(trace.df)"
   ]
  },
  {
   "cell_type": "markdown",
   "metadata": {},
   "source": [
    "#### 1a) Do subjects respond that identical stimuli have zero dissimilarity when presented at each of CC, CP and PP?"
   ]
  },
  {
   "cell_type": "markdown",
   "metadata": {},
   "source": [
    "For each subject, we obtained a dissimilarity value for the comparison of a colour stimulus to itself in each of the CC, CP and PP conditions. Are these dissimilarity values equal to zero, as would be expected? Is this true in all presentation conditions?  \n",
    "  \n",
    "If participants were randomly selecting these values, the mean dissimilarity across the colour pair comparisons would be mean of a random sample for the dissimilarity values. As these range from 0 to 7, this would be 3.5  \n",
    "  \n",
    "We will test to see if the mean dissimilarity for these values is less than 3.5 in data from subjects in the Movingly magnified conditions. We'll examine this for each of CC, CP and PP comparisons. Going to use a Bayesian beta-regression for each one."
   ]
  },
  {
   "cell_type": "code",
   "execution_count": 219,
   "metadata": {},
   "outputs": [],
   "source": [
    "# Function to test hypothesis 1a\n",
    "h1a <- function(data,summary=FALSE){\n",
    "    data <- offset.beta(data,max.DSR)\n",
    "    df <- as.data.frame(data)\n",
    "    \n",
    "    model.test <- stan_betareg(\n",
    "                formula = data ~ 1,\n",
    "                data = df,\n",
    "                iter=10000, # helps to stabilise the estimates\n",
    "                refresh=0\n",
    "                )\n",
    "    \n",
    "    if(summary){\n",
    "        print(summary(model.test))\n",
    "    }else{\n",
    "           print(model.test)\n",
    "    }\n",
    "    HPD <- posterior_interval(model.test, prob = 0.95)\n",
    "    print(HPD)\n",
    "    BF <- bayesfactor_parameters(model.test)\n",
    "    print(BF)\n",
    "    print(plot(BF, show_intercept=TRUE))\n",
    "    \n",
    "    # Converted back to normalised trace\n",
    "    print(\"\")\n",
    "    print(\"Converted back to Normalised Trace\")\n",
    "    intercept <- model.test[[1]][1]\n",
    "    print(paste('Intercept:',round(undo.logit(intercept,max.DSR),2)))\n",
    "    print(paste('HPD:',round(undo.logit(HPD[1,],max.DSR),2)))\n",
    "    return(model.test)\n",
    "}"
   ]
  },
  {
   "cell_type": "code",
   "execution_count": 99,
   "metadata": {},
   "outputs": [],
   "source": [
    "# convert logistic intercept values back to human-intelligible numbers\n",
    "undo.logit <- function(x,max){\n",
    "    return(inv.logit(x)*max)\n",
    "}"
   ]
  },
  {
   "cell_type": "code",
   "execution_count": 221,
   "metadata": {},
   "outputs": [
    {
     "name": "stdout",
     "output_type": "stream",
     "text": [
      "\n",
      "Model Info:\n",
      " function:     stan_betareg\n",
      " family:       beta [logit, link.phi=identity]\n",
      " formula:      data ~ 1\n",
      " algorithm:    sampling\n",
      " sample:       20000 (posterior sample size)\n",
      " priors:       see help('prior_summary')\n",
      " observations: 31\n",
      "\n",
      "Estimates:\n",
      "              mean   sd   10%   50%   90%\n",
      "(Intercept) -2.3    0.3 -2.6  -2.3  -1.9 \n",
      "(phi)        4.7    1.3  3.1   4.5   6.5 \n",
      "\n",
      "Fit Diagnostics:\n",
      "           mean   sd   10%   50%   90%\n",
      "mean_PPD 0.1    0.0  0.1   0.1   0.1  \n",
      "\n",
      "The mean_ppd is the sample average posterior predictive distribution of the outcome variable (for details see help('summary.stanreg')).\n",
      "\n",
      "MCMC diagnostics\n",
      "              mcse Rhat n_eff\n",
      "(Intercept)   0.0  1.0  6431 \n",
      "(phi)         0.0  1.0  7107 \n",
      "mean_PPD      0.0  1.0  9668 \n",
      "log-posterior 0.0  1.0  5955 \n",
      "\n",
      "For each parameter, mcse is Monte Carlo standard error, n_eff is a crude measure of effective sample size, and Rhat is the potential scale reduction factor on split chains (at convergence Rhat=1).\n",
      "                 2.5%     97.5%\n",
      "(Intercept) -2.747614 -1.744950\n",
      "(phi)        2.391076  7.625637\n"
     ]
    },
    {
     "name": "stderr",
     "output_type": "stream",
     "text": [
      "Sampling priors, please wait...\n"
     ]
    },
    {
     "name": "stdout",
     "output_type": "stream",
     "text": [
      "Bayes Factor (Savage-Dickey density ratio)\n",
      "\n",
      "Parameter   |     BF\n",
      "--------------------\n",
      "(Intercept) | > 1000\n",
      "(phi)       | > 1000\n",
      "\n",
      "* Evidence Against The Null: 0[1] \"\"\n",
      "[1] \"Converted back to Normalised Trace\"\n",
      "[1] \"Intercept: 0.66\"\n",
      "[1] \"HPD: 0.42\" \"HPD: 1.04\"\n"
     ]
    },
    {
     "data": {
      "image/png": "iVBORw0KGgoAAAANSUhEUgAAA0gAAANICAMAAADKOT/pAAAAZlBMVEUAAAAAv8QaGhoftrkl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\ngERRggISRQnq/wCt3aeSTBusQgAAAABJRU5ErkJggg==",
      "text/plain": [
       "plot without title"
      ]
     },
     "metadata": {},
     "output_type": "display_data"
    }
   ],
   "source": [
    "# test CC\n",
    "h1a.cc <- h1a(trace.df.mag$CC,summary=TRUE)"
   ]
  },
  {
   "cell_type": "code",
   "execution_count": 222,
   "metadata": {},
   "outputs": [
    {
     "name": "stdout",
     "output_type": "stream",
     "text": [
      "stan_betareg\n",
      " family:       beta [logit, link.phi=identity]\n",
      " formula:      data ~ 1\n",
      " observations: 31\n",
      "------\n",
      "            Median MAD_SD\n",
      "(Intercept) -1.3    0.2  \n",
      "(phi)        2.3    0.6  \n",
      "\n",
      "------\n",
      "* For help interpreting the printed output see ?print.stanreg\n",
      "* For info on the priors used see ?prior_summary.stanreg\n",
      "                 2.5%      97.5%\n",
      "(Intercept) -1.781207 -0.8541821\n",
      "(phi)        1.364208  3.6029377\n"
     ]
    },
    {
     "name": "stderr",
     "output_type": "stream",
     "text": [
      "Sampling priors, please wait...\n"
     ]
    },
    {
     "name": "stdout",
     "output_type": "stream",
     "text": [
      "Bayes Factor (Savage-Dickey density ratio)\n",
      "\n",
      "Parameter   |     BF\n",
      "--------------------\n",
      "(Intercept) | > 1000\n",
      "(phi)       | > 1000\n",
      "\n",
      "* Evidence Against The Null: 0[1] \"\"\n",
      "[1] \"Converted back to Normalised Trace\"\n",
      "[1] \"Intercept: 1.46\"\n",
      "[1] \"HPD: 1.01\" \"HPD: 2.09\"\n"
     ]
    },
    {
     "data": {
      "text/plain": [
       "stan_betareg\n",
       " family:       beta [logit, link.phi=identity]\n",
       " formula:      data ~ 1\n",
       " observations: 31\n",
       "------\n",
       "            Median MAD_SD\n",
       "(Intercept) -1.3    0.2  \n",
       "(phi)        2.3    0.6  \n",
       "\n",
       "------\n",
       "* For help interpreting the printed output see ?print.stanreg\n",
       "* For info on the priors used see ?prior_summary.stanreg"
      ]
     },
     "metadata": {},
     "output_type": "display_data"
    },
    {
     "data": {
      "image/png": "iVBORw0KGgoAAAANSUhEUgAAA0gAAANICAMAAADKOT/pAAAAZlBMVEUAAAAAv8QaGhoftrkl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\nCAIkQgQBEiGCAIkQQYBEiCD/ByZGZjSAGTNIAAAAAElFTkSuQmCC",
      "text/plain": [
       "plot without title"
      ]
     },
     "metadata": {},
     "output_type": "display_data"
    }
   ],
   "source": [
    "# test CP\n",
    "h1a(trace.df.mag$CP)\n"
   ]
  },
  {
   "cell_type": "code",
   "execution_count": 223,
   "metadata": {},
   "outputs": [
    {
     "name": "stdout",
     "output_type": "stream",
     "text": [
      "stan_betareg\n",
      " family:       beta [logit, link.phi=identity]\n",
      " formula:      data ~ 1\n",
      " observations: 31\n",
      "------\n",
      "            Median MAD_SD\n",
      "(Intercept) -2.2    0.2  \n",
      "(phi)        4.5    1.3  \n",
      "\n",
      "------\n",
      "* For help interpreting the printed output see ?print.stanreg\n",
      "* For info on the priors used see ?prior_summary.stanreg\n",
      "                 2.5%     97.5%\n",
      "(Intercept) -2.718430 -1.710839\n",
      "(phi)        2.436606  7.572243\n"
     ]
    },
    {
     "name": "stderr",
     "output_type": "stream",
     "text": [
      "Sampling priors, please wait...\n"
     ]
    },
    {
     "name": "stdout",
     "output_type": "stream",
     "text": [
      "Bayes Factor (Savage-Dickey density ratio)\n",
      "\n",
      "Parameter   |     BF\n",
      "--------------------\n",
      "(Intercept) | > 1000\n",
      "(phi)       | > 1000\n",
      "\n",
      "* Evidence Against The Null: 0[1] \"\"\n",
      "[1] \"Converted back to Normalised Trace\"\n",
      "[1] \"Intercept: 0.68\"\n",
      "[1] \"HPD: 0.43\" \"HPD: 1.07\"\n"
     ]
    },
    {
     "data": {
      "text/plain": [
       "stan_betareg\n",
       " family:       beta [logit, link.phi=identity]\n",
       " formula:      data ~ 1\n",
       " observations: 31\n",
       "------\n",
       "            Median MAD_SD\n",
       "(Intercept) -2.2    0.2  \n",
       "(phi)        4.5    1.3  \n",
       "\n",
       "------\n",
       "* For help interpreting the printed output see ?print.stanreg\n",
       "* For info on the priors used see ?prior_summary.stanreg"
      ]
     },
     "metadata": {},
     "output_type": "display_data"
    },
    {
     "data": {
      "image/png": "iVBORw0KGgoAAAANSUhEUgAAA0gAAANICAMAAADKOT/pAAAAZlBMVEUAAAAAv8QaGhoftrkl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\ngwCJEIP8P9rDY5x4a9xDAAAAAElFTkSuQmCC",
      "text/plain": [
       "plot without title"
      ]
     },
     "metadata": {},
     "output_type": "display_data"
    }
   ],
   "source": [
    "# test PP\n",
    "h1a(trace.df.mag$PP)"
   ]
  },
  {
   "cell_type": "markdown",
   "metadata": {},
   "source": [
    "#### 1b) Are dissimilarity ratings for identical stimuli presented in the periphery affected by Moving magnification?"
   ]
  },
  {
   "cell_type": "markdown",
   "metadata": {},
   "source": [
    "On the basis of previous psychophysics work we suspect that small stimuli in the periphery may induce altered or unstable colour experiences compared to larger stimuli. We also suspect that appropriately 'cortically magnified' stimuli should provide stable similarity judgments regardless of size. Thus, we hypothesise that there will be a Size x Magnification interaction effect on dissimilarity ratings made in the PP condition.  \n",
    "  \n",
    "As we are taking the average over non-negative values with a heavy preponderance of zeros bounded on both sides, the data will be beta-distributed. Thus, we are fitting the data using a Bayesian beta regression."
   ]
  },
  {
   "cell_type": "code",
   "execution_count": 224,
   "metadata": {},
   "outputs": [],
   "source": [
    "# Bayesian version of the beta-regression, for sample analysis as well\n",
    "h1b <- function(data,summary=FALSE){\n",
    "    \n",
    "    # normalisation and boundary offset as suggested in Smithson and Verkuilen (2006)\n",
    "    data$PP <- offset.beta(data$PP,max.DSR)\n",
    "    \n",
    "    # bayesian stuff\n",
    "    model.test <- stan_betareg(formula = PP ~ StimSize + Magnification + StimSize:Magnification,\n",
    "                data = data,\n",
    "                iter=10000, # helps to stabilise the estimates\n",
    "                refresh=0\n",
    "                )\n",
    "    \n",
    "    if(summary){\n",
    "        print(summary(model.test))\n",
    "    }else{\n",
    "           print(model.test)\n",
    "    }\n",
    "    HPD <- posterior_interval(model.test, prob = 0.95)\n",
    "    print(HPD)    \n",
    "    BF <- bayesfactor_parameters(model.test)\n",
    "    print(BF)\n",
    "    print(plot(BF, show_intercept=TRUE))\n",
    "    \n",
    "    # Converted back to normalised trace\n",
    "    print(\"\")\n",
    "    print(\"Converted back to Normalised Trace\")\n",
    "    interaction <- model.test[[1]][4]\n",
    "    print(paste('Interaction:',round(undo.logit(interaction,max.DSR),2)))\n",
    "    print(paste('HPD:',round(undo.logit(HPD[1,],max.DSR),2)))\n",
    "    \n",
    "    return(model.test)\n",
    "}"
   ]
  },
  {
   "cell_type": "code",
   "execution_count": 225,
   "metadata": {},
   "outputs": [],
   "source": [
    "# testing what would happen if inverted subjects were excluded\n",
    "#h1b(rbind(exclude.trace,exclude.trace),summary=TRUE)"
   ]
  },
  {
   "cell_type": "code",
   "execution_count": 226,
   "metadata": {},
   "outputs": [
    {
     "name": "stdout",
     "output_type": "stream",
     "text": [
      "\n",
      "Model Info:\n",
      " function:     stan_betareg\n",
      " family:       beta [logit, link.phi=identity]\n",
      " formula:      PP ~ StimSize + Magnification + StimSize:Magnification\n",
      " algorithm:    sampling\n",
      " sample:       20000 (posterior sample size)\n",
      " priors:       see help('prior_summary')\n",
      " observations: 60\n",
      "\n",
      "Estimates:\n",
      "                         mean   sd   10%   50%   90%\n",
      "(Intercept)             0.1    0.3 -0.2   0.1   0.4 \n",
      "StimSize               -2.5    0.5 -3.1  -2.5  -1.8 \n",
      "Magnification          -0.5    0.1 -0.7  -0.5  -0.4 \n",
      "StimSize:Magnification  0.5    0.2  0.3   0.5   0.7 \n",
      "(phi)                   5.7    1.1  4.3   5.6   7.2 \n",
      "\n",
      "Fit Diagnostics:\n",
      "           mean   sd   10%   50%   90%\n",
      "mean_PPD 0.2    0.0  0.1   0.2   0.2  \n",
      "\n",
      "The mean_ppd is the sample average posterior predictive distribution of the outcome variable (for details see help('summary.stanreg')).\n",
      "\n",
      "MCMC diagnostics\n",
      "                       mcse Rhat n_eff\n",
      "(Intercept)            0.0  1.0  11376\n",
      "StimSize               0.0  1.0   8763\n",
      "Magnification          0.0  1.0   9129\n",
      "StimSize:Magnification 0.0  1.0   8454\n",
      "(phi)                  0.0  1.0  10286\n",
      "mean_PPD               0.0  1.0  15604\n",
      "log-posterior          0.0  1.0   7926\n",
      "\n",
      "For each parameter, mcse is Monte Carlo standard error, n_eff is a crude measure of effective sample size, and Rhat is the potential scale reduction factor on split chains (at convergence Rhat=1).\n",
      "                             2.5%      97.5%\n",
      "(Intercept)            -0.4203899  0.6219456\n",
      "StimSize               -3.4346992 -1.5084984\n",
      "Magnification          -0.7322768 -0.3595083\n",
      "StimSize:Magnification  0.1990496  0.7915465\n",
      "(phi)                   3.6887488  8.0628675\n"
     ]
    },
    {
     "name": "stderr",
     "output_type": "stream",
     "text": [
      "Sampling priors, please wait...\n"
     ]
    },
    {
     "name": "stdout",
     "output_type": "stream",
     "text": [
      "Bayes Factor (Savage-Dickey density ratio)\n",
      "\n",
      "Parameter              |     BF\n",
      "-------------------------------\n",
      "(Intercept)            |  0.076\n",
      "StimSize               | > 1000\n",
      "Magnification          | > 1000\n",
      "StimSize:Magnification |  15.40\n",
      "(phi)                  | > 1000\n",
      "\n",
      "* Evidence Against The Null: 0[1] \"\"\n",
      "[1] \"Converted back to Normalised Trace\"\n",
      "[1] \"Interaction: 4.35\"\n",
      "[1] \"HPD: 2.77\" \"HPD: 4.55\"\n"
     ]
    },
    {
     "data": {
      "image/png": "iVBORw0KGgoAAAANSUhEUgAAA0gAAANICAMAAADKOT/pAAAAZlBMVEUAAAAAv8QaGhoftrkl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",
      "text/plain": [
       "plot without title"
      ]
     },
     "metadata": {},
     "output_type": "display_data"
    }
   ],
   "source": [
    "# test all the data\n",
    "h1b.model <- h1b(trace.df,summary=TRUE)"
   ]
  },
  {
   "cell_type": "markdown",
   "metadata": {},
   "source": [
    "### Visualisation of Hypothesis 2 Data"
   ]
  },
  {
   "cell_type": "markdown",
   "metadata": {},
   "source": [
    "#### Useful functions"
   ]
  },
  {
   "cell_type": "code",
   "execution_count": 106,
   "metadata": {},
   "outputs": [
    {
     "name": "stdout",
     "output_type": "stream",
     "text": [
      "[1] \"upper\"\n",
      " [1] 1 5 5 3 5 4 5 4 3 4 1 3 4 5 2 1 5 1 3 3 4 6 1 5 4 4 4 4 3 3 5 6 4 1 3 2\n",
      "[1] 36\n",
      "[1] \"lower\"\n",
      " [1] 1 4 4 1 5 6 3 4 4 1 2 3 5 5 2 1 3 1 5 5 2 3 1 5 5 4 4 2 1 5 3 4 1 1 3 3\n",
      "[1] 36\n",
      "[1] \"Variance values\"\n",
      " [1] 0.9666667 1.4666667 1.6000000 3.0666667 0.6666667 1.4666667 1.6000000\n",
      " [8] 0.3000000 0.7000000 2.4000000 1.1000000 0.8000000 0.7000000 2.7000000\n",
      "[15] 1.2000000 0.1666667 1.2000000 0.0000000 0.6666667 1.0666667 1.0666667\n",
      "[22] 1.4666667 0.9666667 0.5666667 3.0666667 3.3666667 0.5666667 1.6000000\n",
      "[29] 0.7000000 0.9666667 1.7666667 2.0000000 1.9000000 2.8000000 1.3666667\n",
      "[36] 1.3666667\n"
     ]
    },
    {
     "data": {
      "text/html": [
       "1.3712962962963"
      ],
      "text/latex": [
       "1.3712962962963"
      ],
      "text/markdown": [
       "1.3712962962963"
      ],
      "text/plain": [
       "[1] 1.371296"
      ]
     },
     "metadata": {},
     "output_type": "display_data"
    }
   ],
   "source": [
    "testdf <- subset(cleandf, subject == 11005010)\n",
    "var.color(testdf,diagnose=TRUE,sym=FALSE)"
   ]
  },
  {
   "cell_type": "code",
   "execution_count": 73,
   "metadata": {},
   "outputs": [],
   "source": [
    "# get the mean variance of colour comparisons\n",
    "var.color <- function(df,diagnose=FALSE,sym=sym){\n",
    "    \n",
    "    # first, turn the dataframe into the relevant matrices\n",
    "    fmatrix <- df2mat.full(df, l2e('Fixed'), l2e('Fixed'),sym=sym)\n",
    "    fpmatrix <- df2mat.full(df, l2e('Fixed'), l2e('Moving'),sym=sym)\n",
    "    pmatrix <- df2mat.full(df, l2e('Moving'), l2e('Moving'),sym=sym)\n",
    "    \n",
    "    # calculate the variance for each colour\n",
    "    colour.vars <- vector()\n",
    "    # calculate differently based on whether data is symmeterised or not\n",
    "    if(sym){ # symmeterised\n",
    "        \n",
    "        \n",
    "        # turn the matrices into vectors\n",
    "        ff.v <- fmatrix[upper.tri(fmatrix,diag=TRUE)]\n",
    "        fp.v <- fpmatrix[upper.tri(fpmatrix,diag=TRUE)]\n",
    "        pp.v <- pmatrix[upper.tri(pmatrix,diag=TRUE)]\n",
    "        \n",
    "        for(i in 1:length(ff.v)){\n",
    "            colour.vars[i] <- var(c(ff.v[i],fp.v[i],pp.v[i]))\n",
    "        }\n",
    "    } else { # raw, unsymmeterised\n",
    "        i = 1\n",
    "        \n",
    "        # remove the main diagonal\n",
    "        diag(fmatrix) = NA\n",
    "        diag(fpmatrix) = NA\n",
    "        diag(pmatrix) = NA\n",
    "        \n",
    "        # collect the entries\n",
    "        ff.upper.v <- vector()\n",
    "        fp.upper.v <- vector()\n",
    "        pp.upper.v <- vector()\n",
    "        ff.lower.v <- vector()\n",
    "        fp.lower.v <- vector()\n",
    "        pp.lower.v <- vector()\n",
    "        for(row in 1:(nrow(fmatrix))){\n",
    "            for(col in 1:(ncol(fmatrix))){\n",
    "                if(row < col){ # I am aware this is wasteful, but it's easy\n",
    "                    ff.upper.v[i] <- fmatrix[row,col]\n",
    "                    fp.upper.v[i] <- fpmatrix[row,col]\n",
    "                    pp.upper.v[i] <- pmatrix[row,col]\n",
    "                    \n",
    "                    ff.lower.v[i] <- fmatrix[col,row]\n",
    "                    fp.lower.v[i] <- fpmatrix[col,row]\n",
    "                    pp.lower.v[i] <- pmatrix[col,row]\n",
    "                    \n",
    "                    i = i + 1\n",
    "                } \n",
    "            }\n",
    "        }\n",
    "        \n",
    "        # remove NA values\n",
    "        ff.upper.v <- na.omit(ff.upper.v)\n",
    "        fp.upper.v <- na.omit(fp.upper.v)\n",
    "        pp.upper.v <- na.omit(pp.upper.v)\n",
    "        ff.lower.v <- na.omit(ff.lower.v)\n",
    "        fp.lower.v <- na.omit(fp.lower.v)\n",
    "        pp.lower.v <- na.omit(pp.lower.v)\n",
    "        \n",
    "        if(diagnose){\n",
    "            print(\"upper\")\n",
    "            print(ff.upper.v)\n",
    "            print(length(ff.upper.v))\n",
    "            print(\"lower\")\n",
    "            print(ff.lower.v)\n",
    "            print(length(ff.lower.v))\n",
    "        }\n",
    "        \n",
    "        for(i in 1:length(ff.upper.v)){\n",
    "            vals <- c(ff.upper.v[i],ff.lower.v[i],\n",
    "                         fp.upper.v[i],fp.lower.v[i],\n",
    "                         pp.upper.v[i],pp.lower.v[i])\n",
    "            colour.vars[i] <- var(vals)\n",
    "        }\n",
    "        \n",
    "    }\n",
    "    \n",
    "    \n",
    "    if(diagnose){\n",
    "        print(\"Variance values\")\n",
    "        print(colour.vars)\n",
    "    }\n",
    "    \n",
    "    # get the mean variance\n",
    "    var.mean <- mean(colour.vars)\n",
    "    \n",
    "    return(var.mean)\n",
    "}"
   ]
  },
  {
   "cell_type": "code",
   "execution_count": 74,
   "metadata": {},
   "outputs": [],
   "source": [
    "# get the data in the right format\n",
    "var.format <- function(df,sym=FALSE){\n",
    "    subjectlist <- sort(unique(df$subject)) # obtain a list of all the subjects\n",
    "    \n",
    "    if(sym){\n",
    "            print('Working on symmeterised (3) values')\n",
    "        } else {\n",
    "            print('Working on raw (6) values')\n",
    "        }\n",
    "    \n",
    "    # format for output\n",
    "    out.df <- data.frame(subject=character(),\n",
    "                        mean.var=double(),\n",
    "                        stim_size=double(),\n",
    "                        magnification=double())\n",
    "    # extract the data\n",
    "    for(ID in subjectlist){\n",
    "        tempdf <- subset(df, subject == ID)\n",
    "        stim <- unique(tempdf$stimulus_radius)[1]\n",
    "        mag <- unique(tempdf$Moving_scale)[1]\n",
    "        val <- var.color(tempdf,sym=sym)\n",
    "        row_df <- data.frame(ID, val, stim, mag)\n",
    "        names(row_df) <- c(\"subject\",'mean.var','StimSize','Magnification')\n",
    "        out.df <- rbind(out.df,row_df)\n",
    "    }\n",
    "    return(out.df)\n",
    "}"
   ]
  },
  {
   "cell_type": "code",
   "execution_count": 75,
   "metadata": {},
   "outputs": [],
   "source": [
    "# calculate the mean variance for each color for plotting purposes\n",
    "fig6bc <- function(df,name,tri=TRUE){\n",
    "    # convert the data\n",
    "    mats <- dissimgroup2matlist(df,sym=TRUE)\n",
    "    mats.var <- full2var.mats(mats)\n",
    "    mat <- group.mat.median(mats.var)\n",
    "    \n",
    "    # get rid of the lower half\n",
    "    if(tri){\n",
    "        mat[lower.tri(mat)] <- NA\n",
    "    }\n",
    "    \n",
    "    \n",
    "    data <- melt(mat)\n",
    "    colnames(data) <- c('color1.eccen1','color2.eccen2','Variance')\n",
    "    \n",
    "    plot <- ggplot(data, aes(x = color1.eccen1, y = color2.eccen2)) + \n",
    "                    geom_raster(aes(fill = Variance)) +\n",
    "                    scale_fill_gradientn(colours = c(\"blue\",\"yellow\"),\n",
    "                                    limits=c(0,6), na.value='white'\n",
    "                                    #breaks=c(0,1,2,3,4,5,6,7)\n",
    "                                        ) +\n",
    "                    # colours\n",
    "                   theme(axis.text.x = element_text(colour=colors,angle=90),\n",
    "                          axis.text.y = element_text(colour=colors),\n",
    "                          axis.title.x = element_blank(), axis.title.y = element_blank(),\n",
    "                          plot.title = element_text(hjust = 0.5)) +\n",
    "                    scale_colour_identity()\n",
    "    \n",
    "    ggsave(name,plot,height=2.8,width=3.75)\n",
    "    return(plot)\n",
    "}"
   ]
  },
  {
   "cell_type": "code",
   "execution_count": 76,
   "metadata": {},
   "outputs": [],
   "source": [
    "fig6d <- function(plot.df,rand.var.mu,histogram=FALSE,save=TRUE){\n",
    "    \n",
    "    plot.df$StimSize <- as.character(plot.df$StimSize)\n",
    "    plot.df$Magnification <- as.character(plot.df$Magnification)\n",
    "    \n",
    "    plot <- ggplot(plot.df) +\n",
    "        geom_boxplot(aes(x = Magnification, y = mean.var, \n",
    "                         color = label.combo)) +\n",
    "        geom_point(aes(x = Magnification, y = mean.var, \n",
    "                         color = label.combo),\n",
    "                  position=position_dodge(width=0.75)) +\n",
    "        geom_hline(yintercept=rand.var.mu, linetype='dashed') +\n",
    "        #geom_hline(yintercept=median(plot.df$mean.var),linetype='dashed',color='blue') +\n",
    "        scale_x_discrete(labels=c(\"FIX\",'MAG')) +\n",
    "        theme_bw(base_size = 14) +\n",
    "        #guides(color=guide_legend(title=\"Stimulus\\nSize\")) +\n",
    "        guides(color=guide_legend(title=\"\")) +\n",
    "        xlab(\"\") +\n",
    "        ylab(\"Mean Variance\") +\n",
    "        ylim(0,max(vals)) +\n",
    "        #scale_colour_manual(values = c(\"orange\",'purple')) +\n",
    "        scale_color_brewer(palette='Dark2') + scale_fill_brewer(palette='Dark2') \n",
    "    if(histogram){\n",
    "        #plot.df$mean.var <- log((plot.df$mean.var))\n",
    "        plot.df$label.combo <- paste(plot.df$StimSize,plot.df$Magnification)\n",
    "        hist.plot <- ggplot(plot.df, aes(x = mean.var, fill=label.combo)) + geom_histogram(binwidth=0.25)\n",
    "        return(hist.plot)\n",
    "    }\n",
    "    if(save){\n",
    "        ggsave('fig6d.png',plot,height=2.8,width=4)\n",
    "    }\n",
    "    \n",
    "    return(plot)\n",
    "}"
   ]
  },
  {
   "cell_type": "code",
   "execution_count": 77,
   "metadata": {},
   "outputs": [],
   "source": [
    "fig6e <- function(df,rand.var.mu,vals){\n",
    "    \n",
    "    # perform beta offset\n",
    "    df$mean.var <- offset.beta(df$mean.var,max(vals))\n",
    "\n",
    "    plot <- ggplot(df, aes(x = mean.var,fill=Magnification)) + \n",
    "        geom_density(aes(x=mean.var,y=..scaled..),alpha=0.375) +\n",
    "        geom_histogram(aes(x=mean.var,y=stat(count)/sum(count)), colour='black', binwidth=0.05,position=\"identity\",alpha=0.5) +\n",
    "        geom_vline(xintercept=rand.var.mu/max(vals), linetype='dashed') + # put the random line in, appropriately scaled\n",
    "        xlab(\"Scaled Mean Variance\") +\n",
    "        ylab(\"Density\") +\n",
    "        xlim(-0.05,1) +\n",
    "        theme(legend.position='none')\n",
    "        \n",
    "    ggsave('fig6e.png',plot,height=2.8,width=4)\n",
    "    return(plot)\n",
    "} "
   ]
  },
  {
   "cell_type": "code",
   "execution_count": 78,
   "metadata": {},
   "outputs": [],
   "source": [
    "fig6e.rainbow <- function(df,rand.var.mu,vals){\n",
    "    \n",
    "    # perform beta offset\n",
    "    df$mean.var <- offset.beta(df$mean.var,max(vals))\n",
    "    \n",
    "    plot <- ggplot(df,aes(x=Magnification,y=mean.var,fill=Magnification,colour=Magnification)) +\n",
    "            geom_flat_violin(position = position_nudge(x = 0.25, y = 0),adjust=2,trime=FALSE) +\n",
    "            geom_point(position = position_jitter(width=.15,height=0),size=1) +\n",
    "            geom_boxplot(aes(x=4.5 + 0.25, y = mean.var),alpha = 0.3, outlier.shape=NA, width = .1, colour = \"BLACK\") +\n",
    "            ylab('Scaled Mean Variance') + xlab('')+coord_flip()+theme_cowplot()+guides(fill=FALSE,colour=FALSE) +\n",
    "            theme(axis.text.y=element_blank(),axis.ticks.y=element_blank(),legend.title=element_blank()) +\n",
    "            geom_hline(yintercept=rand.var.mu/max(vals), linetype='dashed') +  geom_hline(yintercept=1.05)\n",
    "    \n",
    "    ggsave('fig6e_rainbow.png',plot,height=2.8,width=4)\n",
    "    return(plot)\n",
    "}"
   ]
  },
  {
   "cell_type": "code",
   "execution_count": 79,
   "metadata": {},
   "outputs": [],
   "source": [
    "fig6f <- function(df,rand.var.mu,vals){\n",
    "    # perform beta offset\n",
    "    df$mean.var <- logit(offset.beta(df$mean.var,max(vals)))\n",
    "\n",
    "    plot <- ggplot(df, aes(x = mean.var,fill=Magnification)) + \n",
    "        geom_density(aes(x=mean.var,y=..scaled..),alpha=0.375) +\n",
    "        #geom_histogram(aes(x=mean.var,y=stat(count)/sum(count)), colour='black', binwidth=0.05,position=\"identity\",alpha=0.5) +\n",
    "        geom_vline(xintercept=logit(rand.var.mu/max(vals)), linetype='dashed') + # put the random line in, appropriately scaled\n",
    "        xlab(\"Logistic-Transformed\\nMean Variance\") +\n",
    "        ylab(\"Density\") +\n",
    "        xlim(-7.5,3) +\n",
    "        theme(legend.position='none')\n",
    "        \n",
    "    ggsave('fig6f.png',plot,height=2.8,width=4)\n",
    "    return(plot)\n",
    "}"
   ]
  },
  {
   "cell_type": "code",
   "execution_count": 80,
   "metadata": {},
   "outputs": [],
   "source": [
    "fig6f.rainbow <- function(df,rand.var.mu,vals){\n",
    "    \n",
    "    # perform beta offset\n",
    "    df$mean.var <- logit(offset.beta(df$mean.var,max(vals)))\n",
    "    \n",
    "    plot <- ggplot(df,aes(x=Magnification,y=mean.var,fill=Magnification,colour=Magnification)) +\n",
    "            geom_flat_violin(position = position_nudge(x = 0.25, y = 0),adjust=2,trime=FALSE) +\n",
    "            geom_point(position = position_jitter(width=.15,height=0),size=1) +\n",
    "            geom_boxplot(aes(x=4.5 + 0.25, y = mean.var),alpha = 0.3, outlier.shape=NA, width = .1, colour = \"BLACK\") +\n",
    "            ylab(\"Logistic-Transformed\\nMean Variance\") + xlab('')+coord_flip()+theme_cowplot()+guides(fill=FALSE,colour=FALSE) +\n",
    "            theme(axis.text.y=element_blank(),axis.ticks.y=element_blank(),axis.line.y=element_blank(),legend.title=element_blank()) +\n",
    "            geom_hline(yintercept=logit(rand.var.mu/max(vals)), linetype='dashed')\n",
    "    \n",
    "    ggsave('fig6f_rainbow.png',plot,height=2.8,width=4)\n",
    "    return(plot)\n",
    "}"
   ]
  },
  {
   "cell_type": "code",
   "execution_count": 81,
   "metadata": {},
   "outputs": [],
   "source": [
    "fig6g <- function(df,rand.var.mu,vals){\n",
    "    \n",
    "    # perform beta offset\n",
    "    df$mean.var <- offset.beta(df$mean.var,max(vals))\n",
    "\n",
    "    plot <- ggplot(df, aes(x = mean.var,fill=label.combo)) + \n",
    "        geom_density(aes(x=mean.var,y=..scaled..),alpha=0.375) +\n",
    "        geom_histogram(aes(x=mean.var,y=stat(count)/sum(count)), colour='black', binwidth=0.05,position=\"identity\",alpha=0.5) +\n",
    "        geom_vline(xintercept=rand.var.mu/max(vals), linetype='dashed') + # put the random line in, appropriately scaled\n",
    "        xlab(\"Scaled Mean Variance\") +\n",
    "        ylab(\"Density\") +\n",
    "        xlim(-0.05,1)\n",
    "        \n",
    "    ggsave('fig6g.png',plot,height=2.8,width=4)\n",
    "    return(plot)\n",
    "} "
   ]
  },
  {
   "cell_type": "code",
   "execution_count": 82,
   "metadata": {},
   "outputs": [],
   "source": [
    "fig6g.rainbow <- function(df,rand.var.mu,vals){\n",
    "    \n",
    "    # perform beta offset\n",
    "    df$mean.var <- offset.beta(df$mean.var,max(vals))\n",
    "    \n",
    "    plot <- ggplot(df,aes(x=label.combo,y=mean.var,fill=label.combo,colour=label.combo)) +\n",
    "            geom_flat_violin(position = position_nudge(x = 0.25, y = 0),adjust=2,trime=FALSE) +\n",
    "            geom_point(position = position_jitter(width=.15,height=0),size=1) +\n",
    "            geom_boxplot(aes(x=as.numeric(as.factor(label.combo)) + 0.25, y = mean.var),alpha = 0.3, outlier.shape=NA, width = .1, colour = \"BLACK\") +\n",
    "            ylab('Scaled Mean Variance') + xlab('')+coord_flip()+theme_cowplot()+guides(fill=FALSE) +\n",
    "            theme(axis.text.y=element_blank(),axis.ticks.y=element_blank(),legend.title=element_blank()) +\n",
    "            geom_hline(yintercept=rand.var.mu/max(vals), linetype='dashed') +  geom_hline(yintercept=1.05)\n",
    "    \n",
    "    ggsave('fig6g_rainbow.png',plot,height=2.8,width=4)\n",
    "    return(plot)\n",
    "}"
   ]
  },
  {
   "cell_type": "code",
   "execution_count": 83,
   "metadata": {},
   "outputs": [],
   "source": [
    "fig6h <- function(df,rand.var.mu,vals){\n",
    "    # perform beta offset\n",
    "    df$mean.var <- logit(offset.beta(df$mean.var,max(vals)))\n",
    "\n",
    "    plot <- ggplot(df, aes(x = mean.var,fill=label.combo)) + \n",
    "        geom_density(aes(x=mean.var,y=..scaled..),alpha=0.375) +\n",
    "        #geom_histogram(aes(x=mean.var,y=stat(count)/sum(count)), colour='black', binwidth=0.05,position=\"identity\",alpha=0.5) +\n",
    "        geom_vline(xintercept=logit(rand.var.mu/max(vals)), linetype='dashed') + # put the random line in, appropriately scaled\n",
    "        xlab(\"Logistic-Transformed\\nMean Variance\") +\n",
    "        ylab(\"Density\") +\n",
    "        xlim(-7.5,3)\n",
    "        \n",
    "    ggsave('fig6h.png',plot,height=2.8,width=4)\n",
    "    return(plot)\n",
    "}"
   ]
  },
  {
   "cell_type": "code",
   "execution_count": 84,
   "metadata": {},
   "outputs": [],
   "source": [
    "fig6h.rainbow <- function(df,rand.var.mu,vals){\n",
    "    \n",
    "    # perform beta offset\n",
    "    df$mean.var <- logit(offset.beta(df$mean.var,max(vals)))\n",
    "    \n",
    "    plot <- ggplot(df,aes(x=label.combo,y=mean.var,fill=label.combo,colour=label.combo)) +\n",
    "            geom_flat_violin(position = position_nudge(x = 0.25, y = 0),adjust=2,trime=FALSE) +\n",
    "            geom_point(position = position_jitter(width=.15,height=0),size=1) +\n",
    "            geom_boxplot(aes(x=as.numeric(as.factor(label.combo)) + 0.25, y = mean.var),alpha = 0.3, outlier.shape=NA, width = .1, colour = \"BLACK\") +\n",
    "            ylab(\"Logistic-Transformed\\nMean Variance\") + xlab('')+coord_flip()+theme_cowplot()+guides(fill=FALSE) +\n",
    "            theme(axis.text.y=element_blank(),axis.ticks.y=element_blank(),axis.line.y=element_blank(),legend.title=element_blank()) +\n",
    "            geom_hline(yintercept=logit(rand.var.mu/max(vals)), linetype='dashed') +\n",
    "            scale_color_brewer(palette='Dark2') + scale_fill_brewer(palette='Dark2')\n",
    "    \n",
    "    ggsave('fig6h_rainbow.png',plot,height=2.8,width=4)\n",
    "    return(plot)\n",
    "}"
   ]
  },
  {
   "cell_type": "markdown",
   "metadata": {},
   "source": [
    "#### Do the visualisations"
   ]
  },
  {
   "cell_type": "code",
   "execution_count": 85,
   "metadata": {},
   "outputs": [
    {
     "name": "stdout",
     "output_type": "stream",
     "text": [
      "[1] \"Working on raw (6) values\"\n"
     ]
    }
   ],
   "source": [
    "# get the data we want\n",
    "var.data <- var.format(cleandf,sym=FALSE)\n",
    "#head(var.data)\n",
    "var.data.mag <- subset(var.data, Magnification != 1)\n"
   ]
  },
  {
   "cell_type": "code",
   "execution_count": 86,
   "metadata": {},
   "outputs": [],
   "source": [
    "# label the data\n",
    "var.data <- label(var.data)"
   ]
  },
  {
   "cell_type": "code",
   "execution_count": 87,
   "metadata": {},
   "outputs": [
    {
     "name": "stdout",
     "output_type": "stream",
     "text": [
      "[1] 6\n",
      "[1] \"Mean variance of random selection: 5.20774\"\n",
      "[1] \"SD of mean variance of random selection: 2.31171837166994\"\n"
     ]
    }
   ],
   "source": [
    "# simulating random selection\n",
    "# updated method based on including symmeterisation\n",
    "sim.rand.var <- function(method='sym'){\n",
    "    dis.v <- c(0:7)\n",
    "    if(method=='sym'){\n",
    "        # taking the mean of the values as expected by symmeterisation procedure\n",
    "        # this is more faithful to what random data fed into the preprocessing \n",
    "        # procedure would look like\n",
    "        vals <- vector()\n",
    "        for(i in 1:10000){\n",
    "            CC <- mean(sample(dis.v, 2, replace=TRUE))\n",
    "            PP <- mean(sample(dis.v, 2, replace=TRUE))\n",
    "            CP <- mean(sample(dis.v, 2, replace=TRUE))\n",
    "            PC <- mean(sample(dis.v, 2, replace=TRUE))\n",
    "            CP.sym <- mean(c(CP,PC))\n",
    "                        \n",
    "            x <- var(c(CC,PP,CP.sym))\n",
    "            \n",
    "            \n",
    "            vals <- c(vals,x)\n",
    "            \n",
    "        }\n",
    "        \n",
    "        \n",
    "    } else {\n",
    "        # pick n random dissimilarity values\n",
    "        # 3 = equivalent to 1 CC, 1 PP and 1 CP values\n",
    "        # 6 = equivalent to 2 CC, 2 PP and 2 CP values\n",
    "        # 8 = equivalent to 2 CC, 2 PP and 4 CP values\n",
    "        vals <- replicate(10000,var(sample(dis.v, method, replace=TRUE)))\n",
    "    }\n",
    "    print(method)\n",
    "    print(paste(\"Mean variance of random selection:\",mean(vals)))\n",
    "    print(paste(\"SD of mean variance of random selection:\",sd(vals)))\n",
    "    return(vals)\n",
    "}\n",
    "#vals <- sim.rand.var()\n",
    "#vals <- sim.rand.var(method=3)\n",
    "vals <- sim.rand.var(method=6)\n",
    "#vals <- sim.rand.var(method=8)\n",
    "\n",
    "rand.var.mu <- mean(vals)\n",
    "rand.var.sd <- sd(vals)"
   ]
  },
  {
   "cell_type": "code",
   "execution_count": 88,
   "metadata": {},
   "outputs": [],
   "source": [
    "# supplementary figure of how random selection variance is distributed\n",
    "sup.fig5a <- function(vals){\n",
    "    mu <- mean(vals)\n",
    "    df <- as.data.frame(vals)\n",
    "    df$Variance <- 'Variance'\n",
    "    plot <- ggplot(df, aes(x=vals,y=..density..)) + geom_histogram(binwidth=1/3,colour='black') + #geom_density(aes(fill=Variance),alpha=0.3) +\n",
    "        geom_vline(xintercept=mu,linetype='dashed') + guides(fill=FALSE) +\n",
    "        xlab(\"Variance\") + ylab(\"Proportion\")\n",
    "    ggsave('supfig5a.png',plot,height=4,width=5.3)\n",
    "    return(plot)\n",
    "}\n",
    "\n",
    "sup.fig5b <- function(vals){\n",
    "    mu <- mean(vals)\n",
    "    df <- as.data.frame(vals)\n",
    "    df$Variance <- 'Variance'\n",
    "    df$vals <- offset.beta(df$vals,max(vals))\n",
    "    \n",
    "    plot.scaled <- ggplot(df,aes(x=Variance,y=vals,fill=Variance,colour=Variance)) +\n",
    "            geom_flat_violin(position = position_nudge(x = 0.25, y = 0),adjust=2,trime=FALSE) +\n",
    "            geom_point(position = position_jitter(width=.15,height=0),size=1) +\n",
    "            geom_boxplot(aes(x=as.numeric(as.factor(Variance))+ 0.25, y = vals),alpha = 0.3, outlier.shape=NA, width = .1, colour = \"BLACK\") +\n",
    "            ylab(\"Scaled variance\") + xlab('')+coord_flip()+theme_cowplot()+guides(fill=FALSE,colour=FALSE) +\n",
    "            theme(axis.text.y=element_blank(),axis.ticks.y=element_blank(),axis.line.y=element_blank(),legend.title=element_blank()) +\n",
    "            geom_hline(yintercept=mu, linetype='dashed') + ylim(0,1)\n",
    "    \n",
    "    ggsave('supfig5b.png',plot.scaled,height=4,width=5.3)\n",
    "    return(plot.scaled)\n",
    "}\n",
    "\n",
    "sup.fig5c <- function(vals){\n",
    "    mu <- mean(vals)\n",
    "    df <- as.data.frame(vals)\n",
    "    df$Variance <- 'Variance'\n",
    "    df$vals <- offset.beta(df$vals,max(vals))\n",
    "    df$vals.logit <- logit(df$vals)\n",
    "    mu.logit <- logit(mu)\n",
    "\n",
    "    plot.logit <- ggplot(df,aes(x=Variance,y=vals.logit,fill=Variance,colour=Variance)) +\n",
    "            geom_flat_violin(position = position_nudge(x = 0.25, y = 0),adjust=2,trime=FALSE) +\n",
    "            geom_point(position = position_jitter(width=.15,height=0),size=1) +\n",
    "            geom_boxplot(aes(x=as.numeric(as.factor(Variance))+ 0.25, y = vals.logit),alpha = 0.3, outlier.shape=NA, width = .1, colour = \"BLACK\") +\n",
    "            ylab(\"Logistic-transformed variance\") + xlab('')+coord_flip()+theme_cowplot()+guides(fill=FALSE,colour=FALSE) +\n",
    "            theme(axis.text.y=element_blank(),axis.ticks.y=element_blank(),axis.line.y=element_blank(),legend.title=element_blank()) +\n",
    "            geom_hline(yintercept=mu.logit, linetype='dashed')\n",
    "    \n",
    "    ggsave('supfig5c.png',plot.logit,height=4,width=5.3)\n",
    "    return(plot.logit)\n",
    "}\n",
    "\n"
   ]
  },
  {
   "cell_type": "code",
   "execution_count": 89,
   "metadata": {},
   "outputs": [
    {
     "data": {
      "image/png": "iVBORw0KGgoAAAANSUhEUgAAA0gAAANICAMAAADKOT/pAAAAOVBMVEUAAAAzMzNNTU1ZWVlo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\nOARIhDgESIQ4BEiEOARIhDgESIQ45P8BVUz5jdz5JXgAAAAASUVORK5CYII=",
      "text/plain": [
       "plot without title"
      ]
     },
     "metadata": {},
     "output_type": "display_data"
    },
    {
     "data": {
      "image/png": "iVBORw0KGgoAAAANSUhEUgAAA0gAAANICAMAAADKOT/pAAAANlBMVEUAAABNTU1oaGh8fHyM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\noJEIcYBGIsQBGokQB/4ft413SX43fCgAAAAASUVORK5CYII=",
      "text/plain": [
       "plot without title"
      ]
     },
     "metadata": {},
     "output_type": "display_data"
    },
    {
     "data": {
      "image/png": "iVBORw0KGgoAAAANSUhEUgAAA0gAAANICAMAAADKOT/pAAAANlBMVEUAAABNTU1oaGh8fHyM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\n+D8NikXFP1J4xAAAAABJRU5ErkJggg==",
      "text/plain": [
       "plot without title"
      ]
     },
     "metadata": {},
     "output_type": "display_data"
    }
   ],
   "source": [
    "sup.fig5a(vals)\n",
    "sup.fig5b(vals)\n",
    "sup.fig5c(vals)"
   ]
  },
  {
   "cell_type": "code",
   "execution_count": 90,
   "metadata": {},
   "outputs": [],
   "source": [
    "sup.fig5.raincloud <- function(vals){\n",
    "    mu <- mean(vals)\n",
    "    df <- as.data.frame(vals)\n",
    "    df$Variance <- 'Variance'\n",
    "    df$vals <- offset.beta(df$vals,max(vals))\n",
    "    df$vals.logit <- logit(df$vals)\n",
    "    mu.logit <- logit(mu)\n",
    "    \n",
    "    plot.scaled <- ggplot(df,aes(x=Variance,y=vals,fill=Variance,colour=Variance)) +\n",
    "            geom_flat_violin(position = position_nudge(x = 0.25, y = 0),adjust=2,trime=FALSE) +\n",
    "            geom_point(position = position_jitter(width=.15,height=0),size=1) +\n",
    "            geom_boxplot(aes(x=as.numeric(as.factor(Variance))+ 0.25, y = vals),alpha = 0.3, outlier.shape=NA, width = .1, colour = \"BLACK\") +\n",
    "            ylab(\"Scaled variance\") + xlab('')+coord_flip()+theme_cowplot()+guides(fill=FALSE,colour=FALSE) +\n",
    "            theme(axis.text.y=element_blank(),axis.ticks.y=element_blank(),axis.line.y=element_blank(),legend.title=element_blank()) +\n",
    "            geom_hline(yintercept=mu, linetype='dashed') + ylim(0,1)\n",
    "    \n",
    "\n",
    "    plot.logit <- ggplot(df,aes(x=Variance,y=vals.logit,fill=Variance,colour=Variance)) +\n",
    "            geom_flat_violin(position = position_nudge(x = 0.25, y = 0),adjust=2,trime=FALSE) +\n",
    "            geom_point(position = position_jitter(width=.15,height=0),size=1) +\n",
    "            geom_boxplot(aes(x=as.numeric(as.factor(Variance))+ 0.25, y = vals.logit),alpha = 0.3, outlier.shape=NA, width = .1, colour = \"BLACK\") +\n",
    "            ylab(\"Logistic-transformed variance\") + xlab('')+coord_flip()+theme_cowplot()+guides(fill=FALSE,colour=FALSE) +\n",
    "            theme(axis.text.y=element_blank(),axis.ticks.y=element_blank(),axis.line.y=element_blank(),legend.title=element_blank()) +\n",
    "            geom_hline(yintercept=mu.logit, linetype='dashed')\n",
    "    \n",
    "    g <- arrangeGrob(as.grob(plot.scaled),as.grob(plot.logit),ncol=1,nrow=2)\n",
    "    ggsave('supfig5_raincloud.png',g,height=8,width=5.3)\n",
    "}\n",
    "sup.fig5.raincloud(vals)"
   ]
  },
  {
   "cell_type": "code",
   "execution_count": 91,
   "metadata": {},
   "outputs": [
    {
     "data": {
      "image/png": "iVBORw0KGgoAAAANSUhEUgAAA0gAAANICAMAAADKOT/pAAACEFBMVEUAAAAAAP8Aqf8A/wAA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\ngg==",
      "text/plain": [
       "plot without title"
      ]
     },
     "metadata": {},
     "output_type": "display_data"
    }
   ],
   "source": [
    "mag.df <- subset(cleandf, Moving_scale != 1)\n",
    "fig6bc(mag.df,name='fig6c.png',tri=TRUE)"
   ]
  },
  {
   "cell_type": "code",
   "execution_count": 92,
   "metadata": {},
   "outputs": [
    {
     "data": {
      "image/png": "iVBORw0KGgoAAAANSUhEUgAAA0gAAANICAMAAADKOT/pAAAAbFBMVEUAAAAbnnczMzNNTU1o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\nIYmMwP8BzfA8YrJdEqEAAAAASUVORK5CYII=",
      "text/plain": [
       "plot without title"
      ]
     },
     "metadata": {},
     "output_type": "display_data"
    }
   ],
   "source": [
    "fig6d(var.data,rand.var.mu)"
   ]
  },
  {
   "cell_type": "code",
   "execution_count": 93,
   "metadata": {},
   "outputs": [
    {
     "data": {
      "image/png": "iVBORw0KGgoAAAANSUhEUgAAA0gAAANICAMAAADKOT/pAAAANlBMVEUAAAAzaphNTU1oaGh8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\nIICQIICQIICQIICQIICQIMD/AWrtDLSJbZ+2AAAAAElFTkSuQmCC",
      "text/plain": [
       "plot without title"
      ]
     },
     "metadata": {},
     "output_type": "display_data"
    }
   ],
   "source": [
    "#fig6e(var.data.mag,rand.var.mu,vals)\n",
    "fig6e.rainbow(var.data.mag,rand.var.mu,vals)"
   ]
  },
  {
   "cell_type": "code",
   "execution_count": 94,
   "metadata": {},
   "outputs": [
    {
     "data": {
      "image/png": "iVBORw0KGgoAAAANSUhEUgAAA0gAAANICAMAAADKOT/pAAAANlBMVEUAAAAzaphNTU1oaGh8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\nCJdUka7reAAAAABJRU5ErkJggg==",
      "text/plain": [
       "plot without title"
      ]
     },
     "metadata": {},
     "output_type": "display_data"
    }
   ],
   "source": [
    "#fig6f(var.data.mag,rand.var.mu,vals)\n",
    "fig6f.rainbow(var.data.mag,rand.var.mu,vals)"
   ]
  },
  {
   "cell_type": "code",
   "execution_count": 95,
   "metadata": {},
   "outputs": [
    {
     "data": {
      "image/png": "iVBORw0KGgoAAAANSUhEUgAAA0gAAANICAMAAADKOT/pAAAASFBMVEUAAAAAv8RNTU1oaGh8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\nBhAJYAYQCWAGEAlgBhAJYAb+P6+K/EkxLf1hAAAAAElFTkSuQmCC",
      "text/plain": [
       "plot without title"
      ]
     },
     "metadata": {},
     "output_type": "display_data"
    }
   ],
   "source": [
    "#fig6g(var.data,rand.var.mu,vals)\n",
    "fig6g.rainbow(var.data,rand.var.mu,vals)"
   ]
  },
  {
   "cell_type": "code",
   "execution_count": 96,
   "metadata": {},
   "outputs": [
    {
     "data": {
      "image/png": "iVBORw0KGgoAAAANSUhEUgAAA0gAAANICAMAAADKOT/pAAAASFBMVEUAAAAbnndNTU1oaGh1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\nBAigSIAAigQI+H8rCeyVXJNFhgAAAABJRU5ErkJggg==",
      "text/plain": [
       "plot without title"
      ]
     },
     "metadata": {},
     "output_type": "display_data"
    }
   ],
   "source": [
    "#fig6h(var.data,rand.var.mu,vals)\n",
    "fig6h.rainbow(var.data,rand.var.mu,vals)"
   ]
  },
  {
   "cell_type": "markdown",
   "metadata": {},
   "source": [
    "#### 2a) Do colour-pair comparisons made in CC, CP and PP conditions all generate the same dissimilarity ratings?"
   ]
  },
  {
   "cell_type": "markdown",
   "metadata": {},
   "source": [
    "Going beyond whether identical physical stimuli elicit zero dissimilarity, we want to know whether the same pair of colours elicits the same dissimilarity value for a given subject whether it's presented in a CC, CP or PP condition.  \n",
    "  \n",
    "For each colour comparison a subject makes (e.g. RED-BLUE), we will calculate the variance between their CC, CP and PP responses. We will then take the mean variance across all of these colour comparisons for a given subject and use that as a measure of consistency.  \n",
    "  \n",
    "If subjects are choosing randomly, we'd expect them to have a mean variance of three randomly selected values from 0-7, which is ~5.25 (as calculated numerically below).  \n",
    "  \n",
    "We will test to see if the mean variance for each subject is less than 5.25 in data from subjects in the Movingly magnified conditions. As the data is once again bounded we will use a beta-regression again."
   ]
  },
  {
   "cell_type": "code",
   "execution_count": 100,
   "metadata": {},
   "outputs": [],
   "source": [
    "h2a <- function(data,vals,summary=FALSE){\n",
    "    data$mean.var <- offset.beta(data$mean.var,max(vals))\n",
    "    \n",
    "    model.test <- stan_betareg(formula = mean.var ~ 1,\n",
    "                              data = data,\n",
    "                              # set the prior based on random responding\n",
    "                              prior_intercept = \n",
    "                                   normal(logit(rand.var.mu/max(vals)),\n",
    "                                          (rand.var.sd/max(vals))),\n",
    "                              iter=10000, # stabilise the estimates\n",
    "                               refresh=0\n",
    "                            )\n",
    "    \n",
    "    if(summary){\n",
    "        print(summary(model.test))\n",
    "    }else{\n",
    "           print(model.test)\n",
    "    }\n",
    "    HPD <- posterior_interval(model.test, prob = 0.95)\n",
    "    print(HPD)    \n",
    "    BF <- bayesfactor_parameters(model.test,null=logit(rand.var.mu/max(vals)))\n",
    "    print(BF)\n",
    "    print(plot(BF, show_intercept=TRUE))\n",
    "    \n",
    "    # Converted back to normalised trace\n",
    "    print(\"\")\n",
    "    print(\"Converted back to Mean Variance\")\n",
    "    intercept <- model.test[[1]][1]\n",
    "    print(paste('Intercept:',round(undo.logit(intercept,max(vals)),2)))\n",
    "    print(paste('HPD:',round(undo.logit(HPD[1,],max(vals)),2)))\n",
    "    \n",
    "    return(model.test)\n",
    "}"
   ]
  },
  {
   "cell_type": "code",
   "execution_count": 101,
   "metadata": {},
   "outputs": [
    {
     "name": "stdout",
     "output_type": "stream",
     "text": [
      "stan_betareg\n",
      " family:       beta [logit, link.phi=identity]\n",
      " formula:      mean.var ~ 1\n",
      " observations: 31\n",
      "------\n",
      "            Median MAD_SD\n",
      "(Intercept) -0.9    0.2  \n",
      "(phi)        2.9    0.8  \n",
      "\n",
      "------\n",
      "* For help interpreting the printed output see ?print.stanreg\n",
      "* For info on the priors used see ?prior_summary.stanreg\n",
      "                 2.5%      97.5%\n",
      "(Intercept) -1.244728 -0.6279524\n",
      "(phi)        1.670866  5.0254323\n"
     ]
    },
    {
     "name": "stderr",
     "output_type": "stream",
     "text": [
      "Sampling priors, please wait...\n"
     ]
    },
    {
     "name": "stdout",
     "output_type": "stream",
     "text": [
      "Bayes Factor (Savage-Dickey density ratio)\n",
      "\n",
      "Parameter   |      BF\n",
      "---------------------\n",
      "(Intercept) |   90.02\n",
      "(phi)       | < 0.001\n",
      "\n",
      "* Evidence Against The Null: -0.461[1] \"\"\n",
      "[1] \"Converted back to Mean Variance\"\n",
      "[1] \"Intercept: 3.76\"\n",
      "[1] \"HPD: 3.01\" \"HPD: 4.69\"\n"
     ]
    },
    {
     "data": {
      "text/plain": [
       "stan_betareg\n",
       " family:       beta [logit, link.phi=identity]\n",
       " formula:      mean.var ~ 1\n",
       " observations: 31\n",
       "------\n",
       "            Median MAD_SD\n",
       "(Intercept) -0.9    0.2  \n",
       "(phi)        2.9    0.8  \n",
       "\n",
       "------\n",
       "* For help interpreting the printed output see ?print.stanreg\n",
       "* For info on the priors used see ?prior_summary.stanreg"
      ]
     },
     "metadata": {},
     "output_type": "display_data"
    },
    {
     "data": {
      "image/png": "iVBORw0KGgoAAAANSUhEUgAAA0gAAANICAMAAADKOT/pAAAAZlBMVEUAAAAAv8QaGhoftrkl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\nYhAgEWKQ/wNUpa7vGRw8QQAAAABJRU5ErkJggg==",
      "text/plain": [
       "plot without title"
      ]
     },
     "metadata": {},
     "output_type": "display_data"
    }
   ],
   "source": [
    "# test all the Moving magnification data\n",
    "h2a(var.data.mag,vals)"
   ]
  },
  {
   "cell_type": "markdown",
   "metadata": {},
   "source": [
    "#### 2b) Are dissimilarity ratings for colour-pairs presented in the periphery affected by Moving magnification?"
   ]
  },
  {
   "cell_type": "markdown",
   "metadata": {},
   "source": [
    "Blah"
   ]
  },
  {
   "cell_type": "code",
   "execution_count": 102,
   "metadata": {},
   "outputs": [],
   "source": [
    "h2b <- function(data,summary=FALSE){\n",
    "    data$mean.var <- offset.beta(data$mean.var,max(vals))\n",
    "    \n",
    "    model.test <- stan_betareg(formula = mean.var ~ StimSize + Magnification + StimSize:Magnification,\n",
    "                data = data,\n",
    "                iter=10000, # helps to stabilise the estimates\n",
    "                refresh=0 # removes verbose output\n",
    "                )\n",
    "    \n",
    "    if(summary){\n",
    "        print(summary(model.test))\n",
    "    }else{\n",
    "           print(model.test)\n",
    "    }\n",
    "    HPD <- posterior_interval(model.test, prob = 0.95)\n",
    "    print(HPD)    \n",
    "    BF <- bayesfactor_parameters(model.test)\n",
    "    print(BF)\n",
    "    print(plot(BF, show_intercept=TRUE))\n",
    "    \n",
    "    # Converted back to normalised trace\n",
    "    print(\"\")\n",
    "    print(\"Converted back to Mean Variance\")\n",
    "    interaction <- model.test[[1]][4]\n",
    "    print(paste('Interaction:',round(undo.logit(interaction,max(vals)),2)))\n",
    "    print(paste('HPD:',round(undo.logit(HPD[1,],max(vals)),2)))\n",
    "    \n",
    "    return(model.test)\n",
    "}"
   ]
  },
  {
   "cell_type": "code",
   "execution_count": 103,
   "metadata": {},
   "outputs": [
    {
     "name": "stdout",
     "output_type": "stream",
     "text": [
      "stan_betareg\n",
      " family:       beta [logit, link.phi=identity]\n",
      " formula:      mean.var ~ StimSize + Magnification + StimSize:Magnification\n",
      " observations: 60\n",
      "------\n",
      "                       Median MAD_SD\n",
      "(Intercept)            -0.8    0.2  \n",
      "StimSize               -1.0    0.4  \n",
      "Magnification          -0.2    0.1  \n",
      "StimSize:Magnification  0.2    0.1  \n",
      "(phi)                   7.1    1.3  \n",
      "\n",
      "------\n",
      "* For help interpreting the printed output see ?print.stanreg\n",
      "* For info on the priors used see ?prior_summary.stanreg\n",
      "                             2.5%       97.5%\n",
      "(Intercept)            -1.2760919 -0.28794751\n",
      "StimSize               -1.8669399 -0.13883281\n",
      "Magnification          -0.3655620 -0.04119558\n",
      "StimSize:Magnification -0.1054442  0.42121599\n",
      "(phi)                   4.8558365  9.99007322\n"
     ]
    },
    {
     "name": "stderr",
     "output_type": "stream",
     "text": [
      "Sampling priors, please wait...\n"
     ]
    },
    {
     "name": "stdout",
     "output_type": "stream",
     "text": [
      "Bayes Factor (Savage-Dickey density ratio)\n",
      "\n",
      "Parameter              |     BF\n",
      "-------------------------------\n",
      "(Intercept)            |   8.34\n",
      "StimSize               |   2.42\n",
      "Magnification          |   2.58\n",
      "StimSize:Magnification |  0.196\n",
      "(phi)                  | > 1000\n",
      "\n",
      "* Evidence Against The Null: 0[1] \"\"\n",
      "[1] \"Converted back to Mean Variance\"\n",
      "[1] \"Interaction: 7.26\"\n",
      "[1] \"HPD: 2.94\" \"HPD: 5.77\"\n"
     ]
    },
    {
     "data": {
      "text/plain": [
       "stan_betareg\n",
       " family:       beta [logit, link.phi=identity]\n",
       " formula:      mean.var ~ StimSize + Magnification + StimSize:Magnification\n",
       " observations: 60\n",
       "------\n",
       "                       Median MAD_SD\n",
       "(Intercept)            -0.8    0.2  \n",
       "StimSize               -1.0    0.4  \n",
       "Magnification          -0.2    0.1  \n",
       "StimSize:Magnification  0.2    0.1  \n",
       "(phi)                   7.1    1.3  \n",
       "\n",
       "------\n",
       "* For help interpreting the printed output see ?print.stanreg\n",
       "* For info on the priors used see ?prior_summary.stanreg"
      ]
     },
     "metadata": {},
     "output_type": "display_data"
    },
    {
     "data": {
      "image/png": "iVBORw0KGgoAAAANSUhEUgAAA0gAAANICAMAAADKOT/pAAAAZlBMVEUAAAAAv8QaGhoftrkl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\nYII=",
      "text/plain": [
       "plot without title"
      ]
     },
     "metadata": {},
     "output_type": "display_data"
    }
   ],
   "source": [
    "# test all the data\n",
    "h2b(var.data)"
   ]
  },
  {
   "cell_type": "markdown",
   "metadata": {},
   "source": [
    "# Additional Supplementary Figures"
   ]
  },
  {
   "cell_type": "markdown",
   "metadata": {},
   "source": [
    "### Full dissimilarity plot for each participant per group"
   ]
  },
  {
   "cell_type": "code",
   "execution_count": null,
   "metadata": {},
   "outputs": [],
   "source": [
    "plot.all <- function(datadf,info=TRUE){\n",
    "    size <- sort(unique(datadf$stimulus_radius))\n",
    "    scale <- sort(unique(datadf$Moving_scale))\n",
    "    for(stim in (size)){\n",
    "        for(mag in (scale)){\n",
    "            data <- (subset(datadf,stimulus_radius == stim & Moving_scale == mag))\n",
    "            IDs <- sort(unique(data$subject))\n",
    "            n <- length(IDs)\n",
    "            group.label <- paste('Magnification',mag,'Size',stim)\n",
    "            \n",
    "            k=1\n",
    "            plot.list <- list()\n",
    "            for(id in IDs){\n",
    "                #print(id) # testing\n",
    "                subjectdf <- subset(data, subject == id)\n",
    "                plot <- dissimplot.full(color.eccen.mat(dissimdata.subject(subjectdf),\n",
    "                                                       symmeterise=FALSE,sym.CP=FALSE,),\n",
    "                                        dependent='dissimilarity',label=id,\n",
    "                                       info=info)\n",
    "                plot.list[[k]] <- as.grob(plot)\n",
    "                k = k+1\n",
    "                #print(plot) # testing\n",
    "             #   print(k) # testing\n",
    "            }\n",
    "            #print(plot.list) # testing\n",
    "            g <- arrangeGrob(grobs = plot.list, ncol=4)\n",
    "            #print(n) # testing\n",
    "            #print(ceiling(n/3)*5) # testing\n",
    "            ggsave(paste('supfig - Group -',group.label,'- all subjects.png'),g,height=ceiling(n/3)*5,width=22)\n",
    "        }\n",
    "    }\n",
    "}"
   ]
  },
  {
   "cell_type": "code",
   "execution_count": null,
   "metadata": {},
   "outputs": [],
   "source": [
    "cleandf <- subset(datadf, noncompliant == 0)\n",
    "cleandf <- subset(cleandf, (stimulus_radius == 1) | (stimulus_radius == 0.05))\n",
    "#plot.all(cleandf)\n",
    "plot.all(cleandf,info=FALSE)\n"
   ]
  },
  {
   "cell_type": "markdown",
   "metadata": {},
   "source": [
    "# Sampling Plan"
   ]
  },
  {
   "cell_type": "markdown",
   "metadata": {},
   "source": [
    "## Simulations"
   ]
  },
  {
   "cell_type": "markdown",
   "metadata": {},
   "source": [
    "### Hypothesis 1"
   ]
  },
  {
   "cell_type": "code",
   "execution_count": null,
   "metadata": {},
   "outputs": [],
   "source": [
    "# helper functions\n",
    "ab2mu <- function(a,b){\n",
    "    return(a / (a + b))\n",
    "}\n",
    "\n",
    "ab2phi <- function(a,b){\n",
    "    return(a + b)\n",
    "}\n",
    "\n",
    "muphi2a <- function(mu,phi){\n",
    "    return(mu*phi)\n",
    "}\n",
    "\n",
    "muphi2b <- function(mu,phi){\n",
    "    return(-mu*phi + phi)\n",
    "}\n",
    "\n"
   ]
  },
  {
   "cell_type": "code",
   "execution_count": null,
   "metadata": {},
   "outputs": [],
   "source": [
    "# Generate beta distributions\n",
    "gen_beta <- function(mu,phi,samples=20,plot=FALSE){\n",
    "    a <- muphi2a(mu,phi)\n",
    "    b <- muphi2b(mu,phi)\n",
    "    rand.vals <- runif(samples)\n",
    "    beta <- qbeta(rand.vals,a,b)\n",
    "    if(plot){\n",
    "        hist(beta, xlim = c(0,1))\n",
    "    }\n",
    "    return(beta)\n",
    "}"
   ]
  },
  {
   "cell_type": "code",
   "execution_count": null,
   "metadata": {},
   "outputs": [],
   "source": [
    "# Generate distributions for each potential group\n",
    "fix0.05 <- gen_beta(0.5,2,plot=TRUE)\n",
    "fix1 <- gen_beta(0.15,2,plot=TRUE)\n",
    "mag0.05 <- gen_beta(0.15,2)\n",
    "mag1 <- gen_beta(0.15,2)\n",
    "\n",
    "# format the vectors\n",
    "format.group <- function(value,name,stimsize,mag){\n",
    "    df <- as.data.frame(value)\n",
    "    df$name <- name\n",
    "    df$StimSize <- stimsize\n",
    "    df$Magnification <- mag\n",
    "    df$ID <- c(1:nrow(df))\n",
    "    \n",
    "    return(df)\n",
    "}\n"
   ]
  },
  {
   "cell_type": "code",
   "execution_count": null,
   "metadata": {},
   "outputs": [],
   "source": [
    "# put the samples in a dataframe\n",
    "sim.df <- function(fix0.05,fix1,mag0.05,mag1){\n",
    "    fix0.05df <- format.group(fix0.05,'FIX 0.05','small','fix')\n",
    "    fix1df <- format.group(fix1,'FIX 1','big','fix')\n",
    "    mag0.05df <- format.group(mag0.05,'MAG 0.05','small','mag')\n",
    "    mag1df <- format.group(mag1,'MAG 1','big','mag')\n",
    "    \n",
    "    return(rbind(fix0.05df,fix1df,mag0.05df,mag1df))\n",
    "}\n",
    "sim.data <- sim.df(fix0.05,fix1,mag0.05,mag1)"
   ]
  },
  {
   "cell_type": "code",
   "execution_count": null,
   "metadata": {},
   "outputs": [],
   "source": [
    "# adjust samples so that the lowest values are equivalent to the experiment\n",
    "sim.adjust <- function(df){\n",
    "    df$value[df$value < (1/3)/max.DSR] <- 1/3/max.DSR\n",
    "    return(df)\n",
    "}\n",
    "sim.data <- sim.adjust(sim.data)\n",
    "head(sim.data)"
   ]
  },
  {
   "cell_type": "code",
   "execution_count": null,
   "metadata": {},
   "outputs": [],
   "source": [
    "# plot the dataframe\n",
    "plot.sim <- function(sim.data,histogram=FALSE,hyp=1){\n",
    "    sim.data$value <- sim.data$value*max.DSR\n",
    "    plot <- ggplot(sim.data, aes(x=name, y = value, color = name)) + \n",
    "            geom_violin() +\n",
    "            geom_point(position=position_dodge(width=0.75)) +\n",
    "            #scale_x_discrete(labels=c(\"FIX\",'MAG')) +\n",
    "            theme_bw(base_size = 14) +\n",
    "            theme(legend.title=element_blank()) +\n",
    "            xlab(\"\")\n",
    "            #scale_colour_manual(values = c(\"orange\",'purple'))\n",
    "    if(hyp==1){\n",
    "        plot <- plot + ylim(0,7) +\n",
    "        geom_hline(yintercept=3.5, linetype='dashed') +\n",
    "        ylab(\"Simulated\\nNormalised Trace\") \n",
    "    } else if (hyp==2){\n",
    "        plot <- plot + ylim(0,max(vals)) +\n",
    "        geom_hline(yintercept=rand.var.mu, linetype='dashed') +\n",
    "        ylab(\"Mean Variance\") \n",
    "    }\n",
    "    \n",
    "    return(plot)\n",
    "}\n",
    "plot.sim(sim.data)"
   ]
  },
  {
   "cell_type": "code",
   "execution_count": null,
   "metadata": {},
   "outputs": [],
   "source": [
    "plot.sim.raincloud <- function(df){\n",
    "    \n",
    "    df$value <- logit(df$value)\n",
    "    \n",
    "    plot <- ggplot(df,aes(x=name,y=value,fill=name,colour=name)) +\n",
    "            geom_flat_violin(position = position_nudge(x = 0.25, y = 0),adjust=2,trime=FALSE) +\n",
    "            geom_point(position = position_jitter(width=.15,height=0),size=1) +\n",
    "            geom_boxplot(aes(x=as.numeric(as.factor(name)) + 0.25, y = value),alpha = 0.3, outlier.shape=NA, width = .1, colour = \"BLACK\") +\n",
    "            ylab(\"Simulated Logistic-Transformed\\nNormalised Trace\") + xlab('')+coord_flip()+theme_cowplot()+guides(fill=FALSE) +\n",
    "            theme(axis.text.y=element_blank(),axis.ticks.y=element_blank(),axis.line.y=element_blank(),legend.title=element_blank()) +\n",
    "            geom_hline(yintercept=logit(0.5), linetype='dashed')\n",
    "    \n",
    "    return(plot)\n",
    "}\n",
    "plot.sim.raincloud(sim.data)"
   ]
  },
  {
   "cell_type": "code",
   "execution_count": null,
   "metadata": {},
   "outputs": [],
   "source": [
    "# Statistical test\n",
    "\n",
    "sim.test <- stan_betareg(formula = value ~ StimSize + Magnification + StimSize:Magnification,\n",
    "                        data = sim.data)\n",
    "sim.test\n",
    "region <- bayesfactor_parameters(sim.test)\n",
    "region\n",
    "plot(region, show_intercept = TRUE)"
   ]
  },
  {
   "cell_type": "code",
   "execution_count": null,
   "metadata": {},
   "outputs": [],
   "source": [
    "# put everything together\n",
    "run.sim <- function(n=20,vis=0.1,blind=0.4,phi.vis=10,phi.blind=10,hyp=1,\n",
    "                    seed.data=1,seed.test=1,seed.BF=3,\n",
    "                   BF.samples=2,print1=FALSE,print2=FALSE,\n",
    "                   within=TRUE){\n",
    "    \n",
    "    \n",
    "    \n",
    "    # Generate distributions for each potential group\n",
    "    #set.seed(seed.data)\n",
    "    \n",
    "    \n",
    "    #set.seed(seed.BF)\n",
    "    BF.v <- vector()\n",
    "    for(i in 1:BF.samples){\n",
    "        \n",
    "        fix0.05 <- gen_beta(blind,phi.blind, samples=n)\n",
    "        fix1 <- gen_beta(vis,phi.vis, samples=n)\n",
    "        mag0.05 <- gen_beta(vis,phi.vis, samples=n)\n",
    "        mag1 <- gen_beta(vis,phi.vis, samples=n)\n",
    "\n",
    "        sim.data <- sim.df(fix0.05,fix1,mag0.05,mag1)\n",
    "        sim.data <- sim.adjust(sim.data)\n",
    "        \n",
    "        \n",
    "        #set.seed(sample(1:10000, 1, replace=FALSE))\n",
    "        if(within){\n",
    "            sim.test <- stan_glmer(formula = value ~ Magnification + StimSize + StimSize:Magnification + (1|ID),\n",
    "                        data = sim.data,\n",
    "                            #prior_intercept=normal(mean(fix0.05),var(fix0.05)^0.5),\n",
    "                            family = mgcv::betar,\n",
    "                             refresh=0, # suppressed the output\n",
    "                             iter=1000 # improve stability?\n",
    "                            )\n",
    "        } else {\n",
    "            sim.test <- stan_betareg(formula = value ~ Magnification + StimSize + StimSize:Magnification,\n",
    "                        data = sim.data,\n",
    "                            #prior_intercept=normal(mean(fix0.05),var(fix0.05)^0.5),\n",
    "                             refresh=0, # suppressed the output\n",
    "                             iter=1000 # improve stability?\n",
    "                            )\n",
    "        }\n",
    "        \n",
    "        region <- bayesfactor_parameters(sim.test,\n",
    "                                         #parameters='Magnificationmag:StimSizesmall',\n",
    "                                        # direction='<'\n",
    "                                        )\n",
    "        BF.v[i] <- subset(region, Parameter == 'Magnificationmag:StimSizesmall')$BF\n",
    "        if(print1){\n",
    "            print(BF.v[i])\n",
    "            print(plot.sim(sim.data,hyp=hyp))\n",
    "        }\n",
    "    }\n",
    "    \n",
    "    # show the stats test\n",
    "    #set.seed(seed.test)\n",
    "    if(print2){\n",
    "        print(sim.test)\n",
    "        print(region)\n",
    "        print(plot(region, show_intercept = TRUE))\n",
    "    }\n",
    "    \n",
    "    return(BF.v)\n",
    "}"
   ]
  },
  {
   "cell_type": "code",
   "execution_count": null,
   "metadata": {},
   "outputs": [],
   "source": [
    "run.sim(n=5,vis=0.05,blind=0.32,phi.vis=10,phi.blind=10,\n",
    "        seed.data=1,seed.test=9,seed.BF=26,BF.samples=1,\n",
    "        print1=TRUE,print2=TRUE,\n",
    "       within=FALSE)\n",
    "#run.sim(n=20,vis=0.05,blind=0.32,phi.vis=2.2,phi.blind=2.2,seed.data=1,seed.test=9,seed.BF=26,BF.samples=5)"
   ]
  },
  {
   "cell_type": "markdown",
   "metadata": {},
   "source": [
    "### Hypothesis 2"
   ]
  },
  {
   "cell_type": "code",
   "execution_count": null,
   "metadata": {},
   "outputs": [],
   "source": [
    "# visualise the distribution of possible variances\n",
    "vis.var <- function(n=100000,log=FALSE){\n",
    "    var.v <- vector()\n",
    "    for(i in 1:n){\n",
    "        entry <- sample(0:7, 3, replace=TRUE)\n",
    "        var.v[i] <- var(entry)\n",
    "    }\n",
    "    print(mean(var.v))\n",
    "    print(median(var.v))\n",
    "    if(log){\n",
    "        return(hist(log(var.v)))\n",
    "    } else{\n",
    "        return(hist(var.v,breaks=16, xlim=c(0,16)))\n",
    "    }\n",
    "    \n",
    "}"
   ]
  },
  {
   "cell_type": "code",
   "execution_count": null,
   "metadata": {},
   "outputs": [],
   "source": [
    "vis.var()\n",
    "vis.var(log=TRUE)"
   ]
  },
  {
   "cell_type": "code",
   "execution_count": null,
   "metadata": {},
   "outputs": [],
   "source": [
    "run.sim(n=20,vis=0.0625,blind=rand.var.mu/max(vals),phi.vis=5,phi.blind=5,hyp=2)"
   ]
  },
  {
   "cell_type": "markdown",
   "metadata": {},
   "source": [
    "### Alternate analysis method"
   ]
  },
  {
   "cell_type": "markdown",
   "metadata": {},
   "source": [
    "Going to explore what would happen if we instead worked on the transformations:  \n",
    " * CP' = CP - CC\n",
    " * PP' = PP - CC"
   ]
  },
  {
   "cell_type": "code",
   "execution_count": null,
   "metadata": {},
   "outputs": [],
   "source": [
    "# calcualte the mean of the difference between two random dissimilarity values chosen n times\n",
    "diff.trans <- function(n=10000,abs=TRUE){\n",
    "    # possible dissimilarity values\n",
    "    dis.v <- c(0:7)\n",
    "    v <- vector()\n",
    "    \n",
    "    for(i in 1:n){\n",
    "        d1 <- sample(dis.v, 1, replace=TRUE)\n",
    "        d2 <- sample(dis.v, 1, replace=TRUE)\n",
    "        if(abs){\n",
    "            v[i] <- abs(d1 - d2)\n",
    "            bins <- 8\n",
    "        } else{\n",
    "            v[i] <- (d1 - d2) + 0.5\n",
    "            bins <- 15\n",
    "        }\n",
    "        \n",
    "    }\n",
    "    print(hist(v, breaks=bins, freq=TRUE))\n",
    "    return(v)\n",
    "}\n",
    "\n",
    "dist <- diff.trans(abs=FALSE)\n",
    "min(dist)\n",
    "max(dist)\n",
    "mean(dist)\n",
    "median(dist)\n",
    "sd(dist)\n"
   ]
  },
  {
   "cell_type": "code",
   "execution_count": null,
   "metadata": {},
   "outputs": [],
   "source": []
  }
 ],
 "metadata": {
  "kernelspec": {
   "display_name": "R",
   "language": "R",
   "name": "ir"
  },
  "language_info": {
   "codemirror_mode": "r",
   "file_extension": ".r",
   "mimetype": "text/x-r-source",
   "name": "R",
   "pygments_lexer": "r",
   "version": "3.6.1"
  }
 },
 "nbformat": 4,
 "nbformat_minor": 4
}
