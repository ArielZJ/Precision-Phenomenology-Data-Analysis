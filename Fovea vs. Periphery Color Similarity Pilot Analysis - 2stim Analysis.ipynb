{
 "cells": [
  {
   "cell_type": "markdown",
   "metadata": {},
   "source": [
    "### Filename we're going to play with"
   ]
  },
  {
   "cell_type": "code",
   "execution_count": 324,
   "metadata": {},
   "outputs": [],
   "source": [
    "filename = \"data/arielzj_2020_fvp_2stim_magnified_v3_20_08_22.csv\""
   ]
  },
  {
   "cell_type": "code",
   "execution_count": 97,
   "metadata": {},
   "outputs": [],
   "source": [
    "stimuli_number = 9\n",
    "response_type_list = c('during')\n",
    "trial_types = c('during')\n",
    "response_names = c('During')\n",
    "catch_trial_number = 10 # what it's set at at the moment, arbitrary\n",
    "condition_number = 3"
   ]
  },
  {
   "cell_type": "code",
   "execution_count": 98,
   "metadata": {},
   "outputs": [],
   "source": [
    "trace_cutoff = 2 # mean dissimilarity for physically identical colours must be below this\n",
    "antitrace_cutoff = 3.5 # mean dissimilarity accepted for maximally physically different colours must be above this\n",
    "rt_cutoff = 700 # mean reaction times must be above this"
   ]
  },
  {
   "cell_type": "code",
   "execution_count": 99,
   "metadata": {},
   "outputs": [],
   "source": [
    "exclude_noncompliant = FALSE"
   ]
  },
  {
   "cell_type": "code",
   "execution_count": 168,
   "metadata": {},
   "outputs": [],
   "source": [
    "plotsubjects = TRUE\n",
    "plotsubjects_mixed = TRUE\n",
    "plot_within_between = FALSE\n",
    "plotexpsummary = FALSE\n",
    "across = FALSE\n",
    "population = FALSE"
   ]
  },
  {
   "cell_type": "markdown",
   "metadata": {},
   "source": [
    "### Initialisations"
   ]
  },
  {
   "cell_type": "code",
   "execution_count": 101,
   "metadata": {},
   "outputs": [],
   "source": [
    "# live dangerously, get rid of pesky warnings\n",
    "oldw <- getOption(\"warn\")\n",
    "options(warn = -1)"
   ]
  },
  {
   "cell_type": "code",
   "execution_count": 102,
   "metadata": {
    "scrolled": true
   },
   "outputs": [],
   "source": [
    "shhh <- suppressPackageStartupMessages # stops annoying warnings when loading libraries\n",
    "library(tidyr)\n",
    "library(plyr)\n",
    "library(dplyr)\n",
    "library(ggplot2)\n",
    "library(gridExtra)\n",
    "library(MASS)\n",
    "library(Matrix)\n",
    "library(reshape2)\n",
    "library(ape) # stats\n",
    "library(vegan) # stats\n",
    "library(RColorBrewer)\n",
    "library(cocor)\n",
    "library(DescTools)\n",
    "library(reshape2)\n",
    "library(grid)\n",
    "library(ggplotify)"
   ]
  },
  {
   "cell_type": "code",
   "execution_count": 103,
   "metadata": {},
   "outputs": [],
   "source": [
    "# rainbowcloud theme for plotting, stolen from: \n",
    "# https://micahallen.org/2018/03/15/introducing-raincloud-plots/?utm_campaign=News&utm_medium=Community&utm_source=DataCamp.com\n",
    "raincloud_theme = theme(\n",
    "text = element_text(size = 10),\n",
    "axis.title.x = element_text(size = 16),\n",
    "axis.title.y = element_text(size = 16),\n",
    "axis.text = element_text(size = 14),\n",
    "axis.text.x = element_text(angle = 45, vjust = 0.5),\n",
    "legend.title=element_text(size=16),\n",
    "legend.text=element_text(size=16),\n",
    "legend.position = \"right\",\n",
    "plot.title = element_text(lineheight=.8, face=\"bold\", size = 16),\n",
    "panel.border = element_blank(),\n",
    "panel.grid.minor = element_blank(),\n",
    "panel.grid.major = element_blank(),\n",
    "axis.line.x = element_line(colour = 'black', size=0.5, linetype='solid'),\n",
    "axis.line.y = element_line(colour = 'black', size=0.5, linetype='solid'))"
   ]
  },
  {
   "cell_type": "code",
   "execution_count": 104,
   "metadata": {},
   "outputs": [],
   "source": [
    "# stealing ability to make flat violin plots\n",
    "source(\"https://gist.githubusercontent.com/benmarwick/2a1bb0133ff568cbe28d/raw/fb53bd97121f7f9ce947837ef1a4c65a73bffb3f/geom_flat_violin.R\")"
   ]
  },
  {
   "cell_type": "markdown",
   "metadata": {},
   "source": [
    "### Functions we're going to use to do the analysis later"
   ]
  },
  {
   "cell_type": "markdown",
   "metadata": {},
   "source": [
    "#### Miscellaneous"
   ]
  },
  {
   "cell_type": "code",
   "execution_count": 105,
   "metadata": {},
   "outputs": [],
   "source": [
    "# get plot eccentricity labels\n",
    "ploteccen <- function(datadf){\n",
    "    if(datadf$Circle_1[1] == -1){\n",
    "            label1 = 'Foveal'\n",
    "        } else {\n",
    "            label1 = 'Peripheral'\n",
    "        }\n",
    "        if(datadf$Circle_2[1] == -1){\n",
    "            label2 = 'Foveal'\n",
    "        } else {\n",
    "            label2 = 'Peripheral'\n",
    "        }\n",
    "    return(c(label1,label2))\n",
    "}\n",
    "\n",
    "e2l <- function(eccentricity){\n",
    "    if(eccentricity == -1){\n",
    "        return('Foveal')\n",
    "    } else {\n",
    "        return('Peripheral')\n",
    "    }\n",
    "}\n",
    "\n",
    "l2e <- function(eccentricity){\n",
    "    if(eccentricity == 'Foveal'){\n",
    "        return(-1)\n",
    "    } else {\n",
    "        return(1)\n",
    "    }\n",
    "}"
   ]
  },
  {
   "cell_type": "markdown",
   "metadata": {},
   "source": [
    "#### Dissimilarity Matrices"
   ]
  },
  {
   "cell_type": "code",
   "execution_count": 106,
   "metadata": {},
   "outputs": [],
   "source": [
    "# obtain dissimilarity matrices with particular eccentricity values from dataframes\n",
    "dissimdata <- function(datadf, colors, eccentricity1, eccentricity2){\n",
    "    # select only the eccentricities we want to keep, e.g. (foveal, foveal)\n",
    "    datatemp = subset(datadf, Circle_1 == eccentricity1)\n",
    "    datatemp = subset(datatemp, Circle_2 == eccentricity2)\n",
    "    \n",
    "    # refactor the levels so they can be plotted properly later if need be\n",
    "    datatemp$Color_1 <- with(datatemp, factor(Color_1, levels = colors))\n",
    "    datatemp$Color_2 <- with(datatemp, factor(Color_2, levels = colors))\n",
    "    \n",
    "    return(datatemp)\n",
    "}"
   ]
  },
  {
   "cell_type": "code",
   "execution_count": 107,
   "metadata": {},
   "outputs": [],
   "source": [
    "# plot a dissimilarity matrix\n",
    "dissimplot <- function(datadf,colors,dependent='color'){\n",
    "    \n",
    "   # labeling the plot eccentricity comparisons\n",
    "    label1 <- ploteccen(datadf)[1]\n",
    "    label2 <- ploteccen(datadf)[2]\n",
    "    \n",
    "    \n",
    "    if(dependent == 'position'){ # use position to generate matrix (as a negative control)\n",
    "        plot <- ggplot(datadf, aes(x = bin1, y = bin2)) +\n",
    "        theme(        axis.title.x = element_blank(), axis.title.y = element_blank(),\n",
    "                      plot.title = element_text(hjust = 0.5)) +\n",
    "                      scale_x_discrete(limits=c(1,2,3,4,5,6,7,8,9)) + scale_y_discrete(limits=c(1,2,3,4,5,6,7,8,9))\n",
    "    } else { # use the colors to generate the matrix\n",
    "        plot <- ggplot(datadf, aes(x = Color_1, y = Color_2)) +\n",
    "        theme(axis.text.x = element_text(colour = colors), axis.text.y = element_text(colour = colors),\n",
    "                      axis.title.x = element_blank(), axis.title.y = element_blank(),\n",
    "                      plot.title = element_text(hjust = 0.5))\n",
    "    }\n",
    "    # stuff that's standard across plot types\n",
    "        plot <- plot + geom_raster(aes(fill = similarity)) +\n",
    "                labs(title = paste(label1, label2, sep = \" - \")) +\n",
    "                scale_fill_gradientn(colours = c(\"white\",\"black\")) +\n",
    "                guides(fill=guide_legend(title=\"Dissimilarity\"))\n",
    "    return(plot)\n",
    "}"
   ]
  },
  {
   "cell_type": "code",
   "execution_count": 108,
   "metadata": {},
   "outputs": [],
   "source": [
    "df2mat_asymmetry <- function(datadf,eccentricity1,eccentricity2){\n",
    "    \n",
    "    datadf <- dissimdata(datadf, colors, eccentricity1, eccentricity2)\n",
    "    \n",
    "    # aggregate over the remaining columns of interest\n",
    "    nmdsdata <- aggregate(datadf, by = list(datadf$Color_1, datadf$Color_2),FUN=mean)\n",
    "    nmdsdata$Color_1 <- nmdsdata$Group.1\n",
    "    nmdsdata$Color_2 <- nmdsdata$Group.2\n",
    "\n",
    "    nmdsdata = subset(nmdsdata, select = c(\"Color_1\",\"Color_2\",\"similarity\"))  # get rid of unnecessary columns\n",
    "    nmdsmatrix <- spread(nmdsdata, Color_1, similarity)\n",
    "    # convert the dataframe to a matrix\n",
    "    nmdsmatrix <- data.matrix(nmdsmatrix)\n",
    "    nmdsmatrix <- nmdsmatrix[,-1] # get rid of the labels in the first column, it messes up the code\n",
    "    matdf <- as.data.frame(nmdsmatrix - t(nmdsmatrix))\n",
    "    matdf$colorset <- c(abcolors)\n",
    "    num_colors <- length(colors)\n",
    "    matdf <- matdf %>% gather(othercolor,asymmetry ,1:num_colors)\n",
    "    return(matdf)\n",
    "}"
   ]
  },
  {
   "cell_type": "code",
   "execution_count": 109,
   "metadata": {},
   "outputs": [],
   "source": [
    "# plot an asymmetry matrix\n",
    "# BROKEN - FIX AS PER YUSUKE'S CODE: https://docs.google.com/presentation/d/1TQZ2ohqZfeWYq0TATobiSZHlkJJuZZ6vqbAmOPQaUDI/edit#slide=id.p1\n",
    "asymmetry_plot <- function(datadf,eccentricity1,eccentricity2,colors){\n",
    "    \n",
    "    # labeling the types\n",
    "    label1 <- \"Presented\"\n",
    "    label2 <- \"Response Screen\"\n",
    "    \n",
    "    datadf <- df2mat_asymmetry(datadf,eccentricity1,eccentricity2)\n",
    "    \n",
    "    # refactor the levels so they can be plotted properly later if need be\n",
    "    datadf$colorset <- with(datadf, factor(colorset, levels = colors))\n",
    "    datadf$othercolor <- with(datadf, factor(othercolor, levels = colors))\n",
    "    \n",
    "    plot <- ggplot(datadf, aes(x = colorset, y = othercolor)) +\n",
    "        theme(axis.text.x = element_text(colour = colors), axis.text.y = element_text(colour = colors),\n",
    "                      axis.title.x = element_blank(), axis.title.y = element_blank(),\n",
    "                      plot.title = element_text(hjust = 0.5))\n",
    "    \n",
    "    # stuff that's standard across plot types\n",
    "        plot <- plot + geom_raster(aes(fill = asymmetry)) +\n",
    "                labs(title = paste(label1, label2, sep = \" - \")) +\n",
    "                scale_fill_gradientn(colours = c(\"blue\",\"white\",\"red\"), limits = c(-4,4)) +\n",
    "                guides(fill=guide_legend(title=\"Dissimilarity\\nAsymmetry\"))\n",
    "    return(plot)\n",
    "}"
   ]
  },
  {
   "cell_type": "code",
   "execution_count": 110,
   "metadata": {},
   "outputs": [],
   "source": [
    "# making a matrix symmetric. Stolen from dclone: https://rdrr.io/github/datacloning/dclone/src/R/make.symmetric.R\n",
    "make.symmetric <-\n",
    "function(x)\n",
    "{\n",
    "    if (dim(x)[1] != dim(x)[2])\n",
    "        stop(\"'x' is not sqare matrix\")\n",
    "    rval <- t(x)\n",
    "    m <- (x[lower.tri(x)] + rval[lower.tri(rval)]) / 2\n",
    "    rval[lower.tri(rval)] <- m\n",
    "    rval <- t(rval)\n",
    "    rval[lower.tri(rval)] <- m\n",
    "    rval\n",
    "}"
   ]
  },
  {
   "cell_type": "markdown",
   "metadata": {},
   "source": [
    "#### Multidimensional Scaling Plots"
   ]
  },
  {
   "cell_type": "code",
   "execution_count": 111,
   "metadata": {},
   "outputs": [],
   "source": [
    "# turn a dataset into a matrix\n",
    "df2mat <- function(datadf,eccentricity1,eccentricity2,dependent='color'){\n",
    "    \n",
    "    # select only the eccentricities we want to keep, e.g. (foveal, foveal)\n",
    "    datadf = subset(datadf, Circle_1 == eccentricity1 & Circle_2 == eccentricity2)\n",
    "    \n",
    "    if(dependent == 'position'){ # using stimulus location as a negative control\n",
    "        # aggregate over the remaining columns of interest\n",
    "        nmdsdata <- aggregate(datadf, by = list(datadf$bin1, datadf$bin2),FUN=mean)\n",
    "        nmdsdata$bin1 <- nmdsdata$Group.1\n",
    "        nmdsdata$bin2 <- nmdsdata$Group.2\n",
    "        \n",
    "        nmdsdata = subset(nmdsdata, select = c(\"bin1\",\"bin2\",\"similarity\"))  # get rid of unnecessary columns\n",
    "        nmdsmatrix <- spread(nmdsdata, bin1, similarity)\n",
    "    } else { # color as per normal\n",
    "        # aggregate over the remaining columns of interest\n",
    "        nmdsdata <- aggregate(datadf, by = list(datadf$Color_1, datadf$Color_2),FUN=mean)\n",
    "        nmdsdata$Color_1 <- nmdsdata$Group.1\n",
    "        nmdsdata$Color_2 <- nmdsdata$Group.2\n",
    "        \n",
    "        nmdsdata = subset(nmdsdata, select = c(\"Color_1\",\"Color_2\",\"similarity\"))  # get rid of unnecessary columns\n",
    "        nmdsmatrix <- spread(nmdsdata, Color_1, similarity)\n",
    "    }\n",
    "    \n",
    "    # convert the dataframe to a matrix\n",
    "    nmdsmatrix <- data.matrix(nmdsmatrix)\n",
    "    nmdsmatrix <- nmdsmatrix[,-1] # get rid of the labels in the first column, it messes up the code\n",
    "    \n",
    "    # having 0 dissimilarity between identical objects messes up the algorithm\n",
    "    # changing the 0 values to an arbitrarily small value, but this is not a good long-term solution\n",
    "    # need to find a better way of doing this\n",
    "    nmdsmatrix[nmdsmatrix == 0] <- 0.01\n",
    "    \n",
    "    \n",
    "    nmdsmatrix <- make.symmetric(nmdsmatrix) # averaging over Color_1 vs. Color_2 & Color_2 vs. Color_1    \n",
    "    return(nmdsmatrix)\n",
    "}"
   ]
  },
  {
   "cell_type": "code",
   "execution_count": 112,
   "metadata": {},
   "outputs": [],
   "source": [
    "# convert a standard matrix to a distance matrix\n",
    "mat2dist <- function(mat){\n",
    "    \n",
    "    return(distmat <- as.dist(mat))\n",
    "}"
   ]
  },
  {
   "cell_type": "markdown",
   "metadata": {},
   "source": [
    "Non-metric multidimensional scaling (NMDS)"
   ]
  },
  {
   "cell_type": "code",
   "execution_count": 113,
   "metadata": {},
   "outputs": [],
   "source": [
    "# find the nmds fit for a dataset\n",
    "nmdsfit <- function(distmatrix){\n",
    "      \n",
    "    fit <- isoMDS(distmatrix,k=2, maxit=100)\n",
    "    return(fit)\n",
    "}"
   ]
  },
  {
   "cell_type": "code",
   "execution_count": 114,
   "metadata": {},
   "outputs": [],
   "source": [
    "# plot the nmds fit\n",
    "nmdsplot <- function(fit, colors, abcolors, eccentricity1, eccentricity2){\n",
    "    \n",
    "    # get labels\n",
    "    \n",
    "    # change the nmdsfit back to a dataframe\n",
    "    nmdsdf <- as.data.frame(fit)\n",
    "    \n",
    "    plot <-     ggplot(nmdsdf, aes(x = points.1, y = points.2, color=colors, fill=colors)) + geom_point(size =10) + \n",
    "                scale_colour_manual(values = abcolors) + scale_fill_manual(values = abcolors) + \n",
    "                xlab(\"Dimension 1\") + ylab(\"Dimension 2\") + \n",
    "                ggtitle(paste(e2l(eccentricity1),e2l(eccentricity2),'Non-metric MDS',sep=' - '))\n",
    "    return(plot)\n",
    "}"
   ]
  },
  {
   "cell_type": "markdown",
   "metadata": {},
   "source": [
    "Classical multidimensional scaling"
   ]
  },
  {
   "cell_type": "code",
   "execution_count": 115,
   "metadata": {},
   "outputs": [],
   "source": [
    "# find the cmds fit for a dataset\n",
    "cmdsfit <- function(distmatrix){\n",
    "    \n",
    "    fit <- cmdscale(distmatrix,k=2)\n",
    "    return(fit)\n",
    "}"
   ]
  },
  {
   "cell_type": "code",
   "execution_count": 116,
   "metadata": {},
   "outputs": [],
   "source": [
    "# plot the cmds fit\n",
    "cmdsplot <- function(fit, colors, abcolors, eccentricity1, eccentricity2){\n",
    "    \n",
    "    # get labels\n",
    "    \n",
    "    # change the nmdsfit back to a dataframe\n",
    "    nmdsdf <- as.data.frame(fit)\n",
    "    \n",
    "    plot <-     ggplot(nmdsdf, aes(x = V1, y = V2, color=colors, fill=colors)) + geom_point(size =10) + \n",
    "                scale_colour_manual(values = abcolors) + scale_fill_manual(values = abcolors) + \n",
    "                xlab(\"Dimension 1\") + ylab(\"Dimension 2\") + \n",
    "                ggtitle(paste(e2l(eccentricity1),e2l(eccentricity2),'Classical MDS',sep=' - '))\n",
    "    return(plot)\n",
    "}"
   ]
  },
  {
   "cell_type": "markdown",
   "metadata": {},
   "source": [
    "#### Some control measure plots"
   ]
  },
  {
   "cell_type": "markdown",
   "metadata": {},
   "source": [
    "Reaction time vs. similarity judgements"
   ]
  },
  {
   "cell_type": "code",
   "execution_count": 117,
   "metadata": {},
   "outputs": [],
   "source": [
    "# similarity judgement histogram\n",
    "simhistplot <- function(datadf){\n",
    "    \n",
    "   plot <- ggplot(datadf, aes(x = similarity)) + geom_bar(aes(y = ..prop..)) +\n",
    "    scale_x_discrete(limits=c(0,1,2,3,4,5,6,7), name = 'Dissimilarity') +\n",
    "    ylab('Frequency') + ylim(0,0.8)\n",
    "    return(plot)\n",
    "}\n",
    "\n",
    "simhistplot_summary <- function(datadf){\n",
    "    \n",
    "    datadf$subject <- as.character(datadf$subject) # necessary for visualisation\n",
    "    \n",
    "    plot <- ggplot(datadf, aes(x = similarity)) + \n",
    "    geom_line(stat='count',aes(y = ..prop..,group = subject),color='#CC9933') +\n",
    "    geom_line(stat='count',aes(y = ..prop..),size=1.5) +\n",
    "    scale_x_discrete(limits=c(0,1,2,3,4,5,6,7), name = 'Dissimilarity') +\n",
    "    ylab('Frequency') + ylim(0,0.8)\n",
    "    return(plot)\n",
    "    \n",
    "}"
   ]
  },
  {
   "cell_type": "code",
   "execution_count": 118,
   "metadata": {},
   "outputs": [],
   "source": [
    "# reaction time for each similarity\n",
    "rsplot <- function(datadf){\n",
    "    \n",
    "    plot <- ggplot(datadf, aes(x= similarity, y=response_time)) + \n",
    "    stat_summary(fun.y = mean, geom = \"bar\") + \n",
    "    stat_summary(fun.data = mean_se, geom = \"errorbar\", size =0.5, aes(width=0.5)) +\n",
    "    scale_x_discrete(limits=c(0,1,2,3,4,5,6,7), name = 'Dissimilarity') + ylab('Reaction Time (ms)') +\n",
    "    theme(legend.position = \"none\") +\n",
    "    ylim(0,4000) # anyone taking more than 4 seconds has probably mindwandered\n",
    "    \n",
    "    return(plot)\n",
    "}\n",
    "\n",
    "rsplot_summary <- function(datadf){\n",
    "    \n",
    "    datadf$subject <- as.character(datadf$subject) # necessary for visualisation\n",
    "    \n",
    "    \n",
    "    \n",
    "    plot <- ggplot(datadf, aes(x= similarity, y=response_time,group = subject, color = subject)) + \n",
    "    stat_summary(fun.y = mean, geom = \"line\", size=0.8) + \n",
    "    #stat_summary(fun.data = mean_se, geom = \"errorbar\", size =0.5, aes(width=0.5)) +\n",
    "    scale_x_discrete(limits=c(0,1,2,3,4,5,6,7), name = 'Dissimilarity') + ylab('Mean Reaction Time (ms)') +\n",
    "    theme(legend.position = \"none\") +\n",
    "    ylim(0,4000) # anyone taking more than 4 seconds has probably mindwandered \n",
    "    \n",
    "    return(plot)\n",
    "    \n",
    "}"
   ]
  },
  {
   "cell_type": "code",
   "execution_count": 119,
   "metadata": {},
   "outputs": [],
   "source": [
    "# reaction time raincloud plot\n",
    "rsplot_raincloud <- function(datadf,xtype='linear'){\n",
    "    \n",
    "    datadf$subject <- as.character(datadf$subject) # necessary for visualisation  \n",
    "    datadf$similarity <- as.character(datadf$similarity) # necessary for visualisation\n",
    "    \n",
    "    ylabtext = 'Reaction Time (ms)'\n",
    "    \n",
    "    plot <- ggplot(datadf, aes(y = response_time, x = similarity, fill = similarity)) +\n",
    "            geom_flat_violin(position = position_nudge(x = .2, y = 0), alpha = .8) +\n",
    "            geom_point(aes(y = response_time, color = similarity),\n",
    "                   position = position_jitter(width = .15), size = .5, alpha = 0.8) +\n",
    "            geom_boxplot(width = .1, guides = FALSE, outlier.shape = NA, alpha = 0.5) +\n",
    "            expand_limits(x = 5.25) +\n",
    "            guides(fill = FALSE) +\n",
    "            guides(color = FALSE) +\n",
    "            scale_color_brewer(palette = \"Spectral\") +\n",
    "            scale_fill_brewer(palette = \"Spectral\") +\n",
    "            xlab('Dissimilarity') + ylab(\"Reaction Time (ms)\")\n",
    "            # coord_flip() +\n",
    "            theme_bw() +\n",
    "            raincloud_theme\n",
    "    \n",
    "    if(xtype == 'log'){\n",
    "        plot <- plot + scale_y_continuous(trans='log10') + ylim(0,15000)\n",
    "    } else{\n",
    "        plot <- plot + ylim(0,5000)\n",
    "    }\n",
    "    \n",
    "    return(plot)\n",
    "}"
   ]
  },
  {
   "cell_type": "code",
   "execution_count": 120,
   "metadata": {},
   "outputs": [],
   "source": [
    "# correlation between reaction times and similarity judgements\n",
    "# grouping at individual trial, individual participant, experiment or entire population level\n",
    "rt_similarity_cor <- function(datadf,level='participant'){\n",
    "        \n",
    "    if(level==\"participant\"){\n",
    "        datadf <- datadf %>% \n",
    "                group_by(subject) %>% \n",
    "                mutate(rt_similarity_correlation = cor(similarity,response_time))\n",
    "        datadf <- aggregate(datadf, by=list(datadf$subject), FUN = mean)\n",
    "\n",
    "                \n",
    "    }\n",
    "    return(datadf)\n",
    "    \n",
    "}\n",
    "\n",
    "rt_similarity_plot <- function(datadf,xlabel='BLANK'){\n",
    "    \n",
    "    datadf <- rt_similarity_cor(datadf)\n",
    "    \n",
    "    datadf[xlabel] = xlabel\n",
    "    \n",
    "    plot <- ggplot(datadf,aes(x=xlabel,y=rt_similarity_correlation)) + \n",
    "                geom_boxplot() + \n",
    "                geom_dotplot(binaxis='y',stackdir='center',dotsize=0.75) +\n",
    "                theme(text = element_text(size=15)) + xlab(\"\")\n",
    "                ggtitle(title)\n",
    "    \n",
    "    plot <- plot + ylab(\"Correlation (Spearman)\") + ylim(-1,1)\n",
    "    plot <- plot + geom_hline(yintercept=0, linetype=\"dashed\", color = \"blue\")\n",
    "    return(plot)\n",
    "}"
   ]
  },
  {
   "cell_type": "code",
   "execution_count": 121,
   "metadata": {},
   "outputs": [],
   "source": [
    "# mean reaction time vs. antitrace-trace difference\n",
    "rt_difference <- function(datadf){\n",
    "    \n",
    "    subjectlist <- sort(unique(datadf$subject)) # obtain a list of all the subjects\n",
    "    \n",
    "    for(ID in subjectlist){\n",
    "        tempdf <- subset(datadf, subject == ID)\n",
    "        datadf$difference[datadf$subject == ID] = unlist(antitrace_avg(tempdf),use.names=FALSE)[1] - \n",
    "                   unlist(trace_avg(tempdf),use.names=FALSE)[1]\n",
    "    }\n",
    "        datadf <- aggregate(datadf, by=list(datadf$subject), FUN = mean)\n",
    "    return(datadf)\n",
    "}\n",
    "\n",
    "rt_difference_plot <- function(datadf,xtype='linear'){\n",
    "    \n",
    "    datadf$subject <- as.character(datadf$subject) # necessary for visualisation\n",
    "    \n",
    "    plot <- ggplot(rt_difference(datadf), aes(x=response_time, y=difference)) +\n",
    "            geom_point() + xlab(\"Mean Reaction Time\") + ylab(\"Antitrace - Trace\")\n",
    "    \n",
    "    if(xtype == 'log'){\n",
    "        plot <- plot + scale_x_continuous(trans='log10')\n",
    "    } else{\n",
    "        plot <- plot + xlim(0,5000)\n",
    "    }\n",
    "    plot <- plot + geom_smooth(method=lm) # linear line of best fit\n",
    "    return(plot)\n",
    "}"
   ]
  },
  {
   "cell_type": "code",
   "execution_count": 122,
   "metadata": {},
   "outputs": [],
   "source": [
    "# mean reaction time vs. catch trial score\n",
    "rt_catch <- function(datadf){\n",
    "    \n",
    "    subjectlist <- sort(unique(datadf$subject)) # obtain a list of all the subjects\n",
    "    \n",
    "    for(ID in subjectlist){\n",
    "        tempdf <- subset(datadf, subject == ID)\n",
    "        datadf$catch_score[datadf$subject == ID] = unlist(catch_score(tempdf),use.names=FALSE)[1]\n",
    "    }\n",
    "        datadf <- aggregate(datadf, by=list(datadf$subject), FUN = mean)\n",
    "    return(datadf)\n",
    "}\n",
    "\n",
    "rt_catch_plot <- function(datadf,xtype='linear',label=FALSE){\n",
    "    \n",
    "    datadf <- rt_catch(datadf)\n",
    "    datadf$subject <- as.character(datadf$subject) # necessary for visualisation\n",
    "    \n",
    "    plot <- ggplot(datadf, aes(x=response_time, y=catch_score)) +\n",
    "            geom_point() + xlab(\"Mean Reaction Time\") + ylab(\"Catch Score\")\n",
    "    \n",
    "    if(xtype == 'log'){\n",
    "        plot <- plot + scale_x_continuous(trans='log10')\n",
    "    } else{\n",
    "        plot <- plot + xlim(0,5000)\n",
    "    }\n",
    "    plot <- plot + geom_smooth(method=lm) + ylim(0,1) # linear line of best fit\n",
    "    #plot <- plot + geom_point(aes(color = subject))\n",
    "    if(label){\n",
    "        plot <- plot + geom_text(aes(label = subject),check_overlap=TRUE)\n",
    "    }\n",
    "    return(plot)\n",
    "}"
   ]
  },
  {
   "cell_type": "code",
   "execution_count": 123,
   "metadata": {},
   "outputs": [],
   "source": [
    "# mean antitrace-trace difference vs. catch trial score\n",
    "catch_difference <- function(datadf){\n",
    "    \n",
    "    subjectlist <- sort(unique(datadf$subject)) # obtain a list of all the subjects\n",
    "    \n",
    "    for(ID in subjectlist){\n",
    "        tempdf1 <- subset(datadf, subject == ID & trial_type!= 'catch') # remove catch trials for difference calculation\n",
    "        tempdf2 <- subset(datadf, subject == ID) # keep catch trials for score calculation\n",
    "        datadf$difference[datadf$subject == ID] = \n",
    "                   unlist(antitrace_avg(tempdf1),use.names=FALSE)[1] - \n",
    "                   unlist(trace_avg(tempdf1),use.names=FALSE)[1]\n",
    "        datadf$catch_score[datadf$subject == ID] = unlist(catch_score(tempdf2),use.names=FALSE)[1]\n",
    "    }\n",
    "        datadf <- aggregate(datadf, by=list(datadf$subject), FUN = mean)\n",
    "    return(datadf)\n",
    "}\n",
    "\n",
    "catch_difference_plot <- function(datadf,xtype='linear',label=FALSE){\n",
    "    \n",
    "    datadf <- catch_difference(datadf)\n",
    "    datadf$subject <- as.character(datadf$subject) # necessary for visualisation\n",
    "    \n",
    "    plot <- ggplot(datadf, aes(x=difference, y=catch_score)) +\n",
    "            geom_point() + xlab(\"Antitrace - Trace\") + ylab(\"Catch Score\")\n",
    "    \n",
    "    if(xtype == 'log'){\n",
    "        plot <- plot + scale_x_continuous(trans='log10')\n",
    "    } else{\n",
    "        plot <- plot\n",
    "    }\n",
    "    plot <- plot + geom_smooth(method=lm) + ylim(0,1) # linear line of best fit\n",
    "    #plot <- plot + geom_point(aes(color = subject))\n",
    "    if(label){\n",
    "        plot <- plot + geom_text(aes(label = subject),check_overlap=TRUE)\n",
    "    }\n",
    "    return(plot)\n",
    "}"
   ]
  },
  {
   "cell_type": "code",
   "execution_count": 124,
   "metadata": {},
   "outputs": [],
   "source": [
    "# trace values vs. trial #\n",
    "trace_by_trial_plot <- function(datadf,graph='point',mode='relative'){\n",
    "    \n",
    "     datadf$subject <- as.character(datadf$subject) # necessary for visualisation  \n",
    "    \n",
    "    datadf <- subset(datadf, Color_1 == Color_2)\n",
    "    \n",
    "    if(mode=='relative'){\n",
    "        datadf <- datadf %>% group_by(subject) %>% mutate(trialnum = row_number())\n",
    "    } else{\n",
    "        datadf$trialnum <- datadf$trial_number\n",
    "    }\n",
    "        \n",
    "    if(graph=='point'){\n",
    "        plot <- ggplot(datadf, aes(x=trialnum, y = similarity, group = subject, color = subject)) + geom_point()\n",
    "    } else if (graph == 'boxplot'){\n",
    "        plot <- ggplot(datadf, aes(x=trialnum,y = similarity, group = trialnum)) + geom_boxplot() #????\n",
    "    } else if (graph == 'lineplot'){\n",
    "        plot <- ggplot(datadf, aes(x=trialnum, y = similarity,group=subject, color = subject)) + geom_line()\n",
    "    }\n",
    "    \n",
    "    plot <- plot + ylab('Dissimilarity') +  theme(legend.position='none')\n",
    "    \n",
    "    return(plot)\n",
    "    \n",
    "}"
   ]
  },
  {
   "cell_type": "code",
   "execution_count": 125,
   "metadata": {},
   "outputs": [],
   "source": [
    "# subject info\n",
    "sumplot <- function(datadf){\n",
    "    \n",
    "    # change ms to s, add the delay for each trial\n",
    "    datadf$response_time <- ((datadf$response_time + 0.125*nrow(datadf)) / 1000)\n",
    "    \n",
    "    plot <- ggplot(datadf, aes(x=subject, y = response_time)) + \n",
    "    stat_summary(fun.y = sum, geom = \"bar\") + ylim(0,1000) +\n",
    "    ylab('Response Time Total') + theme(axis.title.x=element_blank(), axis.text.x = element_text(size=20))\n",
    "    \n",
    "    return(plot)\n",
    "}"
   ]
  },
  {
   "cell_type": "markdown",
   "metadata": {},
   "source": [
    "#### Check their screen size & viewing distance"
   ]
  },
  {
   "cell_type": "code",
   "execution_count": 370,
   "metadata": {},
   "outputs": [],
   "source": [
    "# screen size in mm\n",
    "screen_size <- function(datadf){\n",
    "    \n",
    "    datadf <- subset(datadf, trialcode == 'centermouse') # make sure calibrations have finished first\n",
    "    \n",
    "    width <- as.numeric(substr(as.character(datadf$screen_size_x)[1],1,6))\n",
    "    height <- as.numeric(substr(as.character(datadf$screen_size_y)[1],1,6))\n",
    "    \n",
    "    # use pythagoras to just get the hypotenuse. Subjects have a fixed 16/9 aspect ratio so these are all comparable\n",
    "    return(sqrt(width*width + height*height))\n",
    "}"
   ]
  },
  {
   "cell_type": "code",
   "execution_count": 372,
   "metadata": {},
   "outputs": [],
   "source": [
    "# viewing distance in mm\n",
    "view_distance <- function(datadf){\n",
    "    return(as.numeric(substr(as.character(datadf$viewer_distance)[1],1,6)))\n",
    "}"
   ]
  },
  {
   "cell_type": "markdown",
   "metadata": {},
   "source": [
    "### Statistics"
   ]
  },
  {
   "cell_type": "markdown",
   "metadata": {},
   "source": [
    "Useful functions"
   ]
  },
  {
   "cell_type": "code",
   "execution_count": 126,
   "metadata": {},
   "outputs": [],
   "source": [
    "# compare the foveal and peripheral matrices to each other\n",
    "fvp_test <- function(datadf,dependent='color'){\n",
    "    \n",
    "    if(dependent=='position'){\n",
    "        # first, turn the dataframe into the relevant matrices\n",
    "        fmatrix <- df2mat(datadf, l2e('Foveal'), l2e('Foveal'),'position')\n",
    "        #fpmatrix <- distmatrix(datadf, l2e('Foveal'), l2e('Peripheral'))\n",
    "        pmatrix <- df2mat(datadf, l2e('Peripheral'), l2e('Peripheral'),'position')\n",
    "    } else{\n",
    "        # first, turn the dataframe into the relevant matrices\n",
    "        fmatrix <- df2mat(datadf, l2e('Foveal'), l2e('Foveal'))\n",
    "        #fpmatrix <- distmatrix(datadf, l2e('Foveal'), l2e('Peripheral'))\n",
    "        pmatrix <- df2mat(datadf, l2e('Peripheral'), l2e('Peripheral'))\n",
    "    }\n",
    "    #Fovea vs Periphery\n",
    "    test <- mantel(fmatrix, pmatrix, method=\"spearman\",permutations = 9999)\n",
    "    return(test)\n",
    "}"
   ]
  },
  {
   "cell_type": "code",
   "execution_count": 127,
   "metadata": {},
   "outputs": [],
   "source": [
    "# compare the each of the foveal and peripheral matrices to a random uniform distribution using a ... test\n",
    "# not actually sure this is conceptually possible or even makes sense\n",
    "rand_test <- function(datadf){\n",
    "    \n",
    "    # first, turn the dataframe into the relevant matrices\n",
    "    fmatrix <- df2mat(datadf, l2e('Foveal'), l2e('Foveal'))\n",
    "    #fpmatrix <- distmatrix(datadf, l2e('Foveal'), l2e('Peripheral'))\n",
    "    pmatrix <- df2mat(datadf, l2e('Peripheral'), l2e('Peripheral'))\n",
    "    \n",
    "    \n",
    "    # compare\n",
    "    ftest <- \n",
    "    ptest <- \n",
    "    return(list(\"ftest\" = ftest, \"ptest\" = ptest)) # use index of result to get the foveal or peripheral comparison\n",
    "}\n",
    "\n"
   ]
  },
  {
   "cell_type": "code",
   "execution_count": 128,
   "metadata": {},
   "outputs": [],
   "source": [
    "# calculate trace average, small values presumably indicate subjects not just saying everything is completely dissimilar\n",
    "# will also need a complementary method to deal with them saying everything is the same? Might be an inappropriate\n",
    "# a-priori imposition though, I probably can't tell people how similar different colours should be...\n",
    "\n",
    "trace_avg <- function(datadf){\n",
    "    \n",
    "    # first, turn the dataframe into the relevant matrices\n",
    "    fmatrix <- df2mat(datadf, l2e('Foveal'), l2e('Foveal'))\n",
    "    #fpmatrix <- distmatrix(datadf, l2e('Foveal'), l2e('Peripheral'))\n",
    "    pmatrix <- df2mat(datadf, l2e('Peripheral'), l2e('Peripheral'))\n",
    "    \n",
    "    \n",
    "    \n",
    "    return(list( (sum(diag(fmatrix))/nrow(fmatrix)), (sum(diag(pmatrix))/nrow(pmatrix))))\n",
    "}"
   ]
  },
  {
   "cell_type": "code",
   "execution_count": 129,
   "metadata": {},
   "outputs": [],
   "source": [
    "# find the 'anti-trace' of a matrix\n",
    "antitrace <- function(mat){\n",
    "    \n",
    "    sum = 0\n",
    "    for(i in (1:nrow(mat))){\n",
    "        k = as.numeric(mat[ i, as.integer((ncol(mat)/2+i) %% ncol(mat))+1 ])\n",
    "        sum = sum + k\n",
    "    }\n",
    "    return(sum/nrow(mat))\n",
    "}"
   ]
  },
  {
   "cell_type": "code",
   "execution_count": 130,
   "metadata": {},
   "outputs": [],
   "source": [
    "# calculates the average of the 'anti-trace', the values I'd expect to be the most dissimilar.\n",
    "# this may not be an appropriate imposition on subjects...\n",
    "\n",
    "antitrace_avg <- function(datadf){\n",
    "    \n",
    "    # first, turn the dataframe into the relevant matrices\n",
    "    fmatrix <- df2mat(datadf, l2e('Foveal'), l2e('Foveal'))\n",
    "    #fpmatrix <- distmatrix(datadf, l2e('Foveal'), l2e('Peripheral'))\n",
    "    pmatrix <- df2mat(datadf, l2e('Peripheral'), l2e('Peripheral'))\n",
    "    \n",
    "    return(list(antitrace(fmatrix), antitrace(pmatrix)))\n",
    "}"
   ]
  },
  {
   "cell_type": "code",
   "execution_count": 131,
   "metadata": {},
   "outputs": [],
   "source": [
    "# just get a simple measure of if the matrices are correlated, irrespective of treating them as distance matrices\n",
    "matrixcor <- function(datadf,dependent='color'){\n",
    "    \n",
    "    if(dependent == 'position'){\n",
    "        # first, turn the dataframe into the relevant matrices\n",
    "        fmatrix <- df2mat(datadf, l2e('Foveal'), l2e('Foveal'),'position')\n",
    "        #fpmatrix <- distmatrix(datadf, l2e('Foveal'), l2e('Peripheral'))\n",
    "        pmatrix <- df2mat(datadf, l2e('Peripheral'), l2e('Peripheral'),'position')\n",
    "    } else {\n",
    "        # first, turn the dataframe into the relevant matrices\n",
    "        fmatrix <- df2mat(datadf, l2e('Foveal'), l2e('Foveal'))\n",
    "        #fpmatrix <- distmatrix(datadf, l2e('Foveal'), l2e('Peripheral'))\n",
    "        pmatrix <- df2mat(datadf, l2e('Peripheral'), l2e('Peripheral'))\n",
    "    }\n",
    "    \n",
    "    return(cor(c(fmatrix), c(pmatrix), method = \"spearman\"))\n",
    "}"
   ]
  },
  {
   "cell_type": "code",
   "execution_count": 132,
   "metadata": {},
   "outputs": [],
   "source": [
    "# get median reaction time\n",
    "rt_avg <- function(datadf){\n",
    "    return(median(datadf$response_time))\n",
    "}"
   ]
  },
  {
   "cell_type": "markdown",
   "metadata": {},
   "source": [
    "Run the analysis"
   ]
  },
  {
   "cell_type": "code",
   "execution_count": 133,
   "metadata": {},
   "outputs": [],
   "source": [
    "# stats for all the subjects\n",
    "allsubjectstats <- function(datadf){\n",
    "    \n",
    "    subjectlist <- sort(unique(datadf$subject)) # obtain a list of all the subjects\n",
    "\n",
    "\n",
    "    for (subjectid in subjectlist){\n",
    "        \n",
    "        subjectdf = subset(datadf, subject == subjectid) # select the df for subject of interest\n",
    "        cat(\"SUBJECT: \",subjectid,'\\n') # print subject id\n",
    "        print(\"Mantel Test: \")\n",
    "        print(fvp_test(subjectdf))\n",
    "        print(\"Matrices correlation: \")\n",
    "        print(matrixcor(subjectdf))\n",
    "        print(\"Quality control measures:\")\n",
    "        print(\"Trace average:\")\n",
    "        print(trace_avg(subjectdf))\n",
    "        print(\"Anti-trace average:\")\n",
    "        print(antitrace_avg(subjectdf))\n",
    "    }\n",
    "}"
   ]
  },
  {
   "cell_type": "code",
   "execution_count": 134,
   "metadata": {
    "scrolled": true
   },
   "outputs": [],
   "source": [
    "# function to aggregate everyone's data together\n",
    "aggregate_df <- function(datadf,dependent='color'){\n",
    "\n",
    "    # aggregate everyone's data together for the matrices\n",
    "    everyonedata <- aggregate(datadf, by=list(\n",
    "        datadf$Color_1,\n",
    "        datadf$Color_2,\n",
    "        datadf$Circle_1,\n",
    "        datadf$Circle_2,\n",
    "        datadf$bin1,\n",
    "        datadf$bin2\n",
    "        ), FUN=mean, \n",
    "    )\n",
    "\n",
    "    # correct the column names\n",
    "    everyonedata$Color_1 <- everyonedata$Group.1\n",
    "    everyonedata$Color_2 <- everyonedata$Group.2\n",
    "    everyonedata$Circle_1 <- everyonedata$Group.3\n",
    "    everyonedata$Circle_2 <- everyonedata$Group.4\n",
    "    everyonedata$bin1 <- everyonedata$Group.5\n",
    "    everyonedata$bin2 <- everyonedata$Group.6\n",
    "    \n",
    "    return(everyonedata)\n",
    "}"
   ]
  },
  {
   "cell_type": "code",
   "execution_count": 135,
   "metadata": {},
   "outputs": [],
   "source": [
    "# compliance checker\n",
    "compliance_checker <- function(datadf,eccentricity,trace_cutoff,antitrace_cutoff){\n",
    "    \n",
    "    subjectlist <- sort(unique(datadf$subject)) # obtain a list of all the subjects\n",
    "    n_subject = length(subjectlist)\n",
    "    trace_fail = 0\n",
    "    antitrace_fail = 0\n",
    "    \n",
    "    if(eccentricity == 'Foveal'){\n",
    "        e_ind = 1\n",
    "    } else if (eccentricity == 'Peripheral'){\n",
    "        e_ind = 2\n",
    "    }\n",
    "\n",
    "    for (subjectid in subjectlist){\n",
    "        subjectdf = subset(datadf, subject == subjectid) # select the df for subject of interest\n",
    "        if(trace_avg(subjectdf)[e_ind] > trace_cutoff){\n",
    "            trace_fail = trace_fail + 1\n",
    "        }\n",
    "        if(antitrace_avg(subjectdf)[e_ind] < antitrace_cutoff){\n",
    "            antitrace_fail = antitrace_fail + 1\n",
    "        }\n",
    "    }\n",
    "    print(paste(\"Trace non-compliance: \",trace_fail,\"/\",n_subject))\n",
    "    print(paste(\"Anti-trace non-compliance: \",antitrace_fail,\"/\",n_subject))\n",
    "}"
   ]
  },
  {
   "cell_type": "code",
   "execution_count": 136,
   "metadata": {},
   "outputs": [],
   "source": [
    "# summary stats\n",
    "summarystats <- function(datadf,dependent='color'){\n",
    "    if(dependent=='position'){\n",
    "        print(\"Mantel Test: \")\n",
    "        print(fvp_test(aggregate_df(datadf),'position'))\n",
    "        print(\"Matrices correlation: \")\n",
    "        print(matrixcor(aggregate_df(datadf),'position'))\n",
    "    } else {\n",
    "        print(\"Mantel Test: \")\n",
    "        print(fvp_test(aggregate_df(datadf)))\n",
    "        print(\"Matrices correlation: \")\n",
    "        print(matrixcor(aggregate_df(datadf)))\n",
    "    }\n",
    "    \n",
    "    \n",
    "    print(\"Foveal compliance:\")\n",
    "    compliance_checker(datadf,'Foveal')\n",
    "    print(\"Peripheral compliance:\")\n",
    "    compliance_checker(datadf,'Peripheral')\n",
    "}"
   ]
  },
  {
   "cell_type": "markdown",
   "metadata": {},
   "source": [
    "## Actual Data Analysis Time"
   ]
  },
  {
   "cell_type": "markdown",
   "metadata": {},
   "source": [
    "#### Initial data pre-processing, before getting to the subject level"
   ]
  },
  {
   "cell_type": "code",
   "execution_count": 392,
   "metadata": {},
   "outputs": [],
   "source": [
    "datadf = read.csv(filename)\n",
    "savestr <- substr(filename,1,nchar(filename)-4) # for saving related files later\n"
   ]
  },
  {
   "cell_type": "code",
   "execution_count": 393,
   "metadata": {},
   "outputs": [],
   "source": [
    "# remove practice trial data\n",
    "datadf <- subset(datadf, trial_number != 0)"
   ]
  },
  {
   "cell_type": "code",
   "execution_count": 394,
   "metadata": {},
   "outputs": [],
   "source": [
    "# changing color values from RGB to hex for graphing purpose\n",
    "datadf$Color_1 <- as.character(datadf$Color_1)\n",
    "datadf$Color_1 <- revalue(datadf$Color_1, \n",
    "                                                    c(  \"1\" = '#FF0000',\n",
    "                                                        \"2\" = '#FFAA00',\n",
    "                                                        \"3\" = '#AAFF00',\n",
    "                                                        \"4\" = '#00FF00',\n",
    "                                                        \"5\" = '#00FFA9',\n",
    "                                                        \"6\" = '#00A9FF',\n",
    "                                                        \"7\" = '#0000FF',\n",
    "                                                        \"8\" = '#AA00FF',\n",
    "                                                        \"9\" = '#FF00AA'))\n",
    "datadf$Color_2 <- as.character(datadf$Color_2)\n",
    "datadf$Color_2 <- revalue(datadf$Color_2, \n",
    "                                                    c(  \"1\" = '#FF0000',\n",
    "                                                        \"2\" = '#FFAA00',\n",
    "                                                        \"3\" = '#AAFF00',\n",
    "                                                        \"4\" = '#00FF00',\n",
    "                                                        \"5\" = '#00FFA9',\n",
    "                                                        \"6\" = '#00A9FF',\n",
    "                                                        \"7\" = '#0000FF',\n",
    "                                                        \"8\" = '#AA00FF',\n",
    "                                                        \"9\" = '#FF00AA'))\n",
    "\n",
    "# colors for the labels\n",
    "# changed for this mixed version\n",
    "colors <- c('#FF0000','#FFAA00','#AAFF00','#00FF00','#00FFA9',\"#00A9FF\",'#0000FF','#AA00FF',\"#FF00AA\")\n",
    "\n",
    "abcolors <- sort(colors)"
   ]
  },
  {
   "cell_type": "code",
   "execution_count": 395,
   "metadata": {},
   "outputs": [],
   "source": [
    "# changing from int indicators in the .csv file to more readable labels for eccentricity\n",
    "foveal = -1\n",
    "peripheral = 1"
   ]
  },
  {
   "cell_type": "code",
   "execution_count": 396,
   "metadata": {},
   "outputs": [],
   "source": [
    "# set the maximum and minimum dissimilarity values for later analysis\n",
    "min_val = 0\n",
    "max_val = 6"
   ]
  },
  {
   "cell_type": "code",
   "execution_count": 397,
   "metadata": {},
   "outputs": [],
   "source": [
    "# binning the positions the stimuli were displayed in to use as a control measure later\n",
    "datadf$bin1 <- as.integer((datadf$Position_1+180) / 40) + 1\n",
    "datadf$bin2 <- as.integer((datadf$Position_2+180) / 40) + 1"
   ]
  },
  {
   "cell_type": "code",
   "execution_count": 398,
   "metadata": {},
   "outputs": [],
   "source": [
    "# adding a trial type label\n",
    "label_eccen_type <- function(datadf){\n",
    "    datadf <- datadf %>%\n",
    "    mutate(eccen_type = case_when(Circle_1 == l2e('Foveal') & Circle_2 == l2e('Foveal') ~ 'FF',\n",
    "                             Circle_1 == l2e('Foveal') & Circle_2 == l2e('Peripheral') ~ 'FP',\n",
    "                             Circle_1 == l2e('Peripheral') & Circle_2 == l2e('Peripheral') ~ 'PP'))\n",
    "    return(datadf)\n",
    "}"
   ]
  },
  {
   "cell_type": "code",
   "execution_count": 399,
   "metadata": {},
   "outputs": [],
   "source": [
    "datadf <- label_eccen_type(datadf)"
   ]
  },
  {
   "cell_type": "markdown",
   "metadata": {},
   "source": [
    "Some actual data cleaning"
   ]
  },
  {
   "cell_type": "code",
   "execution_count": 400,
   "metadata": {},
   "outputs": [],
   "source": [
    "# function to throw out  participants who didn't finish\n",
    "remove_incomplete <- function(datadf,stimuli_number){\n",
    "    \n",
    "    subjectlist <- sort(unique(datadf$subject)) # obtain a list of all the subjects\n",
    "    \n",
    "    for (ID in subjectlist){ # go through subject by subject\n",
    "        \n",
    "        trialnumber = stimuli_number*stimuli_number*condition_number + catch_trial_number\n",
    "        \n",
    "        if ( nrow(subset(datadf, subject == ID)) != trialnumber){ # see if they have the appropriate trial numbers\n",
    "            print(paste(\"Subject\",ID,\"did not complete the task\",sep=' '))\n",
    "            datadf <- subset(datadf, subject != ID) # dump the subject\n",
    "        }\n",
    "    }\n",
    "    return(datadf)\n",
    "}"
   ]
  },
  {
   "cell_type": "code",
   "execution_count": 401,
   "metadata": {},
   "outputs": [
    {
     "name": "stdout",
     "output_type": "stream",
     "text": [
      "[1] \"Subject 197308657 did not complete the task\"\n",
      "[1] \"Subject 558344777 did not complete the task\"\n",
      "[1] \"Subject 634992811 did not complete the task\"\n",
      "[1] \"Subject 728255502 did not complete the task\"\n",
      "[1] \"Subject 910252650 did not complete the task\"\n"
     ]
    }
   ],
   "source": [
    "# actually throw out the subjects who didn't complete\n",
    "datadf <- remove_incomplete(datadf,stimuli_number)"
   ]
  },
  {
   "cell_type": "code",
   "execution_count": 402,
   "metadata": {},
   "outputs": [],
   "source": [
    "# function to label participants who meet statistical cleaning assumptions\n",
    "label_noncompliant <- function(datadf,eccentricity,\n",
    "                               trace_cutoff=2,antitrace_cutoff=4,rt_cutoff=1000){\n",
    "    \n",
    "    if(eccentricity == 'Foveal'){\n",
    "        e_ind = 1\n",
    "    } else if (eccentricity == 'Peripheral'){\n",
    "        e_ind = 2\n",
    "    }\n",
    "    \n",
    "    subjectlist <- sort(unique(datadf$subject)) # obtain a list of all the subjects\n",
    "    \n",
    "    for (ID in subjectlist){ # go through subject by subject\n",
    "        subjectdf = subset(datadf, subject == ID) # select the ID for subject of interest \n",
    "        if(trace_avg(subjectdf)[e_ind] < trace_cutoff){\n",
    "            if(antitrace_avg(subjectdf)[e_ind] > antitrace_cutoff){\n",
    "                if(rt_avg(subjectdf) > rt_cutoff){\n",
    "                    datadf$noncompliant[datadf$subject == ID] = 0\n",
    "                } else {\n",
    "                    print(paste(\"Subject\",ID,\"median reaction time of:\",rt_avg(subjectdf),\"ms\",sep=' '))\n",
    "                    datadf$noncompliant[datadf$subject == ID] = 1\n",
    "                }\n",
    "            } else {\n",
    "                print(paste(\"Subject\",ID,\"had an antitrace of:\",antitrace_avg(subjectdf)[e_ind],sep=' '))\n",
    "                datadf$noncompliant[datadf$subject == ID] = 2\n",
    "            }\n",
    "        } else {\n",
    "            print(paste(\"Subject\",ID,\"had a trace of:\",trace_avg(subjectdf)[e_ind],sep=' '))\n",
    "            datadf$noncompliant[datadf$subject == ID] = 3\n",
    "        }\n",
    "    }\n",
    "    print(paste(length(unique(datadf$subject[datadf$noncompliant==0])),\"of\",length(unique(datadf$subject)),\n",
    "                \"were compliant\",sep=' '))\n",
    "    return(datadf)\n",
    "}"
   ]
  },
  {
   "cell_type": "code",
   "execution_count": 403,
   "metadata": {
    "scrolled": true
   },
   "outputs": [
    {
     "name": "stdout",
     "output_type": "stream",
     "text": [
      "[1] \"Subject 158161839 had a trace of: 6.22222222222222\"\n",
      "[1] \"Subject 162264632 had a trace of: 4.22222222222222\"\n",
      "[1] \"Subject 235749592 median reaction time of: 679 ms\"\n",
      "[1] \"Subject 765850091 median reaction time of: 627 ms\"\n",
      "[1] \"Subject 788516555 had a trace of: 2.55555555555556\"\n",
      "[1] \"Subject 854808809 had a trace of: 2.88888888888889\"\n",
      "[1] \"Subject 867419577 had a trace of: 3.88888888888889\"\n",
      "[1] \"5 of 12 were compliant\"\n"
     ]
    }
   ],
   "source": [
    "datadf <- label_noncompliant(datadf,'Foveal')"
   ]
  },
  {
   "cell_type": "markdown",
   "metadata": {},
   "source": [
    "## Statistical Analysis"
   ]
  },
  {
   "cell_type": "markdown",
   "metadata": {},
   "source": [
    "#### Determine within-subject central and peripheral QDM correlation & significance"
   ]
  },
  {
   "cell_type": "code",
   "execution_count": 231,
   "metadata": {},
   "outputs": [],
   "source": [
    "# return a list of the fovea matrix vs periphery matrix correlations for each subject\n",
    "\n",
    "fvp_list <- function(datadf){\n",
    "    \n",
    "    subjectlist <- sort(unique(datadf$subject)) # obtain a list of all the subjects\n",
    "    \n",
    "    correlation_list <- vector() # array to store the values in\n",
    "    \n",
    "    for (ID in subjectlist){ # go through subject by subject\n",
    "        subjectdf = subset(datadf, subject == ID) # select the ID for subject of interest\n",
    "        correlation_list <- c(correlation_list, (matrixcor(subjectdf)))\n",
    "    }\n",
    "    return(correlation_list)\n",
    "}"
   ]
  },
  {
   "cell_type": "code",
   "execution_count": 232,
   "metadata": {},
   "outputs": [],
   "source": [
    "# shuffle the rows of a matrix\n",
    "shuffle_matrix <- function(matrix){\n",
    "    shuffled <- matrix[sample(nrow(matrix)),]\n",
    "    return(shuffled)\n",
    "}"
   ]
  },
  {
   "cell_type": "code",
   "execution_count": 233,
   "metadata": {},
   "outputs": [],
   "source": [
    "# return a list of the fovea matrix vs. shuffled periphery matrix for each subject. Pick the # shuffles, default 1000.\n",
    "# returns Fisher-transformed correlations\n",
    "\n",
    "fvp_shuffled_list <- function(datadf, shuffle_num=1000){\n",
    "    \n",
    "    subjectlist <- sort(unique(datadf$subject)) # obtain a list of all the subjects\n",
    "    \n",
    "    \n",
    "    correlation_list <- vector() # array to store the values in\n",
    "    \n",
    "    for (ID in subjectlist){ # go through subject by subject\n",
    "        subjectdf = subset(datadf, subject == ID) # select the ID for subject of interest\n",
    "        \n",
    "        fmatrix <- df2mat(datadf, l2e('Foveal'), l2e('Foveal'))\n",
    "        pmatrix <- df2mat(datadf, l2e('Peripheral'), l2e('Peripheral'))\n",
    "        \n",
    "        temp_list <- vector()\n",
    "        for (i in 1:shuffle_num){ #shuffle the peripheral matrix, add values to temp list\n",
    "            pmatrix_shuffled <- shufflematrix(pmatrix)\n",
    "            temp_list <- c(temp_list, FisherZ(cor(c(fmatrix), c(pmatrix_shuffled), method = \"spearman\")))\n",
    "        }\n",
    "        \n",
    "        correlation_list <- c(correlation_list,mean(temp_list)) # add the average correlation to the list\n",
    "        }\n",
    "    return(correlation_list)\n",
    "}"
   ]
  },
  {
   "cell_type": "code",
   "execution_count": 234,
   "metadata": {},
   "outputs": [],
   "source": [
    "# perform Mann-Whitney U test to compare the within-subject central and peripheral QDMs to randomly shuffled ones\n",
    "within_subject_test <- function(original_correlations,shuffled_correlations){\n",
    "    \n",
    "    wilcox.test(original_correlations,shuffled_correlations)\n",
    "}"
   ]
  },
  {
   "cell_type": "code",
   "execution_count": 235,
   "metadata": {},
   "outputs": [],
   "source": [
    "# do the analysis"
   ]
  },
  {
   "cell_type": "markdown",
   "metadata": {},
   "source": [
    "#### Determine between-subject central to central QDM correlation & significance"
   ]
  },
  {
   "cell_type": "code",
   "execution_count": 236,
   "metadata": {},
   "outputs": [],
   "source": [
    "# obtain the subject similarity matrix\n",
    "i_j_list <- function(datadf, eccentricity1=l2e('Foveal'), eccentricity2=l2e('Foveal')){\n",
    "    \n",
    "    datadf = subset(datadf, Circle_1 == eccentricity1)\n",
    "    datadf = subset(datadf, Circle_2 == eccentricity2)\n",
    "    \n",
    "    subjectlist <- sort(unique(datadf$subject)) # obtain a list of all the subjects\n",
    "    \n",
    "    correlation_list <- vector() # array to store the values in\n",
    "    \n",
    "    for (ID_i in subjectlist){ \n",
    "        for (ID_j in subjectlist){\n",
    "            if(ID_i != ID_j){\n",
    "                subjectdf_i = subset(datadf, subject == ID_i)\n",
    "                subjectdf_j = subset(datadf, subject == ID_j)\n",
    "\n",
    "                fmatrix_i <- df2mat(subjectdf_i, l2e('Foveal'), l2e('Foveal')) # get their fovea dissimilarity matrix\n",
    "                fmatrix_j <- df2mat(subjectdf_j, l2e('Foveal'), l2e('Foveal')) # get their fovea dissimilarity matrix\n",
    "\n",
    "                correlation_list <- c(correlation_list, cor(c(fmatrix_i), c(fmatrix_j), method = \"spearman\"))\n",
    "                }\n",
    "        }\n",
    "    }\n",
    "    return(correlation_list)\n",
    "}"
   ]
  },
  {
   "cell_type": "code",
   "execution_count": 237,
   "metadata": {},
   "outputs": [],
   "source": [
    "# obtain a shuffled subject similarity matrix"
   ]
  },
  {
   "cell_type": "code",
   "execution_count": 238,
   "metadata": {},
   "outputs": [],
   "source": [
    "# test where the correlation of the original SSM sits in comparison to the shuffled SSMs"
   ]
  },
  {
   "cell_type": "code",
   "execution_count": 239,
   "metadata": {},
   "outputs": [],
   "source": [
    "# do the analysis"
   ]
  },
  {
   "cell_type": "markdown",
   "metadata": {},
   "source": [
    "#### Determine whether within-subject central-peripheral QDM correlation is equal to or greater than between-subject central-central QDMs"
   ]
  },
  {
   "cell_type": "code",
   "execution_count": 240,
   "metadata": {},
   "outputs": [],
   "source": [
    "# blah"
   ]
  },
  {
   "cell_type": "code",
   "execution_count": 241,
   "metadata": {},
   "outputs": [],
   "source": [
    "# do the analysis"
   ]
  },
  {
   "cell_type": "code",
   "execution_count": 242,
   "metadata": {},
   "outputs": [],
   "source": [
    "# correlation plot\n",
    "corr_plot <- function(correlation_list,title='BLANK',xlabel='BLANK',f2z=FALSE){\n",
    "    df <- data.frame(correlation_list) # convert list to data frame\n",
    "    df[xlabel] = xlabel\n",
    "    \n",
    "    plot <- ggplot(df,aes(x=xlabel,y=correlation_list)) + \n",
    "                geom_boxplot() + \n",
    "                geom_dotplot(binaxis='y',stackdir='center',dotsize=0.75) +\n",
    "                theme(text = element_text(size=15)) + xlab(\"\")\n",
    "                ggtitle(title)\n",
    "    if(f2z){\n",
    "                plot <- plot + ylab(\"Fisher-Transformed Correlation (Spearman)\") + ylim(-1,2)\n",
    "    } else {\n",
    "                plot <- plot + ylab(\"Correlation (Spearman)\") + ylim(-0.5,1)\n",
    "\n",
    "    }\n",
    "    plot <- plot + geom_hline(yintercept=0, linetype=\"dashed\", color = \"blue\")\n",
    "    return(plot)\n",
    "}"
   ]
  },
  {
   "cell_type": "code",
   "execution_count": 243,
   "metadata": {},
   "outputs": [],
   "source": [
    "within_between_plots <- function(datadf,savestr){\n",
    "    \n",
    "    fvp <- fvp_list(datadf)\n",
    "    i_j <- i_j_list(datadf)\n",
    "    \n",
    "    within_plot <- corr_plot(fvp,'Within-subject FvP','Within-subject FvP')\n",
    "    between_plot <- corr_plot(i_j,'Between-subject FvF','Between-subject FvF')\n",
    "    within_plot_fisher <- corr_plot(FisherZ(fvp),'Within-subject FvP','Within-subject FvP',TRUE)\n",
    "    between_plot_fisher <- corr_plot(FisherZ(i_j),'Between-subject FvF','Between-subject FvF',TRUE)\n",
    "\n",
    "    # save the plots\n",
    "    title <- textGrob(substr(savestr,nchar('data/')+1,nchar(savestr)))\n",
    "    g <- arrangeGrob(within_plot,between_plot,\n",
    "                     within_plot_fisher,between_plot_fisher,\n",
    "                        nrow = 2, ncol= 2,\n",
    "                    top = title)\n",
    "\n",
    "        # save it\n",
    "    ggsave(paste(savestr,\"_Subject_Plots/\",\"correlation plot comparisons_\",\"plot.png\",sep=''),g, height = 11, width = 10)\n",
    "}"
   ]
  },
  {
   "cell_type": "code",
   "execution_count": 244,
   "metadata": {
    "scrolled": true
   },
   "outputs": [],
   "source": [
    "# plot within-subject FvP correlations against between-subject FvF correlations\n",
    "if(plot_within_between){within_between_plots(datadf,savestr)}"
   ]
  },
  {
   "cell_type": "markdown",
   "metadata": {},
   "source": [
    "Additional experimental summary graphs"
   ]
  },
  {
   "cell_type": "code",
   "execution_count": 245,
   "metadata": {},
   "outputs": [],
   "source": [
    "# obtains a dataframe of traces for subjects\n",
    "trace_obtainer <- function(datadf,type=\"trace\"){\n",
    "    subjectlist <- sort(unique(datadf$subject)) # obtain a list of all the subjects\n",
    "    tracedf <- data.frame(subject=character(),ftrace=double(),ptrace=double()) # initialise an output df for the traces\n",
    "    for (ID in subjectlist){\n",
    "        tempdf <- subset(datadf, subject == ID)\n",
    "        if(type == 'antitrace'){\n",
    "            subject_trace <- antitrace_avg(tempdf)\n",
    "        } else if (type == 'difference'){\n",
    "            subject_trace <- unlist(antitrace_avg(tempdf),use.names=FALSE) - unlist(trace_avg(tempdf),use.names=FALSE)\n",
    "        }else{\n",
    "            subject_trace <- trace_avg(tempdf)\n",
    "        }\n",
    "        row_df <- data.frame(ID, as.numeric(subject_trace[1]),as.numeric(subject_trace[2]))\n",
    "        names(row_df) <- c(\"subject\",\"Fovea x Fovea\",\"Periphery x Periphery\")\n",
    "        tracedf<- rbind(tracedf,row_df)\n",
    "    }\n",
    "    return(tracedf)\n",
    "}"
   ]
  },
  {
   "cell_type": "code",
   "execution_count": 246,
   "metadata": {},
   "outputs": [],
   "source": [
    "# plot the traces for the subjects individually\n",
    "trace_plot <- function(datadf,type='trace',grouped=TRUE){\n",
    "    \n",
    "    datadf$subject <- as.character(datadf$subject) # necessary for visualisation\n",
    "    \n",
    "    if(type == 'antitrace'){\n",
    "        trace_df <- trace_obtainer(datadf,'antitrace')\n",
    "    } else if (type == 'difference'){\n",
    "        trace_df <- trace_obtainer(datadf,'difference')\n",
    "    } else {\n",
    "        trace_df <- trace_obtainer(datadf)\n",
    "    }\n",
    "    \n",
    "    \n",
    "    tracedf <- gather(trace_df, key = \"eccentricity\",value = \"trace\", 2:3)\n",
    "    \n",
    "    if(grouped){\n",
    "        plot <- ggplot(tracedf, aes(x = eccentricity, y=trace)) +\n",
    "        geom_boxplot() + geom_dotplot(binaxis='y',stackdir='center',dotsize=0.5) +\n",
    "        theme(legend.position = \"none\")\n",
    "    } else {\n",
    "        plot <- ggplot(tracedf, aes(x = eccentricity, y=trace, group = subject, color = subject)) +\n",
    "        geom_line() + theme(legend.position = \"none\")\n",
    "    }\n",
    "    \n",
    "    if(type == 'antitrace'){\n",
    "        plot <- plot + ylim(0,7) + ylab(\"Mean Physically Maximally Distinct Stimulus Similarity\")\n",
    "    } else if (type == 'difference'){\n",
    "        plot <- plot + ylim(-6,6) + ylab(\"Distinct - Identical\")\n",
    "    } else {\n",
    "        plot <- plot + ylim(0,7) + ylab(\"Mean Physically Identical Stimulus Similarity\")\n",
    "    }\n",
    "    \n",
    "    return(plot)\n",
    "}"
   ]
  },
  {
   "cell_type": "markdown",
   "metadata": {},
   "source": [
    "### Plot summary of all subjects"
   ]
  },
  {
   "cell_type": "markdown",
   "metadata": {},
   "source": [
    "#### Individual subjects"
   ]
  },
  {
   "cell_type": "code",
   "execution_count": 283,
   "metadata": {},
   "outputs": [],
   "source": [
    "# plot summary data for all the subjects individually\n",
    "allsubjectsplot <- function(datadf,savestr){\n",
    "    \n",
    "    subjectlist <- sort(unique(datadf$subject)) # obtain a list of all the subjects\n",
    "\n",
    "    dir.create(paste(savestr,\"Subject_Plots\",sep='_')) # make a new folder to store the subject plots in\n",
    "\n",
    "    for (subjectid in subjectlist){\n",
    "        print(paste(\"Processing subject:\",subjectid,sep=' '))\n",
    "        subjectplot(datadf, subjectid,savestr)\n",
    "    }\n",
    "}"
   ]
  },
  {
   "cell_type": "code",
   "execution_count": 426,
   "metadata": {},
   "outputs": [],
   "source": [
    "# make a plot of the key summary data for a subject - single trial type version\n",
    "subjectplot <- function(datadf, subjectid,savestr){\n",
    "    \n",
    "    datadf = subset(datadf, subject == subjectid) # select the ID for subject of interest\n",
    "    for (trial_condition in trial_types){\n",
    "            subjectdf = subset(datadf, trial_type == trial_condition) # just pick one trial type at a time\n",
    "    \n",
    "    \n",
    "        if(subjectdf$trial_type[1] != 'after_1'){\n",
    "            FP = TRUE\n",
    "        } else {\n",
    "            FP = FALSE\n",
    "        }\n",
    "\n",
    "        # FF Matrix plot\n",
    "        FFmatrix <- dissimplot(dissimdata(subjectdf, colors, l2e('Foveal'), l2e('Foveal')),colors)\n",
    "\n",
    "\n",
    "\n",
    "        # PP Matrix plot\n",
    "        PPmatrix <- dissimplot(dissimdata(subjectdf, colors, l2e('Peripheral'), l2e('Peripheral')),colors)\n",
    "\n",
    "        # FF CMDS plot\n",
    "        FFcmds <-  cmdsplot(cmdsfit(mat2dist(df2mat(subjectdf,l2e('Foveal'), l2e('Foveal')))), \n",
    "                            abcolors, abcolors, l2e('Foveal'), l2e('Foveal'))\n",
    "\n",
    "\n",
    "\n",
    "        # PP CMDS plot\n",
    "        PPcmds <-  cmdsplot(cmdsfit(mat2dist(df2mat(subjectdf,l2e('Peripheral'), l2e('Peripheral')))), \n",
    "                            abcolors, abcolors, l2e('Peripheral'), l2e('Peripheral'))\n",
    "\n",
    "        # FF nMDS plot\n",
    "        FFnmds <-  nmdsplot(nmdsfit(mat2dist(df2mat(subjectdf,l2e('Foveal'), l2e('Foveal')))), \n",
    "                            abcolors, abcolors, l2e('Foveal'), l2e('Foveal'))\n",
    "\n",
    "\n",
    "\n",
    "        # PP nMDS plot\n",
    "        PPnmds <-  nmdsplot(nmdsfit(mat2dist(df2mat(subjectdf,l2e('Peripheral'), l2e('Peripheral')))), \n",
    "                            abcolors, abcolors, l2e('Peripheral'), l2e('Peripheral'))\n",
    "\n",
    "        # Similarity judgements\n",
    "        simplot <- simhistplot(subjectdf)\n",
    "        # Reaction times\n",
    "        reactionplot <- rsplot(subjectdf)\n",
    "        # summary plot\n",
    "        rainplot <- rsplot_raincloud(subjectdf,'log')\n",
    "\n",
    "        # trace plots\n",
    "        traceplot <- trace_plot(subjectdf)\n",
    "        antiplot <- trace_plot(subjectdf,'antitrace')\n",
    "        differenceplot <- trace_plot(subjectdf,'difference')\n",
    "\n",
    "        # asymmetry plot\n",
    "        asymplot <- asymmetry_plot(subjectdf,l2e('Foveal'),l2e('Foveal'),colors)\n",
    "\n",
    "        # title\n",
    "        if(subjectdf$noncompliant[1]){\n",
    "            print(paste(\"Screen size:\",round(screen_size(subjectdf),1),\"cm\")) #testing\n",
    "            title <- textGrob(paste(\"ID:\",as.character(subjectid),\"|\",\"Catch Score:\",catch_score(datadf),\n",
    "                              \"Screen size:\",round(screen_size(subjectdf)/10,1),\"cm\",\n",
    "                              \"Viewing distance:\",round(view_distance(subjectdf)/10,1),\"cm\"),\n",
    "                              gp=gpar(col=\"red\",fontsize=35))\n",
    "        } else {\n",
    "            print(paste(\"Screen size:\",round(screen_size(subjectdf),1),\"cm\")) #testing\n",
    "            title <- textGrob(paste(\"ID:\",as.character(subjectid),\"|\",\"Catch Score:\",catch_score(datadf),\n",
    "                              \"Screen size:\",round(screen_size(subjectdf)/10,1),\"cm\",\n",
    "                              \"Viewing distance:\",round(view_distance(subjectdf)/10,1),\"cm\"),\n",
    "                              gp=gpar(col=\"blue\",fontsize=35))\n",
    "        }\n",
    "    \n",
    "        if(FP){\n",
    "\n",
    "            # FP Matrix plot\n",
    "            FPmatrix <- dissimplot(dissimdata(subjectdf, colors, l2e('Foveal'), l2e('Peripheral')),colors)\n",
    "\n",
    "            # FP CMDS plot\n",
    "            FPcmds <-  cmdsplot(cmdsfit(mat2dist(df2mat(subjectdf,l2e('Foveal'), l2e('Peripheral')))), \n",
    "                            abcolors, abcolors, l2e('Foveal'), l2e('Peripheral'))\n",
    "\n",
    "            # FP nMDS plot\n",
    "            FPnmds <-  nmdsplot(nmdsfit(mat2dist(df2mat(subjectdf,l2e('Foveal'), l2e('Peripheral')))), \n",
    "                            abcolors, abcolors, l2e('Foveal'), l2e('Peripheral'))\n",
    "\n",
    "            # put all the plots together\n",
    "            g <- arrangeGrob(FFmatrix, FPmatrix, PPmatrix, simplot,\n",
    "                        FFcmds, FPcmds, PPcmds, reactionplot,\n",
    "                        FFnmds, FPnmds, PPnmds, rainplot,\n",
    "                        traceplot, antiplot, differenceplot, \n",
    "                        nrow = 4, ncol=4, top = title)\n",
    "\n",
    "            exp_type <- trial_condition\n",
    "            ggsave(paste(savestr,\"_Subject_Plots/\",exp_type,\"_ID_\",subjectid,\"_plot.png\",sep=''),\n",
    "                     g, height = 40, width = 40)\n",
    "        } else {\n",
    "            # put all the plots together\n",
    "            g <- arrangeGrob(FFmatrix, PPmatrix, simplot, traceplot,\n",
    "                        FFcmds, PPcmds, reactionplot, antiplot,\n",
    "                        FFnmds, PPnmds, rainplot, \n",
    "                        nrow = 3, ncol=4, top = title)\n",
    "\n",
    "            exp_type <- trial_condition\n",
    "            ggsave(paste(savestr,\"_Subject_Plots/\",exp_type,\"_ID_\",subjectid,\"_plot.png\",\n",
    "                     sep=''),g, height = 30, width = 40)\n",
    "        }\n",
    "    }\n",
    "}"
   ]
  },
  {
   "cell_type": "code",
   "execution_count": 427,
   "metadata": {
    "scrolled": true
   },
   "outputs": [
    {
     "name": "stdout",
     "output_type": "stream",
     "text": [
      "[1] \"Processing subject: 162264632\"\n",
      "initial  value 23.903535 \n",
      "iter   5 value 18.945630\n",
      "iter   5 value 18.926830\n",
      "iter   5 value 18.916782\n",
      "final  value 18.916782 \n",
      "converged\n",
      "initial  value 11.972860 \n",
      "iter   5 value 9.466931\n",
      "final  value 9.277695 \n",
      "converged\n"
     ]
    },
    {
     "name": "stderr",
     "output_type": "stream",
     "text": [
      "Scale for 'y' is already present. Adding another scale for 'y', which will\n",
      "replace the existing scale.\n"
     ]
    },
    {
     "name": "stdout",
     "output_type": "stream",
     "text": [
      "[1] \"Screen size: 268.1 cm\"\n",
      "initial  value 22.740262 \n",
      "iter   5 value 19.490939\n",
      "final  value 18.930836 \n",
      "converged\n"
     ]
    },
    {
     "name": "stderr",
     "output_type": "stream",
     "text": [
      "`stat_bindot()` using `bins = 30`. Pick better value with `binwidth`.\n",
      "`stat_bindot()` using `bins = 30`. Pick better value with `binwidth`.\n",
      "`stat_bindot()` using `bins = 30`. Pick better value with `binwidth`.\n"
     ]
    },
    {
     "name": "stdout",
     "output_type": "stream",
     "text": [
      "[1] \"Processing subject: 235749592\"\n",
      "initial  value 19.692279 \n",
      "iter   5 value 12.253361\n",
      "iter  10 value 8.332720\n",
      "iter  15 value 6.139715\n",
      "iter  20 value 4.187812\n",
      "iter  25 value 4.009471\n",
      "iter  25 value 4.007180\n",
      "iter  25 value 4.007180\n",
      "final  value 4.007180 \n",
      "converged\n",
      "initial  value 26.186658 \n",
      "iter   5 value 15.587525\n",
      "iter  10 value 9.865902\n",
      "iter  15 value 9.485178\n",
      "iter  20 value 9.122364\n",
      "iter  20 value 9.118117\n",
      "iter  20 value 9.118117\n",
      "final  value 9.118117 \n",
      "converged\n"
     ]
    },
    {
     "name": "stderr",
     "output_type": "stream",
     "text": [
      "Scale for 'y' is already present. Adding another scale for 'y', which will\n",
      "replace the existing scale.\n"
     ]
    },
    {
     "name": "stdout",
     "output_type": "stream",
     "text": [
      "[1] \"Screen size: 280.6 cm\"\n",
      "initial  value 25.514771 \n",
      "iter   5 value 12.445783\n",
      "final  value 10.519017 \n",
      "converged\n"
     ]
    },
    {
     "name": "stderr",
     "output_type": "stream",
     "text": [
      "`stat_bindot()` using `bins = 30`. Pick better value with `binwidth`.\n",
      "`stat_bindot()` using `bins = 30`. Pick better value with `binwidth`.\n",
      "`stat_bindot()` using `bins = 30`. Pick better value with `binwidth`.\n"
     ]
    },
    {
     "name": "stdout",
     "output_type": "stream",
     "text": [
      "[1] \"Processing subject: 265889134\"\n",
      "initial  value 15.104792 \n",
      "iter   5 value 11.666078\n",
      "final  value 11.585370 \n",
      "converged\n",
      "initial  value 9.984218 \n",
      "iter   5 value 6.065480\n",
      "final  value 6.042394 \n",
      "converged\n"
     ]
    },
    {
     "name": "stderr",
     "output_type": "stream",
     "text": [
      "Scale for 'y' is already present. Adding another scale for 'y', which will\n",
      "replace the existing scale.\n"
     ]
    },
    {
     "name": "stdout",
     "output_type": "stream",
     "text": [
      "[1] \"Screen size: 243.8 cm\"\n",
      "initial  value 10.528944 \n",
      "iter   5 value 7.626037\n",
      "final  value 7.612333 \n",
      "converged\n"
     ]
    },
    {
     "name": "stderr",
     "output_type": "stream",
     "text": [
      "`stat_bindot()` using `bins = 30`. Pick better value with `binwidth`.\n",
      "`stat_bindot()` using `bins = 30`. Pick better value with `binwidth`.\n",
      "`stat_bindot()` using `bins = 30`. Pick better value with `binwidth`.\n"
     ]
    },
    {
     "name": "stdout",
     "output_type": "stream",
     "text": [
      "[1] \"Processing subject: 395283747\"\n",
      "initial  value 22.694646 \n",
      "iter   5 value 15.396664\n",
      "final  value 14.843350 \n",
      "converged\n",
      "initial  value 22.323442 \n",
      "iter   5 value 15.228907\n",
      "final  value 15.132726 \n",
      "converged\n"
     ]
    },
    {
     "name": "stderr",
     "output_type": "stream",
     "text": [
      "Scale for 'y' is already present. Adding another scale for 'y', which will\n",
      "replace the existing scale.\n"
     ]
    },
    {
     "name": "stdout",
     "output_type": "stream",
     "text": [
      "[1] \"Screen size: 488.6 cm\"\n",
      "initial  value 21.639585 \n",
      "iter   5 value 17.178085\n",
      "iter  10 value 15.732076\n",
      "final  value 15.694411 \n",
      "converged\n"
     ]
    },
    {
     "name": "stderr",
     "output_type": "stream",
     "text": [
      "`stat_bindot()` using `bins = 30`. Pick better value with `binwidth`.\n",
      "`stat_bindot()` using `bins = 30`. Pick better value with `binwidth`.\n",
      "`stat_bindot()` using `bins = 30`. Pick better value with `binwidth`.\n"
     ]
    },
    {
     "name": "stdout",
     "output_type": "stream",
     "text": [
      "[1] \"Processing subject: 638834636\"\n",
      "initial  value 12.568914 \n",
      "iter   5 value 9.105509\n",
      "final  value 9.077675 \n",
      "converged\n",
      "initial  value 12.717896 \n",
      "iter   5 value 8.804860\n",
      "final  value 8.758477 \n",
      "converged\n"
     ]
    },
    {
     "name": "stderr",
     "output_type": "stream",
     "text": [
      "Scale for 'y' is already present. Adding another scale for 'y', which will\n",
      "replace the existing scale.\n"
     ]
    },
    {
     "name": "stdout",
     "output_type": "stream",
     "text": [
      "[1] \"Screen size: 562.9 cm\"\n",
      "initial  value 16.276461 \n",
      "iter   5 value 12.846442\n",
      "final  value 12.770016 \n",
      "converged\n"
     ]
    },
    {
     "name": "stderr",
     "output_type": "stream",
     "text": [
      "`stat_bindot()` using `bins = 30`. Pick better value with `binwidth`.\n",
      "`stat_bindot()` using `bins = 30`. Pick better value with `binwidth`.\n",
      "`stat_bindot()` using `bins = 30`. Pick better value with `binwidth`.\n"
     ]
    },
    {
     "name": "stdout",
     "output_type": "stream",
     "text": [
      "[1] \"Processing subject: 765850091\"\n",
      "initial  value 13.212001 \n",
      "iter   5 value 7.286883\n",
      "iter  10 value 4.524785\n",
      "final  value 4.472498 \n",
      "converged\n",
      "initial  value 33.968929 \n",
      "iter   5 value 11.894277\n",
      "iter  10 value 9.735667\n",
      "iter  15 value 7.985982\n",
      "final  value 7.857277 \n",
      "converged\n"
     ]
    },
    {
     "name": "stderr",
     "output_type": "stream",
     "text": [
      "Scale for 'y' is already present. Adding another scale for 'y', which will\n",
      "replace the existing scale.\n"
     ]
    },
    {
     "name": "stdout",
     "output_type": "stream",
     "text": [
      "[1] \"Screen size: 565 cm\"\n",
      "initial  value 18.323551 \n",
      "iter   5 value 9.945428\n",
      "iter  10 value 8.128565\n",
      "final  value 8.015464 \n",
      "converged\n"
     ]
    },
    {
     "name": "stderr",
     "output_type": "stream",
     "text": [
      "`stat_bindot()` using `bins = 30`. Pick better value with `binwidth`.\n",
      "`stat_bindot()` using `bins = 30`. Pick better value with `binwidth`.\n",
      "`stat_bindot()` using `bins = 30`. Pick better value with `binwidth`.\n"
     ]
    },
    {
     "name": "stdout",
     "output_type": "stream",
     "text": [
      "[1] \"Processing subject: 788516555\"\n",
      "initial  value 34.687411 \n",
      "iter   5 value 21.803803\n",
      "final  value 18.263811 \n",
      "converged\n",
      "initial  value 41.587845 \n",
      "iter   5 value 25.787480\n",
      "iter  10 value 21.060385\n",
      "iter  15 value 20.373757\n",
      "iter  20 value 20.116257\n",
      "iter  20 value 20.107584\n",
      "iter  20 value 20.103519\n",
      "final  value 20.103519 \n",
      "converged\n"
     ]
    },
    {
     "name": "stderr",
     "output_type": "stream",
     "text": [
      "Scale for 'y' is already present. Adding another scale for 'y', which will\n",
      "replace the existing scale.\n"
     ]
    },
    {
     "name": "stdout",
     "output_type": "stream",
     "text": [
      "[1] \"Screen size: 342.8 cm\"\n",
      "initial  value 48.848232 \n",
      "iter   5 value 17.126265\n",
      "final  value 15.629792 \n",
      "converged\n"
     ]
    },
    {
     "name": "stderr",
     "output_type": "stream",
     "text": [
      "`stat_bindot()` using `bins = 30`. Pick better value with `binwidth`.\n",
      "`stat_bindot()` using `bins = 30`. Pick better value with `binwidth`.\n",
      "`stat_bindot()` using `bins = 30`. Pick better value with `binwidth`.\n"
     ]
    },
    {
     "name": "stdout",
     "output_type": "stream",
     "text": [
      "[1] \"Processing subject: 854808809\"\n",
      "initial  value 23.083585 \n",
      "iter   5 value 16.579918\n",
      "iter  10 value 15.496171\n",
      "final  value 15.472337 \n",
      "converged\n",
      "initial  value 18.932063 \n",
      "iter   5 value 13.772014\n",
      "iter  10 value 13.264522\n",
      "iter  10 value 13.255878\n",
      "iter  10 value 13.251097\n",
      "final  value 13.251097 \n",
      "converged\n"
     ]
    },
    {
     "name": "stderr",
     "output_type": "stream",
     "text": [
      "Scale for 'y' is already present. Adding another scale for 'y', which will\n",
      "replace the existing scale.\n"
     ]
    },
    {
     "name": "stdout",
     "output_type": "stream",
     "text": [
      "[1] \"Screen size: 243.8 cm\"\n",
      "initial  value 31.184921 \n",
      "iter   5 value 23.545834\n",
      "iter  10 value 21.212925\n",
      "iter  15 value 16.342747\n",
      "final  value 15.761099 \n",
      "converged\n"
     ]
    },
    {
     "name": "stderr",
     "output_type": "stream",
     "text": [
      "`stat_bindot()` using `bins = 30`. Pick better value with `binwidth`.\n",
      "`stat_bindot()` using `bins = 30`. Pick better value with `binwidth`.\n",
      "`stat_bindot()` using `bins = 30`. Pick better value with `binwidth`.\n"
     ]
    },
    {
     "name": "stdout",
     "output_type": "stream",
     "text": [
      "[1] \"Processing subject: 856272856\"\n",
      "initial  value 21.580045 \n",
      "iter   5 value 15.434249\n",
      "iter  10 value 14.870485\n",
      "final  value 14.785546 \n",
      "converged\n",
      "initial  value 14.493520 \n",
      "iter   5 value 11.266563\n",
      "iter  10 value 10.692085\n",
      "final  value 10.651713 \n",
      "converged\n"
     ]
    },
    {
     "name": "stderr",
     "output_type": "stream",
     "text": [
      "Scale for 'y' is already present. Adding another scale for 'y', which will\n",
      "replace the existing scale.\n"
     ]
    },
    {
     "name": "stdout",
     "output_type": "stream",
     "text": [
      "[1] \"Screen size: 325.1 cm\"\n"
     ]
    },
    {
     "ename": "ERROR",
     "evalue": "Error in cmdscale(distmatrix, k = 2): NA values not allowed in 'd'\n",
     "output_type": "error",
     "traceback": [
      "Error in cmdscale(distmatrix, k = 2): NA values not allowed in 'd'\nTraceback:\n",
      "1. allsubjectsplot(datadf, savestr)   # at line 2 of file <text>",
      "2. subjectplot(datadf, subjectid, savestr)   # at line 10 of file <text>",
      "3. cmdsplot(cmdsfit(mat2dist(df2mat(subjectdf, l2e(\"Foveal\"), l2e(\"Peripheral\")))), \n .     abcolors, abcolors, l2e(\"Foveal\"), l2e(\"Peripheral\"))   # at line 79-80 of file <text>",
      "4. as.data.frame(fit)   # at line 7 of file <text>",
      "5. cmdsfit(mat2dist(df2mat(subjectdf, l2e(\"Foveal\"), l2e(\"Peripheral\"))))   # at line 79-80 of file <text>",
      "6. cmdscale(distmatrix, k = 2)   # at line 4 of file <text>",
      "7. stop(\"NA values not allowed in 'd'\")"
     ]
    }
   ],
   "source": [
    "if(plotsubjects){\n",
    "    allsubjectsplot(datadf,savestr)\n",
    "}"
   ]
  },
  {
   "cell_type": "markdown",
   "metadata": {},
   "source": [
    "#### New mixed trial type version analysis"
   ]
  },
  {
   "cell_type": "code",
   "execution_count": 62,
   "metadata": {},
   "outputs": [],
   "source": [
    "# matrix to define layout for the mixed trial type plot\n",
    "mixed_hlay <- rbind (c(1,2,3,4,5,6),\n",
    "                     c(7,8,9,10,11,12),\n",
    "                     c(13,14,15,16,17,18))"
   ]
  },
  {
   "cell_type": "code",
   "execution_count": 63,
   "metadata": {},
   "outputs": [],
   "source": [
    "# names for the x axis\n",
    "col_plot_list <- c('FF Matrix', 'FF nMDS', 'PP Matrix', 'PP nMDS', 'RT', 'Dissim Freq')"
   ]
  },
  {
   "cell_type": "code",
   "execution_count": 264,
   "metadata": {},
   "outputs": [],
   "source": [
    "# calculate the catch trial score for a subject\n",
    "catch_score <- function(datadf){\n",
    "    datadf <- subset(datadf, trial_type == 'catch')\n",
    "    datadf$correct <- ifelse(datadf$similarity == datadf$catch_vals, 1, 0) # determine whether they got the catch trials right\n",
    "    score <- sum(datadf$correct)/nrow(datadf) # get the score\n",
    "    return(score)\n",
    "}"
   ]
  },
  {
   "cell_type": "code",
   "execution_count": 65,
   "metadata": {},
   "outputs": [],
   "source": [
    "# make a plot of the key summary data for a subject - mixed trial type version\n",
    "subject_mixed_plot <- function(datadf,savestr){\n",
    "    \n",
    "    dir.create(paste(savestr,\"Mixed_Trial_Type_Plots\", sep='_'))\n",
    "    subjectlist <- sort(unique(datadf$subject)) # obtain a list of all the subjects\n",
    "    \n",
    "    \n",
    "    for (subjectid in subjectlist){ # do for each subject\n",
    "        \n",
    "        k = 0 # counter\n",
    "        plot_list <- list() # list to store the plots in as we're making them\n",
    "        subjectdf = subset(datadf, subject == subjectid) # select the ID for subject of interest\n",
    "\n",
    "        for (trial_condition in trial_types){\n",
    "            type_df = subset(subjectdf, trial_type == trial_condition) # just pick one trial type at a time\n",
    "            \n",
    "            # FF Matrix plot\n",
    "            FFmatrix <- dissimplot(dissimdata(type_df, colors, l2e('Foveal'), l2e('Foveal')),colors)\n",
    "            k = k + 1\n",
    "            plot_list[[k]] <- as.grob(FFmatrix)\n",
    "            \n",
    "            # FF nMDS plot\n",
    "            FFnmds <-  nmdsplot(nmdsfit(mat2dist(df2mat(type_df,l2e('Foveal'), l2e('Foveal')))), \n",
    "                                abcolors, abcolors, l2e('Foveal'), l2e('Foveal'))\n",
    "            k = k + 1\n",
    "            plot_list[[k]] <- as.grob(FFnmds)\n",
    "\n",
    "            # PP Matrix plot\n",
    "            PPmatrix <- dissimplot(dissimdata(type_df, colors, l2e('Peripheral'), l2e('Peripheral')),colors)\n",
    "            k = k + 1\n",
    "            plot_list[[k]] <- as.grob(PPmatrix)\n",
    "\n",
    "            # PP nMDS plot\n",
    "            PPnmds <-  nmdsplot(nmdsfit(mat2dist(df2mat(type_df,l2e('Peripheral'), l2e('Peripheral')))), \n",
    "                                abcolors, abcolors, l2e('Peripheral'), l2e('Peripheral'))\n",
    "            k = k + 1\n",
    "            plot_list[[k]] <- as.grob(PPnmds)\n",
    "\n",
    "            # rt rain plot\n",
    "            rainplot <- rsplot_raincloud(type_df)\n",
    "            k = k + 1\n",
    "            plot_list[[k]] <- as.grob(rainplot)\n",
    "            # Similarity judgements\n",
    "            simplot <- simhistplot(subjectdf)\n",
    "            k = k + 1\n",
    "            plot_list[[k]] <- as.grob(simplot)\n",
    "\n",
    "        }\n",
    "\n",
    "        # save the plots\n",
    "        yaxis <- textGrob(\"Trial Type\", gp=gpar(fontsize=30), rot=90)\n",
    "        xaxis <- textGrob(\"\", gp=gpar(fontsize=30))\n",
    "\n",
    "        title <- textGrob(paste(\"ID:\",subjectid,\"|\",\"Catch Score:\",catch_score(subjectdf)),gp=gpar(fontsize=35))\n",
    "\n",
    "        g <- arrangeGrob(grobs = plot_list, ncol = 6,nrow = 3,\n",
    "                         layout_matrix = mixed_hlay)\n",
    "\n",
    "        g_rowcol_names <- rbind(tableGrob(t(col_plot_list), theme = ttheme_minimal(), rows = \"\"),\n",
    "                    cbind(tableGrob(trial_types, theme = ttheme_minimal()),\n",
    "                          g, size = \"last\"), size = \"last\")\n",
    "\n",
    "\n",
    "        g_titled <- arrangeGrob(g_rowcol_names, top = title, left = yaxis, bottom = xaxis)\n",
    "        \n",
    "        savename <- paste(savestr,\"_Mixed_Trial_Type_Plots/\",subjectid,\"_plot.png\",sep='')\n",
    "        ggsave(savename,g_titled, height = 19, width = 39)\n",
    "    }\n",
    "}"
   ]
  },
  {
   "cell_type": "code",
   "execution_count": 66,
   "metadata": {
    "scrolled": true
   },
   "outputs": [
    {
     "name": "stdout",
     "output_type": "stream",
     "text": [
      "initial  value 1.094606 \n",
      "final  value 0.000000 \n",
      "converged\n",
      "initial  value 5.672467 \n",
      "final  value 0.000000 \n",
      "converged\n",
      "initial  value 0.465013 \n",
      "final  value 0.000000 \n",
      "converged\n",
      "initial  value 12.917472 \n",
      "iter   5 value 2.830934\n",
      "iter  10 value 0.520020\n",
      "iter  15 value 0.119869\n",
      "iter  20 value 0.025455\n",
      "final  value 0.008443 \n",
      "converged\n",
      "initial  value 7.441465 \n",
      "iter   5 value 1.277978\n",
      "iter  10 value 0.384073\n",
      "iter  15 value 0.084641\n",
      "final  value 0.006737 \n",
      "converged\n",
      "initial  value 3.614121 \n",
      "final  value 0.000000 \n",
      "converged\n",
      "initial  value 34.007888 \n",
      "iter   5 value 17.550441\n",
      "iter  10 value 12.364038\n",
      "iter  15 value 5.457904\n",
      "iter  20 value 1.123729\n",
      "iter  25 value 0.477725\n",
      "iter  30 value 0.066640\n",
      "final  value 0.003816 \n",
      "converged\n",
      "initial  value 23.670976 \n",
      "iter   5 value 6.298162\n",
      "iter  10 value 2.789714\n",
      "iter  15 value 2.105118\n",
      "final  value 2.099006 \n",
      "converged\n",
      "initial  value 15.651304 \n",
      "iter   5 value 6.566538\n",
      "iter  10 value 5.543498\n",
      "final  value 5.506203 \n",
      "converged\n",
      "initial  value 12.896237 \n",
      "iter   5 value 6.937656\n",
      "iter  10 value 0.583164\n",
      "iter  10 value 0.000000\n",
      "iter  10 value 0.000000\n",
      "final  value 0.000000 \n",
      "converged\n",
      "initial  value 8.865667 \n",
      "final  value 0.000000 \n",
      "converged\n",
      "initial  value 4.733700 \n",
      "iter   5 value 0.930414\n",
      "iter  10 value 0.029056\n",
      "iter  10 value 0.008397\n",
      "iter  10 value 0.000000\n",
      "final  value 0.000000 \n",
      "converged\n",
      "initial  value 0.867645 \n",
      "iter   5 value 0.019825\n",
      "iter   5 value 0.000000\n",
      "iter   5 value 0.000000\n",
      "final  value 0.000000 \n",
      "converged\n",
      "initial  value 2.295115 \n",
      "iter   5 value 0.712248\n",
      "iter  10 value 0.104943\n",
      "final  value 0.005216 \n",
      "converged\n",
      "initial  value 4.713959 \n",
      "iter   5 value 0.208102\n",
      "final  value 0.009352 \n",
      "converged\n",
      "initial  value 7.032522 \n",
      "iter   5 value 3.016105\n",
      "iter  10 value 0.395728\n",
      "iter  15 value 0.125335\n",
      "iter  20 value 0.029767\n",
      "final  value 0.008325 \n",
      "converged\n",
      "initial  value 2.499409 \n",
      "iter   5 value 1.099315\n",
      "iter  10 value 0.447300\n",
      "iter  15 value 0.080696\n",
      "iter  20 value 0.024948\n",
      "iter  20 value 0.008068\n",
      "iter  20 value 0.008068\n",
      "final  value 0.008068 \n",
      "converged\n",
      "initial  value 2.797741 \n",
      "iter   5 value 0.640398\n",
      "iter  10 value 0.097921\n",
      "iter  15 value 0.011930\n",
      "iter  15 value 0.007913\n",
      "iter  15 value 0.006179\n",
      "final  value 0.006179 \n",
      "converged\n"
     ]
    }
   ],
   "source": [
    "subject_mixed_plot(datadf,savestr)"
   ]
  },
  {
   "cell_type": "markdown",
   "metadata": {},
   "source": [
    "### Summary plots"
   ]
  },
  {
   "cell_type": "code",
   "execution_count": 111,
   "metadata": {},
   "outputs": [],
   "source": [
    "dir.create(paste(savestr,\"Summary_Plots\",sep='_'))"
   ]
  },
  {
   "cell_type": "code",
   "execution_count": 112,
   "metadata": {},
   "outputs": [],
   "source": [
    "# matrix to use to define the plot layout, specified manually for now\n",
    "hlay <- rbind (c(1,4,7,10),\n",
    "               c(2,5,8,11),\n",
    "               c(3,6,9,12))"
   ]
  },
  {
   "cell_type": "code",
   "execution_count": 462,
   "metadata": {},
   "outputs": [],
   "source": [
    "# correlations summary plot\n",
    "across_experiment_plot <- function(datadf,savestr,laymatrix,response_type_list,response_names,dependent,clean=FALSE){\n",
    "    \n",
    "    dir.create(paste(savestr,\"Overall_Summary_Plots\",sep='_'))\n",
    "    \n",
    "    stimuli_list <- sort(unique(datadf$stimuli_count))\n",
    "    plot_list <- list()\n",
    "    \n",
    "    if(clean){\n",
    "        datadf <- subset(datadf, noncompliant == 0)\n",
    "    }\n",
    "    \n",
    "    # make all the plots\n",
    "    k = 0\n",
    "    for (stimulus in stimuli_list){\n",
    "        for (response in response_type_list){\n",
    "            k = k + 1\n",
    "            if(stimulus == 2){ # 2 stimuli doesn't have any cueing, so it gets an exception\n",
    "                tempdf <- subset(datadf, stimuli_count == 2)\n",
    "            } else {\n",
    "                tempdf <- subset(datadf, stimuli_count == stimulus & response_type == response)\n",
    "            }\n",
    "            \n",
    "            # make the specific plot\n",
    "            if(dependent=='correlation'){\n",
    "                fvp <- fvp_list(tempdf)\n",
    "                plot <- corr_plot(fvp,'Within-subject FvP','Within-subject FvP')\n",
    "                title <- textGrob(\"CORRELATION\", gp=gpar(fontsize=35))\n",
    "            } else if (dependent=='RT'){\n",
    "                plot <- rsplot_summary(tempdf)\n",
    "                title <- textGrob(\"REACTION TIME\", gp=gpar(fontsize=35))\n",
    "            } else if (dependent=='dissimilarity'){\n",
    "                plot <- simhistplot_summary(tempdf)\n",
    "                title <- textGrob(\"DISSIMILARITY\", gp=gpar(fontsize=35))\n",
    "            } else if (dependent=='trace'){\n",
    "                plot <- trace_plot(tempdf)\n",
    "                title <- textGrob(\"TRACE\", gp=gpar(fontsize=35))\n",
    "            } else if (dependent=='antitrace'){\n",
    "                plot <- trace_plot(tempdf,'antitrace')\n",
    "                title <- textGrob(\"ANTITRACE\", gp=gpar(fontsize=35))\n",
    "            } else if (dependent=='difference'){\n",
    "                plot <- trace_plot(tempdf,'difference')\n",
    "                title <- textGrob(\"ANTITRACE - TRACE\", gp=gpar(fontsize=35))\n",
    "            } else if (dependent=='asymmetry_matrix'){\n",
    "                plot <- asymmetry_plot(tempdf,l2e('Foveal'),l2e('Foveal'),colors)\n",
    "                title <- textGrob(\"SIMILARITY ASYMMETRY MATRIX\", gp=gpar(fontsize=35))\n",
    "            } else if (dependent == 'trace_by_trial'){\n",
    "                plot <- trace_by_trial_plot(tempdf,'boxplot')\n",
    "                title <- textGrob(\"Trace by Trial\", gp=gpar(fontsize=35))\n",
    "            }\n",
    "            \n",
    "            \n",
    "            plot <- plot + xlab(paste(stimulus,response,sep=' ')) #  add a label\n",
    "            if(stimulus == 2 && k != 1){ # don't plot after-cueing for 2 cue stimuli\n",
    "                plot <- ggplot() + geom_blank() + theme_void()\n",
    "            } else if (dependent == 'asymmetry_matrix' && response != 'after_1'){\n",
    "                plot <- ggplot() + geom_blank() + theme_void()\n",
    "            }\n",
    "            plot_list[[k]] <- as.grob(plot) # add it to the plot_list\n",
    "        }\n",
    "        \n",
    "    }\n",
    "    \n",
    "    # save the plots\n",
    "    yaxis <- textGrob(\"Cueing Type\", gp=gpar(fontsize=30), rot=90)\n",
    "    xaxis <- textGrob(\"Stimuli\", gp=gpar(fontsize=30))\n",
    "    \n",
    "    g <- arrangeGrob(grobs = plot_list, ncol = length(stimuli_list),nrow = length(response_type_list),\n",
    "                     layout_matrix = hlay)\n",
    "    \n",
    "    g_rowcol_names <- rbind(tableGrob(t(stimuli_list), theme = ttheme_minimal(), rows = \"\"),\n",
    "                cbind(tableGrob(response_names, theme = ttheme_minimal()),\n",
    "                      g, size = \"last\"), size = \"last\")\n",
    "    \n",
    "    g_titled <- arrangeGrob(g_rowcol_names, top = title, left = yaxis, bottom = xaxis)\n",
    "    \n",
    "    if(clean){\n",
    "        savename <- paste(savestr,\"_Overall_Summary_Plots/\",dependent,\"_CLEAN\",\"_plot.png\",sep='')\n",
    "        ggsave(savename,g_titled, height = 20, width = 30)\n",
    "    }else{\n",
    "        savename <- paste(savestr,\"_Overall_Summary_Plots/\",dependent,\"_plot.png\",sep='')\n",
    "        ggsave(savename,g_titled, height = 20, width = 30)\n",
    "    }\n",
    "    \n",
    "    return(g_titled)\n",
    "}"
   ]
  },
  {
   "cell_type": "code",
   "execution_count": 463,
   "metadata": {},
   "outputs": [
    {
     "data": {
      "text/plain": [
       "TableGrob (3 x 2) \"arrange\": 4 grobs\n",
       "  z     cells    name                   grob\n",
       "1 1 (2-2,2-2) arrange     gtable[rowhead-fg]\n",
       "2 2 (1-1,2-2) arrange text[GRID.text.323514]\n",
       "3 3 (3-3,2-2) arrange text[GRID.text.323785]\n",
       "4 4 (1-3,1-1) arrange text[GRID.text.323784]"
      ]
     },
     "metadata": {},
     "output_type": "display_data"
    },
    {
     "data": {
      "text/plain": [
       "TableGrob (3 x 2) \"arrange\": 4 grobs\n",
       "  z     cells    name                   grob\n",
       "1 1 (2-2,2-2) arrange     gtable[rowhead-fg]\n",
       "2 2 (1-1,2-2) arrange text[GRID.text.326306]\n",
       "3 3 (3-3,2-2) arrange text[GRID.text.326567]\n",
       "4 4 (1-3,1-1) arrange text[GRID.text.326566]"
      ]
     },
     "metadata": {},
     "output_type": "display_data"
    }
   ],
   "source": [
    "across_experiment_plot(datadf,savestr,hlay,response_type_list,response_names,'trace_by_trial')\n",
    "across_experiment_plot(datadf,savestr,hlay,response_type_list,response_names,'trace_by_trial',TRUE)"
   ]
  },
  {
   "cell_type": "markdown",
   "metadata": {},
   "source": [
    "#### Across all experiments"
   ]
  },
  {
   "cell_type": "code",
   "execution_count": 202,
   "metadata": {},
   "outputs": [],
   "source": [
    "across_all <- function(datadf,savestr,laymatrix,response_type_list,response_names){\n",
    "    across_experiment_plot(datadf,savestr,hlay,response_type_list,response_names,'RT')\n",
    "    across_experiment_plot(datadf,savestr,hlay,response_type_list,response_names,'dissimilarity')\n",
    "    across_experiment_plot(datadf,savestr,hlay,response_type_list,response_names,'asymmetry_matrix')\n",
    "    across_experiment_plot(datadf,savestr,hlay,response_type_list,response_names,'correlation')\n",
    "    across_experiment_plot(datadf,savestr,hlay,response_type_list,response_names,'trace')\n",
    "    across_experiment_plot(datadf,savestr,hlay,response_type_list,response_names,'antitrace')\n",
    "    across_experiment_plot(datadf,savestr,hlay,response_type_list,response_names,'difference')\n",
    "    \n",
    "    across_experiment_plot(datadf,savestr,hlay,response_type_list,response_names,'RT',TRUE)\n",
    "    across_experiment_plot(datadf,savestr,hlay,response_type_list,response_names,'dissimilarity',TRUE)\n",
    "    across_experiment_plot(datadf,savestr,hlay,response_type_list,response_names,'asymmetry_matrix',TRUE)\n",
    "    across_experiment_plot(datadf,savestr,hlay,response_type_list,response_names,'correlation',TRUE)\n",
    "    across_experiment_plot(datadf,savestr,hlay,response_type_list,response_names,'trace',TRUE)\n",
    "    across_experiment_plot(datadf,savestr,hlay,response_type_list,response_names,'antitrace',TRUE)\n",
    "    across_experiment_plot(datadf,savestr,hlay,response_type_list,response_names,'difference',TRUE)\n",
    "}"
   ]
  },
  {
   "cell_type": "code",
   "execution_count": 203,
   "metadata": {
    "scrolled": true
   },
   "outputs": [
    {
     "name": "stderr",
     "output_type": "stream",
     "text": [
      "`stat_bindot()` using `bins = 30`. Pick better value with `binwidth`.\n",
      "`stat_bindot()` using `bins = 30`. Pick better value with `binwidth`.\n",
      "`stat_bindot()` using `bins = 30`. Pick better value with `binwidth`.\n",
      "`stat_bindot()` using `bins = 30`. Pick better value with `binwidth`.\n",
      "`stat_bindot()` using `bins = 30`. Pick better value with `binwidth`.\n",
      "`stat_bindot()` using `bins = 30`. Pick better value with `binwidth`.\n",
      "`stat_bindot()` using `bins = 30`. Pick better value with `binwidth`.\n",
      "`stat_bindot()` using `bins = 30`. Pick better value with `binwidth`.\n",
      "`stat_bindot()` using `bins = 30`. Pick better value with `binwidth`.\n",
      "`stat_bindot()` using `bins = 30`. Pick better value with `binwidth`.\n",
      "`stat_bindot()` using `bins = 30`. Pick better value with `binwidth`.\n",
      "`stat_bindot()` using `bins = 30`. Pick better value with `binwidth`.\n",
      "`stat_bindot()` using `bins = 30`. Pick better value with `binwidth`.\n",
      "`stat_bindot()` using `bins = 30`. Pick better value with `binwidth`.\n",
      "`stat_bindot()` using `bins = 30`. Pick better value with `binwidth`.\n",
      "`stat_bindot()` using `bins = 30`. Pick better value with `binwidth`.\n",
      "`stat_bindot()` using `bins = 30`. Pick better value with `binwidth`.\n",
      "`stat_bindot()` using `bins = 30`. Pick better value with `binwidth`.\n",
      "`stat_bindot()` using `bins = 30`. Pick better value with `binwidth`.\n",
      "`stat_bindot()` using `bins = 30`. Pick better value with `binwidth`.\n",
      "`stat_bindot()` using `bins = 30`. Pick better value with `binwidth`.\n",
      "`stat_bindot()` using `bins = 30`. Pick better value with `binwidth`.\n",
      "`stat_bindot()` using `bins = 30`. Pick better value with `binwidth`.\n",
      "`stat_bindot()` using `bins = 30`. Pick better value with `binwidth`.\n",
      "`stat_bindot()` using `bins = 30`. Pick better value with `binwidth`.\n",
      "`stat_bindot()` using `bins = 30`. Pick better value with `binwidth`.\n",
      "`stat_bindot()` using `bins = 30`. Pick better value with `binwidth`.\n",
      "`stat_bindot()` using `bins = 30`. Pick better value with `binwidth`.\n",
      "`stat_bindot()` using `bins = 30`. Pick better value with `binwidth`.\n",
      "`stat_bindot()` using `bins = 30`. Pick better value with `binwidth`.\n",
      "`stat_bindot()` using `bins = 30`. Pick better value with `binwidth`.\n",
      "`stat_bindot()` using `bins = 30`. Pick better value with `binwidth`.\n",
      "`stat_bindot()` using `bins = 30`. Pick better value with `binwidth`.\n",
      "`stat_bindot()` using `bins = 30`. Pick better value with `binwidth`.\n",
      "`stat_bindot()` using `bins = 30`. Pick better value with `binwidth`.\n",
      "`stat_bindot()` using `bins = 30`. Pick better value with `binwidth`.\n",
      "`stat_bindot()` using `bins = 30`. Pick better value with `binwidth`.\n",
      "`stat_bindot()` using `bins = 30`. Pick better value with `binwidth`.\n",
      "`stat_bindot()` using `bins = 30`. Pick better value with `binwidth`.\n",
      "`stat_bindot()` using `bins = 30`. Pick better value with `binwidth`.\n",
      "`stat_bindot()` using `bins = 30`. Pick better value with `binwidth`.\n",
      "`stat_bindot()` using `bins = 30`. Pick better value with `binwidth`.\n",
      "`stat_bindot()` using `bins = 30`. Pick better value with `binwidth`.\n",
      "`stat_bindot()` using `bins = 30`. Pick better value with `binwidth`.\n",
      "`stat_bindot()` using `bins = 30`. Pick better value with `binwidth`.\n",
      "`stat_bindot()` using `bins = 30`. Pick better value with `binwidth`.\n",
      "`stat_bindot()` using `bins = 30`. Pick better value with `binwidth`.\n",
      "`stat_bindot()` using `bins = 30`. Pick better value with `binwidth`.\n",
      "`stat_bindot()` using `bins = 30`. Pick better value with `binwidth`.\n",
      "`stat_bindot()` using `bins = 30`. Pick better value with `binwidth`.\n",
      "`stat_bindot()` using `bins = 30`. Pick better value with `binwidth`.\n",
      "`stat_bindot()` using `bins = 30`. Pick better value with `binwidth`.\n",
      "`stat_bindot()` using `bins = 30`. Pick better value with `binwidth`.\n",
      "`stat_bindot()` using `bins = 30`. Pick better value with `binwidth`.\n",
      "`stat_bindot()` using `bins = 30`. Pick better value with `binwidth`.\n",
      "`stat_bindot()` using `bins = 30`. Pick better value with `binwidth`.\n",
      "`stat_bindot()` using `bins = 30`. Pick better value with `binwidth`.\n",
      "`stat_bindot()` using `bins = 30`. Pick better value with `binwidth`.\n",
      "`stat_bindot()` using `bins = 30`. Pick better value with `binwidth`.\n",
      "`stat_bindot()` using `bins = 30`. Pick better value with `binwidth`.\n",
      "`stat_bindot()` using `bins = 30`. Pick better value with `binwidth`.\n",
      "`stat_bindot()` using `bins = 30`. Pick better value with `binwidth`.\n",
      "`stat_bindot()` using `bins = 30`. Pick better value with `binwidth`.\n",
      "`stat_bindot()` using `bins = 30`. Pick better value with `binwidth`.\n",
      "`stat_bindot()` using `bins = 30`. Pick better value with `binwidth`.\n",
      "`stat_bindot()` using `bins = 30`. Pick better value with `binwidth`.\n",
      "`stat_bindot()` using `bins = 30`. Pick better value with `binwidth`.\n",
      "`stat_bindot()` using `bins = 30`. Pick better value with `binwidth`.\n",
      "`stat_bindot()` using `bins = 30`. Pick better value with `binwidth`.\n",
      "`stat_bindot()` using `bins = 30`. Pick better value with `binwidth`.\n",
      "`stat_bindot()` using `bins = 30`. Pick better value with `binwidth`.\n",
      "`stat_bindot()` using `bins = 30`. Pick better value with `binwidth`.\n",
      "`stat_bindot()` using `bins = 30`. Pick better value with `binwidth`.\n",
      "`stat_bindot()` using `bins = 30`. Pick better value with `binwidth`.\n",
      "`stat_bindot()` using `bins = 30`. Pick better value with `binwidth`.\n",
      "`stat_bindot()` using `bins = 30`. Pick better value with `binwidth`.\n",
      "`stat_bindot()` using `bins = 30`. Pick better value with `binwidth`.\n",
      "`stat_bindot()` using `bins = 30`. Pick better value with `binwidth`.\n",
      "`stat_bindot()` using `bins = 30`. Pick better value with `binwidth`.\n",
      "`stat_bindot()` using `bins = 30`. Pick better value with `binwidth`.\n"
     ]
    },
    {
     "ename": "ERROR",
     "evalue": "Error in across_all(datadf, savestr, hlay, response_type_list, response_names, : unused argument (TRUE)\n",
     "output_type": "error",
     "traceback": [
      "Error in across_all(datadf, savestr, hlay, response_type_list, response_names, : unused argument (TRUE)\nTraceback:\n"
     ]
    }
   ],
   "source": [
    "if(across){\n",
    "    across_all(datadf,savestr,hlay,response_type_list,response_names)\n",
    "}"
   ]
  },
  {
   "cell_type": "markdown",
   "metadata": {},
   "source": [
    "#### Individual experiment summaries"
   ]
  },
  {
   "cell_type": "code",
   "execution_count": 188,
   "metadata": {},
   "outputs": [],
   "source": [
    "# generate a summary plot of all the collected data from all the subjects in the experiment\n",
    "# NEED TO FINISH THIS\n",
    "expsummaryplot <- function(datadf,savestr,clean=FALSE){\n",
    "    \n",
    "    dir.create(paste(savestr,\"Exp_Summary_Plots/\",sep='_'))\n",
    "    \n",
    "    if(clean){\n",
    "        datadf <- subset(datadf, noncompliant == 0)\n",
    "    }\n",
    "    \n",
    "    stimuli_list <- sort(unique(datadf$stimuli_count))\n",
    "    \n",
    "    # make all the plots\n",
    "    k = 0\n",
    "    for (stimulus in stimuli_list){\n",
    "        for (response in response_type_list){\n",
    "            \n",
    "            k = k + 1\n",
    "            if(stimulus == 2){ # 2 stimuli doesn't have any cueing, so it gets an exception\n",
    "                tempdf <- subset(datadf, stimuli_count == 2)\n",
    "            } else {\n",
    "                tempdf <- subset(datadf, stimuli_count == stimulus & response_type == response)\n",
    "            }\n",
    "            \n",
    "            if(response != 'after_1'){\n",
    "                FP = TRUE\n",
    "            } else {\n",
    "                FP = FALSE\n",
    "            }\n",
    "            \n",
    "            # make the specific summary plot\n",
    "           \n",
    "            # MATRICES\n",
    "            everyonedata <- aggregate_df(tempdf)\n",
    "            \n",
    "            stim_time <- everyonedata$stim_display_time[1]\n",
    "            gap <- everyonedata$stim_cue_gap[1]\n",
    "            cue_time <- everyonedata$cue_display_time[1]\n",
    "            \n",
    "            \n",
    "            # FF Matrix plot\n",
    "            FFmatrix <- dissimplot(dissimdata(everyonedata, colors, l2e('Foveal'), l2e('Foveal')),colors)\n",
    "\n",
    "            # FP Matrix plot\n",
    "            FPmatrix <- dissimplot(dissimdata(everyonedata, colors, l2e('Foveal'), l2e('Peripheral')),colors)\n",
    "\n",
    "            # PP Matrix plot\n",
    "            PPmatrix <- dissimplot(dissimdata(everyonedata, colors, l2e('Peripheral'), l2e('Peripheral')),colors)\n",
    "\n",
    "            # CMDS\n",
    "            # FF CMDS plot\n",
    "            FFcmds <-  cmdsplot(cmdsfit(mat2dist(df2mat(everyonedata,l2e('Foveal'), l2e('Foveal')))), \n",
    "                                abcolors, abcolors, l2e('Foveal'), l2e('Foveal'))\n",
    "\n",
    "            FPcmds <-  cmdsplot(cmdsfit(mat2dist(df2mat(everyonedata,l2e('Foveal'), l2e('Peripheral')))), \n",
    "                                abcolors, abcolors, l2e('Foveal'), l2e('Peripheral'))\n",
    "\n",
    "            # FF CMDS plot\n",
    "            PPcmds <-  cmdsplot(cmdsfit(mat2dist(df2mat(everyonedata,l2e('Peripheral'), l2e('Peripheral')))), \n",
    "                                abcolors, abcolors, l2e('Peripheral'), l2e('Peripheral'))\n",
    "            # NMDS\n",
    "            # FF nMDS plot\n",
    "            FFnmds <-  nmdsplot(nmdsfit(mat2dist(df2mat(everyonedata,l2e('Foveal'), l2e('Foveal')))), \n",
    "                                abcolors, abcolors, l2e('Foveal'), l2e('Foveal'))\n",
    "\n",
    "            # FP nMDS plot\n",
    "            FPnmds <-  nmdsplot(nmdsfit(mat2dist(df2mat(everyonedata,l2e('Foveal'), l2e('Peripheral')))), \n",
    "                                abcolors, abcolors, l2e('Foveal'), l2e('Peripheral'))\n",
    "\n",
    "            # PP nMDS plot\n",
    "            PPnmds <-  nmdsplot(nmdsfit(mat2dist(df2mat(everyonedata,l2e('Peripheral'), l2e('Peripheral')))), \n",
    "                                abcolors, abcolors, l2e('Peripheral'), l2e('Peripheral'))\n",
    "\n",
    "            # AUXILIARY plots\n",
    "            # Similarity judgements\n",
    "            simplot <- simhistplot_summary(tempdf)\n",
    "            # Reaction times v1\n",
    "            reactionplot <- rsplot_summary(tempdf)\n",
    "            # summary plot\n",
    "            raincloudplot <- rsplot_raincloud(tempdf,'log')\n",
    "\n",
    "            # within_between_plots\n",
    "            fvp <- fvp_list(tempdf)\n",
    "            i_j <- i_j_list(tempdf)\n",
    "\n",
    "            within_plot <- corr_plot(fvp,'Within-subject FvP','Within-subject FvP')\n",
    "            between_plot <- corr_plot(i_j,'Between-subject FvF','Between-subject FvF')\n",
    "            #within_plot_fisher <- corr_plot(FisherZ(fvp),'Within-subject FvP','Within-subject FvP',TRUE)\n",
    "            #between_plot_fisher <- corr_plot(FisherZ(i_j),'Between-subject FvF','Between-subject FvF',TRUE)\n",
    "\n",
    "            # MORE PLOTS\n",
    "            # trace plots\n",
    "            traceplot <- trace_plot(tempdf)\n",
    "            antiplot <- trace_plot(tempdf,'antitrace')\n",
    "            differenceplot <- trace_plot(tempdf,'difference')\n",
    "            \n",
    "            N <- length(unique(tempdf$subject)) # get number of subjects\n",
    "            \n",
    "            # save the plots\n",
    "            if(clean){\n",
    "                title <- textGrob(paste(stimulus,response,\n",
    "                                    \"stim_duration\",stim_time,\"gap\",gap,\"cue_duration\",cue_time,\n",
    "                                    N,\"subjects\",\"CLEAN\",\n",
    "                                    sep=\"_\"), gp=gpar(fontsize=35))\n",
    "            }else{\n",
    "                title <- textGrob(paste(stimulus,response,\n",
    "                                    \"stim_duration\",stim_time,\"gap\",gap,\"cue_duration\",cue_time,\n",
    "                                    N,\"subjects\",\n",
    "                                    sep=\"_\"), gp=gpar(fontsize=35))\n",
    "            }\n",
    "            \n",
    "            # put it all together\n",
    "            if(FP){\n",
    "                \n",
    "                g <- arrangeGrob(FFmatrix, FPmatrix, PPmatrix, within_plot, between_plot,\n",
    "                                FFcmds,FPcmds, PPcmds, traceplot, antiplot,\n",
    "                                FFnmds,FPnmds, PPnmds, raincloudplot, differenceplot,\n",
    "                                simplot, reactionplot, \n",
    "                                nrow = 4, ncol=5, top = title)\n",
    "            } else {\n",
    "                \n",
    "                # asymmetry plot\n",
    "                asymplot <- asymmetry_plot(tempdf,l2e('Foveal'),l2e('Foveal'),colors)\n",
    "                \n",
    "                g <- arrangeGrob(FFmatrix,  PPmatrix, within_plot, between_plot, \n",
    "                                FFcmds, PPcmds, traceplot,  antiplot,\n",
    "                                FFnmds, PPnmds, differenceplot, asymplot,\n",
    "                                simplot, raincloudplot, reactionplot,\n",
    "                                nrow = 4, ncol=4, top = title)\n",
    "\n",
    "                \n",
    "            }\n",
    "                # save it\n",
    "            if(clean){\n",
    "                savename <- paste(savestr,\"_Exp_Summary_Plots/\",stimulus,\"_\",response,\n",
    "                         \"_Summary_\",N,\"_subjects\",\"_CLEAN\",\"_plot.png\",sep='')\n",
    "            }else {\n",
    "                savename <- paste(savestr,\"_Exp_Summary_Plots/\",stimulus,\"_\",response,\n",
    "                         \"_Summary_\",N,\"_subjects\",\"_plot.png\",sep='')\n",
    "            }\n",
    "                \n",
    "                print(savename)\n",
    "                ggsave(savename,g, height = 38, width = 48)\n",
    "        }\n",
    "            \n",
    "    }\n",
    "        \n",
    "}   "
   ]
  },
  {
   "cell_type": "markdown",
   "metadata": {},
   "source": [
    "### Across the entire population "
   ]
  },
  {
   "cell_type": "code",
   "execution_count": 213,
   "metadata": {},
   "outputs": [],
   "source": [
    "# entire population plot\n",
    "population_plot <- function(datadf,savestr,clean=FALSE){\n",
    "    \n",
    "    dir.create(paste(savestr,\"Population_Summary_Plots/\",sep='_'))\n",
    "    \n",
    "    if(clean){\n",
    "        datadf <- subset(datadf, noncompliant == 0)\n",
    "    }\n",
    "    \n",
    "    # MATRICES\n",
    "    everyonedata <- aggregate_df(datadf)\n",
    "\n",
    "    # FF Matrix plot\n",
    "    FFmatrix <- dissimplot(dissimdata(everyonedata, colors, l2e('Foveal'), l2e('Foveal')),colors)\n",
    "\n",
    "    # FP Matrix plot\n",
    "    FPmatrix <- dissimplot(dissimdata(everyonedata, colors, l2e('Foveal'), l2e('Peripheral')),colors)\n",
    "\n",
    "    # PP Matrix plot\n",
    "    PPmatrix <- dissimplot(dissimdata(everyonedata, colors, l2e('Peripheral'), l2e('Peripheral')),colors)\n",
    "\n",
    "    # CMDS\n",
    "    # FF CMDS plot\n",
    "    FFcmds <-  cmdsplot(cmdsfit(mat2dist(df2mat(everyonedata,l2e('Foveal'), l2e('Foveal')))), \n",
    "                        abcolors, abcolors, l2e('Foveal'), l2e('Foveal'))\n",
    "\n",
    "    FPcmds <-  cmdsplot(cmdsfit(mat2dist(df2mat(everyonedata,l2e('Foveal'), l2e('Peripheral')))), \n",
    "                        abcolors, abcolors, l2e('Foveal'), l2e('Peripheral'))\n",
    "\n",
    "    # FF CMDS plot\n",
    "    PPcmds <-  cmdsplot(cmdsfit(mat2dist(df2mat(everyonedata,l2e('Peripheral'), l2e('Peripheral')))), \n",
    "                        abcolors, abcolors, l2e('Peripheral'), l2e('Peripheral'))\n",
    "    # NMDS\n",
    "    # FF nMDS plot\n",
    "    FFnmds <-  nmdsplot(nmdsfit(mat2dist(df2mat(everyonedata,l2e('Foveal'), l2e('Foveal')))), \n",
    "                        abcolors, abcolors, l2e('Foveal'), l2e('Foveal'))\n",
    "\n",
    "    # FP nMDS plot\n",
    "    FPnmds <-  nmdsplot(nmdsfit(mat2dist(df2mat(everyonedata,l2e('Foveal'), l2e('Peripheral')))), \n",
    "                        abcolors, abcolors, l2e('Foveal'), l2e('Peripheral'))\n",
    "\n",
    "    # PP nMDS plot\n",
    "    PPnmds <-  nmdsplot(nmdsfit(mat2dist(df2mat(everyonedata,l2e('Peripheral'), l2e('Peripheral')))), \n",
    "                        abcolors, abcolors, l2e('Peripheral'), l2e('Peripheral'))\n",
    "\n",
    "    # AUXILIARY plots\n",
    "    # Similarity judgements\n",
    "    simplot <- simhistplot_summary(datadf)\n",
    "    # Reaction times v1\n",
    "    reactionplot <- rsplot_summary(datadf)\n",
    "    # summary plot\n",
    "    raincloudplot <- rsplot_raincloud(datadf,'log')\n",
    "\n",
    "    # within_between_plots\n",
    "    fvp <- fvp_list(datadf)\n",
    "    i_j <- i_j_list(datadf)\n",
    "\n",
    "    within_plot <- corr_plot(fvp,'Within-subject FvP','Within-subject FvP')\n",
    "    between_plot <- corr_plot(i_j,'Between-subject FvF','Between-subject FvF')\n",
    "    #within_plot_fisher <- corr_plot(FisherZ(fvp),'Within-subject FvP','Within-subject FvP',TRUE)\n",
    "    #between_plot_fisher <- corr_plot(FisherZ(i_j),'Between-subject FvF','Between-subject FvF',TRUE)\n",
    "\n",
    "    # MORE PLOTS\n",
    "    # trace plots\n",
    "    traceplot <- trace_plot(datadf)\n",
    "    antiplot <- trace_plot(datadf,'antitrace')\n",
    "    differenceplot <- trace_plot(datadf,'difference')\n",
    "\n",
    "    N <- length(unique(datadf$subject)) # get number of subjects\n",
    "\n",
    "    # save the plots\n",
    "    if(clean){\n",
    "        title <- textGrob(paste(\"Population\",\n",
    "                            N,\"subjects\",\"CLEAN\",\n",
    "                            sep=\"_\"), gp=gpar(fontsize=35))\n",
    "    }else{\n",
    "        title <- textGrob(paste(\"Population\",\n",
    "                            N,\"subjects\",\n",
    "                            sep=\"_\"), gp=gpar(fontsize=35))\n",
    "    }\n",
    "    \n",
    "    \n",
    "    g <- arrangeGrob(FFmatrix, FPmatrix, PPmatrix, within_plot, between_plot,\n",
    "                                FFcmds,FPcmds, PPcmds, traceplot, antiplot,\n",
    "                                FFnmds,FPnmds, PPnmds, raincloudplot, differenceplot,\n",
    "                                simplot, reactionplot, \n",
    "                                nrow = 4, ncol=5, top = title)\n",
    "    \n",
    "     # save it\n",
    "    if(clean){\n",
    "        savename <- paste(savestr,\"_Exp_Summary_Plots/\",\n",
    "                 \"_Summary_\",N,\"_subjects\",\"_CLEAN\",\"_plot.png\",sep='')\n",
    "    }else {\n",
    "        savename <- paste(savestr,\"_Exp_Summary_Plots/\",\n",
    "                 \"_Summary_\",N,\"_subjects\",\"_plot.png\",sep='')\n",
    "    }\n",
    "\n",
    "        print(savename)\n",
    "        ggsave(savename,g, height = 38, width = 48)\n",
    "}"
   ]
  },
  {
   "cell_type": "code",
   "execution_count": 2,
   "metadata": {},
   "outputs": [
    {
     "ename": "ERROR",
     "evalue": "Error in dissimplot(dissimdata(everyonedata, colors, l2e(\"Foveal\"), l2e(\"Foveal\")), : could not find function \"dissimplot\"\n",
     "output_type": "error",
     "traceback": [
      "Error in dissimplot(dissimdata(everyonedata, colors, l2e(\"Foveal\"), l2e(\"Foveal\")), : could not find function \"dissimplot\"\nTraceback:\n"
     ]
    }
   ],
   "source": [
    "test <- dissimplot(dissimdata(everyonedata, colors, l2e('Foveal'), l2e('Foveal')),colors)\n",
    "\n",
    "test"
   ]
  },
  {
   "cell_type": "code",
   "execution_count": 214,
   "metadata": {},
   "outputs": [],
   "source": [
    "if(plotexpsummary){\n",
    "    expsummaryplot(datadf,savestr)\n",
    "    expsummaryplot(datadf,savestr,TRUE)\n",
    "}"
   ]
  },
  {
   "cell_type": "code",
   "execution_count": 215,
   "metadata": {},
   "outputs": [
    {
     "name": "stdout",
     "output_type": "stream",
     "text": [
      "initial  value 10.110642 \n",
      "iter   5 value 4.776044\n",
      "iter  10 value 4.309526\n",
      "final  value 4.276221 \n",
      "converged\n",
      "initial  value 9.398094 \n",
      "iter   5 value 4.759062\n",
      "iter  10 value 3.994180\n",
      "final  value 3.981702 \n",
      "converged\n",
      "initial  value 5.047839 \n",
      "iter   5 value 1.323556\n",
      "iter  10 value 0.944285\n",
      "iter  15 value 0.841798\n",
      "iter  20 value 0.821025\n",
      "final  value 0.817766 \n",
      "converged\n"
     ]
    },
    {
     "name": "stderr",
     "output_type": "stream",
     "text": [
      "`stat_bindot()` using `bins = 30`. Pick better value with `binwidth`.\n",
      "`stat_bindot()` using `bins = 30`. Pick better value with `binwidth`.\n",
      "`stat_bindot()` using `bins = 30`. Pick better value with `binwidth`.\n",
      "`stat_bindot()` using `bins = 30`. Pick better value with `binwidth`.\n",
      "`stat_bindot()` using `bins = 30`. Pick better value with `binwidth`.\n"
     ]
    },
    {
     "name": "stdout",
     "output_type": "stream",
     "text": [
      "[1] \"data/alldata_Exp_Summary_Plots/_Summary_128_subjects_plot.png\"\n",
      "initial  value 3.365119 \n",
      "iter   5 value 1.843522\n",
      "iter  10 value 1.615815\n",
      "iter  15 value 1.571471\n",
      "final  value 1.567521 \n",
      "converged\n",
      "initial  value 5.607216 \n",
      "iter   5 value 2.817553\n",
      "iter  10 value 2.443810\n",
      "final  value 2.402800 \n",
      "converged\n",
      "initial  value 4.294241 \n",
      "iter   5 value 2.475724\n",
      "iter  10 value 2.280757\n",
      "final  value 2.271904 \n",
      "converged\n"
     ]
    },
    {
     "name": "stderr",
     "output_type": "stream",
     "text": [
      "`stat_bindot()` using `bins = 30`. Pick better value with `binwidth`.\n",
      "`stat_bindot()` using `bins = 30`. Pick better value with `binwidth`.\n",
      "`stat_bindot()` using `bins = 30`. Pick better value with `binwidth`.\n",
      "`stat_bindot()` using `bins = 30`. Pick better value with `binwidth`.\n",
      "`stat_bindot()` using `bins = 30`. Pick better value with `binwidth`.\n"
     ]
    },
    {
     "name": "stdout",
     "output_type": "stream",
     "text": [
      "[1] \"data/alldata_Exp_Summary_Plots/_Summary_37_subjects_CLEAN_plot.png\"\n"
     ]
    }
   ],
   "source": [
    "if(population){\n",
    "    population_plot(datadf,savestr)\n",
    "    population_plot(datadf,savestr,TRUE)\n",
    "}"
   ]
  },
  {
   "cell_type": "code",
   "execution_count": null,
   "metadata": {},
   "outputs": [],
   "source": [
    "# position plot (negative control)\n",
    "positionplot <- function(datadf){\n",
    "    # MATRICES\n",
    "    everyonedata <- aggregate_df(datadf)\n",
    "    # FF Matrix plot\n",
    "    FFmatrix <- dissimplot(dissimdata(everyonedata, colors, l2e('Foveal'), l2e('Foveal')),colors, 'position')\n",
    "    # FP Matrix plot\n",
    "    FPmatrix <- dissimplot(dissimdata(everyonedata, colors, l2e('Foveal'), l2e('Peripheral')),colors, 'position')\n",
    "    # PP Matrix plot\n",
    "    PPmatrix <- dissimplot(dissimdata(everyonedata, colors, l2e('Peripheral'), l2e('Peripheral')),colors, 'position')\n",
    "    \n",
    "    g <- arrangeGrob(FFmatrix, FPmatrix, PPmatrix,\n",
    "                    nrow = 1, ncol= 3)\n",
    "     # save it\n",
    "    ggsave(paste(savestr,\"position negative control\",\"plot.png\",sep='_'),g, height = 10, width = 30)\n",
    "}"
   ]
  }
 ],
 "metadata": {
  "kernelspec": {
   "display_name": "R",
   "language": "R",
   "name": "ir"
  },
  "language_info": {
   "codemirror_mode": "r",
   "file_extension": ".r",
   "mimetype": "text/x-r-source",
   "name": "R",
   "pygments_lexer": "r",
   "version": "3.6.1"
  }
 },
 "nbformat": 4,
 "nbformat_minor": 2
}
