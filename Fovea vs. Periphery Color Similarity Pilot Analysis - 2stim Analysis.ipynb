{
 "cells": [
  {
   "cell_type": "markdown",
   "metadata": {},
   "source": [
    "## Analysis code for 'Are colour experiences the same across the visual field?'\n",
    "### Code for calculating BFs for analysis in progress at QIST\n",
    "Written by Ariel Zeleznikow-Johnston, 2022\n",
    "ariel.zeleznikow-johnston@monash.edu  \n",
    "Github link to experiment: https://github.com/ArielZJ/SimilarityColorProject-MultiplePatches  \n",
    "Github link to this analysis code: https://github.com/ArielZJ/Precision-Phenomenology-Data-Analysis"
   ]
  },
  {
   "cell_type": "markdown",
   "metadata": {},
   "source": [
    "### Initialisations"
   ]
  },
  {
   "cell_type": "code",
   "execution_count": 1,
   "metadata": {},
   "outputs": [],
   "source": [
    "#filename = \"data/pilotcompiled.csv\"\n",
    "#savestr <- substr(filename,1,nchar(filename)-4) # for saving related files later"
   ]
  },
  {
   "cell_type": "code",
   "execution_count": 72,
   "metadata": {},
   "outputs": [],
   "source": [
    "# various parameters\n",
    "stimuli_number = 9\n",
    "response_type_list = c('during')\n",
    "trial_types = c('during')\n",
    "response_names = c('During')\n",
    "catch_trial_number = 10 # what it's set at at the moment, arbitrary\n",
    "condition_number = 4\n",
    "experiment_number = 4\n",
    "max.DSR = 7\n",
    "min.DSR = 0"
   ]
  },
  {
   "cell_type": "code",
   "execution_count": 3,
   "metadata": {},
   "outputs": [],
   "source": [
    "trace_cutoff = 2 # mean dissimilarity for physically identical colours must be below this\n",
    "antitrace_cutoff = 3.5 # mean dissimilarity accepted for maximally physically different colours must be above this\n",
    "rt_cutoff = 0 # mean reaction times must be above this\n",
    "score_cutoff=0.77"
   ]
  },
  {
   "cell_type": "code",
   "execution_count": 4,
   "metadata": {},
   "outputs": [],
   "source": [
    "exclude_noncompliant = FALSE"
   ]
  },
  {
   "cell_type": "code",
   "execution_count": 5,
   "metadata": {},
   "outputs": [],
   "source": [
    "# colors for the labels\n",
    "# changed for this mixed version\n",
    "colors <- c('#FF0000','#FFAA00','#AAFF00','#00FF00','#00FFA9',\"#00A9FF\",'#0000FF','#AA00FF',\"#FF00AA\")\n",
    "abcolors <- sort(colors)\n",
    "\n",
    "eccens.colors <- c(\n",
    "    'Central #FF0000',\n",
    "    'Central #FFAA00',\n",
    "    'Central #AAFF00',\n",
    "    'Central #00FF00',\n",
    "    'Central #00FFA9',\n",
    "    \"Central #00A9FF\",\n",
    "    'Central #0000FF',\n",
    "    'Central #AA00FF',\n",
    "    \"Central #FF00AA\",\n",
    "    'Peripheral #FF0000',\n",
    "    'Peripheral #FFAA00',\n",
    "    'Peripheral #AAFF00',\n",
    "    'Peripheral #00FF00',\n",
    "    'Peripheral #00FFA9',\n",
    "    \"Peripheral #00A9FF\",\n",
    "    'Peripheral #0000FF',\n",
    "    'Peripheral #AA00FF',\n",
    "    \"Peripheral #FF00AA\")\n",
    "\n",
    "inverted.colors <-  c('#FF0000','#FF00AA','#AA00FF','#0000FF','#00A9FF','#00FFA9','#00FF00','#AAFF00','#FFAA00')"
   ]
  },
  {
   "cell_type": "markdown",
   "metadata": {},
   "source": [
    "### Initialisations"
   ]
  },
  {
   "cell_type": "code",
   "execution_count": 6,
   "metadata": {},
   "outputs": [],
   "source": [
    "# live dangerously, get rid of pesky warnings\n",
    "oldw <- getOption(\"warn\")\n",
    "options(warn = -1)"
   ]
  },
  {
   "cell_type": "code",
   "execution_count": 7,
   "metadata": {},
   "outputs": [],
   "source": [
    "#install.packages(\"car\")"
   ]
  },
  {
   "cell_type": "code",
   "execution_count": 8,
   "metadata": {
    "scrolled": true,
    "tags": []
   },
   "outputs": [
    {
     "name": "stderr",
     "output_type": "stream",
     "text": [
      "\n",
      "Attaching package: 'dplyr'\n",
      "\n",
      "\n",
      "The following objects are masked from 'package:plyr':\n",
      "\n",
      "    arrange, count, desc, failwith, id, mutate, rename, summarise,\n",
      "    summarize\n",
      "\n",
      "\n",
      "The following objects are masked from 'package:stats':\n",
      "\n",
      "    filter, lag\n",
      "\n",
      "\n",
      "The following objects are masked from 'package:base':\n",
      "\n",
      "    intersect, setdiff, setequal, union\n",
      "\n",
      "\n",
      "\n",
      "Attaching package: 'gridExtra'\n",
      "\n",
      "\n",
      "The following object is masked from 'package:dplyr':\n",
      "\n",
      "    combine\n",
      "\n",
      "\n",
      "\n",
      "Attaching package: 'MASS'\n",
      "\n",
      "\n",
      "The following object is masked from 'package:dplyr':\n",
      "\n",
      "    select\n",
      "\n",
      "\n",
      "\n",
      "Attaching package: 'Matrix'\n",
      "\n",
      "\n",
      "The following objects are masked from 'package:tidyr':\n",
      "\n",
      "    expand, pack, unpack\n",
      "\n",
      "\n",
      "\n",
      "Attaching package: 'reshape2'\n",
      "\n",
      "\n",
      "The following object is masked from 'package:tidyr':\n",
      "\n",
      "    smiths\n",
      "\n",
      "\n",
      "Loading required package: permute\n",
      "\n",
      "Loading required package: lattice\n",
      "\n",
      "This is vegan 2.5-7\n",
      "\n",
      "Loading required package: zoo\n",
      "\n",
      "\n",
      "Attaching package: 'zoo'\n",
      "\n",
      "\n",
      "The following objects are masked from 'package:base':\n",
      "\n",
      "    as.Date, as.Date.numeric\n",
      "\n",
      "\n",
      "Loading required package: carData\n",
      "\n",
      "\n",
      "Attaching package: 'car'\n",
      "\n",
      "\n",
      "The following object is masked from 'package:DescTools':\n",
      "\n",
      "    Recode\n",
      "\n",
      "\n",
      "The following object is masked from 'package:dplyr':\n",
      "\n",
      "    recode\n",
      "\n",
      "\n"
     ]
    }
   ],
   "source": [
    "shhh <- suppressPackageStartupMessages # stops annoying warnings when loading libraries\n",
    "library(tidyr)\n",
    "library(plyr)\n",
    "library(dplyr)\n",
    "library(ggplot2)\n",
    "library(gridExtra)\n",
    "library(MASS)\n",
    "library(Matrix)\n",
    "library(reshape2)\n",
    "library(ape) # stats\n",
    "library(vegan) # stats\n",
    "library(RColorBrewer)\n",
    "library(cocor)\n",
    "library(DescTools)\n",
    "library(reshape2)\n",
    "library(grid)\n",
    "library(ggplotify)\n",
    "#library(fclust)\n",
    "library(plot.matrix)\n",
    "#library(gtools)\n",
    "library(stringi)\n",
    "#library(Bolstad)\n",
    "#library(olsrr) # for checking violation of regression assumptions\n",
    "library(lmtest) # for likelihood ratio test\n",
    "library(car) # for logistic transformation\n",
    "#library(betareg) # beta regressions\n",
    "#library(coin) # wilcox power analyses\n",
    "#library(rstatix) # power analyses\n",
    "#library(boot)\n",
    "library(cowplot) # for making figures\n",
    "#library(readr) # for making figures"
   ]
  },
  {
   "cell_type": "code",
   "execution_count": 10,
   "metadata": {},
   "outputs": [],
   "source": [
    "#install.packages(\"rstanarm\")\n",
    "#install.packages(\"bridgesampling\")\n",
    "#install.packages(\"bayestestR\")"
   ]
  },
  {
   "cell_type": "code",
   "execution_count": 11,
   "metadata": {},
   "outputs": [],
   "source": [
    "# getting bayesbr to do the bayesian analysis\n",
    "#library(bayesbr)\n",
    "library(BayesFactor)\n",
    "#library(brms)\n",
    "library(rstanarm)\n",
    "library(bridgesampling)\n",
    "library(bayestestR)\n",
    "#library(see)\n",
    "#library(bayesplot)"
   ]
  },
  {
   "cell_type": "code",
   "execution_count": 12,
   "metadata": {},
   "outputs": [],
   "source": [
    "library(betareg)"
   ]
  },
  {
   "cell_type": "markdown",
   "metadata": {},
   "source": [
    "### Load the data"
   ]
  },
  {
   "cell_type": "code",
   "execution_count": 26,
   "metadata": {},
   "outputs": [],
   "source": [
    "files = list.files(path=paste(getwd(),'/data',sep=''),pattern=\"*.iqdat\")\n",
    "#print(files)\n",
    "files <- paste(getwd(),'/data/',files,sep='')\n",
    "#print(files)\n",
    "#test <- read.csv(files[1], sep='\\t')\n",
    "#print(head(test))\n",
    "data = sapply(files, read.csv, sep='\\t', simplify=FALSE) %>% bind_rows(.id = \"id\")"
   ]
  },
  {
   "cell_type": "markdown",
   "metadata": {},
   "source": [
    "### Functions we're going to use to do the analysis later"
   ]
  },
  {
   "cell_type": "markdown",
   "metadata": {},
   "source": [
    "#### Miscellaneous"
   ]
  },
  {
   "cell_type": "code",
   "execution_count": 249,
   "metadata": {},
   "outputs": [],
   "source": [
    "# check our N \n",
    "get_n <- function(datadf,print=TRUE){\n",
    "    n <- length(unique(datadf$subject))\n",
    "    if(print){\n",
    "        print(paste(\"There are\",n,\"unique subjects\"))\n",
    "    }\n",
    "    return(n)\n",
    "}"
   ]
  },
  {
   "cell_type": "code",
   "execution_count": 28,
   "metadata": {},
   "outputs": [],
   "source": [
    "get_n.grouped <- function(datadf){\n",
    "    size <- sort(unique(datadf$stimulus_size))\n",
    "    scale <- sort(unique(datadf$peripheral_scale))\n",
    "    for(stim in (size)){\n",
    "        for(mag in (scale)){\n",
    "            data <- (subset(datadf,stimulus_size == stim & peripheral_scale == mag))\n",
    "            n <- length(unique(data$subject))\n",
    "            print(paste('Magnification',mag,'Size',stim,' - N =',n))\n",
    "        }\n",
    "    }\n",
    "}"
   ]
  },
  {
   "cell_type": "code",
   "execution_count": 29,
   "metadata": {},
   "outputs": [],
   "source": [
    "# get plot eccentricity labels\n",
    "ploteccen <- function(datadf){\n",
    "    if(datadf$Circle_1[1] == -1){\n",
    "            label1 = 'Central'\n",
    "        } else {\n",
    "            label1 = 'Peripheral'\n",
    "        }\n",
    "        if(datadf$Circle_2[1] == -1){\n",
    "            label2 = 'Central'\n",
    "        } else {\n",
    "            label2 = 'Peripheral'\n",
    "        }\n",
    "    return(c(label1,label2))\n",
    "}\n",
    "\n",
    "e2l <- function(eccentricity){\n",
    "    if(eccentricity == -1){\n",
    "        return('Central')\n",
    "    } else {\n",
    "        return('Peripheral')\n",
    "    }\n",
    "}\n",
    "\n",
    "l2e <- function(eccentricity){\n",
    "    if(eccentricity == 'Central'){\n",
    "        return(-1)\n",
    "    } else {\n",
    "        return(1)\n",
    "    }\n",
    "}"
   ]
  },
  {
   "cell_type": "code",
   "execution_count": 30,
   "metadata": {},
   "outputs": [],
   "source": [
    "get.submat <- function(mat,submat){\n",
    "    if(submat == 'CC'){\n",
    "        out.mat <- mat[1:9,1:9]\n",
    "    } else if (submat == 'CP'){\n",
    "        out.mat <- mat[1:9,10:18]\n",
    "    } else if (submat == 'PP'){\n",
    "        out.mat <- mat[10:18,10:18]\n",
    "    }\n",
    "    return(out.mat)\n",
    "}"
   ]
  },
  {
   "cell_type": "markdown",
   "metadata": {},
   "source": [
    "#### Dissimilarity Matrices"
   ]
  },
  {
   "cell_type": "code",
   "execution_count": 31,
   "metadata": {},
   "outputs": [],
   "source": [
    "# obtain dissimilarity matrices with particular eccentricity values from dataframes\n",
    "# doesn't care whether this comes from individual subjects or whole populations\n",
    "dissimdata <- function(datadf, colors, eccentricity1, eccentricity2){\n",
    "    # select only the eccentricities we want to keep, e.g. (Central, Central)\n",
    "    datatemp = subset(datadf, Circle_1 == eccentricity1)\n",
    "    datatemp = subset(datatemp, Circle_2 == eccentricity2)\n",
    "    \n",
    "    # refactor the levels so they can be plotted properly later if need be\n",
    "    datatemp$Color_1 <- with(datatemp, factor(Color_1, levels = colors))\n",
    "    datatemp$Color_2 <- with(datatemp, factor(Color_2, levels = colors))\n",
    "    \n",
    "    return(datatemp)\n",
    "}"
   ]
  },
  {
   "cell_type": "code",
   "execution_count": 32,
   "metadata": {},
   "outputs": [],
   "source": [
    "# plot a dissimilarity matrix\n",
    "dissimplot <- function(datadf,colors,dependent='color'){\n",
    "    \n",
    "   # labeling the plot eccentricity comparisons\n",
    "    label1 <- ploteccen(datadf)[1]\n",
    "    label2 <- ploteccen(datadf)[2]\n",
    "    \n",
    "    \n",
    "    if(dependent == 'position'){ # use position to generate matrix (as a negative control)\n",
    "        plot <- ggplot(datadf, aes(x = bin1, y = bin2)) +\n",
    "        theme(        axis.title.x = element_blank(), axis.title.y = element_blank(),\n",
    "                      plot.title = element_text(hjust = 0.5)) +\n",
    "                      scale_x_discrete(limits=c(1,2,3,4,5,6,7,8,9)) + scale_y_discrete(limits=c(1,2,3,4,5,6,7,8,9))\n",
    "    } else { # use the colors to generate the matrix\n",
    "        plot <- ggplot(datadf, aes(x = Color_1, y = Color_2)) +\n",
    "        theme(axis.text.x = element_text(colour = colors), axis.text.y = element_text(colour = colors),\n",
    "                      axis.title.x = element_blank(), axis.title.y = element_blank(),\n",
    "                      plot.title = element_text(hjust = 0.5))\n",
    "    }\n",
    "    # stuff that's standard across plot types\n",
    "        plot <- plot + geom_raster(aes(fill = similarity)) +\n",
    "                labs(title = paste(label1, label2, sep = \" - \")) +\n",
    "                scale_fill_gradientn(colours = c(\"white\",\"black\")) +\n",
    "                guides(fill=guide_legend(title=\"Dissimilarity\"))\n",
    "    return(plot)\n",
    "}"
   ]
  },
  {
   "cell_type": "code",
   "execution_count": 33,
   "metadata": {},
   "outputs": [],
   "source": [
    "# making a matrix symmetric. Borrowed from dclone: https://rdrr.io/github/datacloning/dclone/src/R/make.symmetric.R\n",
    "make.symmetric <-function(x)\n",
    "{\n",
    "    if (dim(x)[1] != dim(x)[2])\n",
    "        stop(\"'x' is not a square matrix\")\n",
    "    rval <- t(x)\n",
    "    m <- (x[lower.tri(x)] + rval[lower.tri(rval)]) / 2\n",
    "    rval[lower.tri(rval)] <- m\n",
    "    rval <- t(rval)\n",
    "    rval[lower.tri(rval)] <- m\n",
    "    rval\n",
    "}"
   ]
  },
  {
   "cell_type": "code",
   "execution_count": 34,
   "metadata": {},
   "outputs": [],
   "source": [
    "# obtain dissimilarity dataframe that corresponds to all of a subject's judgements\n",
    "# adds the columns color1.eccen1 and color2.eccen2\n",
    "dissimdata.subject <- function(datadf, diagnose=FALSE){\n",
    "        \n",
    "    # first, get a full label for each trial\n",
    "    datadf <- subset(datadf, trial_type != 'catch') # get rid of catch trials\n",
    "    \n",
    "    datadf$Circle_1[datadf$Circle_1 == -1] <- 'Central'\n",
    "    datadf$Circle_2[datadf$Circle_2 == -1] <- 'Central'\n",
    "    datadf$Circle_1[datadf$Circle_1 == 1] <- 'Peripheral'\n",
    "    datadf$Circle_2[datadf$Circle_2 == 1] <- 'Peripheral'\n",
    "    datadf$color1.eccen1 <- paste(datadf$Circle_1,datadf$Color_1,sep=' ')\n",
    "    datadf$color2.eccen2 <- paste(datadf$Circle_2,datadf$Color_2,sep=' ')\n",
    "    datadf$color1 <- datadf$Color_1\n",
    "    datadf$color2 <- datadf$Color_2\n",
    "\n",
    "    \n",
    "    # refactor the levels so they can be plotted properly later if need be\n",
    "       datadf$color1.eccen1 <- with(datadf, factor(color1.eccen1, levels = eccens.colors))\n",
    "       datadf$color2.eccen2 <- with(datadf, factor(color2.eccen2, levels = eccens.colors))\n",
    "    if(diagnose){print(paste(\"Subject trial number:\", nrow(datadf)))}\n",
    "     \n",
    "    \n",
    "    #print(datadf$color1.eccen1)\n",
    "    return(datadf)\n",
    "}"
   ]
  },
  {
   "cell_type": "code",
   "execution_count": 35,
   "metadata": {},
   "outputs": [],
   "source": [
    "# convert a df to a group of subject matrices\n",
    "dissimgroup2matlist <- function(df,sym=TRUE){\n",
    "    subjectlist <- sort(unique(df$subject)) # obtain a list of all the subjects\n",
    "    mat.list <- list()\n",
    "    k = 1\n",
    "    for(ID in subjectlist){\n",
    "        subjectdf <- subset(df, subject == ID)\n",
    "        subject.mat <- color.eccen.mat(dissimdata.subject(subjectdf), output='matrix',\n",
    "                                       symmeterise=sym,sym.CP=sym)\n",
    "        mat.list[[k]] <- subject.mat\n",
    "        k = k + 1\n",
    "    }\n",
    "    return(mat.list)\n",
    "} "
   ]
  },
  {
   "cell_type": "code",
   "execution_count": 36,
   "metadata": {},
   "outputs": [],
   "source": [
    "# convert a group of matrices to a group mean matrix\n",
    "group.mat.mean <- function(mat.list){\n",
    "    # average the matrices\n",
    "    mat.average <- Reduce('+',mat.list)/length(mat.list)\n",
    "    return(mat.average)\n",
    "}\n",
    "   "
   ]
  },
  {
   "cell_type": "code",
   "execution_count": 37,
   "metadata": {},
   "outputs": [],
   "source": [
    "# convert a group of matrices to a group median matrix\n",
    "group.mat.median <- function(mat.list){\n",
    "    \n",
    "    out.v <- vector()\n",
    "    \n",
    "    n.vals <-length(c(mat.list[[1]]))\n",
    "    n.subjects <- length(mat.list)\n",
    "    for(i in 1:n.vals){\n",
    "        vals <- vector()\n",
    "        for(j in 1:n.subjects){\n",
    "            v <- c(mat.list[[j]])[i]\n",
    "            vals <- c(vals,v)\n",
    "        }\n",
    "        out.v[i] <- median(vals)\n",
    "    }\n",
    "    \n",
    "    out.mat <- matrix(out.v,nrow(mat.list[[1]]),ncol(mat.list[[1]]))\n",
    "    \n",
    "    colnames(out.mat) <- colnames(mat.list[[1]])\n",
    "    rownames(out.mat) <- rownames(mat.list[[1]])\n",
    "    \n",
    "    return(out.mat)\n",
    "}"
   ]
  },
  {
   "cell_type": "code",
   "execution_count": 38,
   "metadata": {},
   "outputs": [],
   "source": [
    "# convert a full matrix to a variance matrix\n",
    "full2var <- function(mat){\n",
    "    # initialise the output variance matrix\n",
    "    var.mat <- matrix(,nrow(mat)/2,ncol(mat)/2)\n",
    "    \n",
    "    # fill the output variance matrix\n",
    "    for(row in 1:(nrow(mat)/2)){\n",
    "        for(column in 1:(ncol(mat)/2)){\n",
    "\n",
    "            CC <- mat[row,column]\n",
    "            CP <- mat[row + nrow(var.mat), column]\n",
    "            PP <- mat[row + nrow(var.mat), column + nrow(var.mat)]\n",
    "            \n",
    "            val <- var(c(CC,CP,PP))\n",
    "            var.mat[row,column] <- val\n",
    "        }\n",
    "    }\n",
    "    colnames(var.mat) <- colors\n",
    "    rownames(var.mat) <- colors\n",
    "    # return\n",
    "    return(var.mat)\n",
    "}"
   ]
  },
  {
   "cell_type": "code",
   "execution_count": 39,
   "metadata": {},
   "outputs": [],
   "source": [
    "# convert a group of full color matrices to a group of within-subject mean color-pair variance matrices\n",
    "full2var.mats <- function(mat.list){\n",
    "    var.list <- list()\n",
    "    for(mat in 1:length(mat.list)){\n",
    "        var.list[[mat]] <- full2var(mat.list[[mat]])\n",
    "    }\n",
    "    return(var.list)\n",
    "}"
   ]
  },
  {
   "cell_type": "code",
   "execution_count": 40,
   "metadata": {},
   "outputs": [],
   "source": [
    "# make a dissimilarity plot for a group of subjects\n",
    "group.dissim <- function(df,sym=FALSE){\n",
    "    mats <- dissimgroup2matlist(df,sym=sym)\n",
    "    avg.mat <- group.mat.mean(mats)\n",
    "    \n",
    "    data <- melt(avg.mat)\n",
    "    colnames(data) <- c('color1.eccen1','color2.eccen2','similarity')\n",
    "    return(data)\n",
    "    \n",
    "    \n",
    "}\n",
    "\n",
    "\n"
   ]
  },
  {
   "cell_type": "code",
   "execution_count": 41,
   "metadata": {},
   "outputs": [],
   "source": [
    "# make a median variance plot for a group of subjects\n",
    "group.dissim.var <- function(df){\n",
    "    mats <- dissimgroup2matlist(df)\n",
    "    mats.var <- full2var.mats(mats)\n",
    "    avg.mat <- group.mat.median(mats.var)\n",
    "    \n",
    "    data <- melt(avg.mat)\n",
    "    colnames(data) <- c('color1.eccen1','color2.eccen2','similarity')\n",
    "    return(data)\n",
    "    \n",
    "    \n",
    "}\n"
   ]
  },
  {
   "cell_type": "code",
   "execution_count": 42,
   "metadata": {},
   "outputs": [],
   "source": [
    "# label the rows with the two colours independent of arbitrary ordering\n",
    "dissimplot.full <- function(datadf, mode='standard',\n",
    "                            rotation=90,dependent='dissimilarity',\n",
    "                           reverse=TRUE,\n",
    "                           label='',info='TRUE'){\n",
    "        \n",
    "    if(dependent=='RT'){\n",
    "        #datadf$similarity <- log10(datadf$similarity)\n",
    "    }\n",
    "    \n",
    "    plot <- ggplot(datadf, aes(x = color1.eccen1, y = color2.eccen2)) \n",
    "    \n",
    "    if(mode=='standard'){\n",
    "        color.list <- c(colors,colors)\n",
    "    } else if (mode=='inversion'){\n",
    "        color.list <- c(colors, inverted.colors)\n",
    "    } else if (mode == 'rotation'){\n",
    "        color.list <- c(colors, rotate.vec(colors,rotation))\n",
    "    }\n",
    "    \n",
    "    \n",
    "    \n",
    "    # dissimilarity plot\n",
    "    if(dependent=='dissimilarity'){\n",
    "        plot <- plot + geom_raster(aes(fill = similarity)) +\n",
    "                scale_fill_gradientn(colours = c(\"white\",\"black\"),\n",
    "                                    limits=c(0,7),\n",
    "                                    breaks=c(0,1,2,3,4,5,6,7),\n",
    "                                    na.value='darkblue') +\n",
    "                guides(fill=guide_legend(title=\"Dissimilarity\"))\n",
    "    }\n",
    "    # reaction time plot\n",
    "    if(dependent=='RT'){\n",
    "        plot <- plot + geom_raster(aes(fill = similarity)) +\n",
    "                scale_fill_gradientn(colours = c(\"white\",\"black\"), trans = \"log\",\n",
    "                                    #limits=c(1000,1600),\n",
    "                                    #limits=c(2.9,3.3),\n",
    "                                    #breaks=c(2.9,3,3.146,3.255,3.3),\n",
    "                                     limits = c(800,2000),\n",
    "                                    breaks=c(800,1000,1400,1800),\n",
    "                                    labels=c(800,1000,1400,1800)\n",
    "                                    ) +\n",
    "                guides(fill=guide_legend(title=\"RT (log)\"))\n",
    "    }\n",
    "    # reverse plot\n",
    "    if(reverse){\n",
    "        plot <- plot + scale_y_discrete(limits = rev(levels(datadf$y)))\n",
    "    }\n",
    "    \n",
    "    if(info){ # labels on\n",
    "        plot <- plot + theme(axis.text.x = element_text(colour=color.list,angle=90),\n",
    "                        axis.text.y = element_text(colour=color.list),\n",
    "                      plot.title = element_text(hjust = 0.5)) +\n",
    "                    ggtitle(label) +\n",
    "                    #xlab(\"SCREEN FIXED                    SCREEN MOVE\") + \n",
    "                    #ylab(\"RETINA FIXED                    RETINA MOVE\") \n",
    "                    xlab(\"CENTRAL                          PERIPHERAL\") + \n",
    "                    ylab(\"CENTRAL                          PERIPHERAL\")\n",
    "    } else {  # labels off\n",
    "        plot <- plot + theme(axis.text.x = element_blank(),\n",
    "                        axis.text.y = element_blank(),\n",
    "                      axis.title.x = element_blank(), axis.title.y = element_blank(),\n",
    "                      plot.title = element_blank(), legend.position='none')\n",
    "    } \n",
    "    \n",
    "    return(plot)\n",
    "    \n",
    "}"
   ]
  },
  {
   "cell_type": "code",
   "execution_count": 43,
   "metadata": {},
   "outputs": [],
   "source": [
    "# convert a dataframe to a matrix. Only works on submatrices\n",
    "df2mat.full <- function(datadf,eccentricity1=l2e('Central'),eccentricity2=l2e('Central'),sym=FALSE){\n",
    " \n",
    "    # select only the eccentricities we want to keep, e.g. (Central, Central)\n",
    "    datadf <- subset(datadf, Circle_1 == eccentricity1 & Circle_2 == eccentricity2)\n",
    "\n",
    "    # aggregate over the remaining columns of interest\n",
    "    datadf <- aggregate(datadf, by = list(datadf$Color_1, datadf$Color_2),FUN=mean)\n",
    "    datadf$Color_1 <- datadf$Group.1\n",
    "    datadf$Color_2 <- datadf$Group.2\n",
    "\n",
    "    datadf = subset(datadf, select = c(\"Color_1\",\"Color_2\",\"similarity\"))  # get rid of unnecessary columns\n",
    "    datadf <- spread(datadf, Color_1, similarity)\n",
    "    \n",
    "    # convert the dataframe to a matrix\n",
    "    datamatrix <- data.matrix(datadf)\n",
    "    datamatrix <- datamatrix[,-1] # get rid of the labels in the first column, it messes up the code\n",
    "    if(sym){\n",
    "        datamatrix <- make.symmetric(datamatrix) # averaging over Color_1 vs. Color_2 & Color_2 vs. Color_1    \n",
    "    }\n",
    "    rownames(datamatrix) <- colnames(datamatrix)\n",
    "    \n",
    "    # sort the matrix\n",
    "    datamatrix <- datamatrix[, sort(colnames(datamatrix))][sort(rownames(datamatrix)),]\n",
    "    \n",
    "    return(datamatrix)\n",
    "    \n",
    "}"
   ]
  },
  {
   "cell_type": "code",
   "execution_count": 44,
   "metadata": {},
   "outputs": [],
   "source": [
    "# variance plot for matrices\n",
    "variance.plot <- function(mat,\n",
    "                         col1='blue',col2='yellow',na.col='green',\n",
    "                                  legend.title='Variance',\n",
    "                                  xlabel='',ylabel='',\n",
    "                                  low.lim=0,up.lim=10){\n",
    "    if(ncol(mat)<10){\n",
    "        color.list <- colors\n",
    "    } else {\n",
    "        color.list <- c(colors,colors)\n",
    "    }\n",
    "    longData <- melt(mat)\n",
    "    \n",
    "    \n",
    "    plot <- ggplot(longData, aes(x = Var2, y=Var1)) + \n",
    "    geom_raster(aes(fill=value)) +\n",
    "    scale_fill_gradientn(legend.title,colours = c(col1,col2),\n",
    "                         limits = c(low.lim,up.lim), \n",
    "                         breaks=c(low.lim,up.lim),\n",
    "                        na.value=na.col) + \n",
    "    theme(axis.text.x = element_text(colour=color.list,angle=90),\n",
    "                        axis.text.y = element_text(colour=color.list),\n",
    "                      axis.title.x = element_blank(), axis.title.y = element_blank(),\n",
    "                      plot.title = element_text(hjust = 0.5))\n",
    "\n",
    "    return(plot)\n",
    "}\n",
    "    "
   ]
  },
  {
   "cell_type": "code",
   "execution_count": 45,
   "metadata": {},
   "outputs": [],
   "source": [
    "# convert a dataframe to a matrix v2, with some added functionality and without automatic\n",
    "# symmeterisation\n",
    "color.eccen.mat <- function(df,output='DF',mode='identity',rotation=90,plot=FALSE,dependent='dissimilarity',\n",
    "                           symmeterise=TRUE,sym.CP=TRUE,shuffle=FALSE,\n",
    "                            diagnose=FALSE){\n",
    "    library('plot.matrix')\n",
    "    if(dependent=='RT'){\n",
    "        df$similarity <- df$response_time\n",
    "    }\n",
    "    data <- subset(df, select = c(color1.eccen1, color2.eccen2, similarity))\n",
    "    if(diagnose){\n",
    "        print(data)\n",
    "    }\n",
    "    #print(head(data)) # testing\n",
    "    data <- spread(data, color1.eccen1, similarity)\n",
    "    #print(data) # testing\n",
    "    row.names <- data$color2.eccen2\n",
    "    data.mat <- data.matrix(data)\n",
    "    rownames(data.mat) <- row.names\n",
    "    data.mat <- data.mat[,-1] # get rid of the redundant first column\n",
    "    \n",
    "    # duplicate missing values\n",
    "    #print(plot(data.mat))\n",
    "    if(symmeterise){\n",
    "        if(sym.CP){ # symmeterise over CP/PC\n",
    "            CP <- data.mat[10:18,1:9]\n",
    "            CP.t <- t(CP)\n",
    "            data.mat[10:18,1:9] <- group.mat.mean(list(CP,CP.t))\n",
    "            data.mat[1:9,10:18] <- t(data.mat[10:18,1:9])\n",
    "        }\n",
    "        # symmeterise the full matrix\n",
    "        data.mat.t <- t(data.mat)\n",
    "        data.mat <- group.mat.mean(list(data.mat,data.mat.t))\n",
    "    }\n",
    "    # shuffle CP & PP for plotting purposes if desired\n",
    "    if(shuffle){\n",
    "        data.mat[10:18,1:9] <- matrix(sample(data.mat[10:18,1:9]),nrow=9)\n",
    "        data.mat[1:9,10:18] <- matrix(sample(data.mat[1:9,10:18]),nrow=9)\n",
    "        data.mat[10:18,10:18] <- matrix(sample(data.mat[10:18,10:18]),nrow=9)\n",
    "    }\n",
    "    # perform a label swap\n",
    "    Peripheral.labels <- c(10:18)\n",
    "    if(mode == 'random'){\n",
    "        swap.vec <- sample(Peripheral.labels) # pick a random ordering of the Peripheral labels\n",
    "    } else if (mode == 'rotate'){\n",
    "        swap.vec <- rotate.vec(Peripheral.labels,rotation=rotation)\n",
    "    } else if (mode == 'invert'){\n",
    "        swap.vec <- match(inverted.colors,colors) + 9\n",
    "    }\n",
    "    if(mode != 'identity'){ # do the swap\n",
    "        data.mat[10:18,] <- data.mat[swap.vec, ] # reorder the rows\n",
    "        data.mat[,10:18] <- data.mat[, swap.vec] # reorder the columns\n",
    "    }\n",
    "        \n",
    "    \n",
    "    # plot the data\n",
    "    if(plot){\n",
    "        plot(data.mat, col=gray.colors(8, start=0, end=1, gamma=0.75, rev=TRUE),\n",
    "         xlab = 'Fovea                                      Periphery',\n",
    "        ylab = 'Fovea                                      Periphery')\n",
    "    }\n",
    "    \n",
    "    # choose output type\n",
    "    if(output == 'DF'){\n",
    "        data <- as.data.frame(as.table(data.mat))\n",
    "        colnames(data) <- c(\"color1.eccen1\",\"color2.eccen2\",\"similarity\")\n",
    "        return(data)\n",
    "    } else if (output == 'matrix'){\n",
    "        return(data.mat)\n",
    "    }\n",
    "}"
   ]
  },
  {
   "cell_type": "code",
   "execution_count": 46,
   "metadata": {},
   "outputs": [],
   "source": [
    "# calculate the mean value of the trace of a matrix, aka 'normalised trace'\n",
    "norm.trace <- function(mat){\n",
    "    val <- sum(diag(mat))/nrow(mat)\n",
    "    return(val)\n",
    "}\n",
    "\n",
    "# calculate the mean of the other values in the matrix\n",
    "non.trace <- function(mat){\n",
    "    other_sum <- sum(mat) - sum(diag(mat))\n",
    "    val <- other_sum/(length(mat)-length(diag(mat)))\n",
    "    return(val)\n",
    "}\n",
    "\n",
    "# calculate the difference between a matrix's normalised trace and the mean of the other values in the matrix\n",
    "norm.trace.difference <- function(mat){\n",
    "    val <- non.trace(mat) - norm.trace(mat)\n",
    "    return(val)\n",
    "}\n",
    "\n",
    "# calculate trace average, small values presumably indicate subjects not just saying everything is completely dissimilar\n",
    "# will also need a complementary method to deal with them saying everything is the same? Might be an inappropriate\n",
    "# a-priori imposition though, I probably can't tell people how similar different colours should be...\n",
    "trace_avg <- function(datadf,mode='trace'){\n",
    "    \n",
    "    # first, turn the dataframe into the relevant matrices\n",
    "    fmatrix <- df2mat.full(datadf, l2e('Central'), l2e('Central'))\n",
    "    fpmatrix <- df2mat.full(datadf, l2e('Central'), l2e('Peripheral'))\n",
    "    pmatrix <- df2mat.full(datadf, l2e('Peripheral'), l2e('Peripheral'))\n",
    "    \n",
    "    if(mode=='trace'){ # just calculate the normalised trace\n",
    "        cc <- norm.trace(fmatrix)\n",
    "        cp <- norm.trace(fpmatrix)\n",
    "        pp <- norm.trace(pmatrix)\n",
    "    } else if (mode=='difference'){ # calculate the difference between the mean of the rest of the matrix and the normalised trace\n",
    "        # note, these are unsymmeterised matrices so the analysis is on the raw values\n",
    "        cc <- norm.trace.difference(fmatrix)\n",
    "        cp <- norm.trace.difference(fpmatrix)\n",
    "        pp <- norm.trace.difference(pmatrix)\n",
    "    } else if (mode=='non-trace'){ # calculate the mean value for everything except the normalised trace\n",
    "        cc <- non.trace(fmatrix)\n",
    "        cp <- non.trace(fpmatrix)\n",
    "        pp <- non.trace(pmatrix)\n",
    "    }\n",
    "    \n",
    "    return(list(cc,cp,pp))\n",
    "}\n",
    "\n",
    "# used for testing whether pilot data subjects needed to have their data inverted\n",
    "norm.trace.cc <- function(datadf){\n",
    "    fmatrix <- df2mat.full(datadf, l2e('Central'), l2e('Central'))\n",
    "    cc <- sum(diag(fmatrix))/nrow(fmatrix)\n",
    "    return(cc)\n",
    "}"
   ]
  },
  {
   "cell_type": "code",
   "execution_count": 150,
   "metadata": {},
   "outputs": [],
   "source": [
    "# obtains a dataframe of traces for subjects\n",
    "# type can be 'trace' or 'difference'\n",
    "trace_obtainer <- function(datadf,type=\"trace\"){\n",
    "    subjectlist <- sort(unique(datadf$subject)) # obtain a list of all the subjects\n",
    "    tracedf <- data.frame(subject=character(),\n",
    "                          fftrace=double(),\n",
    "                          fptrace=double(),\n",
    "                          pptrace=double(),\n",
    "                         stim_size=double(),\n",
    "                         magnification=double()) # initialise an output df for the traces\n",
    "    for (ID in subjectlist){\n",
    "        tempdf <- subset(datadf, subject == ID)\n",
    "        magnification_list <- sort(unique(datadf$peripheral_scale))\n",
    "        size_list <- sort(unique(datadf$stimulus_size))\n",
    "        for (stimulus in size_list){\n",
    "            for (scale in magnification_list){\n",
    "                tempdf2 <- subset(tempdf, peripheral_scale == scale & stimulus_size == stimulus)\n",
    "                subject_trace <- trace_avg(tempdf2,mode=type)\n",
    "                stim <- unique(tempdf2$stimulus_size)[1]\n",
    "                mag <- unique(tempdf2$peripheral_scale)[1]\n",
    "                row_df <- data.frame(ID, as.numeric(subject_trace[1]),\n",
    "                                     as.numeric(subject_trace[2]),\n",
    "                                     as.numeric(subject_trace[3]),\n",
    "                                    stim,mag)\n",
    "                names(row_df) <- c(\"subject\",\"CC\",'CP',\"PP\",'StimSize','Magnification')\n",
    "                tracedf<- rbind(tracedf,row_df)\n",
    "            }\n",
    "        }\n",
    "    }\n",
    "    return(tracedf)\n",
    "}"
   ]
  },
  {
   "cell_type": "code",
   "execution_count": 48,
   "metadata": {},
   "outputs": [],
   "source": [
    "# get median reaction time\n",
    "rt_avg <- function(datadf){\n",
    "    return(median(datadf$response_time))\n",
    "}"
   ]
  },
  {
   "cell_type": "markdown",
   "metadata": {},
   "source": [
    "Run the analysis"
   ]
  },
  {
   "cell_type": "code",
   "execution_count": 49,
   "metadata": {
    "scrolled": true
   },
   "outputs": [],
   "source": [
    "# function to aggregate everyone's data together\n",
    "aggregate_df <- function(datadf,dependent='color'){\n",
    "\n",
    "    # aggregate everyone's data together for the matrices\n",
    "    everyonedata <- aggregate(datadf, by=list(\n",
    "        datadf$Color_1,\n",
    "        datadf$Color_2,\n",
    "        datadf$Circle_1,\n",
    "        datadf$Circle_2,\n",
    "        datadf$bin1,\n",
    "        datadf$bin2\n",
    "        ), FUN=mean, \n",
    "    )\n",
    "\n",
    "    # correct the column names\n",
    "    everyonedata$Color_1 <- everyonedata$Group.1\n",
    "    everyonedata$Color_2 <- everyonedata$Group.2\n",
    "    everyonedata$Circle_1 <- everyonedata$Group.3\n",
    "    everyonedata$Circle_2 <- everyonedata$Group.4\n",
    "    everyonedata$bin1 <- everyonedata$Group.5\n",
    "    everyonedata$bin2 <- everyonedata$Group.6\n",
    "    \n",
    "    return(everyonedata)\n",
    "}"
   ]
  },
  {
   "cell_type": "code",
   "execution_count": 50,
   "metadata": {},
   "outputs": [],
   "source": [
    "# calculate the catch trial score for a subject\n",
    "catch_score <- function(datadf){\n",
    "    datadf <- subset(datadf, trial_type == 'catch')\n",
    "    datadf$correct <- ifelse(as.character(datadf$similarity) == as.character(datadf$catch_vals), 1, 0) # determine whether they got the catch trials right\n",
    "    score <- sum(datadf$correct)/nrow(datadf) # get the score\n",
    "    return(score)\n",
    "}"
   ]
  },
  {
   "cell_type": "code",
   "execution_count": 51,
   "metadata": {},
   "outputs": [],
   "source": [
    "# catch trial checker\n",
    "catch_trial_checker <- function(datadf){\n",
    "    \n",
    "    subjectlist <- sort(unique(datadf$subject))\n",
    "    print(\"Catch scores\")\n",
    "    for (subjectid in subjectlist){\n",
    "        subjectdf = subset(datadf, subject == subjectid)\n",
    "        \n",
    "        catch_trials <- subset(subjectdf, trial_type == 'catch')\n",
    "        catch_num = nrow(catch_trials)\n",
    "        catch_correct = nrow(subset(catch_trials, as.character(catch_vals) == as.character(similarity))) # had to add the as.character to block a bug, don't know why\n",
    "        \n",
    "        print(paste(\"Subject\",subjectid,\":\",catch_correct,\"/\",catch_num))\n",
    "    }\n",
    "}"
   ]
  },
  {
   "cell_type": "markdown",
   "metadata": {},
   "source": [
    "#### Multidimensional Scaling Plots"
   ]
  },
  {
   "cell_type": "code",
   "execution_count": 53,
   "metadata": {},
   "outputs": [],
   "source": [
    "# convert a standard matrix to a distance matrix\n",
    "mat2dist <- function(mat){\n",
    "    \n",
    "    return(distmat <- as.dist(mat))\n",
    "}"
   ]
  },
  {
   "cell_type": "markdown",
   "metadata": {},
   "source": [
    "Classical multidimensional scaling"
   ]
  },
  {
   "cell_type": "code",
   "execution_count": 54,
   "metadata": {},
   "outputs": [],
   "source": [
    "# find the cmds fit for a dataset\n",
    "cmdsfit <- function(distmatrix){\n",
    "    \n",
    "    fit <- cmdscale(distmatrix,k=2)\n",
    "    return(fit)\n",
    "}"
   ]
  },
  {
   "cell_type": "code",
   "execution_count": 55,
   "metadata": {},
   "outputs": [],
   "source": [
    "# plot the cmds fit\n",
    "cmdsplot <- function(fit, colors, abcolors, eccentricity1, eccentricity2){\n",
    "    \n",
    "    # get labels\n",
    "    \n",
    "    # change the nmdsfit back to a dataframe\n",
    "    nmdsdf <- as.data.frame(fit)\n",
    "    \n",
    "    plot <-     ggplot(nmdsdf, aes(x = V1, y = V2, color=colors, fill=colors)) + geom_point(size =10) + \n",
    "                scale_colour_manual(values = abcolors) + scale_fill_manual(values = abcolors) + \n",
    "                xlab(\"Dimension 1\") + ylab(\"Dimension 2\") + \n",
    "                ggtitle(paste(e2l(eccentricity1),e2l(eccentricity2),'Classical MDS',sep=' - '))\n",
    "    return(plot)\n",
    "}"
   ]
  },
  {
   "cell_type": "markdown",
   "metadata": {},
   "source": [
    "#### Some control measure plots"
   ]
  },
  {
   "cell_type": "markdown",
   "metadata": {},
   "source": [
    "Reaction time vs. similarity judgements"
   ]
  },
  {
   "cell_type": "code",
   "execution_count": 56,
   "metadata": {},
   "outputs": [],
   "source": [
    "# similarity judgement histogram\n",
    "simhistplot <- function(datadf){\n",
    "    \n",
    "   plot <- ggplot(datadf, aes(x = similarity)) + geom_bar(aes(y = ..prop..)) +\n",
    "    scale_x_discrete(limits=c(0,1,2,3,4,5,6,7), name = 'Dissimilarity') +\n",
    "    ylab('Frequency') + ylim(0,0.8)\n",
    "    return(plot)\n",
    "}\n",
    "\n",
    "simhistplot_summary <- function(datadf,QDM='FULL'){\n",
    "    \n",
    "    if(QDM == 'FP'){\n",
    "        datadf <- subset(datadf, ((Circle_1 == l2e('Central') & Circle_2 == l2e('Peripheral')) |\n",
    "                                 (Circle_1 == l2e('Peripheral') & Circle_2 == l2e('Central'))\n",
    "                                 ))\n",
    "    }\n",
    "    \n",
    "    datadf$subject <- as.character(datadf$subject) # necessary for visualisation\n",
    "    \n",
    "    plot <- ggplot(datadf, aes(x = similarity)) + \n",
    "    geom_line(stat='count',aes(y = ..prop..,group = subject),color='#CC9933') +\n",
    "    geom_line(stat='count',aes(y = ..prop..),size=1.5) +\n",
    "    scale_x_discrete(limits=c(0,1,2,3,4,5,6,7), name = paste(QDM,'Dissimilarity')) +\n",
    "    ylab('Frequency') + ylim(0,0.8)\n",
    "    return(plot)\n",
    "    \n",
    "}"
   ]
  },
  {
   "cell_type": "code",
   "execution_count": 57,
   "metadata": {},
   "outputs": [],
   "source": [
    "# reaction time for each similarity\n",
    "rsplot <- function(datadf){\n",
    "    \n",
    "    plot <- ggplot(datadf, aes(x= similarity, y=response_time)) + \n",
    "    stat_summary(fun.data = mean_se, geom = \"errorbar\", size =0.5, aes(width=0.5)) +\n",
    "    scale_x_discrete(limits=c(0,1,2,3,4,5,6,7), name = 'Dissimilarity') + ylab('Reaction Time (ms)') +\n",
    "    theme(legend.position = \"none\") +\n",
    "    \n",
    "    ylim(0,4000) # anyone taking more than 4 seconds has probably mindwandered\n",
    "    \n",
    "    return(plot)\n",
    "}\n",
    "\n",
    "rsplot_summary <- function(datadf){\n",
    "    \n",
    "    datadf$subject <- as.character(datadf$subject) # necessary for visualisation\n",
    "    \n",
    "    \n",
    "    plot <- ggplot(datadf, aes(x= similarity, y=response_time,group = subject, color = subject)) + \n",
    "    stat_summary(fun.y = mean, geom = \"line\", size=0.8) + \n",
    "    stat_summary(fun.y = mean, geom = \"line\", size=2.5, aes(group=1)) + # add a population summary\n",
    "    #stat_summary(fun.data = mean_se, geom = \"errorbar\", size =0.5, aes(width=0.5)) +\n",
    "    scale_x_discrete(limits=c(0,1,2,3,4,5,6,7), name = 'Dissimilarity') + ylab('Mean Reaction Time (ms)') +\n",
    "    theme(legend.position = \"none\") +\n",
    "    ylim(0,4000) # anyone taking more than 4 seconds has probably mindwandered \n",
    "    \n",
    "    return(plot)\n",
    "    \n",
    "}"
   ]
  },
  {
   "cell_type": "code",
   "execution_count": 58,
   "metadata": {},
   "outputs": [],
   "source": [
    "# mean reaction time vs. catch trial score\n",
    "rt_catch <- function(datadf){\n",
    "    \n",
    "    subjectlist <- sort(unique(datadf$subject)) # obtain a list of all the subjects\n",
    "    \n",
    "    for(ID in subjectlist){\n",
    "        tempdf <- subset(datadf, subject == ID)\n",
    "        datadf$catch_score[datadf$subject == ID] = unlist(catch_score(tempdf),use.names=FALSE)[1]\n",
    "    }\n",
    "        datadf <- aggregate(datadf, by=list(datadf$subject), FUN = mean)\n",
    "    return(datadf)\n",
    "}\n",
    "\n",
    "rt_catch_plot <- function(datadf,xtype='linear',label=FALSE){\n",
    "    \n",
    "    datadf <- rt_catch(datadf)\n",
    "    datadf$subject <- as.character(datadf$subject) # necessary for visualisation\n",
    "    \n",
    "    plot <- ggplot(datadf, aes(x=response_time, y=catch_score)) +\n",
    "            geom_point() + xlab(\"Median Reaction Time\") + ylab(\"Catch Score\")\n",
    "    \n",
    "    if(xtype == 'log'){\n",
    "        plot <- plot + scale_x_continuous(trans='log10')+ xlim(0,5000)\n",
    "    } else{\n",
    "        plot <- plot + xlim(0,5000)\n",
    "    }\n",
    "    plot <- plot + geom_smooth(method=lm) + ylim(0,1) + # linear line of best fit\n",
    "            geom_hline(yintercept=score_cutoff, linetype = 'dashed', color='red') \n",
    "            #geom_vline(xintercept=rt_cutoff, linetype = 'dashed', color='blue')\n",
    "    #plot <- plot + geom_point(aes(color = subject))\n",
    "    if(label){\n",
    "        plot <- plot + geom_text(aes(label = subject),check_overlap=TRUE)\n",
    "    }\n",
    "    ggsave('rt_catch.png',plot,height=5,width=5)\n",
    "    return(plot)\n",
    "}\n",
    "\n",
    "rt_hist <- function(datadf){\n",
    "    datadf <- rt_catch(datadf)\n",
    "    mu <- (median(datadf$catch_score))\n",
    "    sd <- (sd(datadf$catch_score))\n",
    "    print(paste(\"Median +/- 1 SD:\",round(mu,2),'+/-',round(mu-sd,2),'to',round(mu+sd,2)))\n",
    "    print(paste(\"Median +/- 2 SD:\",round(mu,2),'+/-',round(mu-sd*2,2),'to',round(mu+sd*2,2)))\n",
    "    plot <- ggplot(datadf, aes(x = catch_score)) + \n",
    "            geom_histogram(binwidth=0.1,colour='black') + xlim(-0.05,1.05) + xlab('Catch Score')\n",
    "    return(plot)\n",
    "}"
   ]
  },
  {
   "cell_type": "code",
   "execution_count": 59,
   "metadata": {},
   "outputs": [],
   "source": [
    "# subject info\n",
    "sumplot <- function(datadf){\n",
    "    \n",
    "    # change ms to s, add the delay for each trial\n",
    "    datadf$response_time <- ((datadf$response_time + 0.125*nrow(datadf)) / 1000)\n",
    "    \n",
    "    plot <- ggplot(datadf, aes(x=subject, y = response_time)) + \n",
    "    stat_summary(fun.y = sum, geom = \"bar\") + ylim(0,1000) +\n",
    "    ylab('Response Time Total') + theme(axis.title.x=element_blank(), axis.text.x = element_text(size=20))\n",
    "    \n",
    "    return(plot)\n",
    "}"
   ]
  },
  {
   "cell_type": "markdown",
   "metadata": {},
   "source": [
    "#### Check their screen size & viewing distance"
   ]
  },
  {
   "cell_type": "code",
   "execution_count": 61,
   "metadata": {},
   "outputs": [],
   "source": [
    "# get a list of subject matrices based on conditions\n",
    "subject.mats <- function(df,scaling,radius){\n",
    "    subset.df <- subset(df, peripheral_scale == scaling & stimulus_size == radius)\n",
    "    group.mats <- dissimgroup2matlist(subset.df)\n",
    "    return(group.mats)\n",
    "}"
   ]
  },
  {
   "cell_type": "markdown",
   "metadata": {},
   "source": [
    "## Preprocessing"
   ]
  },
  {
   "cell_type": "markdown",
   "metadata": {},
   "source": [
    "#### Loading the data"
   ]
  },
  {
   "cell_type": "code",
   "execution_count": 83,
   "metadata": {},
   "outputs": [],
   "source": [
    "datadf = data\n",
    "savestr <- substr('QIST_data',1,nchar('QIST_data')-4) # for saving related files later\n"
   ]
  },
  {
   "cell_type": "markdown",
   "metadata": {},
   "source": [
    "#### Cleaning the data as per the exclusion criteria"
   ]
  },
  {
   "cell_type": "code",
   "execution_count": 84,
   "metadata": {},
   "outputs": [],
   "source": [
    "# remove practice trial data\n",
    "datadf <- subset(datadf, blockcode == 'experiment')"
   ]
  },
  {
   "cell_type": "code",
   "execution_count": 85,
   "metadata": {},
   "outputs": [],
   "source": [
    "# changing color values from RGB to hex for graphing purpose\n",
    "datadf$Color_1 <- as.character(datadf$Color_1)\n",
    "datadf$Color_1 <- revalue(datadf$Color_1, \n",
    "                                                    c(  \"1\" = '#FF0000',\n",
    "                                                        \"2\" = '#FFAA00',\n",
    "                                                        \"3\" = '#AAFF00',\n",
    "                                                        \"4\" = '#00FF00',\n",
    "                                                        \"5\" = '#00FFA9',\n",
    "                                                        \"6\" = '#00A9FF',\n",
    "                                                        \"7\" = '#0000FF',\n",
    "                                                        \"8\" = '#AA00FF',\n",
    "                                                        \"9\" = '#FF00AA'))\n",
    "datadf$Color_2 <- as.character(datadf$Color_2)\n",
    "datadf$Color_2 <- revalue(datadf$Color_2, \n",
    "                                                    c(  \"1\" = '#FF0000',\n",
    "                                                        \"2\" = '#FFAA00',\n",
    "                                                        \"3\" = '#AAFF00',\n",
    "                                                        \"4\" = '#00FF00',\n",
    "                                                        \"5\" = '#00FFA9',\n",
    "                                                        \"6\" = '#00A9FF',\n",
    "                                                        \"7\" = '#0000FF',\n",
    "                                                        \"8\" = '#AA00FF',\n",
    "                                                        \"9\" = '#FF00AA'))\n",
    "\n"
   ]
  },
  {
   "cell_type": "code",
   "execution_count": 86,
   "metadata": {},
   "outputs": [],
   "source": [
    "# changing from int indicators in the .csv file to more readable labels for eccentricity\n",
    "Central = -1\n",
    "Peripheral = 1"
   ]
  },
  {
   "cell_type": "code",
   "execution_count": 87,
   "metadata": {},
   "outputs": [],
   "source": [
    "# adding a trial type label\n",
    "label_eccen_type <- function(datadf){\n",
    "    datadf <- datadf %>%\n",
    "    mutate(eccen_type = case_when(Circle_1 == l2e('Central') & Circle_2 == l2e('Central') ~ 'CC',\n",
    "                             Circle_1 == l2e('Central') & Circle_2 == l2e('Peripheral') ~ 'CP',\n",
    "                             Circle_1 == l2e('Peripheral') & Circle_2 == l2e('Peripheral') ~ 'CP'))\n",
    "    return(datadf)\n",
    "}"
   ]
  },
  {
   "cell_type": "code",
   "execution_count": 88,
   "metadata": {},
   "outputs": [],
   "source": [
    "datadf <- label_eccen_type(datadf)"
   ]
  },
  {
   "cell_type": "markdown",
   "metadata": {},
   "source": [
    "Some actual data cleaning"
   ]
  },
  {
   "cell_type": "code",
   "execution_count": 91,
   "metadata": {},
   "outputs": [],
   "source": [
    "# function to throw out  participants who didn't finish\n",
    "remove_incomplete <- function(datadf,stimuli_number){\n",
    "    \n",
    "    subjectlist <- sort(unique(datadf$subject)) # obtain a list of all the subjects\n",
    "    print(paste(length(subjectlist),\"in dataset\"))\n",
    "    print(\"\")\n",
    "    \n",
    "    for (ID in subjectlist){ # go through subject by subject\n",
    "        \n",
    "        trialnumber = stimuli_number*stimuli_number*condition_number*experiment_number + catch_trial_number*experiment_number\n",
    "        \n",
    "        trialsdone <- nrow(subset(datadf, subject == ID))\n",
    "        print(paste(\"Subject\",ID,\"completed\",trialsdone,\"/\",trialnumber))\n",
    "        \n",
    "        if ( trialsdone != trialnumber){ # see if they have the appropriate trial numbers\n",
    "            datadf <- subset(datadf, subject != ID) # dump the subject\n",
    "        }\n",
    "    }\n",
    "    return(datadf)\n",
    "}"
   ]
  },
  {
   "cell_type": "code",
   "execution_count": 93,
   "metadata": {
    "tags": []
   },
   "outputs": [
    {
     "name": "stdout",
     "output_type": "stream",
     "text": [
      "[1] \"1 in dataset\"\n",
      "[1] \"\"\n",
      "[1] \"Subject T1 completed 1336 / 1336\"\n"
     ]
    }
   ],
   "source": [
    "# actually throw out the subjects who didn't complete\n",
    "datadf <- remove_incomplete(datadf,stimuli_number)"
   ]
  },
  {
   "cell_type": "code",
   "execution_count": 94,
   "metadata": {
    "tags": []
   },
   "outputs": [],
   "source": [
    "# function to label participants who meet statistical cleaning assumptions\n",
    "label_noncompliant <- function(datadf,\n",
    "                               screen_size_cutoff=26,viewing_distance_cutoff=30,rt_threshold=rt_cutoff,score_cutoff=0.7){\n",
    "    \n",
    "    subjectlist <- sort(unique(datadf$subject)) # obtain a list of all the subjects\n",
    "    \n",
    "    for (ID in subjectlist){ # go through subject by subject\n",
    "        \n",
    "        subjectdf = subset(datadf, subject == ID) # select the ID for subject of interest \n",
    "        \n",
    "        catch_score <- catch_score(subjectdf)\n",
    "        \n",
    "        if(catch_score > score_cutoff){ # catch score cutoff\n",
    "            print(paste(\"Subject\",ID,\"had a catch score of: \",catch_score,sep=' ')) # Catch score faile\n",
    "            datadf$noncompliant[datadf$subject == ID] = 4\n",
    "        }\n",
    "    }\n",
    "    print(paste(length(unique(datadf$subject[datadf$noncompliant==0])),\"of\",length(unique(datadf$subject)),\n",
    "                \"were compliant\",sep=' '))\n",
    "    return(datadf)\n",
    "}"
   ]
  },
  {
   "cell_type": "code",
   "execution_count": 95,
   "metadata": {
    "tags": []
   },
   "outputs": [
    {
     "name": "stdout",
     "output_type": "stream",
     "text": [
      "[1] \"Catch scores\"\n",
      "[1] \"Subject T1 : 6 / 40\"\n"
     ]
    }
   ],
   "source": [
    "catch_trial_checker(datadf)"
   ]
  },
  {
   "cell_type": "code",
   "execution_count": 96,
   "metadata": {
    "scrolled": true
   },
   "outputs": [
    {
     "name": "stdout",
     "output_type": "stream",
     "text": [
      "[1] \"0 of 1 were compliant\"\n"
     ]
    }
   ],
   "source": [
    "datadf <- label_noncompliant(datadf)"
   ]
  },
  {
   "cell_type": "code",
   "execution_count": 97,
   "metadata": {},
   "outputs": [],
   "source": [
    "# function to run all these checks at once\n",
    "validation <- function(datadf){\n",
    "    \n",
    "    magnification_list <- sort(unique(datadf$peripheral_scale))\n",
    "    size_list <- sort(unique(datadf$stimulus_size))\n",
    "    \n",
    "    for (stimulus in size_list){\n",
    "        for (scale in magnification_list){\n",
    "            tempdf <- subset(datadf, peripheral_scale == scale & stimulus_size == stimulus)\n",
    "            \n",
    "            print(paste(\"Magnification\",scale,\"Stimulus\",stimulus))\n",
    "            tempdf <- remove_incomplete(tempdf,stimuli_number)\n",
    "            screen_parameters(tempdf, individual=FALSE)\n",
    "            catch_trial_checker(tempdf)\n",
    "            label_noncompliant(tempdf)\n",
    "            print(\"\")\n",
    "            print(\"____________________\")\n",
    "            print(\"\")\n",
    "            \n",
    "        }\n",
    "    }\n",
    "}"
   ]
  },
  {
   "cell_type": "code",
   "execution_count": 98,
   "metadata": {
    "tags": []
   },
   "outputs": [],
   "source": [
    "validation(datadf)"
   ]
  },
  {
   "cell_type": "code",
   "execution_count": 100,
   "metadata": {},
   "outputs": [
    {
     "name": "stdout",
     "output_type": "stream",
     "text": [
      "[1] \"There are 1 unique subjects\"\n"
     ]
    },
    {
     "data": {
      "text/html": [
       "1"
      ],
      "text/latex": [
       "1"
      ],
      "text/markdown": [
       "1"
      ],
      "text/plain": [
       "[1] 1"
      ]
     },
     "metadata": {},
     "output_type": "display_data"
    }
   ],
   "source": [
    "cleandf <- subset(datadf, noncompliant == 0)\n",
    "get_n(cleandf)"
   ]
  },
  {
   "cell_type": "markdown",
   "metadata": {},
   "source": [
    "## Descriptive Statistics"
   ]
  },
  {
   "cell_type": "markdown",
   "metadata": {},
   "source": [
    "Only using the smallest and largest stimuli for this analysis, so get rid of the other subject groups"
   ]
  },
  {
   "cell_type": "code",
   "execution_count": 102,
   "metadata": {},
   "outputs": [],
   "source": [
    "# label the data for plotting\n",
    "label <- function(df,raw=FALSE){\n",
    "    if(raw){\n",
    "        df$label.mag <- NA\n",
    "        df$label.stim <- NA\n",
    "        df$label.combo <- NA\n",
    "        df$label.mag[df$peripheral_scale != 1] <- 'MAG'\n",
    "        df$label.mag[df$peripheral_scale == 1] <- 'FIX'\n",
    "        df$label.stim[df$stimulus_size != 1] <- 'SMALL'\n",
    "        df$label.stim[df$stimulus_size == 1] <- 'BIG'\n",
    "        df$label.combo <- paste(df$label.mag, format((df$label.stim)))\n",
    "    } else{\n",
    "        df$label.mag <- NA\n",
    "        df$label.stim <- NA\n",
    "        df$label.combo <- NA\n",
    "        df$label.mag[df$Magnification != 1] <- 'MAG'\n",
    "        df$label.mag[df$Magnification == 1] <- 'FIX'\n",
    "        df$label.stim[df$StimSize != 1] <- 'SMALL'\n",
    "        df$label.stim[df$StimSize == 1] <- 'BIG'\n",
    "        df$label.combo <- paste(df$label.mag, format((df$label.stim)))\n",
    "    }\n",
    "    \n",
    "    return(df)\n",
    "}\n",
    "\n"
   ]
  },
  {
   "cell_type": "code",
   "execution_count": 103,
   "metadata": {},
   "outputs": [],
   "source": [
    "fix_mag_colours <- c('#fbff00','#00ffe1','#9B5800','#CC0066')"
   ]
  },
  {
   "cell_type": "code",
   "execution_count": 104,
   "metadata": {},
   "outputs": [],
   "source": [
    "correlation_colours <- c('#00ff42','#ff8800','#ff00f7')"
   ]
  },
  {
   "cell_type": "markdown",
   "metadata": {},
   "source": [
    "## Analysis Plan"
   ]
  },
  {
   "cell_type": "markdown",
   "metadata": {},
   "source": [
    "### Analysis of Correlation Between Judgments Across Eccentricities (H1A-D)"
   ]
  },
  {
   "cell_type": "markdown",
   "metadata": {},
   "source": [
    "#### H1A-C: Peripheral Magnification Correlations"
   ]
  },
  {
   "cell_type": "markdown",
   "metadata": {},
   "source": [
    "#### Useful functions"
   ]
  },
  {
   "cell_type": "code",
   "execution_count": 76,
   "metadata": {},
   "outputs": [],
   "source": [
    "test <- subset(cleandf, subject == 53858324)"
   ]
  },
  {
   "cell_type": "code",
   "execution_count": 118,
   "metadata": {},
   "outputs": [],
   "source": [
    "# calculate the correlation of the non-identical colour-pair comparisons of a submatrix with themselves\n",
    "self.correlate <- function(df,ec1='Central',ec2='Central',correlation='pearson',diagnose=FALSE){\n",
    "    temp.mat <- df2mat.full(df,l2e(ec1),l2e(ec2))\n",
    "    first.half <- temp.mat[upper.tri(temp.mat,diag=FALSE)]\n",
    "    second.half <- t(temp.mat)[upper.tri((temp.mat),diag=FALSE)]\n",
    "    if(diagnose){\n",
    "        print(temp.mat)\n",
    "        print(t(temp.mat))\n",
    "        print(first.half)\n",
    "        print(second.half)\n",
    "    }\n",
    "    return(cor(first.half,second.half,method=correlation))\n",
    "}\n",
    "\n",
    "#self.correlate(test,diagnose=TRUE)\n",
    "\n",
    "# calcualte the correlation of colour-pair comparisons of a submatrix with another submatrix\n",
    "submatrix.correlate <- function(df,submat1='CC',submat2='PP',correlation='pearson'){\n",
    "    \n",
    "    # first, turn the dataframe into the relevant matrices, then into vectors\n",
    "    fmatrix <- as.vector(df2mat.full(df, l2e('Central'), l2e('Central'),sym=FALSE))\n",
    "    fpmatrix <- as.vector(df2mat.full(df, l2e('Central'), l2e('Peripheral'),sym=FALSE))\n",
    "    pmatrix <- as.vector(df2mat.full(df, l2e('Peripheral'), l2e('Peripheral'),sym=FALSE))\n",
    "    \n",
    "    cc.pp <- cor(fmatrix,pmatrix,method=correlation)\n",
    "    cc.cp <- cor(fmatrix,fpmatrix,method=correlation)\n",
    "    cp.pp <- cor(fpmatrix,pmatrix,method=correlation)\n",
    "    \n",
    "    return(c(cc.pp,cc.cp,cp.pp))\n",
    "}\n",
    "\n",
    "#submatrix.correlate(test)\n",
    "\n",
    "# make a dataframe with all the correlations for all subjects\n",
    "correlation_obtainer <- function(datadf,correlation=\"pearson\"){\n",
    "    subjectlist <- sort(unique(datadf$subject)) # obtain a list of all the subjects\n",
    "    correlationdf <- data.frame(subject=character(),\n",
    "                          cc.cc=double(),\n",
    "                          cc.pp=double(),\n",
    "                          cc.cp=double(),\n",
    "                          cp.pp=double(),\n",
    "                         stim_size=double(),\n",
    "                         magnification=double()) # initialise an output df for the traces\n",
    "    for (ID in subjectlist){\n",
    "        tempdf <- subset(datadf, subject == ID)\n",
    "        \n",
    "        magnification_list <- sort(unique(datadf$peripheral_scale))\n",
    "        size_list <- sort(unique(datadf$stimulus_size))\n",
    "        for (stimulus in size_list){\n",
    "            for (scale in magnification_list){\n",
    "                tempdf2 <- subset(tempdf, peripheral_scale == scale & stimulus_size == stimulus)\n",
    "                subject_correlations <- submatrix.correlate(tempdf2,correlation=correlation)\n",
    "                stim <- unique(tempdf2$stimulus_size)[1]\n",
    "                mag <- unique(tempdf2$peripheral_scale)[1]\n",
    "                row_df <- data.frame(ID, \n",
    "                                     as.numeric(self.correlate(tempdf,correlation=correlation)),\n",
    "                                     as.numeric(subject_correlations[1]),\n",
    "                                     as.numeric(subject_correlations[2]),\n",
    "                                     as.numeric(subject_correlations[3]),\n",
    "                                    stim,mag)\n",
    "                names(row_df) <- c(\"subject\",\"CC1_CC2\",\"CC_PP\",'CC_CP',\"CP_PP\",'StimSize','Magnification')\n",
    "                correlationdf<- rbind(correlationdf,row_df)\n",
    "            }\n",
    "        }\n",
    "        \n",
    "    }\n",
    "    return(correlationdf)\n",
    "}"
   ]
  },
  {
   "cell_type": "code",
   "execution_count": 114,
   "metadata": {},
   "outputs": [],
   "source": [
    "plot.correlations <- function(df){\n",
    "    plot.df <- pivot_longer(data = subset(df, select = -c(CC1_CC2)), cols=c(CC_PP,CC_CP,CP_PP), names_to = 'Comparison')\n",
    "    plot <- ggplot(plot.df, aes(x=Comparison, y = value, colour = label.combo), size = 0.7) +\n",
    "        geom_boxplot() +\n",
    "        guides(colour=guide_legend(title=\"Stimulus\\nSize\")) +\n",
    "        geom_point(position=position_dodge(width=0.75)) +\n",
    "        ylim(-0.5, 1) + ylab(\"Correlation\") +\n",
    "        theme_bw(base_size = 14) +\n",
    "        guides(color=guide_legend(reverse=TRUE),fill=FALSE) + theme(legend.title=element_blank()) +\n",
    "        xlab(\"\") + scale_colour_manual(values=fix_mag_colours) +\n",
    "        geom_hline(yintercept=0, linetype='dashed', color='red') + # 0 correlation\n",
    "        #geom_hline(yintercept=mean(subset(df, label.mag != 'FIX')$CC1_CC2), linetype='dashed',color='blue') # mean CC1-CC2 correlation\n",
    "        theme(axis.text.x = element_text(angle=45, vjust = 0.5)) +\n",
    "        scale_x_discrete(labels=c('CC_PP' = 'CC,PP', 'CC_CP' = 'CC,CP', 'CP_PP' = 'CP,PP'))\n",
    "    ggsave('correlations.png',plot,height=2.8,width=4)\n",
    "    return(plot)\n",
    "}"
   ]
  },
  {
   "cell_type": "code",
   "execution_count": 115,
   "metadata": {},
   "outputs": [],
   "source": [
    "plot.correlations.reviewer_request <- function(df){\n",
    "    plot.df <- pivot_longer(data = df, cols=c(CC1_CC2,CC_PP,CC_CP,CP_PP), names_to = 'Comparison')\n",
    "    plot <- ggplot(plot.df, aes(x=Comparison, y = value, colour = label.combo), size = 0.7) +\n",
    "        geom_boxplot() +\n",
    "        guides(colour=guide_legend(title=\"Stimulus\\nSize\")) +\n",
    "        geom_point(position=position_dodge(width=0.75)) +\n",
    "        ylim(-0.5, 1) + ylab(\"Correlation\") +\n",
    "        theme_bw(base_size = 14) +\n",
    "        guides(color=guide_legend(reverse=TRUE),fill=FALSE) + theme(legend.title=element_blank()) +\n",
    "        xlab(\"\") + scale_colour_manual(values=fix_mag_colours) +\n",
    "        geom_hline(yintercept=0, linetype='dashed', color='red') + # 0 correlation\n",
    "        geom_hline(yintercept=mean(subset(df, label.mag != 'FIX')$CC1_CC2), linetype='dashed',color='blue') + # mean CC1-CC2 correlation\n",
    "        theme(axis.text.x = element_text(angle=45, vjust = 0.5)) +\n",
    "        scale_x_discrete(labels=c('CC_PP' = 'CC,PP', 'CC_CP' = 'CC,CP', 'CP_PP' = 'CP,PP','CC1_CC2' = 'CC1,CC2'))\n",
    "        ggsave('correlations_reviewer2.png',plot,height=2.8,width=4)\n",
    "    return(plot)\n",
    "}"
   ]
  },
  {
   "cell_type": "code",
   "execution_count": 116,
   "metadata": {},
   "outputs": [],
   "source": [
    "plot.correlations.mag.fisherz <- function(df){\n",
    "    df <- subset(df, label.mag != 'FIX')\n",
    "    plot.df <- pivot_longer(data = subset(df, select = -c(CC1_CC2)), cols=c(CC_PP,CC_CP,CP_PP), names_to = 'Comparison')\n",
    "    plot.df$value <- FisherZ(plot.df$value)\n",
    "    \n",
    "    plot <- ggplot(plot.df,aes(x=Comparison,y=value,fill=Comparison,colour=Comparison)) +\n",
    "        geom_flat_violin(position = position_nudge(x = 0.25, y = 0),adjust=2,trime=FALSE) +\n",
    "        geom_point(position = position_jitter(width=.15,height=0),size=1) +\n",
    "        geom_boxplot(aes(x=as.numeric(as.factor(Comparison)) + 0.25, y = value),alpha = 0.3, outlier.shape=NA, width = .1, colour = \"BLACK\") +\n",
    "        ylab('FisherZ-Transformed\\nCorrelation') + xlab('')+coord_flip()+theme_cowplot()+\n",
    "        guides(color=guide_legend(reverse=TRUE),fill=FALSE) + \n",
    "        theme(axis.text.y=element_blank(),axis.ticks.y=element_blank(),axis.line.y=element_blank(),legend.title=element_blank()) +\n",
    "        scale_fill_manual(values=correlation_colours) + scale_colour_manual(values=correlation_colours,labels=c('CC,CP','CC,PP','CP,PP')) + \n",
    "        geom_hline(yintercept=FisherZ(0), linetype='dashed') + ylim(-1.5,2.5)# +\n",
    "    \n",
    "        ggsave('correlations_mag_fisherz.png',plot,height=2.8,width=4)\n",
    "    return(plot)\n",
    "}"
   ]
  },
  {
   "cell_type": "markdown",
   "metadata": {},
   "source": [
    "#### Do the analysis"
   ]
  },
  {
   "cell_type": "code",
   "execution_count": 119,
   "metadata": {},
   "outputs": [],
   "source": [
    "correlations <- correlation_obtainer(cleandf)\n",
    "correlations <- label(correlations)"
   ]
  },
  {
   "cell_type": "code",
   "execution_count": 122,
   "metadata": {},
   "outputs": [
    {
     "data": {
      "text/html": [
       "<table class=\"dataframe\">\n",
       "<caption>A data.frame: 4 × 10</caption>\n",
       "<thead>\n",
       "\t<tr><th></th><th scope=col>subject</th><th scope=col>CC1_CC2</th><th scope=col>CC_PP</th><th scope=col>CC_CP</th><th scope=col>CP_PP</th><th scope=col>StimSize</th><th scope=col>Magnification</th><th scope=col>label.mag</th><th scope=col>label.stim</th><th scope=col>label.combo</th></tr>\n",
       "\t<tr><th></th><th scope=col>&lt;chr&gt;</th><th scope=col>&lt;dbl&gt;</th><th scope=col>&lt;dbl&gt;</th><th scope=col>&lt;dbl&gt;</th><th scope=col>&lt;dbl&gt;</th><th scope=col>&lt;dbl&gt;</th><th scope=col>&lt;int&gt;</th><th scope=col>&lt;chr&gt;</th><th scope=col>&lt;chr&gt;</th><th scope=col>&lt;chr&gt;</th></tr>\n",
       "</thead>\n",
       "<tbody>\n",
       "\t<tr><th scope=row>1</th><td>T1</td><td>-0.08462184</td><td>-0.18531360</td><td> 0.09209784</td><td>-0.13763564</td><td>0.05</td><td> 1</td><td>FIX</td><td>SMALL</td><td>FIX SMALL</td></tr>\n",
       "\t<tr><th scope=row>2</th><td>T1</td><td>-0.08462184</td><td> 0.07008134</td><td> 0.14011492</td><td>-0.08490485</td><td>0.05</td><td>27</td><td>MAG</td><td>SMALL</td><td>MAG SMALL</td></tr>\n",
       "\t<tr><th scope=row>3</th><td>T1</td><td>-0.08462184</td><td>-0.06532078</td><td>-0.07198939</td><td>-0.23826225</td><td>1.00</td><td> 1</td><td>FIX</td><td>BIG  </td><td>FIX BIG  </td></tr>\n",
       "\t<tr><th scope=row>4</th><td>T1</td><td>-0.08462184</td><td>-0.03085458</td><td>-0.02186064</td><td>-0.01963539</td><td>1.00</td><td>27</td><td>MAG</td><td>BIG  </td><td>MAG BIG  </td></tr>\n",
       "</tbody>\n",
       "</table>\n"
      ],
      "text/latex": [
       "A data.frame: 4 × 10\n",
       "\\begin{tabular}{r|llllllllll}\n",
       "  & subject & CC1\\_CC2 & CC\\_PP & CC\\_CP & CP\\_PP & StimSize & Magnification & label.mag & label.stim & label.combo\\\\\n",
       "  & <chr> & <dbl> & <dbl> & <dbl> & <dbl> & <dbl> & <int> & <chr> & <chr> & <chr>\\\\\n",
       "\\hline\n",
       "\t1 & T1 & -0.08462184 & -0.18531360 &  0.09209784 & -0.13763564 & 0.05 &  1 & FIX & SMALL & FIX SMALL\\\\\n",
       "\t2 & T1 & -0.08462184 &  0.07008134 &  0.14011492 & -0.08490485 & 0.05 & 27 & MAG & SMALL & MAG SMALL\\\\\n",
       "\t3 & T1 & -0.08462184 & -0.06532078 & -0.07198939 & -0.23826225 & 1.00 &  1 & FIX & BIG   & FIX BIG  \\\\\n",
       "\t4 & T1 & -0.08462184 & -0.03085458 & -0.02186064 & -0.01963539 & 1.00 & 27 & MAG & BIG   & MAG BIG  \\\\\n",
       "\\end{tabular}\n"
      ],
      "text/markdown": [
       "\n",
       "A data.frame: 4 × 10\n",
       "\n",
       "| <!--/--> | subject &lt;chr&gt; | CC1_CC2 &lt;dbl&gt; | CC_PP &lt;dbl&gt; | CC_CP &lt;dbl&gt; | CP_PP &lt;dbl&gt; | StimSize &lt;dbl&gt; | Magnification &lt;int&gt; | label.mag &lt;chr&gt; | label.stim &lt;chr&gt; | label.combo &lt;chr&gt; |\n",
       "|---|---|---|---|---|---|---|---|---|---|---|\n",
       "| 1 | T1 | -0.08462184 | -0.18531360 |  0.09209784 | -0.13763564 | 0.05 |  1 | FIX | SMALL | FIX SMALL |\n",
       "| 2 | T1 | -0.08462184 |  0.07008134 |  0.14011492 | -0.08490485 | 0.05 | 27 | MAG | SMALL | MAG SMALL |\n",
       "| 3 | T1 | -0.08462184 | -0.06532078 | -0.07198939 | -0.23826225 | 1.00 |  1 | FIX | BIG   | FIX BIG   |\n",
       "| 4 | T1 | -0.08462184 | -0.03085458 | -0.02186064 | -0.01963539 | 1.00 | 27 | MAG | BIG   | MAG BIG   |\n",
       "\n"
      ],
      "text/plain": [
       "  subject CC1_CC2     CC_PP       CC_CP       CP_PP       StimSize\n",
       "1 T1      -0.08462184 -0.18531360  0.09209784 -0.13763564 0.05    \n",
       "2 T1      -0.08462184  0.07008134  0.14011492 -0.08490485 0.05    \n",
       "3 T1      -0.08462184 -0.06532078 -0.07198939 -0.23826225 1.00    \n",
       "4 T1      -0.08462184 -0.03085458 -0.02186064 -0.01963539 1.00    \n",
       "  Magnification label.mag label.stim label.combo\n",
       "1  1            FIX       SMALL      FIX SMALL  \n",
       "2 27            MAG       SMALL      MAG SMALL  \n",
       "3  1            FIX       BIG        FIX BIG    \n",
       "4 27            MAG       BIG        MAG BIG    "
      ]
     },
     "metadata": {},
     "output_type": "display_data"
    },
    {
     "data": {
      "text/html": [
       "-0.0846218428212444"
      ],
      "text/latex": [
       "-0.0846218428212444"
      ],
      "text/markdown": [
       "-0.0846218428212444"
      ],
      "text/plain": [
       "[1] -0.08462184"
      ]
     },
     "metadata": {},
     "output_type": "display_data"
    },
    {
     "data": {
      "text/html": [
       "0.0196133801573745"
      ],
      "text/latex": [
       "0.0196133801573745"
      ],
      "text/markdown": [
       "0.0196133801573745"
      ],
      "text/plain": [
       "[1] 0.01961338"
      ]
     },
     "metadata": {},
     "output_type": "display_data"
    }
   ],
   "source": [
    "head(correlations)\n",
    "mean(subset(correlations, label.mag != 'FIX')$CC1_CC2)\n",
    "mean(subset(correlations, label.mag != 'FIX')$CC_PP)"
   ]
  },
  {
   "cell_type": "code",
   "execution_count": 124,
   "metadata": {},
   "outputs": [
    {
     "data": {
      "image/png": "[encoded data removed]",
      "text/plain": [
       "plot without title"
      ]
     },
     "metadata": {
      "image/png": {
       "height": 420,
       "width": 420
      }
     },
     "output_type": "display_data"
    }
   ],
   "source": [
    "plot.correlations(correlations)\n",
    "#plot.correlations.reviewer_request(correlations)"
   ]
  },
  {
   "cell_type": "markdown",
   "metadata": {},
   "source": [
    "#### Do the analysis"
   ]
  },
  {
   "cell_type": "code",
   "execution_count": 209,
   "metadata": {},
   "outputs": [],
   "source": [
    "h.one.a <- ttestBF(x = FisherZ(correlations$CC_CP),\n",
    "        mu = FisherZ(0)\n",
    "       )"
   ]
  },
  {
   "cell_type": "code",
   "execution_count": 210,
   "metadata": {},
   "outputs": [],
   "source": [
    "h.one.b <- ttestBF(x = FisherZ(correlations$CC_PP),\n",
    "        mu = FisherZ(0)\n",
    "       )"
   ]
  },
  {
   "cell_type": "code",
   "execution_count": 211,
   "metadata": {},
   "outputs": [],
   "source": [
    "h.one.c <- ttestBF(x = FisherZ(correlations$CP_PP),\n",
    "        mu = FisherZ(0)\n",
    "       )"
   ]
  },
  {
   "cell_type": "markdown",
   "metadata": {},
   "source": [
    "### Visualisation of Hypothesis 1 Data"
   ]
  },
  {
   "cell_type": "markdown",
   "metadata": {},
   "source": [
    "#### Useful functions"
   ]
  },
  {
   "cell_type": "code",
   "execution_count": 140,
   "metadata": {},
   "outputs": [],
   "source": [
    "# function to perform boundary offsets for beta-distributed data\n",
    "# suggested by http://doi.apa.org/getdoi.cfm?doi=10.1037/1082-989X.11.1.54\n",
    "offset.beta <- function(vector, max_val, min_val){\n",
    "    vector <- (vector-min_val)/(2*max_val) # for normalised trace difference, convert from range [-7,7] to [0,1]\n",
    "    offset <- (vector * (length(vector)-1) + 0.5) / length(vector) # perform the correction\n",
    "    return(offset)\n",
    "}\n",
    "\n",
    "reverse.offset.beta <- function(vector, max_val, min_val){\n",
    "    offset.reverse <- 2*vector*max_val+min_val\n",
    "    return(offset.reverse)\n",
    "}\n",
    "\n"
   ]
  },
  {
   "cell_type": "code",
   "execution_count": 141,
   "metadata": {},
   "outputs": [],
   "source": [
    "# plot some illustrative data\n",
    "fig5b.trace <- function(df,save=TRUE){\n",
    "    \n",
    "    plot.df <- pivot_longer(data = df, cols = c(CC,CP,PP), names_to = 'Comparison')\n",
    "    plot <- ggplot(plot.df,aes(x=Comparison,y=value,colour=Comparison)) +\n",
    "        geom_boxplot() +\n",
    "        guides(colour=guide_legend(title=\"Stimulus\\nSize\")) +\n",
    "        geom_point(position=position_dodge(width=0.75)) +\n",
    "        ylim(0,7) +\n",
    "        theme_bw(base_size = 14) +\n",
    "        guides(color=guide_legend(reverse=TRUE),fill=FALSE) + theme(legend.title=element_blank()) +\n",
    "        xlab(\"\") +\n",
    "        scale_y_continuous(name='Mean Identical\\n(Normalised Trace)',\n",
    "                         breaks=c(-1,0,1,2,3,4,5,6,7),\n",
    "                         labels=c(-1,0,1,2,3,4,5,6,7),\n",
    "                         limits=c(-1,7)) \n",
    "        #scale_colour_brewer(palette='Dark2')\n",
    "        #scale_colour_manual(values=fix_mag_colours)\n",
    "    \n",
    "    \n",
    "    if(save){\n",
    "        ggsave('fig5b_trace.png',plot,height=2.8,width=4)\n",
    "    }\n",
    "    return(plot)\n",
    "}"
   ]
  },
  {
   "cell_type": "code",
   "execution_count": 142,
   "metadata": {},
   "outputs": [],
   "source": [
    "# plot some illustrative data\n",
    "fig5b.non.trace <- function(df,save=TRUE){\n",
    "    \n",
    "    plot.df <- pivot_longer(data = df, cols = c(CC,CP,PP), names_to = 'Comparison')\n",
    "    plot <- ggplot(plot.df,aes(x=Comparison,y=value,colour=Comparison)) +\n",
    "        geom_boxplot() +\n",
    "        guides(colour=guide_legend(title=\"Stimulus\\nSize\")) +\n",
    "        geom_point(position=position_dodge(width=0.75)) +\n",
    "        ylim(0,7) +\n",
    "        theme_bw(base_size = 14) +\n",
    "        guides(color=guide_legend(reverse=TRUE),fill=FALSE) + theme(legend.title=element_blank()) +\n",
    "        xlab(\"\") +\n",
    "        scale_y_continuous(name='Mean Non-Identical',\n",
    "                         breaks=c(-1,0,1,2,3,4,5,6,7),\n",
    "                         labels=c(-1,0,1,2,3,4,5,6,7),\n",
    "                         limits=c(-1,7)) \n",
    "        #scale_colour_brewer(palette='Dark2')\n",
    "        #scale_colour_manual(values=fix_mag_colours)\n",
    "    \n",
    "    \n",
    "    if(save){\n",
    "        ggsave('fig5b_non_trace.png',plot,height=2.8,width=4)\n",
    "    }\n",
    "    return(plot)\n",
    "}"
   ]
  },
  {
   "cell_type": "code",
   "execution_count": 143,
   "metadata": {},
   "outputs": [],
   "source": [
    "# plot the data\n",
    "fig5b <- function(df,save=TRUE){\n",
    "    \n",
    "    plot.df <- pivot_longer(data = df, cols = c(CC,CP,PP), names_to = 'Comparison')\n",
    "    #plot.df$StimSize <- as.character(plot.df$StimSize)\n",
    "    #plot.df$Magnification <- as.character(plot.df$Magnification)\n",
    "    median <- median(subset(plot.df,Comparison=='PP')$value) # for connecting to hypothesis 1b\n",
    "    \n",
    "    plot <- ggplot(plot.df,aes(x = Comparison, y = value, \n",
    "                         #color = Magnification, \n",
    "                         #fill = StimSize\n",
    "                         colour = label.combo\n",
    "                                ),\n",
    "                    size = 0.7) +\n",
    "        geom_boxplot() +\n",
    "        guides(colour=guide_legend(title=\"Stimulus\\nSize\")) +\n",
    "        #scale_colour_manual(values = c(\"red\",\"blue\")) + \n",
    "        #scale_fill_manual(values = c(\"#E67E22\",\"#1ABC9C\"))\n",
    "        geom_point(position=position_dodge(width=0.75)) +\n",
    "        #geom_hline(yintercept=3.5, linetype='dashed') +\n",
    "        #geom_hline(yintercept=median, linetype = 'dashed',color='blue') +\n",
    "        ylim(0,7) +\n",
    "        theme_bw(base_size = 14) +\n",
    "        guides(color=guide_legend(reverse=TRUE),fill=FALSE) + theme(legend.title=element_blank()) +\n",
    "        xlab(\"\") +\n",
    "        #ylab(\"Normalised Trace\") +\n",
    "        scale_y_continuous(name='Normalised Trace\\nDifference',\n",
    "                         breaks=c(-1,0,1,2,3,4,5,6,7),\n",
    "                         labels=c(-1,0,1,2,3,4,5,6,7),\n",
    "                         limits=c(-1,7)) +\n",
    "        #scale_colour_brewer(palette='Dark2')\n",
    "        scale_colour_manual(values=fix_mag_colours)\n",
    "    \n",
    "    \n",
    "    if(save){\n",
    "        ggsave('fig5b.png',plot,height=2.8,width=4)\n",
    "    }\n",
    "    return(plot)\n",
    "}"
   ]
  },
  {
   "cell_type": "code",
   "execution_count": 144,
   "metadata": {},
   "outputs": [],
   "source": [
    "fig5c <- function(df){\n",
    "    \n",
    "    plot.df <- pivot_longer(data = df, cols = c(CC,CP,PP), names_to = 'Comparison')\n",
    "    plot.df$value <- (plot.df$value)/max.DSR\n",
    "\n",
    "    plot <- ggplot(plot.df, aes(x = value, fill=Comparison)) + \n",
    "        geom_density(aes(x=value,y=..scaled../3),alpha=0.375) +\n",
    "        geom_histogram(aes(x=value,y=stat(count)/sum(count)*3), colour='black', binwidth=0.05,position=\"identity\",alpha=0.5) +\n",
    "        geom_vline(xintercept=0.5, linetype='dashed') +\n",
    "        xlab(\"Scaled Normalised Trace Difference\") +\n",
    "        ylab(\"Density\")\n",
    "        \n",
    "    ggsave('fig5c.png',plot,height=2.8,width=4)\n",
    "    return(plot)\n",
    "}"
   ]
  },
  {
   "cell_type": "code",
   "execution_count": 145,
   "metadata": {},
   "outputs": [],
   "source": [
    "fig5c.rainbow <- function(df){\n",
    "    \n",
    "    plot.df <- pivot_longer(data = df, cols = c(CC,CP,PP), names_to = 'Comparison')\n",
    "    plot.df$value <- (plot.df$value)/max.DSR\n",
    "    \n",
    "    plot <- ggplot(plot.df,aes(x=Comparison,y=value,fill=Comparison,colour=Comparison)) +\n",
    "            geom_flat_violin(position = position_nudge(x = 0.25, y = 0),adjust=2,trime=FALSE) +\n",
    "            geom_point(position = position_jitter(width=.15,height=0),size=1) +\n",
    "            geom_boxplot(aes(x=as.numeric(as.factor(Comparison)) + 0.25, y = value),alpha = 0.3, outlier.shape=NA, width = .1, colour = \"BLACK\") +\n",
    "            ylab('Scaled Normalised Trace') + xlab('')+coord_flip()+theme_cowplot()+guides(fill=FALSE) +\n",
    "            theme(axis.text.y=element_blank(),axis.ticks.y=element_blank(),legend.title=element_blank()) +\n",
    "            geom_hline(yintercept=0.5, linetype='dashed') + geom_hline(yintercept=1.05)\n",
    "    \n",
    "    ggsave('fig5c_rainbow.png',plot,height=2.8,width=4)\n",
    "    return(plot)\n",
    "}"
   ]
  },
  {
   "cell_type": "code",
   "execution_count": 146,
   "metadata": {},
   "outputs": [],
   "source": [
    "fig5d.rainbow <- function(df){\n",
    "    \n",
    "    plot.df <- pivot_longer(data = df, cols = c(CC,CP,PP), names_to = 'Comparison')\n",
    "    plot.df$value <- logit(offset.beta(plot.df$value,\n",
    "                                       max.DSR,\n",
    "                                       -max.DSR))\n",
    "    \n",
    "    #pal <- c('#E67E22','#2ECC71','#B0B901')\n",
    "    \n",
    "    plot <- ggplot(plot.df,aes(x=Comparison,y=value,fill=Comparison,colour=Comparison)) +\n",
    "            geom_flat_violin(position = position_nudge(x = 0.25, y = 0),adjust=2,trime=FALSE) +\n",
    "            geom_point(position = position_jitter(width=.15,height=0),size=1) +\n",
    "            geom_boxplot(aes(x=as.numeric(as.factor(Comparison)) + 0.25, y = value),alpha = 0.3, outlier.shape=NA, width = .1, colour = \"BLACK\") +\n",
    "            ylab('Logistic-Transformed\\nNormalised Trace Difference') + xlab('')+coord_flip()+theme_cowplot()+\n",
    "            guides(color=guide_legend(reverse=TRUE),fill=FALSE) +\n",
    "            theme(axis.text.y=element_blank(),axis.ticks.y=element_blank(),axis.line.y=element_blank(),legend.title=element_blank()) +\n",
    "            geom_hline(yintercept=logit(0.5), linetype='dashed') + ylim(-2.5,2.5)# +\n",
    "            #scale_fill_manual(values=pal) + scale_colour_manual(values=pal)\n",
    "    \n",
    "    ggsave('fig5d_rainbow.png',plot,height=2.8,width=4)\n",
    "    return(plot)\n",
    "}"
   ]
  },
  {
   "cell_type": "code",
   "execution_count": 147,
   "metadata": {},
   "outputs": [],
   "source": [
    "fig5f.PP.rainbow <- function(df){\n",
    "    plot.df <- pivot_longer(data = df, cols = c(CC,CP,PP), names_to = 'Comparison')\n",
    "    plot.df <- subset(plot.df, Comparison == 'PP') # only keeping PP data\n",
    "    plot.df$value <- logit(offset.beta(plot.df$value,\n",
    "                                       max.DSR,\n",
    "                                       -max.DSR))\n",
    "        \n",
    "    plot <- ggplot(plot.df,aes(x=label.combo,y=value,fill=label.combo,colour=label.combo)) +\n",
    "            geom_flat_violin(position = position_nudge(x = 0.25, y = 0),adjust=2,trime=FALSE) +\n",
    "            geom_point(position = position_jitter(width=.15,height=0),size=1) +\n",
    "            geom_boxplot(aes(x=as.numeric(as.factor(label.combo)) + 0.25, y = value),alpha = 0.3, outlier.shape=NA, width = .1, colour = \"BLACK\") +\n",
    "            xlab('')+coord_flip()+theme_cowplot()+\n",
    "            guides(color=guide_legend(reverse=TRUE),fill=FALSE) +\n",
    "            geom_hline(yintercept=logit(0.5), linetype='dashed') +\n",
    "            ylab(\"Logistic-Transformed\\nNormalised Trace Difference\") + \n",
    "            theme(axis.text.y=element_blank(),axis.ticks.y=element_blank(),axis.line.y=element_blank(),legend.title=element_blank()) +\n",
    "            ylim(-2.5,2.5)  +\n",
    "            #scale_fill_brewer(palette='Dark2') + scale_colour_brewer(palette='Dark2')\n",
    "            scale_fill_manual(values=fix_mag_colours) + scale_colour_manual(values=fix_mag_colours)\n",
    "    \n",
    "    ggsave('fig5f_rainbow.png',plot,height=2.8,width=4)\n",
    "    return(plot)\n",
    "}"
   ]
  },
  {
   "cell_type": "code",
   "execution_count": 148,
   "metadata": {},
   "outputs": [],
   "source": [
    "fig5f.CP.rainbow <- function(df){\n",
    "    plot.df <- pivot_longer(data = df, cols = c(CC,CP,PP), names_to = 'Comparison')\n",
    "    plot.df <- subset(plot.df, Comparison == 'CP') # only keeping PP data\n",
    "    plot.df$value <- logit(offset.beta(plot.df$value,max.DSR))\n",
    "        \n",
    "    plot <- ggplot(plot.df,aes(x=label.combo,y=value,fill=label.combo,colour=label.combo)) +\n",
    "            geom_flat_violin(position = position_nudge(x = 0.25, y = 0),adjust=2,trime=FALSE) +\n",
    "            geom_point(position = position_jitter(width=.15,height=0),size=1) +\n",
    "            geom_boxplot(aes(x=as.numeric(as.factor(label.combo)) + 0.25, y = value),alpha = 0.3, outlier.shape=NA, width = .1, colour = \"BLACK\") +\n",
    "            xlab('')+coord_flip()+theme_cowplot()+guides(fill=FALSE) +\n",
    "            geom_hline(yintercept=logit(0.5), linetype='dashed') +\n",
    "            ylab(\"Logistic-Transformed\\nNormalised Trace\") + \n",
    "            theme(axis.text.y=element_blank(),axis.ticks.y=element_blank(),axis.line.y=element_blank(),legend.title=element_blank()) +\n",
    "            ylim(-7.5,7.5)  +\n",
    "            scale_fill_brewer(palette='Dark2') + scale_colour_brewer(palette='Dark2')\n",
    "    \n",
    "    ggsave('fig5f_rainbow-CP.png',plot,height=2.8,width=4)\n",
    "    return(plot)\n",
    "}"
   ]
  },
  {
   "cell_type": "markdown",
   "metadata": {},
   "source": [
    "#### Do the visualisations"
   ]
  },
  {
   "cell_type": "code",
   "execution_count": 151,
   "metadata": {
    "tags": []
   },
   "outputs": [],
   "source": [
    "# obtain the data\n",
    "trace.df <- trace_obtainer(cleandf, type='difference')\n"
   ]
  },
  {
   "cell_type": "code",
   "execution_count": 152,
   "metadata": {},
   "outputs": [],
   "source": [
    "# label the data\n",
    "trace.df <- label(trace.df)"
   ]
  },
  {
   "cell_type": "code",
   "execution_count": 153,
   "metadata": {},
   "outputs": [],
   "source": [
    "# obtain the relevant data\n",
    "trace.df.mag <- subset(trace.df, Magnification != 1)\n",
    "#head(trace.df)"
   ]
  },
  {
   "cell_type": "code",
   "execution_count": 155,
   "metadata": {},
   "outputs": [],
   "source": [
    "# grab some other peripherally magnified data for illustrative purposes\n",
    "#identical <- trace_obtainer(subset(cleandf, peripheral_scale != 1), type='trace')\n",
    "#non.identical <- trace_obtainer(subset(cleandf, peripheral_scale != 1), type='non-trace')"
   ]
  },
  {
   "cell_type": "code",
   "execution_count": 156,
   "metadata": {},
   "outputs": [],
   "source": [
    "#fig5b.trace(identical)\n",
    "#fig5b.non.trace(non.identical)"
   ]
  },
  {
   "cell_type": "code",
   "execution_count": 158,
   "metadata": {},
   "outputs": [],
   "source": [
    "# plot the full data data\n",
    "#fig5b(trace.df)"
   ]
  },
  {
   "cell_type": "code",
   "execution_count": 106,
   "metadata": {},
   "outputs": [],
   "source": [
    "#fig5c(trace.df.mag)"
   ]
  },
  {
   "cell_type": "code",
   "execution_count": 107,
   "metadata": {},
   "outputs": [],
   "source": [
    "#fig5c.rainbow(trace.df.mag)"
   ]
  },
  {
   "cell_type": "code",
   "execution_count": 108,
   "metadata": {},
   "outputs": [],
   "source": [
    "#fig5d(trace.df.mag)"
   ]
  },
  {
   "cell_type": "code",
   "execution_count": 159,
   "metadata": {},
   "outputs": [],
   "source": [
    "#fig5d.rainbow(trace.df.mag)"
   ]
  },
  {
   "cell_type": "code",
   "execution_count": 89,
   "metadata": {},
   "outputs": [],
   "source": [
    "#fig5e(trace.df)"
   ]
  },
  {
   "cell_type": "code",
   "execution_count": 90,
   "metadata": {},
   "outputs": [],
   "source": [
    "#fig5e.rainbow(trace.df)"
   ]
  },
  {
   "cell_type": "code",
   "execution_count": 91,
   "metadata": {},
   "outputs": [],
   "source": [
    "#fig5f(trace.df)"
   ]
  },
  {
   "cell_type": "code",
   "execution_count": 160,
   "metadata": {},
   "outputs": [],
   "source": [
    "#fig5f.CP.rainbow(trace.df)\n",
    "#fig5f.PP.rainbow(trace.df)"
   ]
  },
  {
   "cell_type": "markdown",
   "metadata": {},
   "source": [
    "#### 1a) Do subjects respond that identical stimuli have zero dissimilarity when presented at each of CC, CP and PP?"
   ]
  },
  {
   "cell_type": "code",
   "execution_count": 162,
   "metadata": {},
   "outputs": [],
   "source": [
    "# Determine thresholds\n",
    "\n",
    "# Mean dissimplarity value across the population, excluding identical-stimuli comparisons\n",
    "#threshold_df <- subset(cleandf, (Circle_1 == l2e('Central') & (Circle_2 == l2e('Central') ) & (Color_1 != Color_2)) )\n",
    "#mean(threshold_df$similarity)\n",
    "\n"
   ]
  },
  {
   "cell_type": "code",
   "execution_count": 238,
   "metadata": {},
   "outputs": [],
   "source": [
    "# Function to test hypothesis 1a\n",
    "h1a <- function(data,summary=FALSE){\n",
    "    data <- offset.beta(data,max.DSR,-max.DSR)\n",
    "    df <- as.data.frame(data)\n",
    "    \n",
    "    model.test <- stan_betareg(\n",
    "                formula = data ~ 1,\n",
    "                data = df,\n",
    "                iter=10000, # helps to stabilise the estimates\n",
    "                refresh=0\n",
    "                )\n",
    "    \n",
    "    if(summary){\n",
    "        print(summary(model.test))\n",
    "    }else{\n",
    "           print(model.test)\n",
    "    }\n",
    "    HPD <- posterior_interval(model.test, prob = 0.95)\n",
    "    print(HPD)\n",
    "    BF <- bayesfactor_parameters(model.test)\n",
    "    print(BF)\n",
    "    print(plot(BF, show_intercept=TRUE))\n",
    "    \n",
    "    # Converted back to normalised trace\n",
    "    print(\"\")\n",
    "    print(\"Converted back to Normalised Trace\")\n",
    "    intercept <- model.test[[1]][1]\n",
    "    print(paste('Intercept:',round(reverse.offset.beta(invlogit(intercept),max.DSR,-max.DSR),2)))\n",
    "    print(paste('HPD:',round(reverse.offset.beta(invlogit(HPD[1,]),max.DSR,-max.DSR),2)))\n",
    "    return(BF)\n",
    "}"
   ]
  },
  {
   "cell_type": "code",
   "execution_count": 239,
   "metadata": {},
   "outputs": [
    {
     "name": "stdout",
     "output_type": "stream",
     "text": [
      "\n",
      "Model Info:\n",
      " function:     stan_betareg\n",
      " family:       beta [logit, link.phi=identity]\n",
      " formula:      data ~ 1\n",
      " algorithm:    sampling\n",
      " sample:       20000 (posterior sample size)\n",
      " priors:       see help('prior_summary')\n",
      " observations: 2\n",
      "\n",
      "Estimates:\n",
      "              mean   sd   10%   50%   90%\n",
      "(Intercept)  0.1    0.9 -1.0   0.1   1.1 \n",
      "(phi)        2.1    1.3  0.7   1.8   3.8 \n",
      "\n",
      "Fit Diagnostics:\n",
      "           mean   sd   10%   50%   90%\n",
      "mean_PPD 0.5    0.3  0.1   0.5   0.9  \n",
      "\n",
      "The mean_ppd is the sample average posterior predictive distribution of the outcome variable (for details see help('summary.stanreg')).\n",
      "\n",
      "MCMC diagnostics\n",
      "              mcse Rhat n_eff\n",
      "(Intercept)   0.0  1.0  12244\n",
      "(phi)         0.0  1.0  12481\n",
      "mean_PPD      0.0  1.0  16809\n",
      "log-posterior 0.0  1.0   6357\n",
      "\n",
      "For each parameter, mcse is Monte Carlo standard error, n_eff is a crude measure of effective sample size, and Rhat is the potential scale reduction factor on split chains (at convergence Rhat=1).\n",
      "                  2.5%    97.5%\n",
      "(Intercept) -1.6559198 1.773467\n",
      "(phi)        0.3684456 5.383554\n"
     ]
    },
    {
     "name": "stderr",
     "output_type": "stream",
     "text": [
      "Sampling priors, please wait...\n",
      "\n"
     ]
    },
    {
     "name": "stdout",
     "output_type": "stream",
     "text": [
      "\u001b[34mBayes Factor (Savage-Dickey density ratio)\u001b[39m \u001b[34m\u001b[39m\n",
      "\n",
      "Parameter   |    BF\n",
      "-------------------\n",
      "(Intercept) | 0.308\n",
      "\n",
      "* Evidence Against The Null: \u001b[36m0\u001b[39m[1] \"\"\n",
      "[1] \"Converted back to Normalised Trace\"\n",
      "[1] \"Intercept: 0.25\"\n",
      "[1] \"HPD: -4.76\" \"HPD: 4.97\" \n"
     ]
    },
    {
     "data": {
      "image/png": "[encoded data removed]",
      "text/plain": [
       "plot without title"
      ]
     },
     "metadata": {
      "image/png": {
       "height": 420,
       "width": 420
      }
     },
     "output_type": "display_data"
    }
   ],
   "source": [
    "# test CC\n",
    "h1a.cc <- h1a(trace.df.mag$CC,summary=TRUE)"
   ]
  },
  {
   "cell_type": "code",
   "execution_count": 244,
   "metadata": {},
   "outputs": [
    {
     "name": "stdout",
     "output_type": "stream",
     "text": [
      "stan_betareg\n",
      " family:       beta [logit, link.phi=identity]\n",
      " formula:      data ~ 1\n",
      " observations: 2\n",
      "------\n",
      "            Median MAD_SD\n",
      "(Intercept) -0.1    0.8  \n",
      "(phi)        1.8    1.1  \n",
      "\n",
      "------\n",
      "* For help interpreting the printed output see ?print.stanreg\n",
      "* For info on the priors used see ?prior_summary.stanreg\n",
      "                  2.5%    97.5%\n",
      "(Intercept) -1.7819434 1.690757\n",
      "(phi)        0.3662727 5.441776\n"
     ]
    },
    {
     "name": "stderr",
     "output_type": "stream",
     "text": [
      "Sampling priors, please wait...\n",
      "\n"
     ]
    },
    {
     "name": "stdout",
     "output_type": "stream",
     "text": [
      "\u001b[34mBayes Factor (Savage-Dickey density ratio)\u001b[39m \u001b[34m\u001b[39m\n",
      "\n",
      "Parameter   |    BF\n",
      "-------------------\n",
      "(Intercept) | 0.329\n",
      "\n",
      "* Evidence Against The Null: \u001b[36m0\u001b[39m[1] \"\"\n",
      "[1] \"Converted back to Normalised Trace\"\n",
      "[1] \"Intercept: -0.18\"\n",
      "[1] \"HPD: -4.98\" \"HPD: 4.82\" \n"
     ]
    },
    {
     "data": {
      "image/png": "[encoded data removed]",
      "text/plain": [
       "plot without title"
      ]
     },
     "metadata": {
      "image/png": {
       "height": 420,
       "width": 420
      }
     },
     "output_type": "display_data"
    }
   ],
   "source": [
    "# test CP\n",
    "h1a.cp <- h1a(trace.df.mag$CP)\n"
   ]
  },
  {
   "cell_type": "code",
   "execution_count": 245,
   "metadata": {},
   "outputs": [
    {
     "name": "stdout",
     "output_type": "stream",
     "text": [
      "stan_betareg\n",
      " family:       beta [logit, link.phi=identity]\n",
      " formula:      data ~ 1\n",
      " observations: 2\n",
      "------\n",
      "            Median MAD_SD\n",
      "(Intercept) 0.0    0.8   \n",
      "(phi)       1.8    1.1   \n",
      "\n",
      "------\n",
      "* For help interpreting the printed output see ?print.stanreg\n",
      "* For info on the priors used see ?prior_summary.stanreg\n",
      "                  2.5%    97.5%\n",
      "(Intercept) -1.6432243 1.784698\n",
      "(phi)        0.3743308 5.481502\n"
     ]
    },
    {
     "name": "stderr",
     "output_type": "stream",
     "text": [
      "Sampling priors, please wait...\n",
      "\n"
     ]
    },
    {
     "name": "stdout",
     "output_type": "stream",
     "text": [
      "\u001b[34mBayes Factor (Savage-Dickey density ratio)\u001b[39m \u001b[34m\u001b[39m\n",
      "\n",
      "Parameter   |    BF\n",
      "-------------------\n",
      "(Intercept) | 0.327\n",
      "\n",
      "* Evidence Against The Null: \u001b[36m0\u001b[39m[1] \"\"\n",
      "[1] \"Converted back to Normalised Trace\"\n",
      "[1] \"Intercept: 0.15\"\n",
      "[1] \"HPD: -4.73\" \"HPD: 4.99\" \n"
     ]
    },
    {
     "data": {
      "image/png": "[encoded data removed]",
      "text/plain": [
       "plot without title"
      ]
     },
     "metadata": {
      "image/png": {
       "height": 420,
       "width": 420
      }
     },
     "output_type": "display_data"
    }
   ],
   "source": [
    "# test PP\n",
    "h1a.pp <- h1a(trace.df.mag$PP)"
   ]
  },
  {
   "cell_type": "markdown",
   "metadata": {},
   "source": [
    "#### 1b) Are dissimilarity ratings for identical stimuli presented in the periphery affected by Peripheral magnification?"
   ]
  },
  {
   "cell_type": "markdown",
   "metadata": {},
   "source": [
    "On the basis of previous psychophysics work we suspect that small stimuli in the periphery may induce altered or unstable colour experiences compared to larger stimuli. We also suspect that appropriately 'cortically magnified' stimuli should provide stable similarity judgments regardless of size. Thus, we hypothesise that there will be a Size x Magnification interaction effect on dissimilarity ratings made in the PP condition.  \n",
    "  \n",
    "As we are taking the average over non-negative values with a heavy preponderance of zeros bounded on both sides, the data will be beta-distributed. Thus, we are fitting the data using a Bayesian beta regression."
   ]
  },
  {
   "cell_type": "code",
   "execution_count": 246,
   "metadata": {},
   "outputs": [],
   "source": [
    "# Bayesian version of the beta-regression, for sample analysis as well\n",
    "h1b <- function(data,mode,summary=FALSE){\n",
    "    \n",
    "    if(mode=='CP'){\n",
    "             # normalisation and boundary offset as suggested in Smithson and Verkuilen (2006)\n",
    "        data$CP <- offset.beta(data$CP,\n",
    "                               max.DSR,\n",
    "                              -max.DSR)\n",
    "\n",
    "        # bayesian stuff\n",
    "        model.test <- stan_betareg(formula = CP ~ StimSize + Magnification + StimSize:Magnification,\n",
    "                    data = data,\n",
    "                    iter=10000, # helps to stabilise the estimates\n",
    "                    refresh=0\n",
    "                    )\n",
    "    } else if(mode=='PP'){\n",
    "        # normalisation and boundary offset as suggested in Smithson and Verkuilen (2006)\n",
    "        data$PP <- offset.beta(data$PP,\n",
    "                               max.DSR,\n",
    "                              -max.DSR)\n",
    "\n",
    "        # bayesian stuff\n",
    "        model.test <- stan_betareg(formula = PP ~ StimSize + Magnification + StimSize:Magnification,\n",
    "                    data = data,\n",
    "                    iter=10000, # helps to stabilise the estimates\n",
    "                    refresh=0\n",
    "                    )\n",
    "    }\n",
    "   \n",
    "    \n",
    "    if(summary){\n",
    "        print(summary(model.test))\n",
    "    }else{\n",
    "           print(model.test)\n",
    "    }\n",
    "    HPD <- posterior_interval(model.test, prob = 0.95)\n",
    "    print(HPD)    \n",
    "    BF <- bayesfactor_parameters(model.test)\n",
    "    print(BF)\n",
    "    print(plot(BF, show_intercept=TRUE))\n",
    "    \n",
    "    # Converted back to normalised trace\n",
    "    print(\"\")\n",
    "    print(\"Converted back to Normalised Trace\")\n",
    "    interaction <- model.test[[1]][4]\n",
    "    print(paste('Interaction:',round(reverse.offset.beta(invlogit(interaction),max.DSR,-max.DSR),2)))\n",
    "    print(paste('HPD:',round(reverse.offset.beta(invlogit(HPD[1,]),max.DSR,-max.DSR),2)))\n",
    "    \n",
    "    return(BF)\n",
    "}"
   ]
  },
  {
   "cell_type": "code",
   "execution_count": 247,
   "metadata": {},
   "outputs": [
    {
     "name": "stdout",
     "output_type": "stream",
     "text": [
      "\n",
      "Model Info:\n",
      " function:     stan_betareg\n",
      " family:       beta [logit, link.phi=identity]\n",
      " formula:      CP ~ StimSize + Magnification + StimSize:Magnification\n",
      " algorithm:    sampling\n",
      " sample:       20000 (posterior sample size)\n",
      " priors:       see help('prior_summary')\n",
      " observations: 4\n",
      "\n",
      "Estimates:\n",
      "                         mean   sd   10%   50%   90%\n",
      "(Intercept)             0.0    1.1 -1.4   0.0   1.4 \n",
      "StimSize               -0.1    1.5 -2.0  -0.1   1.8 \n",
      "Magnification           0.0    0.1 -0.1   0.0   0.1 \n",
      "StimSize:Magnification  0.0    0.1 -0.1   0.0   0.1 \n",
      "(phi)                   2.5    1.3  1.1   2.3   4.3 \n",
      "\n",
      "Fit Diagnostics:\n",
      "           mean   sd   10%   50%   90%\n",
      "mean_PPD 0.5    0.2  0.3   0.5   0.7  \n",
      "\n",
      "The mean_ppd is the sample average posterior predictive distribution of the outcome variable (for details see help('summary.stanreg')).\n",
      "\n",
      "MCMC diagnostics\n",
      "                       mcse Rhat n_eff\n",
      "(Intercept)            0.0  1.0  15130\n",
      "StimSize               0.0  1.0  12591\n",
      "Magnification          0.0  1.0  12719\n",
      "StimSize:Magnification 0.0  1.0  11596\n",
      "(phi)                  0.0  1.0  13285\n",
      "mean_PPD               0.0  1.0  18128\n",
      "log-posterior          0.0  1.0   7050\n",
      "\n",
      "For each parameter, mcse is Monte Carlo standard error, n_eff is a crude measure of effective sample size, and Rhat is the potential scale reduction factor on split chains (at convergence Rhat=1).\n",
      "                             2.5%     97.5%\n",
      "(Intercept)            -2.3017264 2.2554716\n",
      "StimSize               -3.0443265 2.9305159\n",
      "Magnification          -0.1125023 0.1078190\n",
      "StimSize:Magnification -0.1544283 0.1657575\n",
      "(phi)                   0.6712016 5.8347155\n"
     ]
    },
    {
     "name": "stderr",
     "output_type": "stream",
     "text": [
      "Sampling priors, please wait...\n",
      "\n"
     ]
    },
    {
     "name": "stdout",
     "output_type": "stream",
     "text": [
      "\u001b[34mBayes Factor (Savage-Dickey density ratio)\u001b[39m \u001b[34m\u001b[39m\n",
      "\n",
      "Parameter              |    BF\n",
      "------------------------------\n",
      "(Intercept)            | 0.306\n",
      "StimSize               | 0.554\n",
      "Magnification          | 0.564\n",
      "StimSize:Magnification | 0.415\n",
      "\n",
      "* Evidence Against The Null: \u001b[36m0\u001b[39m[1] \"\"\n",
      "[1] \"Converted back to Normalised Trace\"\n",
      "[1] \"Interaction: 0.02\"\n",
      "[1] \"HPD: -5.73\" \"HPD: 5.67\" \n"
     ]
    },
    {
     "data": {
      "image/png": "[encoded data removed]",
      "text/plain": [
       "plot without title"
      ]
     },
     "metadata": {
      "image/png": {
       "height": 420,
       "width": 420
      }
     },
     "output_type": "display_data"
    }
   ],
   "source": [
    "# test all the CP data\n",
    "h1b.model <- h1b(trace.df, mode='CP',summary=TRUE)"
   ]
  },
  {
   "cell_type": "code",
   "execution_count": 170,
   "metadata": {},
   "outputs": [
    {
     "name": "stdout",
     "output_type": "stream",
     "text": [
      "\n",
      "Model Info:\n",
      " function:     stan_betareg\n",
      " family:       beta [logit, link.phi=identity]\n",
      " formula:      PP ~ StimSize + Magnification + StimSize:Magnification\n",
      " algorithm:    sampling\n",
      " sample:       20000 (posterior sample size)\n",
      " priors:       see help('prior_summary')\n",
      " observations: 4\n",
      "\n",
      "Estimates:\n",
      "                         mean   sd   10%   50%   90%\n",
      "(Intercept)             0.1    1.1 -1.3   0.1   1.5 \n",
      "StimSize               -0.1    1.5 -2.0  -0.1   1.8 \n",
      "Magnification           0.0    0.1 -0.1   0.0   0.1 \n",
      "StimSize:Magnification  0.0    0.1 -0.1   0.0   0.1 \n",
      "(phi)                   2.5    1.3  1.1   2.3   4.3 \n",
      "\n",
      "Fit Diagnostics:\n",
      "           mean   sd   10%   50%   90%\n",
      "mean_PPD 0.5    0.2  0.3   0.5   0.7  \n",
      "\n",
      "The mean_ppd is the sample average posterior predictive distribution of the outcome variable (for details see help('summary.stanreg')).\n",
      "\n",
      "MCMC diagnostics\n",
      "                       mcse Rhat n_eff\n",
      "(Intercept)            0.0  1.0  13803\n",
      "StimSize               0.0  1.0  11296\n",
      "Magnification          0.0  1.0  10661\n",
      "StimSize:Magnification 0.0  1.0   9933\n",
      "(phi)                  0.0  1.0  13215\n",
      "mean_PPD               0.0  1.0  18173\n",
      "log-posterior          0.0  1.0   7360\n",
      "\n",
      "For each parameter, mcse is Monte Carlo standard error, n_eff is a crude measure of effective sample size, and Rhat is the potential scale reduction factor on split chains (at convergence Rhat=1).\n",
      "                             2.5%     97.5%\n",
      "(Intercept)            -2.2204095 2.3715644\n",
      "StimSize               -3.0881001 2.9144789\n",
      "Magnification          -0.1094424 0.1102404\n",
      "StimSize:Magnification -0.1608941 0.1601620\n",
      "(phi)                   0.6987833 5.8182204\n"
     ]
    },
    {
     "name": "stderr",
     "output_type": "stream",
     "text": [
      "Sampling priors, please wait...\n",
      "\n"
     ]
    },
    {
     "name": "stdout",
     "output_type": "stream",
     "text": [
      "\u001b[34mBayes Factor (Savage-Dickey density ratio)\u001b[39m \u001b[34m\u001b[39m\n",
      "\n",
      "Parameter              |    BF\n",
      "------------------------------\n",
      "(Intercept)            | 0.307\n",
      "StimSize               | 0.535\n",
      "Magnification          | 0.563\n",
      "StimSize:Magnification | 0.408\n",
      "\n",
      "* Evidence Against The Null: \u001b[36m0\u001b[39m[1] \"\"\n",
      "[1] \"Converted back to Normalised Trace\"\n",
      "[1] \"Interaction: 0\"\n",
      "[1] \"HPD: -5.63\" \"HPD: 5.8\"  \n"
     ]
    },
    {
     "data": {
      "image/png": "[encoded data removed]",
      "text/plain": [
       "plot without title"
      ]
     },
     "metadata": {
      "image/png": {
       "height": 420,
       "width": 420
      }
     },
     "output_type": "display_data"
    }
   ],
   "source": [
    "# test all the PP data\n",
    "h1b.model <- h1b(trace.df, mode='PP',summary=TRUE)"
   ]
  },
  {
   "cell_type": "markdown",
   "metadata": {},
   "source": [
    "### Visualisation of Hypothesis 2 Data"
   ]
  },
  {
   "cell_type": "markdown",
   "metadata": {},
   "source": [
    "#### Useful functions"
   ]
  },
  {
   "cell_type": "code",
   "execution_count": 171,
   "metadata": {},
   "outputs": [],
   "source": [
    "# get the mean variance of colour comparisons for a subject\n",
    "var.color <- function(df,diagnose=FALSE,sym=sym,mode='raw',repeats=100,output='mean',scramble=FALSE){\n",
    "    \n",
    "    # first, turn the dataframe into the relevant matrices\n",
    "    fmatrix <- df2mat.full(df, l2e('Central'), l2e('Central'),sym=sym)\n",
    "    fpmatrix <- df2mat.full(df, l2e('Central'), l2e('Peripheral'),sym=sym)\n",
    "    pmatrix <- df2mat.full(df, l2e('Peripheral'), l2e('Peripheral'),sym=sym)\n",
    "    \n",
    "    # for comparison, option to shuffle CP & PP\n",
    "    if(scramble){\n",
    "        fpmatrix <- matrix(sample(fpmatrix),nrow=nrow(fpmatrix))\n",
    "        pmatrix <- matrix(sample(pmatrix),nrow=nrow(pmatrix))\n",
    "    }\n",
    "    \n",
    "    # calculate the variance for each colour\n",
    "    colour.vars <- vector()\n",
    "    # calculate differently based on whether data is symmeterised or not\n",
    "    if(sym){ # symmeterised\n",
    "        \n",
    "        \n",
    "        # turn the matrices into vectors\n",
    "        ff.v <- fmatrix[upper.tri(fmatrix,diag=TRUE)]\n",
    "        fp.v <- fpmatrix[upper.tri(fpmatrix,diag=TRUE)]\n",
    "        pp.v <- pmatrix[upper.tri(pmatrix,diag=TRUE)]\n",
    "        \n",
    "        for(i in 1:length(ff.v)){\n",
    "            colour.vars[i] <- var(c(ff.v[i],fp.v[i],pp.v[i]))\n",
    "        }\n",
    "    } else { # raw, unsymmeterised\n",
    "        i = 1\n",
    "        \n",
    "        # remove the main diagonal\n",
    "        diag(fmatrix) = NA\n",
    "        diag(fpmatrix) = NA\n",
    "        diag(pmatrix) = NA\n",
    "        \n",
    "        # collect the entries\n",
    "        ff.upper.v <- vector()\n",
    "        fp.upper.v <- vector()\n",
    "        pp.upper.v <- vector()\n",
    "        ff.lower.v <- vector()\n",
    "        fp.lower.v <- vector()\n",
    "        pp.lower.v <- vector()\n",
    "        for(row in 1:(nrow(fmatrix))){\n",
    "            for(col in 1:(ncol(fmatrix))){\n",
    "                if(row < col){ # I am aware this is wasteful, but it's easy\n",
    "                    ff.upper.v[i] <- fmatrix[row,col]\n",
    "                    fp.upper.v[i] <- fpmatrix[row,col]\n",
    "                    pp.upper.v[i] <- pmatrix[row,col]\n",
    "                    \n",
    "                    ff.lower.v[i] <- fmatrix[col,row]\n",
    "                    fp.lower.v[i] <- fpmatrix[col,row]\n",
    "                    pp.lower.v[i] <- pmatrix[col,row]\n",
    "                    \n",
    "                    i = i + 1\n",
    "                } \n",
    "            }\n",
    "        }\n",
    "        \n",
    "        # remove NA values\n",
    "        ff.upper.v <- na.omit(ff.upper.v)\n",
    "        fp.upper.v <- na.omit(fp.upper.v)\n",
    "        pp.upper.v <- na.omit(pp.upper.v)\n",
    "        ff.lower.v <- na.omit(ff.lower.v)\n",
    "        fp.lower.v <- na.omit(fp.lower.v)\n",
    "        pp.lower.v <- na.omit(pp.lower.v)\n",
    "        \n",
    "        if(diagnose){\n",
    "            print(\"upper\")\n",
    "            print(ff.upper.v)\n",
    "            print(length(ff.upper.v))\n",
    "            print(\"lower\")\n",
    "            print(ff.lower.v)\n",
    "            print(length(ff.lower.v))\n",
    "        }\n",
    "        \n",
    "        for(i in 1:length(ff.upper.v)){\n",
    "            vals <- c(ff.upper.v[i],ff.lower.v[i],\n",
    "                         fp.upper.v[i],fp.lower.v[i],\n",
    "                         pp.upper.v[i],pp.lower.v[i])\n",
    "            colour.vars[i] <- var(vals) # calculate variance of the colour pair judgments\n",
    "        }\n",
    "        \n",
    "    }\n",
    "    \n",
    "    \n",
    "    if(diagnose){\n",
    "        print(\"Variance values\")\n",
    "        print(colour.vars)\n",
    "    }\n",
    "    \n",
    "    \n",
    "    # get the mean variance\n",
    "    var.mean <- mean(colour.vars) # take the mean of all the colour pairs\n",
    "    \n",
    "    # if mode = scramble, calculate the difference between the observed variance and that if the\n",
    "    # colour-pair/judgment labels were scrambled\n",
    "    \n",
    "    # if no scrambling, just return mean variance\n",
    "    if(output=='distribution'){\n",
    "        # return the distribution of variance values for each subject\n",
    "        return(colour.vars)\n",
    "    }else if(output=='mean'){\n",
    "        return(var.mean)\n",
    "    }\n",
    "}"
   ]
  },
  {
   "cell_type": "code",
   "execution_count": 172,
   "metadata": {},
   "outputs": [],
   "source": [
    "# shuffled variance - real variance\n",
    "shuffle.vs.real <- function(df,n_scramble=5,sym=sym,mode=mode,output='mean'){\n",
    "    real <- var.color(df, sym=sym, output=output,mode=mode)\n",
    "    v <- vector()\n",
    "    for(i in 1:n_scramble){\n",
    "        v <- c(v, mean(var.color(df, sym=FALSE, output='distribution',mode='raw',scramble=TRUE)))\n",
    "    }\n",
    "    return(mean(v)-real)\n",
    "}"
   ]
  },
  {
   "cell_type": "code",
   "execution_count": 173,
   "metadata": {},
   "outputs": [],
   "source": [
    "# simple histogram plot of the variance for a subject\n",
    "var.hist.plot <- function(dat){\n",
    "    df <- as.data.frame(dat)\n",
    "    #print(df)\n",
    "    plot <- ggplot(df,aes(x=dat)) + geom_histogram()   + ylim(0,36) + #xlim(-1,10) +\n",
    "        geom_vline(xintercept=mean(dat),linetype='dashed',color='purple',size=2) +\n",
    "        #geom_vline(xintercept=0,linetype='dashed',color='red',size=2) +\n",
    "        #geom_vline(xintercept=rand.var.mu-mean(dat),linetype='dashed',color='blue',size=2)\n",
    "        theme(text=element_text(size=50)) + scale_x_continuous(breaks=seq(0,10,5), limits = c(-1,11))\n",
    "    return(plot)\n",
    "}\n",
    "\n",
    "#var.hist.plot(test.data)"
   ]
  },
  {
   "cell_type": "code",
   "execution_count": 186,
   "metadata": {},
   "outputs": [],
   "source": [
    "# get the data in the right format\n",
    "var.format <- function(df,n_shuffle=5,sym=FALSE,mode='raw'){\n",
    "    subjectlist <- sort(unique(df$subject)) # obtain a list of all the subjects\n",
    "    \n",
    "    if(sym){\n",
    "            print('Working on symmeterised (3) values')\n",
    "        } else {\n",
    "            print('Working on raw (6) values')\n",
    "        }\n",
    "    \n",
    "    # format for output\n",
    "    out.df <- data.frame(subject=character(),\n",
    "                        mean.var=double(),\n",
    "                        stim_size=double(),\n",
    "                        magnification=double())\n",
    "    # extract the data\n",
    "    magnification_list <- sort(unique(datadf$peripheral_scale))\n",
    "    size_list <- sort(unique(datadf$stimulus_size))\n",
    "    for(ID in subjectlist){\n",
    "        #print(ID) # testing\n",
    "        tempdf <- subset(df, subject == ID)\n",
    "        for (stimulus in size_list){\n",
    "            for (scale in magnification_list){\n",
    "                tempdf2 <- subset(tempdf, peripheral_scale == scale & stimulus_size == stimulus)\n",
    "                stim <- unique(tempdf2$stimulus_size)[1]\n",
    "                mag <- unique(tempdf2$peripheral_scale)[1]\n",
    "                val <- shuffle.vs.real(tempdf2,sym=sym,mode=mode) # collect the variance\n",
    "                row_df <- data.frame(ID, val, stim, mag)\n",
    "                names(row_df) <- c(\"subject\",'mean.var','StimSize','Magnification')\n",
    "                out.df <- rbind(out.df,row_df)\n",
    "            }\n",
    "        }\n",
    "    }\n",
    "    return(out.df)\n",
    "}"
   ]
  },
  {
   "cell_type": "code",
   "execution_count": 175,
   "metadata": {},
   "outputs": [],
   "source": [
    "# calculate the mean variance for each color for plotting purposes\n",
    "fig6bc <- function(df,name,tri=TRUE){\n",
    "    # convert the data\n",
    "    mats <- dissimgroup2matlist(df,sym=TRUE)\n",
    "    mats.var <- full2var.mats(mats)\n",
    "    mat <- group.mat.median(mats.var)\n",
    "    \n",
    "    # get rid of the lower half\n",
    "    if(tri){\n",
    "        mat[lower.tri(mat)] <- NA\n",
    "    }\n",
    "    \n",
    "    \n",
    "    data <- melt(mat)\n",
    "    colnames(data) <- c('color1.eccen1','color2.eccen2','Variance')\n",
    "    \n",
    "    plot <- ggplot(data, aes(x = color1.eccen1, y = color2.eccen2)) + \n",
    "                    geom_raster(aes(fill = Variance)) +\n",
    "                    scale_fill_gradientn(colours = c(\"blue\",\"yellow\"),\n",
    "                                    limits=c(0,6), na.value='white'\n",
    "                                    #breaks=c(0,1,2,3,4,5,6,7)\n",
    "                                        ) +\n",
    "                    # colours\n",
    "                   theme(axis.text.x = element_text(colour=colors,angle=90),\n",
    "                          axis.text.y = element_text(colour=colors),\n",
    "                          axis.title.x = element_blank(), axis.title.y = element_blank(),\n",
    "                          plot.title = element_text(hjust = 0.5)) +\n",
    "                    scale_colour_identity()\n",
    "    \n",
    "    ggsave(name,plot,height=2.8,width=3.75)\n",
    "    return(plot)\n",
    "}"
   ]
  },
  {
   "cell_type": "code",
   "execution_count": 176,
   "metadata": {},
   "outputs": [],
   "source": [
    "fig6d <- function(plot.df,rand.var.mu,histogram=FALSE,save=TRUE){\n",
    "    \n",
    "    plot.df$StimSize <- as.character(plot.df$StimSize)\n",
    "    plot.df$Magnification <- as.character(plot.df$Magnification)\n",
    "    \n",
    "    plot <- ggplot(plot.df) +\n",
    "        geom_boxplot(aes(x = Magnification, y = mean.var, \n",
    "                         color = label.combo)) +\n",
    "        geom_point(aes(x = Magnification, y = mean.var, \n",
    "                         color = label.combo),\n",
    "                  position=position_dodge(width=0.75)) +\n",
    "        #geom_hline(yintercept=rand.var.mu, linetype='dashed') +\n",
    "        #geom_hline(yintercept=median(plot.df$mean.var),linetype='dashed',color='blue') +\n",
    "        scale_x_discrete(labels=c(\"FIX\",'MAG')) +\n",
    "        theme_bw(base_size = 14) +\n",
    "        #guides(color=guide_legend(title=\"Stimulus\\nSize\")) +\n",
    "        guides(color=guide_legend(title=\"\")) +\n",
    "        xlab(\"\") +\n",
    "        ylab(\"Mean Variance (Scrambled)\\n- Mean Variance (Real)\") +\n",
    "        #ylim(min(plotdf$mean.var),max(vals)) +\n",
    "        #scale_colour_manual(values = c(\"orange\",'purple')) +\n",
    "        #scale_color_brewer(palette='Dark2') + scale_fill_brewer(palette='Dark2')\n",
    "        scale_fill_manual(values=fix_mag_colours) + scale_colour_manual(values=fix_mag_colours) +\n",
    "        guides(color=guide_legend(reverse=TRUE),fill=FALSE) + theme(legend.title=element_blank())\n",
    "    if(histogram){\n",
    "        #plot.df$mean.var <- log((plot.df$mean.var))\n",
    "        plot.df$label.combo <- paste(plot.df$StimSize,plot.df$Magnification)\n",
    "        hist.plot <- ggplot(plot.df, aes(x = mean.var, fill=label.combo)) + geom_histogram(binwidth=0.25)\n",
    "        return(hist.plot)\n",
    "    }\n",
    "    if(save){\n",
    "        ggsave('fig6d.png',plot,height=3,width=4)\n",
    "    }\n",
    "    \n",
    "    return(plot)\n",
    "}"
   ]
  },
  {
   "cell_type": "code",
   "execution_count": 177,
   "metadata": {},
   "outputs": [],
   "source": [
    "fig6e <- function(df,rand.var.mu,vals){\n",
    "    \n",
    "    # perform beta offset\n",
    "    df$mean.var <- offset.beta(df$mean.var,\n",
    "                               max(vals),\n",
    "                              min(vals))\n",
    "\n",
    "    plot <- ggplot(df, aes(x = mean.var,fill=Magnification)) + \n",
    "        geom_density(aes(x=mean.var,y=..scaled..),alpha=0.375) +\n",
    "        geom_histogram(aes(x=mean.var,y=stat(count)/sum(count)), colour='black', binwidth=0.05,position=\"identity\",alpha=0.5) +\n",
    "        geom_vline(xintercept=rand.var.mu/max(vals), linetype='dashed') + # put the random line in, appropriately scaled\n",
    "        xlab(\"Scaled Mean Variance\") +\n",
    "        ylab(\"Density\") +\n",
    "        xlim(-0.05,1) +\n",
    "        theme(legend.position='none')\n",
    "        \n",
    "    ggsave('fig6e.png',plot,height=2.8,width=4)\n",
    "    return(plot)\n",
    "} "
   ]
  },
  {
   "cell_type": "code",
   "execution_count": 178,
   "metadata": {},
   "outputs": [],
   "source": [
    "fig6e.rainbow <- function(df,rand.var.mu,vals){\n",
    "    \n",
    "    # perform beta offset\n",
    "    df$mean.var <- offset.beta(df$mean.var,\n",
    "                               max(vals),\n",
    "                              min(vals))\n",
    "    \n",
    "    plot <- ggplot(df,aes(x=Magnification,y=mean.var,fill=Magnification,colour=Magnification)) +\n",
    "            geom_flat_violin(position = position_nudge(x = 0.25, y = 0),adjust=2,trime=FALSE) +\n",
    "            geom_point(position = position_jitter(width=.15,height=0),size=1) +\n",
    "            geom_boxplot(aes(x=4.5 + 0.25, y = mean.var),alpha = 0.3, outlier.shape=NA, width = .1, colour = \"BLACK\") +\n",
    "            ylab('Scaled Mean Variance') + xlab('')+coord_flip()+theme_cowplot()+guides(fill=FALSE,colour=FALSE) +\n",
    "            theme(axis.text.y=element_blank(),axis.ticks.y=element_blank(),legend.title=element_blank()) +\n",
    "            geom_hline(yintercept=rand.var.mu/max(vals), linetype='dashed') +  geom_hline(yintercept=1.05)\n",
    "    \n",
    "    ggsave('fig6e_rainbow.png',plot,height=2.8,width=4)\n",
    "    return(plot)\n",
    "}"
   ]
  },
  {
   "cell_type": "code",
   "execution_count": 179,
   "metadata": {},
   "outputs": [],
   "source": [
    "fig6f <- function(df,rand.var.mu,vals){\n",
    "    # perform beta offset\n",
    "    df$mean.var <- logit(offset.beta(df$mean.var,\n",
    "                                     max(vals),\n",
    "                                    min(vals)))\n",
    "\n",
    "    plot <- ggplot(df, aes(x = mean.var,fill=Magnification)) + \n",
    "        geom_density(aes(x=mean.var,y=..scaled..),alpha=0.375) +\n",
    "        #geom_histogram(aes(x=mean.var,y=stat(count)/sum(count)), colour='black', binwidth=0.05,position=\"identity\",alpha=0.5) +\n",
    "        geom_vline(xintercept=logit(rand.var.mu/max(vals)), linetype='dashed') + # put the random line in, appropriately scaled\n",
    "        xlab(\"Logistic-Transformed\\nMean Variance\") +\n",
    "        ylab(\"Density\") +\n",
    "        xlim(-7.5,3) +\n",
    "        theme(legend.position='none')\n",
    "        \n",
    "    ggsave('fig6f.png',plot,height=2.8,width=4)\n",
    "    return(plot)\n",
    "}"
   ]
  },
  {
   "cell_type": "code",
   "execution_count": 180,
   "metadata": {},
   "outputs": [],
   "source": [
    "fig6f.rainbow <- function(df,vals){\n",
    "    \n",
    "    \n",
    "    # perform beta offset\n",
    "    df$mean.var <- logit(offset.beta(df$mean.var,\n",
    "                                     max(vals),\n",
    "                                    -max(vals)))\n",
    "    \n",
    "    \n",
    "    plot <- ggplot(df,aes(x=Magnification,y=mean.var,fill=Magnification,colour=Magnification)) +\n",
    "            geom_flat_violin(position = position_nudge(x = 0.25, y = 0),adjust=2,trime=FALSE) +\n",
    "            geom_point(position = position_jitter(width=.15,height=0),size=1) +\n",
    "            geom_boxplot(aes(x=4.5 + 0.25, y = mean.var),alpha = 0.3, outlier.shape=NA, width = .1, colour = \"BLACK\") +\n",
    "            xlab('')+coord_flip()+theme_cowplot()+guides(fill=FALSE,colour=FALSE) +\n",
    "            ylab(\"Logistic-Transformed\\nMean Variance (Scrambled) -\\n Mean Variance (Real)\") +\n",
    "            theme(axis.text.y=element_blank(),axis.ticks.y=element_blank(),axis.line.y=element_blank(),legend.title=element_blank()) +\n",
    "            geom_hline(yintercept=logit(0), linetype='dashed') # altered to zero\n",
    "    \n",
    "    ggsave('fig6f_rainbow.png',plot,height=2.8,width=4)\n",
    "    return(plot)\n",
    "}"
   ]
  },
  {
   "cell_type": "code",
   "execution_count": 181,
   "metadata": {},
   "outputs": [],
   "source": [
    "fig6g <- function(df,rand.var.mu,vals){\n",
    "    \n",
    "    # perform beta offset\n",
    "    df$mean.var <- offset.beta(df$mean.var,\n",
    "                               max(vals),\n",
    "                              min(vals))\n",
    "\n",
    "    plot <- ggplot(df, aes(x = mean.var,fill=label.combo)) + \n",
    "        geom_density(aes(x=mean.var,y=..scaled..),alpha=0.375) +\n",
    "        geom_histogram(aes(x=mean.var,y=stat(count)/sum(count)), colour='black', binwidth=0.05,position=\"identity\",alpha=0.5) +\n",
    "        geom_vline(xintercept=rand.var.mu/max(vals), linetype='dashed') + # put the random line in, appropriately scaled\n",
    "        xlab(\"Scaled Mean Variance\") +\n",
    "        ylab(\"Density\") +\n",
    "        xlim(-0.05,1)\n",
    "        \n",
    "    ggsave('fig6g.png',plot,height=2.8,width=4)\n",
    "    return(plot)\n",
    "} "
   ]
  },
  {
   "cell_type": "code",
   "execution_count": 182,
   "metadata": {},
   "outputs": [],
   "source": [
    "fig6g.rainbow <- function(df,rand.var.mu,vals){\n",
    "    \n",
    "    # perform beta offset\n",
    "    df$mean.var <- offset.beta(df$mean.var,\n",
    "                               max(vals),\n",
    "                              min(vals))\n",
    "    \n",
    "    plot <- ggplot(df,aes(x=label.combo,y=mean.var,fill=label.combo,colour=label.combo)) +\n",
    "            geom_flat_violin(position = position_nudge(x = 0.25, y = 0),adjust=2,trime=FALSE) +\n",
    "            geom_point(position = position_jitter(width=.15,height=0),size=1) +\n",
    "            geom_boxplot(aes(x=as.numeric(as.factor(label.combo)) + 0.25, y = mean.var),alpha = 0.3, outlier.shape=NA, width = .1, colour = \"BLACK\") +\n",
    "            ylab('Scaled Mean Variance') + xlab('')+coord_flip()+theme_cowplot()+guides(fill=FALSE) +\n",
    "            theme(axis.text.y=element_blank(),axis.ticks.y=element_blank(),legend.title=element_blank()) +\n",
    "            geom_hline(yintercept=rand.var.mu/max(vals), linetype='dashed') +  geom_hline(yintercept=1.05)\n",
    "    \n",
    "    ggsave('fig6g_rainbow.png',plot,height=2.8,width=4)\n",
    "    return(plot)\n",
    "}"
   ]
  },
  {
   "cell_type": "code",
   "execution_count": 183,
   "metadata": {},
   "outputs": [],
   "source": [
    "fig6h <- function(df,rand.var.mu,vals){\n",
    "    # perform beta offset\n",
    "    df$mean.var <- logit(offset.beta(df$mean.var,\n",
    "                                     max(vals),\n",
    "                                    min(vals)))\n",
    "\n",
    "    plot <- ggplot(df, aes(x = mean.var,fill=label.combo)) + \n",
    "        geom_density(aes(x=mean.var,y=..scaled..),alpha=0.375) +\n",
    "        #geom_histogram(aes(x=mean.var,y=stat(count)/sum(count)), colour='black', binwidth=0.05,position=\"identity\",alpha=0.5) +\n",
    "        geom_vline(xintercept=logit(rand.var.mu/max(vals)), linetype='dashed') + # put the random line in, appropriately scaled\n",
    "        xlab(\"Logistic-Transformed\\nMean Variance\") +\n",
    "        ylab(\"Density\") +\n",
    "        xlim(-7.5,3)\n",
    "        \n",
    "    ggsave('fig6h.png',plot,height=2.8,width=4)\n",
    "    return(plot)\n",
    "}"
   ]
  },
  {
   "cell_type": "code",
   "execution_count": 184,
   "metadata": {},
   "outputs": [],
   "source": [
    "fig6h.rainbow <- function(df,rand.var.mu,vals){\n",
    "    \n",
    "    # perform beta offset\n",
    "    df$mean.var <- logit(offset.beta(df$mean.var,\n",
    "                                     max(vals),\n",
    "                                    min(vals)))\n",
    "    \n",
    "    plot <- ggplot(df,aes(x=label.combo,y=mean.var,fill=label.combo,colour=label.combo)) +\n",
    "            geom_flat_violin(position = position_nudge(x = 0.25, y = 0),adjust=2,trime=FALSE) +\n",
    "            geom_point(position = position_jitter(width=.15,height=0),size=1) +\n",
    "            geom_boxplot(aes(x=as.numeric(as.factor(label.combo)) + 0.25, y = mean.var),alpha = 0.3, outlier.shape=NA, width = .1, colour = \"BLACK\") +\n",
    "            ylab(\"Logistic-Transformed\\nMean Variance\") + xlab('')+coord_flip()+theme_cowplot()+guides(fill=FALSE) +\n",
    "            theme(axis.text.y=element_blank(),axis.ticks.y=element_blank(),axis.line.y=element_blank(),legend.title=element_blank()) +\n",
    "            geom_hline(yintercept=logit(rand.var.mu/max(vals)), linetype='dashed') +\n",
    "            scale_color_brewer(palette='Dark2') + scale_fill_brewer(palette='Dark2')\n",
    "    \n",
    "    ggsave('fig6h_rainbow.png',plot,height=2.8,width=4)\n",
    "    return(plot)\n",
    "}"
   ]
  },
  {
   "cell_type": "markdown",
   "metadata": {},
   "source": [
    "#### Do the visualisations"
   ]
  },
  {
   "cell_type": "code",
   "execution_count": 187,
   "metadata": {},
   "outputs": [
    {
     "name": "stdout",
     "output_type": "stream",
     "text": [
      "[1] \"Working on raw (6) values\"\n"
     ]
    }
   ],
   "source": [
    "# get the data we want\n",
    "var.data <- var.format(cleandf,sym=FALSE)\n",
    "#var.data <- var.format(cleandf,sym=FALSE,mode='scrambled')\n",
    "#head(var.data)\n",
    "var.data.mag <- subset(var.data, Magnification != 1)\n"
   ]
  },
  {
   "cell_type": "code",
   "execution_count": 188,
   "metadata": {},
   "outputs": [],
   "source": [
    "# label the data\n",
    "var.data <- label(var.data)"
   ]
  },
  {
   "cell_type": "code",
   "execution_count": 189,
   "metadata": {},
   "outputs": [],
   "source": [
    "# supply empirical data for random selection simulation below\n",
    "sim.rand.var.empirical <- function(df,mode){\n",
    "    if(mode=='CC'){\n",
    "        temp_df <- subset(df, (Circle_1 == l2e('Central')) & (Circle_2 == l2e('Central')) ) \n",
    "    } else if(mode == 'CP'){\n",
    "        temp_df <- subset(df, (Circle_1 == l2e('Central')) & (Circle_2 == l2e('Peripheral')) )\n",
    "    } else if(mode == 'PC'){\n",
    "        temp_df <- subset(df, (Circle_1 == l2e('Peripheral')) & (Circle_2 == l2e('Central')) )\n",
    "    } else if (mode=='PP'){\n",
    "        temp_df <- subset(df, (Circle_1 == l2e('Peripheral')) & (Circle_2 == l2e('Peripheral')) )\n",
    "    } else {\n",
    "        temp_df <- df\n",
    "    }\n",
    "    return(temp_df$similarity)\n",
    "}"
   ]
  },
  {
   "cell_type": "code",
   "execution_count": 191,
   "metadata": {},
   "outputs": [],
   "source": [
    "# simulating random selection\n",
    "# updated method based on including symmeterisation\n",
    "sim.rand.var <- function(method='sym',mode='empirical'){\n",
    "    dis.v <- c(0:7)\n",
    "    if(method=='sym'){\n",
    "        # taking the mean of the values as expected by symmeterisation procedure\n",
    "        # this is more faithful to what random data fed into the preprocessing \n",
    "        # procedure would look like\n",
    "        vals <- vector()\n",
    "        if(mode=='empirical'){\n",
    "            CC.data <- sim.rand.var.empirical(cleandf,mode='CC')\n",
    "            CP.data <- sim.rand.var.empirical(cleandf,mode='CP')\n",
    "            PC.data <- sim.rand.var.empirical(cleandf,mode='PC')\n",
    "            PP.data <- sim.rand.var.empirical(cleandf,mode='PP')\n",
    "        }\n",
    "        for(i in 1:10000){\n",
    "            if(mode=='empirical'){\n",
    "                CC <- mean(sample(CC.data, 2, replace=TRUE))\n",
    "                CP <- mean(sample(CP.data, 2, replace=TRUE))\n",
    "                PC <- mean(sample(PC.data, 2, replace=TRUE))\n",
    "                PP <- mean(sample(PP.data, 2, replace=TRUE)) \n",
    "            } else{\n",
    "                CC <- mean(sample(dis.v, 2, replace=TRUE))\n",
    "                CP <- mean(sample(dis.v, 2, replace=TRUE))\n",
    "                PC <- mean(sample(dis.v, 2, replace=TRUE))\n",
    "                PP <- mean(sample(dis.v, 2, replace=TRUE))  \n",
    "            }\n",
    "            \n",
    "            CP.sym <- mean(c(CP,PC))\n",
    "                        \n",
    "            x <- var(c(CC,PP,CP.sym))\n",
    "            \n",
    "            \n",
    "            vals <- c(vals,x)\n",
    "            \n",
    "        }\n",
    "        \n",
    "        \n",
    "    } else {\n",
    "        # pick n random dissimilarity values\n",
    "        # 3 = equivalent to 1 CC, 1 PP and 1 CP values\n",
    "        # 6 = equivalent to 2 CC, 2 PP and 2 CP values\n",
    "        # 8 = equivalent to 2 CC, 2 PP and 4 CP values\n",
    "        if(mode=='empirical'){\n",
    "            dis.v <- sim.rand.var.empirical(cleandf,mode='all')\n",
    "        }\n",
    "        vals <- replicate(10000,var(sample(dis.v, method, replace=TRUE)))\n",
    "    }\n",
    "    print(paste(\"Mean variance of random selection:\",mean(vals)))\n",
    "    print(paste(\"SD of mean variance of random selection:\",sd(vals)))\n",
    "    return(vals)\n",
    "}\n",
    "#vals <- sim.rand.var()\n",
    "#vals <- sim.rand.var(method=3)\n",
    "#vals <- sim.rand.var(method=6)\n",
    "#vals <- sim.rand.var(method=8)\n",
    "#vals <- sim.rand.var(method=6,mode='empirical')\n",
    "\n",
    "#rand.var.mu <- mean(vals)\n",
    "#rand.var.sd <- sd(vals)"
   ]
  },
  {
   "cell_type": "code",
   "execution_count": 192,
   "metadata": {},
   "outputs": [],
   "source": [
    "# supplementary figure of how random selection variance is distributed\n",
    "sup.fig5a <- function(vals){\n",
    "    mu <- mean(vals)\n",
    "    df <- as.data.frame(vals)\n",
    "    df$Variance <- 'Variance'\n",
    "    plot <- ggplot(df, aes(x=vals,y=..density..)) + geom_histogram(binwidth=1/3,colour='black') + #geom_density(aes(fill=Variance),alpha=0.3) +\n",
    "        geom_vline(xintercept=mu,linetype='dashed') + guides(fill=FALSE) +\n",
    "        xlab(\"Variance\") + ylab(\"Proportion\")\n",
    "    ggsave('supfig5a.png',plot,height=4,width=5.3)\n",
    "    return(plot)\n",
    "}\n",
    "\n",
    "sup.fig5b <- function(vals){\n",
    "    mu <- mean(vals)\n",
    "    df <- as.data.frame(vals)\n",
    "    df$Variance <- 'Variance'\n",
    "    df$vals <- offset.beta(df$vals,max(vals))\n",
    "    \n",
    "    plot.scaled <- ggplot(df,aes(x=Variance,y=vals,fill=Variance,colour=Variance)) +\n",
    "            geom_flat_violin(position = position_nudge(x = 0.25, y = 0),adjust=2,trime=FALSE) +\n",
    "            geom_point(position = position_jitter(width=.15,height=0),size=1) +\n",
    "            geom_boxplot(aes(x=as.numeric(as.factor(Variance))+ 0.25, y = vals),alpha = 0.3, outlier.shape=NA, width = .1, colour = \"BLACK\") +\n",
    "            ylab(\"Scaled variance\") + xlab('')+coord_flip()+theme_cowplot()+guides(fill=FALSE,colour=FALSE) +\n",
    "            theme(axis.text.y=element_blank(),axis.ticks.y=element_blank(),axis.line.y=element_blank(),legend.title=element_blank()) +\n",
    "            geom_hline(yintercept=mu, linetype='dashed') + ylim(0,1)\n",
    "    \n",
    "    ggsave('supfig5b.png',plot.scaled,height=4,width=5.3)\n",
    "    return(plot.scaled)\n",
    "}\n",
    "\n",
    "sup.fig5c <- function(vals){\n",
    "    mu <- mean(vals)\n",
    "    df <- as.data.frame(vals)\n",
    "    df$Variance <- 'Variance'\n",
    "    df$vals <- offset.beta(df$vals,max(vals))\n",
    "    df$vals.logit <- logit(df$vals)\n",
    "    mu.logit <- logit(mu)\n",
    "\n",
    "    plot.logit <- ggplot(df,aes(x=Variance,y=vals.logit,fill=Variance,colour=Variance)) +\n",
    "            geom_flat_violin(position = position_nudge(x = 0.25, y = 0),adjust=2,trime=FALSE) +\n",
    "            geom_point(position = position_jitter(width=.15,height=0),size=1) +\n",
    "            geom_boxplot(aes(x=as.numeric(as.factor(Variance))+ 0.25, y = vals.logit),alpha = 0.3, outlier.shape=NA, width = .1, colour = \"BLACK\") +\n",
    "            ylab(\"Logistic-transformed variance\") + xlab('')+coord_flip()+theme_cowplot()+guides(fill=FALSE,colour=FALSE) +\n",
    "            theme(axis.text.y=element_blank(),axis.ticks.y=element_blank(),axis.line.y=element_blank(),legend.title=element_blank()) +\n",
    "            geom_hline(yintercept=mu.logit, linetype='dashed')\n",
    "    \n",
    "    ggsave('supfig5c.png',plot.logit,height=4,width=5.3)\n",
    "    return(plot.logit)\n",
    "}\n",
    "\n"
   ]
  },
  {
   "cell_type": "code",
   "execution_count": 193,
   "metadata": {},
   "outputs": [],
   "source": [
    "#sup.fig5a(vals)\n",
    "#sup.fig5b(vals)\n",
    "#sup.fig5c(vals)"
   ]
  },
  {
   "cell_type": "code",
   "execution_count": 195,
   "metadata": {},
   "outputs": [],
   "source": [
    "sup.fig5.raincloud <- function(vals){\n",
    "    mu <- mean(vals)\n",
    "    df <- as.data.frame(vals)\n",
    "    df$Variance <- 'Variance'\n",
    "    df$vals <- offset.beta(df$vals,max(vals))\n",
    "    df$vals.logit <- logit(df$vals)\n",
    "    mu.logit <- logit(mu)\n",
    "    \n",
    "    plot.scaled <- ggplot(df,aes(x=Variance,y=vals,fill=Variance,colour=Variance)) +\n",
    "            geom_flat_violin(position = position_nudge(x = 0.25, y = 0),adjust=2,trime=FALSE) +\n",
    "            geom_point(position = position_jitter(width=.15,height=0),size=1) +\n",
    "            geom_boxplot(aes(x=as.numeric(as.factor(Variance))+ 0.25, y = vals),alpha = 0.3, outlier.shape=NA, width = .1, colour = \"BLACK\") +\n",
    "            ylab(\"Scaled variance\") + xlab('')+coord_flip()+theme_cowplot()+guides(fill=FALSE,colour=FALSE) +\n",
    "            theme(axis.text.y=element_blank(),axis.ticks.y=element_blank(),axis.line.y=element_blank(),legend.title=element_blank()) +\n",
    "            geom_hline(yintercept=mu, linetype='dashed') + ylim(0,1)\n",
    "    \n",
    "\n",
    "    plot.logit <- ggplot(df,aes(x=Variance,y=vals.logit,fill=Variance,colour=Variance)) +\n",
    "            geom_flat_violin(position = position_nudge(x = 0.25, y = 0),adjust=2,trime=FALSE) +\n",
    "            geom_point(position = position_jitter(width=.15,height=0),size=1) +\n",
    "            geom_boxplot(aes(x=as.numeric(as.factor(Variance))+ 0.25, y = vals.logit),alpha = 0.3, outlier.shape=NA, width = .1, colour = \"BLACK\") +\n",
    "            ylab(\"Logistic-transformed variance\") + xlab('')+coord_flip()+theme_cowplot()+guides(fill=FALSE,colour=FALSE) +\n",
    "            theme(axis.text.y=element_blank(),axis.ticks.y=element_blank(),axis.line.y=element_blank(),legend.title=element_blank()) +\n",
    "            geom_hline(yintercept=mu.logit, linetype='dashed')\n",
    "    \n",
    "    g <- arrangeGrob(as.grob(plot.scaled),as.grob(plot.logit),ncol=1,nrow=2)\n",
    "    ggsave('supfig5_raincloud.png',g,height=8,width=5.3)\n",
    "}\n",
    "#sup.fig5.raincloud(vals)"
   ]
  },
  {
   "cell_type": "code",
   "execution_count": 196,
   "metadata": {},
   "outputs": [],
   "source": [
    "mag.df <- subset(cleandf, peripheral_scale != 1)\n",
    "#fig6bc(mag.df,name='fig6c.png',tri=TRUE)"
   ]
  },
  {
   "cell_type": "code",
   "execution_count": 198,
   "metadata": {},
   "outputs": [],
   "source": [
    "#fig6d(var.data,rand.var.mu)"
   ]
  },
  {
   "cell_type": "code",
   "execution_count": 199,
   "metadata": {},
   "outputs": [],
   "source": [
    "#fig6e(var.data.mag,rand.var.mu,vals)\n",
    "#fig6e.rainbow(var.data.mag,rand.var.mu,vals)"
   ]
  },
  {
   "cell_type": "code",
   "execution_count": 200,
   "metadata": {},
   "outputs": [],
   "source": [
    "#fig6f(var.data.mag,rand.var.mu,vals)\n",
    "#fig6f.rainbow(var.data.mag,vals)"
   ]
  },
  {
   "cell_type": "code",
   "execution_count": 201,
   "metadata": {},
   "outputs": [],
   "source": [
    "#fig6g(var.data,rand.var.mu,vals)\n",
    "#fig6g.rainbow(var.data,rand.var.mu,vals)"
   ]
  },
  {
   "cell_type": "code",
   "execution_count": 202,
   "metadata": {},
   "outputs": [],
   "source": [
    "#fig6h(var.data,rand.var.mu,vals)\n",
    "#fig6h.rainbow(var.data,rand.var.mu,vals)"
   ]
  },
  {
   "cell_type": "markdown",
   "metadata": {},
   "source": [
    "#### 2a) Do colour-pair comparisons made in CC, CP and PP conditions all generate the same dissimilarity ratings?"
   ]
  },
  {
   "cell_type": "markdown",
   "metadata": {},
   "source": [
    "Going beyond whether identical physical stimuli elicit zero dissimilarity, we want to know whether the same pair of colours elicits the same dissimilarity value for a given subject whether it's presented in a CC, CP or PP condition.  \n",
    "  \n",
    "For each colour comparison a subject makes (e.g. RED-BLUE), we will calculate the variance between their CC, CP and PP responses. We will then take the mean variance across all of these colour comparisons for a given subject and use that as a measure of consistency.  \n",
    "  \n",
    "If subjects are choosing randomly, we'd expect them to have a mean variance of three randomly selected values from 0-7, which is ~5.25 (as calculated numerically below).  \n",
    "  \n",
    "We will test to see if the mean variance for each subject is less than 5.25 in data from subjects in the Peripherally magnified conditions. As the data is once again bounded we will use a beta-regression again."
   ]
  },
  {
   "cell_type": "code",
   "execution_count": 259,
   "metadata": {},
   "outputs": [],
   "source": [
    "h2a <- function(data,vals,summary=FALSE){\n",
    "    data$mean.var <- offset.beta(data$mean.var,\n",
    "                                 max(vals),\n",
    "                                -max(vals))\n",
    "    \n",
    "    model.test <- stan_betareg(formula = mean.var ~ 1,\n",
    "                              data = data,\n",
    "                              iter=10000, # stabilise the estimates\n",
    "                               refresh=0\n",
    "                            )\n",
    "    \n",
    "    if(summary){\n",
    "        print(summary(model.test))\n",
    "    }else{\n",
    "           print(model.test)\n",
    "    }\n",
    "    HPD <- posterior_interval(model.test, prob = 0.95)\n",
    "    print(HPD)    \n",
    "    BF <- bayesfactor_parameters(model.test)\n",
    "    print(BF)\n",
    "    print(plot(BF, show_intercept=TRUE))\n",
    "    \n",
    "    # Converted back to normalised trace\n",
    "    print(\"\")\n",
    "    print(\"Converted back to Mean Variance\")\n",
    "    intercept <- model.test[[1]][1]\n",
    "    print(paste('Intercept:',round(reverse.offset.beta(invlogit(intercept),max(vals),-max(vals)),2)))\n",
    "    print(paste('HPD:',round(reverse.offset.beta(invlogit(HPD[1,]),max(vals),-max(vals)),2)))\n",
    "    \n",
    "    return(BF)\n",
    "}"
   ]
  },
  {
   "cell_type": "code",
   "execution_count": 260,
   "metadata": {},
   "outputs": [
    {
     "name": "stdout",
     "output_type": "stream",
     "text": [
      "stan_betareg\n",
      " family:       beta [logit, link.phi=identity]\n",
      " formula:      mean.var ~ 1\n",
      " observations: 2\n",
      "------\n",
      "            Median MAD_SD\n",
      "(Intercept) 0.0    0.8   \n",
      "(phi)       1.8    1.1   \n",
      "\n",
      "------\n",
      "* For help interpreting the printed output see ?print.stanreg\n",
      "* For info on the priors used see ?prior_summary.stanreg\n",
      "                  2.5%    97.5%\n",
      "(Intercept) -1.7118838 1.715122\n",
      "(phi)        0.3774721 5.466606\n"
     ]
    },
    {
     "name": "stderr",
     "output_type": "stream",
     "text": [
      "Sampling priors, please wait...\n",
      "\n"
     ]
    },
    {
     "name": "stdout",
     "output_type": "stream",
     "text": [
      "\u001b[34mBayes Factor (Savage-Dickey density ratio)\u001b[39m \u001b[34m\u001b[39m\n",
      "\n",
      "Parameter   |    BF\n",
      "-------------------\n",
      "(Intercept) | 0.307\n",
      "\n",
      "* Evidence Against The Null: \u001b[36m0\u001b[39m[1] \"\"\n",
      "[1] \"Converted back to Mean Variance\"\n",
      "[1] \"Intercept: -0.05\"\n",
      "[1] \"HPD: -10.2\" \"HPD: 10.22\"\n"
     ]
    },
    {
     "data": {
      "image/png": "[encoded data removed]",
      "text/plain": [
       "plot without title"
      ]
     },
     "metadata": {
      "image/png": {
       "height": 420,
       "width": 420
      }
     },
     "output_type": "display_data"
    }
   ],
   "source": [
    "# test all the Peripheral magnification data\n",
    "h3 <- h2a(var.data.mag,vals)"
   ]
  },
  {
   "cell_type": "markdown",
   "metadata": {},
   "source": [
    "#### 2b) Are dissimilarity ratings for colour-pairs presented in the periphery affected by Peripheral magnification?"
   ]
  },
  {
   "cell_type": "markdown",
   "metadata": {},
   "source": [
    "Blah"
   ]
  },
  {
   "cell_type": "code",
   "execution_count": 207,
   "metadata": {},
   "outputs": [],
   "source": [
    "h2b <- function(data,summary=FALSE){\n",
    "    data$mean.var <- offset.beta(data$mean.var,\n",
    "                                 max(vals),\n",
    "                                -max(vals))\n",
    "    \n",
    "    model.test <- stan_betareg(formula = mean.var ~ StimSize + Magnification + StimSize:Magnification,\n",
    "                data = data,\n",
    "                iter=10000, # helps to stabilise the estimates\n",
    "                refresh=0 # removes verbose output\n",
    "                )\n",
    "    \n",
    "    if(summary){\n",
    "        print(summary(model.test))\n",
    "    }else{\n",
    "           print(model.test)\n",
    "    }\n",
    "    HPD <- posterior_interval(model.test, prob = 0.95)\n",
    "    print(HPD)    \n",
    "    BF <- bayesfactor_parameters(model.test)\n",
    "    print(BF)\n",
    "    print(plot(BF, show_intercept=TRUE))\n",
    "    \n",
    "    # Converted back to normalised trace\n",
    "    print(\"\")\n",
    "    print(\"Converted back to Mean Variance\")\n",
    "    interaction <- model.test[[1]][4]\n",
    "    print(paste('Interaction:',round(reverse.offset.beta(invlogit(interaction),max(vals),-max(vals)),2)))\n",
    "    print(paste('HPD:',round(reverse.offset.beta(invlogit(HPD[1,]),max(vals),-max(vals)),2)))\n",
    "    \n",
    "    return(model.test)\n",
    "}"
   ]
  },
  {
   "cell_type": "code",
   "execution_count": 208,
   "metadata": {},
   "outputs": [
    {
     "name": "stdout",
     "output_type": "stream",
     "text": [
      "stan_betareg\n",
      " family:       beta [logit, link.phi=identity]\n",
      " formula:      mean.var ~ StimSize + Magnification + StimSize:Magnification\n",
      " observations: 4\n",
      "------\n",
      "                       Median MAD_SD\n",
      "(Intercept)            0.0    1.1   \n",
      "StimSize               0.0    1.4   \n",
      "Magnification          0.0    0.1   \n",
      "StimSize:Magnification 0.0    0.1   \n",
      "(phi)                  2.3    1.2   \n",
      "\n",
      "------\n",
      "* For help interpreting the printed output see ?print.stanreg\n",
      "* For info on the priors used see ?prior_summary.stanreg\n",
      "                             2.5%     97.5%\n",
      "(Intercept)            -2.3380791 2.2884585\n",
      "StimSize               -2.9684766 2.9394135\n",
      "Magnification          -0.1104010 0.1118244\n",
      "StimSize:Magnification -0.1627323 0.1599619\n",
      "(phi)                   0.7057766 5.7695012\n"
     ]
    },
    {
     "name": "stderr",
     "output_type": "stream",
     "text": [
      "Sampling priors, please wait...\n",
      "\n"
     ]
    },
    {
     "name": "stdout",
     "output_type": "stream",
     "text": [
      "\u001b[34mBayes Factor (Savage-Dickey density ratio)\u001b[39m \u001b[34m\u001b[39m\n",
      "\n",
      "Parameter              |    BF\n",
      "------------------------------\n",
      "(Intercept)            | 0.317\n",
      "StimSize               | 0.554\n",
      "Magnification          | 0.569\n",
      "StimSize:Magnification | 0.421\n",
      "\n",
      "* Evidence Against The Null: \u001b[36m0\u001b[39m[1] \"\"\n",
      "[1] \"Converted back to Mean Variance\"\n",
      "[1] \"Interaction: 0\"\n",
      "[1] \"HPD: -12.11\" \"HPD: 11.99\" \n"
     ]
    },
    {
     "data": {
      "text/plain": [
       "stan_betareg\n",
       " family:       beta [logit, link.phi=identity]\n",
       " formula:      mean.var ~ StimSize + Magnification + StimSize:Magnification\n",
       " observations: 4\n",
       "------\n",
       "                       Median MAD_SD\n",
       "(Intercept)            0.0    1.1   \n",
       "StimSize               0.0    1.4   \n",
       "Magnification          0.0    0.1   \n",
       "StimSize:Magnification 0.0    0.1   \n",
       "(phi)                  2.3    1.2   \n",
       "\n",
       "------\n",
       "* For help interpreting the printed output see ?print.stanreg\n",
       "* For info on the priors used see ?prior_summary.stanreg"
      ]
     },
     "metadata": {},
     "output_type": "display_data"
    },
    {
     "data": {
      "image/png": "[encoded data removed]",
      "text/plain": [
       "plot without title"
      ]
     },
     "metadata": {
      "image/png": {
       "height": 420,
       "width": 420
      }
     },
     "output_type": "display_data"
    }
   ],
   "source": [
    "# test all the data\n",
    "h2b(var.data)"
   ]
  },
  {
   "cell_type": "markdown",
   "metadata": {},
   "source": [
    "## Collect it all into one table/plot for Yasunori"
   ]
  },
  {
   "cell_type": "code",
   "execution_count": 296,
   "metadata": {},
   "outputs": [],
   "source": [
    "BF.table <- function(){\n",
    "    \n",
    "    #subject count\n",
    "    subj_n <- get_n(cleandf,print=FALSE)\n",
    "    \n",
    "    #H1A\n",
    "    h1a.bf <- exp(h.one.a@bayesFactor$bf)\n",
    "    #print(h1a.bf)\n",
    "    #H1B\n",
    "    h1b.bf <- exp(h.one.b@bayesFactor$bf)\n",
    "    #print(h1b.bf)\n",
    "    #H1C\n",
    "    h1c.bf <- exp(h.one.c@bayesFactor$bf)\n",
    "    #print(h1c.bf)\n",
    "    \n",
    "    #H2A\n",
    "    h2a.bf <- exp(h1a.cc$log_BF)\n",
    "    #print(h2a.bf)\n",
    "    #H2B\n",
    "    h2b.bf <- exp(h1a.cp$log_BF)\n",
    "    #print(h2b.bf)\n",
    "    #H2C\n",
    "    h2c.bf <- exp(h1a.pp$log_BF)\n",
    "    #print(h2c.bf)\n",
    "    \n",
    "    #H2D\n",
    "    h2d.bf <- exp(h1b.model$log_BF[4])\n",
    "    \n",
    "    #H3\n",
    "    h3.bf <- exp(h3$log_BF)\n",
    "    \n",
    "    BFs <- c(h1a.bf,h1b.bf,h1c.bf,\n",
    "             h2a.bf,h2b.bf,h2c.bf,\n",
    "             h2d.bf,\n",
    "             h3.bf)\n",
    "    \n",
    "    Names <- c('H1A','H1B','H1C',\n",
    "              'H2A','H2B','H2C',\n",
    "              'H2D',\n",
    "              'H3')\n",
    "    bf.df <- data.frame(Names,BFs)\n",
    "    \n",
    "    bf.df$Finished <- 'NO'\n",
    "    bf.df$Finished[bf.df$BFs < 0.1] <- 'YES'\n",
    "    bf.df$Finished[bf.df$BFs > 10] <- 'YES'\n",
    "    \n",
    "    return(bf.df)\n",
    "}"
   ]
  },
  {
   "cell_type": "code",
   "execution_count": 298,
   "metadata": {},
   "outputs": [
    {
     "data": {
      "image/png": "[encoded data removed]",
      "text/plain": [
       "plot without title"
      ]
     },
     "metadata": {
      "image/png": {
       "height": 420,
       "width": 420
      }
     },
     "output_type": "display_data"
    }
   ],
   "source": [
    "grid.table(BF.table())"
   ]
  },
  {
   "cell_type": "code",
   "execution_count": null,
   "metadata": {},
   "outputs": [],
   "source": []
  }
 ],
 "metadata": {
  "kernelspec": {
   "display_name": "R",
   "language": "R",
   "name": "ir"
  },
  "language_info": {
   "codemirror_mode": "r",
   "file_extension": ".r",
   "mimetype": "text/x-r-source",
   "name": "R",
   "pygments_lexer": "r",
   "version": "4.0.5"
  }
 },
 "nbformat": 4,
 "nbformat_minor": 4
}
