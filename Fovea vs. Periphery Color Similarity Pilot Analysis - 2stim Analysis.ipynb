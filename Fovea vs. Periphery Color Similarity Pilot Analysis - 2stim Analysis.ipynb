{
 "cells": [
  {
   "cell_type": "markdown",
   "metadata": {},
   "source": [
    "## Analysis code for 'Are colour experiences the same across the visual field?'\n",
    "Written by Ariel Zeleznikow-Johnston, 2020  \n",
    "ariel.zeleznikow-johnston@monash.edu  \n",
    "Github link to experiment: https://github.com/ArielZJ/SimilarityColorProject-MultiplePatches  \n",
    "Github link to this analysis code: https://github.com/ArielZJ/Precision-Phenomenology-Data-Analysis  "
   ]
  },
  {
   "cell_type": "markdown",
   "metadata": {},
   "source": [
    "### Filename we're going to play with"
   ]
  },
  {
   "cell_type": "code",
   "execution_count": 1,
   "metadata": {},
   "outputs": [],
   "source": [
    "filename = \"data/pilotcompiled.csv\""
   ]
  },
  {
   "cell_type": "code",
   "execution_count": 2,
   "metadata": {},
   "outputs": [],
   "source": [
    "stimuli_number = 9\n",
    "response_type_list = c('during')\n",
    "trial_types = c('during')\n",
    "response_names = c('During')\n",
    "catch_trial_number = 10 # what it's set at at the moment, arbitrary\n",
    "condition_number = 3"
   ]
  },
  {
   "cell_type": "code",
   "execution_count": 3,
   "metadata": {},
   "outputs": [],
   "source": [
    "trace_cutoff = 2 # mean dissimilarity for physically identical colours must be below this\n",
    "antitrace_cutoff = 3.5 # mean dissimilarity accepted for maximally physically different colours must be above this\n",
    "rt_cutoff = 600 # mean reaction times must be above this"
   ]
  },
  {
   "cell_type": "code",
   "execution_count": 4,
   "metadata": {},
   "outputs": [],
   "source": [
    "exclude_noncompliant = FALSE"
   ]
  },
  {
   "cell_type": "code",
   "execution_count": 5,
   "metadata": {},
   "outputs": [],
   "source": [
    "plotsubjects = FALSE\n",
    "plotsubjects_mixed = FALSE\n",
    "plot_within_between = FALSE\n",
    "plotexpsummary = FALSE\n",
    "across = FALSE\n",
    "population = FALSE"
   ]
  },
  {
   "cell_type": "code",
   "execution_count": 6,
   "metadata": {},
   "outputs": [],
   "source": [
    "# colors for the labels\n",
    "# changed for this mixed version\n",
    "colors <- c('#FF0000','#FFAA00','#AAFF00','#00FF00','#00FFA9',\"#00A9FF\",'#0000FF','#AA00FF',\"#FF00AA\")\n",
    "abcolors <- sort(colors)\n",
    "\n",
    "eccens.colors <- c(\n",
    "    'Foveal #FF0000',\n",
    "    'Foveal #FFAA00',\n",
    "    'Foveal #AAFF00',\n",
    "    'Foveal #00FF00',\n",
    "    'Foveal #00FFA9',\n",
    "    \"Foveal #00A9FF\",\n",
    "    'Foveal #0000FF',\n",
    "    'Foveal #AA00FF',\n",
    "    \"Foveal #FF00AA\",\n",
    "    'Peripheral #FF0000',\n",
    "    'Peripheral #FFAA00',\n",
    "    'Peripheral #AAFF00',\n",
    "    'Peripheral #00FF00',\n",
    "    'Peripheral #00FFA9',\n",
    "    \"Peripheral #00A9FF\",\n",
    "    'Peripheral #0000FF',\n",
    "    'Peripheral #AA00FF',\n",
    "    \"Peripheral #FF00AA\")\n",
    "\n",
    "inverted.colors <-  c('#FF0000','#FF00AA','#AA00FF','#0000FF','#00A9FF','#00FFA9','#00FF00','#AAFF00','#FFAA00')"
   ]
  },
  {
   "cell_type": "markdown",
   "metadata": {},
   "source": [
    "### Initialisations"
   ]
  },
  {
   "cell_type": "code",
   "execution_count": 7,
   "metadata": {},
   "outputs": [],
   "source": [
    "# live dangerously, get rid of pesky warnings\n",
    "oldw <- getOption(\"warn\")\n",
    "options(warn = -1)"
   ]
  },
  {
   "cell_type": "code",
   "execution_count": 8,
   "metadata": {
    "scrolled": true
   },
   "outputs": [
    {
     "name": "stderr",
     "output_type": "stream",
     "text": [
      "\n",
      "Attaching package: 'tidyr'\n",
      "\n",
      "The following object is masked _by_ '.GlobalEnv':\n",
      "\n",
      "    population\n",
      "\n",
      "\n",
      "Attaching package: 'dplyr'\n",
      "\n",
      "The following objects are masked from 'package:plyr':\n",
      "\n",
      "    arrange, count, desc, failwith, id, mutate, rename, summarise,\n",
      "    summarize\n",
      "\n",
      "The following objects are masked from 'package:stats':\n",
      "\n",
      "    filter, lag\n",
      "\n",
      "The following objects are masked from 'package:base':\n",
      "\n",
      "    intersect, setdiff, setequal, union\n",
      "\n",
      "Registered S3 methods overwritten by 'ggplot2':\n",
      "  method         from \n",
      "  [.quosures     rlang\n",
      "  c.quosures     rlang\n",
      "  print.quosures rlang\n",
      "\n",
      "Attaching package: 'gridExtra'\n",
      "\n",
      "The following object is masked from 'package:dplyr':\n",
      "\n",
      "    combine\n",
      "\n",
      "\n",
      "Attaching package: 'MASS'\n",
      "\n",
      "The following object is masked from 'package:dplyr':\n",
      "\n",
      "    select\n",
      "\n",
      "\n",
      "Attaching package: 'Matrix'\n",
      "\n",
      "The following objects are masked from 'package:tidyr':\n",
      "\n",
      "    expand, pack, unpack\n",
      "\n",
      "\n",
      "Attaching package: 'reshape2'\n",
      "\n",
      "The following object is masked from 'package:tidyr':\n",
      "\n",
      "    smiths\n",
      "\n",
      "Loading required package: permute\n",
      "Loading required package: lattice\n",
      "This is vegan 2.5-6\n",
      "\n",
      "Attaching package: 'gtools'\n",
      "\n",
      "The following object is masked from 'package:permute':\n",
      "\n",
      "    permute\n",
      "\n"
     ]
    }
   ],
   "source": [
    "shhh <- suppressPackageStartupMessages # stops annoying warnings when loading libraries\n",
    "library(tidyr)\n",
    "library(plyr)\n",
    "library(dplyr)\n",
    "library(ggplot2)\n",
    "library(gridExtra)\n",
    "library(MASS)\n",
    "library(Matrix)\n",
    "library(reshape2)\n",
    "library(ape) # stats\n",
    "library(vegan) # stats\n",
    "library(RColorBrewer)\n",
    "library(cocor)\n",
    "library(DescTools)\n",
    "library(reshape2)\n",
    "library(grid)\n",
    "library(ggplotify)\n",
    "library(fclust)\n",
    "library(plot.matrix)\n",
    "library(gtools)\n",
    "library(stringi)"
   ]
  },
  {
   "cell_type": "code",
   "execution_count": 9,
   "metadata": {},
   "outputs": [],
   "source": [
    "# rainbowcloud theme for plotting, stolen from: \n",
    "# https://micahallen.org/2018/03/15/introducing-raincloud-plots/?utm_campaign=News&utm_medium=Community&utm_source=DataCamp.com\n",
    "raincloud_theme = theme(\n",
    "text = element_text(size = 10),\n",
    "axis.title.x = element_text(size = 16),\n",
    "axis.title.y = element_text(size = 16),\n",
    "axis.text = element_text(size = 14),\n",
    "axis.text.x = element_text(angle = 45, vjust = 0.5),\n",
    "legend.title=element_text(size=16),\n",
    "legend.text=element_text(size=16),\n",
    "legend.position = \"right\",\n",
    "plot.title = element_text(lineheight=.8, face=\"bold\", size = 16),\n",
    "panel.border = element_blank(),\n",
    "panel.grid.minor = element_blank(),\n",
    "panel.grid.major = element_blank(),\n",
    "axis.line.x = element_line(colour = 'black', size=0.5, linetype='solid'),\n",
    "axis.line.y = element_line(colour = 'black', size=0.5, linetype='solid'))"
   ]
  },
  {
   "cell_type": "code",
   "execution_count": 10,
   "metadata": {},
   "outputs": [],
   "source": [
    "# stealing ability to make flat violin plots\n",
    "source(\"https://gist.githubusercontent.com/benmarwick/2a1bb0133ff568cbe28d/raw/fb53bd97121f7f9ce947837ef1a4c65a73bffb3f/geom_flat_violin.R\")"
   ]
  },
  {
   "cell_type": "markdown",
   "metadata": {},
   "source": [
    "### Functions we're going to use to do the analysis later"
   ]
  },
  {
   "cell_type": "markdown",
   "metadata": {},
   "source": [
    "#### Miscellaneous"
   ]
  },
  {
   "cell_type": "code",
   "execution_count": 11,
   "metadata": {},
   "outputs": [],
   "source": [
    "# check our N \n",
    "get_n <- function(datadf){\n",
    "    n <- length(unique(datadf$subject))\n",
    "    print(paste(\"There are\",n,\"unique subjects\"))\n",
    "    return(n)\n",
    "}"
   ]
  },
  {
   "cell_type": "code",
   "execution_count": 12,
   "metadata": {},
   "outputs": [],
   "source": [
    "# get plot eccentricity labels\n",
    "ploteccen <- function(datadf){\n",
    "    if(datadf$Circle_1[1] == -1){\n",
    "            label1 = 'Foveal'\n",
    "        } else {\n",
    "            label1 = 'Peripheral'\n",
    "        }\n",
    "        if(datadf$Circle_2[1] == -1){\n",
    "            label2 = 'Foveal'\n",
    "        } else {\n",
    "            label2 = 'Peripheral'\n",
    "        }\n",
    "    return(c(label1,label2))\n",
    "}\n",
    "\n",
    "e2l <- function(eccentricity){\n",
    "    if(eccentricity == -1){\n",
    "        return('Foveal')\n",
    "    } else {\n",
    "        return('Peripheral')\n",
    "    }\n",
    "}\n",
    "\n",
    "l2e <- function(eccentricity){\n",
    "    if(eccentricity == 'Foveal'){\n",
    "        return(-1)\n",
    "    } else {\n",
    "        return(1)\n",
    "    }\n",
    "}"
   ]
  },
  {
   "cell_type": "markdown",
   "metadata": {},
   "source": [
    "#### Dissimilarity Matrices"
   ]
  },
  {
   "cell_type": "code",
   "execution_count": 13,
   "metadata": {},
   "outputs": [],
   "source": [
    "# obtain dissimilarity matrices with particular eccentricity values from dataframes\n",
    "dissimdata <- function(datadf, colors, eccentricity1, eccentricity2){\n",
    "    # select only the eccentricities we want to keep, e.g. (foveal, foveal)\n",
    "    datatemp = subset(datadf, Circle_1 == eccentricity1)\n",
    "    datatemp = subset(datatemp, Circle_2 == eccentricity2)\n",
    "    \n",
    "    # refactor the levels so they can be plotted properly later if need be\n",
    "    datatemp$Color_1 <- with(datatemp, factor(Color_1, levels = colors))\n",
    "    datatemp$Color_2 <- with(datatemp, factor(Color_2, levels = colors))\n",
    "    \n",
    "    return(datatemp)\n",
    "}"
   ]
  },
  {
   "cell_type": "code",
   "execution_count": 14,
   "metadata": {},
   "outputs": [],
   "source": [
    "# plot a dissimilarity matrix\n",
    "dissimplot <- function(datadf,colors,dependent='color'){\n",
    "    \n",
    "   # labeling the plot eccentricity comparisons\n",
    "    label1 <- ploteccen(datadf)[1]\n",
    "    label2 <- ploteccen(datadf)[2]\n",
    "    \n",
    "    \n",
    "    if(dependent == 'position'){ # use position to generate matrix (as a negative control)\n",
    "        plot <- ggplot(datadf, aes(x = bin1, y = bin2)) +\n",
    "        theme(        axis.title.x = element_blank(), axis.title.y = element_blank(),\n",
    "                      plot.title = element_text(hjust = 0.5)) +\n",
    "                      scale_x_discrete(limits=c(1,2,3,4,5,6,7,8,9)) + scale_y_discrete(limits=c(1,2,3,4,5,6,7,8,9))\n",
    "    } else { # use the colors to generate the matrix\n",
    "        plot <- ggplot(datadf, aes(x = Color_1, y = Color_2)) +\n",
    "        theme(axis.text.x = element_text(colour = colors), axis.text.y = element_text(colour = colors),\n",
    "                      axis.title.x = element_blank(), axis.title.y = element_blank(),\n",
    "                      plot.title = element_text(hjust = 0.5))\n",
    "    }\n",
    "    # stuff that's standard across plot types\n",
    "        plot <- plot + geom_raster(aes(fill = similarity)) +\n",
    "                labs(title = paste(label1, label2, sep = \" - \")) +\n",
    "                scale_fill_gradientn(colours = c(\"white\",\"black\")) +\n",
    "                guides(fill=guide_legend(title=\"Dissimilarity\"))\n",
    "    return(plot)\n",
    "}"
   ]
  },
  {
   "cell_type": "code",
   "execution_count": 15,
   "metadata": {},
   "outputs": [],
   "source": [
    "# plot a shuffled dissimilarity matrix, for visualisation purposes only\n",
    "dissimplot_shuffled <- function(datadf){\n",
    "    # labeling the plot eccentricity comparisons\n",
    "    label1 <- ploteccen(datadf)[1]\n",
    "    label2 <- ploteccen(datadf)[2]\n",
    "    \n",
    "    datadf$similarity = sample(datadf$similarity, replace=FALSE) # shuffle colour 2\n",
    "    \n",
    "     plot <- ggplot(datadf, aes(x = Color_1, y = Color_2)) +\n",
    "        theme(axis.text.x = element_text(colour = colors), axis.text.y = element_text(colour = colors),\n",
    "                      axis.title.x = element_blank(), axis.title.y = element_blank(),\n",
    "                      plot.title = element_text(hjust = 0.5))\n",
    "    \n",
    "    plot <- plot + geom_raster(aes(fill = similarity)) +\n",
    "                labs(title = paste(\"SHUFFLED\\n\",label1, \" - \", label2)) +\n",
    "                scale_fill_gradientn(colours = c(\"white\",\"black\")) +\n",
    "                guides(fill=guide_legend(title=\"Dissimilarity\"))\n",
    "    return(plot)\n",
    "}"
   ]
  },
  {
   "cell_type": "code",
   "execution_count": 16,
   "metadata": {},
   "outputs": [],
   "source": [
    "# get an asymmetry matrix\n",
    "# BROKEN - FIX AS PER YUSUKE'S CODE: https://docs.google.com/presentation/d/1TQZ2ohqZfeWYq0TATobiSZHlkJJuZZ6vqbAmOPQaUDI/edit#slide=id.p1\n",
    "df2mat_asymmetry <- function(datadf,eccentricity1,eccentricity2){\n",
    "    \n",
    "    datadf <- dissimdata(datadf, colors, eccentricity1, eccentricity2)\n",
    "    \n",
    "    # aggregate over the remaining columns of interest\n",
    "    nmdsdata <- aggregate(datadf, by = list(datadf$Color_1, datadf$Color_2),FUN=mean)\n",
    "    nmdsdata$Color_1 <- nmdsdata$Group.1\n",
    "    nmdsdata$Color_2 <- nmdsdata$Group.2\n",
    "\n",
    "    nmdsdata = subset(nmdsdata, select = c(\"Color_1\",\"Color_2\",\"similarity\"))  # get rid of unnecessary columns\n",
    "    nmdsmatrix <- spread(nmdsdata, Color_1, similarity)\n",
    "    # convert the dataframe to a matrix\n",
    "    nmdsmatrix <- data.matrix(nmdsmatrix)\n",
    "    nmdsmatrix <- nmdsmatrix[,-1] # get rid of the labels in the first column, it messes up the code\n",
    "    matdf <- as.data.frame(nmdsmatrix - t(nmdsmatrix))\n",
    "    matdf$colorset <- c(abcolors)\n",
    "    num_colors <- length(colors)\n",
    "    matdf <- matdf %>% gather(othercolor,asymmetry ,1:num_colors)\n",
    "    return(matdf)\n",
    "}"
   ]
  },
  {
   "cell_type": "code",
   "execution_count": 17,
   "metadata": {},
   "outputs": [],
   "source": [
    "# plot an asymmetry matrix\n",
    "# BROKEN - FIX AS PER YUSUKE'S CODE: https://docs.google.com/presentation/d/1TQZ2ohqZfeWYq0TATobiSZHlkJJuZZ6vqbAmOPQaUDI/edit#slide=id.p1\n",
    "asymmetry_plot <- function(datadf,eccentricity1,eccentricity2,colors){\n",
    "    \n",
    "    # labeling the types\n",
    "    label1 <- \"Presented\"\n",
    "    label2 <- \"Response Screen\"\n",
    "    \n",
    "    datadf <- df2mat_asymmetry(datadf,eccentricity1,eccentricity2)\n",
    "    \n",
    "    # refactor the levels so they can be plotted properly later if need be\n",
    "    datadf$colorset <- with(datadf, factor(colorset, levels = colors))\n",
    "    datadf$othercolor <- with(datadf, factor(othercolor, levels = colors))\n",
    "    \n",
    "    plot <- ggplot(datadf, aes(x = colorset, y = othercolor)) +\n",
    "        theme(axis.text.x = element_text(colour = colors), axis.text.y = element_text(colour = colors),\n",
    "                      axis.title.x = element_blank(), axis.title.y = element_blank(),\n",
    "                      plot.title = element_text(hjust = 0.5))\n",
    "    \n",
    "    # stuff that's standard across plot types\n",
    "        plot <- plot + geom_raster(aes(fill = asymmetry)) +\n",
    "                labs(title = paste(label1, label2, sep = \" - \")) +\n",
    "                scale_fill_gradientn(colours = c(\"blue\",\"white\",\"red\"), limits = c(-4,4)) +\n",
    "                guides(fill=guide_legend(title=\"Dissimilarity\\nAsymmetry\"))\n",
    "    return(plot)\n",
    "}"
   ]
  },
  {
   "cell_type": "code",
   "execution_count": 18,
   "metadata": {},
   "outputs": [],
   "source": [
    "# making a matrix symmetric. Stolen from dclone: https://rdrr.io/github/datacloning/dclone/src/R/make.symmetric.R\n",
    "make.symmetric <-function(x)\n",
    "{\n",
    "    if (dim(x)[1] != dim(x)[2])\n",
    "        stop(\"'x' is not a square matrix\")\n",
    "    rval <- t(x)\n",
    "    m <- (x[lower.tri(x)] + rval[lower.tri(rval)]) / 2\n",
    "    rval[lower.tri(rval)] <- m\n",
    "    rval <- t(rval)\n",
    "    rval[lower.tri(rval)] <- m\n",
    "    rval\n",
    "}"
   ]
  },
  {
   "cell_type": "code",
   "execution_count": 19,
   "metadata": {},
   "outputs": [],
   "source": [
    "# obtain dissimilarity matrices that correspond to all of a subjects' judgements\n",
    "# symmeterises by taking the mean\n",
    "dissimdata.full <- function(datadf, colors=colors, duplicate=TRUE, symmeterise=TRUE, diagnose=FALSE){\n",
    "    \n",
    "    if(diagnose){print(paste(\"Duplicate:\",duplicate,\"Symmetrise:\", symmeterise))}\n",
    "    \n",
    "    # first, get a full label for each trial\n",
    "    datadf <- subset(datadf, trial_type != 'catch')\n",
    "    \n",
    "    if(symmeterise){\n",
    "        \n",
    "        if(diagnose){print(paste(\"Initiate symmeterisation\"))}\n",
    "        \n",
    "        datadf <- datadf %>%\n",
    "        rowwise() %>%\n",
    "        mutate(color.eccen1 = paste(c(e2l(Circle_1),Color_1),collapse=' - ')) %>%\n",
    "        mutate(color.eccen2 = paste(c(e2l(Circle_2),Color_2),collapse=' - ')) %>%\n",
    "        mutate(color.eccen = paste(sort(c(e2l(Circle_1),Color_1,e2l(Circle_2),Color_2)),collapse=':')) %>%\n",
    "        ungroup()\n",
    "\n",
    "        # take the average across symmetric trials (e.g. C-blue, P-green & C-green, P-blue)\n",
    "\n",
    "        datadf <- aggregate(datadf, by = list(datadf$color.eccen),mean)\n",
    "        datadf$color.eccen <- datadf$Group.1 \n",
    "\n",
    "        # get some labels back for plotting below that we destroyed in the process\n",
    "        datadf$color.eccen.sacrifice <- datadf$color.eccen\n",
    "\n",
    "        datadf <- datadf %>% separate(color.eccen.sacrifice, c(\"color.1\",\"color.2\",\"eccen.1\",\"eccen.2\"),':')\n",
    "\n",
    "\n",
    "\n",
    "        datadf$color1.eccen1 <- paste(datadf$eccen.1,datadf$color.1)\n",
    "        datadf$color2.eccen2 <- paste(datadf$eccen.2,datadf$color.2)\n",
    "    }\n",
    "    \n",
    "    # duplicate some rows if we want to plot a full matrix - for aesthetic reasons\n",
    "    # I'm sorry for how ugly this is but I had so many bugs making it for unfathomable reasons (to me) that I'm not\n",
    "    # going to change it now. Feel free to clean it up for me\n",
    "    if(duplicate){\n",
    "        if(diagnose){print(paste(\"Initiate CP/PC duplication\"))}\n",
    "        tempdf <- subset(datadf,(color.1 != color.2))\n",
    "        \n",
    "        tempdf$color1.eccen1.temp <- tempdf$color1.eccen1\n",
    "        tempdf$color2.eccen2.temp <- tempdf$color2.eccen2\n",
    "\n",
    "        tempdf$color1.eccen1 <- tempdf$color2.eccen2.temp\n",
    "        tempdf$color2.eccen2 <- tempdf$color1.eccen1.temp\n",
    "             \n",
    "        \n",
    "        tempdf <- subset(tempdf, select = -c(color1.eccen1.temp, color2.eccen2.temp))\n",
    "        \n",
    "        tempdf2 <- subset(tempdf, substr(tempdf$color.eccen, 16, nchar(tempdf$color.eccen)) == ':Foveal:Peripheral')\n",
    "        \n",
    "        tempdf <- subset(tempdf, substr(tempdf$color.eccen, 16, nchar(tempdf$color.eccen)) != ':Foveal:Peripheral')\n",
    "        \n",
    "        tempdf2$temp1 <- tempdf2$color1.eccen1\n",
    "        tempdf2$color1.eccen1 <- paste('Foveal',substr(tempdf2$temp1,nchar(tempdf2$temp1)-7+1,nchar(tempdf2$temp1)))\n",
    "        tempdf2$temp2 <- tempdf2$color2.eccen2\n",
    "        tempdf2$color2.eccen2 <- paste('Peripheral',substr(tempdf2$temp2,nchar(tempdf2$temp2)-7+1,nchar(tempdf2$temp2)))\n",
    "        debug <- subset(tempdf2, select=c(color1.eccen1,temp1,color2.eccen2,temp2))\n",
    "        tempdf2 <- subset(tempdf2, select = -c(temp1,temp2))\n",
    "        \n",
    "        \n",
    "        datadf <- rbind(datadf,tempdf,tempdf2)\n",
    "        \n",
    "    \n",
    "        datadf$color <- substr(datadf$color.eccen, 1, 15) # get a colour pair label\n",
    "        datadf$color1 <- substr(datadf$color, 1, 7)\n",
    "        datadf$color2 <- substr(datadf$color, 9, 15)\n",
    "    } else {\n",
    "        datadf$Circle_1[datadf$Circle_1 == -1] <- 'Foveal'\n",
    "        datadf$Circle_2[datadf$Circle_2 == -1] <- 'Foveal'\n",
    "        datadf$Circle_1[datadf$Circle_1 == 1] <- 'Peripheral'\n",
    "        datadf$Circle_2[datadf$Circle_2 == 1] <- 'Peripheral'\n",
    "        datadf$color1.eccen1 <- paste(datadf$Circle_1,datadf$Color_1,sep=' ')\n",
    "        datadf$color2.eccen2 <- paste(datadf$Circle_2,datadf$Color_2,sep=' ')\n",
    "\n",
    "    }\n",
    "    \n",
    "    # refactor the levels so they can be plotted properly later if need be\n",
    "       datadf$color1.eccen1 <- with(datadf, factor(color1.eccen1, levels = eccens.colors))\n",
    "       datadf$color2.eccen2 <- with(datadf, factor(color2.eccen2, levels = eccens.colors))\n",
    "    if(diagnose){print(paste(\"Subject trial number:\", nrow(datadf)))}\n",
    "     \n",
    "    \n",
    "    #print(datadf$color1.eccen1)\n",
    "    return(datadf)\n",
    "}"
   ]
  },
  {
   "cell_type": "code",
   "execution_count": 20,
   "metadata": {},
   "outputs": [
    {
     "ename": "ERROR",
     "evalue": "Error in subset(datadf, subject == 790529144): object 'datadf' not found\n",
     "output_type": "error",
     "traceback": [
      "Error in subset(datadf, subject == 790529144): object 'datadf' not found\nTraceback:\n",
      "1. subset(datadf, subject == 790529144)"
     ]
    }
   ],
   "source": [
    "testdf <- subset(datadf, subject == 790529144)\n",
    "#data <- dissimdata.full(testdf,symmeterise=TRUE, duplicate=TRUE)\n",
    "data2 <- dissimdata.full(testdf,symmeterise=TRUE, duplicate=TRUE, diagnose=TRUE)\n",
    "#data$color1.eccen1\n",
    "#dissimplot.full(data)\n",
    "#dissimplot.full(data2)\n",
    "data2 <- color.eccen.mat(data2,duplicate=TRUE)\n",
    "#color.eccen.mat(testdf, output='matrix')\n",
    "datamat2 <- color.eccen.mat(data2, output='matrix',duplicate=FALSE)\n",
    "#datamat2\n",
    "#dissimplot.full(data2)\n",
    "#CPmat <- data[1:9,10:18]\n",
    "#PCmat <- t(CPmat)\n",
    "#CPmat\n",
    "#PCmat"
   ]
  },
  {
   "cell_type": "code",
   "execution_count": 21,
   "metadata": {},
   "outputs": [],
   "source": [
    "# rotate a vector\n",
    "rotate.vec <- function(vec, rotation){\n",
    "    indexshift = round((rotation/360)*length(vec),0)\n",
    "    if (indexshift == 0){\n",
    "        return(vec)\n",
    "    } else {\n",
    "        return(c(tail(vec, -indexshift), head(vec, indexshift)))\n",
    "    }\n",
    "}"
   ]
  },
  {
   "cell_type": "code",
   "execution_count": 22,
   "metadata": {},
   "outputs": [],
   "source": [
    "# swap the labels\n",
    "matswap <- function(mat,mode='random',rotation=90){\n",
    "    \n",
    "    labels <- rownames(mat)\n",
    "    if(mode=='random'){\n",
    "        labels.swapped <- sample(labels)\n",
    "    } else if (mode=='inversion'){\n",
    "        labels.swapped <- c('#FF0000','#FF00AA','#AA00FF','#0000FF','#00A9FF','#00FFA9','#00FF00','#AAFF00','#FFAA00')\n",
    "    } else if (mode=='rotation'){\n",
    "        labels.swapped <- rotate.vec(labels,rotation)\n",
    "    }\n",
    "    \n",
    "    rownames(mat) <- labels.swapped\n",
    "    colnames(mat) <- labels.swapped\n",
    "    \n",
    "    # sort the matrix\n",
    "    mat <- mat[, sort(colnames(mat))][sort(rownames(mat)),]\n",
    "    \n",
    "    return(mat)\n",
    "    \n",
    "}"
   ]
  },
  {
   "cell_type": "code",
   "execution_count": 23,
   "metadata": {},
   "outputs": [],
   "source": [
    "# label the rows with the two colours independent of arbitrary ordering\n",
    "dissimplot.full <- function(datadf, mode='standard',rotation=90,dependent='dissimilarity'){\n",
    "        \n",
    "    if(dependent=='RT'){\n",
    "        #datadf$similarity <- log10(datadf$similarity)\n",
    "    }\n",
    "    \n",
    "    plot <- ggplot(datadf, aes(x = color1.eccen1, y = color2.eccen2)) \n",
    "    \n",
    "    if(mode=='standard'){\n",
    "        color.list <- c(colors,colors)\n",
    "    } else if (mode=='inversion'){\n",
    "        color.list <- c(colors, inverted.colors)\n",
    "    } else if (mode == 'rotation'){\n",
    "        color.list <- c(colors, rotate.vec(colors,rotation))\n",
    "    }\n",
    "    plot <- plot + theme(axis.text.x = element_text(colour=color.list,angle=90),\n",
    "                        axis.text.y = element_text(colour=color.list),\n",
    "                      axis.title.x = element_blank(), axis.title.y = element_blank(),\n",
    "                      plot.title = element_text(hjust = 0.5))\n",
    "    \n",
    "    \n",
    "    \n",
    "    # dissimilarity plot\n",
    "    if(dependent=='dissimilarity'){\n",
    "        plot <- plot + geom_raster(aes(fill = similarity)) +\n",
    "                scale_fill_gradientn(colours = c(\"white\",\"black\"),\n",
    "                                    limits=c(0,7),\n",
    "                                    breaks=c(0,1,2,3,4,5,6,7)) +\n",
    "                guides(fill=guide_legend(title=\"Dissimilarity\"))\n",
    "    }\n",
    "    if(dependent=='RT'){\n",
    "        plot <- plot + geom_raster(aes(fill = similarity)) +\n",
    "                scale_fill_gradientn(colours = c(\"white\",\"black\"), trans = \"log\",\n",
    "                                    #limits=c(1000,1600),\n",
    "                                    #limits=c(2.9,3.3),\n",
    "                                    #breaks=c(2.9,3,3.146,3.255,3.3),\n",
    "                                     limits = c(800,2000),\n",
    "                                    breaks=c(800,1000,1400,1800),\n",
    "                                    labels=c(800,1000,1400,1800)\n",
    "                                    ) +\n",
    "                guides(fill=guide_legend(title=\"RT (log)\"))\n",
    "    }\n",
    "    return(plot)\n",
    "    \n",
    "}"
   ]
  },
  {
   "cell_type": "code",
   "execution_count": 24,
   "metadata": {},
   "outputs": [],
   "source": [
    "df2mat.full <- function(datadf,eccentricity1=l2e('Foveal'),eccentricity2=l2e('Foveal')){\n",
    " \n",
    "    # select only the eccentricities we want to keep, e.g. (foveal, foveal)\n",
    "    datadf <- subset(datadf, Circle_1 == eccentricity1 & Circle_2 == eccentricity2)\n",
    "\n",
    "    # aggregate over the remaining columns of interest\n",
    "    datadf <- aggregate(datadf, by = list(datadf$Color_1, datadf$Color_2),FUN=mean)\n",
    "    datadf$Color_1 <- datadf$Group.1\n",
    "    datadf$Color_2 <- datadf$Group.2\n",
    "\n",
    "    datadf = subset(datadf, select = c(\"Color_1\",\"Color_2\",\"similarity\"))  # get rid of unnecessary columns\n",
    "    datadf <- spread(datadf, Color_1, similarity)\n",
    "    \n",
    "    # convert the dataframe to a matrix\n",
    "    datamatrix <- data.matrix(datadf)\n",
    "    datamatrix <- datamatrix[,-1] # get rid of the labels in the first column, it messes up the code\n",
    "    datamatrix <- make.symmetric(datamatrix) # averaging over Color_1 vs. Color_2 & Color_2 vs. Color_1    \n",
    "    rownames(datamatrix) <- colnames(datamatrix)\n",
    "    \n",
    "    # sort the matrix\n",
    "    datamatrix <- datamatrix[, sort(colnames(datamatrix))][sort(rownames(datamatrix)),]\n",
    "    \n",
    "    return(datamatrix)\n",
    "    \n",
    "}"
   ]
  },
  {
   "cell_type": "markdown",
   "metadata": {},
   "source": [
    "#### Testing different method using matrix plots"
   ]
  },
  {
   "cell_type": "code",
   "execution_count": 25,
   "metadata": {},
   "outputs": [],
   "source": [
    "#\n",
    "color.eccen.mat <- function(datadf,output='DF',mode='identity',rotation=90,plot=FALSE,dependent='dissimilarity',\n",
    "                           duplicate=TRUE){\n",
    "    library('plot.matrix')\n",
    "    if(dependent=='RT'){\n",
    "        datadf$similarity <- datadf$response_time\n",
    "    }\n",
    "    data <- subset(datadf, select = c(color1.eccen1, color2.eccen2, similarity))\n",
    "    data <- spread(data, color1.eccen1, similarity)\n",
    "    row.names <- data$color2.eccen2\n",
    "    data.mat <- data.matrix(data)\n",
    "    rownames(data.mat) <- row.names\n",
    "    data.mat <- data.mat[,-1] # get rid of the redundant first column\n",
    "    \n",
    "    # duplicate Foveal x Peripheral matrix\n",
    "    # 1. Make this only if requested\n",
    "    # 2. Shouldn't this be transposed?\n",
    "    if(duplicate){\n",
    "        PF <- data.mat[10:18, 1:9]\n",
    "        data.mat[1:9,10:18] <- t(PF)\n",
    "    }\n",
    "    \n",
    "    \n",
    "    # perform a label swap\n",
    "    peripheral.labels <- c(10:18)\n",
    "    if(mode == 'random'){\n",
    "        swap.vec <- sample(peripheral.labels) # pick a random ordering of the peripheral labels\n",
    "    } else if (mode == 'rotate'){\n",
    "        swap.vec <- rotate.vec(peripheral.labels,rotation=rotation)\n",
    "    } else if (mode == 'invert'){\n",
    "        swap.vec <- match(inverted.colors,colors) + 9\n",
    "    }\n",
    "    if(mode != 'identity'){ # do the swap\n",
    "        data.mat[10:18,] <- data.mat[swap.vec, ] # reorder the rows\n",
    "        data.mat[,10:18] <- data.mat[, swap.vec] # reorder the columns\n",
    "    }\n",
    "        \n",
    "    \n",
    "    # plot the data\n",
    "    if(plot){\n",
    "        plot(data.mat, col=gray.colors(8, start=0, end=1, gamma=0.75, rev=TRUE),\n",
    "         xlab = 'Fovea                                      Periphery',\n",
    "        ylab = 'Fovea                                      Periphery')\n",
    "    }\n",
    "    \n",
    "    \n",
    "    # choose output type\n",
    "    if(output == 'DF'){\n",
    "        data <- as.data.frame(as.table(data.mat))\n",
    "        colnames(data) <- c(\"color1.eccen1\",\"color2.eccen2\",\"similarity\")\n",
    "        return(data)\n",
    "    } else if (output == 'matrix'){\n",
    "        return(data.mat)\n",
    "    }\n",
    "}"
   ]
  },
  {
   "cell_type": "markdown",
   "metadata": {},
   "source": [
    "#### Examining stimulus location"
   ]
  },
  {
   "cell_type": "code",
   "execution_count": 26,
   "metadata": {},
   "outputs": [],
   "source": [
    "# label the hemifield that a stimulus was in\n",
    "label.val <- function(angle){\n",
    "    val <- abs(as.numeric(angle))\n",
    "    print(val) # testing\n",
    "    if((val) <= 30){\n",
    "        return('RIGHT')\n",
    "    } else {\n",
    "        return('LEFT')\n",
    "    }\n",
    "}\n",
    "\n",
    "label.hemifield <- function(datadf){\n",
    "    \n",
    "    datadf$angle_1 <- as.vector(datadf$angle_1)\n",
    "    datadf$angle_2 <- as.vector(datadf$angle_2)\n",
    "    datadf$stim_1_hemifield <- label.val(datadf$angle_1)\n",
    "    datadf$stim_2_hemifield <- label.val(datadf$angle_2)\n",
    "    return(datadf)\n",
    "}"
   ]
  },
  {
   "cell_type": "code",
   "execution_count": 27,
   "metadata": {},
   "outputs": [],
   "source": [
    "#testdf <- label.hemifield(testdf)"
   ]
  },
  {
   "cell_type": "code",
   "execution_count": 28,
   "metadata": {},
   "outputs": [],
   "source": [
    "#testdf$stim_1_hemifield"
   ]
  },
  {
   "cell_type": "markdown",
   "metadata": {},
   "source": [
    "#### Multidimensional Scaling Plots"
   ]
  },
  {
   "cell_type": "code",
   "execution_count": 29,
   "metadata": {},
   "outputs": [],
   "source": [
    "# turn a dataset into a matrix\n",
    "df2mat <- function(datadf,eccentricity1,eccentricity2,dependent='color'){\n",
    "    \n",
    "    # select only the eccentricities we want to keep, e.g. (foveal, foveal)\n",
    "    datadf = subset(datadf, Circle_1 == eccentricity1 & Circle_2 == eccentricity2)\n",
    "    \n",
    "    if(dependent == 'position'){ # using stimulus location as a negative control\n",
    "        # aggregate over the remaining columns of interest\n",
    "        nmdsdata <- aggregate(datadf, by = list(datadf$bin1, datadf$bin2),FUN=mean)\n",
    "        nmdsdata$bin1 <- nmdsdata$Group.1\n",
    "        nmdsdata$bin2 <- nmdsdata$Group.2\n",
    "        \n",
    "        nmdsdata = subset(nmdsdata, select = c(\"bin1\",\"bin2\",\"similarity\"))  # get rid of unnecessary columns\n",
    "        nmdsmatrix <- spread(nmdsdata, bin1, similarity)\n",
    "    } else { # color as per normal\n",
    "        # aggregate over the remaining columns of interest\n",
    "        nmdsdata <- aggregate(datadf, by = list(datadf$Color_1, datadf$Color_2),FUN=mean)\n",
    "        nmdsdata$Color_1 <- nmdsdata$Group.1\n",
    "        nmdsdata$Color_2 <- nmdsdata$Group.2\n",
    "        \n",
    "        nmdsdata = subset(nmdsdata, select = c(\"Color_1\",\"Color_2\",\"similarity\"))  # get rid of unnecessary columns\n",
    "        nmdsmatrix <- spread(nmdsdata, Color_1, similarity)\n",
    "    }\n",
    "    \n",
    "    # convert the dataframe to a matrix\n",
    "    nmdsmatrix <- data.matrix(nmdsmatrix)\n",
    "    nmdsmatrix <- nmdsmatrix[,-1] # get rid of the labels in the first column, it messes up the code\n",
    "    \n",
    "    # having 0 dissimilarity between identical objects messes up the algorithm\n",
    "    # changing the 0 values to an arbitrarily small value, but this is not a good long-term solution\n",
    "    # need to find a better way of doing this\n",
    "    nmdsmatrix[nmdsmatrix == 0] <- 0.01\n",
    "    \n",
    "    \n",
    "    nmdsmatrix <- make.symmetric(nmdsmatrix) # averaging over Color_1 vs. Color_2 & Color_2 vs. Color_1    \n",
    "    return(nmdsmatrix)\n",
    "}"
   ]
  },
  {
   "cell_type": "code",
   "execution_count": 30,
   "metadata": {},
   "outputs": [],
   "source": [
    "# convert a standard matrix to a distance matrix\n",
    "mat2dist <- function(mat){\n",
    "    \n",
    "    return(distmat <- as.dist(mat))\n",
    "}"
   ]
  },
  {
   "cell_type": "markdown",
   "metadata": {},
   "source": [
    "Non-metric multidimensional scaling (NMDS)"
   ]
  },
  {
   "cell_type": "code",
   "execution_count": 31,
   "metadata": {},
   "outputs": [],
   "source": [
    "# find the nmds fit for a dataset\n",
    "nmdsfit <- function(distmatrix){\n",
    "      \n",
    "    fit <- isoMDS(distmatrix,k=2, maxit=100)\n",
    "    return(fit)\n",
    "}"
   ]
  },
  {
   "cell_type": "code",
   "execution_count": 32,
   "metadata": {},
   "outputs": [],
   "source": [
    "# plot the nmds fit\n",
    "nmdsplot <- function(fit, colors, abcolors, eccentricity1, eccentricity2){\n",
    "    \n",
    "    # get labels\n",
    "    \n",
    "    # change the nmdsfit back to a dataframe\n",
    "    nmdsdf <- as.data.frame(fit)\n",
    "    \n",
    "    plot <-     ggplot(nmdsdf, aes(x = points.1, y = points.2, color=colors, fill=colors)) + geom_point(size =10) + \n",
    "                scale_colour_manual(values = abcolors) + scale_fill_manual(values = abcolors) + \n",
    "                xlab(\"Dimension 1\") + ylab(\"Dimension 2\") + \n",
    "                ggtitle(paste(e2l(eccentricity1),e2l(eccentricity2),'Non-metric MDS',sep=' - '))\n",
    "    return(plot)\n",
    "}"
   ]
  },
  {
   "cell_type": "markdown",
   "metadata": {},
   "source": [
    "Classical multidimensional scaling"
   ]
  },
  {
   "cell_type": "code",
   "execution_count": 33,
   "metadata": {},
   "outputs": [],
   "source": [
    "# find the cmds fit for a dataset\n",
    "cmdsfit <- function(distmatrix){\n",
    "    \n",
    "    fit <- cmdscale(distmatrix,k=2)\n",
    "    return(fit)\n",
    "}"
   ]
  },
  {
   "cell_type": "code",
   "execution_count": 34,
   "metadata": {},
   "outputs": [],
   "source": [
    "# plot the cmds fit\n",
    "cmdsplot <- function(fit, colors, abcolors, eccentricity1, eccentricity2){\n",
    "    \n",
    "    # get labels\n",
    "    \n",
    "    # change the nmdsfit back to a dataframe\n",
    "    nmdsdf <- as.data.frame(fit)\n",
    "    \n",
    "    plot <-     ggplot(nmdsdf, aes(x = V1, y = V2, color=colors, fill=colors)) + geom_point(size =10) + \n",
    "                scale_colour_manual(values = abcolors) + scale_fill_manual(values = abcolors) + \n",
    "                xlab(\"Dimension 1\") + ylab(\"Dimension 2\") + \n",
    "                ggtitle(paste(e2l(eccentricity1),e2l(eccentricity2),'Classical MDS',sep=' - '))\n",
    "    return(plot)\n",
    "}"
   ]
  },
  {
   "cell_type": "markdown",
   "metadata": {},
   "source": [
    "#### Some control measure plots"
   ]
  },
  {
   "cell_type": "markdown",
   "metadata": {},
   "source": [
    "Reaction time vs. similarity judgements"
   ]
  },
  {
   "cell_type": "code",
   "execution_count": 35,
   "metadata": {},
   "outputs": [],
   "source": [
    "# similarity judgement histogram\n",
    "simhistplot <- function(datadf){\n",
    "    \n",
    "   plot <- ggplot(datadf, aes(x = similarity)) + geom_bar(aes(y = ..prop..)) +\n",
    "    scale_x_discrete(limits=c(0,1,2,3,4,5,6,7), name = 'Dissimilarity') +\n",
    "    ylab('Frequency') + ylim(0,0.8)\n",
    "    return(plot)\n",
    "}\n",
    "\n",
    "simhistplot_summary <- function(datadf,QDM='FULL'){\n",
    "    \n",
    "    if(QDM == 'FP'){\n",
    "        datadf <- subset(datadf, ((Circle_1 == l2e('Foveal') & Circle_2 == l2e('Peripheral')) |\n",
    "                                 (Circle_1 == l2e('Peripheral') & Circle_2 == l2e('Foveal'))\n",
    "                                 ))\n",
    "    }\n",
    "    \n",
    "    datadf$subject <- as.character(datadf$subject) # necessary for visualisation\n",
    "    \n",
    "    plot <- ggplot(datadf, aes(x = similarity)) + \n",
    "    geom_line(stat='count',aes(y = ..prop..,group = subject),color='#CC9933') +\n",
    "    geom_line(stat='count',aes(y = ..prop..),size=1.5) +\n",
    "    scale_x_discrete(limits=c(0,1,2,3,4,5,6,7), name = paste(QDM,'Dissimilarity')) +\n",
    "    ylab('Frequency') + ylim(0,0.8)\n",
    "    return(plot)\n",
    "    \n",
    "}"
   ]
  },
  {
   "cell_type": "code",
   "execution_count": 36,
   "metadata": {},
   "outputs": [],
   "source": [
    "# reaction time for each similarity\n",
    "rsplot <- function(datadf){\n",
    "    \n",
    "    plot <- ggplot(datadf, aes(x= similarity, y=response_time)) + \n",
    "    stat_summary(fun.data = mean_se, geom = \"errorbar\", size =0.5, aes(width=0.5)) +\n",
    "    scale_x_discrete(limits=c(0,1,2,3,4,5,6,7), name = 'Dissimilarity') + ylab('Reaction Time (ms)') +\n",
    "    theme(legend.position = \"none\") +\n",
    "    \n",
    "    ylim(0,4000) # anyone taking more than 4 seconds has probably mindwandered\n",
    "    \n",
    "    return(plot)\n",
    "}\n",
    "\n",
    "rsplot_summary <- function(datadf){\n",
    "    \n",
    "    datadf$subject <- as.character(datadf$subject) # necessary for visualisation\n",
    "    \n",
    "    \n",
    "    plot <- ggplot(datadf, aes(x= similarity, y=response_time,group = subject, color = subject)) + \n",
    "    stat_summary(fun.y = mean, geom = \"line\", size=0.8) + \n",
    "    stat_summary(fun.y = mean, geom = \"line\", size=2.5, aes(group=1)) + # add a population summary\n",
    "    #stat_summary(fun.data = mean_se, geom = \"errorbar\", size =0.5, aes(width=0.5)) +\n",
    "    scale_x_discrete(limits=c(0,1,2,3,4,5,6,7), name = 'Dissimilarity') + ylab('Mean Reaction Time (ms)') +\n",
    "    theme(legend.position = \"none\") +\n",
    "    ylim(0,4000) # anyone taking more than 4 seconds has probably mindwandered \n",
    "    \n",
    "    return(plot)\n",
    "    \n",
    "}"
   ]
  },
  {
   "cell_type": "code",
   "execution_count": 37,
   "metadata": {},
   "outputs": [],
   "source": [
    "# reaction time raincloud plot\n",
    "rsplot_raincloud <- function(datadf,xtype='linear'){\n",
    "    \n",
    "    datadf$subject <- as.character(datadf$subject) # necessary for visualisation  \n",
    "    datadf$similarity <- as.character(datadf$similarity) # necessary for visualisation\n",
    "    \n",
    "    ylabtext = 'Reaction Time (ms)'\n",
    "    \n",
    "    plot <- ggplot(datadf, aes(y = response_time, x = similarity, fill = similarity)) +\n",
    "            geom_flat_violin(position = position_nudge(x = .2, y = 0), alpha = .8) +\n",
    "            geom_point(aes(y = response_time, color = similarity),\n",
    "                   position = position_jitter(width = .15), size = .5, alpha = 0.8) +\n",
    "            geom_boxplot(width = .1, guides = FALSE, outlier.shape = NA, alpha = 0.5) +\n",
    "            expand_limits(x = 5.25) +\n",
    "            guides(fill = FALSE) +\n",
    "            guides(color = FALSE) +\n",
    "            scale_color_brewer(palette = \"Spectral\") +\n",
    "            scale_fill_brewer(palette = \"Spectral\") +\n",
    "            xlab('Dissimilarity') + ylab(\"Reaction Time (ms)\")\n",
    "            # coord_flip() +\n",
    "            theme_bw() +\n",
    "            raincloud_theme\n",
    "    \n",
    "    if(xtype == 'log'){\n",
    "        plot <- plot + scale_y_continuous(trans='log10') + ylim(0,15000)\n",
    "    } else{\n",
    "        plot <- plot + ylim(0,5000)\n",
    "    }\n",
    "    \n",
    "    return(plot)\n",
    "}"
   ]
  },
  {
   "cell_type": "code",
   "execution_count": 38,
   "metadata": {},
   "outputs": [],
   "source": [
    "# correlation between reaction times and similarity judgements\n",
    "# grouping at individual trial, individual participant, experiment or entire population level\n",
    "rt_similarity_cor <- function(datadf,level='participant'){\n",
    "        \n",
    "    if(level==\"participant\"){\n",
    "        datadf <- datadf %>% \n",
    "                group_by(subject) %>% \n",
    "                mutate(rt_similarity_correlation = cor(similarity,response_time))\n",
    "        datadf <- aggregate(datadf, by=list(datadf$subject), FUN = mean)\n",
    "\n",
    "                \n",
    "    }\n",
    "    return(datadf)\n",
    "    \n",
    "}\n",
    "\n",
    "rt_similarity_plot <- function(datadf,xlabel='BLANK'){\n",
    "    \n",
    "    datadf <- rt_similarity_cor(datadf)\n",
    "    \n",
    "    datadf[xlabel] = xlabel\n",
    "    \n",
    "    plot <- ggplot(datadf,aes(x=xlabel,y=rt_similarity_correlation)) + \n",
    "                geom_boxplot() + \n",
    "                geom_dotplot(binaxis='y',stackdir='center',dotsize=0.75) +\n",
    "                theme(text = element_text(size=15)) + xlab(\"\")\n",
    "                ggtitle(title)\n",
    "    \n",
    "    plot <- plot + ylab(\"Correlation (Spearman)\") + ylim(-1,1)\n",
    "    plot <- plot + geom_hline(yintercept=0, linetype=\"dashed\", color = \"blue\")\n",
    "    return(plot)\n",
    "}"
   ]
  },
  {
   "cell_type": "code",
   "execution_count": 39,
   "metadata": {},
   "outputs": [],
   "source": [
    "# mean reaction time vs. antitrace-trace difference\n",
    "rt_difference <- function(datadf){\n",
    "    \n",
    "    subjectlist <- sort(unique(datadf$subject)) # obtain a list of all the subjects\n",
    "    \n",
    "    for(ID in subjectlist){\n",
    "        tempdf <- subset(datadf, subject == ID)\n",
    "        datadf$difference[datadf$subject == ID] = unlist(antitrace_avg(tempdf),use.names=FALSE)[1] - \n",
    "                   unlist(trace_avg(tempdf),use.names=FALSE)[1]\n",
    "    }\n",
    "        datadf <- aggregate(datadf, by=list(datadf$subject), FUN = mean)\n",
    "    return(datadf)\n",
    "}\n",
    "\n",
    "rt_difference_plot <- function(datadf,xtype='linear'){\n",
    "    \n",
    "    datadf$subject <- as.character(datadf$subject) # necessary for visualisation\n",
    "    \n",
    "    plot <- ggplot(rt_difference(datadf), aes(x=response_time, y=difference)) +\n",
    "            geom_point() + xlab(\"Mean Reaction Time\") + ylab(\"Antitrace - Trace\")\n",
    "    \n",
    "    if(xtype == 'log'){\n",
    "        plot <- plot + scale_x_continuous(trans='log10')\n",
    "    } else{\n",
    "        plot <- plot + xlim(0,5000)\n",
    "    }\n",
    "    plot <- plot + geom_smooth(method=lm) # linear line of best fit\n",
    "    return(plot)\n",
    "}"
   ]
  },
  {
   "cell_type": "code",
   "execution_count": 40,
   "metadata": {},
   "outputs": [],
   "source": [
    "# mean reaction time vs. catch trial score\n",
    "rt_catch <- function(datadf){\n",
    "    \n",
    "    subjectlist <- sort(unique(datadf$subject)) # obtain a list of all the subjects\n",
    "    \n",
    "    for(ID in subjectlist){\n",
    "        tempdf <- subset(datadf, subject == ID)\n",
    "        datadf$catch_score[datadf$subject == ID] = unlist(catch_score(tempdf),use.names=FALSE)[1]\n",
    "    }\n",
    "        datadf <- aggregate(datadf, by=list(datadf$subject), FUN = mean)\n",
    "    return(datadf)\n",
    "}\n",
    "\n",
    "rt_catch_plot <- function(datadf,xtype='linear',label=FALSE){\n",
    "    \n",
    "    datadf <- rt_catch(datadf)\n",
    "    datadf$subject <- as.character(datadf$subject) # necessary for visualisation\n",
    "    \n",
    "    plot <- ggplot(datadf, aes(x=response_time, y=catch_score)) +\n",
    "            geom_point() + xlab(\"Mean Reaction Time\") + ylab(\"Catch Score\")\n",
    "    \n",
    "    if(xtype == 'log'){\n",
    "        plot <- plot + scale_x_continuous(trans='log10')+ xlim(0,5000)\n",
    "    } else{\n",
    "        plot <- plot + xlim(0,5000)\n",
    "    }\n",
    "    plot <- plot + geom_smooth(method=lm) + ylim(0,1) # linear line of best fit\n",
    "    #plot <- plot + geom_point(aes(color = subject))\n",
    "    if(label){\n",
    "        plot <- plot + geom_text(aes(label = subject),check_overlap=TRUE)\n",
    "    }\n",
    "    return(plot)\n",
    "}"
   ]
  },
  {
   "cell_type": "code",
   "execution_count": 41,
   "metadata": {},
   "outputs": [],
   "source": [
    "#rt_catch_plot(datadf, xtype='log')"
   ]
  },
  {
   "cell_type": "code",
   "execution_count": 42,
   "metadata": {},
   "outputs": [],
   "source": [
    "# mean antitrace-trace difference vs. catch trial score\n",
    "catch_difference <- function(datadf){\n",
    "    \n",
    "    subjectlist <- sort(unique(datadf$subject)) # obtain a list of all the subjects\n",
    "    \n",
    "    for(ID in subjectlist){\n",
    "        tempdf1 <- subset(datadf, subject == ID & trial_type!= 'catch') # remove catch trials for difference calculation\n",
    "        tempdf2 <- subset(datadf, subject == ID) # keep catch trials for score calculation\n",
    "        datadf$difference[datadf$subject == ID] = \n",
    "                   unlist(antitrace_avg(tempdf1),use.names=FALSE)[1] - \n",
    "                   unlist(trace_avg(tempdf1),use.names=FALSE)[1]\n",
    "        datadf$catch_score[datadf$subject == ID] = unlist(catch_score(tempdf2),use.names=FALSE)[1]\n",
    "    }\n",
    "        datadf <- aggregate(datadf, by=list(datadf$subject), FUN = mean)\n",
    "    return(datadf)\n",
    "}\n",
    "\n",
    "catch_difference_plot <- function(datadf,xtype='linear',label=FALSE){\n",
    "    \n",
    "    datadf <- catch_difference(datadf)\n",
    "    datadf$subject <- as.character(datadf$subject) # necessary for visualisation\n",
    "    \n",
    "    plot <- ggplot(datadf, aes(x=difference, y=catch_score)) +\n",
    "            geom_point() + xlab(\"Antitrace - Trace\") + ylab(\"Catch Score\")\n",
    "    \n",
    "    if(xtype == 'log'){\n",
    "        plot <- plot + scale_x_continuous(trans='log10')\n",
    "    } else{\n",
    "        plot <- plot\n",
    "    }\n",
    "    plot <- plot + geom_smooth(method=lm) + ylim(0,1) # linear line of best fit\n",
    "    #plot <- plot + geom_point(aes(color = subject))\n",
    "    if(label){\n",
    "        plot <- plot + geom_text(aes(label = subject),check_overlap=TRUE)\n",
    "    }\n",
    "    return(plot)\n",
    "}"
   ]
  },
  {
   "cell_type": "code",
   "execution_count": 43,
   "metadata": {},
   "outputs": [],
   "source": [
    "# trace values vs. trial #\n",
    "trace_by_trial_plot <- function(datadf,graph='point',mode='relative'){\n",
    "    \n",
    "     datadf$subject <- as.character(datadf$subject) # necessary for visualisation  \n",
    "    \n",
    "    datadf <- subset(datadf, Color_1 == Color_2)\n",
    "    \n",
    "    if(mode=='relative'){\n",
    "        datadf <- datadf %>% group_by(subject) %>% mutate(trialnum = row_number())\n",
    "    } else{\n",
    "        datadf$trialnum <- datadf$trial_number\n",
    "    }\n",
    "        \n",
    "    if(graph=='point'){\n",
    "        plot <- ggplot(datadf, aes(x=trialnum, y = similarity, group = subject, color = subject)) + geom_point()\n",
    "    } else if (graph == 'boxplot'){\n",
    "        plot <- ggplot(datadf, aes(x=trialnum,y = similarity, group = trialnum)) + geom_boxplot() #????\n",
    "    } else if (graph == 'lineplot'){\n",
    "        plot <- ggplot(datadf, aes(x=trialnum, y = similarity,group=subject, color = subject)) + geom_line()\n",
    "    }\n",
    "    \n",
    "    plot <- plot + ylab('Dissimilarity') +  theme(legend.position='none')\n",
    "    \n",
    "    return(plot)\n",
    "    \n",
    "}"
   ]
  },
  {
   "cell_type": "code",
   "execution_count": 44,
   "metadata": {},
   "outputs": [],
   "source": [
    "# subject info\n",
    "sumplot <- function(datadf){\n",
    "    \n",
    "    # change ms to s, add the delay for each trial\n",
    "    datadf$response_time <- ((datadf$response_time + 0.125*nrow(datadf)) / 1000)\n",
    "    \n",
    "    plot <- ggplot(datadf, aes(x=subject, y = response_time)) + \n",
    "    stat_summary(fun.y = sum, geom = \"bar\") + ylim(0,1000) +\n",
    "    ylab('Response Time Total') + theme(axis.title.x=element_blank(), axis.text.x = element_text(size=20))\n",
    "    \n",
    "    return(plot)\n",
    "}"
   ]
  },
  {
   "cell_type": "code",
   "execution_count": 45,
   "metadata": {},
   "outputs": [],
   "source": [
    "# plot to show if swaps increase or decrease correlations\n",
    "colour_connect <- function(datadf,swap='random',comparison='FFvPP',fisher=FALSE){\n",
    "    \n",
    "    datadf <- subset(datadf, magnification != 1) # only use scaled data\n",
    "    datadf <- subset(datadf, select=c(comparison,\"ID\",\"mode\"))\n",
    "    datadf <- subset(datadf, (mode == 'identity' | (mode == swap)))\n",
    "    \n",
    "    # had a weird bug so hardcoded for now, sorry\n",
    "    if(swap == 'random'){\n",
    "        datadf <- datadf %>%\n",
    "                    spread(mode,comparison) %>%\n",
    "                    mutate(is_increasing = random > identity) %>%\n",
    "                    gather('mode','comparison',2:3)\n",
    "        fill.colors <- c(\"red\",\"green\")\n",
    "    } else if (swap == 'invert'){\n",
    "        datadf <- datadf %>%\n",
    "                    spread(mode,comparison) %>%\n",
    "                    mutate(is_increasing = invert > identity) %>%\n",
    "                    gather('mode','comparison',2:3)\n",
    "        fill.colors <- c(\"red\",\"blue\")\n",
    "    } else if (swap == 'rotate'){\n",
    "        datadf <- datadf %>%\n",
    "                    spread(mode,comparison) %>%\n",
    "                    mutate(is_increasing = rotate > identity) %>%\n",
    "                    gather('mode','comparison',2:3)\n",
    "        fill.colors <- c(\"red\",\"purple\")\n",
    "    }\n",
    "    \n",
    "                     \n",
    "    \n",
    "    datadf$correlations <- datadf$comparison\n",
    "    # return to non-fisher-transformed correlation if applicable\n",
    "    if(!fisher){\n",
    "        datadf$correlations <- FisherZInv(datadf$correlations)\n",
    "    }\n",
    "    \n",
    "    # plot it\n",
    "    plot <- ggplot(datadf, aes(y=correlations, x=mode,\n",
    "                               #color=mode, \n",
    "                               fill=mode,\n",
    "                               #group=stimulus_radius\n",
    "                              )) +\n",
    "        geom_boxplot(aes(alpha=0.5)) + \n",
    "        geom_point() +\n",
    "        geom_line(aes(x=mode,y=correlations,group=ID,color=is_increasing)) +\n",
    "        scale_colour_manual(values = c(\"black\",\"red\"),guide='none') +\n",
    "        scale_fill_manual(values = fill.colors) +\n",
    "        xlab('Swap') + labs(color = 'Swap') + theme(axis.text.x = element_text(size = 15),\n",
    "                                         axis.text.y = element_text(size = 15),\n",
    "                                         axis.title.y = element_text(size = 20),\n",
    "                                         axis.title.x = element_text(size=20)) +\n",
    "        scale_alpha(guide='none')\n",
    "        \n",
    "    \n",
    "    if(fisher){\n",
    "        plot <- plot + ylab('Fisher-Transformed Correlation') + ylim(-0.6,2.6)\n",
    "    } else {\n",
    "        plot <- plot + ylab('Correlation') + ylim(-0.2,1)\n",
    "    }\n",
    "      #   \n",
    "                    \n",
    "    \n",
    "    return(plot)\n",
    "}\n",
    "\n",
    "#colour_connect(within_distribution_df,swap='random')\n",
    "#colour_connect(within_distribution_df,swap='invert')\n",
    "#colour_connect(within_distribution_df,swap='rotate')"
   ]
  },
  {
   "cell_type": "code",
   "execution_count": 46,
   "metadata": {},
   "outputs": [],
   "source": [
    "# plot a correlation distribution\n",
    "r_distribution_plot <- function(datadf,fisher=TRUE,comparison='FFvPP',title=TRUE,swaps=TRUE,scaling=TRUE,connected=FALSE){\n",
    "    \n",
    "    if(connected){\n",
    "       datadf <- colour_connect(datadf)\n",
    "    }\n",
    "    \n",
    "    if(!scaling){\n",
    "        datadf <- subset(datadf, magnification != 1) # only use the scaled data\n",
    "    }\n",
    "    \n",
    "    if(comparison == 'FFvPP'){\n",
    "        datadf$correlations <- datadf$FFvPP\n",
    "    } else if (comparison == 'FFvFP'){\n",
    "        datadf$correlations <- datadf$FFvFP\n",
    "    } else if (comparison == 'FPvPP'){\n",
    "        datadf$correlations <- datadf$FPvPP\n",
    "    } else if (comparison == 'all'){\n",
    "        if(!swaps){\n",
    "            datadf <- subset(datadf, mode == 'identity') # get rid of the swaps\n",
    "        }\n",
    "        # Change names for plotting purposes\n",
    "        colnames(datadf)[which(names(datadf) == \"FFvPP\")] <- \"CC - PP\"\n",
    "        colnames(datadf)[which(names(datadf) == \"FFvFP\")] <- \"CC - CP\"\n",
    "        colnames(datadf)[which(names(datadf) == \"FPvPP\")] <- \"CP - PP\"\n",
    "\n",
    "        \n",
    "        datadf <- datadf %>% gather(comparison, correlations, 3:5) # gather up the comparisons\n",
    "    }\n",
    "    \n",
    "    # return to non-fisher-transformed correlation if applicable\n",
    "    if(!fisher){\n",
    "        datadf$correlations <- FisherZInv(datadf$correlations)\n",
    "    }\n",
    "    \n",
    "    #testing\n",
    "    #print(head(datadf,10))    \n",
    "    \n",
    "    # swap plotting\n",
    "    if(comparison != 'all'){\n",
    "        \n",
    "        datadf$magnification <- as.character(datadf$magnification) # needed for axes to work properly\n",
    "        datadf$stimulus_radius <- as.character(datadf$stimulus_radius)\n",
    "        \n",
    "        if(scaling){\n",
    "            if(swaps){\n",
    "                plot <- ggplot(datadf, aes(y=correlations, x=stimulus_radius,color=mode))\n",
    "            } else {\n",
    "                plot <- ggplot(datadf, aes(y=correlations, x=stimulus_radius))\n",
    "            }\n",
    "            plot <- plot + \n",
    "        xlab('Central Stimulus Radius (DVA)') + labs(color = 'Swap') + theme(axis.text.x = element_text(size = 20),\n",
    "                                         axis.text.y = element_text(size = 20),\n",
    "                                         axis.title.y = element_text(size = 25),\n",
    "                                         axis.title.x = element_text(size=25))\n",
    "        } else if(!scaling) {\n",
    "            plot <- ggplot(datadf, aes(y=correlations, x=mode,\n",
    "                                   color=mode, \n",
    "                                   #fill=mode,\n",
    "                                   #group=stimulus_radius\n",
    "                                  )\n",
    "                                  ) +\n",
    "        xlab('Swap') + labs(color = 'Swap') + theme(axis.text.x = element_text(size = 15),\n",
    "                                         axis.text.y = element_text(size = 15),\n",
    "                                         axis.title.y = element_text(size = 20),\n",
    "                                         axis.title.x = element_text(size=20))\n",
    "        }\n",
    "        if(connected){\n",
    "            plot <- plot + geom_line(aes(x=mode,y=correlations,group=ID))\n",
    "        }\n",
    "        \n",
    "    }\n",
    "    # comparison plotting\n",
    "    if(comparison == 'all'){\n",
    "        plot <- ggplot(datadf, aes(y=correlations, x=comparison,\n",
    "                                  #color=mode\n",
    "                                  )) +\n",
    "                        xlab(\"\") + theme(axis.text.x = element_text(size = 15),\n",
    "                                         axis.text.y = element_text(size = 15),\n",
    "                                         axis.title.y = element_text(size = 18))\n",
    "                        \n",
    "    }\n",
    "    \n",
    "    \n",
    "    # generic stuff\n",
    "    if(fisher){\n",
    "        plot <- plot + ylab('Fisher-Transformed Correlation') + ylim(-0.6,2.6)\n",
    "    } else {\n",
    "        plot <- plot + ylab('Correlation') + ylim(-0.2,1)\n",
    "    }\n",
    "    plot <- plot + geom_point(position=position_dodge(width=0.75)) + \n",
    "        geom_boxplot(aes(alpha=0.01)) + \n",
    "        scale_alpha(guide='none') \n",
    "    \n",
    "    if(title){\n",
    "        plot <- plot + ggtitle(paste(\"Comparison:\",comparison,\"---\",\"Magnification:\",datadf$magnification[1])) +\n",
    "            theme(plot.title = element_text(hjust = 0.5))\n",
    "    }\n",
    "    \n",
    "    return(plot)\n",
    "    \n",
    "}\n",
    "#r_distribution_plot(testdf,fisher=FALSE,comparison='all',title=FALSE)\n"
   ]
  },
  {
   "cell_type": "code",
   "execution_count": 47,
   "metadata": {},
   "outputs": [],
   "source": [
    "#head(within_distribution_df)"
   ]
  },
  {
   "cell_type": "markdown",
   "metadata": {},
   "source": [
    "#### Check their screen size & viewing distance"
   ]
  },
  {
   "cell_type": "code",
   "execution_count": 48,
   "metadata": {},
   "outputs": [],
   "source": [
    "# screen size in mm\n",
    "screen_size <- function(datadf){\n",
    "    \n",
    "    datadf <- subset(datadf, trialcode == 'centermouse') # make sure calibrations have finished first\n",
    "    \n",
    "    width <- as.numeric(substr(as.character(datadf$screen_size_x)[1],1,6))\n",
    "    height <- as.numeric(substr(as.character(datadf$screen_size_y)[1],1,6))\n",
    "    \n",
    "    # use pythagoras to just get the hypotenuse. Subjects have a fixed 16/9 aspect ratio so these are all comparable\n",
    "    return(sqrt(width*width + height*height))\n",
    "}"
   ]
  },
  {
   "cell_type": "code",
   "execution_count": 49,
   "metadata": {},
   "outputs": [],
   "source": [
    "# viewing distance in mm\n",
    "view_distance <- function(datadf){\n",
    "    return(as.numeric(substr(as.character(datadf$viewer_distance)[1],1,6)))\n",
    "}"
   ]
  },
  {
   "cell_type": "markdown",
   "metadata": {},
   "source": [
    "### Statistics"
   ]
  },
  {
   "cell_type": "markdown",
   "metadata": {},
   "source": [
    "Useful functions"
   ]
  },
  {
   "cell_type": "code",
   "execution_count": 50,
   "metadata": {},
   "outputs": [],
   "source": [
    "# compare the foveal and peripheral matrices to each other\n",
    "fvp_test <- function(datadf,dependent='color'){\n",
    "    \n",
    "    if(dependent=='position'){\n",
    "        # first, turn the dataframe into the relevant matrices\n",
    "        fmatrix <- df2mat(datadf, l2e('Foveal'), l2e('Foveal'),'position')\n",
    "        #fpmatrix <- distmatrix(datadf, l2e('Foveal'), l2e('Peripheral'))\n",
    "        pmatrix <- df2mat(datadf, l2e('Peripheral'), l2e('Peripheral'),'position')\n",
    "    } else{\n",
    "        # first, turn the dataframe into the relevant matrices\n",
    "        fmatrix <- df2mat(datadf, l2e('Foveal'), l2e('Foveal'))\n",
    "        #fpmatrix <- distmatrix(datadf, l2e('Foveal'), l2e('Peripheral'))\n",
    "        pmatrix <- df2mat(datadf, l2e('Peripheral'), l2e('Peripheral'))\n",
    "    }\n",
    "    #Fovea vs Periphery\n",
    "    test <- mantel(fmatrix, pmatrix, method=\"spearman\",permutations = 9999)\n",
    "    return(test)\n",
    "}"
   ]
  },
  {
   "cell_type": "code",
   "execution_count": 51,
   "metadata": {},
   "outputs": [],
   "source": [
    "# compare the each of the foveal and peripheral matrices to a random uniform distribution using a ... test\n",
    "# not actually sure this is conceptually possible or even makes sense\n",
    "rand_test <- function(datadf){\n",
    "    \n",
    "    # first, turn the dataframe into the relevant matrices\n",
    "    fmatrix <- df2mat(datadf, l2e('Foveal'), l2e('Foveal'))\n",
    "    #fpmatrix <- distmatrix(datadf, l2e('Foveal'), l2e('Peripheral'))\n",
    "    pmatrix <- df2mat(datadf, l2e('Peripheral'), l2e('Peripheral'))\n",
    "    \n",
    "    \n",
    "    # compare\n",
    "    ftest <- \n",
    "    ptest <- \n",
    "    return(list(\"ftest\" = ftest, \"ptest\" = ptest)) # use index of result to get the foveal or peripheral comparison\n",
    "}\n",
    "\n"
   ]
  },
  {
   "cell_type": "code",
   "execution_count": 52,
   "metadata": {},
   "outputs": [],
   "source": [
    "# calculate trace average, small values presumably indicate subjects not just saying everything is completely dissimilar\n",
    "# will also need a complementary method to deal with them saying everything is the same? Might be an inappropriate\n",
    "# a-priori imposition though, I probably can't tell people how similar different colours should be...\n",
    "\n",
    "trace_avg <- function(datadf){\n",
    "    \n",
    "    # first, turn the dataframe into the relevant matrices\n",
    "    fmatrix <- df2mat.full(datadf, l2e('Foveal'), l2e('Foveal'))\n",
    "    #fpmatrix <- distmatrix(datadf, l2e('Foveal'), l2e('Peripheral'))\n",
    "    pmatrix <- df2mat.full(datadf, l2e('Peripheral'), l2e('Peripheral'))\n",
    "    \n",
    "    \n",
    "    \n",
    "    return(list( (sum(diag(fmatrix))/nrow(fmatrix)), (sum(diag(pmatrix))/nrow(pmatrix))))\n",
    "}"
   ]
  },
  {
   "cell_type": "code",
   "execution_count": 53,
   "metadata": {},
   "outputs": [],
   "source": [
    "# calculate the average of the main or off-main diagonal for a QDM for a group of subjects\n",
    "group_trace <- function(datadf,QDM='FP',mode='trace'){\n",
    "    subjectlist <- sort(unique(datadf$subject)) # obtain a list of all the subjects\n",
    "    \n",
    "    trace.vec <- vector()\n",
    "    \n",
    "    for (subjectid in subjectlist){\n",
    "        tempdf <- subset(datadf, subject == subjectid)\n",
    "        if(QDM=='FF'){\n",
    "            matrix <- df2mat.full(tempdf, l2e('Foveal'),l2e('Foveal'))\n",
    "        } else if (QDM == 'FP'){\n",
    "            matrix <- df2mat.full(tempdf, l2e('Foveal'),l2e('Peripheral'))\n",
    "        } else if (QDM == 'PP'){\n",
    "            matrix <- df2mat.full(tempdf, l2e('Peripherial'),l2e('Peripheral'))\n",
    "        }\n",
    "        \n",
    "        #obtain relevant value\n",
    "        if(mode == 'trace'){\n",
    "            trace <- sum(diag(matrix))/nrow(matrix)\n",
    "        } else if (mode=='antitrace'){\n",
    "            trace <- antitrace(matrix)\n",
    "        }\n",
    "        \n",
    "        trace.vec <- c(trace.vec, trace)\n",
    "    }\n",
    "    return(trace.vec)\n",
    "}"
   ]
  },
  {
   "cell_type": "code",
   "execution_count": 54,
   "metadata": {},
   "outputs": [],
   "source": [
    "group_trace_plot <- function(datadf,QDM='FP'){\n",
    "    \n",
    "    subjects <- unique(datadf$subject)\n",
    "    Main <- group_trace(datadf,QDM=QDM,mode='trace')\n",
    "    Antimain <- group_trace(datadf,QDM=QDM,mode='antitrace')\n",
    "    \n",
    "    tempdf <- data.frame(subjects,Main,Antimain)\n",
    "    tempdf <- tempdf %>% gather(feature,value,Main:Antimain)\n",
    "    \n",
    "    plot <- ggplot(tempdf, aes(x=feature,y=value)) + \n",
    "        geom_boxplot() + geom_point() + geom_line(aes(group=paired)) +\n",
    "        ylab(\"Dissimilarity\") + xlab(\"\") + scale_x_discrete(limits=rev(levels(as.factor(tempdf$feature))))\n",
    "    return(plot)\n",
    "}"
   ]
  },
  {
   "cell_type": "code",
   "execution_count": 55,
   "metadata": {},
   "outputs": [],
   "source": [
    "# find the 'anti-trace' of a matrix\n",
    "antitrace <- function(mat){\n",
    "    \n",
    "    sum = 0\n",
    "    for(i in (1:nrow(mat))){\n",
    "        k = as.numeric(mat[ i, as.integer((ncol(mat)/2+i) %% ncol(mat))+1 ])\n",
    "        sum = sum + k\n",
    "    }\n",
    "    return(sum/nrow(mat))\n",
    "}"
   ]
  },
  {
   "cell_type": "code",
   "execution_count": 56,
   "metadata": {},
   "outputs": [],
   "source": [
    "# calculates the average of the 'anti-trace', the values I'd expect to be the most dissimilar.\n",
    "# this may not be an appropriate imposition on subjects...\n",
    "\n",
    "antitrace_avg <- function(datadf){\n",
    "    \n",
    "    # first, turn the dataframe into the relevant matrices\n",
    "    fmatrix <- df2mat.full(datadf, l2e('Foveal'), l2e('Foveal'))\n",
    "    #fpmatrix <- distmatrix(datadf, l2e('Foveal'), l2e('Peripheral'))\n",
    "    pmatrix <- df2mat.full(datadf, l2e('Peripheral'), l2e('Peripheral'))\n",
    "    \n",
    "    return(list(antitrace(fmatrix), antitrace(pmatrix)))\n",
    "}"
   ]
  },
  {
   "cell_type": "code",
   "execution_count": 57,
   "metadata": {},
   "outputs": [],
   "source": [
    "# just get a simple measure of if the matrices are correlated, irrespective of treating them as distance matrices\n",
    "# updated from df2mat to df2mat.full\n",
    "# half version just uses half the matrix as it's symmetrical anyway\n",
    "matrixcor <- function(datadf,M1='FF',M2='PP',dependent='color', mode='half'){\n",
    "    \n",
    "    if(dependent == 'position'){\n",
    "        # first, turn the dataframe into the relevant matrices\n",
    "        matrix1 <- df2mat.full(datadf, l2e('Foveal'), l2e('Foveal'),'position')\n",
    "        #fpmatrix <- distmatrix(datadf, l2e('Foveal'), l2e('Peripheral'))\n",
    "        matrix2 <- df2mat.full(datadf, l2e('Peripheral'), l2e('Peripheral'),'position')\n",
    "    } else {\n",
    "        if((M1 == 'FF' & M2 == 'PP') | (M1 == 'PP' & M2 == 'FF')){\n",
    "            matrix1 <- df2mat.full(datadf, l2e('Foveal'), l2e('Foveal'))\n",
    "            matrix2 <- df2mat.full(datadf, l2e('Peripheral'), l2e('Peripheral'))   \n",
    "        } else if((M1 == 'FF' & M2 == 'FP') | (M1 == 'FP' & M2 == 'FF')) {\n",
    "            matrix1 <- df2mat.full(datadf, l2e('Foveal'), l2e('Foveal'))\n",
    "            matrix2 <- df2mat.full(datadf, l2e('Foveal'), l2e('Peripheral'))\n",
    "        } else if ((M1 == 'FP' & M2 == 'PP') | (M1 == 'PP' & M2 == 'FP')){\n",
    "            matrix1 <- df2mat.full(datadf, l2e('Foveal'), l2e('Peripheral'))\n",
    "            matrix2 <- df2mat.full(datadf, l2e('Peripheral'), l2e('Peripheral'))\n",
    "        }\n",
    "    }\n",
    "    \n",
    "    # just take the upper half (including the diagonal)\n",
    "    if(mode=='half'){\n",
    "        matrix1 <- matrix1[upper.tri(matrix1, diag = TRUE)]\n",
    "        matrix2 <- matrix2[upper.tri(matrix2, diag = TRUE)]\n",
    "    }\n",
    "    \n",
    "    return(cor(c(matrix1), c(matrix2), method = \"spearman\"))\n",
    "}"
   ]
  },
  {
   "cell_type": "code",
   "execution_count": 58,
   "metadata": {},
   "outputs": [],
   "source": [
    "# get median reaction time\n",
    "rt_avg <- function(datadf){\n",
    "    return(median(datadf$response_time))\n",
    "}"
   ]
  },
  {
   "cell_type": "markdown",
   "metadata": {},
   "source": [
    "Run the analysis"
   ]
  },
  {
   "cell_type": "code",
   "execution_count": 59,
   "metadata": {},
   "outputs": [],
   "source": [
    "# stats for all the subjects\n",
    "allsubjectstats <- function(datadf){\n",
    "    \n",
    "    subjectlist <- sort(unique(datadf$subject)) # obtain a list of all the subjects\n",
    "\n",
    "\n",
    "    for (subjectid in subjectlist){\n",
    "        \n",
    "        subjectdf = subset(datadf, subject == subjectid) # select the df for subject of interest\n",
    "        cat(\"SUBJECT: \",subjectid,'\\n') # print subject id\n",
    "        print(\"Mantel Test: \")\n",
    "        print(fvp_test(subjectdf))\n",
    "        print(\"Matrices correlation: \")\n",
    "        print(matrixcor(subjectdf))\n",
    "        print(\"Quality control measures:\")\n",
    "        print(\"Trace average:\")\n",
    "        print(trace_avg(subjectdf))\n",
    "        print(\"Anti-trace average:\")\n",
    "        print(antitrace_avg(subjectdf))\n",
    "    }\n",
    "}"
   ]
  },
  {
   "cell_type": "code",
   "execution_count": 60,
   "metadata": {
    "scrolled": true
   },
   "outputs": [],
   "source": [
    "# function to aggregate everyone's data together\n",
    "aggregate_df <- function(datadf,dependent='color'){\n",
    "\n",
    "    # aggregate everyone's data together for the matrices\n",
    "    everyonedata <- aggregate(datadf, by=list(\n",
    "        datadf$Color_1,\n",
    "        datadf$Color_2,\n",
    "        datadf$Circle_1,\n",
    "        datadf$Circle_2,\n",
    "        datadf$bin1,\n",
    "        datadf$bin2\n",
    "        ), FUN=mean, \n",
    "    )\n",
    "\n",
    "    # correct the column names\n",
    "    everyonedata$Color_1 <- everyonedata$Group.1\n",
    "    everyonedata$Color_2 <- everyonedata$Group.2\n",
    "    everyonedata$Circle_1 <- everyonedata$Group.3\n",
    "    everyonedata$Circle_2 <- everyonedata$Group.4\n",
    "    everyonedata$bin1 <- everyonedata$Group.5\n",
    "    everyonedata$bin2 <- everyonedata$Group.6\n",
    "    \n",
    "    return(everyonedata)\n",
    "}"
   ]
  },
  {
   "cell_type": "code",
   "execution_count": 61,
   "metadata": {},
   "outputs": [],
   "source": [
    "# compliance checker\n",
    "compliance_checker <- function(datadf,eccentricity,trace_cutoff,antitrace_cutoff){\n",
    "    \n",
    "    subjectlist <- sort(unique(datadf$subject)) # obtain a list of all the subjects\n",
    "    n_subject = length(subjectlist)\n",
    "    trace_fail = 0\n",
    "    antitrace_fail = 0\n",
    "    \n",
    "    if(eccentricity == 'Foveal'){\n",
    "        e_ind = 1\n",
    "    } else if (eccentricity == 'Peripheral'){\n",
    "        e_ind = 2\n",
    "    }\n",
    "\n",
    "    for (subjectid in subjectlist){\n",
    "        subjectdf = subset(datadf, subject == subjectid) # select the df for subject of interest\n",
    "        if(trace_avg(subjectdf)[e_ind] > trace_cutoff){\n",
    "            trace_fail = trace_fail + 1\n",
    "        }\n",
    "        if(antitrace_avg(subjectdf)[e_ind] < antitrace_cutoff){\n",
    "            antitrace_fail = antitrace_fail + 1\n",
    "        }\n",
    "    }\n",
    "    print(paste(\"Trace non-compliance: \",trace_fail,\"/\",n_subject))\n",
    "    print(paste(\"Anti-trace non-compliance: \",antitrace_fail,\"/\",n_subject))\n",
    "}"
   ]
  },
  {
   "cell_type": "code",
   "execution_count": 62,
   "metadata": {},
   "outputs": [],
   "source": [
    "# calculate the catch trial score for a subject\n",
    "catch_score <- function(datadf){\n",
    "    datadf <- subset(datadf, trial_type == 'catch')\n",
    "    datadf$correct <- ifelse(as.character(datadf$similarity) == as.character(datadf$catch_vals), 1, 0) # determine whether they got the catch trials right\n",
    "    score <- sum(datadf$correct)/nrow(datadf) # get the score\n",
    "    return(score)\n",
    "}"
   ]
  },
  {
   "cell_type": "code",
   "execution_count": 63,
   "metadata": {},
   "outputs": [],
   "source": [
    "# catch trial checker\n",
    "catch_trial_checker <- function(datadf){\n",
    "    \n",
    "    subjectlist <- sort(unique(datadf$subject))\n",
    "    print(\"Catch scores\")\n",
    "    for (subjectid in subjectlist){\n",
    "        subjectdf = subset(datadf, subject == subjectid)\n",
    "        \n",
    "        catch_trials <- subset(subjectdf, trial_type == 'catch')\n",
    "        catch_num = nrow(catch_trials)\n",
    "        catch_correct = nrow(subset(catch_trials, as.character(catch_vals) == as.character(similarity))) # had to add the as.character to block a bug, don't know why\n",
    "        \n",
    "        print(paste(\"Subject\",subjectid,\":\",catch_correct,\"/\",catch_num))\n",
    "    }\n",
    "}"
   ]
  },
  {
   "cell_type": "code",
   "execution_count": 64,
   "metadata": {},
   "outputs": [],
   "source": [
    "# screen parameters\n",
    "screen_parameters <- function(datadf,individual=FALSE){\n",
    "    \n",
    "    subjectlist <- sort(unique(datadf$subject))\n",
    "    print(\"Screen Parameters\")\n",
    "    screen_fail = 0\n",
    "    viewing_fail = 0\n",
    "    for (subjectid in subjectlist){\n",
    "\n",
    "        subjectdf = subset(datadf, subject == subjectid)\n",
    "        \n",
    "        screen_size <- round(screen_size(subjectdf)/10,1)\n",
    "        viewing_distance <- round(view_distance(subjectdf)/10,1)\n",
    "        \n",
    "        if(screen_size < 20){screen_fail = screen_fail + 1}\n",
    "        if(viewing_distance < 30){viewing_fail = viewing_fail + 1}\n",
    "        \n",
    "        if(individual){\n",
    "            print(paste(\"Subject\",subjectid,\":\"))\n",
    "            print(paste(\"Screen size:\",screen_size,\"cm\"))\n",
    "            print(paste(\"Viewing distance:\",viewing_distance,\"cm\"))\n",
    "            print(\"\")\n",
    "        }\n",
    "        \n",
    "        \n",
    "    }\n",
    "    print(\"\")\n",
    "    print(paste(\"Screen size issues:\",screen_fail,\"/\",length(subjectlist)))\n",
    "    print(paste(\"Viewing distance issues:\",viewing_fail,\"/\",length(subjectlist)))\n",
    "}"
   ]
  },
  {
   "cell_type": "code",
   "execution_count": 65,
   "metadata": {},
   "outputs": [],
   "source": [
    "# summary stats\n",
    "summarystats <- function(datadf,dependent='color'){\n",
    "    if(dependent=='position'){\n",
    "        print(\"Mantel Test: \")\n",
    "        print(fvp_test(aggregate_df(datadf),'position'))\n",
    "        print(\"Matrices correlation: \")\n",
    "        print(matrixcor(aggregate_df(datadf),'position'))\n",
    "    } else {\n",
    "        print(\"Mantel Test: \")\n",
    "        print(fvp_test(aggregate_df(datadf)))\n",
    "        print(\"Matrices correlation: \")\n",
    "        print(matrixcor(aggregate_df(datadf)))\n",
    "    }\n",
    "    \n",
    "    \n",
    "    print(\"Foveal compliance:\")\n",
    "    compliance_checker(datadf,'Foveal')\n",
    "    print(\"Peripheral compliance:\")\n",
    "    compliance_checker(datadf,'Peripheral')\n",
    "}"
   ]
  },
  {
   "cell_type": "markdown",
   "metadata": {},
   "source": [
    "### Get structural measures"
   ]
  },
  {
   "cell_type": "markdown",
   "metadata": {},
   "source": [
    "##### Triangle Inequality Tests"
   ]
  },
  {
   "cell_type": "code",
   "execution_count": 66,
   "metadata": {},
   "outputs": [],
   "source": [
    "# test for triangle inequality violation given three values\n",
    "tri.violate <- function(vals){\n",
    "        \n",
    "    vals <- sort(vals) # sort from smallest to largest dissimilarity\n",
    "    if(vals[3] > (vals[1] + vals[2])){ # I think this is all that's needed\n",
    "        return(TRUE)\n",
    "    } else if (vals[2] > vals[1] + vals[3]) { # don't think this is possible\n",
    "        return(TRUE)\n",
    "    } else if (vals[1] > vals[2] + vals[1]){ # don't think this is possible\n",
    "        return(TRUE)\n",
    "    }\n",
    "    else {\n",
    "        return(FALSE)\n",
    "    }\n",
    "}"
   ]
  },
  {
   "cell_type": "code",
   "execution_count": 67,
   "metadata": {},
   "outputs": [],
   "source": [
    "# perform the test across all of a subject's judgments\n",
    "mat.tri.violate <- function(mat){\n",
    "    n.stim <- nrow(mat)\n",
    "    violations <- list()\n",
    "    i.violate = 1\n",
    "    for(i in 1:(n.stim-3)){\n",
    "        for(j in (i+1):(n.stim-2)){\n",
    "            k = 1\n",
    "            while(k < (n.stim-j+1)){\n",
    "                \n",
    "                #testing\n",
    "                #print(paste(\"i:\",i,\"j:\",j,\"k:\",k,\"k+j\",k+j))\n",
    "                \n",
    "                stimuli <- c(i,j,j+k)\n",
    "                d.ij <- mat[i,j]\n",
    "                d.jk <- mat[j,j+k]\n",
    "                d.ik <- mat[i,j+k]\n",
    "                vals <- c(d.ij, d.jk, d.ik)\n",
    "                if(tri.violate(vals)){\n",
    "                    violations[[i.violate]] <- stimuli\n",
    "                    i.violate <- i.violate+1\n",
    "                }\n",
    "                k <- k + 1\n",
    "            }\n",
    "        }\n",
    "    }\n",
    "    return(violations)\n",
    "}"
   ]
  },
  {
   "cell_type": "code",
   "execution_count": 68,
   "metadata": {},
   "outputs": [],
   "source": [
    "# get a score for what proportion of judgments violate triangle inequality in a matrix\n",
    "score.tri.violate <- function(mat){\n",
    "    count <- length(mat.tri.violate(mat))\n",
    "    n.stim <- nrow(mat)\n",
    "    n.combo <- length(combinations(n.stim,3))\n",
    "    return(count/n.combo)\n",
    "}"
   ]
  },
  {
   "cell_type": "code",
   "execution_count": 69,
   "metadata": {},
   "outputs": [
    {
     "data": {
      "text/html": [
       "0.214285714285714"
      ],
      "text/latex": [
       "0.214285714285714"
      ],
      "text/markdown": [
       "0.214285714285714"
      ],
      "text/plain": [
       "[1] 0.2142857"
      ]
     },
     "metadata": {},
     "output_type": "display_data"
    }
   ],
   "source": [
    "score.tri.violate(matrix(runif(81),ncol=9))"
   ]
  },
  {
   "cell_type": "markdown",
   "metadata": {},
   "source": [
    "### Rank-order Similarity Tests"
   ]
  },
  {
   "cell_type": "markdown",
   "metadata": {},
   "source": [
    "#### Rank structure matrix method"
   ]
  },
  {
   "cell_type": "markdown",
   "metadata": {},
   "source": [
    "Going to try a rank-order similarity comparison suggested by Nao, related to an analysis already done by Elise"
   ]
  },
  {
   "cell_type": "markdown",
   "metadata": {},
   "source": [
    "##### Obtain rank-cubes"
   ]
  },
  {
   "cell_type": "code",
   "execution_count": 70,
   "metadata": {},
   "outputs": [],
   "source": [
    "# test for rank order violation given two values\n",
    "rank.obtain <- function(vals,invert=FALSE){\n",
    "    if(vals[1] < vals[2]){ # d(x,y) < d(y,z)\n",
    "        rank = -1\n",
    "    } else if (vals[1] == vals[2]){ # d(x,y) = d(y,z)\n",
    "        rank = 0\n",
    "    } else if (vals[1] > vals[2]){ # d(x,y) > d(y,z)\n",
    "        rank = 1\n",
    "    }\n",
    "    if(invert){\n",
    "        return(-rank)\n",
    "    }\n",
    "    return(rank)\n",
    "}"
   ]
  },
  {
   "cell_type": "code",
   "execution_count": 71,
   "metadata": {},
   "outputs": [],
   "source": [
    "# obtain a set of rank-order matrices within-subject\n",
    "rank.mat.obtain <- function(mat){\n",
    "    n.stim <- nrow(mat)\n",
    "    mat.list <- list()\n",
    "    for(i in 1:(n.stim)){ # y = i\n",
    "        rank.mat <- matrix(,nrow(mat),ncol(mat))\n",
    "        for(j in 1:(n.stim)){ # x = j\n",
    "            for(k in 1:(n.stim)){ # z = k                \n",
    "                d.xy <- mat[j,i]\n",
    "                d.yz <- mat[i,k]\n",
    "                vals <- c(d.xy, d.yz)\n",
    "                if( (j==i) | (k==i) ){\n",
    "                    rank <- NA\n",
    "                } else {\n",
    "                    rank <- rank.obtain(vals)\n",
    "                }\n",
    "                rank.mat[j,k] <- rank # y = i, place value in a x * z matrix\n",
    "            }\n",
    "        }\n",
    "        mat.list[[i]] <- rank.mat # y = i, full x * z matrix\n",
    "    }\n",
    "    return(mat.list)\n",
    "}"
   ]
  },
  {
   "cell_type": "code",
   "execution_count": 72,
   "metadata": {},
   "outputs": [],
   "source": [
    "# plot a rank matrix\n",
    "plot.rank.matrix <- function(mat,title,method='nao'){\n",
    "    \n",
    "    \n",
    "    \n",
    "    if(nrow(mat)==18){ # full matrix\n",
    "        colnames(mat) <- eccens.colors\n",
    "        rownames(mat) <- eccens.colors\n",
    "        cols <- c(colors,colors)\n",
    "    } else if (nrow(mat)==9){ # partial matrix\n",
    "        colnames(mat) <- colors\n",
    "        rownames(mat) <- colors\n",
    "        cols <- colors\n",
    "    }\n",
    "    \n",
    "    longData <- melt(mat)\n",
    "    #longData$Var1 <- as.character(longData$Var1)\n",
    "    #longData$Var2 <- as.character(longData$Var2)\n",
    "    \n",
    "    plot <- ggplot(longData, aes(x = Var2, y=Var1)) + \n",
    "    geom_raster(aes(fill=value)) +\n",
    "    scale_fill_gradientn(colours = c('blue','yellow'),\n",
    "                         limits = c(-1,1), \n",
    "                         breaks=c(-1,0,1),\n",
    "                        na.value='green')\n",
    "    if(method=='nao'){\n",
    "        plot <- plot + ggtitle(paste('y =',title)) + xlab(\"x\") + ylab(\"z\") +\n",
    "        theme(axis.text.x = element_text(colour=cols,angle=90)) + \n",
    "        theme(axis.text.y = element_text(colour=cols),\n",
    "         plot.title=element_text(hjust = 0.5, colour=stri_sub(title,-7,-1)))\n",
    "    } else if (method=='gradient'){\n",
    "        plot <- plot + ggtitle('Gradient') + xlab(\"\") + ylab(\"\") +\n",
    "        theme(axis.text.x=element_blank(), axis.text.y=element_blank(),\n",
    "             axis.title.x=element_blank(),axis.title.y=element_blank()\n",
    "             )\n",
    "    }\n",
    "    return(plot)\n",
    "}"
   ]
  },
  {
   "cell_type": "code",
   "execution_count": 73,
   "metadata": {},
   "outputs": [],
   "source": [
    "# generic matrix plot stuff\n",
    "plot.rank.mat.generic <- function(mat,col1='blue',col2='yellow',na.col='green',legend.title='value',low.lim=-1,up.lim=1){\n",
    "    \n",
    "    longData <- melt(mat)\n",
    "    \n",
    "    plot <- ggplot(longData, aes(x = Var2, y=Var1)) + \n",
    "    geom_raster(aes(fill=value)) +\n",
    "    scale_fill_gradientn(legend.title,colours = c(col1,col2),\n",
    "                         limits = c(low.lim,up.lim), \n",
    "                         breaks=c(low.lim,0,up.lim),\n",
    "                        na.value=na.col)\n",
    "\n",
    "    return(plot)\n",
    "}"
   ]
  },
  {
   "cell_type": "code",
   "execution_count": 74,
   "metadata": {},
   "outputs": [],
   "source": [
    "# plot a set of rank-order matrices\n",
    "rank.mat.plot.set <- function(mat.list,label='DEMO',save.str='TEST.png'){\n",
    "    k = 1 # counter\n",
    "    plot_list <- list()\n",
    "    \n",
    "    for(mat in mat.list){\n",
    "        graph <- plot.rank.matrix(mat,eccens.colors[k])\n",
    "        plot_list[[k]] <- as.grob(graph)\n",
    "        k = k + 1\n",
    "    }\n",
    "    title <- textGrob(label, gp=gpar(fontsize=35))\n",
    "    g <- arrangeGrob(grobs = plot_list, ncol = 9, nrow = 2, top=title)\n",
    "    ggsave(save.str,g,height=8,width=39)\n",
    "    return(g)\n",
    "}"
   ]
  },
  {
   "cell_type": "code",
   "execution_count": 75,
   "metadata": {},
   "outputs": [
    {
     "ename": "ERROR",
     "evalue": "Error in subset(datadf, subject == 80499026): object 'datadf' not found\n",
     "output_type": "error",
     "traceback": [
      "Error in subset(datadf, subject == 80499026): object 'datadf' not found\nTraceback:\n",
      "1. subset(datadf, subject == 80499026)"
     ]
    }
   ],
   "source": [
    "#testing shit\n",
    "testdf <- subset(datadf, subject == 80499026)\n",
    "testdata <- dissimdata.full(testdf)\n",
    "testmat <- color.eccen.mat(testdata,output='matrix')\n",
    "testmat.cc <- testmat[1:9,1:9]\n",
    "testmat.pp <- testmat[10:18,10:18]\n",
    "#print(testmat.cc)\n",
    "rankmat.cc <- rank.mat.obtain(testmat.cc)\n",
    "rankmat.pp <- rank.mat.obtain(testmat.pp)\n",
    "#print(rankmat.cc[[1]])\n",
    "#rank.mat.plot.set(rankmat.cc)\n",
    "dissimplot.full(color.eccen.mat(testdata))"
   ]
  },
  {
   "cell_type": "markdown",
   "metadata": {},
   "source": [
    "##### Flatten into one giant matrix"
   ]
  },
  {
   "cell_type": "code",
   "execution_count": 76,
   "metadata": {},
   "outputs": [],
   "source": [
    "# take a set of rank matrices, flatten into one giant matrix\n",
    "flatten <- function(mat.list){\n",
    "    n.mats <- length(mat.list)\n",
    "    x <- sqrt(n.mats)\n",
    "    n.elements <- n.mats*n.mats\n",
    "    flat.mat <- matrix(,n.mats*ceiling(x),n.mats*floor(x))  \n",
    "   \n",
    "    count = 1\n",
    "    \n",
    "    for(i in 1:ceiling(x)){\n",
    "        for(j in 1:floor(x)){\n",
    "\n",
    "            if(count <= length(mat.list)){\n",
    "                flat.mat[((i*n.mats)-(n.mats-1)):((i*n.mats)) , ((j*n.mats)-(n.mats-1)):((j*n.mats))] <- mat.list[[count]]\n",
    "                count = count + 1\n",
    "            }\n",
    "            \n",
    "        }\n",
    "    }\n",
    "    \n",
    "    return(flat.mat)\n",
    "}"
   ]
  },
  {
   "cell_type": "code",
   "execution_count": 77,
   "metadata": {},
   "outputs": [
    {
     "ename": "ERROR",
     "evalue": "Error in flatten(rankmat.cc): object 'rankmat.cc' not found\n",
     "output_type": "error",
     "traceback": [
      "Error in flatten(rankmat.cc): object 'rankmat.cc' not found\nTraceback:\n",
      "1. flatten(rankmat.cc)"
     ]
    }
   ],
   "source": [
    "flat.test.cc <- flatten(rankmat.cc)\n",
    "flat.test.pp <- flatten(rankmat.pp)\n",
    "test.difference <- abs(flat.test.cc) - abs(flat.test.pp)\n",
    "plot.rank.mat.generic(test.difference,'orange','purple','green')"
   ]
  },
  {
   "cell_type": "code",
   "execution_count": 78,
   "metadata": {},
   "outputs": [
    {
     "ename": "ERROR",
     "evalue": "Error in na.omit(c(flat.test.pp)): object 'flat.test.pp' not found\n",
     "output_type": "error",
     "traceback": [
      "Error in na.omit(c(flat.test.pp)): object 'flat.test.pp' not found\nTraceback:\n",
      "1. cor(na.omit(c(flat.test.cc)), na.omit(c(flat.test.pp)), method = \"spearman\")",
      "2. is.data.frame(y)",
      "3. na.omit(c(flat.test.pp))"
     ]
    }
   ],
   "source": [
    "cor(na.omit(c(flat.test.cc)),na.omit(c(flat.test.pp)),method='spearman')\n",
    "table(na.omit(c(test.difference)))\n",
    "#cor(flat.test.cc,flat.test.pp,method=\"spearman\")"
   ]
  },
  {
   "cell_type": "code",
   "execution_count": 79,
   "metadata": {},
   "outputs": [
    {
     "data": {
      "text/html": [
       "0.021375927382336"
      ],
      "text/latex": [
       "0.021375927382336"
      ],
      "text/markdown": [
       "0.021375927382336"
      ],
      "text/plain": [
       "[1] 0.02137593"
      ]
     },
     "metadata": {},
     "output_type": "display_data"
    },
    {
     "data": {
      "text/plain": [
       "\n",
       " -1   0   1 \n",
       "164 410 155 "
      ]
     },
     "metadata": {},
     "output_type": "display_data"
    },
    {
     "data": {
      "image/png": "[encoded data removed]",
      "text/plain": [
       "plot without title"
      ]
     },
     "metadata": {},
     "output_type": "display_data"
    },
    {
     "data": {
      "image/png": "[encoded data removed]",
      "text/plain": [
       "plot without title"
      ]
     },
     "metadata": {},
     "output_type": "display_data"
    },
    {
     "data": {
      "image/png": "[encoded data removed]",
      "text/plain": [
       "plot without title"
      ]
     },
     "metadata": {},
     "output_type": "display_data"
    }
   ],
   "source": [
    "#random simulation\n",
    "rand.cc <- matrix(sample.int(3,9**3,replace=TRUE)-2,nrow=9*3,ncol=9*3)\n",
    "rand.pp <- matrix(sample.int(3,9**3,replace=TRUE)-2,nrow=9*3,ncol=9*3)\n",
    "rand.difference <- abs(rand.cc) - abs(rand.pp)\n",
    "plot.rank.mat.generic(rand.difference,'orange','purple','green')\n",
    "\n",
    "cor(na.omit(c(rand.cc)),na.omit(c(rand.pp)),method='spearman')\n",
    "table(na.omit(c(rand.difference)))\n",
    "#cor(flat.test.cc,flat.test.pp,method=\"spearman\")\n",
    "\n",
    "plot.rank.mat.generic(rand.cc)\n",
    "plot.rank.mat.generic(rand.pp)"
   ]
  },
  {
   "cell_type": "code",
   "execution_count": 80,
   "metadata": {},
   "outputs": [
    {
     "ename": "ERROR",
     "evalue": "Error in flatten(rankmat.cc): object 'rankmat.cc' not found\n",
     "output_type": "error",
     "traceback": [
      "Error in flatten(rankmat.cc): object 'rankmat.cc' not found\nTraceback:\n",
      "1. plot.rank.mat.generic(flatten(rankmat.cc))",
      "2. melt(mat)   # at line 4 of file <text>",
      "3. flatten(rankmat.cc)   # at line 4 of file <text>"
     ]
    }
   ],
   "source": [
    "#plot <- plot(flatten(rankmat.cc),col=topo.colors)\n",
    "#plot\n",
    "plot.cc<- plot.rank.mat.generic(flatten(rankmat.cc))\n",
    "plot.cc\n",
    "plot.pp<- plot.rank.mat.generic(flatten(rankmat.pp))\n",
    "plot.pp\n"
   ]
  },
  {
   "cell_type": "markdown",
   "metadata": {},
   "source": [
    "##### Between-subject analyses"
   ]
  },
  {
   "cell_type": "code",
   "execution_count": null,
   "metadata": {},
   "outputs": [],
   "source": [
    "obtain.subject.rankmat <- function(df,comparison='CC'){\n",
    "    #print(subject.df$similarity[1:10]) # testing\n",
    "    subjectdata <- dissimdata.full(df)\n",
    "    #print(subjectdata$similarity[1:10]) # testing\n",
    "    subjectmat <- color.eccen.mat(subjectdata,output='matrix')\n",
    "    #print(subjectmat[1:10,1:10]) # testing\n",
    "    if(comparison=='CC'){\n",
    "        subjectmat <- subjectmat[1:9,1:9]\n",
    "    } else if (comparison=='CP'){\n",
    "        subjectmat <- subjectmat[1:9,10:18]\n",
    "    } else if (comparison=='PP'){\n",
    "        subjectmat <- subjectmat[10:18,10:18]\n",
    "    }\n",
    "    rankmat <- rank.mat.obtain(subjectmat)\n",
    "    return(rankmat)\n",
    "}"
   ]
  },
  {
   "cell_type": "code",
   "execution_count": null,
   "metadata": {},
   "outputs": [],
   "source": [
    "group.rank.mat.list <- function(df,comparison='CC'){\n",
    "    output <- list()\n",
    "    k = 1\n",
    "    subjectlist <- sort(unique(df$subject)) # obtain a list of all the subjects\n",
    "    for(ID in subjectlist){\n",
    "        subject.df <- subset(df, subject == ID)\n",
    "        rankmat <- obtain.subject.rankmat(subject.df,comparison)\n",
    "        output[[k]] <- rankmat\n",
    "        k = k+1\n",
    "    }\n",
    "    return(output)\n",
    "}"
   ]
  },
  {
   "cell_type": "code",
   "execution_count": 81,
   "metadata": {},
   "outputs": [],
   "source": [
    "#function to transpose nesting in lists\n",
    "transpose.lists <- function(nested.list){\n",
    "    outer.length <- length(nested.list) # subjects\n",
    "    inner.length <- length(nested.list[[1]]) # colours\n",
    "    \n",
    "    #initialise a nested list\n",
    "    transpose.entry <- lapply(transpose.entry <- vector(mode='list',outer.length), function(x) x<-matrix(,nrow(nested.list[[1]][[1]]),ncol(nested.list[[1]][[1]])))\n",
    "    #print(transpose.entry) # testing\n",
    "    transpose.list <-list()\n",
    "    for(i in 1:inner.length){\n",
    "        #print(i) # testing\n",
    "        transpose.list[[i]] <- transpose.entry\n",
    "    }\n",
    "    #print(transpose.list)\n",
    "    #print(summary(transpose.list)) #testing\n",
    "    #print(outer.length) # testing\n",
    "    #print(inner.length) # testing\n",
    "    \n",
    "    for(outer.list in 1:outer.length){ # e.g. subject\n",
    "        for(inner.entry in 1:inner.length){ # e.g. colour\n",
    "            #print(paste(\"Outer.list:\",outer.list,\"Inner.entry:\",inner.entry)) # testing\n",
    "            tempmat <- nested.list[[outer.list]][[inner.entry]]\n",
    "            #print(tempmat)\n",
    "            #print(transpose.list[[inner.entry]][[outer.list]]) # testing\n",
    "            transpose.list[[inner.entry]][[outer.list]] <- tempmat\n",
    "            #print(transpose.list[[inner.entry]][[outer.list]]) # testing\n",
    "        }\n",
    "    }\n",
    "    return(transpose.list)\n",
    "}"
   ]
  },
  {
   "cell_type": "code",
   "execution_count": 82,
   "metadata": {},
   "outputs": [],
   "source": [
    "# get a list of the flattened matrices for each subject\n",
    "bs.flat.list <- function(df,comparison='CC'){\n",
    "    output <- list()\n",
    "    k = 1\n",
    "    subjectlist <- sort(unique(df$subject)) # obtain a list of all the subjects\n",
    "    for(ID in subjectlist){\n",
    "        subject.df <- subset(df, subject == ID)\n",
    "        rankmat <- obtain.subject.rankmat(subject.df,comparison)\n",
    "        flatmat <- flatten(rankmat)\n",
    "        #print(flatmat[1:10,1:10]) # testing\n",
    "        output[[k]] <- flatmat\n",
    "        k = k+1\n",
    "    }\n",
    "    return(output)\n",
    "}"
   ]
  },
  {
   "cell_type": "code",
   "execution_count": 83,
   "metadata": {},
   "outputs": [
    {
     "ename": "ERROR",
     "evalue": "Error in subset(cleandf, (stimulus_radius == 0.5) & (peripheral_scale == : object 'cleandf' not found\n",
     "output_type": "error",
     "traceback": [
      "Error in subset(cleandf, (stimulus_radius == 0.5) & (peripheral_scale == : object 'cleandf' not found\nTraceback:\n",
      "1. subset(cleandf, (stimulus_radius == 0.5) & (peripheral_scale == \n .     4.5))"
     ]
    }
   ],
   "source": [
    "testdf <- subset(cleandf, (stimulus_radius == 0.5) & (peripheral_scale == 4.5))\n",
    "#head(testdf,5)\n",
    "#colnames(testdf)\n",
    "#test.list <- bs.flat.list(testdf,comparison='CC')\n",
    "#print(test.list)"
   ]
  },
  {
   "cell_type": "code",
   "execution_count": 84,
   "metadata": {},
   "outputs": [
    {
     "data": {
      "text/html": [
       "0.817177846445437"
      ],
      "text/latex": [
       "0.817177846445437"
      ],
      "text/markdown": [
       "0.817177846445437"
      ],
      "text/plain": [
       "[1] 0.8171778"
      ]
     },
     "metadata": {},
     "output_type": "display_data"
    },
    {
     "data": {
      "text/html": [
       "0.408816485993478"
      ],
      "text/latex": [
       "0.408816485993478"
      ],
      "text/markdown": [
       "0.408816485993478"
      ],
      "text/plain": [
       "[1] 0.4088165"
      ]
     },
     "metadata": {},
     "output_type": "display_data"
    },
    {
     "data": {
      "text/html": [
       "0.82107082725596"
      ],
      "text/latex": [
       "0.82107082725596"
      ],
      "text/markdown": [
       "0.82107082725596"
      ],
      "text/plain": [
       "[1] 0.8210708"
      ]
     },
     "metadata": {},
     "output_type": "display_data"
    }
   ],
   "source": [
    "sd(c(rep(-1,200),rep(0,200),rep(1,200)))\n",
    "sd(c(rep(-1,30),rep(0,300),rep(1,30)))\n",
    "sd(c(rep(-1,30),rep(0,30),rep(1,30)))"
   ]
  },
  {
   "cell_type": "code",
   "execution_count": 85,
   "metadata": {},
   "outputs": [],
   "source": [
    "#test <- c(0,0,0,0,0,0,0,0)\n",
    "#test <- wilcox.test(test, mu = 0, alternative = \"two.sided\")\n",
    "#test$p.value\n",
    "#test$p.value < 0.05\n",
    "#if(TRUE){print('penis')}\n",
    "#test.list[[1]]"
   ]
  },
  {
   "cell_type": "code",
   "execution_count": 86,
   "metadata": {},
   "outputs": [],
   "source": [
    "# check whether cell values in a list of flattened matrices are statistically non-zero\n",
    "flat.zero.test <- function(flat.list, mu = 0, threshold = 0.05, test.mat=FALSE){\n",
    "    count.non.zero = 0\n",
    "    count.cells = 0\n",
    "    output.vec <- vector()\n",
    "    for (i in 1:length(flat.list[[1]])){ # all the cells\n",
    "        cell.vals <- vector()\n",
    "        for (j in 1:length(flat.list)){ # all the matrices\n",
    "            cell.vals <- c(cell.vals,flat.list[[j]][i])\n",
    "        }\n",
    "        if(!all(is.na(cell.vals))){\n",
    "            count.cells = count.cells + 1\n",
    "            test <- wilcox.test(cell.vals, mu = 0, alternative = \"two.sided\")\n",
    "            non.zero <- (test$p.value < threshold)\n",
    "            if(is.na(non.zero)){ # is this appropriate? Do we count the main diagonal?\n",
    "                non.zero <- FALSE\n",
    "            }\n",
    "            if(non.zero){\n",
    "                count.non.zero = count.non.zero + 1\n",
    "            }\n",
    "            if(test.mat){\n",
    "                output.vec <- c(output.vec,non.zero)\n",
    "            }\n",
    "        } else {\n",
    "            output.vec <- c(output.vec,NA)\n",
    "        }\n",
    "        \n",
    "    }\n",
    "    if(test.mat){\n",
    "        output.mat <- matrix(output.vec,nrow(flat.list[[1]]),ncol(flat.list[[1]]))\n",
    "        return(output.mat)\n",
    "    }\n",
    "    return(count.non.zero/count.cells)\n",
    "}"
   ]
  },
  {
   "cell_type": "code",
   "execution_count": 87,
   "metadata": {},
   "outputs": [],
   "source": [
    "#flat.zero.test(test.list,test.mat=TRUE)[1:10,1:10]\n",
    "#flat.zero.test(test.list)"
   ]
  },
  {
   "cell_type": "code",
   "execution_count": 88,
   "metadata": {},
   "outputs": [
    {
     "ename": "ERROR",
     "evalue": "Error in Reduce(\"+\", test.list): object 'test.list' not found\n",
     "output_type": "error",
     "traceback": [
      "Error in Reduce(\"+\", test.list): object 'test.list' not found\nTraceback:\n",
      "1. Reduce(\"+\", test.list)"
     ]
    }
   ],
   "source": [
    "test.average <- Reduce('+',test.list)/length(test.list)\n",
    "#test.average[1:10,1:10]"
   ]
  },
  {
   "cell_type": "code",
   "execution_count": 89,
   "metadata": {},
   "outputs": [],
   "source": [
    "# plot a group of flat matrices\n",
    "flat.group.plot <- function(df,quadrant='CC',label='BLANK', magnification,scale){\n",
    "    subject.list <- bs.flat.list(testdf,comparison=quadrant)\n",
    "    k = 1 # counter\n",
    "    plot_list <- list()\n",
    "    for(subject in 1:length(subject.list)){\n",
    "        graph <- plot.rank.mat.generic(subject.list[[subject]])\n",
    "        plot_list[[k]] <- as.grob(graph)\n",
    "        k = k + 1\n",
    "    }\n",
    "    # add a group average plot\n",
    "    group.average <- Reduce('+',subject.list)/length(subject.list)\n",
    "    group.average.plot <- plot.rank.mat.generic(group.average,legend.title='mean')\n",
    "    plot_list[[k]] <- as.grob(group.average.plot)\n",
    "    k = k + 1\n",
    "    \n",
    "    # add a group variance plot\n",
    "    n.cells <- length(c(subject.list[[1]]**2))\n",
    "    #print(n.cells)\n",
    "    # DOCUMENT THIS PROPERLY. STOLEN FROM HERE: https://stackoverflow.com/questions/39351013/standard-deviation-over-a-list-of-matrices-in-r\n",
    "    group.variance <- matrix(apply(sapply(1:n.cells, function(x) unlist(subject.list)[seq(x, length(unlist(subject.list)), n.cells)]), 2, sd), ncol=27)\n",
    "    group.variance.plot <- plot.rank.mat.generic(group.variance, 'orange','purple','green',legend.title='SD',low.lim=0,up.lim=1)\n",
    "    plot_list[[k]] <- as.grob(group.variance.plot)\n",
    "    k = k + 1\n",
    "    \n",
    "    # add a proportion plot\n",
    "    non.zero.pr <- flat.zero.test(subject.list)\n",
    "    plot_list[[k]] <- as.grob(proportion(non.zero.pr))\n",
    "    \n",
    "    title <- textGrob(label, gp=gpar(fontsize=35))\n",
    "    x <- round(sqrt(k)) + 1\n",
    "    g <- arrangeGrob(grobs = plot_list, ncol = x, nrow=x, top=title)\n",
    "    ggsave(paste(savestr,\"_Overall_Summary_Plots/Flat_Matrices/\",\n",
    "                 'Magnification ',magnification,' - ','Scale ',scale,' - ',quadrant,\"_plot.png\",sep=\"\"),\n",
    "           g,height=x*4,width=x*4)\n",
    "}"
   ]
  },
  {
   "cell_type": "code",
   "execution_count": 90,
   "metadata": {},
   "outputs": [],
   "source": [
    "# same as the flat.group.plot, but group average over the individual plots\n",
    "rank.group.plot <- function(df,quadrant='CC', magnification,scale){\n",
    "    tempdf <- subset(df, peripheral_scale==magnification & stimulus_radius==scale)\n",
    "    label <- paste(quadrant,' - ','Magnification',magnification,' - ','Scale:',scale)\n",
    "    subject.mats <- group.rank.mat.list(tempdf, comparison=quadrant)\n",
    "    \n",
    "    color.mats <- transpose.lists(subject.mats) # flip around nesting of subjects and stimuli\n",
    "    #print(subject.mats)[[1]] # testing\n",
    "    \n",
    "    group_list <- list()\n",
    "    for(mat in 1:length(color.mats)){\n",
    "        test <- (Reduce('+',color.mats[[mat]]))\n",
    "        group_list[[mat]] <- test/length(color.mats[[mat]])\n",
    "    }\n",
    "    \n",
    "    #print(group_list)\n",
    "    \n",
    "    save.str <- paste(savestr,\"_Overall_Summary_Plots/Flat_Matrices/Grouped/\",\n",
    "                 'Magnification ',magnification,' - ','Scale ',scale,' - ',quadrant,\"_group_plot.png\",sep=\"\")\n",
    "    \n",
    "    plots <- rank.mat.plot.set(group_list,label,save.str)\n",
    "    return(plots)\n",
    "}"
   ]
  },
  {
   "cell_type": "code",
   "execution_count": 91,
   "metadata": {},
   "outputs": [],
   "source": [
    "#rank.group.plot(cleandf,quadrant='CC',magnification=4.5,scale=1)"
   ]
  },
  {
   "cell_type": "code",
   "execution_count": 92,
   "metadata": {},
   "outputs": [],
   "source": [
    "# make a histogram for a particular cell from a flat matrix set\n",
    "rank.hist.plot <- function(vals,x,y,z,folder){\n",
    "    data <- data.frame(vals)\n",
    "    plot <- ggplot(data, aes(x=vals)) + geom_histogram(aes(y=stat(density)),binwidth=1) +\n",
    "    ylim(0,1) + xlim(-1.5,1.5)\n",
    "    \n",
    "    # make a title and colour it\n",
    "    title=c('Sim(',x,',',y,') vs Sim(',y,',',z,')')\n",
    "    title.colors <- c('black',stri_sub(x,-7,-1),'black',stri_sub(y,-7,-1),\n",
    "                      'black',stri_sub(y,-7,-1),'black',stri_sub(z,-7,-1),'black')\n",
    "    \n",
    "    graph <- arrangeGrob(plot,\n",
    "                             top = tableGrob(t(title),\n",
    "                                            theme=ttheme_minimal(padding=unit(c(0,2),'mm'),\n",
    "                                                                base_colour = title.colors,\n",
    "                                                                base_size=5)))\n",
    "    \n",
    "    name <- paste(folder,round(runif(1,1,100)),\".png\",sep='') # remove\n",
    "    ggsave(name,graph,height=3,width=3) # remove\n",
    "    return(graph)\n",
    "}"
   ]
  },
  {
   "cell_type": "code",
   "execution_count": 93,
   "metadata": {},
   "outputs": [],
   "source": [
    "# plot the set of histograms for across-subject responses for each cell in a group of flat matrices\n",
    "group.rank.hist.plot <- function(df,quadrant='CC', magnification,scale){\n",
    "    tempdf <- subset(df, peripheral_scale==magnification & stimulus_radius==scale)\n",
    "    label <- paste(quadrant,' - ','Magnification',magnification,' - ','Scale:',scale)\n",
    "    \n",
    "    save.str <- paste(savestr,\"_Overall_Summary_Plots/Flat_Matrices/Histograms/\",\n",
    "                 'Magnification ',magnification,' - ','Scale ',scale,' - ',quadrant,\"_group_plot.png\",sep=\"\")\n",
    "    folder <- paste(stri_sub(save.str,1,-nchar(\"_group_plot.png\")-1),'/',sep='')\n",
    "    dir.create(folder)\n",
    "    \n",
    "    subject.mats <- group.rank.mat.list(tempdf, comparison=quadrant)\n",
    "    \n",
    "    k=1\n",
    "    cell.vals <- vector()\n",
    "    plot_list <- list()\n",
    "    for(colour in 1:length(subject.mats[[1]])){ # for each colour\n",
    "        y <- eccens.colors[colour] # fix this to work for foveal & peripheral\n",
    "        for(cell in 1:length(subject.mats[[1]][[1]])){ # for each cell\n",
    "            for(subject in 1:length(subject.mats)){ # for each subject\n",
    "                   cell.vals <- c(cell.vals,subject.mats[[subject]][[colour]][cell])\n",
    "            }\n",
    "            x <- eccens.colors[cell%%nrow(subject.mats[[1]][[1]])] # fix this to work for foveal & peripheral\n",
    "            z <- eccens.colors[ceiling(cell/nrow(subject.mats[[1]][[1]]))] # fix this to work for foveal & peripheral\n",
    "            plot_list[k] <- rank.hist.plot(cell.vals,x,y,z,folder)\n",
    "            k = k + 1\n",
    "            #print(paste('x',x,'y',y,'z',z)) # testing\n",
    "            if(k>10){return()} # testing\n",
    "            cell.vals <- vector() #reset\n",
    "        }\n",
    "    }\n",
    "    #compile plots\n",
    "    \n",
    "}"
   ]
  },
  {
   "cell_type": "code",
   "execution_count": 94,
   "metadata": {},
   "outputs": [
    {
     "ename": "ERROR",
     "evalue": "Error in subset(df, peripheral_scale == magnification & stimulus_radius == : object 'cleandf' not found\n",
     "output_type": "error",
     "traceback": [
      "Error in subset(df, peripheral_scale == magnification & stimulus_radius == : object 'cleandf' not found\nTraceback:\n",
      "1. group.rank.hist.plot(cleandf, quadrant = \"CC\", magnification = 4.5, \n .     scale = 1)",
      "2. subset(df, peripheral_scale == magnification & stimulus_radius == \n .     scale)   # at line 3 of file <text>"
     ]
    }
   ],
   "source": [
    "group.rank.hist.plot(cleandf,quadrant='CC',magnification=4.5,scale=1)"
   ]
  },
  {
   "cell_type": "code",
   "execution_count": 95,
   "metadata": {},
   "outputs": [
    {
     "ename": "ERROR",
     "evalue": "Error in parse(text = x, srcfile = src): <text>:6:9: unexpected '}'\n5:         for(subject in 1:length(mat))\n6:         }\n           ^\n",
     "output_type": "error",
     "traceback": [
      "Error in parse(text = x, srcfile = src): <text>:6:9: unexpected '}'\n5:         for(subject in 1:length(mat))\n6:         }\n           ^\nTraceback:\n"
     ]
    }
   ],
   "source": [
    "color.mats <- transpose.lists(subject.mats) # flip around nesting of subjects and stimuli\n",
    "    #print(subject.mats)[[1]] # testing\n",
    "    \n",
    "    for(subjectm in 1:length(color.mats)){ # for each colour\n",
    "        for(subject in 1:length(mat))\n",
    "        }"
   ]
  },
  {
   "cell_type": "code",
   "execution_count": 96,
   "metadata": {},
   "outputs": [],
   "source": [
    "# Demo of how to combo grobs\n",
    "#test1 <- rank.group.plot(cleandf,quadrant='CC',magnification=4.5,scale=1)\n",
    "#test2 <- rank.group.plot(cleandf,quadrant='CC',magnification=1,scale=1)\n",
    "#g <- arrangeGrob(test1,test2,nrow=2)\n",
    "#ggsave(paste(savestr,\"_Overall_Summary_Plots/Flat_Matrices/Grouped/\",\n",
    "#                 \"DEMO_plot.png\",sep=\"\"),\n",
    "#           g,height=15,width=30)"
   ]
  },
  {
   "cell_type": "code",
   "execution_count": 97,
   "metadata": {},
   "outputs": [],
   "source": [
    "# proportion plot\n",
    "proportion <- function(pr){\n",
    "    prop <- 100*pr\n",
    "    non.prop <- 100-prop\n",
    "    vec <- c(prop,non.prop)\n",
    "    #labels <- c('Non-zero','Zero')\n",
    "    labels <- c(paste('Non-zero:',round(prop,1)),paste('Zero: ',round(non.prop,1)))\n",
    "    df <- data.frame(\n",
    "        group = labels, value = c(prop,non.prop))\n",
    "    plot <- ggplot(df, aes(x=\"\", y=value, fill=group)) + geom_bar(width=1, stat= 'identity') +\n",
    "        xlab(\"\") + ylab(\"Proportion Non-zero (nonparametric, p < 0.05)\")\n",
    "    return(plot)\n",
    "}"
   ]
  },
  {
   "cell_type": "code",
   "execution_count": 98,
   "metadata": {},
   "outputs": [],
   "source": [
    "#proportion(flat.zero.test(test.list))"
   ]
  },
  {
   "cell_type": "code",
   "execution_count": 99,
   "metadata": {},
   "outputs": [],
   "source": [
    "#flat.group.plot(testdf,quadrant='CC',label='TEST',magnification=9,scale=9)"
   ]
  },
  {
   "cell_type": "code",
   "execution_count": 100,
   "metadata": {},
   "outputs": [],
   "source": [
    "flat.population.plot <- function(df,quadrant='CC',magnification=4.5,scale=0.5){\n",
    "    tempdf <- subset(df, peripheral_scale==magnification & stimulus_radius==scale)\n",
    "    title <- paste(quadrant,' - ','Magnification',magnification,' - ','Scale:',scale)\n",
    "    flat.group.plot(tempdf,quadrant,label=title,magnification,scale)\n",
    "}"
   ]
  },
  {
   "cell_type": "code",
   "execution_count": 101,
   "metadata": {},
   "outputs": [
    {
     "ename": "ERROR",
     "evalue": "Error in subset(df, peripheral_scale == magnification & stimulus_radius == : object 'cleandf' not found\n",
     "output_type": "error",
     "traceback": [
      "Error in subset(df, peripheral_scale == magnification & stimulus_radius == : object 'cleandf' not found\nTraceback:\n",
      "1. flat.population.plot(cleandf, quadrant = \"PP\", magnification = 1, \n .     scale = 0.05)",
      "2. subset(df, peripheral_scale == magnification & stimulus_radius == \n .     scale)   # at line 2 of file <text>"
     ]
    }
   ],
   "source": [
    "flat.population.plot(cleandf,quadrant='PP',magnification=1,scale=0.05)"
   ]
  },
  {
   "cell_type": "markdown",
   "metadata": {},
   "source": [
    "#### Gradient Analysis Method"
   ]
  },
  {
   "cell_type": "markdown",
   "metadata": {},
   "source": [
    "Testing a simple rank comparison between subjects. For each individual subject, find the differentiation matrix between colours. Then, compare these matrices between subjects"
   ]
  },
  {
   "cell_type": "code",
   "execution_count": 102,
   "metadata": {},
   "outputs": [],
   "source": [
    "#testmat"
   ]
  },
  {
   "cell_type": "code",
   "execution_count": 103,
   "metadata": {},
   "outputs": [],
   "source": [
    "gradient.mat.obtain <- function(mat){\n",
    "    n.stim <- nrow(mat)\n",
    "    #print(n.stim)\n",
    "    output.mat <- matrix(,nrow(mat),ncol(mat))\n",
    "    for(row in 1:n.stim){\n",
    "        for(col in 1:n.stim){\n",
    "            #print(col)\n",
    "            j <- row\n",
    "            k <- (col+1)%%(ncol(mat)+1)\n",
    "           if(k==0){\n",
    "                k=1\n",
    "            }\n",
    "            vals <- c(mat[row,col], mat[j,k])\n",
    "            \n",
    "            #print(vals)\n",
    "            output.mat[row,col] <- rank.obtain(vals,invert=TRUE)\n",
    "        }\n",
    "    }\n",
    "    return(output.mat)\n",
    "}"
   ]
  },
  {
   "cell_type": "code",
   "execution_count": 104,
   "metadata": {},
   "outputs": [
    {
     "ename": "ERROR",
     "evalue": "Error in nrow(mat): object 'testmat' not found\n",
     "output_type": "error",
     "traceback": [
      "Error in nrow(mat): object 'testmat' not found\nTraceback:\n",
      "1. gradient.mat.obtain(testmat)",
      "2. nrow(mat)   # at line 2 of file <text>"
     ]
    }
   ],
   "source": [
    "gradmat <- gradient.mat.obtain(testmat)\n",
    "gradmat\n",
    "plot.rank.matrix(gradmat,'gradient','gradient')"
   ]
  },
  {
   "cell_type": "markdown",
   "metadata": {},
   "source": [
    "## Actual Data Analysis Time"
   ]
  },
  {
   "cell_type": "markdown",
   "metadata": {},
   "source": [
    "#### Initial data pre-processing, before getting to the subject level"
   ]
  },
  {
   "cell_type": "code",
   "execution_count": 105,
   "metadata": {},
   "outputs": [],
   "source": [
    "datadf = read.csv(filename)\n",
    "savestr <- substr(filename,1,nchar(filename)-4) # for saving related files later\n"
   ]
  },
  {
   "cell_type": "code",
   "execution_count": 106,
   "metadata": {},
   "outputs": [],
   "source": [
    "#weird bug in a subject data for arielzj_fvp_2stim_fixed_point25dva_v2_20_08_30 (1)\n",
    "datadf <- subset(datadf, (subject != 660294531) & (subject != 21721408) & (subject != 238973028))"
   ]
  },
  {
   "cell_type": "code",
   "execution_count": 107,
   "metadata": {},
   "outputs": [],
   "source": [
    "# remove practice trial data\n",
    "datadf <- subset(datadf, blockcode == 'experiment')"
   ]
  },
  {
   "cell_type": "code",
   "execution_count": 108,
   "metadata": {},
   "outputs": [],
   "source": [
    "# changing color values from RGB to hex for graphing purpose\n",
    "datadf$Color_1 <- as.character(datadf$Color_1)\n",
    "datadf$Color_1 <- revalue(datadf$Color_1, \n",
    "                                                    c(  \"1\" = '#FF0000',\n",
    "                                                        \"2\" = '#FFAA00',\n",
    "                                                        \"3\" = '#AAFF00',\n",
    "                                                        \"4\" = '#00FF00',\n",
    "                                                        \"5\" = '#00FFA9',\n",
    "                                                        \"6\" = '#00A9FF',\n",
    "                                                        \"7\" = '#0000FF',\n",
    "                                                        \"8\" = '#AA00FF',\n",
    "                                                        \"9\" = '#FF00AA'))\n",
    "datadf$Color_2 <- as.character(datadf$Color_2)\n",
    "datadf$Color_2 <- revalue(datadf$Color_2, \n",
    "                                                    c(  \"1\" = '#FF0000',\n",
    "                                                        \"2\" = '#FFAA00',\n",
    "                                                        \"3\" = '#AAFF00',\n",
    "                                                        \"4\" = '#00FF00',\n",
    "                                                        \"5\" = '#00FFA9',\n",
    "                                                        \"6\" = '#00A9FF',\n",
    "                                                        \"7\" = '#0000FF',\n",
    "                                                        \"8\" = '#AA00FF',\n",
    "                                                        \"9\" = '#FF00AA'))\n",
    "\n"
   ]
  },
  {
   "cell_type": "code",
   "execution_count": 109,
   "metadata": {},
   "outputs": [],
   "source": [
    "# changing from int indicators in the .csv file to more readable labels for eccentricity\n",
    "foveal = -1\n",
    "peripheral = 1"
   ]
  },
  {
   "cell_type": "code",
   "execution_count": 110,
   "metadata": {},
   "outputs": [],
   "source": [
    "# set the maximum and minimum dissimilarity values for later analysis\n",
    "min_val = 0\n",
    "max_val = 6"
   ]
  },
  {
   "cell_type": "code",
   "execution_count": 111,
   "metadata": {},
   "outputs": [],
   "source": [
    "# binning the positions the stimuli were displayed in to use as a control measure later\n",
    "datadf$bin1 <- as.integer((datadf$Position_1+180) / 40) + 1\n",
    "datadf$bin2 <- as.integer((datadf$Position_2+180) / 40) + 1"
   ]
  },
  {
   "cell_type": "code",
   "execution_count": 112,
   "metadata": {},
   "outputs": [],
   "source": [
    "# adding a trial type label\n",
    "label_eccen_type <- function(datadf){\n",
    "    datadf <- datadf %>%\n",
    "    mutate(eccen_type = case_when(Circle_1 == l2e('Foveal') & Circle_2 == l2e('Foveal') ~ 'FF',\n",
    "                             Circle_1 == l2e('Foveal') & Circle_2 == l2e('Peripheral') ~ 'FP',\n",
    "                             Circle_1 == l2e('Peripheral') & Circle_2 == l2e('Peripheral') ~ 'PP'))\n",
    "    return(datadf)\n",
    "}"
   ]
  },
  {
   "cell_type": "code",
   "execution_count": 113,
   "metadata": {},
   "outputs": [],
   "source": [
    "datadf <- label_eccen_type(datadf)"
   ]
  },
  {
   "cell_type": "markdown",
   "metadata": {},
   "source": [
    "Some actual data cleaning"
   ]
  },
  {
   "cell_type": "code",
   "execution_count": 114,
   "metadata": {},
   "outputs": [],
   "source": [
    "# function to throw out  participants who didn't finish\n",
    "remove_incomplete <- function(datadf,stimuli_number){\n",
    "    \n",
    "    subjectlist <- sort(unique(datadf$subject)) # obtain a list of all the subjects\n",
    "    print(paste(length(subjectlist),\"in dataset\"))\n",
    "    print(\"\")\n",
    "    \n",
    "    for (ID in subjectlist){ # go through subject by subject\n",
    "        \n",
    "        trialnumber = stimuli_number*stimuli_number*condition_number + catch_trial_number\n",
    "        \n",
    "        trialsdone <- nrow(subset(datadf, subject == ID))\n",
    "        print(paste(\"Subject\",ID,\"completed\",trialsdone,\"/\",trialnumber))\n",
    "        \n",
    "        if ( trialsdone != trialnumber){ # see if they have the appropriate trial numbers\n",
    "            datadf <- subset(datadf, subject != ID) # dump the subject\n",
    "        }\n",
    "    }\n",
    "    return(datadf)\n",
    "}"
   ]
  },
  {
   "cell_type": "code",
   "execution_count": 115,
   "metadata": {
    "scrolled": true
   },
   "outputs": [
    {
     "name": "stdout",
     "output_type": "stream",
     "text": [
      "[1] \"Screen Parameters\"\n",
      "[1] \"\"\n",
      "[1] \"Screen size issues: 0 / 191\"\n",
      "[1] \"Viewing distance issues: 0 / 191\"\n"
     ]
    }
   ],
   "source": [
    "screen_parameters(datadf)"
   ]
  },
  {
   "cell_type": "code",
   "execution_count": 116,
   "metadata": {},
   "outputs": [
    {
     "name": "stdout",
     "output_type": "stream",
     "text": [
      "[1] \"191 in dataset\"\n",
      "[1] \"\"\n",
      "[1] \"Subject 3248455 completed 253 / 253\"\n",
      "[1] \"Subject 9522584 completed 253 / 253\"\n",
      "[1] \"Subject 11005010 completed 253 / 253\"\n",
      "[1] \"Subject 13228849 completed 253 / 253\"\n",
      "[1] \"Subject 35587329 completed 253 / 253\"\n",
      "[1] \"Subject 35716339 completed 253 / 253\"\n",
      "[1] \"Subject 40354804 completed 253 / 253\"\n",
      "[1] \"Subject 41471776 completed 32 / 253\"\n",
      "[1] \"Subject 48341337 completed 253 / 253\"\n",
      "[1] \"Subject 50823202 completed 253 / 253\"\n",
      "[1] \"Subject 51805023 completed 253 / 253\"\n",
      "[1] \"Subject 53858324 completed 253 / 253\"\n",
      "[1] \"Subject 63991259 completed 253 / 253\"\n",
      "[1] \"Subject 64413254 completed 253 / 253\"\n",
      "[1] \"Subject 74258126 completed 12 / 253\"\n",
      "[1] \"Subject 75394365 completed 253 / 253\"\n",
      "[1] \"Subject 80499026 completed 253 / 253\"\n",
      "[1] \"Subject 81903961 completed 253 / 253\"\n",
      "[1] \"Subject 95990930 completed 2 / 253\"\n",
      "[1] \"Subject 98665966 completed 253 / 253\"\n",
      "[1] \"Subject 99640956 completed 253 / 253\"\n",
      "[1] \"Subject 107179842 completed 37 / 253\"\n",
      "[1] \"Subject 120361401 completed 253 / 253\"\n",
      "[1] \"Subject 133207874 completed 253 / 253\"\n",
      "[1] \"Subject 143440982 completed 97 / 253\"\n",
      "[1] \"Subject 147071530 completed 253 / 253\"\n",
      "[1] \"Subject 165762185 completed 253 / 253\"\n",
      "[1] \"Subject 168630625 completed 1 / 253\"\n",
      "[1] \"Subject 170537732 completed 253 / 253\"\n",
      "[1] \"Subject 172093576 completed 253 / 253\"\n",
      "[1] \"Subject 175331425 completed 12 / 253\"\n",
      "[1] \"Subject 176476116 completed 253 / 253\"\n",
      "[1] \"Subject 176698125 completed 253 / 253\"\n",
      "[1] \"Subject 177066018 completed 12 / 253\"\n",
      "[1] \"Subject 204525930 completed 253 / 253\"\n",
      "[1] \"Subject 209678643 completed 9 / 253\"\n",
      "[1] \"Subject 211745977 completed 253 / 253\"\n",
      "[1] \"Subject 214859617 completed 233 / 253\"\n",
      "[1] \"Subject 219326440 completed 253 / 253\"\n",
      "[1] \"Subject 225280441 completed 253 / 253\"\n",
      "[1] \"Subject 232984941 completed 253 / 253\"\n",
      "[1] \"Subject 244316230 completed 253 / 253\"\n",
      "[1] \"Subject 245575217 completed 253 / 253\"\n",
      "[1] \"Subject 251360273 completed 253 / 253\"\n",
      "[1] \"Subject 252347716 completed 253 / 253\"\n",
      "[1] \"Subject 254207207 completed 253 / 253\"\n",
      "[1] \"Subject 255362629 completed 253 / 253\"\n",
      "[1] \"Subject 257686691 completed 253 / 253\"\n",
      "[1] \"Subject 265310712 completed 253 / 253\"\n",
      "[1] \"Subject 269397244 completed 253 / 253\"\n",
      "[1] \"Subject 281640697 completed 253 / 253\"\n",
      "[1] \"Subject 285550479 completed 253 / 253\"\n",
      "[1] \"Subject 287237223 completed 253 / 253\"\n",
      "[1] \"Subject 294207097 completed 253 / 253\"\n",
      "[1] \"Subject 300304269 completed 253 / 253\"\n",
      "[1] \"Subject 301246724 completed 253 / 253\"\n",
      "[1] \"Subject 302502671 completed 253 / 253\"\n",
      "[1] \"Subject 307781333 completed 22 / 253\"\n",
      "[1] \"Subject 307922435 completed 253 / 253\"\n",
      "[1] \"Subject 309861762 completed 253 / 253\"\n",
      "[1] \"Subject 315222554 completed 253 / 253\"\n",
      "[1] \"Subject 315609216 completed 253 / 253\"\n",
      "[1] \"Subject 327011447 completed 253 / 253\"\n",
      "[1] \"Subject 336215410 completed 253 / 253\"\n",
      "[1] \"Subject 338738516 completed 253 / 253\"\n",
      "[1] \"Subject 340691821 completed 253 / 253\"\n",
      "[1] \"Subject 343319516 completed 253 / 253\"\n",
      "[1] \"Subject 369400829 completed 253 / 253\"\n",
      "[1] \"Subject 373678849 completed 253 / 253\"\n",
      "[1] \"Subject 376591610 completed 253 / 253\"\n",
      "[1] \"Subject 382104984 completed 253 / 253\"\n",
      "[1] \"Subject 383674527 completed 253 / 253\"\n",
      "[1] \"Subject 392751046 completed 253 / 253\"\n",
      "[1] \"Subject 395526717 completed 253 / 253\"\n",
      "[1] \"Subject 401106595 completed 253 / 253\"\n",
      "[1] \"Subject 403595429 completed 253 / 253\"\n",
      "[1] \"Subject 404565472 completed 253 / 253\"\n",
      "[1] \"Subject 413006308 completed 253 / 253\"\n",
      "[1] \"Subject 418413005 completed 253 / 253\"\n",
      "[1] \"Subject 429304075 completed 253 / 253\"\n",
      "[1] \"Subject 431543630 completed 253 / 253\"\n",
      "[1] \"Subject 447806945 completed 253 / 253\"\n",
      "[1] \"Subject 452446945 completed 253 / 253\"\n",
      "[1] \"Subject 452832938 completed 253 / 253\"\n",
      "[1] \"Subject 456189850 completed 253 / 253\"\n",
      "[1] \"Subject 463372698 completed 253 / 253\"\n",
      "[1] \"Subject 470122251 completed 253 / 253\"\n",
      "[1] \"Subject 471457102 completed 253 / 253\"\n",
      "[1] \"Subject 475089391 completed 253 / 253\"\n",
      "[1] \"Subject 478579177 completed 253 / 253\"\n",
      "[1] \"Subject 495185845 completed 253 / 253\"\n",
      "[1] \"Subject 497105461 completed 253 / 253\"\n",
      "[1] \"Subject 507377004 completed 253 / 253\"\n",
      "[1] \"Subject 513334121 completed 17 / 253\"\n",
      "[1] \"Subject 513963865 completed 253 / 253\"\n",
      "[1] \"Subject 517148418 completed 253 / 253\"\n",
      "[1] \"Subject 517476929 completed 253 / 253\"\n",
      "[1] \"Subject 517493776 completed 253 / 253\"\n",
      "[1] \"Subject 518370751 completed 253 / 253\"\n",
      "[1] \"Subject 518373039 completed 253 / 253\"\n",
      "[1] \"Subject 527222665 completed 253 / 253\"\n",
      "[1] \"Subject 535657331 completed 253 / 253\"\n",
      "[1] \"Subject 537190567 completed 253 / 253\"\n",
      "[1] \"Subject 543578239 completed 253 / 253\"\n",
      "[1] \"Subject 546552693 completed 253 / 253\"\n",
      "[1] \"Subject 555017647 completed 253 / 253\"\n",
      "[1] \"Subject 561140418 completed 253 / 253\"\n",
      "[1] \"Subject 563694159 completed 253 / 253\"\n",
      "[1] \"Subject 572765881 completed 253 / 253\"\n",
      "[1] \"Subject 580796674 completed 253 / 253\"\n",
      "[1] \"Subject 589488351 completed 11 / 253\"\n",
      "[1] \"Subject 601005594 completed 253 / 253\"\n",
      "[1] \"Subject 603387860 completed 253 / 253\"\n",
      "[1] \"Subject 615241579 completed 253 / 253\"\n",
      "[1] \"Subject 621746618 completed 253 / 253\"\n",
      "[1] \"Subject 621748191 completed 6 / 253\"\n",
      "[1] \"Subject 625654823 completed 253 / 253\"\n",
      "[1] \"Subject 626450633 completed 253 / 253\"\n",
      "[1] \"Subject 635999412 completed 253 / 253\"\n",
      "[1] \"Subject 636181616 completed 253 / 253\"\n",
      "[1] \"Subject 639372404 completed 50 / 253\"\n",
      "[1] \"Subject 649757255 completed 253 / 253\"\n",
      "[1] \"Subject 652658452 completed 253 / 253\"\n",
      "[1] \"Subject 661973269 completed 253 / 253\"\n",
      "[1] \"Subject 669741873 completed 253 / 253\"\n",
      "[1] \"Subject 671500180 completed 253 / 253\"\n",
      "[1] \"Subject 672521560 completed 253 / 253\"\n",
      "[1] \"Subject 672799377 completed 253 / 253\"\n",
      "[1] \"Subject 682309552 completed 253 / 253\"\n",
      "[1] \"Subject 687159644 completed 253 / 253\"\n",
      "[1] \"Subject 689093004 completed 253 / 253\"\n",
      "[1] \"Subject 711452977 completed 253 / 253\"\n",
      "[1] \"Subject 718139824 completed 253 / 253\"\n",
      "[1] \"Subject 718626067 completed 253 / 253\"\n",
      "[1] \"Subject 724122711 completed 253 / 253\"\n",
      "[1] \"Subject 727170484 completed 253 / 253\"\n",
      "[1] \"Subject 727174165 completed 253 / 253\"\n",
      "[1] \"Subject 731693537 completed 253 / 253\"\n",
      "[1] \"Subject 738589570 completed 253 / 253\"\n",
      "[1] \"Subject 750321084 completed 253 / 253\"\n",
      "[1] \"Subject 754276419 completed 253 / 253\"\n",
      "[1] \"Subject 779666947 completed 28 / 253\"\n",
      "[1] \"Subject 780403192 completed 253 / 253\"\n",
      "[1] \"Subject 787133962 completed 253 / 253\"\n",
      "[1] \"Subject 787708513 completed 253 / 253\"\n",
      "[1] \"Subject 788405028 completed 253 / 253\"\n",
      "[1] \"Subject 789921315 completed 253 / 253\"\n",
      "[1] \"Subject 790529144 completed 253 / 253\"\n",
      "[1] \"Subject 799430110 completed 253 / 253\"\n",
      "[1] \"Subject 810539788 completed 253 / 253\"\n",
      "[1] \"Subject 812377006 completed 253 / 253\"\n",
      "[1] \"Subject 813749599 completed 253 / 253\"\n",
      "[1] \"Subject 816584974 completed 253 / 253\"\n",
      "[1] \"Subject 818017150 completed 253 / 253\"\n",
      "[1] \"Subject 821695709 completed 253 / 253\"\n",
      "[1] \"Subject 823688566 completed 253 / 253\"\n",
      "[1] \"Subject 839320766 completed 253 / 253\"\n",
      "[1] \"Subject 843575785 completed 253 / 253\"\n",
      "[1] \"Subject 859783460 completed 253 / 253\"\n",
      "[1] \"Subject 862700263 completed 253 / 253\"\n",
      "[1] \"Subject 864988325 completed 253 / 253\"\n",
      "[1] \"Subject 888268305 completed 253 / 253\"\n",
      "[1] \"Subject 891685621 completed 253 / 253\"\n",
      "[1] \"Subject 896467980 completed 253 / 253\"\n",
      "[1] \"Subject 902494953 completed 253 / 253\"\n",
      "[1] \"Subject 903306123 completed 253 / 253\"\n",
      "[1] \"Subject 903704841 completed 253 / 253\"\n",
      "[1] \"Subject 906096476 completed 253 / 253\"\n",
      "[1] \"Subject 909015666 completed 253 / 253\"\n",
      "[1] \"Subject 909849446 completed 253 / 253\"\n",
      "[1] \"Subject 910420859 completed 253 / 253\"\n",
      "[1] \"Subject 925257755 completed 253 / 253\"\n",
      "[1] \"Subject 928731678 completed 253 / 253\"\n",
      "[1] \"Subject 933150654 completed 253 / 253\"\n",
      "[1] \"Subject 934533023 completed 253 / 253\"\n",
      "[1] \"Subject 940741322 completed 253 / 253\"\n",
      "[1] \"Subject 941912207 completed 253 / 253\"\n",
      "[1] \"Subject 945873991 completed 253 / 253\"\n",
      "[1] \"Subject 947005147 completed 253 / 253\"\n",
      "[1] \"Subject 947430341 completed 253 / 253\"\n",
      "[1] \"Subject 947697281 completed 6 / 253\"\n",
      "[1] \"Subject 960528676 completed 253 / 253\"\n",
      "[1] \"Subject 964615310 completed 253 / 253\"\n",
      "[1] \"Subject 967053231 completed 253 / 253\"\n",
      "[1] \"Subject 973853214 completed 253 / 253\"\n",
      "[1] \"Subject 975599482 completed 90 / 253\"\n",
      "[1] \"Subject 976032736 completed 253 / 253\"\n",
      "[1] \"Subject 983874771 completed 253 / 253\"\n",
      "[1] \"Subject 991358067 completed 253 / 253\"\n",
      "[1] \"Subject 994306267 completed 253 / 253\"\n",
      "[1] \"Subject 2740832079 completed 253 / 253\"\n"
     ]
    }
   ],
   "source": [
    "# actually throw out the subjects who didn't complete\n",
    "datadf <- remove_incomplete(datadf,stimuli_number)"
   ]
  },
  {
   "cell_type": "code",
   "execution_count": 117,
   "metadata": {},
   "outputs": [],
   "source": [
    "# function to label participants who meet statistical cleaning assumptions\n",
    "label_noncompliant <- function(datadf,\n",
    "                               screen_size_cutoff=26,viewing_distance_cutoff=30,rt_cutoff=600,score_cutoff=0.7){\n",
    "    \n",
    "    subjectlist <- sort(unique(datadf$subject)) # obtain a list of all the subjects\n",
    "    \n",
    "    for (ID in subjectlist){ # go through subject by subject\n",
    "        \n",
    "        subjectdf = subset(datadf, subject == ID) # select the ID for subject of interest \n",
    "        \n",
    "        screen_size <- round(screen_size(subjectdf)/10,1)\n",
    "        viewing_distance <- round(view_distance(subjectdf)/10,1)\n",
    "        catch_score <- catch_score(subjectdf)\n",
    "        \n",
    "        if(catch_score > score_cutoff){ # catch score cutoff\n",
    "            if(screen_size > screen_size_cutoff){ # screen size cutoff\n",
    "                if(viewing_distance > viewing_distance_cutoff){ # viewing distance cutoff\n",
    "                    if(rt_avg(subjectdf) > rt_cutoff){ # rt cutoff\n",
    "                        datadf$noncompliant[datadf$subject == ID] = 0\n",
    "                    } else {\n",
    "                        print(paste(\"Subject\",ID,\"reaction time of:\",rt_avg(subjectdf),\"ms\",sep=' ')) # RT fail\n",
    "                        datadf$noncompliant[datadf$subject == ID] = 1\n",
    "                    }\n",
    "                } else {\n",
    "                    print(paste(\"Subject\",ID,\"viewing distance of:\",viewing_distance,\"cm\",sep=' ')) # Viewing distance fail\n",
    "                    datadf$noncompliant[datadf$subject == ID] = 2\n",
    "                }\n",
    "            } else {\n",
    "                print(paste(\"Subject\",ID,\"had a screen size of:\",screen_size,\"cm\",sep=' ')) # Screen size fail\n",
    "                datadf$noncompliant[datadf$subject == ID] = 3\n",
    "            } \n",
    "      } else {\n",
    "            print(paste(\"Subject\",ID,\"had a catch score of: \",catch_score,sep=' ')) # Catch score faile\n",
    "            datadf$noncompliant[datadf$subject == ID] = 4\n",
    "        }\n",
    "    }\n",
    "    print(paste(length(unique(datadf$subject[datadf$noncompliant==0])),\"of\",length(unique(datadf$subject)),\n",
    "                \"were compliant\",sep=' '))\n",
    "    return(datadf)\n",
    "}"
   ]
  },
  {
   "cell_type": "code",
   "execution_count": 118,
   "metadata": {},
   "outputs": [
    {
     "name": "stdout",
     "output_type": "stream",
     "text": [
      "[1] \"Catch scores\"\n",
      "[1] \"Subject 3248455 : 10 / 10\"\n",
      "[1] \"Subject 9522584 : 6 / 10\"\n",
      "[1] \"Subject 11005010 : 10 / 10\"\n",
      "[1] \"Subject 13228849 : 9 / 10\"\n",
      "[1] \"Subject 35587329 : 10 / 10\"\n",
      "[1] \"Subject 35716339 : 10 / 10\"\n",
      "[1] \"Subject 40354804 : 10 / 10\"\n",
      "[1] \"Subject 48341337 : 10 / 10\"\n",
      "[1] \"Subject 50823202 : 10 / 10\"\n",
      "[1] \"Subject 51805023 : 10 / 10\"\n",
      "[1] \"Subject 53858324 : 9 / 10\"\n",
      "[1] \"Subject 63991259 : 10 / 10\"\n",
      "[1] \"Subject 64413254 : 10 / 10\"\n",
      "[1] \"Subject 75394365 : 10 / 10\"\n",
      "[1] \"Subject 80499026 : 10 / 10\"\n",
      "[1] \"Subject 81903961 : 6 / 10\"\n",
      "[1] \"Subject 98665966 : 10 / 10\"\n",
      "[1] \"Subject 99640956 : 10 / 10\"\n",
      "[1] \"Subject 120361401 : 1 / 10\"\n",
      "[1] \"Subject 133207874 : 7 / 10\"\n",
      "[1] \"Subject 147071530 : 7 / 10\"\n",
      "[1] \"Subject 165762185 : 10 / 10\"\n",
      "[1] \"Subject 170537732 : 10 / 10\"\n",
      "[1] \"Subject 172093576 : 7 / 10\"\n",
      "[1] \"Subject 176476116 : 10 / 10\"\n",
      "[1] \"Subject 176698125 : 10 / 10\"\n",
      "[1] \"Subject 204525930 : 10 / 10\"\n",
      "[1] \"Subject 211745977 : 10 / 10\"\n",
      "[1] \"Subject 219326440 : 7 / 10\"\n",
      "[1] \"Subject 225280441 : 10 / 10\"\n",
      "[1] \"Subject 232984941 : 10 / 10\"\n",
      "[1] \"Subject 244316230 : 5 / 10\"\n",
      "[1] \"Subject 245575217 : 10 / 10\"\n",
      "[1] \"Subject 251360273 : 10 / 10\"\n",
      "[1] \"Subject 252347716 : 6 / 10\"\n",
      "[1] \"Subject 254207207 : 4 / 10\"\n",
      "[1] \"Subject 255362629 : 10 / 10\"\n",
      "[1] \"Subject 257686691 : 10 / 10\"\n",
      "[1] \"Subject 265310712 : 1 / 10\"\n",
      "[1] \"Subject 269397244 : 10 / 10\"\n",
      "[1] \"Subject 281640697 : 10 / 10\"\n",
      "[1] \"Subject 285550479 : 1 / 10\"\n",
      "[1] \"Subject 287237223 : 10 / 10\"\n",
      "[1] \"Subject 294207097 : 10 / 10\"\n",
      "[1] \"Subject 300304269 : 10 / 10\"\n",
      "[1] \"Subject 301246724 : 10 / 10\"\n",
      "[1] \"Subject 302502671 : 10 / 10\"\n",
      "[1] \"Subject 307922435 : 4 / 10\"\n",
      "[1] \"Subject 309861762 : 10 / 10\"\n",
      "[1] \"Subject 315222554 : 8 / 10\"\n",
      "[1] \"Subject 315609216 : 10 / 10\"\n",
      "[1] \"Subject 327011447 : 10 / 10\"\n",
      "[1] \"Subject 336215410 : 9 / 10\"\n",
      "[1] \"Subject 338738516 : 10 / 10\"\n",
      "[1] \"Subject 340691821 : 10 / 10\"\n",
      "[1] \"Subject 343319516 : 9 / 10\"\n",
      "[1] \"Subject 369400829 : 7 / 10\"\n",
      "[1] \"Subject 373678849 : 8 / 10\"\n",
      "[1] \"Subject 376591610 : 10 / 10\"\n",
      "[1] \"Subject 382104984 : 0 / 10\"\n",
      "[1] \"Subject 383674527 : 10 / 10\"\n",
      "[1] \"Subject 392751046 : 10 / 10\"\n",
      "[1] \"Subject 395526717 : 10 / 10\"\n",
      "[1] \"Subject 401106595 : 10 / 10\"\n",
      "[1] \"Subject 403595429 : 10 / 10\"\n",
      "[1] \"Subject 404565472 : 10 / 10\"\n",
      "[1] \"Subject 413006308 : 10 / 10\"\n",
      "[1] \"Subject 418413005 : 10 / 10\"\n",
      "[1] \"Subject 429304075 : 4 / 10\"\n",
      "[1] \"Subject 431543630 : 10 / 10\"\n",
      "[1] \"Subject 447806945 : 10 / 10\"\n",
      "[1] \"Subject 452446945 : 10 / 10\"\n",
      "[1] \"Subject 452832938 : 10 / 10\"\n",
      "[1] \"Subject 456189850 : 9 / 10\"\n",
      "[1] \"Subject 463372698 : 7 / 10\"\n",
      "[1] \"Subject 470122251 : 10 / 10\"\n",
      "[1] \"Subject 471457102 : 3 / 10\"\n",
      "[1] \"Subject 475089391 : 7 / 10\"\n",
      "[1] \"Subject 478579177 : 10 / 10\"\n",
      "[1] \"Subject 495185845 : 10 / 10\"\n",
      "[1] \"Subject 497105461 : 9 / 10\"\n",
      "[1] \"Subject 507377004 : 10 / 10\"\n",
      "[1] \"Subject 513963865 : 10 / 10\"\n",
      "[1] \"Subject 517148418 : 10 / 10\"\n",
      "[1] \"Subject 517476929 : 4 / 10\"\n",
      "[1] \"Subject 517493776 : 10 / 10\"\n",
      "[1] \"Subject 518370751 : 10 / 10\"\n",
      "[1] \"Subject 518373039 : 10 / 10\"\n",
      "[1] \"Subject 527222665 : 10 / 10\"\n",
      "[1] \"Subject 535657331 : 10 / 10\"\n",
      "[1] \"Subject 537190567 : 10 / 10\"\n",
      "[1] \"Subject 543578239 : 10 / 10\"\n",
      "[1] \"Subject 546552693 : 10 / 10\"\n",
      "[1] \"Subject 555017647 : 2 / 10\"\n",
      "[1] \"Subject 561140418 : 0 / 10\"\n",
      "[1] \"Subject 563694159 : 5 / 10\"\n",
      "[1] \"Subject 572765881 : 10 / 10\"\n",
      "[1] \"Subject 580796674 : 10 / 10\"\n",
      "[1] \"Subject 601005594 : 6 / 10\"\n",
      "[1] \"Subject 603387860 : 10 / 10\"\n",
      "[1] \"Subject 615241579 : 10 / 10\"\n",
      "[1] \"Subject 621746618 : 10 / 10\"\n",
      "[1] \"Subject 625654823 : 10 / 10\"\n",
      "[1] \"Subject 626450633 : 10 / 10\"\n",
      "[1] \"Subject 635999412 : 10 / 10\"\n",
      "[1] \"Subject 636181616 : 10 / 10\"\n",
      "[1] \"Subject 649757255 : 10 / 10\"\n",
      "[1] \"Subject 652658452 : 10 / 10\"\n",
      "[1] \"Subject 661973269 : 10 / 10\"\n",
      "[1] \"Subject 669741873 : 10 / 10\"\n",
      "[1] \"Subject 671500180 : 10 / 10\"\n",
      "[1] \"Subject 672521560 : 10 / 10\"\n",
      "[1] \"Subject 672799377 : 10 / 10\"\n",
      "[1] \"Subject 682309552 : 10 / 10\"\n",
      "[1] \"Subject 687159644 : 10 / 10\"\n",
      "[1] \"Subject 689093004 : 10 / 10\"\n",
      "[1] \"Subject 711452977 : 7 / 10\"\n",
      "[1] \"Subject 718139824 : 10 / 10\"\n",
      "[1] \"Subject 718626067 : 10 / 10\"\n",
      "[1] \"Subject 724122711 : 10 / 10\"\n",
      "[1] \"Subject 727170484 : 10 / 10\"\n",
      "[1] \"Subject 727174165 : 10 / 10\"\n",
      "[1] \"Subject 731693537 : 10 / 10\"\n",
      "[1] \"Subject 738589570 : 10 / 10\"\n",
      "[1] \"Subject 750321084 : 10 / 10\"\n",
      "[1] \"Subject 754276419 : 10 / 10\"\n",
      "[1] \"Subject 780403192 : 10 / 10\"\n",
      "[1] \"Subject 787133962 : 10 / 10\"\n",
      "[1] \"Subject 787708513 : 10 / 10\"\n",
      "[1] \"Subject 788405028 : 10 / 10\"\n",
      "[1] \"Subject 789921315 : 6 / 10\"\n",
      "[1] \"Subject 790529144 : 10 / 10\"\n",
      "[1] \"Subject 799430110 : 10 / 10\"\n",
      "[1] \"Subject 810539788 : 10 / 10\"\n",
      "[1] \"Subject 812377006 : 10 / 10\"\n",
      "[1] \"Subject 813749599 : 10 / 10\"\n",
      "[1] \"Subject 816584974 : 10 / 10\"\n",
      "[1] \"Subject 818017150 : 10 / 10\"\n",
      "[1] \"Subject 821695709 : 10 / 10\"\n",
      "[1] \"Subject 823688566 : 10 / 10\"\n",
      "[1] \"Subject 839320766 : 10 / 10\"\n",
      "[1] \"Subject 843575785 : 10 / 10\"\n",
      "[1] \"Subject 859783460 : 10 / 10\"\n",
      "[1] \"Subject 862700263 : 9 / 10\"\n",
      "[1] \"Subject 864988325 : 10 / 10\"\n",
      "[1] \"Subject 888268305 : 9 / 10\"\n",
      "[1] \"Subject 891685621 : 10 / 10\"\n",
      "[1] \"Subject 896467980 : 10 / 10\"\n",
      "[1] \"Subject 902494953 : 10 / 10\"\n",
      "[1] \"Subject 903306123 : 10 / 10\"\n",
      "[1] \"Subject 903704841 : 10 / 10\"\n",
      "[1] \"Subject 906096476 : 10 / 10\"\n",
      "[1] \"Subject 909015666 : 10 / 10\"\n",
      "[1] \"Subject 909849446 : 10 / 10\"\n",
      "[1] \"Subject 910420859 : 10 / 10\"\n",
      "[1] \"Subject 925257755 : 10 / 10\"\n",
      "[1] \"Subject 928731678 : 10 / 10\"\n",
      "[1] \"Subject 933150654 : 10 / 10\"\n",
      "[1] \"Subject 934533023 : 3 / 10\"\n",
      "[1] \"Subject 940741322 : 0 / 10\"\n",
      "[1] \"Subject 941912207 : 10 / 10\"\n",
      "[1] \"Subject 945873991 : 10 / 10\"\n",
      "[1] \"Subject 947005147 : 5 / 10\"\n",
      "[1] \"Subject 947430341 : 10 / 10\"\n",
      "[1] \"Subject 960528676 : 9 / 10\"\n",
      "[1] \"Subject 964615310 : 10 / 10\"\n",
      "[1] \"Subject 967053231 : 10 / 10\"\n",
      "[1] \"Subject 973853214 : 10 / 10\"\n",
      "[1] \"Subject 976032736 : 10 / 10\"\n",
      "[1] \"Subject 983874771 : 10 / 10\"\n",
      "[1] \"Subject 991358067 : 10 / 10\"\n",
      "[1] \"Subject 994306267 : 10 / 10\"\n",
      "[1] \"Subject 2740832079 : 10 / 10\"\n"
     ]
    }
   ],
   "source": [
    "catch_trial_checker(datadf)"
   ]
  },
  {
   "cell_type": "code",
   "execution_count": 119,
   "metadata": {
    "scrolled": true
   },
   "outputs": [
    {
     "name": "stdout",
     "output_type": "stream",
     "text": [
      "[1] \"Subject 9522584 had a catch score of:  0.6\"\n",
      "[1] \"Subject 81903961 had a catch score of:  0.6\"\n",
      "[1] \"Subject 120361401 had a catch score of:  0.1\"\n",
      "[1] \"Subject 133207874 had a catch score of:  0.7\"\n",
      "[1] \"Subject 147071530 had a catch score of:  0.7\"\n",
      "[1] \"Subject 172093576 had a catch score of:  0.7\"\n",
      "[1] \"Subject 219326440 had a catch score of:  0.7\"\n",
      "[1] \"Subject 244316230 had a catch score of:  0.5\"\n",
      "[1] \"Subject 252347716 had a catch score of:  0.6\"\n",
      "[1] \"Subject 254207207 had a catch score of:  0.4\"\n",
      "[1] \"Subject 265310712 had a catch score of:  0.1\"\n",
      "[1] \"Subject 285550479 had a catch score of:  0.1\"\n",
      "[1] \"Subject 307922435 had a catch score of:  0.4\"\n",
      "[1] \"Subject 369400829 had a catch score of:  0.7\"\n",
      "[1] \"Subject 373678849 reaction time of: 444 ms\"\n",
      "[1] \"Subject 382104984 had a catch score of:  0\"\n",
      "[1] \"Subject 392751046 reaction time of: 476 ms\"\n",
      "[1] \"Subject 429304075 had a catch score of:  0.4\"\n",
      "[1] \"Subject 431543630 reaction time of: 559 ms\"\n",
      "[1] \"Subject 463372698 had a catch score of:  0.7\"\n",
      "[1] \"Subject 471457102 had a catch score of:  0.3\"\n",
      "[1] \"Subject 475089391 had a catch score of:  0.7\"\n",
      "[1] \"Subject 497105461 reaction time of: 498 ms\"\n",
      "[1] \"Subject 517476929 had a catch score of:  0.4\"\n",
      "[1] \"Subject 555017647 had a catch score of:  0.2\"\n",
      "[1] \"Subject 561140418 had a catch score of:  0\"\n",
      "[1] \"Subject 563694159 had a catch score of:  0.5\"\n",
      "[1] \"Subject 601005594 had a catch score of:  0.6\"\n",
      "[1] \"Subject 711452977 had a catch score of:  0.7\"\n",
      "[1] \"Subject 787708513 reaction time of: 396 ms\"\n",
      "[1] \"Subject 789921315 had a catch score of:  0.6\"\n",
      "[1] \"Subject 934533023 had a catch score of:  0.3\"\n",
      "[1] \"Subject 940741322 had a catch score of:  0\"\n",
      "[1] \"Subject 947005147 had a catch score of:  0.5\"\n",
      "[1] \"Subject 2740832079 reaction time of: 426 ms\"\n",
      "[1] \"138 of 173 were compliant\"\n"
     ]
    }
   ],
   "source": [
    "datadf <- label_noncompliant(datadf)"
   ]
  },
  {
   "cell_type": "code",
   "execution_count": 120,
   "metadata": {},
   "outputs": [],
   "source": [
    "# function to run all these checks at once\n",
    "validation <- function(datadf){\n",
    "    \n",
    "    magnification_list <- sort(unique(datadf$peripheral_scale))\n",
    "    size_list <- sort(unique(datadf$stimulus_radius))\n",
    "    \n",
    "    for (stimulus in size_list){\n",
    "        for (scale in magnification_list){\n",
    "            tempdf <- subset(datadf, peripheral_scale == scale & stimulus_radius == stimulus)\n",
    "            \n",
    "            print(paste(\"Magnification\",scale,\"Stimulus\",stimulus))\n",
    "            tempdf <- remove_incomplete(tempdf,stimuli_number)\n",
    "            screen_parameters(tempdf, individual=FALSE)\n",
    "            catch_trial_checker(tempdf)\n",
    "            label_noncompliant(tempdf)\n",
    "            print(\"\")\n",
    "            print(\"____________________\")\n",
    "            print(\"\")\n",
    "            \n",
    "        }\n",
    "    }\n",
    "}"
   ]
  },
  {
   "cell_type": "code",
   "execution_count": 121,
   "metadata": {},
   "outputs": [
    {
     "name": "stdout",
     "output_type": "stream",
     "text": [
      "[1] \"Magnification 1 Stimulus 0.05\"\n",
      "[1] \"18 in dataset\"\n",
      "[1] \"\"\n",
      "[1] \"Subject 11005010 completed 253 / 253\"\n",
      "[1] \"Subject 64413254 completed 253 / 253\"\n",
      "[1] \"Subject 294207097 completed 253 / 253\"\n",
      "[1] \"Subject 338738516 completed 253 / 253\"\n",
      "[1] \"Subject 340691821 completed 253 / 253\"\n",
      "[1] \"Subject 343319516 completed 253 / 253\"\n",
      "[1] \"Subject 373678849 completed 253 / 253\"\n",
      "[1] \"Subject 376591610 completed 253 / 253\"\n",
      "[1] \"Subject 507377004 completed 253 / 253\"\n",
      "[1] \"Subject 603387860 completed 253 / 253\"\n",
      "[1] \"Subject 626450633 completed 253 / 253\"\n",
      "[1] \"Subject 682309552 completed 253 / 253\"\n",
      "[1] \"Subject 689093004 completed 253 / 253\"\n",
      "[1] \"Subject 754276419 completed 253 / 253\"\n",
      "[1] \"Subject 821695709 completed 253 / 253\"\n",
      "[1] \"Subject 902494953 completed 253 / 253\"\n",
      "[1] \"Subject 909015666 completed 253 / 253\"\n",
      "[1] \"Subject 960528676 completed 253 / 253\"\n",
      "[1] \"Screen Parameters\"\n",
      "[1] \"\"\n",
      "[1] \"Screen size issues: 0 / 18\"\n",
      "[1] \"Viewing distance issues: 0 / 18\"\n",
      "[1] \"Catch scores\"\n",
      "[1] \"Subject 11005010 : 10 / 10\"\n",
      "[1] \"Subject 64413254 : 10 / 10\"\n",
      "[1] \"Subject 294207097 : 10 / 10\"\n",
      "[1] \"Subject 338738516 : 10 / 10\"\n",
      "[1] \"Subject 340691821 : 10 / 10\"\n",
      "[1] \"Subject 343319516 : 9 / 10\"\n",
      "[1] \"Subject 373678849 : 8 / 10\"\n",
      "[1] \"Subject 376591610 : 10 / 10\"\n",
      "[1] \"Subject 507377004 : 10 / 10\"\n",
      "[1] \"Subject 603387860 : 10 / 10\"\n",
      "[1] \"Subject 626450633 : 10 / 10\"\n",
      "[1] \"Subject 682309552 : 10 / 10\"\n",
      "[1] \"Subject 689093004 : 10 / 10\"\n",
      "[1] \"Subject 754276419 : 10 / 10\"\n",
      "[1] \"Subject 821695709 : 10 / 10\"\n",
      "[1] \"Subject 902494953 : 10 / 10\"\n",
      "[1] \"Subject 909015666 : 10 / 10\"\n",
      "[1] \"Subject 960528676 : 9 / 10\"\n",
      "[1] \"Subject 373678849 reaction time of: 444 ms\"\n",
      "[1] \"17 of 18 were compliant\"\n",
      "[1] \"\"\n",
      "[1] \"____________________\"\n",
      "[1] \"\"\n",
      "[1] \"Magnification 4.5 Stimulus 0.05\"\n",
      "[1] \"18 in dataset\"\n",
      "[1] \"\"\n",
      "[1] \"Subject 53858324 completed 253 / 253\"\n",
      "[1] \"Subject 81903961 completed 253 / 253\"\n",
      "[1] \"Subject 165762185 completed 253 / 253\"\n",
      "[1] \"Subject 170537732 completed 253 / 253\"\n",
      "[1] \"Subject 211745977 completed 253 / 253\"\n",
      "[1] \"Subject 255362629 completed 253 / 253\"\n",
      "[1] \"Subject 327011447 completed 253 / 253\"\n",
      "[1] \"Subject 392751046 completed 253 / 253\"\n",
      "[1] \"Subject 447806945 completed 253 / 253\"\n",
      "[1] \"Subject 546552693 completed 253 / 253\"\n",
      "[1] \"Subject 615241579 completed 253 / 253\"\n",
      "[1] \"Subject 625654823 completed 253 / 253\"\n",
      "[1] \"Subject 780403192 completed 253 / 253\"\n",
      "[1] \"Subject 787708513 completed 253 / 253\"\n",
      "[1] \"Subject 816584974 completed 253 / 253\"\n",
      "[1] \"Subject 818017150 completed 253 / 253\"\n",
      "[1] \"Subject 862700263 completed 253 / 253\"\n",
      "[1] \"Subject 906096476 completed 253 / 253\"\n",
      "[1] \"Screen Parameters\"\n",
      "[1] \"\"\n",
      "[1] \"Screen size issues: 0 / 18\"\n",
      "[1] \"Viewing distance issues: 0 / 18\"\n",
      "[1] \"Catch scores\"\n",
      "[1] \"Subject 53858324 : 9 / 10\"\n",
      "[1] \"Subject 81903961 : 6 / 10\"\n",
      "[1] \"Subject 165762185 : 10 / 10\"\n",
      "[1] \"Subject 170537732 : 10 / 10\"\n",
      "[1] \"Subject 211745977 : 10 / 10\"\n",
      "[1] \"Subject 255362629 : 10 / 10\"\n",
      "[1] \"Subject 327011447 : 10 / 10\"\n",
      "[1] \"Subject 392751046 : 10 / 10\"\n",
      "[1] \"Subject 447806945 : 10 / 10\"\n",
      "[1] \"Subject 546552693 : 10 / 10\"\n",
      "[1] \"Subject 615241579 : 10 / 10\"\n",
      "[1] \"Subject 625654823 : 10 / 10\"\n",
      "[1] \"Subject 780403192 : 10 / 10\"\n",
      "[1] \"Subject 787708513 : 10 / 10\"\n",
      "[1] \"Subject 816584974 : 10 / 10\"\n",
      "[1] \"Subject 818017150 : 10 / 10\"\n",
      "[1] \"Subject 862700263 : 9 / 10\"\n",
      "[1] \"Subject 906096476 : 10 / 10\"\n",
      "[1] \"Subject 81903961 had a catch score of:  0.6\"\n",
      "[1] \"Subject 392751046 reaction time of: 476 ms\"\n",
      "[1] \"Subject 787708513 reaction time of: 396 ms\"\n",
      "[1] \"15 of 18 were compliant\"\n",
      "[1] \"\"\n",
      "[1] \"____________________\"\n",
      "[1] \"\"\n",
      "[1] \"Magnification 1 Stimulus 0.1\"\n",
      "[1] \"17 in dataset\"\n",
      "[1] \"\"\n",
      "[1] \"Subject 3248455 completed 253 / 253\"\n",
      "[1] \"Subject 9522584 completed 253 / 253\"\n",
      "[1] \"Subject 35716339 completed 253 / 253\"\n",
      "[1] \"Subject 315222554 completed 253 / 253\"\n",
      "[1] \"Subject 336215410 completed 253 / 253\"\n",
      "[1] \"Subject 369400829 completed 253 / 253\"\n",
      "[1] \"Subject 383674527 completed 253 / 253\"\n",
      "[1] \"Subject 401106595 completed 253 / 253\"\n",
      "[1] \"Subject 403595429 completed 253 / 253\"\n",
      "[1] \"Subject 495185845 completed 253 / 253\"\n",
      "[1] \"Subject 636181616 completed 253 / 253\"\n",
      "[1] \"Subject 718139824 completed 253 / 253\"\n",
      "[1] \"Subject 727174165 completed 253 / 253\"\n",
      "[1] \"Subject 823688566 completed 253 / 253\"\n",
      "[1] \"Subject 903704841 completed 253 / 253\"\n",
      "[1] \"Subject 933150654 completed 253 / 253\"\n",
      "[1] \"Subject 964615310 completed 253 / 253\"\n",
      "[1] \"Screen Parameters\"\n",
      "[1] \"\"\n",
      "[1] \"Screen size issues: 0 / 17\"\n",
      "[1] \"Viewing distance issues: 0 / 17\"\n",
      "[1] \"Catch scores\"\n",
      "[1] \"Subject 3248455 : 10 / 10\"\n",
      "[1] \"Subject 9522584 : 6 / 10\"\n",
      "[1] \"Subject 35716339 : 10 / 10\"\n",
      "[1] \"Subject 315222554 : 8 / 10\"\n",
      "[1] \"Subject 336215410 : 9 / 10\"\n",
      "[1] \"Subject 369400829 : 7 / 10\"\n",
      "[1] \"Subject 383674527 : 10 / 10\"\n",
      "[1] \"Subject 401106595 : 10 / 10\"\n",
      "[1] \"Subject 403595429 : 10 / 10\"\n",
      "[1] \"Subject 495185845 : 10 / 10\"\n",
      "[1] \"Subject 636181616 : 10 / 10\"\n",
      "[1] \"Subject 718139824 : 10 / 10\"\n",
      "[1] \"Subject 727174165 : 10 / 10\"\n",
      "[1] \"Subject 823688566 : 10 / 10\"\n",
      "[1] \"Subject 903704841 : 10 / 10\"\n",
      "[1] \"Subject 933150654 : 10 / 10\"\n",
      "[1] \"Subject 964615310 : 10 / 10\"\n",
      "[1] \"Subject 9522584 had a catch score of:  0.6\"\n",
      "[1] \"Subject 369400829 had a catch score of:  0.7\"\n",
      "[1] \"15 of 17 were compliant\"\n",
      "[1] \"\"\n",
      "[1] \"____________________\"\n",
      "[1] \"\"\n",
      "[1] \"Magnification 4.5 Stimulus 0.1\"\n",
      "[1] \"13 in dataset\"\n",
      "[1] \"\"\n",
      "[1] \"Subject 51805023 completed 253 / 253\"\n",
      "[1] \"Subject 120361401 completed 253 / 253\"\n",
      "[1] \"Subject 219326440 completed 253 / 253\"\n",
      "[1] \"Subject 251360273 completed 253 / 253\"\n",
      "[1] \"Subject 269397244 completed 253 / 253\"\n",
      "[1] \"Subject 382104984 completed 253 / 253\"\n",
      "[1] \"Subject 470122251 completed 253 / 253\"\n",
      "[1] \"Subject 518370751 completed 253 / 253\"\n",
      "[1] \"Subject 543578239 completed 253 / 253\"\n",
      "[1] \"Subject 661973269 completed 253 / 253\"\n",
      "[1] \"Subject 738589570 completed 253 / 253\"\n",
      "[1] \"Subject 812377006 completed 253 / 253\"\n",
      "[1] \"Subject 891685621 completed 253 / 253\"\n",
      "[1] \"Screen Parameters\"\n",
      "[1] \"\"\n",
      "[1] \"Screen size issues: 0 / 13\"\n",
      "[1] \"Viewing distance issues: 0 / 13\"\n",
      "[1] \"Catch scores\"\n",
      "[1] \"Subject 51805023 : 10 / 10\"\n",
      "[1] \"Subject 120361401 : 1 / 10\"\n",
      "[1] \"Subject 219326440 : 7 / 10\"\n",
      "[1] \"Subject 251360273 : 10 / 10\"\n",
      "[1] \"Subject 269397244 : 10 / 10\"\n",
      "[1] \"Subject 382104984 : 0 / 10\"\n",
      "[1] \"Subject 470122251 : 10 / 10\"\n",
      "[1] \"Subject 518370751 : 10 / 10\"\n",
      "[1] \"Subject 543578239 : 10 / 10\"\n",
      "[1] \"Subject 661973269 : 10 / 10\"\n",
      "[1] \"Subject 738589570 : 10 / 10\"\n",
      "[1] \"Subject 812377006 : 10 / 10\"\n",
      "[1] \"Subject 891685621 : 10 / 10\"\n",
      "[1] \"Subject 120361401 had a catch score of:  0.1\"\n",
      "[1] \"Subject 219326440 had a catch score of:  0.7\"\n",
      "[1] \"Subject 382104984 had a catch score of:  0\"\n",
      "[1] \"10 of 13 were compliant\"\n",
      "[1] \"\"\n",
      "[1] \"____________________\"\n",
      "[1] \"\"\n",
      "[1] \"Magnification 1 Stimulus 0.25\"\n",
      "[1] \"20 in dataset\"\n",
      "[1] \"\"\n",
      "[1] \"Subject 13228849 completed 253 / 253\"\n",
      "[1] \"Subject 75394365 completed 253 / 253\"\n",
      "[1] \"Subject 172093576 completed 253 / 253\"\n",
      "[1] \"Subject 300304269 completed 253 / 253\"\n",
      "[1] \"Subject 309861762 completed 253 / 253\"\n",
      "[1] \"Subject 413006308 completed 253 / 253\"\n",
      "[1] \"Subject 429304075 completed 253 / 253\"\n",
      "[1] \"Subject 478579177 completed 253 / 253\"\n",
      "[1] \"Subject 497105461 completed 253 / 253\"\n",
      "[1] \"Subject 517476929 completed 253 / 253\"\n",
      "[1] \"Subject 601005594 completed 253 / 253\"\n",
      "[1] \"Subject 669741873 completed 253 / 253\"\n",
      "[1] \"Subject 711452977 completed 253 / 253\"\n",
      "[1] \"Subject 731693537 completed 253 / 253\"\n",
      "[1] \"Subject 909849446 completed 253 / 253\"\n",
      "[1] \"Subject 910420859 completed 253 / 253\"\n",
      "[1] \"Subject 928731678 completed 253 / 253\"\n",
      "[1] \"Subject 934533023 completed 253 / 253\"\n",
      "[1] \"Subject 967053231 completed 253 / 253\"\n",
      "[1] \"Subject 991358067 completed 253 / 253\"\n",
      "[1] \"Screen Parameters\"\n",
      "[1] \"\"\n",
      "[1] \"Screen size issues: 0 / 20\"\n",
      "[1] \"Viewing distance issues: 0 / 20\"\n",
      "[1] \"Catch scores\"\n",
      "[1] \"Subject 13228849 : 9 / 10\"\n",
      "[1] \"Subject 75394365 : 10 / 10\"\n",
      "[1] \"Subject 172093576 : 7 / 10\"\n",
      "[1] \"Subject 300304269 : 10 / 10\"\n",
      "[1] \"Subject 309861762 : 10 / 10\"\n",
      "[1] \"Subject 413006308 : 10 / 10\"\n",
      "[1] \"Subject 429304075 : 4 / 10\"\n",
      "[1] \"Subject 478579177 : 10 / 10\"\n",
      "[1] \"Subject 497105461 : 9 / 10\"\n",
      "[1] \"Subject 517476929 : 4 / 10\"\n",
      "[1] \"Subject 601005594 : 6 / 10\"\n",
      "[1] \"Subject 669741873 : 10 / 10\"\n",
      "[1] \"Subject 711452977 : 7 / 10\"\n",
      "[1] \"Subject 731693537 : 10 / 10\"\n",
      "[1] \"Subject 909849446 : 10 / 10\"\n",
      "[1] \"Subject 910420859 : 10 / 10\"\n",
      "[1] \"Subject 928731678 : 10 / 10\"\n",
      "[1] \"Subject 934533023 : 3 / 10\"\n",
      "[1] \"Subject 967053231 : 10 / 10\"\n",
      "[1] \"Subject 991358067 : 10 / 10\"\n",
      "[1] \"Subject 172093576 had a catch score of:  0.7\"\n",
      "[1] \"Subject 429304075 had a catch score of:  0.4\"\n",
      "[1] \"Subject 497105461 reaction time of: 498 ms\"\n",
      "[1] \"Subject 517476929 had a catch score of:  0.4\"\n",
      "[1] \"Subject 601005594 had a catch score of:  0.6\"\n",
      "[1] \"Subject 711452977 had a catch score of:  0.7\"\n",
      "[1] \"Subject 934533023 had a catch score of:  0.3\"\n",
      "[1] \"13 of 20 were compliant\"\n",
      "[1] \"\"\n",
      "[1] \"____________________\"\n",
      "[1] \"\"\n",
      "[1] \"Magnification 4.5 Stimulus 0.25\"\n",
      "[1] \"22 in dataset\"\n",
      "[1] \"\"\n",
      "[1] \"Subject 35587329 completed 253 / 253\"\n",
      "[1] \"Subject 40354804 completed 253 / 253\"\n",
      "[1] \"Subject 50823202 completed 253 / 253\"\n",
      "[1] \"Subject 176476116 completed 253 / 253\"\n",
      "[1] \"Subject 225280441 completed 253 / 253\"\n",
      "[1] \"Subject 244316230 completed 253 / 253\"\n",
      "[1] \"Subject 245575217 completed 253 / 253\"\n",
      "[1] \"Subject 302502671 completed 253 / 253\"\n",
      "[1] \"Subject 418413005 completed 253 / 253\"\n",
      "[1] \"Subject 456189850 completed 253 / 253\"\n",
      "[1] \"Subject 471457102 completed 253 / 253\"\n",
      "[1] \"Subject 517148418 completed 253 / 253\"\n",
      "[1] \"Subject 537190567 completed 253 / 253\"\n",
      "[1] \"Subject 555017647 completed 253 / 253\"\n",
      "[1] \"Subject 563694159 completed 253 / 253\"\n",
      "[1] \"Subject 672521560 completed 253 / 253\"\n",
      "[1] \"Subject 672799377 completed 253 / 253\"\n",
      "[1] \"Subject 724122711 completed 253 / 253\"\n",
      "[1] \"Subject 787133962 completed 253 / 253\"\n",
      "[1] \"Subject 945873991 completed 253 / 253\"\n",
      "[1] \"Subject 973853214 completed 253 / 253\"\n",
      "[1] \"Subject 976032736 completed 253 / 253\"\n",
      "[1] \"Screen Parameters\"\n",
      "[1] \"\"\n",
      "[1] \"Screen size issues: 0 / 22\"\n",
      "[1] \"Viewing distance issues: 0 / 22\"\n",
      "[1] \"Catch scores\"\n",
      "[1] \"Subject 35587329 : 10 / 10\"\n",
      "[1] \"Subject 40354804 : 10 / 10\"\n",
      "[1] \"Subject 50823202 : 10 / 10\"\n",
      "[1] \"Subject 176476116 : 10 / 10\"\n",
      "[1] \"Subject 225280441 : 10 / 10\"\n",
      "[1] \"Subject 244316230 : 5 / 10\"\n",
      "[1] \"Subject 245575217 : 10 / 10\"\n",
      "[1] \"Subject 302502671 : 10 / 10\"\n",
      "[1] \"Subject 418413005 : 10 / 10\"\n",
      "[1] \"Subject 456189850 : 9 / 10\"\n",
      "[1] \"Subject 471457102 : 3 / 10\"\n",
      "[1] \"Subject 517148418 : 10 / 10\"\n",
      "[1] \"Subject 537190567 : 10 / 10\"\n",
      "[1] \"Subject 555017647 : 2 / 10\"\n",
      "[1] \"Subject 563694159 : 5 / 10\"\n",
      "[1] \"Subject 672521560 : 10 / 10\"\n",
      "[1] \"Subject 672799377 : 10 / 10\"\n",
      "[1] \"Subject 724122711 : 10 / 10\"\n",
      "[1] \"Subject 787133962 : 10 / 10\"\n",
      "[1] \"Subject 945873991 : 10 / 10\"\n",
      "[1] \"Subject 973853214 : 10 / 10\"\n",
      "[1] \"Subject 976032736 : 10 / 10\"\n",
      "[1] \"Subject 244316230 had a catch score of:  0.5\"\n",
      "[1] \"Subject 471457102 had a catch score of:  0.3\"\n",
      "[1] \"Subject 555017647 had a catch score of:  0.2\"\n",
      "[1] \"Subject 563694159 had a catch score of:  0.5\"\n",
      "[1] \"18 of 22 were compliant\"\n",
      "[1] \"\"\n",
      "[1] \"____________________\"\n",
      "[1] \"\"\n",
      "[1] \"Magnification 1 Stimulus 0.5\"\n",
      "[1] \"15 in dataset\"\n",
      "[1] \"\"\n",
      "[1] \"Subject 99640956 completed 253 / 253\"\n",
      "[1] \"Subject 133207874 completed 253 / 253\"\n",
      "[1] \"Subject 176698125 completed 253 / 253\"\n",
      "[1] \"Subject 204525930 completed 253 / 253\"\n",
      "[1] \"Subject 265310712 completed 253 / 253\"\n",
      "[1] \"Subject 281640697 completed 253 / 253\"\n",
      "[1] \"Subject 452446945 completed 253 / 253\"\n",
      "[1] \"Subject 475089391 completed 253 / 253\"\n",
      "[1] \"Subject 518373039 completed 253 / 253\"\n",
      "[1] \"Subject 635999412 completed 253 / 253\"\n",
      "[1] \"Subject 750321084 completed 253 / 253\"\n",
      "[1] \"Subject 789921315 completed 253 / 253\"\n",
      "[1] \"Subject 903306123 completed 253 / 253\"\n",
      "[1] \"Subject 947005147 completed 253 / 253\"\n",
      "[1] \"Subject 947430341 completed 253 / 253\"\n",
      "[1] \"Screen Parameters\"\n",
      "[1] \"\"\n",
      "[1] \"Screen size issues: 0 / 15\"\n",
      "[1] \"Viewing distance issues: 0 / 15\"\n",
      "[1] \"Catch scores\"\n",
      "[1] \"Subject 99640956 : 10 / 10\"\n",
      "[1] \"Subject 133207874 : 7 / 10\"\n",
      "[1] \"Subject 176698125 : 10 / 10\"\n",
      "[1] \"Subject 204525930 : 10 / 10\"\n",
      "[1] \"Subject 265310712 : 1 / 10\"\n",
      "[1] \"Subject 281640697 : 10 / 10\"\n",
      "[1] \"Subject 452446945 : 10 / 10\"\n",
      "[1] \"Subject 475089391 : 7 / 10\"\n",
      "[1] \"Subject 518373039 : 10 / 10\"\n",
      "[1] \"Subject 635999412 : 10 / 10\"\n",
      "[1] \"Subject 750321084 : 10 / 10\"\n",
      "[1] \"Subject 789921315 : 6 / 10\"\n",
      "[1] \"Subject 903306123 : 10 / 10\"\n",
      "[1] \"Subject 947005147 : 5 / 10\"\n",
      "[1] \"Subject 947430341 : 10 / 10\"\n",
      "[1] \"Subject 133207874 had a catch score of:  0.7\"\n",
      "[1] \"Subject 265310712 had a catch score of:  0.1\"\n",
      "[1] \"Subject 475089391 had a catch score of:  0.7\"\n",
      "[1] \"Subject 789921315 had a catch score of:  0.6\"\n",
      "[1] \"Subject 947005147 had a catch score of:  0.5\"\n",
      "[1] \"10 of 15 were compliant\"\n",
      "[1] \"\"\n",
      "[1] \"____________________\"\n",
      "[1] \"\"\n",
      "[1] \"Magnification 4.5 Stimulus 0.5\"\n",
      "[1] \"18 in dataset\"\n",
      "[1] \"\"\n",
      "[1] \"Subject 80499026 completed 253 / 253\"\n",
      "[1] \"Subject 257686691 completed 253 / 253\"\n",
      "[1] \"Subject 301246724 completed 253 / 253\"\n",
      "[1] \"Subject 527222665 completed 253 / 253\"\n",
      "[1] \"Subject 535657331 completed 253 / 253\"\n",
      "[1] \"Subject 572765881 completed 253 / 253\"\n",
      "[1] \"Subject 580796674 completed 253 / 253\"\n",
      "[1] \"Subject 621746618 completed 253 / 253\"\n",
      "[1] \"Subject 649757255 completed 253 / 253\"\n",
      "[1] \"Subject 652658452 completed 253 / 253\"\n",
      "[1] \"Subject 687159644 completed 253 / 253\"\n",
      "[1] \"Subject 788405028 completed 253 / 253\"\n",
      "[1] \"Subject 810539788 completed 253 / 253\"\n",
      "[1] \"Subject 813749599 completed 253 / 253\"\n",
      "[1] \"Subject 839320766 completed 253 / 253\"\n",
      "[1] \"Subject 940741322 completed 253 / 253\"\n",
      "[1] \"Subject 983874771 completed 253 / 253\"\n",
      "[1] \"Subject 994306267 completed 253 / 253\"\n",
      "[1] \"Screen Parameters\"\n",
      "[1] \"\"\n",
      "[1] \"Screen size issues: 0 / 18\"\n",
      "[1] \"Viewing distance issues: 0 / 18\"\n",
      "[1] \"Catch scores\"\n",
      "[1] \"Subject 80499026 : 10 / 10\"\n",
      "[1] \"Subject 257686691 : 10 / 10\"\n",
      "[1] \"Subject 301246724 : 10 / 10\"\n",
      "[1] \"Subject 527222665 : 10 / 10\"\n",
      "[1] \"Subject 535657331 : 10 / 10\"\n",
      "[1] \"Subject 572765881 : 10 / 10\"\n",
      "[1] \"Subject 580796674 : 10 / 10\"\n",
      "[1] \"Subject 621746618 : 10 / 10\"\n",
      "[1] \"Subject 649757255 : 10 / 10\"\n",
      "[1] \"Subject 652658452 : 10 / 10\"\n",
      "[1] \"Subject 687159644 : 10 / 10\"\n",
      "[1] \"Subject 788405028 : 10 / 10\"\n",
      "[1] \"Subject 810539788 : 10 / 10\"\n",
      "[1] \"Subject 813749599 : 10 / 10\"\n",
      "[1] \"Subject 839320766 : 10 / 10\"\n",
      "[1] \"Subject 940741322 : 0 / 10\"\n",
      "[1] \"Subject 983874771 : 10 / 10\"\n",
      "[1] \"Subject 994306267 : 10 / 10\"\n",
      "[1] \"Subject 940741322 had a catch score of:  0\"\n",
      "[1] \"17 of 18 were compliant\"\n",
      "[1] \"\"\n",
      "[1] \"____________________\"\n",
      "[1] \"\"\n",
      "[1] \"Magnification 1 Stimulus 1\"\n",
      "[1] \"12 in dataset\"\n",
      "[1] \"\"\n",
      "[1] \"Subject 48341337 completed 253 / 253\"\n",
      "[1] \"Subject 254207207 completed 253 / 253\"\n",
      "[1] \"Subject 315609216 completed 253 / 253\"\n",
      "[1] \"Subject 395526717 completed 253 / 253\"\n",
      "[1] \"Subject 404565472 completed 253 / 253\"\n",
      "[1] \"Subject 431543630 completed 253 / 253\"\n",
      "[1] \"Subject 517493776 completed 253 / 253\"\n",
      "[1] \"Subject 718626067 completed 253 / 253\"\n",
      "[1] \"Subject 790529144 completed 253 / 253\"\n",
      "[1] \"Subject 843575785 completed 253 / 253\"\n",
      "[1] \"Subject 859783460 completed 253 / 253\"\n",
      "[1] \"Subject 896467980 completed 253 / 253\"\n",
      "[1] \"Screen Parameters\"\n",
      "[1] \"\"\n",
      "[1] \"Screen size issues: 0 / 12\"\n",
      "[1] \"Viewing distance issues: 0 / 12\"\n",
      "[1] \"Catch scores\"\n",
      "[1] \"Subject 48341337 : 10 / 10\"\n",
      "[1] \"Subject 254207207 : 4 / 10\"\n",
      "[1] \"Subject 315609216 : 10 / 10\"\n",
      "[1] \"Subject 395526717 : 10 / 10\"\n",
      "[1] \"Subject 404565472 : 10 / 10\"\n",
      "[1] \"Subject 431543630 : 10 / 10\"\n",
      "[1] \"Subject 517493776 : 10 / 10\"\n",
      "[1] \"Subject 718626067 : 10 / 10\"\n",
      "[1] \"Subject 790529144 : 10 / 10\"\n",
      "[1] \"Subject 843575785 : 10 / 10\"\n",
      "[1] \"Subject 859783460 : 10 / 10\"\n",
      "[1] \"Subject 896467980 : 10 / 10\"\n",
      "[1] \"Subject 254207207 had a catch score of:  0.4\"\n",
      "[1] \"Subject 431543630 reaction time of: 559 ms\"\n",
      "[1] \"10 of 12 were compliant\"\n",
      "[1] \"\"\n",
      "[1] \"____________________\"\n",
      "[1] \"\"\n",
      "[1] \"Magnification 4.5 Stimulus 1\"\n",
      "[1] \"20 in dataset\"\n",
      "[1] \"\"\n",
      "[1] \"Subject 63991259 completed 253 / 253\"\n",
      "[1] \"Subject 98665966 completed 253 / 253\"\n",
      "[1] \"Subject 147071530 completed 253 / 253\"\n",
      "[1] \"Subject 232984941 completed 253 / 253\"\n",
      "[1] \"Subject 252347716 completed 253 / 253\"\n",
      "[1] \"Subject 285550479 completed 253 / 253\"\n",
      "[1] \"Subject 287237223 completed 253 / 253\"\n",
      "[1] \"Subject 307922435 completed 253 / 253\"\n",
      "[1] \"Subject 452832938 completed 253 / 253\"\n",
      "[1] \"Subject 463372698 completed 253 / 253\"\n",
      "[1] \"Subject 513963865 completed 253 / 253\"\n",
      "[1] \"Subject 561140418 completed 253 / 253\"\n",
      "[1] \"Subject 671500180 completed 253 / 253\"\n",
      "[1] \"Subject 727170484 completed 253 / 253\"\n",
      "[1] \"Subject 799430110 completed 253 / 253\"\n",
      "[1] \"Subject 864988325 completed 253 / 253\"\n",
      "[1] \"Subject 888268305 completed 253 / 253\"\n",
      "[1] \"Subject 925257755 completed 253 / 253\"\n",
      "[1] \"Subject 941912207 completed 253 / 253\"\n",
      "[1] \"Subject 2740832079 completed 253 / 253\"\n",
      "[1] \"Screen Parameters\"\n",
      "[1] \"\"\n",
      "[1] \"Screen size issues: 0 / 20\"\n",
      "[1] \"Viewing distance issues: 0 / 20\"\n",
      "[1] \"Catch scores\"\n",
      "[1] \"Subject 63991259 : 10 / 10\"\n",
      "[1] \"Subject 98665966 : 10 / 10\"\n",
      "[1] \"Subject 147071530 : 7 / 10\"\n",
      "[1] \"Subject 232984941 : 10 / 10\"\n",
      "[1] \"Subject 252347716 : 6 / 10\"\n",
      "[1] \"Subject 285550479 : 1 / 10\"\n",
      "[1] \"Subject 287237223 : 10 / 10\"\n",
      "[1] \"Subject 307922435 : 4 / 10\"\n",
      "[1] \"Subject 452832938 : 10 / 10\"\n",
      "[1] \"Subject 463372698 : 7 / 10\"\n",
      "[1] \"Subject 513963865 : 10 / 10\"\n",
      "[1] \"Subject 561140418 : 0 / 10\"\n",
      "[1] \"Subject 671500180 : 10 / 10\"\n",
      "[1] \"Subject 727170484 : 10 / 10\"\n",
      "[1] \"Subject 799430110 : 10 / 10\"\n",
      "[1] \"Subject 864988325 : 10 / 10\"\n",
      "[1] \"Subject 888268305 : 9 / 10\"\n",
      "[1] \"Subject 925257755 : 10 / 10\"\n",
      "[1] \"Subject 941912207 : 10 / 10\"\n",
      "[1] \"Subject 2740832079 : 10 / 10\"\n",
      "[1] \"Subject 147071530 had a catch score of:  0.7\"\n",
      "[1] \"Subject 252347716 had a catch score of:  0.6\"\n",
      "[1] \"Subject 285550479 had a catch score of:  0.1\"\n",
      "[1] \"Subject 307922435 had a catch score of:  0.4\"\n",
      "[1] \"Subject 463372698 had a catch score of:  0.7\"\n",
      "[1] \"Subject 561140418 had a catch score of:  0\"\n",
      "[1] \"Subject 2740832079 reaction time of: 426 ms\"\n",
      "[1] \"13 of 20 were compliant\"\n",
      "[1] \"\"\n",
      "[1] \"____________________\"\n",
      "[1] \"\"\n"
     ]
    }
   ],
   "source": [
    "validation(datadf)"
   ]
  },
  {
   "cell_type": "markdown",
   "metadata": {},
   "source": [
    "## Statistical Analysis"
   ]
  },
  {
   "cell_type": "markdown",
   "metadata": {},
   "source": [
    "### Useful functions & methods"
   ]
  },
  {
   "cell_type": "markdown",
   "metadata": {},
   "source": [
    "#### Determine within-subject central and peripheral QDM correlation & significance"
   ]
  },
  {
   "cell_type": "code",
   "execution_count": 122,
   "metadata": {},
   "outputs": [],
   "source": [
    "# return a list of the e1 matrix vs e2 matrix correlations for each subject\n",
    "# returns Fisher-transformed correlations\n",
    "# updated matrixcor to use just half of a symmetric matrix\n",
    "\n",
    "eccentricity_compare_list <- function(datadf,e1='FF',e2='PP'){\n",
    "    \n",
    "    subjectlist <- sort(unique(datadf$subject)) # obtain a list of all the subjects\n",
    "    \n",
    "    correlation_list <- vector() # array to store the values in\n",
    "    \n",
    "    for (ID in subjectlist){ # go through subject by subject\n",
    "        subjectdf = subset(datadf, subject == ID) # select the ID for subject of interest\n",
    "        # updated matrixcor to use only upper half of symmeterised matrices\n",
    "        correlation_list <- c(correlation_list, FisherZ((matrixcor(subjectdf,M1=e1,M2=e2))))\n",
    "    }\n",
    "    return(correlation_list)\n",
    "}"
   ]
  },
  {
   "cell_type": "code",
   "execution_count": 123,
   "metadata": {},
   "outputs": [],
   "source": [
    "# shuffle the rows of a matrix\n",
    "shuffle_matrix <- function(matrix){\n",
    "    shuffled <- matrix[sample(nrow(matrix)),]\n",
    "    return(shuffled)\n",
    "}"
   ]
  },
  {
   "cell_type": "code",
   "execution_count": 124,
   "metadata": {},
   "outputs": [],
   "source": [
    "# get upper half of a matrix in vector form\n",
    "halfmat.v <- function(mat){\n",
    "    halfmat <- c(mat[upper.tri(mat, diag = TRUE)])\n",
    "    return(halfmat)\n",
    "}"
   ]
  },
  {
   "cell_type": "code",
   "execution_count": 125,
   "metadata": {},
   "outputs": [],
   "source": [
    "# return a list of the e1 matrix vs. shuffled e2 matrix for each subject. Pick the # shuffles, default 1000.\n",
    "# returns Fisher-transformed correlations\n",
    "# updated df2mat.full to use a symmetric matrix\n",
    "\n",
    "eccentricity_compare_shuffled_list <- function(datadf,e1='FF',e2='PP',\n",
    "                                               mode='shuffle', rotation=90, shuffle_num=1000){\n",
    "    \n",
    "    subjectlist <- sort(unique(datadf$subject)) # obtain a list of all the subjects\n",
    "    \n",
    "    \n",
    "    correlation_list <- vector() # array to store the values in\n",
    "    \n",
    "    for (ID in subjectlist){ # go through subject by subject\n",
    "        subjectdf = subset(datadf, subject == ID) # select the ID for subject of interest\n",
    "                \n",
    "        if((e1 == 'FF' & e2 == 'PP') | (e1 == 'PP' & e2 == 'FF')){\n",
    "            matrix1 <- df2mat.full(subjectdf, l2e('Foveal'), l2e('Foveal'))\n",
    "            matrix2 <- df2mat.full(subjectdf, l2e('Peripheral'), l2e('Peripheral'))\n",
    "        } else if ((e1 == 'FF' & e2 == 'FP') | (e1 == 'FP' & e2 == 'FF')){\n",
    "            matrix1 <- df2mat.full(subjectdf, l2e('Foveal'), l2e('Foveal'))\n",
    "            matrix2 <- df2mat.full(subjectdf, l2e('Foveal'), l2e('Peripheral'))\n",
    "        } else if ((e1 == 'PP' & e2 == 'FP') | (e1 == 'FP' & e2 == 'PP')){\n",
    "            matrix1 <- df2mat.full(subjectdf, l2e('Peripheral'), l2e('Peripheral'))\n",
    "            matrix2 <- df2mat.full(subjectdf, l2e('Foveal'), l2e('Peripheral'))\n",
    "        }\n",
    "        \n",
    "        #just use upper halves of matrices as they're symmetric\n",
    "        matrix1 <- halfmat.v(matrix1)\n",
    "        \n",
    "        temp_list <- vector()\n",
    "        for (i in 1:shuffle_num){ #shuffle/swap the second matrix, add values to temp list\n",
    "            \n",
    "            if(mode=='shuffle'){\n",
    "                matrix2_shuffled <- shuffle_matrix(matrix2)\n",
    "            } else if (mode == 'swap'){\n",
    "                matrix2_shuffled <- matswap(matrix2,'random')\n",
    "            } else if (mode == 'invert'){\n",
    "                matrix2_shuffled <- matswap(matrix2,'inversion')\n",
    "            } else if (mode == 'rotate'){\n",
    "                matrix2_shuffled <- matswap(matrix2,'rotation',rotation)\n",
    "            }\n",
    "            #just use upper halves of matrices as they're symmetric\n",
    "            matrix2_shuffled <- halfmat.v(matrix2_shuffled)\n",
    "            \n",
    "            temp_list <- c(temp_list, FisherZ(cor(matrix1, matrix2_shuffled, method = \"spearman\")))\n",
    "        }\n",
    "        \n",
    "        correlation_list <- c(correlation_list,mean(temp_list)) # add the average correlation to the list\n",
    "        }\n",
    "    return(correlation_list)\n",
    "}"
   ]
  },
  {
   "cell_type": "code",
   "execution_count": 126,
   "metadata": {},
   "outputs": [],
   "source": [
    "# Compare FF, FP & PP correlations under standard, swapped & shuffled modes\n",
    "# currently just doing a single swap per subject, need to update to multiple swaps\n",
    "# updated to use full matrix\n",
    "\n",
    "within_full_compare <- function(df,swap='PP',individual=FALSE){\n",
    "    \n",
    "    return_df <- data.frame() # initialisation\n",
    "    subjectlist <- sort(unique(df$subject)) # obtain a list of all the subjects\n",
    "    \n",
    "    mode.list <- c(\"identity\",\"random\",\"invert\",\"rotate\")\n",
    "    \n",
    "    for(mode in mode.list){\n",
    "        \n",
    "        # arrays to store the values in\n",
    "        standard.FFvPP.correlation_list <- vector()\n",
    "        standard.FFvFP.correlation_list <- vector()\n",
    "        standard.FPvPP.correlation_list <- vector()\n",
    "\n",
    "        swapped.FFvPP.correlation_list <- vector()\n",
    "        swapped.FFvFP.correlation_list <- vector()\n",
    "        swapped.FPvPP.correlation_list <- vector()\n",
    "\n",
    "        for (ID in subjectlist){ # go through subject by subject\n",
    "            subjectdf = subset(df, subject == ID) # select the ID for subject of interest\n",
    "            data <- dissimdata.full(subjectdf,duplicate = TRUE) # get the data in the format we want\n",
    "\n",
    "            # get full identity & swapped matrices for the subject\n",
    "            matrix.identity <- color.eccen.mat(data,output='matrix',mode='identity')\n",
    "            matrix.swap <- color.eccen.mat(data,output='matrix',mode=mode)\n",
    "            \n",
    "            matrix.FF <- matrix.identity[1:9,1:9]\n",
    "            matrix.FP <- matrix.identity[1:9,10:18]\n",
    "            matrix.PP <- matrix.identity[10:18,10:18]\n",
    "\n",
    "            # standard conditions comparison\n",
    "            if(mode=='identity'){\n",
    "                standard.FFvPP.r <-  cor(halfmat.v(matrix.FF),halfmat.v(matrix.PP), method = \"spearman\")\n",
    "                standard.FFvFP.r <-  cor(halfmat.v(matrix.FF),halfmat.v(matrix.FP), method = \"spearman\")\n",
    "                standard.FPvPP.r <-  cor(halfmat.v(matrix.FP),halfmat.v(matrix.PP), method = \"spearman\")\n",
    "            } else {\n",
    "            # swapped conditions comparison\n",
    "            swap.FF <- matrix.swap[1:9,1:9]\n",
    "            swap.FP <- matrix.swap[1:9,10:18]\n",
    "            swap.PP <- matrix.swap[10:18,10:18]\n",
    "            \n",
    "            swapped.FFvPP.r <-  cor(halfmat.v(swap.FF),halfmat.v(swap.PP), method = \"spearman\")\n",
    "            swapped.FFvFP.r <-  cor(halfmat.v(swap.FF),halfmat.v(swap.FP), method = \"spearman\")\n",
    "            swapped.FPvPP.r <-  cor(halfmat.v(swap.FP),halfmat.v(swap.PP), method = \"spearman\") \n",
    "            }\n",
    "            \n",
    "\n",
    "            if(individual){\n",
    "                print(paste(\"Subject: \",ID))\n",
    "                print(\"Standard comparisons\")\n",
    "                print(paste(\"FF vs PP: \",round(standard.FFvPP.r,2),\" - \",\n",
    "                           \"FF vs FP: \",round(standard.FFvFP.r,2),\" - \",\n",
    "                           \"FP vs PP: \",round(standard.FPvPP.r,2)))\n",
    "                print(paste(\"Swapped comparisons -\",swap,\"swapped\",mode))\n",
    "                print(paste(\"FF vs PP: \",round(swapped.FFvPP.r,2),\" - \",\n",
    "                           \"FF vs FP: \",round(swapped.FFvFP.r,2),\" - \",\n",
    "                           \"FP vs PP: \",round(swapped.FPvPP.r,2)))\n",
    "            }\n",
    "\n",
    "            # add them to a list\n",
    "            if(mode=='identity'){\n",
    "                standard.FFvPP.correlation_list <- c(standard.FFvPP.correlation_list,FisherZ(standard.FFvPP.r))\n",
    "                standard.FFvFP.correlation_list <- c(standard.FFvFP.correlation_list,FisherZ(standard.FFvFP.r))\n",
    "                standard.FPvPP.correlation_list <- c(standard.FPvPP.correlation_list,FisherZ(standard.FPvPP.r))\n",
    "            } else {\n",
    "                swapped.FFvPP.correlation_list <- c(swapped.FFvPP.correlation_list,FisherZ(swapped.FFvPP.r))\n",
    "                swapped.FFvFP.correlation_list <- c(swapped.FFvFP.correlation_list,FisherZ(swapped.FFvFP.r))\n",
    "                swapped.FPvPP.correlation_list <- c(swapped.FPvPP.correlation_list,FisherZ(swapped.FPvPP.r))\n",
    "            }\n",
    "            \n",
    "            # make a dataframe with all the useful information. Correlations returned are Fisher transformed\n",
    "            if(mode=='identity'){\n",
    "                FFvPP <- FisherZ(standard.FFvPP.r)\n",
    "                FFvFP <- FisherZ(standard.FFvFP.r)\n",
    "                FPvPP <- FisherZ(standard.FPvPP.r)\n",
    "                \n",
    "            } else {\n",
    "                FFvPP <- FisherZ(swapped.FFvPP.r)\n",
    "                FFvFP <- FisherZ(swapped.FFvFP.r)\n",
    "                FPvPP <- FisherZ(swapped.FPvPP.r)\n",
    "            }\n",
    "            subject.data <- data.frame(ID,\n",
    "                                        mode,\n",
    "                                        FFvPP,\n",
    "                                        FFvFP,\n",
    "                                        FPvPP\n",
    "                                          )\n",
    "            return_df <- rbind(return_df,subject.data)\n",
    "            \n",
    "        }\n",
    "        # print mean correlations\n",
    "        if(mode=='identity'){\n",
    "            print(\"Standard comparisons\")\n",
    "            print(paste(\"FF vs PP: \",round(average_correlation(standard.FFvPP.correlation_list),2),\" - \",\n",
    "                   \"FF vs FP: \",round(average_correlation(standard.FFvFP.correlation_list),2),\" - \",\n",
    "                   \"FP vs PP: \",round(average_correlation(standard.FPvPP.correlation_list),2)))\n",
    "        } else {\n",
    "            print(paste(\"Swapped comparisons -\",swap,\"swapped -\",mode))\n",
    "            print(paste(\"FF vs PP: \",round(average_correlation(swapped.FFvPP.correlation_list),2),\" - \",\n",
    "                   \"FF vs FP: \",round(average_correlation(swapped.FFvFP.correlation_list),2),\" - \",\n",
    "                   \"FP vs PP: \",round(average_correlation(swapped.FPvPP.correlation_list),2)))\n",
    "        }\n",
    "      \n",
    "        \n",
    "        \n",
    "    }\n",
    "    return(return_df)\n",
    "}"
   ]
  },
  {
   "cell_type": "code",
   "execution_count": 127,
   "metadata": {},
   "outputs": [],
   "source": [
    "# perform Mann-Whitney U test to compare the within-subject central and peripheral QDMs to randomly shuffled ones\n",
    "QDM_test <- function(original_correlations,shuffled_correlations){\n",
    "    \n",
    "    wilcox.test(original_correlations,shuffled_correlations)\n",
    "}"
   ]
  },
  {
   "cell_type": "markdown",
   "metadata": {},
   "source": [
    "#### Determine between-subject central to central QDM correlation & significance"
   ]
  },
  {
   "cell_type": "code",
   "execution_count": 128,
   "metadata": {},
   "outputs": [],
   "source": [
    "# obtain the subject similarity matrix\n",
    "# returns Fisher-transformed correlations\n",
    "\n",
    "i_j_list <- function(datadf, eccentricity1=l2e('Foveal'), eccentricity2=l2e('Foveal'),shuffle=FALSE){\n",
    "    \n",
    "    datadf = subset(datadf, Circle_1 == eccentricity1)\n",
    "    datadf = subset(datadf, Circle_2 == eccentricity2)\n",
    "    \n",
    "    subjectlist <- sort(unique(datadf$subject)) # obtain a list of all the subjects\n",
    "    \n",
    "    correlation_list <- vector() # array to store the values in\n",
    "    \n",
    "    for (ID_i in subjectlist){ \n",
    "        subjectdf_i = subset(datadf, subject == ID_i)\n",
    "        if(shuffle){\n",
    "            # get their shuffled fovea QDM\n",
    "            fmatrix_i <- shuffle_matrix(df2mat(subjectdf_i, l2e('Foveal'), l2e('Foveal'))) \n",
    "        } else {\n",
    "            # get their fovea QDM\n",
    "            fmatrix_i <- df2mat(subjectdf_i, l2e('Foveal'), l2e('Foveal'))\n",
    "        }\n",
    "        for (ID_j in subjectlist){\n",
    "            if(ID_i != ID_j){\n",
    "                \n",
    "                subjectdf_j = subset(datadf, subject == ID_j)\n",
    "                fmatrix_j <- df2mat(subjectdf_j, l2e('Foveal'), l2e('Foveal')) # get their fovea dissimilarity matrix\n",
    "\n",
    "                correlation_list <- c(correlation_list, \n",
    "                                      FisherZ(cor(c(fmatrix_i), c(fmatrix_j), method = \"spearman\")))\n",
    "                }\n",
    "        }\n",
    "    }\n",
    "    return(correlation_list)\n",
    "}"
   ]
  },
  {
   "cell_type": "code",
   "execution_count": 129,
   "metadata": {},
   "outputs": [],
   "source": [
    "# get a readout of 'average correlation' by Fisher-z transforming the list\n",
    "# then averaging it, then converting it back\n",
    "average_correlation <- function(vector){\n",
    "    average <- mean(vector)\n",
    "    return(FisherZInv(average))\n",
    "}"
   ]
  },
  {
   "cell_type": "code",
   "execution_count": 130,
   "metadata": {},
   "outputs": [],
   "source": [
    "# obtain a vector of k shuffled SSMs\n",
    "# WARNING: this may take a long time!\n",
    "shuffled_SSM_correlations <- function(datadf,n_shuffle=1000){\n",
    "    \n",
    "    # Jupyter notebooks won't print in realtime, so using this as a workaround\n",
    "    message(\"This will take approximately\")\n",
    "    start.time <- Sys.time()\n",
    "    time_test <- average_correlation(i_j_list(datadf,shuffle=TRUE))\n",
    "    test.time <- Sys.time()\n",
    "    time.estimate <- round((test.time-start.time)/60,3)*n_shuffle\n",
    "    message(as.character(time.estimate))\n",
    "    message(\"minutes.\")\n",
    "    \n",
    "    correlation_list <- vector() # array to store the values in\n",
    "    \n",
    "    for(k in 1:n_shuffle){\n",
    "        correlation_list <- c(correlation_list, average_correlation(i_j_list(datadf,shuffle=TRUE)))\n",
    "    }\n",
    "    return(correlation_list)\n",
    "}"
   ]
  },
  {
   "cell_type": "code",
   "execution_count": 131,
   "metadata": {},
   "outputs": [],
   "source": [
    "# test where the correlation of the original SSM sits in comparison to the mean correlations of the shuffled SSMs\n",
    "SSM_test <- function(SSM, SSM_shuffled_list){\n",
    "    SSM_correlation <- average_correlation(SSM)\n",
    "    count <- sum(SSM_shuffled_list > SSM_correlation)\n",
    "    p_value <- round(count/length(SSM_shuffled_list),2)\n",
    "    print(\"SSM correlation comparison\")\n",
    "    print(paste(\"p-value =\",format(p_value, nsmall = 2)))\n",
    "    return(p_value)\n",
    "}"
   ]
  },
  {
   "cell_type": "markdown",
   "metadata": {},
   "source": [
    "#### Determine whether within-subject central-peripheral QDM correlation is equal to or greater than between-subject central-central QDMs"
   ]
  },
  {
   "cell_type": "code",
   "execution_count": 132,
   "metadata": {},
   "outputs": [],
   "source": [
    "# blah"
   ]
  },
  {
   "cell_type": "code",
   "execution_count": 133,
   "metadata": {},
   "outputs": [],
   "source": [
    "# do the analysis"
   ]
  },
  {
   "cell_type": "code",
   "execution_count": 134,
   "metadata": {},
   "outputs": [],
   "source": [
    "# correlation plot\n",
    "corr_plot <- function(correlation_list,title='BLANK',xlabel='BLANK',f2z=FALSE){\n",
    "    df <- data.frame(correlation_list) # convert list to data frame\n",
    "    df[xlabel] = xlabel\n",
    "    \n",
    "    plot <- ggplot(df,aes(x=xlabel,y=correlation_list)) + \n",
    "                geom_boxplot() + \n",
    "                geom_dotplot(binaxis='y',stackdir='center',dotsize=0.75) +\n",
    "                theme(text = element_text(size=15)) + xlab(\"\")\n",
    "                ggtitle(title)\n",
    "    if(f2z){\n",
    "                plot <- plot + ylab(\"Fisher-Transformed Correlation (Spearman)\") + ylim(-1,2)\n",
    "    } else {\n",
    "                plot <- plot + ylab(\"Correlation (Spearman)\") + ylim(-0.5,1)\n",
    "\n",
    "    }\n",
    "    plot <- plot + geom_hline(yintercept=0, linetype=\"dashed\", color = \"blue\")\n",
    "    return(plot)\n",
    "}"
   ]
  },
  {
   "cell_type": "code",
   "execution_count": 135,
   "metadata": {},
   "outputs": [],
   "source": [
    "within_between_plots <- function(datadf,savestr){\n",
    "    \n",
    "    fvp <- fvp_list(datadf)\n",
    "    i_j <- i_j_list(datadf)\n",
    "    \n",
    "    within_plot <- corr_plot(fvp,'Within-subject FvP','Within-subject FvP')\n",
    "    between_plot <- corr_plot(i_j,'Between-subject FvF','Between-subject FvF')\n",
    "    within_plot_fisher <- corr_plot(FisherZ(fvp),'Within-subject FvP','Within-subject FvP',TRUE)\n",
    "    between_plot_fisher <- corr_plot(FisherZ(i_j),'Between-subject FvF','Between-subject FvF',TRUE)\n",
    "\n",
    "    # save the plots\n",
    "    title <- textGrob(substr(savestr,nchar('data/')+1,nchar(savestr)))\n",
    "    g <- arrangeGrob(within_plot,between_plot,\n",
    "                     within_plot_fisher,between_plot_fisher,\n",
    "                        nrow = 2, ncol= 2,\n",
    "                    top = title)\n",
    "\n",
    "        # save it\n",
    "    ggsave(paste(savestr,\"_Subject_Plots/\",\"correlation plot comparisons_\",\"plot.png\",sep=''),g, height = 11, width = 10)\n",
    "}"
   ]
  },
  {
   "cell_type": "code",
   "execution_count": 136,
   "metadata": {
    "scrolled": true
   },
   "outputs": [],
   "source": [
    "# plot within-subject FvP correlations against between-subject FvF correlations\n",
    "if(plot_within_between){within_between_plots(datadf,savestr)}"
   ]
  },
  {
   "cell_type": "markdown",
   "metadata": {},
   "source": [
    "Additional experimental summary graphs"
   ]
  },
  {
   "cell_type": "code",
   "execution_count": 137,
   "metadata": {},
   "outputs": [],
   "source": [
    "# obtains a dataframe of traces for subjects\n",
    "trace_obtainer <- function(datadf,type=\"trace\"){\n",
    "    subjectlist <- sort(unique(datadf$subject)) # obtain a list of all the subjects\n",
    "    tracedf <- data.frame(subject=character(),ftrace=double(),ptrace=double()) # initialise an output df for the traces\n",
    "    for (ID in subjectlist){\n",
    "        tempdf <- subset(datadf, subject == ID)\n",
    "        if(type == 'antitrace'){\n",
    "            subject_trace <- antitrace_avg(tempdf)\n",
    "        } else if (type == 'difference'){\n",
    "            subject_trace <- unlist(antitrace_avg(tempdf),use.names=FALSE) - unlist(trace_avg(tempdf),use.names=FALSE)\n",
    "        }else{\n",
    "            subject_trace <- trace_avg(tempdf)\n",
    "        }\n",
    "        row_df <- data.frame(ID, as.numeric(subject_trace[1]),as.numeric(subject_trace[2]))\n",
    "        names(row_df) <- c(\"subject\",\"Fovea x Fovea\",\"Periphery x Periphery\")\n",
    "        tracedf<- rbind(tracedf,row_df)\n",
    "    }\n",
    "    return(tracedf)\n",
    "}"
   ]
  },
  {
   "cell_type": "code",
   "execution_count": 138,
   "metadata": {},
   "outputs": [],
   "source": [
    "# plot the traces for the subjects individually\n",
    "trace_plot <- function(datadf,type='trace',grouped=TRUE){\n",
    "    \n",
    "    datadf$subject <- as.character(datadf$subject) # necessary for visualisation\n",
    "    \n",
    "    if(type == 'antitrace'){\n",
    "        trace_df <- trace_obtainer(datadf,'antitrace')\n",
    "    } else if (type == 'difference'){\n",
    "        trace_df <- trace_obtainer(datadf,'difference')\n",
    "    } else {\n",
    "        trace_df <- trace_obtainer(datadf)\n",
    "    }\n",
    "    \n",
    "    \n",
    "    tracedf <- gather(trace_df, key = \"eccentricity\",value = \"trace\", 2:3)\n",
    "    \n",
    "    if(grouped){\n",
    "        plot <- ggplot(tracedf, aes(x = eccentricity, y=trace)) +\n",
    "        geom_boxplot() + geom_dotplot(binaxis='y',stackdir='center',dotsize=0.5) +\n",
    "        theme(legend.position = \"none\")\n",
    "    } else {\n",
    "        plot <- ggplot(tracedf, aes(x = eccentricity, y=trace, group = subject, color = subject)) +\n",
    "        geom_line() + theme(legend.position = \"none\")\n",
    "    }\n",
    "    \n",
    "    if(type == 'antitrace'){\n",
    "        plot <- plot + ylim(0,7) + ylab(\"Mean Physically Maximally Distinct Stimulus Similarity\")\n",
    "    } else if (type == 'difference'){\n",
    "        plot <- plot + ylim(-6,6) + ylab(\"Distinct - Identical\")\n",
    "    } else {\n",
    "        plot <- plot + ylim(0,7) + ylab(\"Mean Physically Identical Stimulus Similarity\")\n",
    "    }\n",
    "    \n",
    "    return(plot)\n",
    "}"
   ]
  },
  {
   "cell_type": "markdown",
   "metadata": {},
   "source": [
    "### Do the analysis"
   ]
  },
  {
   "cell_type": "markdown",
   "metadata": {},
   "source": [
    "First, grab the data cleaned of non-compliant participants"
   ]
  },
  {
   "cell_type": "code",
   "execution_count": 139,
   "metadata": {},
   "outputs": [
    {
     "name": "stdout",
     "output_type": "stream",
     "text": [
      "[1] \"There are 138 unique subjects\"\n"
     ]
    },
    {
     "data": {
      "text/html": [
       "138"
      ],
      "text/latex": [
       "138"
      ],
      "text/markdown": [
       "138"
      ],
      "text/plain": [
       "[1] 138"
      ]
     },
     "metadata": {},
     "output_type": "display_data"
    }
   ],
   "source": [
    "cleandf <- subset(datadf, noncompliant == 0)\n",
    "get_n(cleandf)"
   ]
  },
  {
   "cell_type": "markdown",
   "metadata": {},
   "source": [
    "#### Within-subjects analysis\n",
    "Next, check what the within-subject correlations are between central and peripheral QDMs.  \n",
    "Do this by comparing the raw QDMs to shuffled QDMs\n",
    "Fisher-transform the correlations and compare using a non-parametric test"
   ]
  },
  {
   "cell_type": "code",
   "execution_count": 94,
   "metadata": {},
   "outputs": [
    {
     "ename": "ERROR",
     "evalue": "Error in average_correlation(within_raw): could not find function \"average_correlation\"\n",
     "output_type": "error",
     "traceback": [
      "Error in average_correlation(within_raw): could not find function \"average_correlation\"\nTraceback:\n",
      "1. print(paste(\"Mean FF-PP correlation:\", average_correlation(within_raw)))",
      "2. paste(\"Mean FF-PP correlation:\", average_correlation(within_raw))"
     ]
    }
   ],
   "source": [
    "## Fovea vs. Periphery\n",
    "# correlation between foveal and peripheral matrices, within subject\n",
    "within_raw <- eccentricity_compare_list(cleandf,e1='FF',e2='PP')\n",
    "print(paste(\"Mean FF-PP correlation:\",average_correlation(within_raw)))\n",
    "# correlation between foveal and shuffled peripheral matrices, within subject\n",
    "within_shuffled <- eccentricity_compare_shuffled_list(cleandf,e1='FF',e2='PP') \n",
    "print(paste(\"Mean shuffled FF-PP correlation:\",average_correlation(within_shuffled)))\n",
    "# correlation between foveal and inverted peripheral matrices, within subject\n",
    "within_inverted <- eccentricity_compare_shuffled_list(cleandf,e1='FF',e2='PP',mode='invert') \n",
    "print(paste(\"Mean inverted FF-PP correlation:\",average_correlation(within_inverted)))\n",
    "# correlation between foveal and swapped peripheral matrices, within subject\n",
    "within_swapped <- eccentricity_compare_shuffled_list(cleandf,e1='FF',e2='PP',mode='swap') \n",
    "print(paste(\"Mean swapped FF-PP correlation:\",average_correlation(within_swapped)))\n",
    "\n",
    "#comparison\n",
    "QDM_test(within_raw,within_inverted)\n"
   ]
  },
  {
   "cell_type": "code",
   "execution_count": 174,
   "metadata": {},
   "outputs": [
    {
     "name": "stdout",
     "output_type": "stream",
     "text": [
      "[1] \"Mean FF-PP correlation: 0.818136454915304\"\n",
      "[1] \"Mean shuffled FF-PP correlation: 0.0716795367081534\"\n",
      "[1] \"Mean inverted FF-PP correlation: 0.475912440423678\"\n",
      "[1] \"Mean swapped FF-PP correlation: 0.436639771332873\"\n"
     ]
    },
    {
     "data": {
      "text/plain": [
       "\n",
       "\tWilcoxon rank sum test with continuity correction\n",
       "\n",
       "data:  original_correlations and shuffled_correlations\n",
       "W = 2727.5, p-value = 1.536e-11\n",
       "alternative hypothesis: true location shift is not equal to 0\n"
      ]
     },
     "metadata": {},
     "output_type": "display_data"
    }
   ],
   "source": [
    "## Fovea vs. FP\n",
    "## Fovea vs. Periphery\n",
    "# correlation between foveal and peripheral matrices, within subject\n",
    "within_raw <- eccentricity_compare_list(cleandf,e1='FF',e2='FP')\n",
    "print(paste(\"Mean FF-PP correlation:\",average_correlation(within_raw)))\n",
    "# correlation between foveal and shuffled peripheral matrices, within subject\n",
    "within_shuffled <- eccentricity_compare_shuffled_list(cleandf,e1='FF',e2='FP') \n",
    "print(paste(\"Mean shuffled FF-PP correlation:\",average_correlation(within_shuffled)))\n",
    "# correlation between foveal and inverted peripheral matrices, within subject\n",
    "within_inverted <- eccentricity_compare_shuffled_list(cleandf,e1='FF',e2='FP',mode='invert') \n",
    "print(paste(\"Mean inverted FF-PP correlation:\",average_correlation(within_inverted)))\n",
    "# correlation between foveal and swapped peripheral matrices, within subject\n",
    "within_swapped <- eccentricity_compare_shuffled_list(cleandf,e1='FF',e2='FP',mode='swap') \n",
    "print(paste(\"Mean swapped FF-PP correlation:\",average_correlation(within_swapped)))\n",
    "\n",
    "#comparison\n",
    "QDM_test(within_raw,within_inverted)"
   ]
  },
  {
   "cell_type": "code",
   "execution_count": 175,
   "metadata": {},
   "outputs": [
    {
     "name": "stdout",
     "output_type": "stream",
     "text": [
      "[1] \"Mean FF-PP correlation: 0.817102669182509\"\n",
      "[1] \"Mean shuffled FF-PP correlation: 0.0698456159103496\"\n",
      "[1] \"Mean inverted FF-PP correlation: 0.460566181588046\"\n",
      "[1] \"Mean swapped FF-PP correlation: 0.398670528347373\"\n"
     ]
    },
    {
     "data": {
      "text/plain": [
       "\n",
       "\tWilcoxon rank sum test with continuity correction\n",
       "\n",
       "data:  original_correlations and shuffled_correlations\n",
       "W = 2692, p-value = 6.239e-11\n",
       "alternative hypothesis: true location shift is not equal to 0\n"
      ]
     },
     "metadata": {},
     "output_type": "display_data"
    }
   ],
   "source": [
    "## Periphery vs. FP\n",
    "## Fovea vs. Periphery\n",
    "# correlation between foveal and peripheral matrices, within subject\n",
    "within_raw <- eccentricity_compare_list(cleandf,e1='FP',e2='PP')\n",
    "print(paste(\"Mean FF-PP correlation:\",average_correlation(within_raw)))\n",
    "# correlation between foveal and shuffled peripheral matrices, within subject\n",
    "within_shuffled <- eccentricity_compare_shuffled_list(cleandf,e1='FP',e2='PP') \n",
    "print(paste(\"Mean shuffled FF-PP correlation:\",average_correlation(within_shuffled)))\n",
    "# correlation between foveal and inverted peripheral matrices, within subject\n",
    "within_inverted <- eccentricity_compare_shuffled_list(cleandf,e1='FP',e2='PP',mode='invert') \n",
    "print(paste(\"Mean inverted FF-PP correlation:\",average_correlation(within_inverted)))\n",
    "# correlation between foveal and swapped peripheral matrices, within subject\n",
    "within_swapped <- eccentricity_compare_shuffled_list(cleandf,e1='FP',e2='PP',mode='swap') \n",
    "print(paste(\"Mean swapped FF-PP correlation:\",average_correlation(within_swapped)))\n",
    "\n",
    "#comparison\n",
    "QDM_test(within_raw,within_inverted)\n"
   ]
  },
  {
   "cell_type": "markdown",
   "metadata": {},
   "source": [
    "#### Between-subjects analysis\n",
    "How concordant are subjects on similarity judgments given to centrally presented stimuli?\n",
    "Check the correlation between the central QDM of each subject *i* and *j* and obtain a subject similarity matrix (SSM). If there's no relationship between subjects, these correlations will be unaffected by shuffling the labels on the QDM for subject *i*. "
   ]
  },
  {
   "cell_type": "markdown",
   "metadata": {},
   "source": [
    "First up, let's get the standard SSM and see how correlated its entries are."
   ]
  },
  {
   "cell_type": "code",
   "execution_count": 400,
   "metadata": {},
   "outputs": [
    {
     "name": "stdout",
     "output_type": "stream",
     "text": [
      "[1] \"Mean between-subject fovea-fovea correlation: 0.39334852411956\"\n"
     ]
    }
   ],
   "source": [
    "SSM <- i_j_list(cleandf)\n",
    "print(paste(\"Mean between-subject fovea-fovea correlation:\",average_correlation(SSM)))"
   ]
  },
  {
   "cell_type": "markdown",
   "metadata": {},
   "source": [
    "Next up, let's do the same thing for shuffled SSMs and get a distribution by doing it 1000 times"
   ]
  },
  {
   "cell_type": "code",
   "execution_count": 401,
   "metadata": {},
   "outputs": [
    {
     "name": "stderr",
     "output_type": "stream",
     "text": [
      "This will take approximately\n",
      "16.6\n",
      "minutes.\n"
     ]
    }
   ],
   "source": [
    "SSM_shuffled_list <- shuffled_SSM_correlations(cleandf,n_shuffle=100) #Currently only set to 100!"
   ]
  },
  {
   "cell_type": "markdown",
   "metadata": {},
   "source": [
    "Now, let's see where in the distribution of the shuffled SSMs that our actual SSM correlation sits"
   ]
  },
  {
   "cell_type": "code",
   "execution_count": 402,
   "metadata": {},
   "outputs": [
    {
     "name": "stdout",
     "output_type": "stream",
     "text": [
      "[1] \"SSM correlation comparison\"\n",
      "[1] \"p-value = 0.00\"\n"
     ]
    },
    {
     "data": {
      "text/html": [
       "0"
      ],
      "text/latex": [
       "0"
      ],
      "text/markdown": [
       "0"
      ],
      "text/plain": [
       "[1] 0"
      ]
     },
     "metadata": {},
     "output_type": "display_data"
    }
   ],
   "source": [
    "SSM_test(SSM,SSM_shuffled_list)"
   ]
  },
  {
   "cell_type": "markdown",
   "metadata": {},
   "source": [
    "#### Within-subjects vs. Between-subjects analysis"
   ]
  },
  {
   "cell_type": "markdown",
   "metadata": {},
   "source": [
    "What we really want to know is whether within-subject central-central, central-peripheral and peripheral-peripheral QDMs are \"essentially the same\". We assert they are the same if they are more correlated with each other than between-subject central-central QDMs. We can compare these using a non-parametric test on the distribution of Fisher-transformed QDMs"
   ]
  },
  {
   "cell_type": "code",
   "execution_count": 404,
   "metadata": {},
   "outputs": [
    {
     "name": "stdout",
     "output_type": "stream",
     "text": [
      "[1] \"Mean fovea-periphery correlation: 0.804521439387299\"\n",
      "[1] \"Mean between-subject fovea-fovea correlation: 0.39334852411956\"\n"
     ]
    },
    {
     "data": {
      "text/plain": [
       "\n",
       "\tWilcoxon rank sum test with continuity correction\n",
       "\n",
       "data:  original_correlations and shuffled_correlations\n",
       "W = 140, p-value = 0.03545\n",
       "alternative hypothesis: true location shift is not equal to 0\n"
      ]
     },
     "metadata": {},
     "output_type": "display_data"
    }
   ],
   "source": [
    "print(paste(\"Mean fovea-periphery correlation:\",average_correlation(within_raw)))\n",
    "print(paste(\"Mean between-subject fovea-fovea correlation:\",average_correlation(SSM)))\n",
    "\n",
    "QDM_test(within_raw,SSM)\n"
   ]
  },
  {
   "cell_type": "markdown",
   "metadata": {},
   "source": [
    "### Power Analysis"
   ]
  },
  {
   "cell_type": "code",
   "execution_count": 406,
   "metadata": {},
   "outputs": [
    {
     "data": {
      "text/plain": [
       "\n",
       "\tWilcoxon rank sum test with continuity correction\n",
       "\n",
       "data:  original_correlations and shuffled_correlations\n",
       "W = 280, p-value = 0.00556\n",
       "alternative hypothesis: true location shift is not equal to 0\n"
      ]
     },
     "metadata": {},
     "output_type": "display_data"
    }
   ],
   "source": [
    "test<-c(within_raw,within_raw)\n",
    "QDM_test(test,SSM)"
   ]
  },
  {
   "cell_type": "markdown",
   "metadata": {},
   "source": [
    "## Tabulation & Plotting Across Conditions"
   ]
  },
  {
   "cell_type": "markdown",
   "metadata": {},
   "source": [
    "Two parameters we're interested in - (1) stimulus size and (2) cortical magnification. Want to tabulate how various outcome measures change as these parameters change"
   ]
  },
  {
   "cell_type": "markdown",
   "metadata": {},
   "source": [
    "### Within-subject correlations for each condition"
   ]
  },
  {
   "cell_type": "code",
   "execution_count": 144,
   "metadata": {},
   "outputs": [
    {
     "name": "stdout",
     "output_type": "stream",
     "text": [
      "[1] \"There are 138 unique subjects\"\n"
     ]
    },
    {
     "data": {
      "text/html": [
       "138"
      ],
      "text/latex": [
       "138"
      ],
      "text/markdown": [
       "138"
      ],
      "text/plain": [
       "[1] 138"
      ]
     },
     "metadata": {},
     "output_type": "display_data"
    }
   ],
   "source": [
    "# first, let's grab the data from compliant participants\n",
    "cleandf <- subset(datadf, noncompliant == 0)\n",
    "get_n(cleandf)"
   ]
  },
  {
   "cell_type": "code",
   "execution_count": 145,
   "metadata": {},
   "outputs": [],
   "source": [
    "# function to print the mean within-subject correlation for each condition, returns a dataframe to plot them\n",
    "within_correlations_conditions <- function(cleandf,e1='FF',e2='PP',get.correlations=TRUE,compare=TRUE,test=FALSE){\n",
    "    \n",
    "    magnification_list <- sort(unique(cleandf$peripheral_scale))\n",
    "    stim_sizes <- sort(unique(cleandf$stimulus_radius))\n",
    "    \n",
    "    return_df <- data.frame() # initialisation\n",
    "    \n",
    "    for(scale in magnification_list){\n",
    "        temp_scale_df <- subset(cleandf, peripheral_scale == scale)\n",
    "        for(stim_size in stim_sizes){\n",
    "            tempdf <- subset(temp_scale_df, stimulus_radius == stim_size)\n",
    "            \n",
    "            # mark where we are\n",
    "            print(paste(\"Magnification\",scale,\"Stimulus Radius\",stim_size))\n",
    "            get_n(tempdf) # print n values\n",
    "            print(paste(\"Median Trace:\",round(median(group_trace(tempdf)),2)))\n",
    "            print(paste(\"Median Antitrace:\",round(median(group_trace(tempdf,mode='antitrace')),2)))\n",
    "            \n",
    "            # do all the comparisons, add to a dataframe to return for plotting\n",
    "            if(compare){\n",
    "                subject.data <- within_full_compare(tempdf)\n",
    "                subject.data$magnification <- as.character(scale)\n",
    "                subject.data$stimulus_radius <- as.character(stim_size)\n",
    "                return_df <- rbind(return_df,subject.data)\n",
    "            }\n",
    "            \n",
    "            # check if they're significantly different from shuffled data\n",
    "            if(test){\n",
    "                correlations <- eccentricity_compare_list(tempdf, e1, e2)\n",
    "                \n",
    "                print(\"Shuffle comparison:\")\n",
    "                within_shuffled <- eccentricity_compare_shuffled_list(tempdf,mode='shuffle') \n",
    "                print(QDM_test(correlations,within_shuffled))\n",
    "                print(\"Random swap comparison:\")\n",
    "                within_swapped <- eccentricity_compare_shuffled_list(tempdf,mode='swap') \n",
    "                print(QDM_test(correlations,within_swapped))\n",
    "                print(\"Inverted comparison:\")\n",
    "                within_swapped <- eccentricity_compare_shuffled_list(tempdf,mode='invert') \n",
    "                print(QDM_test(correlations,within_swapped))\n",
    "                print(\"Rotated (90) comparison:\")\n",
    "                within_swapped <- eccentricity_compare_shuffled_list(tempdf,mode='rotate') \n",
    "                print(QDM_test(correlations,within_swapped))\n",
    "            }\n",
    "            print(\"\")\n",
    "        }\n",
    "    }\n",
    "    return(return_df)\n",
    "}"
   ]
  },
  {
   "cell_type": "code",
   "execution_count": 146,
   "metadata": {},
   "outputs": [
    {
     "name": "stdout",
     "output_type": "stream",
     "text": [
      "[1] \"Magnification 1 Stimulus Radius 0.05\"\n",
      "[1] \"There are 17 unique subjects\"\n",
      "[1] \"Median Trace: 2.33\"\n",
      "[1] \"Median Antitrace: 3.94\"\n",
      "[1] \"Standard comparisons\"\n",
      "[1] \"FF vs PP:  0.36  -  FF vs FP:  0.51  -  FP vs PP:  0.43\"\n",
      "[1] \"Swapped comparisons - PP swapped - random\"\n",
      "[1] \"FF vs PP:  0.18  -  FF vs FP:  0.15  -  FP vs PP:  0.09\"\n",
      "[1] \"Swapped comparisons - PP swapped - invert\"\n",
      "[1] \"FF vs PP:  0.26  -  FF vs FP:  -0.15  -  FP vs PP:  -0.09\"\n",
      "[1] \"Swapped comparisons - PP swapped - rotate\"\n",
      "[1] \"FF vs PP:  0.21  -  FF vs FP:  0.06  -  FP vs PP:  0.11\"\n",
      "[1] \"\"\n",
      "[1] \"Magnification 1 Stimulus Radius 0.1\"\n",
      "[1] \"There are 15 unique subjects\"\n",
      "[1] \"Median Trace: 1.11\"\n",
      "[1] \"Median Antitrace: 4.89\"\n",
      "[1] \"Standard comparisons\"\n",
      "[1] \"FF vs PP:  0.63  -  FF vs FP:  0.72  -  FP vs PP:  0.66\"\n",
      "[1] \"Swapped comparisons - PP swapped - random\"\n",
      "[1] \"FF vs PP:  0.3  -  FF vs FP:  0.02  -  FP vs PP:  -0.01\"\n",
      "[1] \"Swapped comparisons - PP swapped - invert\"\n",
      "[1] \"FF vs PP:  0.59  -  FF vs FP:  0.01  -  FP vs PP:  0.01\"\n",
      "[1] \"Swapped comparisons - PP swapped - rotate\"\n",
      "[1] \"FF vs PP:  0.46  -  FF vs FP:  0.12  -  FP vs PP:  0.15\"\n",
      "[1] \"\"\n",
      "[1] \"Magnification 1 Stimulus Radius 0.25\"\n",
      "[1] \"There are 13 unique subjects\"\n",
      "[1] \"Median Trace: 0.78\"\n",
      "[1] \"Median Antitrace: 5.44\"\n",
      "[1] \"Standard comparisons\"\n",
      "[1] \"FF vs PP:  0.84  -  FF vs FP:  0.85  -  FP vs PP:  0.83\"\n",
      "[1] \"Swapped comparisons - PP swapped - random\"\n",
      "[1] \"FF vs PP:  0.39  -  FF vs FP:  0.09  -  FP vs PP:  -0.02\"\n",
      "[1] \"Swapped comparisons - PP swapped - invert\"\n",
      "[1] \"FF vs PP:  0.77  -  FF vs FP:  -0.04  -  FP vs PP:  -0.11\"\n",
      "[1] \"Swapped comparisons - PP swapped - rotate\"\n",
      "[1] \"FF vs PP:  0.58  -  FF vs FP:  0.12  -  FP vs PP:  0.14\"\n",
      "[1] \"\"\n",
      "[1] \"Magnification 1 Stimulus Radius 0.5\"\n",
      "[1] \"There are 10 unique subjects\"\n",
      "[1] \"Median Trace: 0.39\"\n",
      "[1] \"Median Antitrace: 6.22\"\n",
      "[1] \"Standard comparisons\"\n",
      "[1] \"FF vs PP:  0.85  -  FF vs FP:  0.86  -  FP vs PP:  0.88\"\n",
      "[1] \"Swapped comparisons - PP swapped - random\"\n",
      "[1] \"FF vs PP:  0.5  -  FF vs FP:  0  -  FP vs PP:  -0.06\"\n",
      "[1] \"Swapped comparisons - PP swapped - invert\"\n",
      "[1] \"FF vs PP:  0.77  -  FF vs FP:  -0.1  -  FP vs PP:  -0.08\"\n",
      "[1] \"Swapped comparisons - PP swapped - rotate\"\n",
      "[1] \"FF vs PP:  0.71  -  FF vs FP:  0.12  -  FP vs PP:  0.12\"\n",
      "[1] \"\"\n",
      "[1] \"Magnification 1 Stimulus Radius 1\"\n",
      "[1] \"There are 10 unique subjects\"\n",
      "[1] \"Median Trace: 0.72\"\n",
      "[1] \"Median Antitrace: 5.72\"\n",
      "[1] \"Standard comparisons\"\n",
      "[1] \"FF vs PP:  0.84  -  FF vs FP:  0.84  -  FP vs PP:  0.83\"\n",
      "[1] \"Swapped comparisons - PP swapped - random\"\n",
      "[1] \"FF vs PP:  0.47  -  FF vs FP:  0.03  -  FP vs PP:  0.01\"\n",
      "[1] \"Swapped comparisons - PP swapped - invert\"\n",
      "[1] \"FF vs PP:  0.73  -  FF vs FP:  0.04  -  FP vs PP:  0.04\"\n",
      "[1] \"Swapped comparisons - PP swapped - rotate\"\n",
      "[1] \"FF vs PP:  0.67  -  FF vs FP:  0.15  -  FP vs PP:  0.09\"\n",
      "[1] \"\"\n",
      "[1] \"Magnification 4.5 Stimulus Radius 0.05\"\n",
      "[1] \"There are 15 unique subjects\"\n",
      "[1] \"Median Trace: 1.44\"\n",
      "[1] \"Median Antitrace: 4.89\"\n",
      "[1] \"Standard comparisons\"\n",
      "[1] \"FF vs PP:  0.77  -  FF vs FP:  0.78  -  FP vs PP:  0.82\"\n",
      "[1] \"Swapped comparisons - PP swapped - random\"\n",
      "[1] \"FF vs PP:  0.36  -  FF vs FP:  0.02  -  FP vs PP:  0.02\"\n",
      "[1] \"Swapped comparisons - PP swapped - invert\"\n",
      "[1] \"FF vs PP:  0.67  -  FF vs FP:  0.13  -  FP vs PP:  0.05\"\n",
      "[1] \"Swapped comparisons - PP swapped - rotate\"\n",
      "[1] \"FF vs PP:  0.59  -  FF vs FP:  0.18  -  FP vs PP:  0.13\"\n",
      "[1] \"\"\n",
      "[1] \"Magnification 4.5 Stimulus Radius 0.1\"\n",
      "[1] \"There are 10 unique subjects\"\n",
      "[1] \"Median Trace: 1.22\"\n",
      "[1] \"Median Antitrace: 5.31\"\n",
      "[1] \"Standard comparisons\"\n",
      "[1] \"FF vs PP:  0.87  -  FF vs FP:  0.83  -  FP vs PP:  0.86\"\n",
      "[1] \"Swapped comparisons - PP swapped - random\"\n",
      "[1] \"FF vs PP:  0.43  -  FF vs FP:  0.02  -  FP vs PP:  0\"\n",
      "[1] \"Swapped comparisons - PP swapped - invert\"\n",
      "[1] \"FF vs PP:  0.74  -  FF vs FP:  0.03  -  FP vs PP:  0\"\n",
      "[1] \"Swapped comparisons - PP swapped - rotate\"\n",
      "[1] \"FF vs PP:  0.63  -  FF vs FP:  0.11  -  FP vs PP:  0.15\"\n",
      "[1] \"\"\n",
      "[1] \"Magnification 4.5 Stimulus Radius 0.25\"\n",
      "[1] \"There are 18 unique subjects\"\n",
      "[1] \"Median Trace: 0.44\"\n",
      "[1] \"Median Antitrace: 5.47\"\n",
      "[1] \"Standard comparisons\"\n",
      "[1] \"FF vs PP:  0.8  -  FF vs FP:  0.8  -  FP vs PP:  0.79\"\n",
      "[1] \"Swapped comparisons - PP swapped - random\"\n",
      "[1] \"FF vs PP:  0.43  -  FF vs FP:  0.06  -  FP vs PP:  0.01\"\n",
      "[1] \"Swapped comparisons - PP swapped - invert\"\n",
      "[1] \"FF vs PP:  0.72  -  FF vs FP:  0.02  -  FP vs PP:  -0.02\"\n",
      "[1] \"Swapped comparisons - PP swapped - rotate\"\n",
      "[1] \"FF vs PP:  0.67  -  FF vs FP:  0.14  -  FP vs PP:  0.09\"\n",
      "[1] \"\"\n",
      "[1] \"Magnification 4.5 Stimulus Radius 0.5\"\n",
      "[1] \"There are 17 unique subjects\"\n",
      "[1] \"Median Trace: 0.11\"\n",
      "[1] \"Median Antitrace: 5.83\"\n",
      "[1] \"Standard comparisons\"\n",
      "[1] \"FF vs PP:  0.87  -  FF vs FP:  0.88  -  FP vs PP:  0.89\"\n",
      "[1] \"Swapped comparisons - PP swapped - random\"\n",
      "[1] \"FF vs PP:  0.47  -  FF vs FP:  0.04  -  FP vs PP:  0.03\"\n",
      "[1] \"Swapped comparisons - PP swapped - invert\"\n",
      "[1] \"FF vs PP:  0.77  -  FF vs FP:  0.07  -  FP vs PP:  0.06\"\n",
      "[1] \"Swapped comparisons - PP swapped - rotate\"\n",
      "[1] \"FF vs PP:  0.72  -  FF vs FP:  0.15  -  FP vs PP:  0.11\"\n",
      "[1] \"\"\n",
      "[1] \"Magnification 4.5 Stimulus Radius 1\"\n",
      "[1] \"There are 13 unique subjects\"\n",
      "[1] \"Median Trace: 0.33\"\n",
      "[1] \"Median Antitrace: 6.06\"\n",
      "[1] \"Standard comparisons\"\n",
      "[1] \"FF vs PP:  0.8  -  FF vs FP:  0.81  -  FP vs PP:  0.81\"\n",
      "[1] \"Swapped comparisons - PP swapped - random\"\n",
      "[1] \"FF vs PP:  0.49  -  FF vs FP:  0.08  -  FP vs PP:  0.06\"\n",
      "[1] \"Swapped comparisons - PP swapped - invert\"\n",
      "[1] \"FF vs PP:  0.72  -  FF vs FP:  -0.02  -  FP vs PP:  0\"\n",
      "[1] \"Swapped comparisons - PP swapped - rotate\"\n",
      "[1] \"FF vs PP:  0.62  -  FF vs FP:  0.09  -  FP vs PP:  0.07\"\n",
      "[1] \"\"\n"
     ]
    }
   ],
   "source": [
    "within_distribution_df <- within_correlations_conditions(cleandf)"
   ]
  },
  {
   "cell_type": "code",
   "execution_count": 262,
   "metadata": {},
   "outputs": [],
   "source": [
    "# make a plot of all the within-subject correlation distributions across eccentricity & magnification\n",
    "distribution.plots <- function(distributions,swaps=TRUE,transform=FALSE){\n",
    "    \n",
    "    # fisher transform control\n",
    "    if(transform){\n",
    "        transform.string <- \"_transformed\"\n",
    "    } else {\n",
    "        transform.string <- \"\"\n",
    "    }\n",
    "    \n",
    "    # plot swaps control\n",
    "    if(!swaps){\n",
    "        distributions <- subset(distributions, mode==\"identity\")\n",
    "        swaps.string <- \"\"\n",
    "    } else {\n",
    "        swaps.string <- \"_swapped\"\n",
    "    }\n",
    "    \n",
    "    \n",
    "    fixed.df <- subset(distributions, magnification == 1)\n",
    "    magnified.df <- subset(distributions, magnification != 1)\n",
    "    \n",
    "    fixed.FFvPP.plot <- r_distribution_plot(fixed.df, comparison='FFvPP',fisher=transform,swaps=swaps)\n",
    "    fixed.FFvFP.plot <- r_distribution_plot(fixed.df, comparison='FFvFP',fisher=transform,swaps=swaps)\n",
    "    fixed.FPvPP.plot <- r_distribution_plot(fixed.df, comparison='FPvPP',fisher=transform,swaps=swaps)\n",
    "    magnified.FFvPP.plot <- r_distribution_plot(magnified.df, comparison='FFvPP',fisher=transform,swaps=swaps)\n",
    "    magnified.FFvFP.plot <- r_distribution_plot(magnified.df, comparison='FFvFP',fisher=transform,swaps=swaps)\n",
    "    magnified.FPvPP.plot <- r_distribution_plot(magnified.df, comparison='FPvPP',fisher=transform,swaps=swaps)\n",
    "    \n",
    "    title <- textGrob(\"Peripheral Swap\", gp=gpar(fontsize=35))\n",
    "    \n",
    "    allgrob <- arrangeGrob(fixed.FFvPP.plot, fixed.FFvFP.plot, fixed.FPvPP.plot,\n",
    "                          magnified.FFvPP.plot, magnified.FFvFP.plot, magnified.FPvPP.plot,\n",
    "                          nrow = 2, ncol = 3, top = title)\n",
    "    ggsave(paste(savestr,\"_Overall_Summary_Plots/Correlation_Distributions_\",\n",
    "                 swaps.string,transform.string,\"_plot.png\",sep=\"\"),\n",
    "          allgrob, height = 20, width = 30)\n",
    "    \n",
    "}"
   ]
  },
  {
   "cell_type": "code",
   "execution_count": 383,
   "metadata": {},
   "outputs": [],
   "source": [
    "#distribution.plots(within_distribution_df,transform=FALSE)\n",
    "#distribution.plots(within_distribution_df,transform=TRUE)\n",
    "distribution.plots(within_distribution_df,swaps=FALSE,transform=FALSE)\n",
    "#distribution.plots(within_distribution_df,swaps=TRUE,transform=FALSE)"
   ]
  },
  {
   "cell_type": "code",
   "execution_count": 287,
   "metadata": {},
   "outputs": [
    {
     "data": {
      "image/png": "[encoded data removed]",
      "text/plain": [
       "plot without title"
      ]
     },
     "metadata": {},
     "output_type": "display_data"
    }
   ],
   "source": [
    "# make some specific plots for the presentation\n",
    "# probably just better to modify the code above to generate these on demand...\n",
    "r_distribution_plot(within_distribution_df,comparison='FFvPP',title=FALSE,fisher=FALSE,scaling=FALSE,swaps=TRUE,connected=TRUE)\n",
    "#r_distribution_plot(within_distribution_df,comparison='all',title=FALSE,fisher=FALSE,scaling=FALSE,swaps=FALSE)\n"
   ]
  },
  {
   "cell_type": "code",
   "execution_count": 384,
   "metadata": {},
   "outputs": [],
   "source": [
    "eccentricity.test <- function(datadf,scaled=TRUE){\n",
    "    if(scaled){\n",
    "        datadf <- subset(datadf, magnification != 1) # only use the scaled data\n",
    "    }\n",
    "    datadf <- subset(datadf, mode == 'identity') # get rid of simulation stuff\n",
    "    datadf <- datadf %>% gather(comparison, correlations, 3:5) # gather up the comparisons across eccentricities\n",
    "    test <- aov(correlations ~ comparison, data=datadf)\n",
    "    n <- length(unique(datadf$ID))\n",
    "    print(paste(\"Number of subjects:\",n))\n",
    "    print(summary(test))\n",
    "}"
   ]
  },
  {
   "cell_type": "code",
   "execution_count": 385,
   "metadata": {},
   "outputs": [
    {
     "name": "stdout",
     "output_type": "stream",
     "text": [
      "[1] \"Number of subjects: 73\"\n",
      "             Df Sum Sq Mean Sq F value Pr(>F)\n",
      "comparison    2   0.12 0.06204   0.216  0.806\n",
      "Residuals   216  62.07 0.28736               \n"
     ]
    }
   ],
   "source": [
    "eccentricity.test(within_distribution_df)"
   ]
  },
  {
   "cell_type": "code",
   "execution_count": 232,
   "metadata": {},
   "outputs": [],
   "source": [
    "scaling.test <- function(datadf){\n",
    "    datadf <- subset(datadf, mode == 'identity') # get rid of simulation stuff\n",
    "    test <- aov(FFvPP ~ magnification + stimulus_radius + magnification*stimulus_radius, data = datadf)\n",
    "    print(summary(test))\n",
    "}\n"
   ]
  },
  {
   "cell_type": "code",
   "execution_count": 234,
   "metadata": {},
   "outputs": [
    {
     "name": "stdout",
     "output_type": "stream",
     "text": [
      "                               Df Sum Sq Mean Sq F value   Pr(>F)    \n",
      "magnification                   1  2.436  2.4365  13.057 0.000433 ***\n",
      "stimulus_radius                 4  5.956  1.4889   7.979 8.94e-06 ***\n",
      "magnification:stimulus_radius   4  3.954  0.9886   5.297 0.000557 ***\n",
      "Residuals                     128 23.886  0.1866                     \n",
      "---\n",
      "Signif. codes:  0 '***' 0.001 '**' 0.01 '*' 0.05 '.' 0.1 ' ' 1\n"
     ]
    }
   ],
   "source": [
    "scaling.test(within_distribution_df)"
   ]
  },
  {
   "cell_type": "code",
   "execution_count": 272,
   "metadata": {},
   "outputs": [],
   "source": [
    "# stat tests on this\n",
    "within_distribution_tests <- function(datadf, method=\"non-para\"){\n",
    "    \n",
    "    datadf <- subset(datadf, magnification != 1) # only use the scaled data\n",
    "    n <- length(unique(datadf$ID))\n",
    "    print(paste(\"Number of subjects:\",n))\n",
    "    \n",
    "    # setup\n",
    "    identity <- subset(datadf, mode == \"identity\")\n",
    "    identity.FFvPP <- identity$FFvPP\n",
    "    random <- subset(datadf, mode == \"random\")\n",
    "    random.FFvPP <- random$FFvPP\n",
    "    invert <- subset(datadf, mode == \"invert\")\n",
    "    invert.FFvPP <- invert$FFvPP\n",
    "    rotate <- subset(datadf, mode == \"rotate\")\n",
    "    rotate.FFvPP <- rotate$FFvPP\n",
    "    \n",
    "    # do the tests\n",
    "    if(method=='non-para'){\n",
    "        random.test <- wilcox.test(identity.FFvPP, random.FFvPP, paired = TRUE, alternative = \"two.sided\")\n",
    "        invert.test <- wilcox.test(identity.FFvPP, invert.FFvPP, paired = TRUE, alternative = \"two.sided\")\n",
    "        rotate.test <- wilcox.test(identity.FFvPP, rotate.FFvPP, paired = TRUE, alternative = \"two.sided\")\n",
    "    } else if(method=='para') {\n",
    "        random.test <- t.test(identity.FFvPP, random.FFvPP, paired = TRUE, alternative = \"two.sided\")\n",
    "        invert.test <- t.test(identity.FFvPP, invert.FFvPP, paired = TRUE, alternative = \"two.sided\")\n",
    "        rotate.test <- t.test(identity.FFvPP, rotate.FFvPP, paired = TRUE, alternative = \"two.sided\")\n",
    "    }\n",
    "    \n",
    "    \n",
    "    # print the tests\n",
    "    print(random.test)\n",
    "    print(invert.test)\n",
    "    print(rotate.test)\n",
    "    \n",
    "    #print bonferroni-corrected p-values\n",
    "    values <- c(random.test$p.value, invert.test$p.value, rotate.test$p.value)\n",
    "    print(\"Bonferroni-corrected p-values:\")\n",
    "    print(p.adjust(values, \"bonferroni\"))\n",
    "    \n",
    "}"
   ]
  },
  {
   "cell_type": "code",
   "execution_count": 273,
   "metadata": {},
   "outputs": [
    {
     "name": "stdout",
     "output_type": "stream",
     "text": [
      "[1] \"Number of subjects: 73\"\n",
      "\n",
      "\tWilcoxon signed rank test with continuity correction\n",
      "\n",
      "data:  identity.FFvPP and random.FFvPP\n",
      "V = 2611, p-value = 3.45e-13\n",
      "alternative hypothesis: true location shift is not equal to 0\n",
      "\n",
      "\n",
      "\tWilcoxon signed rank test with continuity correction\n",
      "\n",
      "data:  identity.FFvPP and invert.FFvPP\n",
      "V = 2374, p-value = 2.755e-09\n",
      "alternative hypothesis: true location shift is not equal to 0\n",
      "\n",
      "\n",
      "\tWilcoxon signed rank test with continuity correction\n",
      "\n",
      "data:  identity.FFvPP and rotate.FFvPP\n",
      "V = 2513, p-value = 1.749e-11\n",
      "alternative hypothesis: true location shift is not equal to 0\n",
      "\n",
      "[1] \"Bonferroni-corrected p-values:\"\n",
      "[1] 1.034954e-12 8.263923e-09 5.245583e-11\n",
      "[1] \"Number of subjects: 73\"\n",
      "\n",
      "\tPaired t-test\n",
      "\n",
      "data:  identity.FFvPP and random.FFvPP\n",
      "t = 13.845, df = 72, p-value < 2.2e-16\n",
      "alternative hypothesis: true difference in means is not equal to 0\n",
      "95 percent confidence interval:\n",
      " 0.5919267 0.7910594\n",
      "sample estimates:\n",
      "mean of the differences \n",
      "              0.6914931 \n",
      "\n",
      "\n",
      "\tPaired t-test\n",
      "\n",
      "data:  identity.FFvPP and invert.FFvPP\n",
      "t = 7.2589, df = 72, p-value = 3.673e-10\n",
      "alternative hypothesis: true difference in means is not equal to 0\n",
      "95 percent confidence interval:\n",
      " 0.1733447 0.3045999\n",
      "sample estimates:\n",
      "mean of the differences \n",
      "              0.2389723 \n",
      "\n",
      "\n",
      "\tPaired t-test\n",
      "\n",
      "data:  identity.FFvPP and rotate.FFvPP\n",
      "t = 9.7963, df = 72, p-value = 6.996e-15\n",
      "alternative hypothesis: true difference in means is not equal to 0\n",
      "95 percent confidence interval:\n",
      " 0.3042695 0.4597383\n",
      "sample estimates:\n",
      "mean of the differences \n",
      "              0.3820039 \n",
      "\n",
      "[1] \"Bonferroni-corrected p-values:\"\n",
      "[1] 1.664959e-21 1.101846e-09 2.098803e-14\n"
     ]
    }
   ],
   "source": [
    "#r_distribution_plot(within_distribution_df,comparison='FFvPP',title=FALSE,fisher=TRUE,scaling=FALSE,swaps=TRUE)\n",
    "\n",
    "within_distribution_tests(within_distribution_df)\n",
    "within_distribution_tests(within_distribution_df,method='para')"
   ]
  },
  {
   "cell_type": "code",
   "execution_count": 103,
   "metadata": {},
   "outputs": [],
   "source": [
    "# make a plot of all the full dissimilarity matrices for each subject\n",
    "dissimplots.subjects <- function(datadf,dependent='dissimilarity'){\n",
    "    subjectlist <- sort(unique(datadf$subject)) # obtain a list of all the subjects\n",
    "    scale.list <- sort(unique(datadf$peripheral_scale))\n",
    "    stim.list <- sort(unique(datadf$stimulus_radius))\n",
    "    \n",
    "    for(scale in scale.list){\n",
    "        for(stim in stim.list){\n",
    "            dir.create(paste(savestr,\"_Subject_Plots/\",\"Scale_\",scale,\"_StimSize_\",stim,\"/\",dependent,\"/\",\n",
    "                             sep='')) # make a new folder to store the subject plots in\n",
    "        }\n",
    "    }\n",
    "    \n",
    "    \n",
    "    for(ID in subjectlist){\n",
    "        subject.df <- subset(datadf, subject == ID)\n",
    "        \n",
    "        subject.plot.standard <- dissimplot.full(color.eccen.mat(dissimdata.full(subject.df),mode='identity',dependent=dependent),dependent=dependent)\n",
    "        subject.plot.standard <- subject.plot.standard + ggtitle('Standard') + theme(plot.title = element_text(hjust = 0.5))\n",
    "        \n",
    "        subject.plot.random <- dissimplot.full(color.eccen.mat(dissimdata.full(subject.df),mode='random',dependent=dependent),dependent=dependent)\n",
    "        subject.plot.random <- subject.plot.random + ggtitle('Random') + theme(plot.title = element_text(hjust = 0.5))\n",
    "        \n",
    "        subject.plot.invert <- dissimplot.full(color.eccen.mat(dissimdata.full(subject.df),mode='invert',dependent=dependent),dependent=dependent)\n",
    "        subject.plot.invert <- subject.plot.invert + ggtitle('Inverted') + theme(plot.title = element_text(hjust = 0.5))\n",
    "        \n",
    "        subject.plot.rotate <- dissimplot.full(color.eccen.mat(dissimdata.full(subject.df),mode='rotate',dependent=dependent),dependent=dependent)\n",
    "        subject.plot.rotate <- subject.plot.rotate + ggtitle('Rotated (90)') + theme(plot.title = element_text(hjust = 0.5))\n",
    "        \n",
    "        scale <- subject.df$peripheral_scale[1]\n",
    "        stim.size <- subject.df$stimulus_radius[1]\n",
    "        title <- textGrob(paste(as.character(ID),\"-\",\n",
    "                                \"Magnification:\", scale,\n",
    "                                \"Stimulus Size:\", stim.size\n",
    "                                ),\n",
    "                                gp=gpar(fontsize=35))\n",
    "        \n",
    "        g <- arrangeGrob(subject.plot.standard, subject.plot.random,\n",
    "                        subject.plot.invert, subject.plot.rotate,\n",
    "                        nrow = 2, ncol=2, top = title)\n",
    "        \n",
    "        ggsave(paste(savestr,\"_Subject_Plots/\",\"Scale_\",scale,\"_StimSize_\",stim.size,\"/\",dependent,\"/\",\n",
    "                     dependent,\"_matrix\",\"_ID_\",ID,\"_\",\n",
    "                     scale,\"_\",stim.size,\n",
    "                     \"_plot.png\",\n",
    "                     sep=''),g, height = 20, width = 20)\n",
    "    }\n",
    "}"
   ]
  },
  {
   "cell_type": "code",
   "execution_count": null,
   "metadata": {},
   "outputs": [],
   "source": [
    "# make a plot of all the dissimilarity & RT matrices\n"
   ]
  },
  {
   "cell_type": "code",
   "execution_count": 96,
   "metadata": {},
   "outputs": [],
   "source": [
    "# make a plot of all the dissimilarity & RT matrices for each subject\n",
    "QDM.RT.subjects <- function(datadf,RT=TRUE){\n",
    "    subjectlist <- sort(unique(datadf$subject)) # obtain a list of all the subjects\n",
    "    scale.list <- sort(unique(datadf$peripheral_scale))\n",
    "    stim.list <- sort(unique(datadf$stimulus_radius))\n",
    "    \n",
    "    for(scale in scale.list){\n",
    "        for(stim in stim.list){\n",
    "            dir.create(paste(savestr,\"_Subject_Plots/\",\"Scale_\",scale,\"_StimSize_\",stim,\"/\",\n",
    "                             sep='')) # make a new folder to store the subject plots in\n",
    "        }\n",
    "    }\n",
    "    \n",
    "    \n",
    "    for(ID in subjectlist){\n",
    "        subject.df <- subset(datadf, subject == ID)\n",
    "        \n",
    "        subject.plot.QDM <- dissimplot.full(color.eccen.mat(dissimdata.full(subject.df),mode='identity',dependent='dissimilarity'),dependent='dissimilarity')\n",
    "        subject.plot.QDM <- subject.plot.QDM + ggtitle('Dissimilarity') + theme(plot.title = element_text(hjust = 0.5))\n",
    "        \n",
    "        if(RT){\n",
    "            subject.plot.RT <- dissimplot.full(color.eccen.mat(dissimdata.full(subject.df),mode='identity',dependent='RT'),dependent='RT')\n",
    "            subject.plot.RT <- subject.plot.RT + ggtitle('Reaction Time') + theme(plot.title = element_text(hjust = 0.5))\n",
    "        }\n",
    "        \n",
    "        \n",
    "        #calculate FFvPP Correlation\n",
    "        matrix1 <- halfmat.v(df2mat.full(subject.df, l2e('Foveal'), l2e('Foveal')))\n",
    "        matrix2 <- halfmat.v(df2mat.full(subject.df, l2e('Peripheral'), l2e('Peripheral')))\n",
    "        r <- cor(matrix1, matrix2, method = \"spearman\")\n",
    "        \n",
    "        \n",
    "        scale <- subject.df$peripheral_scale[1]\n",
    "        stim.size <- subject.df$stimulus_radius[1]\n",
    "        title <- textGrob(paste(as.character(ID),\"-\",\n",
    "                                \"r =\",round(r,2),\n",
    "                                \"Magnification:\", scale,\n",
    "                                \"Stimulus Size:\", stim.size\n",
    "                                ),\n",
    "                                gp=gpar(fontsize=35))\n",
    "        \n",
    "        if(RT){\n",
    "            g <- arrangeGrob(subject.plot.QDM, subject.plot.RT,\n",
    "                        nrow = 2, ncol=1, top = title)\n",
    "        \n",
    "            ggsave(paste(savestr,\"_Subject_Plots/\",\"Scale_\",scale,\"_StimSize_\",stim.size,\"/\",\n",
    "                         \"QDM_RT_matrix\",\"_ID_\",ID,\"_\",\n",
    "                         scale,\"_\",stim.size,\n",
    "                         \"_plot.png\",\n",
    "                         sep=''),g, height = 20, width = 11.25)\n",
    "        } else {\n",
    "            g <- arrangeGrob(subject.plot.QDM,\n",
    "                        nrow = 1, ncol=1, top = title)\n",
    "        \n",
    "            ggsave(paste(savestr,\"_Subject_Plots/\",\"Scale_\",scale,\"_StimSize_\",stim.size,\"/\",\n",
    "                         \"QDM_RT_matrix\",\"_ID_\",ID,\"_\",\n",
    "                         scale,\"_\",stim.size,\n",
    "                         \"_plot.png\",\n",
    "                         sep=''),g, height = 13, width = 11.25)\n",
    "        }\n",
    "        \n",
    "    }\n",
    "}"
   ]
  },
  {
   "cell_type": "code",
   "execution_count": 97,
   "metadata": {},
   "outputs": [],
   "source": [
    "QDM.RT.subjects(cleandf, RT = FALSE)\n",
    "#dissimplots.subjects(cleandf,dependent='RT')\n",
    "#rsplot_summary(cleandf)\n",
    "# Make summary QDMs for each population group\n",
    "#dissimplot.full(color.eccen.mat(dissimdata.full(cleandf),mode='identity',dependent='RT'),dependent='RT')"
   ]
  },
  {
   "cell_type": "code",
   "execution_count": 98,
   "metadata": {},
   "outputs": [],
   "source": [
    "# generate the summary QDMs & RTMs for each group\n",
    "QDM.RT.grouped <- function(datadf,RT=TRUE){\n",
    "    \n",
    "    scale.list <- sort(unique(datadf$peripheral_scale))\n",
    "    stim.list <- sort(unique(datadf$stimulus_radius))\n",
    "    \n",
    "    for(scale in scale.list){\n",
    "        for(stim in stim.list){\n",
    "            dir.create(paste(savestr,\"_Overall_Summary_Plots/QDM_RTMs/\",\n",
    "                             sep='')) # make a new folder to store the summary plots in\n",
    "            \n",
    "            tempdf <- subset(datadf, peripheral_scale == scale & stimulus_radius == stim) # select the dataset\n",
    "            \n",
    "            group.plot.QDM <- dissimplot.full(color.eccen.mat(dissimdata.full(tempdf),mode='identity',dependent='dissimilarity'),dependent='dissimilarity')\n",
    "            group.plot.QDM <- group.plot.QDM + ggtitle('Dissimilarity') + theme(plot.title = element_text(hjust = 0.5))\n",
    "\n",
    "            if(RT){\n",
    "                group.plot.RT <- dissimplot.full(color.eccen.mat(dissimdata.full(tempdf),mode='identity',dependent='RT'),dependent='RT')\n",
    "                group.plot.RT <- group.plot.RT + ggtitle('Reaction Time') + theme(plot.title = element_text(hjust = 0.5))\n",
    "            }\n",
    "            \n",
    "            \n",
    "            title <- textGrob(paste(\"Group Mean -\",\n",
    "                                \"Magnification:\", scale,\n",
    "                                \"Stimulus Size:\", stim\n",
    "                                ),\n",
    "                                gp=gpar(fontsize=35))\n",
    "        \n",
    "            if(RT){\n",
    "                g <- arrangeGrob(group.plot.QDM, group.plot.RT,\n",
    "                                nrow = 2, ncol=1, top = title)\n",
    "\n",
    "                ggsave(paste(savestr,\"_Overall_Summary_Plots/QDM_RTMs/\",\n",
    "                         \"QDM_RT_matrix - Scale \",\n",
    "                         scale,\" - Stim Size \",stim,\n",
    "                         \" - plot.png\",\n",
    "                         sep=''),g, height = 20, width = 11.25)\n",
    "                } else {\n",
    "                    g <- arrangeGrob(group.plot.QDM,\n",
    "                                nrow = 1, ncol=1, top = title)\n",
    "\n",
    "                    ggsave(paste(savestr,\"_Overall_Summary_Plots/QDM_RTMs/\",\n",
    "                             \"QDM_RT_matrix - Scale \",\n",
    "                             scale,\" - Stim Size \",stim,\n",
    "                             \" - plot.png\",\n",
    "                             sep=''),g, height = 13, width = 11.25)\n",
    "            }\n",
    "        }\n",
    "    }\n",
    "    \n",
    "}"
   ]
  },
  {
   "cell_type": "code",
   "execution_count": 99,
   "metadata": {},
   "outputs": [],
   "source": [
    "QDM.RT.grouped(cleandf,RT=FALSE)"
   ]
  },
  {
   "cell_type": "code",
   "execution_count": 224,
   "metadata": {},
   "outputs": [],
   "source": [
    "# function to print the mean between-subject correlation for each condition, returns a dataframe to plot them\n",
    "between_correlations_conditions <- function(cleandf,e1='Foveal',e2='Foveal',test=TRUE){\n",
    "    \n",
    "    e1=l2e(e1)\n",
    "    e2=l2e(e2)\n",
    "    \n",
    "    magnification_list <- sort(unique(cleandf$peripheral_scale))\n",
    "    stim_sizes <- sort(unique(cleandf$stimulus_radius))\n",
    "    \n",
    "    return_df <- data.frame() # initialisation\n",
    "    \n",
    "    for(scale in magnification_list){\n",
    "        temp_scale_df <- subset(cleandf, peripheral_scale == scale)\n",
    "        for(stim_size in stim_sizes){\n",
    "            tempdf <- subset(temp_scale_df, stimulus_radius == stim_size)\n",
    "            \n",
    "            # get the correlations of interest\n",
    "            correlations <- i_j_list(tempdf, e1, e2)\n",
    "            print(paste(\"Magnification\",scale,\"Stimulus Radius\",stim_size,\n",
    "                        \": mean r = \",average_correlation(correlations)))\n",
    "            \n",
    "            # add the correlations to a dataframe for plotting\n",
    "            correlation_df <- data.frame(correlations, \n",
    "                                         magnification = as.character(scale), stimulus_radius = as.character(stim_size))\n",
    "            return_df <- rbind(return_df,correlation_df)\n",
    "            \n",
    "            # check if they're significantly different from shuffled data\n",
    "            \n",
    "        }\n",
    "    }\n",
    "    return(return_df)\n",
    "}"
   ]
  },
  {
   "cell_type": "code",
   "execution_count": 132,
   "metadata": {},
   "outputs": [
    {
     "name": "stdout",
     "output_type": "stream",
     "text": [
      "[1] \"Magnification 1 Stimulus Radius 0.1 : mean r =  0.30386750186056 2\"\n",
      "[1] \"Magnification 1 Stimulus Radius 0.25 : mean r =  0.743885420115348 2\"\n",
      "[1] \"Magnification 1 Stimulus Radius 0.5 : mean r =  0.259602057192458 2\"\n",
      "[1] \"Magnification 1 Stimulus Radius 1 : mean r =  0.73464721185944 2\"\n",
      "[1] \"Magnification 4.5 Stimulus Radius 0.1 : mean r =  0.599518183268645 2\"\n",
      "[1] \"Magnification 4.5 Stimulus Radius 0.25 : mean r =  0.376763615450412 2\"\n",
      "[1] \"Magnification 4.5 Stimulus Radius 0.5 : mean r =  0.640412930100809 2\"\n",
      "[1] \"Magnification 4.5 Stimulus Radius 1 : mean r =  0.39334852411956 2\"\n"
     ]
    }
   ],
   "source": [
    "between_distribution_df <- between_correlations_conditions(cleandf)"
   ]
  },
  {
   "cell_type": "code",
   "execution_count": 155,
   "metadata": {},
   "outputs": [],
   "source": [
    "# test within-vs-between distributions\n",
    "within_vs_between <- function(cleandf){\n",
    "    \n",
    "    magnification_list <- sort(unique(cleandf$peripheral_scale))\n",
    "    stim_sizes <- sort(unique(cleandf$stimulus_radius))\n",
    "    \n",
    "    return_df <- data.frame() # initialisation\n",
    "    \n",
    "    for(scale in magnification_list){\n",
    "        temp_scale_df <- subset(cleandf, peripheral_scale == scale)\n",
    "        for(stim_size in stim_sizes){\n",
    "            tempdf <- subset(temp_scale_df, stimulus_radius == stim_size)\n",
    "            \n",
    "            within_correlations <- eccentricity_compare_list(tempdf, 'Foveal', 'Peripheral')\n",
    "            between_correlations <- i_j_list(tempdf, l2e('Foveal'), l2e('Foveal'))\n",
    "            \n",
    "            print(paste(\"Magnification\",scale,\"Stimulus Radius\",stim_size))\n",
    "            print(paste(\"Mean fovea-periphery correlation:\",average_correlation(within_correlations)))\n",
    "            print(paste(\"Mean between-subject fovea-fovea correlation:\",average_correlation(between_correlations)))\n",
    "\n",
    "            print(QDM_test(within_correlations,between_correlations))\n",
    "            print(\"\")\n",
    "        }\n",
    "    }        \n",
    "}"
   ]
  },
  {
   "cell_type": "code",
   "execution_count": 156,
   "metadata": {
    "collapsed": true,
    "jupyter": {
     "outputs_hidden": true
    }
   },
   "outputs": [
    {
     "name": "stdout",
     "output_type": "stream",
     "text": [
      "[1] \"Magnification 1 Stimulus Radius 0.1\"\n",
      "[1] \"Mean fovea-periphery correlation: 0.586389688833031\"\n",
      "[1] \"Mean between-subject fovea-fovea correlation: 0.30386750186056\"\n",
      "\n",
      "\tWilcoxon rank sum test with continuity correction\n",
      "\n",
      "data:  original_correlations and shuffled_correlations\n",
      "W = 294, p-value = 0.1582\n",
      "alternative hypothesis: true location shift is not equal to 0\n",
      "\n",
      "[1] \"\"\n",
      "[1] \"Magnification 1 Stimulus Radius 0.25\"\n",
      "[1] \"Mean fovea-periphery correlation: 0.714690291571861\"\n",
      "[1] \"Mean between-subject fovea-fovea correlation: 0.743885420115348\"\n",
      "\n",
      "\tWilcoxon rank sum test with continuity correction\n",
      "\n",
      "data:  original_correlations and shuffled_correlations\n",
      "W = 124, p-value = 0.5201\n",
      "alternative hypothesis: true location shift is not equal to 0\n",
      "\n",
      "[1] \"\"\n",
      "[1] \"Magnification 1 Stimulus Radius 0.5\"\n",
      "[1] \"Mean fovea-periphery correlation: 0.791039281555879\"\n",
      "[1] \"Mean between-subject fovea-fovea correlation: 0.259602057192458\"\n",
      "\n",
      "\tWilcoxon rank sum test with continuity correction\n",
      "\n",
      "data:  original_correlations and shuffled_correlations\n",
      "W = 130, p-value = 0.09329\n",
      "alternative hypothesis: true location shift is not equal to 0\n",
      "\n",
      "[1] \"\"\n",
      "[1] \"Magnification 1 Stimulus Radius 1\"\n",
      "[1] \"Mean fovea-periphery correlation: 0.845187467213975\"\n",
      "[1] \"Mean between-subject fovea-fovea correlation: 0.73464721185944\"\n",
      "\n",
      "\tWilcoxon rank sum test with continuity correction\n",
      "\n",
      "data:  original_correlations and shuffled_correlations\n",
      "W = 132, p-value = 0.07785\n",
      "alternative hypothesis: true location shift is not equal to 0\n",
      "\n",
      "[1] \"\"\n",
      "[1] \"Magnification 4.5 Stimulus Radius 0.1\"\n",
      "[1] \"Mean fovea-periphery correlation: 0.787062148625204\"\n",
      "[1] \"Mean between-subject fovea-fovea correlation: 0.599518183268645\"\n",
      "\n",
      "\tWilcoxon rank sum test with continuity correction\n",
      "\n",
      "data:  original_correlations and shuffled_correlations\n",
      "W = 152, p-value = 0.008974\n",
      "alternative hypothesis: true location shift is not equal to 0\n",
      "\n",
      "[1] \"\"\n",
      "[1] \"Magnification 4.5 Stimulus Radius 0.25\"\n",
      "[1] \"Mean fovea-periphery correlation: 0.735221054507706\"\n",
      "[1] \"Mean between-subject fovea-fovea correlation: 0.376763615450412\"\n",
      "\n",
      "\tWilcoxon rank sum test with continuity correction\n",
      "\n",
      "data:  original_correlations and shuffled_correlations\n",
      "W = 880, p-value = 0.01332\n",
      "alternative hypothesis: true location shift is not equal to 0\n",
      "\n",
      "[1] \"\"\n",
      "[1] \"Magnification 4.5 Stimulus Radius 0.5\"\n",
      "[1] \"Mean fovea-periphery correlation: 0.854564325410806\"\n",
      "[1] \"Mean between-subject fovea-fovea correlation: 0.640412930100809\"\n",
      "\n",
      "\tWilcoxon rank sum test with continuity correction\n",
      "\n",
      "data:  original_correlations and shuffled_correlations\n",
      "W = 276, p-value = 0.0002393\n",
      "alternative hypothesis: true location shift is not equal to 0\n",
      "\n",
      "[1] \"\"\n",
      "[1] \"Magnification 4.5 Stimulus Radius 1\"\n",
      "[1] \"Mean fovea-periphery correlation: 0.804521439387299\"\n",
      "[1] \"Mean between-subject fovea-fovea correlation: 0.39334852411956\"\n",
      "\n",
      "\tWilcoxon rank sum test with continuity correction\n",
      "\n",
      "data:  original_correlations and shuffled_correlations\n",
      "W = 140, p-value = 0.03545\n",
      "alternative hypothesis: true location shift is not equal to 0\n",
      "\n",
      "[1] \"\"\n"
     ]
    }
   ],
   "source": [
    "within_vs_between(cleandf)"
   ]
  },
  {
   "cell_type": "markdown",
   "metadata": {},
   "source": [
    "#### Triangle Inequality Calculations"
   ]
  },
  {
   "cell_type": "code",
   "execution_count": 268,
   "metadata": {},
   "outputs": [],
   "source": [
    "# test the violation proportions for a subject's judgments\n",
    "test.tri.subject <- function(matrix,print=FALSE){\n",
    "    CCmat <- matrix[1:9,1:9]\n",
    "    CPmat <- matrix[1:9,10:18]\n",
    "    PPmat <- matrix[10:18,10:18]\n",
    "    \n",
    "    CC.score <- score.tri.violate(CCmat)\n",
    "    CP.score <- score.tri.violate(CPmat)\n",
    "    PP.score <- score.tri.violate(PPmat)\n",
    "    FULL.score <- score.tri.violate(matrix)\n",
    "    \n",
    "    if(print){\n",
    "        print(\"Triangle Inequality Violations:\")\n",
    "        print(paste(\"CC:\",round(CC.score,5),\"CP:\",round(CP.score,5),\"PP:\",round(PP.score,5),\"Full:\",round(FULL.score,5)))\n",
    "    }\n",
    "    return(c(CC.score,CP.score,PP.score,FULL.score))\n",
    "}"
   ]
  },
  {
   "cell_type": "code",
   "execution_count": 269,
   "metadata": {},
   "outputs": [
    {
     "data": {
      "text/html": [
       "<ol class=list-inline>\n",
       "\t<li>0</li>\n",
       "\t<li>0</li>\n",
       "\t<li>0.00396825396825397</li>\n",
       "\t<li>0.0110294117647059</li>\n",
       "</ol>\n"
      ],
      "text/latex": [
       "\\begin{enumerate*}\n",
       "\\item 0\n",
       "\\item 0\n",
       "\\item 0.00396825396825397\n",
       "\\item 0.0110294117647059\n",
       "\\end{enumerate*}\n"
      ],
      "text/markdown": [
       "1. 0\n",
       "2. 0\n",
       "3. 0.00396825396825397\n",
       "4. 0.0110294117647059\n",
       "\n",
       "\n"
      ],
      "text/plain": [
       "[1] 0.000000000 0.000000000 0.003968254 0.011029412"
      ]
     },
     "metadata": {},
     "output_type": "display_data"
    }
   ],
   "source": [
    "test.tri.subject(testmat)"
   ]
  },
  {
   "cell_type": "code",
   "execution_count": 270,
   "metadata": {},
   "outputs": [],
   "source": [
    "# test unsymmeterised PC/CP data\n",
    "test.tri.unsymmeterised <- function(matrix,print=FALSE){\n",
    "    CPmat <- matrix[1:9,10:18]\n",
    "    PCmat <- t(CPmat)\n",
    "    \n",
    "    CP.score <- score.tri.violate(CPmat)\n",
    "    PC.score <- score.tri.violate(PCmat)\n",
    "    \n",
    "    if(print){\n",
    "        print(\"Triangle Inequality Violations - Unsymmeterised:\")\n",
    "        print(paste(\"CP:\",round(CP.score,5),\"PC:\",round(PC.score,5)))\n",
    "    }\n",
    "    return(c(CP.score,PC.score))\n",
    "}"
   ]
  },
  {
   "cell_type": "code",
   "execution_count": 271,
   "metadata": {},
   "outputs": [],
   "source": [
    "#testdf <- subset(datadf, subject == 790529144)\n",
    "#testdata <- dissimdata.full(testdf,symmeterise=FALSE, duplicate=FALSE)\n",
    "#testmat <- color.eccen.mat(testdata,output='matrix')\n",
    "#test.tri.unsymmeterised(testmat,print=TRUE)"
   ]
  },
  {
   "cell_type": "code",
   "execution_count": 272,
   "metadata": {},
   "outputs": [],
   "source": [
    "# test a population of subjects\n",
    "test.tri.population <- function(datadf,sym=TRUE){\n",
    "    \n",
    "    # initialise score storage dataframe\n",
    "    score.df <- data.frame()\n",
    "    \n",
    "    subjectlist <- sort(unique(datadf$subject)) # obtain a list of all the subjects\n",
    "    for(ID in subjectlist){\n",
    "        subject.df <- subset(datadf, subject == ID)\n",
    "        if(sym){\n",
    "            subjectdata <- dissimdata.full(subject.df)\n",
    "        } else {\n",
    "            subjectdata <- dissimdata.full(subject.df,symmeterise=FALSE, duplicate=FALSE)\n",
    "        }\n",
    "        subject.mat <- color.eccen.mat(subjectdata,output='matrix')\n",
    "        if(sym){\n",
    "            scores <- test.tri.subject(subject.mat)\n",
    "        } else {\n",
    "            scores <- test.tri.unsymmeterised(subject.mat)\n",
    "        }\n",
    "        row <- c(ID,scores)\n",
    "        score.df <- rbind(score.df, row)\n",
    "    }\n",
    "    if(sym){\n",
    "        colnames(score.df) <- c(\"ID\", \"CC\", \"CP\", \"PP\", \"FULL\")\n",
    "    } else {\n",
    "        colnames(score.df) <- c(\"ID\", \"CP\", \"PC\")\n",
    "    }\n",
    "    \n",
    "    return(score.df)\n",
    "}"
   ]
  },
  {
   "cell_type": "code",
   "execution_count": 273,
   "metadata": {},
   "outputs": [],
   "source": [
    "#testdf <- subset(cleandf, peripheral_scale == 4.5 & stimulus_radius == 1)\n",
    "#test.tri.population(testdf,sym=FALSE)"
   ]
  },
  {
   "cell_type": "code",
   "execution_count": 274,
   "metadata": {},
   "outputs": [],
   "source": [
    "# test all the subjects in a dataset, stratifying by magnification & stimulus\n",
    "test.tri.all <- function(datadf,test='mean',sym=TRUE){\n",
    "    magnification_list <- sort(unique(datadf$peripheral_scale))\n",
    "    size_list <- sort(unique(datadf$stimulus_radius))\n",
    "    output.df <- data.frame()\n",
    "    \n",
    "    print(\"Testing Triangle Inequality Violations\")\n",
    "    print(paste(\"Reporting\",test,\"values\"))\n",
    "    for (stimulus in size_list){\n",
    "        for (scale in magnification_list){\n",
    "            tempdf <- subset(datadf, peripheral_scale == scale & stimulus_radius == stimulus)\n",
    "            \n",
    "            print(paste(\"Magnification\",scale,\"Stimulus\",stimulus))\n",
    "            \n",
    "            score.df <- test.tri.population(tempdf,sym=sym)\n",
    "            if(sym==TRUE){\n",
    "                 if(test=='mean'){\n",
    "                CC.score <- mean(score.df$CC)\n",
    "                CP.score <- mean(score.df$CP)\n",
    "                PP.score <- mean(score.df$PP)\n",
    "                FULL.score <- mean(score.df$FULL)\n",
    "                } else if (test=='median'){\n",
    "                CC.score <- median(score.df$CC)\n",
    "                CP.score <- median(score.df$CP)\n",
    "                PP.score <- median(score.df$PP)\n",
    "                FULL.score <- mean(score.df$FULL)\n",
    "                }\n",
    "                print(paste(\"CC:\",round(CC.score,5),\"CP:\",round(CP.score,5),\"PP:\",round(PP.score,5),\"Full:\",round(FULL.score,5)))\n",
    "                row <- c(scale,stimulus,CC.score,CP.score,PP.score,FULL.score)\n",
    "                output.df <- rbind(output.df,row)\n",
    "            }else{\n",
    "                if(test=='mean'){\n",
    "                CP.score <- mean(score.df$CP)\n",
    "                PC.score <- mean(score.df$PC)\n",
    "                } else if (test=='median'){\n",
    "                CP.score <- median(score.df$CP)\n",
    "                PC.score <- median(score.df$PC)\n",
    "                }\n",
    "                print(paste(\"CP:\",round(CP.score,5),\"PC:\",round(PC.score,5)))\n",
    "            }\n",
    "           \n",
    "        }\n",
    "    }\n",
    "    colnames(output.df) <- c('magnification','stimulus','CC','CP','PP','Full')\n",
    "    return(output.df)\n",
    "}"
   ]
  },
  {
   "cell_type": "code",
   "execution_count": 345,
   "metadata": {},
   "outputs": [],
   "source": [
    "# plot triangle inequality violations\n",
    "tri.violate.plot <- function(output.df,title){\n",
    "    plot.df <- output.df %>% gather(matrix, tri.violate, 3:6)\n",
    "    plot.df$stimulus <- as.character(plot.df$stimulus)\n",
    "    plot.df$matrix <- factor(plot.df$matrix, levels = c('CC','CP','PP','Full'))\n",
    "    #print(plot.df)\n",
    "    plot <- ggplot(plot.df, aes(x=stimulus,y=tri.violate,fill=matrix,group=matrix)) + \n",
    "    geom_bar(stat='identity',position=position_dodge()) + ggtitle(title) +\n",
    "    ylim(0,1) + xlab('Stimulus Radius (DVA)') + ylab('Violation Proportion')\n",
    "    return(plot)\n",
    "}"
   ]
  },
  {
   "cell_type": "code",
   "execution_count": 346,
   "metadata": {},
   "outputs": [],
   "source": [
    "# summary triangle inequality plot across magnifications\n",
    "tri.violate.plot.mag <- function(output.df){\n",
    "    fixed.df <- subset(output.df, magnification == 1)\n",
    "    scaled.df <- subset(output.df, magnification > 1)\n",
    "    plot.fixed <- tri.violate.plot(fixed.df,'Fixed')\n",
    "    plot.scaled <- tri.violate.plot(scaled.df,'Scaled')\n",
    "    g <- arrangeGrob(plot.fixed,plot.scaled, nrow=1,ncol=2)\n",
    "    return(g)\n",
    "}"
   ]
  },
  {
   "cell_type": "code",
   "execution_count": 347,
   "metadata": {},
   "outputs": [
    {
     "data": {
      "image/png": "[encoded data removed]",
      "text/plain": [
       "plot without title"
      ]
     },
     "metadata": {},
     "output_type": "display_data"
    }
   ],
   "source": [
    "#tri.violate.plot(output.df)\n",
    "testgrob <- tri.violate.plot.mag(output.df)\n",
    "grid.arrange(testgrob)"
   ]
  },
  {
   "cell_type": "code",
   "execution_count": 276,
   "metadata": {},
   "outputs": [
    {
     "name": "stdout",
     "output_type": "stream",
     "text": [
      "[1] \"Testing Triangle Inequality Violations\"\n",
      "[1] \"Reporting median values\"\n",
      "[1] \"Magnification 1 Stimulus 0.05\"\n",
      "[1] \"CP: 0.07143 PC: 0.0873\"\n",
      "[1] \"Magnification 4.5 Stimulus 0.05\"\n",
      "[1] \"CP: 0.04365 PC: 0.05556\"\n",
      "[1] \"Magnification 1 Stimulus 0.1\"\n",
      "[1] \"CP: 0.02381 PC: 0.05159\"\n",
      "[1] \"Magnification 4.5 Stimulus 0.1\"\n",
      "[1] \"CP: 0.02183 PC: 0.04563\"\n",
      "[1] \"Magnification 1 Stimulus 0.25\"\n",
      "[1] \"CP: 0.01587 PC: 0.03968\"\n",
      "[1] \"Magnification 4.5 Stimulus 0.25\"\n",
      "[1] \"CP: 0.02579 PC: 0.04563\"\n",
      "[1] \"Magnification 1 Stimulus 0.5\"\n",
      "[1] \"CP: 0.01389 PC: 0.01389\"\n",
      "[1] \"Magnification 4.5 Stimulus 0.5\"\n",
      "[1] \"CP: 0.01984 PC: 0.02381\"\n",
      "[1] \"Magnification 1 Stimulus 1\"\n",
      "[1] \"CP: 0.01587 PC: 0.02579\"\n",
      "[1] \"Magnification 4.5 Stimulus 1\"\n",
      "[1] \"CP: 0.00794 PC: 0.02778\"\n"
     ]
    },
    {
     "ename": "ERROR",
     "evalue": "Error in names(x) <- value: 'names' attribute [6] must be the same length as the vector [0]\n",
     "output_type": "error",
     "traceback": [
      "Error in names(x) <- value: 'names' attribute [6] must be the same length as the vector [0]\nTraceback:\n",
      "1. test.tri.all(cleandf, test = \"median\", sym = FALSE)",
      "2. `colnames<-`(`*tmp*`, value = c(\"magnification\", \"stimulus\", \n .     \"CC\", \"CP\", \"PP\", \"Full\"))   # at line 44 of file <text>"
     ]
    }
   ],
   "source": [
    "test.tri.all(cleandf,test='median',sym=FALSE)"
   ]
  },
  {
   "cell_type": "code",
   "execution_count": 277,
   "metadata": {},
   "outputs": [
    {
     "name": "stdout",
     "output_type": "stream",
     "text": [
      "[1] \"Testing Triangle Inequality Violations\"\n",
      "[1] \"Reporting median values\"\n",
      "[1] \"Magnification 1 Stimulus 0.05\"\n",
      "[1] \"CC: 0.03968 CP: 0.03571 PP: 0.04762 Full: 0.0669\"\n",
      "[1] \"Magnification 4.5 Stimulus 0.05\"\n",
      "[1] \"CC: 0.03571 CP: 0.03571 PP: 0.02778 Full: 0.08878\"\n",
      "[1] \"Magnification 1 Stimulus 0.1\"\n",
      "[1] \"CC: 0.0119 CP: 0.0119 PP: 0.02381 Full: 0.05662\"\n",
      "[1] \"Magnification 4.5 Stimulus 0.1\"\n",
      "[1] \"CC: 0.02778 CP: 0.02381 PP: 0.03373 Full: 0.05882\"\n",
      "[1] \"Magnification 1 Stimulus 0.25\"\n",
      "[1] \"CC: 0.0119 CP: 0.0119 PP: 0.02778 Full: 0.04585\"\n",
      "[1] \"Magnification 4.5 Stimulus 0.25\"\n",
      "[1] \"CC: 0.00794 CP: 0.01587 PP: 0.02381 Full: 0.06286\"\n",
      "[1] \"Magnification 1 Stimulus 0.5\"\n",
      "[1] \"CC: 0.00198 CP: 0.0119 PP: 0.01984 Full: 0.04775\"\n",
      "[1] \"Magnification 4.5 Stimulus 0.5\"\n",
      "[1] \"CC: 0.00794 CP: 0.01587 PP: 0.01984 Full: 0.04296\"\n",
      "[1] \"Magnification 1 Stimulus 1\"\n",
      "[1] \"CC: 0.00595 CP: 0.00397 PP: 0.01786 Full: 0.04555\"\n",
      "[1] \"Magnification 4.5 Stimulus 1\"\n",
      "[1] \"CC: 0.00397 CP: 0.00397 PP: 0.00397 Full: 0.04148\"\n"
     ]
    }
   ],
   "source": [
    "output.df <- test.tri.all(cleandf,test='median')"
   ]
  },
  {
   "cell_type": "code",
   "execution_count": 278,
   "metadata": {},
   "outputs": [
    {
     "data": {
      "text/html": [
       "<table>\n",
       "<thead><tr><th scope=col>magnification</th><th scope=col>stimulus</th><th scope=col>CC</th><th scope=col>CP</th><th scope=col>PP</th><th scope=col>Full</th></tr></thead>\n",
       "<tbody>\n",
       "\t<tr><td>1.0        </td><td>0.05       </td><td>0.039682540</td><td>0.035714286</td><td>0.047619048</td><td>0.06689735 </td></tr>\n",
       "\t<tr><td>4.5        </td><td>0.05       </td><td>0.035714286</td><td>0.035714286</td><td>0.027777778</td><td>0.08877996 </td></tr>\n",
       "\t<tr><td>1.0        </td><td>0.10       </td><td>0.011904762</td><td>0.011904762</td><td>0.023809524</td><td>0.05661765 </td></tr>\n",
       "\t<tr><td>4.5        </td><td>0.10       </td><td>0.027777778</td><td>0.023809524</td><td>0.033730159</td><td>0.05882353 </td></tr>\n",
       "\t<tr><td>1.0        </td><td>0.25       </td><td>0.011904762</td><td>0.011904762</td><td>0.027777778</td><td>0.04584590 </td></tr>\n",
       "\t<tr><td>4.5        </td><td>0.25       </td><td>0.007936508</td><td>0.015873016</td><td>0.023809524</td><td>0.06286311 </td></tr>\n",
       "\t<tr><td>1.0        </td><td>0.50       </td><td>0.001984127</td><td>0.011904762</td><td>0.019841270</td><td>0.04775327 </td></tr>\n",
       "\t<tr><td>4.5        </td><td>0.50       </td><td>0.007936508</td><td>0.015873016</td><td>0.019841270</td><td>0.04296424 </td></tr>\n",
       "\t<tr><td>1.0        </td><td>1.00       </td><td>0.005952381</td><td>0.003968254</td><td>0.017857143</td><td>0.04554739 </td></tr>\n",
       "\t<tr><td>4.5        </td><td>1.00       </td><td>0.003968254</td><td>0.003968254</td><td>0.003968254</td><td>0.04147813 </td></tr>\n",
       "</tbody>\n",
       "</table>\n"
      ],
      "text/latex": [
       "\\begin{tabular}{r|llllll}\n",
       " magnification & stimulus & CC & CP & PP & Full\\\\\n",
       "\\hline\n",
       "\t 1.0         & 0.05        & 0.039682540 & 0.035714286 & 0.047619048 & 0.06689735 \\\\\n",
       "\t 4.5         & 0.05        & 0.035714286 & 0.035714286 & 0.027777778 & 0.08877996 \\\\\n",
       "\t 1.0         & 0.10        & 0.011904762 & 0.011904762 & 0.023809524 & 0.05661765 \\\\\n",
       "\t 4.5         & 0.10        & 0.027777778 & 0.023809524 & 0.033730159 & 0.05882353 \\\\\n",
       "\t 1.0         & 0.25        & 0.011904762 & 0.011904762 & 0.027777778 & 0.04584590 \\\\\n",
       "\t 4.5         & 0.25        & 0.007936508 & 0.015873016 & 0.023809524 & 0.06286311 \\\\\n",
       "\t 1.0         & 0.50        & 0.001984127 & 0.011904762 & 0.019841270 & 0.04775327 \\\\\n",
       "\t 4.5         & 0.50        & 0.007936508 & 0.015873016 & 0.019841270 & 0.04296424 \\\\\n",
       "\t 1.0         & 1.00        & 0.005952381 & 0.003968254 & 0.017857143 & 0.04554739 \\\\\n",
       "\t 4.5         & 1.00        & 0.003968254 & 0.003968254 & 0.003968254 & 0.04147813 \\\\\n",
       "\\end{tabular}\n"
      ],
      "text/markdown": [
       "\n",
       "| magnification | stimulus | CC | CP | PP | Full |\n",
       "|---|---|---|---|---|---|\n",
       "| 1.0         | 0.05        | 0.039682540 | 0.035714286 | 0.047619048 | 0.06689735  |\n",
       "| 4.5         | 0.05        | 0.035714286 | 0.035714286 | 0.027777778 | 0.08877996  |\n",
       "| 1.0         | 0.10        | 0.011904762 | 0.011904762 | 0.023809524 | 0.05661765  |\n",
       "| 4.5         | 0.10        | 0.027777778 | 0.023809524 | 0.033730159 | 0.05882353  |\n",
       "| 1.0         | 0.25        | 0.011904762 | 0.011904762 | 0.027777778 | 0.04584590  |\n",
       "| 4.5         | 0.25        | 0.007936508 | 0.015873016 | 0.023809524 | 0.06286311  |\n",
       "| 1.0         | 0.50        | 0.001984127 | 0.011904762 | 0.019841270 | 0.04775327  |\n",
       "| 4.5         | 0.50        | 0.007936508 | 0.015873016 | 0.019841270 | 0.04296424  |\n",
       "| 1.0         | 1.00        | 0.005952381 | 0.003968254 | 0.017857143 | 0.04554739  |\n",
       "| 4.5         | 1.00        | 0.003968254 | 0.003968254 | 0.003968254 | 0.04147813  |\n",
       "\n"
      ],
      "text/plain": [
       "   magnification stimulus CC          CP          PP          Full      \n",
       "1  1.0           0.05     0.039682540 0.035714286 0.047619048 0.06689735\n",
       "2  4.5           0.05     0.035714286 0.035714286 0.027777778 0.08877996\n",
       "3  1.0           0.10     0.011904762 0.011904762 0.023809524 0.05661765\n",
       "4  4.5           0.10     0.027777778 0.023809524 0.033730159 0.05882353\n",
       "5  1.0           0.25     0.011904762 0.011904762 0.027777778 0.04584590\n",
       "6  4.5           0.25     0.007936508 0.015873016 0.023809524 0.06286311\n",
       "7  1.0           0.50     0.001984127 0.011904762 0.019841270 0.04775327\n",
       "8  4.5           0.50     0.007936508 0.015873016 0.019841270 0.04296424\n",
       "9  1.0           1.00     0.005952381 0.003968254 0.017857143 0.04554739\n",
       "10 4.5           1.00     0.003968254 0.003968254 0.003968254 0.04147813"
      ]
     },
     "metadata": {},
     "output_type": "display_data"
    }
   ],
   "source": [
    "output.df"
   ]
  },
  {
   "cell_type": "code",
   "execution_count": 243,
   "metadata": {},
   "outputs": [
    {
     "name": "stdout",
     "output_type": "stream",
     "text": [
      "[1] \"Testing Triangle Inequality Violations\"\n",
      "[1] \"Reporting mean values\"\n",
      "[1] \"Magnification 1 Stimulus 0.05\"\n",
      "[1] \"CC: 0.04995 CP: 0.04272 PP: 0.05556\"\n",
      "[1] \"Magnification 4.5 Stimulus 0.05\"\n",
      "[1] \"CC: 0.07169 CP: 0.06376 PP: 0.06614\"\n",
      "[1] \"Magnification 1 Stimulus 0.1\"\n",
      "[1] \"CC: 0.02884 CP: 0.02937 PP: 0.04365\"\n",
      "[1] \"Magnification 4.5 Stimulus 0.1\"\n",
      "[1] \"CC: 0.03611 CP: 0.03452 PP: 0.04246\"\n",
      "[1] \"Magnification 1 Stimulus 0.25\"\n",
      "[1] \"CC: 0.02015 CP: 0.02076 PP: 0.02717\"\n",
      "[1] \"Magnification 4.5 Stimulus 0.25\"\n",
      "[1] \"CC: 0.02976 CP: 0.03219 PP: 0.0474\"\n",
      "[1] \"Magnification 1 Stimulus 0.5\"\n",
      "[1] \"CC: 0.01786 CP: 0.02381 PP: 0.0254\"\n",
      "[1] \"Magnification 4.5 Stimulus 0.5\"\n",
      "[1] \"CC: 0.01541 CP: 0.02171 PP: 0.02007\"\n",
      "[1] \"Magnification 1 Stimulus 1\"\n",
      "[1] \"CC: 0.01587 CP: 0.02024 PP: 0.0246\"\n",
      "[1] \"Magnification 4.5 Stimulus 1\"\n",
      "[1] \"CC: 0.01068 CP: 0.0174 PP: 0.00916\"\n"
     ]
    }
   ],
   "source": [
    "test.tri.all(cleandf,test='mean')"
   ]
  },
  {
   "cell_type": "code",
   "execution_count": 232,
   "metadata": {},
   "outputs": [
    {
     "data": {
      "text/html": [
       "0.00395256916996047"
      ],
      "text/latex": [
       "0.00395256916996047"
      ],
      "text/markdown": [
       "0.00395256916996047"
      ],
      "text/plain": [
       "[1] 0.003952569"
      ]
     },
     "metadata": {},
     "output_type": "display_data"
    }
   ],
   "source": [
    "#test <- test.tri.all(testdf)\n",
    "#test\n",
    "#median(test$ID)\n",
    "#median(test$CC)\n",
    "#median(test$CP)\n",
    "#median(test$PP)\n",
    "1/253"
   ]
  },
  {
   "cell_type": "markdown",
   "metadata": {},
   "source": [
    "### Between-Subjects Explorations"
   ]
  },
  {
   "cell_type": "markdown",
   "metadata": {},
   "source": [
    "##### Between-subject variance"
   ]
  },
  {
   "cell_type": "code",
   "execution_count": 143,
   "metadata": {},
   "outputs": [
    {
     "ename": "ERROR",
     "evalue": "Error: Each row of output must be identified by a unique combination of keys.\nKeys are shared for 2430 rows:\n* 75, 485, 628, 742, 1048, 1428, 1482, 1943, 1947, 2252\n* 230, 396, 656, 923, 1100, 1387, 1638, 1855, 2009, 2326\n* 98, 438, 512, 740, 1153, 1425, 1675, 1890, 1963, 2247\n* 54, 410, 707, 885, 1043, 1430, 1579, 1872, 2158, 2236\n* 74, 385, 639, 917, 982, 1374, 1588, 1815, 1957, 2330\n* 225, 405, 692, 736, 1109, 1285, 1672, 1713, 1998, 2251\n* 235, 443, 563, 815, 1130, 1424, 1625, 1707, 2144, 2309\n* 239, 439, 721, 846, 997, 1218, 1615, 1710, 2084, 2262\n* 133, 280, 678, 958, 1124, 1396, 1591, 1895, 1994, 2215\n* 48, 348, 608, 877, 976, 1266, 1506, 1917, 2110, 2424\n* 192, 306, 580, 881, 1015, 1332, 1503, 1937, 2159, 2237\n* 186, 328, 576, 968, 1203, 1239, 1663, 1728, 2162, 2250\n* 53, 462, 525, 920, 1173, 1381, 1562, 1935, 2093, 2416\n* 228, 444, 675, 768, 1000, 1403, 1574, 1777, 1950, 2372\n* 197, 324, 526, 926, 1110, 1448, 1656, 1818, 2175, 2193\n* 97, 315, 582, 797, 1148, 1280, 1519, 1789, 2106, 2272\n* 2, 281, 726, 945, 1031, 1408, 1470, 1909, 2058, 2369\n* 93, 249, 594, 790, 1172, 1438, 1495, 1748, 1982, 2188\n* 218, 450, 598, 940, 1206, 1341, 1464, 1885, 2160, 2191\n* 72, 350, 619, 838, 1135, 1340, 1501, 1838, 2064, 2344\n* 223, 474, 557, 843, 1054, 1404, 1669, 1930, 2020, 2298\n* 155, 356, 669, 801, 1067, 1359, 1557, 1878, 2029, 2364\n* 165, 378, 612, 942, 1053, 1447, 1634, 1829, 2136, 2398\n* 198, 358, 554, 780, 1197, 1329, 1677, 1889, 2137, 2192\n* 163, 310, 491, 834, 1089, 1451, 1609, 1919, 2012, 2206\n* 123, 364, 565, 857, 986, 1258, 1534, 1841, 2052, 2212\n* 169, 448, 518, 761, 1171, 1268, 1561, 1740, 2035, 2358\n* 234, 271, 585, 906, 1179, 1327, 1479, 1732, 2054, 2365\n* 76, 429, 587, 950, 1146, 1347, 1623, 1944, 2047, 2220\n* 214, 294, 712, 863, 1114, 1225, 1530, 1720, 2000, 2332\n* 34, 300, 579, 943, 1081, 1392, 1466, 1846, 2056, 2239\n* 238, 259, 710, 935, 1098, 1227, 1585, 1796, 2082, 2217\n* 5, 276, 531, 731, 975, 1409, 1596, 1901, 2014, 2276\n* 172, 435, 729, 763, 1164, 1265, 1497, 1823, 2135, 2393\n* 220, 437, 581, 896, 1012, 1455, 1618, 1708, 2092, 2425\n* 58, 335, 542, 747, 1116, 1338, 1569, 1907, 2001, 2282\n* 70, 360, 504, 749, 1145, 1364, 1577, 1733, 2141, 2349\n* 51, 480, 539, 794, 1023, 1240, 1490, 1763, 2177, 2388\n* 110, 255, 497, 886, 1134, 1326, 1691, 1768, 1989, 2297\n* 32, 408, 577, 934, 1131, 1363, 1681, 1931, 2002, 2399\n* 83, 436, 624, 777, 1058, 1235, 1635, 1827, 2124, 2397\n* 215, 264, 657, 955, 1193, 1321, 1461, 1902, 2044, 2428\n* 242, 298, 694, 798, 1111, 1427, 1527, 1750, 2128, 2361\n* 164, 273, 544, 833, 1068, 1394, 1535, 1801, 2017, 2281\n* 14, 275, 543, 827, 1036, 1457, 1505, 1787, 1948, 2260\n* 94, 407, 681, 903, 1021, 1369, 1621, 1731, 2101, 2390\n* 226, 355, 604, 847, 1092, 1273, 1601, 1831, 2085, 2288\n* 10, 469, 500, 743, 1207, 1251, 1554, 1876, 2150, 2383\n* 233, 266, 494, 760, 1071, 1367, 1661, 1762, 2112, 2203\n* 35, 413, 490, 932, 1093, 1398, 1683, 1839, 2090, 2189\n* 222, 371, 698, 852, 1191, 1355, 1518, 1883, 2119, 2323\n* 81, 394, 672, 963, 1163, 1397, 1593, 1711, 2042, 2384\n* 1, 463, 588, 872, 1045, 1277, 1480, 1848, 1951, 2240\n* 47, 472, 609, 888, 1075, 1365, 1493, 1721, 1966, 2357\n* 50, 320, 724, 809, 1013, 1445, 1489, 1914, 2050, 2253\n* 119, 393, 714, 737, 996, 1351, 1545, 1702, 2034, 2373\n* 31, 256, 564, 762, 1210, 1222, 1605, 1786, 1962, 2301\n* 80, 318, 553, 805, 1195, 1339, 1649, 1802, 1997, 2410\n* 111, 260, 613, 914, 1208, 1436, 1552, 1726, 2104, 2232\n* 77, 427, 727, 730, 1001, 1372, 1660, 1929, 2015, 2401\n* 141, 327, 552, 788, 989, 1386, 1695, 1875, 2108, 2342\n* 227, 361, 634, 855, 981, 1416, 1567, 1906, 2006, 2382\n* 159, 314, 533, 817, 1147, 1322, 1701, 1773, 1978, 2263\n* 146, 274, 509, 919, 1007, 1297, 1668, 1927, 1971, 2324\n* 205, 289, 537, 938, 1073, 1294, 1652, 1847, 2111, 2338\n* 109, 430, 646, 887, 1065, 1319, 1598, 1870, 2146, 2264\n* 9, 395, 640, 770, 1062, 1439, 1616, 1745, 2170, 2290\n* 181, 291, 560, 959, 1183, 1290, 1682, 1722, 1958, 2343\n* 170, 411, 584, 848, 1082, 1295, 1688, 1849, 2182, 2280\n* 140, 245, 701, 874, 1017, 1356, 1496, 1706, 1990, 2293\n* 104, 382, 626, 836, 1056, 1301, 1526, 1743, 2027, 2195\n* 124, 402, 601, 969, 1150, 1344, 1536, 1709, 2149, 2201\n* 152, 322, 661, 835, 1168, 1229, 1543, 1938, 1983, 2190\n* 195, 464, 671, 878, 1050, 1335, 1502, 1739, 2026, 2336\n* 217, 460, 716, 951, 1194, 1400, 1678, 1764, 2005, 2229\n* 16, 397, 700, 948, 1177, 1379, 1680, 1874, 2081, 2216\n* 92, 247, 499, 832, 1061, 1366, 1548, 1809, 2116, 2366\n* 105, 468, 540, 782, 1186, 1257, 1517, 1716, 2019, 2355\n* 193, 277, 506, 803, 1070, 1250, 1626, 1769, 2083, 2285\n* 168, 381, 529, 822, 1122, 1418, 1584, 1915, 2032, 2400\n* 201, 366, 685, 829, 1063, 1343, 1589, 1886, 2021, 2208\n* 208, 354, 623, 754, 1008, 1442, 1556, 1820, 2095, 2275\n* 103, 345, 665, 821, 1158, 1231, 1540, 1738, 1973, 2207\n* 157, 386, 711, 758, 1143, 1353, 1662, 1837, 2145, 2226\n* 66, 316, 516, 902, 1144, 1262, 1559, 1775, 2163, 2415\n* 131, 434, 528, 840, 1055, 1249, 1478, 1893, 1955, 2407\n* 200, 349, 515, 751, 1200, 1309, 1697, 1866, 2043, 2346\n* 36, 325, 636, 939, 974, 1315, 1700, 1812, 2103, 2234\n* 153, 389, 559, 924, 1127, 1419, 1643, 1904, 2033, 2317\n* 23, 375, 660, 784, 1094, 1334, 1645, 1882, 2121, 2348\n* 26, 373, 629, 889, 1099, 1361, 1624, 1776, 2004, 2374\n* 108, 367, 705, 859, 1184, 1357, 1630, 1771, 2037, 2422\n* 43, 287, 488, 927, 990, 1314, 1553, 1851, 2041, 2227\n* 130, 296, 527, 789, 1182, 1243, 1687, 1873, 1972, 2391\n* 22, 309, 687, 793, 991, 1358, 1512, 1934, 1981, 2270\n* 126, 338, 651, 864, 1064, 1307, 1520, 1755, 2180, 2315\n* 127, 423, 702, 806, 1030, 1261, 1510, 1790, 2140, 2316\n* 67, 471, 666, 884, 995, 1376, 1538, 1928, 2102, 2403\n* 88, 422, 719, 918, 1077, 1413, 1578, 1939, 2040, 2405\n* 189, 352, 668, 966, 1019, 1453, 1522, 1817, 2174, 2341\n* 196, 372, 517, 823, 1140, 1248, 1515, 1877, 2046, 2414\n* 33, 329, 680, 774, 1121, 1219, 1504, 1795, 2167, 2325\n* 87, 461, 568, 738, 1212, 1352, 1532, 1916, 2120, 2307\n* 116, 390, 545, 911, 1074, 1281, 1485, 1894, 2099, 2283\n* 184, 303, 683, 972, 1166, 1234, 1463, 1792, 2060, 2333\n* 243, 446, 595, 899, 1187, 1437, 1587, 1835, 2105, 2296\n* 19, 269, 691, 953, 1059, 1313, 1693, 1717, 1970, 2249\n* 21, 482, 617, 915, 1032, 1220, 1686, 1774, 1945, 2279\n* 162, 272, 689, 894, 1027, 1306, 1514, 1868, 1979, 2356\n* 211, 267, 510, 779, 1196, 1236, 1659, 1860, 2025, 2243\n* 78, 293, 503, 802, 988, 1407, 1494, 1808, 2122, 2347\n* 236, 483, 569, 752, 1107, 1316, 1488, 1753, 1953, 2225\n* 112, 380, 684, 961, 1079, 1389, 1603, 1942, 2007, 2379\n* 61, 326, 644, 891, 1180, 1330, 1469, 1756, 2038, 2375\n* 151, 331, 602, 861, 1037, 1371, 1673, 1821, 2096, 2291\n* 147, 481, 696, 967, 1201, 1384, 1467, 1804, 2078, 2345\n* 148, 456, 633, 778, 977, 1390, 1586, 1924, 2011, 2421\n* 156, 317, 603, 837, 1038, 1303, 1570, 1742, 2171, 2202\n* 173, 442, 652, 732, 1113, 1264, 1575, 1714, 2067, 2267\n* 107, 419, 493, 900, 1189, 1378, 1666, 1705, 1952, 2248\n* 191, 365, 492, 962, 1035, 1269, 1699, 1864, 2030, 2241\n* 207, 279, 615, 956, 1026, 1228, 1555, 1861, 2076, 2402\n* 102, 312, 631, 775, 1046, 1348, 1551, 1749, 2139, 2331\n* 203, 334, 679, 825, 1112, 1440, 1658, 1933, 1976, 2318\n* 120, 339, 667, 748, 1157, 1411, 1647, 1897, 2049, 2321\n* 57, 441, 682, 842, 1136, 1336, 1650, 1859, 1988, 2313\n* 237, 262, 571, 739, 1095, 1310, 1690, 1858, 2184, 2287\n* 176, 399, 605, 913, 1096, 1233, 1486, 1800, 2172, 2221\n* 158, 421, 550, 851, 1088, 1311, 1468, 1887, 2118, 2223\n* 161, 484, 664, 819, 1159, 1375, 1655, 1741, 2051, 2377\n* 183, 376, 676, 883, 1169, 1283, 1614, 1912, 2013, 2310\n* 25, 282, 625, 965, 1039, 1421, 1597, 1903, 2156, 2271\n* 182, 332, 606, 735, 1072, 1292, 1531, 1784, 2039, 2242\n* 129, 357, 638, 733, 1003, 1325, 1499, 1766, 2069, 2376\n* 60, 369, 699, 826, 1162, 1446, 1565, 1765, 1949, 2371\n* 42, 401, 593, 944, 998, 1226, 1671, 1853, 2134, 2387\n* 202, 319, 693, 796, 1139, 1383, 1513, 1798, 2003, 2381\n* 17, 387, 521, 799, 1041, 1405, 1528, 1793, 2071, 2266\n* 7, 370, 637, 879, 1188, 1298, 1571, 1867, 1965, 2299\n* 231, 278, 590, 867, 1097, 1410, 1667, 1712, 2143, 2396\n* 219, 286, 583, 773, 1091, 1328, 1653, 1880, 2164, 2265\n* 114, 415, 502, 766, 1137, 1417, 1546, 1892, 2126, 2222\n* 91, 321, 556, 804, 983, 1293, 1460, 1783, 2087, 2277\n* 199, 398, 641, 781, 1057, 1333, 1644, 1911, 2072, 2362\n* 229, 455, 570, 786, 1185, 1232, 1592, 1806, 2166, 2292\n* 15, 251, 505, 769, 1120, 1441, 1694, 1850, 2186, 2430\n* 69, 340, 555, 807, 1129, 1368, 1665, 1788, 2068, 2233\n* 44, 403, 591, 791, 1102, 1414, 1509, 1899, 1991, 2353\n* 134, 284, 670, 947, 1142, 1286, 1692, 1905, 2152, 2259\n* 212, 418, 575, 870, 1010, 1245, 1521, 1941, 2080, 2261\n* 150, 253, 519, 787, 1123, 1354, 1564, 1879, 2114, 2245\n* 90, 290, 599, 785, 1022, 1300, 1581, 1803, 2179, 2278\n* 206, 391, 677, 957, 984, 1278, 1462, 1797, 1993, 2334\n* 3, 451, 627, 810, 1014, 1296, 1544, 1759, 2181, 2360\n* 190, 351, 616, 936, 1160, 1385, 1511, 1881, 2148, 2228\n* 41, 295, 495, 841, 1033, 1238, 1481, 1891, 2094, 2268\n* 6, 333, 630, 904, 1161, 1350, 1560, 1725, 2115, 2412\n* 224, 304, 572, 928, 1006, 1276, 1594, 1758, 2089, 2196\n* 240, 374, 600, 767, 1118, 1247, 1685, 1920, 2131, 2269\n* 145, 368, 718, 858, 1018, 1382, 1523, 1761, 2010, 2197\n* 20, 449, 548, 856, 1028, 1282, 1646, 1828, 1959, 2327\n* 89, 476, 674, 882, 1069, 1393, 1533, 1888, 2048, 2426\n* 106, 258, 574, 746, 1085, 1444, 1627, 1926, 1992, 2427\n* 30, 417, 655, 892, 1005, 1331, 1679, 1744, 1975, 2359\n* 39, 301, 650, 808, 1016, 1260, 1607, 1854, 2036, 2204\n* 12, 479, 513, 812, 1151, 1274, 1566, 1845, 2130, 2209\n* 135, 268, 722, 765, 1105, 1217, 1651, 1746, 2133, 2231\n* 138, 362, 642, 971, 1141, 1449, 1648, 1932, 1961, 2214\n* 194, 465, 586, 839, 1152, 1246, 1539, 1735, 1986, 2408\n* 64, 330, 592, 909, 1083, 1308, 1620, 1734, 1984, 2328\n* 179, 445, 535, 890, 1215, 1275, 1670, 1862, 2016, 2258\n* 232, 453, 522, 916, 1154, 1450, 1608, 1785, 2157, 2235\n* 175, 250, 487, 830, 1044, 1345, 1611, 1918, 1960, 2419\n* 180, 486, 690, 931, 1084, 1216, 1529, 1760, 2153, 2311\n* 4, 302, 541, 933, 1090, 1242, 1484, 1736, 2147, 2351\n* 121, 433, 697, 818, 1170, 1224, 1550, 1830, 2176, 2340\n* 82, 458, 489, 905, 1133, 1452, 1558, 1791, 2055, 2210\n* 187, 307, 703, 845, 1087, 1324, 1576, 1898, 1987, 2417\n* 122, 470, 549, 893, 1002, 1270, 1476, 1900, 1974, 2303\n* 63, 359, 663, 873, 1052, 1431, 1674, 1852, 1964, 2205\n* 40, 244, 597, 862, 1174, 1435, 1492, 1819, 2169, 2302\n* 115, 454, 618, 854, 1080, 1346, 1610, 1730, 2117, 2337\n* 177, 473, 723, 907, 994, 1380, 1582, 1724, 2031, 2320\n* 118, 297, 558, 820, 1175, 1312, 1583, 1778, 2142, 2304\n* 154, 467, 653, 816, 1024, 1263, 1599, 1805, 2097, 2284\n* 178, 475, 673, 937, 1176, 1302, 1622, 1825, 1977, 2256\n* 27, 384, 523, 860, 1128, 1401, 1602, 1811, 2028, 2198\n* 45, 426, 643, 800, 1106, 1399, 1498, 1922, 2018, 2411\n* 85, 431, 561, 866, 1117, 1388, 1483, 1813, 2008, 2255\n* 79, 263, 728, 908, 1165, 1426, 1580, 1863, 2168, 2289\n* 209, 305, 532, 750, 1004, 1323, 1654, 1737, 2173, 2319\n* 132, 265, 530, 941, 1198, 1284, 1516, 1814, 2161, 2418\n* 84, 404, 658, 772, 1192, 1272, 1573, 1844, 2023, 2273\n* 174, 336, 610, 930, 1025, 1256, 1568, 1703, 2066, 2392\n* 136, 341, 662, 771, 1040, 1391, 1547, 1781, 2024, 2322\n* 137, 466, 507, 912, 1115, 1415, 1595, 1747, 2077, 2350\n* 28, 412, 635, 734, 1126, 1318, 1631, 1908, 2022, 2367\n* 55, 346, 498, 868, 1213, 1223, 1487, 1757, 2123, 2395\n* 166, 257, 538, 776, 1042, 1253, 1642, 1807, 2185, 2329\n* 56, 478, 573, 741, 993, 1454, 1628, 1856, 1954, 2200\n* 11, 432, 534, 759, 1049, 1244, 1632, 1925, 1995, 2404\n* 38, 383, 566, 745, 973, 1317, 1664, 1936, 2109, 2219\n* 149, 379, 536, 828, 1156, 1395, 1572, 1826, 1946, 2409\n* 59, 347, 514, 756, 1125, 1429, 1641, 1923, 2073, 2295\n* 117, 292, 645, 871, 987, 1237, 1640, 1896, 2045, 2274\n* 71, 428, 611, 783, 1178, 1402, 1629, 1842, 1956, 2394\n* 144, 392, 648, 795, 1078, 1255, 1477, 1843, 2113, 2286\n* 113, 377, 562, 813, 1051, 1230, 1637, 1910, 2079, 2429\n* 216, 406, 508, 910, 992, 1373, 1619, 1779, 1968, 2224\n* 213, 425, 596, 865, 1086, 1370, 1541, 1832, 2088, 2238\n* 96, 400, 713, 970, 1214, 1406, 1473, 1857, 2107, 2386\n* 185, 323, 649, 831, 1155, 1377, 1472, 1751, 2138, 2335\n* 62, 447, 578, 901, 1108, 1320, 1606, 1865, 1999, 2306\n* 100, 344, 688, 755, 1060, 1422, 1657, 1913, 2059, 2314\n* 101, 254, 607, 946, 1202, 1433, 1508, 1833, 1969, 2312\n* 221, 283, 621, 960, 978, 1342, 1465, 1719, 2132, 2389\n* 49, 308, 614, 792, 1205, 1287, 1676, 1810, 1967, 2305\n* 86, 452, 547, 850, 1020, 1289, 1524, 1822, 2183, 2300\n* 24, 388, 589, 897, 1047, 1432, 1549, 1729, 2086, 2194\n* 52, 457, 706, 949, 1009, 1252, 1563, 1824, 1996, 2352\n* 171, 252, 620, 875, 1103, 1458, 1500, 1723, 2125, 2254\n* 37, 409, 551, 876, 1167, 1254, 1613, 1752, 2151, 2370\n* 125, 424, 520, 744, 980, 1434, 1612, 1718, 2070, 2244\n* 99, 414, 654, 814, 1101, 1291, 1471, 1884, 2061, 2246\n* 128, 342, 496, 964, 1190, 1221, 1537, 1727, 2057, 2294\n* 65, 299, 725, 849, 999, 1349, 1475, 1782, 2154, 2368\n* 13, 261, 709, 929, 1076, 1259, 1491, 1799, 2063, 2378\n* 73, 288, 632, 898, 979, 1299, 1689, 1816, 2098, 2406\n* 241, 416, 695, 753, 985, 1267, 1617, 1940, 2178, 2230\n* 29, 285, 659, 922, 1211, 1456, 1604, 1836, 2074, 2385\n* 160, 420, 501, 954, 1132, 1279, 1590, 1780, 2091, 2380\n* 142, 313, 704, 811, 1199, 1241, 1636, 1772, 2100, 2211\n* 167, 353, 715, 869, 1119, 1362, 1639, 1770, 2075, 2354\n* 210, 337, 647, 757, 1209, 1271, 1633, 1715, 2129, 2213\n* 18, 477, 717, 895, 1011, 1423, 1525, 1767, 2127, 2257\n* 46, 459, 708, 764, 1034, 1420, 1542, 1754, 2187, 2363\n* 139, 246, 686, 880, 1138, 1412, 1507, 1840, 2165, 2420\n* 8, 248, 546, 921, 1204, 1304, 1696, 1921, 2155, 2339\n* 188, 440, 567, 952, 1066, 1360, 1684, 1871, 2065, 2199\n* 95, 311, 622, 844, 1181, 1443, 1459, 1794, 2062, 2423\n* 68, 270, 524, 853, 1149, 1337, 1698, 1704, 2053, 2218\n* 143, 343, 720, 925, 1104, 1305, 1474, 1869, 1985, 2308\n* 204, 363, 511, 824, 1029, 1288, 1600, 1834, 1980, 2413\n\n",
     "output_type": "error",
     "traceback": [
      "Error: Each row of output must be identified by a unique combination of keys.\nKeys are shared for 2430 rows:\n* 75, 485, 628, 742, 1048, 1428, 1482, 1943, 1947, 2252\n* 230, 396, 656, 923, 1100, 1387, 1638, 1855, 2009, 2326\n* 98, 438, 512, 740, 1153, 1425, 1675, 1890, 1963, 2247\n* 54, 410, 707, 885, 1043, 1430, 1579, 1872, 2158, 2236\n* 74, 385, 639, 917, 982, 1374, 1588, 1815, 1957, 2330\n* 225, 405, 692, 736, 1109, 1285, 1672, 1713, 1998, 2251\n* 235, 443, 563, 815, 1130, 1424, 1625, 1707, 2144, 2309\n* 239, 439, 721, 846, 997, 1218, 1615, 1710, 2084, 2262\n* 133, 280, 678, 958, 1124, 1396, 1591, 1895, 1994, 2215\n* 48, 348, 608, 877, 976, 1266, 1506, 1917, 2110, 2424\n* 192, 306, 580, 881, 1015, 1332, 1503, 1937, 2159, 2237\n* 186, 328, 576, 968, 1203, 1239, 1663, 1728, 2162, 2250\n* 53, 462, 525, 920, 1173, 1381, 1562, 1935, 2093, 2416\n* 228, 444, 675, 768, 1000, 1403, 1574, 1777, 1950, 2372\n* 197, 324, 526, 926, 1110, 1448, 1656, 1818, 2175, 2193\n* 97, 315, 582, 797, 1148, 1280, 1519, 1789, 2106, 2272\n* 2, 281, 726, 945, 1031, 1408, 1470, 1909, 2058, 2369\n* 93, 249, 594, 790, 1172, 1438, 1495, 1748, 1982, 2188\n* 218, 450, 598, 940, 1206, 1341, 1464, 1885, 2160, 2191\n* 72, 350, 619, 838, 1135, 1340, 1501, 1838, 2064, 2344\n* 223, 474, 557, 843, 1054, 1404, 1669, 1930, 2020, 2298\n* 155, 356, 669, 801, 1067, 1359, 1557, 1878, 2029, 2364\n* 165, 378, 612, 942, 1053, 1447, 1634, 1829, 2136, 2398\n* 198, 358, 554, 780, 1197, 1329, 1677, 1889, 2137, 2192\n* 163, 310, 491, 834, 1089, 1451, 1609, 1919, 2012, 2206\n* 123, 364, 565, 857, 986, 1258, 1534, 1841, 2052, 2212\n* 169, 448, 518, 761, 1171, 1268, 1561, 1740, 2035, 2358\n* 234, 271, 585, 906, 1179, 1327, 1479, 1732, 2054, 2365\n* 76, 429, 587, 950, 1146, 1347, 1623, 1944, 2047, 2220\n* 214, 294, 712, 863, 1114, 1225, 1530, 1720, 2000, 2332\n* 34, 300, 579, 943, 1081, 1392, 1466, 1846, 2056, 2239\n* 238, 259, 710, 935, 1098, 1227, 1585, 1796, 2082, 2217\n* 5, 276, 531, 731, 975, 1409, 1596, 1901, 2014, 2276\n* 172, 435, 729, 763, 1164, 1265, 1497, 1823, 2135, 2393\n* 220, 437, 581, 896, 1012, 1455, 1618, 1708, 2092, 2425\n* 58, 335, 542, 747, 1116, 1338, 1569, 1907, 2001, 2282\n* 70, 360, 504, 749, 1145, 1364, 1577, 1733, 2141, 2349\n* 51, 480, 539, 794, 1023, 1240, 1490, 1763, 2177, 2388\n* 110, 255, 497, 886, 1134, 1326, 1691, 1768, 1989, 2297\n* 32, 408, 577, 934, 1131, 1363, 1681, 1931, 2002, 2399\n* 83, 436, 624, 777, 1058, 1235, 1635, 1827, 2124, 2397\n* 215, 264, 657, 955, 1193, 1321, 1461, 1902, 2044, 2428\n* 242, 298, 694, 798, 1111, 1427, 1527, 1750, 2128, 2361\n* 164, 273, 544, 833, 1068, 1394, 1535, 1801, 2017, 2281\n* 14, 275, 543, 827, 1036, 1457, 1505, 1787, 1948, 2260\n* 94, 407, 681, 903, 1021, 1369, 1621, 1731, 2101, 2390\n* 226, 355, 604, 847, 1092, 1273, 1601, 1831, 2085, 2288\n* 10, 469, 500, 743, 1207, 1251, 1554, 1876, 2150, 2383\n* 233, 266, 494, 760, 1071, 1367, 1661, 1762, 2112, 2203\n* 35, 413, 490, 932, 1093, 1398, 1683, 1839, 2090, 2189\n* 222, 371, 698, 852, 1191, 1355, 1518, 1883, 2119, 2323\n* 81, 394, 672, 963, 1163, 1397, 1593, 1711, 2042, 2384\n* 1, 463, 588, 872, 1045, 1277, 1480, 1848, 1951, 2240\n* 47, 472, 609, 888, 1075, 1365, 1493, 1721, 1966, 2357\n* 50, 320, 724, 809, 1013, 1445, 1489, 1914, 2050, 2253\n* 119, 393, 714, 737, 996, 1351, 1545, 1702, 2034, 2373\n* 31, 256, 564, 762, 1210, 1222, 1605, 1786, 1962, 2301\n* 80, 318, 553, 805, 1195, 1339, 1649, 1802, 1997, 2410\n* 111, 260, 613, 914, 1208, 1436, 1552, 1726, 2104, 2232\n* 77, 427, 727, 730, 1001, 1372, 1660, 1929, 2015, 2401\n* 141, 327, 552, 788, 989, 1386, 1695, 1875, 2108, 2342\n* 227, 361, 634, 855, 981, 1416, 1567, 1906, 2006, 2382\n* 159, 314, 533, 817, 1147, 1322, 1701, 1773, 1978, 2263\n* 146, 274, 509, 919, 1007, 1297, 1668, 1927, 1971, 2324\n* 205, 289, 537, 938, 1073, 1294, 1652, 1847, 2111, 2338\n* 109, 430, 646, 887, 1065, 1319, 1598, 1870, 2146, 2264\n* 9, 395, 640, 770, 1062, 1439, 1616, 1745, 2170, 2290\n* 181, 291, 560, 959, 1183, 1290, 1682, 1722, 1958, 2343\n* 170, 411, 584, 848, 1082, 1295, 1688, 1849, 2182, 2280\n* 140, 245, 701, 874, 1017, 1356, 1496, 1706, 1990, 2293\n* 104, 382, 626, 836, 1056, 1301, 1526, 1743, 2027, 2195\n* 124, 402, 601, 969, 1150, 1344, 1536, 1709, 2149, 2201\n* 152, 322, 661, 835, 1168, 1229, 1543, 1938, 1983, 2190\n* 195, 464, 671, 878, 1050, 1335, 1502, 1739, 2026, 2336\n* 217, 460, 716, 951, 1194, 1400, 1678, 1764, 2005, 2229\n* 16, 397, 700, 948, 1177, 1379, 1680, 1874, 2081, 2216\n* 92, 247, 499, 832, 1061, 1366, 1548, 1809, 2116, 2366\n* 105, 468, 540, 782, 1186, 1257, 1517, 1716, 2019, 2355\n* 193, 277, 506, 803, 1070, 1250, 1626, 1769, 2083, 2285\n* 168, 381, 529, 822, 1122, 1418, 1584, 1915, 2032, 2400\n* 201, 366, 685, 829, 1063, 1343, 1589, 1886, 2021, 2208\n* 208, 354, 623, 754, 1008, 1442, 1556, 1820, 2095, 2275\n* 103, 345, 665, 821, 1158, 1231, 1540, 1738, 1973, 2207\n* 157, 386, 711, 758, 1143, 1353, 1662, 1837, 2145, 2226\n* 66, 316, 516, 902, 1144, 1262, 1559, 1775, 2163, 2415\n* 131, 434, 528, 840, 1055, 1249, 1478, 1893, 1955, 2407\n* 200, 349, 515, 751, 1200, 1309, 1697, 1866, 2043, 2346\n* 36, 325, 636, 939, 974, 1315, 1700, 1812, 2103, 2234\n* 153, 389, 559, 924, 1127, 1419, 1643, 1904, 2033, 2317\n* 23, 375, 660, 784, 1094, 1334, 1645, 1882, 2121, 2348\n* 26, 373, 629, 889, 1099, 1361, 1624, 1776, 2004, 2374\n* 108, 367, 705, 859, 1184, 1357, 1630, 1771, 2037, 2422\n* 43, 287, 488, 927, 990, 1314, 1553, 1851, 2041, 2227\n* 130, 296, 527, 789, 1182, 1243, 1687, 1873, 1972, 2391\n* 22, 309, 687, 793, 991, 1358, 1512, 1934, 1981, 2270\n* 126, 338, 651, 864, 1064, 1307, 1520, 1755, 2180, 2315\n* 127, 423, 702, 806, 1030, 1261, 1510, 1790, 2140, 2316\n* 67, 471, 666, 884, 995, 1376, 1538, 1928, 2102, 2403\n* 88, 422, 719, 918, 1077, 1413, 1578, 1939, 2040, 2405\n* 189, 352, 668, 966, 1019, 1453, 1522, 1817, 2174, 2341\n* 196, 372, 517, 823, 1140, 1248, 1515, 1877, 2046, 2414\n* 33, 329, 680, 774, 1121, 1219, 1504, 1795, 2167, 2325\n* 87, 461, 568, 738, 1212, 1352, 1532, 1916, 2120, 2307\n* 116, 390, 545, 911, 1074, 1281, 1485, 1894, 2099, 2283\n* 184, 303, 683, 972, 1166, 1234, 1463, 1792, 2060, 2333\n* 243, 446, 595, 899, 1187, 1437, 1587, 1835, 2105, 2296\n* 19, 269, 691, 953, 1059, 1313, 1693, 1717, 1970, 2249\n* 21, 482, 617, 915, 1032, 1220, 1686, 1774, 1945, 2279\n* 162, 272, 689, 894, 1027, 1306, 1514, 1868, 1979, 2356\n* 211, 267, 510, 779, 1196, 1236, 1659, 1860, 2025, 2243\n* 78, 293, 503, 802, 988, 1407, 1494, 1808, 2122, 2347\n* 236, 483, 569, 752, 1107, 1316, 1488, 1753, 1953, 2225\n* 112, 380, 684, 961, 1079, 1389, 1603, 1942, 2007, 2379\n* 61, 326, 644, 891, 1180, 1330, 1469, 1756, 2038, 2375\n* 151, 331, 602, 861, 1037, 1371, 1673, 1821, 2096, 2291\n* 147, 481, 696, 967, 1201, 1384, 1467, 1804, 2078, 2345\n* 148, 456, 633, 778, 977, 1390, 1586, 1924, 2011, 2421\n* 156, 317, 603, 837, 1038, 1303, 1570, 1742, 2171, 2202\n* 173, 442, 652, 732, 1113, 1264, 1575, 1714, 2067, 2267\n* 107, 419, 493, 900, 1189, 1378, 1666, 1705, 1952, 2248\n* 191, 365, 492, 962, 1035, 1269, 1699, 1864, 2030, 2241\n* 207, 279, 615, 956, 1026, 1228, 1555, 1861, 2076, 2402\n* 102, 312, 631, 775, 1046, 1348, 1551, 1749, 2139, 2331\n* 203, 334, 679, 825, 1112, 1440, 1658, 1933, 1976, 2318\n* 120, 339, 667, 748, 1157, 1411, 1647, 1897, 2049, 2321\n* 57, 441, 682, 842, 1136, 1336, 1650, 1859, 1988, 2313\n* 237, 262, 571, 739, 1095, 1310, 1690, 1858, 2184, 2287\n* 176, 399, 605, 913, 1096, 1233, 1486, 1800, 2172, 2221\n* 158, 421, 550, 851, 1088, 1311, 1468, 1887, 2118, 2223\n* 161, 484, 664, 819, 1159, 1375, 1655, 1741, 2051, 2377\n* 183, 376, 676, 883, 1169, 1283, 1614, 1912, 2013, 2310\n* 25, 282, 625, 965, 1039, 1421, 1597, 1903, 2156, 2271\n* 182, 332, 606, 735, 1072, 1292, 1531, 1784, 2039, 2242\n* 129, 357, 638, 733, 1003, 1325, 1499, 1766, 2069, 2376\n* 60, 369, 699, 826, 1162, 1446, 1565, 1765, 1949, 2371\n* 42, 401, 593, 944, 998, 1226, 1671, 1853, 2134, 2387\n* 202, 319, 693, 796, 1139, 1383, 1513, 1798, 2003, 2381\n* 17, 387, 521, 799, 1041, 1405, 1528, 1793, 2071, 2266\n* 7, 370, 637, 879, 1188, 1298, 1571, 1867, 1965, 2299\n* 231, 278, 590, 867, 1097, 1410, 1667, 1712, 2143, 2396\n* 219, 286, 583, 773, 1091, 1328, 1653, 1880, 2164, 2265\n* 114, 415, 502, 766, 1137, 1417, 1546, 1892, 2126, 2222\n* 91, 321, 556, 804, 983, 1293, 1460, 1783, 2087, 2277\n* 199, 398, 641, 781, 1057, 1333, 1644, 1911, 2072, 2362\n* 229, 455, 570, 786, 1185, 1232, 1592, 1806, 2166, 2292\n* 15, 251, 505, 769, 1120, 1441, 1694, 1850, 2186, 2430\n* 69, 340, 555, 807, 1129, 1368, 1665, 1788, 2068, 2233\n* 44, 403, 591, 791, 1102, 1414, 1509, 1899, 1991, 2353\n* 134, 284, 670, 947, 1142, 1286, 1692, 1905, 2152, 2259\n* 212, 418, 575, 870, 1010, 1245, 1521, 1941, 2080, 2261\n* 150, 253, 519, 787, 1123, 1354, 1564, 1879, 2114, 2245\n* 90, 290, 599, 785, 1022, 1300, 1581, 1803, 2179, 2278\n* 206, 391, 677, 957, 984, 1278, 1462, 1797, 1993, 2334\n* 3, 451, 627, 810, 1014, 1296, 1544, 1759, 2181, 2360\n* 190, 351, 616, 936, 1160, 1385, 1511, 1881, 2148, 2228\n* 41, 295, 495, 841, 1033, 1238, 1481, 1891, 2094, 2268\n* 6, 333, 630, 904, 1161, 1350, 1560, 1725, 2115, 2412\n* 224, 304, 572, 928, 1006, 1276, 1594, 1758, 2089, 2196\n* 240, 374, 600, 767, 1118, 1247, 1685, 1920, 2131, 2269\n* 145, 368, 718, 858, 1018, 1382, 1523, 1761, 2010, 2197\n* 20, 449, 548, 856, 1028, 1282, 1646, 1828, 1959, 2327\n* 89, 476, 674, 882, 1069, 1393, 1533, 1888, 2048, 2426\n* 106, 258, 574, 746, 1085, 1444, 1627, 1926, 1992, 2427\n* 30, 417, 655, 892, 1005, 1331, 1679, 1744, 1975, 2359\n* 39, 301, 650, 808, 1016, 1260, 1607, 1854, 2036, 2204\n* 12, 479, 513, 812, 1151, 1274, 1566, 1845, 2130, 2209\n* 135, 268, 722, 765, 1105, 1217, 1651, 1746, 2133, 2231\n* 138, 362, 642, 971, 1141, 1449, 1648, 1932, 1961, 2214\n* 194, 465, 586, 839, 1152, 1246, 1539, 1735, 1986, 2408\n* 64, 330, 592, 909, 1083, 1308, 1620, 1734, 1984, 2328\n* 179, 445, 535, 890, 1215, 1275, 1670, 1862, 2016, 2258\n* 232, 453, 522, 916, 1154, 1450, 1608, 1785, 2157, 2235\n* 175, 250, 487, 830, 1044, 1345, 1611, 1918, 1960, 2419\n* 180, 486, 690, 931, 1084, 1216, 1529, 1760, 2153, 2311\n* 4, 302, 541, 933, 1090, 1242, 1484, 1736, 2147, 2351\n* 121, 433, 697, 818, 1170, 1224, 1550, 1830, 2176, 2340\n* 82, 458, 489, 905, 1133, 1452, 1558, 1791, 2055, 2210\n* 187, 307, 703, 845, 1087, 1324, 1576, 1898, 1987, 2417\n* 122, 470, 549, 893, 1002, 1270, 1476, 1900, 1974, 2303\n* 63, 359, 663, 873, 1052, 1431, 1674, 1852, 1964, 2205\n* 40, 244, 597, 862, 1174, 1435, 1492, 1819, 2169, 2302\n* 115, 454, 618, 854, 1080, 1346, 1610, 1730, 2117, 2337\n* 177, 473, 723, 907, 994, 1380, 1582, 1724, 2031, 2320\n* 118, 297, 558, 820, 1175, 1312, 1583, 1778, 2142, 2304\n* 154, 467, 653, 816, 1024, 1263, 1599, 1805, 2097, 2284\n* 178, 475, 673, 937, 1176, 1302, 1622, 1825, 1977, 2256\n* 27, 384, 523, 860, 1128, 1401, 1602, 1811, 2028, 2198\n* 45, 426, 643, 800, 1106, 1399, 1498, 1922, 2018, 2411\n* 85, 431, 561, 866, 1117, 1388, 1483, 1813, 2008, 2255\n* 79, 263, 728, 908, 1165, 1426, 1580, 1863, 2168, 2289\n* 209, 305, 532, 750, 1004, 1323, 1654, 1737, 2173, 2319\n* 132, 265, 530, 941, 1198, 1284, 1516, 1814, 2161, 2418\n* 84, 404, 658, 772, 1192, 1272, 1573, 1844, 2023, 2273\n* 174, 336, 610, 930, 1025, 1256, 1568, 1703, 2066, 2392\n* 136, 341, 662, 771, 1040, 1391, 1547, 1781, 2024, 2322\n* 137, 466, 507, 912, 1115, 1415, 1595, 1747, 2077, 2350\n* 28, 412, 635, 734, 1126, 1318, 1631, 1908, 2022, 2367\n* 55, 346, 498, 868, 1213, 1223, 1487, 1757, 2123, 2395\n* 166, 257, 538, 776, 1042, 1253, 1642, 1807, 2185, 2329\n* 56, 478, 573, 741, 993, 1454, 1628, 1856, 1954, 2200\n* 11, 432, 534, 759, 1049, 1244, 1632, 1925, 1995, 2404\n* 38, 383, 566, 745, 973, 1317, 1664, 1936, 2109, 2219\n* 149, 379, 536, 828, 1156, 1395, 1572, 1826, 1946, 2409\n* 59, 347, 514, 756, 1125, 1429, 1641, 1923, 2073, 2295\n* 117, 292, 645, 871, 987, 1237, 1640, 1896, 2045, 2274\n* 71, 428, 611, 783, 1178, 1402, 1629, 1842, 1956, 2394\n* 144, 392, 648, 795, 1078, 1255, 1477, 1843, 2113, 2286\n* 113, 377, 562, 813, 1051, 1230, 1637, 1910, 2079, 2429\n* 216, 406, 508, 910, 992, 1373, 1619, 1779, 1968, 2224\n* 213, 425, 596, 865, 1086, 1370, 1541, 1832, 2088, 2238\n* 96, 400, 713, 970, 1214, 1406, 1473, 1857, 2107, 2386\n* 185, 323, 649, 831, 1155, 1377, 1472, 1751, 2138, 2335\n* 62, 447, 578, 901, 1108, 1320, 1606, 1865, 1999, 2306\n* 100, 344, 688, 755, 1060, 1422, 1657, 1913, 2059, 2314\n* 101, 254, 607, 946, 1202, 1433, 1508, 1833, 1969, 2312\n* 221, 283, 621, 960, 978, 1342, 1465, 1719, 2132, 2389\n* 49, 308, 614, 792, 1205, 1287, 1676, 1810, 1967, 2305\n* 86, 452, 547, 850, 1020, 1289, 1524, 1822, 2183, 2300\n* 24, 388, 589, 897, 1047, 1432, 1549, 1729, 2086, 2194\n* 52, 457, 706, 949, 1009, 1252, 1563, 1824, 1996, 2352\n* 171, 252, 620, 875, 1103, 1458, 1500, 1723, 2125, 2254\n* 37, 409, 551, 876, 1167, 1254, 1613, 1752, 2151, 2370\n* 125, 424, 520, 744, 980, 1434, 1612, 1718, 2070, 2244\n* 99, 414, 654, 814, 1101, 1291, 1471, 1884, 2061, 2246\n* 128, 342, 496, 964, 1190, 1221, 1537, 1727, 2057, 2294\n* 65, 299, 725, 849, 999, 1349, 1475, 1782, 2154, 2368\n* 13, 261, 709, 929, 1076, 1259, 1491, 1799, 2063, 2378\n* 73, 288, 632, 898, 979, 1299, 1689, 1816, 2098, 2406\n* 241, 416, 695, 753, 985, 1267, 1617, 1940, 2178, 2230\n* 29, 285, 659, 922, 1211, 1456, 1604, 1836, 2074, 2385\n* 160, 420, 501, 954, 1132, 1279, 1590, 1780, 2091, 2380\n* 142, 313, 704, 811, 1199, 1241, 1636, 1772, 2100, 2211\n* 167, 353, 715, 869, 1119, 1362, 1639, 1770, 2075, 2354\n* 210, 337, 647, 757, 1209, 1271, 1633, 1715, 2129, 2213\n* 18, 477, 717, 895, 1011, 1423, 1525, 1767, 2127, 2257\n* 46, 459, 708, 764, 1034, 1420, 1542, 1754, 2187, 2363\n* 139, 246, 686, 880, 1138, 1412, 1507, 1840, 2165, 2420\n* 8, 248, 546, 921, 1204, 1304, 1696, 1921, 2155, 2339\n* 188, 440, 567, 952, 1066, 1360, 1684, 1871, 2065, 2199\n* 95, 311, 622, 844, 1181, 1443, 1459, 1794, 2062, 2423\n* 68, 270, 524, 853, 1149, 1337, 1698, 1704, 2053, 2218\n* 143, 343, 720, 925, 1104, 1305, 1474, 1869, 1985, 2308\n* 204, 363, 511, 824, 1029, 1288, 1600, 1834, 1980, 2413\n\nTraceback:\n",
      "1. dissimplot.full(color.eccen.mat(dissimdata.full(testdf, duplicate = FALSE, \n .     symmeterise = FALSE)))",
      "2. ggplot(datadf, aes(x = color1.eccen1, y = color2.eccen2))   # at line 8 of file <text>",
      "3. color.eccen.mat(dissimdata.full(testdf, duplicate = FALSE, symmeterise = FALSE))   # at line 8 of file <text>",
      "4. spread(data, color1.eccen1, similarity)   # at line 9 of file <text>",
      "5. spread.data.frame(data, color1.eccen1, similarity)",
      "6. abort(glue(\"Each row of output must be identified by a unique combination of keys.\", \n .     \"\\nKeys are shared for {shared} rows:\", \"\\n{rows}\"))",
      "7. signal_abort(cnd)"
     ]
    }
   ],
   "source": [
    "testdf <- subset(cleandf, stimulus_radius==1 & peripheral_scale==1)\n",
    "testplot <- dissimplot.full(color.eccen.mat(dissimdata.full(testdf,\n",
    "                                                        duplicate=FALSE,symmeterise=FALSE)))"
   ]
  },
  {
   "cell_type": "code",
   "execution_count": null,
   "metadata": {},
   "outputs": [],
   "source": []
  },
  {
   "cell_type": "markdown",
   "metadata": {},
   "source": [
    "## Plot Stuff"
   ]
  },
  {
   "cell_type": "markdown",
   "metadata": {},
   "source": [
    "### Plot summary of all subjects"
   ]
  },
  {
   "cell_type": "markdown",
   "metadata": {},
   "source": [
    "#### Individual subjects"
   ]
  },
  {
   "cell_type": "code",
   "execution_count": 82,
   "metadata": {},
   "outputs": [],
   "source": [
    "# plot summary data for all the subjects individually\n",
    "allsubjectsplot <- function(datadf,savestr){\n",
    "    \n",
    "    subjectlist <- sort(unique(datadf$subject)) # obtain a list of all the subjects\n",
    "\n",
    "    dir.create(paste(savestr,\"Subject_Plots\",sep='_')) # make a new folder to store the subject plots in\n",
    "\n",
    "    for (subjectid in subjectlist){\n",
    "        print(paste(\"Processing subject:\",subjectid,sep=' '))\n",
    "        subjectplot(datadf, subjectid,savestr)\n",
    "    }\n",
    "}"
   ]
  },
  {
   "cell_type": "code",
   "execution_count": 83,
   "metadata": {},
   "outputs": [],
   "source": [
    "# make a plot of the key summary data for a subject - single trial type version\n",
    "subjectplot <- function(datadf, subjectid,savestr){\n",
    "    \n",
    "    datadf = subset(datadf, subject == subjectid) # select the ID for subject of interest\n",
    "    for (trial_condition in trial_types){\n",
    "            subjectdf = subset(datadf, trial_type == trial_condition) # just pick one trial type at a time\n",
    "    \n",
    "    \n",
    "        if(subjectdf$trial_type[1] != 'after_1'){\n",
    "            FP = TRUE\n",
    "        } else {\n",
    "            FP = FALSE\n",
    "        }\n",
    "\n",
    "        # FF Matrix plot\n",
    "        FFmatrix <- dissimplot(dissimdata(subjectdf, colors, l2e('Foveal'), l2e('Foveal')),colors)\n",
    "\n",
    "\n",
    "\n",
    "        # PP Matrix plot\n",
    "        PPmatrix <- dissimplot(dissimdata(subjectdf, colors, l2e('Peripheral'), l2e('Peripheral')),colors)\n",
    "\n",
    "        # FF CMDS plot\n",
    "        FFcmds <-  cmdsplot(cmdsfit(mat2dist(df2mat(subjectdf,l2e('Foveal'), l2e('Foveal')))), \n",
    "                            abcolors, abcolors, l2e('Foveal'), l2e('Foveal'))\n",
    "\n",
    "\n",
    "\n",
    "        # PP CMDS plot\n",
    "        PPcmds <-  cmdsplot(cmdsfit(mat2dist(df2mat(subjectdf,l2e('Peripheral'), l2e('Peripheral')))), \n",
    "                            abcolors, abcolors, l2e('Peripheral'), l2e('Peripheral'))\n",
    "\n",
    "        # FF nMDS plot\n",
    "        FFnmds <-  nmdsplot(nmdsfit(mat2dist(df2mat(subjectdf,l2e('Foveal'), l2e('Foveal')))), \n",
    "                            abcolors, abcolors, l2e('Foveal'), l2e('Foveal'))\n",
    "\n",
    "\n",
    "\n",
    "        # PP nMDS plot\n",
    "        PPnmds <-  nmdsplot(nmdsfit(mat2dist(df2mat(subjectdf,l2e('Peripheral'), l2e('Peripheral')))), \n",
    "                            abcolors, abcolors, l2e('Peripheral'), l2e('Peripheral'))\n",
    "\n",
    "        # Similarity judgements\n",
    "        simplot <- simhistplot(subjectdf)\n",
    "        # Reaction times\n",
    "        reactionplot <- rsplot(subjectdf)\n",
    "        # summary plot\n",
    "        rainplot <- rsplot_raincloud(subjectdf,'log')\n",
    "\n",
    "        # trace plots\n",
    "        traceplot <- trace_plot(subjectdf)\n",
    "        antiplot <- trace_plot(subjectdf,'antitrace')\n",
    "        differenceplot <- trace_plot(subjectdf,'difference')\n",
    "\n",
    "        # asymmetry plot\n",
    "        asymplot <- asymmetry_plot(subjectdf,l2e('Foveal'),l2e('Foveal'),colors)\n",
    "\n",
    "        # title\n",
    "        if(subjectdf$noncompliant[1]){\n",
    "            title <- textGrob(paste(\"ID:\",as.character(subjectid),\"|\",\"Catch Score:\",catch_score(datadf),\n",
    "                              \"Screen size:\",round(screen_size(subjectdf)/10,1),\"cm\",\n",
    "                              \"Viewing distance:\",round(view_distance(subjectdf)/10,1),\"cm\"),\n",
    "                              gp=gpar(col=\"red\",fontsize=35))\n",
    "        } else {\n",
    "            title <- textGrob(paste(\"ID:\",as.character(subjectid),\"|\",\"Catch Score:\",catch_score(datadf),\n",
    "                              \"Screen size:\",round(screen_size(subjectdf)/10,1),\"cm\",\n",
    "                              \"Viewing distance:\",round(view_distance(subjectdf)/10,1),\"cm\"),\n",
    "                              gp=gpar(col=\"blue\",fontsize=35))\n",
    "        }\n",
    "    \n",
    "        if(FP){\n",
    "\n",
    "            # FP Matrix plot\n",
    "            FPmatrix <- dissimplot(dissimdata(subjectdf, colors, l2e('Foveal'), l2e('Peripheral')),colors)\n",
    "\n",
    "            # FP CMDS plot\n",
    "            FPcmds <-  cmdsplot(cmdsfit(mat2dist(df2mat(subjectdf,l2e('Foveal'), l2e('Peripheral')))), \n",
    "                            abcolors, abcolors, l2e('Foveal'), l2e('Peripheral'))\n",
    "\n",
    "            # FP nMDS plot\n",
    "            FPnmds <-  nmdsplot(nmdsfit(mat2dist(df2mat(subjectdf,l2e('Foveal'), l2e('Peripheral')))), \n",
    "                            abcolors, abcolors, l2e('Foveal'), l2e('Peripheral'))\n",
    "\n",
    "            # put all the plots together\n",
    "            g <- arrangeGrob(FFmatrix, FPmatrix, PPmatrix, simplot,\n",
    "                        FFcmds, FPcmds, PPcmds, reactionplot,\n",
    "                        FFnmds, FPnmds, PPnmds, rainplot,\n",
    "                        traceplot, antiplot, differenceplot, \n",
    "                        nrow = 4, ncol=4, top = title)\n",
    "\n",
    "            exp_type <- trial_condition\n",
    "            ggsave(paste(savestr,\"_Subject_Plots/\",exp_type,\"_ID_\",subjectid,\"_plot.png\",sep=''),\n",
    "                     g, height = 40, width = 40)\n",
    "        } else {\n",
    "            # put all the plots together\n",
    "            g <- arrangeGrob(FFmatrix, PPmatrix, simplot, traceplot,\n",
    "                        FFcmds, PPcmds, reactionplot, antiplot,\n",
    "                        FFnmds, PPnmds, rainplot, \n",
    "                        nrow = 3, ncol=4, top = title)\n",
    "\n",
    "            exp_type <- trial_condition\n",
    "            ggsave(paste(savestr,\"_Subject_Plots/\",exp_type,\"_ID_\",subjectid,\"_plot.png\",\n",
    "                     sep=''),g, height = 30, width = 40)\n",
    "        }\n",
    "    }\n",
    "}"
   ]
  },
  {
   "cell_type": "code",
   "execution_count": 184,
   "metadata": {
    "scrolled": true
   },
   "outputs": [
    {
     "name": "stdout",
     "output_type": "stream",
     "text": [
      "[1] \"Processing subject: 99640956\"\n",
      "initial  value 9.276396 \n",
      "iter   5 value 7.325384\n",
      "iter  10 value 7.203836\n",
      "iter  10 value 7.198301\n",
      "iter  10 value 7.197487\n",
      "final  value 7.197487 \n",
      "converged\n",
      "initial  value 6.671118 \n",
      "iter   5 value 5.261996\n",
      "final  value 5.246469 \n",
      "converged\n"
     ]
    },
    {
     "name": "stderr",
     "output_type": "stream",
     "text": [
      "Scale for 'y' is already present. Adding another scale for 'y', which will\n",
      "replace the existing scale.\n"
     ]
    },
    {
     "name": "stdout",
     "output_type": "stream",
     "text": [
      "initial  value 10.157103 \n",
      "iter   5 value 7.124059\n",
      "iter   5 value 7.121951\n",
      "iter   5 value 7.121448\n",
      "final  value 7.121448 \n",
      "converged\n"
     ]
    },
    {
     "name": "stderr",
     "output_type": "stream",
     "text": [
      "`stat_bindot()` using `bins = 30`. Pick better value with `binwidth`.\n",
      "`stat_bindot()` using `bins = 30`. Pick better value with `binwidth`.\n",
      "`stat_bindot()` using `bins = 30`. Pick better value with `binwidth`.\n"
     ]
    },
    {
     "name": "stdout",
     "output_type": "stream",
     "text": [
      "[1] \"Processing subject: 133207874\"\n",
      "initial  value 13.369375 \n",
      "iter   5 value 9.529546\n",
      "final  value 9.456198 \n",
      "converged\n",
      "initial  value 9.874137 \n",
      "iter   5 value 7.434489\n",
      "iter  10 value 6.775011\n",
      "iter  15 value 5.207787\n",
      "iter  20 value 5.070027\n",
      "iter  20 value 5.066969\n",
      "iter  20 value 5.066113\n",
      "final  value 5.066113 \n",
      "converged\n"
     ]
    },
    {
     "name": "stderr",
     "output_type": "stream",
     "text": [
      "Scale for 'y' is already present. Adding another scale for 'y', which will\n",
      "replace the existing scale.\n"
     ]
    },
    {
     "name": "stdout",
     "output_type": "stream",
     "text": [
      "initial  value 12.651813 \n",
      "iter   5 value 8.919114\n",
      "final  value 8.802303 \n",
      "converged\n"
     ]
    },
    {
     "name": "stderr",
     "output_type": "stream",
     "text": [
      "`stat_bindot()` using `bins = 30`. Pick better value with `binwidth`.\n",
      "`stat_bindot()` using `bins = 30`. Pick better value with `binwidth`.\n",
      "`stat_bindot()` using `bins = 30`. Pick better value with `binwidth`.\n"
     ]
    },
    {
     "name": "stdout",
     "output_type": "stream",
     "text": [
      "[1] \"Processing subject: 176698125\"\n",
      "initial  value 28.526248 \n",
      "iter   5 value 14.928916\n",
      "iter  10 value 8.912166\n",
      "final  value 8.804291 \n",
      "converged\n",
      "initial  value 38.612566 \n",
      "iter   5 value 15.412105\n",
      "final  value 13.786846 \n",
      "converged\n"
     ]
    },
    {
     "name": "stderr",
     "output_type": "stream",
     "text": [
      "Scale for 'y' is already present. Adding another scale for 'y', which will\n",
      "replace the existing scale.\n"
     ]
    },
    {
     "name": "stdout",
     "output_type": "stream",
     "text": [
      "initial  value 32.323878 \n",
      "iter   5 value 23.793532\n",
      "iter  10 value 20.528060\n",
      "iter  15 value 18.450728\n",
      "iter  20 value 18.234636\n",
      "iter  25 value 17.906580\n",
      "final  value 17.840002 \n",
      "converged\n"
     ]
    },
    {
     "name": "stderr",
     "output_type": "stream",
     "text": [
      "`stat_bindot()` using `bins = 30`. Pick better value with `binwidth`.\n",
      "`stat_bindot()` using `bins = 30`. Pick better value with `binwidth`.\n",
      "`stat_bindot()` using `bins = 30`. Pick better value with `binwidth`.\n"
     ]
    },
    {
     "name": "stdout",
     "output_type": "stream",
     "text": [
      "[1] \"Processing subject: 204525930\"\n",
      "initial  value 7.710417 \n",
      "iter   5 value 5.178159\n",
      "final  value 5.150940 \n",
      "converged\n",
      "initial  value 6.708022 \n",
      "iter   5 value 3.703469\n",
      "final  value 3.498202 \n",
      "converged\n"
     ]
    },
    {
     "name": "stderr",
     "output_type": "stream",
     "text": [
      "Scale for 'y' is already present. Adding another scale for 'y', which will\n",
      "replace the existing scale.\n"
     ]
    },
    {
     "name": "stdout",
     "output_type": "stream",
     "text": [
      "initial  value 7.281070 \n",
      "iter   5 value 5.909321\n",
      "final  value 5.890110 \n",
      "converged\n"
     ]
    },
    {
     "name": "stderr",
     "output_type": "stream",
     "text": [
      "`stat_bindot()` using `bins = 30`. Pick better value with `binwidth`.\n",
      "`stat_bindot()` using `bins = 30`. Pick better value with `binwidth`.\n",
      "`stat_bindot()` using `bins = 30`. Pick better value with `binwidth`.\n"
     ]
    },
    {
     "name": "stdout",
     "output_type": "stream",
     "text": [
      "[1] \"Processing subject: 265310712\"\n",
      "initial  value 28.869852 \n",
      "iter   5 value 17.689313\n",
      "final  value 17.222011 \n",
      "converged\n",
      "initial  value 21.957683 \n",
      "iter   5 value 18.229215\n",
      "final  value 18.061142 \n",
      "converged\n"
     ]
    },
    {
     "name": "stderr",
     "output_type": "stream",
     "text": [
      "Scale for 'y' is already present. Adding another scale for 'y', which will\n",
      "replace the existing scale.\n"
     ]
    },
    {
     "name": "stdout",
     "output_type": "stream",
     "text": [
      "initial  value 27.143424 \n",
      "iter   5 value 21.274711\n",
      "iter  10 value 18.515213\n",
      "iter  10 value 18.502932\n",
      "iter  10 value 18.502932\n",
      "final  value 18.502932 \n",
      "converged\n"
     ]
    },
    {
     "name": "stderr",
     "output_type": "stream",
     "text": [
      "`stat_bindot()` using `bins = 30`. Pick better value with `binwidth`.\n",
      "`stat_bindot()` using `bins = 30`. Pick better value with `binwidth`.\n",
      "`stat_bindot()` using `bins = 30`. Pick better value with `binwidth`.\n"
     ]
    },
    {
     "name": "stdout",
     "output_type": "stream",
     "text": [
      "[1] \"Processing subject: 281640697\"\n",
      "initial  value 17.299879 \n",
      "iter   5 value 12.186712\n",
      "final  value 12.150389 \n",
      "converged\n",
      "initial  value 16.615514 \n",
      "iter   5 value 10.540329\n",
      "final  value 10.388478 \n",
      "converged\n"
     ]
    },
    {
     "name": "stderr",
     "output_type": "stream",
     "text": [
      "Scale for 'y' is already present. Adding another scale for 'y', which will\n",
      "replace the existing scale.\n"
     ]
    },
    {
     "name": "stdout",
     "output_type": "stream",
     "text": [
      "initial  value 12.028323 \n",
      "iter   5 value 9.555578\n",
      "final  value 9.525368 \n",
      "converged\n"
     ]
    },
    {
     "name": "stderr",
     "output_type": "stream",
     "text": [
      "`stat_bindot()` using `bins = 30`. Pick better value with `binwidth`.\n",
      "`stat_bindot()` using `bins = 30`. Pick better value with `binwidth`.\n",
      "`stat_bindot()` using `bins = 30`. Pick better value with `binwidth`.\n"
     ]
    },
    {
     "name": "stdout",
     "output_type": "stream",
     "text": [
      "[1] \"Processing subject: 475089391\"\n",
      "initial  value 17.161175 \n",
      "iter   5 value 9.998890\n",
      "iter  10 value 9.564586\n",
      "final  value 9.520915 \n",
      "converged\n",
      "initial  value 15.961226 \n",
      "iter   5 value 8.988723\n",
      "iter  10 value 8.265802\n",
      "final  value 8.245331 \n",
      "converged\n"
     ]
    },
    {
     "name": "stderr",
     "output_type": "stream",
     "text": [
      "Scale for 'y' is already present. Adding another scale for 'y', which will\n",
      "replace the existing scale.\n"
     ]
    },
    {
     "name": "stdout",
     "output_type": "stream",
     "text": [
      "initial  value 11.979670 \n",
      "iter   5 value 8.499101\n",
      "final  value 8.254990 \n",
      "converged\n"
     ]
    },
    {
     "name": "stderr",
     "output_type": "stream",
     "text": [
      "`stat_bindot()` using `bins = 30`. Pick better value with `binwidth`.\n",
      "`stat_bindot()` using `bins = 30`. Pick better value with `binwidth`.\n",
      "`stat_bindot()` using `bins = 30`. Pick better value with `binwidth`.\n"
     ]
    },
    {
     "name": "stdout",
     "output_type": "stream",
     "text": [
      "[1] \"Processing subject: 518373039\"\n",
      "initial  value 15.686401 \n",
      "iter   5 value 11.588644\n",
      "final  value 11.488775 \n",
      "converged\n",
      "initial  value 24.520319 \n",
      "iter   5 value 19.099108\n",
      "iter   5 value 19.083964\n",
      "iter   5 value 19.083964\n",
      "final  value 19.083964 \n",
      "converged\n"
     ]
    },
    {
     "name": "stderr",
     "output_type": "stream",
     "text": [
      "Scale for 'y' is already present. Adding another scale for 'y', which will\n",
      "replace the existing scale.\n"
     ]
    },
    {
     "name": "stdout",
     "output_type": "stream",
     "text": [
      "initial  value 19.993789 \n",
      "iter   5 value 11.716685\n",
      "final  value 11.317109 \n",
      "converged\n"
     ]
    },
    {
     "name": "stderr",
     "output_type": "stream",
     "text": [
      "`stat_bindot()` using `bins = 30`. Pick better value with `binwidth`.\n",
      "`stat_bindot()` using `bins = 30`. Pick better value with `binwidth`.\n",
      "`stat_bindot()` using `bins = 30`. Pick better value with `binwidth`.\n"
     ]
    },
    {
     "name": "stdout",
     "output_type": "stream",
     "text": [
      "[1] \"Processing subject: 789921315\"\n",
      "initial  value 26.013336 \n",
      "iter   5 value 16.703398\n",
      "iter  10 value 8.787402\n",
      "iter  15 value 8.209995\n",
      "iter  15 value 8.207134\n",
      "iter  15 value 8.207132\n",
      "final  value 8.207132 \n",
      "converged\n",
      "initial  value 29.256043 \n",
      "iter   5 value 17.581339\n",
      "iter  10 value 12.301230\n",
      "iter  15 value 10.980823\n",
      "final  value 10.966779 \n",
      "converged\n"
     ]
    },
    {
     "name": "stderr",
     "output_type": "stream",
     "text": [
      "Scale for 'y' is already present. Adding another scale for 'y', which will\n",
      "replace the existing scale.\n"
     ]
    },
    {
     "name": "stdout",
     "output_type": "stream",
     "text": [
      "initial  value 32.625926 \n",
      "final  value 32.625926 \n",
      "converged\n"
     ]
    },
    {
     "name": "stderr",
     "output_type": "stream",
     "text": [
      "`stat_bindot()` using `bins = 30`. Pick better value with `binwidth`.\n",
      "`stat_bindot()` using `bins = 30`. Pick better value with `binwidth`.\n",
      "`stat_bindot()` using `bins = 30`. Pick better value with `binwidth`.\n"
     ]
    },
    {
     "name": "stdout",
     "output_type": "stream",
     "text": [
      "[1] \"Processing subject: 947430341\"\n",
      "initial  value 29.106080 \n",
      "iter   5 value 24.195012\n",
      "iter  10 value 22.414269\n",
      "final  value 22.143886 \n",
      "converged\n",
      "initial  value 34.287119 \n",
      "iter   5 value 21.987324\n",
      "final  value 20.490350 \n",
      "converged\n"
     ]
    },
    {
     "name": "stderr",
     "output_type": "stream",
     "text": [
      "Scale for 'y' is already present. Adding another scale for 'y', which will\n",
      "replace the existing scale.\n"
     ]
    },
    {
     "name": "stdout",
     "output_type": "stream",
     "text": [
      "initial  value 35.927084 \n",
      "iter   5 value 24.829682\n",
      "iter  10 value 21.932416\n",
      "final  value 21.714132 \n",
      "converged\n"
     ]
    },
    {
     "name": "stderr",
     "output_type": "stream",
     "text": [
      "`stat_bindot()` using `bins = 30`. Pick better value with `binwidth`.\n",
      "`stat_bindot()` using `bins = 30`. Pick better value with `binwidth`.\n",
      "`stat_bindot()` using `bins = 30`. Pick better value with `binwidth`.\n"
     ]
    }
   ],
   "source": [
    "if(plotsubjects){\n",
    "    allsubjectsplot(datadf,savestr)\n",
    "}"
   ]
  },
  {
   "cell_type": "markdown",
   "metadata": {},
   "source": [
    "#### New mixed trial type version analysis"
   ]
  },
  {
   "cell_type": "code",
   "execution_count": 62,
   "metadata": {},
   "outputs": [],
   "source": [
    "# matrix to define layout for the mixed trial type plot\n",
    "mixed_hlay <- rbind (c(1,2,3,4,5,6),\n",
    "                     c(7,8,9,10,11,12),\n",
    "                     c(13,14,15,16,17,18))"
   ]
  },
  {
   "cell_type": "code",
   "execution_count": 63,
   "metadata": {},
   "outputs": [],
   "source": [
    "# names for the x axis\n",
    "col_plot_list <- c('FF Matrix', 'FF nMDS', 'PP Matrix', 'PP nMDS', 'RT', 'Dissim Freq')"
   ]
  },
  {
   "cell_type": "code",
   "execution_count": 65,
   "metadata": {},
   "outputs": [],
   "source": [
    "# make a plot of the key summary data for a subject - mixed trial type version\n",
    "subject_mixed_plot <- function(datadf,savestr){\n",
    "    \n",
    "    dir.create(paste(savestr,\"Mixed_Trial_Type_Plots\", sep='_'))\n",
    "    subjectlist <- sort(unique(datadf$subject)) # obtain a list of all the subjects\n",
    "    \n",
    "    \n",
    "    for (subjectid in subjectlist){ # do for each subject\n",
    "        \n",
    "        k = 0 # counter\n",
    "        plot_list <- list() # list to store the plots in as we're making them\n",
    "        subjectdf = subset(datadf, subject == subjectid) # select the ID for subject of interest\n",
    "\n",
    "        for (trial_condition in trial_types){\n",
    "            type_df = subset(subjectdf, trial_type == trial_condition) # just pick one trial type at a time\n",
    "            \n",
    "            # FF Matrix plot\n",
    "            FFmatrix <- dissimplot(dissimdata(type_df, colors, l2e('Foveal'), l2e('Foveal')),colors)\n",
    "            k = k + 1\n",
    "            plot_list[[k]] <- as.grob(FFmatrix)\n",
    "            \n",
    "            # FF nMDS plot\n",
    "            FFnmds <-  nmdsplot(nmdsfit(mat2dist(df2mat(type_df,l2e('Foveal'), l2e('Foveal')))), \n",
    "                                abcolors, abcolors, l2e('Foveal'), l2e('Foveal'))\n",
    "            k = k + 1\n",
    "            plot_list[[k]] <- as.grob(FFnmds)\n",
    "\n",
    "            # PP Matrix plot\n",
    "            PPmatrix <- dissimplot(dissimdata(type_df, colors, l2e('Peripheral'), l2e('Peripheral')),colors)\n",
    "            k = k + 1\n",
    "            plot_list[[k]] <- as.grob(PPmatrix)\n",
    "\n",
    "            # PP nMDS plot\n",
    "            PPnmds <-  nmdsplot(nmdsfit(mat2dist(df2mat(type_df,l2e('Peripheral'), l2e('Peripheral')))), \n",
    "                                abcolors, abcolors, l2e('Peripheral'), l2e('Peripheral'))\n",
    "            k = k + 1\n",
    "            plot_list[[k]] <- as.grob(PPnmds)\n",
    "\n",
    "            # rt rain plot\n",
    "            rainplot <- rsplot_raincloud(type_df)\n",
    "            k = k + 1\n",
    "            plot_list[[k]] <- as.grob(rainplot)\n",
    "            # Similarity judgements\n",
    "            simplot <- simhistplot(subjectdf)\n",
    "            k = k + 1\n",
    "            plot_list[[k]] <- as.grob(simplot)\n",
    "\n",
    "        }\n",
    "\n",
    "        # save the plots\n",
    "        yaxis <- textGrob(\"Trial Type\", gp=gpar(fontsize=30), rot=90)\n",
    "        xaxis <- textGrob(\"\", gp=gpar(fontsize=30))\n",
    "\n",
    "        title <- textGrob(paste(\"ID:\",subjectid,\"|\",\"Catch Score:\",catch_score(subjectdf)),gp=gpar(fontsize=35))\n",
    "\n",
    "        g <- arrangeGrob(grobs = plot_list, ncol = 6,nrow = 3,\n",
    "                         layout_matrix = mixed_hlay)\n",
    "\n",
    "        g_rowcol_names <- rbind(tableGrob(t(col_plot_list), theme = ttheme_minimal(), rows = \"\"),\n",
    "                    cbind(tableGrob(trial_types, theme = ttheme_minimal()),\n",
    "                          g, size = \"last\"), size = \"last\")\n",
    "\n",
    "\n",
    "        g_titled <- arrangeGrob(g_rowcol_names, top = title, left = yaxis, bottom = xaxis)\n",
    "        \n",
    "        savename <- paste(savestr,\"_Mixed_Trial_Type_Plots/\",subjectid,\"_plot.png\",sep='')\n",
    "        ggsave(savename,g_titled, height = 19, width = 39)\n",
    "    }\n",
    "}"
   ]
  },
  {
   "cell_type": "code",
   "execution_count": 225,
   "metadata": {
    "scrolled": true
   },
   "outputs": [
    {
     "ename": "ERROR",
     "evalue": "Error in subject_mixed_plot(datadf, savestr): could not find function \"subject_mixed_plot\"\n",
     "output_type": "error",
     "traceback": [
      "Error in subject_mixed_plot(datadf, savestr): could not find function \"subject_mixed_plot\"\nTraceback:\n"
     ]
    }
   ],
   "source": [
    "subject_mixed_plot(datadf,savestr)"
   ]
  },
  {
   "cell_type": "markdown",
   "metadata": {},
   "source": [
    "### Summary plots"
   ]
  },
  {
   "cell_type": "code",
   "execution_count": 180,
   "metadata": {},
   "outputs": [],
   "source": [
    "dir.create(paste(savestr,\"Summary_Plots\",sep='_'))"
   ]
  },
  {
   "cell_type": "code",
   "execution_count": 181,
   "metadata": {},
   "outputs": [],
   "source": [
    "# matrix to use to define the plot layout, specified manually for now\n",
    "hlay <- rbind (c(1,4,7,10),\n",
    "               c(2,5,8,11)#,\n",
    "               #c(3,6,9,12)\n",
    "              )"
   ]
  },
  {
   "cell_type": "code",
   "execution_count": 182,
   "metadata": {},
   "outputs": [],
   "source": [
    "# correlations summary plot\n",
    "across_experiment_plot <- function(datadf,savestr,laymatrix,dependent,clean=FALSE){\n",
    "    \n",
    "    dir.create(paste(savestr,\"Overall_Summary_Plots\",sep='_'))\n",
    "    \n",
    "    magnification_list <- sort(unique(datadf$peripheral_scale))\n",
    "    size_list <- sort(unique(datadf$stimulus_radius))\n",
    "    \n",
    "    plot_list <- list()\n",
    "    \n",
    "    if(clean){\n",
    "        datadf <- subset(datadf, noncompliant == 0)\n",
    "    }\n",
    "    \n",
    "    # make all the plots\n",
    "    k = 0\n",
    "    for (stimulus in size_list){\n",
    "        for (scale in magnification_list){\n",
    "            k = k + 1\n",
    "            if(stimulus == 2){ # 2 stimuli doesn't have any cueing, so it gets an exception\n",
    "                tempdf <- subset(datadf, stimulus_radius == 2)\n",
    "            } else {\n",
    "                tempdf <- subset(datadf, stimulus_radius == stimulus & peripheral_scale == scale)\n",
    "            }\n",
    "            \n",
    "            # make the specific plot\n",
    "            if(dependent=='correlation'){\n",
    "                fvp <- fvp_list(tempdf)\n",
    "                plot <- corr_plot(fvp,'Within-subject FvP','Within-subject FvP')\n",
    "                title <- textGrob(\"CORRELATION\", gp=gpar(fontsize=35))\n",
    "            } else if (dependent=='RT'){\n",
    "                plot <- rsplot_summary(tempdf)\n",
    "                title <- textGrob(\"REACTION TIME\", gp=gpar(fontsize=35))\n",
    "            } else if (dependent=='dissimilarity'){\n",
    "                plot <- simhistplot_summary(tempdf)\n",
    "                title <- textGrob(\"DISSIMILARITY\", gp=gpar(fontsize=35))\n",
    "            } else if (dependent=='trace'){\n",
    "                plot <- trace_plot(tempdf)\n",
    "                title <- textGrob(\"TRACE\", gp=gpar(fontsize=35))\n",
    "            } else if (dependent=='antitrace'){\n",
    "                plot <- trace_plot(tempdf,'antitrace')\n",
    "                title <- textGrob(\"ANTITRACE\", gp=gpar(fontsize=35))\n",
    "            } else if (dependent=='difference'){\n",
    "                plot <- trace_plot(tempdf,'difference')\n",
    "                title <- textGrob(\"ANTITRACE - TRACE\", gp=gpar(fontsize=35))\n",
    "            } else if (dependent=='asymmetry_matrix'){\n",
    "                plot <- asymmetry_plot(tempdf,l2e('Foveal'),l2e('Foveal'),colors)\n",
    "                title <- textGrob(\"SIMILARITY ASYMMETRY MATRIX\", gp=gpar(fontsize=35))\n",
    "            } else if (dependent == 'trace_by_trial'){\n",
    "                plot <- trace_by_trial_plot(tempdf,'boxplot')\n",
    "                title <- textGrob(\"Trace by Trial\", gp=gpar(fontsize=35))\n",
    "            }\n",
    "            \n",
    "            \n",
    "            plot <- plot + xlab(paste(stimulus,scale,sep=' ')) #  add a label\n",
    "            \n",
    "            plot_list[[k]] <- as.grob(plot) # add it to the plot_list\n",
    "        }\n",
    "        \n",
    "    }\n",
    "    \n",
    "    # save the plots\n",
    "    yaxis <- textGrob(\"Magnification\", gp=gpar(fontsize=30), rot=90)\n",
    "    xaxis <- textGrob(\"Stimulus Radius (DVA)\", gp=gpar(fontsize=30))\n",
    "    \n",
    "    g <- arrangeGrob(grobs = plot_list, ncol = length(magnification_list),nrow = length(size_list),\n",
    "                     layout_matrix = hlay)\n",
    "    \n",
    "    g_rowcol_names <- rbind(tableGrob(t(size_list), theme = ttheme_minimal(), rows = \"\"),\n",
    "                cbind(tableGrob(magnification_list, theme = ttheme_minimal()),\n",
    "                      g, size = \"last\"), size = \"last\")\n",
    "    \n",
    "    g_titled <- arrangeGrob(g_rowcol_names, top = title, left = yaxis, bottom = xaxis)\n",
    "    \n",
    "    if(clean){\n",
    "        savename <- paste(savestr,\"_Overall_Summary_Plots/\",dependent,\"_CLEAN\",\"_plot.png\",sep='')\n",
    "        ggsave(savename,g_titled, height = 20, width = 30)\n",
    "    }else{\n",
    "        savename <- paste(savestr,\"_Overall_Summary_Plots/\",dependent,\"_plot.png\",sep='')\n",
    "        ggsave(savename,g_titled, height = 20, width = 30)\n",
    "    }\n",
    "    \n",
    "    return(g_titled)\n",
    "}"
   ]
  },
  {
   "cell_type": "code",
   "execution_count": 183,
   "metadata": {},
   "outputs": [
    {
     "data": {
      "text/plain": [
       "TableGrob (3 x 2) \"arrange\": 4 grobs\n",
       "  z     cells    name                  grob\n",
       "1 1 (2-2,2-2) arrange    gtable[rowhead-fg]\n",
       "2 2 (1-1,2-2) arrange text[GRID.text.88113]\n",
       "3 3 (3-3,2-2) arrange text[GRID.text.88155]\n",
       "4 4 (1-3,1-1) arrange text[GRID.text.88154]"
      ]
     },
     "metadata": {},
     "output_type": "display_data"
    }
   ],
   "source": [
    "across_experiment_plot(cleandf,savestr,hlay,'RT')"
   ]
  },
  {
   "cell_type": "markdown",
   "metadata": {},
   "source": [
    "#### Across all experiments"
   ]
  },
  {
   "cell_type": "code",
   "execution_count": 202,
   "metadata": {},
   "outputs": [],
   "source": [
    "across_all <- function(datadf,savestr,laymatrix,response_type_list,response_names){\n",
    "    #across_experiment_plot(datadf,savestr,hlay,response_type_list,response_names,'RT')\n",
    "    across_experiment_plot(datadf,savestr,hlay,response_type_list,response_names,'dissimilarity')\n",
    "    #across_experiment_plot(datadf,savestr,hlay,response_type_list,response_names,'asymmetry_matrix')\n",
    "    #across_experiment_plot(datadf,savestr,hlay,response_type_list,response_names,'correlation')\n",
    "    #across_experiment_plot(datadf,savestr,hlay,response_type_list,response_names,'trace')\n",
    "    #across_experiment_plot(datadf,savestr,hlay,response_type_list,response_names,'antitrace')\n",
    "    #across_experiment_plot(datadf,savestr,hlay,response_type_list,response_names,'difference')\n",
    "    \n",
    "    #across_experiment_plot(datadf,savestr,hlay,response_type_list,response_names,'RT',TRUE)\n",
    "    #across_experiment_plot(datadf,savestr,hlay,response_type_list,response_names,'dissimilarity',TRUE)\n",
    "    #across_experiment_plot(datadf,savestr,hlay,response_type_list,response_names,'asymmetry_matrix',TRUE)\n",
    "    #across_experiment_plot(datadf,savestr,hlay,response_type_list,response_names,'correlation',TRUE)\n",
    "    #across_experiment_plot(datadf,savestr,hlay,response_type_list,response_names,'trace',TRUE)\n",
    "    #across_experiment_plot(datadf,savestr,hlay,response_type_list,response_names,'antitrace',TRUE)\n",
    "    #across_experiment_plot(datadf,savestr,hlay,response_type_list,response_names,'difference',TRUE)\n",
    "}"
   ]
  },
  {
   "cell_type": "code",
   "execution_count": 203,
   "metadata": {
    "scrolled": true
   },
   "outputs": [
    {
     "name": "stderr",
     "output_type": "stream",
     "text": [
      "`stat_bindot()` using `bins = 30`. Pick better value with `binwidth`.\n",
      "`stat_bindot()` using `bins = 30`. Pick better value with `binwidth`.\n",
      "`stat_bindot()` using `bins = 30`. Pick better value with `binwidth`.\n",
      "`stat_bindot()` using `bins = 30`. Pick better value with `binwidth`.\n",
      "`stat_bindot()` using `bins = 30`. Pick better value with `binwidth`.\n",
      "`stat_bindot()` using `bins = 30`. Pick better value with `binwidth`.\n",
      "`stat_bindot()` using `bins = 30`. Pick better value with `binwidth`.\n",
      "`stat_bindot()` using `bins = 30`. Pick better value with `binwidth`.\n",
      "`stat_bindot()` using `bins = 30`. Pick better value with `binwidth`.\n",
      "`stat_bindot()` using `bins = 30`. Pick better value with `binwidth`.\n",
      "`stat_bindot()` using `bins = 30`. Pick better value with `binwidth`.\n",
      "`stat_bindot()` using `bins = 30`. Pick better value with `binwidth`.\n",
      "`stat_bindot()` using `bins = 30`. Pick better value with `binwidth`.\n",
      "`stat_bindot()` using `bins = 30`. Pick better value with `binwidth`.\n",
      "`stat_bindot()` using `bins = 30`. Pick better value with `binwidth`.\n",
      "`stat_bindot()` using `bins = 30`. Pick better value with `binwidth`.\n",
      "`stat_bindot()` using `bins = 30`. Pick better value with `binwidth`.\n",
      "`stat_bindot()` using `bins = 30`. Pick better value with `binwidth`.\n",
      "`stat_bindot()` using `bins = 30`. Pick better value with `binwidth`.\n",
      "`stat_bindot()` using `bins = 30`. Pick better value with `binwidth`.\n",
      "`stat_bindot()` using `bins = 30`. Pick better value with `binwidth`.\n",
      "`stat_bindot()` using `bins = 30`. Pick better value with `binwidth`.\n",
      "`stat_bindot()` using `bins = 30`. Pick better value with `binwidth`.\n",
      "`stat_bindot()` using `bins = 30`. Pick better value with `binwidth`.\n",
      "`stat_bindot()` using `bins = 30`. Pick better value with `binwidth`.\n",
      "`stat_bindot()` using `bins = 30`. Pick better value with `binwidth`.\n",
      "`stat_bindot()` using `bins = 30`. Pick better value with `binwidth`.\n",
      "`stat_bindot()` using `bins = 30`. Pick better value with `binwidth`.\n",
      "`stat_bindot()` using `bins = 30`. Pick better value with `binwidth`.\n",
      "`stat_bindot()` using `bins = 30`. Pick better value with `binwidth`.\n",
      "`stat_bindot()` using `bins = 30`. Pick better value with `binwidth`.\n",
      "`stat_bindot()` using `bins = 30`. Pick better value with `binwidth`.\n",
      "`stat_bindot()` using `bins = 30`. Pick better value with `binwidth`.\n",
      "`stat_bindot()` using `bins = 30`. Pick better value with `binwidth`.\n",
      "`stat_bindot()` using `bins = 30`. Pick better value with `binwidth`.\n",
      "`stat_bindot()` using `bins = 30`. Pick better value with `binwidth`.\n",
      "`stat_bindot()` using `bins = 30`. Pick better value with `binwidth`.\n",
      "`stat_bindot()` using `bins = 30`. Pick better value with `binwidth`.\n",
      "`stat_bindot()` using `bins = 30`. Pick better value with `binwidth`.\n",
      "`stat_bindot()` using `bins = 30`. Pick better value with `binwidth`.\n",
      "`stat_bindot()` using `bins = 30`. Pick better value with `binwidth`.\n",
      "`stat_bindot()` using `bins = 30`. Pick better value with `binwidth`.\n",
      "`stat_bindot()` using `bins = 30`. Pick better value with `binwidth`.\n",
      "`stat_bindot()` using `bins = 30`. Pick better value with `binwidth`.\n",
      "`stat_bindot()` using `bins = 30`. Pick better value with `binwidth`.\n",
      "`stat_bindot()` using `bins = 30`. Pick better value with `binwidth`.\n",
      "`stat_bindot()` using `bins = 30`. Pick better value with `binwidth`.\n",
      "`stat_bindot()` using `bins = 30`. Pick better value with `binwidth`.\n",
      "`stat_bindot()` using `bins = 30`. Pick better value with `binwidth`.\n",
      "`stat_bindot()` using `bins = 30`. Pick better value with `binwidth`.\n",
      "`stat_bindot()` using `bins = 30`. Pick better value with `binwidth`.\n",
      "`stat_bindot()` using `bins = 30`. Pick better value with `binwidth`.\n",
      "`stat_bindot()` using `bins = 30`. Pick better value with `binwidth`.\n",
      "`stat_bindot()` using `bins = 30`. Pick better value with `binwidth`.\n",
      "`stat_bindot()` using `bins = 30`. Pick better value with `binwidth`.\n",
      "`stat_bindot()` using `bins = 30`. Pick better value with `binwidth`.\n",
      "`stat_bindot()` using `bins = 30`. Pick better value with `binwidth`.\n",
      "`stat_bindot()` using `bins = 30`. Pick better value with `binwidth`.\n",
      "`stat_bindot()` using `bins = 30`. Pick better value with `binwidth`.\n",
      "`stat_bindot()` using `bins = 30`. Pick better value with `binwidth`.\n",
      "`stat_bindot()` using `bins = 30`. Pick better value with `binwidth`.\n",
      "`stat_bindot()` using `bins = 30`. Pick better value with `binwidth`.\n",
      "`stat_bindot()` using `bins = 30`. Pick better value with `binwidth`.\n",
      "`stat_bindot()` using `bins = 30`. Pick better value with `binwidth`.\n",
      "`stat_bindot()` using `bins = 30`. Pick better value with `binwidth`.\n",
      "`stat_bindot()` using `bins = 30`. Pick better value with `binwidth`.\n",
      "`stat_bindot()` using `bins = 30`. Pick better value with `binwidth`.\n",
      "`stat_bindot()` using `bins = 30`. Pick better value with `binwidth`.\n",
      "`stat_bindot()` using `bins = 30`. Pick better value with `binwidth`.\n",
      "`stat_bindot()` using `bins = 30`. Pick better value with `binwidth`.\n",
      "`stat_bindot()` using `bins = 30`. Pick better value with `binwidth`.\n",
      "`stat_bindot()` using `bins = 30`. Pick better value with `binwidth`.\n",
      "`stat_bindot()` using `bins = 30`. Pick better value with `binwidth`.\n",
      "`stat_bindot()` using `bins = 30`. Pick better value with `binwidth`.\n",
      "`stat_bindot()` using `bins = 30`. Pick better value with `binwidth`.\n",
      "`stat_bindot()` using `bins = 30`. Pick better value with `binwidth`.\n",
      "`stat_bindot()` using `bins = 30`. Pick better value with `binwidth`.\n",
      "`stat_bindot()` using `bins = 30`. Pick better value with `binwidth`.\n",
      "`stat_bindot()` using `bins = 30`. Pick better value with `binwidth`.\n",
      "`stat_bindot()` using `bins = 30`. Pick better value with `binwidth`.\n"
     ]
    },
    {
     "ename": "ERROR",
     "evalue": "Error in across_all(datadf, savestr, hlay, response_type_list, response_names, : unused argument (TRUE)\n",
     "output_type": "error",
     "traceback": [
      "Error in across_all(datadf, savestr, hlay, response_type_list, response_names, : unused argument (TRUE)\nTraceback:\n"
     ]
    }
   ],
   "source": [
    "if(across){\n",
    "    across_all(datadf,savestr,hlay,response_type_list,response_names)\n",
    "}"
   ]
  },
  {
   "cell_type": "code",
   "execution_count": null,
   "metadata": {},
   "outputs": [],
   "source": []
  },
  {
   "cell_type": "markdown",
   "metadata": {},
   "source": [
    "#### Individual experiment summaries"
   ]
  },
  {
   "cell_type": "code",
   "execution_count": 188,
   "metadata": {},
   "outputs": [],
   "source": [
    "# generate a summary plot of all the collected data from all the subjects in the experiment\n",
    "# NEED TO FINISH THIS\n",
    "expsummaryplot <- function(datadf,savestr,clean=FALSE){\n",
    "    \n",
    "    dir.create(paste(savestr,\"Exp_Summary_Plots/\",sep='_'))\n",
    "    \n",
    "    if(clean){\n",
    "        datadf <- subset(datadf, noncompliant == 0)\n",
    "    }\n",
    "    \n",
    "    stimuli_list <- sort(unique(datadf$stimuli_count))\n",
    "    \n",
    "    # make all the plots\n",
    "    k = 0\n",
    "    for (stimulus in stimuli_list){\n",
    "        for (response in response_type_list){\n",
    "            \n",
    "            k = k + 1\n",
    "            if(stimulus == 2){ # 2 stimuli doesn't have any cueing, so it gets an exception\n",
    "                tempdf <- subset(datadf, stimuli_count == 2)\n",
    "            } else {\n",
    "                tempdf <- subset(datadf, stimuli_count == stimulus & response_type == response)\n",
    "            }\n",
    "            \n",
    "            if(response != 'after_1'){\n",
    "                FP = TRUE\n",
    "            } else {\n",
    "                FP = FALSE\n",
    "            }\n",
    "            \n",
    "            # make the specific summary plot\n",
    "           \n",
    "            # MATRICES\n",
    "            everyonedata <- aggregate_df(tempdf)\n",
    "            \n",
    "            stim_time <- everyonedata$stim_display_time[1]\n",
    "            gap <- everyonedata$stim_cue_gap[1]\n",
    "            cue_time <- everyonedata$cue_display_time[1]\n",
    "            \n",
    "            \n",
    "            # FF Matrix plot\n",
    "            FFmatrix <- dissimplot(dissimdata(everyonedata, colors, l2e('Foveal'), l2e('Foveal')),colors)\n",
    "\n",
    "            # FP Matrix plot\n",
    "            FPmatrix <- dissimplot(dissimdata(everyonedata, colors, l2e('Foveal'), l2e('Peripheral')),colors)\n",
    "\n",
    "            # PP Matrix plot\n",
    "            PPmatrix <- dissimplot(dissimdata(everyonedata, colors, l2e('Peripheral'), l2e('Peripheral')),colors)\n",
    "\n",
    "            # CMDS\n",
    "            # FF CMDS plot\n",
    "            FFcmds <-  cmdsplot(cmdsfit(mat2dist(df2mat(everyonedata,l2e('Foveal'), l2e('Foveal')))), \n",
    "                                abcolors, abcolors, l2e('Foveal'), l2e('Foveal'))\n",
    "\n",
    "            FPcmds <-  cmdsplot(cmdsfit(mat2dist(df2mat(everyonedata,l2e('Foveal'), l2e('Peripheral')))), \n",
    "                                abcolors, abcolors, l2e('Foveal'), l2e('Peripheral'))\n",
    "\n",
    "            # FF CMDS plot\n",
    "            PPcmds <-  cmdsplot(cmdsfit(mat2dist(df2mat(everyonedata,l2e('Peripheral'), l2e('Peripheral')))), \n",
    "                                abcolors, abcolors, l2e('Peripheral'), l2e('Peripheral'))\n",
    "            # NMDS\n",
    "            # FF nMDS plot\n",
    "            FFnmds <-  nmdsplot(nmdsfit(mat2dist(df2mat(everyonedata,l2e('Foveal'), l2e('Foveal')))), \n",
    "                                abcolors, abcolors, l2e('Foveal'), l2e('Foveal'))\n",
    "\n",
    "            # FP nMDS plot\n",
    "            FPnmds <-  nmdsplot(nmdsfit(mat2dist(df2mat(everyonedata,l2e('Foveal'), l2e('Peripheral')))), \n",
    "                                abcolors, abcolors, l2e('Foveal'), l2e('Peripheral'))\n",
    "\n",
    "            # PP nMDS plot\n",
    "            PPnmds <-  nmdsplot(nmdsfit(mat2dist(df2mat(everyonedata,l2e('Peripheral'), l2e('Peripheral')))), \n",
    "                                abcolors, abcolors, l2e('Peripheral'), l2e('Peripheral'))\n",
    "\n",
    "            # AUXILIARY plots\n",
    "            # Similarity judgements\n",
    "            simplot <- simhistplot_summary(tempdf)\n",
    "            # Reaction times v1\n",
    "            reactionplot <- rsplot_summary(tempdf)\n",
    "            # summary plot\n",
    "            raincloudplot <- rsplot_raincloud(tempdf,'log')\n",
    "\n",
    "            # within_between_plots\n",
    "            fvp <- fvp_list(tempdf)\n",
    "            i_j <- i_j_list(tempdf)\n",
    "\n",
    "            within_plot <- corr_plot(fvp,'Within-subject FvP','Within-subject FvP')\n",
    "            between_plot <- corr_plot(i_j,'Between-subject FvF','Between-subject FvF')\n",
    "            #within_plot_fisher <- corr_plot(FisherZ(fvp),'Within-subject FvP','Within-subject FvP',TRUE)\n",
    "            #between_plot_fisher <- corr_plot(FisherZ(i_j),'Between-subject FvF','Between-subject FvF',TRUE)\n",
    "\n",
    "            # MORE PLOTS\n",
    "            # trace plots\n",
    "            traceplot <- trace_plot(tempdf)\n",
    "            antiplot <- trace_plot(tempdf,'antitrace')\n",
    "            differenceplot <- trace_plot(tempdf,'difference')\n",
    "            \n",
    "            N <- length(unique(tempdf$subject)) # get number of subjects\n",
    "            \n",
    "            # save the plots\n",
    "            if(clean){\n",
    "                title <- textGrob(paste(stimulus,response,\n",
    "                                    \"stim_duration\",stim_time,\"gap\",gap,\"cue_duration\",cue_time,\n",
    "                                    N,\"subjects\",\"CLEAN\",\n",
    "                                    sep=\"_\"), gp=gpar(fontsize=35))\n",
    "            }else{\n",
    "                title <- textGrob(paste(stimulus,response,\n",
    "                                    \"stim_duration\",stim_time,\"gap\",gap,\"cue_duration\",cue_time,\n",
    "                                    N,\"subjects\",\n",
    "                                    sep=\"_\"), gp=gpar(fontsize=35))\n",
    "            }\n",
    "            \n",
    "            # put it all together\n",
    "            if(FP){\n",
    "                \n",
    "                g <- arrangeGrob(FFmatrix, FPmatrix, PPmatrix, within_plot, between_plot,\n",
    "                                FFcmds,FPcmds, PPcmds, traceplot, antiplot,\n",
    "                                FFnmds,FPnmds, PPnmds, raincloudplot, differenceplot,\n",
    "                                simplot, reactionplot, \n",
    "                                nrow = 4, ncol=5, top = title)\n",
    "            } else {\n",
    "                \n",
    "                # asymmetry plot\n",
    "                asymplot <- asymmetry_plot(tempdf,l2e('Foveal'),l2e('Foveal'),colors)\n",
    "                \n",
    "                g <- arrangeGrob(FFmatrix,  PPmatrix, within_plot, between_plot, \n",
    "                                FFcmds, PPcmds, traceplot,  antiplot,\n",
    "                                FFnmds, PPnmds, differenceplot, asymplot,\n",
    "                                simplot, raincloudplot, reactionplot,\n",
    "                                nrow = 4, ncol=4, top = title)\n",
    "\n",
    "                \n",
    "            }\n",
    "                # save it\n",
    "            if(clean){\n",
    "                savename <- paste(savestr,\"_Exp_Summary_Plots/\",stimulus,\"_\",response,\n",
    "                         \"_Summary_\",N,\"_subjects\",\"_CLEAN\",\"_plot.png\",sep='')\n",
    "            }else {\n",
    "                savename <- paste(savestr,\"_Exp_Summary_Plots/\",stimulus,\"_\",response,\n",
    "                         \"_Summary_\",N,\"_subjects\",\"_plot.png\",sep='')\n",
    "            }\n",
    "                \n",
    "                print(savename)\n",
    "                ggsave(savename,g, height = 38, width = 48)\n",
    "        }\n",
    "            \n",
    "    }\n",
    "        \n",
    "}   "
   ]
  },
  {
   "cell_type": "markdown",
   "metadata": {},
   "source": [
    "### Across the entire population "
   ]
  },
  {
   "cell_type": "code",
   "execution_count": 213,
   "metadata": {},
   "outputs": [],
   "source": [
    "# entire population plot\n",
    "population_plot <- function(datadf,savestr,clean=FALSE){\n",
    "    \n",
    "    dir.create(paste(savestr,\"Population_Summary_Plots/\",sep='_'))\n",
    "    \n",
    "    if(clean){\n",
    "        datadf <- subset(datadf, noncompliant == 0)\n",
    "    }\n",
    "    \n",
    "    # MATRICES\n",
    "    everyonedata <- aggregate_df(datadf)\n",
    "\n",
    "    # FF Matrix plot\n",
    "    FFmatrix <- dissimplot(dissimdata(everyonedata, colors, l2e('Foveal'), l2e('Foveal')),colors)\n",
    "\n",
    "    # FP Matrix plot\n",
    "    FPmatrix <- dissimplot(dissimdata(everyonedata, colors, l2e('Foveal'), l2e('Peripheral')),colors)\n",
    "\n",
    "    # PP Matrix plot\n",
    "    PPmatrix <- dissimplot(dissimdata(everyonedata, colors, l2e('Peripheral'), l2e('Peripheral')),colors)\n",
    "\n",
    "    # CMDS\n",
    "    # FF CMDS plot\n",
    "    FFcmds <-  cmdsplot(cmdsfit(mat2dist(df2mat(everyonedata,l2e('Foveal'), l2e('Foveal')))), \n",
    "                        abcolors, abcolors, l2e('Foveal'), l2e('Foveal'))\n",
    "\n",
    "    FPcmds <-  cmdsplot(cmdsfit(mat2dist(df2mat(everyonedata,l2e('Foveal'), l2e('Peripheral')))), \n",
    "                        abcolors, abcolors, l2e('Foveal'), l2e('Peripheral'))\n",
    "\n",
    "    # FF CMDS plot\n",
    "    PPcmds <-  cmdsplot(cmdsfit(mat2dist(df2mat(everyonedata,l2e('Peripheral'), l2e('Peripheral')))), \n",
    "                        abcolors, abcolors, l2e('Peripheral'), l2e('Peripheral'))\n",
    "    # NMDS\n",
    "    # FF nMDS plot\n",
    "    FFnmds <-  nmdsplot(nmdsfit(mat2dist(df2mat(everyonedata,l2e('Foveal'), l2e('Foveal')))), \n",
    "                        abcolors, abcolors, l2e('Foveal'), l2e('Foveal'))\n",
    "\n",
    "    # FP nMDS plot\n",
    "    FPnmds <-  nmdsplot(nmdsfit(mat2dist(df2mat(everyonedata,l2e('Foveal'), l2e('Peripheral')))), \n",
    "                        abcolors, abcolors, l2e('Foveal'), l2e('Peripheral'))\n",
    "\n",
    "    # PP nMDS plot\n",
    "    PPnmds <-  nmdsplot(nmdsfit(mat2dist(df2mat(everyonedata,l2e('Peripheral'), l2e('Peripheral')))), \n",
    "                        abcolors, abcolors, l2e('Peripheral'), l2e('Peripheral'))\n",
    "\n",
    "    # AUXILIARY plots\n",
    "    # Similarity judgements\n",
    "    simplot <- simhistplot_summary(datadf)\n",
    "    # Reaction times v1\n",
    "    reactionplot <- rsplot_summary(datadf)\n",
    "    # summary plot\n",
    "    raincloudplot <- rsplot_raincloud(datadf,'log')\n",
    "\n",
    "    # within_between_plots\n",
    "    fvp <- fvp_list(datadf)\n",
    "    i_j <- i_j_list(datadf)\n",
    "\n",
    "    within_plot <- corr_plot(fvp,'Within-subject FvP','Within-subject FvP')\n",
    "    between_plot <- corr_plot(i_j,'Between-subject FvF','Between-subject FvF')\n",
    "    #within_plot_fisher <- corr_plot(FisherZ(fvp),'Within-subject FvP','Within-subject FvP',TRUE)\n",
    "    #between_plot_fisher <- corr_plot(FisherZ(i_j),'Between-subject FvF','Between-subject FvF',TRUE)\n",
    "\n",
    "    # MORE PLOTS\n",
    "    # trace plots\n",
    "    traceplot <- trace_plot(datadf)\n",
    "    antiplot <- trace_plot(datadf,'antitrace')\n",
    "    differenceplot <- trace_plot(datadf,'difference')\n",
    "\n",
    "    N <- length(unique(datadf$subject)) # get number of subjects\n",
    "\n",
    "    # save the plots\n",
    "    if(clean){\n",
    "        title <- textGrob(paste(\"Population\",\n",
    "                            N,\"subjects\",\"CLEAN\",\n",
    "                            sep=\"_\"), gp=gpar(fontsize=35))\n",
    "    }else{\n",
    "        title <- textGrob(paste(\"Population\",\n",
    "                            N,\"subjects\",\n",
    "                            sep=\"_\"), gp=gpar(fontsize=35))\n",
    "    }\n",
    "    \n",
    "    \n",
    "    g <- arrangeGrob(FFmatrix, FPmatrix, PPmatrix, within_plot, between_plot,\n",
    "                                FFcmds,FPcmds, PPcmds, traceplot, antiplot,\n",
    "                                FFnmds,FPnmds, PPnmds, raincloudplot, differenceplot,\n",
    "                                simplot, reactionplot, \n",
    "                                nrow = 4, ncol=5, top = title)\n",
    "    \n",
    "     # save it\n",
    "    if(clean){\n",
    "        savename <- paste(savestr,\"_Exp_Summary_Plots/\",\n",
    "                 \"_Summary_\",N,\"_subjects\",\"_CLEAN\",\"_plot.png\",sep='')\n",
    "    }else {\n",
    "        savename <- paste(savestr,\"_Exp_Summary_Plots/\",\n",
    "                 \"_Summary_\",N,\"_subjects\",\"_plot.png\",sep='')\n",
    "    }\n",
    "\n",
    "        print(savename)\n",
    "        ggsave(savename,g, height = 38, width = 48)\n",
    "}"
   ]
  },
  {
   "cell_type": "code",
   "execution_count": 2,
   "metadata": {},
   "outputs": [
    {
     "ename": "ERROR",
     "evalue": "Error in dissimplot(dissimdata(everyonedata, colors, l2e(\"Foveal\"), l2e(\"Foveal\")), : could not find function \"dissimplot\"\n",
     "output_type": "error",
     "traceback": [
      "Error in dissimplot(dissimdata(everyonedata, colors, l2e(\"Foveal\"), l2e(\"Foveal\")), : could not find function \"dissimplot\"\nTraceback:\n"
     ]
    }
   ],
   "source": [
    "test <- dissimplot(dissimdata(everyonedata, colors, l2e('Foveal'), l2e('Foveal')),colors)\n",
    "\n",
    "test"
   ]
  },
  {
   "cell_type": "code",
   "execution_count": 214,
   "metadata": {},
   "outputs": [],
   "source": [
    "if(plotexpsummary){\n",
    "    expsummaryplot(datadf,savestr)\n",
    "    expsummaryplot(datadf,savestr,TRUE)\n",
    "}"
   ]
  },
  {
   "cell_type": "code",
   "execution_count": 215,
   "metadata": {},
   "outputs": [
    {
     "name": "stdout",
     "output_type": "stream",
     "text": [
      "initial  value 10.110642 \n",
      "iter   5 value 4.776044\n",
      "iter  10 value 4.309526\n",
      "final  value 4.276221 \n",
      "converged\n",
      "initial  value 9.398094 \n",
      "iter   5 value 4.759062\n",
      "iter  10 value 3.994180\n",
      "final  value 3.981702 \n",
      "converged\n",
      "initial  value 5.047839 \n",
      "iter   5 value 1.323556\n",
      "iter  10 value 0.944285\n",
      "iter  15 value 0.841798\n",
      "iter  20 value 0.821025\n",
      "final  value 0.817766 \n",
      "converged\n"
     ]
    },
    {
     "name": "stderr",
     "output_type": "stream",
     "text": [
      "`stat_bindot()` using `bins = 30`. Pick better value with `binwidth`.\n",
      "`stat_bindot()` using `bins = 30`. Pick better value with `binwidth`.\n",
      "`stat_bindot()` using `bins = 30`. Pick better value with `binwidth`.\n",
      "`stat_bindot()` using `bins = 30`. Pick better value with `binwidth`.\n",
      "`stat_bindot()` using `bins = 30`. Pick better value with `binwidth`.\n"
     ]
    },
    {
     "name": "stdout",
     "output_type": "stream",
     "text": [
      "[1] \"data/alldata_Exp_Summary_Plots/_Summary_128_subjects_plot.png\"\n",
      "initial  value 3.365119 \n",
      "iter   5 value 1.843522\n",
      "iter  10 value 1.615815\n",
      "iter  15 value 1.571471\n",
      "final  value 1.567521 \n",
      "converged\n",
      "initial  value 5.607216 \n",
      "iter   5 value 2.817553\n",
      "iter  10 value 2.443810\n",
      "final  value 2.402800 \n",
      "converged\n",
      "initial  value 4.294241 \n",
      "iter   5 value 2.475724\n",
      "iter  10 value 2.280757\n",
      "final  value 2.271904 \n",
      "converged\n"
     ]
    },
    {
     "name": "stderr",
     "output_type": "stream",
     "text": [
      "`stat_bindot()` using `bins = 30`. Pick better value with `binwidth`.\n",
      "`stat_bindot()` using `bins = 30`. Pick better value with `binwidth`.\n",
      "`stat_bindot()` using `bins = 30`. Pick better value with `binwidth`.\n",
      "`stat_bindot()` using `bins = 30`. Pick better value with `binwidth`.\n",
      "`stat_bindot()` using `bins = 30`. Pick better value with `binwidth`.\n"
     ]
    },
    {
     "name": "stdout",
     "output_type": "stream",
     "text": [
      "[1] \"data/alldata_Exp_Summary_Plots/_Summary_37_subjects_CLEAN_plot.png\"\n"
     ]
    }
   ],
   "source": [
    "if(population){\n",
    "    population_plot(datadf,savestr)\n",
    "    population_plot(datadf,savestr,TRUE)\n",
    "}"
   ]
  },
  {
   "cell_type": "code",
   "execution_count": null,
   "metadata": {},
   "outputs": [],
   "source": [
    "# position plot (negative control)\n",
    "positionplot <- function(datadf){\n",
    "    # MATRICES\n",
    "    everyonedata <- aggregate_df(datadf)\n",
    "    # FF Matrix plot\n",
    "    FFmatrix <- dissimplot(dissimdata(everyonedata, colors, l2e('Foveal'), l2e('Foveal')),colors, 'position')\n",
    "    # FP Matrix plot\n",
    "    FPmatrix <- dissimplot(dissimdata(everyonedata, colors, l2e('Foveal'), l2e('Peripheral')),colors, 'position')\n",
    "    # PP Matrix plot\n",
    "    PPmatrix <- dissimplot(dissimdata(everyonedata, colors, l2e('Peripheral'), l2e('Peripheral')),colors, 'position')\n",
    "    \n",
    "    g <- arrangeGrob(FFmatrix, FPmatrix, PPmatrix,\n",
    "                    nrow = 1, ncol= 3)\n",
    "     # save it\n",
    "    ggsave(paste(savestr,\"position negative control\",\"plot.png\",sep='_'),g, height = 10, width = 30)\n",
    "}"
   ]
  }
 ],
 "metadata": {
  "kernelspec": {
   "display_name": "R",
   "language": "R",
   "name": "ir"
  },
  "language_info": {
   "codemirror_mode": "r",
   "file_extension": ".r",
   "mimetype": "text/x-r-source",
   "name": "R",
   "pygments_lexer": "r",
   "version": "3.6.1"
  }
 },
 "nbformat": 4,
 "nbformat_minor": 4
}
