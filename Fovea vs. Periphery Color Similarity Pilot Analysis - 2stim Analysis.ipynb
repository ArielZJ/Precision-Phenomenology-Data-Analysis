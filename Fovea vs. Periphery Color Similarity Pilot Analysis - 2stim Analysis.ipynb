{
 "cells": [
  {
   "cell_type": "markdown",
   "metadata": {},
   "source": [
    "### Filename we're going to play with"
   ]
  },
  {
   "cell_type": "code",
   "execution_count": 47,
   "metadata": {},
   "outputs": [],
   "source": [
    "filename = \"data/pilotcompiled.csv\""
   ]
  },
  {
   "cell_type": "code",
   "execution_count": 48,
   "metadata": {},
   "outputs": [],
   "source": [
    "stimuli_number = 9\n",
    "response_type_list = c('during')\n",
    "trial_types = c('during')\n",
    "response_names = c('During')\n",
    "catch_trial_number = 10 # what it's set at at the moment, arbitrary\n",
    "condition_number = 3"
   ]
  },
  {
   "cell_type": "code",
   "execution_count": 49,
   "metadata": {},
   "outputs": [],
   "source": [
    "trace_cutoff = 2 # mean dissimilarity for physically identical colours must be below this\n",
    "antitrace_cutoff = 3.5 # mean dissimilarity accepted for maximally physically different colours must be above this\n",
    "rt_cutoff = 700 # mean reaction times must be above this"
   ]
  },
  {
   "cell_type": "code",
   "execution_count": 50,
   "metadata": {},
   "outputs": [],
   "source": [
    "exclude_noncompliant = FALSE"
   ]
  },
  {
   "cell_type": "code",
   "execution_count": 51,
   "metadata": {},
   "outputs": [],
   "source": [
    "plotsubjects = TRUE\n",
    "plotsubjects_mixed = TRUE\n",
    "plot_within_between = FALSE\n",
    "plotexpsummary = FALSE\n",
    "across = FALSE\n",
    "population = FALSE"
   ]
  },
  {
   "cell_type": "code",
   "execution_count": 530,
   "metadata": {},
   "outputs": [],
   "source": [
    "# colors for the labels\n",
    "# changed for this mixed version\n",
    "colors <- c('#FF0000','#FFAA00','#AAFF00','#00FF00','#00FFA9',\"#00A9FF\",'#0000FF','#AA00FF',\"#FF00AA\")\n",
    "abcolors <- sort(colors)\n",
    "\n",
    "eccens.colors <- c(\n",
    "    'Foveal #FF0000',\n",
    "    'Foveal #FFAA00',\n",
    "    'Foveal #AAFF00',\n",
    "    'Foveal #00FF00',\n",
    "    'Foveal #00FFA9',\n",
    "    \"Foveal #00A9FF\",\n",
    "    'Foveal #0000FF',\n",
    "    'Foveal #AA00FF',\n",
    "    \"Foveal #FF00AA\",\n",
    "    'Peripheral #FF0000',\n",
    "    'Peripheral #FFAA00',\n",
    "    'Peripheral #AAFF00',\n",
    "    'Peripheral #00FF00',\n",
    "    'Peripheral #00FFA9',\n",
    "    \"Peripheral #00A9FF\",\n",
    "    'Peripheral #0000FF',\n",
    "    'Peripheral #AA00FF',\n",
    "    \"Peripheral #FF00AA\")\n",
    "\n",
    "inverted.colors <-  c('#FF0000','#FF00AA','#AA00FF','#0000FF','#00A9FF','#00FFA9','#00FF00','#AAFF00','#FFAA00')"
   ]
  },
  {
   "cell_type": "markdown",
   "metadata": {},
   "source": [
    "### Initialisations"
   ]
  },
  {
   "cell_type": "code",
   "execution_count": 52,
   "metadata": {},
   "outputs": [],
   "source": [
    "# live dangerously, get rid of pesky warnings\n",
    "oldw <- getOption(\"warn\")\n",
    "options(warn = -1)"
   ]
  },
  {
   "cell_type": "code",
   "execution_count": 53,
   "metadata": {
    "scrolled": true
   },
   "outputs": [
    {
     "name": "stderr",
     "output_type": "stream",
     "text": [
      "\n",
      "Attaching package: 'tidyr'\n",
      "\n",
      "The following object is masked _by_ '.GlobalEnv':\n",
      "\n",
      "    population\n",
      "\n",
      "\n",
      "Attaching package: 'dplyr'\n",
      "\n",
      "The following objects are masked from 'package:plyr':\n",
      "\n",
      "    arrange, count, desc, failwith, id, mutate, rename, summarise,\n",
      "    summarize\n",
      "\n",
      "The following objects are masked from 'package:stats':\n",
      "\n",
      "    filter, lag\n",
      "\n",
      "The following objects are masked from 'package:base':\n",
      "\n",
      "    intersect, setdiff, setequal, union\n",
      "\n",
      "Registered S3 methods overwritten by 'ggplot2':\n",
      "  method         from \n",
      "  [.quosures     rlang\n",
      "  c.quosures     rlang\n",
      "  print.quosures rlang\n",
      "\n",
      "Attaching package: 'gridExtra'\n",
      "\n",
      "The following object is masked from 'package:dplyr':\n",
      "\n",
      "    combine\n",
      "\n",
      "\n",
      "Attaching package: 'MASS'\n",
      "\n",
      "The following object is masked from 'package:dplyr':\n",
      "\n",
      "    select\n",
      "\n",
      "\n",
      "Attaching package: 'Matrix'\n",
      "\n",
      "The following objects are masked from 'package:tidyr':\n",
      "\n",
      "    expand, pack, unpack\n",
      "\n",
      "\n",
      "Attaching package: 'reshape2'\n",
      "\n",
      "The following object is masked from 'package:tidyr':\n",
      "\n",
      "    smiths\n",
      "\n",
      "Loading required package: permute\n",
      "Loading required package: lattice\n",
      "This is vegan 2.5-6\n"
     ]
    }
   ],
   "source": [
    "shhh <- suppressPackageStartupMessages # stops annoying warnings when loading libraries\n",
    "library(tidyr)\n",
    "library(plyr)\n",
    "library(dplyr)\n",
    "library(ggplot2)\n",
    "library(gridExtra)\n",
    "library(MASS)\n",
    "library(Matrix)\n",
    "library(reshape2)\n",
    "library(ape) # stats\n",
    "library(vegan) # stats\n",
    "library(RColorBrewer)\n",
    "library(cocor)\n",
    "library(DescTools)\n",
    "library(reshape2)\n",
    "library(grid)\n",
    "library(ggplotify)\n",
    "library(fclust)"
   ]
  },
  {
   "cell_type": "code",
   "execution_count": 54,
   "metadata": {},
   "outputs": [],
   "source": [
    "# rainbowcloud theme for plotting, stolen from: \n",
    "# https://micahallen.org/2018/03/15/introducing-raincloud-plots/?utm_campaign=News&utm_medium=Community&utm_source=DataCamp.com\n",
    "raincloud_theme = theme(\n",
    "text = element_text(size = 10),\n",
    "axis.title.x = element_text(size = 16),\n",
    "axis.title.y = element_text(size = 16),\n",
    "axis.text = element_text(size = 14),\n",
    "axis.text.x = element_text(angle = 45, vjust = 0.5),\n",
    "legend.title=element_text(size=16),\n",
    "legend.text=element_text(size=16),\n",
    "legend.position = \"right\",\n",
    "plot.title = element_text(lineheight=.8, face=\"bold\", size = 16),\n",
    "panel.border = element_blank(),\n",
    "panel.grid.minor = element_blank(),\n",
    "panel.grid.major = element_blank(),\n",
    "axis.line.x = element_line(colour = 'black', size=0.5, linetype='solid'),\n",
    "axis.line.y = element_line(colour = 'black', size=0.5, linetype='solid'))"
   ]
  },
  {
   "cell_type": "code",
   "execution_count": 55,
   "metadata": {},
   "outputs": [],
   "source": [
    "# stealing ability to make flat violin plots\n",
    "source(\"https://gist.githubusercontent.com/benmarwick/2a1bb0133ff568cbe28d/raw/fb53bd97121f7f9ce947837ef1a4c65a73bffb3f/geom_flat_violin.R\")"
   ]
  },
  {
   "cell_type": "markdown",
   "metadata": {},
   "source": [
    "### Functions we're going to use to do the analysis later"
   ]
  },
  {
   "cell_type": "markdown",
   "metadata": {},
   "source": [
    "#### Miscellaneous"
   ]
  },
  {
   "cell_type": "code",
   "execution_count": 56,
   "metadata": {},
   "outputs": [],
   "source": [
    "# check our N \n",
    "get_n <- function(datadf){\n",
    "    n <- length(unique(datadf$subject))\n",
    "    print(paste(\"There are\",n,\"unique subjects\"))\n",
    "    return(n)\n",
    "}"
   ]
  },
  {
   "cell_type": "code",
   "execution_count": 57,
   "metadata": {},
   "outputs": [],
   "source": [
    "# get plot eccentricity labels\n",
    "ploteccen <- function(datadf){\n",
    "    if(datadf$Circle_1[1] == -1){\n",
    "            label1 = 'Foveal'\n",
    "        } else {\n",
    "            label1 = 'Peripheral'\n",
    "        }\n",
    "        if(datadf$Circle_2[1] == -1){\n",
    "            label2 = 'Foveal'\n",
    "        } else {\n",
    "            label2 = 'Peripheral'\n",
    "        }\n",
    "    return(c(label1,label2))\n",
    "}\n",
    "\n",
    "e2l <- function(eccentricity){\n",
    "    if(eccentricity == -1){\n",
    "        return('Foveal')\n",
    "    } else {\n",
    "        return('Peripheral')\n",
    "    }\n",
    "}\n",
    "\n",
    "l2e <- function(eccentricity){\n",
    "    if(eccentricity == 'Foveal'){\n",
    "        return(-1)\n",
    "    } else {\n",
    "        return(1)\n",
    "    }\n",
    "}"
   ]
  },
  {
   "cell_type": "markdown",
   "metadata": {},
   "source": [
    "#### Dissimilarity Matrices"
   ]
  },
  {
   "cell_type": "code",
   "execution_count": 58,
   "metadata": {},
   "outputs": [],
   "source": [
    "# obtain dissimilarity matrices with particular eccentricity values from dataframes\n",
    "dissimdata <- function(datadf, colors, eccentricity1, eccentricity2){\n",
    "    # select only the eccentricities we want to keep, e.g. (foveal, foveal)\n",
    "    datatemp = subset(datadf, Circle_1 == eccentricity1)\n",
    "    datatemp = subset(datatemp, Circle_2 == eccentricity2)\n",
    "    \n",
    "    # refactor the levels so they can be plotted properly later if need be\n",
    "    datatemp$Color_1 <- with(datatemp, factor(Color_1, levels = colors))\n",
    "    datatemp$Color_2 <- with(datatemp, factor(Color_2, levels = colors))\n",
    "    \n",
    "    return(datatemp)\n",
    "}"
   ]
  },
  {
   "cell_type": "code",
   "execution_count": 59,
   "metadata": {},
   "outputs": [],
   "source": [
    "# plot a dissimilarity matrix\n",
    "dissimplot <- function(datadf,colors,dependent='color'){\n",
    "    \n",
    "   # labeling the plot eccentricity comparisons\n",
    "    label1 <- ploteccen(datadf)[1]\n",
    "    label2 <- ploteccen(datadf)[2]\n",
    "    \n",
    "    \n",
    "    if(dependent == 'position'){ # use position to generate matrix (as a negative control)\n",
    "        plot <- ggplot(datadf, aes(x = bin1, y = bin2)) +\n",
    "        theme(        axis.title.x = element_blank(), axis.title.y = element_blank(),\n",
    "                      plot.title = element_text(hjust = 0.5)) +\n",
    "                      scale_x_discrete(limits=c(1,2,3,4,5,6,7,8,9)) + scale_y_discrete(limits=c(1,2,3,4,5,6,7,8,9))\n",
    "    } else { # use the colors to generate the matrix\n",
    "        plot <- ggplot(datadf, aes(x = Color_1, y = Color_2)) +\n",
    "        theme(axis.text.x = element_text(colour = colors), axis.text.y = element_text(colour = colors),\n",
    "                      axis.title.x = element_blank(), axis.title.y = element_blank(),\n",
    "                      plot.title = element_text(hjust = 0.5))\n",
    "    }\n",
    "    # stuff that's standard across plot types\n",
    "        plot <- plot + geom_raster(aes(fill = similarity)) +\n",
    "                labs(title = paste(label1, label2, sep = \" - \")) +\n",
    "                scale_fill_gradientn(colours = c(\"white\",\"black\")) +\n",
    "                guides(fill=guide_legend(title=\"Dissimilarity\"))\n",
    "    return(plot)\n",
    "}"
   ]
  },
  {
   "cell_type": "code",
   "execution_count": 60,
   "metadata": {},
   "outputs": [],
   "source": [
    "# plot a shuffled dissimilarity matrix, for visualisation purposes only\n",
    "dissimplot_shuffled <- function(datadf){\n",
    "    # labeling the plot eccentricity comparisons\n",
    "    label1 <- ploteccen(datadf)[1]\n",
    "    label2 <- ploteccen(datadf)[2]\n",
    "    \n",
    "    datadf$similarity = sample(datadf$similarity, replace=FALSE) # shuffle colour 2\n",
    "    \n",
    "     plot <- ggplot(datadf, aes(x = Color_1, y = Color_2)) +\n",
    "        theme(axis.text.x = element_text(colour = colors), axis.text.y = element_text(colour = colors),\n",
    "                      axis.title.x = element_blank(), axis.title.y = element_blank(),\n",
    "                      plot.title = element_text(hjust = 0.5))\n",
    "    \n",
    "    plot <- plot + geom_raster(aes(fill = similarity)) +\n",
    "                labs(title = paste(\"SHUFFLED\\n\",label1, \" - \", label2)) +\n",
    "                scale_fill_gradientn(colours = c(\"white\",\"black\")) +\n",
    "                guides(fill=guide_legend(title=\"Dissimilarity\"))\n",
    "    return(plot)\n",
    "}"
   ]
  },
  {
   "cell_type": "code",
   "execution_count": 61,
   "metadata": {},
   "outputs": [],
   "source": [
    "df2mat_asymmetry <- function(datadf,eccentricity1,eccentricity2){\n",
    "    \n",
    "    datadf <- dissimdata(datadf, colors, eccentricity1, eccentricity2)\n",
    "    \n",
    "    # aggregate over the remaining columns of interest\n",
    "    nmdsdata <- aggregate(datadf, by = list(datadf$Color_1, datadf$Color_2),FUN=mean)\n",
    "    nmdsdata$Color_1 <- nmdsdata$Group.1\n",
    "    nmdsdata$Color_2 <- nmdsdata$Group.2\n",
    "\n",
    "    nmdsdata = subset(nmdsdata, select = c(\"Color_1\",\"Color_2\",\"similarity\"))  # get rid of unnecessary columns\n",
    "    nmdsmatrix <- spread(nmdsdata, Color_1, similarity)\n",
    "    # convert the dataframe to a matrix\n",
    "    nmdsmatrix <- data.matrix(nmdsmatrix)\n",
    "    nmdsmatrix <- nmdsmatrix[,-1] # get rid of the labels in the first column, it messes up the code\n",
    "    matdf <- as.data.frame(nmdsmatrix - t(nmdsmatrix))\n",
    "    matdf$colorset <- c(abcolors)\n",
    "    num_colors <- length(colors)\n",
    "    matdf <- matdf %>% gather(othercolor,asymmetry ,1:num_colors)\n",
    "    return(matdf)\n",
    "}"
   ]
  },
  {
   "cell_type": "code",
   "execution_count": 62,
   "metadata": {},
   "outputs": [],
   "source": [
    "# plot an asymmetry matrix\n",
    "# BROKEN - FIX AS PER YUSUKE'S CODE: https://docs.google.com/presentation/d/1TQZ2ohqZfeWYq0TATobiSZHlkJJuZZ6vqbAmOPQaUDI/edit#slide=id.p1\n",
    "asymmetry_plot <- function(datadf,eccentricity1,eccentricity2,colors){\n",
    "    \n",
    "    # labeling the types\n",
    "    label1 <- \"Presented\"\n",
    "    label2 <- \"Response Screen\"\n",
    "    \n",
    "    datadf <- df2mat_asymmetry(datadf,eccentricity1,eccentricity2)\n",
    "    \n",
    "    # refactor the levels so they can be plotted properly later if need be\n",
    "    datadf$colorset <- with(datadf, factor(colorset, levels = colors))\n",
    "    datadf$othercolor <- with(datadf, factor(othercolor, levels = colors))\n",
    "    \n",
    "    plot <- ggplot(datadf, aes(x = colorset, y = othercolor)) +\n",
    "        theme(axis.text.x = element_text(colour = colors), axis.text.y = element_text(colour = colors),\n",
    "                      axis.title.x = element_blank(), axis.title.y = element_blank(),\n",
    "                      plot.title = element_text(hjust = 0.5))\n",
    "    \n",
    "    # stuff that's standard across plot types\n",
    "        plot <- plot + geom_raster(aes(fill = asymmetry)) +\n",
    "                labs(title = paste(label1, label2, sep = \" - \")) +\n",
    "                scale_fill_gradientn(colours = c(\"blue\",\"white\",\"red\"), limits = c(-4,4)) +\n",
    "                guides(fill=guide_legend(title=\"Dissimilarity\\nAsymmetry\"))\n",
    "    return(plot)\n",
    "}"
   ]
  },
  {
   "cell_type": "code",
   "execution_count": 63,
   "metadata": {},
   "outputs": [],
   "source": [
    "# making a matrix symmetric. Stolen from dclone: https://rdrr.io/github/datacloning/dclone/src/R/make.symmetric.R\n",
    "make.symmetric <-function(x)\n",
    "{\n",
    "    if (dim(x)[1] != dim(x)[2])\n",
    "        stop(\"'x' is not a square matrix\")\n",
    "    rval <- t(x)\n",
    "    m <- (x[lower.tri(x)] + rval[lower.tri(rval)]) / 2\n",
    "    rval[lower.tri(rval)] <- m\n",
    "    rval <- t(rval)\n",
    "    rval[lower.tri(rval)] <- m\n",
    "    rval\n",
    "}"
   ]
  },
  {
   "cell_type": "code",
   "execution_count": 561,
   "metadata": {},
   "outputs": [],
   "source": [
    "# obtain dissimilarity matrices that correspond to all of a subjects' judgements\n",
    "# symmeterises by taking the mean\n",
    "dissimdata.full <- function(datadf, colors=colors, duplicate=TRUE){\n",
    "    \n",
    "    # first, get a full label for each trial\n",
    "    datadf <- subset(datadf, trial_type != 'catch')\n",
    "    \n",
    "    datadf <- datadf %>%\n",
    "        rowwise() %>%\n",
    "        mutate(color.eccen1 = paste(c(e2l(Circle_1),Color_1),collapse=' - ')) %>%\n",
    "        mutate(color.eccen2 = paste(c(e2l(Circle_2),Color_2),collapse=' - ')) %>%\n",
    "        mutate(color.eccen = paste(sort(c(e2l(Circle_1),Color_1,e2l(Circle_2),Color_2)),collapse=':')) %>%\n",
    "        ungroup()\n",
    "\n",
    "    # take the average across symmetric trials (e.g. C-blue, P-green & C-green, P-blue)\n",
    "    \n",
    "    datadf <- aggregate(datadf, by = list(datadf$color.eccen),mean)\n",
    "    datadf$color.eccen <- datadf$Group.1\n",
    "    \n",
    "    \n",
    "    \n",
    "    # get some labels back for plotting below that we destroyed in the process\n",
    "    datadf$color.eccen.sacrifice <- datadf$color.eccen\n",
    "\n",
    "    datadf <- datadf %>% separate(color.eccen.sacrifice, c(\"color.1\",\"color.2\",\"eccen.1\",\"eccen.2\"),':')\n",
    "    \n",
    "    \n",
    "\n",
    "    datadf$color1.eccen1 <- paste(datadf$eccen.1,datadf$color.1)\n",
    "    datadf$color2.eccen2 <- paste(datadf$eccen.2,datadf$color.2)\n",
    "    \n",
    "    # duplicate some rows if we want to plot a full matrix - for aesthetic reasons\n",
    "    # I'm sorry for how ugly this is but I had so many bugs making it for unfathomable reasons (to me) that I'm not\n",
    "    # going to change it now. Feel free to clean it up for me\n",
    "    if(duplicate){\n",
    "        tempdf <- subset(datadf,(color.1 != color.2))\n",
    "        \n",
    "        tempdf$color1.eccen1.temp <- tempdf$color1.eccen1\n",
    "        tempdf$color2.eccen2.temp <- tempdf$color2.eccen2\n",
    "\n",
    "        tempdf$color1.eccen1 <- tempdf$color2.eccen2.temp\n",
    "        tempdf$color2.eccen2 <- tempdf$color1.eccen1.temp\n",
    "             \n",
    "        \n",
    "        tempdf <- subset(tempdf, select = -c(color1.eccen1.temp, color2.eccen2.temp))\n",
    "        \n",
    "        tempdf2 <- subset(tempdf, substr(tempdf$color.eccen, 16, nchar(tempdf$color.eccen)) == ':Foveal:Peripheral')\n",
    "        \n",
    "        tempdf <- subset(tempdf, substr(tempdf$color.eccen, 16, nchar(tempdf$color.eccen)) != ':Foveal:Peripheral')\n",
    "        \n",
    "        tempdf2$temp1 <- tempdf2$color1.eccen1\n",
    "        tempdf2$color1.eccen1 <- paste('Foveal',substr(tempdf2$temp1,nchar(tempdf2$temp1)-7+1,nchar(tempdf2$temp1)))\n",
    "        tempdf2$temp2 <- tempdf2$color2.eccen2\n",
    "        tempdf2$color2.eccen2 <- paste('Peripheral',substr(tempdf2$temp2,nchar(tempdf2$temp2)-7+1,nchar(tempdf2$temp2)))\n",
    "        debug <- subset(tempdf2, select=c(color1.eccen1,temp1,color2.eccen2,temp2))\n",
    "        tempdf2 <- subset(tempdf2, select = -c(temp1,temp2))\n",
    "        \n",
    "        \n",
    "        datadf <- rbind(datadf,tempdf,tempdf2)\n",
    "    }\n",
    "    \n",
    "    datadf$color <- substr(datadf$color.eccen, 1, 15) # get a colour pair label\n",
    "    datadf$color1 <- substr(datadf$color, 1, 7)\n",
    "    datadf$color2 <- substr(datadf$color, 9, 15)\n",
    "    \n",
    "     # refactor the levels so they can be plotted properly later if need be\n",
    "   datadf$color1.eccen1 <- with(datadf, factor(color1.eccen1, levels = eccens.colors))\n",
    "   datadf$color2.eccen2 <- with(datadf, factor(color2.eccen2, levels = eccens.colors))\n",
    "\n",
    "    \n",
    "    return(datadf)\n",
    "}"
   ]
  },
  {
   "cell_type": "code",
   "execution_count": 544,
   "metadata": {},
   "outputs": [],
   "source": [
    "# rotate a vector\n",
    "rotate.vec <- function(vec, rotation){\n",
    "    indexshift = round((rotation/360)*length(vec),0)\n",
    "    if (indexshift == 0){\n",
    "        return(vec)\n",
    "    } else {\n",
    "        return(c(tail(vec, -indexshift), head(vec, indexshift)))\n",
    "    }\n",
    "}"
   ]
  },
  {
   "cell_type": "code",
   "execution_count": 66,
   "metadata": {},
   "outputs": [],
   "source": [
    "# swap the labels\n",
    "matswap <- function(mat,mode='random',rotation=90){\n",
    "    \n",
    "    labels <- rownames(mat)\n",
    "    if(mode=='random'){\n",
    "        labels.swapped <- sample(labels)\n",
    "    } else if (mode=='inversion'){\n",
    "        labels.swapped <- c('#FF0000','#FF00AA','#AA00FF','#0000FF','#00A9FF','#00FFA9','#00FF00','#AAFF00','#FFAA00')\n",
    "    } else if (mode=='rotation'){\n",
    "        labels.swapped <- rotate.vec(labels,rotation)\n",
    "    }\n",
    "    \n",
    "    rownames(mat) <- labels.swapped\n",
    "    colnames(mat) <- labels.swapped\n",
    "    \n",
    "    # sort the matrix\n",
    "    mat <- mat[, sort(colnames(mat))][sort(rownames(mat)),]\n",
    "    \n",
    "    return(mat)\n",
    "    \n",
    "}"
   ]
  },
  {
   "cell_type": "code",
   "execution_count": 546,
   "metadata": {},
   "outputs": [],
   "source": [
    "# label the rows with the two colours independent of arbitrary ordering\n",
    "dissimplot.full <- function(datadf, mode='standard',rotation=90){\n",
    "    \n",
    "    \n",
    "    \n",
    "    plot <- ggplot(datadf, aes(x = color1.eccen1, y = color2.eccen2)) \n",
    "    \n",
    "    if(mode=='standard'){\n",
    "        color.list <- c(colors,colors)\n",
    "    } else if (mode=='inversion'){\n",
    "        color.list <- c(colors, inverted.colors)\n",
    "    } else if (mode == 'rotation'){\n",
    "        color.list <- c(colors, rotate.vec(colors,rotation))\n",
    "    }\n",
    "    plot <- plot + theme(axis.text.x = element_text(colour=color.list,angle=90),\n",
    "                        axis.text.y = element_text(colour=color.list),\n",
    "                      axis.title.x = element_blank(), axis.title.y = element_blank(),\n",
    "                      plot.title = element_text(hjust = 0.5))\n",
    "    \n",
    "    \n",
    "    \n",
    "    # stuff that's standard across plot types\n",
    "        plot <- plot + geom_raster(aes(fill = similarity)) +\n",
    "                scale_fill_gradientn(colours = c(\"white\",\"black\")) +\n",
    "                guides(fill=guide_legend(title=\"Dissimilarity\"))\n",
    "    return(plot)\n",
    "    \n",
    "}"
   ]
  },
  {
   "cell_type": "code",
   "execution_count": 502,
   "metadata": {},
   "outputs": [],
   "source": [
    "testdf <- subset(datadf, subject == 63991259)\n",
    "testdata <- dissimdata.full(testdf,duplicate=TRUE)"
   ]
  },
  {
   "cell_type": "code",
   "execution_count": 445,
   "metadata": {},
   "outputs": [],
   "source": [
    "df2mat.full <- function(datadf,eccentricity1=l2e('Foveal'),eccentricity2=l2e('Foveal')){\n",
    " \n",
    "    # select only the eccentricities we want to keep, e.g. (foveal, foveal)\n",
    "    datadf <- subset(datadf, Circle_1 == eccentricity1 & Circle_2 == eccentricity2)\n",
    "\n",
    "    # aggregate over the remaining columns of interest\n",
    "    datadf <- aggregate(datadf, by = list(datadf$Color_1, datadf$Color_2),FUN=mean)\n",
    "    datadf$Color_1 <- datadf$Group.1\n",
    "    datadf$Color_2 <- datadf$Group.2\n",
    "\n",
    "    datadf = subset(datadf, select = c(\"Color_1\",\"Color_2\",\"similarity\"))  # get rid of unnecessary columns\n",
    "    datadf <- spread(datadf, Color_1, similarity)\n",
    "    \n",
    "    # convert the dataframe to a matrix\n",
    "    datamatrix <- data.matrix(datadf)\n",
    "    datamatrix <- datamatrix[,-1] # get rid of the labels in the first column, it messes up the code\n",
    "    datamatrix <- make.symmetric(datamatrix) # averaging over Color_1 vs. Color_2 & Color_2 vs. Color_1    \n",
    "    rownames(datamatrix) <- colnames(datamatrix)\n",
    "    \n",
    "    # sort the matrix\n",
    "    datamatrix <- datamatrix[, sort(colnames(datamatrix))][sort(rownames(datamatrix)),]\n",
    "    \n",
    "    return(datamatrix)\n",
    "    \n",
    "}"
   ]
  },
  {
   "cell_type": "markdown",
   "metadata": {},
   "source": [
    "#### Multidimensional Scaling Plots"
   ]
  },
  {
   "cell_type": "code",
   "execution_count": 69,
   "metadata": {},
   "outputs": [],
   "source": [
    "# turn a dataset into a matrix\n",
    "df2mat <- function(datadf,eccentricity1,eccentricity2,dependent='color'){\n",
    "    \n",
    "    # select only the eccentricities we want to keep, e.g. (foveal, foveal)\n",
    "    datadf = subset(datadf, Circle_1 == eccentricity1 & Circle_2 == eccentricity2)\n",
    "    \n",
    "    if(dependent == 'position'){ # using stimulus location as a negative control\n",
    "        # aggregate over the remaining columns of interest\n",
    "        nmdsdata <- aggregate(datadf, by = list(datadf$bin1, datadf$bin2),FUN=mean)\n",
    "        nmdsdata$bin1 <- nmdsdata$Group.1\n",
    "        nmdsdata$bin2 <- nmdsdata$Group.2\n",
    "        \n",
    "        nmdsdata = subset(nmdsdata, select = c(\"bin1\",\"bin2\",\"similarity\"))  # get rid of unnecessary columns\n",
    "        nmdsmatrix <- spread(nmdsdata, bin1, similarity)\n",
    "    } else { # color as per normal\n",
    "        # aggregate over the remaining columns of interest\n",
    "        nmdsdata <- aggregate(datadf, by = list(datadf$Color_1, datadf$Color_2),FUN=mean)\n",
    "        nmdsdata$Color_1 <- nmdsdata$Group.1\n",
    "        nmdsdata$Color_2 <- nmdsdata$Group.2\n",
    "        \n",
    "        nmdsdata = subset(nmdsdata, select = c(\"Color_1\",\"Color_2\",\"similarity\"))  # get rid of unnecessary columns\n",
    "        nmdsmatrix <- spread(nmdsdata, Color_1, similarity)\n",
    "    }\n",
    "    \n",
    "    # convert the dataframe to a matrix\n",
    "    nmdsmatrix <- data.matrix(nmdsmatrix)\n",
    "    nmdsmatrix <- nmdsmatrix[,-1] # get rid of the labels in the first column, it messes up the code\n",
    "    \n",
    "    # having 0 dissimilarity between identical objects messes up the algorithm\n",
    "    # changing the 0 values to an arbitrarily small value, but this is not a good long-term solution\n",
    "    # need to find a better way of doing this\n",
    "    nmdsmatrix[nmdsmatrix == 0] <- 0.01\n",
    "    \n",
    "    \n",
    "    nmdsmatrix <- make.symmetric(nmdsmatrix) # averaging over Color_1 vs. Color_2 & Color_2 vs. Color_1    \n",
    "    return(nmdsmatrix)\n",
    "}"
   ]
  },
  {
   "cell_type": "code",
   "execution_count": 70,
   "metadata": {},
   "outputs": [],
   "source": [
    "# convert a standard matrix to a distance matrix\n",
    "mat2dist <- function(mat){\n",
    "    \n",
    "    return(distmat <- as.dist(mat))\n",
    "}"
   ]
  },
  {
   "cell_type": "markdown",
   "metadata": {},
   "source": [
    "Non-metric multidimensional scaling (NMDS)"
   ]
  },
  {
   "cell_type": "code",
   "execution_count": 71,
   "metadata": {},
   "outputs": [],
   "source": [
    "# find the nmds fit for a dataset\n",
    "nmdsfit <- function(distmatrix){\n",
    "      \n",
    "    fit <- isoMDS(distmatrix,k=2, maxit=100)\n",
    "    return(fit)\n",
    "}"
   ]
  },
  {
   "cell_type": "code",
   "execution_count": 72,
   "metadata": {},
   "outputs": [],
   "source": [
    "# plot the nmds fit\n",
    "nmdsplot <- function(fit, colors, abcolors, eccentricity1, eccentricity2){\n",
    "    \n",
    "    # get labels\n",
    "    \n",
    "    # change the nmdsfit back to a dataframe\n",
    "    nmdsdf <- as.data.frame(fit)\n",
    "    \n",
    "    plot <-     ggplot(nmdsdf, aes(x = points.1, y = points.2, color=colors, fill=colors)) + geom_point(size =10) + \n",
    "                scale_colour_manual(values = abcolors) + scale_fill_manual(values = abcolors) + \n",
    "                xlab(\"Dimension 1\") + ylab(\"Dimension 2\") + \n",
    "                ggtitle(paste(e2l(eccentricity1),e2l(eccentricity2),'Non-metric MDS',sep=' - '))\n",
    "    return(plot)\n",
    "}"
   ]
  },
  {
   "cell_type": "markdown",
   "metadata": {},
   "source": [
    "Classical multidimensional scaling"
   ]
  },
  {
   "cell_type": "code",
   "execution_count": 73,
   "metadata": {},
   "outputs": [],
   "source": [
    "# find the cmds fit for a dataset\n",
    "cmdsfit <- function(distmatrix){\n",
    "    \n",
    "    fit <- cmdscale(distmatrix,k=2)\n",
    "    return(fit)\n",
    "}"
   ]
  },
  {
   "cell_type": "code",
   "execution_count": 74,
   "metadata": {},
   "outputs": [],
   "source": [
    "# plot the cmds fit\n",
    "cmdsplot <- function(fit, colors, abcolors, eccentricity1, eccentricity2){\n",
    "    \n",
    "    # get labels\n",
    "    \n",
    "    # change the nmdsfit back to a dataframe\n",
    "    nmdsdf <- as.data.frame(fit)\n",
    "    \n",
    "    plot <-     ggplot(nmdsdf, aes(x = V1, y = V2, color=colors, fill=colors)) + geom_point(size =10) + \n",
    "                scale_colour_manual(values = abcolors) + scale_fill_manual(values = abcolors) + \n",
    "                xlab(\"Dimension 1\") + ylab(\"Dimension 2\") + \n",
    "                ggtitle(paste(e2l(eccentricity1),e2l(eccentricity2),'Classical MDS',sep=' - '))\n",
    "    return(plot)\n",
    "}"
   ]
  },
  {
   "cell_type": "markdown",
   "metadata": {},
   "source": [
    "#### Some control measure plots"
   ]
  },
  {
   "cell_type": "markdown",
   "metadata": {},
   "source": [
    "Reaction time vs. similarity judgements"
   ]
  },
  {
   "cell_type": "code",
   "execution_count": 211,
   "metadata": {},
   "outputs": [],
   "source": [
    "# similarity judgement histogram\n",
    "simhistplot <- function(datadf){\n",
    "    \n",
    "   plot <- ggplot(datadf, aes(x = similarity)) + geom_bar(aes(y = ..prop..)) +\n",
    "    scale_x_discrete(limits=c(0,1,2,3,4,5,6,7), name = 'Dissimilarity') +\n",
    "    ylab('Frequency') + ylim(0,0.8)\n",
    "    return(plot)\n",
    "}\n",
    "\n",
    "simhistplot_summary <- function(datadf,QDM='FULL'){\n",
    "    \n",
    "    if(QDM == 'FP'){\n",
    "        datadf <- subset(datadf, ((Circle_1 == l2e('Foveal') & Circle_2 == l2e('Peripheral')) |\n",
    "                                 (Circle_1 == l2e('Peripheral') & Circle_2 == l2e('Foveal'))\n",
    "                                 ))\n",
    "    }\n",
    "    \n",
    "    datadf$subject <- as.character(datadf$subject) # necessary for visualisation\n",
    "    \n",
    "    plot <- ggplot(datadf, aes(x = similarity)) + \n",
    "    geom_line(stat='count',aes(y = ..prop..,group = subject),color='#CC9933') +\n",
    "    geom_line(stat='count',aes(y = ..prop..),size=1.5) +\n",
    "    scale_x_discrete(limits=c(0,1,2,3,4,5,6,7), name = paste(QDM,'Dissimilarity')) +\n",
    "    ylab('Frequency') + ylim(0,0.8)\n",
    "    return(plot)\n",
    "    \n",
    "}"
   ]
  },
  {
   "cell_type": "code",
   "execution_count": 76,
   "metadata": {},
   "outputs": [],
   "source": [
    "# reaction time for each similarity\n",
    "rsplot <- function(datadf){\n",
    "    \n",
    "    plot <- ggplot(datadf, aes(x= similarity, y=response_time)) + \n",
    "    stat_summary(fun.y = mean, geom = \"bar\") + \n",
    "    stat_summary(fun.data = mean_se, geom = \"errorbar\", size =0.5, aes(width=0.5)) +\n",
    "    scale_x_discrete(limits=c(0,1,2,3,4,5,6,7), name = 'Dissimilarity') + ylab('Reaction Time (ms)') +\n",
    "    theme(legend.position = \"none\") +\n",
    "    ylim(0,4000) # anyone taking more than 4 seconds has probably mindwandered\n",
    "    \n",
    "    return(plot)\n",
    "}\n",
    "\n",
    "rsplot_summary <- function(datadf){\n",
    "    \n",
    "    datadf$subject <- as.character(datadf$subject) # necessary for visualisation\n",
    "    \n",
    "    \n",
    "    \n",
    "    plot <- ggplot(datadf, aes(x= similarity, y=response_time,group = subject, color = subject)) + \n",
    "    stat_summary(fun.y = mean, geom = \"line\", size=0.8) + \n",
    "    #stat_summary(fun.data = mean_se, geom = \"errorbar\", size =0.5, aes(width=0.5)) +\n",
    "    scale_x_discrete(limits=c(0,1,2,3,4,5,6,7), name = 'Dissimilarity') + ylab('Mean Reaction Time (ms)') +\n",
    "    theme(legend.position = \"none\") +\n",
    "    ylim(0,4000) # anyone taking more than 4 seconds has probably mindwandered \n",
    "    \n",
    "    return(plot)\n",
    "    \n",
    "}"
   ]
  },
  {
   "cell_type": "code",
   "execution_count": 77,
   "metadata": {},
   "outputs": [],
   "source": [
    "# reaction time raincloud plot\n",
    "rsplot_raincloud <- function(datadf,xtype='linear'){\n",
    "    \n",
    "    datadf$subject <- as.character(datadf$subject) # necessary for visualisation  \n",
    "    datadf$similarity <- as.character(datadf$similarity) # necessary for visualisation\n",
    "    \n",
    "    ylabtext = 'Reaction Time (ms)'\n",
    "    \n",
    "    plot <- ggplot(datadf, aes(y = response_time, x = similarity, fill = similarity)) +\n",
    "            geom_flat_violin(position = position_nudge(x = .2, y = 0), alpha = .8) +\n",
    "            geom_point(aes(y = response_time, color = similarity),\n",
    "                   position = position_jitter(width = .15), size = .5, alpha = 0.8) +\n",
    "            geom_boxplot(width = .1, guides = FALSE, outlier.shape = NA, alpha = 0.5) +\n",
    "            expand_limits(x = 5.25) +\n",
    "            guides(fill = FALSE) +\n",
    "            guides(color = FALSE) +\n",
    "            scale_color_brewer(palette = \"Spectral\") +\n",
    "            scale_fill_brewer(palette = \"Spectral\") +\n",
    "            xlab('Dissimilarity') + ylab(\"Reaction Time (ms)\")\n",
    "            # coord_flip() +\n",
    "            theme_bw() +\n",
    "            raincloud_theme\n",
    "    \n",
    "    if(xtype == 'log'){\n",
    "        plot <- plot + scale_y_continuous(trans='log10') + ylim(0,15000)\n",
    "    } else{\n",
    "        plot <- plot + ylim(0,5000)\n",
    "    }\n",
    "    \n",
    "    return(plot)\n",
    "}"
   ]
  },
  {
   "cell_type": "code",
   "execution_count": 78,
   "metadata": {},
   "outputs": [],
   "source": [
    "# correlation between reaction times and similarity judgements\n",
    "# grouping at individual trial, individual participant, experiment or entire population level\n",
    "rt_similarity_cor <- function(datadf,level='participant'){\n",
    "        \n",
    "    if(level==\"participant\"){\n",
    "        datadf <- datadf %>% \n",
    "                group_by(subject) %>% \n",
    "                mutate(rt_similarity_correlation = cor(similarity,response_time))\n",
    "        datadf <- aggregate(datadf, by=list(datadf$subject), FUN = mean)\n",
    "\n",
    "                \n",
    "    }\n",
    "    return(datadf)\n",
    "    \n",
    "}\n",
    "\n",
    "rt_similarity_plot <- function(datadf,xlabel='BLANK'){\n",
    "    \n",
    "    datadf <- rt_similarity_cor(datadf)\n",
    "    \n",
    "    datadf[xlabel] = xlabel\n",
    "    \n",
    "    plot <- ggplot(datadf,aes(x=xlabel,y=rt_similarity_correlation)) + \n",
    "                geom_boxplot() + \n",
    "                geom_dotplot(binaxis='y',stackdir='center',dotsize=0.75) +\n",
    "                theme(text = element_text(size=15)) + xlab(\"\")\n",
    "                ggtitle(title)\n",
    "    \n",
    "    plot <- plot + ylab(\"Correlation (Spearman)\") + ylim(-1,1)\n",
    "    plot <- plot + geom_hline(yintercept=0, linetype=\"dashed\", color = \"blue\")\n",
    "    return(plot)\n",
    "}"
   ]
  },
  {
   "cell_type": "code",
   "execution_count": 79,
   "metadata": {},
   "outputs": [],
   "source": [
    "# mean reaction time vs. antitrace-trace difference\n",
    "rt_difference <- function(datadf){\n",
    "    \n",
    "    subjectlist <- sort(unique(datadf$subject)) # obtain a list of all the subjects\n",
    "    \n",
    "    for(ID in subjectlist){\n",
    "        tempdf <- subset(datadf, subject == ID)\n",
    "        datadf$difference[datadf$subject == ID] = unlist(antitrace_avg(tempdf),use.names=FALSE)[1] - \n",
    "                   unlist(trace_avg(tempdf),use.names=FALSE)[1]\n",
    "    }\n",
    "        datadf <- aggregate(datadf, by=list(datadf$subject), FUN = mean)\n",
    "    return(datadf)\n",
    "}\n",
    "\n",
    "rt_difference_plot <- function(datadf,xtype='linear'){\n",
    "    \n",
    "    datadf$subject <- as.character(datadf$subject) # necessary for visualisation\n",
    "    \n",
    "    plot <- ggplot(rt_difference(datadf), aes(x=response_time, y=difference)) +\n",
    "            geom_point() + xlab(\"Mean Reaction Time\") + ylab(\"Antitrace - Trace\")\n",
    "    \n",
    "    if(xtype == 'log'){\n",
    "        plot <- plot + scale_x_continuous(trans='log10')\n",
    "    } else{\n",
    "        plot <- plot + xlim(0,5000)\n",
    "    }\n",
    "    plot <- plot + geom_smooth(method=lm) # linear line of best fit\n",
    "    return(plot)\n",
    "}"
   ]
  },
  {
   "cell_type": "code",
   "execution_count": 80,
   "metadata": {},
   "outputs": [],
   "source": [
    "# mean reaction time vs. catch trial score\n",
    "rt_catch <- function(datadf){\n",
    "    \n",
    "    subjectlist <- sort(unique(datadf$subject)) # obtain a list of all the subjects\n",
    "    \n",
    "    for(ID in subjectlist){\n",
    "        tempdf <- subset(datadf, subject == ID)\n",
    "        datadf$catch_score[datadf$subject == ID] = unlist(catch_score(tempdf),use.names=FALSE)[1]\n",
    "    }\n",
    "        datadf <- aggregate(datadf, by=list(datadf$subject), FUN = mean)\n",
    "    return(datadf)\n",
    "}\n",
    "\n",
    "rt_catch_plot <- function(datadf,xtype='linear',label=FALSE){\n",
    "    \n",
    "    datadf <- rt_catch(datadf)\n",
    "    datadf$subject <- as.character(datadf$subject) # necessary for visualisation\n",
    "    \n",
    "    plot <- ggplot(datadf, aes(x=response_time, y=catch_score)) +\n",
    "            geom_point() + xlab(\"Mean Reaction Time\") + ylab(\"Catch Score\")\n",
    "    \n",
    "    if(xtype == 'log'){\n",
    "        plot <- plot + scale_x_continuous(trans='log10')\n",
    "    } else{\n",
    "        plot <- plot + xlim(0,5000)\n",
    "    }\n",
    "    plot <- plot + geom_smooth(method=lm) + ylim(0,1) # linear line of best fit\n",
    "    #plot <- plot + geom_point(aes(color = subject))\n",
    "    if(label){\n",
    "        plot <- plot + geom_text(aes(label = subject),check_overlap=TRUE)\n",
    "    }\n",
    "    return(plot)\n",
    "}"
   ]
  },
  {
   "cell_type": "code",
   "execution_count": 81,
   "metadata": {},
   "outputs": [],
   "source": [
    "# mean antitrace-trace difference vs. catch trial score\n",
    "catch_difference <- function(datadf){\n",
    "    \n",
    "    subjectlist <- sort(unique(datadf$subject)) # obtain a list of all the subjects\n",
    "    \n",
    "    for(ID in subjectlist){\n",
    "        tempdf1 <- subset(datadf, subject == ID & trial_type!= 'catch') # remove catch trials for difference calculation\n",
    "        tempdf2 <- subset(datadf, subject == ID) # keep catch trials for score calculation\n",
    "        datadf$difference[datadf$subject == ID] = \n",
    "                   unlist(antitrace_avg(tempdf1),use.names=FALSE)[1] - \n",
    "                   unlist(trace_avg(tempdf1),use.names=FALSE)[1]\n",
    "        datadf$catch_score[datadf$subject == ID] = unlist(catch_score(tempdf2),use.names=FALSE)[1]\n",
    "    }\n",
    "        datadf <- aggregate(datadf, by=list(datadf$subject), FUN = mean)\n",
    "    return(datadf)\n",
    "}\n",
    "\n",
    "catch_difference_plot <- function(datadf,xtype='linear',label=FALSE){\n",
    "    \n",
    "    datadf <- catch_difference(datadf)\n",
    "    datadf$subject <- as.character(datadf$subject) # necessary for visualisation\n",
    "    \n",
    "    plot <- ggplot(datadf, aes(x=difference, y=catch_score)) +\n",
    "            geom_point() + xlab(\"Antitrace - Trace\") + ylab(\"Catch Score\")\n",
    "    \n",
    "    if(xtype == 'log'){\n",
    "        plot <- plot + scale_x_continuous(trans='log10')\n",
    "    } else{\n",
    "        plot <- plot\n",
    "    }\n",
    "    plot <- plot + geom_smooth(method=lm) + ylim(0,1) # linear line of best fit\n",
    "    #plot <- plot + geom_point(aes(color = subject))\n",
    "    if(label){\n",
    "        plot <- plot + geom_text(aes(label = subject),check_overlap=TRUE)\n",
    "    }\n",
    "    return(plot)\n",
    "}"
   ]
  },
  {
   "cell_type": "code",
   "execution_count": 82,
   "metadata": {},
   "outputs": [],
   "source": [
    "# trace values vs. trial #\n",
    "trace_by_trial_plot <- function(datadf,graph='point',mode='relative'){\n",
    "    \n",
    "     datadf$subject <- as.character(datadf$subject) # necessary for visualisation  \n",
    "    \n",
    "    datadf <- subset(datadf, Color_1 == Color_2)\n",
    "    \n",
    "    if(mode=='relative'){\n",
    "        datadf <- datadf %>% group_by(subject) %>% mutate(trialnum = row_number())\n",
    "    } else{\n",
    "        datadf$trialnum <- datadf$trial_number\n",
    "    }\n",
    "        \n",
    "    if(graph=='point'){\n",
    "        plot <- ggplot(datadf, aes(x=trialnum, y = similarity, group = subject, color = subject)) + geom_point()\n",
    "    } else if (graph == 'boxplot'){\n",
    "        plot <- ggplot(datadf, aes(x=trialnum,y = similarity, group = trialnum)) + geom_boxplot() #????\n",
    "    } else if (graph == 'lineplot'){\n",
    "        plot <- ggplot(datadf, aes(x=trialnum, y = similarity,group=subject, color = subject)) + geom_line()\n",
    "    }\n",
    "    \n",
    "    plot <- plot + ylab('Dissimilarity') +  theme(legend.position='none')\n",
    "    \n",
    "    return(plot)\n",
    "    \n",
    "}"
   ]
  },
  {
   "cell_type": "code",
   "execution_count": 83,
   "metadata": {},
   "outputs": [],
   "source": [
    "# subject info\n",
    "sumplot <- function(datadf){\n",
    "    \n",
    "    # change ms to s, add the delay for each trial\n",
    "    datadf$response_time <- ((datadf$response_time + 0.125*nrow(datadf)) / 1000)\n",
    "    \n",
    "    plot <- ggplot(datadf, aes(x=subject, y = response_time)) + \n",
    "    stat_summary(fun.y = sum, geom = \"bar\") + ylim(0,1000) +\n",
    "    ylab('Response Time Total') + theme(axis.title.x=element_blank(), axis.text.x = element_text(size=20))\n",
    "    \n",
    "    return(plot)\n",
    "}"
   ]
  },
  {
   "cell_type": "code",
   "execution_count": 84,
   "metadata": {},
   "outputs": [],
   "source": [
    "# plot a correlation distribution\n",
    "r_distribution_plot <- function(datadf,fisher=TRUE){\n",
    "    \n",
    "    # return to non-fisher-transformed correlation if applicable\n",
    "    if(!fisher){\n",
    "        datadf$correlations <- FisherZInv(datadf$correlations)\n",
    "    }\n",
    "    \n",
    "    datadf$magnification <- as.character(datadf$magnification) # needed for axes to work properly\n",
    "    datadf$stimulus_radius <- as.character(datadf$stimulus_radius)\n",
    "    \n",
    "    plot <- ggplot(datadf, aes(y=correlations, x=magnification,\n",
    "                               color=stimulus_radius)) + \n",
    "    geom_point(position=position_dodge(width=.75)) + \n",
    "    geom_boxplot(aes(alpha=0.1)) + scale_alpha(guide='none') +\n",
    "    xlab('Peripheral Scaling') + labs(color = 'Stimulus Radius (DVA)')\n",
    "    \n",
    "    if(fisher){\n",
    "        plot <- plot + ylab('Fisher-Transformed Correlation')\n",
    "    } else {\n",
    "        plot <- plot + ylab('Correlation') + ylim(-0.2,1)\n",
    "    }\n",
    "    \n",
    "    return(plot)\n",
    "    \n",
    "}"
   ]
  },
  {
   "cell_type": "markdown",
   "metadata": {},
   "source": [
    "#### Check their screen size & viewing distance"
   ]
  },
  {
   "cell_type": "code",
   "execution_count": 85,
   "metadata": {},
   "outputs": [],
   "source": [
    "# screen size in mm\n",
    "screen_size <- function(datadf){\n",
    "    \n",
    "    datadf <- subset(datadf, trialcode == 'centermouse') # make sure calibrations have finished first\n",
    "    \n",
    "    width <- as.numeric(substr(as.character(datadf$screen_size_x)[1],1,6))\n",
    "    height <- as.numeric(substr(as.character(datadf$screen_size_y)[1],1,6))\n",
    "    \n",
    "    # use pythagoras to just get the hypotenuse. Subjects have a fixed 16/9 aspect ratio so these are all comparable\n",
    "    return(sqrt(width*width + height*height))\n",
    "}"
   ]
  },
  {
   "cell_type": "code",
   "execution_count": 86,
   "metadata": {},
   "outputs": [],
   "source": [
    "# viewing distance in mm\n",
    "view_distance <- function(datadf){\n",
    "    return(as.numeric(substr(as.character(datadf$viewer_distance)[1],1,6)))\n",
    "}"
   ]
  },
  {
   "cell_type": "markdown",
   "metadata": {},
   "source": [
    "### Statistics"
   ]
  },
  {
   "cell_type": "markdown",
   "metadata": {},
   "source": [
    "Useful functions"
   ]
  },
  {
   "cell_type": "code",
   "execution_count": 87,
   "metadata": {},
   "outputs": [],
   "source": [
    "# compare the foveal and peripheral matrices to each other\n",
    "fvp_test <- function(datadf,dependent='color'){\n",
    "    \n",
    "    if(dependent=='position'){\n",
    "        # first, turn the dataframe into the relevant matrices\n",
    "        fmatrix <- df2mat(datadf, l2e('Foveal'), l2e('Foveal'),'position')\n",
    "        #fpmatrix <- distmatrix(datadf, l2e('Foveal'), l2e('Peripheral'))\n",
    "        pmatrix <- df2mat(datadf, l2e('Peripheral'), l2e('Peripheral'),'position')\n",
    "    } else{\n",
    "        # first, turn the dataframe into the relevant matrices\n",
    "        fmatrix <- df2mat(datadf, l2e('Foveal'), l2e('Foveal'))\n",
    "        #fpmatrix <- distmatrix(datadf, l2e('Foveal'), l2e('Peripheral'))\n",
    "        pmatrix <- df2mat(datadf, l2e('Peripheral'), l2e('Peripheral'))\n",
    "    }\n",
    "    #Fovea vs Periphery\n",
    "    test <- mantel(fmatrix, pmatrix, method=\"spearman\",permutations = 9999)\n",
    "    return(test)\n",
    "}"
   ]
  },
  {
   "cell_type": "code",
   "execution_count": 88,
   "metadata": {},
   "outputs": [],
   "source": [
    "# compare the each of the foveal and peripheral matrices to a random uniform distribution using a ... test\n",
    "# not actually sure this is conceptually possible or even makes sense\n",
    "rand_test <- function(datadf){\n",
    "    \n",
    "    # first, turn the dataframe into the relevant matrices\n",
    "    fmatrix <- df2mat(datadf, l2e('Foveal'), l2e('Foveal'))\n",
    "    #fpmatrix <- distmatrix(datadf, l2e('Foveal'), l2e('Peripheral'))\n",
    "    pmatrix <- df2mat(datadf, l2e('Peripheral'), l2e('Peripheral'))\n",
    "    \n",
    "    \n",
    "    # compare\n",
    "    ftest <- \n",
    "    ptest <- \n",
    "    return(list(\"ftest\" = ftest, \"ptest\" = ptest)) # use index of result to get the foveal or peripheral comparison\n",
    "}\n",
    "\n"
   ]
  },
  {
   "cell_type": "code",
   "execution_count": 189,
   "metadata": {},
   "outputs": [],
   "source": [
    "# calculate trace average, small values presumably indicate subjects not just saying everything is completely dissimilar\n",
    "# will also need a complementary method to deal with them saying everything is the same? Might be an inappropriate\n",
    "# a-priori imposition though, I probably can't tell people how similar different colours should be...\n",
    "\n",
    "trace_avg <- function(datadf){\n",
    "    \n",
    "    # first, turn the dataframe into the relevant matrices\n",
    "    fmatrix <- df2mat.full(datadf, l2e('Foveal'), l2e('Foveal'))\n",
    "    #fpmatrix <- distmatrix(datadf, l2e('Foveal'), l2e('Peripheral'))\n",
    "    pmatrix <- df2mat.full(datadf, l2e('Peripheral'), l2e('Peripheral'))\n",
    "    \n",
    "    \n",
    "    \n",
    "    return(list( (sum(diag(fmatrix))/nrow(fmatrix)), (sum(diag(pmatrix))/nrow(pmatrix))))\n",
    "}"
   ]
  },
  {
   "cell_type": "code",
   "execution_count": 261,
   "metadata": {},
   "outputs": [],
   "source": [
    "# calculate the average of the main or off-main diagonal for a QDM for a group of subjects\n",
    "group_trace <- function(datadf,QDM='FP',mode='trace'){\n",
    "    subjectlist <- sort(unique(datadf$subject)) # obtain a list of all the subjects\n",
    "    \n",
    "    trace.vec <- vector()\n",
    "    \n",
    "    for (subjectid in subjectlist){\n",
    "        tempdf <- subset(datadf, subject == subjectid)\n",
    "        if(QDM=='FF'){\n",
    "            matrix <- df2mat.full(tempdf, l2e('Foveal'),l2e('Foveal'))\n",
    "        } else if (QDM == 'FP'){\n",
    "            matrix <- df2mat.full(tempdf, l2e('Foveal'),l2e('Peripheral'))\n",
    "        } else if (QDM == 'PP'){\n",
    "            matrix <- df2mat.full(tempdf, l2e('Peripherial'),l2e('Peripheral'))\n",
    "        }\n",
    "        \n",
    "        #obtain relevant value\n",
    "        if(mode == 'trace'){\n",
    "            trace <- sum(diag(matrix))/nrow(matrix)\n",
    "        } else if (mode=='antitrace'){\n",
    "            trace <- antitrace(matrix)\n",
    "        }\n",
    "        \n",
    "        trace.vec <- c(trace.vec, trace)\n",
    "    }\n",
    "    return(trace.vec)\n",
    "}"
   ]
  },
  {
   "cell_type": "code",
   "execution_count": 269,
   "metadata": {},
   "outputs": [],
   "source": [
    "group_trace_plot <- function(datadf,QDM='FP'){\n",
    "    \n",
    "    subjects <- unique(datadf$subject)\n",
    "    Main <- group_trace(datadf,QDM=QDM,mode='trace')\n",
    "    Antimain <- group_trace(datadf,QDM=QDM,mode='antitrace')\n",
    "    \n",
    "    tempdf <- data.frame(subjects,Main,Antimain)\n",
    "    tempdf <- tempdf %>% gather(feature,value,Main:Antimain)\n",
    "    \n",
    "    plot <- ggplot(tempdf, aes(x=feature,y=value)) + \n",
    "        geom_boxplot() + geom_point() + geom_line(aes(group=paired)) +\n",
    "        ylab(\"Dissimilarity\") + xlab(\"\") + scale_x_discrete(limits=rev(levels(as.factor(tempdf$feature))))\n",
    "    return(plot)\n",
    "}"
   ]
  },
  {
   "cell_type": "code",
   "execution_count": 270,
   "metadata": {},
   "outputs": [
    {
     "ename": "ERROR",
     "evalue": "Error in ylab(\"Dissimilarity\") + xlab(\"\"): non-numeric argument to binary operator\n",
     "output_type": "error",
     "traceback": [
      "Error in ylab(\"Dissimilarity\") + xlab(\"\"): non-numeric argument to binary operator\nTraceback:\n",
      "1. group_trace_plot(cleandf)"
     ]
    }
   ],
   "source": [
    "group_trace_plot(cleandf)"
   ]
  },
  {
   "cell_type": "code",
   "execution_count": 228,
   "metadata": {},
   "outputs": [],
   "source": [
    "# find the 'anti-trace' of a matrix\n",
    "antitrace <- function(mat){\n",
    "    \n",
    "    sum = 0\n",
    "    for(i in (1:nrow(mat))){\n",
    "        k = as.numeric(mat[ i, as.integer((ncol(mat)/2+i) %% ncol(mat))+1 ])\n",
    "        sum = sum + k\n",
    "    }\n",
    "    return(sum/nrow(mat))\n",
    "}"
   ]
  },
  {
   "cell_type": "code",
   "execution_count": 190,
   "metadata": {},
   "outputs": [],
   "source": [
    "# calculates the average of the 'anti-trace', the values I'd expect to be the most dissimilar.\n",
    "# this may not be an appropriate imposition on subjects...\n",
    "\n",
    "antitrace_avg <- function(datadf){\n",
    "    \n",
    "    # first, turn the dataframe into the relevant matrices\n",
    "    fmatrix <- df2mat.full(datadf, l2e('Foveal'), l2e('Foveal'))\n",
    "    #fpmatrix <- distmatrix(datadf, l2e('Foveal'), l2e('Peripheral'))\n",
    "    pmatrix <- df2mat.full(datadf, l2e('Peripheral'), l2e('Peripheral'))\n",
    "    \n",
    "    return(list(antitrace(fmatrix), antitrace(pmatrix)))\n",
    "}"
   ]
  },
  {
   "cell_type": "code",
   "execution_count": 92,
   "metadata": {},
   "outputs": [],
   "source": [
    "# just get a simple measure of if the matrices are correlated, irrespective of treating them as distance matrices\n",
    "# updated from df2mat to df2mat.full\n",
    "# half version just uses half the matrix as it's symmetrical anyway\n",
    "matrixcor <- function(datadf,M1='FF',M2='PP',dependent='color', mode='half'){\n",
    "    \n",
    "    if(dependent == 'position'){\n",
    "        # first, turn the dataframe into the relevant matrices\n",
    "        matrix1 <- df2mat.full(datadf, l2e('Foveal'), l2e('Foveal'),'position')\n",
    "        #fpmatrix <- distmatrix(datadf, l2e('Foveal'), l2e('Peripheral'))\n",
    "        matrix2 <- df2mat.full(datadf, l2e('Peripheral'), l2e('Peripheral'),'position')\n",
    "    } else {\n",
    "        if((M1 == 'FF' & M2 == 'PP') | (M1 == 'PP' & M2 == 'FF')){\n",
    "            matrix1 <- df2mat.full(datadf, l2e('Foveal'), l2e('Foveal'))\n",
    "            matrix2 <- df2mat.full(datadf, l2e('Peripheral'), l2e('Peripheral'))   \n",
    "        } else if((M1 == 'FF' & M2 == 'FP') | (M1 == 'FP' & M2 == 'FF')) {\n",
    "            matrix1 <- df2mat.full(datadf, l2e('Foveal'), l2e('Foveal'))\n",
    "            matrix2 <- df2mat.full(datadf, l2e('Foveal'), l2e('Peripheral'))\n",
    "        } else if ((M1 == 'FP' & M2 == 'PP') | (M1 == 'PP' & M2 == 'FP')){\n",
    "            matrix1 <- df2mat.full(datadf, l2e('Foveal'), l2e('Peripheral'))\n",
    "            matrix2 <- df2mat.full(datadf, l2e('Peripheral'), l2e('Peripheral'))\n",
    "        }\n",
    "    }\n",
    "    \n",
    "    # just take the upper half (including the diagonal)\n",
    "    if(mode=='half'){\n",
    "        matrix1 <- matrix1[upper.tri(matrix1, diag = TRUE)]\n",
    "        matrix2 <- matrix2[upper.tri(matrix2, diag = TRUE)]\n",
    "    }\n",
    "    \n",
    "    return(cor(c(matrix1), c(matrix2), method = \"spearman\"))\n",
    "}"
   ]
  },
  {
   "cell_type": "code",
   "execution_count": 93,
   "metadata": {},
   "outputs": [],
   "source": [
    "# get median reaction time\n",
    "rt_avg <- function(datadf){\n",
    "    return(median(datadf$response_time))\n",
    "}"
   ]
  },
  {
   "cell_type": "markdown",
   "metadata": {},
   "source": [
    "Run the analysis"
   ]
  },
  {
   "cell_type": "code",
   "execution_count": 94,
   "metadata": {},
   "outputs": [],
   "source": [
    "# stats for all the subjects\n",
    "allsubjectstats <- function(datadf){\n",
    "    \n",
    "    subjectlist <- sort(unique(datadf$subject)) # obtain a list of all the subjects\n",
    "\n",
    "\n",
    "    for (subjectid in subjectlist){\n",
    "        \n",
    "        subjectdf = subset(datadf, subject == subjectid) # select the df for subject of interest\n",
    "        cat(\"SUBJECT: \",subjectid,'\\n') # print subject id\n",
    "        print(\"Mantel Test: \")\n",
    "        print(fvp_test(subjectdf))\n",
    "        print(\"Matrices correlation: \")\n",
    "        print(matrixcor(subjectdf))\n",
    "        print(\"Quality control measures:\")\n",
    "        print(\"Trace average:\")\n",
    "        print(trace_avg(subjectdf))\n",
    "        print(\"Anti-trace average:\")\n",
    "        print(antitrace_avg(subjectdf))\n",
    "    }\n",
    "}"
   ]
  },
  {
   "cell_type": "code",
   "execution_count": 95,
   "metadata": {
    "scrolled": true
   },
   "outputs": [],
   "source": [
    "# function to aggregate everyone's data together\n",
    "aggregate_df <- function(datadf,dependent='color'){\n",
    "\n",
    "    # aggregate everyone's data together for the matrices\n",
    "    everyonedata <- aggregate(datadf, by=list(\n",
    "        datadf$Color_1,\n",
    "        datadf$Color_2,\n",
    "        datadf$Circle_1,\n",
    "        datadf$Circle_2,\n",
    "        datadf$bin1,\n",
    "        datadf$bin2\n",
    "        ), FUN=mean, \n",
    "    )\n",
    "\n",
    "    # correct the column names\n",
    "    everyonedata$Color_1 <- everyonedata$Group.1\n",
    "    everyonedata$Color_2 <- everyonedata$Group.2\n",
    "    everyonedata$Circle_1 <- everyonedata$Group.3\n",
    "    everyonedata$Circle_2 <- everyonedata$Group.4\n",
    "    everyonedata$bin1 <- everyonedata$Group.5\n",
    "    everyonedata$bin2 <- everyonedata$Group.6\n",
    "    \n",
    "    return(everyonedata)\n",
    "}"
   ]
  },
  {
   "cell_type": "code",
   "execution_count": 96,
   "metadata": {},
   "outputs": [],
   "source": [
    "# compliance checker\n",
    "compliance_checker <- function(datadf,eccentricity,trace_cutoff,antitrace_cutoff){\n",
    "    \n",
    "    subjectlist <- sort(unique(datadf$subject)) # obtain a list of all the subjects\n",
    "    n_subject = length(subjectlist)\n",
    "    trace_fail = 0\n",
    "    antitrace_fail = 0\n",
    "    \n",
    "    if(eccentricity == 'Foveal'){\n",
    "        e_ind = 1\n",
    "    } else if (eccentricity == 'Peripheral'){\n",
    "        e_ind = 2\n",
    "    }\n",
    "\n",
    "    for (subjectid in subjectlist){\n",
    "        subjectdf = subset(datadf, subject == subjectid) # select the df for subject of interest\n",
    "        if(trace_avg(subjectdf)[e_ind] > trace_cutoff){\n",
    "            trace_fail = trace_fail + 1\n",
    "        }\n",
    "        if(antitrace_avg(subjectdf)[e_ind] < antitrace_cutoff){\n",
    "            antitrace_fail = antitrace_fail + 1\n",
    "        }\n",
    "    }\n",
    "    print(paste(\"Trace non-compliance: \",trace_fail,\"/\",n_subject))\n",
    "    print(paste(\"Anti-trace non-compliance: \",antitrace_fail,\"/\",n_subject))\n",
    "}"
   ]
  },
  {
   "cell_type": "code",
   "execution_count": 97,
   "metadata": {},
   "outputs": [],
   "source": [
    "# calculate the catch trial score for a subject\n",
    "catch_score <- function(datadf){\n",
    "    datadf <- subset(datadf, trial_type == 'catch')\n",
    "    datadf$correct <- ifelse(datadf$similarity == datadf$catch_vals, 1, 0) # determine whether they got the catch trials right\n",
    "    score <- sum(datadf$correct)/nrow(datadf) # get the score\n",
    "    return(score)\n",
    "}"
   ]
  },
  {
   "cell_type": "code",
   "execution_count": 98,
   "metadata": {},
   "outputs": [],
   "source": [
    "# catch trial checker\n",
    "catch_trial_checker <- function(datadf){\n",
    "    \n",
    "    subjectlist <- sort(unique(datadf$subject))\n",
    "    print(\"Catch scores\")\n",
    "    for (subjectid in subjectlist){\n",
    "        subjectdf = subset(datadf, subject == subjectid)\n",
    "        \n",
    "        catch_trials <- subset(subjectdf, trial_type == 'catch')\n",
    "        catch_num = nrow(catch_trials)\n",
    "        catch_correct = nrow(subset(catch_trials, catch_vals == similarity))\n",
    "        \n",
    "        print(paste(\"Subject\",subjectid,\":\",catch_correct,\"/\",catch_num))\n",
    "    }\n",
    "}"
   ]
  },
  {
   "cell_type": "code",
   "execution_count": 99,
   "metadata": {},
   "outputs": [],
   "source": [
    "# screen parameters\n",
    "screen_parameters <- function(datadf,individual=FALSE){\n",
    "    \n",
    "    subjectlist <- sort(unique(datadf$subject))\n",
    "    print(\"Screen Parameters\")\n",
    "    screen_fail = 0\n",
    "    viewing_fail = 0\n",
    "    for (subjectid in subjectlist){\n",
    "        subjectdf = subset(datadf, subject == subjectid)\n",
    "        \n",
    "        screen_size <- round(screen_size(subjectdf)/10,1)\n",
    "        viewing_distance <- round(view_distance(subjectdf)/10,1)\n",
    "        \n",
    "        if(screen_size < 20){screen_fail = screen_fail + 1}\n",
    "        if(viewing_distance < 30){viewing_fail = viewing_fail + 1}\n",
    "        \n",
    "        if(individual){\n",
    "            print(paste(\"Subject\",subjectid,\":\"))\n",
    "            print(paste(\"Screen size:\",screen_size,\"cm\"))\n",
    "            print(paste(\"Viewing distance:\",viewing_distance,\"cm\"))\n",
    "            print(\"\")\n",
    "        }\n",
    "        \n",
    "        \n",
    "    }\n",
    "    print(\"\")\n",
    "    print(paste(\"Screen size issues:\",screen_fail,\"/\",length(subjectlist)))\n",
    "    print(paste(\"Viewing distance issues:\",viewing_fail,\"/\",length(subjectlist)))\n",
    "}"
   ]
  },
  {
   "cell_type": "code",
   "execution_count": 100,
   "metadata": {},
   "outputs": [],
   "source": [
    "# summary stats\n",
    "summarystats <- function(datadf,dependent='color'){\n",
    "    if(dependent=='position'){\n",
    "        print(\"Mantel Test: \")\n",
    "        print(fvp_test(aggregate_df(datadf),'position'))\n",
    "        print(\"Matrices correlation: \")\n",
    "        print(matrixcor(aggregate_df(datadf),'position'))\n",
    "    } else {\n",
    "        print(\"Mantel Test: \")\n",
    "        print(fvp_test(aggregate_df(datadf)))\n",
    "        print(\"Matrices correlation: \")\n",
    "        print(matrixcor(aggregate_df(datadf)))\n",
    "    }\n",
    "    \n",
    "    \n",
    "    print(\"Foveal compliance:\")\n",
    "    compliance_checker(datadf,'Foveal')\n",
    "    print(\"Peripheral compliance:\")\n",
    "    compliance_checker(datadf,'Peripheral')\n",
    "}"
   ]
  },
  {
   "cell_type": "markdown",
   "metadata": {},
   "source": [
    "## Actual Data Analysis Time"
   ]
  },
  {
   "cell_type": "markdown",
   "metadata": {},
   "source": [
    "#### Initial data pre-processing, before getting to the subject level"
   ]
  },
  {
   "cell_type": "code",
   "execution_count": 101,
   "metadata": {},
   "outputs": [],
   "source": [
    "datadf = read.csv(filename)\n",
    "savestr <- substr(filename,1,nchar(filename)-4) # for saving related files later\n"
   ]
  },
  {
   "cell_type": "code",
   "execution_count": 150,
   "metadata": {},
   "outputs": [],
   "source": [
    "#weird bug in a subject data for arielzj_fvp_2stim_fixed_point25dva_v2_20_08_30 (1)\n",
    "datadf <- subset(datadf, (subject != 660294531) & (subject != 21721408))"
   ]
  },
  {
   "cell_type": "code",
   "execution_count": 151,
   "metadata": {},
   "outputs": [],
   "source": [
    "# remove practice trial data\n",
    "datadf <- subset(datadf, blockcode == 'experiment')"
   ]
  },
  {
   "cell_type": "code",
   "execution_count": 152,
   "metadata": {},
   "outputs": [
    {
     "name": "stderr",
     "output_type": "stream",
     "text": [
      "The following `from` values were not present in `x`: 1, 2, 3, 4, 5, 6, 7, 8, 9\n",
      "The following `from` values were not present in `x`: 1, 2, 3, 4, 5, 6, 7, 8, 9\n"
     ]
    }
   ],
   "source": [
    "# changing color values from RGB to hex for graphing purpose\n",
    "datadf$Color_1 <- as.character(datadf$Color_1)\n",
    "datadf$Color_1 <- revalue(datadf$Color_1, \n",
    "                                                    c(  \"1\" = '#FF0000',\n",
    "                                                        \"2\" = '#FFAA00',\n",
    "                                                        \"3\" = '#AAFF00',\n",
    "                                                        \"4\" = '#00FF00',\n",
    "                                                        \"5\" = '#00FFA9',\n",
    "                                                        \"6\" = '#00A9FF',\n",
    "                                                        \"7\" = '#0000FF',\n",
    "                                                        \"8\" = '#AA00FF',\n",
    "                                                        \"9\" = '#FF00AA'))\n",
    "datadf$Color_2 <- as.character(datadf$Color_2)\n",
    "datadf$Color_2 <- revalue(datadf$Color_2, \n",
    "                                                    c(  \"1\" = '#FF0000',\n",
    "                                                        \"2\" = '#FFAA00',\n",
    "                                                        \"3\" = '#AAFF00',\n",
    "                                                        \"4\" = '#00FF00',\n",
    "                                                        \"5\" = '#00FFA9',\n",
    "                                                        \"6\" = '#00A9FF',\n",
    "                                                        \"7\" = '#0000FF',\n",
    "                                                        \"8\" = '#AA00FF',\n",
    "                                                        \"9\" = '#FF00AA'))\n",
    "\n"
   ]
  },
  {
   "cell_type": "code",
   "execution_count": 153,
   "metadata": {},
   "outputs": [],
   "source": [
    "# changing from int indicators in the .csv file to more readable labels for eccentricity\n",
    "foveal = -1\n",
    "peripheral = 1"
   ]
  },
  {
   "cell_type": "code",
   "execution_count": 154,
   "metadata": {},
   "outputs": [],
   "source": [
    "# set the maximum and minimum dissimilarity values for later analysis\n",
    "min_val = 0\n",
    "max_val = 6"
   ]
  },
  {
   "cell_type": "code",
   "execution_count": 155,
   "metadata": {},
   "outputs": [],
   "source": [
    "# binning the positions the stimuli were displayed in to use as a control measure later\n",
    "datadf$bin1 <- as.integer((datadf$Position_1+180) / 40) + 1\n",
    "datadf$bin2 <- as.integer((datadf$Position_2+180) / 40) + 1"
   ]
  },
  {
   "cell_type": "code",
   "execution_count": 156,
   "metadata": {},
   "outputs": [],
   "source": [
    "# adding a trial type label\n",
    "label_eccen_type <- function(datadf){\n",
    "    datadf <- datadf %>%\n",
    "    mutate(eccen_type = case_when(Circle_1 == l2e('Foveal') & Circle_2 == l2e('Foveal') ~ 'FF',\n",
    "                             Circle_1 == l2e('Foveal') & Circle_2 == l2e('Peripheral') ~ 'FP',\n",
    "                             Circle_1 == l2e('Peripheral') & Circle_2 == l2e('Peripheral') ~ 'PP'))\n",
    "    return(datadf)\n",
    "}"
   ]
  },
  {
   "cell_type": "code",
   "execution_count": 157,
   "metadata": {},
   "outputs": [],
   "source": [
    "datadf <- label_eccen_type(datadf)"
   ]
  },
  {
   "cell_type": "markdown",
   "metadata": {},
   "source": [
    "Some actual data cleaning"
   ]
  },
  {
   "cell_type": "code",
   "execution_count": 158,
   "metadata": {},
   "outputs": [],
   "source": [
    "# function to throw out  participants who didn't finish\n",
    "remove_incomplete <- function(datadf,stimuli_number){\n",
    "    \n",
    "    subjectlist <- sort(unique(datadf$subject)) # obtain a list of all the subjects\n",
    "    print(paste(length(subjectlist),\"in dataset\"))\n",
    "    print(\"\")\n",
    "    \n",
    "    for (ID in subjectlist){ # go through subject by subject\n",
    "        \n",
    "        trialnumber = stimuli_number*stimuli_number*condition_number + catch_trial_number\n",
    "        \n",
    "        trialsdone <- nrow(subset(datadf, subject == ID))\n",
    "        print(paste(\"Subject\",ID,\"completed\",trialsdone,\"/\",trialnumber))\n",
    "        \n",
    "        if ( trialsdone != trialnumber){ # see if they have the appropriate trial numbers\n",
    "            datadf <- subset(datadf, subject != ID) # dump the subject\n",
    "        }\n",
    "    }\n",
    "    return(datadf)\n",
    "}"
   ]
  },
  {
   "cell_type": "code",
   "execution_count": 159,
   "metadata": {
    "scrolled": true
   },
   "outputs": [
    {
     "name": "stdout",
     "output_type": "stream",
     "text": [
      "[1] \"Screen Parameters\"\n",
      "[1] \"\"\n",
      "[1] \"Screen size issues: 0 / 83\"\n",
      "[1] \"Viewing distance issues: 0 / 83\"\n"
     ]
    }
   ],
   "source": [
    "screen_parameters(datadf)"
   ]
  },
  {
   "cell_type": "code",
   "execution_count": 160,
   "metadata": {},
   "outputs": [
    {
     "name": "stdout",
     "output_type": "stream",
     "text": [
      "[1] \"83 in dataset\"\n",
      "[1] \"\"\n",
      "[1] \"Subject 40354804 completed 253 / 253\"\n",
      "[1] \"Subject 48341337 completed 253 / 253\"\n",
      "[1] \"Subject 50823202 completed 253 / 253\"\n",
      "[1] \"Subject 51805023 completed 253 / 253\"\n",
      "[1] \"Subject 63991259 completed 253 / 253\"\n",
      "[1] \"Subject 75394365 completed 253 / 253\"\n",
      "[1] \"Subject 98665966 completed 253 / 253\"\n",
      "[1] \"Subject 99640956 completed 253 / 253\"\n",
      "[1] \"Subject 120361401 completed 253 / 253\"\n",
      "[1] \"Subject 133207874 completed 253 / 253\"\n",
      "[1] \"Subject 172093576 completed 253 / 253\"\n",
      "[1] \"Subject 176698125 completed 253 / 253\"\n",
      "[1] \"Subject 204525930 completed 253 / 253\"\n",
      "[1] \"Subject 219326440 completed 253 / 253\"\n",
      "[1] \"Subject 225280441 completed 253 / 253\"\n",
      "[1] \"Subject 232984941 completed 253 / 253\"\n",
      "[1] \"Subject 244316230 completed 253 / 253\"\n",
      "[1] \"Subject 245575217 completed 253 / 253\"\n",
      "[1] \"Subject 251360273 completed 253 / 253\"\n",
      "[1] \"Subject 252347716 completed 253 / 253\"\n",
      "[1] \"Subject 254207207 completed 253 / 253\"\n",
      "[1] \"Subject 265310712 completed 253 / 253\"\n",
      "[1] \"Subject 269397244 completed 253 / 253\"\n",
      "[1] \"Subject 281640697 completed 253 / 253\"\n",
      "[1] \"Subject 285550479 completed 253 / 253\"\n",
      "[1] \"Subject 300304269 completed 253 / 253\"\n",
      "[1] \"Subject 301246724 completed 253 / 253\"\n",
      "[1] \"Subject 315222554 completed 253 / 253\"\n",
      "[1] \"Subject 336215410 completed 253 / 253\"\n",
      "[1] \"Subject 369400829 completed 253 / 253\"\n",
      "[1] \"Subject 382104984 completed 253 / 253\"\n",
      "[1] \"Subject 401106595 completed 253 / 253\"\n",
      "[1] \"Subject 403595429 completed 253 / 253\"\n",
      "[1] \"Subject 404565472 completed 253 / 253\"\n",
      "[1] \"Subject 413006308 completed 253 / 253\"\n",
      "[1] \"Subject 431543630 completed 253 / 253\"\n",
      "[1] \"Subject 452832938 completed 253 / 253\"\n",
      "[1] \"Subject 456189850 completed 253 / 253\"\n",
      "[1] \"Subject 471457102 completed 253 / 253\"\n",
      "[1] \"Subject 475089391 completed 253 / 253\"\n",
      "[1] \"Subject 478579177 completed 253 / 253\"\n",
      "[1] \"Subject 497105461 completed 253 / 253\"\n",
      "[1] \"Subject 513963865 completed 253 / 253\"\n",
      "[1] \"Subject 517148418 completed 253 / 253\"\n",
      "[1] \"Subject 517476929 completed 253 / 253\"\n",
      "[1] \"Subject 518370751 completed 253 / 253\"\n",
      "[1] \"Subject 518373039 completed 253 / 253\"\n",
      "[1] \"Subject 527222665 completed 253 / 253\"\n",
      "[1] \"Subject 537190567 completed 253 / 253\"\n",
      "[1] \"Subject 601005594 completed 253 / 253\"\n",
      "[1] \"Subject 621746618 completed 253 / 253\"\n",
      "[1] \"Subject 636181616 completed 253 / 253\"\n",
      "[1] \"Subject 671500180 completed 253 / 253\"\n",
      "[1] \"Subject 672521560 completed 253 / 253\"\n",
      "[1] \"Subject 711452977 completed 253 / 253\"\n",
      "[1] \"Subject 718139824 completed 253 / 253\"\n",
      "[1] \"Subject 718626067 completed 253 / 253\"\n",
      "[1] \"Subject 727170484 completed 253 / 253\"\n",
      "[1] \"Subject 727174165 completed 253 / 253\"\n",
      "[1] \"Subject 787133962 completed 253 / 253\"\n",
      "[1] \"Subject 788405028 completed 253 / 253\"\n",
      "[1] \"Subject 789921315 completed 253 / 253\"\n",
      "[1] \"Subject 790529144 completed 253 / 253\"\n",
      "[1] \"Subject 799430110 completed 253 / 253\"\n",
      "[1] \"Subject 812377006 completed 253 / 253\"\n",
      "[1] \"Subject 813749599 completed 253 / 253\"\n",
      "[1] \"Subject 839320766 completed 253 / 253\"\n",
      "[1] \"Subject 843575785 completed 253 / 253\"\n",
      "[1] \"Subject 891685621 completed 253 / 253\"\n",
      "[1] \"Subject 896467980 completed 253 / 253\"\n",
      "[1] \"Subject 903704841 completed 253 / 253\"\n",
      "[1] \"Subject 909849446 completed 253 / 253\"\n",
      "[1] \"Subject 925257755 completed 253 / 253\"\n",
      "[1] \"Subject 928731678 completed 253 / 253\"\n",
      "[1] \"Subject 934533023 completed 253 / 253\"\n",
      "[1] \"Subject 940741322 completed 253 / 253\"\n",
      "[1] \"Subject 941912207 completed 253 / 253\"\n",
      "[1] \"Subject 945873991 completed 253 / 253\"\n",
      "[1] \"Subject 947430341 completed 253 / 253\"\n",
      "[1] \"Subject 964615310 completed 253 / 253\"\n",
      "[1] \"Subject 976032736 completed 253 / 253\"\n",
      "[1] \"Subject 983874771 completed 253 / 253\"\n",
      "[1] \"Subject 991358067 completed 253 / 253\"\n"
     ]
    }
   ],
   "source": [
    "# actually throw out the subjects who didn't complete\n",
    "datadf <- remove_incomplete(datadf,stimuli_number)"
   ]
  },
  {
   "cell_type": "code",
   "execution_count": 162,
   "metadata": {},
   "outputs": [],
   "source": [
    "# function to label participants who meet statistical cleaning assumptions\n",
    "label_noncompliant <- function(datadf,\n",
    "                               screen_size_cutoff=26,viewing_distance_cutoff=30,rt_cutoff=700,score_cutoff=0.8){\n",
    "    \n",
    "    subjectlist <- sort(unique(datadf$subject)) # obtain a list of all the subjects\n",
    "    \n",
    "    for (ID in subjectlist){ # go through subject by subject\n",
    "        \n",
    "        subjectdf = subset(datadf, subject == ID) # select the ID for subject of interest \n",
    "        \n",
    "        screen_size <- round(screen_size(subjectdf)/10,1)\n",
    "        viewing_distance <- round(view_distance(subjectdf)/10,1)\n",
    "        catch_score <- catch_score(subjectdf)\n",
    "        \n",
    "        if(catch_score > score_cutoff){ # catch score cutoff\n",
    "            if(screen_size > screen_size_cutoff){ # screen size cutoff\n",
    "                if(viewing_distance > viewing_distance_cutoff){ # viewing distance cutoff\n",
    "                    if(rt_avg(subjectdf) > rt_cutoff){ # rt cutoff\n",
    "                        datadf$noncompliant[datadf$subject == ID] = 0\n",
    "                    } else {\n",
    "                        print(paste(\"Subject\",ID,\"reaction time of:\",rt_avg(subjectdf),\"ms\",sep=' ')) # RT fail\n",
    "                        datadf$noncompliant[datadf$subject == ID] = 1\n",
    "                    }\n",
    "                } else {\n",
    "                    print(paste(\"Subject\",ID,\"viewing distance of:\",viewing_distance,\"cm\",sep=' ')) # Viewing distance fail\n",
    "                    datadf$noncompliant[datadf$subject == ID] = 2\n",
    "                }\n",
    "            } else {\n",
    "                print(paste(\"Subject\",ID,\"had a screen size of:\",screen_size,\"cm\",sep=' ')) # Screen size fail\n",
    "                datadf$noncompliant[datadf$subject == ID] = 3\n",
    "            } \n",
    "      } else {\n",
    "            print(paste(\"Subject\",ID,\"had a catch score of: \",catch_score,sep=' ')) # Catch score faile\n",
    "            datadf$noncompliant[datadf$subject == ID] = 4\n",
    "        }\n",
    "    }\n",
    "    print(paste(length(unique(datadf$subject[datadf$noncompliant==0])),\"of\",length(unique(datadf$subject)),\n",
    "                \"were compliant\",sep=' '))\n",
    "    return(datadf)\n",
    "}"
   ]
  },
  {
   "cell_type": "code",
   "execution_count": 163,
   "metadata": {},
   "outputs": [
    {
     "name": "stdout",
     "output_type": "stream",
     "text": [
      "[1] \"Catch scores\"\n",
      "[1] \"Subject 40354804 : 10 / 10\"\n",
      "[1] \"Subject 48341337 : 10 / 10\"\n",
      "[1] \"Subject 50823202 : 10 / 10\"\n",
      "[1] \"Subject 51805023 : 10 / 10\"\n",
      "[1] \"Subject 63991259 : 10 / 10\"\n",
      "[1] \"Subject 75394365 : 10 / 10\"\n",
      "[1] \"Subject 98665966 : 10 / 10\"\n",
      "[1] \"Subject 99640956 : 10 / 10\"\n",
      "[1] \"Subject 120361401 : 1 / 10\"\n",
      "[1] \"Subject 133207874 : 7 / 10\"\n",
      "[1] \"Subject 172093576 : 7 / 10\"\n",
      "[1] \"Subject 176698125 : 10 / 10\"\n",
      "[1] \"Subject 204525930 : 10 / 10\"\n",
      "[1] \"Subject 219326440 : 7 / 10\"\n",
      "[1] \"Subject 225280441 : 10 / 10\"\n",
      "[1] \"Subject 232984941 : 10 / 10\"\n",
      "[1] \"Subject 244316230 : 5 / 10\"\n",
      "[1] \"Subject 245575217 : 10 / 10\"\n",
      "[1] \"Subject 251360273 : 10 / 10\"\n",
      "[1] \"Subject 252347716 : 6 / 10\"\n",
      "[1] \"Subject 254207207 : 4 / 10\"\n",
      "[1] \"Subject 265310712 : 1 / 10\"\n",
      "[1] \"Subject 269397244 : 10 / 10\"\n",
      "[1] \"Subject 281640697 : 10 / 10\"\n",
      "[1] \"Subject 285550479 : 1 / 10\"\n",
      "[1] \"Subject 300304269 : 10 / 10\"\n",
      "[1] \"Subject 301246724 : 10 / 10\"\n",
      "[1] \"Subject 315222554 : 8 / 10\"\n",
      "[1] \"Subject 336215410 : 9 / 10\"\n",
      "[1] \"Subject 369400829 : 7 / 10\"\n",
      "[1] \"Subject 382104984 : 0 / 10\"\n",
      "[1] \"Subject 401106595 : 10 / 10\"\n",
      "[1] \"Subject 403595429 : 10 / 10\"\n",
      "[1] \"Subject 404565472 : 10 / 10\"\n",
      "[1] \"Subject 413006308 : 10 / 10\"\n",
      "[1] \"Subject 431543630 : 10 / 10\"\n",
      "[1] \"Subject 452832938 : 10 / 10\"\n",
      "[1] \"Subject 456189850 : 9 / 10\"\n",
      "[1] \"Subject 471457102 : 3 / 10\"\n",
      "[1] \"Subject 475089391 : 7 / 10\"\n",
      "[1] \"Subject 478579177 : 10 / 10\"\n",
      "[1] \"Subject 497105461 : 9 / 10\"\n",
      "[1] \"Subject 513963865 : 10 / 10\"\n",
      "[1] \"Subject 517148418 : 10 / 10\"\n",
      "[1] \"Subject 517476929 : 4 / 10\"\n",
      "[1] \"Subject 518370751 : 10 / 10\"\n",
      "[1] \"Subject 518373039 : 10 / 10\"\n",
      "[1] \"Subject 527222665 : 10 / 10\"\n",
      "[1] \"Subject 537190567 : 10 / 10\"\n",
      "[1] \"Subject 601005594 : 6 / 10\"\n",
      "[1] \"Subject 621746618 : 10 / 10\"\n",
      "[1] \"Subject 636181616 : 10 / 10\"\n",
      "[1] \"Subject 671500180 : 10 / 10\"\n",
      "[1] \"Subject 672521560 : 10 / 10\"\n",
      "[1] \"Subject 711452977 : 7 / 10\"\n",
      "[1] \"Subject 718139824 : 10 / 10\"\n",
      "[1] \"Subject 718626067 : 10 / 10\"\n",
      "[1] \"Subject 727170484 : 10 / 10\"\n",
      "[1] \"Subject 727174165 : 10 / 10\"\n",
      "[1] \"Subject 787133962 : 10 / 10\"\n",
      "[1] \"Subject 788405028 : 10 / 10\"\n",
      "[1] \"Subject 789921315 : 6 / 10\"\n",
      "[1] \"Subject 790529144 : 10 / 10\"\n",
      "[1] \"Subject 799430110 : 10 / 10\"\n",
      "[1] \"Subject 812377006 : 10 / 10\"\n",
      "[1] \"Subject 813749599 : 10 / 10\"\n",
      "[1] \"Subject 839320766 : 10 / 10\"\n",
      "[1] \"Subject 843575785 : 10 / 10\"\n",
      "[1] \"Subject 891685621 : 10 / 10\"\n",
      "[1] \"Subject 896467980 : 10 / 10\"\n",
      "[1] \"Subject 903704841 : 10 / 10\"\n",
      "[1] \"Subject 909849446 : 10 / 10\"\n",
      "[1] \"Subject 925257755 : 10 / 10\"\n",
      "[1] \"Subject 928731678 : 10 / 10\"\n",
      "[1] \"Subject 934533023 : 3 / 10\"\n",
      "[1] \"Subject 940741322 : 0 / 10\"\n",
      "[1] \"Subject 941912207 : 10 / 10\"\n",
      "[1] \"Subject 945873991 : 10 / 10\"\n",
      "[1] \"Subject 947430341 : 10 / 10\"\n",
      "[1] \"Subject 964615310 : 10 / 10\"\n",
      "[1] \"Subject 976032736 : 10 / 10\"\n",
      "[1] \"Subject 983874771 : 10 / 10\"\n",
      "[1] \"Subject 991358067 : 10 / 10\"\n"
     ]
    }
   ],
   "source": [
    "catch_trial_checker(datadf)"
   ]
  },
  {
   "cell_type": "code",
   "execution_count": 164,
   "metadata": {
    "scrolled": true
   },
   "outputs": [
    {
     "name": "stdout",
     "output_type": "stream",
     "text": [
      "[1] \"Subject 48341337 reaction time of: 615 ms\"\n",
      "[1] \"Subject 98665966 reaction time of: 665 ms\"\n",
      "[1] \"Subject 120361401 had a catch score of:  0.1\"\n",
      "[1] \"Subject 133207874 had a catch score of:  0.7\"\n",
      "[1] \"Subject 172093576 had a catch score of:  0.7\"\n",
      "[1] \"Subject 219326440 had a catch score of:  0.7\"\n",
      "[1] \"Subject 244316230 had a catch score of:  0.5\"\n",
      "[1] \"Subject 252347716 had a catch score of:  0.6\"\n",
      "[1] \"Subject 254207207 had a catch score of:  0.4\"\n",
      "[1] \"Subject 265310712 had a catch score of:  0.1\"\n",
      "[1] \"Subject 285550479 had a catch score of:  0.1\"\n",
      "[1] \"Subject 315222554 had a catch score of:  0.8\"\n",
      "[1] \"Subject 369400829 had a catch score of:  0.7\"\n",
      "[1] \"Subject 382104984 had a catch score of:  0\"\n",
      "[1] \"Subject 431543630 reaction time of: 559 ms\"\n",
      "[1] \"Subject 471457102 had a catch score of:  0.3\"\n",
      "[1] \"Subject 475089391 had a catch score of:  0.7\"\n",
      "[1] \"Subject 497105461 reaction time of: 498 ms\"\n",
      "[1] \"Subject 517476929 had a catch score of:  0.4\"\n",
      "[1] \"Subject 601005594 had a catch score of:  0.6\"\n",
      "[1] \"Subject 671500180 reaction time of: 679 ms\"\n",
      "[1] \"Subject 711452977 had a catch score of:  0.7\"\n",
      "[1] \"Subject 789921315 had a catch score of:  0.6\"\n",
      "[1] \"Subject 925257755 reaction time of: 641 ms\"\n",
      "[1] \"Subject 934533023 had a catch score of:  0.3\"\n",
      "[1] \"Subject 940741322 had a catch score of:  0\"\n",
      "[1] \"Subject 941912207 reaction time of: 661 ms\"\n",
      "[1] \"56 of 83 were compliant\"\n"
     ]
    }
   ],
   "source": [
    "datadf <- label_noncompliant(datadf)"
   ]
  },
  {
   "cell_type": "code",
   "execution_count": 165,
   "metadata": {},
   "outputs": [],
   "source": [
    "# function to run all these checks at once\n",
    "validation <- function(datadf){\n",
    "    \n",
    "    magnification_list <- sort(unique(datadf$peripheral_scale))\n",
    "    size_list <- sort(unique(datadf$stimulus_radius))\n",
    "    \n",
    "    for (stimulus in size_list){\n",
    "        for (scale in magnification_list){\n",
    "            tempdf <- subset(datadf, peripheral_scale == scale & stimulus_radius == stimulus)\n",
    "            \n",
    "            print(paste(\"Magnification\",scale,\"Stimulus\",stimulus))\n",
    "            tempdf <- remove_incomplete(tempdf,stimuli_number)\n",
    "            screen_parameters(tempdf, individual=FALSE)\n",
    "            catch_trial_checker(tempdf)\n",
    "            label_noncompliant(tempdf)\n",
    "            print(\"\")\n",
    "            print(\"____________________\")\n",
    "            print(\"\")\n",
    "            \n",
    "        }\n",
    "    }\n",
    "}"
   ]
  },
  {
   "cell_type": "code",
   "execution_count": 166,
   "metadata": {},
   "outputs": [
    {
     "name": "stdout",
     "output_type": "stream",
     "text": [
      "[1] \"Magnification 1 Stimulus 0.1\"\n",
      "[1] \"10 in dataset\"\n",
      "[1] \"\"\n",
      "[1] \"Subject 315222554 completed 253 / 253\"\n",
      "[1] \"Subject 336215410 completed 253 / 253\"\n",
      "[1] \"Subject 369400829 completed 253 / 253\"\n",
      "[1] \"Subject 401106595 completed 253 / 253\"\n",
      "[1] \"Subject 403595429 completed 253 / 253\"\n",
      "[1] \"Subject 636181616 completed 253 / 253\"\n",
      "[1] \"Subject 718139824 completed 253 / 253\"\n",
      "[1] \"Subject 727174165 completed 253 / 253\"\n",
      "[1] \"Subject 903704841 completed 253 / 253\"\n",
      "[1] \"Subject 964615310 completed 253 / 253\"\n",
      "[1] \"Screen Parameters\"\n",
      "[1] \"\"\n",
      "[1] \"Screen size issues: 0 / 10\"\n",
      "[1] \"Viewing distance issues: 0 / 10\"\n",
      "[1] \"Catch scores\"\n",
      "[1] \"Subject 315222554 : 8 / 10\"\n",
      "[1] \"Subject 336215410 : 9 / 10\"\n",
      "[1] \"Subject 369400829 : 7 / 10\"\n",
      "[1] \"Subject 401106595 : 10 / 10\"\n",
      "[1] \"Subject 403595429 : 10 / 10\"\n",
      "[1] \"Subject 636181616 : 10 / 10\"\n",
      "[1] \"Subject 718139824 : 10 / 10\"\n",
      "[1] \"Subject 727174165 : 10 / 10\"\n",
      "[1] \"Subject 903704841 : 10 / 10\"\n",
      "[1] \"Subject 964615310 : 10 / 10\"\n",
      "[1] \"Subject 315222554 had a catch score of:  0.8\"\n",
      "[1] \"Subject 369400829 had a catch score of:  0.7\"\n",
      "[1] \"8 of 10 were compliant\"\n",
      "[1] \"\"\n",
      "[1] \"____________________\"\n",
      "[1] \"\"\n",
      "[1] \"Magnification 4.5 Stimulus 0.1\"\n",
      "[1] \"9 in dataset\"\n",
      "[1] \"\"\n",
      "[1] \"Subject 51805023 completed 253 / 253\"\n",
      "[1] \"Subject 120361401 completed 253 / 253\"\n",
      "[1] \"Subject 219326440 completed 253 / 253\"\n",
      "[1] \"Subject 251360273 completed 253 / 253\"\n",
      "[1] \"Subject 269397244 completed 253 / 253\"\n",
      "[1] \"Subject 382104984 completed 253 / 253\"\n",
      "[1] \"Subject 518370751 completed 253 / 253\"\n",
      "[1] \"Subject 812377006 completed 253 / 253\"\n",
      "[1] \"Subject 891685621 completed 253 / 253\"\n",
      "[1] \"Screen Parameters\"\n",
      "[1] \"\"\n",
      "[1] \"Screen size issues: 0 / 9\"\n",
      "[1] \"Viewing distance issues: 0 / 9\"\n",
      "[1] \"Catch scores\"\n",
      "[1] \"Subject 51805023 : 10 / 10\"\n",
      "[1] \"Subject 120361401 : 1 / 10\"\n",
      "[1] \"Subject 219326440 : 7 / 10\"\n",
      "[1] \"Subject 251360273 : 10 / 10\"\n",
      "[1] \"Subject 269397244 : 10 / 10\"\n",
      "[1] \"Subject 382104984 : 0 / 10\"\n",
      "[1] \"Subject 518370751 : 10 / 10\"\n",
      "[1] \"Subject 812377006 : 10 / 10\"\n",
      "[1] \"Subject 891685621 : 10 / 10\"\n",
      "[1] \"Subject 120361401 had a catch score of:  0.1\"\n",
      "[1] \"Subject 219326440 had a catch score of:  0.7\"\n",
      "[1] \"Subject 382104984 had a catch score of:  0\"\n",
      "[1] \"6 of 9 were compliant\"\n",
      "[1] \"\"\n",
      "[1] \"____________________\"\n",
      "[1] \"\"\n",
      "[1] \"Magnification 1 Stimulus 0.25\"\n",
      "[1] \"13 in dataset\"\n",
      "[1] \"\"\n",
      "[1] \"Subject 75394365 completed 253 / 253\"\n",
      "[1] \"Subject 172093576 completed 253 / 253\"\n",
      "[1] \"Subject 300304269 completed 253 / 253\"\n",
      "[1] \"Subject 413006308 completed 253 / 253\"\n",
      "[1] \"Subject 478579177 completed 253 / 253\"\n",
      "[1] \"Subject 497105461 completed 253 / 253\"\n",
      "[1] \"Subject 517476929 completed 253 / 253\"\n",
      "[1] \"Subject 601005594 completed 253 / 253\"\n",
      "[1] \"Subject 711452977 completed 253 / 253\"\n",
      "[1] \"Subject 909849446 completed 253 / 253\"\n",
      "[1] \"Subject 928731678 completed 253 / 253\"\n",
      "[1] \"Subject 934533023 completed 253 / 253\"\n",
      "[1] \"Subject 991358067 completed 253 / 253\"\n",
      "[1] \"Screen Parameters\"\n",
      "[1] \"\"\n",
      "[1] \"Screen size issues: 0 / 13\"\n",
      "[1] \"Viewing distance issues: 0 / 13\"\n",
      "[1] \"Catch scores\"\n",
      "[1] \"Subject 75394365 : 10 / 10\"\n",
      "[1] \"Subject 172093576 : 7 / 10\"\n",
      "[1] \"Subject 300304269 : 10 / 10\"\n",
      "[1] \"Subject 413006308 : 10 / 10\"\n",
      "[1] \"Subject 478579177 : 10 / 10\"\n",
      "[1] \"Subject 497105461 : 9 / 10\"\n",
      "[1] \"Subject 517476929 : 4 / 10\"\n",
      "[1] \"Subject 601005594 : 6 / 10\"\n",
      "[1] \"Subject 711452977 : 7 / 10\"\n",
      "[1] \"Subject 909849446 : 10 / 10\"\n",
      "[1] \"Subject 928731678 : 10 / 10\"\n",
      "[1] \"Subject 934533023 : 3 / 10\"\n",
      "[1] \"Subject 991358067 : 10 / 10\"\n",
      "[1] \"Subject 172093576 had a catch score of:  0.7\"\n",
      "[1] \"Subject 497105461 reaction time of: 498 ms\"\n",
      "[1] \"Subject 517476929 had a catch score of:  0.4\"\n",
      "[1] \"Subject 601005594 had a catch score of:  0.6\"\n",
      "[1] \"Subject 711452977 had a catch score of:  0.7\"\n",
      "[1] \"Subject 934533023 had a catch score of:  0.3\"\n",
      "[1] \"7 of 13 were compliant\"\n",
      "[1] \"\"\n",
      "[1] \"____________________\"\n",
      "[1] \"\"\n",
      "[1] \"Magnification 4.5 Stimulus 0.25\"\n",
      "[1] \"13 in dataset\"\n",
      "[1] \"\"\n",
      "[1] \"Subject 40354804 completed 253 / 253\"\n",
      "[1] \"Subject 50823202 completed 253 / 253\"\n",
      "[1] \"Subject 225280441 completed 253 / 253\"\n",
      "[1] \"Subject 244316230 completed 253 / 253\"\n",
      "[1] \"Subject 245575217 completed 253 / 253\"\n",
      "[1] \"Subject 456189850 completed 253 / 253\"\n",
      "[1] \"Subject 471457102 completed 253 / 253\"\n",
      "[1] \"Subject 517148418 completed 253 / 253\"\n",
      "[1] \"Subject 537190567 completed 253 / 253\"\n",
      "[1] \"Subject 672521560 completed 253 / 253\"\n",
      "[1] \"Subject 787133962 completed 253 / 253\"\n",
      "[1] \"Subject 945873991 completed 253 / 253\"\n",
      "[1] \"Subject 976032736 completed 253 / 253\"\n",
      "[1] \"Screen Parameters\"\n",
      "[1] \"\"\n",
      "[1] \"Screen size issues: 0 / 13\"\n",
      "[1] \"Viewing distance issues: 0 / 13\"\n",
      "[1] \"Catch scores\"\n",
      "[1] \"Subject 40354804 : 10 / 10\"\n",
      "[1] \"Subject 50823202 : 10 / 10\"\n",
      "[1] \"Subject 225280441 : 10 / 10\"\n",
      "[1] \"Subject 244316230 : 5 / 10\"\n",
      "[1] \"Subject 245575217 : 10 / 10\"\n",
      "[1] \"Subject 456189850 : 9 / 10\"\n",
      "[1] \"Subject 471457102 : 3 / 10\"\n",
      "[1] \"Subject 517148418 : 10 / 10\"\n",
      "[1] \"Subject 537190567 : 10 / 10\"\n",
      "[1] \"Subject 672521560 : 10 / 10\"\n",
      "[1] \"Subject 787133962 : 10 / 10\"\n",
      "[1] \"Subject 945873991 : 10 / 10\"\n",
      "[1] \"Subject 976032736 : 10 / 10\"\n",
      "[1] \"Subject 244316230 had a catch score of:  0.5\"\n",
      "[1] \"Subject 471457102 had a catch score of:  0.3\"\n",
      "[1] \"11 of 13 were compliant\"\n",
      "[1] \"\"\n",
      "[1] \"____________________\"\n",
      "[1] \"\"\n",
      "[1] \"Magnification 1 Stimulus 0.5\"\n",
      "[1] \"10 in dataset\"\n",
      "[1] \"\"\n",
      "[1] \"Subject 99640956 completed 253 / 253\"\n",
      "[1] \"Subject 133207874 completed 253 / 253\"\n",
      "[1] \"Subject 176698125 completed 253 / 253\"\n",
      "[1] \"Subject 204525930 completed 253 / 253\"\n",
      "[1] \"Subject 265310712 completed 253 / 253\"\n",
      "[1] \"Subject 281640697 completed 253 / 253\"\n",
      "[1] \"Subject 475089391 completed 253 / 253\"\n",
      "[1] \"Subject 518373039 completed 253 / 253\"\n",
      "[1] \"Subject 789921315 completed 253 / 253\"\n",
      "[1] \"Subject 947430341 completed 253 / 253\"\n",
      "[1] \"Screen Parameters\"\n",
      "[1] \"\"\n",
      "[1] \"Screen size issues: 0 / 10\"\n",
      "[1] \"Viewing distance issues: 0 / 10\"\n",
      "[1] \"Catch scores\"\n",
      "[1] \"Subject 99640956 : 10 / 10\"\n",
      "[1] \"Subject 133207874 : 7 / 10\"\n",
      "[1] \"Subject 176698125 : 10 / 10\"\n",
      "[1] \"Subject 204525930 : 10 / 10\"\n",
      "[1] \"Subject 265310712 : 1 / 10\"\n",
      "[1] \"Subject 281640697 : 10 / 10\"\n",
      "[1] \"Subject 475089391 : 7 / 10\"\n",
      "[1] \"Subject 518373039 : 10 / 10\"\n",
      "[1] \"Subject 789921315 : 6 / 10\"\n",
      "[1] \"Subject 947430341 : 10 / 10\"\n",
      "[1] \"Subject 133207874 had a catch score of:  0.7\"\n",
      "[1] \"Subject 265310712 had a catch score of:  0.1\"\n",
      "[1] \"Subject 475089391 had a catch score of:  0.7\"\n",
      "[1] \"Subject 789921315 had a catch score of:  0.6\"\n",
      "[1] \"6 of 10 were compliant\"\n",
      "[1] \"\"\n",
      "[1] \"____________________\"\n",
      "[1] \"\"\n",
      "[1] \"Magnification 4.5 Stimulus 0.5\"\n",
      "[1] \"8 in dataset\"\n",
      "[1] \"\"\n",
      "[1] \"Subject 301246724 completed 253 / 253\"\n",
      "[1] \"Subject 527222665 completed 253 / 253\"\n",
      "[1] \"Subject 621746618 completed 253 / 253\"\n",
      "[1] \"Subject 788405028 completed 253 / 253\"\n",
      "[1] \"Subject 813749599 completed 253 / 253\"\n",
      "[1] \"Subject 839320766 completed 253 / 253\"\n",
      "[1] \"Subject 940741322 completed 253 / 253\"\n",
      "[1] \"Subject 983874771 completed 253 / 253\"\n",
      "[1] \"Screen Parameters\"\n",
      "[1] \"\"\n",
      "[1] \"Screen size issues: 0 / 8\"\n",
      "[1] \"Viewing distance issues: 0 / 8\"\n",
      "[1] \"Catch scores\"\n",
      "[1] \"Subject 301246724 : 10 / 10\"\n",
      "[1] \"Subject 527222665 : 10 / 10\"\n",
      "[1] \"Subject 621746618 : 10 / 10\"\n",
      "[1] \"Subject 788405028 : 10 / 10\"\n",
      "[1] \"Subject 813749599 : 10 / 10\"\n",
      "[1] \"Subject 839320766 : 10 / 10\"\n",
      "[1] \"Subject 940741322 : 0 / 10\"\n",
      "[1] \"Subject 983874771 : 10 / 10\"\n",
      "[1] \"Subject 940741322 had a catch score of:  0\"\n",
      "[1] \"7 of 8 were compliant\"\n",
      "[1] \"\"\n",
      "[1] \"____________________\"\n",
      "[1] \"\"\n",
      "[1] \"Magnification 1 Stimulus 1\"\n",
      "[1] \"8 in dataset\"\n",
      "[1] \"\"\n",
      "[1] \"Subject 48341337 completed 253 / 253\"\n",
      "[1] \"Subject 254207207 completed 253 / 253\"\n",
      "[1] \"Subject 404565472 completed 253 / 253\"\n",
      "[1] \"Subject 431543630 completed 253 / 253\"\n",
      "[1] \"Subject 718626067 completed 253 / 253\"\n",
      "[1] \"Subject 790529144 completed 253 / 253\"\n",
      "[1] \"Subject 843575785 completed 253 / 253\"\n",
      "[1] \"Subject 896467980 completed 253 / 253\"\n",
      "[1] \"Screen Parameters\"\n",
      "[1] \"\"\n",
      "[1] \"Screen size issues: 0 / 8\"\n",
      "[1] \"Viewing distance issues: 0 / 8\"\n",
      "[1] \"Catch scores\"\n",
      "[1] \"Subject 48341337 : 10 / 10\"\n",
      "[1] \"Subject 254207207 : 4 / 10\"\n",
      "[1] \"Subject 404565472 : 10 / 10\"\n",
      "[1] \"Subject 431543630 : 10 / 10\"\n",
      "[1] \"Subject 718626067 : 10 / 10\"\n",
      "[1] \"Subject 790529144 : 10 / 10\"\n",
      "[1] \"Subject 843575785 : 10 / 10\"\n",
      "[1] \"Subject 896467980 : 10 / 10\"\n",
      "[1] \"Subject 48341337 reaction time of: 615 ms\"\n",
      "[1] \"Subject 254207207 had a catch score of:  0.4\"\n",
      "[1] \"Subject 431543630 reaction time of: 559 ms\"\n",
      "[1] \"5 of 8 were compliant\"\n",
      "[1] \"\"\n",
      "[1] \"____________________\"\n",
      "[1] \"\"\n",
      "[1] \"Magnification 4.5 Stimulus 1\"\n",
      "[1] \"12 in dataset\"\n",
      "[1] \"\"\n",
      "[1] \"Subject 63991259 completed 253 / 253\"\n",
      "[1] \"Subject 98665966 completed 253 / 253\"\n",
      "[1] \"Subject 232984941 completed 253 / 253\"\n",
      "[1] \"Subject 252347716 completed 253 / 253\"\n",
      "[1] \"Subject 285550479 completed 253 / 253\"\n",
      "[1] \"Subject 452832938 completed 253 / 253\"\n",
      "[1] \"Subject 513963865 completed 253 / 253\"\n",
      "[1] \"Subject 671500180 completed 253 / 253\"\n",
      "[1] \"Subject 727170484 completed 253 / 253\"\n",
      "[1] \"Subject 799430110 completed 253 / 253\"\n",
      "[1] \"Subject 925257755 completed 253 / 253\"\n",
      "[1] \"Subject 941912207 completed 253 / 253\"\n",
      "[1] \"Screen Parameters\"\n",
      "[1] \"\"\n",
      "[1] \"Screen size issues: 0 / 12\"\n",
      "[1] \"Viewing distance issues: 0 / 12\"\n",
      "[1] \"Catch scores\"\n",
      "[1] \"Subject 63991259 : 10 / 10\"\n",
      "[1] \"Subject 98665966 : 10 / 10\"\n",
      "[1] \"Subject 232984941 : 10 / 10\"\n",
      "[1] \"Subject 252347716 : 6 / 10\"\n",
      "[1] \"Subject 285550479 : 1 / 10\"\n",
      "[1] \"Subject 452832938 : 10 / 10\"\n",
      "[1] \"Subject 513963865 : 10 / 10\"\n",
      "[1] \"Subject 671500180 : 10 / 10\"\n",
      "[1] \"Subject 727170484 : 10 / 10\"\n",
      "[1] \"Subject 799430110 : 10 / 10\"\n",
      "[1] \"Subject 925257755 : 10 / 10\"\n",
      "[1] \"Subject 941912207 : 10 / 10\"\n",
      "[1] \"Subject 98665966 reaction time of: 665 ms\"\n",
      "[1] \"Subject 252347716 had a catch score of:  0.6\"\n",
      "[1] \"Subject 285550479 had a catch score of:  0.1\"\n",
      "[1] \"Subject 671500180 reaction time of: 679 ms\"\n",
      "[1] \"Subject 925257755 reaction time of: 641 ms\"\n",
      "[1] \"Subject 941912207 reaction time of: 661 ms\"\n",
      "[1] \"6 of 12 were compliant\"\n",
      "[1] \"\"\n",
      "[1] \"____________________\"\n",
      "[1] \"\"\n"
     ]
    }
   ],
   "source": [
    "validation(datadf)"
   ]
  },
  {
   "cell_type": "markdown",
   "metadata": {},
   "source": [
    "## Statistical Analysis"
   ]
  },
  {
   "cell_type": "markdown",
   "metadata": {},
   "source": [
    "### Useful functions & methods"
   ]
  },
  {
   "cell_type": "markdown",
   "metadata": {},
   "source": [
    "#### Determine within-subject central and peripheral QDM correlation & significance"
   ]
  },
  {
   "cell_type": "code",
   "execution_count": 167,
   "metadata": {},
   "outputs": [],
   "source": [
    "# return a list of the e1 matrix vs e2 matrix correlations for each subject\n",
    "# returns Fisher-transformed correlations\n",
    "# updated matrixcor to use just half of a symmetric matrix\n",
    "\n",
    "eccentricity_compare_list <- function(datadf,e1='FF',e2='PP'){\n",
    "    \n",
    "    subjectlist <- sort(unique(datadf$subject)) # obtain a list of all the subjects\n",
    "    \n",
    "    correlation_list <- vector() # array to store the values in\n",
    "    \n",
    "    for (ID in subjectlist){ # go through subject by subject\n",
    "        subjectdf = subset(datadf, subject == ID) # select the ID for subject of interest\n",
    "        # updated matrixcor to use only upper half of symmeterised matrices\n",
    "        correlation_list <- c(correlation_list, FisherZ((matrixcor(subjectdf,M1=e1,M2=e2))))\n",
    "    }\n",
    "    return(correlation_list)\n",
    "}"
   ]
  },
  {
   "cell_type": "code",
   "execution_count": 168,
   "metadata": {},
   "outputs": [],
   "source": [
    "# shuffle the rows of a matrix\n",
    "shuffle_matrix <- function(matrix){\n",
    "    shuffled <- matrix[sample(nrow(matrix)),]\n",
    "    return(shuffled)\n",
    "}"
   ]
  },
  {
   "cell_type": "code",
   "execution_count": 169,
   "metadata": {},
   "outputs": [],
   "source": [
    "# get upper half of a matrix in vector form\n",
    "halfmat.v <- function(mat){\n",
    "    halfmat <- c(mat[upper.tri(mat, diag = TRUE)])\n",
    "    return(halfmat)\n",
    "}"
   ]
  },
  {
   "cell_type": "code",
   "execution_count": 170,
   "metadata": {},
   "outputs": [],
   "source": [
    "# return a list of the e1 matrix vs. shuffled e2 matrix for each subject. Pick the # shuffles, default 1000.\n",
    "# returns Fisher-transformed correlations\n",
    "# updated df2mat.full to use a symmetric matrix\n",
    "\n",
    "eccentricity_compare_shuffled_list <- function(datadf,e1='FF',e2='PP',\n",
    "                                               mode='shuffle', rotation=90, shuffle_num=1000){\n",
    "    \n",
    "    subjectlist <- sort(unique(datadf$subject)) # obtain a list of all the subjects\n",
    "    \n",
    "    \n",
    "    correlation_list <- vector() # array to store the values in\n",
    "    \n",
    "    for (ID in subjectlist){ # go through subject by subject\n",
    "        subjectdf = subset(datadf, subject == ID) # select the ID for subject of interest\n",
    "                \n",
    "        if((e1 == 'FF' & e2 == 'PP') | (e1 == 'PP' & e2 == 'FF')){\n",
    "            matrix1 <- df2mat.full(subjectdf, l2e('Foveal'), l2e('Foveal'))\n",
    "            matrix2 <- df2mat.full(subjectdf, l2e('Peripheral'), l2e('Peripheral'))\n",
    "        } else if ((e1 == 'FF' & e2 == 'FP') | (e1 == 'FP' & e2 == 'FF')){\n",
    "            matrix1 <- df2mat.full(subjectdf, l2e('Foveal'), l2e('Foveal'))\n",
    "            matrix2 <- df2mat.full(subjectdf, l2e('Foveal'), l2e('Peripheral'))\n",
    "        } else if ((e1 == 'PP' & e2 == 'FP') | (e1 == 'FP' & e2 == 'PP')){\n",
    "            matrix1 <- df2mat.full(subjectdf, l2e('Peripheral'), l2e('Peripheral'))\n",
    "            matrix2 <- df2mat.full(subjectdf, l2e('Foveal'), l2e('Peripheral'))\n",
    "        }\n",
    "        \n",
    "        #just use upper halves of matrices as they're symmetric\n",
    "        matrix1 <- halfmat.v(matrix1)\n",
    "        \n",
    "        temp_list <- vector()\n",
    "        for (i in 1:shuffle_num){ #shuffle/swap the second matrix, add values to temp list\n",
    "            \n",
    "            if(mode=='shuffle'){\n",
    "                matrix2_shuffled <- shuffle_matrix(matrix2)\n",
    "            } else if (mode == 'swap'){\n",
    "                matrix2_shuffled <- matswap(matrix2,'random')\n",
    "            } else if (mode == 'invert'){\n",
    "                matrix2_shuffled <- matswap(matrix2,'inversion')\n",
    "            } else if (mode == 'rotate'){\n",
    "                matrix2_shuffled <- matswap(matrix2,'rotation',rotation)\n",
    "            }\n",
    "            #just use upper halves of matrices as they're symmetric\n",
    "            matrix2_shuffled <- halfmat.v(matrix2_shuffled)\n",
    "            \n",
    "            temp_list <- c(temp_list, FisherZ(cor(matrix1, matrix2_shuffled, method = \"spearman\")))\n",
    "        }\n",
    "        \n",
    "        correlation_list <- c(correlation_list,mean(temp_list)) # add the average correlation to the list\n",
    "        }\n",
    "    return(correlation_list)\n",
    "}"
   ]
  },
  {
   "cell_type": "code",
   "execution_count": 552,
   "metadata": {},
   "outputs": [],
   "source": [
    "# Compare FF, FP & PP correlations under standard, swapped & shuffled modes\n",
    "# currently just doing a single swap per subject, need to update to multiple swaps\n",
    "\n",
    "within_full_compare <- function(df,swap='PP',individual=FALSE){\n",
    "    \n",
    "    subjectlist <- sort(unique(df$subject)) # obtain a list of all the subjects\n",
    "    \n",
    "    mode.list <- c(\"identity\",\"random\",\"inversion\",\"rotation\")\n",
    "    \n",
    "    for(mode in mode.list){\n",
    "        \n",
    "        # arrays to store the values in\n",
    "        standard.FFvPP.correlation_list <- vector()\n",
    "        standard.FFvFP.correlation_list <- vector()\n",
    "        standard.FPvPP.correlation_list <- vector()\n",
    "\n",
    "        swapped.FFvPP.correlation_list <- vector()\n",
    "        swapped.FFvFP.correlation_list <- vector()\n",
    "        swapped.FPvPP.correlation_list <- vector()\n",
    "\n",
    "        for (ID in subjectlist){ # go through subject by subject\n",
    "            subjectdf = subset(df, subject == ID) # select the ID for subject of interest\n",
    "\n",
    "            matrix.FF <- df2mat.full(subjectdf, l2e('Foveal'), l2e('Foveal'))\n",
    "            matrix.FP <- df2mat.full(subjectdf, l2e('Foveal'), l2e('Peripheral'))\n",
    "            matrix.PP <- df2mat.full(subjectdf, l2e('Peripheral'), l2e('Peripheral'))\n",
    "\n",
    "            # standard conditions comparison\n",
    "            if(mode=='identity'){\n",
    "                standard.FFvPP.r <-  cor(halfmat.v(matrix.FF),halfmat.v(matrix.PP), method = \"spearman\")\n",
    "                standard.FFvFP.r <-  cor(halfmat.v(matrix.FF),halfmat.v(matrix.FP), method = \"spearman\")\n",
    "                standard.FPvPP.r <-  cor(halfmat.v(matrix.FP),halfmat.v(matrix.PP), method = \"spearman\")\n",
    "            }\n",
    "            \n",
    "\n",
    "            # swapped conditions comparison\n",
    "            if(mode!='identity'){\n",
    "                   if(swap == 'FF'){\n",
    "                    swap.FF <- matswap(matrix.FF,mode)\n",
    "                    swap.FP <- matrix.FP\n",
    "                    swap.PP <- matrix.PP\n",
    "                } else if (swap == 'FP'){\n",
    "                    swap.FF <- matrix.FF\n",
    "                    swap.FP <- matswap(matrix.FP,mode)\n",
    "                    swap.PP <- matrix.PP\n",
    "                } else if (swap == 'PP'){\n",
    "                    swap.FF <- matrix.FF\n",
    "                    swap.FP <- matrix.FP\n",
    "                    swap.PP <- matswap(matrix.PP,mode)\n",
    "            }\n",
    "\n",
    "\n",
    "            swapped.FFvPP.r <-  cor(halfmat.v(swap.FF),halfmat.v(swap.PP), method = \"spearman\")\n",
    "            swapped.FFvFP.r <-  cor(halfmat.v(swap.FF),halfmat.v(swap.FP), method = \"spearman\")\n",
    "            swapped.FPvPP.r <-  cor(halfmat.v(swap.FP),halfmat.v(swap.PP), method = \"spearman\") \n",
    "            }\n",
    "            \n",
    "\n",
    "            if(individual){\n",
    "                print(paste(\"Subject: \",ID))\n",
    "                print(\"Standard comparisons\")\n",
    "                print(paste(\"FF vs PP: \",round(standard.FFvPP.r,2),\" - \",\n",
    "                           \"FF vs FP: \",round(standard.FFvFP.r,2),\" - \",\n",
    "                           \"FP vs PP: \",round(standard.FPvPP.r,2)))\n",
    "                print(paste(\"Swapped comparisons -\",swap,\"swapped\",mode))\n",
    "                print(paste(\"FF vs PP: \",round(swapped.FFvPP.r,2),\" - \",\n",
    "                           \"FF vs FP: \",round(swapped.FFvFP.r,2),\" - \",\n",
    "                           \"FP vs PP: \",round(swapped.FPvPP.r,2)))\n",
    "            }\n",
    "\n",
    "            # add them to a list\n",
    "            if(mode=='identity'){\n",
    "                standard.FFvPP.correlation_list <- c(standard.FFvPP.correlation_list,FisherZ(standard.FFvPP.r))\n",
    "                standard.FFvFP.correlation_list <- c(standard.FFvFP.correlation_list,FisherZ(standard.FFvFP.r))\n",
    "                standard.FPvPP.correlation_list <- c(standard.FPvPP.correlation_list,FisherZ(standard.FPvPP.r))\n",
    "            } else {\n",
    "                swapped.FFvPP.correlation_list <- c(swapped.FFvPP.correlation_list,FisherZ(swapped.FFvPP.r))\n",
    "                swapped.FFvFP.correlation_list <- c(swapped.FFvFP.correlation_list,FisherZ(swapped.FFvFP.r))\n",
    "                swapped.FPvPP.correlation_list <- c(swapped.FPvPP.correlation_list,FisherZ(swapped.FPvPP.r))\n",
    "            }\n",
    "            \n",
    "\n",
    "            \n",
    "        }\n",
    "        # print mean correlations\n",
    "        if(mode=='identity'){\n",
    "            print(\"Standard comparisons\")\n",
    "            print(paste(\"FF vs PP: \",round(average_correlation(standard.FFvPP.correlation_list),2),\" - \",\n",
    "                   \"FF vs FP: \",round(average_correlation(standard.FFvFP.correlation_list),2),\" - \",\n",
    "                   \"FP vs PP: \",round(average_correlation(standard.FPvPP.correlation_list),2)))\n",
    "        } else {\n",
    "            print(paste(\"Swapped comparisons -\",swap,\"swapped -\",mode))\n",
    "            print(paste(\"FF vs PP: \",round(average_correlation(swapped.FFvPP.correlation_list),2),\" - \",\n",
    "                   \"FF vs FP: \",round(average_correlation(swapped.FFvFP.correlation_list),2),\" - \",\n",
    "                   \"FP vs PP: \",round(average_correlation(swapped.FPvPP.correlation_list),2)))\n",
    "        }\n",
    "        \n",
    "    }\n",
    "}"
   ]
  },
  {
   "cell_type": "code",
   "execution_count": 125,
   "metadata": {},
   "outputs": [],
   "source": [
    "# perform Mann-Whitney U test to compare the within-subject central and peripheral QDMs to randomly shuffled ones\n",
    "QDM_test <- function(original_correlations,shuffled_correlations){\n",
    "    \n",
    "    wilcox.test(original_correlations,shuffled_correlations)\n",
    "}"
   ]
  },
  {
   "cell_type": "markdown",
   "metadata": {},
   "source": [
    "#### Determine between-subject central to central QDM correlation & significance"
   ]
  },
  {
   "cell_type": "code",
   "execution_count": 126,
   "metadata": {},
   "outputs": [],
   "source": [
    "# obtain the subject similarity matrix\n",
    "# returns Fisher-transformed correlations\n",
    "\n",
    "i_j_list <- function(datadf, eccentricity1=l2e('Foveal'), eccentricity2=l2e('Foveal'),shuffle=FALSE){\n",
    "    \n",
    "    datadf = subset(datadf, Circle_1 == eccentricity1)\n",
    "    datadf = subset(datadf, Circle_2 == eccentricity2)\n",
    "    \n",
    "    subjectlist <- sort(unique(datadf$subject)) # obtain a list of all the subjects\n",
    "    \n",
    "    correlation_list <- vector() # array to store the values in\n",
    "    \n",
    "    for (ID_i in subjectlist){ \n",
    "        subjectdf_i = subset(datadf, subject == ID_i)\n",
    "        if(shuffle){\n",
    "            # get their shuffled fovea QDM\n",
    "            fmatrix_i <- shuffle_matrix(df2mat(subjectdf_i, l2e('Foveal'), l2e('Foveal'))) \n",
    "        } else {\n",
    "            # get their fovea QDM\n",
    "            fmatrix_i <- df2mat(subjectdf_i, l2e('Foveal'), l2e('Foveal'))\n",
    "        }\n",
    "        for (ID_j in subjectlist){\n",
    "            if(ID_i != ID_j){\n",
    "                \n",
    "                subjectdf_j = subset(datadf, subject == ID_j)\n",
    "                fmatrix_j <- df2mat(subjectdf_j, l2e('Foveal'), l2e('Foveal')) # get their fovea dissimilarity matrix\n",
    "\n",
    "                correlation_list <- c(correlation_list, \n",
    "                                      FisherZ(cor(c(fmatrix_i), c(fmatrix_j), method = \"spearman\")))\n",
    "                }\n",
    "        }\n",
    "    }\n",
    "    return(correlation_list)\n",
    "}"
   ]
  },
  {
   "cell_type": "code",
   "execution_count": 127,
   "metadata": {},
   "outputs": [],
   "source": [
    "# get a readout of 'average correlation' by Fisher-z transforming the list\n",
    "# then averaging it, then converting it back\n",
    "average_correlation <- function(vector){\n",
    "    average <- mean(vector)\n",
    "    return(FisherZInv(average))\n",
    "}"
   ]
  },
  {
   "cell_type": "code",
   "execution_count": 128,
   "metadata": {},
   "outputs": [],
   "source": [
    "# obtain a vector of k shuffled SSMs\n",
    "# WARNING: this may take a long time!\n",
    "shuffled_SSM_correlations <- function(datadf,n_shuffle=1000){\n",
    "    \n",
    "    # Jupyter notebooks won't print in realtime, so using this as a workaround\n",
    "    message(\"This will take approximately\")\n",
    "    start.time <- Sys.time()\n",
    "    time_test <- average_correlation(i_j_list(datadf,shuffle=TRUE))\n",
    "    test.time <- Sys.time()\n",
    "    time.estimate <- round((test.time-start.time)/60,3)*n_shuffle\n",
    "    message(as.character(time.estimate))\n",
    "    message(\"minutes.\")\n",
    "    \n",
    "    correlation_list <- vector() # array to store the values in\n",
    "    \n",
    "    for(k in 1:n_shuffle){\n",
    "        correlation_list <- c(correlation_list, average_correlation(i_j_list(datadf,shuffle=TRUE)))\n",
    "    }\n",
    "    return(correlation_list)\n",
    "}"
   ]
  },
  {
   "cell_type": "code",
   "execution_count": 129,
   "metadata": {},
   "outputs": [],
   "source": [
    "# test where the correlation of the original SSM sits in comparison to the mean correlations of the shuffled SSMs\n",
    "SSM_test <- function(SSM, SSM_shuffled_list){\n",
    "    SSM_correlation <- average_correlation(SSM)\n",
    "    count <- sum(SSM_shuffled_list > SSM_correlation)\n",
    "    p_value <- round(count/length(SSM_shuffled_list),2)\n",
    "    print(\"SSM correlation comparison\")\n",
    "    print(paste(\"p-value =\",format(p_value, nsmall = 2)))\n",
    "    return(p_value)\n",
    "}"
   ]
  },
  {
   "cell_type": "markdown",
   "metadata": {},
   "source": [
    "#### Determine whether within-subject central-peripheral QDM correlation is equal to or greater than between-subject central-central QDMs"
   ]
  },
  {
   "cell_type": "code",
   "execution_count": 130,
   "metadata": {},
   "outputs": [],
   "source": [
    "# blah"
   ]
  },
  {
   "cell_type": "code",
   "execution_count": 131,
   "metadata": {},
   "outputs": [],
   "source": [
    "# do the analysis"
   ]
  },
  {
   "cell_type": "code",
   "execution_count": 132,
   "metadata": {},
   "outputs": [],
   "source": [
    "# correlation plot\n",
    "corr_plot <- function(correlation_list,title='BLANK',xlabel='BLANK',f2z=FALSE){\n",
    "    df <- data.frame(correlation_list) # convert list to data frame\n",
    "    df[xlabel] = xlabel\n",
    "    \n",
    "    plot <- ggplot(df,aes(x=xlabel,y=correlation_list)) + \n",
    "                geom_boxplot() + \n",
    "                geom_dotplot(binaxis='y',stackdir='center',dotsize=0.75) +\n",
    "                theme(text = element_text(size=15)) + xlab(\"\")\n",
    "                ggtitle(title)\n",
    "    if(f2z){\n",
    "                plot <- plot + ylab(\"Fisher-Transformed Correlation (Spearman)\") + ylim(-1,2)\n",
    "    } else {\n",
    "                plot <- plot + ylab(\"Correlation (Spearman)\") + ylim(-0.5,1)\n",
    "\n",
    "    }\n",
    "    plot <- plot + geom_hline(yintercept=0, linetype=\"dashed\", color = \"blue\")\n",
    "    return(plot)\n",
    "}"
   ]
  },
  {
   "cell_type": "code",
   "execution_count": 133,
   "metadata": {},
   "outputs": [],
   "source": [
    "within_between_plots <- function(datadf,savestr){\n",
    "    \n",
    "    fvp <- fvp_list(datadf)\n",
    "    i_j <- i_j_list(datadf)\n",
    "    \n",
    "    within_plot <- corr_plot(fvp,'Within-subject FvP','Within-subject FvP')\n",
    "    between_plot <- corr_plot(i_j,'Between-subject FvF','Between-subject FvF')\n",
    "    within_plot_fisher <- corr_plot(FisherZ(fvp),'Within-subject FvP','Within-subject FvP',TRUE)\n",
    "    between_plot_fisher <- corr_plot(FisherZ(i_j),'Between-subject FvF','Between-subject FvF',TRUE)\n",
    "\n",
    "    # save the plots\n",
    "    title <- textGrob(substr(savestr,nchar('data/')+1,nchar(savestr)))\n",
    "    g <- arrangeGrob(within_plot,between_plot,\n",
    "                     within_plot_fisher,between_plot_fisher,\n",
    "                        nrow = 2, ncol= 2,\n",
    "                    top = title)\n",
    "\n",
    "        # save it\n",
    "    ggsave(paste(savestr,\"_Subject_Plots/\",\"correlation plot comparisons_\",\"plot.png\",sep=''),g, height = 11, width = 10)\n",
    "}"
   ]
  },
  {
   "cell_type": "code",
   "execution_count": 134,
   "metadata": {
    "scrolled": true
   },
   "outputs": [],
   "source": [
    "# plot within-subject FvP correlations against between-subject FvF correlations\n",
    "if(plot_within_between){within_between_plots(datadf,savestr)}"
   ]
  },
  {
   "cell_type": "markdown",
   "metadata": {},
   "source": [
    "Additional experimental summary graphs"
   ]
  },
  {
   "cell_type": "code",
   "execution_count": 135,
   "metadata": {},
   "outputs": [],
   "source": [
    "# obtains a dataframe of traces for subjects\n",
    "trace_obtainer <- function(datadf,type=\"trace\"){\n",
    "    subjectlist <- sort(unique(datadf$subject)) # obtain a list of all the subjects\n",
    "    tracedf <- data.frame(subject=character(),ftrace=double(),ptrace=double()) # initialise an output df for the traces\n",
    "    for (ID in subjectlist){\n",
    "        tempdf <- subset(datadf, subject == ID)\n",
    "        if(type == 'antitrace'){\n",
    "            subject_trace <- antitrace_avg(tempdf)\n",
    "        } else if (type == 'difference'){\n",
    "            subject_trace <- unlist(antitrace_avg(tempdf),use.names=FALSE) - unlist(trace_avg(tempdf),use.names=FALSE)\n",
    "        }else{\n",
    "            subject_trace <- trace_avg(tempdf)\n",
    "        }\n",
    "        row_df <- data.frame(ID, as.numeric(subject_trace[1]),as.numeric(subject_trace[2]))\n",
    "        names(row_df) <- c(\"subject\",\"Fovea x Fovea\",\"Periphery x Periphery\")\n",
    "        tracedf<- rbind(tracedf,row_df)\n",
    "    }\n",
    "    return(tracedf)\n",
    "}"
   ]
  },
  {
   "cell_type": "code",
   "execution_count": 136,
   "metadata": {},
   "outputs": [],
   "source": [
    "# plot the traces for the subjects individually\n",
    "trace_plot <- function(datadf,type='trace',grouped=TRUE){\n",
    "    \n",
    "    datadf$subject <- as.character(datadf$subject) # necessary for visualisation\n",
    "    \n",
    "    if(type == 'antitrace'){\n",
    "        trace_df <- trace_obtainer(datadf,'antitrace')\n",
    "    } else if (type == 'difference'){\n",
    "        trace_df <- trace_obtainer(datadf,'difference')\n",
    "    } else {\n",
    "        trace_df <- trace_obtainer(datadf)\n",
    "    }\n",
    "    \n",
    "    \n",
    "    tracedf <- gather(trace_df, key = \"eccentricity\",value = \"trace\", 2:3)\n",
    "    \n",
    "    if(grouped){\n",
    "        plot <- ggplot(tracedf, aes(x = eccentricity, y=trace)) +\n",
    "        geom_boxplot() + geom_dotplot(binaxis='y',stackdir='center',dotsize=0.5) +\n",
    "        theme(legend.position = \"none\")\n",
    "    } else {\n",
    "        plot <- ggplot(tracedf, aes(x = eccentricity, y=trace, group = subject, color = subject)) +\n",
    "        geom_line() + theme(legend.position = \"none\")\n",
    "    }\n",
    "    \n",
    "    if(type == 'antitrace'){\n",
    "        plot <- plot + ylim(0,7) + ylab(\"Mean Physically Maximally Distinct Stimulus Similarity\")\n",
    "    } else if (type == 'difference'){\n",
    "        plot <- plot + ylim(-6,6) + ylab(\"Distinct - Identical\")\n",
    "    } else {\n",
    "        plot <- plot + ylim(0,7) + ylab(\"Mean Physically Identical Stimulus Similarity\")\n",
    "    }\n",
    "    \n",
    "    return(plot)\n",
    "}"
   ]
  },
  {
   "cell_type": "markdown",
   "metadata": {},
   "source": [
    "### Do the analysis"
   ]
  },
  {
   "cell_type": "markdown",
   "metadata": {},
   "source": [
    "First, grab the data cleaned of non-compliant participants"
   ]
  },
  {
   "cell_type": "code",
   "execution_count": 172,
   "metadata": {},
   "outputs": [
    {
     "name": "stdout",
     "output_type": "stream",
     "text": [
      "[1] \"There are 56 unique subjects\"\n"
     ]
    },
    {
     "data": {
      "text/html": [
       "56"
      ],
      "text/latex": [
       "56"
      ],
      "text/markdown": [
       "56"
      ],
      "text/plain": [
       "[1] 56"
      ]
     },
     "metadata": {},
     "output_type": "display_data"
    }
   ],
   "source": [
    "cleandf <- subset(datadf, noncompliant == 0)\n",
    "get_n(cleandf)"
   ]
  },
  {
   "cell_type": "markdown",
   "metadata": {},
   "source": [
    "#### Within-subjects analysis\n",
    "Next, check what the within-subject correlations are between central and peripheral QDMs.  \n",
    "Do this by comparing the raw QDMs to shuffled QDMs\n",
    "Fisher-transform the correlations and compare using a non-parametric test"
   ]
  },
  {
   "cell_type": "code",
   "execution_count": 173,
   "metadata": {},
   "outputs": [
    {
     "name": "stdout",
     "output_type": "stream",
     "text": [
      "[1] \"Mean FF-PP correlation: 0.806621429280494\"\n",
      "[1] \"Mean shuffled FF-PP correlation: 0.0735950834979389\"\n",
      "[1] \"Mean inverted FF-PP correlation: 0.463209329236928\"\n",
      "[1] \"Mean swapped FF-PP correlation: 0.436464448774216\"\n"
     ]
    },
    {
     "data": {
      "text/plain": [
       "\n",
       "\tWilcoxon rank sum test with continuity correction\n",
       "\n",
       "data:  original_correlations and shuffled_correlations\n",
       "W = 2808.5, p-value = 5.361e-13\n",
       "alternative hypothesis: true location shift is not equal to 0\n"
      ]
     },
     "metadata": {},
     "output_type": "display_data"
    }
   ],
   "source": [
    "## Fovea vs. Periphery\n",
    "# correlation between foveal and peripheral matrices, within subject\n",
    "within_raw <- eccentricity_compare_list(cleandf,e1='FF',e2='PP')\n",
    "print(paste(\"Mean FF-PP correlation:\",average_correlation(within_raw)))\n",
    "# correlation between foveal and shuffled peripheral matrices, within subject\n",
    "within_shuffled <- eccentricity_compare_shuffled_list(cleandf,e1='FF',e2='PP') \n",
    "print(paste(\"Mean shuffled FF-PP correlation:\",average_correlation(within_shuffled)))\n",
    "# correlation between foveal and inverted peripheral matrices, within subject\n",
    "within_inverted <- eccentricity_compare_shuffled_list(cleandf,e1='FF',e2='PP',mode='invert') \n",
    "print(paste(\"Mean inverted FF-PP correlation:\",average_correlation(within_inverted)))\n",
    "# correlation between foveal and swapped peripheral matrices, within subject\n",
    "within_swapped <- eccentricity_compare_shuffled_list(cleandf,e1='FF',e2='PP',mode='swap') \n",
    "print(paste(\"Mean swapped FF-PP correlation:\",average_correlation(within_swapped)))\n",
    "\n",
    "#comparison\n",
    "QDM_test(within_raw,within_inverted)\n"
   ]
  },
  {
   "cell_type": "code",
   "execution_count": 174,
   "metadata": {},
   "outputs": [
    {
     "name": "stdout",
     "output_type": "stream",
     "text": [
      "[1] \"Mean FF-PP correlation: 0.818136454915304\"\n",
      "[1] \"Mean shuffled FF-PP correlation: 0.0716795367081534\"\n",
      "[1] \"Mean inverted FF-PP correlation: 0.475912440423678\"\n",
      "[1] \"Mean swapped FF-PP correlation: 0.436639771332873\"\n"
     ]
    },
    {
     "data": {
      "text/plain": [
       "\n",
       "\tWilcoxon rank sum test with continuity correction\n",
       "\n",
       "data:  original_correlations and shuffled_correlations\n",
       "W = 2727.5, p-value = 1.536e-11\n",
       "alternative hypothesis: true location shift is not equal to 0\n"
      ]
     },
     "metadata": {},
     "output_type": "display_data"
    }
   ],
   "source": [
    "## Fovea vs. FP\n",
    "## Fovea vs. Periphery\n",
    "# correlation between foveal and peripheral matrices, within subject\n",
    "within_raw <- eccentricity_compare_list(cleandf,e1='FF',e2='FP')\n",
    "print(paste(\"Mean FF-PP correlation:\",average_correlation(within_raw)))\n",
    "# correlation between foveal and shuffled peripheral matrices, within subject\n",
    "within_shuffled <- eccentricity_compare_shuffled_list(cleandf,e1='FF',e2='FP') \n",
    "print(paste(\"Mean shuffled FF-PP correlation:\",average_correlation(within_shuffled)))\n",
    "# correlation between foveal and inverted peripheral matrices, within subject\n",
    "within_inverted <- eccentricity_compare_shuffled_list(cleandf,e1='FF',e2='FP',mode='invert') \n",
    "print(paste(\"Mean inverted FF-PP correlation:\",average_correlation(within_inverted)))\n",
    "# correlation between foveal and swapped peripheral matrices, within subject\n",
    "within_swapped <- eccentricity_compare_shuffled_list(cleandf,e1='FF',e2='FP',mode='swap') \n",
    "print(paste(\"Mean swapped FF-PP correlation:\",average_correlation(within_swapped)))\n",
    "\n",
    "#comparison\n",
    "QDM_test(within_raw,within_inverted)"
   ]
  },
  {
   "cell_type": "code",
   "execution_count": 175,
   "metadata": {},
   "outputs": [
    {
     "name": "stdout",
     "output_type": "stream",
     "text": [
      "[1] \"Mean FF-PP correlation: 0.817102669182509\"\n",
      "[1] \"Mean shuffled FF-PP correlation: 0.0698456159103496\"\n",
      "[1] \"Mean inverted FF-PP correlation: 0.460566181588046\"\n",
      "[1] \"Mean swapped FF-PP correlation: 0.398670528347373\"\n"
     ]
    },
    {
     "data": {
      "text/plain": [
       "\n",
       "\tWilcoxon rank sum test with continuity correction\n",
       "\n",
       "data:  original_correlations and shuffled_correlations\n",
       "W = 2692, p-value = 6.239e-11\n",
       "alternative hypothesis: true location shift is not equal to 0\n"
      ]
     },
     "metadata": {},
     "output_type": "display_data"
    }
   ],
   "source": [
    "## Periphery vs. FP\n",
    "## Fovea vs. Periphery\n",
    "# correlation between foveal and peripheral matrices, within subject\n",
    "within_raw <- eccentricity_compare_list(cleandf,e1='FP',e2='PP')\n",
    "print(paste(\"Mean FF-PP correlation:\",average_correlation(within_raw)))\n",
    "# correlation between foveal and shuffled peripheral matrices, within subject\n",
    "within_shuffled <- eccentricity_compare_shuffled_list(cleandf,e1='FP',e2='PP') \n",
    "print(paste(\"Mean shuffled FF-PP correlation:\",average_correlation(within_shuffled)))\n",
    "# correlation between foveal and inverted peripheral matrices, within subject\n",
    "within_inverted <- eccentricity_compare_shuffled_list(cleandf,e1='FP',e2='PP',mode='invert') \n",
    "print(paste(\"Mean inverted FF-PP correlation:\",average_correlation(within_inverted)))\n",
    "# correlation between foveal and swapped peripheral matrices, within subject\n",
    "within_swapped <- eccentricity_compare_shuffled_list(cleandf,e1='FP',e2='PP',mode='swap') \n",
    "print(paste(\"Mean swapped FF-PP correlation:\",average_correlation(within_swapped)))\n",
    "\n",
    "#comparison\n",
    "QDM_test(within_raw,within_inverted)\n"
   ]
  },
  {
   "cell_type": "markdown",
   "metadata": {},
   "source": [
    "#### Between-subjects analysis\n",
    "How concordant are subjects on similarity judgments given to centrally presented stimuli?\n",
    "Check the correlation between the central QDM of each subject *i* and *j* and obtain a subject similarity matrix (SSM). If there's no relationship between subjects, these correlations will be unaffected by shuffling the labels on the QDM for subject *i*. "
   ]
  },
  {
   "cell_type": "markdown",
   "metadata": {},
   "source": [
    "First up, let's get the standard SSM and see how correlated its entries are."
   ]
  },
  {
   "cell_type": "code",
   "execution_count": 400,
   "metadata": {},
   "outputs": [
    {
     "name": "stdout",
     "output_type": "stream",
     "text": [
      "[1] \"Mean between-subject fovea-fovea correlation: 0.39334852411956\"\n"
     ]
    }
   ],
   "source": [
    "SSM <- i_j_list(cleandf)\n",
    "print(paste(\"Mean between-subject fovea-fovea correlation:\",average_correlation(SSM)))"
   ]
  },
  {
   "cell_type": "markdown",
   "metadata": {},
   "source": [
    "Next up, let's do the same thing for shuffled SSMs and get a distribution by doing it 1000 times"
   ]
  },
  {
   "cell_type": "code",
   "execution_count": 401,
   "metadata": {},
   "outputs": [
    {
     "name": "stderr",
     "output_type": "stream",
     "text": [
      "This will take approximately\n",
      "16.6\n",
      "minutes.\n"
     ]
    }
   ],
   "source": [
    "SSM_shuffled_list <- shuffled_SSM_correlations(cleandf,n_shuffle=100) #Currently only set to 100!"
   ]
  },
  {
   "cell_type": "markdown",
   "metadata": {},
   "source": [
    "Now, let's see where in the distribution of the shuffled SSMs that our actual SSM correlation sits"
   ]
  },
  {
   "cell_type": "code",
   "execution_count": 402,
   "metadata": {},
   "outputs": [
    {
     "name": "stdout",
     "output_type": "stream",
     "text": [
      "[1] \"SSM correlation comparison\"\n",
      "[1] \"p-value = 0.00\"\n"
     ]
    },
    {
     "data": {
      "text/html": [
       "0"
      ],
      "text/latex": [
       "0"
      ],
      "text/markdown": [
       "0"
      ],
      "text/plain": [
       "[1] 0"
      ]
     },
     "metadata": {},
     "output_type": "display_data"
    }
   ],
   "source": [
    "SSM_test(SSM,SSM_shuffled_list)"
   ]
  },
  {
   "cell_type": "markdown",
   "metadata": {},
   "source": [
    "#### Within-subjects vs. Between-subjects analysis"
   ]
  },
  {
   "cell_type": "markdown",
   "metadata": {},
   "source": [
    "What we really want to know is whether within-subject central-central, central-peripheral and peripheral-peripheral QDMs are \"essentially the same\". We assert they are the same if they are more correlated with each other than between-subject central-central QDMs. We can compare these using a non-parametric test on the distribution of Fisher-transformed QDMs"
   ]
  },
  {
   "cell_type": "code",
   "execution_count": 404,
   "metadata": {},
   "outputs": [
    {
     "name": "stdout",
     "output_type": "stream",
     "text": [
      "[1] \"Mean fovea-periphery correlation: 0.804521439387299\"\n",
      "[1] \"Mean between-subject fovea-fovea correlation: 0.39334852411956\"\n"
     ]
    },
    {
     "data": {
      "text/plain": [
       "\n",
       "\tWilcoxon rank sum test with continuity correction\n",
       "\n",
       "data:  original_correlations and shuffled_correlations\n",
       "W = 140, p-value = 0.03545\n",
       "alternative hypothesis: true location shift is not equal to 0\n"
      ]
     },
     "metadata": {},
     "output_type": "display_data"
    }
   ],
   "source": [
    "print(paste(\"Mean fovea-periphery correlation:\",average_correlation(within_raw)))\n",
    "print(paste(\"Mean between-subject fovea-fovea correlation:\",average_correlation(SSM)))\n",
    "\n",
    "QDM_test(within_raw,SSM)\n"
   ]
  },
  {
   "cell_type": "markdown",
   "metadata": {},
   "source": [
    "### Power Analysis"
   ]
  },
  {
   "cell_type": "code",
   "execution_count": 406,
   "metadata": {},
   "outputs": [
    {
     "data": {
      "text/plain": [
       "\n",
       "\tWilcoxon rank sum test with continuity correction\n",
       "\n",
       "data:  original_correlations and shuffled_correlations\n",
       "W = 280, p-value = 0.00556\n",
       "alternative hypothesis: true location shift is not equal to 0\n"
      ]
     },
     "metadata": {},
     "output_type": "display_data"
    }
   ],
   "source": [
    "test<-c(within_raw,within_raw)\n",
    "QDM_test(test,SSM)"
   ]
  },
  {
   "cell_type": "markdown",
   "metadata": {},
   "source": [
    "## Tabulation & Plotting Across Conditions"
   ]
  },
  {
   "cell_type": "markdown",
   "metadata": {},
   "source": [
    "Two parameters we're interested in - (1) stimulus size and (2) cortical magnification. Want to tabulate how various outcome measures change as these parameters change"
   ]
  },
  {
   "cell_type": "markdown",
   "metadata": {},
   "source": [
    "### Within-subject correlations for each condition"
   ]
  },
  {
   "cell_type": "code",
   "execution_count": 434,
   "metadata": {},
   "outputs": [
    {
     "name": "stdout",
     "output_type": "stream",
     "text": [
      "[1] \"There are 57 unique subjects\"\n"
     ]
    },
    {
     "data": {
      "text/html": [
       "57"
      ],
      "text/latex": [
       "57"
      ],
      "text/markdown": [
       "57"
      ],
      "text/plain": [
       "[1] 57"
      ]
     },
     "metadata": {},
     "output_type": "display_data"
    }
   ],
   "source": [
    "# first, let's grab the data from compliant participants\n",
    "cleandf <- subset(datadf, noncompliant == 0)\n",
    "get_n(cleandf)"
   ]
  },
  {
   "cell_type": "code",
   "execution_count": 553,
   "metadata": {},
   "outputs": [],
   "source": [
    "# function to print the mean within-subject correlation for each condition, returns a dataframe to plot them\n",
    "within_correlations_conditions <- function(cleandf,e1='FF',e2='PP',get.correlations=TRUE,compare=TRUE,test=TRUE){\n",
    "    \n",
    "    magnification_list <- sort(unique(cleandf$peripheral_scale))\n",
    "    stim_sizes <- sort(unique(cleandf$stimulus_radius))\n",
    "    \n",
    "    return_df <- data.frame() # initialisation\n",
    "    \n",
    "    for(scale in magnification_list){\n",
    "        temp_scale_df <- subset(cleandf, peripheral_scale == scale)\n",
    "        for(stim_size in stim_sizes){\n",
    "            tempdf <- subset(temp_scale_df, stimulus_radius == stim_size)\n",
    "            \n",
    "            # mark where we are\n",
    "            print(paste(\"Magnification\",scale,\"Stimulus Radius\",stim_size))\n",
    "            get_n(tempdf) # print n values\n",
    "            print(paste(\"Median Trace:\",round(median(group_trace(tempdf)),2)))\n",
    "            print(paste(\"Median Antitrace:\",round(median(group_trace(tempdf,mode='antitrace')),2)))\n",
    "            \n",
    "            # do all the comparisons\n",
    "            if(compare){\n",
    "                within_full_compare(tempdf)\n",
    "            }\n",
    "            \n",
    "            # get the correlations of interest\n",
    "            if(get.correlations){\n",
    "                correlations <- eccentricity_compare_list(tempdf, e1, e2)\n",
    "                \n",
    "\n",
    "                # add the correlations to a dataframe for plotting\n",
    "                correlation_df <- data.frame(correlations,\n",
    "                                             magnification = as.character(scale), stimulus_radius = as.character(stim_size))\n",
    "                return_df <- rbind(return_df,correlation_df)\n",
    "            }\n",
    "            \n",
    "            # check if they're significantly different from shuffled data\n",
    "            if(test){\n",
    "                print(\"Shuffle comparison:\")\n",
    "                within_shuffled <- eccentricity_compare_shuffled_list(tempdf,mode='shuffle') \n",
    "                print(QDM_test(correlations,within_shuffled))\n",
    "                print(\"Random swap comparison:\")\n",
    "                within_swapped <- eccentricity_compare_shuffled_list(tempdf,mode='swap') \n",
    "                print(QDM_test(correlations,within_swapped))\n",
    "                print(\"Inverted comparison:\")\n",
    "                within_swapped <- eccentricity_compare_shuffled_list(tempdf,mode='invert') \n",
    "                print(QDM_test(correlations,within_swapped))\n",
    "                print(\"Rotated (90) comparison:\")\n",
    "                within_swapped <- eccentricity_compare_shuffled_list(tempdf,mode='rotate') \n",
    "                print(QDM_test(correlations,within_swapped))\n",
    "            }\n",
    "            print(\"\")\n",
    "        }\n",
    "    }\n",
    "    return(return_df)\n",
    "}"
   ]
  },
  {
   "cell_type": "code",
   "execution_count": 554,
   "metadata": {},
   "outputs": [
    {
     "name": "stdout",
     "output_type": "stream",
     "text": [
      "[1] \"Magnification 1 Stimulus Radius 0.1\"\n",
      "[1] \"There are 8 unique subjects\"\n",
      "[1] \"Median Trace: 1.94\"\n",
      "[1] \"Median Antitrace: 3.81\"\n",
      "[1] \"Standard comparisons\"\n",
      "[1] \"FF vs PP:  0.62  -  FF vs FP:  0.68  -  FP vs PP:  0.61\"\n",
      "[1] \"Swapped comparisons - PP swapped - random\"\n",
      "[1] \"FF vs PP:  0.32  -  FF vs FP:  0.68  -  FP vs PP:  0.26\"\n",
      "[1] \"Swapped comparisons - PP swapped - inversion\"\n",
      "[1] \"FF vs PP:  0.33  -  FF vs FP:  0.68  -  FP vs PP:  0.3\"\n",
      "[1] \"Swapped comparisons - PP swapped - rotation\"\n",
      "[1] \"FF vs PP:  0.3  -  FF vs FP:  0.68  -  FP vs PP:  0.17\"\n",
      "[1] \"\"\n",
      "[1] \"Magnification 1 Stimulus Radius 0.25\"\n",
      "[1] \"There are 7 unique subjects\"\n",
      "[1] \"Median Trace: 1.11\"\n",
      "[1] \"Median Antitrace: 6.06\"\n",
      "[1] \"Standard comparisons\"\n",
      "[1] \"FF vs PP:  0.76  -  FF vs FP:  0.79  -  FP vs PP:  0.75\"\n",
      "[1] \"Swapped comparisons - PP swapped - random\"\n",
      "[1] \"FF vs PP:  0.39  -  FF vs FP:  0.79  -  FP vs PP:  0.36\"\n",
      "[1] \"Swapped comparisons - PP swapped - inversion\"\n",
      "[1] \"FF vs PP:  0.44  -  FF vs FP:  0.79  -  FP vs PP:  0.37\"\n",
      "[1] \"Swapped comparisons - PP swapped - rotation\"\n",
      "[1] \"FF vs PP:  0.41  -  FF vs FP:  0.79  -  FP vs PP:  0.35\"\n",
      "[1] \"\"\n",
      "[1] \"Magnification 1 Stimulus Radius 0.5\"\n",
      "[1] \"There are 6 unique subjects\"\n",
      "[1] \"Median Trace: 0.39\"\n",
      "[1] \"Median Antitrace: 6.28\"\n",
      "[1] \"Standard comparisons\"\n",
      "[1] \"FF vs PP:  0.84  -  FF vs FP:  0.87  -  FP vs PP:  0.89\"\n",
      "[1] \"Swapped comparisons - PP swapped - random\"\n",
      "[1] \"FF vs PP:  0.53  -  FF vs FP:  0.87  -  FP vs PP:  0.49\"\n",
      "[1] \"Swapped comparisons - PP swapped - inversion\"\n",
      "[1] \"FF vs PP:  0.55  -  FF vs FP:  0.87  -  FP vs PP:  0.52\"\n",
      "[1] \"Swapped comparisons - PP swapped - rotation\"\n",
      "[1] \"FF vs PP:  0.54  -  FF vs FP:  0.87  -  FP vs PP:  0.49\"\n",
      "[1] \"\"\n",
      "[1] \"Magnification 1 Stimulus Radius 1\"\n",
      "[1] \"There are 5 unique subjects\"\n",
      "[1] \"Median Trace: 0.44\"\n",
      "[1] \"Median Antitrace: 5.67\"\n",
      "[1] \"Standard comparisons\"\n",
      "[1] \"FF vs PP:  0.87  -  FF vs FP:  0.89  -  FP vs PP:  0.86\"\n",
      "[1] \"Swapped comparisons - PP swapped - random\"\n",
      "[1] \"FF vs PP:  0.4  -  FF vs FP:  0.89  -  FP vs PP:  0.43\"\n",
      "[1] \"Swapped comparisons - PP swapped - inversion\"\n",
      "[1] \"FF vs PP:  0.5  -  FF vs FP:  0.89  -  FP vs PP:  0.47\"\n",
      "[1] \"Swapped comparisons - PP swapped - rotation\"\n",
      "[1] \"FF vs PP:  0.38  -  FF vs FP:  0.89  -  FP vs PP:  0.45\"\n",
      "[1] \"\"\n",
      "[1] \"Magnification 4.5 Stimulus Radius 0.1\"\n",
      "[1] \"There are 6 unique subjects\"\n",
      "[1] \"Median Trace: 1.22\"\n",
      "[1] \"Median Antitrace: 5.78\"\n",
      "[1] \"Standard comparisons\"\n",
      "[1] \"FF vs PP:  0.83  -  FF vs FP:  0.8  -  FP vs PP:  0.83\"\n",
      "[1] \"Swapped comparisons - PP swapped - random\"\n",
      "[1] \"FF vs PP:  0.44  -  FF vs FP:  0.8  -  FP vs PP:  0.42\"\n",
      "[1] \"Swapped comparisons - PP swapped - inversion\"\n",
      "[1] \"FF vs PP:  0.5  -  FF vs FP:  0.8  -  FP vs PP:  0.53\"\n",
      "[1] \"Swapped comparisons - PP swapped - rotation\"\n",
      "[1] \"FF vs PP:  0.48  -  FF vs FP:  0.8  -  FP vs PP:  0.45\"\n",
      "[1] \"\"\n",
      "[1] \"Magnification 4.5 Stimulus Radius 0.25\"\n",
      "[1] \"There are 11 unique subjects\"\n",
      "[1] \"Median Trace: 0.89\"\n",
      "[1] \"Median Antitrace: 5.39\"\n",
      "[1] \"Standard comparisons\"\n",
      "[1] \"FF vs PP:  0.78  -  FF vs FP:  0.8  -  FP vs PP:  0.77\"\n",
      "[1] \"Swapped comparisons - PP swapped - random\"\n",
      "[1] \"FF vs PP:  0.43  -  FF vs FP:  0.8  -  FP vs PP:  0.38\"\n",
      "[1] \"Swapped comparisons - PP swapped - inversion\"\n",
      "[1] \"FF vs PP:  0.44  -  FF vs FP:  0.8  -  FP vs PP:  0.4\"\n",
      "[1] \"Swapped comparisons - PP swapped - rotation\"\n",
      "[1] \"FF vs PP:  0.43  -  FF vs FP:  0.8  -  FP vs PP:  0.37\"\n",
      "[1] \"\"\n",
      "[1] \"Magnification 4.5 Stimulus Radius 0.5\"\n",
      "[1] \"There are 7 unique subjects\"\n",
      "[1] \"Median Trace: 0.11\"\n",
      "[1] \"Median Antitrace: 5.83\"\n",
      "[1] \"Standard comparisons\"\n",
      "[1] \"FF vs PP:  0.89  -  FF vs FP:  0.87  -  FP vs PP:  0.92\"\n",
      "[1] \"Swapped comparisons - PP swapped - random\"\n",
      "[1] \"FF vs PP:  0.5  -  FF vs FP:  0.87  -  FP vs PP:  0.5\"\n",
      "[1] \"Swapped comparisons - PP swapped - inversion\"\n",
      "[1] \"FF vs PP:  0.55  -  FF vs FP:  0.87  -  FP vs PP:  0.55\"\n",
      "[1] \"Swapped comparisons - PP swapped - rotation\"\n",
      "[1] \"FF vs PP:  0.49  -  FF vs FP:  0.87  -  FP vs PP:  0.47\"\n",
      "[1] \"\"\n",
      "[1] \"Magnification 4.5 Stimulus Radius 1\"\n",
      "[1] \"There are 6 unique subjects\"\n",
      "[1] \"Median Trace: 0.17\"\n",
      "[1] \"Median Antitrace: 5.36\"\n",
      "[1] \"Standard comparisons\"\n",
      "[1] \"FF vs PP:  0.84  -  FF vs FP:  0.85  -  FP vs PP:  0.82\"\n",
      "[1] \"Swapped comparisons - PP swapped - random\"\n",
      "[1] \"FF vs PP:  0.48  -  FF vs FP:  0.85  -  FP vs PP:  0.38\"\n",
      "[1] \"Swapped comparisons - PP swapped - inversion\"\n",
      "[1] \"FF vs PP:  0.44  -  FF vs FP:  0.85  -  FP vs PP:  0.41\"\n",
      "[1] \"Swapped comparisons - PP swapped - rotation\"\n",
      "[1] \"FF vs PP:  0.49  -  FF vs FP:  0.85  -  FP vs PP:  0.45\"\n",
      "[1] \"\"\n"
     ]
    }
   ],
   "source": [
    "within_distribution_df <- within_correlations_conditions(cleandf,get.correlations=FALSE,test=FALSE)"
   ]
  },
  {
   "cell_type": "code",
   "execution_count": 443,
   "metadata": {},
   "outputs": [
    {
     "data": {
      "image/png": "[encoded data removed]",
      "text/plain": [
       "plot without title"
      ]
     },
     "metadata": {},
     "output_type": "display_data"
    }
   ],
   "source": [
    "r_distribution_plot(within_distribution_df,fisher=FALSE)"
   ]
  },
  {
   "cell_type": "code",
   "execution_count": 144,
   "metadata": {},
   "outputs": [],
   "source": [
    "# function to print the mean between-subject correlation for each condition, returns a dataframe to plot them\n",
    "between_correlations_conditions <- function(cleandf,e1='Foveal',e2='Foveal',test=TRUE){\n",
    "    \n",
    "    e1=l2e(e1)\n",
    "    e2=l2e(e2)\n",
    "    \n",
    "    magnification_list <- sort(unique(cleandf$peripheral_scale))\n",
    "    stim_sizes <- sort(unique(cleandf$stimulus_radius))\n",
    "    \n",
    "    return_df <- data.frame() # initialisation\n",
    "    \n",
    "    for(scale in magnification_list){\n",
    "        temp_scale_df <- subset(cleandf, peripheral_scale == scale)\n",
    "        for(stim_size in stim_sizes){\n",
    "            tempdf <- subset(temp_scale_df, stimulus_radius == stim_size)\n",
    "            \n",
    "            # get the correlations of interest\n",
    "            correlations <- i_j_list(tempdf, e1, e2)\n",
    "            print(paste(\"Magnification\",scale,\"Stimulus Radius\",stim_size,\n",
    "                        \": mean r = \",average_correlation(correlations)))\n",
    "            \n",
    "            # add the correlations to a dataframe for plotting\n",
    "            correlation_df <- data.frame(correlations, \n",
    "                                         magnification = as.character(scale), stimulus_radius = as.character(stim_size))\n",
    "            return_df <- rbind(return_df,correlation_df)\n",
    "            \n",
    "            # check if they're significantly different from shuffled data\n",
    "            \n",
    "        }\n",
    "    }\n",
    "    return(return_df)\n",
    "}"
   ]
  },
  {
   "cell_type": "code",
   "execution_count": 132,
   "metadata": {},
   "outputs": [
    {
     "name": "stdout",
     "output_type": "stream",
     "text": [
      "[1] \"Magnification 1 Stimulus Radius 0.1 : mean r =  0.30386750186056 2\"\n",
      "[1] \"Magnification 1 Stimulus Radius 0.25 : mean r =  0.743885420115348 2\"\n",
      "[1] \"Magnification 1 Stimulus Radius 0.5 : mean r =  0.259602057192458 2\"\n",
      "[1] \"Magnification 1 Stimulus Radius 1 : mean r =  0.73464721185944 2\"\n",
      "[1] \"Magnification 4.5 Stimulus Radius 0.1 : mean r =  0.599518183268645 2\"\n",
      "[1] \"Magnification 4.5 Stimulus Radius 0.25 : mean r =  0.376763615450412 2\"\n",
      "[1] \"Magnification 4.5 Stimulus Radius 0.5 : mean r =  0.640412930100809 2\"\n",
      "[1] \"Magnification 4.5 Stimulus Radius 1 : mean r =  0.39334852411956 2\"\n"
     ]
    }
   ],
   "source": [
    "between_distribution_df <- between_correlations_conditions(cleandf)"
   ]
  },
  {
   "cell_type": "code",
   "execution_count": 155,
   "metadata": {},
   "outputs": [],
   "source": [
    "# test within-vs-between distributions\n",
    "within_vs_between <- function(cleandf){\n",
    "    \n",
    "    magnification_list <- sort(unique(cleandf$peripheral_scale))\n",
    "    stim_sizes <- sort(unique(cleandf$stimulus_radius))\n",
    "    \n",
    "    return_df <- data.frame() # initialisation\n",
    "    \n",
    "    for(scale in magnification_list){\n",
    "        temp_scale_df <- subset(cleandf, peripheral_scale == scale)\n",
    "        for(stim_size in stim_sizes){\n",
    "            tempdf <- subset(temp_scale_df, stimulus_radius == stim_size)\n",
    "            \n",
    "            within_correlations <- eccentricity_compare_list(tempdf, 'Foveal', 'Peripheral')\n",
    "            between_correlations <- i_j_list(tempdf, l2e('Foveal'), l2e('Foveal'))\n",
    "            \n",
    "            print(paste(\"Magnification\",scale,\"Stimulus Radius\",stim_size))\n",
    "            print(paste(\"Mean fovea-periphery correlation:\",average_correlation(within_correlations)))\n",
    "            print(paste(\"Mean between-subject fovea-fovea correlation:\",average_correlation(between_correlations)))\n",
    "\n",
    "            print(QDM_test(within_correlations,between_correlations))\n",
    "            print(\"\")\n",
    "        }\n",
    "    }        \n",
    "}"
   ]
  },
  {
   "cell_type": "code",
   "execution_count": 156,
   "metadata": {
    "collapsed": true,
    "jupyter": {
     "outputs_hidden": true
    }
   },
   "outputs": [
    {
     "name": "stdout",
     "output_type": "stream",
     "text": [
      "[1] \"Magnification 1 Stimulus Radius 0.1\"\n",
      "[1] \"Mean fovea-periphery correlation: 0.586389688833031\"\n",
      "[1] \"Mean between-subject fovea-fovea correlation: 0.30386750186056\"\n",
      "\n",
      "\tWilcoxon rank sum test with continuity correction\n",
      "\n",
      "data:  original_correlations and shuffled_correlations\n",
      "W = 294, p-value = 0.1582\n",
      "alternative hypothesis: true location shift is not equal to 0\n",
      "\n",
      "[1] \"\"\n",
      "[1] \"Magnification 1 Stimulus Radius 0.25\"\n",
      "[1] \"Mean fovea-periphery correlation: 0.714690291571861\"\n",
      "[1] \"Mean between-subject fovea-fovea correlation: 0.743885420115348\"\n",
      "\n",
      "\tWilcoxon rank sum test with continuity correction\n",
      "\n",
      "data:  original_correlations and shuffled_correlations\n",
      "W = 124, p-value = 0.5201\n",
      "alternative hypothesis: true location shift is not equal to 0\n",
      "\n",
      "[1] \"\"\n",
      "[1] \"Magnification 1 Stimulus Radius 0.5\"\n",
      "[1] \"Mean fovea-periphery correlation: 0.791039281555879\"\n",
      "[1] \"Mean between-subject fovea-fovea correlation: 0.259602057192458\"\n",
      "\n",
      "\tWilcoxon rank sum test with continuity correction\n",
      "\n",
      "data:  original_correlations and shuffled_correlations\n",
      "W = 130, p-value = 0.09329\n",
      "alternative hypothesis: true location shift is not equal to 0\n",
      "\n",
      "[1] \"\"\n",
      "[1] \"Magnification 1 Stimulus Radius 1\"\n",
      "[1] \"Mean fovea-periphery correlation: 0.845187467213975\"\n",
      "[1] \"Mean between-subject fovea-fovea correlation: 0.73464721185944\"\n",
      "\n",
      "\tWilcoxon rank sum test with continuity correction\n",
      "\n",
      "data:  original_correlations and shuffled_correlations\n",
      "W = 132, p-value = 0.07785\n",
      "alternative hypothesis: true location shift is not equal to 0\n",
      "\n",
      "[1] \"\"\n",
      "[1] \"Magnification 4.5 Stimulus Radius 0.1\"\n",
      "[1] \"Mean fovea-periphery correlation: 0.787062148625204\"\n",
      "[1] \"Mean between-subject fovea-fovea correlation: 0.599518183268645\"\n",
      "\n",
      "\tWilcoxon rank sum test with continuity correction\n",
      "\n",
      "data:  original_correlations and shuffled_correlations\n",
      "W = 152, p-value = 0.008974\n",
      "alternative hypothesis: true location shift is not equal to 0\n",
      "\n",
      "[1] \"\"\n",
      "[1] \"Magnification 4.5 Stimulus Radius 0.25\"\n",
      "[1] \"Mean fovea-periphery correlation: 0.735221054507706\"\n",
      "[1] \"Mean between-subject fovea-fovea correlation: 0.376763615450412\"\n",
      "\n",
      "\tWilcoxon rank sum test with continuity correction\n",
      "\n",
      "data:  original_correlations and shuffled_correlations\n",
      "W = 880, p-value = 0.01332\n",
      "alternative hypothesis: true location shift is not equal to 0\n",
      "\n",
      "[1] \"\"\n",
      "[1] \"Magnification 4.5 Stimulus Radius 0.5\"\n",
      "[1] \"Mean fovea-periphery correlation: 0.854564325410806\"\n",
      "[1] \"Mean between-subject fovea-fovea correlation: 0.640412930100809\"\n",
      "\n",
      "\tWilcoxon rank sum test with continuity correction\n",
      "\n",
      "data:  original_correlations and shuffled_correlations\n",
      "W = 276, p-value = 0.0002393\n",
      "alternative hypothesis: true location shift is not equal to 0\n",
      "\n",
      "[1] \"\"\n",
      "[1] \"Magnification 4.5 Stimulus Radius 1\"\n",
      "[1] \"Mean fovea-periphery correlation: 0.804521439387299\"\n",
      "[1] \"Mean between-subject fovea-fovea correlation: 0.39334852411956\"\n",
      "\n",
      "\tWilcoxon rank sum test with continuity correction\n",
      "\n",
      "data:  original_correlations and shuffled_correlations\n",
      "W = 140, p-value = 0.03545\n",
      "alternative hypothesis: true location shift is not equal to 0\n",
      "\n",
      "[1] \"\"\n"
     ]
    }
   ],
   "source": [
    "within_vs_between(cleandf)"
   ]
  },
  {
   "cell_type": "markdown",
   "metadata": {},
   "source": [
    "### Between Conditions"
   ]
  },
  {
   "cell_type": "code",
   "execution_count": 199,
   "metadata": {},
   "outputs": [],
   "source": [
    "testdf <- subset(cleandf, subject == 63991259)\n",
    "testmat <- df2mat(testdf, l2e('Foveal'),l2e('Foveal'))"
   ]
  },
  {
   "cell_type": "code",
   "execution_count": 200,
   "metadata": {},
   "outputs": [
    {
     "data": {
      "text/html": [
       "<table>\n",
       "<thead><tr><th scope=col>#0000FF</th><th scope=col>#00A9FF</th><th scope=col>#00FF00</th><th scope=col>#00FFA9</th><th scope=col>#AA00FF</th><th scope=col>#AAFF00</th><th scope=col>#FF0000</th><th scope=col>#FF00AA</th><th scope=col>#FFAA00</th></tr></thead>\n",
       "<tbody>\n",
       "\t<tr><td>0.01</td><td>1.50</td><td>5.00</td><td>2.50</td><td>2.00</td><td>5.50</td><td>7.00</td><td>7.00</td><td>6.50</td></tr>\n",
       "\t<tr><td>1.50</td><td>0.01</td><td>2.00</td><td>2.50</td><td>4.00</td><td>4.00</td><td>7.00</td><td>6.00</td><td>7.00</td></tr>\n",
       "\t<tr><td>5.00</td><td>2.00</td><td>0.01</td><td>1.50</td><td>6.50</td><td>1.50</td><td>7.00</td><td>6.50</td><td>4.00</td></tr>\n",
       "\t<tr><td>2.50</td><td>2.50</td><td>1.50</td><td>0.01</td><td>5.50</td><td>2.50</td><td>6.50</td><td>6.00</td><td>5.00</td></tr>\n",
       "\t<tr><td>2.00</td><td>4.00</td><td>6.50</td><td>5.50</td><td>0.01</td><td>6.00</td><td>6.00</td><td>1.50</td><td>7.00</td></tr>\n",
       "\t<tr><td>5.50</td><td>4.00</td><td>1.50</td><td>2.50</td><td>6.00</td><td>0.01</td><td>6.50</td><td>6.50</td><td>2.50</td></tr>\n",
       "\t<tr><td>7.00</td><td>7.00</td><td>7.00</td><td>6.50</td><td>6.00</td><td>6.50</td><td>0.01</td><td>4.00</td><td>3.00</td></tr>\n",
       "\t<tr><td>7.00</td><td>6.00</td><td>6.50</td><td>6.00</td><td>1.50</td><td>6.50</td><td>4.00</td><td>0.01</td><td>4.00</td></tr>\n",
       "\t<tr><td>6.50</td><td>7.00</td><td>4.00</td><td>5.00</td><td>7.00</td><td>2.50</td><td>3.00</td><td>4.00</td><td>0.01</td></tr>\n",
       "</tbody>\n",
       "</table>\n"
      ],
      "text/latex": [
       "\\begin{tabular}{lllllllll}\n",
       " \\#0000FF & \\#00A9FF & \\#00FF00 & \\#00FFA9 & \\#AA00FF & \\#AAFF00 & \\#FF0000 & \\#FF00AA & \\#FFAA00\\\\\n",
       "\\hline\n",
       "\t 0.01 & 1.50 & 5.00 & 2.50 & 2.00 & 5.50 & 7.00 & 7.00 & 6.50\\\\\n",
       "\t 1.50 & 0.01 & 2.00 & 2.50 & 4.00 & 4.00 & 7.00 & 6.00 & 7.00\\\\\n",
       "\t 5.00 & 2.00 & 0.01 & 1.50 & 6.50 & 1.50 & 7.00 & 6.50 & 4.00\\\\\n",
       "\t 2.50 & 2.50 & 1.50 & 0.01 & 5.50 & 2.50 & 6.50 & 6.00 & 5.00\\\\\n",
       "\t 2.00 & 4.00 & 6.50 & 5.50 & 0.01 & 6.00 & 6.00 & 1.50 & 7.00\\\\\n",
       "\t 5.50 & 4.00 & 1.50 & 2.50 & 6.00 & 0.01 & 6.50 & 6.50 & 2.50\\\\\n",
       "\t 7.00 & 7.00 & 7.00 & 6.50 & 6.00 & 6.50 & 0.01 & 4.00 & 3.00\\\\\n",
       "\t 7.00 & 6.00 & 6.50 & 6.00 & 1.50 & 6.50 & 4.00 & 0.01 & 4.00\\\\\n",
       "\t 6.50 & 7.00 & 4.00 & 5.00 & 7.00 & 2.50 & 3.00 & 4.00 & 0.01\\\\\n",
       "\\end{tabular}\n"
      ],
      "text/markdown": [
       "\n",
       "| #0000FF | #00A9FF | #00FF00 | #00FFA9 | #AA00FF | #AAFF00 | #FF0000 | #FF00AA | #FFAA00 |\n",
       "|---|---|---|---|---|---|---|---|---|\n",
       "| 0.01 | 1.50 | 5.00 | 2.50 | 2.00 | 5.50 | 7.00 | 7.00 | 6.50 |\n",
       "| 1.50 | 0.01 | 2.00 | 2.50 | 4.00 | 4.00 | 7.00 | 6.00 | 7.00 |\n",
       "| 5.00 | 2.00 | 0.01 | 1.50 | 6.50 | 1.50 | 7.00 | 6.50 | 4.00 |\n",
       "| 2.50 | 2.50 | 1.50 | 0.01 | 5.50 | 2.50 | 6.50 | 6.00 | 5.00 |\n",
       "| 2.00 | 4.00 | 6.50 | 5.50 | 0.01 | 6.00 | 6.00 | 1.50 | 7.00 |\n",
       "| 5.50 | 4.00 | 1.50 | 2.50 | 6.00 | 0.01 | 6.50 | 6.50 | 2.50 |\n",
       "| 7.00 | 7.00 | 7.00 | 6.50 | 6.00 | 6.50 | 0.01 | 4.00 | 3.00 |\n",
       "| 7.00 | 6.00 | 6.50 | 6.00 | 1.50 | 6.50 | 4.00 | 0.01 | 4.00 |\n",
       "| 6.50 | 7.00 | 4.00 | 5.00 | 7.00 | 2.50 | 3.00 | 4.00 | 0.01 |\n",
       "\n"
      ],
      "text/plain": [
       "      #0000FF #00A9FF #00FF00 #00FFA9 #AA00FF #AAFF00 #FF0000 #FF00AA #FFAA00\n",
       " [1,] 0.01    1.50    5.00    2.50    2.00    5.50    7.00    7.00    6.50   \n",
       " [2,] 1.50    0.01    2.00    2.50    4.00    4.00    7.00    6.00    7.00   \n",
       " [3,] 5.00    2.00    0.01    1.50    6.50    1.50    7.00    6.50    4.00   \n",
       " [4,] 2.50    2.50    1.50    0.01    5.50    2.50    6.50    6.00    5.00   \n",
       " [5,] 2.00    4.00    6.50    5.50    0.01    6.00    6.00    1.50    7.00   \n",
       " [6,] 5.50    4.00    1.50    2.50    6.00    0.01    6.50    6.50    2.50   \n",
       " [7,] 7.00    7.00    7.00    6.50    6.00    6.50    0.01    4.00    3.00   \n",
       " [8,] 7.00    6.00    6.50    6.00    1.50    6.50    4.00    0.01    4.00   \n",
       " [9,] 6.50    7.00    4.00    5.00    7.00    2.50    3.00    4.00    0.01   "
      ]
     },
     "metadata": {},
     "output_type": "display_data"
    }
   ],
   "source": [
    "testmat"
   ]
  },
  {
   "cell_type": "code",
   "execution_count": 207,
   "metadata": {},
   "outputs": [
    {
     "name": "stdout",
     "output_type": "stream",
     "text": [
      "The standard FkM algorithm has been chosen\n",
      "The default options have been set, to specify different options, use FKM \n"
     ]
    }
   ],
   "source": [
    "clust <- Fclust(testmat,k=5)"
   ]
  },
  {
   "cell_type": "code",
   "execution_count": 211,
   "metadata": {},
   "outputs": [
    {
     "data": {
      "text/plain": [
       "\n",
       " Fuzzy clustering object of class 'fclust' \n",
       " \n",
       " Number of objects: \n",
       " 9\n",
       " \n",
       " Number of clusters: \n",
       " 5\n",
       " \n",
       " Clustering index values: \n",
       "SIL.F k=5 \n",
       "0.3866621 \n",
       "\n",
       " \n",
       " Closest hard clustering partition: \n",
       "Obj 1 Obj 2 Obj 3 Obj 4 Obj 5 Obj 6 Obj 7 Obj 8 Obj 9 \n",
       "    2     2     5     5     4     5     3     1     3 \n",
       "\n",
       " Membership degree matrix (rounded): \n",
       "      Clus 1 Clus 2 Clus 3 Clus 4 Clus 5\n",
       "Obj 1   0.04   0.74   0.03   0.11   0.07\n",
       "Obj 2   0.02   0.88   0.01   0.03   0.06\n",
       "Obj 3   0.01   0.04   0.01   0.01   0.92\n",
       "Obj 4   0.05   0.30   0.05   0.06   0.55\n",
       "Obj 5   0.00   0.00   0.00   1.00   0.00\n",
       "Obj 6   0.03   0.06   0.04   0.03   0.85\n",
       "Obj 7   0.04   0.01   0.92   0.02   0.01\n",
       "Obj 8   1.00   0.00   0.00   0.00   0.00\n",
       "Obj 9   0.17   0.09   0.48   0.09   0.18\n",
       "\n",
       " Available components: \n",
       " [1] \"U\"         \"H\"         \"F\"         \"clus\"      \"medoid\"    \"value\"    \n",
       " [7] \"criterion\" \"iter\"      \"k\"         \"m\"         \"ent\"       \"b\"        \n",
       "[13] \"vp\"        \"delta\"     \"stand\"     \"Xca\"       \"X\"         \"D\"        \n",
       "[19] \"call\"     \n",
       "\n",
       " "
      ]
     },
     "metadata": {},
     "output_type": "display_data"
    }
   ],
   "source": [
    "kclust <- FKM(testmat, k=5)\n",
    "kclust"
   ]
  },
  {
   "cell_type": "code",
   "execution_count": 209,
   "metadata": {},
   "outputs": [
    {
     "name": "stdout",
     "output_type": "stream",
     "text": [
      "The default value alpha=1 has been set for computing SIL.F \n"
     ]
    },
    {
     "data": {
      "text/html": [
       "<dl class=dl-horizontal>\n",
       "\t<dt>PC</dt>\n",
       "\t\t<dd>0.714658186073628</dd>\n",
       "\t<dt>PE</dt>\n",
       "\t\t<dd>0.60456750840185</dd>\n",
       "\t<dt>MPC</dt>\n",
       "\t\t<dd>0.643322732592035</dd>\n",
       "\t<dt>SIL</dt>\n",
       "\t\t<dd>0.416569904070561</dd>\n",
       "\t<dt>SIL.F</dt>\n",
       "\t\t<dd>0.42130297803017</dd>\n",
       "\t<dt>XB</dt>\n",
       "\t\t<dd>0.0868763252835461</dd>\n",
       "</dl>\n"
      ],
      "text/latex": [
       "\\begin{description*}\n",
       "\\item[PC] 0.714658186073628\n",
       "\\item[PE] 0.60456750840185\n",
       "\\item[MPC] 0.643322732592035\n",
       "\\item[SIL] 0.416569904070561\n",
       "\\item[SIL.F] 0.42130297803017\n",
       "\\item[XB] 0.0868763252835461\n",
       "\\end{description*}\n"
      ],
      "text/markdown": [
       "PC\n",
       ":   0.714658186073628PE\n",
       ":   0.60456750840185MPC\n",
       ":   0.643322732592035SIL\n",
       ":   0.416569904070561SIL.F\n",
       ":   0.42130297803017XB\n",
       ":   0.0868763252835461\n",
       "\n"
      ],
      "text/plain": [
       "        PC         PE        MPC        SIL      SIL.F         XB \n",
       "0.71465819 0.60456751 0.64332273 0.41656990 0.42130298 0.08687633 "
      ]
     },
     "metadata": {},
     "output_type": "display_data"
    }
   ],
   "source": [
    "Fclust.index(clust)"
   ]
  },
  {
   "cell_type": "code",
   "execution_count": 204,
   "metadata": {},
   "outputs": [
    {
     "data": {
      "image/png": "[encoded data removed]",
      "text/plain": [
       "Plot with title \"VAT\""
      ]
     },
     "metadata": {},
     "output_type": "display_data"
    }
   ],
   "source": [
    "VAT(testmat)"
   ]
  },
  {
   "cell_type": "markdown",
   "metadata": {},
   "source": [
    "## Plot Stuff"
   ]
  },
  {
   "cell_type": "markdown",
   "metadata": {},
   "source": [
    "### Plot summary of all subjects"
   ]
  },
  {
   "cell_type": "markdown",
   "metadata": {},
   "source": [
    "#### Individual subjects"
   ]
  },
  {
   "cell_type": "code",
   "execution_count": 82,
   "metadata": {},
   "outputs": [],
   "source": [
    "# plot summary data for all the subjects individually\n",
    "allsubjectsplot <- function(datadf,savestr){\n",
    "    \n",
    "    subjectlist <- sort(unique(datadf$subject)) # obtain a list of all the subjects\n",
    "\n",
    "    dir.create(paste(savestr,\"Subject_Plots\",sep='_')) # make a new folder to store the subject plots in\n",
    "\n",
    "    for (subjectid in subjectlist){\n",
    "        print(paste(\"Processing subject:\",subjectid,sep=' '))\n",
    "        subjectplot(datadf, subjectid,savestr)\n",
    "    }\n",
    "}"
   ]
  },
  {
   "cell_type": "code",
   "execution_count": 83,
   "metadata": {},
   "outputs": [],
   "source": [
    "# make a plot of the key summary data for a subject - single trial type version\n",
    "subjectplot <- function(datadf, subjectid,savestr){\n",
    "    \n",
    "    datadf = subset(datadf, subject == subjectid) # select the ID for subject of interest\n",
    "    for (trial_condition in trial_types){\n",
    "            subjectdf = subset(datadf, trial_type == trial_condition) # just pick one trial type at a time\n",
    "    \n",
    "    \n",
    "        if(subjectdf$trial_type[1] != 'after_1'){\n",
    "            FP = TRUE\n",
    "        } else {\n",
    "            FP = FALSE\n",
    "        }\n",
    "\n",
    "        # FF Matrix plot\n",
    "        FFmatrix <- dissimplot(dissimdata(subjectdf, colors, l2e('Foveal'), l2e('Foveal')),colors)\n",
    "\n",
    "\n",
    "\n",
    "        # PP Matrix plot\n",
    "        PPmatrix <- dissimplot(dissimdata(subjectdf, colors, l2e('Peripheral'), l2e('Peripheral')),colors)\n",
    "\n",
    "        # FF CMDS plot\n",
    "        FFcmds <-  cmdsplot(cmdsfit(mat2dist(df2mat(subjectdf,l2e('Foveal'), l2e('Foveal')))), \n",
    "                            abcolors, abcolors, l2e('Foveal'), l2e('Foveal'))\n",
    "\n",
    "\n",
    "\n",
    "        # PP CMDS plot\n",
    "        PPcmds <-  cmdsplot(cmdsfit(mat2dist(df2mat(subjectdf,l2e('Peripheral'), l2e('Peripheral')))), \n",
    "                            abcolors, abcolors, l2e('Peripheral'), l2e('Peripheral'))\n",
    "\n",
    "        # FF nMDS plot\n",
    "        FFnmds <-  nmdsplot(nmdsfit(mat2dist(df2mat(subjectdf,l2e('Foveal'), l2e('Foveal')))), \n",
    "                            abcolors, abcolors, l2e('Foveal'), l2e('Foveal'))\n",
    "\n",
    "\n",
    "\n",
    "        # PP nMDS plot\n",
    "        PPnmds <-  nmdsplot(nmdsfit(mat2dist(df2mat(subjectdf,l2e('Peripheral'), l2e('Peripheral')))), \n",
    "                            abcolors, abcolors, l2e('Peripheral'), l2e('Peripheral'))\n",
    "\n",
    "        # Similarity judgements\n",
    "        simplot <- simhistplot(subjectdf)\n",
    "        # Reaction times\n",
    "        reactionplot <- rsplot(subjectdf)\n",
    "        # summary plot\n",
    "        rainplot <- rsplot_raincloud(subjectdf,'log')\n",
    "\n",
    "        # trace plots\n",
    "        traceplot <- trace_plot(subjectdf)\n",
    "        antiplot <- trace_plot(subjectdf,'antitrace')\n",
    "        differenceplot <- trace_plot(subjectdf,'difference')\n",
    "\n",
    "        # asymmetry plot\n",
    "        asymplot <- asymmetry_plot(subjectdf,l2e('Foveal'),l2e('Foveal'),colors)\n",
    "\n",
    "        # title\n",
    "        if(subjectdf$noncompliant[1]){\n",
    "            title <- textGrob(paste(\"ID:\",as.character(subjectid),\"|\",\"Catch Score:\",catch_score(datadf),\n",
    "                              \"Screen size:\",round(screen_size(subjectdf)/10,1),\"cm\",\n",
    "                              \"Viewing distance:\",round(view_distance(subjectdf)/10,1),\"cm\"),\n",
    "                              gp=gpar(col=\"red\",fontsize=35))\n",
    "        } else {\n",
    "            title <- textGrob(paste(\"ID:\",as.character(subjectid),\"|\",\"Catch Score:\",catch_score(datadf),\n",
    "                              \"Screen size:\",round(screen_size(subjectdf)/10,1),\"cm\",\n",
    "                              \"Viewing distance:\",round(view_distance(subjectdf)/10,1),\"cm\"),\n",
    "                              gp=gpar(col=\"blue\",fontsize=35))\n",
    "        }\n",
    "    \n",
    "        if(FP){\n",
    "\n",
    "            # FP Matrix plot\n",
    "            FPmatrix <- dissimplot(dissimdata(subjectdf, colors, l2e('Foveal'), l2e('Peripheral')),colors)\n",
    "\n",
    "            # FP CMDS plot\n",
    "            FPcmds <-  cmdsplot(cmdsfit(mat2dist(df2mat(subjectdf,l2e('Foveal'), l2e('Peripheral')))), \n",
    "                            abcolors, abcolors, l2e('Foveal'), l2e('Peripheral'))\n",
    "\n",
    "            # FP nMDS plot\n",
    "            FPnmds <-  nmdsplot(nmdsfit(mat2dist(df2mat(subjectdf,l2e('Foveal'), l2e('Peripheral')))), \n",
    "                            abcolors, abcolors, l2e('Foveal'), l2e('Peripheral'))\n",
    "\n",
    "            # put all the plots together\n",
    "            g <- arrangeGrob(FFmatrix, FPmatrix, PPmatrix, simplot,\n",
    "                        FFcmds, FPcmds, PPcmds, reactionplot,\n",
    "                        FFnmds, FPnmds, PPnmds, rainplot,\n",
    "                        traceplot, antiplot, differenceplot, \n",
    "                        nrow = 4, ncol=4, top = title)\n",
    "\n",
    "            exp_type <- trial_condition\n",
    "            ggsave(paste(savestr,\"_Subject_Plots/\",exp_type,\"_ID_\",subjectid,\"_plot.png\",sep=''),\n",
    "                     g, height = 40, width = 40)\n",
    "        } else {\n",
    "            # put all the plots together\n",
    "            g <- arrangeGrob(FFmatrix, PPmatrix, simplot, traceplot,\n",
    "                        FFcmds, PPcmds, reactionplot, antiplot,\n",
    "                        FFnmds, PPnmds, rainplot, \n",
    "                        nrow = 3, ncol=4, top = title)\n",
    "\n",
    "            exp_type <- trial_condition\n",
    "            ggsave(paste(savestr,\"_Subject_Plots/\",exp_type,\"_ID_\",subjectid,\"_plot.png\",\n",
    "                     sep=''),g, height = 30, width = 40)\n",
    "        }\n",
    "    }\n",
    "}"
   ]
  },
  {
   "cell_type": "code",
   "execution_count": 184,
   "metadata": {
    "scrolled": true
   },
   "outputs": [
    {
     "name": "stdout",
     "output_type": "stream",
     "text": [
      "[1] \"Processing subject: 99640956\"\n",
      "initial  value 9.276396 \n",
      "iter   5 value 7.325384\n",
      "iter  10 value 7.203836\n",
      "iter  10 value 7.198301\n",
      "iter  10 value 7.197487\n",
      "final  value 7.197487 \n",
      "converged\n",
      "initial  value 6.671118 \n",
      "iter   5 value 5.261996\n",
      "final  value 5.246469 \n",
      "converged\n"
     ]
    },
    {
     "name": "stderr",
     "output_type": "stream",
     "text": [
      "Scale for 'y' is already present. Adding another scale for 'y', which will\n",
      "replace the existing scale.\n"
     ]
    },
    {
     "name": "stdout",
     "output_type": "stream",
     "text": [
      "initial  value 10.157103 \n",
      "iter   5 value 7.124059\n",
      "iter   5 value 7.121951\n",
      "iter   5 value 7.121448\n",
      "final  value 7.121448 \n",
      "converged\n"
     ]
    },
    {
     "name": "stderr",
     "output_type": "stream",
     "text": [
      "`stat_bindot()` using `bins = 30`. Pick better value with `binwidth`.\n",
      "`stat_bindot()` using `bins = 30`. Pick better value with `binwidth`.\n",
      "`stat_bindot()` using `bins = 30`. Pick better value with `binwidth`.\n"
     ]
    },
    {
     "name": "stdout",
     "output_type": "stream",
     "text": [
      "[1] \"Processing subject: 133207874\"\n",
      "initial  value 13.369375 \n",
      "iter   5 value 9.529546\n",
      "final  value 9.456198 \n",
      "converged\n",
      "initial  value 9.874137 \n",
      "iter   5 value 7.434489\n",
      "iter  10 value 6.775011\n",
      "iter  15 value 5.207787\n",
      "iter  20 value 5.070027\n",
      "iter  20 value 5.066969\n",
      "iter  20 value 5.066113\n",
      "final  value 5.066113 \n",
      "converged\n"
     ]
    },
    {
     "name": "stderr",
     "output_type": "stream",
     "text": [
      "Scale for 'y' is already present. Adding another scale for 'y', which will\n",
      "replace the existing scale.\n"
     ]
    },
    {
     "name": "stdout",
     "output_type": "stream",
     "text": [
      "initial  value 12.651813 \n",
      "iter   5 value 8.919114\n",
      "final  value 8.802303 \n",
      "converged\n"
     ]
    },
    {
     "name": "stderr",
     "output_type": "stream",
     "text": [
      "`stat_bindot()` using `bins = 30`. Pick better value with `binwidth`.\n",
      "`stat_bindot()` using `bins = 30`. Pick better value with `binwidth`.\n",
      "`stat_bindot()` using `bins = 30`. Pick better value with `binwidth`.\n"
     ]
    },
    {
     "name": "stdout",
     "output_type": "stream",
     "text": [
      "[1] \"Processing subject: 176698125\"\n",
      "initial  value 28.526248 \n",
      "iter   5 value 14.928916\n",
      "iter  10 value 8.912166\n",
      "final  value 8.804291 \n",
      "converged\n",
      "initial  value 38.612566 \n",
      "iter   5 value 15.412105\n",
      "final  value 13.786846 \n",
      "converged\n"
     ]
    },
    {
     "name": "stderr",
     "output_type": "stream",
     "text": [
      "Scale for 'y' is already present. Adding another scale for 'y', which will\n",
      "replace the existing scale.\n"
     ]
    },
    {
     "name": "stdout",
     "output_type": "stream",
     "text": [
      "initial  value 32.323878 \n",
      "iter   5 value 23.793532\n",
      "iter  10 value 20.528060\n",
      "iter  15 value 18.450728\n",
      "iter  20 value 18.234636\n",
      "iter  25 value 17.906580\n",
      "final  value 17.840002 \n",
      "converged\n"
     ]
    },
    {
     "name": "stderr",
     "output_type": "stream",
     "text": [
      "`stat_bindot()` using `bins = 30`. Pick better value with `binwidth`.\n",
      "`stat_bindot()` using `bins = 30`. Pick better value with `binwidth`.\n",
      "`stat_bindot()` using `bins = 30`. Pick better value with `binwidth`.\n"
     ]
    },
    {
     "name": "stdout",
     "output_type": "stream",
     "text": [
      "[1] \"Processing subject: 204525930\"\n",
      "initial  value 7.710417 \n",
      "iter   5 value 5.178159\n",
      "final  value 5.150940 \n",
      "converged\n",
      "initial  value 6.708022 \n",
      "iter   5 value 3.703469\n",
      "final  value 3.498202 \n",
      "converged\n"
     ]
    },
    {
     "name": "stderr",
     "output_type": "stream",
     "text": [
      "Scale for 'y' is already present. Adding another scale for 'y', which will\n",
      "replace the existing scale.\n"
     ]
    },
    {
     "name": "stdout",
     "output_type": "stream",
     "text": [
      "initial  value 7.281070 \n",
      "iter   5 value 5.909321\n",
      "final  value 5.890110 \n",
      "converged\n"
     ]
    },
    {
     "name": "stderr",
     "output_type": "stream",
     "text": [
      "`stat_bindot()` using `bins = 30`. Pick better value with `binwidth`.\n",
      "`stat_bindot()` using `bins = 30`. Pick better value with `binwidth`.\n",
      "`stat_bindot()` using `bins = 30`. Pick better value with `binwidth`.\n"
     ]
    },
    {
     "name": "stdout",
     "output_type": "stream",
     "text": [
      "[1] \"Processing subject: 265310712\"\n",
      "initial  value 28.869852 \n",
      "iter   5 value 17.689313\n",
      "final  value 17.222011 \n",
      "converged\n",
      "initial  value 21.957683 \n",
      "iter   5 value 18.229215\n",
      "final  value 18.061142 \n",
      "converged\n"
     ]
    },
    {
     "name": "stderr",
     "output_type": "stream",
     "text": [
      "Scale for 'y' is already present. Adding another scale for 'y', which will\n",
      "replace the existing scale.\n"
     ]
    },
    {
     "name": "stdout",
     "output_type": "stream",
     "text": [
      "initial  value 27.143424 \n",
      "iter   5 value 21.274711\n",
      "iter  10 value 18.515213\n",
      "iter  10 value 18.502932\n",
      "iter  10 value 18.502932\n",
      "final  value 18.502932 \n",
      "converged\n"
     ]
    },
    {
     "name": "stderr",
     "output_type": "stream",
     "text": [
      "`stat_bindot()` using `bins = 30`. Pick better value with `binwidth`.\n",
      "`stat_bindot()` using `bins = 30`. Pick better value with `binwidth`.\n",
      "`stat_bindot()` using `bins = 30`. Pick better value with `binwidth`.\n"
     ]
    },
    {
     "name": "stdout",
     "output_type": "stream",
     "text": [
      "[1] \"Processing subject: 281640697\"\n",
      "initial  value 17.299879 \n",
      "iter   5 value 12.186712\n",
      "final  value 12.150389 \n",
      "converged\n",
      "initial  value 16.615514 \n",
      "iter   5 value 10.540329\n",
      "final  value 10.388478 \n",
      "converged\n"
     ]
    },
    {
     "name": "stderr",
     "output_type": "stream",
     "text": [
      "Scale for 'y' is already present. Adding another scale for 'y', which will\n",
      "replace the existing scale.\n"
     ]
    },
    {
     "name": "stdout",
     "output_type": "stream",
     "text": [
      "initial  value 12.028323 \n",
      "iter   5 value 9.555578\n",
      "final  value 9.525368 \n",
      "converged\n"
     ]
    },
    {
     "name": "stderr",
     "output_type": "stream",
     "text": [
      "`stat_bindot()` using `bins = 30`. Pick better value with `binwidth`.\n",
      "`stat_bindot()` using `bins = 30`. Pick better value with `binwidth`.\n",
      "`stat_bindot()` using `bins = 30`. Pick better value with `binwidth`.\n"
     ]
    },
    {
     "name": "stdout",
     "output_type": "stream",
     "text": [
      "[1] \"Processing subject: 475089391\"\n",
      "initial  value 17.161175 \n",
      "iter   5 value 9.998890\n",
      "iter  10 value 9.564586\n",
      "final  value 9.520915 \n",
      "converged\n",
      "initial  value 15.961226 \n",
      "iter   5 value 8.988723\n",
      "iter  10 value 8.265802\n",
      "final  value 8.245331 \n",
      "converged\n"
     ]
    },
    {
     "name": "stderr",
     "output_type": "stream",
     "text": [
      "Scale for 'y' is already present. Adding another scale for 'y', which will\n",
      "replace the existing scale.\n"
     ]
    },
    {
     "name": "stdout",
     "output_type": "stream",
     "text": [
      "initial  value 11.979670 \n",
      "iter   5 value 8.499101\n",
      "final  value 8.254990 \n",
      "converged\n"
     ]
    },
    {
     "name": "stderr",
     "output_type": "stream",
     "text": [
      "`stat_bindot()` using `bins = 30`. Pick better value with `binwidth`.\n",
      "`stat_bindot()` using `bins = 30`. Pick better value with `binwidth`.\n",
      "`stat_bindot()` using `bins = 30`. Pick better value with `binwidth`.\n"
     ]
    },
    {
     "name": "stdout",
     "output_type": "stream",
     "text": [
      "[1] \"Processing subject: 518373039\"\n",
      "initial  value 15.686401 \n",
      "iter   5 value 11.588644\n",
      "final  value 11.488775 \n",
      "converged\n",
      "initial  value 24.520319 \n",
      "iter   5 value 19.099108\n",
      "iter   5 value 19.083964\n",
      "iter   5 value 19.083964\n",
      "final  value 19.083964 \n",
      "converged\n"
     ]
    },
    {
     "name": "stderr",
     "output_type": "stream",
     "text": [
      "Scale for 'y' is already present. Adding another scale for 'y', which will\n",
      "replace the existing scale.\n"
     ]
    },
    {
     "name": "stdout",
     "output_type": "stream",
     "text": [
      "initial  value 19.993789 \n",
      "iter   5 value 11.716685\n",
      "final  value 11.317109 \n",
      "converged\n"
     ]
    },
    {
     "name": "stderr",
     "output_type": "stream",
     "text": [
      "`stat_bindot()` using `bins = 30`. Pick better value with `binwidth`.\n",
      "`stat_bindot()` using `bins = 30`. Pick better value with `binwidth`.\n",
      "`stat_bindot()` using `bins = 30`. Pick better value with `binwidth`.\n"
     ]
    },
    {
     "name": "stdout",
     "output_type": "stream",
     "text": [
      "[1] \"Processing subject: 789921315\"\n",
      "initial  value 26.013336 \n",
      "iter   5 value 16.703398\n",
      "iter  10 value 8.787402\n",
      "iter  15 value 8.209995\n",
      "iter  15 value 8.207134\n",
      "iter  15 value 8.207132\n",
      "final  value 8.207132 \n",
      "converged\n",
      "initial  value 29.256043 \n",
      "iter   5 value 17.581339\n",
      "iter  10 value 12.301230\n",
      "iter  15 value 10.980823\n",
      "final  value 10.966779 \n",
      "converged\n"
     ]
    },
    {
     "name": "stderr",
     "output_type": "stream",
     "text": [
      "Scale for 'y' is already present. Adding another scale for 'y', which will\n",
      "replace the existing scale.\n"
     ]
    },
    {
     "name": "stdout",
     "output_type": "stream",
     "text": [
      "initial  value 32.625926 \n",
      "final  value 32.625926 \n",
      "converged\n"
     ]
    },
    {
     "name": "stderr",
     "output_type": "stream",
     "text": [
      "`stat_bindot()` using `bins = 30`. Pick better value with `binwidth`.\n",
      "`stat_bindot()` using `bins = 30`. Pick better value with `binwidth`.\n",
      "`stat_bindot()` using `bins = 30`. Pick better value with `binwidth`.\n"
     ]
    },
    {
     "name": "stdout",
     "output_type": "stream",
     "text": [
      "[1] \"Processing subject: 947430341\"\n",
      "initial  value 29.106080 \n",
      "iter   5 value 24.195012\n",
      "iter  10 value 22.414269\n",
      "final  value 22.143886 \n",
      "converged\n",
      "initial  value 34.287119 \n",
      "iter   5 value 21.987324\n",
      "final  value 20.490350 \n",
      "converged\n"
     ]
    },
    {
     "name": "stderr",
     "output_type": "stream",
     "text": [
      "Scale for 'y' is already present. Adding another scale for 'y', which will\n",
      "replace the existing scale.\n"
     ]
    },
    {
     "name": "stdout",
     "output_type": "stream",
     "text": [
      "initial  value 35.927084 \n",
      "iter   5 value 24.829682\n",
      "iter  10 value 21.932416\n",
      "final  value 21.714132 \n",
      "converged\n"
     ]
    },
    {
     "name": "stderr",
     "output_type": "stream",
     "text": [
      "`stat_bindot()` using `bins = 30`. Pick better value with `binwidth`.\n",
      "`stat_bindot()` using `bins = 30`. Pick better value with `binwidth`.\n",
      "`stat_bindot()` using `bins = 30`. Pick better value with `binwidth`.\n"
     ]
    }
   ],
   "source": [
    "if(plotsubjects){\n",
    "    allsubjectsplot(datadf,savestr)\n",
    "}"
   ]
  },
  {
   "cell_type": "markdown",
   "metadata": {},
   "source": [
    "#### New mixed trial type version analysis"
   ]
  },
  {
   "cell_type": "code",
   "execution_count": 62,
   "metadata": {},
   "outputs": [],
   "source": [
    "# matrix to define layout for the mixed trial type plot\n",
    "mixed_hlay <- rbind (c(1,2,3,4,5,6),\n",
    "                     c(7,8,9,10,11,12),\n",
    "                     c(13,14,15,16,17,18))"
   ]
  },
  {
   "cell_type": "code",
   "execution_count": 63,
   "metadata": {},
   "outputs": [],
   "source": [
    "# names for the x axis\n",
    "col_plot_list <- c('FF Matrix', 'FF nMDS', 'PP Matrix', 'PP nMDS', 'RT', 'Dissim Freq')"
   ]
  },
  {
   "cell_type": "code",
   "execution_count": 65,
   "metadata": {},
   "outputs": [],
   "source": [
    "# make a plot of the key summary data for a subject - mixed trial type version\n",
    "subject_mixed_plot <- function(datadf,savestr){\n",
    "    \n",
    "    dir.create(paste(savestr,\"Mixed_Trial_Type_Plots\", sep='_'))\n",
    "    subjectlist <- sort(unique(datadf$subject)) # obtain a list of all the subjects\n",
    "    \n",
    "    \n",
    "    for (subjectid in subjectlist){ # do for each subject\n",
    "        \n",
    "        k = 0 # counter\n",
    "        plot_list <- list() # list to store the plots in as we're making them\n",
    "        subjectdf = subset(datadf, subject == subjectid) # select the ID for subject of interest\n",
    "\n",
    "        for (trial_condition in trial_types){\n",
    "            type_df = subset(subjectdf, trial_type == trial_condition) # just pick one trial type at a time\n",
    "            \n",
    "            # FF Matrix plot\n",
    "            FFmatrix <- dissimplot(dissimdata(type_df, colors, l2e('Foveal'), l2e('Foveal')),colors)\n",
    "            k = k + 1\n",
    "            plot_list[[k]] <- as.grob(FFmatrix)\n",
    "            \n",
    "            # FF nMDS plot\n",
    "            FFnmds <-  nmdsplot(nmdsfit(mat2dist(df2mat(type_df,l2e('Foveal'), l2e('Foveal')))), \n",
    "                                abcolors, abcolors, l2e('Foveal'), l2e('Foveal'))\n",
    "            k = k + 1\n",
    "            plot_list[[k]] <- as.grob(FFnmds)\n",
    "\n",
    "            # PP Matrix plot\n",
    "            PPmatrix <- dissimplot(dissimdata(type_df, colors, l2e('Peripheral'), l2e('Peripheral')),colors)\n",
    "            k = k + 1\n",
    "            plot_list[[k]] <- as.grob(PPmatrix)\n",
    "\n",
    "            # PP nMDS plot\n",
    "            PPnmds <-  nmdsplot(nmdsfit(mat2dist(df2mat(type_df,l2e('Peripheral'), l2e('Peripheral')))), \n",
    "                                abcolors, abcolors, l2e('Peripheral'), l2e('Peripheral'))\n",
    "            k = k + 1\n",
    "            plot_list[[k]] <- as.grob(PPnmds)\n",
    "\n",
    "            # rt rain plot\n",
    "            rainplot <- rsplot_raincloud(type_df)\n",
    "            k = k + 1\n",
    "            plot_list[[k]] <- as.grob(rainplot)\n",
    "            # Similarity judgements\n",
    "            simplot <- simhistplot(subjectdf)\n",
    "            k = k + 1\n",
    "            plot_list[[k]] <- as.grob(simplot)\n",
    "\n",
    "        }\n",
    "\n",
    "        # save the plots\n",
    "        yaxis <- textGrob(\"Trial Type\", gp=gpar(fontsize=30), rot=90)\n",
    "        xaxis <- textGrob(\"\", gp=gpar(fontsize=30))\n",
    "\n",
    "        title <- textGrob(paste(\"ID:\",subjectid,\"|\",\"Catch Score:\",catch_score(subjectdf)),gp=gpar(fontsize=35))\n",
    "\n",
    "        g <- arrangeGrob(grobs = plot_list, ncol = 6,nrow = 3,\n",
    "                         layout_matrix = mixed_hlay)\n",
    "\n",
    "        g_rowcol_names <- rbind(tableGrob(t(col_plot_list), theme = ttheme_minimal(), rows = \"\"),\n",
    "                    cbind(tableGrob(trial_types, theme = ttheme_minimal()),\n",
    "                          g, size = \"last\"), size = \"last\")\n",
    "\n",
    "\n",
    "        g_titled <- arrangeGrob(g_rowcol_names, top = title, left = yaxis, bottom = xaxis)\n",
    "        \n",
    "        savename <- paste(savestr,\"_Mixed_Trial_Type_Plots/\",subjectid,\"_plot.png\",sep='')\n",
    "        ggsave(savename,g_titled, height = 19, width = 39)\n",
    "    }\n",
    "}"
   ]
  },
  {
   "cell_type": "code",
   "execution_count": 225,
   "metadata": {
    "scrolled": true
   },
   "outputs": [
    {
     "ename": "ERROR",
     "evalue": "Error in subject_mixed_plot(datadf, savestr): could not find function \"subject_mixed_plot\"\n",
     "output_type": "error",
     "traceback": [
      "Error in subject_mixed_plot(datadf, savestr): could not find function \"subject_mixed_plot\"\nTraceback:\n"
     ]
    }
   ],
   "source": [
    "subject_mixed_plot(datadf,savestr)"
   ]
  },
  {
   "cell_type": "markdown",
   "metadata": {},
   "source": [
    "### Summary plots"
   ]
  },
  {
   "cell_type": "code",
   "execution_count": 111,
   "metadata": {},
   "outputs": [],
   "source": [
    "dir.create(paste(savestr,\"Summary_Plots\",sep='_'))"
   ]
  },
  {
   "cell_type": "code",
   "execution_count": 214,
   "metadata": {},
   "outputs": [],
   "source": [
    "# matrix to use to define the plot layout, specified manually for now\n",
    "hlay <- rbind (c(1,4,7,10),\n",
    "               c(2,5,8,11)#,\n",
    "               #c(3,6,9,12)\n",
    "              )"
   ]
  },
  {
   "cell_type": "code",
   "execution_count": 215,
   "metadata": {},
   "outputs": [],
   "source": [
    "# correlations summary plot\n",
    "across_experiment_plot <- function(datadf,savestr,laymatrix,dependent,clean=FALSE){\n",
    "    \n",
    "    dir.create(paste(savestr,\"Overall_Summary_Plots\",sep='_'))\n",
    "    \n",
    "    magnification_list <- sort(unique(datadf$peripheral_scale))\n",
    "    size_list <- sort(unique(datadf$stimulus_radius))\n",
    "    \n",
    "    plot_list <- list()\n",
    "    \n",
    "    if(clean){\n",
    "        datadf <- subset(datadf, noncompliant == 0)\n",
    "    }\n",
    "    \n",
    "    # make all the plots\n",
    "    k = 0\n",
    "    for (stimulus in size_list){\n",
    "        for (scale in magnification_list){\n",
    "            k = k + 1\n",
    "            if(stimulus == 2){ # 2 stimuli doesn't have any cueing, so it gets an exception\n",
    "                tempdf <- subset(datadf, stimulus_radius == 2)\n",
    "            } else {\n",
    "                tempdf <- subset(datadf, stimulus_radius == stimulus & peripheral_scale == scale)\n",
    "            }\n",
    "            \n",
    "            # make the specific plot\n",
    "            if(dependent=='correlation'){\n",
    "                fvp <- fvp_list(tempdf)\n",
    "                plot <- corr_plot(fvp,'Within-subject FvP','Within-subject FvP')\n",
    "                title <- textGrob(\"CORRELATION\", gp=gpar(fontsize=35))\n",
    "            } else if (dependent=='RT'){\n",
    "                plot <- rsplot_summary(tempdf)\n",
    "                title <- textGrob(\"REACTION TIME\", gp=gpar(fontsize=35))\n",
    "            } else if (dependent=='dissimilarity'){\n",
    "                plot <- simhistplot_summary(tempdf,'FP')\n",
    "                title <- textGrob(\"DISSIMILARITY\", gp=gpar(fontsize=35))\n",
    "            } else if (dependent=='trace'){\n",
    "                plot <- trace_plot(tempdf)\n",
    "                title <- textGrob(\"TRACE\", gp=gpar(fontsize=35))\n",
    "            } else if (dependent=='antitrace'){\n",
    "                plot <- trace_plot(tempdf,'antitrace')\n",
    "                title <- textGrob(\"ANTITRACE\", gp=gpar(fontsize=35))\n",
    "            } else if (dependent=='difference'){\n",
    "                plot <- trace_plot(tempdf,'difference')\n",
    "                title <- textGrob(\"ANTITRACE - TRACE\", gp=gpar(fontsize=35))\n",
    "            } else if (dependent=='asymmetry_matrix'){\n",
    "                plot <- asymmetry_plot(tempdf,l2e('Foveal'),l2e('Foveal'),colors)\n",
    "                title <- textGrob(\"SIMILARITY ASYMMETRY MATRIX\", gp=gpar(fontsize=35))\n",
    "            } else if (dependent == 'trace_by_trial'){\n",
    "                plot <- trace_by_trial_plot(tempdf,'boxplot')\n",
    "                title <- textGrob(\"Trace by Trial\", gp=gpar(fontsize=35))\n",
    "            }\n",
    "            \n",
    "            \n",
    "            plot <- plot + xlab(paste(stimulus,scale,sep=' ')) #  add a label\n",
    "            \n",
    "            plot_list[[k]] <- as.grob(plot) # add it to the plot_list\n",
    "        }\n",
    "        \n",
    "    }\n",
    "    \n",
    "    # save the plots\n",
    "    yaxis <- textGrob(\"Magnification\", gp=gpar(fontsize=30), rot=90)\n",
    "    xaxis <- textGrob(\"Stimulus Radius (DVA)\", gp=gpar(fontsize=30))\n",
    "    \n",
    "    g <- arrangeGrob(grobs = plot_list, ncol = length(magnification_list),nrow = length(size_list),\n",
    "                     layout_matrix = hlay)\n",
    "    \n",
    "    g_rowcol_names <- rbind(tableGrob(t(size_list), theme = ttheme_minimal(), rows = \"\"),\n",
    "                cbind(tableGrob(magnification_list, theme = ttheme_minimal()),\n",
    "                      g, size = \"last\"), size = \"last\")\n",
    "    \n",
    "    g_titled <- arrangeGrob(g_rowcol_names, top = title, left = yaxis, bottom = xaxis)\n",
    "    \n",
    "    if(clean){\n",
    "        savename <- paste(savestr,\"_Overall_Summary_Plots/\",dependent,\"_CLEAN\",\"_plot.png\",sep='')\n",
    "        ggsave(savename,g_titled, height = 20, width = 30)\n",
    "    }else{\n",
    "        savename <- paste(savestr,\"_Overall_Summary_Plots/\",dependent,\"_plot.png\",sep='')\n",
    "        ggsave(savename,g_titled, height = 20, width = 30)\n",
    "    }\n",
    "    \n",
    "    return(g_titled)\n",
    "}"
   ]
  },
  {
   "cell_type": "code",
   "execution_count": 216,
   "metadata": {},
   "outputs": [
    {
     "data": {
      "text/plain": [
       "TableGrob (3 x 2) \"arrange\": 4 grobs\n",
       "  z     cells    name                grob\n",
       "1 1 (2-2,2-2) arrange  gtable[rowhead-fg]\n",
       "2 2 (1-1,2-2) arrange text[GRID.text.643]\n",
       "3 3 (3-3,2-2) arrange text[GRID.text.686]\n",
       "4 4 (1-3,1-1) arrange text[GRID.text.685]"
      ]
     },
     "metadata": {},
     "output_type": "display_data"
    }
   ],
   "source": [
    "across_experiment_plot(datadf,savestr,hlay,'dissimilarity')"
   ]
  },
  {
   "cell_type": "markdown",
   "metadata": {},
   "source": [
    "#### Across all experiments"
   ]
  },
  {
   "cell_type": "code",
   "execution_count": 202,
   "metadata": {},
   "outputs": [],
   "source": [
    "across_all <- function(datadf,savestr,laymatrix,response_type_list,response_names){\n",
    "    #across_experiment_plot(datadf,savestr,hlay,response_type_list,response_names,'RT')\n",
    "    across_experiment_plot(datadf,savestr,hlay,response_type_list,response_names,'dissimilarity')\n",
    "    #across_experiment_plot(datadf,savestr,hlay,response_type_list,response_names,'asymmetry_matrix')\n",
    "    #across_experiment_plot(datadf,savestr,hlay,response_type_list,response_names,'correlation')\n",
    "    #across_experiment_plot(datadf,savestr,hlay,response_type_list,response_names,'trace')\n",
    "    #across_experiment_plot(datadf,savestr,hlay,response_type_list,response_names,'antitrace')\n",
    "    #across_experiment_plot(datadf,savestr,hlay,response_type_list,response_names,'difference')\n",
    "    \n",
    "    #across_experiment_plot(datadf,savestr,hlay,response_type_list,response_names,'RT',TRUE)\n",
    "    #across_experiment_plot(datadf,savestr,hlay,response_type_list,response_names,'dissimilarity',TRUE)\n",
    "    #across_experiment_plot(datadf,savestr,hlay,response_type_list,response_names,'asymmetry_matrix',TRUE)\n",
    "    #across_experiment_plot(datadf,savestr,hlay,response_type_list,response_names,'correlation',TRUE)\n",
    "    #across_experiment_plot(datadf,savestr,hlay,response_type_list,response_names,'trace',TRUE)\n",
    "    #across_experiment_plot(datadf,savestr,hlay,response_type_list,response_names,'antitrace',TRUE)\n",
    "    #across_experiment_plot(datadf,savestr,hlay,response_type_list,response_names,'difference',TRUE)\n",
    "}"
   ]
  },
  {
   "cell_type": "code",
   "execution_count": 203,
   "metadata": {
    "scrolled": true
   },
   "outputs": [
    {
     "name": "stderr",
     "output_type": "stream",
     "text": [
      "`stat_bindot()` using `bins = 30`. Pick better value with `binwidth`.\n",
      "`stat_bindot()` using `bins = 30`. Pick better value with `binwidth`.\n",
      "`stat_bindot()` using `bins = 30`. Pick better value with `binwidth`.\n",
      "`stat_bindot()` using `bins = 30`. Pick better value with `binwidth`.\n",
      "`stat_bindot()` using `bins = 30`. Pick better value with `binwidth`.\n",
      "`stat_bindot()` using `bins = 30`. Pick better value with `binwidth`.\n",
      "`stat_bindot()` using `bins = 30`. Pick better value with `binwidth`.\n",
      "`stat_bindot()` using `bins = 30`. Pick better value with `binwidth`.\n",
      "`stat_bindot()` using `bins = 30`. Pick better value with `binwidth`.\n",
      "`stat_bindot()` using `bins = 30`. Pick better value with `binwidth`.\n",
      "`stat_bindot()` using `bins = 30`. Pick better value with `binwidth`.\n",
      "`stat_bindot()` using `bins = 30`. Pick better value with `binwidth`.\n",
      "`stat_bindot()` using `bins = 30`. Pick better value with `binwidth`.\n",
      "`stat_bindot()` using `bins = 30`. Pick better value with `binwidth`.\n",
      "`stat_bindot()` using `bins = 30`. Pick better value with `binwidth`.\n",
      "`stat_bindot()` using `bins = 30`. Pick better value with `binwidth`.\n",
      "`stat_bindot()` using `bins = 30`. Pick better value with `binwidth`.\n",
      "`stat_bindot()` using `bins = 30`. Pick better value with `binwidth`.\n",
      "`stat_bindot()` using `bins = 30`. Pick better value with `binwidth`.\n",
      "`stat_bindot()` using `bins = 30`. Pick better value with `binwidth`.\n",
      "`stat_bindot()` using `bins = 30`. Pick better value with `binwidth`.\n",
      "`stat_bindot()` using `bins = 30`. Pick better value with `binwidth`.\n",
      "`stat_bindot()` using `bins = 30`. Pick better value with `binwidth`.\n",
      "`stat_bindot()` using `bins = 30`. Pick better value with `binwidth`.\n",
      "`stat_bindot()` using `bins = 30`. Pick better value with `binwidth`.\n",
      "`stat_bindot()` using `bins = 30`. Pick better value with `binwidth`.\n",
      "`stat_bindot()` using `bins = 30`. Pick better value with `binwidth`.\n",
      "`stat_bindot()` using `bins = 30`. Pick better value with `binwidth`.\n",
      "`stat_bindot()` using `bins = 30`. Pick better value with `binwidth`.\n",
      "`stat_bindot()` using `bins = 30`. Pick better value with `binwidth`.\n",
      "`stat_bindot()` using `bins = 30`. Pick better value with `binwidth`.\n",
      "`stat_bindot()` using `bins = 30`. Pick better value with `binwidth`.\n",
      "`stat_bindot()` using `bins = 30`. Pick better value with `binwidth`.\n",
      "`stat_bindot()` using `bins = 30`. Pick better value with `binwidth`.\n",
      "`stat_bindot()` using `bins = 30`. Pick better value with `binwidth`.\n",
      "`stat_bindot()` using `bins = 30`. Pick better value with `binwidth`.\n",
      "`stat_bindot()` using `bins = 30`. Pick better value with `binwidth`.\n",
      "`stat_bindot()` using `bins = 30`. Pick better value with `binwidth`.\n",
      "`stat_bindot()` using `bins = 30`. Pick better value with `binwidth`.\n",
      "`stat_bindot()` using `bins = 30`. Pick better value with `binwidth`.\n",
      "`stat_bindot()` using `bins = 30`. Pick better value with `binwidth`.\n",
      "`stat_bindot()` using `bins = 30`. Pick better value with `binwidth`.\n",
      "`stat_bindot()` using `bins = 30`. Pick better value with `binwidth`.\n",
      "`stat_bindot()` using `bins = 30`. Pick better value with `binwidth`.\n",
      "`stat_bindot()` using `bins = 30`. Pick better value with `binwidth`.\n",
      "`stat_bindot()` using `bins = 30`. Pick better value with `binwidth`.\n",
      "`stat_bindot()` using `bins = 30`. Pick better value with `binwidth`.\n",
      "`stat_bindot()` using `bins = 30`. Pick better value with `binwidth`.\n",
      "`stat_bindot()` using `bins = 30`. Pick better value with `binwidth`.\n",
      "`stat_bindot()` using `bins = 30`. Pick better value with `binwidth`.\n",
      "`stat_bindot()` using `bins = 30`. Pick better value with `binwidth`.\n",
      "`stat_bindot()` using `bins = 30`. Pick better value with `binwidth`.\n",
      "`stat_bindot()` using `bins = 30`. Pick better value with `binwidth`.\n",
      "`stat_bindot()` using `bins = 30`. Pick better value with `binwidth`.\n",
      "`stat_bindot()` using `bins = 30`. Pick better value with `binwidth`.\n",
      "`stat_bindot()` using `bins = 30`. Pick better value with `binwidth`.\n",
      "`stat_bindot()` using `bins = 30`. Pick better value with `binwidth`.\n",
      "`stat_bindot()` using `bins = 30`. Pick better value with `binwidth`.\n",
      "`stat_bindot()` using `bins = 30`. Pick better value with `binwidth`.\n",
      "`stat_bindot()` using `bins = 30`. Pick better value with `binwidth`.\n",
      "`stat_bindot()` using `bins = 30`. Pick better value with `binwidth`.\n",
      "`stat_bindot()` using `bins = 30`. Pick better value with `binwidth`.\n",
      "`stat_bindot()` using `bins = 30`. Pick better value with `binwidth`.\n",
      "`stat_bindot()` using `bins = 30`. Pick better value with `binwidth`.\n",
      "`stat_bindot()` using `bins = 30`. Pick better value with `binwidth`.\n",
      "`stat_bindot()` using `bins = 30`. Pick better value with `binwidth`.\n",
      "`stat_bindot()` using `bins = 30`. Pick better value with `binwidth`.\n",
      "`stat_bindot()` using `bins = 30`. Pick better value with `binwidth`.\n",
      "`stat_bindot()` using `bins = 30`. Pick better value with `binwidth`.\n",
      "`stat_bindot()` using `bins = 30`. Pick better value with `binwidth`.\n",
      "`stat_bindot()` using `bins = 30`. Pick better value with `binwidth`.\n",
      "`stat_bindot()` using `bins = 30`. Pick better value with `binwidth`.\n",
      "`stat_bindot()` using `bins = 30`. Pick better value with `binwidth`.\n",
      "`stat_bindot()` using `bins = 30`. Pick better value with `binwidth`.\n",
      "`stat_bindot()` using `bins = 30`. Pick better value with `binwidth`.\n",
      "`stat_bindot()` using `bins = 30`. Pick better value with `binwidth`.\n",
      "`stat_bindot()` using `bins = 30`. Pick better value with `binwidth`.\n",
      "`stat_bindot()` using `bins = 30`. Pick better value with `binwidth`.\n",
      "`stat_bindot()` using `bins = 30`. Pick better value with `binwidth`.\n",
      "`stat_bindot()` using `bins = 30`. Pick better value with `binwidth`.\n"
     ]
    },
    {
     "ename": "ERROR",
     "evalue": "Error in across_all(datadf, savestr, hlay, response_type_list, response_names, : unused argument (TRUE)\n",
     "output_type": "error",
     "traceback": [
      "Error in across_all(datadf, savestr, hlay, response_type_list, response_names, : unused argument (TRUE)\nTraceback:\n"
     ]
    }
   ],
   "source": [
    "if(across){\n",
    "    across_all(datadf,savestr,hlay,response_type_list,response_names)\n",
    "}"
   ]
  },
  {
   "cell_type": "code",
   "execution_count": null,
   "metadata": {},
   "outputs": [],
   "source": []
  },
  {
   "cell_type": "markdown",
   "metadata": {},
   "source": [
    "#### Individual experiment summaries"
   ]
  },
  {
   "cell_type": "code",
   "execution_count": 188,
   "metadata": {},
   "outputs": [],
   "source": [
    "# generate a summary plot of all the collected data from all the subjects in the experiment\n",
    "# NEED TO FINISH THIS\n",
    "expsummaryplot <- function(datadf,savestr,clean=FALSE){\n",
    "    \n",
    "    dir.create(paste(savestr,\"Exp_Summary_Plots/\",sep='_'))\n",
    "    \n",
    "    if(clean){\n",
    "        datadf <- subset(datadf, noncompliant == 0)\n",
    "    }\n",
    "    \n",
    "    stimuli_list <- sort(unique(datadf$stimuli_count))\n",
    "    \n",
    "    # make all the plots\n",
    "    k = 0\n",
    "    for (stimulus in stimuli_list){\n",
    "        for (response in response_type_list){\n",
    "            \n",
    "            k = k + 1\n",
    "            if(stimulus == 2){ # 2 stimuli doesn't have any cueing, so it gets an exception\n",
    "                tempdf <- subset(datadf, stimuli_count == 2)\n",
    "            } else {\n",
    "                tempdf <- subset(datadf, stimuli_count == stimulus & response_type == response)\n",
    "            }\n",
    "            \n",
    "            if(response != 'after_1'){\n",
    "                FP = TRUE\n",
    "            } else {\n",
    "                FP = FALSE\n",
    "            }\n",
    "            \n",
    "            # make the specific summary plot\n",
    "           \n",
    "            # MATRICES\n",
    "            everyonedata <- aggregate_df(tempdf)\n",
    "            \n",
    "            stim_time <- everyonedata$stim_display_time[1]\n",
    "            gap <- everyonedata$stim_cue_gap[1]\n",
    "            cue_time <- everyonedata$cue_display_time[1]\n",
    "            \n",
    "            \n",
    "            # FF Matrix plot\n",
    "            FFmatrix <- dissimplot(dissimdata(everyonedata, colors, l2e('Foveal'), l2e('Foveal')),colors)\n",
    "\n",
    "            # FP Matrix plot\n",
    "            FPmatrix <- dissimplot(dissimdata(everyonedata, colors, l2e('Foveal'), l2e('Peripheral')),colors)\n",
    "\n",
    "            # PP Matrix plot\n",
    "            PPmatrix <- dissimplot(dissimdata(everyonedata, colors, l2e('Peripheral'), l2e('Peripheral')),colors)\n",
    "\n",
    "            # CMDS\n",
    "            # FF CMDS plot\n",
    "            FFcmds <-  cmdsplot(cmdsfit(mat2dist(df2mat(everyonedata,l2e('Foveal'), l2e('Foveal')))), \n",
    "                                abcolors, abcolors, l2e('Foveal'), l2e('Foveal'))\n",
    "\n",
    "            FPcmds <-  cmdsplot(cmdsfit(mat2dist(df2mat(everyonedata,l2e('Foveal'), l2e('Peripheral')))), \n",
    "                                abcolors, abcolors, l2e('Foveal'), l2e('Peripheral'))\n",
    "\n",
    "            # FF CMDS plot\n",
    "            PPcmds <-  cmdsplot(cmdsfit(mat2dist(df2mat(everyonedata,l2e('Peripheral'), l2e('Peripheral')))), \n",
    "                                abcolors, abcolors, l2e('Peripheral'), l2e('Peripheral'))\n",
    "            # NMDS\n",
    "            # FF nMDS plot\n",
    "            FFnmds <-  nmdsplot(nmdsfit(mat2dist(df2mat(everyonedata,l2e('Foveal'), l2e('Foveal')))), \n",
    "                                abcolors, abcolors, l2e('Foveal'), l2e('Foveal'))\n",
    "\n",
    "            # FP nMDS plot\n",
    "            FPnmds <-  nmdsplot(nmdsfit(mat2dist(df2mat(everyonedata,l2e('Foveal'), l2e('Peripheral')))), \n",
    "                                abcolors, abcolors, l2e('Foveal'), l2e('Peripheral'))\n",
    "\n",
    "            # PP nMDS plot\n",
    "            PPnmds <-  nmdsplot(nmdsfit(mat2dist(df2mat(everyonedata,l2e('Peripheral'), l2e('Peripheral')))), \n",
    "                                abcolors, abcolors, l2e('Peripheral'), l2e('Peripheral'))\n",
    "\n",
    "            # AUXILIARY plots\n",
    "            # Similarity judgements\n",
    "            simplot <- simhistplot_summary(tempdf)\n",
    "            # Reaction times v1\n",
    "            reactionplot <- rsplot_summary(tempdf)\n",
    "            # summary plot\n",
    "            raincloudplot <- rsplot_raincloud(tempdf,'log')\n",
    "\n",
    "            # within_between_plots\n",
    "            fvp <- fvp_list(tempdf)\n",
    "            i_j <- i_j_list(tempdf)\n",
    "\n",
    "            within_plot <- corr_plot(fvp,'Within-subject FvP','Within-subject FvP')\n",
    "            between_plot <- corr_plot(i_j,'Between-subject FvF','Between-subject FvF')\n",
    "            #within_plot_fisher <- corr_plot(FisherZ(fvp),'Within-subject FvP','Within-subject FvP',TRUE)\n",
    "            #between_plot_fisher <- corr_plot(FisherZ(i_j),'Between-subject FvF','Between-subject FvF',TRUE)\n",
    "\n",
    "            # MORE PLOTS\n",
    "            # trace plots\n",
    "            traceplot <- trace_plot(tempdf)\n",
    "            antiplot <- trace_plot(tempdf,'antitrace')\n",
    "            differenceplot <- trace_plot(tempdf,'difference')\n",
    "            \n",
    "            N <- length(unique(tempdf$subject)) # get number of subjects\n",
    "            \n",
    "            # save the plots\n",
    "            if(clean){\n",
    "                title <- textGrob(paste(stimulus,response,\n",
    "                                    \"stim_duration\",stim_time,\"gap\",gap,\"cue_duration\",cue_time,\n",
    "                                    N,\"subjects\",\"CLEAN\",\n",
    "                                    sep=\"_\"), gp=gpar(fontsize=35))\n",
    "            }else{\n",
    "                title <- textGrob(paste(stimulus,response,\n",
    "                                    \"stim_duration\",stim_time,\"gap\",gap,\"cue_duration\",cue_time,\n",
    "                                    N,\"subjects\",\n",
    "                                    sep=\"_\"), gp=gpar(fontsize=35))\n",
    "            }\n",
    "            \n",
    "            # put it all together\n",
    "            if(FP){\n",
    "                \n",
    "                g <- arrangeGrob(FFmatrix, FPmatrix, PPmatrix, within_plot, between_plot,\n",
    "                                FFcmds,FPcmds, PPcmds, traceplot, antiplot,\n",
    "                                FFnmds,FPnmds, PPnmds, raincloudplot, differenceplot,\n",
    "                                simplot, reactionplot, \n",
    "                                nrow = 4, ncol=5, top = title)\n",
    "            } else {\n",
    "                \n",
    "                # asymmetry plot\n",
    "                asymplot <- asymmetry_plot(tempdf,l2e('Foveal'),l2e('Foveal'),colors)\n",
    "                \n",
    "                g <- arrangeGrob(FFmatrix,  PPmatrix, within_plot, between_plot, \n",
    "                                FFcmds, PPcmds, traceplot,  antiplot,\n",
    "                                FFnmds, PPnmds, differenceplot, asymplot,\n",
    "                                simplot, raincloudplot, reactionplot,\n",
    "                                nrow = 4, ncol=4, top = title)\n",
    "\n",
    "                \n",
    "            }\n",
    "                # save it\n",
    "            if(clean){\n",
    "                savename <- paste(savestr,\"_Exp_Summary_Plots/\",stimulus,\"_\",response,\n",
    "                         \"_Summary_\",N,\"_subjects\",\"_CLEAN\",\"_plot.png\",sep='')\n",
    "            }else {\n",
    "                savename <- paste(savestr,\"_Exp_Summary_Plots/\",stimulus,\"_\",response,\n",
    "                         \"_Summary_\",N,\"_subjects\",\"_plot.png\",sep='')\n",
    "            }\n",
    "                \n",
    "                print(savename)\n",
    "                ggsave(savename,g, height = 38, width = 48)\n",
    "        }\n",
    "            \n",
    "    }\n",
    "        \n",
    "}   "
   ]
  },
  {
   "cell_type": "markdown",
   "metadata": {},
   "source": [
    "### Across the entire population "
   ]
  },
  {
   "cell_type": "code",
   "execution_count": 213,
   "metadata": {},
   "outputs": [],
   "source": [
    "# entire population plot\n",
    "population_plot <- function(datadf,savestr,clean=FALSE){\n",
    "    \n",
    "    dir.create(paste(savestr,\"Population_Summary_Plots/\",sep='_'))\n",
    "    \n",
    "    if(clean){\n",
    "        datadf <- subset(datadf, noncompliant == 0)\n",
    "    }\n",
    "    \n",
    "    # MATRICES\n",
    "    everyonedata <- aggregate_df(datadf)\n",
    "\n",
    "    # FF Matrix plot\n",
    "    FFmatrix <- dissimplot(dissimdata(everyonedata, colors, l2e('Foveal'), l2e('Foveal')),colors)\n",
    "\n",
    "    # FP Matrix plot\n",
    "    FPmatrix <- dissimplot(dissimdata(everyonedata, colors, l2e('Foveal'), l2e('Peripheral')),colors)\n",
    "\n",
    "    # PP Matrix plot\n",
    "    PPmatrix <- dissimplot(dissimdata(everyonedata, colors, l2e('Peripheral'), l2e('Peripheral')),colors)\n",
    "\n",
    "    # CMDS\n",
    "    # FF CMDS plot\n",
    "    FFcmds <-  cmdsplot(cmdsfit(mat2dist(df2mat(everyonedata,l2e('Foveal'), l2e('Foveal')))), \n",
    "                        abcolors, abcolors, l2e('Foveal'), l2e('Foveal'))\n",
    "\n",
    "    FPcmds <-  cmdsplot(cmdsfit(mat2dist(df2mat(everyonedata,l2e('Foveal'), l2e('Peripheral')))), \n",
    "                        abcolors, abcolors, l2e('Foveal'), l2e('Peripheral'))\n",
    "\n",
    "    # FF CMDS plot\n",
    "    PPcmds <-  cmdsplot(cmdsfit(mat2dist(df2mat(everyonedata,l2e('Peripheral'), l2e('Peripheral')))), \n",
    "                        abcolors, abcolors, l2e('Peripheral'), l2e('Peripheral'))\n",
    "    # NMDS\n",
    "    # FF nMDS plot\n",
    "    FFnmds <-  nmdsplot(nmdsfit(mat2dist(df2mat(everyonedata,l2e('Foveal'), l2e('Foveal')))), \n",
    "                        abcolors, abcolors, l2e('Foveal'), l2e('Foveal'))\n",
    "\n",
    "    # FP nMDS plot\n",
    "    FPnmds <-  nmdsplot(nmdsfit(mat2dist(df2mat(everyonedata,l2e('Foveal'), l2e('Peripheral')))), \n",
    "                        abcolors, abcolors, l2e('Foveal'), l2e('Peripheral'))\n",
    "\n",
    "    # PP nMDS plot\n",
    "    PPnmds <-  nmdsplot(nmdsfit(mat2dist(df2mat(everyonedata,l2e('Peripheral'), l2e('Peripheral')))), \n",
    "                        abcolors, abcolors, l2e('Peripheral'), l2e('Peripheral'))\n",
    "\n",
    "    # AUXILIARY plots\n",
    "    # Similarity judgements\n",
    "    simplot <- simhistplot_summary(datadf)\n",
    "    # Reaction times v1\n",
    "    reactionplot <- rsplot_summary(datadf)\n",
    "    # summary plot\n",
    "    raincloudplot <- rsplot_raincloud(datadf,'log')\n",
    "\n",
    "    # within_between_plots\n",
    "    fvp <- fvp_list(datadf)\n",
    "    i_j <- i_j_list(datadf)\n",
    "\n",
    "    within_plot <- corr_plot(fvp,'Within-subject FvP','Within-subject FvP')\n",
    "    between_plot <- corr_plot(i_j,'Between-subject FvF','Between-subject FvF')\n",
    "    #within_plot_fisher <- corr_plot(FisherZ(fvp),'Within-subject FvP','Within-subject FvP',TRUE)\n",
    "    #between_plot_fisher <- corr_plot(FisherZ(i_j),'Between-subject FvF','Between-subject FvF',TRUE)\n",
    "\n",
    "    # MORE PLOTS\n",
    "    # trace plots\n",
    "    traceplot <- trace_plot(datadf)\n",
    "    antiplot <- trace_plot(datadf,'antitrace')\n",
    "    differenceplot <- trace_plot(datadf,'difference')\n",
    "\n",
    "    N <- length(unique(datadf$subject)) # get number of subjects\n",
    "\n",
    "    # save the plots\n",
    "    if(clean){\n",
    "        title <- textGrob(paste(\"Population\",\n",
    "                            N,\"subjects\",\"CLEAN\",\n",
    "                            sep=\"_\"), gp=gpar(fontsize=35))\n",
    "    }else{\n",
    "        title <- textGrob(paste(\"Population\",\n",
    "                            N,\"subjects\",\n",
    "                            sep=\"_\"), gp=gpar(fontsize=35))\n",
    "    }\n",
    "    \n",
    "    \n",
    "    g <- arrangeGrob(FFmatrix, FPmatrix, PPmatrix, within_plot, between_plot,\n",
    "                                FFcmds,FPcmds, PPcmds, traceplot, antiplot,\n",
    "                                FFnmds,FPnmds, PPnmds, raincloudplot, differenceplot,\n",
    "                                simplot, reactionplot, \n",
    "                                nrow = 4, ncol=5, top = title)\n",
    "    \n",
    "     # save it\n",
    "    if(clean){\n",
    "        savename <- paste(savestr,\"_Exp_Summary_Plots/\",\n",
    "                 \"_Summary_\",N,\"_subjects\",\"_CLEAN\",\"_plot.png\",sep='')\n",
    "    }else {\n",
    "        savename <- paste(savestr,\"_Exp_Summary_Plots/\",\n",
    "                 \"_Summary_\",N,\"_subjects\",\"_plot.png\",sep='')\n",
    "    }\n",
    "\n",
    "        print(savename)\n",
    "        ggsave(savename,g, height = 38, width = 48)\n",
    "}"
   ]
  },
  {
   "cell_type": "code",
   "execution_count": 2,
   "metadata": {},
   "outputs": [
    {
     "ename": "ERROR",
     "evalue": "Error in dissimplot(dissimdata(everyonedata, colors, l2e(\"Foveal\"), l2e(\"Foveal\")), : could not find function \"dissimplot\"\n",
     "output_type": "error",
     "traceback": [
      "Error in dissimplot(dissimdata(everyonedata, colors, l2e(\"Foveal\"), l2e(\"Foveal\")), : could not find function \"dissimplot\"\nTraceback:\n"
     ]
    }
   ],
   "source": [
    "test <- dissimplot(dissimdata(everyonedata, colors, l2e('Foveal'), l2e('Foveal')),colors)\n",
    "\n",
    "test"
   ]
  },
  {
   "cell_type": "code",
   "execution_count": 214,
   "metadata": {},
   "outputs": [],
   "source": [
    "if(plotexpsummary){\n",
    "    expsummaryplot(datadf,savestr)\n",
    "    expsummaryplot(datadf,savestr,TRUE)\n",
    "}"
   ]
  },
  {
   "cell_type": "code",
   "execution_count": 215,
   "metadata": {},
   "outputs": [
    {
     "name": "stdout",
     "output_type": "stream",
     "text": [
      "initial  value 10.110642 \n",
      "iter   5 value 4.776044\n",
      "iter  10 value 4.309526\n",
      "final  value 4.276221 \n",
      "converged\n",
      "initial  value 9.398094 \n",
      "iter   5 value 4.759062\n",
      "iter  10 value 3.994180\n",
      "final  value 3.981702 \n",
      "converged\n",
      "initial  value 5.047839 \n",
      "iter   5 value 1.323556\n",
      "iter  10 value 0.944285\n",
      "iter  15 value 0.841798\n",
      "iter  20 value 0.821025\n",
      "final  value 0.817766 \n",
      "converged\n"
     ]
    },
    {
     "name": "stderr",
     "output_type": "stream",
     "text": [
      "`stat_bindot()` using `bins = 30`. Pick better value with `binwidth`.\n",
      "`stat_bindot()` using `bins = 30`. Pick better value with `binwidth`.\n",
      "`stat_bindot()` using `bins = 30`. Pick better value with `binwidth`.\n",
      "`stat_bindot()` using `bins = 30`. Pick better value with `binwidth`.\n",
      "`stat_bindot()` using `bins = 30`. Pick better value with `binwidth`.\n"
     ]
    },
    {
     "name": "stdout",
     "output_type": "stream",
     "text": [
      "[1] \"data/alldata_Exp_Summary_Plots/_Summary_128_subjects_plot.png\"\n",
      "initial  value 3.365119 \n",
      "iter   5 value 1.843522\n",
      "iter  10 value 1.615815\n",
      "iter  15 value 1.571471\n",
      "final  value 1.567521 \n",
      "converged\n",
      "initial  value 5.607216 \n",
      "iter   5 value 2.817553\n",
      "iter  10 value 2.443810\n",
      "final  value 2.402800 \n",
      "converged\n",
      "initial  value 4.294241 \n",
      "iter   5 value 2.475724\n",
      "iter  10 value 2.280757\n",
      "final  value 2.271904 \n",
      "converged\n"
     ]
    },
    {
     "name": "stderr",
     "output_type": "stream",
     "text": [
      "`stat_bindot()` using `bins = 30`. Pick better value with `binwidth`.\n",
      "`stat_bindot()` using `bins = 30`. Pick better value with `binwidth`.\n",
      "`stat_bindot()` using `bins = 30`. Pick better value with `binwidth`.\n",
      "`stat_bindot()` using `bins = 30`. Pick better value with `binwidth`.\n",
      "`stat_bindot()` using `bins = 30`. Pick better value with `binwidth`.\n"
     ]
    },
    {
     "name": "stdout",
     "output_type": "stream",
     "text": [
      "[1] \"data/alldata_Exp_Summary_Plots/_Summary_37_subjects_CLEAN_plot.png\"\n"
     ]
    }
   ],
   "source": [
    "if(population){\n",
    "    population_plot(datadf,savestr)\n",
    "    population_plot(datadf,savestr,TRUE)\n",
    "}"
   ]
  },
  {
   "cell_type": "code",
   "execution_count": null,
   "metadata": {},
   "outputs": [],
   "source": [
    "# position plot (negative control)\n",
    "positionplot <- function(datadf){\n",
    "    # MATRICES\n",
    "    everyonedata <- aggregate_df(datadf)\n",
    "    # FF Matrix plot\n",
    "    FFmatrix <- dissimplot(dissimdata(everyonedata, colors, l2e('Foveal'), l2e('Foveal')),colors, 'position')\n",
    "    # FP Matrix plot\n",
    "    FPmatrix <- dissimplot(dissimdata(everyonedata, colors, l2e('Foveal'), l2e('Peripheral')),colors, 'position')\n",
    "    # PP Matrix plot\n",
    "    PPmatrix <- dissimplot(dissimdata(everyonedata, colors, l2e('Peripheral'), l2e('Peripheral')),colors, 'position')\n",
    "    \n",
    "    g <- arrangeGrob(FFmatrix, FPmatrix, PPmatrix,\n",
    "                    nrow = 1, ncol= 3)\n",
    "     # save it\n",
    "    ggsave(paste(savestr,\"position negative control\",\"plot.png\",sep='_'),g, height = 10, width = 30)\n",
    "}"
   ]
  }
 ],
 "metadata": {
  "kernelspec": {
   "display_name": "R",
   "language": "R",
   "name": "ir"
  },
  "language_info": {
   "codemirror_mode": "r",
   "file_extension": ".r",
   "mimetype": "text/x-r-source",
   "name": "R",
   "pygments_lexer": "r",
   "version": "3.6.1"
  }
 },
 "nbformat": 4,
 "nbformat_minor": 4
}
