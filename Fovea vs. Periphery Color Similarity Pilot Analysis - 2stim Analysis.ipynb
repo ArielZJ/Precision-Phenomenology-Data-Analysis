{
 "cells": [
  {
   "cell_type": "markdown",
   "metadata": {},
   "source": [
    "## Analysis code for 'Are colour experiences the same across the visual field?'\n",
    "### Clean-ish version for Panoworks Analysis\n",
    "Written by Ariel Zeleznikow-Johnston, 2021\n",
    "ariel.zeleznikow-johnston@monash.edu  \n",
    "Github link to experiment: https://github.com/ArielZJ/SimilarityColorProject-MultiplePatches  \n",
    "Github link to this analysis code: https://github.com/ArielZJ/Precision-Phenomenology-Data-Analysis  "
   ]
  },
  {
   "cell_type": "markdown",
   "metadata": {},
   "source": [
    "### Initialisations"
   ]
  },
  {
   "cell_type": "code",
   "execution_count": 1,
   "metadata": {},
   "outputs": [],
   "source": [
    "filename = \"data/panoworks_pilot.csv\"\n",
    "savestr <- substr(filename,1,nchar(filename)-4) # for saving related files later"
   ]
  },
  {
   "cell_type": "code",
   "execution_count": 2,
   "metadata": {},
   "outputs": [],
   "source": [
    "# various parameters\n",
    "stimuli_number = 9\n",
    "response_type_list = c('during')\n",
    "trial_types = c('during')\n",
    "response_names = c('During')\n",
    "catch_trial_number = 10 # what it's set at at the moment, arbitrary\n",
    "condition_number = 3\n",
    "max.DSR = 7\n",
    "min.DSR = 0"
   ]
  },
  {
   "cell_type": "code",
   "execution_count": 3,
   "metadata": {},
   "outputs": [],
   "source": [
    "trace_cutoff = 2 # mean dissimilarity for physically identical colours must be below this\n",
    "antitrace_cutoff = 3.5 # mean dissimilarity accepted for maximally physically different colours must be above this\n",
    "rt_cutoff = 600 # mean reaction times must be above this"
   ]
  },
  {
   "cell_type": "code",
   "execution_count": 4,
   "metadata": {},
   "outputs": [],
   "source": [
    "exclude_noncompliant = FALSE"
   ]
  },
  {
   "cell_type": "code",
   "execution_count": 5,
   "metadata": {},
   "outputs": [],
   "source": [
    "plotsubjects = FALSE\n",
    "plotsubjects_mixed = FALSE\n",
    "plot_within_between = FALSE\n",
    "plotexpsummary = FALSE\n",
    "across = FALSE\n",
    "population = FALSE"
   ]
  },
  {
   "cell_type": "code",
   "execution_count": 6,
   "metadata": {},
   "outputs": [],
   "source": [
    "# colors for the labels\n",
    "# changed for this mixed version\n",
    "colors <- c('#FF0000','#FFAA00','#AAFF00','#00FF00','#00FFA9',\"#00A9FF\",'#0000FF','#AA00FF',\"#FF00AA\")\n",
    "abcolors <- sort(colors)\n",
    "\n",
    "eccens.colors <- c(\n",
    "    'Foveal #FF0000',\n",
    "    'Foveal #FFAA00',\n",
    "    'Foveal #AAFF00',\n",
    "    'Foveal #00FF00',\n",
    "    'Foveal #00FFA9',\n",
    "    \"Foveal #00A9FF\",\n",
    "    'Foveal #0000FF',\n",
    "    'Foveal #AA00FF',\n",
    "    \"Foveal #FF00AA\",\n",
    "    'Peripheral #FF0000',\n",
    "    'Peripheral #FFAA00',\n",
    "    'Peripheral #AAFF00',\n",
    "    'Peripheral #00FF00',\n",
    "    'Peripheral #00FFA9',\n",
    "    \"Peripheral #00A9FF\",\n",
    "    'Peripheral #0000FF',\n",
    "    'Peripheral #AA00FF',\n",
    "    \"Peripheral #FF00AA\")\n",
    "\n",
    "inverted.colors <-  c('#FF0000','#FF00AA','#AA00FF','#0000FF','#00A9FF','#00FFA9','#00FF00','#AAFF00','#FFAA00')"
   ]
  },
  {
   "cell_type": "markdown",
   "metadata": {},
   "source": [
    "### Initialisations"
   ]
  },
  {
   "cell_type": "code",
   "execution_count": 7,
   "metadata": {},
   "outputs": [],
   "source": [
    "# live dangerously, get rid of pesky warnings\n",
    "oldw <- getOption(\"warn\")\n",
    "options(warn = -1)"
   ]
  },
  {
   "cell_type": "code",
   "execution_count": 8,
   "metadata": {
    "scrolled": true
   },
   "outputs": [
    {
     "name": "stderr",
     "output_type": "stream",
     "text": [
      "\n",
      "Attaching package: 'tidyr'\n",
      "\n",
      "The following object is masked _by_ '.GlobalEnv':\n",
      "\n",
      "    population\n",
      "\n",
      "\n",
      "Attaching package: 'dplyr'\n",
      "\n",
      "The following objects are masked from 'package:plyr':\n",
      "\n",
      "    arrange, count, desc, failwith, id, mutate, rename, summarise,\n",
      "    summarize\n",
      "\n",
      "The following objects are masked from 'package:stats':\n",
      "\n",
      "    filter, lag\n",
      "\n",
      "The following objects are masked from 'package:base':\n",
      "\n",
      "    intersect, setdiff, setequal, union\n",
      "\n",
      "Registered S3 methods overwritten by 'ggplot2':\n",
      "  method         from \n",
      "  [.quosures     rlang\n",
      "  c.quosures     rlang\n",
      "  print.quosures rlang\n",
      "\n",
      "Attaching package: 'gridExtra'\n",
      "\n",
      "The following object is masked from 'package:dplyr':\n",
      "\n",
      "    combine\n",
      "\n",
      "\n",
      "Attaching package: 'MASS'\n",
      "\n",
      "The following object is masked from 'package:dplyr':\n",
      "\n",
      "    select\n",
      "\n",
      "\n",
      "Attaching package: 'Matrix'\n",
      "\n",
      "The following objects are masked from 'package:tidyr':\n",
      "\n",
      "    expand, pack, unpack\n",
      "\n",
      "\n",
      "Attaching package: 'reshape2'\n",
      "\n",
      "The following object is masked from 'package:tidyr':\n",
      "\n",
      "    smiths\n",
      "\n",
      "Loading required package: permute\n",
      "Loading required package: lattice\n",
      "This is vegan 2.5-6\n",
      "\n",
      "Attaching package: 'gtools'\n",
      "\n",
      "The following object is masked from 'package:permute':\n",
      "\n",
      "    permute\n",
      "\n",
      "\n",
      "Attaching package: 'Bolstad'\n",
      "\n",
      "The following objects are masked from 'package:stats':\n",
      "\n",
      "    IQR, sd, var\n",
      "\n"
     ]
    }
   ],
   "source": [
    "shhh <- suppressPackageStartupMessages # stops annoying warnings when loading libraries\n",
    "library(tidyr)\n",
    "library(plyr)\n",
    "library(dplyr)\n",
    "library(ggplot2)\n",
    "library(gridExtra)\n",
    "library(MASS)\n",
    "library(Matrix)\n",
    "library(reshape2)\n",
    "library(ape) # stats\n",
    "library(vegan) # stats\n",
    "library(RColorBrewer)\n",
    "library(cocor)\n",
    "library(DescTools)\n",
    "library(reshape2)\n",
    "library(grid)\n",
    "library(ggplotify)\n",
    "library(fclust)\n",
    "library(plot.matrix)\n",
    "library(gtools)\n",
    "library(stringi)\n",
    "library(Bolstad)"
   ]
  },
  {
   "cell_type": "code",
   "execution_count": 9,
   "metadata": {},
   "outputs": [],
   "source": [
    "# rainbowcloud theme for plotting, stolen from: \n",
    "# https://micahallen.org/2018/03/15/introducing-raincloud-plots/?utm_campaign=News&utm_medium=Community&utm_source=DataCamp.com\n",
    "raincloud_theme = theme(\n",
    "text = element_text(size = 10),\n",
    "axis.title.x = element_text(size = 16),\n",
    "axis.title.y = element_text(size = 16),\n",
    "axis.text = element_text(size = 14),\n",
    "axis.text.x = element_text(angle = 45, vjust = 0.5),\n",
    "legend.title=element_text(size=16),\n",
    "legend.text=element_text(size=16),\n",
    "legend.position = \"right\",\n",
    "plot.title = element_text(lineheight=.8, face=\"bold\", size = 16),\n",
    "panel.border = element_blank(),\n",
    "panel.grid.minor = element_blank(),\n",
    "panel.grid.major = element_blank(),\n",
    "axis.line.x = element_line(colour = 'black', size=0.5, linetype='solid'),\n",
    "axis.line.y = element_line(colour = 'black', size=0.5, linetype='solid'))"
   ]
  },
  {
   "cell_type": "code",
   "execution_count": 10,
   "metadata": {},
   "outputs": [],
   "source": [
    "# stealing ability to make flat violin plots\n",
    "source(\"https://gist.githubusercontent.com/benmarwick/2a1bb0133ff568cbe28d/raw/fb53bd97121f7f9ce947837ef1a4c65a73bffb3f/geom_flat_violin.R\")"
   ]
  },
  {
   "cell_type": "markdown",
   "metadata": {},
   "source": [
    "### Functions we're going to use to do the analysis later"
   ]
  },
  {
   "cell_type": "markdown",
   "metadata": {},
   "source": [
    "#### Miscellaneous"
   ]
  },
  {
   "cell_type": "code",
   "execution_count": 11,
   "metadata": {},
   "outputs": [],
   "source": [
    "# check our N \n",
    "get_n <- function(datadf){\n",
    "    n <- length(unique(datadf$subject))\n",
    "    print(paste(\"There are\",n,\"unique subjects\"))\n",
    "    return(n)\n",
    "}"
   ]
  },
  {
   "cell_type": "code",
   "execution_count": 12,
   "metadata": {},
   "outputs": [],
   "source": [
    "# get plot eccentricity labels\n",
    "ploteccen <- function(datadf){\n",
    "    if(datadf$Circle_1[1] == -1){\n",
    "            label1 = 'Foveal'\n",
    "        } else {\n",
    "            label1 = 'Peripheral'\n",
    "        }\n",
    "        if(datadf$Circle_2[1] == -1){\n",
    "            label2 = 'Foveal'\n",
    "        } else {\n",
    "            label2 = 'Peripheral'\n",
    "        }\n",
    "    return(c(label1,label2))\n",
    "}\n",
    "\n",
    "e2l <- function(eccentricity){\n",
    "    if(eccentricity == -1){\n",
    "        return('Foveal')\n",
    "    } else {\n",
    "        return('Peripheral')\n",
    "    }\n",
    "}\n",
    "\n",
    "l2e <- function(eccentricity){\n",
    "    if(eccentricity == 'Foveal'){\n",
    "        return(-1)\n",
    "    } else {\n",
    "        return(1)\n",
    "    }\n",
    "}"
   ]
  },
  {
   "cell_type": "markdown",
   "metadata": {},
   "source": [
    "#### Dissimilarity Matrices"
   ]
  },
  {
   "cell_type": "code",
   "execution_count": 13,
   "metadata": {},
   "outputs": [],
   "source": [
    "# obtain dissimilarity matrices with particular eccentricity values from dataframes\n",
    "# doesn't care whether this comes from individual subjects or whole populations\n",
    "dissimdata <- function(datadf, colors, eccentricity1, eccentricity2){\n",
    "    # select only the eccentricities we want to keep, e.g. (foveal, foveal)\n",
    "    datatemp = subset(datadf, Circle_1 == eccentricity1)\n",
    "    datatemp = subset(datatemp, Circle_2 == eccentricity2)\n",
    "    \n",
    "    # refactor the levels so they can be plotted properly later if need be\n",
    "    datatemp$Color_1 <- with(datatemp, factor(Color_1, levels = colors))\n",
    "    datatemp$Color_2 <- with(datatemp, factor(Color_2, levels = colors))\n",
    "    \n",
    "    return(datatemp)\n",
    "}"
   ]
  },
  {
   "cell_type": "code",
   "execution_count": 14,
   "metadata": {},
   "outputs": [],
   "source": [
    "# plot a dissimilarity matrix\n",
    "dissimplot <- function(datadf,colors,dependent='color'){\n",
    "    \n",
    "   # labeling the plot eccentricity comparisons\n",
    "    label1 <- ploteccen(datadf)[1]\n",
    "    label2 <- ploteccen(datadf)[2]\n",
    "    \n",
    "    \n",
    "    if(dependent == 'position'){ # use position to generate matrix (as a negative control)\n",
    "        plot <- ggplot(datadf, aes(x = bin1, y = bin2)) +\n",
    "        theme(        axis.title.x = element_blank(), axis.title.y = element_blank(),\n",
    "                      plot.title = element_text(hjust = 0.5)) +\n",
    "                      scale_x_discrete(limits=c(1,2,3,4,5,6,7,8,9)) + scale_y_discrete(limits=c(1,2,3,4,5,6,7,8,9))\n",
    "    } else { # use the colors to generate the matrix\n",
    "        plot <- ggplot(datadf, aes(x = Color_1, y = Color_2)) +\n",
    "        theme(axis.text.x = element_text(colour = colors), axis.text.y = element_text(colour = colors),\n",
    "                      axis.title.x = element_blank(), axis.title.y = element_blank(),\n",
    "                      plot.title = element_text(hjust = 0.5))\n",
    "    }\n",
    "    # stuff that's standard across plot types\n",
    "        plot <- plot + geom_raster(aes(fill = similarity)) +\n",
    "                labs(title = paste(label1, label2, sep = \" - \")) +\n",
    "                scale_fill_gradientn(colours = c(\"white\",\"black\")) +\n",
    "                guides(fill=guide_legend(title=\"Dissimilarity\"))\n",
    "    return(plot)\n",
    "}"
   ]
  },
  {
   "cell_type": "code",
   "execution_count": 15,
   "metadata": {},
   "outputs": [],
   "source": [
    "# plot a shuffled dissimilarity matrix, for visualisation purposes only\n",
    "dissimplot_shuffled <- function(datadf){\n",
    "    # labeling the plot eccentricity comparisons\n",
    "    label1 <- ploteccen(datadf)[1]\n",
    "    label2 <- ploteccen(datadf)[2]\n",
    "    \n",
    "    datadf$similarity = sample(datadf$similarity, replace=FALSE) # shuffle colour 2\n",
    "    \n",
    "     plot <- ggplot(datadf, aes(x = Color_1, y = Color_2)) +\n",
    "        theme(axis.text.x = element_text(colour = colors), axis.text.y = element_text(colour = colors),\n",
    "                      axis.title.x = element_blank(), axis.title.y = element_blank(),\n",
    "                      plot.title = element_text(hjust = 0.5))\n",
    "    \n",
    "    plot <- plot + geom_raster(aes(fill = similarity)) +\n",
    "                labs(title = paste(\"SHUFFLED\\n\",label1, \" - \", label2)) +\n",
    "                scale_fill_gradientn(colours = c(\"white\",\"black\")) +\n",
    "                guides(fill=guide_legend(title=\"Dissimilarity\"))\n",
    "    return(plot)\n",
    "}"
   ]
  },
  {
   "cell_type": "code",
   "execution_count": 16,
   "metadata": {},
   "outputs": [],
   "source": [
    "# making a matrix symmetric. Stolen from dclone: https://rdrr.io/github/datacloning/dclone/src/R/make.symmetric.R\n",
    "make.symmetric <-function(x)\n",
    "{\n",
    "    if (dim(x)[1] != dim(x)[2])\n",
    "        stop(\"'x' is not a square matrix\")\n",
    "    rval <- t(x)\n",
    "    m <- (x[lower.tri(x)] + rval[lower.tri(rval)]) / 2\n",
    "    rval[lower.tri(rval)] <- m\n",
    "    rval <- t(rval)\n",
    "    rval[lower.tri(rval)] <- m\n",
    "    rval\n",
    "}"
   ]
  },
  {
   "cell_type": "code",
   "execution_count": 17,
   "metadata": {},
   "outputs": [],
   "source": [
    "# obtain dissimilarity dataframe that corresponds to all of a subject's judgements\n",
    "# symmeterises XY & YX by taking the mean if asked\n",
    "dissimdata.subject <- function(datadf, colors=colors, duplicate=TRUE, symmeterise=TRUE, diagnose=FALSE){\n",
    "    \n",
    "    if(diagnose){print(paste(\"Duplicate:\",duplicate,\"Symmetrise:\", symmeterise))}\n",
    "    \n",
    "    # first, get a full label for each trial\n",
    "    datadf <- subset(datadf, trial_type != 'catch')\n",
    "    \n",
    "    if(symmeterise){\n",
    "        \n",
    "        if(diagnose){print(paste(\"Initiate symmeterisation\"))}\n",
    "        \n",
    "        datadf <- datadf %>%\n",
    "        rowwise() %>%\n",
    "        mutate(color.eccen1 = paste(c(e2l(Circle_1),Color_1),collapse=' - ')) %>%\n",
    "        mutate(color.eccen2 = paste(c(e2l(Circle_2),Color_2),collapse=' - ')) %>%\n",
    "        mutate(color.eccen = paste(sort(c(e2l(Circle_1),Color_1,e2l(Circle_2),Color_2)),collapse=':')) %>%\n",
    "        ungroup()\n",
    "\n",
    "        # take the average across symmetric trials (e.g. C-blue, P-green & C-green, P-blue)\n",
    "\n",
    "        datadf <- aggregate(datadf, by = list(datadf$color.eccen),mean)\n",
    "        datadf$color.eccen <- datadf$Group.1 \n",
    "\n",
    "        # get some labels back for plotting below that we destroyed in the process\n",
    "        datadf$color.eccen.sacrifice <- datadf$color.eccen\n",
    "\n",
    "        datadf <- datadf %>% separate(color.eccen.sacrifice, c(\"color.1\",\"color.2\",\"eccen.1\",\"eccen.2\"),':')\n",
    "\n",
    "\n",
    "\n",
    "        datadf$color1.eccen1 <- paste(datadf$eccen.1,datadf$color.1)\n",
    "        datadf$color2.eccen2 <- paste(datadf$eccen.2,datadf$color.2)\n",
    "    }\n",
    "    \n",
    "    # duplicate some rows if we want to plot a full matrix - for aesthetic reasons\n",
    "    # I'm sorry for how ugly this is but I had so many bugs making it for unfathomable reasons (to me) that I'm not\n",
    "    # going to change it now. Feel free to clean it up for me\n",
    "    if(duplicate){\n",
    "        if(diagnose){print(paste(\"Initiate CP/PC duplication\"))}\n",
    "        tempdf <- subset(datadf,(color.1 != color.2))\n",
    "        \n",
    "        tempdf$color1.eccen1.temp <- tempdf$color1.eccen1\n",
    "        tempdf$color2.eccen2.temp <- tempdf$color2.eccen2\n",
    "\n",
    "        tempdf$color1.eccen1 <- tempdf$color2.eccen2.temp\n",
    "        tempdf$color2.eccen2 <- tempdf$color1.eccen1.temp\n",
    "             \n",
    "        \n",
    "        tempdf <- subset(tempdf, select = -c(color1.eccen1.temp, color2.eccen2.temp))\n",
    "        \n",
    "        tempdf2 <- subset(tempdf, substr(tempdf$color.eccen, 16, nchar(tempdf$color.eccen)) == ':Foveal:Peripheral')\n",
    "        \n",
    "        tempdf <- subset(tempdf, substr(tempdf$color.eccen, 16, nchar(tempdf$color.eccen)) != ':Foveal:Peripheral')\n",
    "        \n",
    "        tempdf2$temp1 <- tempdf2$color1.eccen1\n",
    "        tempdf2$color1.eccen1 <- paste('Foveal',substr(tempdf2$temp1,nchar(tempdf2$temp1)-7+1,nchar(tempdf2$temp1)))\n",
    "        tempdf2$temp2 <- tempdf2$color2.eccen2\n",
    "        tempdf2$color2.eccen2 <- paste('Peripheral',substr(tempdf2$temp2,nchar(tempdf2$temp2)-7+1,nchar(tempdf2$temp2)))\n",
    "        debug <- subset(tempdf2, select=c(color1.eccen1,temp1,color2.eccen2,temp2))\n",
    "        tempdf2 <- subset(tempdf2, select = -c(temp1,temp2))\n",
    "        \n",
    "        \n",
    "        datadf <- rbind(datadf,tempdf,tempdf2)\n",
    "        \n",
    "    \n",
    "        datadf$color <- substr(datadf$color.eccen, 1, 15) # get a colour pair label\n",
    "        datadf$color1 <- substr(datadf$color, 1, 7)\n",
    "        datadf$color2 <- substr(datadf$color, 9, 15)\n",
    "    } else {\n",
    "        datadf$Circle_1[datadf$Circle_1 == -1] <- 'Foveal'\n",
    "        datadf$Circle_2[datadf$Circle_2 == -1] <- 'Foveal'\n",
    "        datadf$Circle_1[datadf$Circle_1 == 1] <- 'Peripheral'\n",
    "        datadf$Circle_2[datadf$Circle_2 == 1] <- 'Peripheral'\n",
    "        datadf$color1.eccen1 <- paste(datadf$Circle_1,datadf$Color_1,sep=' ')\n",
    "        datadf$color2.eccen2 <- paste(datadf$Circle_2,datadf$Color_2,sep=' ')\n",
    "\n",
    "    }\n",
    "    \n",
    "    # refactor the levels so they can be plotted properly later if need be\n",
    "       datadf$color1.eccen1 <- with(datadf, factor(color1.eccen1, levels = eccens.colors))\n",
    "       datadf$color2.eccen2 <- with(datadf, factor(color2.eccen2, levels = eccens.colors))\n",
    "    if(diagnose){print(paste(\"Subject trial number:\", nrow(datadf)))}\n",
    "     \n",
    "    \n",
    "    #print(datadf$color1.eccen1)\n",
    "    return(datadf)\n",
    "}"
   ]
  },
  {
   "cell_type": "code",
   "execution_count": 18,
   "metadata": {},
   "outputs": [],
   "source": [
    "# convert a df to a group of subject matrices\n",
    "dissimgroup2matlist <- function(df){\n",
    "    subjectlist <- sort(unique(df$subject)) # obtain a list of all the subjects\n",
    "    mat.list <- list()\n",
    "    k = 1\n",
    "    for(ID in subjectlist){\n",
    "        subjectdf <- subset(df, subject == ID)\n",
    "        subject.mat <- color.eccen.mat(dissimdata.subject(subjectdf), output='matrix')\n",
    "        mat.list[[k]] <- subject.mat\n",
    "        k = k + 1\n",
    "    }\n",
    "    return(mat.list)\n",
    "} "
   ]
  },
  {
   "cell_type": "code",
   "execution_count": 19,
   "metadata": {},
   "outputs": [],
   "source": [
    "# convert a groups of matrices to a group average matrix\n",
    "group.mat.average <- function(mat.list){\n",
    "    # average the matrices\n",
    "    mat.average <- Reduce('+',mat.list)/length(mat.list)\n",
    "    return(mat.average)\n",
    "}\n",
    "   "
   ]
  },
  {
   "cell_type": "code",
   "execution_count": 148,
   "metadata": {},
   "outputs": [],
   "source": [
    "mds.mat <- group.mat.average(dissimgroup2matlist(cleandf))\n",
    "mds.mag <- cmdsfit(mat2dist(mds.mat))"
   ]
  },
  {
   "cell_type": "code",
   "execution_count": 149,
   "metadata": {},
   "outputs": [
    {
     "data": {
      "text/html": [
       "<table>\n",
       "<thead><tr><th></th><th scope=col>V1</th><th scope=col>V2</th></tr></thead>\n",
       "<tbody>\n",
       "\t<tr><th scope=row>Foveal #FF0000</th><td> 1.3274654</td><td> 3.5325936</td></tr>\n",
       "\t<tr><th scope=row>Foveal #FFAA00</th><td>-0.9705173</td><td> 2.2112174</td></tr>\n",
       "\t<tr><th scope=row>Foveal #AAFF00</th><td>-3.2863024</td><td>-0.4368469</td></tr>\n",
       "\t<tr><th scope=row>Foveal #00FF00</th><td>-3.3836743</td><td>-0.8024936</td></tr>\n",
       "\t<tr><th scope=row>Foveal #00FFA9</th><td>-2.9725697</td><td>-1.6021333</td></tr>\n",
       "\t<tr><th scope=row>Foveal #00A9FF</th><td> 2.1638621</td><td>-2.0816222</td></tr>\n",
       "\t<tr><th scope=row>Foveal #0000FF</th><td> 2.7799339</td><td>-2.4892769</td></tr>\n",
       "\t<tr><th scope=row>Foveal #AA00FF</th><td> 2.2822777</td><td>-0.8928949</td></tr>\n",
       "\t<tr><th scope=row>Foveal #FF00AA</th><td> 1.6649236</td><td> 3.4374083</td></tr>\n",
       "\t<tr><th scope=row>Peripheral #FF0000</th><td> 1.2227182</td><td> 3.7114938</td></tr>\n",
       "\t<tr><th scope=row>Peripheral #FFAA00</th><td>-0.7850033</td><td> 2.4090822</td></tr>\n",
       "\t<tr><th scope=row>Peripheral #AAFF00</th><td>-3.4469965</td><td>-0.5780775</td></tr>\n",
       "\t<tr><th scope=row>Peripheral #00FF00</th><td>-3.5475909</td><td>-0.9541442</td></tr>\n",
       "\t<tr><th scope=row>Peripheral #00FFA9</th><td>-3.2788279</td><td>-1.4901411</td></tr>\n",
       "\t<tr><th scope=row>Peripheral #00A9FF</th><td> 2.6874729</td><td>-2.3112739</td></tr>\n",
       "\t<tr><th scope=row>Peripheral #0000FF</th><td> 3.1985682</td><td>-2.8025069</td></tr>\n",
       "\t<tr><th scope=row>Peripheral #AA00FF</th><td> 2.8895941</td><td>-2.1675873</td></tr>\n",
       "\t<tr><th scope=row>Peripheral #FF00AA</th><td> 1.4546662</td><td> 3.3072033</td></tr>\n",
       "</tbody>\n",
       "</table>\n"
      ],
      "text/latex": [
       "\\begin{tabular}{r|ll}\n",
       "  & V1 & V2\\\\\n",
       "\\hline\n",
       "\tFoveal \\#FF0000 &  1.3274654 &  3.5325936\\\\\n",
       "\tFoveal \\#FFAA00 & -0.9705173 &  2.2112174\\\\\n",
       "\tFoveal \\#AAFF00 & -3.2863024 & -0.4368469\\\\\n",
       "\tFoveal \\#00FF00 & -3.3836743 & -0.8024936\\\\\n",
       "\tFoveal \\#00FFA9 & -2.9725697 & -1.6021333\\\\\n",
       "\tFoveal \\#00A9FF &  2.1638621 & -2.0816222\\\\\n",
       "\tFoveal \\#0000FF &  2.7799339 & -2.4892769\\\\\n",
       "\tFoveal \\#AA00FF &  2.2822777 & -0.8928949\\\\\n",
       "\tFoveal \\#FF00AA &  1.6649236 &  3.4374083\\\\\n",
       "\tPeripheral \\#FF0000 &  1.2227182 &  3.7114938\\\\\n",
       "\tPeripheral \\#FFAA00 & -0.7850033 &  2.4090822\\\\\n",
       "\tPeripheral \\#AAFF00 & -3.4469965 & -0.5780775\\\\\n",
       "\tPeripheral \\#00FF00 & -3.5475909 & -0.9541442\\\\\n",
       "\tPeripheral \\#00FFA9 & -3.2788279 & -1.4901411\\\\\n",
       "\tPeripheral \\#00A9FF &  2.6874729 & -2.3112739\\\\\n",
       "\tPeripheral \\#0000FF &  3.1985682 & -2.8025069\\\\\n",
       "\tPeripheral \\#AA00FF &  2.8895941 & -2.1675873\\\\\n",
       "\tPeripheral \\#FF00AA &  1.4546662 &  3.3072033\\\\\n",
       "\\end{tabular}\n"
      ],
      "text/markdown": [
       "\n",
       "| <!--/--> | V1 | V2 |\n",
       "|---|---|---|\n",
       "| Foveal #FF0000 |  1.3274654 |  3.5325936 |\n",
       "| Foveal #FFAA00 | -0.9705173 |  2.2112174 |\n",
       "| Foveal #AAFF00 | -3.2863024 | -0.4368469 |\n",
       "| Foveal #00FF00 | -3.3836743 | -0.8024936 |\n",
       "| Foveal #00FFA9 | -2.9725697 | -1.6021333 |\n",
       "| Foveal #00A9FF |  2.1638621 | -2.0816222 |\n",
       "| Foveal #0000FF |  2.7799339 | -2.4892769 |\n",
       "| Foveal #AA00FF |  2.2822777 | -0.8928949 |\n",
       "| Foveal #FF00AA |  1.6649236 |  3.4374083 |\n",
       "| Peripheral #FF0000 |  1.2227182 |  3.7114938 |\n",
       "| Peripheral #FFAA00 | -0.7850033 |  2.4090822 |\n",
       "| Peripheral #AAFF00 | -3.4469965 | -0.5780775 |\n",
       "| Peripheral #00FF00 | -3.5475909 | -0.9541442 |\n",
       "| Peripheral #00FFA9 | -3.2788279 | -1.4901411 |\n",
       "| Peripheral #00A9FF |  2.6874729 | -2.3112739 |\n",
       "| Peripheral #0000FF |  3.1985682 | -2.8025069 |\n",
       "| Peripheral #AA00FF |  2.8895941 | -2.1675873 |\n",
       "| Peripheral #FF00AA |  1.4546662 |  3.3072033 |\n",
       "\n"
      ],
      "text/plain": [
       "                   V1         V2        \n",
       "Foveal #FF0000      1.3274654  3.5325936\n",
       "Foveal #FFAA00     -0.9705173  2.2112174\n",
       "Foveal #AAFF00     -3.2863024 -0.4368469\n",
       "Foveal #00FF00     -3.3836743 -0.8024936\n",
       "Foveal #00FFA9     -2.9725697 -1.6021333\n",
       "Foveal #00A9FF      2.1638621 -2.0816222\n",
       "Foveal #0000FF      2.7799339 -2.4892769\n",
       "Foveal #AA00FF      2.2822777 -0.8928949\n",
       "Foveal #FF00AA      1.6649236  3.4374083\n",
       "Peripheral #FF0000  1.2227182  3.7114938\n",
       "Peripheral #FFAA00 -0.7850033  2.4090822\n",
       "Peripheral #AAFF00 -3.4469965 -0.5780775\n",
       "Peripheral #00FF00 -3.5475909 -0.9541442\n",
       "Peripheral #00FFA9 -3.2788279 -1.4901411\n",
       "Peripheral #00A9FF  2.6874729 -2.3112739\n",
       "Peripheral #0000FF  3.1985682 -2.8025069\n",
       "Peripheral #AA00FF  2.8895941 -2.1675873\n",
       "Peripheral #FF00AA  1.4546662  3.3072033"
      ]
     },
     "metadata": {},
     "output_type": "display_data"
    }
   ],
   "source": [
    "as.data.frame(mds.mag)"
   ]
  },
  {
   "cell_type": "code",
   "execution_count": null,
   "metadata": {},
   "outputs": [],
   "source": []
  },
  {
   "cell_type": "code",
   "execution_count": 150,
   "metadata": {},
   "outputs": [
    {
     "data": {
      "image/png": "[encoded data removed]",
      "text/plain": [
       "plot without title"
      ]
     },
     "metadata": {},
     "output_type": "display_data"
    }
   ],
   "source": [
    "mds.mag <- as.data.frame(mds.mag)\n",
    "rainbow <- c('#FF0000','#FFAA00','#AAFF00','#00FF00','#00FFA9',\"#00A9FF\",'#0000FF','#AA00FF',\"#FF00AA\")\n",
    "C <- c(rep('Central',9))\n",
    "P <- c(rep('Peripheral',9))\n",
    "Eccentricity <- c(C,P)\n",
    "mds.mag$Eccentricity <- Eccentricity\n",
    "colors2 <- c(rainbow,rainbow)\n",
    "plot <-     ggplot(mds.mag, aes(x = V1, y = V2, color=colors2)) + geom_point(size =10,aes(shape=Eccentricity)) + \n",
    "                #geom_text(aes(label=tags, vjust=-2)) +\n",
    "                xlab(\"Dimension 1\") + ylab(\"Dimension 2\") + \n",
    "                ggtitle('Classical MDS') + \n",
    "                #theme(legend.position='none') +\n",
    "                scale_colour_identity()\n",
    "plot"
   ]
  },
  {
   "cell_type": "code",
   "execution_count": 151,
   "metadata": {},
   "outputs": [
    {
     "data": {
      "image/png": "[encoded data removed]",
      "text/plain": [
       "plot without title"
      ]
     },
     "metadata": {},
     "output_type": "display_data"
    }
   ],
   "source": [
    "# make a dissimilarity plot for a group of subjects\n",
    "group.dissim <- function(df){\n",
    "    mats <- dissimgroup2matlist(df)\n",
    "    avg.mat <- group.mat.average(mats)\n",
    "    \n",
    "    data <- melt(avg.mat)\n",
    "    colnames(data) <- c('color1.eccen1','color2.eccen2','similarity')\n",
    "    return(data)\n",
    "    \n",
    "    \n",
    "}\n",
    "mag.df <- subset(cleandf, peripheral_scale != 1)\n",
    "mag.data <- group.dissim(mag.df)\n",
    "dissimplot.full(mag.data)\n",
    "\n"
   ]
  },
  {
   "cell_type": "code",
   "execution_count": 153,
   "metadata": {},
   "outputs": [
    {
     "data": {
      "image/png": "[encoded data removed]",
      "text/plain": [
       "plot without title"
      ]
     },
     "metadata": {},
     "output_type": "display_data"
    }
   ],
   "source": [
    "simhistplot_summary(mag.df)"
   ]
  },
  {
   "cell_type": "code",
   "execution_count": null,
   "metadata": {},
   "outputs": [],
   "source": []
  },
  {
   "cell_type": "code",
   "execution_count": 25,
   "metadata": {},
   "outputs": [
    {
     "ename": "ERROR",
     "evalue": "Error in subset(datadf, subject == 790529144): object 'datadf' not found\n",
     "output_type": "error",
     "traceback": [
      "Error in subset(datadf, subject == 790529144): object 'datadf' not found\nTraceback:\n",
      "1. subset(datadf, subject == 790529144)"
     ]
    }
   ],
   "source": [
    "# testing\n",
    "#test <- FALSE\n",
    "test <- TRUE\n",
    "#head(datadf)\n",
    "#if(test){\n",
    "    testdf <- subset(datadf, subject == 790529144)\n",
    "    data <- dissimdata.subject(testdf,symmeterise=TRUE, duplicate=TRUE)\n",
    "    data2 <- dissimdata.subject(testdf,symmeterise=TRUE, duplicate=TRUE, diagnose=TRUE)\n",
    "    #data$color1.eccen1\n",
    "    dissimplot.full(data)\n",
    "    dissimplot.full(data2)\n",
    "    data2 <- color.eccen.mat(data2,duplicate=TRUE)\n",
    "    #color.eccen.mat(testdf, output='matrix')\n",
    "    datamat2 <- color.eccen.mat(data2, output='matrix',duplicate=FALSE)\n",
    "    datamat2\n",
    "    dissimplot.full(data2)\n",
    "    CPmat <- data[1:9,10:18]\n",
    "    PCmat <- t(CPmat)\n",
    "    CPmat\n",
    "    PCmat\n",
    "#}\n"
   ]
  },
  {
   "cell_type": "code",
   "execution_count": 26,
   "metadata": {},
   "outputs": [],
   "source": [
    "# rotate a vector\n",
    "rotate.vec <- function(vec, rotation){\n",
    "    indexshift = round((rotation/360)*length(vec),0)\n",
    "    if (indexshift == 0){\n",
    "        return(vec)\n",
    "    } else {\n",
    "        return(c(tail(vec, -indexshift), head(vec, indexshift)))\n",
    "    }\n",
    "}"
   ]
  },
  {
   "cell_type": "code",
   "execution_count": 27,
   "metadata": {},
   "outputs": [],
   "source": [
    "# swap the labels\n",
    "matswap <- function(mat,mode='random',rotation=90){\n",
    "    \n",
    "    labels <- rownames(mat)\n",
    "    if(mode=='random'){\n",
    "        labels.swapped <- sample(labels)\n",
    "    } else if (mode=='inversion'){\n",
    "        labels.swapped <- c('#FF0000','#FF00AA','#AA00FF','#0000FF','#00A9FF','#00FFA9','#00FF00','#AAFF00','#FFAA00')\n",
    "    } else if (mode=='rotation'){\n",
    "        labels.swapped <- rotate.vec(labels,rotation)\n",
    "    }\n",
    "    \n",
    "    rownames(mat) <- labels.swapped\n",
    "    colnames(mat) <- labels.swapped\n",
    "    \n",
    "    # sort the matrix\n",
    "    mat <- mat[, sort(colnames(mat))][sort(rownames(mat)),]\n",
    "    \n",
    "    return(mat)\n",
    "    \n",
    "}"
   ]
  },
  {
   "cell_type": "code",
   "execution_count": 28,
   "metadata": {},
   "outputs": [],
   "source": [
    "# label the rows with the two colours independent of arbitrary ordering\n",
    "dissimplot.full <- function(datadf, mode='standard',rotation=90,dependent='dissimilarity'){\n",
    "        \n",
    "    if(dependent=='RT'){\n",
    "        #datadf$similarity <- log10(datadf$similarity)\n",
    "    }\n",
    "    \n",
    "    plot <- ggplot(datadf, aes(x = color1.eccen1, y = color2.eccen2)) \n",
    "    \n",
    "    if(mode=='standard'){\n",
    "        color.list <- c(colors,colors)\n",
    "    } else if (mode=='inversion'){\n",
    "        color.list <- c(colors, inverted.colors)\n",
    "    } else if (mode == 'rotation'){\n",
    "        color.list <- c(colors, rotate.vec(colors,rotation))\n",
    "    }\n",
    "    plot <- plot + theme(axis.text.x = element_text(colour=color.list,angle=90),\n",
    "                        axis.text.y = element_text(colour=color.list),\n",
    "                      axis.title.x = element_blank(), axis.title.y = element_blank(),\n",
    "                      plot.title = element_text(hjust = 0.5))\n",
    "    \n",
    "    \n",
    "    \n",
    "    # dissimilarity plot\n",
    "    if(dependent=='dissimilarity'){\n",
    "        plot <- plot + geom_raster(aes(fill = similarity)) +\n",
    "                scale_fill_gradientn(colours = c(\"white\",\"black\"),\n",
    "                                    limits=c(0,7),\n",
    "                                    breaks=c(0,1,2,3,4,5,6,7)) +\n",
    "                guides(fill=guide_legend(title=\"Dissimilarity\"))\n",
    "    }\n",
    "    # reaction time plot\n",
    "    if(dependent=='RT'){\n",
    "        plot <- plot + geom_raster(aes(fill = similarity)) +\n",
    "                scale_fill_gradientn(colours = c(\"white\",\"black\"), trans = \"log\",\n",
    "                                    #limits=c(1000,1600),\n",
    "                                    #limits=c(2.9,3.3),\n",
    "                                    #breaks=c(2.9,3,3.146,3.255,3.3),\n",
    "                                     limits = c(800,2000),\n",
    "                                    breaks=c(800,1000,1400,1800),\n",
    "                                    labels=c(800,1000,1400,1800)\n",
    "                                    ) +\n",
    "                guides(fill=guide_legend(title=\"RT (log)\"))\n",
    "    }\n",
    "    # variance plot\n",
    "    if(dependent=='variance'){\n",
    "        \n",
    "    }\n",
    "    return(plot)\n",
    "    \n",
    "}"
   ]
  },
  {
   "cell_type": "code",
   "execution_count": 29,
   "metadata": {},
   "outputs": [],
   "source": [
    "# convert a dataframe to a matrix. Automatically symmeterises the data. Only works on submatrices\n",
    "df2mat.full <- function(datadf,eccentricity1=l2e('Foveal'),eccentricity2=l2e('Foveal')){\n",
    " \n",
    "    # select only the eccentricities we want to keep, e.g. (foveal, foveal)\n",
    "    datadf <- subset(datadf, Circle_1 == eccentricity1 & Circle_2 == eccentricity2)\n",
    "\n",
    "    # aggregate over the remaining columns of interest\n",
    "    datadf <- aggregate(datadf, by = list(datadf$Color_1, datadf$Color_2),FUN=mean)\n",
    "    datadf$Color_1 <- datadf$Group.1\n",
    "    datadf$Color_2 <- datadf$Group.2\n",
    "\n",
    "    datadf = subset(datadf, select = c(\"Color_1\",\"Color_2\",\"similarity\"))  # get rid of unnecessary columns\n",
    "    datadf <- spread(datadf, Color_1, similarity)\n",
    "    \n",
    "    # convert the dataframe to a matrix\n",
    "    datamatrix <- data.matrix(datadf)\n",
    "    datamatrix <- datamatrix[,-1] # get rid of the labels in the first column, it messes up the code\n",
    "    datamatrix <- make.symmetric(datamatrix) # averaging over Color_1 vs. Color_2 & Color_2 vs. Color_1    \n",
    "    rownames(datamatrix) <- colnames(datamatrix)\n",
    "    \n",
    "    # sort the matrix\n",
    "    datamatrix <- datamatrix[, sort(colnames(datamatrix))][sort(rownames(datamatrix)),]\n",
    "    \n",
    "    return(datamatrix)\n",
    "    \n",
    "}"
   ]
  },
  {
   "cell_type": "code",
   "execution_count": 30,
   "metadata": {},
   "outputs": [],
   "source": [
    "# take a list of matrices, return a matrix with the variance of cell entries\n",
    "mat.variance <- function(mat.list){\n",
    "    n.cells <- length(mat.list[[1]]) # how many cells per matrix\n",
    "    \n",
    "    var.mat <- matrix(\n",
    "                       apply(sapply(1:n.cells, function(x) unlist(mat.list)[\n",
    "                           seq(x, length(unlist(mat.list)),n.cells)]),\n",
    "                            2, var),\n",
    "                            ncol = ncol(mat.list[[1]]))\n",
    "    return(var.mat)\n",
    "}"
   ]
  },
  {
   "cell_type": "code",
   "execution_count": 31,
   "metadata": {},
   "outputs": [],
   "source": [
    "# calculate between-subject variance in responses\n",
    "dissimvar.between <- function(datadf){\n",
    "    subjectlist <- sort(unique(datadf$subject)) # obtain a list of all the subjects\n",
    "    mat.list <- list()\n",
    "    k=1\n",
    "    # get a list of individual subject matrices\n",
    "    for(ID in subjectlist){\n",
    "        subjectdf <- subset(datadf, subject == ID)\n",
    "        subjectdata <- dissimdata.subject(subjectdf)\n",
    "        subject.mat <- color.eccen.mat(subjectdata,\n",
    "                                      output='matrix')\n",
    "        mat.list[[k]] <- subject.mat\n",
    "        k = k + 1\n",
    "    }\n",
    "    # calculate variance for each cell entry\n",
    "    var.mat <- (mat.variance(mat.list))\n",
    "    \n",
    "    rownames(var.mat) <- eccens.colors\n",
    "    colnames(var.mat) <- eccens.colors\n",
    "    return(var.mat)\n",
    "}"
   ]
  },
  {
   "cell_type": "code",
   "execution_count": 32,
   "metadata": {},
   "outputs": [],
   "source": [
    "# variance plot\n",
    "variance.plot <- function(mat,\n",
    "                         col1='blue',col2='yellow',na.col='green',\n",
    "                                  legend.title='Variance',\n",
    "                                  xlabel='',ylabel='',\n",
    "                                  low.lim=0,up.lim=10){\n",
    "    if(ncol(mat)<10){\n",
    "        color.list <- colors\n",
    "    } else {\n",
    "        color.list <- c(colors,colors)\n",
    "    }\n",
    "    longData <- melt(mat)\n",
    "    \n",
    "    \n",
    "    plot <- ggplot(longData, aes(x = Var2, y=Var1)) + \n",
    "    geom_raster(aes(fill=value)) +\n",
    "    scale_fill_gradientn(legend.title,colours = c(col1,col2),\n",
    "                         limits = c(low.lim,up.lim), \n",
    "                         breaks=c(low.lim,up.lim),\n",
    "                        na.value=na.col) + \n",
    "    theme(axis.text.x = element_text(colour=color.list,angle=90),\n",
    "                        axis.text.y = element_text(colour=color.list),\n",
    "                      axis.title.x = element_blank(), axis.title.y = element_blank(),\n",
    "                      plot.title = element_text(hjust = 0.5))\n",
    "\n",
    "    return(plot)\n",
    "}\n",
    "    "
   ]
  },
  {
   "cell_type": "markdown",
   "metadata": {},
   "source": [
    "#### Testing different method using matrix plots"
   ]
  },
  {
   "cell_type": "code",
   "execution_count": 33,
   "metadata": {},
   "outputs": [],
   "source": [
    "# convert a dataframe to a matrix v2, with some added functionality and without automatic\n",
    "# symmeterisation\n",
    "color.eccen.mat <- function(datadf,output='DF',mode='identity',rotation=90,plot=FALSE,dependent='dissimilarity',\n",
    "                           duplicate=TRUE){\n",
    "    library('plot.matrix')\n",
    "    if(dependent=='RT'){\n",
    "        datadf$similarity <- datadf$response_time\n",
    "    }\n",
    "    data <- subset(datadf, select = c(color1.eccen1, color2.eccen2, similarity))\n",
    "    data <- spread(data, color1.eccen1, similarity)\n",
    "    row.names <- data$color2.eccen2\n",
    "    data.mat <- data.matrix(data)\n",
    "    rownames(data.mat) <- row.names\n",
    "    data.mat <- data.mat[,-1] # get rid of the redundant first column\n",
    "    \n",
    "    # duplicate Foveal x Peripheral matrix\n",
    "    # 1. Make this only if requested\n",
    "    # 2. Shouldn't this be transposed?\n",
    "    if(duplicate){\n",
    "        PF <- data.mat[10:18, 1:9]\n",
    "        data.mat[1:9,10:18] <- t(PF)\n",
    "    }\n",
    "    \n",
    "    \n",
    "    # perform a label swap\n",
    "    peripheral.labels <- c(10:18)\n",
    "    if(mode == 'random'){\n",
    "        swap.vec <- sample(peripheral.labels) # pick a random ordering of the peripheral labels\n",
    "    } else if (mode == 'rotate'){\n",
    "        swap.vec <- rotate.vec(peripheral.labels,rotation=rotation)\n",
    "    } else if (mode == 'invert'){\n",
    "        swap.vec <- match(inverted.colors,colors) + 9\n",
    "    }\n",
    "    if(mode != 'identity'){ # do the swap\n",
    "        data.mat[10:18,] <- data.mat[swap.vec, ] # reorder the rows\n",
    "        data.mat[,10:18] <- data.mat[, swap.vec] # reorder the columns\n",
    "    }\n",
    "        \n",
    "    \n",
    "    # plot the data\n",
    "    if(plot){\n",
    "        plot(data.mat, col=gray.colors(8, start=0, end=1, gamma=0.75, rev=TRUE),\n",
    "         xlab = 'Fovea                                      Periphery',\n",
    "        ylab = 'Fovea                                      Periphery')\n",
    "    }\n",
    "    \n",
    "    \n",
    "    # choose output type\n",
    "    if(output == 'DF'){\n",
    "        data <- as.data.frame(as.table(data.mat))\n",
    "        colnames(data) <- c(\"color1.eccen1\",\"color2.eccen2\",\"similarity\")\n",
    "        return(data)\n",
    "    } else if (output == 'matrix'){\n",
    "        return(data.mat)\n",
    "    }\n",
    "}"
   ]
  },
  {
   "cell_type": "markdown",
   "metadata": {},
   "source": [
    "#### Examining stimulus location"
   ]
  },
  {
   "cell_type": "code",
   "execution_count": 34,
   "metadata": {},
   "outputs": [],
   "source": [
    "# label the hemifield that a stimulus was in\n",
    "label.val <- function(angle){\n",
    "    val <- abs(as.numeric(angle))\n",
    "    print(val) # testing\n",
    "    if((val) <= 30){\n",
    "        return('RIGHT')\n",
    "    } else {\n",
    "        return('LEFT')\n",
    "    }\n",
    "}\n",
    "\n",
    "label.hemifield <- function(datadf){\n",
    "    \n",
    "    datadf$angle_1 <- as.vector(datadf$angle_1)\n",
    "    datadf$angle_2 <- as.vector(datadf$angle_2)\n",
    "    datadf$stim_1_hemifield <- label.val(datadf$angle_1)\n",
    "    datadf$stim_2_hemifield <- label.val(datadf$angle_2)\n",
    "    return(datadf)\n",
    "}"
   ]
  },
  {
   "cell_type": "code",
   "execution_count": 35,
   "metadata": {},
   "outputs": [],
   "source": [
    "#testdf <- label.hemifield(testdf)"
   ]
  },
  {
   "cell_type": "code",
   "execution_count": 36,
   "metadata": {},
   "outputs": [],
   "source": [
    "#testdf$stim_1_hemifield"
   ]
  },
  {
   "cell_type": "markdown",
   "metadata": {},
   "source": [
    "#### Multidimensional Scaling Plots"
   ]
  },
  {
   "cell_type": "code",
   "execution_count": 37,
   "metadata": {},
   "outputs": [],
   "source": [
    "# convert a standard matrix to a distance matrix\n",
    "mat2dist <- function(mat){\n",
    "    \n",
    "    return(distmat <- as.dist(mat))\n",
    "}"
   ]
  },
  {
   "cell_type": "markdown",
   "metadata": {},
   "source": [
    "Non-metric multidimensional scaling (NMDS)"
   ]
  },
  {
   "cell_type": "code",
   "execution_count": 38,
   "metadata": {},
   "outputs": [],
   "source": [
    "# find the nmds fit for a dataset\n",
    "nmdsfit <- function(distmatrix){\n",
    "      \n",
    "    fit <- isoMDS(distmatrix,k=2, maxit=100)\n",
    "    return(fit)\n",
    "}"
   ]
  },
  {
   "cell_type": "code",
   "execution_count": 39,
   "metadata": {},
   "outputs": [],
   "source": [
    "# plot the nmds fit\n",
    "nmdsplot <- function(fit, colors, abcolors, eccentricity1, eccentricity2){\n",
    "    \n",
    "    # get labels\n",
    "    \n",
    "    # change the nmdsfit back to a dataframe\n",
    "    nmdsdf <- as.data.frame(fit)\n",
    "    \n",
    "    plot <-     ggplot(nmdsdf, aes(x = points.1, y = points.2, color=colors, fill=colors)) + geom_point(size =10) + \n",
    "                scale_colour_manual(values = abcolors) + scale_fill_manual(values = abcolors) + \n",
    "                xlab(\"Dimension 1\") + ylab(\"Dimension 2\") + \n",
    "                ggtitle(paste(e2l(eccentricity1),e2l(eccentricity2),'Non-metric MDS',sep=' - '))\n",
    "    return(plot)\n",
    "}"
   ]
  },
  {
   "cell_type": "markdown",
   "metadata": {},
   "source": [
    "Classical multidimensional scaling"
   ]
  },
  {
   "cell_type": "code",
   "execution_count": 40,
   "metadata": {},
   "outputs": [],
   "source": [
    "# find the cmds fit for a dataset\n",
    "cmdsfit <- function(distmatrix){\n",
    "    \n",
    "    fit <- cmdscale(distmatrix,k=2)\n",
    "    return(fit)\n",
    "}"
   ]
  },
  {
   "cell_type": "code",
   "execution_count": 41,
   "metadata": {},
   "outputs": [],
   "source": [
    "# plot the cmds fit\n",
    "cmdsplot <- function(fit, colors, abcolors, eccentricity1, eccentricity2){\n",
    "    \n",
    "    # get labels\n",
    "    \n",
    "    # change the nmdsfit back to a dataframe\n",
    "    nmdsdf <- as.data.frame(fit)\n",
    "    \n",
    "    plot <-     ggplot(nmdsdf, aes(x = V1, y = V2, color=colors, fill=colors)) + geom_point(size =10) + \n",
    "                scale_colour_manual(values = abcolors) + scale_fill_manual(values = abcolors) + \n",
    "                xlab(\"Dimension 1\") + ylab(\"Dimension 2\") + \n",
    "                ggtitle(paste(e2l(eccentricity1),e2l(eccentricity2),'Classical MDS',sep=' - '))\n",
    "    return(plot)\n",
    "}"
   ]
  },
  {
   "cell_type": "markdown",
   "metadata": {},
   "source": [
    "#### Some control measure plots"
   ]
  },
  {
   "cell_type": "markdown",
   "metadata": {},
   "source": [
    "Reaction time vs. similarity judgements"
   ]
  },
  {
   "cell_type": "code",
   "execution_count": 42,
   "metadata": {},
   "outputs": [],
   "source": [
    "# similarity judgement histogram\n",
    "simhistplot <- function(datadf){\n",
    "    \n",
    "   plot <- ggplot(datadf, aes(x = similarity)) + geom_bar(aes(y = ..prop..)) +\n",
    "    scale_x_discrete(limits=c(0,1,2,3,4,5,6,7), name = 'Dissimilarity') +\n",
    "    ylab('Frequency') + ylim(0,0.8)\n",
    "    return(plot)\n",
    "}\n",
    "\n",
    "simhistplot_summary <- function(datadf,QDM='FULL'){\n",
    "    \n",
    "    if(QDM == 'FP'){\n",
    "        datadf <- subset(datadf, ((Circle_1 == l2e('Foveal') & Circle_2 == l2e('Peripheral')) |\n",
    "                                 (Circle_1 == l2e('Peripheral') & Circle_2 == l2e('Foveal'))\n",
    "                                 ))\n",
    "    }\n",
    "    \n",
    "    datadf$subject <- as.character(datadf$subject) # necessary for visualisation\n",
    "    \n",
    "    plot <- ggplot(datadf, aes(x = similarity)) + \n",
    "    geom_line(stat='count',aes(y = ..prop..,group = subject),color='#CC9933') +\n",
    "    geom_line(stat='count',aes(y = ..prop..),size=1.5) +\n",
    "    scale_x_discrete(limits=c(0,1,2,3,4,5,6,7), name = paste(QDM,'Dissimilarity')) +\n",
    "    ylab('Frequency') + ylim(0,0.8)\n",
    "    return(plot)\n",
    "    \n",
    "}"
   ]
  },
  {
   "cell_type": "code",
   "execution_count": 43,
   "metadata": {},
   "outputs": [],
   "source": [
    "# reaction time for each similarity\n",
    "rsplot <- function(datadf){\n",
    "    \n",
    "    plot <- ggplot(datadf, aes(x= similarity, y=response_time)) + \n",
    "    stat_summary(fun.data = mean_se, geom = \"errorbar\", size =0.5, aes(width=0.5)) +\n",
    "    scale_x_discrete(limits=c(0,1,2,3,4,5,6,7), name = 'Dissimilarity') + ylab('Reaction Time (ms)') +\n",
    "    theme(legend.position = \"none\") +\n",
    "    \n",
    "    ylim(0,4000) # anyone taking more than 4 seconds has probably mindwandered\n",
    "    \n",
    "    return(plot)\n",
    "}\n",
    "\n",
    "rsplot_summary <- function(datadf){\n",
    "    \n",
    "    datadf$subject <- as.character(datadf$subject) # necessary for visualisation\n",
    "    \n",
    "    \n",
    "    plot <- ggplot(datadf, aes(x= similarity, y=response_time,group = subject, color = subject)) + \n",
    "    stat_summary(fun.y = mean, geom = \"line\", size=0.8) + \n",
    "    stat_summary(fun.y = mean, geom = \"line\", size=2.5, aes(group=1)) + # add a population summary\n",
    "    #stat_summary(fun.data = mean_se, geom = \"errorbar\", size =0.5, aes(width=0.5)) +\n",
    "    scale_x_discrete(limits=c(0,1,2,3,4,5,6,7), name = 'Dissimilarity') + ylab('Mean Reaction Time (ms)') +\n",
    "    theme(legend.position = \"none\") +\n",
    "    ylim(0,4000) # anyone taking more than 4 seconds has probably mindwandered \n",
    "    \n",
    "    return(plot)\n",
    "    \n",
    "}"
   ]
  },
  {
   "cell_type": "code",
   "execution_count": 44,
   "metadata": {},
   "outputs": [],
   "source": [
    "# reaction time raincloud plot\n",
    "rsplot_raincloud <- function(datadf,xtype='linear'){\n",
    "    \n",
    "    datadf$subject <- as.character(datadf$subject) # necessary for visualisation  \n",
    "    datadf$similarity <- as.character(datadf$similarity) # necessary for visualisation\n",
    "    \n",
    "    ylabtext = 'Reaction Time (ms)'\n",
    "    \n",
    "    plot <- ggplot(datadf, aes(y = response_time, x = similarity, fill = similarity)) +\n",
    "            geom_flat_violin(position = position_nudge(x = .2, y = 0), alpha = .8) +\n",
    "            geom_point(aes(y = response_time, color = similarity),\n",
    "                   position = position_jitter(width = .15), size = .5, alpha = 0.8) +\n",
    "            geom_boxplot(width = .1, guides = FALSE, outlier.shape = NA, alpha = 0.5) +\n",
    "            expand_limits(x = 5.25) +\n",
    "            guides(fill = FALSE) +\n",
    "            guides(color = FALSE) +\n",
    "            scale_color_brewer(palette = \"Spectral\") +\n",
    "            scale_fill_brewer(palette = \"Spectral\") +\n",
    "            xlab('Dissimilarity') + ylab(\"Reaction Time (ms)\")\n",
    "            # coord_flip() +\n",
    "            theme_bw() +\n",
    "            raincloud_theme\n",
    "    \n",
    "    if(xtype == 'log'){\n",
    "        plot <- plot + scale_y_continuous(trans='log10') + ylim(0,15000)\n",
    "    } else{\n",
    "        plot <- plot + ylim(0,5000)\n",
    "    }\n",
    "    \n",
    "    return(plot)\n",
    "}"
   ]
  },
  {
   "cell_type": "code",
   "execution_count": 45,
   "metadata": {},
   "outputs": [],
   "source": [
    "# correlation between reaction times and similarity judgements\n",
    "# grouping at individual trial, individual participant, experiment or entire population level\n",
    "rt_similarity_cor <- function(datadf,level='participant'){\n",
    "        \n",
    "    if(level==\"participant\"){\n",
    "        datadf <- datadf %>% \n",
    "                group_by(subject) %>% \n",
    "                mutate(rt_similarity_correlation = cor(similarity,response_time))\n",
    "        datadf <- aggregate(datadf, by=list(datadf$subject), FUN = mean)\n",
    "\n",
    "                \n",
    "    }\n",
    "    return(datadf)\n",
    "    \n",
    "}\n",
    "\n",
    "rt_similarity_plot <- function(datadf,xlabel='BLANK'){\n",
    "    \n",
    "    datadf <- rt_similarity_cor(datadf)\n",
    "    \n",
    "    datadf[xlabel] = xlabel\n",
    "    \n",
    "    plot <- ggplot(datadf,aes(x=xlabel,y=rt_similarity_correlation)) + \n",
    "                geom_boxplot() + \n",
    "                geom_dotplot(binaxis='y',stackdir='center',dotsize=0.75) +\n",
    "                theme(text = element_text(size=15)) + xlab(\"\")\n",
    "                ggtitle(title)\n",
    "    \n",
    "    plot <- plot + ylab(\"Correlation (Spearman)\") + ylim(-1,1)\n",
    "    plot <- plot + geom_hline(yintercept=0, linetype=\"dashed\", color = \"blue\")\n",
    "    return(plot)\n",
    "}"
   ]
  },
  {
   "cell_type": "code",
   "execution_count": 46,
   "metadata": {},
   "outputs": [],
   "source": [
    "# mean reaction time vs. antitrace-trace difference\n",
    "rt_difference <- function(datadf){\n",
    "    \n",
    "    subjectlist <- sort(unique(datadf$subject)) # obtain a list of all the subjects\n",
    "    \n",
    "    for(ID in subjectlist){\n",
    "        tempdf <- subset(datadf, subject == ID)\n",
    "        datadf$difference[datadf$subject == ID] = unlist(antitrace_avg(tempdf),use.names=FALSE)[1] - \n",
    "                   unlist(trace_avg(tempdf),use.names=FALSE)[1]\n",
    "    }\n",
    "        datadf <- aggregate(datadf, by=list(datadf$subject), FUN = mean)\n",
    "    return(datadf)\n",
    "}\n",
    "\n",
    "rt_difference_plot <- function(datadf,xtype='linear'){\n",
    "    \n",
    "    datadf$subject <- as.character(datadf$subject) # necessary for visualisation\n",
    "    \n",
    "    plot <- ggplot(rt_difference(datadf), aes(x=response_time, y=difference)) +\n",
    "            geom_point() + xlab(\"Mean Reaction Time\") + ylab(\"Antitrace - Trace\")\n",
    "    \n",
    "    if(xtype == 'log'){\n",
    "        plot <- plot + scale_x_continuous(trans='log10')\n",
    "    } else{\n",
    "        plot <- plot + xlim(0,5000)\n",
    "    }\n",
    "    plot <- plot + geom_smooth(method=lm) # linear line of best fit\n",
    "    return(plot)\n",
    "}"
   ]
  },
  {
   "cell_type": "code",
   "execution_count": 47,
   "metadata": {},
   "outputs": [],
   "source": [
    "# mean reaction time vs. catch trial score\n",
    "rt_catch <- function(datadf){\n",
    "    \n",
    "    subjectlist <- sort(unique(datadf$subject)) # obtain a list of all the subjects\n",
    "    \n",
    "    for(ID in subjectlist){\n",
    "        tempdf <- subset(datadf, subject == ID)\n",
    "        datadf$catch_score[datadf$subject == ID] = unlist(catch_score(tempdf),use.names=FALSE)[1]\n",
    "    }\n",
    "        datadf <- aggregate(datadf, by=list(datadf$subject), FUN = mean)\n",
    "    return(datadf)\n",
    "}\n",
    "\n",
    "rt_catch_plot <- function(datadf,xtype='linear',label=FALSE){\n",
    "    \n",
    "    datadf <- rt_catch(datadf)\n",
    "    datadf$subject <- as.character(datadf$subject) # necessary for visualisation\n",
    "    \n",
    "    plot <- ggplot(datadf, aes(x=response_time, y=catch_score)) +\n",
    "            geom_point() + xlab(\"Mean Reaction Time\") + ylab(\"Catch Score\")\n",
    "    \n",
    "    if(xtype == 'log'){\n",
    "        plot <- plot + scale_x_continuous(trans='log10')+ xlim(0,5000)\n",
    "    } else{\n",
    "        plot <- plot + xlim(0,5000)\n",
    "    }\n",
    "    plot <- plot + geom_smooth(method=lm) + ylim(0,1) # linear line of best fit\n",
    "    #plot <- plot + geom_point(aes(color = subject))\n",
    "    if(label){\n",
    "        plot <- plot + geom_text(aes(label = subject),check_overlap=TRUE)\n",
    "    }\n",
    "    return(plot)\n",
    "}"
   ]
  },
  {
   "cell_type": "code",
   "execution_count": 48,
   "metadata": {},
   "outputs": [],
   "source": [
    "#rt_catch_plot(datadf, xtype='log')"
   ]
  },
  {
   "cell_type": "code",
   "execution_count": 49,
   "metadata": {},
   "outputs": [],
   "source": [
    "# mean antitrace-trace difference vs. catch trial score\n",
    "catch_difference <- function(datadf){\n",
    "    \n",
    "    subjectlist <- sort(unique(datadf$subject)) # obtain a list of all the subjects\n",
    "    \n",
    "    for(ID in subjectlist){\n",
    "        tempdf1 <- subset(datadf, subject == ID & trial_type!= 'catch') # remove catch trials for difference calculation\n",
    "        tempdf2 <- subset(datadf, subject == ID) # keep catch trials for score calculation\n",
    "        datadf$difference[datadf$subject == ID] = \n",
    "                   unlist(antitrace_avg(tempdf1),use.names=FALSE)[1] - \n",
    "                   unlist(trace_avg(tempdf1),use.names=FALSE)[1]\n",
    "        datadf$catch_score[datadf$subject == ID] = unlist(catch_score(tempdf2),use.names=FALSE)[1]\n",
    "    }\n",
    "        datadf <- aggregate(datadf, by=list(datadf$subject), FUN = mean)\n",
    "    return(datadf)\n",
    "}\n",
    "\n",
    "catch_difference_plot <- function(datadf,xtype='linear',label=FALSE){\n",
    "    \n",
    "    datadf <- catch_difference(datadf)\n",
    "    datadf$subject <- as.character(datadf$subject) # necessary for visualisation\n",
    "    \n",
    "    plot <- ggplot(datadf, aes(x=difference, y=catch_score)) +\n",
    "            geom_point() + xlab(\"Antitrace - Trace\") + ylab(\"Catch Score\")\n",
    "    \n",
    "    if(xtype == 'log'){\n",
    "        plot <- plot + scale_x_continuous(trans='log10')\n",
    "    } else{\n",
    "        plot <- plot\n",
    "    }\n",
    "    plot <- plot + geom_smooth(method=lm) + ylim(0,1) # linear line of best fit\n",
    "    #plot <- plot + geom_point(aes(color = subject))\n",
    "    if(label){\n",
    "        plot <- plot + geom_text(aes(label = subject),check_overlap=TRUE)\n",
    "    }\n",
    "    return(plot)\n",
    "}"
   ]
  },
  {
   "cell_type": "code",
   "execution_count": 50,
   "metadata": {},
   "outputs": [],
   "source": [
    "# trace values vs. trial #\n",
    "trace_by_trial_plot <- function(datadf,graph='point',mode='relative'){\n",
    "    \n",
    "     datadf$subject <- as.character(datadf$subject) # necessary for visualisation  \n",
    "    \n",
    "    datadf <- subset(datadf, Color_1 == Color_2)\n",
    "    \n",
    "    if(mode=='relative'){\n",
    "        datadf <- datadf %>% group_by(subject) %>% mutate(trialnum = row_number())\n",
    "    } else{\n",
    "        datadf$trialnum <- datadf$trial_number\n",
    "    }\n",
    "        \n",
    "    if(graph=='point'){\n",
    "        plot <- ggplot(datadf, aes(x=trialnum, y = similarity, group = subject, color = subject)) + geom_point()\n",
    "    } else if (graph == 'boxplot'){\n",
    "        plot <- ggplot(datadf, aes(x=trialnum,y = similarity, group = trialnum)) + geom_boxplot() #????\n",
    "    } else if (graph == 'lineplot'){\n",
    "        plot <- ggplot(datadf, aes(x=trialnum, y = similarity,group=subject, color = subject)) + geom_line()\n",
    "    }\n",
    "    \n",
    "    plot <- plot + ylab('Dissimilarity') +  theme(legend.position='none')\n",
    "    \n",
    "    return(plot)\n",
    "    \n",
    "}"
   ]
  },
  {
   "cell_type": "code",
   "execution_count": 51,
   "metadata": {},
   "outputs": [],
   "source": [
    "# subject info\n",
    "sumplot <- function(datadf){\n",
    "    \n",
    "    # change ms to s, add the delay for each trial\n",
    "    datadf$response_time <- ((datadf$response_time + 0.125*nrow(datadf)) / 1000)\n",
    "    \n",
    "    plot <- ggplot(datadf, aes(x=subject, y = response_time)) + \n",
    "    stat_summary(fun.y = sum, geom = \"bar\") + ylim(0,1000) +\n",
    "    ylab('Response Time Total') + theme(axis.title.x=element_blank(), axis.text.x = element_text(size=20))\n",
    "    \n",
    "    return(plot)\n",
    "}"
   ]
  },
  {
   "cell_type": "code",
   "execution_count": 52,
   "metadata": {},
   "outputs": [],
   "source": [
    "# plot to show if swaps increase or decrease correlations\n",
    "colour_connect <- function(datadf,swap='random',comparison='FFvPP',fisher=FALSE){\n",
    "    \n",
    "    datadf <- subset(datadf, magnification != 1) # only use scaled data\n",
    "    datadf <- subset(datadf, select=c(comparison,\"ID\",\"mode\"))\n",
    "    datadf <- subset(datadf, (mode == 'identity' | (mode == swap)))\n",
    "    \n",
    "    # had a weird bug so hardcoded for now, sorry\n",
    "    if(swap == 'random'){\n",
    "        datadf <- datadf %>%\n",
    "                    spread(mode,comparison) %>%\n",
    "                    mutate(is_increasing = random > identity) %>%\n",
    "                    gather('mode','comparison',2:3)\n",
    "        fill.colors <- c(\"red\",\"green\")\n",
    "    } else if (swap == 'invert'){\n",
    "        datadf <- datadf %>%\n",
    "                    spread(mode,comparison) %>%\n",
    "                    mutate(is_increasing = invert > identity) %>%\n",
    "                    gather('mode','comparison',2:3)\n",
    "        fill.colors <- c(\"red\",\"blue\")\n",
    "    } else if (swap == 'rotate'){\n",
    "        datadf <- datadf %>%\n",
    "                    spread(mode,comparison) %>%\n",
    "                    mutate(is_increasing = rotate > identity) %>%\n",
    "                    gather('mode','comparison',2:3)\n",
    "        fill.colors <- c(\"red\",\"purple\")\n",
    "    }\n",
    "    \n",
    "                     \n",
    "    \n",
    "    datadf$correlations <- datadf$comparison\n",
    "    # return to non-fisher-transformed correlation if applicable\n",
    "    if(!fisher){\n",
    "        datadf$correlations <- FisherZInv(datadf$correlations)\n",
    "    }\n",
    "    \n",
    "    # plot it\n",
    "    plot <- ggplot(datadf, aes(y=correlations, x=mode,\n",
    "                               #color=mode, \n",
    "                               fill=mode,\n",
    "                               #group=stimulus_radius\n",
    "                              )) +\n",
    "        geom_boxplot(aes(alpha=0.5)) + \n",
    "        geom_point() +\n",
    "        geom_line(aes(x=mode,y=correlations,group=ID,color=is_increasing)) +\n",
    "        scale_colour_manual(values = c(\"black\",\"red\"),guide='none') +\n",
    "        scale_fill_manual(values = fill.colors) +\n",
    "        xlab('Swap') + labs(color = 'Swap') + theme(axis.text.x = element_text(size = 15),\n",
    "                                         axis.text.y = element_text(size = 15),\n",
    "                                         axis.title.y = element_text(size = 20),\n",
    "                                         axis.title.x = element_text(size=20)) +\n",
    "        scale_alpha(guide='none')\n",
    "        \n",
    "    \n",
    "    if(fisher){\n",
    "        plot <- plot + ylab('Fisher-Transformed Correlation') + ylim(-0.6,2.6)\n",
    "    } else {\n",
    "        plot <- plot + ylab('Correlation') + ylim(-0.2,1)\n",
    "    }\n",
    "      #   \n",
    "                    \n",
    "    \n",
    "    return(plot)\n",
    "}\n",
    "\n",
    "#colour_connect(within_distribution_df,swap='random')\n",
    "#colour_connect(within_distribution_df,swap='invert')\n",
    "#colour_connect(within_distribution_df,swap='rotate')"
   ]
  },
  {
   "cell_type": "code",
   "execution_count": 53,
   "metadata": {},
   "outputs": [],
   "source": [
    "# plot a correlation distribution\n",
    "r_distribution_plot <- function(datadf,fisher=TRUE,comparison='FFvPP',title=TRUE,swaps=TRUE,scaling=TRUE,connected=FALSE){\n",
    "    \n",
    "    if(connected){\n",
    "       datadf <- colour_connect(datadf)\n",
    "    }\n",
    "    \n",
    "    if(!scaling){\n",
    "        datadf <- subset(datadf, magnification != 1) # only use the scaled data\n",
    "    }\n",
    "    \n",
    "    if(comparison == 'FFvPP'){\n",
    "        datadf$correlations <- datadf$FFvPP\n",
    "    } else if (comparison == 'FFvFP'){\n",
    "        datadf$correlations <- datadf$FFvFP\n",
    "    } else if (comparison == 'FPvPP'){\n",
    "        datadf$correlations <- datadf$FPvPP\n",
    "    } else if (comparison == 'all'){\n",
    "        if(!swaps){\n",
    "            datadf <- subset(datadf, mode == 'identity') # get rid of the swaps\n",
    "        }\n",
    "        # Change names for plotting purposes\n",
    "        colnames(datadf)[which(names(datadf) == \"FFvPP\")] <- \"CC - PP\"\n",
    "        colnames(datadf)[which(names(datadf) == \"FFvFP\")] <- \"CC - CP\"\n",
    "        colnames(datadf)[which(names(datadf) == \"FPvPP\")] <- \"CP - PP\"\n",
    "\n",
    "        \n",
    "        datadf <- datadf %>% gather(comparison, correlations, 3:5) # gather up the comparisons\n",
    "    }\n",
    "    \n",
    "    # return to non-fisher-transformed correlation if applicable\n",
    "    if(!fisher){\n",
    "        datadf$correlations <- FisherZInv(datadf$correlations)\n",
    "    }\n",
    "    \n",
    "    #testing\n",
    "    #print(head(datadf,10))    \n",
    "    \n",
    "    # swap plotting\n",
    "    if(comparison != 'all'){\n",
    "        \n",
    "        datadf$magnification <- as.character(datadf$magnification) # needed for axes to work properly\n",
    "        datadf$stimulus_radius <- as.character(datadf$stimulus_radius)\n",
    "        \n",
    "        if(scaling){\n",
    "            if(swaps){\n",
    "                plot <- ggplot(datadf, aes(y=correlations, x=stimulus_radius,color=mode))\n",
    "            } else {\n",
    "                plot <- ggplot(datadf, aes(y=correlations, x=stimulus_radius))\n",
    "            }\n",
    "            plot <- plot + \n",
    "        xlab('Stimulus Size (DVA)') + labs(color = 'Swap') + theme(axis.text.x = element_text(size = 20),\n",
    "                                         axis.text.y = element_text(size = 20),\n",
    "                                         axis.title.y = element_text(size = 25),\n",
    "                                         axis.title.x = element_text(size=25))\n",
    "        } else if(!scaling) {\n",
    "            plot <- ggplot(datadf, aes(y=correlations, x=mode,\n",
    "                                   color=mode, \n",
    "                                   #fill=mode,\n",
    "                                   #group=stimulus_radius\n",
    "                                  )\n",
    "                                  ) +\n",
    "        xlab('Swap') + labs(color = 'Swap') + theme(axis.text.x = element_text(size = 15),\n",
    "                                         axis.text.y = element_text(size = 15),\n",
    "                                         axis.title.y = element_text(size = 20),\n",
    "                                         axis.title.x = element_text(size=20))\n",
    "        }\n",
    "        if(connected){\n",
    "            plot <- plot + geom_line(aes(x=mode,y=correlations,group=ID))\n",
    "        }\n",
    "        \n",
    "    }\n",
    "    # comparison plotting\n",
    "    if(comparison == 'all'){\n",
    "        plot <- ggplot(datadf, aes(y=correlations, x=comparison,\n",
    "                                  #color=mode\n",
    "                                  )) +\n",
    "                        xlab(\"\") + theme(axis.text.x = element_text(size = 15),\n",
    "                                         axis.text.y = element_text(size = 15),\n",
    "                                         axis.title.y = element_text(size = 18))\n",
    "                        \n",
    "    }\n",
    "    \n",
    "    \n",
    "    # generic stuff\n",
    "    if(fisher){\n",
    "        plot <- plot + ylab('Fisher-Transformed Correlation') + ylim(-0.6,2.6)\n",
    "    } else {\n",
    "        plot <- plot + ylab('Correlation') + ylim(-0.2,1)\n",
    "    }\n",
    "    plot <- plot + geom_point(position=position_dodge(width=0.75)) + \n",
    "        geom_boxplot(aes(alpha=0.01)) + \n",
    "        scale_alpha(guide='none') \n",
    "    \n",
    "    if(title){\n",
    "        plot <- plot + ggtitle(paste(\"Comparison:\",comparison,\"---\",\"Magnification:\",datadf$magnification[1])) +\n",
    "            theme(plot.title = element_text(hjust = 0.5))\n",
    "    }\n",
    "    \n",
    "    return(plot)\n",
    "    \n",
    "}\n",
    "#r_distribution_plot(testdf,fisher=FALSE,comparison='all',title=FALSE)\n",
    "#r_distribution_plot(cleandf)\n"
   ]
  },
  {
   "cell_type": "code",
   "execution_count": 54,
   "metadata": {},
   "outputs": [],
   "source": [
    "#head(within_distribution_df)"
   ]
  },
  {
   "cell_type": "markdown",
   "metadata": {},
   "source": [
    "#### Check their screen size & viewing distance"
   ]
  },
  {
   "cell_type": "code",
   "execution_count": 55,
   "metadata": {},
   "outputs": [],
   "source": [
    "# screen size in mm\n",
    "screen_size <- function(datadf){\n",
    "    \n",
    "    datadf <- subset(datadf, trialcode == 'centermouse') # make sure calibrations have finished first\n",
    "    \n",
    "    width <- as.numeric(substr(as.character(datadf$screen_size_x)[1],1,6))\n",
    "    height <- as.numeric(substr(as.character(datadf$screen_size_y)[1],1,6))\n",
    "    \n",
    "    # use pythagoras to just get the hypotenuse. Subjects have a fixed 16/9 aspect ratio so these are all comparable\n",
    "    return(sqrt(width*width + height*height))\n",
    "}"
   ]
  },
  {
   "cell_type": "code",
   "execution_count": 56,
   "metadata": {},
   "outputs": [],
   "source": [
    "# viewing distance in mm\n",
    "view_distance <- function(datadf){\n",
    "    return(as.numeric(substr(as.character(datadf$viewer_distance)[1],1,6)))\n",
    "}"
   ]
  },
  {
   "cell_type": "markdown",
   "metadata": {},
   "source": [
    "### Statistics"
   ]
  },
  {
   "cell_type": "markdown",
   "metadata": {},
   "source": [
    "Useful functions"
   ]
  },
  {
   "cell_type": "code",
   "execution_count": 57,
   "metadata": {},
   "outputs": [],
   "source": [
    "# compare the foveal and peripheral matrices to each other\n",
    "fvp_test <- function(datadf,dependent='color'){\n",
    "    \n",
    "    if(dependent=='position'){\n",
    "        # first, turn the dataframe into the relevant matrices\n",
    "        fmatrix <- df2mat(datadf, l2e('Foveal'), l2e('Foveal'),'position')\n",
    "        #fpmatrix <- distmatrix(datadf, l2e('Foveal'), l2e('Peripheral'))\n",
    "        pmatrix <- df2mat(datadf, l2e('Peripheral'), l2e('Peripheral'),'position')\n",
    "    } else{\n",
    "        # first, turn the dataframe into the relevant matrices\n",
    "        fmatrix <- df2mat(datadf, l2e('Foveal'), l2e('Foveal'))\n",
    "        #fpmatrix <- distmatrix(datadf, l2e('Foveal'), l2e('Peripheral'))\n",
    "        pmatrix <- df2mat(datadf, l2e('Peripheral'), l2e('Peripheral'))\n",
    "    }\n",
    "    #Fovea vs Periphery\n",
    "    test <- mantel(fmatrix, pmatrix, method=\"spearman\",permutations = 9999)\n",
    "    return(test)\n",
    "}"
   ]
  },
  {
   "cell_type": "code",
   "execution_count": 58,
   "metadata": {},
   "outputs": [],
   "source": [
    "# compare the each of the foveal and peripheral matrices to a random uniform distribution using a ... test\n",
    "# not actually sure this is conceptually possible or even makes sense\n",
    "rand_test <- function(datadf){\n",
    "    \n",
    "    # first, turn the dataframe into the relevant matrices\n",
    "    fmatrix <- df2mat(datadf, l2e('Foveal'), l2e('Foveal'))\n",
    "    #fpmatrix <- distmatrix(datadf, l2e('Foveal'), l2e('Peripheral'))\n",
    "    pmatrix <- df2mat(datadf, l2e('Peripheral'), l2e('Peripheral'))\n",
    "    \n",
    "    \n",
    "    # compare\n",
    "    ftest <- \n",
    "    ptest <- \n",
    "    return(list(\"ftest\" = ftest, \"ptest\" = ptest)) # use index of result to get the foveal or peripheral comparison\n",
    "}\n",
    "\n"
   ]
  },
  {
   "cell_type": "code",
   "execution_count": 59,
   "metadata": {},
   "outputs": [],
   "source": [
    "# calculate trace average, small values presumably indicate subjects not just saying everything is completely dissimilar\n",
    "# will also need a complementary method to deal with them saying everything is the same? Might be an inappropriate\n",
    "# a-priori imposition though, I probably can't tell people how similar different colours should be...\n",
    "\n",
    "trace_avg <- function(datadf){\n",
    "    \n",
    "    # first, turn the dataframe into the relevant matrices\n",
    "    fmatrix <- df2mat.full(datadf, l2e('Foveal'), l2e('Foveal'))\n",
    "    #fpmatrix <- distmatrix(datadf, l2e('Foveal'), l2e('Peripheral'))\n",
    "    pmatrix <- df2mat.full(datadf, l2e('Peripheral'), l2e('Peripheral'))\n",
    "    \n",
    "    \n",
    "    \n",
    "    return(list( (sum(diag(fmatrix))/nrow(fmatrix)), (sum(diag(pmatrix))/nrow(pmatrix))))\n",
    "}"
   ]
  },
  {
   "cell_type": "code",
   "execution_count": 60,
   "metadata": {},
   "outputs": [],
   "source": [
    "# calculate the average of the main or off-main diagonal for a QDM for a group of subjects\n",
    "group_trace <- function(datadf,QDM='FP',mode='trace'){\n",
    "    subjectlist <- sort(unique(datadf$subject)) # obtain a list of all the subjects\n",
    "    \n",
    "    trace.vec <- vector()\n",
    "    \n",
    "    for (subjectid in subjectlist){\n",
    "        tempdf <- subset(datadf, subject == subjectid)\n",
    "        if(QDM=='FF'){\n",
    "            matrix <- df2mat.full(tempdf, l2e('Foveal'),l2e('Foveal'))\n",
    "        } else if (QDM == 'FP'){\n",
    "            matrix <- df2mat.full(tempdf, l2e('Foveal'),l2e('Peripheral'))\n",
    "        } else if (QDM == 'PP'){\n",
    "            matrix <- df2mat.full(tempdf, l2e('Peripherial'),l2e('Peripheral'))\n",
    "        }\n",
    "        \n",
    "        #obtain relevant value\n",
    "        if(mode == 'trace'){\n",
    "            trace <- sum(diag(matrix))/nrow(matrix)\n",
    "        } else if (mode=='antitrace'){\n",
    "            trace <- antitrace(matrix)\n",
    "        }\n",
    "        \n",
    "        trace.vec <- c(trace.vec, trace)\n",
    "    }\n",
    "    return(trace.vec)\n",
    "}"
   ]
  },
  {
   "cell_type": "code",
   "execution_count": 61,
   "metadata": {},
   "outputs": [],
   "source": [
    "group_trace_plot <- function(datadf,QDM='FP'){\n",
    "    \n",
    "    subjects <- unique(datadf$subject)\n",
    "    Main <- group_trace(datadf,QDM=QDM,mode='trace')\n",
    "    Antimain <- group_trace(datadf,QDM=QDM,mode='antitrace')\n",
    "    \n",
    "    tempdf <- data.frame(subjects,Main,Antimain)\n",
    "    tempdf <- tempdf %>% gather(feature,value,Main:Antimain)\n",
    "    \n",
    "    plot <- ggplot(tempdf, aes(x=feature,y=value)) + \n",
    "        geom_boxplot() + geom_point() + geom_line(aes(group=paired)) +\n",
    "        ylab(\"Dissimilarity\") + xlab(\"\") + scale_x_discrete(limits=rev(levels(as.factor(tempdf$feature))))\n",
    "    return(plot)\n",
    "}"
   ]
  },
  {
   "cell_type": "code",
   "execution_count": 62,
   "metadata": {},
   "outputs": [],
   "source": [
    "# find the 'anti-trace' of a matrix\n",
    "antitrace <- function(mat){\n",
    "    \n",
    "    sum = 0\n",
    "    for(i in (1:nrow(mat))){\n",
    "        k = as.numeric(mat[ i, as.integer((ncol(mat)/2+i) %% ncol(mat))+1 ])\n",
    "        sum = sum + k\n",
    "    }\n",
    "    return(sum/nrow(mat))\n",
    "}"
   ]
  },
  {
   "cell_type": "code",
   "execution_count": 63,
   "metadata": {},
   "outputs": [],
   "source": [
    "# calculates the average of the 'anti-trace', the values I'd expect to be the most dissimilar.\n",
    "# this may not be an appropriate imposition on subjects...\n",
    "\n",
    "antitrace_avg <- function(datadf){\n",
    "    \n",
    "    # first, turn the dataframe into the relevant matrices\n",
    "    fmatrix <- df2mat.full(datadf, l2e('Foveal'), l2e('Foveal'))\n",
    "    #fpmatrix <- distmatrix(datadf, l2e('Foveal'), l2e('Peripheral'))\n",
    "    pmatrix <- df2mat.full(datadf, l2e('Peripheral'), l2e('Peripheral'))\n",
    "    \n",
    "    return(list(antitrace(fmatrix), antitrace(pmatrix)))\n",
    "}"
   ]
  },
  {
   "cell_type": "code",
   "execution_count": 64,
   "metadata": {},
   "outputs": [],
   "source": [
    "# just get a simple measure of if the matrices are correlated, irrespective of treating them as distance matrices\n",
    "# updated from df2mat to df2mat.full\n",
    "# half version just uses half the matrix as it's symmetrical anyway\n",
    "matrixcor <- function(datadf,M1='FF',M2='PP',dependent='color', mode='half'){\n",
    "    \n",
    "    if(dependent == 'position'){\n",
    "        # first, turn the dataframe into the relevant matrices\n",
    "        matrix1 <- df2mat.full(datadf, l2e('Foveal'), l2e('Foveal'),'position')\n",
    "        #fpmatrix <- distmatrix(datadf, l2e('Foveal'), l2e('Peripheral'))\n",
    "        matrix2 <- df2mat.full(datadf, l2e('Peripheral'), l2e('Peripheral'),'position')\n",
    "    } else {\n",
    "        if((M1 == 'FF' & M2 == 'PP') | (M1 == 'PP' & M2 == 'FF')){\n",
    "            matrix1 <- df2mat.full(datadf, l2e('Foveal'), l2e('Foveal'))\n",
    "            matrix2 <- df2mat.full(datadf, l2e('Peripheral'), l2e('Peripheral'))   \n",
    "        } else if((M1 == 'FF' & M2 == 'FP') | (M1 == 'FP' & M2 == 'FF')) {\n",
    "            matrix1 <- df2mat.full(datadf, l2e('Foveal'), l2e('Foveal'))\n",
    "            matrix2 <- df2mat.full(datadf, l2e('Foveal'), l2e('Peripheral'))\n",
    "        } else if ((M1 == 'FP' & M2 == 'PP') | (M1 == 'PP' & M2 == 'FP')){\n",
    "            matrix1 <- df2mat.full(datadf, l2e('Foveal'), l2e('Peripheral'))\n",
    "            matrix2 <- df2mat.full(datadf, l2e('Peripheral'), l2e('Peripheral'))\n",
    "        }\n",
    "    }\n",
    "    \n",
    "    # just take the upper half (including the diagonal)\n",
    "    if(mode=='half'){\n",
    "        matrix1 <- matrix1[upper.tri(matrix1, diag = TRUE)]\n",
    "        matrix2 <- matrix2[upper.tri(matrix2, diag = TRUE)]\n",
    "    }\n",
    "    \n",
    "    return(cor(c(matrix1), c(matrix2), method = \"spearman\"))\n",
    "}"
   ]
  },
  {
   "cell_type": "code",
   "execution_count": 65,
   "metadata": {},
   "outputs": [],
   "source": [
    "# get median reaction time\n",
    "rt_avg <- function(datadf){\n",
    "    return(median(datadf$response_time))\n",
    "}"
   ]
  },
  {
   "cell_type": "markdown",
   "metadata": {},
   "source": [
    "Run the analysis"
   ]
  },
  {
   "cell_type": "code",
   "execution_count": 66,
   "metadata": {},
   "outputs": [],
   "source": [
    "# stats for all the subjects\n",
    "allsubjectstats <- function(datadf){\n",
    "    \n",
    "    subjectlist <- sort(unique(datadf$subject)) # obtain a list of all the subjects\n",
    "\n",
    "\n",
    "    for (subjectid in subjectlist){\n",
    "        \n",
    "        subjectdf = subset(datadf, subject == subjectid) # select the df for subject of interest\n",
    "        cat(\"SUBJECT: \",subjectid,'\\n') # print subject id\n",
    "        print(\"Mantel Test: \")\n",
    "        print(fvp_test(subjectdf))\n",
    "        print(\"Matrices correlation: \")\n",
    "        print(matrixcor(subjectdf))\n",
    "        print(\"Quality control measures:\")\n",
    "        print(\"Trace average:\")\n",
    "        print(trace_avg(subjectdf))\n",
    "        print(\"Anti-trace average:\")\n",
    "        print(antitrace_avg(subjectdf))\n",
    "    }\n",
    "}"
   ]
  },
  {
   "cell_type": "code",
   "execution_count": 67,
   "metadata": {
    "scrolled": true
   },
   "outputs": [],
   "source": [
    "# function to aggregate everyone's data together\n",
    "aggregate_df <- function(datadf,dependent='color'){\n",
    "\n",
    "    # aggregate everyone's data together for the matrices\n",
    "    everyonedata <- aggregate(datadf, by=list(\n",
    "        datadf$Color_1,\n",
    "        datadf$Color_2,\n",
    "        datadf$Circle_1,\n",
    "        datadf$Circle_2,\n",
    "        datadf$bin1,\n",
    "        datadf$bin2\n",
    "        ), FUN=mean, \n",
    "    )\n",
    "\n",
    "    # correct the column names\n",
    "    everyonedata$Color_1 <- everyonedata$Group.1\n",
    "    everyonedata$Color_2 <- everyonedata$Group.2\n",
    "    everyonedata$Circle_1 <- everyonedata$Group.3\n",
    "    everyonedata$Circle_2 <- everyonedata$Group.4\n",
    "    everyonedata$bin1 <- everyonedata$Group.5\n",
    "    everyonedata$bin2 <- everyonedata$Group.6\n",
    "    \n",
    "    return(everyonedata)\n",
    "}"
   ]
  },
  {
   "cell_type": "code",
   "execution_count": 68,
   "metadata": {},
   "outputs": [],
   "source": [
    "# compliance checker\n",
    "compliance_checker <- function(datadf,eccentricity,trace_cutoff,antitrace_cutoff){\n",
    "    \n",
    "    subjectlist <- sort(unique(datadf$subject)) # obtain a list of all the subjects\n",
    "    n_subject = length(subjectlist)\n",
    "    trace_fail = 0\n",
    "    antitrace_fail = 0\n",
    "    \n",
    "    if(eccentricity == 'Foveal'){\n",
    "        e_ind = 1\n",
    "    } else if (eccentricity == 'Peripheral'){\n",
    "        e_ind = 2\n",
    "    }\n",
    "\n",
    "    for (subjectid in subjectlist){\n",
    "        subjectdf = subset(datadf, subject == subjectid) # select the df for subject of interest\n",
    "        if(trace_avg(subjectdf)[e_ind] > trace_cutoff){\n",
    "            trace_fail = trace_fail + 1\n",
    "        }\n",
    "        if(antitrace_avg(subjectdf)[e_ind] < antitrace_cutoff){\n",
    "            antitrace_fail = antitrace_fail + 1\n",
    "        }\n",
    "    }\n",
    "    print(paste(\"Trace non-compliance: \",trace_fail,\"/\",n_subject))\n",
    "    print(paste(\"Anti-trace non-compliance: \",antitrace_fail,\"/\",n_subject))\n",
    "}"
   ]
  },
  {
   "cell_type": "code",
   "execution_count": 69,
   "metadata": {},
   "outputs": [],
   "source": [
    "# calculate the catch trial score for a subject\n",
    "catch_score <- function(datadf){\n",
    "    datadf <- subset(datadf, trial_type == 'catch')\n",
    "    datadf$correct <- ifelse(as.character(datadf$similarity) == as.character(datadf$catch_vals), 1, 0) # determine whether they got the catch trials right\n",
    "    score <- sum(datadf$correct)/nrow(datadf) # get the score\n",
    "    return(score)\n",
    "}"
   ]
  },
  {
   "cell_type": "code",
   "execution_count": 70,
   "metadata": {},
   "outputs": [],
   "source": [
    "# catch trial checker\n",
    "catch_trial_checker <- function(datadf){\n",
    "    \n",
    "    subjectlist <- sort(unique(datadf$subject))\n",
    "    print(\"Catch scores\")\n",
    "    for (subjectid in subjectlist){\n",
    "        subjectdf = subset(datadf, subject == subjectid)\n",
    "        \n",
    "        catch_trials <- subset(subjectdf, trial_type == 'catch')\n",
    "        catch_num = nrow(catch_trials)\n",
    "        catch_correct = nrow(subset(catch_trials, as.character(catch_vals) == as.character(similarity))) # had to add the as.character to block a bug, don't know why\n",
    "        \n",
    "        print(paste(\"Subject\",subjectid,\":\",catch_correct,\"/\",catch_num))\n",
    "    }\n",
    "}"
   ]
  },
  {
   "cell_type": "code",
   "execution_count": 71,
   "metadata": {},
   "outputs": [],
   "source": [
    "# screen parameters\n",
    "screen_parameters <- function(datadf,individual=FALSE){\n",
    "    \n",
    "    subjectlist <- sort(unique(datadf$subject))\n",
    "    print(\"Screen Parameters\")\n",
    "    screen_fail = 0\n",
    "    viewing_fail = 0\n",
    "    for (subjectid in subjectlist){\n",
    "\n",
    "        subjectdf = subset(datadf, subject == subjectid)\n",
    "        \n",
    "        screen_size <- round(screen_size(subjectdf)/10,1)\n",
    "        viewing_distance <- round(view_distance(subjectdf)/10,1)\n",
    "        \n",
    "        if(screen_size < 20){screen_fail = screen_fail + 1}\n",
    "        if(viewing_distance < 30){viewing_fail = viewing_fail + 1}\n",
    "        \n",
    "        if(individual){\n",
    "            print(paste(\"Subject\",subjectid,\":\"))\n",
    "            print(paste(\"Screen size:\",screen_size,\"cm\"))\n",
    "            print(paste(\"Viewing distance:\",viewing_distance,\"cm\"))\n",
    "            print(\"\")\n",
    "        }\n",
    "        \n",
    "        \n",
    "    }\n",
    "    print(\"\")\n",
    "    print(paste(\"Screen size issues:\",screen_fail,\"/\",length(subjectlist)))\n",
    "    print(paste(\"Viewing distance issues:\",viewing_fail,\"/\",length(subjectlist)))\n",
    "}"
   ]
  },
  {
   "cell_type": "code",
   "execution_count": 72,
   "metadata": {},
   "outputs": [],
   "source": [
    "# summary stats\n",
    "summarystats <- function(datadf,dependent='color'){\n",
    "    if(dependent=='position'){\n",
    "        print(\"Mantel Test: \")\n",
    "        print(fvp_test(aggregate_df(datadf),'position'))\n",
    "        print(\"Matrices correlation: \")\n",
    "        print(matrixcor(aggregate_df(datadf),'position'))\n",
    "    } else {\n",
    "        print(\"Mantel Test: \")\n",
    "        print(fvp_test(aggregate_df(datadf)))\n",
    "        print(\"Matrices correlation: \")\n",
    "        print(matrixcor(aggregate_df(datadf)))\n",
    "    }\n",
    "    \n",
    "    \n",
    "    print(\"Foveal compliance:\")\n",
    "    compliance_checker(datadf,'Foveal')\n",
    "    print(\"Peripheral compliance:\")\n",
    "    compliance_checker(datadf,'Peripheral')\n",
    "}"
   ]
  },
  {
   "cell_type": "markdown",
   "metadata": {},
   "source": [
    "### Get structural measures"
   ]
  },
  {
   "cell_type": "markdown",
   "metadata": {},
   "source": [
    "##### Triangle Inequality Tests"
   ]
  },
  {
   "cell_type": "code",
   "execution_count": 73,
   "metadata": {},
   "outputs": [],
   "source": [
    "# test for triangle inequality violation given three values\n",
    "tri.violate <- function(vals){\n",
    "        \n",
    "    vals <- sort(vals) # sort from smallest to largest dissimilarity\n",
    "    if(vals[3] > (vals[1] + vals[2])){ # I think this is all that's needed\n",
    "        return(TRUE)\n",
    "    } else if (vals[2] > vals[1] + vals[3]) { # don't think this is possible\n",
    "        return(TRUE)\n",
    "    } else if (vals[1] > vals[2] + vals[1]){ # don't think this is possible\n",
    "        return(TRUE)\n",
    "    }\n",
    "    else {\n",
    "        return(FALSE)\n",
    "    }\n",
    "}"
   ]
  },
  {
   "cell_type": "code",
   "execution_count": 74,
   "metadata": {},
   "outputs": [],
   "source": [
    "# perform the test across all of a subject's judgments\n",
    "mat.tri.violate <- function(mat){\n",
    "    n.stim <- nrow(mat)\n",
    "    violations <- list()\n",
    "    i.violate = 1\n",
    "    for(i in 1:(n.stim-3)){\n",
    "        for(j in (i+1):(n.stim-2)){\n",
    "            k = 1\n",
    "            while(k < (n.stim-j+1)){\n",
    "                \n",
    "                #testing\n",
    "                #print(paste(\"i:\",i,\"j:\",j,\"k:\",k,\"k+j\",k+j))\n",
    "                \n",
    "                stimuli <- c(i,j,j+k)\n",
    "                d.ij <- mat[i,j]\n",
    "                d.jk <- mat[j,j+k]\n",
    "                d.ik <- mat[i,j+k]\n",
    "                vals <- c(d.ij, d.jk, d.ik)\n",
    "                if(tri.violate(vals)){\n",
    "                    violations[[i.violate]] <- stimuli\n",
    "                    i.violate <- i.violate+1\n",
    "                }\n",
    "                k <- k + 1\n",
    "            }\n",
    "        }\n",
    "    }\n",
    "    return(violations)\n",
    "}"
   ]
  },
  {
   "cell_type": "code",
   "execution_count": 75,
   "metadata": {},
   "outputs": [],
   "source": [
    "# get a score for what proportion of judgments violate triangle inequality in a matrix\n",
    "score.tri.violate <- function(mat){\n",
    "    count <- length(mat.tri.violate(mat))\n",
    "    n.stim <- nrow(mat)\n",
    "    n.combo <- length(combinations(n.stim,3))\n",
    "    return(count/n.combo)\n",
    "}"
   ]
  },
  {
   "cell_type": "code",
   "execution_count": 76,
   "metadata": {},
   "outputs": [],
   "source": [
    "#score.tri.violate(matrix(runif(81),ncol=9))"
   ]
  },
  {
   "cell_type": "markdown",
   "metadata": {},
   "source": [
    "### Rank-order Similarity Tests"
   ]
  },
  {
   "cell_type": "markdown",
   "metadata": {},
   "source": [
    "#### Rank structure matrix method"
   ]
  },
  {
   "cell_type": "markdown",
   "metadata": {},
   "source": [
    "Going to try a rank-order similarity comparison suggested by Nao, related to an analysis already done by Elise"
   ]
  },
  {
   "cell_type": "markdown",
   "metadata": {},
   "source": [
    "##### Obtain rank-cubes"
   ]
  },
  {
   "cell_type": "code",
   "execution_count": 77,
   "metadata": {},
   "outputs": [],
   "source": [
    "# test for rank order violation given two values\n",
    "rank.obtain <- function(vals,invert=FALSE){\n",
    "    if(vals[1] < vals[2]){ # d(x,y) < d(y,z)\n",
    "        rank = -1\n",
    "    } else if (vals[1] == vals[2]){ # d(x,y) = d(y,z)\n",
    "        rank = 0\n",
    "    } else if (vals[1] > vals[2]){ # d(x,y) > d(y,z)\n",
    "        rank = 1\n",
    "    }\n",
    "    if(invert){\n",
    "        return(-rank)\n",
    "    }\n",
    "    return(rank)\n",
    "}"
   ]
  },
  {
   "cell_type": "code",
   "execution_count": 78,
   "metadata": {},
   "outputs": [],
   "source": [
    "# obtain a set of rank-order matrices within-subject\n",
    "# if 'stat' is true, removes bottom triangle to avoid data duplication in statistical analysis\n",
    "rank.mat.obtain <- function(mat,smooth=FALSE,stat=TRUE){\n",
    "    n.stim <- nrow(mat)\n",
    "    mat.list <- list()\n",
    "    for(i in 1:(n.stim)){ # y = i\n",
    "        rank.mat <- matrix(,nrow(mat),ncol(mat))\n",
    "        for(j in 1:(n.stim)){ # x = j\n",
    "            for(k in 1:(n.stim)){ # z = k                \n",
    "                d.xy <- mat[j,i]\n",
    "                d.yz <- mat[i,k]\n",
    "                vals <- c(d.xy, d.yz)\n",
    "                if( (j==i) | (k==i) | (j==k)){ # remove trivial comparisons\n",
    "                    rank <- NA\n",
    "                } else {\n",
    "                    if(smooth){ # rank based on continuous dissimilarities\n",
    "                        rank <- (vals[1] - vals[2])\n",
    "                    } else{ # rank based on binarised dissimilarities\n",
    "                        rank <- rank.obtain(vals)\n",
    "                    }\n",
    "                }\n",
    "                rank.mat[j,k] <- rank # y = i, place value in a x * z matrix\n",
    "            }\n",
    "        }\n",
    "        if(stat){\n",
    "            rank.mat[lower.tri(rank.mat)] <- NA #replace duplicates with NA\n",
    "        }\n",
    "        mat.list[[i]] <- rank.mat # y = i, full x * z matrix\n",
    "    }\n",
    "    return(mat.list)\n",
    "}"
   ]
  },
  {
   "cell_type": "code",
   "execution_count": 79,
   "metadata": {},
   "outputs": [],
   "source": [
    "# plot a rank matrix\n",
    "plot.rank.matrix <- function(mat,title,method='nao'){\n",
    "    \n",
    "    \n",
    "    \n",
    "    if(nrow(mat)==18){ # full matrix\n",
    "        colnames(mat) <- eccens.colors\n",
    "        rownames(mat) <- eccens.colors\n",
    "        cols <- c(colors,colors)\n",
    "    } else if (nrow(mat)==9){ # partial matrix\n",
    "        colnames(mat) <- colors\n",
    "        rownames(mat) <- colors\n",
    "        cols <- colors\n",
    "    }\n",
    "    \n",
    "    longData <- melt(mat)\n",
    "    #longData$Var1 <- as.character(longData$Var1)\n",
    "    #longData$Var2 <- as.character(longData$Var2)\n",
    "    \n",
    "    plot <- ggplot(longData, aes(x = Var2, y=Var1)) + \n",
    "    geom_raster(aes(fill=value)) +\n",
    "    scale_fill_gradientn(colours = c('blue','yellow'),\n",
    "                         limits = c(-1,1), \n",
    "                         breaks=c(-1,0,1),\n",
    "                        na.value='purple')\n",
    "    if(method=='nao'){\n",
    "        plot <- plot + ggtitle(paste('y =',title)) + xlab(\"x\") + ylab(\"z\") +\n",
    "        theme(axis.text.x = element_text(colour=cols,angle=90)) + \n",
    "        theme(axis.text.y = element_text(colour=cols),\n",
    "         plot.title=element_text(hjust = 0.5, colour=stri_sub(title,-7,-1)))\n",
    "    } else if (method=='gradient'){\n",
    "        plot <- plot + ggtitle('Gradient') + xlab(\"\") + ylab(\"\") +\n",
    "        theme(axis.text.x=element_blank(), axis.text.y=element_blank(),\n",
    "             axis.title.x=element_blank(),axis.title.y=element_blank()\n",
    "             )\n",
    "    }\n",
    "    return(plot)\n",
    "}"
   ]
  },
  {
   "cell_type": "code",
   "execution_count": 80,
   "metadata": {},
   "outputs": [],
   "source": [
    "# generic matrix plot stuff\n",
    "plot.rank.mat.generic <- function(mat,\n",
    "                                  col1='blue',col2='yellow',na.col='green',\n",
    "                                  legend.title='value',overall.title='',\n",
    "                                  xlabel='Var2',ylabel='Var1',\n",
    "                                  low.lim=-1,up.lim=1,\n",
    "                                 white=FALSE){\n",
    "    \n",
    "    longData <- melt(mat)\n",
    "    if(white){\n",
    "        grads <- c(col1,'white',col2)\n",
    "    } else {\n",
    "        grads <- c(col1,col2)\n",
    "    }\n",
    "    \n",
    "    plot <- ggplot(longData, aes(x = Var2, y=Var1)) + \n",
    "    geom_raster(aes(fill=value)) +\n",
    "    scale_fill_gradientn(legend.title,colours = grads,\n",
    "                         limits = c(low.lim,up.lim), \n",
    "                         breaks=c(low.lim,0,up.lim),\n",
    "                        na.value=na.col) +\n",
    "    xlab(\"\") + ggtitle(overall.title)\n",
    "\n",
    "    return(plot)\n",
    "}"
   ]
  },
  {
   "cell_type": "code",
   "execution_count": 81,
   "metadata": {},
   "outputs": [],
   "source": [
    "# plot a set of rank-order matrices\n",
    "rank.mat.plot.set <- function(mat.list,label='DEMO',save.str='TEST.png',smooth=TRUE,method='nao'){\n",
    "    k = 1 # counter\n",
    "    plot_list <- list()\n",
    "    \n",
    "    if(smooth){\n",
    "        ll <- -7\n",
    "        ul <- 7\n",
    "    } else {\n",
    "        ll <- -1\n",
    "        ul <- 1\n",
    "    }\n",
    "    \n",
    "    for(mat in mat.list){\n",
    "        title <- paste('y = ',eccens.colors[k])\n",
    "        colnames(mat) <- colors\n",
    "        rownames(mat) <- colors\n",
    "        plot <- plot.rank.mat.generic(mat,overall.title=title,\n",
    "                                       low.lim=ll,up.lim=ul,\n",
    "                                       col1='yellow',col2='blue',\n",
    "                                       xlabel='x',ylabel='y',\n",
    "                                      na.col='green')\n",
    "        \n",
    "        if(method=='nao'){\n",
    "            \n",
    "            cols <- colors\n",
    "            plot <- plot + xlab(\"x\") + ylab(\"z\") +\n",
    "            theme(axis.text.x = element_text(colour=cols,angle=90)) + \n",
    "            theme(axis.text.y = element_text(colour=cols),\n",
    "             plot.title=element_text(hjust = 0.5, colour=stri_sub(title,-7,-1)))\n",
    "        }\n",
    "        \n",
    "        plot_list[[k]] <- as.grob(plot)\n",
    "        k = k + 1\n",
    "    }\n",
    "    title <- textGrob(label, gp=gpar(fontsize=35))\n",
    "    g <- arrangeGrob(grobs = plot_list, ncol = 9, nrow = 2, top=title)\n",
    "    ggsave(save.str,g,height=8,width=39)\n",
    "    return(g)\n",
    "}"
   ]
  },
  {
   "cell_type": "code",
   "execution_count": 82,
   "metadata": {},
   "outputs": [],
   "source": [
    "#testing shit\n",
    "test.rank <- FALSE\n",
    "if(test.rank){\n",
    "    testdf <- subset(datadf, subject == 80499026)\n",
    "    testdata <- dissimdata.subject(testdf)\n",
    "    testmat <- color.eccen.mat(testdata,output='matrix')\n",
    "    testmat.cc <- testmat[1:9,1:9]\n",
    "    testmat.pp <- testmat[10:18,10:18]\n",
    "    #print(testmat.cc)\n",
    "    rankmat.cc <- flatten(rank.mat.obtain(testmat.cc,smooth=TRUE))\n",
    "    rankmat.pp <- flatten(rank.mat.obtain(testmat.pp,smooth=TRUE))\n",
    "    #test.mat <- rankmat.cc-rankmat.pp\n",
    "    #plot.rank.mat.generic(test.mat,low.lim=-7,up.lim=7)\n",
    "    #print(rankmat.cc[[1]])\n",
    "    #rankmat.cc\n",
    "    #rank.mat.plot.set(rankmat.cc)\n",
    "    #dissimplot.full(color.eccen.mat(testdata))\n",
    "    plot.rank.mat.generic(rankmat.cc,low.lim=-7,up.lim=7,col1='yellow',col2='blue',white=TRUE)\n",
    "    plot.rank.mat.generic(rankmat.pp,low.lim=-7,up.lim=7,col1='yellow',col2='blue',white=TRUE)\n",
    "    plot.rank.mat.generic(rankmat.cc-rankmat.pp,low.lim=-7,up.lim=7,col1='yellow',col2='blue',white=TRUE)\n",
    "}\n"
   ]
  },
  {
   "cell_type": "markdown",
   "metadata": {},
   "source": [
    "##### Flatten into one giant matrix"
   ]
  },
  {
   "cell_type": "code",
   "execution_count": 83,
   "metadata": {},
   "outputs": [],
   "source": [
    "# take a set of rank matrices, flatten into one giant matrix\n",
    "flatten <- function(mat.list){\n",
    "    n.mats <- length(mat.list)\n",
    "    x <- sqrt(n.mats)\n",
    "    n.elements <- n.mats*n.mats\n",
    "    flat.mat <- matrix(,n.mats*ceiling(x),n.mats*floor(x))  \n",
    "   \n",
    "    count = 1\n",
    "    \n",
    "    for(i in 1:ceiling(x)){\n",
    "        for(j in 1:floor(x)){\n",
    "\n",
    "            if(count <= length(mat.list)){\n",
    "                flat.mat[((i*n.mats)-(n.mats-1)):((i*n.mats)) , ((j*n.mats)-(n.mats-1)):((j*n.mats))] <- mat.list[[count]]\n",
    "                count = count + 1\n",
    "            }\n",
    "            \n",
    "        }\n",
    "    }\n",
    "    \n",
    "    return(flat.mat)\n",
    "}"
   ]
  },
  {
   "cell_type": "code",
   "execution_count": 84,
   "metadata": {},
   "outputs": [],
   "source": [
    "#flat.test.cc <- flatten(rankmat.cc)\n",
    "#flat.test.pp <- flatten(rankmat.pp)\n",
    "#test.difference <- flat.test.cc == flat.test.pp\n",
    "#test.difference[test.difference==TRUE] = 1\n",
    "#test.difference[test.difference==FALSE] = 0\n",
    "#plot.rank.mat.generic(test.difference,'orange','purple','green')"
   ]
  },
  {
   "cell_type": "code",
   "execution_count": 85,
   "metadata": {},
   "outputs": [],
   "source": [
    "#cor(na.omit(c(flat.test.cc)),na.omit(c(flat.test.pp)),method='spearman')\n",
    "#table(na.omit(c(test.difference)))\n",
    "#cor(flat.test.cc,flat.test.pp,method=\"spearman\")"
   ]
  },
  {
   "cell_type": "code",
   "execution_count": 86,
   "metadata": {},
   "outputs": [],
   "source": [
    "#random simulation\n",
    "#rand.cc <- matrix(sample.int(3,9**3,replace=TRUE)-2,nrow=9*3,ncol=9*3)\n",
    "#rand.pp <- matrix(sample.int(3,9**3,replace=TRUE)-2,nrow=9*3,ncol=9*3)\n",
    "#rand.difference <- rand.cc == rand.pp\n",
    "#rand.difference[test.difference==TRUE] = 1\n",
    "#rand.difference[test.difference==FALSE] = 0\n",
    "#plot.rank.mat.generic(rand.difference,'orange','purple','green')\n",
    "\n",
    "#cor(na.omit(c(rand.cc)),na.omit(c(rand.pp)),method='spearman')\n",
    "#table(na.omit(c(rand.difference)))\n",
    "#cor(flat.test.cc,flat.test.pp,method=\"spearman\")\n",
    "\n",
    "#plot.rank.mat.generic(rand.cc)\n",
    "#plot.rank.mat.generic(rand.pp)"
   ]
  },
  {
   "cell_type": "code",
   "execution_count": 87,
   "metadata": {},
   "outputs": [],
   "source": [
    "#plot <- plot(flatten(rankmat.cc),col=topo.colors)\n",
    "#plot\n",
    "#plot.cc<- plot.rank.mat.generic(flatten(rankmat.cc))\n",
    "#plot.cc\n",
    "#plot.pp<- plot.rank.mat.generic(flatten(rankmat.pp))\n",
    "#plot.pp\n"
   ]
  },
  {
   "cell_type": "markdown",
   "metadata": {},
   "source": [
    "##### Between-subject analyses"
   ]
  },
  {
   "cell_type": "code",
   "execution_count": 88,
   "metadata": {},
   "outputs": [],
   "source": [
    "obtain.subject.rankmat <- function(df,comparison='CC',smooth=FALSE){\n",
    "    #print(subject.df$similarity[1:10]) # testing\n",
    "    subjectdata <- dissimdata.subject(df)\n",
    "    #print(subjectdata$similarity[1:10]) # testing\n",
    "    subjectmat <- color.eccen.mat(subjectdata,output='matrix')\n",
    "    #print(subjectmat[1:10,1:10]) # testing\n",
    "    if(comparison=='CC'){\n",
    "        subjectmat <- subjectmat[1:9,1:9]\n",
    "    } else if (comparison=='CP'){\n",
    "        subjectmat <- subjectmat[1:9,10:18]\n",
    "    } else if (comparison=='PP'){\n",
    "        subjectmat <- subjectmat[10:18,10:18]\n",
    "    }\n",
    "    rankmat <- rank.mat.obtain(subjectmat,smooth)\n",
    "    return(rankmat)\n",
    "}"
   ]
  },
  {
   "cell_type": "code",
   "execution_count": 89,
   "metadata": {},
   "outputs": [],
   "source": [
    "group.rank.mat.list <- function(df,comparison='CC'){\n",
    "    output <- list()\n",
    "    k = 1\n",
    "    subjectlist <- sort(unique(df$subject)) # obtain a list of all the subjects\n",
    "    for(ID in subjectlist){\n",
    "        subject.df <- subset(df, subject == ID)\n",
    "        rankmat <- obtain.subject.rankmat(subject.df,comparison)\n",
    "        output[[k]] <- rankmat\n",
    "        k = k+1\n",
    "    }\n",
    "    return(output)\n",
    "}"
   ]
  },
  {
   "cell_type": "code",
   "execution_count": 90,
   "metadata": {},
   "outputs": [],
   "source": [
    "#function to transpose nesting in lists\n",
    "transpose.lists <- function(nested.list){\n",
    "    outer.length <- length(nested.list) # subjects\n",
    "    inner.length <- length(nested.list[[1]]) # colours\n",
    "    \n",
    "    #initialise a nested list\n",
    "    transpose.entry <- lapply(transpose.entry <- vector(mode='list',outer.length), function(x) x<-matrix(,nrow(nested.list[[1]][[1]]),ncol(nested.list[[1]][[1]])))\n",
    "    #print(transpose.entry) # testing\n",
    "    transpose.list <-list()\n",
    "    for(i in 1:inner.length){\n",
    "        #print(i) # testing\n",
    "        transpose.list[[i]] <- transpose.entry\n",
    "    }\n",
    "    #print(transpose.list)\n",
    "    #print(summary(transpose.list)) #testing\n",
    "    #print(outer.length) # testing\n",
    "    #print(inner.length) # testing\n",
    "    \n",
    "    for(outer.list in 1:outer.length){ # e.g. subject\n",
    "        for(inner.entry in 1:inner.length){ # e.g. colour\n",
    "            #print(paste(\"Outer.list:\",outer.list,\"Inner.entry:\",inner.entry)) # testing\n",
    "            tempmat <- nested.list[[outer.list]][[inner.entry]]\n",
    "            #print(tempmat)\n",
    "            #print(transpose.list[[inner.entry]][[outer.list]]) # testing\n",
    "            transpose.list[[inner.entry]][[outer.list]] <- tempmat\n",
    "            #print(transpose.list[[inner.entry]][[outer.list]]) # testing\n",
    "        }\n",
    "    }\n",
    "    return(transpose.list)\n",
    "}"
   ]
  },
  {
   "cell_type": "code",
   "execution_count": 91,
   "metadata": {},
   "outputs": [],
   "source": [
    "# get a list of the flattened matrices for each subject\n",
    "bs.flat.list <- function(df,comparison='CC',smooth=FALSE){\n",
    "    output <- list()\n",
    "    k = 1\n",
    "    subjectlist <- sort(unique(df$subject)) # obtain a list of all the subjects\n",
    "    for(ID in subjectlist){\n",
    "        subject.df <- subset(df, subject == ID)\n",
    "        rankmat <- obtain.subject.rankmat(subject.df,comparison,smooth)\n",
    "        flatmat <- flatten(rankmat)\n",
    "        #print(flatmat[1:10,1:10]) # testing\n",
    "        output[[k]] <- flatmat\n",
    "        k = k+1\n",
    "    }\n",
    "    return(output)\n",
    "}"
   ]
  },
  {
   "cell_type": "code",
   "execution_count": 92,
   "metadata": {},
   "outputs": [],
   "source": [
    "#testdf <- subset(cleandf, (stimulus_radius == 0.5) & (peripheral_scale == 4.5))\n",
    "#head(testdf,5)\n",
    "#colnames(testdf)\n",
    "#test.list <- bs.flat.list(testdf,comparison='CC')\n",
    "#print(test.list)"
   ]
  },
  {
   "cell_type": "code",
   "execution_count": 93,
   "metadata": {},
   "outputs": [],
   "source": [
    "#test <- c(0,0,0,0,0,0,0,0)\n",
    "#test <- wilcox.test(test, mu = 0, alternative = \"two.sided\")\n",
    "#test$p.value\n",
    "#test$p.value < 0.05\n",
    "#if(TRUE){print('penis')}\n",
    "#test.list[[1]]"
   ]
  },
  {
   "cell_type": "code",
   "execution_count": 94,
   "metadata": {},
   "outputs": [],
   "source": [
    "# check whether cell values in a list of flattened matrices are statistically non-zero\n",
    "flat.zero.test <- function(flat.list, mu = 0, threshold = 0.05, test.mat=FALSE){\n",
    "    count.non.zero = 0\n",
    "    count.cells = 0\n",
    "    output.vec <- vector()\n",
    "    for (i in 1:length(flat.list[[1]])){ # all the cells\n",
    "        cell.vals <- vector()\n",
    "        for (j in 1:length(flat.list)){ # all the matrices\n",
    "            cell.vals <- c(cell.vals,flat.list[[j]][i])\n",
    "        }\n",
    "        if(!all(is.na(cell.vals))){\n",
    "            count.cells = count.cells + 1\n",
    "            test <- wilcox.test(cell.vals, mu = 0, alternative = \"two.sided\")\n",
    "            non.zero <- (test$p.value < threshold)\n",
    "            if(is.na(non.zero)){ # is this appropriate? Do we count the main diagonal?\n",
    "                non.zero <- FALSE\n",
    "            }\n",
    "            if(non.zero){\n",
    "                count.non.zero = count.non.zero + 1\n",
    "            }\n",
    "            if(test.mat){\n",
    "                output.vec <- c(output.vec,non.zero)\n",
    "            }\n",
    "        } else {\n",
    "            output.vec <- c(output.vec,NA)\n",
    "        }\n",
    "        \n",
    "    }\n",
    "    if(test.mat){\n",
    "        output.mat <- matrix(output.vec,nrow(flat.list[[1]]),ncol(flat.list[[1]]))\n",
    "        return(output.mat)\n",
    "    }\n",
    "    return(count.non.zero/count.cells)\n",
    "}"
   ]
  },
  {
   "cell_type": "code",
   "execution_count": 95,
   "metadata": {},
   "outputs": [],
   "source": [
    "#flat.zero.test(test.list,test.mat=TRUE)[1:10,1:10]\n",
    "#flat.zero.test(test.list)"
   ]
  },
  {
   "cell_type": "code",
   "execution_count": 96,
   "metadata": {},
   "outputs": [],
   "source": [
    "#test.average <- Reduce('+',test.list)/length(test.list)\n",
    "#test.average[1:10,1:10]"
   ]
  },
  {
   "cell_type": "code",
   "execution_count": 97,
   "metadata": {},
   "outputs": [],
   "source": [
    "# plot a group of flat matrices\n",
    "flat.group.plot <- function(df,quadrant='CC',label='BLANK', magnification,scale,smooth=FALSE){\n",
    "    \n",
    "    if(smooth){\n",
    "        low.mean = -7\n",
    "        high.mean = 7\n",
    "        low.var = 0\n",
    "        high.var = 7\n",
    "        extra = 'smooth'\n",
    "    }else{\n",
    "        low.mean = -1\n",
    "        high.mean = 1\n",
    "        low.var = 0\n",
    "        high.var = 1\n",
    "        extra = 'discrete'\n",
    "    }\n",
    "    \n",
    "    subject.list <- bs.flat.list(df,comparison=quadrant,smooth)\n",
    "    subjects <- unique(df$subject) # probably correct, haven't verified\n",
    "    k = 1 # counter\n",
    "    plot_list <- list()\n",
    "    # individual subject plots\n",
    "    for(subject in 1:length(subject.list)){\n",
    "        graph <- plot.rank.mat.generic(subject.list[[subject]],low.lim=low.mean,up.lim=high.mean,overall.title=subjects[subject])\n",
    "        plot_list[[k]] <- as.grob(graph)\n",
    "        k = k + 1\n",
    "    }\n",
    "    # add a group average plot\n",
    "    group.average <- Reduce('+',subject.list)/length(subject.list)\n",
    "    group.average.plot <- plot.rank.mat.generic(group.average,legend.title='mean',\n",
    "                                               low.lim=low.mean,up.lim=high.mean)\n",
    "    plot_list[[k]] <- as.grob(group.average.plot)\n",
    "    k = k + 1\n",
    "    \n",
    "    # add a group variance plot\n",
    "    n.cells <- length(c(subject.list[[1]]**2))\n",
    "    #print(n.cells)\n",
    "    # DOCUMENT THIS PROPERLY. STOLEN FROM HERE: https://stackoverflow.com/questions/39351013/standard-deviation-over-a-list-of-matrices-in-r\n",
    "    group.variance <- matrix(apply(sapply(1:n.cells, function(x) unlist(subject.list)[\n",
    "        seq(x, length(unlist(subject.list)), n.cells)]), 2, var), ncol=ncol(group.average))\n",
    "    group.variance.plot <- plot.rank.mat.generic(group.variance, 'orange','purple','green',\n",
    "                                                 legend.title='Variance',low.lim=low.var,up.lim=high.var)\n",
    "    plot_list[[k]] <- as.grob(group.variance.plot)\n",
    "    k = k + 1\n",
    "    \n",
    "    # add a proportion plot\n",
    "    non.zero.pr <- flat.zero.test(subject.list)\n",
    "    plot_list[[k]] <- as.grob(proportion(non.zero.pr))\n",
    "    k = k + 1\n",
    "                                          \n",
    "    # add a mean-by-variance plot\n",
    "    scatter.flat <- plot.flat.mean.var(flat.mean.var(group.average,group.variance),mode='discrete')\n",
    "    plot_list[[k]] <- as.grob(scatter.flat)\n",
    "    k = k +1\n",
    "    \n",
    "    # add a standard group variance plot\n",
    "    group.plot.var <- variance.plot(dissimvar.between(df))\n",
    "    group.plot.var <- group.plot.var + ggtitle('Dissimilarity Variance') + theme(plot.title = element_text(hjust = 0.5))\n",
    "    plot_list[[k]] <- as.grob(group.plot.var)\n",
    "    k = k + 1\n",
    "                                          \n",
    "    # save everything\n",
    "    title <- textGrob(label, gp=gpar(fontsize=35))\n",
    "    x <- round(sqrt(k)) + 1\n",
    "    g <- arrangeGrob(grobs = plot_list, ncol = x, nrow=x, top=title)\n",
    "    ggsave(paste(savestr,\"_Overall_Summary_Plots/Flat_Matrices/\",\n",
    "                 quadrant,'-','Magnification ',magnification,' - ','Scale ',scale,' - ',extra,\"_plot.png\",sep=\"\"),\n",
    "           g,height=x*4,width=x*4)\n",
    "}"
   ]
  },
  {
   "cell_type": "code",
   "execution_count": 98,
   "metadata": {},
   "outputs": [],
   "source": [
    "# same as the flat.group.plot, but group average over the individual plots\n",
    "rank.group.plot <- function(df,quadrant='CC', magnification,scale){\n",
    "    tempdf <- subset(df, peripheral_scale==magnification & stimulus_radius==scale)\n",
    "    label <- paste(quadrant,' - ','Magnification',magnification,' - ','Scale:',scale)\n",
    "    subject.mats <- group.rank.mat.list(tempdf, comparison=quadrant)\n",
    "    \n",
    "    color.mats <- transpose.lists(subject.mats) # flip around nesting of subjects and stimuli\n",
    "    #print(subject.mats)[[1]] # testing\n",
    "    \n",
    "    group_list <- list()\n",
    "    for(mat in 1:length(color.mats)){\n",
    "        test <- (Reduce('+',color.mats[[mat]]))\n",
    "        group_list[[mat]] <- test/length(color.mats[[mat]])\n",
    "    }\n",
    "    \n",
    "    #print(group_list)\n",
    "    \n",
    "    save.str <- paste(savestr,\"_Overall_Summary_Plots/Flat_Matrices/Grouped/\",\n",
    "                 'Magnification ',magnification,' - ','Scale ',scale,' - ',quadrant,\"_group_plot.png\",sep=\"\")\n",
    "    \n",
    "    plots <- rank.mat.plot.set(group_list,label,save.str)\n",
    "    return(plots)\n",
    "}"
   ]
  },
  {
   "cell_type": "code",
   "execution_count": 99,
   "metadata": {},
   "outputs": [],
   "source": [
    "#rank.group.plot(cleandf,quadrant='CC',magnification=4.5,scale=1)"
   ]
  },
  {
   "cell_type": "code",
   "execution_count": 100,
   "metadata": {},
   "outputs": [],
   "source": [
    "# make a histogram for a particular cell from a flat matrix set\n",
    "rank.hist.plot <- function(vals,x,y,z,folder){\n",
    "    data <- data.frame(vals)\n",
    "    plot <- ggplot(data, aes(x=vals)) + geom_histogram(aes(y=stat(density)),binwidth=1) +\n",
    "    ylim(0,1) + xlim(-1.5,1.5)\n",
    "    \n",
    "    # make a title and colour it\n",
    "    title=c('Sim(',x,',',y,') vs Sim(',y,',',z,')')\n",
    "    title.colors <- c('black',stri_sub(x,-7,-1),'black',stri_sub(y,-7,-1),\n",
    "                      'black',stri_sub(y,-7,-1),'black',stri_sub(z,-7,-1),'black')\n",
    "    \n",
    "    graph <- arrangeGrob(plot,\n",
    "                             top = tableGrob(t(title),\n",
    "                                            theme=ttheme_minimal(padding=unit(c(0,2),'mm'),\n",
    "                                                                base_colour = title.colors,\n",
    "                                                                base_size=5)))\n",
    "    \n",
    "    name <- paste(folder,round(runif(1,1,100)),\".png\",sep='') # remove\n",
    "    ggsave(name,graph,height=3,width=3) # remove\n",
    "    return(graph)\n",
    "}"
   ]
  },
  {
   "cell_type": "code",
   "execution_count": 101,
   "metadata": {},
   "outputs": [],
   "source": [
    "# plot the set of histograms for across-subject responses for each cell in a group of flat matrices\n",
    "group.rank.hist.plot <- function(df,quadrant='CC', magnification,scale){\n",
    "    tempdf <- subset(df, peripheral_scale==magnification & stimulus_radius==scale)\n",
    "    label <- paste(quadrant,' - ','Magnification',magnification,' - ','Scale:',scale)\n",
    "    \n",
    "    save.str <- paste(savestr,\"_Overall_Summary_Plots/Flat_Matrices/Histograms/\",\n",
    "                 'Magnification ',magnification,' - ','Scale ',scale,' - ',quadrant,\"_group_plot.png\",sep=\"\")\n",
    "    folder <- paste(stri_sub(save.str,1,-nchar(\"_group_plot.png\")-1),'/',sep='')\n",
    "    dir.create(folder)\n",
    "    \n",
    "    subject.mats <- group.rank.mat.list(tempdf, comparison=quadrant)\n",
    "    \n",
    "    k=1\n",
    "    cell.vals <- vector()\n",
    "    plot_list <- list()\n",
    "    for(colour in 1:length(subject.mats[[1]])){ # for each colour\n",
    "        y <- eccens.colors[colour] # fix this to work for foveal & peripheral\n",
    "        for(cell in 1:length(subject.mats[[1]][[1]])){ # for each cell\n",
    "            for(subject in 1:length(subject.mats)){ # for each subject\n",
    "                   cell.vals <- c(cell.vals,subject.mats[[subject]][[colour]][cell])\n",
    "            }\n",
    "            x <- eccens.colors[cell%%nrow(subject.mats[[1]][[1]])] # fix this to work for foveal & peripheral\n",
    "            z <- eccens.colors[ceiling(cell/nrow(subject.mats[[1]][[1]]))] # fix this to work for foveal & peripheral\n",
    "            plot_list[k] <- rank.hist.plot(cell.vals,x,y,z,folder)\n",
    "            k = k + 1\n",
    "            #print(paste('x',x,'y',y,'z',z)) # testing\n",
    "            if(k>10){return()} # testing\n",
    "            cell.vals <- vector() #reset\n",
    "        }\n",
    "    }\n",
    "    #compile plots\n",
    "    \n",
    "}"
   ]
  },
  {
   "cell_type": "code",
   "execution_count": 102,
   "metadata": {},
   "outputs": [],
   "source": [
    "#group.rank.hist.plot(cleandf,quadrant='CC',magnification=4.5,scale=1)"
   ]
  },
  {
   "cell_type": "code",
   "execution_count": 103,
   "metadata": {},
   "outputs": [],
   "source": [
    "# Demo of how to combo grobs\n",
    "#test1 <- rank.group.plot(cleandf,quadrant='CC',magnification=4.5,scale=1)\n",
    "#test2 <- rank.group.plot(cleandf,quadrant='CC',magnification=1,scale=1)\n",
    "#g <- arrangeGrob(test1,test2,nrow=2)\n",
    "#ggsave(paste(savestr,\"_Overall_Summary_Plots/Flat_Matrices/Grouped/\",\n",
    "#                 \"DEMO_plot.png\",sep=\"\"),\n",
    "#           g,height=15,width=30)"
   ]
  },
  {
   "cell_type": "code",
   "execution_count": 104,
   "metadata": {},
   "outputs": [],
   "source": [
    "# proportion plot\n",
    "proportion <- function(pr){\n",
    "    prop <- 100*pr\n",
    "    non.prop <- 100-prop\n",
    "    vec <- c(prop,non.prop)\n",
    "    #labels <- c('Non-zero','Zero')\n",
    "    labels <- c(paste('Non-zero:',round(prop,1)),paste('Zero: ',round(non.prop,1)))\n",
    "    df <- data.frame(\n",
    "        group = labels, value = c(prop,non.prop))\n",
    "    plot <- ggplot(df, aes(x=\"\", y=value, fill=group)) + geom_bar(width=1, stat= 'identity') +\n",
    "        xlab(\"\") + ylab(\"Proportion Non-zero (nonparametric, p < 0.05)\")\n",
    "    return(plot)\n",
    "}"
   ]
  },
  {
   "cell_type": "code",
   "execution_count": 105,
   "metadata": {},
   "outputs": [],
   "source": [
    "#proportion(flat.zero.test(test.list))"
   ]
  },
  {
   "cell_type": "code",
   "execution_count": 106,
   "metadata": {},
   "outputs": [],
   "source": [
    "#flat.group.plot(testdf,quadrant='CC',label='TEST',magnification=9,scale=9)"
   ]
  },
  {
   "cell_type": "code",
   "execution_count": 107,
   "metadata": {},
   "outputs": [],
   "source": [
    "flat.population.plot <- function(df,quadrant='CC',\n",
    "                                 magnification=4.5,scale=0.5,\n",
    "                                smooth=FALSE){\n",
    "    tempdf <- subset(df, peripheral_scale==magnification & stimulus_radius==scale)\n",
    "    title <- paste(quadrant,' - ','Magnification',magnification,' - ','Scale:',scale)\n",
    "    flat.group.plot(tempdf,quadrant,label=title,magnification,scale,smooth)\n",
    "}"
   ]
  },
  {
   "cell_type": "code",
   "execution_count": 108,
   "metadata": {},
   "outputs": [],
   "source": [
    "#flat.population.plot(cleandf,quadrant='full',smooth=TRUE,scale=1,magnification=1)\n",
    "#flat.population.plot(cleandf,quadrant='full',smooth=TRUE,scale=1,magnification=4.5)\n",
    "#flat.population.plot(cleandf,quadrant='full',smooth=TRUE,scale=0.5,magnification=1)\n",
    "#flat.population.plot(cleandf,quadrant='full',smooth=TRUE,scale=0.5,magnification=4.5)\n",
    "#flat.population.plot(cleandf,quadrant='full',smooth=TRUE,scale=0.25,magnification=1)\n",
    "#flat.population.plot(cleandf,quadrant='full',smooth=TRUE,scale=0.25,magnification=4.5)\n",
    "#flat.population.plot(cleandf,quadrant='full',smooth=TRUE,scale=0.1,magnification=1)\n",
    "#flat.population.plot(cleandf,quadrant='full',smooth=TRUE,scale=0.1,magnification=4.5)\n",
    "#flat.population.plot(cleandf,quadrant='full',smooth=TRUE,scale=0.05,magnification=1)\n",
    "#flat.population.plot(cleandf,quadrant='full',smooth=TRUE,scale=0.05,magnification=4.5)\n",
    "#flat.population.plot(cleandf,quadrant='PP',magnification=1,scale=0.05)"
   ]
  },
  {
   "cell_type": "code",
   "execution_count": 109,
   "metadata": {},
   "outputs": [],
   "source": [
    "#flat.population.plot(cleandf,quadrant='CC',smooth=FALSE,scale=1,magnification=1)\n",
    "#flat.population.plot(cleandf,quadrant='CC',smooth=FALSE,scale=1,magnification=4.5)\n",
    "#flat.population.plot(cleandf,quadrant='CC',smooth=FALSE,scale=0.5,magnification=1)\n",
    "#flat.population.plot(cleandf,quadrant='CC',smooth=FALSE,scale=0.5,magnification=4.5)\n",
    "#flat.population.plot(cleandf,quadrant='CC',smooth=FALSE,scale=0.25,magnification=1)\n",
    "#flat.population.plot(cleandf,quadrant='CC',smooth=FALSE,scale=0.25,magnification=4.5)\n",
    "#flat.population.plot(cleandf,quadrant='CC',smooth=FALSE,scale=0.1,magnification=1)\n",
    "#flat.population.plot(cleandf,quadrant='CC',smooth=FALSE,scale=0.1,magnification=4.5)\n",
    "#flat.population.plot(cleandf,quadrant='CC',smooth=FALSE,scale=0.05,magnification=1)\n",
    "#flat.population.plot(cleandf,quadrant='CC',smooth=FALSE,scale=0.05,magnification=4.5)\n",
    "#flat.population.plot(cleandf,quadrant='PP',magnification=1,scale=0.05)"
   ]
  },
  {
   "cell_type": "code",
   "execution_count": 110,
   "metadata": {},
   "outputs": [],
   "source": [
    "# scatterplot showing variance plotted against mean for these between-subject ranking datasets\n",
    "flat.mean.var <- function(mean.mat,var.mat){\n",
    "    df <- data.frame(c(mean.mat),c(var.mat))\n",
    "    colnames(df) <- c('mean','variance')\n",
    "    return(df)\n",
    "}\n",
    "\n",
    "plot.flat.mean.var <- function(df,mode='?'){\n",
    "    plot <- ggplot(df,aes(x=mean,y=variance)) \n",
    "    \n",
    "    if(mode=='smooth'){\n",
    "        plot <- plot + geom_point() + xlim(-max.DSR,max.DSR) + ylim(0,10)\n",
    "    } else if (mode=='discrete'){\n",
    "        plot <- plot + geom_jitter(height=0.025,width=0.025) + xlim(-1,1) + ylim(0,1.5)\n",
    "    }\n",
    "    return(plot)\n",
    "}"
   ]
  },
  {
   "cell_type": "markdown",
   "metadata": {},
   "source": [
    "#### Gradient Analysis Method"
   ]
  },
  {
   "cell_type": "markdown",
   "metadata": {},
   "source": [
    "Testing a simple rank comparison between subjects. For each individual subject, find the differentiation matrix between colours. Then, compare these matrices between subjects"
   ]
  },
  {
   "cell_type": "code",
   "execution_count": 111,
   "metadata": {},
   "outputs": [],
   "source": [
    "#testmat"
   ]
  },
  {
   "cell_type": "code",
   "execution_count": 112,
   "metadata": {},
   "outputs": [],
   "source": [
    "gradient.mat.obtain <- function(mat){\n",
    "    n.stim <- nrow(mat)\n",
    "    #print(n.stim)\n",
    "    output.mat <- matrix(,nrow(mat),ncol(mat))\n",
    "    for(row in 1:n.stim){\n",
    "        for(col in 1:n.stim){\n",
    "            #print(col)\n",
    "            j <- row\n",
    "            k <- (col+1)%%(ncol(mat)+1)\n",
    "           if(k==0){\n",
    "                k=1\n",
    "            }\n",
    "            vals <- c(mat[row,col], mat[j,k])\n",
    "            \n",
    "            #print(vals)\n",
    "            output.mat[row,col] <- rank.obtain(vals,invert=TRUE)\n",
    "        }\n",
    "    }\n",
    "    return(output.mat)\n",
    "}"
   ]
  },
  {
   "cell_type": "code",
   "execution_count": 113,
   "metadata": {},
   "outputs": [],
   "source": [
    "#gradmat <- gradient.mat.obtain(testmat)\n",
    "#gradmat\n",
    "#plot.rank.matrix(gradmat,'gradient','gradient')"
   ]
  },
  {
   "cell_type": "markdown",
   "metadata": {},
   "source": [
    "### Pathological subject generator"
   ]
  },
  {
   "cell_type": "markdown",
   "metadata": {},
   "source": [
    "Want to test whether the methods below give sane results if participants enter insane data, so let's simulate some and find out"
   ]
  },
  {
   "cell_type": "code",
   "execution_count": 114,
   "metadata": {},
   "outputs": [],
   "source": [
    "# generate pathological subject matrices\n",
    "insane.mats <- function(n.subjects,CC='random',CP='random',PP='random',val=3.5,mu=3.5,sd=2){\n",
    "    \n",
    "    subjects.mat <- list()\n",
    "    # initialise a template\n",
    "    temp.mat <- matrix(,nrow=18,ncol=18)\n",
    "    colnames(temp.mat) <- eccens.colors\n",
    "    rownames(temp.mat) <- eccens.colors\n",
    "    \n",
    "    quadrants <- c('CC','CP','PP')\n",
    "    \n",
    "    for(subject in 1:n.subjects){\n",
    "        subject.mat <- temp.mat\n",
    "        for(quadrant in quadrants){\n",
    "            if(quadrant=='CC'){\n",
    "                type <- CC\n",
    "                co.ords <- c(1,9,1,9)\n",
    "            } else if(quadrant=='CP'){\n",
    "                type <- CP\n",
    "                co.ords <- c(1,9,10,18)\n",
    "            } else if (quadrant=='PP'){\n",
    "                type <- PP\n",
    "                co.ords <- c(10,18,10,18)\n",
    "            }\n",
    "            \n",
    "            # actually set the values\n",
    "            if(type=='random'){\n",
    "                # sneaky way of getting 0.5 increments\n",
    "                vals <- round(runif(n=81,min=0,max=14))\n",
    "                vals <- vals/2\n",
    "            } else if (type=='uniform'){\n",
    "                vals <- rep(val,81)\n",
    "            } else if (type=='gaussian'){\n",
    "                vals <- round(rnorm(81,mean=mu*2,sd=sd*2))/2\n",
    "                vals[vals > 7] <- 7\n",
    "                vals[vals < 0] <- 0\n",
    "            }\n",
    "            #allocate the values\n",
    "            subject.mat[co.ords[1]:co.ords[2],co.ords[3]:co.ords[4]] <- vals\n",
    "            \n",
    "        }\n",
    "        \n",
    "        subject.mat[10:18,1:9] <- t(subject.mat[1:9,10:18])\n",
    "        subjects.mat[[subject]] <- subject.mat\n",
    "    }\n",
    "    \n",
    "    return(subjects.mat)\n",
    "}"
   ]
  },
  {
   "cell_type": "code",
   "execution_count": 115,
   "metadata": {},
   "outputs": [],
   "source": [
    "#insane <- insane.mats(15,CC='uniform',CP='gaussian',PP='random')"
   ]
  },
  {
   "cell_type": "code",
   "execution_count": 12,
   "metadata": {},
   "outputs": [
    {
     "data": {
      "text/html": [
       "3.50846666666667"
      ],
      "text/latex": [
       "3.50846666666667"
      ],
      "text/markdown": [
       "3.50846666666667"
      ],
      "text/plain": [
       "[1] 3.508467"
      ]
     },
     "metadata": {},
     "output_type": "display_data"
    },
    {
     "data": {
      "text/html": [
       "5.19193333333333"
      ],
      "text/latex": [
       "5.19193333333333"
      ],
      "text/markdown": [
       "5.19193333333333"
      ],
      "text/plain": [
       "[1] 5.191933"
      ]
     },
     "metadata": {},
     "output_type": "display_data"
    }
   ],
   "source": [
    "# simulating random selection\n",
    "dis.v <- c(0:7)\n",
    "mean(replicate(10000,mean(sample(dis.v, 3, replace=TRUE))))\n",
    "mean(replicate(10000,var(sample(dis.v, 3, replace=TRUE))))"
   ]
  },
  {
   "cell_type": "markdown",
   "metadata": {},
   "source": [
    "### Local Within-Subject Analysis"
   ]
  },
  {
   "cell_type": "code",
   "execution_count": 116,
   "metadata": {},
   "outputs": [],
   "source": [
    "# get a list of subject matrices based on conditions\n",
    "subject.mats <- function(df,scaling,radius){\n",
    "    subset.df <- subset(df, peripheral_scale == scaling & stimulus_radius == radius)\n",
    "    group.mats <- dissimgroup2matlist(subset.df)\n",
    "    return(group.mats)\n",
    "}"
   ]
  },
  {
   "cell_type": "code",
   "execution_count": 117,
   "metadata": {},
   "outputs": [],
   "source": [
    "#test <- subject.mats(cleandf,1,1)"
   ]
  },
  {
   "cell_type": "code",
   "execution_count": 118,
   "metadata": {},
   "outputs": [],
   "source": [
    "# turn a list of full matrices into difference submatrices (e.g. CC - CP)\n",
    "difference.mats <- function(subject.mats,submat='CCvPP',shuffle=FALSE){\n",
    "    \n",
    "    mat.list <- list()\n",
    "    k = 1\n",
    "    for(i in 1:length(subject.mats)){\n",
    "        mat <- subject.mats[[i]]\n",
    "        CC.mat <- mat[1:9,1:9]\n",
    "        CP.mat <- mat[1:9,10:18]\n",
    "        PP.mat <- mat[10:18,10:18]\n",
    "        \n",
    "        if(shuffle){\n",
    "            CC.mat <- shuffle_matrix(CC.mat)\n",
    "            CP.mat <- shuffle_matrix(CP.mat)\n",
    "            PP.mat <- shuffle_matrix(PP.mat)\n",
    "        }\n",
    "        \n",
    "        if(submat == 'CCvPP'){\n",
    "            out.mat <- CC.mat - PP.mat\n",
    "            colnames(out.mat) <- colnames(PP.mat)\n",
    "        } else if (submat=='CPvPP'){\n",
    "            out.mat <- CP.mat - PP.mat\n",
    "            colnames(out.mat) <- colnames(PP.mat)\n",
    "        } else if (submat=='CCvCP'){\n",
    "            out.mat <- CC.mat - CP.mat\n",
    "            colnames(out.mat) <- colnames(CP.mat)\n",
    "        }\n",
    "        \n",
    "        mat.list[[k]] <- out.mat\n",
    "        k = k + 1\n",
    "    }\n",
    "    return(mat.list)\n",
    "}\n"
   ]
  },
  {
   "cell_type": "code",
   "execution_count": 119,
   "metadata": {},
   "outputs": [],
   "source": [
    "# plot for a group of difference matrices\n",
    "mat.summary.plot <- function(mat,reverse=TRUE,\n",
    "                                 col1='blue',col2='orange',na.col='purple',\n",
    "                                  legend.title='value',overall.title='',\n",
    "                                  xlabel='CC?',\n",
    "                                  ylabel='PP?',\n",
    "                                  low.lim=-2,up.lim=2){\n",
    "   \n",
    "    \n",
    "    # convert to df for plotting purposes\n",
    "    if(reverse){\n",
    "        mat <- mat[nrow(mat):1,]\n",
    "    }\n",
    "    longData <- melt(mat)\n",
    "    \n",
    "    # plot\n",
    "    plot <- ggplot(longData, aes(x = Var2, y=Var1)) + \n",
    "    geom_raster(aes(fill=value)) +\n",
    "    scale_fill_gradientn(legend.title,colours = c(col1,col2),\n",
    "                         limits = c(low.lim,up.lim), \n",
    "                         breaks=c(low.lim,0,up.lim),\n",
    "                        na.value=na.col) +\n",
    "    ggtitle(overall.title) + xlab(xlabel) + ylab(ylabel) + theme(axis.text.x = element_text(angle=90, vjust =0.5,hjust=1))\n",
    "\n",
    "    return(plot)\n",
    "    \n",
    "}"
   ]
  },
  {
   "cell_type": "code",
   "execution_count": 120,
   "metadata": {},
   "outputs": [],
   "source": [
    "#mat.summary.plot(group.mat.average(difference.mats(test)))               # mean plot for a group of difference matrices\n",
    "#mat.summary.plot(mat.variance(difference.mats(test)),low.lim=0,up.lim=7) # variance plot for a group of difference matrices"
   ]
  },
  {
   "cell_type": "code",
   "execution_count": 121,
   "metadata": {},
   "outputs": [],
   "source": [
    "# histogram plot for a cell in a difference matrix\n",
    "cell.hist.plot <- function(v, color1, color2){\n",
    "    df <- data.frame(v)\n",
    "    \n",
    "    plot <- ggplot(df, aes(x=v)) + geom_histogram(binwidth=1) + ggtitle(paste(color1,color2)) +\n",
    "            xlim(-8,8) + ylim(0,length(v))\n",
    "\n",
    "    return(plot)\n",
    "}"
   ]
  },
  {
   "cell_type": "code",
   "execution_count": 122,
   "metadata": {},
   "outputs": [],
   "source": [
    "# plot a sequence of histograms for each cell in a group matrix\n",
    "mat.hist.plot <- function(group.mat, diagnose=FALSE,vals=FALSE){\n",
    "    n.cells <- length(group.mat[[1]])\n",
    "    n.subjects <- length(group.mat)\n",
    "    n.qualia <- nrow(group.mat[[1]])\n",
    "    \n",
    "    if(diagnose){\n",
    "        print(paste('n.cells',n.cells))\n",
    "        print(paste('n.subjects',n.subjects))\n",
    "        print(paste('n.qualia',n.qualia))\n",
    "    }\n",
    "    \n",
    "    plot.list <- list()\n",
    "    k=1\n",
    "    vals.list <- list()\n",
    "    \n",
    "    for(cell in 1:n.cells){\n",
    "        v <- vector()\n",
    "        for(subject in 1:n.subjects){\n",
    "            v <- c(v,group.mat[[subject]][cell])\n",
    "        }\n",
    "        if(vals){\n",
    "            vals.list[[cell]] <- v\n",
    "        } else{\n",
    "            plot <- cell.hist.plot(v, \n",
    "                               rownames(group.mat[[1]])[floor((cell-1)/n.qualia)+1],\n",
    "                               colnames(group.mat[[1]])[((cell-1)%%(n.qualia)) + 1])\n",
    "            plot.list[[k]] <- as.grob(plot)\n",
    "        }\n",
    "        \n",
    "        k = k + 1\n",
    "        if(diagnose){\n",
    "            print(paste('k',k))\n",
    "        }\n",
    "    }\n",
    "    \n",
    "    if(vals){\n",
    "        return(vals.list)\n",
    "    }\n",
    "    \n",
    "    g <- arrangeGrob(grobs = plot.list, ncol = n.qualia, nrow = n.qualia)\n",
    "    ggsave(paste('demo','.png',sep=''),g,height=49,width=49)\n",
    "}"
   ]
  },
  {
   "cell_type": "code",
   "execution_count": 123,
   "metadata": {},
   "outputs": [],
   "source": [
    "#test.mat <- (difference.mats(test))\n",
    "#mat.hist.plot(test.mat)\n",
    "#test.vals <- mat.hist.plot(test.mat,vals=FALSE)\n",
    "#test.vals"
   ]
  },
  {
   "cell_type": "markdown",
   "metadata": {},
   "source": [
    "### Collect all the subject data, save"
   ]
  },
  {
   "cell_type": "code",
   "execution_count": 124,
   "metadata": {},
   "outputs": [],
   "source": [
    "# collect only the statistically relevant data for a ranksubmatrix\n"
   ]
  },
  {
   "cell_type": "code",
   "execution_count": 125,
   "metadata": {},
   "outputs": [],
   "source": [
    "# collect & save the local within-subject data across a set of experiments\n",
    "within.local.int <- function(cleandf,mode='local',submat='CCvPP',diagnose=FALSE){\n",
    "    \n",
    "    magnification_list <- sort(unique(cleandf$peripheral_scale))\n",
    "    stim_sizes <- sort(unique(cleandf$stimulus_radius))\n",
    "    \n",
    "    names <- c('ID','comparison','magnification','size','mean','variance')\n",
    "    return_df <- data.frame(matrix(nrow=0,ncol=length(names))) # initialisation\n",
    "    colnames(return_df) <- names\n",
    "    \n",
    "    for(scale in magnification_list){\n",
    "        temp_scale_df <- subset(cleandf, peripheral_scale == scale)\n",
    "        for(stim_size in stim_sizes){\n",
    "            tempdf <- subset(temp_scale_df, stimulus_radius == stim_size)\n",
    "            subjects <- sort(unique(cleandf$subject))\n",
    "            \n",
    "            group.mats <- dissimgroup2matlist(tempdf) # group mats for each subject\n",
    "            if(mode=='intermediate'){\n",
    "                mls <- test.flat.mats(tempdf,submat=submat)\n",
    "                diff.mats <- flat.diff.mats(mls[[1]],mls[[2]])\n",
    "            } else if(mode=='local'){\n",
    "                diff.mats <- difference.mats(group.mats,submat=submat) # difference mats for each subject\n",
    "            }\n",
    "            \n",
    "            for(subject in 1:length(diff.mats)){ # grab the variance for each subject as the outcome measure\n",
    "                subject.data <- na.omit(c(diff.mats[[subject]]))\n",
    "                subject.mean <- mean(subject.data)\n",
    "                subject.var <- var(subject.data)\n",
    "                \n",
    "                # record data\n",
    "                subject.data <- data.frame(matrix(nrow=1,ncol=length(names)))\n",
    "                colnames(subject.data) <- names\n",
    "                if(diagnose){\n",
    "                    print(subjects[subject])\n",
    "                    print(submat)\n",
    "                    print(scale)\n",
    "                    print(stim_size)\n",
    "                    print(subject.mean)\n",
    "                    print(subject.var)\n",
    "                }\n",
    "                subject.data$ID <- subjects[subject]\n",
    "                subject.data$comparison <- submat\n",
    "                subject.data$magnification <- scale\n",
    "                subject.data$size <- stim_size\n",
    "                subject.data$mean <- subject.mean\n",
    "                subject.data$variance <- subject.var\n",
    "                \n",
    "                return_df <- rbind(return_df,subject.data)\n",
    "            }\n",
    "            \n",
    "        }\n",
    "    }\n",
    "    \n",
    "    save(return_df,file=paste(savestr,mode,\"within.Rda\"))\n",
    "    return(return_df)\n",
    "    \n",
    "}"
   ]
  },
  {
   "cell_type": "code",
   "execution_count": 126,
   "metadata": {},
   "outputs": [],
   "source": [
    "#wl.data <- within.local(cleandf)\n",
    "#w.int.data <- within.local.int(cleandf,mode='intermediate')\n",
    "\n",
    "#head(w.int.data)"
   ]
  },
  {
   "cell_type": "code",
   "execution_count": 279,
   "metadata": {},
   "outputs": [
    {
     "data": {
      "text/html": [
       "<table>\n",
       "<thead><tr><th scope=col>ID</th><th scope=col>comparison</th><th scope=col>magnification</th><th scope=col>size</th><th scope=col>mean</th><th scope=col>variance</th></tr></thead>\n",
       "<tbody>\n",
       "\t<tr><td> 3248455    </td><td>CCvPP       </td><td>1           </td><td>0.05        </td><td> 0.170634921</td><td>1.201843    </td></tr>\n",
       "\t<tr><td>11005010    </td><td>CCvPP       </td><td>1           </td><td>0.05        </td><td> 0.115079365</td><td>1.337302    </td></tr>\n",
       "\t<tr><td>13228849    </td><td>CCvPP       </td><td>1           </td><td>0.05        </td><td>-0.007936508</td><td>1.466072    </td></tr>\n",
       "\t<tr><td>35587329    </td><td>CCvPP       </td><td>1           </td><td>0.05        </td><td> 0.222222222</td><td>2.301018    </td></tr>\n",
       "\t<tr><td>35716339    </td><td>CCvPP       </td><td>1           </td><td>0.05        </td><td> 0.063492063</td><td>1.438184    </td></tr>\n",
       "\t<tr><td>40354804    </td><td>CCvPP       </td><td>1           </td><td>0.05        </td><td>-0.119047619</td><td>1.730791    </td></tr>\n",
       "</tbody>\n",
       "</table>\n"
      ],
      "text/latex": [
       "\\begin{tabular}{r|llllll}\n",
       " ID & comparison & magnification & size & mean & variance\\\\\n",
       "\\hline\n",
       "\t  3248455     & CCvPP        & 1            & 0.05         &  0.170634921 & 1.201843    \\\\\n",
       "\t 11005010     & CCvPP        & 1            & 0.05         &  0.115079365 & 1.337302    \\\\\n",
       "\t 13228849     & CCvPP        & 1            & 0.05         & -0.007936508 & 1.466072    \\\\\n",
       "\t 35587329     & CCvPP        & 1            & 0.05         &  0.222222222 & 2.301018    \\\\\n",
       "\t 35716339     & CCvPP        & 1            & 0.05         &  0.063492063 & 1.438184    \\\\\n",
       "\t 40354804     & CCvPP        & 1            & 0.05         & -0.119047619 & 1.730791    \\\\\n",
       "\\end{tabular}\n"
      ],
      "text/markdown": [
       "\n",
       "| ID | comparison | magnification | size | mean | variance |\n",
       "|---|---|---|---|---|---|\n",
       "|  3248455     | CCvPP        | 1            | 0.05         |  0.170634921 | 1.201843     |\n",
       "| 11005010     | CCvPP        | 1            | 0.05         |  0.115079365 | 1.337302     |\n",
       "| 13228849     | CCvPP        | 1            | 0.05         | -0.007936508 | 1.466072     |\n",
       "| 35587329     | CCvPP        | 1            | 0.05         |  0.222222222 | 2.301018     |\n",
       "| 35716339     | CCvPP        | 1            | 0.05         |  0.063492063 | 1.438184     |\n",
       "| 40354804     | CCvPP        | 1            | 0.05         | -0.119047619 | 1.730791     |\n",
       "\n"
      ],
      "text/plain": [
       "  ID       comparison magnification size mean         variance\n",
       "1  3248455 CCvPP      1             0.05  0.170634921 1.201843\n",
       "2 11005010 CCvPP      1             0.05  0.115079365 1.337302\n",
       "3 13228849 CCvPP      1             0.05 -0.007936508 1.466072\n",
       "4 35587329 CCvPP      1             0.05  0.222222222 2.301018\n",
       "5 35716339 CCvPP      1             0.05  0.063492063 1.438184\n",
       "6 40354804 CCvPP      1             0.05 -0.119047619 1.730791"
      ]
     },
     "metadata": {},
     "output_type": "display_data"
    }
   ],
   "source": [
    "load('intermediate within.Rda')\n",
    "wl.data <- return_df\n",
    "head(wl.data)"
   ]
  },
  {
   "cell_type": "code",
   "execution_count": 358,
   "metadata": {},
   "outputs": [],
   "source": [
    "# test whether some population statistic exceeds some threshold\n",
    "threshold.test <- function(data, threshold, select=FALSE, bl=FALSE){\n",
    "    \n",
    "    data <- subset(data, magnification!=1) # only get the magnified data\n",
    "    if(select != FALSE){\n",
    "        #print(select)\n",
    "        #print(data$eccentricity)\n",
    "        data <- subset(data, eccentricity == select)\n",
    "        #print(head(data))\n",
    "    }\n",
    "    \n",
    "    if(bl){\n",
    "        t.data <- data$variance.corrected\n",
    "    } else {\n",
    "        t.data <- data$variance\n",
    "    }\n",
    "    \n",
    "    test <- t.test(t.data, mu = threshold, alternative='less')\n",
    "    print(test)\n",
    "    print(test$estimate)\n",
    "}"
   ]
  },
  {
   "cell_type": "code",
   "execution_count": 287,
   "metadata": {},
   "outputs": [
    {
     "data": {
      "text/plain": [
       "\n",
       "\tOne Sample t-test\n",
       "\n",
       "data:  local.wl.t\n",
       "t = -1.5112, df = 27, p-value = 0.07118\n",
       "alternative hypothesis: true mean is less than 1\n",
       "95 percent confidence interval:\n",
       "     -Inf 1.019903\n",
       "sample estimates:\n",
       "mean of x \n",
       "0.8434234 \n"
      ]
     },
     "metadata": {},
     "output_type": "display_data"
    },
    {
     "data": {
      "text/html": [
       "<strong>mean of x:</strong> 0.843423358719318"
      ],
      "text/latex": [
       "\\textbf{mean of x:} 0.843423358719318"
      ],
      "text/markdown": [
       "**mean of x:** 0.843423358719318"
      ],
      "text/plain": [
       "mean of x \n",
       "0.8434234 "
      ]
     },
     "metadata": {},
     "output_type": "display_data"
    }
   ],
   "source": [
    "# one sample t-test on whether correlation of pooled &  magnified data exceeds 0.7\n",
    "local.wl.t.data <- subset(wl.data, magnification != 1)\n",
    "\n",
    "local.wl.t <- local.wl.t.data$variance\n",
    "#qqnorm(local.wl.t)\n",
    "#qqline(local.wl.t)\n",
    "\n",
    "local.wl.test <- t.test(local.wl.t, mu = 1.0,alternative='less')\n",
    "local.wl.test\n",
    "local.wl.test$estimate"
   ]
  },
  {
   "cell_type": "code",
   "execution_count": 284,
   "metadata": {},
   "outputs": [
    {
     "data": {
      "image/png": "[encoded data removed]",
      "text/plain": [
       "plot without title"
      ]
     },
     "metadata": {},
     "output_type": "display_data"
    },
    {
     "name": "stdout",
     "output_type": "stream",
     "text": [
      "\n",
      "Call:\n",
      "lm(formula = variance ~ size + magnification + magnification * \n",
      "    size, data = wl.data)\n",
      "\n",
      "Residuals:\n",
      "     Min       1Q   Median       3Q      Max \n",
      "-0.68857 -0.33270 -0.03205  0.23944  1.14553 \n",
      "\n",
      "Coefficients:\n",
      "                      Estimate Std. Error t value Pr(>|t|)    \n",
      "(Intercept)             1.4773     0.1223  12.084  < 2e-16 ***\n",
      "size                   -0.7984     0.2005  -3.983 0.000217 ***\n",
      "magnification4.5       -0.5637     0.1785  -3.158 0.002667 ** \n",
      "size:magnification4.5   0.6556     0.2766   2.370 0.021598 *  \n",
      "---\n",
      "Signif. codes:  0 '***' 0.001 '**' 0.01 '*' 0.05 '.' 0.1 ' ' 1\n",
      "\n",
      "Residual standard error: 0.4779 on 51 degrees of freedom\n",
      "Multiple R-squared:  0.3045,\tAdjusted R-squared:  0.2635 \n",
      "F-statistic: 7.441 on 3 and 51 DF,  p-value: 0.0003167\n",
      "\n"
     ]
    },
    {
     "data": {
      "text/html": [
       "<table>\n",
       "<thead><tr><th></th><th scope=col>2.5 %</th><th scope=col>97.5 %</th></tr></thead>\n",
       "<tbody>\n",
       "\t<tr><th scope=row>(Intercept)</th><td> 1.2318659</td><td> 1.7227383</td></tr>\n",
       "\t<tr><th scope=row>size</th><td>-1.2008752</td><td>-0.3959980</td></tr>\n",
       "\t<tr><th scope=row>magnification4.5</th><td>-0.9220999</td><td>-0.2053938</td></tr>\n",
       "\t<tr><th scope=row>size:magnification4.5</th><td> 0.1003034</td><td> 1.2109417</td></tr>\n",
       "</tbody>\n",
       "</table>\n"
      ],
      "text/latex": [
       "\\begin{tabular}{r|ll}\n",
       "  & 2.5 \\% & 97.5 \\%\\\\\n",
       "\\hline\n",
       "\t(Intercept) &  1.2318659 &  1.7227383\\\\\n",
       "\tsize & -1.2008752 & -0.3959980\\\\\n",
       "\tmagnification4.5 & -0.9220999 & -0.2053938\\\\\n",
       "\tsize:magnification4.5 &  0.1003034 &  1.2109417\\\\\n",
       "\\end{tabular}\n"
      ],
      "text/markdown": [
       "\n",
       "| <!--/--> | 2.5 % | 97.5 % |\n",
       "|---|---|---|\n",
       "| (Intercept) |  1.2318659 |  1.7227383 |\n",
       "| size | -1.2008752 | -0.3959980 |\n",
       "| magnification4.5 | -0.9220999 | -0.2053938 |\n",
       "| size:magnification4.5 |  0.1003034 |  1.2109417 |\n",
       "\n"
      ],
      "text/plain": [
       "                      2.5 %      97.5 %    \n",
       "(Intercept)            1.2318659  1.7227383\n",
       "size                  -1.2008752 -0.3959980\n",
       "magnification4.5      -0.9220999 -0.2053938\n",
       "size:magnification4.5  0.1003034  1.2109417"
      ]
     },
     "metadata": {},
     "output_type": "display_data"
    },
    {
     "data": {
      "image/png": "[encoded data removed]",
      "text/plain": [
       "plot without title"
      ]
     },
     "metadata": {},
     "output_type": "display_data"
    }
   ],
   "source": [
    "wl.data <- subset(wl.data, (size == 1) | (size == 0.05))\n",
    "var.plot(wl.data)\n",
    "mean.plot(wl.data)\n",
    "var.stats(wl.data)"
   ]
  },
  {
   "cell_type": "code",
   "execution_count": 167,
   "metadata": {},
   "outputs": [],
   "source": [
    "# plot within-local data - variance\n",
    "var.plot <- function(data,name,bl=FALSE,eccentricity=FALSE,save=FALSE){\n",
    "    \n",
    "    data$magnification <- as.character(data$magnification) # needed for axes to work properly\n",
    "    data$size <- as.character(data$size)\n",
    "    \n",
    "    \n",
    "    if(eccentricity){\n",
    "        data$eccentricity <- as.character(data$eccentricity)\n",
    "        if(bl){\n",
    "            plot.fixed <- ggplot(subset(data,magnification=='1'), aes(y=variance.corrected, x=eccentricity, \n",
    "                                     color=size)) + ggtitle('Fixed')\n",
    "            plot.magnified <- ggplot(subset(data,magnification!='1'), aes(y=variance.corrected, x=eccentricity, \n",
    "                                     color=size)) + ggtitle('Magnified')\n",
    "        }else {\n",
    "            plot.fixed <- ggplot(subset(data,magnification=='1'), aes(y=variance, x=eccentricity, \n",
    "                                     color=size)) + ggtitle('Fixed')\n",
    "            plot.magnified <- ggplot(subset(data,magnification!='1'), aes(y=variance, x=eccentricity, \n",
    "                                     color=size)) + ggtitle('Magnified')\n",
    "        }\n",
    "        \n",
    "        plot.fixed <- plot.fixed  +\n",
    "                geom_point(position=position_dodge(width=0.75)) + \n",
    "        geom_boxplot(aes(alpha=0.01),position=position_dodge(width=0.75)) + \n",
    "        scale_alpha(guide='none') + ylim(0,1.5)\n",
    "        \n",
    "        plot.magnified <- plot.magnified  +\n",
    "                geom_point(position=position_dodge(width=0.75)) + \n",
    "        geom_boxplot(aes(alpha=0.01),position=position_dodge(width=0.75)) +  \n",
    "        scale_alpha(guide='none') + ylim(0,1.5)\n",
    "        \n",
    "        g <- arrangeGrob(plot.fixed,plot.magnified,nrow=1)\n",
    "        \n",
    "    } else {\n",
    "        if(bl){\n",
    "            plot <- ggplot(data, aes(y=variance.corrected, x=size, color=magnification))\n",
    "        }else {\n",
    "            plot <- ggplot(data, aes(y=variance, x=size, color=magnification))\n",
    "        }\n",
    "        plot <- plot  +\n",
    "                geom_point(position=position_dodge(width=0.75)) + \n",
    "        geom_boxplot(aes(alpha=0.01)) + \n",
    "        scale_alpha(guide='none') \n",
    "        \n",
    "        g <- plot\n",
    "    }\n",
    "    \n",
    "    \n",
    "    \n",
    "    if(save){\n",
    "        ggsave(paste(savestr,name,\".png\"),g,height=6,width=10)\n",
    "    }\n",
    "    \n",
    "    \n",
    "    grid.arrange(g)\n",
    "}"
   ]
  },
  {
   "cell_type": "code",
   "execution_count": 304,
   "metadata": {},
   "outputs": [],
   "source": [
    "# plot within-local data - mean\n",
    "mean.plot <- function(data,name,bl=FALSE,eccentricity=FALSE,save=FALSE){\n",
    "    \n",
    "    data$magnification <- as.character(data$magnification) # needed for axes to work properly\n",
    "    data$size <- as.character(data$size)\n",
    "    \n",
    "    \n",
    "    if(eccentricity){\n",
    "        data$eccentricity <- as.character(data$eccentricity)\n",
    "        if(bl){\n",
    "            plot.fixed <- ggplot(subset(data,magnification=='1'), aes(y=mean.corrected, x=eccentricity, \n",
    "                                     color=size)) + ggtitle('Fixed')\n",
    "            plot.magnified <- ggplot(subset(data,magnification!='1'), aes(y=mean.corrected, x=eccentricity, \n",
    "                                     color=size)) + ggtitle('Magnified')\n",
    "        }else {\n",
    "            plot.fixed <- ggplot(subset(data,magnification=='1'), aes(y=mean, x=eccentricity, \n",
    "                                     color=size)) + ggtitle('Fixed')\n",
    "            plot.magnified <- ggplot(subset(data,magnification!='1'), aes(y=mean, x=eccentricity, \n",
    "                                     color=size)) + ggtitle('Magnified')\n",
    "        }\n",
    "        \n",
    "        plot.fixed <- plot.fixed  +\n",
    "                geom_point(position=position_dodge(width=0.75)) + \n",
    "        geom_boxplot(aes(alpha=0.01),position=position_dodge(width=0.75)) + \n",
    "        scale_alpha(guide='none') \n",
    "        \n",
    "        plot.magnified <- plot.magnified  +\n",
    "                geom_point(position=position_dodge(width=0.75)) + \n",
    "        geom_boxplot(aes(alpha=0.01),position=position_dodge(width=0.75)) +  \n",
    "        scale_alpha(guide='none')  \n",
    "        \n",
    "        g <- arrangeGrob(plot.fixed,plot.magnified,nrow=1)\n",
    "        \n",
    "    } else {\n",
    "        if(bl){\n",
    "            plot <- ggplot(data, aes(y=mean.corrected, x=size, color=magnification))\n",
    "        }else {\n",
    "            plot <- ggplot(data, aes(y=mean, x=size, color=magnification))\n",
    "        }\n",
    "        plot <- plot  +\n",
    "                geom_point(position=position_dodge(width=0.75)) + \n",
    "        geom_boxplot(aes(alpha=0.01)) + \n",
    "        scale_alpha(guide='none') + ylim(-1,1) +\n",
    "        geom_hline(yintercept=0, linetype='dashed')\n",
    "        \n",
    "        g <- plot\n",
    "    }\n",
    "    \n",
    "    \n",
    "    \n",
    "    if(save){\n",
    "        ggsave(paste(savestr,'mean',name,\".png\"),g,height=6,width=10)\n",
    "    }\n",
    "    \n",
    "    \n",
    "    grid.arrange(g)\n",
    "}"
   ]
  },
  {
   "cell_type": "code",
   "execution_count": 13,
   "metadata": {},
   "outputs": [],
   "source": [
    "#wl.var.plot(w.int.data,\"within intermediate\")"
   ]
  },
  {
   "cell_type": "code",
   "execution_count": 158,
   "metadata": {},
   "outputs": [],
   "source": [
    "var.stats <- function(data,eccentricity=FALSE,bl=FALSE){\n",
    "    wl.data <- data\n",
    "    wl.data$size <- as.numeric(wl.data$size)\n",
    "    wl.data$magnification <- as.character(wl.data$magnification)\n",
    "    \n",
    "    if(eccentricity){\n",
    "        if(bl){\n",
    "            local.fit <- lm(formula = variance.corrected ~ eccentricity + size + magnification \n",
    "                            + eccentricity*magnification*size, \n",
    "                            data = wl.data)\n",
    "        } else {\n",
    "            local.fit <- lm(formula = variance ~ eccentricity + size + magnification \n",
    "                            + eccentricity*magnification*size, \n",
    "                            data = wl.data)\n",
    "        }\n",
    "    }\n",
    "    else{\n",
    "        if(bl){\n",
    "            local.fit <- lm(formula = variance.corrected ~ size + magnification + magnification*size, data = wl.data)\n",
    "        } else {\n",
    "            local.fit <- lm(formula = variance ~ size + magnification + magnification*size, data = wl.data)\n",
    "    }\n",
    "    }\n",
    "    \n",
    "    print(summary(local.fit))\n",
    "    confint(local.fit,level=0.95)\n",
    "}\n"
   ]
  },
  {
   "cell_type": "code",
   "execution_count": 129,
   "metadata": {},
   "outputs": [],
   "source": [
    "#var.stats(w.int.data)"
   ]
  },
  {
   "cell_type": "markdown",
   "metadata": {},
   "source": [
    "##### Bayesian version: mu > adjacent colour scores"
   ]
  },
  {
   "cell_type": "markdown",
   "metadata": {},
   "source": [
    "See whether the credible interval for the mean overlaps with some threshold cutoff, e.g. determined by the foveal para-diagonal values. Implement changes according to Gus' method"
   ]
  },
  {
   "cell_type": "code",
   "execution_count": 130,
   "metadata": {},
   "outputs": [],
   "source": [
    "# discrete cdf function\n",
    "cdf.discrete <- function(x,v){\n",
    "    out <- vector()\n",
    "    for(i in 1:length(v)){\n",
    "        k <- sum(v[1:i])\n",
    "        out[i] <- k\n",
    "    }\n",
    "    out.list <- list(x,out)\n",
    "    names(out.list) <- c('x','y')\n",
    "    return(out.list)\n",
    "}"
   ]
  },
  {
   "cell_type": "code",
   "execution_count": 131,
   "metadata": {},
   "outputs": [],
   "source": [
    "#sd(rep(0.1,10))"
   ]
  },
  {
   "cell_type": "code",
   "execution_count": 132,
   "metadata": {},
   "outputs": [],
   "source": [
    "# specify possible values\n",
    "possible <- seq(-7,7,0.5)\n",
    "mu.prior <- rep(1/length(possible),length(possible)) # prior distribution is uniform over possible values"
   ]
  },
  {
   "cell_type": "code",
   "execution_count": 133,
   "metadata": {},
   "outputs": [],
   "source": [
    "# obtain the credible interval for each cell in a difference matrix set\n",
    "ci.mat <- function(diff.mats,ci=0.95){\n",
    "    diff.vals <- mat.hist.plot(diff.mats,vals = TRUE) # distribution of subject values for each cell\n",
    "    \n",
    "    # specify possible values (min to max difference)\n",
    "    possible <- seq(-7,7,0.5)\n",
    "    prior <- rep(1/length(possible),length(possible))\n",
    "    \n",
    "    # for each entry in diff.vals, calculate a credible interval\n",
    "    lb.v <- vector()\n",
    "    ub.v <- vector()\n",
    "    mean.v <- vector()\n",
    "    for(cell in 1:length(diff.vals)){\n",
    "        vals <- diff.vals[[cell]]\n",
    "        # deal with NA cells\n",
    "        if(anyNA(vals)){\n",
    "            lb <- NA\n",
    "            ub <- NA\n",
    "        } else {\n",
    "            # obtain the posterior. Assume normal with unknown mean and sd equal to that from the data (or 0.1 min sd)\n",
    "            fit <- normdp(x=vals,sigma.x=max(sd(vals),0.1), mu=possible, mu.prior=prior,n.mu=length(possible),\n",
    "                      plot=FALSE) \n",
    "            lb <- qnorm((1-ci)/2, mean=fit$mean, sd=sqrt(fit$var))\n",
    "            ub <- qnorm(ci+(1-ci)/2, mean=fit$mean, sd=sqrt(fit$var))\n",
    "        }\n",
    "        \n",
    "        lb.v <- c(lb.v,lb)\n",
    "        ub.v <- c(ub.v,ub)\n",
    "        mean.v <- c(mean.v,fit$mean)\n",
    "        \n",
    "    }\n",
    "    out.list <- list(lb.v,ub.v,mean.v)\n",
    "    names(out.list) <- c('lb','ub','mean')\n",
    "    return(out.list)\n",
    "}"
   ]
  },
  {
   "cell_type": "code",
   "execution_count": 134,
   "metadata": {},
   "outputs": [],
   "source": [
    "# Plot the max(abs(lb,ub)) \n",
    "get.max.bounds <- function(ci.list){\n",
    "    max.v <- vector()\n",
    "    for(i in 1:length(ci.list$lb)){\n",
    "        max.i <- max(abs(ci.list$lb[i]),abs(ci.list$ub[i]))\n",
    "        max.v <- c(max.v,max.i)\n",
    "    }\n",
    "    return(max.v)\n",
    "}\n",
    "\n",
    "# get the proportion less than some threshold\n",
    "ci.prop <- function(bounds,threshold=1){\n",
    "    count <- sum(bounds >= threshold)\n",
    "    return(round(count/length(bounds),2))\n",
    "}"
   ]
  },
  {
   "cell_type": "code",
   "execution_count": 135,
   "metadata": {},
   "outputs": [],
   "source": [
    "#ci.mat <- matrix(get.max.bounds(cis),9,9)\n",
    "#round(ci.mat,2)\n",
    "#mat.summary.plot(ci.mat,low.lim=0,up.lim=3,overall.title='credible interval bound',xlabel='',ylabel='',col1='green',col2='red')\n",
    "#ci.prop(get.max.bounds(cis),1.92)"
   ]
  },
  {
   "cell_type": "code",
   "execution_count": 136,
   "metadata": {},
   "outputs": [],
   "source": [
    "# make a plot, starting with the subset of the original df\n",
    "ci.bayes.plot <- function(df,mats=FALSE,diff.mats=FALSE,submat='CCvPP',title='',out='plot'){\n",
    "    if(mats){\n",
    "        group.mats <- df\n",
    "    } else {\n",
    "        group.mats <- dissimgroup2matlist(df)\n",
    "    }\n",
    "    if(diff.mats){\n",
    "        mls <- test.flat.mats(df,submat=submat)\n",
    "        diff.mats <- flat.diff.mats(mls[[1]],mls[[2]])\n",
    "    } else {\n",
    "        diff.mats <- difference.mats(group.mats,submat=submat)\n",
    "    }\n",
    "    cis <- ci.mat(diff.mats)\n",
    "    ci.mat <- matrix(get.max.bounds(cis),nrow(diff.mats[[1]]),ncol(diff.mats[[1]]))\n",
    "    \n",
    "    if(out=='v'){\n",
    "        out.v <- na.omit(c(ci.mat))\n",
    "        return(out.v)\n",
    "    }\n",
    "    \n",
    "    plot <- mat.summary.plot(ci.mat,low.lim=0,up.lim=4,overall.title=title,xlabel='',ylabel='',col1='white',col2='blue',na.col='green')\n",
    "    return(plot)\n",
    "}"
   ]
  },
  {
   "cell_type": "code",
   "execution_count": 137,
   "metadata": {},
   "outputs": [],
   "source": [
    "ci.summary.plot <- function(df,submat='CCvPP'){\n",
    "    group.mats <- dissimgroup2matlist(df)\n",
    "    diff.mats <- difference.mats(group.mats,submat=submat)\n",
    "    cis <- ci.mat(diff.mats)\n",
    "    \n",
    "    mu <- mean(cis$mean)\n",
    "    ub <- mean(cis$ub)\n",
    "    lb <- mean(cis$lb)\n",
    "    \n",
    "    print(paste('mean',mu))\n",
    "    print(paste('ub',ub))\n",
    "    print(paste('lb',lb))\n",
    "}"
   ]
  },
  {
   "cell_type": "code",
   "execution_count": 138,
   "metadata": {},
   "outputs": [],
   "source": [
    "#test.df <- subset(cleandf, peripheral_scale == 1 & stimulus_radius == 1)"
   ]
  },
  {
   "cell_type": "code",
   "execution_count": 139,
   "metadata": {},
   "outputs": [],
   "source": [
    "#ci.summary.plot(test.df)"
   ]
  },
  {
   "cell_type": "code",
   "execution_count": 140,
   "metadata": {},
   "outputs": [],
   "source": [
    "#ci.bayes.plot(test.df,mats=TRUE,diff.mats=TRUE,out='v')"
   ]
  },
  {
   "cell_type": "code",
   "execution_count": 141,
   "metadata": {},
   "outputs": [],
   "source": [
    "#insane[[1]]\n",
    "\n",
    "#insane <- insane.mats(15,CC='uniform',PP='gaussian',val=4,mu=4)\n",
    "#t.plot(insane,mats=TRUE)\n",
    "#ci.bayes.plot(insane,mats=TRUE)\n",
    "#difference.mats(insane)"
   ]
  },
  {
   "cell_type": "markdown",
   "metadata": {},
   "source": [
    "##### t-score version: mu = 0"
   ]
  },
  {
   "cell_type": "markdown",
   "metadata": {},
   "source": [
    "Obtain & plot the t-score for whether the mean of each difference cell is different to zero  \n",
    "Null hypothesis that mu = 0"
   ]
  },
  {
   "cell_type": "code",
   "execution_count": 142,
   "metadata": {},
   "outputs": [],
   "source": [
    "t.test.mu.zero <- function(cell, out='t', verbose=FALSE){\n",
    "    test <- t.test(cell,\n",
    "                  alternative = c(\"two.sided\"),\n",
    "                  mu = 0,\n",
    "                  conf.level = 0.95)\n",
    "    ci <- test$conf.int\n",
    "    t <- test$statistic\n",
    "    p <- test$p.value\n",
    "    \n",
    "    if(verbose){\n",
    "        print(ci)\n",
    "        print(t)\n",
    "        print(p)\n",
    "    }\n",
    "    if(out=='t'){\n",
    "        return(t)\n",
    "    } else if(out=='ci'){\n",
    "        return(ci)\n",
    "    }\n",
    "    \n",
    "}"
   ]
  },
  {
   "cell_type": "code",
   "execution_count": 143,
   "metadata": {},
   "outputs": [],
   "source": [
    "#max(abs(t.test.mu.zero(test.cell,out='ci')))"
   ]
  },
  {
   "cell_type": "code",
   "execution_count": 144,
   "metadata": {},
   "outputs": [],
   "source": [
    "# make a matrix out of the t-scores for plotting purposes\n",
    "t.mat <- function(difference.mats){\n",
    "    mat.vals <- mat.hist.plot(difference.mats,vals=TRUE)\n",
    "    n.qualia <- nrow(difference.mats[[1]])\n",
    "    out.mat <- matrix(,nrow=n.qualia,ncol=n.qualia)\n",
    "    \n",
    "    for(cell in 1:length(mat.vals)){\n",
    "        t <- t.test.mu.zero(mat.vals[[cell]],'t')\n",
    "        out.mat[cell] <- t\n",
    "    }\n",
    "    return(out.mat)\n",
    "}"
   ]
  },
  {
   "cell_type": "code",
   "execution_count": 145,
   "metadata": {},
   "outputs": [],
   "source": [
    "# make a plot, starting with the subset of the original df\n",
    "t.plot <- function(df,mats=FALSE,submat='CCvPP',title=''){\n",
    "    if(mats){\n",
    "        group.mats <- df\n",
    "    } else {\n",
    "        group.mats <- dissimgroup2matlist(df)\n",
    "    }\n",
    "    \n",
    "    diff.mats <- difference.mats(group.mats,submat=submat)\n",
    "    t.test.mat <- t.mat(diff.mats)\n",
    "    \n",
    "    plot <- mat.summary.plot(t.test.mat, low.lim=-4,up.lim=4,\n",
    "                            xlabel = '', ylabel = '', col1 = 'green', col2='red',overall.title=title,na.col='purple')\n",
    "    return(plot)\n",
    "}"
   ]
  },
  {
   "cell_type": "code",
   "execution_count": 146,
   "metadata": {},
   "outputs": [],
   "source": [
    "#test <- subset(cleandf, stimulus_radius==1 & peripheral_scale == 1)\n",
    "#t.plot(test)"
   ]
  },
  {
   "cell_type": "code",
   "execution_count": 147,
   "metadata": {},
   "outputs": [],
   "source": [
    "#t.test.mat <- t.mat(test.mat)\n",
    "#max(t.test.mat)\n",
    "#min(t.test.mat)\n",
    "#mat.summary.plot(t.test.mat, low.lim=-4,up.lim=1.5)"
   ]
  },
  {
   "cell_type": "markdown",
   "metadata": {},
   "source": [
    "##### t-score version: mu > adjacent colour scores"
   ]
  },
  {
   "cell_type": "markdown",
   "metadata": {},
   "source": [
    "Obtain & plot whether the confidence interval of the mean overlaps with some threshold dissimilarity value for each cell"
   ]
  },
  {
   "cell_type": "code",
   "execution_count": 148,
   "metadata": {},
   "outputs": [
    {
     "ename": "ERROR",
     "evalue": "Error in parse(text = x, srcfile = src): <text>:3:21: unexpected ','\n2:     mat.vals <- \n3:     (difference.mats,\n                       ^\n",
     "output_type": "error",
     "traceback": [
      "Error in parse(text = x, srcfile = src): <text>:3:21: unexpected ','\n2:     mat.vals <- \n3:     (difference.mats,\n                       ^\nTraceback:\n"
     ]
    }
   ],
   "source": [
    "ci.overlap <- function(difference.mats,threshold=1,binary=TRUE){\n",
    "    mat.vals <- \n",
    "    (difference.mats,vals=TRUE)\n",
    "    n.qualia <- nrow(difference.mats[[1]])\n",
    "    out.mat <- matrix(,nrow=n.qualia,ncol=n.qualia)\n",
    "    \n",
    "    for(cell in 1:length(mat.vals)){\n",
    "        ci <- t.test.mu.zero(mat.vals[[cell]],'ci')\n",
    "        val <- max(abs(ci))\n",
    "        if(binary){\n",
    "            if(val <= threshold){\n",
    "                out.mat[cell] <- 0 # mean is probably zero\n",
    "            } else {\n",
    "                out.mat[cell] <- 1 # mean might not be zero\n",
    "            }\n",
    "        } else {\n",
    "            out.mat[cell] <- val\n",
    "        }\n",
    "        \n",
    "        \n",
    "    }\n",
    "    return(out.mat)\n",
    "}"
   ]
  },
  {
   "cell_type": "code",
   "execution_count": 150,
   "metadata": {},
   "outputs": [],
   "source": [
    "#ci.test.mat <- ci.overlap(test.mat,threshold=1.5,binary=FALSE)\n",
    "#mat.summary.plot(ci.test.mat,low.lim=0,up.lim=2.5)"
   ]
  },
  {
   "cell_type": "markdown",
   "metadata": {},
   "source": [
    "##### Permutation version: difference XXi-YYi < difference XXi-XXj"
   ]
  },
  {
   "cell_type": "markdown",
   "metadata": {},
   "source": [
    "Compare the abs(mean) of a cell (XXi-YYi) to the abs(mean) of 1000 randomly compared XXi-YYj cells. See how close to the bottom of the distribution it is, i.e. how similar it is compared to other judgments. Also collect the proportion of these random means that fall outside the cutoff threshold"
   ]
  },
  {
   "cell_type": "code",
   "execution_count": 151,
   "metadata": {},
   "outputs": [],
   "source": [
    "#mat.summary.plot(test[[1]],low.lim=0,up.lim=7,xlabel='',ylabel='')\n",
    "#mat <- test[[3]]\n",
    "#CC.mat <- mat[1:9,1:9]\n",
    "#PP.mat <- mat[10:18,10:18]\n",
    "#mat.summary.plot(CC.mat,,low.lim=0,up.lim=7,xlabel='',ylabel='')\n",
    "#PP.shuffle <- shuffle_matrix(PP.mat)\n",
    "#mat.summary.plot(CC.mat-PP.shuffle,low.lim=-7,up.lim=7,xlabel='',ylabel='')\n",
    "\n",
    "#mat.summary.plot(PP.shuffle,low.lim=0,up.lim=7,xlabel='',ylabel='')"
   ]
  },
  {
   "cell_type": "code",
   "execution_count": 152,
   "metadata": {},
   "outputs": [],
   "source": [
    "# convert a list of vectors to a vector of just their mean values\n",
    "list2mean <- function(list.vals){\n",
    "    out <- vector()\n",
    "    for(cell in 1:length(list.vals)){\n",
    "        out[cell] <- mean(list.vals[[cell]])\n",
    "    }\n",
    "    return(out)\n",
    "}\n",
    "\n",
    "# what "
   ]
  },
  {
   "cell_type": "code",
   "execution_count": 153,
   "metadata": {},
   "outputs": [],
   "source": [
    "#list2mean(test.vals)\n",
    "#mat.histdifference.mats(test,submat='CCvPP')"
   ]
  },
  {
   "cell_type": "code",
   "execution_count": 154,
   "metadata": {},
   "outputs": [],
   "source": [
    "permute.test.mat <- function(subject.mats,n.perm=5,submat='CCvPP',diagnose=FALSE){\n",
    "    diff.mats <- difference.mats(subject.mats,submat=submat) # list of difference matrices for each subject XXi-YYi\n",
    "    diff.vals <- mat.hist.plot(diff.mats,vals=TRUE) # distribution of subject values for each cell\n",
    "    diff.means <- list2mean(diff.vals) # vector of cell means\n",
    "    \n",
    "    if(diagnose){\n",
    "        print(\"diff.means\")\n",
    "        print(diff.means)\n",
    "    }\n",
    "    \n",
    "    # do the permutations\n",
    "    k = 1\n",
    "    permute.list <- list()\n",
    "    for(i in 1:n.perm){ # for however many permutations\n",
    "        if(diagnose){\n",
    "            print(paste(\"permutation:\",k))\n",
    "        }\n",
    "        perm.mats <- difference.mats(subject.mats,submat=submat,shuffle=TRUE) # list of difference matrices for each subject XXi-YYj (shuffled)\n",
    "        if(diagnose){\n",
    "            print(perm.mats)\n",
    "        }\n",
    "        perm.vals <- mat.hist.plot(perm.mats,vals=TRUE) # turn the shuffled list into difference values for each cell\n",
    "        perm.means <- list2mean(perm.vals) # turn the difference values for each cell into just their means\n",
    "        permute.list[[k]] <- perm.means # add vector to list (list of vectors of difference means)\n",
    "        k = k + 1\n",
    "    }\n",
    "    \n",
    "    if(diagnose){\n",
    "        #print(\"permuted list\")\n",
    "        #print(permute.list)\n",
    "    }\n",
    "    \n",
    "    # do the test\n",
    "    # for each entry in diff.means, compare the entry to the corresponding entries in each vector in permute.list\n",
    "    out <- vector()\n",
    "    for(cell in 1:length(diff.means)){\n",
    "        real.mean <- diff.means[cell]\n",
    "        \n",
    "        # grab the vector of shuffled means for this cell\n",
    "        fake.vec <- vector()\n",
    "        for(perm in 1:n.perm){\n",
    "            fake.vec <- c(fake.vec, permute.list[[perm]][cell])\n",
    "        }\n",
    "        \n",
    "        \n",
    "        # calcualte the p-value\n",
    "        count <- sum(abs(fake.vec) <= abs(real.mean))\n",
    "        p <- round(count/length(fake.vec),2)\n",
    "        out <- c(out,p)\n",
    "        \n",
    "        if(diagnose){\n",
    "            print(paste(\"cell\",cell))\n",
    "            print(paste(\"real mean\",real.mean))\n",
    "            print(\"permuted means\")\n",
    "            print(fake.vec)\n",
    "            print(paste(\"count\",count))\n",
    "            print(paste(\"p\",p))\n",
    "        }\n",
    "    }\n",
    "    \n",
    "    return(out)\n",
    "}"
   ]
  },
  {
   "cell_type": "code",
   "execution_count": 155,
   "metadata": {},
   "outputs": [],
   "source": [
    "# permutation plot\n",
    "permute.plot <- function(df,submat='CCvPP',n.perm=1000, title=''){\n",
    "    group.mats <- dissimgroup2matlist(df)\n",
    "    #diff.mats <- difference.mats(group.mats)\n",
    "    \n",
    "    p.mat <- matrix(permute.test.mat(group.mats,n.perm=n.perm,submat=submat),9,9)\n",
    "    plot <- mat.summary.plot(p.mat,low.lim=0,up.lim=1,overall.title=title,xlabel='',ylabel='',col1='green',col2='red')\n",
    "    return(plot)\n",
    "}"
   ]
  },
  {
   "cell_type": "code",
   "execution_count": 156,
   "metadata": {},
   "outputs": [],
   "source": [
    "#permute.plot(test)"
   ]
  },
  {
   "cell_type": "code",
   "execution_count": 157,
   "metadata": {},
   "outputs": [],
   "source": [
    "permute.test <- FALSE\n",
    "if(permute.test){\n",
    "    print(\"1000\")\n",
    "    p.mat <- matrix(permute.test.mat(test,n.perm=1000,diagnose=FALSE),9,9)\n",
    "    p.mat\n",
    "    mat.summary.plot(p.mat,low.lim=0,up.lim=1,overall.title='p.values',xlabel='',ylabel='',col1='red',col2='green')\n",
    "}\n"
   ]
  },
  {
   "cell_type": "markdown",
   "metadata": {},
   "source": [
    "### Intermediate Within-Subject Analysis"
   ]
  },
  {
   "cell_type": "code",
   "execution_count": 158,
   "metadata": {},
   "outputs": [],
   "source": [
    "#test.df <- subset(cleandf, peripheral_scale == 1 & stimulus_radius == 1)"
   ]
  },
  {
   "cell_type": "code",
   "execution_count": 159,
   "metadata": {},
   "outputs": [],
   "source": [
    "#test.mats.CC <- bs.flat.list(test.df,comparison='CC',smooth=TRUE)\n",
    "#test.mats.PP <- bs.flat.list(test.df,comparison='PP',smooth=TRUE)\n"
   ]
  },
  {
   "cell_type": "code",
   "execution_count": 161,
   "metadata": {},
   "outputs": [],
   "source": [
    "# generate the appropriate flat rank matrices\n",
    "test.flat.mats <- function(df,submat='CCvPP',smooth=FALSE){\n",
    "    out.list <- list()\n",
    "    if(submat=='CCvPP'){\n",
    "        ml1 <- bs.flat.list(df,comparison='CC',smooth=smooth)\n",
    "        ml2 <- bs.flat.list(df,comparison='PP',smooth=smooth)\n",
    "    } else if (submat=='CPvPP'){\n",
    "        ml1 <- bs.flat.list(df,comparison='CP',smooth=smooth)\n",
    "        ml2 <- bs.flat.list(df,comparison='PP',smooth=smooth)\n",
    "    } else if (submat=='CCvCP'){\n",
    "        ml1 <- bs.flat.list(df,comparison='CC',smooth=smooth)\n",
    "        ml2 <- bs.flat.list(df,comparison='CP',smooth=smooth)\n",
    "    }\n",
    "    out.list[[1]] <- ml1\n",
    "    out.list[[2]] <- ml2\n",
    "    return(out.list)\n",
    "}\n",
    "\n",
    "# generate the difference flat rank matrices within-subject\n",
    "flat.diff.mats <- function(ml1,ml2){\n",
    "    out.list <-list()\n",
    "    for(i in 1:length(ml1)){\n",
    "        diff.mat <- ml1[[i]] - ml2[[i]]\n",
    "        out.list[[i]] <- diff.mat\n",
    "    }\n",
    "    return(out.list)\n",
    "}\n",
    "#test.mats.diff <- flat.diff.mats(test.mats.CC,test.mats.PP)"
   ]
  },
  {
   "cell_type": "code",
   "execution_count": 162,
   "metadata": {},
   "outputs": [],
   "source": [
    "#test.mats.CC[1]\n",
    "#test.mats.PP[1]\n",
    "#test.mats.diff[1]\n",
    "#plot.rank.mat.generic(test.mats.diff[[1]],low.lim=-7,up.lim=7)"
   ]
  },
  {
   "cell_type": "code",
   "execution_count": 164,
   "metadata": {},
   "outputs": [],
   "source": [
    "# do the bayes test\n",
    "#ci.bayes.plot(test.mats.diff,mats=TRUE,diff.mats=TRUE)"
   ]
  },
  {
   "cell_type": "markdown",
   "metadata": {},
   "source": [
    "#### Plot Summary of everything"
   ]
  },
  {
   "cell_type": "code",
   "execution_count": 165,
   "metadata": {},
   "outputs": [],
   "source": [
    "data.summary.test <- function(df,test='bayes',submat='CCvPP',diagnose=FALSE){\n",
    "    \n",
    "    magnification_list <- sort(unique(datadf$peripheral_scale))\n",
    "    size_list <- sort(unique(datadf$stimulus_radius))\n",
    "    \n",
    "    return_df <- data.frame(matrix(nrow=0,ncol=3))\n",
    "    names <- c('values','magnification','size')\n",
    "    colnames(return_df) <- names\n",
    "    \n",
    "    for (stimulus in size_list){\n",
    "        for (scale in magnification_list){\n",
    "            tempdf <- subset(datadf, peripheral_scale == scale & stimulus_radius == stimulus)\n",
    "            \n",
    "            if(test=='bayes'){\n",
    "                data <- ci.bayes.plot(tempdf,submat=submat,out='v')\n",
    "            } else if(test=='bayes.rank'){\n",
    "                data <- ci.bayes.plot(tempdf,mats=TRUE,diff.mats=TRUE,submat=submat,out='v')  \n",
    "                \n",
    "            } else if (test=='CI'){\n",
    "                data <- ci.bayes.plot(tempdf,submat=submat,out='v') # max CI bound for each cell\n",
    "                data <- median(data)  # median across all the cells\n",
    "            }\n",
    "            if(diagnose){\n",
    "                print(head(data,5))\n",
    "            }\n",
    "            data.df <- data.frame(matrix(nrow=length(data),ncol=3))\n",
    "            if(diagnose){\n",
    "                print(data.df)\n",
    "            }\n",
    "            colnames(data.df) <- names\n",
    "            if(diagnose){\n",
    "                print(data.df)\n",
    "            }\n",
    "            data.df$values <- data\n",
    "            data.df$magnification <- scale\n",
    "            data.df$size <- stimulus\n",
    "            if(diagnose){\n",
    "                print(data.df)\n",
    "            }\n",
    "            return_df <- rbind(return_df,data.df)\n",
    "            }\n",
    "        }\n",
    "    return(return_df)\n",
    "}"
   ]
  },
  {
   "cell_type": "code",
   "execution_count": 166,
   "metadata": {},
   "outputs": [],
   "source": [
    "summary.CI <- function(df,submat='CCvPP'){\n",
    "    \n",
    "    magnification_list <- sort(unique(datadf$peripheral_scale))\n",
    "    size_list <- sort(unique(datadf$stimulus_radius))\n",
    "    names <- c('magnification','size','mean','lb','ub')\n",
    "    return_df <- data.frame(matrix(nrow=0,ncol=length(names)))\n",
    "    colnames(return_df) <- names\n",
    "    \n",
    "    for (stimulus in size_list){\n",
    "        for (scale in magnification_list){\n",
    "            tempdf <- subset(datadf, peripheral_scale == scale & stimulus_radius == stimulus)\n",
    "            \n",
    "            group.mats <- dissimgroup2matlist(tempdf)\n",
    "            diff.mats <- difference.mats(group.mats,submat=submat)\n",
    "            cis <- ci.mat(diff.mats)\n",
    "\n",
    "            mu <- mean(cis$mean)\n",
    "            ub <- mean(cis$ub)\n",
    "            lb <- mean(cis$lb)\n",
    "            \n",
    "            data.df <- data.frame(matrix(nrow=length(data),ncol=length(names)))\n",
    "            colnames(data.df) <- names\n",
    "            data.df$magnification <- scale\n",
    "            data.df$size <- stimulus\n",
    "            data.df$mean <- mu\n",
    "            data.df$ub <- ub\n",
    "            data.df$lb <- lb\n",
    "            \n",
    "            return_df <- rbind(return_df,data.df)\n",
    "            }\n",
    "        }\n",
    "    return(return_df)\n",
    "}\n",
    "\n",
    "plot.summary.ci <- function(df){\n",
    "    df$magnification <- as.character(df$magnification) # needed for axes to work properly\n",
    "    df$size <- as.character(df$size)\n",
    "    \n",
    "    plot <- ggplot(df, aes(y=mean, x=magnification,color=size)) +\n",
    "                    geom_point(position=position_dodge(width=0.75),size=4) +\n",
    "                    geom_errorbar(aes(ymax = ub, ymin = lb),\n",
    "                                  position=position_dodge(width=0.75),\n",
    "                                 width=0.5,\n",
    "                                 size=1) +\n",
    "                    ylim(-1.5,1.5) +\n",
    "                    geom_hline(yintercept=0) +\n",
    "                    ylab('Dissimilarity Difference') + xlab('Peripheral Magnification') + \n",
    "                    guides(color=guide_legend(title = 'Stimulus Size\\n(DVA)'))\n",
    "    \n",
    "    \n",
    "    ggsave(plot = plot, width=10,height = 5, filename='ci.summary.png')\n",
    "    \n",
    "    return(plot)\n",
    "}"
   ]
  },
  {
   "cell_type": "code",
   "execution_count": 167,
   "metadata": {},
   "outputs": [],
   "source": [
    "#data.ci <- summary.CI(cleandf)"
   ]
  },
  {
   "cell_type": "code",
   "execution_count": 168,
   "metadata": {},
   "outputs": [],
   "source": [
    "#data.ci"
   ]
  },
  {
   "cell_type": "code",
   "execution_count": 169,
   "metadata": {},
   "outputs": [],
   "source": [
    "#plot.summary.ci(data.ci)"
   ]
  },
  {
   "cell_type": "code",
   "execution_count": 170,
   "metadata": {},
   "outputs": [],
   "source": [
    "plot.summary.test <- function(df){\n",
    "    \n",
    "    df$magnification <- as.character(df$magnification) # needed for axes to work properly\n",
    "    df$size <- as.character(df$size)\n",
    "    \n",
    "    plot <- ggplot(df, aes(y=values, x=magnification,color=size)) +\n",
    "            geom_boxplot(aes(alpha=0.5)) + \n",
    "            geom_point(position=position_dodge(width=0.75),aes(alpha=0.01)) +\n",
    "            ylab(\"Max(|95% CI Bound|)\\nper cell\") + \n",
    "            xlab(\"Peripheral Scaling\") +\n",
    "            guides(color=guide_legend(title = 'Stimulus Radius\\n(DVA)')) + scale_alpha(guide='none') +\n",
    "            theme(text=element_text(size=20)) +\n",
    "            theme(axis.title.y = element_text(margin=margin(t=0,b=0,r=15,l=0)))\n",
    "    \n",
    "    ggsave(plot = plot, width=15,height = 7.5, filename='bayes.ci.test.png')\n",
    "    \n",
    "    return(plot)\n",
    "    \n",
    "}"
   ]
  },
  {
   "cell_type": "code",
   "execution_count": 171,
   "metadata": {},
   "outputs": [],
   "source": [
    "#plot.summary.test(data)\n",
    "#plot.summary.test(data.rank)\n",
    "#plot.summary.CI(data.CI)"
   ]
  },
  {
   "cell_type": "code",
   "execution_count": 172,
   "metadata": {},
   "outputs": [],
   "source": [
    "#data.rank <- data.summary.test(cleandf,test='bayes.rank')\n",
    "#data.CI <- data.summary.test(cleandf,test='CI')"
   ]
  },
  {
   "cell_type": "code",
   "execution_count": null,
   "metadata": {},
   "outputs": [],
   "source": [
    "data <- data.summary.test(cleandf,diagnose=FALSE)"
   ]
  },
  {
   "cell_type": "code",
   "execution_count": 175,
   "metadata": {},
   "outputs": [
    {
     "ename": "ERROR",
     "evalue": "Error in subset(cleandf, (peripheral_scale == 4.5)): object 'cleandf' not found\n",
     "output_type": "error",
     "traceback": [
      "Error in subset(cleandf, (peripheral_scale == 4.5)): object 'cleandf' not found\nTraceback:\n",
      "1. subset(cleandf, (peripheral_scale == 4.5))"
     ]
    }
   ],
   "source": [
    "test.df <- subset(cleandf,  (peripheral_scale == 4.5))"
   ]
  },
  {
   "cell_type": "code",
   "execution_count": 173,
   "metadata": {},
   "outputs": [],
   "source": [
    "plot.test <- FALSE\n",
    "if(plot.test){\n",
    "    FFcmds <-  cmdsplot(cmdsfit(mat2dist(df2mat(test.df,l2e('Foveal'), l2e('Foveal')))), \n",
    "                                abcolors, abcolors, l2e('Foveal'), l2e('Foveal'))\n",
    "\n",
    "    FPcmds <-  cmdsplot(cmdsfit(mat2dist(df2mat(test.df,l2e('Foveal'), l2e('Peripheral')))), \n",
    "                                    abcolors, abcolors, l2e('Foveal'), l2e('Peripheral'))\n",
    "\n",
    "    PPcmds <-  cmdsplot(cmdsfit(mat2dist(df2mat(test.df,l2e('Peripheral'), l2e('Peripheral')))), \n",
    "                                    abcolors, abcolors, l2e('Peripheral'), l2e('Peripheral'))\n",
    "\n",
    "\n",
    "    FFcmds\n",
    "    FPcmds\n",
    "    PPcmds\n",
    "}\n"
   ]
  },
  {
   "cell_type": "markdown",
   "metadata": {},
   "source": [
    "## Actual Data Analysis Time"
   ]
  },
  {
   "cell_type": "markdown",
   "metadata": {},
   "source": [
    "#### Initial data pre-processing, before getting to the subject level"
   ]
  },
  {
   "cell_type": "code",
   "execution_count": 127,
   "metadata": {},
   "outputs": [],
   "source": [
    "datadf = read.csv(filename)\n",
    "savestr <- substr(filename,1,nchar(filename)-4) # for saving related files later\n"
   ]
  },
  {
   "cell_type": "code",
   "execution_count": 128,
   "metadata": {},
   "outputs": [],
   "source": [
    "#weird bug in a subject data for arielzj_fvp_2stim_fixed_point25dva_v2_20_08_30 (1)\n",
    "datadf <- subset(datadf, (subject != 660294531) & (subject != 21721408) & (subject != 238973028))"
   ]
  },
  {
   "cell_type": "code",
   "execution_count": 129,
   "metadata": {},
   "outputs": [],
   "source": [
    "# remove practice trial data\n",
    "datadf <- subset(datadf, blockcode == 'experiment')"
   ]
  },
  {
   "cell_type": "code",
   "execution_count": 130,
   "metadata": {},
   "outputs": [],
   "source": [
    "# changing color values from RGB to hex for graphing purpose\n",
    "datadf$Color_1 <- as.character(datadf$Color_1)\n",
    "datadf$Color_1 <- revalue(datadf$Color_1, \n",
    "                                                    c(  \"1\" = '#FF0000',\n",
    "                                                        \"2\" = '#FFAA00',\n",
    "                                                        \"3\" = '#AAFF00',\n",
    "                                                        \"4\" = '#00FF00',\n",
    "                                                        \"5\" = '#00FFA9',\n",
    "                                                        \"6\" = '#00A9FF',\n",
    "                                                        \"7\" = '#0000FF',\n",
    "                                                        \"8\" = '#AA00FF',\n",
    "                                                        \"9\" = '#FF00AA'))\n",
    "datadf$Color_2 <- as.character(datadf$Color_2)\n",
    "datadf$Color_2 <- revalue(datadf$Color_2, \n",
    "                                                    c(  \"1\" = '#FF0000',\n",
    "                                                        \"2\" = '#FFAA00',\n",
    "                                                        \"3\" = '#AAFF00',\n",
    "                                                        \"4\" = '#00FF00',\n",
    "                                                        \"5\" = '#00FFA9',\n",
    "                                                        \"6\" = '#00A9FF',\n",
    "                                                        \"7\" = '#0000FF',\n",
    "                                                        \"8\" = '#AA00FF',\n",
    "                                                        \"9\" = '#FF00AA'))\n",
    "\n"
   ]
  },
  {
   "cell_type": "code",
   "execution_count": 131,
   "metadata": {},
   "outputs": [],
   "source": [
    "# changing from int indicators in the .csv file to more readable labels for eccentricity\n",
    "foveal = -1\n",
    "peripheral = 1"
   ]
  },
  {
   "cell_type": "code",
   "execution_count": 132,
   "metadata": {},
   "outputs": [],
   "source": [
    "# set the maximum and minimum dissimilarity values for later analysis\n",
    "min_val = 0\n",
    "max_val = 6"
   ]
  },
  {
   "cell_type": "code",
   "execution_count": 133,
   "metadata": {},
   "outputs": [],
   "source": [
    "# binning the positions the stimuli were displayed in to use as a control measure later\n",
    "datadf$bin1 <- as.integer((datadf$Position_1+180) / 40) + 1\n",
    "datadf$bin2 <- as.integer((datadf$Position_2+180) / 40) + 1"
   ]
  },
  {
   "cell_type": "code",
   "execution_count": 134,
   "metadata": {},
   "outputs": [],
   "source": [
    "# adding a trial type label\n",
    "label_eccen_type <- function(datadf){\n",
    "    datadf <- datadf %>%\n",
    "    mutate(eccen_type = case_when(Circle_1 == l2e('Foveal') & Circle_2 == l2e('Foveal') ~ 'FF',\n",
    "                             Circle_1 == l2e('Foveal') & Circle_2 == l2e('Peripheral') ~ 'FP',\n",
    "                             Circle_1 == l2e('Peripheral') & Circle_2 == l2e('Peripheral') ~ 'PP'))\n",
    "    return(datadf)\n",
    "}"
   ]
  },
  {
   "cell_type": "code",
   "execution_count": 135,
   "metadata": {},
   "outputs": [],
   "source": [
    "datadf <- label_eccen_type(datadf)"
   ]
  },
  {
   "cell_type": "markdown",
   "metadata": {},
   "source": [
    "Some actual data cleaning"
   ]
  },
  {
   "cell_type": "code",
   "execution_count": 136,
   "metadata": {},
   "outputs": [],
   "source": [
    "# function to throw out  participants who didn't finish\n",
    "remove_incomplete <- function(datadf,stimuli_number){\n",
    "    \n",
    "    subjectlist <- sort(unique(datadf$subject)) # obtain a list of all the subjects\n",
    "    print(paste(length(subjectlist),\"in dataset\"))\n",
    "    print(\"\")\n",
    "    \n",
    "    for (ID in subjectlist){ # go through subject by subject\n",
    "        \n",
    "        trialnumber = stimuli_number*stimuli_number*condition_number + catch_trial_number\n",
    "        \n",
    "        trialsdone <- nrow(subset(datadf, subject == ID))\n",
    "        print(paste(\"Subject\",ID,\"completed\",trialsdone,\"/\",trialnumber))\n",
    "        \n",
    "        if ( trialsdone != trialnumber){ # see if they have the appropriate trial numbers\n",
    "            datadf <- subset(datadf, subject != ID) # dump the subject\n",
    "        }\n",
    "    }\n",
    "    return(datadf)\n",
    "}"
   ]
  },
  {
   "cell_type": "code",
   "execution_count": 137,
   "metadata": {
    "scrolled": true
   },
   "outputs": [
    {
     "name": "stdout",
     "output_type": "stream",
     "text": [
      "[1] \"Screen Parameters\"\n",
      "[1] \"\"\n",
      "[1] \"Screen size issues: 0 / 1\"\n",
      "[1] \"Viewing distance issues: 0 / 1\"\n"
     ]
    }
   ],
   "source": [
    "screen_parameters(datadf)"
   ]
  },
  {
   "cell_type": "code",
   "execution_count": 138,
   "metadata": {},
   "outputs": [
    {
     "name": "stdout",
     "output_type": "stream",
     "text": [
      "[1] \"1 in dataset\"\n",
      "[1] \"\"\n",
      "[1] \"Subject 1 completed 253 / 253\"\n"
     ]
    }
   ],
   "source": [
    "# actually throw out the subjects who didn't complete\n",
    "datadf <- remove_incomplete(datadf,stimuli_number)"
   ]
  },
  {
   "cell_type": "code",
   "execution_count": 139,
   "metadata": {},
   "outputs": [],
   "source": [
    "# function to label participants who meet statistical cleaning assumptions\n",
    "label_noncompliant <- function(datadf,\n",
    "                               screen_size_cutoff=26,viewing_distance_cutoff=30,rt_cutoff=600,score_cutoff=0.7){\n",
    "    \n",
    "    subjectlist <- sort(unique(datadf$subject)) # obtain a list of all the subjects\n",
    "    \n",
    "    for (ID in subjectlist){ # go through subject by subject\n",
    "        \n",
    "        subjectdf = subset(datadf, subject == ID) # select the ID for subject of interest \n",
    "        \n",
    "        screen_size <- round(screen_size(subjectdf)/10,1)\n",
    "        viewing_distance <- round(view_distance(subjectdf)/10,1)\n",
    "        catch_score <- catch_score(subjectdf)\n",
    "        \n",
    "        if(catch_score > score_cutoff){ # catch score cutoff\n",
    "            if(screen_size > screen_size_cutoff){ # screen size cutoff\n",
    "                if(viewing_distance > viewing_distance_cutoff){ # viewing distance cutoff\n",
    "                    if(rt_avg(subjectdf) > rt_cutoff){ # rt cutoff\n",
    "                        datadf$noncompliant[datadf$subject == ID] = 0\n",
    "                    } else {\n",
    "                        print(paste(\"Subject\",ID,\"reaction time of:\",rt_avg(subjectdf),\"ms\",sep=' ')) # RT fail\n",
    "                        datadf$noncompliant[datadf$subject == ID] = 1\n",
    "                    }\n",
    "                } else {\n",
    "                    print(paste(\"Subject\",ID,\"viewing distance of:\",viewing_distance,\"cm\",sep=' ')) # Viewing distance fail\n",
    "                    datadf$noncompliant[datadf$subject == ID] = 2\n",
    "                }\n",
    "            } else {\n",
    "                print(paste(\"Subject\",ID,\"had a screen size of:\",screen_size,\"cm\",sep=' ')) # Screen size fail\n",
    "                datadf$noncompliant[datadf$subject == ID] = 3\n",
    "            } \n",
    "      } else {\n",
    "            print(paste(\"Subject\",ID,\"had a catch score of: \",catch_score,sep=' ')) # Catch score faile\n",
    "            datadf$noncompliant[datadf$subject == ID] = 4\n",
    "        }\n",
    "    }\n",
    "    print(paste(length(unique(datadf$subject[datadf$noncompliant==0])),\"of\",length(unique(datadf$subject)),\n",
    "                \"were compliant\",sep=' '))\n",
    "    return(datadf)\n",
    "}"
   ]
  },
  {
   "cell_type": "code",
   "execution_count": 140,
   "metadata": {},
   "outputs": [
    {
     "name": "stdout",
     "output_type": "stream",
     "text": [
      "[1] \"Catch scores\"\n",
      "[1] \"Subject 1 : 10 / 10\"\n"
     ]
    }
   ],
   "source": [
    "catch_trial_checker(datadf)"
   ]
  },
  {
   "cell_type": "code",
   "execution_count": 141,
   "metadata": {
    "scrolled": true
   },
   "outputs": [
    {
     "name": "stdout",
     "output_type": "stream",
     "text": [
      "[1] \"1 of 1 were compliant\"\n"
     ]
    }
   ],
   "source": [
    "datadf <- label_noncompliant(datadf)"
   ]
  },
  {
   "cell_type": "code",
   "execution_count": 142,
   "metadata": {},
   "outputs": [],
   "source": [
    "# function to run all these checks at once\n",
    "validation <- function(datadf){\n",
    "    \n",
    "    magnification_list <- sort(unique(datadf$peripheral_scale))\n",
    "    size_list <- sort(unique(datadf$stimulus_radius))\n",
    "    \n",
    "    for (stimulus in size_list){\n",
    "        for (scale in magnification_list){\n",
    "            tempdf <- subset(datadf, peripheral_scale == scale & stimulus_radius == stimulus)\n",
    "            \n",
    "            print(paste(\"Magnification\",scale,\"Stimulus\",stimulus))\n",
    "            tempdf <- remove_incomplete(tempdf,stimuli_number)\n",
    "            screen_parameters(tempdf, individual=FALSE)\n",
    "            catch_trial_checker(tempdf)\n",
    "            label_noncompliant(tempdf)\n",
    "            print(\"\")\n",
    "            print(\"____________________\")\n",
    "            print(\"\")\n",
    "            \n",
    "        }\n",
    "    }\n",
    "}"
   ]
  },
  {
   "cell_type": "code",
   "execution_count": 143,
   "metadata": {},
   "outputs": [],
   "source": [
    "validation(datadf)"
   ]
  },
  {
   "cell_type": "code",
   "execution_count": 144,
   "metadata": {},
   "outputs": [],
   "source": [
    "# some subjects got confused about the rating system and inverted it. functions to flip them back (for the pilot data)\n",
    "invert.DSR <- function(subjectdf){\n",
    "    subjectdf$similarity <- -1 * subjectdf$similarity + max.DSR\n",
    "    return(subjectdf)\n",
    "}\n",
    "\n",
    "invert.subjects <- function(datadf){\n",
    "     subjectlist <- sort(unique(datadf$subject)) # obtain a list of all the subjects\n",
    "    \n",
    "    for(ID in subjectlist){\n",
    "        subjectdf <- subset(datadf, subject == ID)\n",
    "        if(trace_avg(subjectdf) > max.DSR/2){ # if they mistakenly inverted\n",
    "            datadf$similarity[datadf$subject == ID] <- -1 * datadf$similarity + max.DSR\n",
    "            }\n",
    "        }\n",
    "    return(datadf)\n",
    "            \n",
    "}"
   ]
  },
  {
   "cell_type": "code",
   "execution_count": 145,
   "metadata": {},
   "outputs": [
    {
     "name": "stdout",
     "output_type": "stream",
     "text": [
      "[1] \"There are 1 unique subjects\"\n"
     ]
    },
    {
     "data": {
      "text/html": [
       "1"
      ],
      "text/latex": [
       "1"
      ],
      "text/markdown": [
       "1"
      ],
      "text/plain": [
       "[1] 1"
      ]
     },
     "metadata": {},
     "output_type": "display_data"
    }
   ],
   "source": [
    "cleandf <- subset(datadf, noncompliant == 0)\n",
    "get_n(cleandf)"
   ]
  },
  {
   "cell_type": "code",
   "execution_count": 146,
   "metadata": {},
   "outputs": [],
   "source": [
    "cleandf <- invert.subjects(cleandf)"
   ]
  },
  {
   "cell_type": "markdown",
   "metadata": {},
   "source": [
    "## Statistical Analysis"
   ]
  },
  {
   "cell_type": "markdown",
   "metadata": {},
   "source": [
    "### Useful functions & methods"
   ]
  },
  {
   "cell_type": "markdown",
   "metadata": {},
   "source": [
    "#### Determine within-subject central and peripheral QDM correlation & significance"
   ]
  },
  {
   "cell_type": "code",
   "execution_count": 199,
   "metadata": {},
   "outputs": [],
   "source": [
    "# return a list of the e1 matrix vs e2 matrix correlations for each subject\n",
    "# returns Fisher-transformed correlations\n",
    "# updated matrixcor to use just half of a symmetric matrix\n",
    "\n",
    "eccentricity_compare_list <- function(datadf,e1='FF',e2='PP'){\n",
    "    \n",
    "    subjectlist <- sort(unique(datadf$subject)) # obtain a list of all the subjects\n",
    "    \n",
    "    correlation_list <- vector() # array to store the values in\n",
    "    \n",
    "    for (ID in subjectlist){ # go through subject by subject\n",
    "        subjectdf = subset(datadf, subject == ID) # select the ID for subject of interest\n",
    "        # updated matrixcor to use only upper half of symmeterised matrices\n",
    "        correlation_list <- c(correlation_list, FisherZ((matrixcor(subjectdf,M1=e1,M2=e2))))\n",
    "    }\n",
    "    return(correlation_list)\n",
    "}"
   ]
  },
  {
   "cell_type": "code",
   "execution_count": 200,
   "metadata": {},
   "outputs": [],
   "source": [
    "# shuffle a matrix\n",
    "shuffle_matrix <- function(matrix){\n",
    "    shuffled <- matrix[sample(nrow(matrix)),sample(ncol(matrix))]\n",
    "    return(shuffled)\n",
    "}"
   ]
  },
  {
   "cell_type": "code",
   "execution_count": 201,
   "metadata": {},
   "outputs": [],
   "source": [
    "# get upper half of a matrix in vector form\n",
    "halfmat.v <- function(mat){\n",
    "    halfmat <- c(mat[upper.tri(mat, diag = TRUE)])\n",
    "    return(halfmat)\n",
    "}"
   ]
  },
  {
   "cell_type": "code",
   "execution_count": 202,
   "metadata": {},
   "outputs": [],
   "source": [
    "# return a list of the e1 matrix vs. shuffled e2 matrix for each subject. Pick the # shuffles, default 1000.\n",
    "# returns Fisher-transformed correlations\n",
    "# updated df2mat.full to use a symmetric matrix\n",
    "\n",
    "eccentricity_compare_shuffled_list <- function(datadf,e1='FF',e2='PP',\n",
    "                                               mode='shuffle', rotation=90, shuffle_num=1000){\n",
    "    \n",
    "    subjectlist <- sort(unique(datadf$subject)) # obtain a list of all the subjects\n",
    "    \n",
    "    \n",
    "    correlation_list <- vector() # array to store the values in\n",
    "    \n",
    "    for (ID in subjectlist){ # go through subject by subject\n",
    "        subjectdf = subset(datadf, subject == ID) # select the ID for subject of interest\n",
    "                \n",
    "        if((e1 == 'FF' & e2 == 'PP') | (e1 == 'PP' & e2 == 'FF')){\n",
    "            matrix1 <- df2mat.full(subjectdf, l2e('Foveal'), l2e('Foveal'))\n",
    "            matrix2 <- df2mat.full(subjectdf, l2e('Peripheral'), l2e('Peripheral'))\n",
    "        } else if ((e1 == 'FF' & e2 == 'FP') | (e1 == 'FP' & e2 == 'FF')){\n",
    "            matrix1 <- df2mat.full(subjectdf, l2e('Foveal'), l2e('Foveal'))\n",
    "            matrix2 <- df2mat.full(subjectdf, l2e('Foveal'), l2e('Peripheral'))\n",
    "        } else if ((e1 == 'PP' & e2 == 'FP') | (e1 == 'FP' & e2 == 'PP')){\n",
    "            matrix1 <- df2mat.full(subjectdf, l2e('Peripheral'), l2e('Peripheral'))\n",
    "            matrix2 <- df2mat.full(subjectdf, l2e('Foveal'), l2e('Peripheral'))\n",
    "        }\n",
    "        \n",
    "        #just use upper halves of matrices as they're symmetric\n",
    "        matrix1 <- halfmat.v(matrix1)\n",
    "        \n",
    "        temp_list <- vector()\n",
    "        for (i in 1:shuffle_num){ #shuffle/swap the second matrix, add values to temp list\n",
    "            \n",
    "            if(mode=='shuffle'){\n",
    "                matrix2_shuffled <- shuffle_matrix(matrix2)\n",
    "            } else if (mode == 'swap'){\n",
    "                matrix2_shuffled <- matswap(matrix2,'random')\n",
    "            } else if (mode == 'invert'){\n",
    "                matrix2_shuffled <- matswap(matrix2,'inversion')\n",
    "            } else if (mode == 'rotate'){\n",
    "                matrix2_shuffled <- matswap(matrix2,'rotation',rotation)\n",
    "            }\n",
    "            #just use upper halves of matrices as they're symmetric\n",
    "            matrix2_shuffled <- halfmat.v(matrix2_shuffled)\n",
    "            \n",
    "            temp_list <- c(temp_list, FisherZ(cor(matrix1, matrix2_shuffled, method = \"spearman\")))\n",
    "        }\n",
    "        \n",
    "        correlation_list <- c(correlation_list,mean(temp_list)) # add the average correlation to the list\n",
    "        }\n",
    "    return(correlation_list)\n",
    "}"
   ]
  },
  {
   "cell_type": "code",
   "execution_count": 203,
   "metadata": {},
   "outputs": [],
   "source": [
    "# Compare FF, FP & PP correlations under standard, swapped & shuffled modes\n",
    "# currently just doing a single swap per subject, need to update to multiple swaps\n",
    "# updated to use full matrix\n",
    "\n",
    "within_full_compare <- function(df,swap='PP',individual=FALSE,identity=TRUE){\n",
    "    \n",
    "    return_df <- data.frame() # initialisation\n",
    "    subjectlist <- sort(unique(df$subject)) # obtain a list of all the subjects\n",
    "    \n",
    "    mode.list <- c(\"identity\",\"random\",\"invert\",\"rotate\")\n",
    "    \n",
    "    for(mode in mode.list){\n",
    "        \n",
    "        # arrays to store the values in\n",
    "        standard.FFvPP.correlation_list <- vector()\n",
    "        standard.FFvFP.correlation_list <- vector()\n",
    "        standard.FPvPP.correlation_list <- vector()\n",
    "\n",
    "        swapped.FFvPP.correlation_list <- vector()\n",
    "        swapped.FFvFP.correlation_list <- vector()\n",
    "        swapped.FPvPP.correlation_list <- vector()\n",
    "\n",
    "        for (ID in subjectlist){ # go through subject by subject\n",
    "            subjectdf = subset(df, subject == ID) # select the ID for subject of interest\n",
    "            data <- dissimdata.subject(subjectdf,duplicate = TRUE) # get the data in the format we want\n",
    "\n",
    "            # get full identity & swapped matrices for the subject\n",
    "            matrix.identity <- color.eccen.mat(data,output='matrix',mode='identity')\n",
    "            matrix.swap <- color.eccen.mat(data,output='matrix',mode=mode)\n",
    "            \n",
    "            matrix.FF <- matrix.identity[1:9,1:9]\n",
    "            matrix.FP <- matrix.identity[1:9,10:18]\n",
    "            matrix.PP <- matrix.identity[10:18,10:18]\n",
    "\n",
    "            # standard conditions comparison\n",
    "            if(mode=='identity'){\n",
    "                standard.FFvPP.r <-  cor(halfmat.v(matrix.FF),halfmat.v(matrix.PP), method = \"spearman\")\n",
    "                standard.FFvFP.r <-  cor(halfmat.v(matrix.FF),halfmat.v(matrix.FP), method = \"spearman\")\n",
    "                standard.FPvPP.r <-  cor(halfmat.v(matrix.FP),halfmat.v(matrix.PP), method = \"spearman\")\n",
    "            } else {\n",
    "            # swapped conditions comparison\n",
    "            swap.FF <- matrix.swap[1:9,1:9]\n",
    "            swap.FP <- matrix.swap[1:9,10:18]\n",
    "            swap.PP <- matrix.swap[10:18,10:18]\n",
    "            \n",
    "            swapped.FFvPP.r <-  cor(halfmat.v(swap.FF),halfmat.v(swap.PP), method = \"spearman\")\n",
    "            swapped.FFvFP.r <-  cor(halfmat.v(swap.FF),halfmat.v(swap.FP), method = \"spearman\")\n",
    "            swapped.FPvPP.r <-  cor(halfmat.v(swap.FP),halfmat.v(swap.PP), method = \"spearman\") \n",
    "            }\n",
    "            \n",
    "\n",
    "            if(individual){\n",
    "                print(paste(\"Subject: \",ID))\n",
    "                print(\"Standard comparisons\")\n",
    "                print(paste(\"FF vs PP: \",round(standard.FFvPP.r,2),\" - \",\n",
    "                           \"FF vs FP: \",round(standard.FFvFP.r,2),\" - \",\n",
    "                           \"FP vs PP: \",round(standard.FPvPP.r,2)))\n",
    "                print(paste(\"Swapped comparisons -\",swap,\"swapped\",mode))\n",
    "                print(paste(\"FF vs PP: \",round(swapped.FFvPP.r,2),\" - \",\n",
    "                           \"FF vs FP: \",round(swapped.FFvFP.r,2),\" - \",\n",
    "                           \"FP vs PP: \",round(swapped.FPvPP.r,2)))\n",
    "            }\n",
    "\n",
    "            # add them to a list\n",
    "            if(mode=='identity'){\n",
    "                standard.FFvPP.correlation_list <- c(standard.FFvPP.correlation_list,FisherZ(standard.FFvPP.r))\n",
    "                standard.FFvFP.correlation_list <- c(standard.FFvFP.correlation_list,FisherZ(standard.FFvFP.r))\n",
    "                standard.FPvPP.correlation_list <- c(standard.FPvPP.correlation_list,FisherZ(standard.FPvPP.r))\n",
    "            } else {\n",
    "                swapped.FFvPP.correlation_list <- c(swapped.FFvPP.correlation_list,FisherZ(swapped.FFvPP.r))\n",
    "                swapped.FFvFP.correlation_list <- c(swapped.FFvFP.correlation_list,FisherZ(swapped.FFvFP.r))\n",
    "                swapped.FPvPP.correlation_list <- c(swapped.FPvPP.correlation_list,FisherZ(swapped.FPvPP.r))\n",
    "            }\n",
    "            \n",
    "            # make a dataframe with all the useful information. Correlations returned are Fisher transformed\n",
    "            if(mode=='identity'){\n",
    "                FFvPP <- FisherZ(standard.FFvPP.r)\n",
    "                FFvFP <- FisherZ(standard.FFvFP.r)\n",
    "                FPvPP <- FisherZ(standard.FPvPP.r)\n",
    "                \n",
    "            } else {\n",
    "                FFvPP <- FisherZ(swapped.FFvPP.r)\n",
    "                FFvFP <- FisherZ(swapped.FFvFP.r)\n",
    "                FPvPP <- FisherZ(swapped.FPvPP.r)\n",
    "            }\n",
    "            subject.data <- data.frame(ID,\n",
    "                                        mode,\n",
    "                                        FFvPP,\n",
    "                                        FFvFP,\n",
    "                                        FPvPP\n",
    "                                          )\n",
    "            return_df <- rbind(return_df,subject.data)\n",
    "            \n",
    "        }\n",
    "        # print mean correlations\n",
    "        if(mode=='identity'){\n",
    "            print(\"Standard comparisons\")\n",
    "            print(paste(\"FF vs PP: \",round(average_correlation(standard.FFvPP.correlation_list),2),\" - \",\n",
    "                   \"FF vs FP: \",round(average_correlation(standard.FFvFP.correlation_list),2),\" - \",\n",
    "                   \"FP vs PP: \",round(average_correlation(standard.FPvPP.correlation_list),2)))\n",
    "        } else {\n",
    "            print(paste(\"Swapped comparisons -\",swap,\"swapped -\",mode))\n",
    "            print(paste(\"FF vs PP: \",round(average_correlation(swapped.FFvPP.correlation_list),2),\" - \",\n",
    "                   \"FF vs FP: \",round(average_correlation(swapped.FFvFP.correlation_list),2),\" - \",\n",
    "                   \"FP vs PP: \",round(average_correlation(swapped.FPvPP.correlation_list),2)))\n",
    "        }\n",
    "      \n",
    "        \n",
    "     if(identity){ # skip all the swapping stuff\n",
    "         break\n",
    "     }   \n",
    "    }\n",
    "    return(return_df)\n",
    "}"
   ]
  },
  {
   "cell_type": "code",
   "execution_count": 204,
   "metadata": {},
   "outputs": [],
   "source": [
    "# perform Mann-Whitney U test to compare the within-subject central and peripheral QDMs to randomly shuffled ones\n",
    "QDM_test <- function(original_correlations,shuffled_correlations){\n",
    "    \n",
    "    wilcox.test(original_correlations,shuffled_correlations)\n",
    "}"
   ]
  },
  {
   "cell_type": "markdown",
   "metadata": {},
   "source": [
    "#### Determine between-subject central to central QDM correlation & significance"
   ]
  },
  {
   "cell_type": "code",
   "execution_count": 208,
   "metadata": {},
   "outputs": [],
   "source": [
    "# obtain the subject similarity matrix\n",
    "# returns Fisher-transformed correlations\n",
    "\n",
    "i_j_list <- function(datadf, eccentricity1=l2e('Foveal'), eccentricity2=l2e('Foveal'),shuffle=FALSE){\n",
    "    \n",
    "    datadf = subset(datadf, Circle_1 == eccentricity1)\n",
    "    datadf = subset(datadf, Circle_2 == eccentricity2)\n",
    "    \n",
    "    subjectlist <- sort(unique(datadf$subject)) # obtain a list of all the subjects\n",
    "    \n",
    "    correlation_list <- vector() # array to store the values in\n",
    "    \n",
    "    for (ID_i in subjectlist){ \n",
    "        subjectdf_i = subset(datadf, subject == ID_i)\n",
    "        if(shuffle){\n",
    "            # get their shuffled fovea QDM\n",
    "            fmatrix_i <- shuffle_matrix(df2mat(subjectdf_i, l2e('Foveal'), l2e('Foveal'))) \n",
    "        } else {\n",
    "            # get their fovea QDM\n",
    "            fmatrix_i <- df2mat(subjectdf_i, l2e('Foveal'), l2e('Foveal'))\n",
    "        }\n",
    "        for (ID_j in subjectlist){\n",
    "            if(ID_i != ID_j){\n",
    "                \n",
    "                subjectdf_j = subset(datadf, subject == ID_j)\n",
    "                fmatrix_j <- df2mat(subjectdf_j, l2e('Foveal'), l2e('Foveal')) # get their fovea dissimilarity matrix\n",
    "\n",
    "                correlation_list <- c(correlation_list, \n",
    "                                      FisherZ(cor(c(fmatrix_i), c(fmatrix_j), method = \"spearman\")))\n",
    "                }\n",
    "        }\n",
    "    }\n",
    "    return(correlation_list)\n",
    "}"
   ]
  },
  {
   "cell_type": "code",
   "execution_count": 209,
   "metadata": {},
   "outputs": [],
   "source": [
    "# get a readout of 'average correlation' by Fisher-z transforming the list\n",
    "# then averaging it, then converting it back\n",
    "average_correlation <- function(vector){\n",
    "    average <- mean(vector)\n",
    "    return(FisherZInv(average))\n",
    "}"
   ]
  },
  {
   "cell_type": "code",
   "execution_count": 210,
   "metadata": {},
   "outputs": [],
   "source": [
    "# obtain a vector of k shuffled SSMs\n",
    "# WARNING: this may take a long time!\n",
    "shuffled_SSM_correlations <- function(datadf,n_shuffle=1000){\n",
    "    \n",
    "    # Jupyter notebooks won't print in realtime, so using this as a workaround\n",
    "    message(\"This will take approximately\")\n",
    "    start.time <- Sys.time()\n",
    "    time_test <- average_correlation(i_j_list(datadf,shuffle=TRUE))\n",
    "    test.time <- Sys.time()\n",
    "    time.estimate <- round((test.time-start.time)/60,3)*n_shuffle\n",
    "    message(as.character(time.estimate))\n",
    "    message(\"minutes.\")\n",
    "    \n",
    "    correlation_list <- vector() # array to store the values in\n",
    "    \n",
    "    for(k in 1:n_shuffle){\n",
    "        correlation_list <- c(correlation_list, average_correlation(i_j_list(datadf,shuffle=TRUE)))\n",
    "    }\n",
    "    return(correlation_list)\n",
    "}"
   ]
  },
  {
   "cell_type": "code",
   "execution_count": 211,
   "metadata": {},
   "outputs": [],
   "source": [
    "# test where the correlation of the original SSM sits in comparison to the mean correlations of the shuffled SSMs\n",
    "SSM_test <- function(SSM, SSM_shuffled_list){\n",
    "    SSM_correlation <- average_correlation(SSM)\n",
    "    count <- sum(SSM_shuffled_list > SSM_correlation)\n",
    "    p_value <- round(count/length(SSM_shuffled_list),2)\n",
    "    print(\"SSM correlation comparison\")\n",
    "    print(paste(\"p-value =\",format(p_value, nsmall = 2)))\n",
    "    return(p_value)\n",
    "}"
   ]
  },
  {
   "cell_type": "markdown",
   "metadata": {},
   "source": [
    "#### Determine whether within-subject central-peripheral QDM correlation is equal to or greater than between-subject central-central QDMs"
   ]
  },
  {
   "cell_type": "code",
   "execution_count": 212,
   "metadata": {},
   "outputs": [],
   "source": [
    "# blah"
   ]
  },
  {
   "cell_type": "code",
   "execution_count": 213,
   "metadata": {},
   "outputs": [],
   "source": [
    "# do the analysis"
   ]
  },
  {
   "cell_type": "code",
   "execution_count": 214,
   "metadata": {},
   "outputs": [],
   "source": [
    "# correlation plot\n",
    "corr_plot <- function(correlation_list,title='BLANK',xlabel='BLANK',f2z=FALSE){\n",
    "    df <- data.frame(correlation_list) # convert list to data frame\n",
    "    df[xlabel] = xlabel\n",
    "    \n",
    "    plot <- ggplot(df,aes(x=xlabel,y=correlation_list)) + \n",
    "                geom_boxplot() + \n",
    "                geom_dotplot(binaxis='y',stackdir='center',dotsize=0.75) +\n",
    "                theme(text = element_text(size=15)) + xlab(\"\")\n",
    "                ggtitle(title)\n",
    "    if(f2z){\n",
    "                plot <- plot + ylab(\"Fisher-Transformed Correlation (Spearman)\") + ylim(-1,2)\n",
    "    } else {\n",
    "                plot <- plot + ylab(\"Correlation (Spearman)\") + ylim(-0.5,1)\n",
    "\n",
    "    }\n",
    "    plot <- plot + geom_hline(yintercept=0, linetype=\"dashed\", color = \"blue\")\n",
    "    return(plot)\n",
    "}"
   ]
  },
  {
   "cell_type": "code",
   "execution_count": 215,
   "metadata": {},
   "outputs": [],
   "source": [
    "within_between_plots <- function(datadf,savestr){\n",
    "    \n",
    "    fvp <- fvp_list(datadf)\n",
    "    i_j <- i_j_list(datadf)\n",
    "    \n",
    "    within_plot <- corr_plot(fvp,'Within-subject FvP','Within-subject FvP')\n",
    "    between_plot <- corr_plot(i_j,'Between-subject FvF','Between-subject FvF')\n",
    "    within_plot_fisher <- corr_plot(FisherZ(fvp),'Within-subject FvP','Within-subject FvP',TRUE)\n",
    "    between_plot_fisher <- corr_plot(FisherZ(i_j),'Between-subject FvF','Between-subject FvF',TRUE)\n",
    "\n",
    "    # save the plots\n",
    "    title <- textGrob(substr(savestr,nchar('data/')+1,nchar(savestr)))\n",
    "    g <- arrangeGrob(within_plot,between_plot,\n",
    "                     within_plot_fisher,between_plot_fisher,\n",
    "                        nrow = 2, ncol= 2,\n",
    "                    top = title)\n",
    "\n",
    "        # save it\n",
    "    ggsave(paste(savestr,\"_Subject_Plots/\",\"correlation plot comparisons_\",\"plot.png\",sep=''),g, height = 11, width = 10)\n",
    "}"
   ]
  },
  {
   "cell_type": "code",
   "execution_count": 216,
   "metadata": {
    "scrolled": true
   },
   "outputs": [],
   "source": [
    "# plot within-subject FvP correlations against between-subject FvF correlations\n",
    "if(plot_within_between){within_between_plots(datadf,savestr)}"
   ]
  },
  {
   "cell_type": "markdown",
   "metadata": {},
   "source": [
    "Additional experimental summary graphs"
   ]
  },
  {
   "cell_type": "code",
   "execution_count": 217,
   "metadata": {},
   "outputs": [],
   "source": [
    "# obtains a dataframe of traces for subjects\n",
    "trace_obtainer <- function(datadf,type=\"trace\"){\n",
    "    subjectlist <- sort(unique(datadf$subject)) # obtain a list of all the subjects\n",
    "    tracedf <- data.frame(subject=character(),ftrace=double(),ptrace=double()) # initialise an output df for the traces\n",
    "    for (ID in subjectlist){\n",
    "        tempdf <- subset(datadf, subject == ID)\n",
    "        if(type == 'antitrace'){\n",
    "            subject_trace <- antitrace_avg(tempdf)\n",
    "        } else if (type == 'difference'){\n",
    "            subject_trace <- unlist(antitrace_avg(tempdf),use.names=FALSE) - unlist(trace_avg(tempdf),use.names=FALSE)\n",
    "        }else{\n",
    "            subject_trace <- trace_avg(tempdf)\n",
    "        }\n",
    "        row_df <- data.frame(ID, as.numeric(subject_trace[1]),as.numeric(subject_trace[2]))\n",
    "        names(row_df) <- c(\"subject\",\"Fovea x Fovea\",\"Periphery x Periphery\")\n",
    "        tracedf<- rbind(tracedf,row_df)\n",
    "    }\n",
    "    return(tracedf)\n",
    "}"
   ]
  },
  {
   "cell_type": "code",
   "execution_count": 218,
   "metadata": {},
   "outputs": [],
   "source": [
    "# plot the traces for the subjects individually\n",
    "trace_plot <- function(datadf,type='trace',grouped=TRUE){\n",
    "    \n",
    "    datadf$subject <- as.character(datadf$subject) # necessary for visualisation\n",
    "    \n",
    "    if(type == 'antitrace'){\n",
    "        trace_df <- trace_obtainer(datadf,'antitrace')\n",
    "    } else if (type == 'difference'){\n",
    "        trace_df <- trace_obtainer(datadf,'difference')\n",
    "    } else {\n",
    "        trace_df <- trace_obtainer(datadf)\n",
    "    }\n",
    "    \n",
    "    \n",
    "    tracedf <- gather(trace_df, key = \"eccentricity\",value = \"trace\", 2:3)\n",
    "    \n",
    "    if(grouped){\n",
    "        plot <- ggplot(tracedf, aes(x = eccentricity, y=trace)) +\n",
    "        geom_boxplot() + geom_dotplot(binaxis='y',stackdir='center',dotsize=0.5) +\n",
    "        theme(legend.position = \"none\")\n",
    "    } else {\n",
    "        plot <- ggplot(tracedf, aes(x = eccentricity, y=trace, group = subject, color = subject)) +\n",
    "        geom_line() + theme(legend.position = \"none\")\n",
    "    }\n",
    "    \n",
    "    if(type == 'antitrace'){\n",
    "        plot <- plot + ylim(0,7) + ylab(\"Mean Physically Maximally Distinct Stimulus Similarity\")\n",
    "    } else if (type == 'difference'){\n",
    "        plot <- plot + ylim(-6,6) + ylab(\"Distinct - Identical\")\n",
    "    } else {\n",
    "        plot <- plot + ylim(0,7) + ylab(\"Mean Physically Identical Stimulus Similarity\")\n",
    "    }\n",
    "    \n",
    "    return(plot)\n",
    "}"
   ]
  },
  {
   "cell_type": "markdown",
   "metadata": {},
   "source": [
    "### Do the analysis"
   ]
  },
  {
   "cell_type": "markdown",
   "metadata": {},
   "source": [
    "#### Within-subjects analysis\n",
    "Next, check what the within-subject correlations are between central and peripheral QDMs.  \n",
    "Do this by comparing the raw QDMs to shuffled QDMs\n",
    "Fisher-transform the correlations and compare using a non-parametric test"
   ]
  },
  {
   "cell_type": "code",
   "execution_count": null,
   "metadata": {},
   "outputs": [],
   "source": [
    "## Fovea vs. Periphery\n",
    "# correlation between foveal and peripheral matrices, within subject\n",
    "within_raw <- eccentricity_compare_list(cleandf,e1='FF',e2='PP')\n",
    "print(paste(\"Mean FF-PP correlation:\",average_correlation(within_raw)))\n",
    "# correlation between foveal and shuffled peripheral matrices, within subject\n",
    "within_shuffled <- eccentricity_compare_shuffled_list(cleandf,e1='FF',e2='PP') \n",
    "print(paste(\"Mean shuffled FF-PP correlation:\",average_correlation(within_shuffled)))\n",
    "# correlation between foveal and inverted peripheral matrices, within subject\n",
    "within_inverted <- eccentricity_compare_shuffled_list(cleandf,e1='FF',e2='PP',mode='invert') \n",
    "print(paste(\"Mean inverted FF-PP correlation:\",average_correlation(within_inverted)))\n",
    "# correlation between foveal and swapped peripheral matrices, within subject\n",
    "within_swapped <- eccentricity_compare_shuffled_list(cleandf,e1='FF',e2='PP',mode='swap') \n",
    "print(paste(\"Mean swapped FF-PP correlation:\",average_correlation(within_swapped)))\n",
    "\n",
    "#comparison\n",
    "QDM_test(within_raw,within_inverted)\n"
   ]
  },
  {
   "cell_type": "code",
   "execution_count": null,
   "metadata": {},
   "outputs": [],
   "source": [
    "## Fovea vs. FP\n",
    "## Fovea vs. Periphery\n",
    "# correlation between foveal and peripheral matrices, within subject\n",
    "within_raw <- eccentricity_compare_list(cleandf,e1='FF',e2='FP')\n",
    "print(paste(\"Mean FF-PP correlation:\",average_correlation(within_raw)))\n",
    "# correlation between foveal and shuffled peripheral matrices, within subject\n",
    "within_shuffled <- eccentricity_compare_shuffled_list(cleandf,e1='FF',e2='FP') \n",
    "print(paste(\"Mean shuffled FF-PP correlation:\",average_correlation(within_shuffled)))\n",
    "# correlation between foveal and inverted peripheral matrices, within subject\n",
    "within_inverted <- eccentricity_compare_shuffled_list(cleandf,e1='FF',e2='FP',mode='invert') \n",
    "print(paste(\"Mean inverted FF-PP correlation:\",average_correlation(within_inverted)))\n",
    "# correlation between foveal and swapped peripheral matrices, within subject\n",
    "within_swapped <- eccentricity_compare_shuffled_list(cleandf,e1='FF',e2='FP',mode='swap') \n",
    "print(paste(\"Mean swapped FF-PP correlation:\",average_correlation(within_swapped)))\n",
    "\n",
    "#comparison\n",
    "QDM_test(within_raw,within_inverted)"
   ]
  },
  {
   "cell_type": "code",
   "execution_count": null,
   "metadata": {},
   "outputs": [],
   "source": [
    "## Periphery vs. FP\n",
    "## Fovea vs. Periphery\n",
    "# correlation between foveal and peripheral matrices, within subject\n",
    "within_raw <- eccentricity_compare_list(cleandf,e1='FP',e2='PP')\n",
    "print(paste(\"Mean FF-PP correlation:\",average_correlation(within_raw)))\n",
    "# correlation between foveal and shuffled peripheral matrices, within subject\n",
    "within_shuffled <- eccentricity_compare_shuffled_list(cleandf,e1='FP',e2='PP') \n",
    "print(paste(\"Mean shuffled FF-PP correlation:\",average_correlation(within_shuffled)))\n",
    "# correlation between foveal and inverted peripheral matrices, within subject\n",
    "within_inverted <- eccentricity_compare_shuffled_list(cleandf,e1='FP',e2='PP',mode='invert') \n",
    "print(paste(\"Mean inverted FF-PP correlation:\",average_correlation(within_inverted)))\n",
    "# correlation between foveal and swapped peripheral matrices, within subject\n",
    "within_swapped <- eccentricity_compare_shuffled_list(cleandf,e1='FP',e2='PP',mode='swap') \n",
    "print(paste(\"Mean swapped FF-PP correlation:\",average_correlation(within_swapped)))\n",
    "\n",
    "#comparison\n",
    "QDM_test(within_raw,within_inverted)\n"
   ]
  },
  {
   "cell_type": "markdown",
   "metadata": {},
   "source": [
    "#### Between-subjects analysis\n",
    "How concordant are subjects on similarity judgments given to centrally presented stimuli?\n",
    "Check the correlation between the central QDM of each subject *i* and *j* and obtain a subject similarity matrix (SSM). If there's no relationship between subjects, these correlations will be unaffected by shuffling the labels on the QDM for subject *i*. "
   ]
  },
  {
   "cell_type": "markdown",
   "metadata": {},
   "source": [
    "First up, let's get the standard SSM and see how correlated its entries are."
   ]
  },
  {
   "cell_type": "code",
   "execution_count": null,
   "metadata": {},
   "outputs": [],
   "source": [
    "SSM <- i_j_list(cleandf)\n",
    "print(paste(\"Mean between-subject fovea-fovea correlation:\",average_correlation(SSM)))"
   ]
  },
  {
   "cell_type": "markdown",
   "metadata": {},
   "source": [
    "Next up, let's do the same thing for shuffled SSMs and get a distribution by doing it 1000 times"
   ]
  },
  {
   "cell_type": "code",
   "execution_count": null,
   "metadata": {},
   "outputs": [],
   "source": [
    "SSM_shuffled_list <- shuffled_SSM_correlations(cleandf,n_shuffle=100) #Currently only set to 100!"
   ]
  },
  {
   "cell_type": "markdown",
   "metadata": {},
   "source": [
    "Now, let's see where in the distribution of the shuffled SSMs that our actual SSM correlation sits"
   ]
  },
  {
   "cell_type": "code",
   "execution_count": null,
   "metadata": {},
   "outputs": [],
   "source": [
    "SSM_test(SSM,SSM_shuffled_list)"
   ]
  },
  {
   "cell_type": "markdown",
   "metadata": {},
   "source": [
    "#### Within-subjects vs. Between-subjects analysis"
   ]
  },
  {
   "cell_type": "markdown",
   "metadata": {},
   "source": [
    "What we really want to know is whether within-subject central-central, central-peripheral and peripheral-peripheral QDMs are \"essentially the same\". We assert they are the same if they are more correlated with each other than between-subject central-central QDMs. We can compare these using a non-parametric test on the distribution of Fisher-transformed QDMs"
   ]
  },
  {
   "cell_type": "code",
   "execution_count": null,
   "metadata": {},
   "outputs": [],
   "source": [
    "print(paste(\"Mean fovea-periphery correlation:\",average_correlation(within_raw)))\n",
    "print(paste(\"Mean between-subject fovea-fovea correlation:\",average_correlation(SSM)))\n",
    "\n",
    "QDM_test(within_raw,SSM)\n"
   ]
  },
  {
   "cell_type": "markdown",
   "metadata": {},
   "source": [
    "### Power Analysis"
   ]
  },
  {
   "cell_type": "code",
   "execution_count": null,
   "metadata": {},
   "outputs": [],
   "source": [
    "test<-c(within_raw,within_raw)\n",
    "QDM_test(test,SSM)"
   ]
  },
  {
   "cell_type": "markdown",
   "metadata": {},
   "source": [
    "## Between-subject analysis v2.0"
   ]
  },
  {
   "cell_type": "markdown",
   "metadata": {},
   "source": [
    "#### Local"
   ]
  },
  {
   "cell_type": "code",
   "execution_count": 292,
   "metadata": {},
   "outputs": [],
   "source": [
    "get.submat <- function(mat,submat){\n",
    "    if(submat == 'CC'){\n",
    "        out.mat <- mat[1:9,1:9]\n",
    "    } else if (submat == 'CP'){\n",
    "        out.mat <- mat[1:9,10:18]\n",
    "    } else if (submat == 'PP'){\n",
    "        out.mat <- mat[10:18,10:18]\n",
    "    }\n",
    "    return(out.mat)\n",
    "}"
   ]
  },
  {
   "cell_type": "code",
   "execution_count": 154,
   "metadata": {},
   "outputs": [],
   "source": [
    "# get the subject variance for each eccentricity, size & magnification\n",
    "between <- function(cleandf,mode='local',diagnose=FALSE){\n",
    "    magnification_list <- sort(unique(cleandf$peripheral_scale))\n",
    "    stim_sizes <- sort(unique(cleandf$stimulus_radius))\n",
    "    \n",
    "    names <- c('ID','submat','magnification','size','mean','mean.corrected','variance','variance.corrected')\n",
    "    return_df <- data.frame(matrix(nrow=0,ncol=length(names))) # initialisation\n",
    "    colnames(return_df) <- names\n",
    "    \n",
    "    for(scale in magnification_list){\n",
    "        temp_scale_df <- subset(cleandf, peripheral_scale == scale)\n",
    "        for(stim_size in stim_sizes){\n",
    "            tempdf <- subset(temp_scale_df, stimulus_radius == stim_size)\n",
    "            subjects <- sort(unique(cleandf$subject))\n",
    "            \n",
    "            group.mats <- dissimgroup2matlist(tempdf) # group mats for each subject\n",
    "            \n",
    "            # collect the CC, CP and PP variance for each subject\n",
    "            submats <- c('CC','CP','PP')\n",
    "            temp.list <- list()\n",
    "            for(submat in submats){\n",
    "                for(mat in 1:length(group.mats)){\n",
    "                   temp.mat <- get.submat(group.mats[[mat]],submat)\n",
    "                    if(mode=='intermediate'){\n",
    "                        temp.mat.flat <- flatten(rank.mat.obtain(temp.mat))\n",
    "                        temp.list[[mat]] <- temp.mat.flat\n",
    "                    } else{\n",
    "                        temp.list[[mat]] <- temp.mat\n",
    "                    }\n",
    "                    \n",
    "                }\n",
    "                #then, subtract the group average from each matrix\n",
    "                avg.mat <- group.mat.average(temp.list)\n",
    "                temp.list.corrected <- list()\n",
    "                for(mat in 1:length(temp.list)){\n",
    "                       temp.list.corrected[[mat]] <- temp.list[[mat]] - avg.mat\n",
    "                }\n",
    "                # record data\n",
    "                for(subject in 1:length(temp.list)){ # grab the variance for each subject as the outcome measure\n",
    "\n",
    "                    subject.data <- data.frame(matrix(nrow=1,ncol=length(names)))\n",
    "                    colnames(subject.data) <- names\n",
    "                    s.data <- na.omit(c(temp.list[[subject]]))\n",
    "                    s.data.corrected <- na.omit(c(temp.list.corrected[[subject]]))\n",
    "                    \n",
    "                    subject.mean <- mean(s.data)\n",
    "                    subject.var <- var(s.data)\n",
    "                    subject.mean.corrected <- mean(s.data.corrected)\n",
    "                    subject.var.corrected <- var(s.data.corrected)\n",
    "\n",
    "                    \n",
    "                    subject.data$ID <- subjects[subject]\n",
    "                    subject.data$submat <- submat\n",
    "                    subject.data$comparison <- submat\n",
    "                    subject.data$magnification <- scale\n",
    "                    subject.data$size <- stim_size\n",
    "                    subject.data$mean <- subject.mean\n",
    "                    subject.data$mean.corrected <- subject.mean.corrected\n",
    "                    subject.data$variance <- subject.var\n",
    "                    subject.data$variance.corrected <- subject.var.corrected\n",
    "\n",
    "                    return_df <- rbind(return_df,subject.data)\n",
    "                }\n",
    "            }           \n",
    "        }\n",
    "    }\n",
    "    save(return_df,file=paste(mode,\"between.Rda\"))\n",
    "    return(return_df)\n",
    "}"
   ]
  },
  {
   "cell_type": "code",
   "execution_count": 155,
   "metadata": {},
   "outputs": [
    {
     "data": {
      "text/html": [
       "<table>\n",
       "<thead><tr><th scope=col>ID</th><th scope=col>submat</th><th scope=col>magnification</th><th scope=col>size</th><th scope=col>mean</th><th scope=col>mean.corrected</th><th scope=col>variance</th><th scope=col>variance.corrected</th></tr></thead>\n",
       "<tbody>\n",
       "</tbody>\n",
       "</table>\n"
      ],
      "text/latex": [
       "\\begin{tabular}{r|llllllll}\n",
       " ID & submat & magnification & size & mean & mean.corrected & variance & variance.corrected\\\\\n",
       "\\hline\n",
       "\\end{tabular}\n"
      ],
      "text/markdown": [
       "\n",
       "| ID | submat | magnification | size | mean | mean.corrected | variance | variance.corrected |\n",
       "|---|---|---|---|---|---|---|---|\n",
       "\n"
      ],
      "text/plain": [
       "     ID submat magnification size mean mean.corrected variance\n",
       "     variance.corrected"
      ]
     },
     "metadata": {},
     "output_type": "display_data"
    }
   ],
   "source": [
    "bl.int.data <- between(cleandf,mode='intermediate')\n",
    "head(bl.int.data,5)"
   ]
  },
  {
   "cell_type": "code",
   "execution_count": 156,
   "metadata": {},
   "outputs": [],
   "source": [
    "# load the data from the saved file\n",
    "load(\"C:/Users/zelez/Google Drive/tLab/Precision Phenomenology/Data Analysis/Precision-Phenomenology-Data-Analysis/local between.Rda\")\n",
    "bl.data <- return_df"
   ]
  },
  {
   "cell_type": "code",
   "execution_count": 159,
   "metadata": {},
   "outputs": [
    {
     "data": {
      "text/html": [
       "<ol class=list-inline>\n",
       "\t<li>0.05</li>\n",
       "\t<li>1</li>\n",
       "</ol>\n"
      ],
      "text/latex": [
       "\\begin{enumerate*}\n",
       "\\item 0.05\n",
       "\\item 1\n",
       "\\end{enumerate*}\n"
      ],
      "text/markdown": [
       "1. 0.05\n",
       "2. 1\n",
       "\n",
       "\n"
      ],
      "text/plain": [
       "[1] 0.05 1.00"
      ]
     },
     "metadata": {},
     "output_type": "display_data"
    },
    {
     "name": "stdout",
     "output_type": "stream",
     "text": [
      "\n",
      "Call:\n",
      "lm(formula = variance.corrected ~ eccentricity + size + magnification + \n",
      "    eccentricity * magnification * size, data = wl.data)\n",
      "\n",
      "Residuals:\n",
      "    Min      1Q  Median      3Q     Max \n",
      "-1.5923 -0.7040 -0.2561  0.2594  3.8722 \n",
      "\n",
      "Coefficients:\n",
      "                                     Estimate Std. Error t value Pr(>|t|)    \n",
      "(Intercept)                            1.6128     0.2797   5.767 8.69e-08 ***\n",
      "eccentricityPP                         0.4079     0.3955   1.031    0.305    \n",
      "size                                  -0.5210     0.4586  -1.136    0.259    \n",
      "magnification4.5                       0.3925     0.4083   0.961    0.339    \n",
      "eccentricityPP:magnification4.5       -0.5306     0.5775  -0.919    0.360    \n",
      "eccentricityPP:size                   -0.1994     0.6485  -0.307    0.759    \n",
      "size:magnification4.5                  0.1481     0.6328   0.234    0.815    \n",
      "eccentricityPP:size:magnification4.5   0.1105     0.8949   0.123    0.902    \n",
      "---\n",
      "Signif. codes:  0 '***' 0.001 '**' 0.01 '*' 0.05 '.' 0.1 ' ' 1\n",
      "\n",
      "Residual standard error: 1.093 on 102 degrees of freedom\n",
      "Multiple R-squared:  0.07127,\tAdjusted R-squared:  0.007538 \n",
      "F-statistic: 1.118 on 7 and 102 DF,  p-value: 0.3575\n",
      "\n"
     ]
    },
    {
     "data": {
      "text/html": [
       "<table>\n",
       "<thead><tr><th></th><th scope=col>2.5 %</th><th scope=col>97.5 %</th></tr></thead>\n",
       "<tbody>\n",
       "\t<tr><th scope=row>(Intercept)</th><td> 1.0580892</td><td>2.1675461 </td></tr>\n",
       "\t<tr><th scope=row>eccentricityPP</th><td>-0.3765732</td><td>1.1924358 </td></tr>\n",
       "\t<tr><th scope=row>size</th><td>-1.4305754</td><td>0.3885868 </td></tr>\n",
       "\t<tr><th scope=row>magnification4.5</th><td>-0.4174162</td><td>1.2024640 </td></tr>\n",
       "\t<tr><th scope=row>eccentricityPP:magnification4.5</th><td>-1.6760650</td><td>0.6147916 </td></tr>\n",
       "\t<tr><th scope=row>eccentricityPP:size</th><td>-1.4857423</td><td>1.0869415 </td></tr>\n",
       "\t<tr><th scope=row>size:magnification4.5</th><td>-1.1069898</td><td>1.4032454 </td></tr>\n",
       "\t<tr><th scope=row>eccentricityPP:size:magnification4.5</th><td>-1.6645000</td><td>1.8855087 </td></tr>\n",
       "</tbody>\n",
       "</table>\n"
      ],
      "text/latex": [
       "\\begin{tabular}{r|ll}\n",
       "  & 2.5 \\% & 97.5 \\%\\\\\n",
       "\\hline\n",
       "\t(Intercept) &  1.0580892 & 2.1675461 \\\\\n",
       "\teccentricityPP & -0.3765732 & 1.1924358 \\\\\n",
       "\tsize & -1.4305754 & 0.3885868 \\\\\n",
       "\tmagnification4.5 & -0.4174162 & 1.2024640 \\\\\n",
       "\teccentricityPP:magnification4.5 & -1.6760650 & 0.6147916 \\\\\n",
       "\teccentricityPP:size & -1.4857423 & 1.0869415 \\\\\n",
       "\tsize:magnification4.5 & -1.1069898 & 1.4032454 \\\\\n",
       "\teccentricityPP:size:magnification4.5 & -1.6645000 & 1.8855087 \\\\\n",
       "\\end{tabular}\n"
      ],
      "text/markdown": [
       "\n",
       "| <!--/--> | 2.5 % | 97.5 % |\n",
       "|---|---|---|\n",
       "| (Intercept) |  1.0580892 | 2.1675461  |\n",
       "| eccentricityPP | -0.3765732 | 1.1924358  |\n",
       "| size | -1.4305754 | 0.3885868  |\n",
       "| magnification4.5 | -0.4174162 | 1.2024640  |\n",
       "| eccentricityPP:magnification4.5 | -1.6760650 | 0.6147916  |\n",
       "| eccentricityPP:size | -1.4857423 | 1.0869415  |\n",
       "| size:magnification4.5 | -1.1069898 | 1.4032454  |\n",
       "| eccentricityPP:size:magnification4.5 | -1.6645000 | 1.8855087  |\n",
       "\n"
      ],
      "text/plain": [
       "                                     2.5 %      97.5 %   \n",
       "(Intercept)                           1.0580892 2.1675461\n",
       "eccentricityPP                       -0.3765732 1.1924358\n",
       "size                                 -1.4305754 0.3885868\n",
       "magnification4.5                     -0.4174162 1.2024640\n",
       "eccentricityPP:magnification4.5      -1.6760650 0.6147916\n",
       "eccentricityPP:size                  -1.4857423 1.0869415\n",
       "size:magnification4.5                -1.1069898 1.4032454\n",
       "eccentricityPP:size:magnification4.5 -1.6645000 1.8855087"
      ]
     },
     "metadata": {},
     "output_type": "display_data"
    },
    {
     "ename": "ERROR",
     "evalue": "Error in var.plot(bl.cc.local, \"BL CC LOCAL\", bl = TRUE, eccentricity = TRUE): could not find function \"var.plot\"\n",
     "output_type": "error",
     "traceback": [
      "Error in var.plot(bl.cc.local, \"BL CC LOCAL\", bl = TRUE, eccentricity = TRUE): could not find function \"var.plot\"\nTraceback:\n"
     ]
    }
   ],
   "source": [
    "bl.cc.local <- subset(bl.data, submat!='CP')\n",
    "bl.cc.local <- subset(bl.cc.local, (size == 1) | (size==0.05))\n",
    "bl.cc.local$eccentricity <- bl.cc.local$comparison\n",
    "unique(bl.cc.local$size)\n",
    "var.stats(bl.cc.local,bl=TRUE,eccentricity=TRUE)\n",
    "var.plot(bl.cc.local,'BL CC LOCAL',bl=TRUE,eccentricity=TRUE)"
   ]
  },
  {
   "cell_type": "code",
   "execution_count": 361,
   "metadata": {},
   "outputs": [
    {
     "name": "stdout",
     "output_type": "stream",
     "text": [
      "\n",
      "\tOne Sample t-test\n",
      "\n",
      "data:  t.data\n",
      "t = -2.6649, df = 27, p-value = 0.006419\n",
      "alternative hypothesis: true mean is less than 2.5\n",
      "95 percent confidence interval:\n",
      "     -Inf 2.255438\n",
      "sample estimates:\n",
      "mean of x \n",
      " 1.822237 \n",
      "\n",
      "mean of x \n",
      " 1.822237 \n",
      "\n",
      "\tOne Sample t-test\n",
      "\n",
      "data:  t.data\n",
      "t = -3.7201, df = 27, p-value = 0.0004618\n",
      "alternative hypothesis: true mean is less than 2.5\n",
      "95 percent confidence interval:\n",
      "     -Inf 2.042371\n",
      "sample estimates:\n",
      "mean of x \n",
      " 1.655878 \n",
      "\n",
      "mean of x \n",
      " 1.655878 \n"
     ]
    }
   ],
   "source": [
    "threshold.test(bl.cc.local, threshold=2.5, select='CC',bl=TRUE)\n",
    "threshold.test(bl.cc.local, threshold=2.5, select='PP',bl=TRUE)"
   ]
  },
  {
   "cell_type": "code",
   "execution_count": 171,
   "metadata": {},
   "outputs": [],
   "source": [
    "#bl.cc.local$eccentricity <- 1\n",
    "#bl.pp.local$eccentricity <- 10\n",
    "\n",
    "#bl.local <- rbind(bl.cc.local,bl.pp.local)\n",
    "bl.pp.local <- subset(bl.data, (size == 1) | (size==0.05))\n",
    "bl.local <- subset(bl.pp.local, submat=='PP')"
   ]
  },
  {
   "cell_type": "code",
   "execution_count": 172,
   "metadata": {},
   "outputs": [
    {
     "name": "stdout",
     "output_type": "stream",
     "text": [
      "\n",
      "Call:\n",
      "lm(formula = variance.corrected ~ size + magnification + magnification * \n",
      "    size, data = wl.data)\n",
      "\n",
      "Residuals:\n",
      "    Min      1Q  Median      3Q     Max \n",
      "-1.3269 -0.6985 -0.1912  0.3129  3.1628 \n",
      "\n",
      "Coefficients:\n",
      "                      Estimate Std. Error t value Pr(>|t|)    \n",
      "(Intercept)             2.0207     0.2585   7.816 2.82e-10 ***\n",
      "size                   -0.7204     0.4239  -1.699   0.0953 .  \n",
      "magnification4.5       -0.1381     0.3775  -0.366   0.7160    \n",
      "size:magnification4.5   0.2586     0.5849   0.442   0.6602    \n",
      "---\n",
      "Signif. codes:  0 '***' 0.001 '**' 0.01 '*' 0.05 '.' 0.1 ' ' 1\n",
      "\n",
      "Residual standard error: 1.01 on 51 degrees of freedom\n",
      "Multiple R-squared:  0.07738,\tAdjusted R-squared:  0.0231 \n",
      "F-statistic: 1.426 on 3 and 51 DF,  p-value: 0.246\n",
      "\n"
     ]
    },
    {
     "data": {
      "text/html": [
       "<table>\n",
       "<thead><tr><th></th><th scope=col>2.5 %</th><th scope=col>97.5 %</th></tr></thead>\n",
       "<tbody>\n",
       "\t<tr><th scope=row>(Intercept)</th><td> 1.5017405</td><td>2.5397573 </td></tr>\n",
       "\t<tr><th scope=row>size</th><td>-1.5714061</td><td>0.1306167 </td></tr>\n",
       "\t<tr><th scope=row>magnification4.5</th><td>-0.8958993</td><td>0.6196738 </td></tr>\n",
       "\t<tr><th scope=row>size:magnification4.5</th><td>-0.9156660</td><td>1.4329303 </td></tr>\n",
       "</tbody>\n",
       "</table>\n"
      ],
      "text/latex": [
       "\\begin{tabular}{r|ll}\n",
       "  & 2.5 \\% & 97.5 \\%\\\\\n",
       "\\hline\n",
       "\t(Intercept) &  1.5017405 & 2.5397573 \\\\\n",
       "\tsize & -1.5714061 & 0.1306167 \\\\\n",
       "\tmagnification4.5 & -0.8958993 & 0.6196738 \\\\\n",
       "\tsize:magnification4.5 & -0.9156660 & 1.4329303 \\\\\n",
       "\\end{tabular}\n"
      ],
      "text/markdown": [
       "\n",
       "| <!--/--> | 2.5 % | 97.5 % |\n",
       "|---|---|---|\n",
       "| (Intercept) |  1.5017405 | 2.5397573  |\n",
       "| size | -1.5714061 | 0.1306167  |\n",
       "| magnification4.5 | -0.8958993 | 0.6196738  |\n",
       "| size:magnification4.5 | -0.9156660 | 1.4329303  |\n",
       "\n"
      ],
      "text/plain": [
       "                      2.5 %      97.5 %   \n",
       "(Intercept)            1.5017405 2.5397573\n",
       "size                  -1.5714061 0.1306167\n",
       "magnification4.5      -0.8958993 0.6196738\n",
       "size:magnification4.5 -0.9156660 1.4329303"
      ]
     },
     "metadata": {},
     "output_type": "display_data"
    },
    {
     "data": {
      "image/png": "[encoded data removed]",
      "text/plain": [
       "plot without title"
      ]
     },
     "metadata": {},
     "output_type": "display_data"
    }
   ],
   "source": [
    "var.stats(bl.local,bl=TRUE)\n",
    "var.plot(bl.local,'BL Local',bl=TRUE)"
   ]
  },
  {
   "cell_type": "code",
   "execution_count": 173,
   "metadata": {},
   "outputs": [],
   "source": [
    "# load the data from the saved file\n",
    "load(\"C:/Users/zelez/Google Drive/tLab/Precision Phenomenology/Data Analysis/Precision-Phenomenology-Data-Analysis/intermediate between.Rda\")\n",
    "bl.int.data <- return_df"
   ]
  },
  {
   "cell_type": "code",
   "execution_count": 174,
   "metadata": {},
   "outputs": [
    {
     "ename": "ERROR",
     "evalue": "Error in threshold.test(bl.cc.int, threshold = 1, select = \"CC\", bl = TRUE): could not find function \"threshold.test\"\n",
     "output_type": "error",
     "traceback": [
      "Error in threshold.test(bl.cc.int, threshold = 1, select = \"CC\", bl = TRUE): could not find function \"threshold.test\"\nTraceback:\n"
     ]
    }
   ],
   "source": [
    "threshold.test(bl.cc.int, threshold=1, select='CC',bl=TRUE)\n",
    "threshold.test(bl.cc.int, threshold=1, select='PP',bl=TRUE)"
   ]
  },
  {
   "cell_type": "code",
   "execution_count": 175,
   "metadata": {},
   "outputs": [
    {
     "data": {
      "text/html": [
       "<table>\n",
       "<thead><tr><th></th><th scope=col>ID</th><th scope=col>submat</th><th scope=col>magnification</th><th scope=col>size</th><th scope=col>mean</th><th scope=col>mean.corrected</th><th scope=col>variance</th><th scope=col>variance.corrected</th><th scope=col>comparison</th><th scope=col>eccentricity</th></tr></thead>\n",
       "<tbody>\n",
       "\t<tr><th scope=row>35</th><td> 3248455   </td><td>PP         </td><td>1          </td><td>0.05       </td><td>-0.19444444</td><td>-0.16433240</td><td>0.8743913  </td><td>0.6243437  </td><td>PP         </td><td>PP         </td></tr>\n",
       "\t<tr><th scope=row>36</th><td>11005010   </td><td>PP         </td><td>1          </td><td>0.05       </td><td>-0.04761905</td><td>-0.01750700</td><td>0.9299943  </td><td>0.7582497  </td><td>PP         </td><td>PP         </td></tr>\n",
       "\t<tr><th scope=row>37</th><td>13228849   </td><td>PP         </td><td>1          </td><td>0.05       </td><td>-0.01587302</td><td> 0.01423903</td><td>0.8603048  </td><td>0.5357151  </td><td>PP         </td><td>PP         </td></tr>\n",
       "\t<tr><th scope=row>38</th><td>35587329   </td><td>PP         </td><td>1          </td><td>0.05       </td><td>-0.19841270</td><td>-0.16830065</td><td>0.8768102  </td><td>0.8604218  </td><td>PP         </td><td>PP         </td></tr>\n",
       "\t<tr><th scope=row>39</th><td>35716339   </td><td>PP         </td><td>1          </td><td>0.05       </td><td> 0.01587302</td><td> 0.04598506</td><td>0.9160817  </td><td>0.6153517  </td><td>PP         </td><td>PP         </td></tr>\n",
       "\t<tr><th scope=row>40</th><td>40354804   </td><td>PP         </td><td>1          </td><td>0.05       </td><td> 0.04365079</td><td> 0.07376284</td><td>0.9263739  </td><td>1.0200271  </td><td>PP         </td><td>PP         </td></tr>\n",
       "</tbody>\n",
       "</table>\n"
      ],
      "text/latex": [
       "\\begin{tabular}{r|llllllllll}\n",
       "  & ID & submat & magnification & size & mean & mean.corrected & variance & variance.corrected & comparison & eccentricity\\\\\n",
       "\\hline\n",
       "\t35 &  3248455    & PP          & 1           & 0.05        & -0.19444444 & -0.16433240 & 0.8743913   & 0.6243437   & PP          & PP         \\\\\n",
       "\t36 & 11005010    & PP          & 1           & 0.05        & -0.04761905 & -0.01750700 & 0.9299943   & 0.7582497   & PP          & PP         \\\\\n",
       "\t37 & 13228849    & PP          & 1           & 0.05        & -0.01587302 &  0.01423903 & 0.8603048   & 0.5357151   & PP          & PP         \\\\\n",
       "\t38 & 35587329    & PP          & 1           & 0.05        & -0.19841270 & -0.16830065 & 0.8768102   & 0.8604218   & PP          & PP         \\\\\n",
       "\t39 & 35716339    & PP          & 1           & 0.05        &  0.01587302 &  0.04598506 & 0.9160817   & 0.6153517   & PP          & PP         \\\\\n",
       "\t40 & 40354804    & PP          & 1           & 0.05        &  0.04365079 &  0.07376284 & 0.9263739   & 1.0200271   & PP          & PP         \\\\\n",
       "\\end{tabular}\n"
      ],
      "text/markdown": [
       "\n",
       "| <!--/--> | ID | submat | magnification | size | mean | mean.corrected | variance | variance.corrected | comparison | eccentricity |\n",
       "|---|---|---|---|---|---|---|---|---|---|---|\n",
       "| 35 |  3248455    | PP          | 1           | 0.05        | -0.19444444 | -0.16433240 | 0.8743913   | 0.6243437   | PP          | PP          |\n",
       "| 36 | 11005010    | PP          | 1           | 0.05        | -0.04761905 | -0.01750700 | 0.9299943   | 0.7582497   | PP          | PP          |\n",
       "| 37 | 13228849    | PP          | 1           | 0.05        | -0.01587302 |  0.01423903 | 0.8603048   | 0.5357151   | PP          | PP          |\n",
       "| 38 | 35587329    | PP          | 1           | 0.05        | -0.19841270 | -0.16830065 | 0.8768102   | 0.8604218   | PP          | PP          |\n",
       "| 39 | 35716339    | PP          | 1           | 0.05        |  0.01587302 |  0.04598506 | 0.9160817   | 0.6153517   | PP          | PP          |\n",
       "| 40 | 40354804    | PP          | 1           | 0.05        |  0.04365079 |  0.07376284 | 0.9263739   | 1.0200271   | PP          | PP          |\n",
       "\n"
      ],
      "text/plain": [
       "   ID       submat magnification size mean        mean.corrected variance \n",
       "35  3248455 PP     1             0.05 -0.19444444 -0.16433240    0.8743913\n",
       "36 11005010 PP     1             0.05 -0.04761905 -0.01750700    0.9299943\n",
       "37 13228849 PP     1             0.05 -0.01587302  0.01423903    0.8603048\n",
       "38 35587329 PP     1             0.05 -0.19841270 -0.16830065    0.8768102\n",
       "39 35716339 PP     1             0.05  0.01587302  0.04598506    0.9160817\n",
       "40 40354804 PP     1             0.05  0.04365079  0.07376284    0.9263739\n",
       "   variance.corrected comparison eccentricity\n",
       "35 0.6243437          PP         PP          \n",
       "36 0.7582497          PP         PP          \n",
       "37 0.5357151          PP         PP          \n",
       "38 0.8604218          PP         PP          \n",
       "39 0.6153517          PP         PP          \n",
       "40 1.0200271          PP         PP          "
      ]
     },
     "metadata": {},
     "output_type": "display_data"
    },
    {
     "name": "stdout",
     "output_type": "stream",
     "text": [
      "\n",
      "Call:\n",
      "lm(formula = variance.corrected ~ size + magnification + magnification * \n",
      "    size, data = wl.data)\n",
      "\n",
      "Residuals:\n",
      "     Min       1Q   Median       3Q      Max \n",
      "-0.30948 -0.14841 -0.02576  0.08347  0.75814 \n",
      "\n",
      "Coefficients:\n",
      "                      Estimate Std. Error t value Pr(>|t|)    \n",
      "(Intercept)            0.74729    0.05606  13.330  < 2e-16 ***\n",
      "size                  -0.32723    0.09192  -3.560 0.000814 ***\n",
      "magnification4.5      -0.20621    0.08185  -2.519 0.014935 *  \n",
      "size:magnification4.5  0.24447    0.12684   1.927 0.059510 .  \n",
      "---\n",
      "Signif. codes:  0 '***' 0.001 '**' 0.01 '*' 0.05 '.' 0.1 ' ' 1\n",
      "\n",
      "Residual standard error: 0.2191 on 51 degrees of freedom\n",
      "Multiple R-squared:  0.2542,\tAdjusted R-squared:  0.2103 \n",
      "F-statistic: 5.793 on 3 and 51 DF,  p-value: 0.001736\n",
      "\n"
     ]
    },
    {
     "data": {
      "text/html": [
       "<table>\n",
       "<thead><tr><th></th><th scope=col>2.5 %</th><th scope=col>97.5 %</th></tr></thead>\n",
       "<tbody>\n",
       "\t<tr><th scope=row>(Intercept)</th><td> 0.6347471 </td><td> 0.85983910</td></tr>\n",
       "\t<tr><th scope=row>size</th><td>-0.5117683 </td><td>-0.14268796</td></tr>\n",
       "\t<tr><th scope=row>magnification4.5</th><td>-0.3705343 </td><td>-0.04188521</td></tr>\n",
       "\t<tr><th scope=row>size:magnification4.5</th><td>-0.0101724 </td><td> 0.49911618</td></tr>\n",
       "</tbody>\n",
       "</table>\n"
      ],
      "text/latex": [
       "\\begin{tabular}{r|ll}\n",
       "  & 2.5 \\% & 97.5 \\%\\\\\n",
       "\\hline\n",
       "\t(Intercept) &  0.6347471  &  0.85983910\\\\\n",
       "\tsize & -0.5117683  & -0.14268796\\\\\n",
       "\tmagnification4.5 & -0.3705343  & -0.04188521\\\\\n",
       "\tsize:magnification4.5 & -0.0101724  &  0.49911618\\\\\n",
       "\\end{tabular}\n"
      ],
      "text/markdown": [
       "\n",
       "| <!--/--> | 2.5 % | 97.5 % |\n",
       "|---|---|---|\n",
       "| (Intercept) |  0.6347471  |  0.85983910 |\n",
       "| size | -0.5117683  | -0.14268796 |\n",
       "| magnification4.5 | -0.3705343  | -0.04188521 |\n",
       "| size:magnification4.5 | -0.0101724  |  0.49911618 |\n",
       "\n"
      ],
      "text/plain": [
       "                      2.5 %      97.5 %     \n",
       "(Intercept)            0.6347471  0.85983910\n",
       "size                  -0.5117683 -0.14268796\n",
       "magnification4.5      -0.3705343 -0.04188521\n",
       "size:magnification4.5 -0.0101724  0.49911618"
      ]
     },
     "metadata": {},
     "output_type": "display_data"
    },
    {
     "data": {
      "image/png": "[encoded data removed]",
      "text/plain": [
       "plot without title"
      ]
     },
     "metadata": {},
     "output_type": "display_data"
    }
   ],
   "source": [
    "bl.cc.int <- subset(bl.int.data, (submat=='PP'))\n",
    "bl.cc.int <- subset(bl.cc.int, (size == 1) | (size==0.05))\n",
    "bl.cc.int$eccentricity <- bl.cc.int$comparison\n",
    "head(bl.cc.int)\n",
    "var.stats(bl.cc.int,bl=TRUE)\n",
    "var.plot(bl.cc.int,'BL CC INT',bl=TRUE)\n"
   ]
  },
  {
   "cell_type": "code",
   "execution_count": 282,
   "metadata": {},
   "outputs": [
    {
     "name": "stdout",
     "output_type": "stream",
     "text": [
      "\n",
      "Call:\n",
      "lm(formula = variance.corrected ~ size + magnification + magnification * \n",
      "    size, data = wl.data)\n",
      "\n",
      "Residuals:\n",
      "     Min       1Q   Median       3Q      Max \n",
      "-0.30986 -0.13423 -0.04672  0.08338  0.81850 \n",
      "\n",
      "Coefficients:\n",
      "                      Estimate Std. Error t value Pr(>|t|)    \n",
      "(Intercept)            0.62820    0.03672  17.108  < 2e-16 ***\n",
      "size                  -0.27923    0.08056  -3.466  0.00071 ***\n",
      "magnification4.5      -0.14744    0.05282  -2.791  0.00602 ** \n",
      "size:magnification4.5  0.19574    0.11034   1.774  0.07833 .  \n",
      "---\n",
      "Signif. codes:  0 '***' 0.001 '**' 0.01 '*' 0.05 '.' 0.1 ' ' 1\n",
      "\n",
      "Residual standard error: 0.2128 on 134 degrees of freedom\n",
      "Multiple R-squared:  0.127,\tAdjusted R-squared:  0.1074 \n",
      "F-statistic: 6.495 on 3 and 134 DF,  p-value: 0.0003887\n",
      "\n"
     ]
    },
    {
     "data": {
      "text/html": [
       "<table>\n",
       "<thead><tr><th></th><th scope=col>2.5 %</th><th scope=col>97.5 %</th></tr></thead>\n",
       "<tbody>\n",
       "\t<tr><th scope=row>(Intercept)</th><td> 0.55557298</td><td> 0.70082248</td></tr>\n",
       "\t<tr><th scope=row>size</th><td>-0.43855922</td><td>-0.11990179</td></tr>\n",
       "\t<tr><th scope=row>magnification4.5</th><td>-0.25190858</td><td>-0.04296914</td></tr>\n",
       "\t<tr><th scope=row>size:magnification4.5</th><td>-0.02248751</td><td> 0.41397117</td></tr>\n",
       "</tbody>\n",
       "</table>\n"
      ],
      "text/latex": [
       "\\begin{tabular}{r|ll}\n",
       "  & 2.5 \\% & 97.5 \\%\\\\\n",
       "\\hline\n",
       "\t(Intercept) &  0.55557298 &  0.70082248\\\\\n",
       "\tsize & -0.43855922 & -0.11990179\\\\\n",
       "\tmagnification4.5 & -0.25190858 & -0.04296914\\\\\n",
       "\tsize:magnification4.5 & -0.02248751 &  0.41397117\\\\\n",
       "\\end{tabular}\n"
      ],
      "text/markdown": [
       "\n",
       "| <!--/--> | 2.5 % | 97.5 % |\n",
       "|---|---|---|\n",
       "| (Intercept) |  0.55557298 |  0.70082248 |\n",
       "| size | -0.43855922 | -0.11990179 |\n",
       "| magnification4.5 | -0.25190858 | -0.04296914 |\n",
       "| size:magnification4.5 | -0.02248751 |  0.41397117 |\n",
       "\n"
      ],
      "text/plain": [
       "                      2.5 %       97.5 %     \n",
       "(Intercept)            0.55557298  0.70082248\n",
       "size                  -0.43855922 -0.11990179\n",
       "magnification4.5      -0.25190858 -0.04296914\n",
       "size:magnification4.5 -0.02248751  0.41397117"
      ]
     },
     "metadata": {},
     "output_type": "display_data"
    },
    {
     "ename": "ERROR",
     "evalue": "Error in `$<-.data.frame`(`*tmp*`, \"eccentricity\", value = character(0)): replacement has 0 rows, data has 138\n",
     "output_type": "error",
     "traceback": [
      "Error in `$<-.data.frame`(`*tmp*`, \"eccentricity\", value = character(0)): replacement has 0 rows, data has 138\nTraceback:\n",
      "1. var.plot(bl.pp.int, \"BL PP INT\", bl = TRUE)",
      "2. `$<-`(`*tmp*`, \"eccentricity\", value = character(0))   # at line 6 of file <text>",
      "3. `$<-.data.frame`(`*tmp*`, \"eccentricity\", value = character(0))   # at line 6 of file <text>",
      "4. stop(sprintf(ngettext(N, \"replacement has %d row, data has %d\", \n .     \"replacement has %d rows, data has %d\"), N, nrows), domain = NA)"
     ]
    }
   ],
   "source": [
    "bl.pp.int <- subset(bl.int.data, submat=='PP')\n",
    "var.stats(bl.pp.int,bl=TRUE)\n",
    "var.plot(bl.pp.int,'BL PP INT',bl=TRUE)"
   ]
  },
  {
   "cell_type": "code",
   "execution_count": 283,
   "metadata": {},
   "outputs": [],
   "source": [
    "bl.cc.int$eccentricity <- 1\n",
    "bl.pp.int$eccentricity <- 10\n",
    "\n",
    "bl.int <- rbind(bl.cc.int,bl.pp.int)"
   ]
  },
  {
   "cell_type": "code",
   "execution_count": 284,
   "metadata": {},
   "outputs": [
    {
     "name": "stdout",
     "output_type": "stream",
     "text": [
      "\n",
      "Call:\n",
      "lm(formula = variance.corrected ~ eccentricity + size + magnification + \n",
      "    magnification * size, data = wl.data)\n",
      "\n",
      "Residuals:\n",
      "     Min       1Q   Median       3Q      Max \n",
      "-0.32251 -0.13081 -0.04863  0.06743  0.84352 \n",
      "\n",
      "Coefficients:\n",
      "                       Estimate Std. Error t value Pr(>|t|)    \n",
      "(Intercept)            0.528581   0.030116  17.552  < 2e-16 ***\n",
      "eccentricity           0.004360   0.002827   1.542  0.12420    \n",
      "size                  -0.179559   0.056583  -3.173  0.00168 ** \n",
      "magnification4.5      -0.071594   0.037100  -1.930  0.05468 .  \n",
      "size:magnification4.5  0.101137   0.077500   1.305  0.19300    \n",
      "---\n",
      "Signif. codes:  0 '***' 0.001 '**' 0.01 '*' 0.05 '.' 0.1 ' ' 1\n",
      "\n",
      "Residual standard error: 0.2114 on 271 degrees of freedom\n",
      "Multiple R-squared:  0.06128,\tAdjusted R-squared:  0.04742 \n",
      "F-statistic: 4.422 on 4 and 271 DF,  p-value: 0.001768\n",
      "\n"
     ]
    },
    {
     "data": {
      "text/html": [
       "<table>\n",
       "<thead><tr><th></th><th scope=col>2.5 %</th><th scope=col>97.5 %</th></tr></thead>\n",
       "<tbody>\n",
       "\t<tr><th scope=row>(Intercept)</th><td> 0.469289998</td><td> 0.587871928</td></tr>\n",
       "\t<tr><th scope=row>eccentricity</th><td>-0.001206071</td><td> 0.009925796</td></tr>\n",
       "\t<tr><th scope=row>size</th><td>-0.290956378</td><td>-0.068161678</td></tr>\n",
       "\t<tr><th scope=row>magnification4.5</th><td>-0.144635715</td><td> 0.001447817</td></tr>\n",
       "\t<tr><th scope=row>size:magnification4.5</th><td>-0.051441959</td><td> 0.253715476</td></tr>\n",
       "</tbody>\n",
       "</table>\n"
      ],
      "text/latex": [
       "\\begin{tabular}{r|ll}\n",
       "  & 2.5 \\% & 97.5 \\%\\\\\n",
       "\\hline\n",
       "\t(Intercept) &  0.469289998 &  0.587871928\\\\\n",
       "\teccentricity & -0.001206071 &  0.009925796\\\\\n",
       "\tsize & -0.290956378 & -0.068161678\\\\\n",
       "\tmagnification4.5 & -0.144635715 &  0.001447817\\\\\n",
       "\tsize:magnification4.5 & -0.051441959 &  0.253715476\\\\\n",
       "\\end{tabular}\n"
      ],
      "text/markdown": [
       "\n",
       "| <!--/--> | 2.5 % | 97.5 % |\n",
       "|---|---|---|\n",
       "| (Intercept) |  0.469289998 |  0.587871928 |\n",
       "| eccentricity | -0.001206071 |  0.009925796 |\n",
       "| size | -0.290956378 | -0.068161678 |\n",
       "| magnification4.5 | -0.144635715 |  0.001447817 |\n",
       "| size:magnification4.5 | -0.051441959 |  0.253715476 |\n",
       "\n"
      ],
      "text/plain": [
       "                      2.5 %        97.5 %      \n",
       "(Intercept)            0.469289998  0.587871928\n",
       "eccentricity          -0.001206071  0.009925796\n",
       "size                  -0.290956378 -0.068161678\n",
       "magnification4.5      -0.144635715  0.001447817\n",
       "size:magnification4.5 -0.051441959  0.253715476"
      ]
     },
     "metadata": {},
     "output_type": "display_data"
    },
    {
     "data": {
      "image/png": "[encoded data removed]",
      "text/plain": [
       "plot without title"
      ]
     },
     "metadata": {},
     "output_type": "display_data"
    }
   ],
   "source": [
    "var.stats(bl.int,bl=TRUE,eccentricity=TRUE)\n",
    "var.plot(bl.int,'BL Intermediate',bl=TRUE,eccentricity=TRUE)"
   ]
  },
  {
   "cell_type": "markdown",
   "metadata": {},
   "source": [
    "## Tabulation & Plotting Across Conditions"
   ]
  },
  {
   "cell_type": "markdown",
   "metadata": {},
   "source": [
    "Two parameters we're interested in - (1) stimulus size and (2) cortical magnification. Want to tabulate how various outcome measures change as these parameters change"
   ]
  },
  {
   "cell_type": "markdown",
   "metadata": {},
   "source": [
    "### Within-subject correlations for each condition"
   ]
  },
  {
   "cell_type": "code",
   "execution_count": 205,
   "metadata": {},
   "outputs": [
    {
     "name": "stdout",
     "output_type": "stream",
     "text": [
      "[1] \"There are 138 unique subjects\"\n"
     ]
    },
    {
     "data": {
      "text/html": [
       "138"
      ],
      "text/latex": [
       "138"
      ],
      "text/markdown": [
       "138"
      ],
      "text/plain": [
       "[1] 138"
      ]
     },
     "metadata": {},
     "output_type": "display_data"
    }
   ],
   "source": [
    "# first, let's grab the data from compliant participants\n",
    "cleandf <- subset(datadf, noncompliant == 0)\n",
    "get_n(cleandf)"
   ]
  },
  {
   "cell_type": "code",
   "execution_count": 206,
   "metadata": {},
   "outputs": [],
   "source": [
    "# function to print the mean within-subject correlation for each condition, returns a dataframe to plot them\n",
    "within_correlations_conditions <- function(cleandf,e1='FF',e2='PP',get.correlations=TRUE,compare=TRUE,test=FALSE){\n",
    "    \n",
    "    magnification_list <- sort(unique(cleandf$peripheral_scale))\n",
    "    stim_sizes <- sort(unique(cleandf$stimulus_radius))\n",
    "    \n",
    "    return_df <- data.frame() # initialisation\n",
    "    \n",
    "    for(scale in magnification_list){\n",
    "        temp_scale_df <- subset(cleandf, peripheral_scale == scale)\n",
    "        for(stim_size in stim_sizes){\n",
    "            tempdf <- subset(temp_scale_df, stimulus_radius == stim_size)\n",
    "            \n",
    "            # mark where we are\n",
    "            print(paste(\"Magnification\",scale,\"Stimulus Radius\",stim_size))\n",
    "            get_n(tempdf) # print n values\n",
    "            print(paste(\"Median Trace:\",round(median(group_trace(tempdf)),2)))\n",
    "            print(paste(\"Median Antitrace:\",round(median(group_trace(tempdf,mode='antitrace')),2)))\n",
    "            \n",
    "            # do all the comparisons, add to a dataframe to return for plotting\n",
    "            if(compare){\n",
    "                subject.data <- within_full_compare(tempdf)\n",
    "                subject.data$magnification <- as.character(scale)\n",
    "                subject.data$stimulus_radius <- as.character(stim_size)\n",
    "                return_df <- rbind(return_df,subject.data)\n",
    "            }\n",
    "            \n",
    "            # check if they're significantly different from shuffled data\n",
    "            if(test){\n",
    "                correlations <- eccentricity_compare_list(tempdf, e1, e2)\n",
    "                \n",
    "                print(\"Shuffle comparison:\")\n",
    "                within_shuffled <- eccentricity_compare_shuffled_list(tempdf,mode='shuffle') \n",
    "                print(QDM_test(correlations,within_shuffled))\n",
    "                print(\"Random swap comparison:\")\n",
    "                within_swapped <- eccentricity_compare_shuffled_list(tempdf,mode='swap') \n",
    "                print(QDM_test(correlations,within_swapped))\n",
    "                print(\"Inverted comparison:\")\n",
    "                within_swapped <- eccentricity_compare_shuffled_list(tempdf,mode='invert') \n",
    "                print(QDM_test(correlations,within_swapped))\n",
    "                print(\"Rotated (90) comparison:\")\n",
    "                within_swapped <- eccentricity_compare_shuffled_list(tempdf,mode='rotate') \n",
    "                print(QDM_test(correlations,within_swapped))\n",
    "            }\n",
    "            print(\"\")\n",
    "        }\n",
    "    }\n",
    "    return(return_df)\n",
    "}"
   ]
  },
  {
   "cell_type": "code",
   "execution_count": 219,
   "metadata": {
    "collapsed": true,
    "jupyter": {
     "outputs_hidden": true
    }
   },
   "outputs": [
    {
     "name": "stdout",
     "output_type": "stream",
     "text": [
      "[1] \"Magnification 1 Stimulus Radius 0.05\"\n",
      "[1] \"There are 17 unique subjects\"\n",
      "[1] \"Median Trace: 2.33\"\n",
      "[1] \"Median Antitrace: 3.94\"\n",
      "[1] \"Standard comparisons\"\n",
      "[1] \"FF vs PP:  0.36  -  FF vs FP:  0.51  -  FP vs PP:  0.43\"\n",
      "[1] \"\"\n",
      "[1] \"Magnification 1 Stimulus Radius 0.1\"\n",
      "[1] \"There are 15 unique subjects\"\n",
      "[1] \"Median Trace: 1.11\"\n",
      "[1] \"Median Antitrace: 4.89\"\n",
      "[1] \"Standard comparisons\"\n",
      "[1] \"FF vs PP:  0.63  -  FF vs FP:  0.72  -  FP vs PP:  0.66\"\n",
      "[1] \"\"\n",
      "[1] \"Magnification 1 Stimulus Radius 0.25\"\n",
      "[1] \"There are 13 unique subjects\"\n",
      "[1] \"Median Trace: 0.78\"\n",
      "[1] \"Median Antitrace: 5.44\"\n",
      "[1] \"Standard comparisons\"\n",
      "[1] \"FF vs PP:  0.84  -  FF vs FP:  0.85  -  FP vs PP:  0.83\"\n",
      "[1] \"\"\n",
      "[1] \"Magnification 1 Stimulus Radius 0.5\"\n",
      "[1] \"There are 10 unique subjects\"\n",
      "[1] \"Median Trace: 0.39\"\n",
      "[1] \"Median Antitrace: 6.22\"\n",
      "[1] \"Standard comparisons\"\n",
      "[1] \"FF vs PP:  0.85  -  FF vs FP:  0.86  -  FP vs PP:  0.88\"\n",
      "[1] \"\"\n",
      "[1] \"Magnification 1 Stimulus Radius 1\"\n",
      "[1] \"There are 10 unique subjects\"\n",
      "[1] \"Median Trace: 0.72\"\n",
      "[1] \"Median Antitrace: 5.72\"\n",
      "[1] \"Standard comparisons\"\n",
      "[1] \"FF vs PP:  0.84  -  FF vs FP:  0.84  -  FP vs PP:  0.83\"\n",
      "[1] \"\"\n",
      "[1] \"Magnification 4.5 Stimulus Radius 0.05\"\n",
      "[1] \"There are 15 unique subjects\"\n",
      "[1] \"Median Trace: 1.44\"\n",
      "[1] \"Median Antitrace: 4.89\"\n",
      "[1] \"Standard comparisons\"\n",
      "[1] \"FF vs PP:  0.77  -  FF vs FP:  0.78  -  FP vs PP:  0.82\"\n",
      "[1] \"\"\n",
      "[1] \"Magnification 4.5 Stimulus Radius 0.1\"\n",
      "[1] \"There are 10 unique subjects\"\n",
      "[1] \"Median Trace: 1.22\"\n",
      "[1] \"Median Antitrace: 5.31\"\n",
      "[1] \"Standard comparisons\"\n",
      "[1] \"FF vs PP:  0.87  -  FF vs FP:  0.83  -  FP vs PP:  0.86\"\n",
      "[1] \"\"\n",
      "[1] \"Magnification 4.5 Stimulus Radius 0.25\"\n",
      "[1] \"There are 18 unique subjects\"\n",
      "[1] \"Median Trace: 0.44\"\n",
      "[1] \"Median Antitrace: 5.47\"\n",
      "[1] \"Standard comparisons\"\n",
      "[1] \"FF vs PP:  0.8  -  FF vs FP:  0.8  -  FP vs PP:  0.79\"\n",
      "[1] \"\"\n",
      "[1] \"Magnification 4.5 Stimulus Radius 0.5\"\n",
      "[1] \"There are 17 unique subjects\"\n",
      "[1] \"Median Trace: 0.11\"\n",
      "[1] \"Median Antitrace: 5.83\"\n",
      "[1] \"Standard comparisons\"\n",
      "[1] \"FF vs PP:  0.87  -  FF vs FP:  0.88  -  FP vs PP:  0.89\"\n",
      "[1] \"\"\n",
      "[1] \"Magnification 4.5 Stimulus Radius 1\"\n",
      "[1] \"There are 13 unique subjects\"\n",
      "[1] \"Median Trace: 0.33\"\n",
      "[1] \"Median Antitrace: 6.06\"\n",
      "[1] \"Standard comparisons\"\n",
      "[1] \"FF vs PP:  0.8  -  FF vs FP:  0.81  -  FP vs PP:  0.81\"\n",
      "[1] \"\"\n"
     ]
    }
   ],
   "source": [
    "within_distribution_df <- within_correlations_conditions(cleandf)"
   ]
  },
  {
   "cell_type": "code",
   "execution_count": 223,
   "metadata": {},
   "outputs": [
    {
     "data": {
      "text/html": [
       "<table>\n",
       "<thead><tr><th scope=col>ID</th><th scope=col>mode</th><th scope=col>FFvPP</th><th scope=col>FFvFP</th><th scope=col>FPvPP</th><th scope=col>magnification</th><th scope=col>stimulus_radius</th></tr></thead>\n",
       "<tbody>\n",
       "\t<tr><td> 11005010   </td><td>identity    </td><td> 0.580542879</td><td> 0.83553635 </td><td>0.90420325  </td><td>1           </td><td>0.05        </td></tr>\n",
       "\t<tr><td> 64413254   </td><td>identity    </td><td> 0.540410803</td><td> 1.07006581 </td><td>0.62511562  </td><td>1           </td><td>0.05        </td></tr>\n",
       "\t<tr><td>294207097   </td><td>identity    </td><td> 0.421363638</td><td> 0.59652111 </td><td>0.63017057  </td><td>1           </td><td>0.05        </td></tr>\n",
       "\t<tr><td>338738516   </td><td>identity    </td><td>-0.268263181</td><td> 0.41028016 </td><td>0.03749297  </td><td>1           </td><td>0.05        </td></tr>\n",
       "\t<tr><td>340691821   </td><td>identity    </td><td> 0.481136238</td><td> 0.26384303 </td><td>0.52297812  </td><td>1           </td><td>0.05        </td></tr>\n",
       "\t<tr><td>343319516   </td><td>identity    </td><td>-0.004977896</td><td>-0.09430966 </td><td>0.06135236  </td><td>1           </td><td>0.05        </td></tr>\n",
       "</tbody>\n",
       "</table>\n"
      ],
      "text/latex": [
       "\\begin{tabular}{r|lllllll}\n",
       " ID & mode & FFvPP & FFvFP & FPvPP & magnification & stimulus\\_radius\\\\\n",
       "\\hline\n",
       "\t  11005010    & identity     &  0.580542879 &  0.83553635  & 0.90420325   & 1            & 0.05        \\\\\n",
       "\t  64413254    & identity     &  0.540410803 &  1.07006581  & 0.62511562   & 1            & 0.05        \\\\\n",
       "\t 294207097    & identity     &  0.421363638 &  0.59652111  & 0.63017057   & 1            & 0.05        \\\\\n",
       "\t 338738516    & identity     & -0.268263181 &  0.41028016  & 0.03749297   & 1            & 0.05        \\\\\n",
       "\t 340691821    & identity     &  0.481136238 &  0.26384303  & 0.52297812   & 1            & 0.05        \\\\\n",
       "\t 343319516    & identity     & -0.004977896 & -0.09430966  & 0.06135236   & 1            & 0.05        \\\\\n",
       "\\end{tabular}\n"
      ],
      "text/markdown": [
       "\n",
       "| ID | mode | FFvPP | FFvFP | FPvPP | magnification | stimulus_radius |\n",
       "|---|---|---|---|---|---|---|\n",
       "|  11005010    | identity     |  0.580542879 |  0.83553635  | 0.90420325   | 1            | 0.05         |\n",
       "|  64413254    | identity     |  0.540410803 |  1.07006581  | 0.62511562   | 1            | 0.05         |\n",
       "| 294207097    | identity     |  0.421363638 |  0.59652111  | 0.63017057   | 1            | 0.05         |\n",
       "| 338738516    | identity     | -0.268263181 |  0.41028016  | 0.03749297   | 1            | 0.05         |\n",
       "| 340691821    | identity     |  0.481136238 |  0.26384303  | 0.52297812   | 1            | 0.05         |\n",
       "| 343319516    | identity     | -0.004977896 | -0.09430966  | 0.06135236   | 1            | 0.05         |\n",
       "\n"
      ],
      "text/plain": [
       "  ID        mode     FFvPP        FFvFP       FPvPP      magnification\n",
       "1  11005010 identity  0.580542879  0.83553635 0.90420325 1            \n",
       "2  64413254 identity  0.540410803  1.07006581 0.62511562 1            \n",
       "3 294207097 identity  0.421363638  0.59652111 0.63017057 1            \n",
       "4 338738516 identity -0.268263181  0.41028016 0.03749297 1            \n",
       "5 340691821 identity  0.481136238  0.26384303 0.52297812 1            \n",
       "6 343319516 identity -0.004977896 -0.09430966 0.06135236 1            \n",
       "  stimulus_radius\n",
       "1 0.05           \n",
       "2 0.05           \n",
       "3 0.05           \n",
       "4 0.05           \n",
       "5 0.05           \n",
       "6 0.05           "
      ]
     },
     "metadata": {},
     "output_type": "display_data"
    }
   ],
   "source": [
    "# save the within-subject correlation distributions for future reference & avoiding preprocessing again\n",
    "within_distribution_identity <- subset(within_distribution_df, mode == 'identity')\n",
    "head(within_distribution_identity)\n",
    "save(within_distribution_identity,file=\"within_global.Rda\")"
   ]
  },
  {
   "cell_type": "code",
   "execution_count": 254,
   "metadata": {},
   "outputs": [
    {
     "data": {
      "text/html": [
       "<table>\n",
       "<thead><tr><th scope=col>ID</th><th scope=col>mode</th><th scope=col>FFvPP</th><th scope=col>FFvFP</th><th scope=col>FPvPP</th><th scope=col>magnification</th><th scope=col>stimulus_radius</th></tr></thead>\n",
       "<tbody>\n",
       "\t<tr><td>11005010 </td><td>identity </td><td>0.5805429</td><td>0.8355364</td><td>0.9042033</td><td>1        </td><td>0.05     </td></tr>\n",
       "\t<tr><td>64413254 </td><td>identity </td><td>0.5404108</td><td>1.0700658</td><td>0.6251156</td><td>1        </td><td>0.05     </td></tr>\n",
       "</tbody>\n",
       "</table>\n"
      ],
      "text/latex": [
       "\\begin{tabular}{r|lllllll}\n",
       " ID & mode & FFvPP & FFvFP & FPvPP & magnification & stimulus\\_radius\\\\\n",
       "\\hline\n",
       "\t 11005010  & identity  & 0.5805429 & 0.8355364 & 0.9042033 & 1         & 0.05     \\\\\n",
       "\t 64413254  & identity  & 0.5404108 & 1.0700658 & 0.6251156 & 1         & 0.05     \\\\\n",
       "\\end{tabular}\n"
      ],
      "text/markdown": [
       "\n",
       "| ID | mode | FFvPP | FFvFP | FPvPP | magnification | stimulus_radius |\n",
       "|---|---|---|---|---|---|---|\n",
       "| 11005010  | identity  | 0.5805429 | 0.8355364 | 0.9042033 | 1         | 0.05      |\n",
       "| 64413254  | identity  | 0.5404108 | 1.0700658 | 0.6251156 | 1         | 0.05      |\n",
       "\n"
      ],
      "text/plain": [
       "  ID       mode     FFvPP     FFvFP     FPvPP     magnification stimulus_radius\n",
       "1 11005010 identity 0.5805429 0.8355364 0.9042033 1             0.05           \n",
       "2 64413254 identity 0.5404108 1.0700658 0.6251156 1             0.05           "
      ]
     },
     "metadata": {},
     "output_type": "display_data"
    }
   ],
   "source": [
    "# reminder of what we have\n",
    "#within_distribution_identity$stimulus_radius <- as.numeric(within_distribution_identity$stimulus_radius)\n",
    "load('within_global.Rda')\n",
    "#within_distribution_identity <- return_df\n",
    "head(within_distribution_identity,2)\n",
    "\n",
    "# simplifying things\n",
    "within_distribution_identity <- subset(within_distribution_identity, (stimulus_radius == 1) | (stimulus_radius == 0.05))"
   ]
  },
  {
   "cell_type": "code",
   "execution_count": 255,
   "metadata": {},
   "outputs": [
    {
     "data": {
      "text/plain": [
       "\n",
       "Call:\n",
       "lm(formula = FFvPP ~ stimulus_radius + magnification + magnification * \n",
       "    stimulus_radius, data = within_distribution_identity)\n",
       "\n",
       "Residuals:\n",
       "     Min       1Q   Median       3Q      Max \n",
       "-1.13699 -0.27005  0.02447  0.33415  0.85443 \n",
       "\n",
       "Coefficients:\n",
       "                                 Estimate Std. Error t value Pr(>|t|)    \n",
       "(Intercept)                        0.3343     0.1111   3.008 0.004081 ** \n",
       "stimulus_radius                    0.8854     0.1822   4.859 1.17e-05 ***\n",
       "magnification4.5                   0.6747     0.1623   4.158 0.000123 ***\n",
       "stimulus_radius:magnification4.5  -0.8068     0.2515  -3.209 0.002308 ** \n",
       "---\n",
       "Signif. codes:  0 '***' 0.001 '**' 0.01 '*' 0.05 '.' 0.1 ' ' 1\n",
       "\n",
       "Residual standard error: 0.4344 on 51 degrees of freedom\n",
       "Multiple R-squared:  0.3937,\tAdjusted R-squared:  0.3581 \n",
       "F-statistic: 11.04 on 3 and 51 DF,  p-value: 1.07e-05\n"
      ]
     },
     "metadata": {},
     "output_type": "display_data"
    },
    {
     "data": {
      "text/html": [
       "<table>\n",
       "<thead><tr><th></th><th scope=col>2.5 %</th><th scope=col>97.5 %</th></tr></thead>\n",
       "<tbody>\n",
       "\t<tr><th scope=row>(Intercept)</th><td> 0.1111403</td><td> 0.5573651</td></tr>\n",
       "\t<tr><th scope=row>stimulus_radius</th><td> 0.5195603</td><td> 1.2512292</td></tr>\n",
       "\t<tr><th scope=row>magnification4.5</th><td> 0.3489119</td><td> 1.0004295</td></tr>\n",
       "\t<tr><th scope=row>stimulus_radius:magnification4.5</th><td>-1.3115974</td><td>-0.3019781</td></tr>\n",
       "</tbody>\n",
       "</table>\n"
      ],
      "text/latex": [
       "\\begin{tabular}{r|ll}\n",
       "  & 2.5 \\% & 97.5 \\%\\\\\n",
       "\\hline\n",
       "\t(Intercept) &  0.1111403 &  0.5573651\\\\\n",
       "\tstimulus\\_radius &  0.5195603 &  1.2512292\\\\\n",
       "\tmagnification4.5 &  0.3489119 &  1.0004295\\\\\n",
       "\tstimulus\\_radius:magnification4.5 & -1.3115974 & -0.3019781\\\\\n",
       "\\end{tabular}\n"
      ],
      "text/markdown": [
       "\n",
       "| <!--/--> | 2.5 % | 97.5 % |\n",
       "|---|---|---|\n",
       "| (Intercept) |  0.1111403 |  0.5573651 |\n",
       "| stimulus_radius |  0.5195603 |  1.2512292 |\n",
       "| magnification4.5 |  0.3489119 |  1.0004295 |\n",
       "| stimulus_radius:magnification4.5 | -1.3115974 | -0.3019781 |\n",
       "\n"
      ],
      "text/plain": [
       "                                 2.5 %      97.5 %    \n",
       "(Intercept)                       0.1111403  0.5573651\n",
       "stimulus_radius                   0.5195603  1.2512292\n",
       "magnification4.5                  0.3489119  1.0004295\n",
       "stimulus_radius:magnification4.5 -1.3115974 -0.3019781"
      ]
     },
     "metadata": {},
     "output_type": "display_data"
    },
    {
     "data": {
      "text/plain": [
       "\n",
       "Call:\n",
       "lm(formula = FFvPP ~ magnification + magnification * stimulus_radius, \n",
       "    data = within_distribution_identity)\n",
       "\n",
       "Residuals:\n",
       "     Min       1Q   Median       3Q      Max \n",
       "-1.13699 -0.27005  0.02447  0.33415  0.85443 \n",
       "\n",
       "Coefficients:\n",
       "                                 Estimate Std. Error t value Pr(>|t|)    \n",
       "(Intercept)                        0.3343     0.1111   3.008 0.004081 ** \n",
       "magnification4.5                   0.6747     0.1623   4.158 0.000123 ***\n",
       "stimulus_radius                    0.8854     0.1822   4.859 1.17e-05 ***\n",
       "magnification4.5:stimulus_radius  -0.8068     0.2515  -3.209 0.002308 ** \n",
       "---\n",
       "Signif. codes:  0 '***' 0.001 '**' 0.01 '*' 0.05 '.' 0.1 ' ' 1\n",
       "\n",
       "Residual standard error: 0.4344 on 51 degrees of freedom\n",
       "Multiple R-squared:  0.3937,\tAdjusted R-squared:  0.3581 \n",
       "F-statistic: 11.04 on 3 and 51 DF,  p-value: 1.07e-05\n"
      ]
     },
     "metadata": {},
     "output_type": "display_data"
    },
    {
     "data": {
      "text/html": [
       "<table>\n",
       "<thead><tr><th></th><th scope=col>2.5 %</th><th scope=col>97.5 %</th></tr></thead>\n",
       "<tbody>\n",
       "\t<tr><th scope=row>(Intercept)</th><td> 0.1111403</td><td> 0.5573651</td></tr>\n",
       "\t<tr><th scope=row>magnification4.5</th><td> 0.3489119</td><td> 1.0004295</td></tr>\n",
       "\t<tr><th scope=row>stimulus_radius</th><td> 0.5195603</td><td> 1.2512292</td></tr>\n",
       "\t<tr><th scope=row>magnification4.5:stimulus_radius</th><td>-1.3115974</td><td>-0.3019781</td></tr>\n",
       "</tbody>\n",
       "</table>\n"
      ],
      "text/latex": [
       "\\begin{tabular}{r|ll}\n",
       "  & 2.5 \\% & 97.5 \\%\\\\\n",
       "\\hline\n",
       "\t(Intercept) &  0.1111403 &  0.5573651\\\\\n",
       "\tmagnification4.5 &  0.3489119 &  1.0004295\\\\\n",
       "\tstimulus\\_radius &  0.5195603 &  1.2512292\\\\\n",
       "\tmagnification4.5:stimulus\\_radius & -1.3115974 & -0.3019781\\\\\n",
       "\\end{tabular}\n"
      ],
      "text/markdown": [
       "\n",
       "| <!--/--> | 2.5 % | 97.5 % |\n",
       "|---|---|---|\n",
       "| (Intercept) |  0.1111403 |  0.5573651 |\n",
       "| magnification4.5 |  0.3489119 |  1.0004295 |\n",
       "| stimulus_radius |  0.5195603 |  1.2512292 |\n",
       "| magnification4.5:stimulus_radius | -1.3115974 | -0.3019781 |\n",
       "\n"
      ],
      "text/plain": [
       "                                 2.5 %      97.5 %    \n",
       "(Intercept)                       0.1111403  0.5573651\n",
       "magnification4.5                  0.3489119  1.0004295\n",
       "stimulus_radius                   0.5195603  1.2512292\n",
       "magnification4.5:stimulus_radius -1.3115974 -0.3019781"
      ]
     },
     "metadata": {},
     "output_type": "display_data"
    }
   ],
   "source": [
    "# make sure things are numeric that should be\n",
    "within_distribution_identity$stimulus_radius <- as.numeric(within_distribution_identity$stimulus_radius)\n",
    "within_distribution_identity$magnification <- as.character(within_distribution_identity$magnification)\n",
    "within_distribution_identity$FFvPP <- as.numeric(within_distribution_identity$FFvPP)\n",
    "#within_distribution_identity$magnification[within_distribution_identity$magnification == 1] <- 'Fixed'\n",
    "#within_distribution_identity$magnification[within_distribution_identity$magnification != 1] <- 'Magnified'\n",
    "\n",
    "# do the actual modelling on the correlational data\n",
    "global.fit <- lm(formula = FFvPP ~ stimulus_radius + magnification + magnification*stimulus_radius, data = within_distribution_identity)\n",
    "summary(global.fit)\n",
    "confint(global.fit,level=0.95)\n",
    "\n",
    "# test not including size\n",
    "size.fit <- lm(formula = FFvPP ~ magnification + magnification*stimulus_radius, data = within_distribution_identity)\n",
    "summary(size.fit)\n",
    "confint(size.fit,level=0.95)"
   ]
  },
  {
   "cell_type": "code",
   "execution_count": 266,
   "metadata": {},
   "outputs": [
    {
     "data": {
      "text/plain": [
       "\n",
       "\tOne Sample t-test\n",
       "\n",
       "data:  global.t.v\n",
       "t = 1.6883, df = 10, p-value = 0.06112\n",
       "alternative hypothesis: true mean is greater than 0.5493061\n",
       "95 percent confidence interval:\n",
       " 0.5225227       Inf\n",
       "sample estimates:\n",
       "mean of x \n",
       "0.9135341 \n"
      ]
     },
     "metadata": {},
     "output_type": "display_data"
    },
    {
     "data": {
      "text/html": [
       "<strong>mean of x:</strong> 0.722824204097294"
      ],
      "text/latex": [
       "\\textbf{mean of x:} 0.722824204097294"
      ],
      "text/markdown": [
       "**mean of x:** 0.722824204097294"
      ],
      "text/plain": [
       "mean of x \n",
       "0.7228242 "
      ]
     },
     "metadata": {},
     "output_type": "display_data"
    }
   ],
   "source": [
    "# one sample t-test on whether correlation of pooled &  magnified data exceeds 0.7\n",
    "global.t.data <- subset(within_distribution_identity, magnification != 1)\n",
    "global.t.v <- FisherZ(global.t.data$FFvPP)\n",
    "\n",
    "#qqnorm(global.t.v)\n",
    "#qqline(global.t.v)\n",
    "\n",
    "global.test <- t.test(global.t.v, mu = FisherZ(0.5),alternative='greater')\n",
    "global.test\n",
    "FisherZInv(global.test$estimate)"
   ]
  },
  {
   "cell_type": "code",
   "execution_count": 247,
   "metadata": {},
   "outputs": [],
   "source": [
    "# plot within-global data\n",
    "global.plot <- function(data,name,save=FALSE){\n",
    "    \n",
    "    data$magnification <- as.character(data$magnification) # needed for axes to work properly\n",
    "    data$size <- data$stimulus_radius\n",
    "    data$size <- as.character(data$size)\n",
    "    data$r <- FisherZInv(data$FFvPP)\n",
    "    \n",
    "    plot <- ggplot(data, aes(y=r, x=size, color=magnification))\n",
    "\n",
    "    plot <- plot  +\n",
    "                geom_point(position=position_dodge(width=0.75)) + \n",
    "        geom_boxplot(aes(alpha=0.01)) + \n",
    "        scale_alpha(guide='none') \n",
    "        \n",
    "        g <- plot + \n",
    "                ylab(\"Correlation\") + xlab(\"Stimulus Size\") + \n",
    "                guides(color=guide_legend(title='Peripheral Magnification'))\n",
    "    \n",
    "    if(save){\n",
    "        ggsave(paste(savestr,name,\".png\"),g,height=6,width=10)\n",
    "    }\n",
    "    \n",
    "    \n",
    "    grid.arrange(g)\n",
    "}"
   ]
  },
  {
   "cell_type": "code",
   "execution_count": 248,
   "metadata": {},
   "outputs": [
    {
     "data": {
      "image/png": "[encoded data removed]",
      "text/plain": [
       "plot without title"
      ]
     },
     "metadata": {},
     "output_type": "display_data"
    }
   ],
   "source": [
    "global.plot(within_distribution_identity,'global')"
   ]
  },
  {
   "cell_type": "code",
   "execution_count": 227,
   "metadata": {},
   "outputs": [],
   "source": [
    "# make a plot of all the within-subject correlation distributions across eccentricity & magnification\n",
    "distribution.plots <- function(distributions,swaps=TRUE,transform=FALSE){\n",
    "    \n",
    "    # fisher transform control\n",
    "    if(transform){\n",
    "        transform.string <- \"_transformed\"\n",
    "    } else {\n",
    "        transform.string <- \"\"\n",
    "    }\n",
    "    \n",
    "    # plot swaps control\n",
    "    if(!swaps){\n",
    "        distributions <- subset(distributions, mode==\"identity\")\n",
    "        swaps.string <- \"\"\n",
    "    } else {\n",
    "        swaps.string <- \"_swapped\"\n",
    "    }\n",
    "    \n",
    "    \n",
    "    fixed.df <- subset(distributions, magnification == 1)\n",
    "    magnified.df <- subset(distributions, magnification != 1)\n",
    "    \n",
    "    fixed.FFvPP.plot <- r_distribution_plot(fixed.df, comparison='FFvPP',fisher=transform,swaps=swaps)\n",
    "    fixed.FFvFP.plot <- r_distribution_plot(fixed.df, comparison='FFvFP',fisher=transform,swaps=swaps)\n",
    "    fixed.FPvPP.plot <- r_distribution_plot(fixed.df, comparison='FPvPP',fisher=transform,swaps=swaps)\n",
    "    magnified.FFvPP.plot <- r_distribution_plot(magnified.df, comparison='FFvPP',fisher=transform,swaps=swaps)\n",
    "    magnified.FFvFP.plot <- r_distribution_plot(magnified.df, comparison='FFvFP',fisher=transform,swaps=swaps)\n",
    "    magnified.FPvPP.plot <- r_distribution_plot(magnified.df, comparison='FPvPP',fisher=transform,swaps=swaps)\n",
    "    \n",
    "    title <- textGrob(\"Peripheral Swap\", gp=gpar(fontsize=35))\n",
    "    \n",
    "    allgrob <- arrangeGrob(fixed.FFvPP.plot, fixed.FFvFP.plot, fixed.FPvPP.plot,\n",
    "                          magnified.FFvPP.plot, magnified.FFvFP.plot, magnified.FPvPP.plot,\n",
    "                          nrow = 2, ncol = 3, top = title)\n",
    "    ggsave(paste(savestr,\"_Overall_Summary_Plots/Correlation_Distributions_\",\n",
    "                 swaps.string,transform.string,\"_plot.png\",sep=\"\"),\n",
    "          allgrob, height = 20, width = 30)\n",
    "    \n",
    "}"
   ]
  },
  {
   "cell_type": "code",
   "execution_count": 322,
   "metadata": {},
   "outputs": [],
   "source": [
    "#distribution.plots(within_distribution_df,transform=FALSE)\n",
    "#distribution.plots(within_distribution_df,transform=TRUE)\n",
    "distribution.plots(within_distribution_df,swaps=FALSE,transform=FALSE)\n",
    "#distribution.plots(within_distribution_df,swaps=TRUE,transform=FALSE)"
   ]
  },
  {
   "cell_type": "code",
   "execution_count": 320,
   "metadata": {},
   "outputs": [
    {
     "data": {
      "text/html": [
       "<table>\n",
       "<thead><tr><th scope=col>ID</th><th scope=col>mode</th><th scope=col>FFvPP</th><th scope=col>FFvFP</th><th scope=col>FPvPP</th><th scope=col>magnification</th><th scope=col>stimulus_radius</th></tr></thead>\n",
       "<tbody>\n",
       "\t<tr><td> 11005010</td><td>identity </td><td>0.5805429</td><td>0.8355364</td><td>0.9042033</td><td>1        </td><td>0.05     </td></tr>\n",
       "\t<tr><td> 64413254</td><td>identity </td><td>0.5404108</td><td>1.0700658</td><td>0.6251156</td><td>1        </td><td>0.05     </td></tr>\n",
       "\t<tr><td>294207097</td><td>identity </td><td>0.4213636</td><td>0.5965211</td><td>0.6301706</td><td>1        </td><td>0.05     </td></tr>\n",
       "</tbody>\n",
       "</table>\n"
      ],
      "text/latex": [
       "\\begin{tabular}{r|lllllll}\n",
       " ID & mode & FFvPP & FFvFP & FPvPP & magnification & stimulus\\_radius\\\\\n",
       "\\hline\n",
       "\t  11005010 & identity  & 0.5805429 & 0.8355364 & 0.9042033 & 1         & 0.05     \\\\\n",
       "\t  64413254 & identity  & 0.5404108 & 1.0700658 & 0.6251156 & 1         & 0.05     \\\\\n",
       "\t 294207097 & identity  & 0.4213636 & 0.5965211 & 0.6301706 & 1         & 0.05     \\\\\n",
       "\\end{tabular}\n"
      ],
      "text/markdown": [
       "\n",
       "| ID | mode | FFvPP | FFvFP | FPvPP | magnification | stimulus_radius |\n",
       "|---|---|---|---|---|---|---|\n",
       "|  11005010 | identity  | 0.5805429 | 0.8355364 | 0.9042033 | 1         | 0.05      |\n",
       "|  64413254 | identity  | 0.5404108 | 1.0700658 | 0.6251156 | 1         | 0.05      |\n",
       "| 294207097 | identity  | 0.4213636 | 0.5965211 | 0.6301706 | 1         | 0.05      |\n",
       "\n"
      ],
      "text/plain": [
       "  ID        mode     FFvPP     FFvFP     FPvPP     magnification\n",
       "1  11005010 identity 0.5805429 0.8355364 0.9042033 1            \n",
       "2  64413254 identity 0.5404108 1.0700658 0.6251156 1            \n",
       "3 294207097 identity 0.4213636 0.5965211 0.6301706 1            \n",
       "  stimulus_radius\n",
       "1 0.05           \n",
       "2 0.05           \n",
       "3 0.05           "
      ]
     },
     "metadata": {},
     "output_type": "display_data"
    }
   ],
   "source": [
    "#head(within_distribution_df,3)"
   ]
  },
  {
   "cell_type": "code",
   "execution_count": 319,
   "metadata": {},
   "outputs": [
    {
     "ename": "ERROR",
     "evalue": "Error in subset.default(datadf, magnification != 1): object 'magnification' not found\n",
     "output_type": "error",
     "traceback": [
      "Error in subset.default(datadf, magnification != 1): object 'magnification' not found\nTraceback:\n",
      "1. r_distribution_plot(within_distribution_df, comparison = \"FFvPP\", \n .     title = FALSE, fisher = FALSE, scaling = FALSE, swaps = TRUE, \n .     connected = TRUE)",
      "2. subset(datadf, magnification != 1)   # at line 9 of file <text>",
      "3. subset.default(datadf, magnification != 1)"
     ]
    }
   ],
   "source": [
    "# make some specific plots for the presentation\n",
    "# probably just better to modify the code above to generate these on demand...\n",
    "r_distribution_plot(within_distribution_df,comparison='FFvPP',title=FALSE,fisher=FALSE,scaling=FALSE,swaps=TRUE,connected=TRUE)\n",
    "#r_distribution_plot(within_distribution_df,comparison='all',title=FALSE,fisher=FALSE,scaling=FALSE,swaps=FALSE)\n"
   ]
  },
  {
   "cell_type": "code",
   "execution_count": null,
   "metadata": {},
   "outputs": [],
   "source": [
    "eccentricity.test <- function(datadf,scaled=TRUE){\n",
    "    if(scaled){\n",
    "        datadf <- subset(datadf, magnification != 1) # only use the scaled data\n",
    "    }\n",
    "    datadf <- subset(datadf, mode == 'identity') # get rid of simulation stuff\n",
    "    datadf <- datadf %>% gather(comparison, correlations, 3:5) # gather up the comparisons across eccentricities\n",
    "    test <- aov(correlations ~ comparison, data=datadf)\n",
    "    n <- length(unique(datadf$ID))\n",
    "    print(paste(\"Number of subjects:\",n))\n",
    "    print(summary(test))\n",
    "}"
   ]
  },
  {
   "cell_type": "code",
   "execution_count": null,
   "metadata": {},
   "outputs": [],
   "source": [
    "eccentricity.test(within_distribution_df)"
   ]
  },
  {
   "cell_type": "code",
   "execution_count": null,
   "metadata": {},
   "outputs": [],
   "source": [
    "scaling.test <- function(datadf){\n",
    "    datadf <- subset(datadf, mode == 'identity') # get rid of simulation stuff\n",
    "    test <- aov(FFvPP ~ magnification + stimulus_radius + magnification*stimulus_radius, data = datadf)\n",
    "    print(summary(test))\n",
    "}\n"
   ]
  },
  {
   "cell_type": "code",
   "execution_count": null,
   "metadata": {},
   "outputs": [],
   "source": [
    "scaling.test(within_distribution_df)"
   ]
  },
  {
   "cell_type": "code",
   "execution_count": null,
   "metadata": {},
   "outputs": [],
   "source": [
    "# stat tests on this\n",
    "within_distribution_tests <- function(datadf, method=\"non-para\"){\n",
    "    \n",
    "    datadf <- subset(datadf, magnification != 1) # only use the scaled data\n",
    "    n <- length(unique(datadf$ID))\n",
    "    print(paste(\"Number of subjects:\",n))\n",
    "    \n",
    "    # setup\n",
    "    identity <- subset(datadf, mode == \"identity\")\n",
    "    identity.FFvPP <- identity$FFvPP\n",
    "    random <- subset(datadf, mode == \"random\")\n",
    "    random.FFvPP <- random$FFvPP\n",
    "    invert <- subset(datadf, mode == \"invert\")\n",
    "    invert.FFvPP <- invert$FFvPP\n",
    "    rotate <- subset(datadf, mode == \"rotate\")\n",
    "    rotate.FFvPP <- rotate$FFvPP\n",
    "    \n",
    "    # do the tests\n",
    "    if(method=='non-para'){\n",
    "        random.test <- wilcox.test(identity.FFvPP, random.FFvPP, paired = TRUE, alternative = \"two.sided\")\n",
    "        invert.test <- wilcox.test(identity.FFvPP, invert.FFvPP, paired = TRUE, alternative = \"two.sided\")\n",
    "        rotate.test <- wilcox.test(identity.FFvPP, rotate.FFvPP, paired = TRUE, alternative = \"two.sided\")\n",
    "    } else if(method=='para') {\n",
    "        random.test <- t.test(identity.FFvPP, random.FFvPP, paired = TRUE, alternative = \"two.sided\")\n",
    "        invert.test <- t.test(identity.FFvPP, invert.FFvPP, paired = TRUE, alternative = \"two.sided\")\n",
    "        rotate.test <- t.test(identity.FFvPP, rotate.FFvPP, paired = TRUE, alternative = \"two.sided\")\n",
    "    }\n",
    "    \n",
    "    \n",
    "    # print the tests\n",
    "    print(random.test)\n",
    "    print(invert.test)\n",
    "    print(rotate.test)\n",
    "    \n",
    "    #print bonferroni-corrected p-values\n",
    "    values <- c(random.test$p.value, invert.test$p.value, rotate.test$p.value)\n",
    "    print(\"Bonferroni-corrected p-values:\")\n",
    "    print(p.adjust(values, \"bonferroni\"))\n",
    "    \n",
    "}"
   ]
  },
  {
   "cell_type": "code",
   "execution_count": null,
   "metadata": {},
   "outputs": [],
   "source": [
    "#r_distribution_plot(within_distribution_df,comparison='FFvPP',title=FALSE,fisher=TRUE,scaling=FALSE,swaps=TRUE)\n",
    "\n",
    "within_distribution_tests(within_distribution_df)\n",
    "within_distribution_tests(within_distribution_df,method='para')"
   ]
  },
  {
   "cell_type": "code",
   "execution_count": null,
   "metadata": {},
   "outputs": [],
   "source": [
    "# make a plot of all the full dissimilarity matrices for each subject\n",
    "dissimplots.subjects <- function(datadf,dependent='dissimilarity'){\n",
    "    subjectlist <- sort(unique(datadf$subject)) # obtain a list of all the subjects\n",
    "    scale.list <- sort(unique(datadf$peripheral_scale))\n",
    "    stim.list <- sort(unique(datadf$stimulus_radius))\n",
    "    \n",
    "    for(scale in scale.list){\n",
    "        for(stim in stim.list){\n",
    "            dir.create(paste(savestr,\"_Subject_Plots/\",\"Scale_\",scale,\"_StimSize_\",stim,\"/\",dependent,\"/\",\n",
    "                             sep='')) # make a new folder to store the subject plots in\n",
    "        }\n",
    "    }\n",
    "    \n",
    "    \n",
    "    for(ID in subjectlist){\n",
    "        subject.df <- subset(datadf, subject == ID)\n",
    "        \n",
    "        subject.plot.standard <- dissimplot.full(color.eccen.mat(dissimdata.subject(subject.df),mode='identity',dependent=dependent),dependent=dependent)\n",
    "        subject.plot.standard <- subject.plot.standard + ggtitle('Standard') + theme(plot.title = element_text(hjust = 0.5))\n",
    "        \n",
    "        subject.plot.random <- dissimplot.full(color.eccen.mat(dissimdata.subject(subject.df),mode='random',dependent=dependent),dependent=dependent)\n",
    "        subject.plot.random <- subject.plot.random + ggtitle('Random') + theme(plot.title = element_text(hjust = 0.5))\n",
    "        \n",
    "        subject.plot.invert <- dissimplot.full(color.eccen.mat(dissimdata.subject(subject.df),mode='invert',dependent=dependent),dependent=dependent)\n",
    "        subject.plot.invert <- subject.plot.invert + ggtitle('Inverted') + theme(plot.title = element_text(hjust = 0.5))\n",
    "        \n",
    "        subject.plot.rotate <- dissimplot.full(color.eccen.mat(dissimdata.subject(subject.df),mode='rotate',dependent=dependent),dependent=dependent)\n",
    "        subject.plot.rotate <- subject.plot.rotate + ggtitle('Rotated (90)') + theme(plot.title = element_text(hjust = 0.5))\n",
    "        \n",
    "        scale <- subject.df$peripheral_scale[1]\n",
    "        stim.size <- subject.df$stimulus_radius[1]\n",
    "        title <- textGrob(paste(as.character(ID),\"-\",\n",
    "                                \"Magnification:\", scale,\n",
    "                                \"Stimulus Size:\", stim.size\n",
    "                                ),\n",
    "                                gp=gpar(fontsize=35))\n",
    "        \n",
    "        g <- arrangeGrob(subject.plot.standard, subject.plot.random,\n",
    "                        subject.plot.invert, subject.plot.rotate,\n",
    "                        nrow = 2, ncol=2, top = title)\n",
    "        \n",
    "        ggsave(paste(savestr,\"_Subject_Plots/\",\"Scale_\",scale,\"_StimSize_\",stim.size,\"/\",dependent,\"/\",\n",
    "                     dependent,\"_matrix\",\"_ID_\",ID,\"_\",\n",
    "                     scale,\"_\",stim.size,\n",
    "                     \"_plot.png\",\n",
    "                     sep=''),g, height = 20, width = 20)\n",
    "    }\n",
    "}"
   ]
  },
  {
   "cell_type": "code",
   "execution_count": null,
   "metadata": {},
   "outputs": [],
   "source": [
    "# make a plot of all the dissimilarity & RT matrices\n"
   ]
  },
  {
   "cell_type": "code",
   "execution_count": null,
   "metadata": {},
   "outputs": [],
   "source": [
    "# make a plot of all the dissimilarity & RT matrices for each subject\n",
    "QDM.subjects <- function(datadf,RT=TRUE){\n",
    "    subjectlist <- sort(unique(datadf$subject)) # obtain a list of all the subjects\n",
    "    scale.list <- sort(unique(datadf$peripheral_scale))\n",
    "    stim.list <- sort(unique(datadf$stimulus_radius))\n",
    "    \n",
    "    for(scale in scale.list){\n",
    "        for(stim in stim.list){\n",
    "            dir.create(paste(savestr,\"_Subject_Plots/\",\"Scale_\",scale,\"_StimSize_\",stim,\"/\",\n",
    "                             sep='')) # make a new folder to store the subject plots in\n",
    "        }\n",
    "    }\n",
    "    \n",
    "    \n",
    "    for(ID in subjectlist){\n",
    "        subject.df <- subset(datadf, subject == ID)\n",
    "        \n",
    "        subject.plot.QDM <- dissimplot.full(color.eccen.mat(dissimdata.subject(subject.df),mode='identity',dependent='dissimilarity'),dependent='dissimilarity')\n",
    "        subject.plot.QDM <- subject.plot.QDM + ggtitle('Dissimilarity') + theme(plot.title = element_text(hjust = 0.5))\n",
    "        \n",
    "        if(RT){\n",
    "            subject.plot.RT <- dissimplot.full(color.eccen.mat(dissimdata.subject(subject.df),mode='identity',dependent='RT'),dependent='RT')\n",
    "            subject.plot.RT <- subject.plot.RT + ggtitle('Reaction Time') + theme(plot.title = element_text(hjust = 0.5))\n",
    "        }\n",
    "        \n",
    "        \n",
    "        #calculate FFvPP Correlation\n",
    "        matrix1 <- halfmat.v(df2mat.full(subject.df, l2e('Foveal'), l2e('Foveal')))\n",
    "        matrix2 <- halfmat.v(df2mat.full(subject.df, l2e('Peripheral'), l2e('Peripheral')))\n",
    "        r <- cor(matrix1, matrix2, method = \"spearman\")\n",
    "        \n",
    "        \n",
    "        scale <- subject.df$peripheral_scale[1]\n",
    "        stim.size <- subject.df$stimulus_radius[1]\n",
    "        title <- textGrob(paste(as.character(ID),\"-\",\n",
    "                                \"r =\",round(r,2),\n",
    "                                \"Magnification:\", scale,\n",
    "                                \"Stimulus Size:\", stim.size\n",
    "                                ),\n",
    "                                gp=gpar(fontsize=35))\n",
    "        \n",
    "        if(RT){\n",
    "            g <- arrangeGrob(subject.plot.QDM, subject.plot.RT,\n",
    "                        nrow = 2, ncol=1, top = title)\n",
    "        \n",
    "            ggsave(paste(savestr,\"_Subject_Plots/\",\"Scale_\",scale,\"_StimSize_\",stim.size,\"/\",\n",
    "                         \"QDM_RT_matrix\",\"_ID_\",ID,\"_\",\n",
    "                         scale,\"_\",stim.size,\n",
    "                         \"_plot.png\",\n",
    "                         sep=''),g, height = 20, width = 11.25)\n",
    "        } else {\n",
    "            g <- arrangeGrob(subject.plot.QDM,\n",
    "                        nrow = 1, ncol=1, top = title)\n",
    "        \n",
    "            ggsave(paste(savestr,\"_Subject_Plots/\",\"Scale_\",scale,\"_StimSize_\",stim.size,\"/\",\n",
    "                         \"QDM_RT_matrix\",\"_ID_\",ID,\"_\",\n",
    "                         scale,\"_\",stim.size,\n",
    "                         \"_plot.png\",\n",
    "                         sep=''),g, height = 13, width = 11.25)\n",
    "        }\n",
    "        \n",
    "    }\n",
    "}"
   ]
  },
  {
   "cell_type": "code",
   "execution_count": null,
   "metadata": {},
   "outputs": [],
   "source": [
    "QDM.RT.subjects(cleandf, RT = FALSE)\n",
    "#dissimplots.subjects(cleandf,dependent='RT')\n",
    "#rsplot_summary(cleandf)\n",
    "# Make summary QDMs for each population group\n",
    "#dissimplot.full(color.eccen.mat(dissimdata.subject(cleandf),mode='identity',dependent='RT'),dependent='RT')"
   ]
  },
  {
   "cell_type": "code",
   "execution_count": 158,
   "metadata": {},
   "outputs": [],
   "source": [
    "# generate the summary QDMs & RTMs for each group\n",
    "QDM.RT.grouped <- function(datadf,RT=FALSE){\n",
    "    \n",
    "    scale.list <- sort(unique(datadf$peripheral_scale))\n",
    "    stim.list <- sort(unique(datadf$stimulus_radius))\n",
    "    \n",
    "    for(scale in scale.list){\n",
    "        for(stim in stim.list){\n",
    "            dir.create(paste(savestr,\"_Overall_Summary_Plots/QDM_RTMs/\",\n",
    "                             sep='')) # make a new folder to store the summary plots in\n",
    "            \n",
    "            tempdf <- subset(datadf, peripheral_scale == scale & stimulus_radius == stim) # select the dataset\n",
    "            \n",
    "            group.plot.QDM <- dissimplot.full(color.eccen.mat(dissimdata.subject(tempdf),mode='identity',dependent='dissimilarity'),dependent='dissimilarity')\n",
    "            group.plot.QDM <- group.plot.QDM + ggtitle('Dissimilarity') + theme(plot.title = element_text(hjust = 0.5))\n",
    "            \n",
    "            group.plot.var <- variance.plot(dissimvar.between(tempdf))\n",
    "            group.plot.var <- group.plot.var + ggtitle('Dissimilarity Variance') + theme(plot.title = element_text(hjust = 0.5))\n",
    "\n",
    "            if(RT){\n",
    "                group.plot.RT <- dissimplot.full(color.eccen.mat(dissimdata.subject(tempdf),mode='identity',dependent='RT'),dependent='RT')\n",
    "                group.plot.RT <- group.plot.RT + ggtitle('Reaction Time') + theme(plot.title = element_text(hjust = 0.5))\n",
    "            }\n",
    "            \n",
    "            \n",
    "            title <- textGrob(paste(\"Group Mean -\",\n",
    "                                \"Magnification:\", scale,\n",
    "                                \"Stimulus Size:\", stim\n",
    "                                ),\n",
    "                                gp=gpar(fontsize=35))\n",
    "        \n",
    "            if(RT){\n",
    "                g <- arrangeGrob(group.plot.QDM, group.plot.RT,\n",
    "                                nrow = 2, ncol=1, top = title)\n",
    "\n",
    "                ggsave(paste(savestr,\"_Overall_Summary_Plots/QDM_RTMs/\",\n",
    "                         \"QDM_RT_matrix - Scale \",\n",
    "                         scale,\" - Stim Size \",stim,\n",
    "                         \" - plot.png\",\n",
    "                         sep=''),g, height = 20, width = 11.25)\n",
    "                } else {\n",
    "                    g <- arrangeGrob(group.plot.QDM, group.plot.var,\n",
    "                                nrow = 2, ncol=1, top = title)\n",
    "\n",
    "                ggsave(paste(savestr,\"_Overall_Summary_Plots/QDM_RTMs/\",\n",
    "                         \"QDM_RT_matrix - Scale \",\n",
    "                         scale,\" - Stim Size \",stim,\n",
    "                         \" - plot.png\",\n",
    "                         sep=''),g, height = 20, width = 11.25)\n",
    "            }\n",
    "        }\n",
    "    }\n",
    "    \n",
    "}"
   ]
  },
  {
   "cell_type": "code",
   "execution_count": 159,
   "metadata": {},
   "outputs": [],
   "source": [
    "cleandf <- invert.subjects(cleandf)\n",
    "QDM.RT.grouped(cleandf,RT=FALSE)"
   ]
  },
  {
   "cell_type": "code",
   "execution_count": null,
   "metadata": {},
   "outputs": [],
   "source": [
    "# function to print the mean between-subject correlation for each condition, returns a dataframe to plot them\n",
    "between_correlations_conditions <- function(cleandf,e1='Foveal',e2='Foveal',test=TRUE){\n",
    "    \n",
    "    e1=l2e(e1)\n",
    "    e2=l2e(e2)\n",
    "    \n",
    "    magnification_list <- sort(unique(cleandf$peripheral_scale))\n",
    "    stim_sizes <- sort(unique(cleandf$stimulus_radius))\n",
    "    \n",
    "    return_df <- data.frame() # initialisation\n",
    "    \n",
    "    for(scale in magnification_list){\n",
    "        temp_scale_df <- subset(cleandf, peripheral_scale == scale)\n",
    "        for(stim_size in stim_sizes){\n",
    "            tempdf <- subset(temp_scale_df, stimulus_radius == stim_size)\n",
    "            \n",
    "            # get the correlations of interest\n",
    "            correlations <- i_j_list(tempdf, e1, e2)\n",
    "            print(paste(\"Magnification\",scale,\"Stimulus Radius\",stim_size,\n",
    "                        \": mean r = \",average_correlation(correlations)))\n",
    "            \n",
    "            # add the correlations to a dataframe for plotting\n",
    "            correlation_df <- data.frame(correlations, \n",
    "                                         magnification = as.character(scale), stimulus_radius = as.character(stim_size))\n",
    "            return_df <- rbind(return_df,correlation_df)\n",
    "            \n",
    "            # check if they're significantly different from shuffled data\n",
    "            \n",
    "        }\n",
    "    }\n",
    "    return(return_df)\n",
    "}"
   ]
  },
  {
   "cell_type": "code",
   "execution_count": null,
   "metadata": {},
   "outputs": [],
   "source": [
    "between_distribution_df <- between_correlations_conditions(cleandf)"
   ]
  },
  {
   "cell_type": "code",
   "execution_count": null,
   "metadata": {},
   "outputs": [],
   "source": [
    "# test within-vs-between distributions\n",
    "within_vs_between <- function(cleandf){\n",
    "    \n",
    "    magnification_list <- sort(unique(cleandf$peripheral_scale))\n",
    "    stim_sizes <- sort(unique(cleandf$stimulus_radius))\n",
    "    \n",
    "    return_df <- data.frame() # initialisation\n",
    "    \n",
    "    for(scale in magnification_list){\n",
    "        temp_scale_df <- subset(cleandf, peripheral_scale == scale)\n",
    "        for(stim_size in stim_sizes){\n",
    "            tempdf <- subset(temp_scale_df, stimulus_radius == stim_size)\n",
    "            \n",
    "            within_correlations <- eccentricity_compare_list(tempdf, 'Foveal', 'Peripheral')\n",
    "            between_correlations <- i_j_list(tempdf, l2e('Foveal'), l2e('Foveal'))\n",
    "            \n",
    "            print(paste(\"Magnification\",scale,\"Stimulus Radius\",stim_size))\n",
    "            print(paste(\"Mean fovea-periphery correlation:\",average_correlation(within_correlations)))\n",
    "            print(paste(\"Mean between-subject fovea-fovea correlation:\",average_correlation(between_correlations)))\n",
    "\n",
    "            print(QDM_test(within_correlations,between_correlations))\n",
    "            print(\"\")\n",
    "        }\n",
    "    }        \n",
    "}"
   ]
  },
  {
   "cell_type": "code",
   "execution_count": null,
   "metadata": {},
   "outputs": [],
   "source": [
    "within_vs_between(cleandf)"
   ]
  },
  {
   "cell_type": "markdown",
   "metadata": {},
   "source": [
    "#### Triangle Inequality Calculations"
   ]
  },
  {
   "cell_type": "code",
   "execution_count": null,
   "metadata": {},
   "outputs": [],
   "source": [
    "# test the violation proportions for a subject's judgments\n",
    "test.tri.subject <- function(matrix,print=FALSE){\n",
    "    CCmat <- matrix[1:9,1:9]\n",
    "    CPmat <- matrix[1:9,10:18]\n",
    "    PPmat <- matrix[10:18,10:18]\n",
    "    \n",
    "    CC.score <- score.tri.violate(CCmat)\n",
    "    CP.score <- score.tri.violate(CPmat)\n",
    "    PP.score <- score.tri.violate(PPmat)\n",
    "    FULL.score <- score.tri.violate(matrix)\n",
    "    \n",
    "    if(print){\n",
    "        print(\"Triangle Inequality Violations:\")\n",
    "        print(paste(\"CC:\",round(CC.score,5),\"CP:\",round(CP.score,5),\"PP:\",round(PP.score,5),\"Full:\",round(FULL.score,5)))\n",
    "    }\n",
    "    return(c(CC.score,CP.score,PP.score,FULL.score))\n",
    "}"
   ]
  },
  {
   "cell_type": "code",
   "execution_count": null,
   "metadata": {},
   "outputs": [],
   "source": [
    "test.tri.subject(testmat)"
   ]
  },
  {
   "cell_type": "code",
   "execution_count": null,
   "metadata": {},
   "outputs": [],
   "source": [
    "# test unsymmeterised PC/CP data\n",
    "test.tri.unsymmeterised <- function(matrix,print=FALSE){\n",
    "    CPmat <- matrix[1:9,10:18]\n",
    "    PCmat <- t(CPmat)\n",
    "    \n",
    "    CP.score <- score.tri.violate(CPmat)\n",
    "    PC.score <- score.tri.violate(PCmat)\n",
    "    \n",
    "    if(print){\n",
    "        print(\"Triangle Inequality Violations - Unsymmeterised:\")\n",
    "        print(paste(\"CP:\",round(CP.score,5),\"PC:\",round(PC.score,5)))\n",
    "    }\n",
    "    return(c(CP.score,PC.score))\n",
    "}"
   ]
  },
  {
   "cell_type": "code",
   "execution_count": null,
   "metadata": {},
   "outputs": [],
   "source": [
    "#testdf <- subset(datadf, subject == 790529144)\n",
    "#testdata <- dissimdata.subject(testdf,symmeterise=FALSE, duplicate=FALSE)\n",
    "#testmat <- color.eccen.mat(testdata,output='matrix')\n",
    "#test.tri.unsymmeterised(testmat,print=TRUE)"
   ]
  },
  {
   "cell_type": "code",
   "execution_count": null,
   "metadata": {},
   "outputs": [],
   "source": [
    "# test a population of subjects\n",
    "test.tri.population <- function(datadf,sym=TRUE){\n",
    "    \n",
    "    # initialise score storage dataframe\n",
    "    score.df <- data.frame()\n",
    "    \n",
    "    subjectlist <- sort(unique(datadf$subject)) # obtain a list of all the subjects\n",
    "    for(ID in subjectlist){\n",
    "        subject.df <- subset(datadf, subject == ID)\n",
    "        if(sym){\n",
    "            subjectdata <- dissimdata.subject(subject.df)\n",
    "        } else {\n",
    "            subjectdata <- dissimdata.subject(subject.df,symmeterise=FALSE, duplicate=FALSE)\n",
    "        }\n",
    "        subject.mat <- color.eccen.mat(subjectdata,output='matrix')\n",
    "        if(sym){\n",
    "            scores <- test.tri.subject(subject.mat)\n",
    "        } else {\n",
    "            scores <- test.tri.unsymmeterised(subject.mat)\n",
    "        }\n",
    "        row <- c(ID,scores)\n",
    "        score.df <- rbind(score.df, row)\n",
    "    }\n",
    "    if(sym){\n",
    "        colnames(score.df) <- c(\"ID\", \"CC\", \"CP\", \"PP\", \"FULL\")\n",
    "    } else {\n",
    "        colnames(score.df) <- c(\"ID\", \"CP\", \"PC\")\n",
    "    }\n",
    "    \n",
    "    return(score.df)\n",
    "}"
   ]
  },
  {
   "cell_type": "code",
   "execution_count": null,
   "metadata": {},
   "outputs": [],
   "source": [
    "#testdf <- subset(cleandf, peripheral_scale == 4.5 & stimulus_radius == 1)\n",
    "#test.tri.population(testdf,sym=FALSE)"
   ]
  },
  {
   "cell_type": "code",
   "execution_count": null,
   "metadata": {},
   "outputs": [],
   "source": [
    "# test all the subjects in a dataset, stratifying by magnification & stimulus\n",
    "test.tri.all <- function(datadf,test='mean',sym=TRUE){\n",
    "    magnification_list <- sort(unique(datadf$peripheral_scale))\n",
    "    size_list <- sort(unique(datadf$stimulus_radius))\n",
    "    output.df <- data.frame()\n",
    "    \n",
    "    print(\"Testing Triangle Inequality Violations\")\n",
    "    print(paste(\"Reporting\",test,\"values\"))\n",
    "    for (stimulus in size_list){\n",
    "        for (scale in magnification_list){\n",
    "            tempdf <- subset(datadf, peripheral_scale == scale & stimulus_radius == stimulus)\n",
    "            \n",
    "            print(paste(\"Magnification\",scale,\"Stimulus\",stimulus))\n",
    "            \n",
    "            score.df <- test.tri.population(tempdf,sym=sym)\n",
    "            if(sym==TRUE){\n",
    "                 if(test=='mean'){\n",
    "                CC.score <- mean(score.df$CC)\n",
    "                CP.score <- mean(score.df$CP)\n",
    "                PP.score <- mean(score.df$PP)\n",
    "                FULL.score <- mean(score.df$FULL)\n",
    "                } else if (test=='median'){\n",
    "                CC.score <- median(score.df$CC)\n",
    "                CP.score <- median(score.df$CP)\n",
    "                PP.score <- median(score.df$PP)\n",
    "                FULL.score <- mean(score.df$FULL)\n",
    "                }\n",
    "                print(paste(\"CC:\",round(CC.score,5),\"CP:\",round(CP.score,5),\"PP:\",round(PP.score,5),\"Full:\",round(FULL.score,5)))\n",
    "                row <- c(scale,stimulus,CC.score,CP.score,PP.score,FULL.score)\n",
    "                output.df <- rbind(output.df,row)\n",
    "            }else{\n",
    "                if(test=='mean'){\n",
    "                CP.score <- mean(score.df$CP)\n",
    "                PC.score <- mean(score.df$PC)\n",
    "                } else if (test=='median'){\n",
    "                CP.score <- median(score.df$CP)\n",
    "                PC.score <- median(score.df$PC)\n",
    "                }\n",
    "                print(paste(\"CP:\",round(CP.score,5),\"PC:\",round(PC.score,5)))\n",
    "            }\n",
    "           \n",
    "        }\n",
    "    }\n",
    "    colnames(output.df) <- c('magnification','stimulus','CC','CP','PP','Full')\n",
    "    return(output.df)\n",
    "}"
   ]
  },
  {
   "cell_type": "code",
   "execution_count": null,
   "metadata": {},
   "outputs": [],
   "source": [
    "# plot triangle inequality violations\n",
    "tri.violate.plot <- function(output.df,title){\n",
    "    plot.df <- output.df %>% gather(matrix, tri.violate, 3:6)\n",
    "    plot.df$stimulus <- as.character(plot.df$stimulus)\n",
    "    plot.df$matrix <- factor(plot.df$matrix, levels = c('CC','CP','PP','Full'))\n",
    "    #print(plot.df)\n",
    "    plot <- ggplot(plot.df, aes(x=stimulus,y=tri.violate,fill=matrix,group=matrix)) + \n",
    "    geom_bar(stat='identity',position=position_dodge()) + ggtitle(title) +\n",
    "    ylim(0,1) + xlab('Stimulus Radius (DVA)') + ylab('Violation Proportion')\n",
    "    return(plot)\n",
    "}"
   ]
  },
  {
   "cell_type": "code",
   "execution_count": null,
   "metadata": {},
   "outputs": [],
   "source": [
    "# summary triangle inequality plot across magnifications\n",
    "tri.violate.plot.mag <- function(output.df){\n",
    "    fixed.df <- subset(output.df, magnification == 1)\n",
    "    scaled.df <- subset(output.df, magnification > 1)\n",
    "    plot.fixed <- tri.violate.plot(fixed.df,'Fixed')\n",
    "    plot.scaled <- tri.violate.plot(scaled.df,'Scaled')\n",
    "    g <- arrangeGrob(plot.fixed,plot.scaled, nrow=1,ncol=2)\n",
    "    return(g)\n",
    "}"
   ]
  },
  {
   "cell_type": "code",
   "execution_count": null,
   "metadata": {},
   "outputs": [],
   "source": [
    "#tri.violate.plot(output.df)\n",
    "testgrob <- tri.violate.plot.mag(output.df)\n",
    "grid.arrange(testgrob)"
   ]
  },
  {
   "cell_type": "code",
   "execution_count": null,
   "metadata": {},
   "outputs": [],
   "source": [
    "test.tri.all(cleandf,test='median',sym=FALSE)"
   ]
  },
  {
   "cell_type": "code",
   "execution_count": null,
   "metadata": {},
   "outputs": [],
   "source": [
    "output.df <- test.tri.all(cleandf,test='median')"
   ]
  },
  {
   "cell_type": "code",
   "execution_count": null,
   "metadata": {},
   "outputs": [],
   "source": [
    "output.df"
   ]
  },
  {
   "cell_type": "code",
   "execution_count": null,
   "metadata": {},
   "outputs": [],
   "source": [
    "test.tri.all(cleandf,test='mean')"
   ]
  },
  {
   "cell_type": "code",
   "execution_count": null,
   "metadata": {},
   "outputs": [],
   "source": [
    "#test <- test.tri.all(testdf)\n",
    "#test\n",
    "#median(test$ID)\n",
    "#median(test$CC)\n",
    "#median(test$CP)\n",
    "#median(test$PP)\n",
    "1/253"
   ]
  },
  {
   "cell_type": "markdown",
   "metadata": {},
   "source": [
    "### Between-Subjects Explorations"
   ]
  },
  {
   "cell_type": "markdown",
   "metadata": {},
   "source": [
    "##### Between-subject variance"
   ]
  },
  {
   "cell_type": "code",
   "execution_count": null,
   "metadata": {},
   "outputs": [],
   "source": [
    "testdf <- subset(cleandf, stimulus_radius==1 & peripheral_scale==1)\n",
    "testplot <- dissimplot.full(color.eccen.mat(dissimdata.subject(testdf,\n",
    "                                                        duplicate=FALSE,symmeterise=FALSE)))"
   ]
  },
  {
   "cell_type": "code",
   "execution_count": null,
   "metadata": {},
   "outputs": [],
   "source": []
  },
  {
   "cell_type": "markdown",
   "metadata": {},
   "source": [
    "## Plot Stuff"
   ]
  },
  {
   "cell_type": "markdown",
   "metadata": {},
   "source": [
    "### Plot summary of all subjects"
   ]
  },
  {
   "cell_type": "markdown",
   "metadata": {},
   "source": [
    "#### Individual subjects"
   ]
  },
  {
   "cell_type": "code",
   "execution_count": 462,
   "metadata": {},
   "outputs": [],
   "source": [
    "# plot summary data for all the subjects individually\n",
    "allsubjectsplot <- function(datadf,savestr){\n",
    "    \n",
    "    subjectlist <- sort(unique(datadf$subject)) # obtain a list of all the subjects\n",
    "\n",
    "    dir.create(paste(savestr,\"Subject_Plots\",sep='_')) # make a new folder to store the subject plots in\n",
    "\n",
    "    for (subjectid in subjectlist){\n",
    "        print(paste(\"Processing subject:\",subjectid,sep=' '))\n",
    "        subjectplot(datadf, subjectid,savestr)\n",
    "    }\n",
    "}"
   ]
  },
  {
   "cell_type": "code",
   "execution_count": 463,
   "metadata": {},
   "outputs": [],
   "source": [
    "# make a plot of the key summary data for a subject - single trial type version\n",
    "subjectplot <- function(datadf, subjectid,savestr){\n",
    "    \n",
    "    datadf = subset(datadf, subject == subjectid) # select the ID for subject of interest\n",
    "    for (trial_condition in trial_types){\n",
    "            subjectdf = subset(datadf, trial_type == trial_condition) # just pick one trial type at a time\n",
    "    \n",
    "    \n",
    "        if(subjectdf$trial_type[1] != 'after_1'){\n",
    "            FP = TRUE\n",
    "        } else {\n",
    "            FP = FALSE\n",
    "        }\n",
    "\n",
    "        # FF Matrix plot\n",
    "        FFmatrix <- dissimplot(dissimdata(subjectdf, colors, l2e('Foveal'), l2e('Foveal')),colors)\n",
    "\n",
    "\n",
    "\n",
    "        # PP Matrix plot\n",
    "        PPmatrix <- dissimplot(dissimdata(subjectdf, colors, l2e('Peripheral'), l2e('Peripheral')),colors)\n",
    "\n",
    "        # FF CMDS plot\n",
    "        FFcmds <-  cmdsplot(cmdsfit(mat2dist(df2mat(subjectdf,l2e('Foveal'), l2e('Foveal')))), \n",
    "                            abcolors, abcolors, l2e('Foveal'), l2e('Foveal'))\n",
    "\n",
    "\n",
    "\n",
    "        # PP CMDS plot\n",
    "        PPcmds <-  cmdsplot(cmdsfit(mat2dist(df2mat(subjectdf,l2e('Peripheral'), l2e('Peripheral')))), \n",
    "                            abcolors, abcolors, l2e('Peripheral'), l2e('Peripheral'))\n",
    "\n",
    "        # FF nMDS plot\n",
    "        FFnmds <-  nmdsplot(nmdsfit(mat2dist(df2mat(subjectdf,l2e('Foveal'), l2e('Foveal')))), \n",
    "                            abcolors, abcolors, l2e('Foveal'), l2e('Foveal'))\n",
    "\n",
    "\n",
    "\n",
    "        # PP nMDS plot\n",
    "        PPnmds <-  nmdsplot(nmdsfit(mat2dist(df2mat(subjectdf,l2e('Peripheral'), l2e('Peripheral')))), \n",
    "                            abcolors, abcolors, l2e('Peripheral'), l2e('Peripheral'))\n",
    "\n",
    "        # Similarity judgements\n",
    "        simplot <- simhistplot(subjectdf)\n",
    "        # Reaction times\n",
    "        reactionplot <- rsplot(subjectdf)\n",
    "        # summary plot\n",
    "        rainplot <- rsplot_raincloud(subjectdf,'log')\n",
    "\n",
    "        # trace plots\n",
    "        traceplot <- trace_plot(subjectdf)\n",
    "        antiplot <- trace_plot(subjectdf,'antitrace')\n",
    "        differenceplot <- trace_plot(subjectdf,'difference')\n",
    "\n",
    "        # asymmetry plot\n",
    "        #asymplot <- asymmetry_plot(subjectdf,l2e('Foveal'),l2e('Foveal'),colors)\n",
    "\n",
    "        # title\n",
    "        if(subjectdf$noncompliant[1]){\n",
    "            title <- textGrob(paste(\"ID:\",as.character(subjectid),\"|\",\"Catch Score:\",catch_score(datadf),\n",
    "                              \"Screen size:\",round(screen_size(subjectdf)/10,1),\"cm\",\n",
    "                              \"Viewing distance:\",round(view_distance(subjectdf)/10,1),\"cm\"),\n",
    "                              gp=gpar(col=\"red\",fontsize=35))\n",
    "        } else {\n",
    "            title <- textGrob(paste(\"ID:\",as.character(subjectid),\"|\",\"Catch Score:\",catch_score(datadf),\n",
    "                              \"Screen size:\",round(screen_size(subjectdf)/10,1),\"cm\",\n",
    "                              \"Viewing distance:\",round(view_distance(subjectdf)/10,1),\"cm\"),\n",
    "                              gp=gpar(col=\"blue\",fontsize=35))\n",
    "        }\n",
    "    \n",
    "        if(FP){\n",
    "\n",
    "            # FP Matrix plot\n",
    "            FPmatrix <- dissimplot(dissimdata(subjectdf, colors, l2e('Foveal'), l2e('Peripheral')),colors)\n",
    "\n",
    "            # FP CMDS plot\n",
    "            FPcmds <-  cmdsplot(cmdsfit(mat2dist(df2mat(subjectdf,l2e('Foveal'), l2e('Peripheral')))), \n",
    "                            abcolors, abcolors, l2e('Foveal'), l2e('Peripheral'))\n",
    "\n",
    "            # FP nMDS plot\n",
    "            FPnmds <-  nmdsplot(nmdsfit(mat2dist(df2mat(subjectdf,l2e('Foveal'), l2e('Peripheral')))), \n",
    "                            abcolors, abcolors, l2e('Foveal'), l2e('Peripheral'))\n",
    "\n",
    "            # put all the plots together\n",
    "            g <- arrangeGrob(FFmatrix, FPmatrix, PPmatrix, simplot,\n",
    "                        FFcmds, FPcmds, PPcmds, reactionplot,\n",
    "                        FFnmds, FPnmds, PPnmds, rainplot,\n",
    "                        traceplot, antiplot, differenceplot, \n",
    "                        nrow = 4, ncol=4, top = title)\n",
    "\n",
    "            exp_type <- trial_condition\n",
    "            ggsave(paste(savestr,\"_Subject_Plots/\",exp_type,\"_ID_\",subjectid,\"_plot.png\",sep=''),\n",
    "                     g, height = 40, width = 40)\n",
    "        } else {\n",
    "            # put all the plots together\n",
    "            g <- arrangeGrob(FFmatrix, PPmatrix, simplot, traceplot,\n",
    "                        FFcmds, PPcmds, reactionplot, antiplot,\n",
    "                        FFnmds, PPnmds, rainplot, \n",
    "                        nrow = 3, ncol=4, top = title)\n",
    "\n",
    "            exp_type <- trial_condition\n",
    "            ggsave(paste(savestr,\"_Subject_Plots/\",exp_type,\"_ID_\",subjectid,\"_plot.png\",\n",
    "                     sep=''),g, height = 30, width = 40)\n",
    "        }\n",
    "    }\n",
    "}"
   ]
  },
  {
   "cell_type": "code",
   "execution_count": 218,
   "metadata": {
    "scrolled": true
   },
   "outputs": [],
   "source": [
    "if(plotsubjects){\n",
    "    allsubjectsplot(datadf,savestr)\n",
    "}"
   ]
  },
  {
   "cell_type": "code",
   "execution_count": 219,
   "metadata": {},
   "outputs": [
    {
     "name": "stdout",
     "output_type": "stream",
     "text": [
      "[1] \"Processing subject: 1\"\n",
      "initial  value 19.059569 \n",
      "iter   5 value 9.397725\n",
      "final  value 8.287254 \n",
      "converged\n",
      "initial  value 16.137706 \n",
      "iter   5 value 11.618568\n",
      "iter  10 value 11.339783\n",
      "iter  10 value 11.334695\n",
      "iter  10 value 11.334695\n",
      "final  value 11.334695 \n",
      "converged\n"
     ]
    },
    {
     "name": "stderr",
     "output_type": "stream",
     "text": [
      "Scale for 'y' is already present. Adding another scale for 'y', which will\n",
      "replace the existing scale.\n"
     ]
    },
    {
     "name": "stdout",
     "output_type": "stream",
     "text": [
      "initial  value 22.673820 \n",
      "iter   5 value 11.036092\n",
      "final  value 10.801737 \n",
      "converged\n"
     ]
    },
    {
     "name": "stderr",
     "output_type": "stream",
     "text": [
      "`stat_bindot()` using `bins = 30`. Pick better value with `binwidth`.\n",
      "`stat_bindot()` using `bins = 30`. Pick better value with `binwidth`.\n",
      "`stat_bindot()` using `bins = 30`. Pick better value with `binwidth`.\n"
     ]
    }
   ],
   "source": [
    "allsubjectsplot(cleandf,savestr)"
   ]
  },
  {
   "cell_type": "markdown",
   "metadata": {},
   "source": [
    "#### New mixed trial type version analysis"
   ]
  },
  {
   "cell_type": "code",
   "execution_count": null,
   "metadata": {},
   "outputs": [],
   "source": [
    "# matrix to define layout for the mixed trial type plot\n",
    "mixed_hlay <- rbind (c(1,2,3,4,5,6),\n",
    "                     c(7,8,9,10,11,12),\n",
    "                     c(13,14,15,16,17,18))"
   ]
  },
  {
   "cell_type": "code",
   "execution_count": null,
   "metadata": {},
   "outputs": [],
   "source": [
    "# names for the x axis\n",
    "col_plot_list <- c('FF Matrix', 'FF nMDS', 'PP Matrix', 'PP nMDS', 'RT', 'Dissim Freq')"
   ]
  },
  {
   "cell_type": "code",
   "execution_count": null,
   "metadata": {},
   "outputs": [],
   "source": [
    "# make a plot of the key summary data for a subject - mixed trial type version\n",
    "subject_mixed_plot <- function(datadf,savestr){\n",
    "    \n",
    "    dir.create(paste(savestr,\"Mixed_Trial_Type_Plots\", sep='_'))\n",
    "    subjectlist <- sort(unique(datadf$subject)) # obtain a list of all the subjects\n",
    "    \n",
    "    \n",
    "    for (subjectid in subjectlist){ # do for each subject\n",
    "        \n",
    "        k = 0 # counter\n",
    "        plot_list <- list() # list to store the plots in as we're making them\n",
    "        subjectdf = subset(datadf, subject == subjectid) # select the ID for subject of interest\n",
    "\n",
    "        for (trial_condition in trial_types){\n",
    "            type_df = subset(subjectdf, trial_type == trial_condition) # just pick one trial type at a time\n",
    "            \n",
    "            # FF Matrix plot\n",
    "            FFmatrix <- dissimplot(dissimdata(type_df, colors, l2e('Foveal'), l2e('Foveal')),colors)\n",
    "            k = k + 1\n",
    "            plot_list[[k]] <- as.grob(FFmatrix)\n",
    "            \n",
    "            # FF nMDS plot\n",
    "            FFnmds <-  nmdsplot(nmdsfit(mat2dist(df2mat(type_df,l2e('Foveal'), l2e('Foveal')))), \n",
    "                                abcolors, abcolors, l2e('Foveal'), l2e('Foveal'))\n",
    "            k = k + 1\n",
    "            plot_list[[k]] <- as.grob(FFnmds)\n",
    "\n",
    "            # PP Matrix plot\n",
    "            PPmatrix <- dissimplot(dissimdata(type_df, colors, l2e('Peripheral'), l2e('Peripheral')),colors)\n",
    "            k = k + 1\n",
    "            plot_list[[k]] <- as.grob(PPmatrix)\n",
    "\n",
    "            # PP nMDS plot\n",
    "            PPnmds <-  nmdsplot(nmdsfit(mat2dist(df2mat(type_df,l2e('Peripheral'), l2e('Peripheral')))), \n",
    "                                abcolors, abcolors, l2e('Peripheral'), l2e('Peripheral'))\n",
    "            k = k + 1\n",
    "            plot_list[[k]] <- as.grob(PPnmds)\n",
    "\n",
    "            # rt rain plot\n",
    "            rainplot <- rsplot_raincloud(type_df)\n",
    "            k = k + 1\n",
    "            plot_list[[k]] <- as.grob(rainplot)\n",
    "            # Similarity judgements\n",
    "            simplot <- simhistplot(subjectdf)\n",
    "            k = k + 1\n",
    "            plot_list[[k]] <- as.grob(simplot)\n",
    "\n",
    "        }\n",
    "\n",
    "        # save the plots\n",
    "        yaxis <- textGrob(\"Trial Type\", gp=gpar(fontsize=30), rot=90)\n",
    "        xaxis <- textGrob(\"\", gp=gpar(fontsize=30))\n",
    "\n",
    "        title <- textGrob(paste(\"ID:\",subjectid,\"|\",\"Catch Score:\",catch_score(subjectdf)),gp=gpar(fontsize=35))\n",
    "\n",
    "        g <- arrangeGrob(grobs = plot_list, ncol = 6,nrow = 3,\n",
    "                         layout_matrix = mixed_hlay)\n",
    "\n",
    "        g_rowcol_names <- rbind(tableGrob(t(col_plot_list), theme = ttheme_minimal(), rows = \"\"),\n",
    "                    cbind(tableGrob(trial_types, theme = ttheme_minimal()),\n",
    "                          g, size = \"last\"), size = \"last\")\n",
    "\n",
    "\n",
    "        g_titled <- arrangeGrob(g_rowcol_names, top = title, left = yaxis, bottom = xaxis)\n",
    "        \n",
    "        savename <- paste(savestr,\"_Mixed_Trial_Type_Plots/\",subjectid,\"_plot.png\",sep='')\n",
    "        ggsave(savename,g_titled, height = 19, width = 39)\n",
    "    }\n",
    "}"
   ]
  },
  {
   "cell_type": "code",
   "execution_count": null,
   "metadata": {
    "scrolled": true
   },
   "outputs": [],
   "source": [
    "subject_mixed_plot(datadf,savestr)"
   ]
  },
  {
   "cell_type": "markdown",
   "metadata": {},
   "source": [
    "### Summary plots"
   ]
  },
  {
   "cell_type": "code",
   "execution_count": 293,
   "metadata": {},
   "outputs": [],
   "source": [
    "dir.create(paste(savestr,\"Summary_Plots\",sep='_'))"
   ]
  },
  {
   "cell_type": "code",
   "execution_count": 294,
   "metadata": {},
   "outputs": [],
   "source": [
    "# matrix to use to define the plot layout, specified manually for now\n",
    "hlay.m <- rbind (c(1,4,7,10),\n",
    "               c(2,5,8,11)#,\n",
    "               #c(3,6,9,12)\n",
    "              )\n",
    "\n",
    "hlay <- rbind(c(1,3,5,7,9),\n",
    "             c(2,4,6,8,10))"
   ]
  },
  {
   "cell_type": "code",
   "execution_count": 295,
   "metadata": {},
   "outputs": [],
   "source": [
    "# correlations summary plot\n",
    "across_experiment_plot <- function(datadf,savestr,laymatrix,dependent,clean=FALSE,submat='CCvPP'){\n",
    "    \n",
    "    dir.create(paste(savestr,\"Overall_Summary_Plots\",sep='_'))\n",
    "    submat.print <- FALSE\n",
    "    \n",
    "    magnification_list <- sort(unique(datadf$peripheral_scale))\n",
    "    size_list <- sort(unique(datadf$stimulus_radius))\n",
    "    \n",
    "    plot_list <- list()\n",
    "    \n",
    "    if(clean){\n",
    "        datadf <- subset(datadf, noncompliant == 0)\n",
    "    }\n",
    "    \n",
    "    # make all the plots\n",
    "    k = 0\n",
    "    for (stimulus in size_list){\n",
    "        for (scale in magnification_list){\n",
    "            k = k + 1\n",
    "            if(stimulus == 2){ # 2 stimuli doesn't have any cueing, so it gets an exception\n",
    "                tempdf <- subset(datadf, stimulus_radius == 2)\n",
    "            } else {\n",
    "                tempdf <- subset(datadf, stimulus_radius == stimulus & peripheral_scale == scale)\n",
    "            }\n",
    "            \n",
    "            # make the specific plot\n",
    "            if(dependent=='correlation'){\n",
    "                fvp <- fvp_list(tempdf)\n",
    "                plot <- corr_plot(fvp,'Within-subject FvP','Within-subject FvP')\n",
    "                title <- textGrob(\"CORRELATION\", gp=gpar(fontsize=35))\n",
    "            } else if (dependent=='RT'){\n",
    "                plot <- rsplot_summary(tempdf)\n",
    "                title <- textGrob(\"REACTION TIME\", gp=gpar(fontsize=35))\n",
    "            } else if (dependent=='dissimilarity'){\n",
    "                plot <- simhistplot_summary(tempdf)\n",
    "                title <- textGrob(\"DISSIMILARITY\", gp=gpar(fontsize=35))\n",
    "            } else if (dependent=='trace'){\n",
    "                plot <- trace_plot(tempdf)\n",
    "                title <- textGrob(\"TRACE\", gp=gpar(fontsize=35))\n",
    "            } else if (dependent=='antitrace'){\n",
    "                plot <- trace_plot(tempdf,'antitrace')\n",
    "                title <- textGrob(\"ANTITRACE\", gp=gpar(fontsize=35))\n",
    "            } else if (dependent=='difference'){\n",
    "                plot <- trace_plot(tempdf,'difference')\n",
    "                title <- textGrob(\"ANTITRACE - TRACE\", gp=gpar(fontsize=35))\n",
    "            } else if (dependent=='asymmetry_matrix'){\n",
    "                plot <- asymmetry_plot(tempdf,l2e('Foveal'),l2e('Foveal'),colors)\n",
    "                title <- textGrob(\"SIMILARITY ASYMMETRY MATRIX\", gp=gpar(fontsize=35))\n",
    "            } else if (dependent == 'trace_by_trial'){\n",
    "                plot <- trace_by_trial_plot(tempdf,'boxplot')\n",
    "                title <- textGrob(\"Trace by Trial\", gp=gpar(fontsize=35))\n",
    "            } else if (dependent == 't'){\n",
    "                plot <- t.plot(tempdf,submat=submat,title=paste('scale',scale,'size',stimulus))\n",
    "                title <- textGrob(paste(\"t score -\",submat), gp=gpar(fontsize=35))\n",
    "                submat.print <- TRUE\n",
    "            } else if (dependent == 'bayes'){\n",
    "                plot <- ci.bayes.plot(tempdf,submat=submat,title=paste('scale',scale,'size',stimulus))\n",
    "                title <- textGrob(paste(\"credible interval bounds -\",submat), gp=gpar(fontsize=35))\n",
    "                submat.print <- TRUE\n",
    "            }  else if (dependent == 'permute'){\n",
    "                plot <- permute.plot(tempdf,submat=submat,title=paste('scale',scale,'size',stimulus))\n",
    "                title <- textGrob(paste(\"permute plot -\",submat), gp=gpar(fontsize=35))\n",
    "                submat.print <- TRUE\n",
    "            } else if (dependent== 'bayes.rank'){\n",
    "                plot <- ci.bayes.plot(tempdf,mats=TRUE,diff.mats=TRUE,submat=submat,title=paste('scale',scale,'size',stimulus))\n",
    "                title <- textGrob(paste(\"credible interval bounds -\",submat), gp=gpar(fontsize=35))\n",
    "                submat.print <- TRUE\n",
    "            }\n",
    "            \n",
    "            \n",
    "            plot <- plot + xlab(paste(stimulus,scale,sep=' ')) #  add a label\n",
    "            \n",
    "            plot_list[[k]] <- as.grob(plot) # add it to the plot_list\n",
    "        }\n",
    "        \n",
    "    }\n",
    "    \n",
    "    # save the plots\n",
    "    yaxis <- textGrob(\"Magnification\", gp=gpar(fontsize=30), rot=90)\n",
    "    xaxis <- textGrob(\"Stimulus Radius (DVA)\", gp=gpar(fontsize=30))\n",
    "    \n",
    "    g <- arrangeGrob(grobs = plot_list, ncol = length(magnification_list),nrow = length(size_list),\n",
    "                     layout_matrix = hlay)\n",
    "    \n",
    "    g_rowcol_names <- rbind(tableGrob(t(size_list), theme = ttheme_minimal(), rows = \"\"),\n",
    "                cbind(tableGrob(magnification_list, theme = ttheme_minimal()),\n",
    "                      g, size = \"last\"), size = \"last\")\n",
    "    \n",
    "    g_titled <- arrangeGrob(g_rowcol_names, top = title, left = yaxis, bottom = xaxis)\n",
    "    \n",
    "    if(clean){\n",
    "        if(submat.print){\n",
    "            dependent <- paste(dependent,submat,sep='_')\n",
    "        }\n",
    "        savename <- paste(savestr,\"_Overall_Summary_Plots/\",dependent,\"_CLEAN\",\"_plot.png\",sep='')\n",
    "        ggsave(savename,g_titled, height = 20, width = 40)\n",
    "    }else{\n",
    "        if(submat.print){\n",
    "            dependent <- paste(dependent,submat,sep='_')\n",
    "        }\n",
    "        savename <- paste(savestr,\"_Overall_Summary_Plots/\",dependent,\"_plot.png\",sep='')\n",
    "        ggsave(savename,g_titled, height = 20, width = 40)\n",
    "    }\n",
    "    \n",
    "    return(g_titled)\n",
    "}"
   ]
  },
  {
   "cell_type": "code",
   "execution_count": 351,
   "metadata": {
    "collapsed": true,
    "jupyter": {
     "outputs_hidden": true
    }
   },
   "outputs": [
    {
     "name": "stdout",
     "output_type": "stream",
     "text": [
      "Known standard deviation :2.572\n",
      "Known standard deviation :1.272\n",
      "Known standard deviation :2.315\n",
      "Known standard deviation :2.293\n",
      "Known standard deviation :2.338\n",
      "Known standard deviation :2.418\n",
      "Known standard deviation :1.928\n",
      "Known standard deviation :1.621\n",
      "Known standard deviation :2.088\n",
      "Known standard deviation :1.272\n",
      "Known standard deviation :2.601\n",
      "Known standard deviation :1.863\n",
      "Known standard deviation :2.417\n",
      "Known standard deviation :2.784\n",
      "Known standard deviation :2.216\n",
      "Known standard deviation :1.978\n",
      "Known standard deviation :2.757\n",
      "Known standard deviation :1.667\n",
      "Known standard deviation :2.315\n",
      "Known standard deviation :1.863\n",
      "Known standard deviation :2.783\n",
      "Known standard deviation :1.621\n",
      "Known standard deviation :2.33\n",
      "Known standard deviation :2.292\n",
      "Known standard deviation :1.526\n",
      "Known standard deviation :2.061\n",
      "Known standard deviation :1.914\n",
      "Known standard deviation :2.293\n",
      "Known standard deviation :2.417\n",
      "Known standard deviation :1.621\n",
      "Known standard deviation :2.186\n",
      "Known standard deviation :1.672\n",
      "Known standard deviation :1.381\n",
      "Known standard deviation :2.078\n",
      "Known standard deviation :1.75\n",
      "Known standard deviation :2.509\n",
      "Known standard deviation :2.338\n",
      "Known standard deviation :2.784\n",
      "Known standard deviation :2.33\n",
      "Known standard deviation :1.672\n",
      "Known standard deviation :1.463\n",
      "Known standard deviation :2.384\n",
      "Known standard deviation :2.183\n",
      "Known standard deviation :2.174\n",
      "Known standard deviation :2.166\n",
      "Known standard deviation :2.418\n",
      "Known standard deviation :2.216\n",
      "Known standard deviation :2.292\n",
      "Known standard deviation :1.381\n",
      "Known standard deviation :2.384\n",
      "Known standard deviation :2.239\n",
      "Known standard deviation :1.786\n",
      "Known standard deviation :2.405\n",
      "Known standard deviation :1.969\n",
      "Known standard deviation :1.928\n",
      "Known standard deviation :1.978\n",
      "Known standard deviation :1.526\n",
      "Known standard deviation :2.078\n",
      "Known standard deviation :2.183\n",
      "Known standard deviation :1.786\n",
      "Known standard deviation :2.399\n",
      "Known standard deviation :2.274\n",
      "Known standard deviation :2.206\n",
      "Known standard deviation :1.621\n",
      "Known standard deviation :2.757\n",
      "Known standard deviation :2.061\n",
      "Known standard deviation :1.75\n",
      "Known standard deviation :2.174\n",
      "Known standard deviation :2.405\n",
      "Known standard deviation :2.274\n",
      "Known standard deviation :2.015\n",
      "Known standard deviation :1.819\n",
      "Known standard deviation :2.088\n",
      "Known standard deviation :1.667\n",
      "Known standard deviation :1.914\n",
      "Known standard deviation :2.509\n",
      "Known standard deviation :2.166\n",
      "Known standard deviation :1.969\n",
      "Known standard deviation :2.206\n",
      "Known standard deviation :1.819\n",
      "Known standard deviation :2.611\n",
      "Known standard deviation :2.795\n",
      "Known standard deviation :1.373\n",
      "Known standard deviation :1.256\n",
      "Known standard deviation :1.026\n",
      "Known standard deviation :1.121\n",
      "Known standard deviation :1.438\n",
      "Known standard deviation :0.5606\n",
      "Known standard deviation :2.22\n",
      "Known standard deviation :1.564\n",
      "Known standard deviation :1.373\n",
      "Known standard deviation :1.995\n",
      "Known standard deviation :1.87\n",
      "Known standard deviation :1.65\n",
      "Known standard deviation :1.165\n",
      "Known standard deviation :1.334\n",
      "Known standard deviation :1.097\n",
      "Known standard deviation :1.012\n",
      "Known standard deviation :1.572\n",
      "Known standard deviation :1.256\n",
      "Known standard deviation :1.87\n",
      "Known standard deviation :1.047\n",
      "Known standard deviation :1.109\n",
      "Known standard deviation :1.462\n",
      "Known standard deviation :1.907\n",
      "Known standard deviation :1.168\n",
      "Known standard deviation :1.801\n",
      "Known standard deviation :1.208\n",
      "Known standard deviation :1.026\n",
      "Known standard deviation :1.65\n",
      "Known standard deviation :1.109\n",
      "Known standard deviation :1.28\n",
      "Known standard deviation :1.4\n",
      "Known standard deviation :1.442\n",
      "Known standard deviation :1.807\n",
      "Known standard deviation :1.543\n",
      "Known standard deviation :1.373\n",
      "Known standard deviation :1.121\n",
      "Known standard deviation :1.165\n",
      "Known standard deviation :1.462\n",
      "Known standard deviation :1.4\n",
      "Known standard deviation :1.033\n",
      "Known standard deviation :0.9537\n",
      "Known standard deviation :1.1\n",
      "Known standard deviation :1.365\n",
      "Known standard deviation :1.41\n",
      "Known standard deviation :1.438\n",
      "Known standard deviation :1.334\n",
      "Known standard deviation :1.907\n",
      "Known standard deviation :1.442\n",
      "Known standard deviation :0.9537\n",
      "Known standard deviation :1.457\n",
      "Known standard deviation :1.165\n",
      "Known standard deviation :1.887\n",
      "Known standard deviation :1.5\n",
      "Known standard deviation :0.5606\n",
      "Known standard deviation :1.097\n",
      "Known standard deviation :1.168\n",
      "Known standard deviation :1.807\n",
      "Known standard deviation :1.1\n",
      "Known standard deviation :1.165\n",
      "Known standard deviation :1.604\n",
      "Known standard deviation :1.639\n",
      "Known standard deviation :1.336\n",
      "Known standard deviation :2.22\n",
      "Known standard deviation :1.012\n",
      "Known standard deviation :1.801\n",
      "Known standard deviation :1.543\n",
      "Known standard deviation :1.365\n",
      "Known standard deviation :1.887\n",
      "Known standard deviation :1.639\n",
      "Known standard deviation :2.197\n",
      "Known standard deviation :0.9574\n",
      "Known standard deviation :1.564\n",
      "Known standard deviation :1.572\n",
      "Known standard deviation :1.208\n",
      "Known standard deviation :1.373\n",
      "Known standard deviation :1.41\n",
      "Known standard deviation :1.5\n",
      "Known standard deviation :1.336\n",
      "Known standard deviation :0.9574\n",
      "Known standard deviation :1.424\n",
      "Known standard deviation :2.84\n",
      "Known standard deviation :1.856\n",
      "Known standard deviation :2.134\n",
      "Known standard deviation :2.108\n",
      "Known standard deviation :2.341\n",
      "Known standard deviation :1.667\n",
      "Known standard deviation :1.807\n",
      "Known standard deviation :2.104\n",
      "Known standard deviation :1.699\n",
      "Known standard deviation :1.856\n",
      "Known standard deviation :2.028\n",
      "Known standard deviation :1.837\n",
      "Known standard deviation :2.256\n",
      "Known standard deviation :2.321\n",
      "Known standard deviation :2.134\n",
      "Known standard deviation :1.85\n",
      "Known standard deviation :1.827\n",
      "Known standard deviation :2.23\n",
      "Known standard deviation :2.134\n",
      "Known standard deviation :1.837\n",
      "Known standard deviation :1.807\n",
      "Known standard deviation :2.546\n",
      "Known standard deviation :1.91\n",
      "Known standard deviation :1.741\n",
      "Known standard deviation :1.907\n",
      "Known standard deviation :1.391\n",
      "Known standard deviation :1.1\n",
      "Known standard deviation :2.108\n",
      "Known standard deviation :2.256\n",
      "Known standard deviation :2.546\n",
      "Known standard deviation :2.23\n",
      "Known standard deviation :1.904\n",
      "Known standard deviation :1.474\n",
      "Known standard deviation :1.731\n",
      "Known standard deviation :1.447\n",
      "Known standard deviation :2.117\n",
      "Known standard deviation :2.341\n",
      "Known standard deviation :2.321\n",
      "Known standard deviation :1.91\n",
      "Known standard deviation :1.904\n",
      "Known standard deviation :2.111\n",
      "Known standard deviation :1.968\n",
      "Known standard deviation :2.2\n",
      "Known standard deviation :2.017\n",
      "Known standard deviation :1.628\n",
      "Known standard deviation :1.667\n",
      "Known standard deviation :2.134\n",
      "Known standard deviation :1.741\n",
      "Known standard deviation :1.474\n",
      "Known standard deviation :1.968\n",
      "Known standard deviation :2.035\n",
      "Known standard deviation :1.579\n",
      "Known standard deviation :1.944\n",
      "Known standard deviation :1.834\n",
      "Known standard deviation :1.807\n",
      "Known standard deviation :1.85\n",
      "Known standard deviation :1.907\n",
      "Known standard deviation :1.731\n",
      "Known standard deviation :2.2\n",
      "Known standard deviation :1.579\n",
      "Known standard deviation :1.32\n",
      "Known standard deviation :1.999\n",
      "Known standard deviation :2.233\n",
      "Known standard deviation :2.104\n",
      "Known standard deviation :1.827\n",
      "Known standard deviation :1.391\n",
      "Known standard deviation :1.447\n",
      "Known standard deviation :2.017\n",
      "Known standard deviation :1.944\n",
      "Known standard deviation :1.999\n",
      "Known standard deviation :2.086\n",
      "Known standard deviation :1.51\n",
      "Known standard deviation :1.699\n",
      "Known standard deviation :2.23\n",
      "Known standard deviation :1.1\n",
      "Known standard deviation :2.117\n",
      "Known standard deviation :1.628\n",
      "Known standard deviation :1.834\n",
      "Known standard deviation :2.233\n",
      "Known standard deviation :1.51\n",
      "Known standard deviation :2.924\n",
      "Known standard deviation :2.271\n",
      "Known standard deviation :1.403\n",
      "Known standard deviation :0.896\n",
      "Known standard deviation :0.527\n",
      "Known standard deviation :0.6433\n",
      "Known standard deviation :1.703\n",
      "Known standard deviation :0.9189\n",
      "Known standard deviation :0.7472\n",
      "Known standard deviation :1.329\n",
      "Known standard deviation :1.403\n",
      "Known standard deviation :2.644\n",
      "Known standard deviation :1.279\n",
      "Known standard deviation :1.354\n",
      "Known standard deviation :1.308\n",
      "Known standard deviation :0.896\n",
      "Known standard deviation :0.9265\n",
      "Known standard deviation :1.423\n",
      "Known standard deviation :1.141\n",
      "Known standard deviation :0.896\n",
      "Known standard deviation :1.279\n",
      "Known standard deviation :1.509\n",
      "Known standard deviation :1.184\n",
      "Known standard deviation :1.472\n",
      "Known standard deviation :1.599\n",
      "Known standard deviation :1.492\n",
      "Known standard deviation :0.9189\n",
      "Known standard deviation :1.322\n",
      "Known standard deviation :0.527\n",
      "Known standard deviation :1.354\n",
      "Known standard deviation :1.184\n",
      "Known standard deviation :1.524\n",
      "Known standard deviation :1.039\n",
      "Known standard deviation :1.492\n",
      "Known standard deviation :1.476\n",
      "Known standard deviation :1.674\n",
      "Known standard deviation :0.8317\n",
      "Known standard deviation :0.6433\n",
      "Known standard deviation :1.308\n",
      "Known standard deviation :1.472\n",
      "Known standard deviation :1.039\n",
      "Known standard deviation :2.234\n",
      "Known standard deviation :1.468\n",
      "Known standard deviation :1.606\n",
      "Known standard deviation :0.6236\n",
      "Known standard deviation :1.001\n",
      "Known standard deviation :1.703\n",
      "Known standard deviation :0.896\n",
      "Known standard deviation :1.599\n",
      "Known standard deviation :1.492\n",
      "Known standard deviation :1.468\n",
      "Known standard deviation :1.912\n",
      "Known standard deviation :1.359\n",
      "Known standard deviation :1.075\n",
      "Known standard deviation :1.531\n",
      "Known standard deviation :0.9189\n",
      "Known standard deviation :0.9265\n",
      "Known standard deviation :1.492\n",
      "Known standard deviation :1.476\n",
      "Known standard deviation :1.606\n",
      "Known standard deviation :1.359\n",
      "Known standard deviation :1.197\n",
      "Known standard deviation :1.055\n",
      "Known standard deviation :1.312\n",
      "Known standard deviation :0.7472\n",
      "Known standard deviation :1.423\n",
      "Known standard deviation :0.9189\n",
      "Known standard deviation :1.674\n",
      "Known standard deviation :0.6236\n",
      "Known standard deviation :1.075\n",
      "Known standard deviation :1.055\n",
      "Known standard deviation :1.35\n",
      "Known standard deviation :1.921\n",
      "Known standard deviation :1.329\n",
      "Known standard deviation :1.141\n",
      "Known standard deviation :1.322\n",
      "Known standard deviation :0.8317\n",
      "Known standard deviation :1.001\n",
      "Known standard deviation :1.531\n",
      "Known standard deviation :1.312\n",
      "Known standard deviation :1.921\n",
      "Known standard deviation :1.506\n",
      "Known standard deviation :2.103\n",
      "Known standard deviation :1.431\n",
      "Known standard deviation :0.4385\n",
      "Known standard deviation :0.5911\n",
      "Known standard deviation :0.4935\n",
      "Known standard deviation :0.6957\n",
      "Known standard deviation :0.633\n",
      "Known standard deviation :1.008\n",
      "Known standard deviation :0.6817\n",
      "Known standard deviation :1.431\n",
      "Known standard deviation :1.155\n",
      "Known standard deviation :0.8549\n",
      "Known standard deviation :1.589\n",
      "Known standard deviation :0.9707\n",
      "Known standard deviation :1.493\n",
      "Known standard deviation :0.8567\n",
      "Known standard deviation :1.121\n",
      "Known standard deviation :1.3\n",
      "Known standard deviation :0.4385\n",
      "Known standard deviation :0.8549\n",
      "Known standard deviation :0.2774\n",
      "Known standard deviation :0.9574\n",
      "Known standard deviation :1.367\n",
      "Known standard deviation :1.251\n",
      "Known standard deviation :1.058\n",
      "Known standard deviation :0.8861\n",
      "Known standard deviation :0.6071\n",
      "Known standard deviation :0.5911\n",
      "Known standard deviation :1.589\n",
      "Known standard deviation :0.9574\n",
      "Known standard deviation :1.446\n",
      "Known standard deviation :0.9388\n",
      "Known standard deviation :1.268\n",
      "Known standard deviation :1.289\n",
      "Known standard deviation :0.8511\n",
      "Known standard deviation :0.9005\n",
      "Known standard deviation :0.4935\n",
      "Known standard deviation :0.9707\n",
      "Known standard deviation :1.367\n",
      "Known standard deviation :0.9388\n",
      "Known standard deviation :0.9608\n",
      "Known standard deviation :1.108\n",
      "Known standard deviation :0.9691\n",
      "Known standard deviation :0.9822\n",
      "Known standard deviation :0.6602\n",
      "Known standard deviation :0.6957\n",
      "Known standard deviation :1.493\n",
      "Known standard deviation :1.251\n",
      "Known standard deviation :1.268\n",
      "Known standard deviation :1.108\n",
      "Known standard deviation :0.4804\n",
      "Known standard deviation :1.182\n",
      "Known standard deviation :1.089\n",
      "Known standard deviation :0.9691\n",
      "Known standard deviation :0.633\n",
      "Known standard deviation :0.8567\n",
      "Known standard deviation :1.058\n",
      "Known standard deviation :1.289\n",
      "Known standard deviation :0.9691\n",
      "Known standard deviation :1.182\n",
      "Known standard deviation :1.891\n",
      "Known standard deviation :1.536\n",
      "Known standard deviation :1.336\n",
      "Known standard deviation :1.008\n",
      "Known standard deviation :1.121\n",
      "Known standard deviation :0.8861\n",
      "Known standard deviation :0.8511\n",
      "Known standard deviation :0.9822\n",
      "Known standard deviation :1.089\n",
      "Known standard deviation :1.536\n",
      "Known standard deviation :1.301\n",
      "Known standard deviation :1.33\n",
      "Known standard deviation :0.6817\n",
      "Known standard deviation :1.3\n",
      "Known standard deviation :0.6071\n",
      "Known standard deviation :0.9005\n",
      "Known standard deviation :0.6602\n",
      "Known standard deviation :0.9691\n",
      "Known standard deviation :1.336\n",
      "Known standard deviation :1.33\n",
      "Known standard deviation :1.922\n",
      "Known standard deviation :1.776\n",
      "Known standard deviation :1.37\n",
      "Known standard deviation :1.676\n",
      "Known standard deviation :1.25\n",
      "Known standard deviation :0.867\n",
      "Known standard deviation :1.49\n",
      "Known standard deviation :0.9235\n",
      "Known standard deviation :1.188\n",
      "Known standard deviation :1.385\n",
      "Known standard deviation :1.37\n",
      "Known standard deviation :1.756\n",
      "Known standard deviation :1.496\n",
      "Known standard deviation :1.671\n",
      "Known standard deviation :0.8787\n",
      "Known standard deviation :1.119\n",
      "Known standard deviation :1.374\n",
      "Known standard deviation :1.007\n",
      "Known standard deviation :1.198\n",
      "Known standard deviation :1.676\n",
      "Known standard deviation :1.496\n",
      "Known standard deviation :0.6183\n",
      "Known standard deviation :2.053\n",
      "Known standard deviation :1.294\n",
      "Known standard deviation :1.207\n",
      "Known standard deviation :1.182\n",
      "Known standard deviation :0.9075\n",
      "Known standard deviation :1.613\n",
      "Known standard deviation :1.25\n",
      "Known standard deviation :1.671\n",
      "Known standard deviation :2.053\n",
      "Known standard deviation :1.231\n",
      "Known standard deviation :0.9634\n",
      "Known standard deviation :0.6913\n",
      "Known standard deviation :1.604\n",
      "Known standard deviation :1.114\n",
      "Known standard deviation :1.745\n",
      "Known standard deviation :0.867\n",
      "Known standard deviation :0.8787\n",
      "Known standard deviation :1.294\n",
      "Known standard deviation :0.9634\n",
      "Known standard deviation :2.058\n",
      "Known standard deviation :1.444\n",
      "Known standard deviation :1.045\n",
      "Known standard deviation :0.7123\n",
      "Known standard deviation :1.335\n",
      "Known standard deviation :1.49\n",
      "Known standard deviation :1.119\n",
      "Known standard deviation :1.207\n",
      "Known standard deviation :0.6913\n",
      "Known standard deviation :1.444\n",
      "Known standard deviation :2.477\n",
      "Known standard deviation :1.032\n",
      "Known standard deviation :2.213\n",
      "Known standard deviation :1.398\n",
      "Known standard deviation :0.9235\n",
      "Known standard deviation :1.374\n",
      "Known standard deviation :1.182\n",
      "Known standard deviation :1.604\n",
      "Known standard deviation :1.045\n",
      "Known standard deviation :1.032\n",
      "Known standard deviation :2.859\n",
      "Known standard deviation :1.561\n",
      "Known standard deviation :0.8402\n",
      "Known standard deviation :1.188\n",
      "Known standard deviation :1.007\n",
      "Known standard deviation :0.9075\n",
      "Known standard deviation :1.114\n",
      "Known standard deviation :0.7123\n",
      "Known standard deviation :2.213\n",
      "Known standard deviation :1.561\n",
      "Known standard deviation :2.211\n",
      "Known standard deviation :1.135\n",
      "Known standard deviation :1.385\n",
      "Known standard deviation :1.198\n",
      "Known standard deviation :1.613\n",
      "Known standard deviation :1.745\n",
      "Known standard deviation :1.335\n",
      "Known standard deviation :1.398\n",
      "Known standard deviation :0.8402\n",
      "Known standard deviation :1.135\n",
      "Known standard deviation :2.647\n",
      "Known standard deviation :0.4714\n",
      "Known standard deviation :1.055\n",
      "Known standard deviation :0.7976\n",
      "Known standard deviation :0.6433\n",
      "Known standard deviation :1.174\n",
      "Known standard deviation :1.292\n",
      "Known standard deviation :1.35\n",
      "Known standard deviation :0.9068\n",
      "Known standard deviation :0.7454\n",
      "Known standard deviation :1.055\n",
      "Known standard deviation :1.155\n",
      "Known standard deviation :1.936\n",
      "Known standard deviation :1.287\n",
      "Known standard deviation :1.085\n",
      "Known standard deviation :0.6687\n",
      "Known standard deviation :1.434\n",
      "Known standard deviation :1.663\n",
      "Known standard deviation :1.807\n",
      "Known standard deviation :0.7976\n",
      "Known standard deviation :1.936\n",
      "Known standard deviation :0.8756\n",
      "Known standard deviation :1.827\n",
      "Known standard deviation :1.651\n",
      "Known standard deviation :0.9775\n",
      "Known standard deviation :1.203\n",
      "Known standard deviation :1.442\n",
      "Known standard deviation :0.7169\n",
      "Known standard deviation :0.6433\n",
      "Known standard deviation :1.287\n",
      "Known standard deviation :1.827\n",
      "Known standard deviation :0.9189\n",
      "Known standard deviation :0.956\n",
      "Known standard deviation :1.252\n",
      "Known standard deviation :0.9661\n",
      "Known standard deviation :1.22\n",
      "Known standard deviation :0.8182\n",
      "Known standard deviation :1.174\n",
      "Known standard deviation :1.085\n",
      "Known standard deviation :1.651\n",
      "Known standard deviation :0.956\n",
      "Known standard deviation :1.958\n",
      "Known standard deviation :1.107\n",
      "Known standard deviation :1.765\n",
      "Known standard deviation :1.492\n",
      "Known standard deviation :1.667\n",
      "Known standard deviation :1.292\n",
      "Known standard deviation :0.6687\n",
      "Known standard deviation :0.9775\n",
      "Known standard deviation :1.252\n",
      "Known standard deviation :1.107\n",
      "Known standard deviation :0.5676\n",
      "Known standard deviation :0.8233\n",
      "Known standard deviation :1.657\n",
      "Known standard deviation :1.101\n",
      "Known standard deviation :1.35\n",
      "Known standard deviation :1.434\n",
      "Known standard deviation :1.203\n",
      "Known standard deviation :0.9661\n",
      "Known standard deviation :1.765\n",
      "Known standard deviation :0.8233\n",
      "Known standard deviation :2.271\n",
      "Known standard deviation :1.776\n",
      "Known standard deviation :1.363\n",
      "Known standard deviation :0.9068\n",
      "Known standard deviation :1.663\n",
      "Known standard deviation :1.442\n",
      "Known standard deviation :1.22\n",
      "Known standard deviation :1.492\n",
      "Known standard deviation :1.657\n",
      "Known standard deviation :1.776\n",
      "Known standard deviation :2.221\n",
      "Known standard deviation :2.833\n",
      "Known standard deviation :0.7454\n",
      "Known standard deviation :1.807\n",
      "Known standard deviation :0.7169\n",
      "Known standard deviation :0.8182\n",
      "Known standard deviation :1.667\n",
      "Known standard deviation :1.101\n",
      "Known standard deviation :1.363\n",
      "Known standard deviation :2.833\n",
      "Known standard deviation :0.5676\n",
      "Known standard deviation :0.1\n",
      "Known standard deviation :1.068\n",
      "Known standard deviation :0.9442\n",
      "Known standard deviation :0.5863\n",
      "Known standard deviation :0.572\n",
      "Known standard deviation :0.7263\n",
      "Known standard deviation :0.3509\n",
      "Known standard deviation :1.273\n",
      "Known standard deviation :1.039\n",
      "Known standard deviation :1.068\n",
      "Known standard deviation :2.547\n",
      "Known standard deviation :1.224\n",
      "Known standard deviation :1.48\n",
      "Known standard deviation :1.079\n",
      "Known standard deviation :0.886\n",
      "Known standard deviation :0.2643\n",
      "Known standard deviation :0.6345\n",
      "Known standard deviation :1.561\n",
      "Known standard deviation :0.9442\n",
      "Known standard deviation :1.224\n",
      "Known standard deviation :0.2425\n",
      "Known standard deviation :1.105\n",
      "Known standard deviation :1.333\n",
      "Known standard deviation :1.453\n",
      "Known standard deviation :1.047\n",
      "Known standard deviation :0.7058\n",
      "Known standard deviation :0.8489\n",
      "Known standard deviation :0.5863\n",
      "Known standard deviation :1.48\n",
      "Known standard deviation :1.105\n",
      "Known standard deviation :1.453\n",
      "Known standard deviation :1.016\n",
      "Known standard deviation :1.529\n",
      "Known standard deviation :0.8618\n",
      "Known standard deviation :1.54\n",
      "Known standard deviation :0.9843\n",
      "Known standard deviation :0.572\n",
      "Known standard deviation :1.079\n",
      "Known standard deviation :1.333\n",
      "Known standard deviation :1.016\n",
      "Known standard deviation :1.539\n",
      "Known standard deviation :1.542\n",
      "Known standard deviation :0.9597\n",
      "Known standard deviation :1.487\n",
      "Known standard deviation :1.032\n",
      "Known standard deviation :0.7263\n",
      "Known standard deviation :0.886\n",
      "Known standard deviation :1.453\n",
      "Known standard deviation :1.529\n",
      "Known standard deviation :1.542\n",
      "Known standard deviation :1.805\n",
      "Known standard deviation :1.389\n",
      "Known standard deviation :1.115\n",
      "Known standard deviation :1.302\n",
      "Known standard deviation :0.3509\n",
      "Known standard deviation :0.2643\n",
      "Known standard deviation :1.047\n",
      "Known standard deviation :0.8618\n",
      "Known standard deviation :0.9597\n",
      "Known standard deviation :1.389\n",
      "Known standard deviation :1.724\n",
      "Known standard deviation :1.111\n",
      "Known standard deviation :0.951\n",
      "Known standard deviation :1.273\n",
      "Known standard deviation :0.6345\n",
      "Known standard deviation :0.7058\n",
      "Known standard deviation :1.54\n",
      "Known standard deviation :1.487\n",
      "Known standard deviation :1.115\n",
      "Known standard deviation :1.111\n",
      "Known standard deviation :0.4287\n",
      "Known standard deviation :0.9701\n",
      "Known standard deviation :1.039\n",
      "Known standard deviation :1.561\n",
      "Known standard deviation :0.8489\n",
      "Known standard deviation :0.9843\n",
      "Known standard deviation :1.032\n",
      "Known standard deviation :1.302\n",
      "Known standard deviation :0.951\n",
      "Known standard deviation :0.9701\n",
      "Known standard deviation :1.835\n",
      "Known standard deviation :0.6325\n",
      "Known standard deviation :1.295\n",
      "Known standard deviation :1.554\n",
      "Known standard deviation :1.736\n",
      "Known standard deviation :1.243\n",
      "Known standard deviation :1.564\n",
      "Known standard deviation :1.27\n",
      "Known standard deviation :0.7528\n",
      "Known standard deviation :1.667\n",
      "Known standard deviation :1.295\n",
      "Known standard deviation :0.9661\n",
      "Known standard deviation :0.8165\n",
      "Known standard deviation :1.334\n",
      "Known standard deviation :1.43\n",
      "Known standard deviation :0.7091\n",
      "Known standard deviation :1.117\n",
      "Known standard deviation :2.383\n",
      "Known standard deviation :1.252\n",
      "Known standard deviation :1.554\n",
      "Known standard deviation :0.8165\n",
      "Known standard deviation :0.5164\n",
      "Known standard deviation :1.506\n",
      "Known standard deviation :0.8819\n",
      "Known standard deviation :1.075\n",
      "Known standard deviation :2.273\n",
      "Known standard deviation :0.6749\n",
      "Known standard deviation :0.8898\n",
      "Known standard deviation :1.736\n",
      "Known standard deviation :1.334\n",
      "Known standard deviation :1.506\n",
      "Known standard deviation :0.4216\n",
      "Known standard deviation :1.418\n",
      "Known standard deviation :1.034\n",
      "Known standard deviation :0.5798\n",
      "Known standard deviation :1.189\n",
      "Known standard deviation :0.6325\n",
      "Known standard deviation :1.243\n",
      "Known standard deviation :1.43\n",
      "Known standard deviation :0.8819\n",
      "Known standard deviation :1.418\n",
      "Known standard deviation :0.3162\n",
      "Known standard deviation :1.585\n",
      "Known standard deviation :0.8563\n",
      "Known standard deviation :0.9487\n",
      "Known standard deviation :0.9068\n",
      "Known standard deviation :1.564\n",
      "Known standard deviation :0.7091\n",
      "Known standard deviation :1.075\n",
      "Known standard deviation :1.034\n",
      "Known standard deviation :1.585\n",
      "Known standard deviation :0.7888\n",
      "Known standard deviation :0.5375\n",
      "Known standard deviation :0.9944\n",
      "Known standard deviation :0.5503\n",
      "Known standard deviation :1.27\n",
      "Known standard deviation :1.117\n",
      "Known standard deviation :2.273\n",
      "Known standard deviation :0.5798\n",
      "Known standard deviation :0.8563\n",
      "Known standard deviation :0.5375\n",
      "Known standard deviation :2.366\n",
      "Known standard deviation :0.8882\n",
      "Known standard deviation :1.767\n",
      "Known standard deviation :0.7528\n",
      "Known standard deviation :2.383\n",
      "Known standard deviation :0.6749\n",
      "Known standard deviation :1.189\n",
      "Known standard deviation :0.9487\n",
      "Known standard deviation :0.9944\n",
      "Known standard deviation :0.8882\n",
      "Known standard deviation :1.549\n",
      "Known standard deviation :1.509\n",
      "Known standard deviation :1.667\n",
      "Known standard deviation :1.252\n",
      "Known standard deviation :0.8898\n",
      "Known standard deviation :0.6325\n",
      "Known standard deviation :0.9068\n",
      "Known standard deviation :0.5503\n",
      "Known standard deviation :1.767\n",
      "Known standard deviation :1.509\n",
      "Known standard deviation :0.4216\n",
      "Known standard deviation :0.9541\n",
      "Known standard deviation :1.362\n",
      "Known standard deviation :0.7403\n",
      "Known standard deviation :1.486\n",
      "Known standard deviation :0.7403\n",
      "Known standard deviation :1.562\n",
      "Known standard deviation :1.376\n",
      "Known standard deviation :0.5911\n",
      "Known standard deviation :0.853\n",
      "Known standard deviation :1.362\n",
      "Known standard deviation :1.45\n",
      "Known standard deviation :1.697\n",
      "Known standard deviation :1.71\n",
      "Known standard deviation :1.021\n",
      "Known standard deviation :0.9456\n",
      "Known standard deviation :1.446\n",
      "Known standard deviation :1.42\n",
      "Known standard deviation :1.391\n",
      "Known standard deviation :0.7403\n",
      "Known standard deviation :1.697\n",
      "Known standard deviation :1.225\n",
      "Known standard deviation :1.491\n",
      "Known standard deviation :1.109\n",
      "Known standard deviation :1.446\n",
      "Known standard deviation :1.157\n",
      "Known standard deviation :1.47\n",
      "Known standard deviation :1.239\n",
      "Known standard deviation :1.486\n",
      "Known standard deviation :1.71\n",
      "Known standard deviation :1.491\n",
      "Known standard deviation :1.092\n",
      "Known standard deviation :1.316\n",
      "Known standard deviation :0.9789\n",
      "Known standard deviation :1.628\n",
      "Known standard deviation :1.166\n",
      "Known standard deviation :0.9268\n",
      "Known standard deviation :0.7403\n",
      "Known standard deviation :1.021\n",
      "Known standard deviation :1.109\n",
      "Known standard deviation :1.316\n",
      "Known standard deviation :2.022\n",
      "Known standard deviation :1.579\n",
      "Known standard deviation :1.137\n",
      "Known standard deviation :0.633\n",
      "Known standard deviation :1.323\n",
      "Known standard deviation :1.562\n",
      "Known standard deviation :0.9456\n",
      "Known standard deviation :1.446\n",
      "Known standard deviation :0.9789\n",
      "Known standard deviation :1.579\n",
      "Known standard deviation :0.6405\n",
      "Known standard deviation :1.248\n",
      "Known standard deviation :1.227\n",
      "Known standard deviation :1.437\n",
      "Known standard deviation :1.376\n",
      "Known standard deviation :1.446\n",
      "Known standard deviation :1.157\n",
      "Known standard deviation :1.628\n",
      "Known standard deviation :1.137\n",
      "Known standard deviation :1.248\n",
      "Known standard deviation :2.097\n",
      "Known standard deviation :1.592\n",
      "Known standard deviation :1.36\n",
      "Known standard deviation :0.5911\n",
      "Known standard deviation :1.42\n",
      "Known standard deviation :1.47\n",
      "Known standard deviation :1.166\n",
      "Known standard deviation :0.633\n",
      "Known standard deviation :1.227\n",
      "Known standard deviation :1.592\n",
      "Known standard deviation :0.8623\n",
      "Known standard deviation :1.758\n",
      "Known standard deviation :0.853\n",
      "Known standard deviation :1.391\n",
      "Known standard deviation :1.239\n",
      "Known standard deviation :0.9268\n",
      "Known standard deviation :1.323\n",
      "Known standard deviation :1.437\n",
      "Known standard deviation :1.36\n",
      "Known standard deviation :1.758\n",
      "Known standard deviation :1.878\n"
     ]
    },
    {
     "data": {
      "text/plain": [
       "TableGrob (3 x 2) \"arrange\": 4 grobs\n",
       "  z     cells    name                 grob\n",
       "1 1 (2-2,2-2) arrange   gtable[rowhead-fg]\n",
       "2 2 (1-1,2-2) arrange text[GRID.text.9867]\n",
       "3 3 (3-3,2-2) arrange text[GRID.text.9924]\n",
       "4 4 (1-3,1-1) arrange text[GRID.text.9923]"
      ]
     },
     "metadata": {},
     "output_type": "display_data"
    }
   ],
   "source": [
    "#across_experiment_plot(cleandf,savestr,hlay,'bayes')\n",
    "#across_experiment_plot(cleandf,savestr,hlay,'t',submat='CCvPP')\n",
    "#across_experiment_plot(cleandf,savestr,hlay,'t',submat='CPvPP')\n",
    "#across_experiment_plot(cleandf,savestr,hlay,'t',submat='CCvCP')\n",
    "across_experiment_plot(cleandf,savestr,hlay,'bayes',submat='CCvPP')\n",
    "#across_experiment_plot(cleandf,savestr,hlay,'bayes',submat='CPvPP')\n",
    "#across_experiment_plot(cleandf,savestr,hlay,'bayes',submat='CCvCP')\n",
    "#across_experiment_plot(cleandf,savestr,hlay,'permute',submat='CCvPP')\n",
    "#across_experiment_plot(cleandf,savestr,hlay,'permute',submat='CPvPP')\n",
    "#across_experiment_plot(cleandf,savestr,hlay,'permute',submat='CCvCP')\n",
    "\n",
    "#across_experiment_plot(cleandf,savestr,hlay,'bayes.rank',submat='CCvPP')"
   ]
  },
  {
   "cell_type": "markdown",
   "metadata": {},
   "source": [
    "#### Across all experiments"
   ]
  },
  {
   "cell_type": "code",
   "execution_count": null,
   "metadata": {},
   "outputs": [],
   "source": [
    "across_all <- function(datadf,savestr,laymatrix,response_type_list,response_names){\n",
    "    #across_experiment_plot(datadf,savestr,hlay,response_type_list,response_names,'RT')\n",
    "    across_experiment_plot(datadf,savestr,hlay,response_type_list,response_names,'dissimilarity')\n",
    "    #across_experiment_plot(datadf,savestr,hlay,response_type_list,response_names,'asymmetry_matrix')\n",
    "    #across_experiment_plot(datadf,savestr,hlay,response_type_list,response_names,'correlation')\n",
    "    #across_experiment_plot(datadf,savestr,hlay,response_type_list,response_names,'trace')\n",
    "    #across_experiment_plot(datadf,savestr,hlay,response_type_list,response_names,'antitrace')\n",
    "    #across_experiment_plot(datadf,savestr,hlay,response_type_list,response_names,'difference')\n",
    "    \n",
    "    #across_experiment_plot(datadf,savestr,hlay,response_type_list,response_names,'RT',TRUE)\n",
    "    #across_experiment_plot(datadf,savestr,hlay,response_type_list,response_names,'dissimilarity',TRUE)\n",
    "    #across_experiment_plot(datadf,savestr,hlay,response_type_list,response_names,'asymmetry_matrix',TRUE)\n",
    "    #across_experiment_plot(datadf,savestr,hlay,response_type_list,response_names,'correlation',TRUE)\n",
    "    #across_experiment_plot(datadf,savestr,hlay,response_type_list,response_names,'trace',TRUE)\n",
    "    #across_experiment_plot(datadf,savestr,hlay,response_type_list,response_names,'antitrace',TRUE)\n",
    "    #across_experiment_plot(datadf,savestr,hlay,response_type_list,response_names,'difference',TRUE)\n",
    "}"
   ]
  },
  {
   "cell_type": "code",
   "execution_count": null,
   "metadata": {
    "scrolled": true
   },
   "outputs": [],
   "source": [
    "if(across){\n",
    "    across_all(datadf,savestr,hlay,response_type_list,response_names)\n",
    "}"
   ]
  },
  {
   "cell_type": "code",
   "execution_count": null,
   "metadata": {},
   "outputs": [],
   "source": []
  },
  {
   "cell_type": "markdown",
   "metadata": {},
   "source": [
    "#### Individual experiment summaries"
   ]
  },
  {
   "cell_type": "code",
   "execution_count": null,
   "metadata": {},
   "outputs": [],
   "source": [
    "# generate a summary plot of all the collected data from all the subjects in the experiment\n",
    "# NEED TO FINISH THIS\n",
    "expsummaryplot <- function(datadf,savestr,clean=FALSE){\n",
    "    \n",
    "    dir.create(paste(savestr,\"Exp_Summary_Plots/\",sep='_'))\n",
    "    \n",
    "    if(clean){\n",
    "        datadf <- subset(datadf, noncompliant == 0)\n",
    "    }\n",
    "    \n",
    "    stimuli_list <- sort(unique(datadf$stimuli_count))\n",
    "    \n",
    "    # make all the plots\n",
    "    k = 0\n",
    "    for (stimulus in stimuli_list){\n",
    "        for (response in response_type_list){\n",
    "            \n",
    "            k = k + 1\n",
    "            if(stimulus == 2){ # 2 stimuli doesn't have any cueing, so it gets an exception\n",
    "                tempdf <- subset(datadf, stimuli_count == 2)\n",
    "            } else {\n",
    "                tempdf <- subset(datadf, stimuli_count == stimulus & response_type == response)\n",
    "            }\n",
    "            \n",
    "            if(response != 'after_1'){\n",
    "                FP = TRUE\n",
    "            } else {\n",
    "                FP = FALSE\n",
    "            }\n",
    "            \n",
    "            # make the specific summary plot\n",
    "           \n",
    "            # MATRICES\n",
    "            everyonedata <- aggregate_df(tempdf)\n",
    "            \n",
    "            stim_time <- everyonedata$stim_display_time[1]\n",
    "            gap <- everyonedata$stim_cue_gap[1]\n",
    "            cue_time <- everyonedata$cue_display_time[1]\n",
    "            \n",
    "            \n",
    "            # FF Matrix plot\n",
    "            FFmatrix <- dissimplot(dissimdata(everyonedata, colors, l2e('Foveal'), l2e('Foveal')),colors)\n",
    "\n",
    "            # FP Matrix plot\n",
    "            FPmatrix <- dissimplot(dissimdata(everyonedata, colors, l2e('Foveal'), l2e('Peripheral')),colors)\n",
    "\n",
    "            # PP Matrix plot\n",
    "            PPmatrix <- dissimplot(dissimdata(everyonedata, colors, l2e('Peripheral'), l2e('Peripheral')),colors)\n",
    "\n",
    "            # CMDS\n",
    "            # FF CMDS plot\n",
    "            FFcmds <-  cmdsplot(cmdsfit(mat2dist(df2mat(everyonedata,l2e('Foveal'), l2e('Foveal')))), \n",
    "                                abcolors, abcolors, l2e('Foveal'), l2e('Foveal'))\n",
    "\n",
    "            FPcmds <-  cmdsplot(cmdsfit(mat2dist(df2mat(everyonedata,l2e('Foveal'), l2e('Peripheral')))), \n",
    "                                abcolors, abcolors, l2e('Foveal'), l2e('Peripheral'))\n",
    "\n",
    "            # FF CMDS plot\n",
    "            PPcmds <-  cmdsplot(cmdsfit(mat2dist(df2mat(everyonedata,l2e('Peripheral'), l2e('Peripheral')))), \n",
    "                                abcolors, abcolors, l2e('Peripheral'), l2e('Peripheral'))\n",
    "            # NMDS\n",
    "            # FF nMDS plot\n",
    "            FFnmds <-  nmdsplot(nmdsfit(mat2dist(df2mat(everyonedata,l2e('Foveal'), l2e('Foveal')))), \n",
    "                                abcolors, abcolors, l2e('Foveal'), l2e('Foveal'))\n",
    "\n",
    "            # FP nMDS plot\n",
    "            FPnmds <-  nmdsplot(nmdsfit(mat2dist(df2mat(everyonedata,l2e('Foveal'), l2e('Peripheral')))), \n",
    "                                abcolors, abcolors, l2e('Foveal'), l2e('Peripheral'))\n",
    "\n",
    "            # PP nMDS plot\n",
    "            PPnmds <-  nmdsplot(nmdsfit(mat2dist(df2mat(everyonedata,l2e('Peripheral'), l2e('Peripheral')))), \n",
    "                                abcolors, abcolors, l2e('Peripheral'), l2e('Peripheral'))\n",
    "\n",
    "            # AUXILIARY plots\n",
    "            # Similarity judgements\n",
    "            simplot <- simhistplot_summary(tempdf)\n",
    "            # Reaction times v1\n",
    "            reactionplot <- rsplot_summary(tempdf)\n",
    "            # summary plot\n",
    "            raincloudplot <- rsplot_raincloud(tempdf,'log')\n",
    "\n",
    "            # within_between_plots\n",
    "            fvp <- fvp_list(tempdf)\n",
    "            i_j <- i_j_list(tempdf)\n",
    "\n",
    "            within_plot <- corr_plot(fvp,'Within-subject FvP','Within-subject FvP')\n",
    "            between_plot <- corr_plot(i_j,'Between-subject FvF','Between-subject FvF')\n",
    "            #within_plot_fisher <- corr_plot(FisherZ(fvp),'Within-subject FvP','Within-subject FvP',TRUE)\n",
    "            #between_plot_fisher <- corr_plot(FisherZ(i_j),'Between-subject FvF','Between-subject FvF',TRUE)\n",
    "\n",
    "            # MORE PLOTS\n",
    "            # trace plots\n",
    "            traceplot <- trace_plot(tempdf)\n",
    "            antiplot <- trace_plot(tempdf,'antitrace')\n",
    "            differenceplot <- trace_plot(tempdf,'difference')\n",
    "            \n",
    "            N <- length(unique(tempdf$subject)) # get number of subjects\n",
    "            \n",
    "            # save the plots\n",
    "            if(clean){\n",
    "                title <- textGrob(paste(stimulus,response,\n",
    "                                    \"stim_duration\",stim_time,\"gap\",gap,\"cue_duration\",cue_time,\n",
    "                                    N,\"subjects\",\"CLEAN\",\n",
    "                                    sep=\"_\"), gp=gpar(fontsize=35))\n",
    "            }else{\n",
    "                title <- textGrob(paste(stimulus,response,\n",
    "                                    \"stim_duration\",stim_time,\"gap\",gap,\"cue_duration\",cue_time,\n",
    "                                    N,\"subjects\",\n",
    "                                    sep=\"_\"), gp=gpar(fontsize=35))\n",
    "            }\n",
    "            \n",
    "            # put it all together\n",
    "            if(FP){\n",
    "                \n",
    "                g <- arrangeGrob(FFmatrix, FPmatrix, PPmatrix, within_plot, between_plot,\n",
    "                                FFcmds,FPcmds, PPcmds, traceplot, antiplot,\n",
    "                                FFnmds,FPnmds, PPnmds, raincloudplot, differenceplot,\n",
    "                                simplot, reactionplot, \n",
    "                                nrow = 4, ncol=5, top = title)\n",
    "            } else {\n",
    "                \n",
    "                # asymmetry plot\n",
    "                asymplot <- asymmetry_plot(tempdf,l2e('Foveal'),l2e('Foveal'),colors)\n",
    "                \n",
    "                g <- arrangeGrob(FFmatrix,  PPmatrix, within_plot, between_plot, \n",
    "                                FFcmds, PPcmds, traceplot,  antiplot,\n",
    "                                FFnmds, PPnmds, differenceplot, asymplot,\n",
    "                                simplot, raincloudplot, reactionplot,\n",
    "                                nrow = 4, ncol=4, top = title)\n",
    "\n",
    "                \n",
    "            }\n",
    "                # save it\n",
    "            if(clean){\n",
    "                savename <- paste(savestr,\"_Exp_Summary_Plots/\",stimulus,\"_\",response,\n",
    "                         \"_Summary_\",N,\"_subjects\",\"_CLEAN\",\"_plot.png\",sep='')\n",
    "            }else {\n",
    "                savename <- paste(savestr,\"_Exp_Summary_Plots/\",stimulus,\"_\",response,\n",
    "                         \"_Summary_\",N,\"_subjects\",\"_plot.png\",sep='')\n",
    "            }\n",
    "                \n",
    "                print(savename)\n",
    "                ggsave(savename,g, height = 38, width = 48)\n",
    "        }\n",
    "            \n",
    "    }\n",
    "        \n",
    "}   "
   ]
  },
  {
   "cell_type": "markdown",
   "metadata": {},
   "source": [
    "### Across the entire population "
   ]
  },
  {
   "cell_type": "code",
   "execution_count": 364,
   "metadata": {},
   "outputs": [],
   "source": [
    "# entire population plot\n",
    "population_plot <- function(datadf,savestr,clean=FALSE){\n",
    "    \n",
    "    dir.create(paste(savestr,\"Population_Summary_Plots/\",sep='_'))\n",
    "    \n",
    "    if(clean){\n",
    "        datadf <- subset(datadf, noncompliant == 0)\n",
    "    }\n",
    "    \n",
    "    # MATRICES\n",
    "    everyonedata <- aggregate_df(datadf)\n",
    "\n",
    "    # FF Matrix plot\n",
    "    FFmatrix <- dissimplot(dissimdata(everyonedata, colors, l2e('Foveal'), l2e('Foveal')),colors)\n",
    "\n",
    "    # FP Matrix plot\n",
    "    FPmatrix <- dissimplot(dissimdata(everyonedata, colors, l2e('Foveal'), l2e('Peripheral')),colors)\n",
    "\n",
    "    # PP Matrix plot\n",
    "    PPmatrix <- dissimplot(dissimdata(everyonedata, colors, l2e('Peripheral'), l2e('Peripheral')),colors)\n",
    "\n",
    "    # CMDS\n",
    "    # FF CMDS plot\n",
    "    FFcmds <-  cmdsplot(cmdsfit(mat2dist(df2mat(everyonedata,l2e('Foveal'), l2e('Foveal')))), \n",
    "                        abcolors, abcolors, l2e('Foveal'), l2e('Foveal'))\n",
    "\n",
    "    FPcmds <-  cmdsplot(cmdsfit(mat2dist(df2mat(everyonedata,l2e('Foveal'), l2e('Peripheral')))), \n",
    "                        abcolors, abcolors, l2e('Foveal'), l2e('Peripheral'))\n",
    "\n",
    "    # FF CMDS plot\n",
    "    PPcmds <-  cmdsplot(cmdsfit(mat2dist(df2mat(everyonedata,l2e('Peripheral'), l2e('Peripheral')))), \n",
    "                        abcolors, abcolors, l2e('Peripheral'), l2e('Peripheral'))\n",
    "    # NMDS\n",
    "    # FF nMDS plot\n",
    "    FFnmds <-  nmdsplot(nmdsfit(mat2dist(df2mat(everyonedata,l2e('Foveal'), l2e('Foveal')))), \n",
    "                        abcolors, abcolors, l2e('Foveal'), l2e('Foveal'))\n",
    "\n",
    "    # FP nMDS plot\n",
    "    FPnmds <-  nmdsplot(nmdsfit(mat2dist(df2mat(everyonedata,l2e('Foveal'), l2e('Peripheral')))), \n",
    "                        abcolors, abcolors, l2e('Foveal'), l2e('Peripheral'))\n",
    "\n",
    "    # PP nMDS plot\n",
    "    PPnmds <-  nmdsplot(nmdsfit(mat2dist(df2mat(everyonedata,l2e('Peripheral'), l2e('Peripheral')))), \n",
    "                        abcolors, abcolors, l2e('Peripheral'), l2e('Peripheral'))\n",
    "\n",
    "    # AUXILIARY plots\n",
    "    # Similarity judgements\n",
    "    simplot <- simhistplot_summary(datadf)\n",
    "    # Reaction times v1\n",
    "    reactionplot <- rsplot_summary(datadf)\n",
    "    # summary plot\n",
    "    raincloudplot <- rsplot_raincloud(datadf,'log')\n",
    "\n",
    "    # within_between_plots\n",
    "    fvp <- fvp_list(datadf)\n",
    "    i_j <- i_j_list(datadf)\n",
    "\n",
    "    within_plot <- corr_plot(fvp,'Within-subject FvP','Within-subject FvP')\n",
    "    between_plot <- corr_plot(i_j,'Between-subject FvF','Between-subject FvF')\n",
    "    #within_plot_fisher <- corr_plot(FisherZ(fvp),'Within-subject FvP','Within-subject FvP',TRUE)\n",
    "    #between_plot_fisher <- corr_plot(FisherZ(i_j),'Between-subject FvF','Between-subject FvF',TRUE)\n",
    "\n",
    "    # MORE PLOTS\n",
    "    # trace plots\n",
    "    traceplot <- trace_plot(datadf)\n",
    "    antiplot <- trace_plot(datadf,'antitrace')\n",
    "    differenceplot <- trace_plot(datadf,'difference')\n",
    "\n",
    "    N <- length(unique(datadf$subject)) # get number of subjects\n",
    "\n",
    "    # save the plots\n",
    "    if(clean){\n",
    "        title <- textGrob(paste(\"Population\",\n",
    "                            N,\"subjects\",\"CLEAN\",\n",
    "                            sep=\"_\"), gp=gpar(fontsize=35))\n",
    "    }else{\n",
    "        title <- textGrob(paste(\"Population\",\n",
    "                            N,\"subjects\",\n",
    "                            sep=\"_\"), gp=gpar(fontsize=35))\n",
    "    }\n",
    "    \n",
    "    \n",
    "    g <- arrangeGrob(FFmatrix, FPmatrix, PPmatrix, within_plot, between_plot,\n",
    "                                FFcmds,FPcmds, PPcmds, traceplot, antiplot,\n",
    "                                FFnmds,FPnmds, PPnmds, raincloudplot, differenceplot,\n",
    "                                simplot, reactionplot, \n",
    "                                nrow = 4, ncol=5, top = title)\n",
    "    \n",
    "     # save it\n",
    "    if(clean){\n",
    "        savename <- paste(savestr,\"_Exp_Summary_Plots/\",\n",
    "                 \"_Summary_\",N,\"_subjects\",\"_CLEAN\",\"_plot.png\",sep='')\n",
    "    }else {\n",
    "        savename <- paste(savestr,\"_Exp_Summary_Plots/\",\n",
    "                 \"_Summary_\",N,\"_subjects\",\"_plot.png\",sep='')\n",
    "    }\n",
    "\n",
    "        print(savename)\n",
    "        ggsave(savename,g, height = 38, width = 48)\n",
    "}"
   ]
  },
  {
   "cell_type": "code",
   "execution_count": null,
   "metadata": {},
   "outputs": [],
   "source": [
    "if(plotexpsummary){\n",
    "    expsummaryplot(datadf,savestr)\n",
    "    expsummaryplot(datadf,savestr,TRUE)\n",
    "}"
   ]
  },
  {
   "cell_type": "code",
   "execution_count": null,
   "metadata": {},
   "outputs": [],
   "source": [
    "if(population){\n",
    "    population_plot(datadf,savestr)\n",
    "    population_plot(datadf,savestr,TRUE)\n",
    "}"
   ]
  },
  {
   "cell_type": "code",
   "execution_count": null,
   "metadata": {},
   "outputs": [],
   "source": [
    "# position plot (negative control)\n",
    "positionplot <- function(datadf){\n",
    "    # MATRICES\n",
    "    everyonedata <- aggregate_df(datadf)\n",
    "    # FF Matrix plot\n",
    "    FFmatrix <- dissimplot(dissimdata(everyonedata, colors, l2e('Foveal'), l2e('Foveal')),colors, 'position')\n",
    "    # FP Matrix plot\n",
    "    FPmatrix <- dissimplot(dissimdata(everyonedata, colors, l2e('Foveal'), l2e('Peripheral')),colors, 'position')\n",
    "    # PP Matrix plot\n",
    "    PPmatrix <- dissimplot(dissimdata(everyonedata, colors, l2e('Peripheral'), l2e('Peripheral')),colors, 'position')\n",
    "    \n",
    "    g <- arrangeGrob(FFmatrix, FPmatrix, PPmatrix,\n",
    "                    nrow = 1, ncol= 3)\n",
    "     # save it\n",
    "    ggsave(paste(savestr,\"position negative control\",\"plot.png\",sep='_'),g, height = 10, width = 30)\n",
    "}"
   ]
  }
 ],
 "metadata": {
  "kernelspec": {
   "display_name": "R",
   "language": "R",
   "name": "ir"
  },
  "language_info": {
   "codemirror_mode": "r",
   "file_extension": ".r",
   "mimetype": "text/x-r-source",
   "name": "R",
   "pygments_lexer": "r",
   "version": "3.6.1"
  }
 },
 "nbformat": 4,
 "nbformat_minor": 4
}
